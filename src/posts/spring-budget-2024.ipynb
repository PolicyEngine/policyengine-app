{
 "cells": [
  {
   "cell_type": "markdown",
   "metadata": {},
   "source": [
    "On Wednesday, 6 March, Chancellor of the Exchequer Jeremy Hunt will present the government's 2024 Spring Budget. Though the specific budgetary provisions Number 11 will put forth remain private, various sources speculate that the chancellor will cut the National Insurance rate, a supplement to his previous cuts in autumn 2023 (analysed by PolicyEngine in [this article](https://policyengine.org/uk/research/autumn-statement-2023)).\n",
    "\n",
    "In this post, we'll estimate the impacts of such a cut upon the budget, as well as upon society-wide economic performance indicators. We'll also look at the impact these changes would have upon an average UK household.\n",
    "\n",
    "# Reforms within Spring Budget 2024\n",
    "\n",
    "News media speculation regarding the Spring Budget's proposed reforms has mooted changes to various different tax provisions. In this article, we will utilise PolicyEngine to model and analyse three:\n",
    "* Cuts to Employee (Class 1) National Insurance Contributions (NICs) by either 1p[^1] or 2p[^3]\n",
    "* A 2p cut to the basic rate of tax, lowering the rate from 20p to 18p[^4]\n",
    "* A fuel duty freeze[^1]\n",
    "\n",
    "In modelling these reforms, we will assume each took effect on 1 January 2024 and will evaluate their impacts over calendar year 2024. In the future, PolicyEngine hopes to develop the capability to accurately model the true effective date of these sorts of policies.\n",
    "\n",
    "\n",
    "[^1]:\n",
    "      [The Guardian, 2024](https://www.theguardian.com/politics/2024/mar/02/tax-and-spending-cuts-will-backfire-economists-warn-jeremy-hunt)\n",
    "[^2]: \n",
    "      [Institute for Government, 2024](https://www.instituteforgovernment.org.uk/comment/five-things-look-out-spring-budget-2024)\n",
    "[^3]:\n",
    "      [Financial Times, 2024](https://www.ft.com/content/c2d56d45-c061-4d5a-bf4f-1eddd1fa7d25)\n",
    "[^4]:\n",
    "      [Financial Times, 2024](https://www.ft.com/content/1b4f19d7-c7e5-4d16-a7c1-1c12ec0d0592)"
   ]
  },
  {
   "cell_type": "code",
   "execution_count": 1,
   "metadata": {},
   "outputs": [
    {
     "name": "stdout",
     "output_type": "stream",
     "text": [
      "zsh:1: permission denied: pip\n"
     ]
    }
   ],
   "source": [
    "!pip install dpath"
   ]
  },
  {
   "cell_type": "code",
   "execution_count": 2,
   "metadata": {},
   "outputs": [
    {
     "ename": "ModuleNotFoundError",
     "evalue": "No module named 'policyengine_uk'",
     "output_type": "error",
     "traceback": [
      "\u001b[0;31m---------------------------------------------------------------------------\u001b[0m",
      "\u001b[0;31mModuleNotFoundError\u001b[0m                       Traceback (most recent call last)",
      "Cell \u001b[0;32mIn[2], line 3\u001b[0m\n\u001b[1;32m      1\u001b[0m \u001b[38;5;66;03m# Code producing budgetary impact table.\u001b[39;00m\n\u001b[0;32m----> 3\u001b[0m \u001b[38;5;28;01mfrom\u001b[39;00m \u001b[38;5;21;01mpolicyengine_uk\u001b[39;00m\u001b[38;5;21;01m.\u001b[39;00m\u001b[38;5;21;01mmodel_api\u001b[39;00m \u001b[38;5;28;01mimport\u001b[39;00m \u001b[38;5;241m*\u001b[39m\n\u001b[1;32m      4\u001b[0m \u001b[38;5;28;01mfrom\u001b[39;00m \u001b[38;5;21;01mpolicyengine_uk\u001b[39;00m \u001b[38;5;28;01mimport\u001b[39;00m Microsimulation\n\u001b[1;32m      5\u001b[0m \u001b[38;5;28;01mimport\u001b[39;00m \u001b[38;5;21;01mpandas\u001b[39;00m \u001b[38;5;28;01mas\u001b[39;00m \u001b[38;5;21;01mpd\u001b[39;00m\n",
      "\u001b[0;31mModuleNotFoundError\u001b[0m: No module named 'policyengine_uk'"
     ]
    }
   ],
   "source": [
    "# Code producing budgetary impact table.\n",
    "\n",
    "from policyengine_uk.model_api import *\n",
    "from policyengine_uk import Microsimulation\n",
    "import pandas as pd\n",
    "\n",
    "# DataFrame with columns: [provision name, provision cost in 2024, percent better off, provision poverty impact in 2024, inequality impact in 2024]\n",
    "\n",
    "reforms = []\n",
    "\n",
    "ni_rate_cut_1p = {\n",
    "    \"gov.hmrc.national_insurance.class_1.rates.employee.main\": {\n",
    "        \"year:2024:5\": 0.09,\n",
    "    }\n",
    "}\n",
    "\n",
    "ni_rate_cut_2p = {\n",
    "    \"gov.hmrc.national_insurance.class_1.rates.employee.main\": {\n",
    "        \"year:2024:5\": 0.08,\n",
    "    }\n",
    "}\n",
    "\n",
    "base_rate_cut_2p = {\n",
    "    \"gov.hmrc.income_tax.rates.uk[0].rate\": {\n",
    "        \"year:2024:5\": 0.18,\n",
    "    }\n",
    "}\n",
    "\n",
    "fuel_duty_freeze = {\n",
    "    \"gov.hmrc.fuel_duty.petrol_and_diesel\": {\n",
    "        \"year:2024:5\": 0.5083\n",
    "    }\n",
    "}\n",
    "\n",
    "# Space for others\n",
    "\n",
    "reforms = [ni_rate_cut_1p, ...]\n",
    "\n",
    "provisions = [\"1p NI cut\", \"2p NI cut\", \"2p basic rate cut\", \"Fuel duty cut\"]\n",
    "\n",
    "baseline = Microsimulation()\n",
    "\n",
    "def get_impacts(reform_dict: dict) -> dict:\n",
    "    reform = Reform.from_dict(reform_dict)\n",
    "    reformed = Microsimulation(reform=reform)\n",
    "\n",
    "    budgetary_impact = baseline.calculate(\"household_net_income\", 2024).sum() - reformed.calculate(\"household_net_income\", 2024).sum()\n",
    "\n",
    "    return dict(\n",
    "        budgetary_impact=budgetary_impact,\n",
    "        reform_id=reform.api_id,\n",
    "    )\n",
    "\n",
    "budgetary_impacts = []\n",
    "reform_ids = []\n",
    "\n",
    "for i in range(len(provisions)):\n",
    "    impacts = get_impacts(reforms[i])\n",
    "    budgetary_impacts.append(impacts[\"budgetary_impact\"])\n",
    "    reform_ids.append(impacts[\"reform_id\"])\n",
    "\n",
    "df = pd.DataFrame({\n",
    "    \"Reform\": provisions,\n",
    "    \"Budgetary impact\": budgetary_impacts,\n",
    "    \"PolicyEngine\": reform_ids\n",
    "})\n",
    "\n",
    "df[\"Budgetary impact\"] = df[\"Budgetary impact\"].apply(lambda x: f\"{x:,.1f}\")\n",
    "df[\"PolicyEngine\"] = df[\"PolicyEngine\"].apply(lambda x: f\"#{x}\")"
   ]
  },
  {
   "cell_type": "markdown",
   "metadata": {},
   "source": [
    "\n",
    "# NIC Cuts\n",
    "Turning first to the macro impacts, the PolicyEngine model projects that a reduction in the Class 1 NIC contribution rate by 2p costs the government approximately £10.8 billion.\n",
    "\n",
    "[chart]\n",
    "\n",
    "Under such a reform, every income decile stands to gain financially, with 63p of households increasing their post-tax income, and none seeing a decrease in take-home pay. However, top earners do especially well. With a reduction by 2p in Class 1 NIC contribution rates, the average household in income decile 1 receives £4 more post-tax income, while the average household in decile 10 receives £1,087. Under a reduction by 1p, these values are halved, to £2 and £585, respectively.\n",
    "\n",
    "[chart]\n",
    "\n",
    "This means that the NIC contribution reform generates an ambiguous effect upon income inequality - while the top 1% of the population's share of wealth decreases, the GINI income inequality coefficient actually increases by 0.4p. The poverty rate would also be projected to decrease, but quite modestly (0.1 percentage points, or 0.3p against its current rate).\n",
    "\n",
    "[charts]\n",
    "\n",
    "Turning to the household level, reducing NIC contributions by 2p increases post-tax income for a single person with employment income if they earn at least £12,570, much like the reforms previously modelled by PolicyEngine following the Autumn Statement 2023. Said individual's take-home pay would increase linearly until reaching a maximum benefit of £817 at an annual income of £50,500. Were NIC contributions to only be reduced by 1p, the income phase-in and phase-out points remain the same, but said individual's maximum benefit would be only £440 annually.\n",
    "\n",
    "Mirroring the reforms from autumn 2023, most individuals within the proscribed income range would see each 1p reduction in NIC contributions correspond with a 1p reduction in marginal tax rate. Individuals on the very ends of the range would see slightly lower reductions. [why is this?]\n",
    "\n",
    "[charts]\n",
    "\n",
    "# Basic Rate Cuts\n",
    "\n",
    "\n"
   ]
  },
  {
   "cell_type": "code",
   "execution_count": null,
   "metadata": {},
   "outputs": [
    {
     "ename": "ModuleNotFoundError",
     "evalue": "No module named 'pandas'",
     "output_type": "error",
     "traceback": [
      "\u001b[0;31m---------------------------------------------------------------------------\u001b[0m",
      "\u001b[0;31mModuleNotFoundError\u001b[0m                       Traceback (most recent call last)",
      "Cell \u001b[0;32mIn[7], line 1\u001b[0m\n\u001b[0;32m----> 1\u001b[0m \u001b[38;5;28;01mimport\u001b[39;00m \u001b[38;5;21;01mpandas\u001b[39;00m \u001b[38;5;28;01mas\u001b[39;00m \u001b[38;5;21;01mpd\u001b[39;00m\n\u001b[1;32m      2\u001b[0m \u001b[38;5;28;01mimport\u001b[39;00m \u001b[38;5;21;01mplotly\u001b[39;00m\u001b[38;5;21;01m.\u001b[39;00m\u001b[38;5;21;01mexpress\u001b[39;00m \u001b[38;5;28;01mas\u001b[39;00m \u001b[38;5;21;01mpx\u001b[39;00m\n\u001b[1;32m      3\u001b[0m \u001b[38;5;28;01mfrom\u001b[39;00m \u001b[38;5;21;01mpolicyengine_core\u001b[39;00m\u001b[38;5;21;01m.\u001b[39;00m\u001b[38;5;21;01mcharts\u001b[39;00m \u001b[38;5;28;01mimport\u001b[39;00m \u001b[38;5;241m*\u001b[39m\n",
      "\u001b[0;31mModuleNotFoundError\u001b[0m: No module named 'pandas'"
     ]
    }
   ],
   "source": [
    "import pandas as pd\n",
    "import plotly.express as px\n",
    "from policyengine_core.charts import *\n",
    "from policyengine_uk import Microsimulation\n",
    "from policyengine_core.reforms import Reform\n",
    "from policyengine_core.periods import instant\n",
    "from plotly.express.colors import sample_colorscale\n",
    "\n",
    "\n",
    "def modify_parameters(parameters):\n",
    "    parameters.gov.hmrc.national_insurance.class_1.rates.employee.main.update(\n",
    "        start=instant(\"2024-01-01\"), stop=instant(\"2024-12-31\"),\n",
    "        value=0.08)\n",
    "    return parameters\n",
    "\n",
    "\n",
    "class reform(Reform):\n",
    "    def apply(self):\n",
    "        self.modify_parameters(modify_parameters)\n",
    "baseline = Microsimulation()\n",
    "reformed = Microsimulation(reform=reform)\n",
    "baseline_person = baseline.calc(\"household_net_income\",\n",
    "    period=2024, map_to=\"person\")\n",
    "reformed_person = reformed.calc(\"household_net_income\",\n",
    "    period=2024, map_to=\"person\")\n",
    "difference_person = reformed_person - baseline_person\n",
    "\n",
    "\n",
    "# fig = format_fig(fig)\n",
    "# \n",
    "# for i in range(len(fig.data)):\n",
    "#     fig.data[i].marker.color = c[i]\n",
    "# \n",
    "# fig.update_layout(\n",
    "#     legend_title=\"Calendar year\",\n",
    "#     xaxis_tickvals=chosen_metrics,\n",
    "#     xaxis_ticktext=[\"Child Benefit\", \"Housing Benefit\", \"Universal Credit\"],\n",
    "#     xaxis_title=\"\",\n",
    "#     yaxis_title=\"Budgetary impact (£)\",\n",
    "# )"
   ]
  }
 ],
 "metadata": {
  "kernelspec": {
   "display_name": "Python 3",
   "language": "python",
   "name": "python3"
  },
  "language_info": {
   "codemirror_mode": {
    "name": "ipython",
    "version": 3
   },
   "file_extension": ".py",
   "mimetype": "text/x-python",
   "name": "python",
   "nbconvert_exporter": "python",
   "pygments_lexer": "ipython3",
   "version": "3.9.13"
  }
 },
 "nbformat": 4,
 "nbformat_minor": 2
}
