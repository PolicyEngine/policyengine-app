{
 "cells": [
  {
   "cell_type": "markdown",
   "metadata": {},
   "source": [
    "On Wednesday, 6th March, Chancellor of the Exchequer Jeremy Hunt will present the government's 2024 Spring Budget. Ahead of the announcement, media reports speculate that the Chancellor is considering cutting the main National Insurance rate, in an extension to his previous cuts in the Autumn Statement 2023 (analysed by PolicyEngine in [this report](https://policyengine.org/uk/research/autumn-statement-2023)).\n",
    "\n",
    "In this post, we'll estimate the impacts of such a cut upon the budget, as well as upon society-wide economic outcomes. We'll also look at the impact these changes would have upon individual UK households.\n",
    "\n",
    "## Budget reform options\n",
    "\n",
    "Separate media sources identify four potential reforms that the Chancellor is considering:\n",
    "\n",
    "* Cuts to Employee (Class 1) National Insurance Contributions (NICs) by either 1p[^1] or 2p[^2]\n",
    "* A 2p cut to the basic rate of tax, lowering the rate from 20p to 18p[^3]\n",
    "\n",
    "PolicyEngine's top-level economic impact estimates follow below. In modelling these reforms, we assume each took effect on 1 January 2024 and will evaluate their impacts over calendar year 2024.\n",
    "\n",
    "[^1]:\n",
    "      [The Guardian, 2024](https://www.theguardian.com/politics/2024/mar/02/tax-and-spending-cuts-will-backfire-economists-warn-jeremy-hunt)\n",
    "[^2]:\n",
    "      [Financial Times, 2024](https://www.ft.com/content/c2d56d45-c061-4d5a-bf4f-1eddd1fa7d25)\n",
    "[^3]:\n",
    "      [Financial Times, 2024](https://www.ft.com/content/1b4f19d7-c7e5-4d16-a7c1-1c12ec0d0592)"
   ]
  },
  {
   "cell_type": "markdown",
   "metadata": {},
   "source": [
    "*Table 1: Potential budget reforms and their impacts*"
   ]
  },
  {
   "cell_type": "code",
   "execution_count": 49,
   "metadata": {},
   "outputs": [],
   "source": [
    "from policyengine_uk.model_api import *\n",
    "from policyengine_uk import Microsimulation\n",
    "import pandas as pd\n",
    "\n",
    "# DataFrame with columns: [provision name, provision cost in 2024, percent better off, provision poverty impact in 2024, inequality impact in 2024]\n",
    "\n",
    "reforms = []\n",
    "\n",
    "ni_rate_cut_1p = {\n",
    "    \"gov.hmrc.national_insurance.class_1.rates.employee.main\": {\n",
    "        \"year:2024:5\": 0.09,\n",
    "    }\n",
    "}\n",
    "\n",
    "ni_rate_cut_2p = {\n",
    "    \"gov.hmrc.national_insurance.class_1.rates.employee.main\": {\n",
    "        \"year:2024:5\": 0.08,\n",
    "    }\n",
    "}\n",
    "\n",
    "base_rate_cut_2p = {\n",
    "    \"gov.hmrc.income_tax.rates.uk[0].rate\": {\n",
    "        \"year:2024:5\": 0.18,\n",
    "    }\n",
    "}\n",
    "\n",
    "reforms = [ni_rate_cut_1p, ni_rate_cut_2p, base_rate_cut_2p]\n",
    "\n",
    "provisions = [\"1p NI cut\", \"2p NI cut\", \"2p basic rate cut\"]\n",
    "\n",
    "baseline = Microsimulation()\n",
    "\n",
    "def get_impacts(reform_dict: dict) -> dict:\n",
    "    reform = Reform.from_dict(reform_dict, country_id=\"uk\")\n",
    "    reformed = Microsimulation(reform=reform)\n",
    "\n",
    "    budgetary_impact = baseline.calculate(\"household_net_income\", period=2024).sum() - reformed.calculate(\"household_net_income\", 2024).sum()\n",
    "    poverty_baseline = baseline.calculate(\"in_poverty\", map_to=\"person\", period=2024).mean()\n",
    "    poverty_reform = reformed.calculate(\"in_poverty\", map_to=\"person\", period=2024).mean()\n",
    "    poverty_rate_change = (poverty_reform - poverty_baseline) / poverty_baseline\n",
    "\n",
    "    gini_baseline = baseline.calculate(\"equiv_household_net_income\", map_to=\"person\", period=2024).gini()\n",
    "    gini_reform = reformed.calculate(\"equiv_household_net_income\", map_to=\"person\", period=2024).gini()\n",
    "    gini_rate_change = (gini_reform - gini_baseline) / gini_baseline\n",
    "\n",
    "    hnet_reformed = reformed.calculate(\"household_net_income\", period=2024, map_to=\"person\")\n",
    "    hnet_baseline = baseline.calculate(\"household_net_income\", period=2024, map_to=\"person\")\n",
    "    percent_better_off = (hnet_reformed > hnet_baseline).mean()\n",
    "    # Poverty headcount relative change\n",
    "    # Inequality gini index relative change\n",
    "    # Percent better off\n",
    "\n",
    "    return dict(\n",
    "        budgetary_impact=budgetary_impact,\n",
    "        reform_id=reform.api_id,\n",
    "        poverty_rate_change=poverty_rate_change,\n",
    "        gini_rate_change=gini_rate_change,\n",
    "        percent_better_off=percent_better_off\n",
    "    )\n",
    "\n",
    "budgetary_impacts = []\n",
    "reform_ids = []\n",
    "poverty_rate_changes = []\n",
    "gini_rate_changes = []\n",
    "percentages_better_off = []\n",
    "\n",
    "for i in range(len(provisions)):\n",
    "    impacts = get_impacts(reforms[i])\n",
    "    budgetary_impacts.append(impacts[\"budgetary_impact\"])\n",
    "    reform_ids.append(impacts[\"reform_id\"])\n",
    "    poverty_rate_changes.append(impacts[\"poverty_rate_change\"])\n",
    "    gini_rate_changes.append(impacts[\"gini_rate_change\"])\n",
    "    percentages_better_off.append(impacts[\"percent_better_off\"])\n",
    "\n",
    "df = pd.DataFrame({\n",
    "    \"Reform\": provisions,\n",
    "    \"Budgetary impact\": budgetary_impacts,\n",
    "    \"Percent gaining\": percentages_better_off,\n",
    "    \"Poverty change\": poverty_rate_changes,\n",
    "    \"Inequality change\": gini_rate_changes,\n",
    "    \"PolicyEngine\": reform_ids,\n",
    "})\n",
    "\n",
    "df[\"Budgetary impact\"] = df[\"Budgetary impact\"].apply(lambda x: f\"{x/1e9:+,.1f}\")\n",
    "df[\"PolicyEngine\"] = df[\"PolicyEngine\"].apply(lambda x: f\"[#{x}](https://policyengine.org/uk/policy?reform={x}&baseline=1&time_period=2024&region=uk)\")\n",
    "df[\"Percent gaining\"] =  df[\"Percent gaining\"].apply(lambda x: f\"{x:+.1%}\")\n",
    "df[\"Poverty change\"] =  df[\"Poverty change\"].apply(lambda x: f\"{x:+.1%}\")\n",
    "df[\"Inequality change\"] =  df[\"Inequality change\"].apply(lambda x: f\"{x:+.1%}\")"
   ]
  },
  {
   "cell_type": "code",
   "execution_count": 44,
   "metadata": {},
   "outputs": [
    {
     "data": {
      "text/markdown": [
       "| Reform            |   Budgetary impact | Percent gaining   | Poverty change   | Inequality change   | PolicyEngine                                                                                    |\n",
       "|:------------------|-------------------:|:------------------|:-----------------|:--------------------|:------------------------------------------------------------------------------------------------|\n",
       "| 1p NI cut         |               -5   | +63.8%            | +0.0%            | +0.2%               | [#49642](https://policyengine.org/uk/policy?reform=49642&baseline=1&time_period=2024&region=uk) |\n",
       "| 2p NI cut         |              -10   | +63.8%            | -0.3%            | +0.3%               | [#49643](https://policyengine.org/uk/policy?reform=49643&baseline=1&time_period=2024&region=uk) |\n",
       "| 2p basic rate cut |              -11.1 | +69.8%            | -0.4%            | +0.3%               | [#49644](https://policyengine.org/uk/policy?reform=49644&baseline=1&time_period=2024&region=uk) |"
      ],
      "text/plain": [
       "<IPython.core.display.Markdown object>"
      ]
     },
     "execution_count": 44,
     "metadata": {},
     "output_type": "execute_result"
    }
   ],
   "source": [
    "from IPython.display import Markdown\n",
    "\n",
    "Markdown(df.to_markdown(index=False))"
   ]
  },
  {
   "cell_type": "markdown",
   "metadata": {},
   "source": [
    "## Distributional impacts"
   ]
  },
  {
   "cell_type": "code",
   "execution_count": 45,
   "metadata": {},
   "outputs": [
    {
     "ename": "AttributeError",
     "evalue": "'DataFrame' object has no attribute 'append'",
     "output_type": "error",
     "traceback": [
      "\u001b[0;31m---------------------------------------------------------------------------\u001b[0m",
      "\u001b[0;31mAttributeError\u001b[0m                            Traceback (most recent call last)",
      "\u001b[0;32m/var/folders/qf/7fglpnr94wsc5xgbqkp80xbw0000gn/T/ipykernel_70498/2483456854.py\u001b[0m in \u001b[0;36m?\u001b[0;34m()\u001b[0m\n\u001b[1;32m      7\u001b[0m \u001b[0;32mfrom\u001b[0m \u001b[0mpolicyengine_core\u001b[0m\u001b[0;34m.\u001b[0m\u001b[0mcharts\u001b[0m\u001b[0;34m.\u001b[0m\u001b[0mapi\u001b[0m \u001b[0;32mimport\u001b[0m \u001b[0mget_api_chart_data\u001b[0m\u001b[0;34m\u001b[0m\u001b[0;34m\u001b[0m\u001b[0m\n\u001b[1;32m      8\u001b[0m \u001b[0;32mimport\u001b[0m \u001b[0mplotly\u001b[0m\u001b[0;34m.\u001b[0m\u001b[0mexpress\u001b[0m \u001b[0;32mas\u001b[0m \u001b[0mpx\u001b[0m\u001b[0;34m\u001b[0m\u001b[0;34m\u001b[0m\u001b[0m\n\u001b[1;32m      9\u001b[0m \u001b[0;32mfrom\u001b[0m \u001b[0mpolicyengine_core\u001b[0m\u001b[0;34m.\u001b[0m\u001b[0mcharts\u001b[0m \u001b[0;32mimport\u001b[0m \u001b[0;34m*\u001b[0m\u001b[0;34m\u001b[0m\u001b[0;34m\u001b[0m\u001b[0m\n\u001b[1;32m     10\u001b[0m \u001b[0;34m\u001b[0m\u001b[0m\n\u001b[0;32m---> 11\u001b[0;31m \u001b[0mdecile_df\u001b[0m \u001b[0;34m=\u001b[0m \u001b[0mpd\u001b[0m\u001b[0;34m.\u001b[0m\u001b[0mDataFrame\u001b[0m\u001b[0;34m(\u001b[0m\u001b[0;34m)\u001b[0m\u001b[0;34m\u001b[0m\u001b[0;34m\u001b[0m\u001b[0m\n\u001b[0m\u001b[1;32m     12\u001b[0m \u001b[0;34m\u001b[0m\u001b[0m\n\u001b[1;32m     13\u001b[0m \u001b[0;32mfor\u001b[0m \u001b[0mi\u001b[0m \u001b[0;32min\u001b[0m \u001b[0mrange\u001b[0m\u001b[0;34m(\u001b[0m\u001b[0mlen\u001b[0m\u001b[0;34m(\u001b[0m\u001b[0mprovisions\u001b[0m\u001b[0;34m)\u001b[0m\u001b[0;34m)\u001b[0m\u001b[0;34m:\u001b[0m\u001b[0;34m\u001b[0m\u001b[0;34m\u001b[0m\u001b[0m\n\u001b[1;32m     14\u001b[0m     \u001b[0mimpacts\u001b[0m \u001b[0;34m=\u001b[0m \u001b[0mget_impacts\u001b[0m\u001b[0;34m(\u001b[0m\u001b[0mreforms\u001b[0m\u001b[0;34m[\u001b[0m\u001b[0mi\u001b[0m\u001b[0;34m]\u001b[0m\u001b[0;34m)\u001b[0m\u001b[0;34m\u001b[0m\u001b[0;34m\u001b[0m\u001b[0m\n",
      "\u001b[0;32m/Library/Frameworks/Python.framework/Versions/3.9/lib/python3.9/site-packages/pandas/core/generic.py\u001b[0m in \u001b[0;36m?\u001b[0;34m(self, name)\u001b[0m\n\u001b[1;32m   6292\u001b[0m \u001b[0;34m\u001b[0m\u001b[0m\n\u001b[1;32m   6293\u001b[0m         \u001b[0mParameters\u001b[0m\u001b[0;34m\u001b[0m\u001b[0;34m\u001b[0m\u001b[0m\n\u001b[1;32m   6294\u001b[0m         \u001b[0;34m-\u001b[0m\u001b[0;34m-\u001b[0m\u001b[0;34m-\u001b[0m\u001b[0;34m-\u001b[0m\u001b[0;34m-\u001b[0m\u001b[0;34m-\u001b[0m\u001b[0;34m-\u001b[0m\u001b[0;34m-\u001b[0m\u001b[0;34m-\u001b[0m\u001b[0;34m-\u001b[0m\u001b[0;34m\u001b[0m\u001b[0;34m\u001b[0m\u001b[0m\n\u001b[1;32m   6295\u001b[0m         \u001b[0mvalue\u001b[0m \u001b[0;34m:\u001b[0m \u001b[0mscalar\u001b[0m\u001b[0;34m,\u001b[0m \u001b[0mdict\u001b[0m\u001b[0;34m,\u001b[0m \u001b[0mSeries\u001b[0m\u001b[0;34m,\u001b[0m \u001b[0;32mor\u001b[0m \u001b[0mDataFrame\u001b[0m\u001b[0;34m\u001b[0m\u001b[0;34m\u001b[0m\u001b[0m\n\u001b[0;32m-> 6296\u001b[0;31m             \u001b[0mValue\u001b[0m \u001b[0mto\u001b[0m \u001b[0muse\u001b[0m \u001b[0mto\u001b[0m \u001b[0mfill\u001b[0m \u001b[0mholes\u001b[0m \u001b[0;34m(\u001b[0m\u001b[0me\u001b[0m\u001b[0;34m.\u001b[0m\u001b[0mg\u001b[0m\u001b[0;34m.\u001b[0m \u001b[0;36m0\u001b[0m\u001b[0;34m)\u001b[0m\u001b[0;34m,\u001b[0m \u001b[0malternately\u001b[0m \u001b[0ma\u001b[0m\u001b[0;34m\u001b[0m\u001b[0;34m\u001b[0m\u001b[0m\n\u001b[0m\u001b[1;32m   6297\u001b[0m             \u001b[0mdict\u001b[0m\u001b[0;34m/\u001b[0m\u001b[0mSeries\u001b[0m\u001b[0;34m/\u001b[0m\u001b[0mDataFrame\u001b[0m \u001b[0mof\u001b[0m \u001b[0mvalues\u001b[0m \u001b[0mspecifying\u001b[0m \u001b[0mwhich\u001b[0m \u001b[0mvalue\u001b[0m \u001b[0mto\u001b[0m \u001b[0muse\u001b[0m \u001b[0;32mfor\u001b[0m\u001b[0;34m\u001b[0m\u001b[0;34m\u001b[0m\u001b[0m\n\u001b[1;32m   6298\u001b[0m             \u001b[0meach\u001b[0m \u001b[0mindex\u001b[0m \u001b[0;34m(\u001b[0m\u001b[0;32mfor\u001b[0m \u001b[0ma\u001b[0m \u001b[0mSeries\u001b[0m\u001b[0;34m)\u001b[0m \u001b[0;32mor\u001b[0m \u001b[0mcolumn\u001b[0m \u001b[0;34m(\u001b[0m\u001b[0;32mfor\u001b[0m \u001b[0ma\u001b[0m \u001b[0mDataFrame\u001b[0m\u001b[0;34m)\u001b[0m\u001b[0;34m.\u001b[0m  \u001b[0mValues\u001b[0m \u001b[0;32mnot\u001b[0m\u001b[0;34m\u001b[0m\u001b[0;34m\u001b[0m\u001b[0m\n\u001b[1;32m   6299\u001b[0m             \u001b[0;32min\u001b[0m \u001b[0mthe\u001b[0m \u001b[0mdict\u001b[0m\u001b[0;34m/\u001b[0m\u001b[0mSeries\u001b[0m\u001b[0;34m/\u001b[0m\u001b[0mDataFrame\u001b[0m \u001b[0mwill\u001b[0m \u001b[0;32mnot\u001b[0m \u001b[0mbe\u001b[0m \u001b[0mfilled\u001b[0m\u001b[0;34m.\u001b[0m \u001b[0mThis\u001b[0m \u001b[0mvalue\u001b[0m \u001b[0mcannot\u001b[0m\u001b[0;34m\u001b[0m\u001b[0;34m\u001b[0m\u001b[0m\n",
      "\u001b[0;31mAttributeError\u001b[0m: 'DataFrame' object has no attribute 'append'"
     ]
    }
   ],
   "source": [
    "from policyengine_core.charts.api import get_api_chart_data\n",
    "import plotly.express as px\n",
    "from policyengine_core.charts import *\n",
    "\n",
    "decile_df = pd.DataFrame()\n",
    "\n",
    "for i in range(len(provisions)):\n",
    "    impacts = get_impacts(reforms[i])\n",
    "    decile_data = get_api_chart_data(\"uk\", Reform.from_dict(reforms[i], \"uk\").api_id, \"decile\", \"uk\", 2024, 1)[\"relative\"]\n",
    "    for decile in range(1, 11):\n",
    "        decile_df = decile_df.append(\n",
    "            {\n",
    "            \"Reform\": provisions[i],\n",
    "            \"Decile\": decile,\n",
    "            \"Relative change\": decile_data[str(decile)]\n",
    "        }, ignoreIndex=True)\n",
    "\n",
    "fig = px.bar(\n",
    "    decile_df,\n",
    "    x=\"Decile\",\n",
    "    y=\"Relative change\",\n",
    "    color=\"Reform\",\n",
    "    barmode=\"group\",\n",
    ").update_layout(\n",
    "    title=\"Change in net income by decile\",\n",
    "    xaxis_title=\"Reform\",\n",
    "    yaxis_title=\"Relative change in net income\",\n",
    "    yaxis_tickformat=\"+.1%\",\n",
    ")\n",
    "\n",
    "fig = format_fig(fig)\n",
    "fig"
   ]
  },
  {
   "cell_type": "markdown",
   "metadata": {},
   "source": [
    "## National Insurance contributions, 2p decrease\n",
    "\n",
    "Under this policy, the government would reduce required contributions to the National Insurance system (Class 1 contributions) for individuals employed by an employer. The current rate of 10p, brought into force on 6 January 2024, would be further lowered to 8p.\n",
    "\n",
    "The PolicyEngine model projects that a reduction in the Class 1 NIC contribution rate by 2p costs the government approximately £10.0 billion. Under this cut, every income decile gains in aggregate, with 63.8% of households increasing their post-tax income, and none seeing a decrease in disposable. This reform would increase inequality, as measured by the Gini coefficient, by 0.3%, while reducing the poverty rate by 0.2%.\n",
    "\n",
    "For a married couple with two children making £35,000 a year, this reform would lower National Insurance payments by £214 for 2024. However, their maximum possible Universal Credit benefit also falls by £118, providing a net benefit of £96 for the year.\n",
    "\n",
    "# National Insurance contributions, 1p decrease\n",
    "\n",
    "Similar to the 2p National Insurance rate cut, under this reform, the government would reduce Class 1 National Insurance contributions by 1p, from the current rate of 10p to 9p.\n",
    "\n",
    "PolicyEngine projects that this cut would cost the government £5.0 billion. Similar to the 2p cut, under this reform, post-tax income increases for every income decile, with the same 63.8% of households gaining disposable income. This reform would slightly increase the Gini coefficient, by 0.2%, while having a negiligible impact upon the poverty rate.\n",
    "\n",
    "For the same hypothetical couple from above, this reform would lower National Insurance payments by £115 for the year. However, this family's maximum Universal Credit benefit would fall by a corresponding £63, providing an overall benefit of £52 for 2024.\n",
    "\n",
    "# Basic Rate decrease\n",
    "\n",
    "Under another speculated reform, the government would lower the Basic Rate, the tax rate of the UK's lowest tax bracket, by 2p, from its current 20p to 18p. \n",
    "\n",
    "As the Basic Rate taxes a larger pool of household income sources than the National Insurance system, PolicyEngine estimates the cost of this reform to be £11.1 billion for 2024. This policy would increase the net income of 69.6% of UK households, with every individual decile also experiencing an increase in net income. Households in higher deciles do particularly well under this reform; households in the UK's top decile would receive £1,175 in extra net income in 2024, while households in the country's lowest decile would receive £16. This policy would lower the poverty rate by 0.4% relative to its current value. However, it would raise the Gini coefficient by 0.3%.\n",
    "\n",
    "For a two-child household earning £35,000 gross income in 2024, this reform would lower income tax by £197. However, this family's maximum Universal Credit benefit would also decrease by £108, generating a net increase in post-tax income of £89."
   ]
  }
 ],
 "metadata": {
  "kernelspec": {
   "display_name": "Python 3",
   "language": "python",
   "name": "python3"
  },
  "language_info": {
   "codemirror_mode": {
    "name": "ipython",
    "version": 3
   },
   "file_extension": ".py",
   "mimetype": "text/x-python",
   "name": "python",
   "nbconvert_exporter": "python",
   "pygments_lexer": "ipython3",
   "version": "3.9.13"
  }
 },
 "nbformat": 4,
 "nbformat_minor": 2
}
