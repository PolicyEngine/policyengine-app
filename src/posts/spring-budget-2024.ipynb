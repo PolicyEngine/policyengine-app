{
 "cells": [
  {
   "cell_type": "markdown",
   "metadata": {},
   "source": [
    "On Wednesday, 6 March, Chancellor of the Exchequer Jeremy Hunt will present the government's 2024 Spring Budget. Though the specific budgetary provisions Number 11 will put forth remain private, various sources speculate that the chancellor will cut the National Insurance rate, a supplement to his previous cuts in autumn 2023 (analysed by PolicyEngine in [this article](https://policyengine.org/uk/research/autumn-statement-2023)).\n",
    "\n",
    "In this post, we'll estimate the impacts of such a cut upon the budget, as well as upon society-wide economic performance indicators. We'll also look at the impact these changes would have upon an average UK household.\n",
    "\n",
    "[Summarize findings]\n",
    "\n",
    "# Reforms within Spring Budget 2024\n",
    "\n",
    "News media speculation regarding the Spring Budget's proposed reforms has mooted changes to various different tax provisions. In this article, we will utilise PolicyEngine to model and analyse three:\n",
    "* Cuts to Employee (Class 1) National Insurance Contributions (NICs) by either 1p or 2p, depending upon the source[^1][^3]\n",
    "* A 2p cut to the basic rate of tax, lowering the rate from 20p to 18p[^4]\n",
    "* A fuel duty freeze[^1]\n",
    "\n",
    "In modelling these reforms, we will assume each took effect on 1 January 2024 and will evaluate their impacts over calendar year 2024. In the future, PolicyEngine hopes to develop the capability to accurately model the true effective date of these sorts of policies.\n",
    "\n",
    "# NIC Cuts\n",
    "\n",
    "\n",
    "\n",
    "[^1]:\n",
    "      [The Guardian, 2024](https://www.theguardian.com/politics/2024/mar/02/tax-and-spending-cuts-will-backfire-economists-warn-jeremy-hunt)\n",
    "[^2]: \n",
    "      [Institute for Government, 2024](https://www.instituteforgovernment.org.uk/comment/five-things-look-out-spring-budget-2024)\n",
    "[^3]:\n",
    "      [Financial Times, 2024](https://www.ft.com/content/c2d56d45-c061-4d5a-bf4f-1eddd1fa7d25)\n",
    "[^4]:\n",
    "      [Financial Times, 2024](https://www.ft.com/content/1b4f19d7-c7e5-4d16-a7c1-1c12ec0d0592)"
   ]
  }
 ],
 "metadata": {
  "language_info": {
   "name": "python"
  }
 },
 "nbformat": 4,
 "nbformat_minor": 2
}
