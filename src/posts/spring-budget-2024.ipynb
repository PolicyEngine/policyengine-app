{
 "cells": [
  {
   "cell_type": "markdown",
   "metadata": {},
   "source": [
    "On Wednesday, 6th March, Chancellor of the Exchequer Jeremy Hunt will present the government's 2024 Spring Budget. Ahead of the announcement, media reports speculate that the Chancellor is considering cutting the main National Insurance rate, in an extension to his previous cuts in the Autumn Statement 2023 (analysed by PolicyEngine in [this report](https://policyengine.org/uk/research/autumn-statement-2023)).\n",
    "\n",
    "In this post, we'll estimate the impacts of such a cut upon the budget, as well as upon society-wide economic outcomes. We'll also look at the impact these changes would have upon individual UK households.\n",
    "\n",
    "## Budget reform options\n",
    "\n",
    "Separate media sources identify four potential reforms that the Chancellor is considering:\n",
    "\n",
    "* Cuts to Employee (Class 1) National Insurance Contributions (NICs) by either 1p[^1] or 2p[^3]\n",
    "* A 2p cut to the basic rate of tax, lowering the rate from 20p to 18p[^4]\n",
    "* A fuel duty freeze[^1]\n",
    "\n",
    "PolicyEngine's top-level economic impact estimates follow below. In modelling these reforms, we assume each took effect on 1 January 2024 and will evaluate their impacts over calendar year 2024.\n",
    "\n",
    "[^1]:\n",
    "      [The Guardian, 2024](https://www.theguardian.com/politics/2024/mar/02/tax-and-spending-cuts-will-backfire-economists-warn-jeremy-hunt)\n",
    "[^2]: \n",
    "      [Institute for Government, 2024](https://www.instituteforgovernment.org.uk/comment/five-things-look-out-spring-budget-2024)\n",
    "[^3]:\n",
    "      [Financial Times, 2024](https://www.ft.com/content/c2d56d45-c061-4d5a-bf4f-1eddd1fa7d25)\n",
    "[^4]:\n",
    "      [Financial Times, 2024](https://www.ft.com/content/1b4f19d7-c7e5-4d16-a7c1-1c12ec0d0592)"
   ]
  },
  {
   "cell_type": "markdown",
   "metadata": {},
   "source": [
    "*Table 1: Potential budget reforms and their impacts*"
   ]
  },
  {
   "cell_type": "code",
   "execution_count": 16,
   "metadata": {},
   "outputs": [],
   "source": [
    "from policyengine_uk.model_api import *\n",
    "from policyengine_uk import Microsimulation\n",
    "import pandas as pd\n",
    "\n",
    "# DataFrame with columns: [provision name, provision cost in 2024, percent better off, provision poverty impact in 2024, inequality impact in 2024]\n",
    "\n",
    "reforms = []\n",
    "\n",
    "ni_rate_cut_1p = {\n",
    "    \"gov.hmrc.national_insurance.class_1.rates.employee.main\": {\n",
    "        \"year:2024:5\": 0.09,\n",
    "    }\n",
    "}\n",
    "\n",
    "ni_rate_cut_2p = {\n",
    "    \"gov.hmrc.national_insurance.class_1.rates.employee.main\": {\n",
    "        \"year:2024:5\": 0.08,\n",
    "    }\n",
    "}\n",
    "\n",
    "base_rate_cut_2p = {\n",
    "    \"gov.hmrc.income_tax.rates.uk[0].rate\": {\n",
    "        \"year:2024:5\": 0.18,\n",
    "    }\n",
    "}\n",
    "\n",
    "fuel_duty_freeze = {\n",
    "    \"gov.hmrc.fuel_duty.petrol_and_diesel\": {\n",
    "        \"year:2024:5\": 0.5083\n",
    "    }\n",
    "}\n",
    "\n",
    "reforms = [ni_rate_cut_1p, ni_rate_cut_2p, base_rate_cut_2p, fuel_duty_freeze]\n",
    "\n",
    "provisions = [\"1p NI cut\", \"2p NI cut\", \"2p basic rate cut\", \"Fuel duty cut\"]\n",
    "\n",
    "baseline = Microsimulation()\n",
    "\n",
    "def get_impacts(reform_dict: dict) -> dict:\n",
    "    reform = Reform.from_dict(reform_dict, country_id=\"uk\")\n",
    "    reformed = Microsimulation(reform=reform)\n",
    "\n",
    "    budgetary_impact = baseline.calculate(\"household_net_income\", period=2024).sum() - reformed.calculate(\"household_net_income\", 2024).sum()\n",
    "    poverty_baseline = baseline.calculate(\"in_poverty\", map_to=\"person\", period=2024).mean()\n",
    "    poverty_reform = reformed.calculate(\"in_poverty\", map_to=\"person\", period=2024).mean()\n",
    "    poverty_rate_change = (poverty_reform - poverty_baseline) / poverty_baseline\n",
    "\n",
    "    gini_baseline = baseline.calculate(\"equiv_household_net_income\", map_to=\"person\", period=2024).gini()\n",
    "    gini_reform = reformed.calculate(\"equiv_household_net_income\", map_to=\"person\", period=2024).gini()\n",
    "    gini_rate_change = (gini_reform - gini_baseline) / gini_baseline\n",
    "\n",
    "    hnet_reformed = reformed.calculate(\"household_net_income\", period=2024, map_to=\"person\")\n",
    "    hnet_baseline = baseline.calculate(\"household_net_income\", period=2024, map_to=\"person\")\n",
    "    percent_better_off = (hnet_reformed > hnet_baseline).mean()\n",
    "    # Poverty headcount relative change\n",
    "    # Inequality gini index relative change\n",
    "    # Percent better off\n",
    "\n",
    "    return dict(\n",
    "        budgetary_impact=budgetary_impact,\n",
    "        reform_id=reform.api_id,\n",
    "        poverty_rate_change=poverty_rate_change,\n",
    "        gini_rate_change=gini_rate_change,\n",
    "        percent_better_off=percent_better_off\n",
    "    )\n",
    "\n",
    "budgetary_impacts = []\n",
    "reform_ids = []\n",
    "poverty_rate_changes = []\n",
    "gini_rate_changes = []\n",
    "percentages_better_off = []\n",
    "\n",
    "for i in range(len(provisions)):\n",
    "    impacts = get_impacts(reforms[i])\n",
    "    budgetary_impacts.append(impacts[\"budgetary_impact\"])\n",
    "    reform_ids.append(impacts[\"reform_id\"])\n",
    "    poverty_rate_changes.append(impacts[\"poverty_rate_change\"])\n",
    "    gini_rate_changes.append(impacts[\"gini_rate_change\"])\n",
    "    percentages_better_off.append(impacts[\"percent_better_off\"])\n",
    "\n",
    "df = pd.DataFrame({\n",
    "    \"Reform\": provisions,\n",
    "    \"Budgetary impact\": budgetary_impacts,\n",
    "    \"Percent gaining\": percentages_better_off,\n",
    "    \"Poverty change\": poverty_rate_changes,\n",
    "    \"Inequality change\": gini_rate_changes,\n",
    "    \"PolicyEngine\": reform_ids,\n",
    "})\n",
    "\n",
    "df[\"Budgetary impact\"] = df[\"Budgetary impact\"].apply(lambda x: f\"{x/1e9:+,.1f}\")\n",
    "df[\"PolicyEngine\"] = df[\"PolicyEngine\"].apply(lambda x: f\"[#{x}](https://policyengine.org/uk/policy?reform={x}&baseline=1&time_period=2024&region=uk)\")\n",
    "df[\"Percent gaining\"] =  df[\"Percent gaining\"].apply(lambda x: f\"{x:+.1%}\")\n",
    "df[\"Poverty change\"] =  df[\"Poverty change\"].apply(lambda x: f\"{x:+.1%}\")\n",
    "df[\"Inequality change\"] =  df[\"Inequality change\"].apply(lambda x: f\"{x:+.1%}\")"
   ]
  },
  {
   "cell_type": "code",
   "execution_count": 20,
   "metadata": {},
   "outputs": [
    {
     "data": {
      "text/markdown": [
       "| Reform            |   Budgetary impact | Percent gaining   | Poverty change   | Inequality change   | PolicyEngine                                                                                    |\n",
       "|:------------------|-------------------:|:------------------|:-----------------|:--------------------|:------------------------------------------------------------------------------------------------|\n",
       "| 1p NI cut         |               -5   | 63.8%             | -0.0%            | 0.2%                | [#49642](https://policyengine.org/uk/policy?reform=49642&baseline=1&time_period=2024&region=uk) |\n",
       "| 2p NI cut         |              -10   | 63.8%             | -0.2%            | 0.3%                | [#49643](https://policyengine.org/uk/policy?reform=49643&baseline=1&time_period=2024&region=uk) |\n",
       "| 2p basic rate cut |              -11.1 | 69.6%             | -0.4%            | 0.3%                | [#49644](https://policyengine.org/uk/policy?reform=49644&baseline=1&time_period=2024&region=uk) |\n",
       "| Fuel duty cut     |               -0.4 | 42.7%             | -0.1%            | -0.0%               | [#49645](https://policyengine.org/uk/policy?reform=49645&baseline=1&time_period=2024&region=uk) |"
      ],
      "text/plain": [
       "<IPython.core.display.Markdown object>"
      ]
     },
     "execution_count": 20,
     "metadata": {},
     "output_type": "execute_result"
    }
   ],
   "source": [
    "from IPython.display import Markdown\n",
    "\n",
    "Markdown(df.to_markdown(index=False))"
   ]
  },
  {
   "cell_type": "markdown",
   "metadata": {},
   "source": [
    "## Distributional impacts"
   ]
  },
  {
   "cell_type": "code",
   "execution_count": 25,
   "metadata": {},
   "outputs": [
    {
     "data": {
      "application/vnd.plotly.v1+json": {
       "config": {
        "plotlyServerURL": "https://plot.ly"
       },
       "data": [
        {
         "alignmentgroup": "True",
         "hovertemplate": "Reform=1p NI cut<br>Decile=%{x}<br>Relative change=%{y}<extra></extra>",
         "legendgroup": "1p NI cut",
         "marker": {
          "color": "#636efa",
          "pattern": {
           "shape": ""
          }
         },
         "name": "1p NI cut",
         "offsetgroup": "1p NI cut",
         "orientation": "v",
         "showlegend": true,
         "textposition": "auto",
         "type": "bar",
         "x": [
          1,
          2,
          3,
          4,
          5,
          6,
          7,
          8,
          9,
          10
         ],
         "xaxis": "x",
         "y": [
          0.00017939409994996214,
          0.0005470910704261151,
          0.001545359108935586,
          0.0028808928885603272,
          0.004016404435987526,
          0.0057513039354001785,
          0.006865034386079139,
          0.007562389021527562,
          0.007463826656961707,
          0.0045059033811456805
         ],
         "yaxis": "y"
        },
        {
         "alignmentgroup": "True",
         "hovertemplate": "Reform=2p NI cut<br>Decile=%{x}<br>Relative change=%{y}<extra></extra>",
         "legendgroup": "2p NI cut",
         "marker": {
          "color": "#EF553B",
          "pattern": {
           "shape": ""
          }
         },
         "name": "2p NI cut",
         "offsetgroup": "2p NI cut",
         "orientation": "v",
         "showlegend": true,
         "textposition": "auto",
         "type": "bar",
         "x": [
          1,
          2,
          3,
          4,
          5,
          6,
          7,
          8,
          9,
          10
         ],
         "xaxis": "x",
         "y": [
          0.00033316025394293346,
          0.0010160252393705508,
          0.002869956962169209,
          0.005350232103900272,
          0.0074590449925261895,
          0.010680997385029636,
          0.012749354213501067,
          0.014044440537681295,
          0.013861406875454198,
          0.008368111894940009
         ],
         "yaxis": "y"
        },
        {
         "alignmentgroup": "True",
         "hovertemplate": "Reform=2p basic rate cut<br>Decile=%{x}<br>Relative change=%{y}<extra></extra>",
         "legendgroup": "2p basic rate cut",
         "marker": {
          "color": "#00cc96",
          "pattern": {
           "shape": ""
          }
         },
         "name": "2p basic rate cut",
         "offsetgroup": "2p basic rate cut",
         "orientation": "v",
         "showlegend": true,
         "textposition": "auto",
         "type": "bar",
         "x": [
          1,
          2,
          3,
          4,
          5,
          6,
          7,
          8,
          9,
          10
         ],
         "xaxis": "x",
         "y": [
          0.0013572272663274023,
          0.002662130975722555,
          0.0043837633089392185,
          0.005372476324289575,
          0.007754855192808479,
          0.009822784942066606,
          0.012040846851525486,
          0.013215637454867495,
          0.013703926139213663,
          0.009045902660274002
         ],
         "yaxis": "y"
        },
        {
         "alignmentgroup": "True",
         "hovertemplate": "Reform=Fuel duty cut<br>Decile=%{x}<br>Relative change=%{y}<extra></extra>",
         "legendgroup": "Fuel duty cut",
         "marker": {
          "color": "#ab63fa",
          "pattern": {
           "shape": ""
          }
         },
         "name": "Fuel duty cut",
         "offsetgroup": "Fuel duty cut",
         "orientation": "v",
         "showlegend": true,
         "textposition": "auto",
         "type": "bar",
         "x": [
          1,
          2,
          3,
          4,
          5,
          6,
          7,
          8,
          9,
          10
         ],
         "xaxis": "x",
         "y": [
          0.0004395066083741207,
          0.0003699690860257903,
          0.00030198483849552994,
          0.00021007566670623807,
          0.000215676398505982,
          0.00022512390169471158,
          0.000266489061579883,
          0.00023682222411910357,
          0.0002465702014499612,
          0.00019716869270991068
         ],
         "yaxis": "y"
        }
       ],
       "layout": {
        "barmode": "group",
        "font": {
         "color": "black",
         "family": "Roboto Serif"
        },
        "height": 600,
        "images": [
         {
          "sizex": 0.2,
          "sizey": 0.2,
          "source": "https://raw.githubusercontent.com/PolicyEngine/policyengine-app/master/src/images/logos/policyengine/blue.png",
          "x": 1,
          "xanchor": "right",
          "xref": "paper",
          "y": -0.15,
          "yanchor": "bottom",
          "yref": "paper"
         }
        ],
        "legend": {
         "title": {
          "text": "Reform"
         },
         "tracegroupgap": 0
        },
        "margin": {
         "t": 60
        },
        "modebar": {
         "bgcolor": "rgba(0,0,0,0)",
         "color": "rgba(0,0,0,0)"
        },
        "template": {
         "data": {
          "bar": [
           {
            "error_x": {
             "color": "#2a3f5f"
            },
            "error_y": {
             "color": "#2a3f5f"
            },
            "marker": {
             "line": {
              "color": "white",
              "width": 0.5
             },
             "pattern": {
              "fillmode": "overlay",
              "size": 10,
              "solidity": 0.2
             }
            },
            "type": "bar"
           }
          ],
          "barpolar": [
           {
            "marker": {
             "line": {
              "color": "white",
              "width": 0.5
             },
             "pattern": {
              "fillmode": "overlay",
              "size": 10,
              "solidity": 0.2
             }
            },
            "type": "barpolar"
           }
          ],
          "carpet": [
           {
            "aaxis": {
             "endlinecolor": "#2a3f5f",
             "gridcolor": "#C8D4E3",
             "linecolor": "#C8D4E3",
             "minorgridcolor": "#C8D4E3",
             "startlinecolor": "#2a3f5f"
            },
            "baxis": {
             "endlinecolor": "#2a3f5f",
             "gridcolor": "#C8D4E3",
             "linecolor": "#C8D4E3",
             "minorgridcolor": "#C8D4E3",
             "startlinecolor": "#2a3f5f"
            },
            "type": "carpet"
           }
          ],
          "choropleth": [
           {
            "colorbar": {
             "outlinewidth": 0,
             "ticks": ""
            },
            "type": "choropleth"
           }
          ],
          "contour": [
           {
            "colorbar": {
             "outlinewidth": 0,
             "ticks": ""
            },
            "colorscale": [
             [
              0,
              "#0d0887"
             ],
             [
              0.1111111111111111,
              "#46039f"
             ],
             [
              0.2222222222222222,
              "#7201a8"
             ],
             [
              0.3333333333333333,
              "#9c179e"
             ],
             [
              0.4444444444444444,
              "#bd3786"
             ],
             [
              0.5555555555555556,
              "#d8576b"
             ],
             [
              0.6666666666666666,
              "#ed7953"
             ],
             [
              0.7777777777777778,
              "#fb9f3a"
             ],
             [
              0.8888888888888888,
              "#fdca26"
             ],
             [
              1,
              "#f0f921"
             ]
            ],
            "type": "contour"
           }
          ],
          "contourcarpet": [
           {
            "colorbar": {
             "outlinewidth": 0,
             "ticks": ""
            },
            "type": "contourcarpet"
           }
          ],
          "heatmap": [
           {
            "colorbar": {
             "outlinewidth": 0,
             "ticks": ""
            },
            "colorscale": [
             [
              0,
              "#0d0887"
             ],
             [
              0.1111111111111111,
              "#46039f"
             ],
             [
              0.2222222222222222,
              "#7201a8"
             ],
             [
              0.3333333333333333,
              "#9c179e"
             ],
             [
              0.4444444444444444,
              "#bd3786"
             ],
             [
              0.5555555555555556,
              "#d8576b"
             ],
             [
              0.6666666666666666,
              "#ed7953"
             ],
             [
              0.7777777777777778,
              "#fb9f3a"
             ],
             [
              0.8888888888888888,
              "#fdca26"
             ],
             [
              1,
              "#f0f921"
             ]
            ],
            "type": "heatmap"
           }
          ],
          "heatmapgl": [
           {
            "colorbar": {
             "outlinewidth": 0,
             "ticks": ""
            },
            "colorscale": [
             [
              0,
              "#0d0887"
             ],
             [
              0.1111111111111111,
              "#46039f"
             ],
             [
              0.2222222222222222,
              "#7201a8"
             ],
             [
              0.3333333333333333,
              "#9c179e"
             ],
             [
              0.4444444444444444,
              "#bd3786"
             ],
             [
              0.5555555555555556,
              "#d8576b"
             ],
             [
              0.6666666666666666,
              "#ed7953"
             ],
             [
              0.7777777777777778,
              "#fb9f3a"
             ],
             [
              0.8888888888888888,
              "#fdca26"
             ],
             [
              1,
              "#f0f921"
             ]
            ],
            "type": "heatmapgl"
           }
          ],
          "histogram": [
           {
            "marker": {
             "pattern": {
              "fillmode": "overlay",
              "size": 10,
              "solidity": 0.2
             }
            },
            "type": "histogram"
           }
          ],
          "histogram2d": [
           {
            "colorbar": {
             "outlinewidth": 0,
             "ticks": ""
            },
            "colorscale": [
             [
              0,
              "#0d0887"
             ],
             [
              0.1111111111111111,
              "#46039f"
             ],
             [
              0.2222222222222222,
              "#7201a8"
             ],
             [
              0.3333333333333333,
              "#9c179e"
             ],
             [
              0.4444444444444444,
              "#bd3786"
             ],
             [
              0.5555555555555556,
              "#d8576b"
             ],
             [
              0.6666666666666666,
              "#ed7953"
             ],
             [
              0.7777777777777778,
              "#fb9f3a"
             ],
             [
              0.8888888888888888,
              "#fdca26"
             ],
             [
              1,
              "#f0f921"
             ]
            ],
            "type": "histogram2d"
           }
          ],
          "histogram2dcontour": [
           {
            "colorbar": {
             "outlinewidth": 0,
             "ticks": ""
            },
            "colorscale": [
             [
              0,
              "#0d0887"
             ],
             [
              0.1111111111111111,
              "#46039f"
             ],
             [
              0.2222222222222222,
              "#7201a8"
             ],
             [
              0.3333333333333333,
              "#9c179e"
             ],
             [
              0.4444444444444444,
              "#bd3786"
             ],
             [
              0.5555555555555556,
              "#d8576b"
             ],
             [
              0.6666666666666666,
              "#ed7953"
             ],
             [
              0.7777777777777778,
              "#fb9f3a"
             ],
             [
              0.8888888888888888,
              "#fdca26"
             ],
             [
              1,
              "#f0f921"
             ]
            ],
            "type": "histogram2dcontour"
           }
          ],
          "mesh3d": [
           {
            "colorbar": {
             "outlinewidth": 0,
             "ticks": ""
            },
            "type": "mesh3d"
           }
          ],
          "parcoords": [
           {
            "line": {
             "colorbar": {
              "outlinewidth": 0,
              "ticks": ""
             }
            },
            "type": "parcoords"
           }
          ],
          "pie": [
           {
            "automargin": true,
            "type": "pie"
           }
          ],
          "scatter": [
           {
            "fillpattern": {
             "fillmode": "overlay",
             "size": 10,
             "solidity": 0.2
            },
            "type": "scatter"
           }
          ],
          "scatter3d": [
           {
            "line": {
             "colorbar": {
              "outlinewidth": 0,
              "ticks": ""
             }
            },
            "marker": {
             "colorbar": {
              "outlinewidth": 0,
              "ticks": ""
             }
            },
            "type": "scatter3d"
           }
          ],
          "scattercarpet": [
           {
            "marker": {
             "colorbar": {
              "outlinewidth": 0,
              "ticks": ""
             }
            },
            "type": "scattercarpet"
           }
          ],
          "scattergeo": [
           {
            "marker": {
             "colorbar": {
              "outlinewidth": 0,
              "ticks": ""
             }
            },
            "type": "scattergeo"
           }
          ],
          "scattergl": [
           {
            "marker": {
             "colorbar": {
              "outlinewidth": 0,
              "ticks": ""
             }
            },
            "type": "scattergl"
           }
          ],
          "scattermapbox": [
           {
            "marker": {
             "colorbar": {
              "outlinewidth": 0,
              "ticks": ""
             }
            },
            "type": "scattermapbox"
           }
          ],
          "scatterpolar": [
           {
            "marker": {
             "colorbar": {
              "outlinewidth": 0,
              "ticks": ""
             }
            },
            "type": "scatterpolar"
           }
          ],
          "scatterpolargl": [
           {
            "marker": {
             "colorbar": {
              "outlinewidth": 0,
              "ticks": ""
             }
            },
            "type": "scatterpolargl"
           }
          ],
          "scatterternary": [
           {
            "marker": {
             "colorbar": {
              "outlinewidth": 0,
              "ticks": ""
             }
            },
            "type": "scatterternary"
           }
          ],
          "surface": [
           {
            "colorbar": {
             "outlinewidth": 0,
             "ticks": ""
            },
            "colorscale": [
             [
              0,
              "#0d0887"
             ],
             [
              0.1111111111111111,
              "#46039f"
             ],
             [
              0.2222222222222222,
              "#7201a8"
             ],
             [
              0.3333333333333333,
              "#9c179e"
             ],
             [
              0.4444444444444444,
              "#bd3786"
             ],
             [
              0.5555555555555556,
              "#d8576b"
             ],
             [
              0.6666666666666666,
              "#ed7953"
             ],
             [
              0.7777777777777778,
              "#fb9f3a"
             ],
             [
              0.8888888888888888,
              "#fdca26"
             ],
             [
              1,
              "#f0f921"
             ]
            ],
            "type": "surface"
           }
          ],
          "table": [
           {
            "cells": {
             "fill": {
              "color": "#EBF0F8"
             },
             "line": {
              "color": "white"
             }
            },
            "header": {
             "fill": {
              "color": "#C8D4E3"
             },
             "line": {
              "color": "white"
             }
            },
            "type": "table"
           }
          ]
         },
         "layout": {
          "annotationdefaults": {
           "arrowcolor": "#2a3f5f",
           "arrowhead": 0,
           "arrowwidth": 1
          },
          "autotypenumbers": "strict",
          "coloraxis": {
           "colorbar": {
            "outlinewidth": 0,
            "ticks": ""
           }
          },
          "colorscale": {
           "diverging": [
            [
             0,
             "#8e0152"
            ],
            [
             0.1,
             "#c51b7d"
            ],
            [
             0.2,
             "#de77ae"
            ],
            [
             0.3,
             "#f1b6da"
            ],
            [
             0.4,
             "#fde0ef"
            ],
            [
             0.5,
             "#f7f7f7"
            ],
            [
             0.6,
             "#e6f5d0"
            ],
            [
             0.7,
             "#b8e186"
            ],
            [
             0.8,
             "#7fbc41"
            ],
            [
             0.9,
             "#4d9221"
            ],
            [
             1,
             "#276419"
            ]
           ],
           "sequential": [
            [
             0,
             "#0d0887"
            ],
            [
             0.1111111111111111,
             "#46039f"
            ],
            [
             0.2222222222222222,
             "#7201a8"
            ],
            [
             0.3333333333333333,
             "#9c179e"
            ],
            [
             0.4444444444444444,
             "#bd3786"
            ],
            [
             0.5555555555555556,
             "#d8576b"
            ],
            [
             0.6666666666666666,
             "#ed7953"
            ],
            [
             0.7777777777777778,
             "#fb9f3a"
            ],
            [
             0.8888888888888888,
             "#fdca26"
            ],
            [
             1,
             "#f0f921"
            ]
           ],
           "sequentialminus": [
            [
             0,
             "#0d0887"
            ],
            [
             0.1111111111111111,
             "#46039f"
            ],
            [
             0.2222222222222222,
             "#7201a8"
            ],
            [
             0.3333333333333333,
             "#9c179e"
            ],
            [
             0.4444444444444444,
             "#bd3786"
            ],
            [
             0.5555555555555556,
             "#d8576b"
            ],
            [
             0.6666666666666666,
             "#ed7953"
            ],
            [
             0.7777777777777778,
             "#fb9f3a"
            ],
            [
             0.8888888888888888,
             "#fdca26"
            ],
            [
             1,
             "#f0f921"
            ]
           ]
          },
          "colorway": [
           "#636efa",
           "#EF553B",
           "#00cc96",
           "#ab63fa",
           "#FFA15A",
           "#19d3f3",
           "#FF6692",
           "#B6E880",
           "#FF97FF",
           "#FECB52"
          ],
          "font": {
           "color": "#2a3f5f"
          },
          "geo": {
           "bgcolor": "white",
           "lakecolor": "white",
           "landcolor": "white",
           "showlakes": true,
           "showland": true,
           "subunitcolor": "#C8D4E3"
          },
          "hoverlabel": {
           "align": "left"
          },
          "hovermode": "closest",
          "mapbox": {
           "style": "light"
          },
          "paper_bgcolor": "white",
          "plot_bgcolor": "white",
          "polar": {
           "angularaxis": {
            "gridcolor": "#EBF0F8",
            "linecolor": "#EBF0F8",
            "ticks": ""
           },
           "bgcolor": "white",
           "radialaxis": {
            "gridcolor": "#EBF0F8",
            "linecolor": "#EBF0F8",
            "ticks": ""
           }
          },
          "scene": {
           "xaxis": {
            "backgroundcolor": "white",
            "gridcolor": "#DFE8F3",
            "gridwidth": 2,
            "linecolor": "#EBF0F8",
            "showbackground": true,
            "ticks": "",
            "zerolinecolor": "#EBF0F8"
           },
           "yaxis": {
            "backgroundcolor": "white",
            "gridcolor": "#DFE8F3",
            "gridwidth": 2,
            "linecolor": "#EBF0F8",
            "showbackground": true,
            "ticks": "",
            "zerolinecolor": "#EBF0F8"
           },
           "zaxis": {
            "backgroundcolor": "white",
            "gridcolor": "#DFE8F3",
            "gridwidth": 2,
            "linecolor": "#EBF0F8",
            "showbackground": true,
            "ticks": "",
            "zerolinecolor": "#EBF0F8"
           }
          },
          "shapedefaults": {
           "line": {
            "color": "#2a3f5f"
           }
          },
          "ternary": {
           "aaxis": {
            "gridcolor": "#DFE8F3",
            "linecolor": "#A2B1C6",
            "ticks": ""
           },
           "baxis": {
            "gridcolor": "#DFE8F3",
            "linecolor": "#A2B1C6",
            "ticks": ""
           },
           "bgcolor": "white",
           "caxis": {
            "gridcolor": "#DFE8F3",
            "linecolor": "#A2B1C6",
            "ticks": ""
           }
          },
          "title": {
           "x": 0.05
          },
          "xaxis": {
           "automargin": true,
           "gridcolor": "#EBF0F8",
           "linecolor": "#EBF0F8",
           "ticks": "",
           "title": {
            "standoff": 15
           },
           "zerolinecolor": "#EBF0F8",
           "zerolinewidth": 2
          },
          "yaxis": {
           "automargin": true,
           "gridcolor": "#EBF0F8",
           "linecolor": "#EBF0F8",
           "ticks": "",
           "title": {
            "standoff": 15
           },
           "zerolinecolor": "#EBF0F8",
           "zerolinewidth": 2
          }
         }
        },
        "title": {
         "text": "Change in net income by decile"
        },
        "width": 800,
        "xaxis": {
         "anchor": "y",
         "domain": [
          0,
          1
         ],
         "title": {
          "text": "Reform"
         }
        },
        "yaxis": {
         "anchor": "x",
         "domain": [
          0,
          1
         ],
         "tickformat": "+.1%",
         "title": {
          "text": "Relative change in net income"
         }
        }
       }
      }
     },
     "metadata": {},
     "output_type": "display_data"
    }
   ],
   "source": [
    "from policyengine_core.charts.api import get_api_chart_data\n",
    "import plotly.express as px\n",
    "from policyengine_core.charts import *\n",
    "\n",
    "decile_df = pd.DataFrame()\n",
    "\n",
    "for i in range(len(provisions)):\n",
    "    impacts = get_impacts(reforms[i])\n",
    "    decile_data = get_api_chart_data(\"uk\", Reform.from_dict(reforms[i], \"uk\").api_id, \"decile\", \"uk\", 2024, 1)[\"relative\"]\n",
    "    for decile in range(1, 11):\n",
    "        decile_df = decile_df.append({\n",
    "            \"Reform\": provisions[i],\n",
    "            \"Decile\": decile,\n",
    "            \"Relative change\": decile_data[str(decile)]\n",
    "        }, ignore_index=True)\n",
    "\n",
    "fig = px.bar(\n",
    "    decile_df,\n",
    "    x=\"Decile\",\n",
    "    y=\"Relative change\",\n",
    "    color=\"Reform\",\n",
    "    barmode=\"group\",\n",
    ").update_layout(\n",
    "    title=\"Change in net income by decile\",\n",
    "    xaxis_title=\"Reform\",\n",
    "    yaxis_title=\"Relative change in net income\",\n",
    "    yaxis_tickformat=\"+.1%\",\n",
    ")\n",
    "\n",
    "fig = format_fig(fig)\n",
    "fig"
   ]
  },
  {
   "cell_type": "code",
   "execution_count": 31,
   "metadata": {},
   "outputs": [
    {
     "data": {
      "text/markdown": [
       "\n",
       "## National Insurance\n",
       "\n",
       "Turning first to the macro impacts, the PolicyEngine model projects that a reduction in the Class 1 NIC contribution rate by 2p costs the government approximately £10.0 billion.\n"
      ],
      "text/plain": [
       "<IPython.core.display.Markdown object>"
      ]
     },
     "execution_count": 31,
     "metadata": {},
     "output_type": "execute_result"
    }
   ],
   "source": [
    "Markdown(f\"\"\"\n",
    "## National Insurance\n",
    "\n",
    "Turning first to the macro impacts, the PolicyEngine model projects that a reduction in the Class 1 NIC contribution rate by 2p costs the government approximately £{-float(df.iloc[1].values[1])} billion.\n",
    "\"\"\"\n",
    "         )"
   ]
  },
  {
   "cell_type": "markdown",
   "metadata": {},
   "source": [
    "## National Insurance\n",
    "\n",
    "Turning first to the macro impacts, the PolicyEngine model projects that a reduction in the Class 1 NIC contribution rate by 2p costs the government approximately £10.8 billion.\n",
    "\n",
    "[chart]\n",
    "\n",
    "Under this 2p cut, every income decile gains in aggregate, with 63p of households increasing their post-tax income, and none seeing a decrease in disposable. However, top earners do especially well. With a reduction by 2p in Class 1 NIC contribution rates, the average household in income decile 1 receives £4 more post-tax income, while the average household in decile 10 receives £1,087. Under a reduction by 1p, these values are halved, to £2 and £585, respectively.\n",
    "\n",
    "[chart]\n",
    "\n",
    "The NIC contribution reform generates an ambiguous effect upon income inequality - while the top 1% of the population's share of net income decreases, the Gini income inequality coefficient actually increases by 0.4p. The poverty rate also falls slightly (0.1 percentage points, or 0.3p against its current rate).\n",
    "\n",
    "[charts]\n",
    "\n",
    "Turning to the household level, reducing NIC contributions by 2p increases post-tax income for a single person with employment income if they earn at least £12,570, much like the reforms previously modelled by PolicyEngine following the Autumn Statement 2023. This individual's take-home pay would increase linearly until reaching a maximum benefit of £817 at an annual income of £50,270. Were NIC contributions to only be reduced by 1p, the income phase-in and phase-out points remain the same, but said individual's maximum benefit would be only £440 annually.\n",
    "\n",
    "Mirroring the reforms from Autumn 2023, most individuals within the proscribed income range would see each 1p reduction in NIC contributions correspond with a 1p reduction in marginal tax rate. Individuals on the very ends of the range would see slightly lower reductions. [why is this?]\n",
    "\n",
    "[charts]\n",
    "\n",
    "# Basic Rate Cuts\n",
    "\n",
    "\n"
   ]
  },
  {
   "cell_type": "code",
   "execution_count": 3,
   "metadata": {},
   "outputs": [],
   "source": [
    "import pandas as pd\n",
    "import plotly.express as px\n",
    "from policyengine_core.charts import *\n",
    "from policyengine_uk import Microsimulation\n",
    "from policyengine_core.reforms import Reform\n",
    "from policyengine_core.periods import instant\n",
    "from plotly.express.colors import sample_colorscale\n",
    "\n",
    "\n",
    "def modify_parameters(parameters):\n",
    "    parameters.gov.hmrc.national_insurance.class_1.rates.employee.main.update(\n",
    "        start=instant(\"2024-01-01\"), stop=instant(\"2024-12-31\"),\n",
    "        value=0.08)\n",
    "    return parameters\n",
    "\n",
    "\n",
    "class reform(Reform):\n",
    "    def apply(self):\n",
    "        self.modify_parameters(modify_parameters)\n",
    "baseline = Microsimulation()\n",
    "reformed = Microsimulation(reform=reform)\n",
    "baseline_person = baseline.calc(\"household_net_income\",\n",
    "    period=2024, map_to=\"person\")\n",
    "reformed_person = reformed.calc(\"household_net_income\",\n",
    "    period=2024, map_to=\"person\")\n",
    "difference_person = reformed_person - baseline_person\n",
    "\n",
    "\n",
    "# fig = format_fig(fig)\n",
    "# \n",
    "# for i in range(len(fig.data)):\n",
    "#     fig.data[i].marker.color = c[i]\n",
    "# \n",
    "# fig.update_layout(\n",
    "#     legend_title=\"Calendar year\",\n",
    "#     xaxis_tickvals=chosen_metrics,\n",
    "#     xaxis_ticktext=[\"Child Benefit\", \"Housing Benefit\", \"Universal Credit\"],\n",
    "#     xaxis_title=\"\",\n",
    "#     yaxis_title=\"Budgetary impact (£)\",\n",
    "# )"
   ]
  }
 ],
 "metadata": {
  "kernelspec": {
   "display_name": "Python 3",
   "language": "python",
   "name": "python3"
  },
  "language_info": {
   "codemirror_mode": {
    "name": "ipython",
    "version": 3
   },
   "file_extension": ".py",
   "mimetype": "text/x-python",
   "name": "python",
   "nbconvert_exporter": "python",
   "pygments_lexer": "ipython3",
   "version": "3.9.12"
  }
 },
 "nbformat": 4,
 "nbformat_minor": 2
}
