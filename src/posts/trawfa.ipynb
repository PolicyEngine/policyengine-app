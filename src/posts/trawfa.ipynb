{
 "cells": [
  {
   "cell_type": "code",
   "execution_count": 1,
   "metadata": {},
   "outputs": [
    {
     "name": "stdout",
     "output_type": "stream",
     "text": [
      "2023 Per-child phase-in\n",
      "2023 Lookback\n",
      "2023 Refundable increase\n",
      "2023 Indexing CTC\n"
     ]
    },
    {
     "name": "stderr",
     "output_type": "stream",
     "text": [
      "/var/folders/8f/pgfhysmd5ls3jnxb_5j7yy340000gn/T/ipykernel_61012/2791506433.py:66: SettingWithCopyWarning: \n",
      "A value is trying to be set on a copy of a slice from a DataFrame\n",
      "\n",
      "See the caveats in the documentation: https://pandas.pydata.org/pandas-docs/stable/user_guide/indexing.html#returning-a-view-versus-a-copy\n",
      "  df[\"Cost\"][1:-1] = df[\"Cost\"][1:-1].values - df[\"Cost\"][:-2].values\n"
     ]
    },
    {
     "name": "stdout",
     "output_type": "stream",
     "text": [
      "2024 Per-child phase-in\n",
      "2024 Lookback\n",
      "2024 Refundable increase\n",
      "2024 Indexing CTC\n"
     ]
    },
    {
     "name": "stderr",
     "output_type": "stream",
     "text": [
      "/var/folders/8f/pgfhysmd5ls3jnxb_5j7yy340000gn/T/ipykernel_61012/2791506433.py:66: SettingWithCopyWarning: \n",
      "A value is trying to be set on a copy of a slice from a DataFrame\n",
      "\n",
      "See the caveats in the documentation: https://pandas.pydata.org/pandas-docs/stable/user_guide/indexing.html#returning-a-view-versus-a-copy\n",
      "  df[\"Cost\"][1:-1] = df[\"Cost\"][1:-1].values - df[\"Cost\"][:-2].values\n"
     ]
    },
    {
     "name": "stdout",
     "output_type": "stream",
     "text": [
      "2025 Per-child phase-in\n",
      "2025 Lookback\n",
      "2025 Refundable increase\n",
      "2025 Indexing CTC\n"
     ]
    },
    {
     "name": "stderr",
     "output_type": "stream",
     "text": [
      "/var/folders/8f/pgfhysmd5ls3jnxb_5j7yy340000gn/T/ipykernel_61012/2791506433.py:66: SettingWithCopyWarning: \n",
      "A value is trying to be set on a copy of a slice from a DataFrame\n",
      "\n",
      "See the caveats in the documentation: https://pandas.pydata.org/pandas-docs/stable/user_guide/indexing.html#returning-a-view-versus-a-copy\n",
      "  df[\"Cost\"][1:-1] = df[\"Cost\"][1:-1].values - df[\"Cost\"][:-2].values\n"
     ]
    }
   ],
   "source": [
    "from policyengine_core.model_api import *\n",
    "from policyengine_core.charts import get_api_chart_data\n",
    "import pandas as pd\n",
    "import json\n",
    "\n",
    "per_child_phase_in = {\n",
    "    \"gov.contrib.congress.wyden_smith.per_child_actc_phase_in\": {\n",
    "        \"year:2023:3\": True,\n",
    "    },\n",
    "}\n",
    "lookback = {\n",
    "    \"gov.contrib.congress.wyden_smith.actc_lookback\": {\n",
    "        \"year:2024:2\": True,\n",
    "    },\n",
    "}\n",
    "refundable_increase = {\n",
    "    \"gov.irs.credits.ctc.refundable.individual_max\": {\n",
    "        \"year:2023:1\": 1_800,\n",
    "        \"year:2024:1\": 1_900,\n",
    "        \"year:2025:1\": 2_100,\n",
    "    },\n",
    "}\n",
    "indexing_ctc = {\n",
    "    \"gov.irs.credits.ctc.amount.base[0].amount\": {\n",
    "        \"year:2024:2\": 2_100,\n",
    "    },\n",
    "}\n",
    "\n",
    "reforms = [per_child_phase_in, lookback, refundable_increase, indexing_ctc]\n",
    "\n",
    "provisions = [\n",
    "    \"Per-child phase-in\",\n",
    "    \"Lookback\",\n",
    "    \"Refundable increase\",\n",
    "    \"Indexing CTC\",\n",
    "]\n",
    "\n",
    "def get_outputs(api_id: int, year: int) -> dict:\n",
    "    budget_data = get_api_chart_data(\"us\", api_id, \"budget\", \"enhanced_us\", year)\n",
    "    return {\n",
    "        \"Budget\": budget_data[\"budgetary_impact\"],\n",
    "        \"PolicyEngine\": f\"[#{api_id}](https://policyengine.org/us/policy?reform={api_id}&baseline=2&time_period={year}&region=enhanced_us&focus=policyOutput.policyBreakdown)\",\n",
    "    }\n",
    "\n",
    "def get_per_provision_table(reforms: list, provisions: list, year: int) -> pd.DataFrame:\n",
    "    table_data = []\n",
    "    for i in range(1, len(reforms) + 1):\n",
    "        print(year, provisions[i-1])\n",
    "        sliced_reform = {}\n",
    "        for reform in reforms[:i]:\n",
    "            sliced_reform.update(reform)\n",
    "        api_id = Reform.from_dict(sliced_reform, \"us\").api_id\n",
    "        outputs = get_outputs(api_id, year)\n",
    "        table_data.append({\n",
    "            \"Provision\": provisions[i - 1],\n",
    "            \"Cost\": outputs[\"Budget\"],\n",
    "            \"Link\": outputs[\"PolicyEngine\"],\n",
    "            \"Year\": year,\n",
    "        })\n",
    "    \n",
    "    combined_row = json.loads(json.dumps(table_data[-1]))\n",
    "    combined_row[\"Provision\"] = \"Combined\"\n",
    "    table_data.append(combined_row)\n",
    "\n",
    "    df = pd.DataFrame(table_data)\n",
    "    df[\"Cost\"][1:-1] = df[\"Cost\"][1:-1].values - df[\"Cost\"][:-2].values\n",
    "\n",
    "    return df\n",
    "\n",
    "def get_multi_year_provision_table(reforms, provisions, years):\n",
    "    dfs = []\n",
    "    for year in years:\n",
    "        df = get_per_provision_table(reforms, provisions, year)\n",
    "        dfs.append(df)\n",
    "    return pd.concat(dfs, ignore_index=True)\n",
    "\n",
    "df = get_multi_year_provision_table(reforms, provisions, [2023, 2024, 2025])\n",
    "df[\"Cost\"] = df[\"Cost\"].apply(lambda x: float(f\"{x/1e9:.1f}\"))"
   ]
  },
  {
   "cell_type": "code",
   "execution_count": 2,
   "metadata": {},
   "outputs": [
    {
     "ename": "NameError",
     "evalue": "name 'Markdown' is not defined",
     "output_type": "error",
     "traceback": [
      "\u001b[0;31m---------------------------------------------------------------------------\u001b[0m",
      "\u001b[0;31mNameError\u001b[0m                                 Traceback (most recent call last)",
      "Cell \u001b[0;32mIn[2], line 27\u001b[0m\n\u001b[1;32m     25\u001b[0m pivot_df[\u001b[38;5;124m\"\u001b[39m\u001b[38;5;124m2023-2025 (PE)\u001b[39m\u001b[38;5;124m\"\u001b[39m] \u001b[38;5;241m=\u001b[39m pivot_df[\u001b[38;5;124m\"\u001b[39m\u001b[38;5;124m2023 (PE)\u001b[39m\u001b[38;5;124m\"\u001b[39m]\u001b[38;5;241m.\u001b[39mapply(flt) \u001b[38;5;241m+\u001b[39m pivot_df[\u001b[38;5;124m\"\u001b[39m\u001b[38;5;124m2024 (PE)\u001b[39m\u001b[38;5;124m\"\u001b[39m]\u001b[38;5;241m.\u001b[39mapply(flt) \u001b[38;5;241m+\u001b[39m pivot_df[\u001b[38;5;124m\"\u001b[39m\u001b[38;5;124m2025 (PE)\u001b[39m\u001b[38;5;124m\"\u001b[39m]\u001b[38;5;241m.\u001b[39mapply(flt)\n\u001b[1;32m     26\u001b[0m pivot_df\u001b[38;5;241m.\u001b[39mreindex(columns\u001b[38;5;241m=\u001b[39m[\u001b[38;5;124m\"\u001b[39m\u001b[38;5;124m2023 (JCT)\u001b[39m\u001b[38;5;124m\"\u001b[39m, \u001b[38;5;124m\"\u001b[39m\u001b[38;5;124m2023 (PE)\u001b[39m\u001b[38;5;124m\"\u001b[39m, \u001b[38;5;124m\"\u001b[39m\u001b[38;5;124m2024 (JCT)\u001b[39m\u001b[38;5;124m\"\u001b[39m, \u001b[38;5;124m\"\u001b[39m\u001b[38;5;124m2024 (PE)\u001b[39m\u001b[38;5;124m\"\u001b[39m, \u001b[38;5;124m\"\u001b[39m\u001b[38;5;124m2025 (JCT)\u001b[39m\u001b[38;5;124m\"\u001b[39m, \u001b[38;5;124m\"\u001b[39m\u001b[38;5;124m2025 (PE)\u001b[39m\u001b[38;5;124m\"\u001b[39m, \u001b[38;5;124m\"\u001b[39m\u001b[38;5;124m2023-2025 (JCT)\u001b[39m\u001b[38;5;124m\"\u001b[39m, \u001b[38;5;124m\"\u001b[39m\u001b[38;5;124m2023-2025 (PE)\u001b[39m\u001b[38;5;124m\"\u001b[39m])\n\u001b[0;32m---> 27\u001b[0m \u001b[43mMarkdown\u001b[49m(pivot_df\u001b[38;5;241m.\u001b[39mto_markdown())\n",
      "\u001b[0;31mNameError\u001b[0m: name 'Markdown' is not defined"
     ]
    }
   ],
   "source": [
    "linked_values = []\n",
    "for i in range(len(df)):\n",
    "    link = df[\"Link\"][i]\n",
    "    link = link[9:-1]\n",
    "    cost = df[\"Cost\"][i]\n",
    "    cost = cost if cost == 0 else -cost\n",
    "    linked_values.append(f\"[{cost}]({link})\")\n",
    "\n",
    "df[\"Value\"] = linked_values\n",
    "\n",
    "pivot_df = df.pivot_table(index=\"Provision\", columns=\"Year\", values=\"Value\", aggfunc=\"first\").fillna(\"\")\n",
    "# Order of provisions is Per-child phase-in, Lookback, Refundable increase, Indexing CTC\n",
    "pivot_df = pivot_df.reindex([\"Per-child phase-in\", \"Lookback\", \"Refundable increase\", \"Indexing CTC\", \"Combined\"])\n",
    "pivot_df = pivot_df.reset_index().rename_axis(None, axis=1).set_index(\"Provision\", drop=True)\n",
    "\n",
    "pivot_df.rename(columns={2023: \"2023 (PE)\", 2024: \"2024 (PE)\", 2025: \"2025 (PE)\"}, inplace=True)\n",
    "pivot_df[\"2023 (JCT)\"] = [5.5, 0, 2.7, 0, 8.2]\n",
    "pivot_df[\"2024 (JCT)\"] = [6.0, 0.8, 2.5, 1.4, 10.7]\n",
    "pivot_df[\"2025 (JCT)\"] = [5.7, 0.7, 3.4, 4.7, 14.7]\n",
    "\n",
    "def flt(link):\n",
    "    return float(link[1:link.index(\"]\")])\n",
    "\n",
    "pivot_df[\"2023-2025 (JCT)\"] = pivot_df[\"2023 (JCT)\"] + pivot_df[\"2024 (JCT)\"] + pivot_df[\"2025 (JCT)\"]\n",
    "pivot_df[\"2023-2025 (PE)\"] = pivot_df[\"2023 (PE)\"].apply(flt) + pivot_df[\"2024 (PE)\"].apply(flt) + pivot_df[\"2025 (PE)\"].apply(flt)\n"
   ]
  },
  {
   "cell_type": "code",
   "execution_count": 4,
   "metadata": {},
   "outputs": [
    {
     "data": {
      "text/markdown": [
       "| Provision           |   2023 (JCT) | 2023 (PE)                                                                                                                                |   2024 (JCT) | 2024 (PE)                                                                                                                                 |   2025 (JCT) | 2025 (PE)                                                                                                                                 |   2023-2025 (JCT) |   2023-2025 (PE) |\n",
       "|:--------------------|-------------:|:-----------------------------------------------------------------------------------------------------------------------------------------|-------------:|:------------------------------------------------------------------------------------------------------------------------------------------|-------------:|:------------------------------------------------------------------------------------------------------------------------------------------|------------------:|-----------------:|\n",
       "| Per-child phase-in  |          5.5 | [3.8](https://policyengine.org/us/policy?reform=49823&baseline=2&time_period=2023&region=enhanced_us&focus=policyOutput.policyBreakdown) |          6   | [4.5](https://policyengine.org/us/policy?reform=49823&baseline=2&time_period=2024&region=enhanced_us&focus=policyOutput.policyBreakdown)  |          5.7 | [4.3](https://policyengine.org/us/policy?reform=49823&baseline=2&time_period=2025&region=enhanced_us&focus=policyOutput.policyBreakdown)  |              17.2 |             12.6 |\n",
       "| Lookback            |          0   | [0.0](https://policyengine.org/us/policy?reform=49855&baseline=2&time_period=2023&region=enhanced_us&focus=policyOutput.policyBreakdown) |          0.8 | [3.2](https://policyengine.org/us/policy?reform=49855&baseline=2&time_period=2024&region=enhanced_us&focus=policyOutput.policyBreakdown)  |          0.7 | [3.8](https://policyengine.org/us/policy?reform=49855&baseline=2&time_period=2025&region=enhanced_us&focus=policyOutput.policyBreakdown)  |               1.5 |              7   |\n",
       "| Refundable increase |          2.7 | [1.5](https://policyengine.org/us/policy?reform=49861&baseline=2&time_period=2023&region=enhanced_us&focus=policyOutput.policyBreakdown) |          2.5 | [2.0](https://policyengine.org/us/policy?reform=49861&baseline=2&time_period=2024&region=enhanced_us&focus=policyOutput.policyBreakdown)  |          3.4 | [2.9](https://policyengine.org/us/policy?reform=49861&baseline=2&time_period=2025&region=enhanced_us&focus=policyOutput.policyBreakdown)  |               8.6 |              6.4 |\n",
       "| Indexing CTC        |          0   | [0.0](https://policyengine.org/us/policy?reform=49862&baseline=2&time_period=2023&region=enhanced_us&focus=policyOutput.policyBreakdown) |          1.4 | [4.8](https://policyengine.org/us/policy?reform=49862&baseline=2&time_period=2024&region=enhanced_us&focus=policyOutput.policyBreakdown)  |          4.7 | [5.7](https://policyengine.org/us/policy?reform=49862&baseline=2&time_period=2025&region=enhanced_us&focus=policyOutput.policyBreakdown)  |               6.1 |             10.5 |\n",
       "| Combined            |          8.2 | [5.3](https://policyengine.org/us/policy?reform=49862&baseline=2&time_period=2023&region=enhanced_us&focus=policyOutput.policyBreakdown) |         10.7 | [14.5](https://policyengine.org/us/policy?reform=49862&baseline=2&time_period=2024&region=enhanced_us&focus=policyOutput.policyBreakdown) |         14.7 | [16.7](https://policyengine.org/us/policy?reform=49862&baseline=2&time_period=2025&region=enhanced_us&focus=policyOutput.policyBreakdown) |              33.6 |             36.5 |"
      ],
      "text/plain": [
       "<IPython.core.display.Markdown object>"
      ]
     },
     "execution_count": 4,
     "metadata": {},
     "output_type": "execute_result"
    }
   ],
   "source": [
    "from IPython.display import Markdown\n",
    "pivot_df = pivot_df.reindex(columns=[\"2023 (JCT)\", \"2023 (PE)\", \"2024 (JCT)\", \"2024 (PE)\", \"2025 (JCT)\", \"2025 (PE)\", \"2023-2025 (JCT)\", \"2023-2025 (PE)\"])\n",
    "\n",
    "Markdown(pivot_df.to_markdown())"
   ]
  }
 ],
 "metadata": {
  "kernelspec": {
   "display_name": "base",
   "language": "python",
   "name": "python3"
  },
  "language_info": {
   "codemirror_mode": {
    "name": "ipython",
    "version": 3
   },
   "file_extension": ".py",
   "mimetype": "text/x-python",
   "name": "python",
   "nbconvert_exporter": "python",
   "pygments_lexer": "ipython3",
   "version": "3.9.12"
  }
 },
 "nbformat": 4,
 "nbformat_minor": 2
}
