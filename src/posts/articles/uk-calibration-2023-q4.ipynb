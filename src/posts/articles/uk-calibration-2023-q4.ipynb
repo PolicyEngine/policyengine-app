{
 "cells": [
  {
   "cell_type": "markdown",
   "metadata": {},
   "source": [
    "PolicyEngine's free and open-source microsimulation model estimates the budgetary, distributional and poverty impacts of UK tax and benefit reforms by simulating the full details of policy over a large representative dataset of UK households. In this post, we'll provide a brief overview of how PolicyEngine UK's microsimulation model works, and an update on how we maintain and validate the model's accuracy.\n",
    "\n",
    "## Model overview\n",
    "\n",
    "PolicyEngine UK is a *static* microsimulation model- it does not (yet) incorporate behavioural responses like labour supply reactions to policy changes. Instead, we assume that households do not change their behaviour in response to policy changes, and that the only way that policy changes affect households is through their direct effects on household incomes.\n",
    "\n",
    "To estimate the direct effects of policy changes, we apply the actual policy rules as specified in legislation to each of a large (tens of thousands) survey of UK households. We can then change the rules, and see how the totals of different variables change. For example, we could change the personal tax allowance from £12,570 to £15,000 and aggregate the tax payments before and after the policy change to estimate how much more tax is collected from the households in our survey.\n",
    "\n",
    "The model is written in Python, and you can follow all of our real-time development [on GitHub](https://github.com/PolicyEngine/PolicyEngine-UK). Other models exists maintained by other organisations which use the same microsimulation approach: the IFS' TAXBEN, UKMOD at the University of Essex, and, the IPPR model, and internal models at HMRC and DWP. However, only PolicyEngine UK and UKMOD publish their policy implementation details and validation statistics.\n",
    "\n",
    "## How PolicyEngine differs from other models\n",
    "\n",
    "PolicyEngine's core approach to estimate policy impacts is the same as other static microsimulation models. However, we use a novel data science-based approach to improve the accuracy of the model's outputs significantly compared to other models (where we have been able to compare).\n",
    "\n",
    "Microsimulation models are widely used by researchers to estimate policy impacts (questions for which we don't know the answer). But when we attempt to validate the models by asking them questions for which we do know the answer (for example, total Income Tax revenue in 2021), we often find that the model answers are significantly different from the ground truth. This problem is large and *exists in every microsimulation model that publishes details of attempts to measure it*.\n",
    "\n",
    "Assuming that the policy implementations in the model are correct (while the law is complex and we cannot test every possible household, we publish and meet hundreds of automated tests on every version update), the most likely explanation for this is that the model's survey data is not representative of the population: the model's outputs are only as good as the data that we feed into it.\n",
    "\n",
    "We have adopted an approach to reduce this problem by using machine learning techniques to improve the survey's accuracy by using data from other trusted sources: OBR, HMRC, DWP, ONS and others. We essentially do the following:\n",
    "\n",
    "1. Take the initial survey data\n",
    "2. Add synthetic households (using other microdata) and previous-year households with zero weight\n",
    "3. Collect trusted external statistics describing tax-benefit and demographic properties of the UK\n",
    "4. Train a machine learning model adjust the weights of the survey to best fit those external statistics\n",
    "\n",
    "The resulting weighted survey powers PolicyEngine's impact estimates.\n",
    "\n",
    "## Validation\n",
    "\n",
    "PolicyEngine meets tax-benefit and demographic totals closely, and estimates program impacts over a five-year horizon. For example, the chart below shows our projections for three key benefits: Child Benefit, Housing Benefit and Universal Credit.\n",
    "\n",
    "*Figure 1: PolicyEngine UK's projections for three key benefits*"
   ]
  },
  {
   "cell_type": "code",
   "execution_count": 1,
   "metadata": {},
   "outputs": [
    {
     "data": {
      "application/vnd.plotly.v1+json": {
       "config": {
        "plotlyServerURL": "https://plot.ly"
       },
       "data": [
        {
         "alignmentgroup": "True",
         "hovertemplate": "time_period=2023<br>name=%{x}<br>value=%{y}<br>text=%{text}<extra></extra>",
         "legendgroup": "2023",
         "marker": {
          "color": "rgb(208, 225, 242)",
          "pattern": {
           "shape": ""
          }
         },
         "name": "2023",
         "offsetgroup": "2023",
         "orientation": "v",
         "showlegend": true,
         "text": [
          "13",
          "14",
          "51"
         ],
         "textposition": "auto",
         "type": "bar",
         "x": [
          "Child Benefit budgetary impact (UK)",
          "Housing Benefit budgetary impact (GB)",
          "Universal Credit budgetary impact (GB)"
         ],
         "xaxis": "x",
         "y": [
          13383145472,
          13913753600,
          50906255360
         ],
         "yaxis": "y"
        },
        {
         "alignmentgroup": "True",
         "hovertemplate": "time_period=2024<br>name=%{x}<br>value=%{y}<br>text=%{text}<extra></extra>",
         "legendgroup": "2024",
         "marker": {
          "color": "rgb(148, 196, 223)",
          "pattern": {
           "shape": ""
          }
         },
         "name": "2024",
         "offsetgroup": "2024",
         "orientation": "v",
         "showlegend": true,
         "text": [
          "14",
          "14",
          "60"
         ],
         "textposition": "auto",
         "type": "bar",
         "x": [
          "Child Benefit budgetary impact (UK)",
          "Housing Benefit budgetary impact (GB)",
          "Universal Credit budgetary impact (GB)"
         ],
         "xaxis": "x",
         "y": [
          13624675328,
          14093811712,
          60263690240
         ],
         "yaxis": "y"
        },
        {
         "alignmentgroup": "True",
         "hovertemplate": "time_period=2025<br>name=%{x}<br>value=%{y}<br>text=%{text}<extra></extra>",
         "legendgroup": "2025",
         "marker": {
          "color": "rgb(74, 152, 201)",
          "pattern": {
           "shape": ""
          }
         },
         "name": "2025",
         "offsetgroup": "2025",
         "orientation": "v",
         "showlegend": true,
         "text": [
          "13",
          "12",
          "74"
         ],
         "textposition": "auto",
         "type": "bar",
         "x": [
          "Child Benefit budgetary impact (UK)",
          "Housing Benefit budgetary impact (GB)",
          "Universal Credit budgetary impact (GB)"
         ],
         "xaxis": "x",
         "y": [
          13181886464,
          11833491456,
          74151739392
         ],
         "yaxis": "y"
        },
        {
         "alignmentgroup": "True",
         "hovertemplate": "time_period=2026<br>name=%{x}<br>value=%{y}<br>text=%{text}<extra></extra>",
         "legendgroup": "2026",
         "marker": {
          "color": "rgb(23, 100, 171)",
          "pattern": {
           "shape": ""
          }
         },
         "name": "2026",
         "offsetgroup": "2026",
         "orientation": "v",
         "showlegend": true,
         "text": [
          "13",
          "11",
          "85"
         ],
         "textposition": "auto",
         "type": "bar",
         "x": [
          "Child Benefit budgetary impact (UK)",
          "Housing Benefit budgetary impact (GB)",
          "Universal Credit budgetary impact (GB)"
         ],
         "xaxis": "x",
         "y": [
          12733571072,
          10747688960,
          84828307456
         ],
         "yaxis": "y"
        },
        {
         "alignmentgroup": "True",
         "hovertemplate": "time_period=2027<br>name=%{x}<br>value=%{y}<br>text=%{text}<extra></extra>",
         "legendgroup": "2027",
         "marker": {
          "color": "rgb(8, 48, 107)",
          "pattern": {
           "shape": ""
          }
         },
         "name": "2027",
         "offsetgroup": "2027",
         "orientation": "v",
         "showlegend": true,
         "text": [
          "13",
          "11",
          "85"
         ],
         "textposition": "auto",
         "type": "bar",
         "x": [
          "Child Benefit budgetary impact (UK)",
          "Housing Benefit budgetary impact (GB)",
          "Universal Credit budgetary impact (GB)"
         ],
         "xaxis": "x",
         "y": [
          12897866752,
          11162318848,
          84850057216
         ],
         "yaxis": "y"
        }
       ],
       "layout": {
        "barmode": "group",
        "font": {
         "color": "black",
         "family": "Roboto Serif"
        },
        "height": 600,
        "images": [
         {
          "sizex": 0.2,
          "sizey": 0.2,
          "source": "https://raw.githubusercontent.com/PolicyEngine/policyengine-app/master/src/images/logos/policyengine/blue.png",
          "x": 1,
          "xanchor": "right",
          "xref": "paper",
          "y": -0.15,
          "yanchor": "bottom",
          "yref": "paper"
         }
        ],
        "legend": {
         "title": {
          "text": "Calendar year"
         },
         "tracegroupgap": 0
        },
        "margin": {
         "t": 60
        },
        "modebar": {
         "bgcolor": "rgba(0,0,0,0)",
         "color": "rgba(0,0,0,0)"
        },
        "template": {
         "data": {
          "bar": [
           {
            "error_x": {
             "color": "#2a3f5f"
            },
            "error_y": {
             "color": "#2a3f5f"
            },
            "marker": {
             "line": {
              "color": "white",
              "width": 0.5
             },
             "pattern": {
              "fillmode": "overlay",
              "size": 10,
              "solidity": 0.2
             }
            },
            "type": "bar"
           }
          ],
          "barpolar": [
           {
            "marker": {
             "line": {
              "color": "white",
              "width": 0.5
             },
             "pattern": {
              "fillmode": "overlay",
              "size": 10,
              "solidity": 0.2
             }
            },
            "type": "barpolar"
           }
          ],
          "carpet": [
           {
            "aaxis": {
             "endlinecolor": "#2a3f5f",
             "gridcolor": "#C8D4E3",
             "linecolor": "#C8D4E3",
             "minorgridcolor": "#C8D4E3",
             "startlinecolor": "#2a3f5f"
            },
            "baxis": {
             "endlinecolor": "#2a3f5f",
             "gridcolor": "#C8D4E3",
             "linecolor": "#C8D4E3",
             "minorgridcolor": "#C8D4E3",
             "startlinecolor": "#2a3f5f"
            },
            "type": "carpet"
           }
          ],
          "choropleth": [
           {
            "colorbar": {
             "outlinewidth": 0,
             "ticks": ""
            },
            "type": "choropleth"
           }
          ],
          "contour": [
           {
            "colorbar": {
             "outlinewidth": 0,
             "ticks": ""
            },
            "colorscale": [
             [
              0,
              "#0d0887"
             ],
             [
              0.1111111111111111,
              "#46039f"
             ],
             [
              0.2222222222222222,
              "#7201a8"
             ],
             [
              0.3333333333333333,
              "#9c179e"
             ],
             [
              0.4444444444444444,
              "#bd3786"
             ],
             [
              0.5555555555555556,
              "#d8576b"
             ],
             [
              0.6666666666666666,
              "#ed7953"
             ],
             [
              0.7777777777777778,
              "#fb9f3a"
             ],
             [
              0.8888888888888888,
              "#fdca26"
             ],
             [
              1,
              "#f0f921"
             ]
            ],
            "type": "contour"
           }
          ],
          "contourcarpet": [
           {
            "colorbar": {
             "outlinewidth": 0,
             "ticks": ""
            },
            "type": "contourcarpet"
           }
          ],
          "heatmap": [
           {
            "colorbar": {
             "outlinewidth": 0,
             "ticks": ""
            },
            "colorscale": [
             [
              0,
              "#0d0887"
             ],
             [
              0.1111111111111111,
              "#46039f"
             ],
             [
              0.2222222222222222,
              "#7201a8"
             ],
             [
              0.3333333333333333,
              "#9c179e"
             ],
             [
              0.4444444444444444,
              "#bd3786"
             ],
             [
              0.5555555555555556,
              "#d8576b"
             ],
             [
              0.6666666666666666,
              "#ed7953"
             ],
             [
              0.7777777777777778,
              "#fb9f3a"
             ],
             [
              0.8888888888888888,
              "#fdca26"
             ],
             [
              1,
              "#f0f921"
             ]
            ],
            "type": "heatmap"
           }
          ],
          "heatmapgl": [
           {
            "colorbar": {
             "outlinewidth": 0,
             "ticks": ""
            },
            "colorscale": [
             [
              0,
              "#0d0887"
             ],
             [
              0.1111111111111111,
              "#46039f"
             ],
             [
              0.2222222222222222,
              "#7201a8"
             ],
             [
              0.3333333333333333,
              "#9c179e"
             ],
             [
              0.4444444444444444,
              "#bd3786"
             ],
             [
              0.5555555555555556,
              "#d8576b"
             ],
             [
              0.6666666666666666,
              "#ed7953"
             ],
             [
              0.7777777777777778,
              "#fb9f3a"
             ],
             [
              0.8888888888888888,
              "#fdca26"
             ],
             [
              1,
              "#f0f921"
             ]
            ],
            "type": "heatmapgl"
           }
          ],
          "histogram": [
           {
            "marker": {
             "pattern": {
              "fillmode": "overlay",
              "size": 10,
              "solidity": 0.2
             }
            },
            "type": "histogram"
           }
          ],
          "histogram2d": [
           {
            "colorbar": {
             "outlinewidth": 0,
             "ticks": ""
            },
            "colorscale": [
             [
              0,
              "#0d0887"
             ],
             [
              0.1111111111111111,
              "#46039f"
             ],
             [
              0.2222222222222222,
              "#7201a8"
             ],
             [
              0.3333333333333333,
              "#9c179e"
             ],
             [
              0.4444444444444444,
              "#bd3786"
             ],
             [
              0.5555555555555556,
              "#d8576b"
             ],
             [
              0.6666666666666666,
              "#ed7953"
             ],
             [
              0.7777777777777778,
              "#fb9f3a"
             ],
             [
              0.8888888888888888,
              "#fdca26"
             ],
             [
              1,
              "#f0f921"
             ]
            ],
            "type": "histogram2d"
           }
          ],
          "histogram2dcontour": [
           {
            "colorbar": {
             "outlinewidth": 0,
             "ticks": ""
            },
            "colorscale": [
             [
              0,
              "#0d0887"
             ],
             [
              0.1111111111111111,
              "#46039f"
             ],
             [
              0.2222222222222222,
              "#7201a8"
             ],
             [
              0.3333333333333333,
              "#9c179e"
             ],
             [
              0.4444444444444444,
              "#bd3786"
             ],
             [
              0.5555555555555556,
              "#d8576b"
             ],
             [
              0.6666666666666666,
              "#ed7953"
             ],
             [
              0.7777777777777778,
              "#fb9f3a"
             ],
             [
              0.8888888888888888,
              "#fdca26"
             ],
             [
              1,
              "#f0f921"
             ]
            ],
            "type": "histogram2dcontour"
           }
          ],
          "mesh3d": [
           {
            "colorbar": {
             "outlinewidth": 0,
             "ticks": ""
            },
            "type": "mesh3d"
           }
          ],
          "parcoords": [
           {
            "line": {
             "colorbar": {
              "outlinewidth": 0,
              "ticks": ""
             }
            },
            "type": "parcoords"
           }
          ],
          "pie": [
           {
            "automargin": true,
            "type": "pie"
           }
          ],
          "scatter": [
           {
            "fillpattern": {
             "fillmode": "overlay",
             "size": 10,
             "solidity": 0.2
            },
            "type": "scatter"
           }
          ],
          "scatter3d": [
           {
            "line": {
             "colorbar": {
              "outlinewidth": 0,
              "ticks": ""
             }
            },
            "marker": {
             "colorbar": {
              "outlinewidth": 0,
              "ticks": ""
             }
            },
            "type": "scatter3d"
           }
          ],
          "scattercarpet": [
           {
            "marker": {
             "colorbar": {
              "outlinewidth": 0,
              "ticks": ""
             }
            },
            "type": "scattercarpet"
           }
          ],
          "scattergeo": [
           {
            "marker": {
             "colorbar": {
              "outlinewidth": 0,
              "ticks": ""
             }
            },
            "type": "scattergeo"
           }
          ],
          "scattergl": [
           {
            "marker": {
             "colorbar": {
              "outlinewidth": 0,
              "ticks": ""
             }
            },
            "type": "scattergl"
           }
          ],
          "scattermapbox": [
           {
            "marker": {
             "colorbar": {
              "outlinewidth": 0,
              "ticks": ""
             }
            },
            "type": "scattermapbox"
           }
          ],
          "scatterpolar": [
           {
            "marker": {
             "colorbar": {
              "outlinewidth": 0,
              "ticks": ""
             }
            },
            "type": "scatterpolar"
           }
          ],
          "scatterpolargl": [
           {
            "marker": {
             "colorbar": {
              "outlinewidth": 0,
              "ticks": ""
             }
            },
            "type": "scatterpolargl"
           }
          ],
          "scatterternary": [
           {
            "marker": {
             "colorbar": {
              "outlinewidth": 0,
              "ticks": ""
             }
            },
            "type": "scatterternary"
           }
          ],
          "surface": [
           {
            "colorbar": {
             "outlinewidth": 0,
             "ticks": ""
            },
            "colorscale": [
             [
              0,
              "#0d0887"
             ],
             [
              0.1111111111111111,
              "#46039f"
             ],
             [
              0.2222222222222222,
              "#7201a8"
             ],
             [
              0.3333333333333333,
              "#9c179e"
             ],
             [
              0.4444444444444444,
              "#bd3786"
             ],
             [
              0.5555555555555556,
              "#d8576b"
             ],
             [
              0.6666666666666666,
              "#ed7953"
             ],
             [
              0.7777777777777778,
              "#fb9f3a"
             ],
             [
              0.8888888888888888,
              "#fdca26"
             ],
             [
              1,
              "#f0f921"
             ]
            ],
            "type": "surface"
           }
          ],
          "table": [
           {
            "cells": {
             "fill": {
              "color": "#EBF0F8"
             },
             "line": {
              "color": "white"
             }
            },
            "header": {
             "fill": {
              "color": "#C8D4E3"
             },
             "line": {
              "color": "white"
             }
            },
            "type": "table"
           }
          ]
         },
         "layout": {
          "annotationdefaults": {
           "arrowcolor": "#2a3f5f",
           "arrowhead": 0,
           "arrowwidth": 1
          },
          "autotypenumbers": "strict",
          "coloraxis": {
           "colorbar": {
            "outlinewidth": 0,
            "ticks": ""
           }
          },
          "colorscale": {
           "diverging": [
            [
             0,
             "#8e0152"
            ],
            [
             0.1,
             "#c51b7d"
            ],
            [
             0.2,
             "#de77ae"
            ],
            [
             0.3,
             "#f1b6da"
            ],
            [
             0.4,
             "#fde0ef"
            ],
            [
             0.5,
             "#f7f7f7"
            ],
            [
             0.6,
             "#e6f5d0"
            ],
            [
             0.7,
             "#b8e186"
            ],
            [
             0.8,
             "#7fbc41"
            ],
            [
             0.9,
             "#4d9221"
            ],
            [
             1,
             "#276419"
            ]
           ],
           "sequential": [
            [
             0,
             "#0d0887"
            ],
            [
             0.1111111111111111,
             "#46039f"
            ],
            [
             0.2222222222222222,
             "#7201a8"
            ],
            [
             0.3333333333333333,
             "#9c179e"
            ],
            [
             0.4444444444444444,
             "#bd3786"
            ],
            [
             0.5555555555555556,
             "#d8576b"
            ],
            [
             0.6666666666666666,
             "#ed7953"
            ],
            [
             0.7777777777777778,
             "#fb9f3a"
            ],
            [
             0.8888888888888888,
             "#fdca26"
            ],
            [
             1,
             "#f0f921"
            ]
           ],
           "sequentialminus": [
            [
             0,
             "#0d0887"
            ],
            [
             0.1111111111111111,
             "#46039f"
            ],
            [
             0.2222222222222222,
             "#7201a8"
            ],
            [
             0.3333333333333333,
             "#9c179e"
            ],
            [
             0.4444444444444444,
             "#bd3786"
            ],
            [
             0.5555555555555556,
             "#d8576b"
            ],
            [
             0.6666666666666666,
             "#ed7953"
            ],
            [
             0.7777777777777778,
             "#fb9f3a"
            ],
            [
             0.8888888888888888,
             "#fdca26"
            ],
            [
             1,
             "#f0f921"
            ]
           ]
          },
          "colorway": [
           "#636efa",
           "#EF553B",
           "#00cc96",
           "#ab63fa",
           "#FFA15A",
           "#19d3f3",
           "#FF6692",
           "#B6E880",
           "#FF97FF",
           "#FECB52"
          ],
          "font": {
           "color": "#2a3f5f"
          },
          "geo": {
           "bgcolor": "white",
           "lakecolor": "white",
           "landcolor": "white",
           "showlakes": true,
           "showland": true,
           "subunitcolor": "#C8D4E3"
          },
          "hoverlabel": {
           "align": "left"
          },
          "hovermode": "closest",
          "mapbox": {
           "style": "light"
          },
          "paper_bgcolor": "white",
          "plot_bgcolor": "white",
          "polar": {
           "angularaxis": {
            "gridcolor": "#EBF0F8",
            "linecolor": "#EBF0F8",
            "ticks": ""
           },
           "bgcolor": "white",
           "radialaxis": {
            "gridcolor": "#EBF0F8",
            "linecolor": "#EBF0F8",
            "ticks": ""
           }
          },
          "scene": {
           "xaxis": {
            "backgroundcolor": "white",
            "gridcolor": "#DFE8F3",
            "gridwidth": 2,
            "linecolor": "#EBF0F8",
            "showbackground": true,
            "ticks": "",
            "zerolinecolor": "#EBF0F8"
           },
           "yaxis": {
            "backgroundcolor": "white",
            "gridcolor": "#DFE8F3",
            "gridwidth": 2,
            "linecolor": "#EBF0F8",
            "showbackground": true,
            "ticks": "",
            "zerolinecolor": "#EBF0F8"
           },
           "zaxis": {
            "backgroundcolor": "white",
            "gridcolor": "#DFE8F3",
            "gridwidth": 2,
            "linecolor": "#EBF0F8",
            "showbackground": true,
            "ticks": "",
            "zerolinecolor": "#EBF0F8"
           }
          },
          "shapedefaults": {
           "line": {
            "color": "#2a3f5f"
           }
          },
          "ternary": {
           "aaxis": {
            "gridcolor": "#DFE8F3",
            "linecolor": "#A2B1C6",
            "ticks": ""
           },
           "baxis": {
            "gridcolor": "#DFE8F3",
            "linecolor": "#A2B1C6",
            "ticks": ""
           },
           "bgcolor": "white",
           "caxis": {
            "gridcolor": "#DFE8F3",
            "linecolor": "#A2B1C6",
            "ticks": ""
           }
          },
          "title": {
           "x": 0.05
          },
          "xaxis": {
           "automargin": true,
           "gridcolor": "#EBF0F8",
           "linecolor": "#EBF0F8",
           "ticks": "",
           "title": {
            "standoff": 15
           },
           "zerolinecolor": "#EBF0F8",
           "zerolinewidth": 2
          },
          "yaxis": {
           "automargin": true,
           "gridcolor": "#EBF0F8",
           "linecolor": "#EBF0F8",
           "ticks": "",
           "title": {
            "standoff": 15
           },
           "zerolinecolor": "#EBF0F8",
           "zerolinewidth": 2
          }
         }
        },
        "width": 800,
        "xaxis": {
         "anchor": "y",
         "domain": [
          0,
          1
         ],
         "ticktext": [
          "Child Benefit",
          "Housing Benefit",
          "Universal Credit"
         ],
         "tickvals": [
          "Child Benefit budgetary impact (UK)",
          "Housing Benefit budgetary impact (GB)",
          "Universal Credit budgetary impact (GB)"
         ],
         "title": {
          "text": ""
         }
        },
        "yaxis": {
         "anchor": "x",
         "domain": [
          0,
          1
         ],
         "title": {
          "text": "Budgetary impact (£)"
         }
        }
       }
      }
     },
     "metadata": {},
     "output_type": "display_data"
    }
   ],
   "source": [
    "import pandas as pd\n",
    "import plotly.express as px\n",
    "from policyengine_core.charts import *\n",
    "from plotly.express.colors import sample_colorscale\n",
    "\n",
    "training_log_cps = pd.read_csv(\n",
    "    \"/Users/nikhil/policyengine/policyengine-uk/calibration_log_cps.csv.gz\"\n",
    ")\n",
    "\n",
    "chosen_metrics = [\n",
    "    \"Child Benefit budgetary impact (UK)\",\n",
    "    \"Housing Benefit budgetary impact (GB)\",\n",
    "    \"Universal Credit budgetary impact (GB)\",\n",
    "]\n",
    "\n",
    "training_log_cps[\"Source dataset\"] = \"Enhanced FRS\"\n",
    "\n",
    "training_log = training_log_cps\n",
    "training_log_targets = training_log.copy()\n",
    "training_log_targets[\"value\"] = training_log_targets[\"target\"]\n",
    "training_log_targets[\"Source dataset\"] = \"Official\"\n",
    "training_log = pd.concat([training_log, training_log_targets])\n",
    "\n",
    "last_value_df = (\n",
    "    training_log[training_log.name.isin(chosen_metrics)]\n",
    "    .groupby([\"Source dataset\", \"time_period\", \"name\"])\n",
    "    .last()\n",
    "    .reset_index()[[\"name\", \"value\", \"Source dataset\", \"time_period\"]]\n",
    ")\n",
    "\n",
    "x = np.linspace(0.2, 1, 5)\n",
    "c = sample_colorscale(\"Blues\", list(x))\n",
    "\n",
    "last_value_df[\"time_period\"] = last_value_df.time_period.astype(str)\n",
    "last_value_df[\"text\"] = last_value_df[\"value\"].apply(lambda x: f\"{x/1e9:,.0f}\")\n",
    "fig = px.bar(\n",
    "    last_value_df[last_value_df[\"Source dataset\"] == \"Enhanced FRS\"],\n",
    "    y=\"value\",\n",
    "    color=\"time_period\",\n",
    "    x=\"name\",\n",
    "    barmode=\"group\",\n",
    "    text=\"text\",\n",
    ")\n",
    "\n",
    "fig = format_fig(fig)\n",
    "\n",
    "for i in range(len(fig.data)):\n",
    "    fig.data[i].marker.color = c[i]\n",
    "\n",
    "fig.update_layout(\n",
    "    legend_title=\"Calendar year\",\n",
    "    xaxis_tickvals=chosen_metrics,\n",
    "    xaxis_ticktext=[\"Child Benefit\", \"Housing Benefit\", \"Universal Credit\"],\n",
    "    xaxis_title=\"\",\n",
    "    yaxis_title=\"Budgetary impact (£)\",\n",
    ")"
   ]
  },
  {
   "cell_type": "markdown",
   "metadata": {},
   "source": [
    "But how does PolicyEngine align with the best estimates of the ground truth? We can compare PolicyEngine's estimates with two other sources to estimate how our data enhancement approach performs: the original survey data, and official statistics and projections from government. Shown below is, for each calendar year in the budget horizon, how the relative errors in tax-benefit-related statistical targets become better or worse. Over 80% of these targets improve.\n",
    "\n",
    "*Figure 2: Relative errors in tax-benefit-related statistical targets over the budget horizon*"
   ]
  },
  {
   "cell_type": "code",
   "execution_count": 2,
   "metadata": {},
   "outputs": [
    {
     "data": {
      "application/vnd.plotly.v1+json": {
       "config": {
        "plotlyServerURL": "https://plot.ly"
       },
       "data": [
        {
         "alignmentgroup": "True",
         "hovertemplate": "decile=0.1<br>time_period=%{x}<br>rel_error_abs_change=%{y}<br>text=%{text}<extra></extra>",
         "legendgroup": "0.1",
         "marker": {
          "color": "rgb(208, 225, 242)",
          "pattern": {
           "shape": ""
          }
         },
         "name": "0.1",
         "offsetgroup": "0.1",
         "orientation": "v",
         "showlegend": true,
         "text": [
          "-97%",
          "-97%",
          "-96%",
          "-95%",
          "-95%"
         ],
         "textposition": "auto",
         "type": "bar",
         "x": [
          2023,
          2024,
          2025,
          2026,
          2027
         ],
         "xaxis": "x",
         "y": [
          -0.967161295679655,
          -0.9665338614596114,
          -0.9614765266017463,
          -0.9494102637212299,
          -0.9492514722153143
         ],
         "yaxis": "y"
        },
        {
         "alignmentgroup": "True",
         "hovertemplate": "decile=0.2<br>time_period=%{x}<br>rel_error_abs_change=%{y}<br>text=%{text}<extra></extra>",
         "legendgroup": "0.2",
         "marker": {
          "color": "rgb(186, 214, 235)",
          "pattern": {
           "shape": ""
          }
         },
         "name": "0.2",
         "offsetgroup": "0.2",
         "orientation": "v",
         "showlegend": true,
         "text": [
          "-90%",
          "-93%",
          "-88%",
          "-89%",
          "-88%"
         ],
         "textposition": "auto",
         "type": "bar",
         "x": [
          2023,
          2024,
          2025,
          2026,
          2027
         ],
         "xaxis": "x",
         "y": [
          -0.9043447421673796,
          -0.9337532953599778,
          -0.8847304521490373,
          -0.8896093752424434,
          -0.8792145712751785
         ],
         "yaxis": "y"
        },
        {
         "alignmentgroup": "True",
         "hovertemplate": "decile=0.3<br>time_period=%{x}<br>rel_error_abs_change=%{y}<br>text=%{text}<extra></extra>",
         "legendgroup": "0.3",
         "marker": {
          "color": "rgb(157, 201, 225)",
          "pattern": {
           "shape": ""
          }
         },
         "name": "0.3",
         "offsetgroup": "0.3",
         "orientation": "v",
         "showlegend": true,
         "text": [
          "-81%",
          "-87%",
          "-81%",
          "-73%",
          "-74%"
         ],
         "textposition": "auto",
         "type": "bar",
         "x": [
          2023,
          2024,
          2025,
          2026,
          2027
         ],
         "xaxis": "x",
         "y": [
          -0.8110603644944836,
          -0.8738339683905142,
          -0.81124316954283,
          -0.7349765689564652,
          -0.740099859529137
         ],
         "yaxis": "y"
        },
        {
         "alignmentgroup": "True",
         "hovertemplate": "decile=0.4<br>time_period=%{x}<br>rel_error_abs_change=%{y}<br>text=%{text}<extra></extra>",
         "legendgroup": "0.4",
         "marker": {
          "color": "rgb(121, 181, 217)",
          "pattern": {
           "shape": ""
          }
         },
         "name": "0.4",
         "offsetgroup": "0.4",
         "orientation": "v",
         "showlegend": true,
         "text": [
          "-69%",
          "-73%",
          "-62%",
          "-60%",
          "-61%"
         ],
         "textposition": "auto",
         "type": "bar",
         "x": [
          2023,
          2024,
          2025,
          2026,
          2027
         ],
         "xaxis": "x",
         "y": [
          -0.6867712887373829,
          -0.7276712410620164,
          -0.6183807519887554,
          -0.5967738509121482,
          -0.6136852889015592
         ],
         "yaxis": "y"
        },
        {
         "alignmentgroup": "True",
         "hovertemplate": "decile=0.5<br>time_period=%{x}<br>rel_error_abs_change=%{y}<br>text=%{text}<extra></extra>",
         "legendgroup": "0.5",
         "marker": {
          "color": "rgb(89, 162, 207)",
          "pattern": {
           "shape": ""
          }
         },
         "name": "0.5",
         "offsetgroup": "0.5",
         "orientation": "v",
         "showlegend": true,
         "text": [
          "-53%",
          "-49%",
          "-42%",
          "-46%",
          "-46%"
         ],
         "textposition": "auto",
         "type": "bar",
         "x": [
          2023,
          2024,
          2025,
          2026,
          2027
         ],
         "xaxis": "x",
         "y": [
          -0.532507788089771,
          -0.48792520537155004,
          -0.4234084965363902,
          -0.456630710766908,
          -0.4570276610369267
         ],
         "yaxis": "y"
        },
        {
         "alignmentgroup": "True",
         "hovertemplate": "decile=0.6<br>time_period=%{x}<br>rel_error_abs_change=%{y}<br>text=%{text}<extra></extra>",
         "legendgroup": "0.6",
         "marker": {
          "color": "rgb(61, 141, 195)",
          "pattern": {
           "shape": ""
          }
         },
         "name": "0.6",
         "offsetgroup": "0.6",
         "orientation": "v",
         "showlegend": true,
         "text": [
          "-31%",
          "-35%",
          "-23%",
          "-15%",
          "-28%"
         ],
         "textposition": "auto",
         "type": "bar",
         "x": [
          2023,
          2024,
          2025,
          2026,
          2027
         ],
         "xaxis": "x",
         "y": [
          -0.30926114209345007,
          -0.351501400264333,
          -0.22566637202479098,
          -0.15250959815339463,
          -0.27905846896201036
         ],
         "yaxis": "y"
        },
        {
         "alignmentgroup": "True",
         "hovertemplate": "decile=0.7<br>time_period=%{x}<br>rel_error_abs_change=%{y}<br>text=%{text}<extra></extra>",
         "legendgroup": "0.7",
         "marker": {
          "color": "rgb(37, 117, 183)",
          "pattern": {
           "shape": ""
          }
         },
         "name": "0.7",
         "offsetgroup": "0.7",
         "orientation": "v",
         "showlegend": true,
         "text": [
          "-7%",
          "-9%",
          "+16%",
          "+15%",
          "+2%"
         ],
         "textposition": "auto",
         "type": "bar",
         "x": [
          2023,
          2024,
          2025,
          2026,
          2027
         ],
         "xaxis": "x",
         "y": [
          -0.07258991422363714,
          -0.09278470931922089,
          0.16282420521911092,
          0.15342919085323034,
          0.023917597681361376
         ],
         "yaxis": "y"
        },
        {
         "alignmentgroup": "True",
         "hovertemplate": "decile=0.8<br>time_period=%{x}<br>rel_error_abs_change=%{y}<br>text=%{text}<extra></extra>",
         "legendgroup": "0.8",
         "marker": {
          "color": "rgb(19, 95, 167)",
          "pattern": {
           "shape": ""
          }
         },
         "name": "0.8",
         "offsetgroup": "0.8",
         "orientation": "v",
         "showlegend": true,
         "text": [
          "+40%",
          "+35%",
          "+80%",
          "+75%",
          "+58%"
         ],
         "textposition": "auto",
         "type": "bar",
         "x": [
          2023,
          2024,
          2025,
          2026,
          2027
         ],
         "xaxis": "x",
         "y": [
          0.4000869790054718,
          0.3468064382617247,
          0.7978370276367839,
          0.7524222196862302,
          0.5756495132681535
         ],
         "yaxis": "y"
        },
        {
         "alignmentgroup": "True",
         "hovertemplate": "decile=0.9<br>time_period=%{x}<br>rel_error_abs_change=%{y}<br>text=%{text}<extra></extra>",
         "legendgroup": "0.9",
         "marker": {
          "color": "rgb(8, 71, 142)",
          "pattern": {
           "shape": ""
          }
         },
         "name": "0.9",
         "offsetgroup": "0.9",
         "orientation": "v",
         "showlegend": true,
         "text": [
          "+145%",
          "+139%",
          "+205%",
          "+190%",
          "+154%"
         ],
         "textposition": "auto",
         "type": "bar",
         "x": [
          2023,
          2024,
          2025,
          2026,
          2027
         ],
         "xaxis": "x",
         "y": [
          1.454125352347277,
          1.3895231672651769,
          2.0456083047397895,
          1.9031989913182896,
          1.535294585914649
         ],
         "yaxis": "y"
        }
       ],
       "layout": {
        "barmode": "group",
        "font": {
         "color": "black",
         "family": "Roboto Serif"
        },
        "height": 600,
        "images": [
         {
          "sizex": 0.2,
          "sizey": 0.2,
          "source": "https://raw.githubusercontent.com/PolicyEngine/policyengine-app/master/src/images/logos/policyengine/blue.png",
          "x": 1,
          "xanchor": "right",
          "xref": "paper",
          "y": -0.15,
          "yanchor": "bottom",
          "yref": "paper"
         }
        ],
        "legend": {
         "title": {
          "text": "Quantile"
         },
         "tracegroupgap": 0
        },
        "margin": {
         "t": 60
        },
        "modebar": {
         "bgcolor": "rgba(0,0,0,0)",
         "color": "rgba(0,0,0,0)"
        },
        "template": {
         "data": {
          "bar": [
           {
            "error_x": {
             "color": "#2a3f5f"
            },
            "error_y": {
             "color": "#2a3f5f"
            },
            "marker": {
             "line": {
              "color": "white",
              "width": 0.5
             },
             "pattern": {
              "fillmode": "overlay",
              "size": 10,
              "solidity": 0.2
             }
            },
            "type": "bar"
           }
          ],
          "barpolar": [
           {
            "marker": {
             "line": {
              "color": "white",
              "width": 0.5
             },
             "pattern": {
              "fillmode": "overlay",
              "size": 10,
              "solidity": 0.2
             }
            },
            "type": "barpolar"
           }
          ],
          "carpet": [
           {
            "aaxis": {
             "endlinecolor": "#2a3f5f",
             "gridcolor": "#C8D4E3",
             "linecolor": "#C8D4E3",
             "minorgridcolor": "#C8D4E3",
             "startlinecolor": "#2a3f5f"
            },
            "baxis": {
             "endlinecolor": "#2a3f5f",
             "gridcolor": "#C8D4E3",
             "linecolor": "#C8D4E3",
             "minorgridcolor": "#C8D4E3",
             "startlinecolor": "#2a3f5f"
            },
            "type": "carpet"
           }
          ],
          "choropleth": [
           {
            "colorbar": {
             "outlinewidth": 0,
             "ticks": ""
            },
            "type": "choropleth"
           }
          ],
          "contour": [
           {
            "colorbar": {
             "outlinewidth": 0,
             "ticks": ""
            },
            "colorscale": [
             [
              0,
              "#0d0887"
             ],
             [
              0.1111111111111111,
              "#46039f"
             ],
             [
              0.2222222222222222,
              "#7201a8"
             ],
             [
              0.3333333333333333,
              "#9c179e"
             ],
             [
              0.4444444444444444,
              "#bd3786"
             ],
             [
              0.5555555555555556,
              "#d8576b"
             ],
             [
              0.6666666666666666,
              "#ed7953"
             ],
             [
              0.7777777777777778,
              "#fb9f3a"
             ],
             [
              0.8888888888888888,
              "#fdca26"
             ],
             [
              1,
              "#f0f921"
             ]
            ],
            "type": "contour"
           }
          ],
          "contourcarpet": [
           {
            "colorbar": {
             "outlinewidth": 0,
             "ticks": ""
            },
            "type": "contourcarpet"
           }
          ],
          "heatmap": [
           {
            "colorbar": {
             "outlinewidth": 0,
             "ticks": ""
            },
            "colorscale": [
             [
              0,
              "#0d0887"
             ],
             [
              0.1111111111111111,
              "#46039f"
             ],
             [
              0.2222222222222222,
              "#7201a8"
             ],
             [
              0.3333333333333333,
              "#9c179e"
             ],
             [
              0.4444444444444444,
              "#bd3786"
             ],
             [
              0.5555555555555556,
              "#d8576b"
             ],
             [
              0.6666666666666666,
              "#ed7953"
             ],
             [
              0.7777777777777778,
              "#fb9f3a"
             ],
             [
              0.8888888888888888,
              "#fdca26"
             ],
             [
              1,
              "#f0f921"
             ]
            ],
            "type": "heatmap"
           }
          ],
          "heatmapgl": [
           {
            "colorbar": {
             "outlinewidth": 0,
             "ticks": ""
            },
            "colorscale": [
             [
              0,
              "#0d0887"
             ],
             [
              0.1111111111111111,
              "#46039f"
             ],
             [
              0.2222222222222222,
              "#7201a8"
             ],
             [
              0.3333333333333333,
              "#9c179e"
             ],
             [
              0.4444444444444444,
              "#bd3786"
             ],
             [
              0.5555555555555556,
              "#d8576b"
             ],
             [
              0.6666666666666666,
              "#ed7953"
             ],
             [
              0.7777777777777778,
              "#fb9f3a"
             ],
             [
              0.8888888888888888,
              "#fdca26"
             ],
             [
              1,
              "#f0f921"
             ]
            ],
            "type": "heatmapgl"
           }
          ],
          "histogram": [
           {
            "marker": {
             "pattern": {
              "fillmode": "overlay",
              "size": 10,
              "solidity": 0.2
             }
            },
            "type": "histogram"
           }
          ],
          "histogram2d": [
           {
            "colorbar": {
             "outlinewidth": 0,
             "ticks": ""
            },
            "colorscale": [
             [
              0,
              "#0d0887"
             ],
             [
              0.1111111111111111,
              "#46039f"
             ],
             [
              0.2222222222222222,
              "#7201a8"
             ],
             [
              0.3333333333333333,
              "#9c179e"
             ],
             [
              0.4444444444444444,
              "#bd3786"
             ],
             [
              0.5555555555555556,
              "#d8576b"
             ],
             [
              0.6666666666666666,
              "#ed7953"
             ],
             [
              0.7777777777777778,
              "#fb9f3a"
             ],
             [
              0.8888888888888888,
              "#fdca26"
             ],
             [
              1,
              "#f0f921"
             ]
            ],
            "type": "histogram2d"
           }
          ],
          "histogram2dcontour": [
           {
            "colorbar": {
             "outlinewidth": 0,
             "ticks": ""
            },
            "colorscale": [
             [
              0,
              "#0d0887"
             ],
             [
              0.1111111111111111,
              "#46039f"
             ],
             [
              0.2222222222222222,
              "#7201a8"
             ],
             [
              0.3333333333333333,
              "#9c179e"
             ],
             [
              0.4444444444444444,
              "#bd3786"
             ],
             [
              0.5555555555555556,
              "#d8576b"
             ],
             [
              0.6666666666666666,
              "#ed7953"
             ],
             [
              0.7777777777777778,
              "#fb9f3a"
             ],
             [
              0.8888888888888888,
              "#fdca26"
             ],
             [
              1,
              "#f0f921"
             ]
            ],
            "type": "histogram2dcontour"
           }
          ],
          "mesh3d": [
           {
            "colorbar": {
             "outlinewidth": 0,
             "ticks": ""
            },
            "type": "mesh3d"
           }
          ],
          "parcoords": [
           {
            "line": {
             "colorbar": {
              "outlinewidth": 0,
              "ticks": ""
             }
            },
            "type": "parcoords"
           }
          ],
          "pie": [
           {
            "automargin": true,
            "type": "pie"
           }
          ],
          "scatter": [
           {
            "fillpattern": {
             "fillmode": "overlay",
             "size": 10,
             "solidity": 0.2
            },
            "type": "scatter"
           }
          ],
          "scatter3d": [
           {
            "line": {
             "colorbar": {
              "outlinewidth": 0,
              "ticks": ""
             }
            },
            "marker": {
             "colorbar": {
              "outlinewidth": 0,
              "ticks": ""
             }
            },
            "type": "scatter3d"
           }
          ],
          "scattercarpet": [
           {
            "marker": {
             "colorbar": {
              "outlinewidth": 0,
              "ticks": ""
             }
            },
            "type": "scattercarpet"
           }
          ],
          "scattergeo": [
           {
            "marker": {
             "colorbar": {
              "outlinewidth": 0,
              "ticks": ""
             }
            },
            "type": "scattergeo"
           }
          ],
          "scattergl": [
           {
            "marker": {
             "colorbar": {
              "outlinewidth": 0,
              "ticks": ""
             }
            },
            "type": "scattergl"
           }
          ],
          "scattermapbox": [
           {
            "marker": {
             "colorbar": {
              "outlinewidth": 0,
              "ticks": ""
             }
            },
            "type": "scattermapbox"
           }
          ],
          "scatterpolar": [
           {
            "marker": {
             "colorbar": {
              "outlinewidth": 0,
              "ticks": ""
             }
            },
            "type": "scatterpolar"
           }
          ],
          "scatterpolargl": [
           {
            "marker": {
             "colorbar": {
              "outlinewidth": 0,
              "ticks": ""
             }
            },
            "type": "scatterpolargl"
           }
          ],
          "scatterternary": [
           {
            "marker": {
             "colorbar": {
              "outlinewidth": 0,
              "ticks": ""
             }
            },
            "type": "scatterternary"
           }
          ],
          "surface": [
           {
            "colorbar": {
             "outlinewidth": 0,
             "ticks": ""
            },
            "colorscale": [
             [
              0,
              "#0d0887"
             ],
             [
              0.1111111111111111,
              "#46039f"
             ],
             [
              0.2222222222222222,
              "#7201a8"
             ],
             [
              0.3333333333333333,
              "#9c179e"
             ],
             [
              0.4444444444444444,
              "#bd3786"
             ],
             [
              0.5555555555555556,
              "#d8576b"
             ],
             [
              0.6666666666666666,
              "#ed7953"
             ],
             [
              0.7777777777777778,
              "#fb9f3a"
             ],
             [
              0.8888888888888888,
              "#fdca26"
             ],
             [
              1,
              "#f0f921"
             ]
            ],
            "type": "surface"
           }
          ],
          "table": [
           {
            "cells": {
             "fill": {
              "color": "#EBF0F8"
             },
             "line": {
              "color": "white"
             }
            },
            "header": {
             "fill": {
              "color": "#C8D4E3"
             },
             "line": {
              "color": "white"
             }
            },
            "type": "table"
           }
          ]
         },
         "layout": {
          "annotationdefaults": {
           "arrowcolor": "#2a3f5f",
           "arrowhead": 0,
           "arrowwidth": 1
          },
          "autotypenumbers": "strict",
          "coloraxis": {
           "colorbar": {
            "outlinewidth": 0,
            "ticks": ""
           }
          },
          "colorscale": {
           "diverging": [
            [
             0,
             "#8e0152"
            ],
            [
             0.1,
             "#c51b7d"
            ],
            [
             0.2,
             "#de77ae"
            ],
            [
             0.3,
             "#f1b6da"
            ],
            [
             0.4,
             "#fde0ef"
            ],
            [
             0.5,
             "#f7f7f7"
            ],
            [
             0.6,
             "#e6f5d0"
            ],
            [
             0.7,
             "#b8e186"
            ],
            [
             0.8,
             "#7fbc41"
            ],
            [
             0.9,
             "#4d9221"
            ],
            [
             1,
             "#276419"
            ]
           ],
           "sequential": [
            [
             0,
             "#0d0887"
            ],
            [
             0.1111111111111111,
             "#46039f"
            ],
            [
             0.2222222222222222,
             "#7201a8"
            ],
            [
             0.3333333333333333,
             "#9c179e"
            ],
            [
             0.4444444444444444,
             "#bd3786"
            ],
            [
             0.5555555555555556,
             "#d8576b"
            ],
            [
             0.6666666666666666,
             "#ed7953"
            ],
            [
             0.7777777777777778,
             "#fb9f3a"
            ],
            [
             0.8888888888888888,
             "#fdca26"
            ],
            [
             1,
             "#f0f921"
            ]
           ],
           "sequentialminus": [
            [
             0,
             "#0d0887"
            ],
            [
             0.1111111111111111,
             "#46039f"
            ],
            [
             0.2222222222222222,
             "#7201a8"
            ],
            [
             0.3333333333333333,
             "#9c179e"
            ],
            [
             0.4444444444444444,
             "#bd3786"
            ],
            [
             0.5555555555555556,
             "#d8576b"
            ],
            [
             0.6666666666666666,
             "#ed7953"
            ],
            [
             0.7777777777777778,
             "#fb9f3a"
            ],
            [
             0.8888888888888888,
             "#fdca26"
            ],
            [
             1,
             "#f0f921"
            ]
           ]
          },
          "colorway": [
           "#636efa",
           "#EF553B",
           "#00cc96",
           "#ab63fa",
           "#FFA15A",
           "#19d3f3",
           "#FF6692",
           "#B6E880",
           "#FF97FF",
           "#FECB52"
          ],
          "font": {
           "color": "#2a3f5f"
          },
          "geo": {
           "bgcolor": "white",
           "lakecolor": "white",
           "landcolor": "white",
           "showlakes": true,
           "showland": true,
           "subunitcolor": "#C8D4E3"
          },
          "hoverlabel": {
           "align": "left"
          },
          "hovermode": "closest",
          "mapbox": {
           "style": "light"
          },
          "paper_bgcolor": "white",
          "plot_bgcolor": "white",
          "polar": {
           "angularaxis": {
            "gridcolor": "#EBF0F8",
            "linecolor": "#EBF0F8",
            "ticks": ""
           },
           "bgcolor": "white",
           "radialaxis": {
            "gridcolor": "#EBF0F8",
            "linecolor": "#EBF0F8",
            "ticks": ""
           }
          },
          "scene": {
           "xaxis": {
            "backgroundcolor": "white",
            "gridcolor": "#DFE8F3",
            "gridwidth": 2,
            "linecolor": "#EBF0F8",
            "showbackground": true,
            "ticks": "",
            "zerolinecolor": "#EBF0F8"
           },
           "yaxis": {
            "backgroundcolor": "white",
            "gridcolor": "#DFE8F3",
            "gridwidth": 2,
            "linecolor": "#EBF0F8",
            "showbackground": true,
            "ticks": "",
            "zerolinecolor": "#EBF0F8"
           },
           "zaxis": {
            "backgroundcolor": "white",
            "gridcolor": "#DFE8F3",
            "gridwidth": 2,
            "linecolor": "#EBF0F8",
            "showbackground": true,
            "ticks": "",
            "zerolinecolor": "#EBF0F8"
           }
          },
          "shapedefaults": {
           "line": {
            "color": "#2a3f5f"
           }
          },
          "ternary": {
           "aaxis": {
            "gridcolor": "#DFE8F3",
            "linecolor": "#A2B1C6",
            "ticks": ""
           },
           "baxis": {
            "gridcolor": "#DFE8F3",
            "linecolor": "#A2B1C6",
            "ticks": ""
           },
           "bgcolor": "white",
           "caxis": {
            "gridcolor": "#DFE8F3",
            "linecolor": "#A2B1C6",
            "ticks": ""
           }
          },
          "title": {
           "x": 0.05
          },
          "xaxis": {
           "automargin": true,
           "gridcolor": "#EBF0F8",
           "linecolor": "#EBF0F8",
           "ticks": "",
           "title": {
            "standoff": 15
           },
           "zerolinecolor": "#EBF0F8",
           "zerolinewidth": 2
          },
          "yaxis": {
           "automargin": true,
           "gridcolor": "#EBF0F8",
           "linecolor": "#EBF0F8",
           "ticks": "",
           "title": {
            "standoff": 15
           },
           "zerolinecolor": "#EBF0F8",
           "zerolinewidth": 2
          }
         }
        },
        "uniformtext": {
         "minsize": 8
        },
        "width": 800,
        "xaxis": {
         "anchor": "y",
         "domain": [
          0,
          1
         ],
         "title": {
          "text": "Calendar year"
         }
        },
        "yaxis": {
         "anchor": "x",
         "domain": [
          0,
          1
         ],
         "tickformat": "+.0%",
         "title": {
          "text": "Change in relative error"
         }
        }
       }
      }
     },
     "metadata": {},
     "output_type": "display_data"
    }
   ],
   "source": [
    "# Convert to [name, value, time_period, source]\n",
    "# source: (value at epoch=0 -> \"Original FRS\", value at epoch=last -> \"Enhanced FRS\", target at epoch=0 -> \"Official\")\n",
    "import warnings\n",
    "\n",
    "warnings.filterwarnings(\"ignore\")\n",
    "\n",
    "original_frs_values = (\n",
    "    training_log_cps[training_log_cps.epoch == 0]\n",
    "    .copy()[[\"name\", \"value\", \"time_period\"]]\n",
    "    .sort_values([\"name\", \"time_period\"])\n",
    ")\n",
    "original_frs_values[\"source\"] = \"Original FRS\"\n",
    "\n",
    "enhanced_frs_values = (\n",
    "    training_log_cps[training_log_cps.epoch == training_log_cps.epoch.max()]\n",
    "    .copy()[[\"name\", \"value\", \"time_period\"]]\n",
    "    .sort_values([\"name\", \"time_period\"])\n",
    ")\n",
    "enhanced_frs_values[\"source\"] = \"Enhanced FRS\"\n",
    "\n",
    "official_values = (\n",
    "    training_log_cps[training_log_cps.epoch == 0]\n",
    "    .copy()[[\"name\", \"target\", \"time_period\"]]\n",
    "    .sort_values([\"name\", \"time_period\"])\n",
    ")\n",
    "official_values[\"value\"] = official_values[\"target\"]\n",
    "del official_values[\"target\"]\n",
    "official_values[\"source\"] = \"Official\"\n",
    "\n",
    "enhanced_frs_values[\"error\"] = (\n",
    "    official_values[\"value\"].values - enhanced_frs_values[\"value\"].values\n",
    ")\n",
    "original_frs_values[\"error\"] = (\n",
    "    official_values[\"value\"].values - original_frs_values[\"value\"].values\n",
    ")\n",
    "enhanced_frs_values[\"abs_error\"] = np.abs(enhanced_frs_values[\"error\"].values)\n",
    "original_frs_values[\"abs_error\"] = np.abs(original_frs_values[\"error\"].values)\n",
    "enhanced_frs_values[\"rel_error\"] = (\n",
    "    enhanced_frs_values[\"error\"].values / official_values[\"value\"].values\n",
    ")\n",
    "original_frs_values[\"rel_error\"] = (\n",
    "    original_frs_values[\"error\"].values / official_values[\"value\"].values\n",
    ")\n",
    "enhanced_frs_values[\"rel_error_abs\"] = np.abs(\n",
    "    enhanced_frs_values[\"rel_error\"].values\n",
    ")\n",
    "original_frs_values[\"rel_error_abs\"] = np.abs(\n",
    "    original_frs_values[\"rel_error\"].values\n",
    ")\n",
    "\n",
    "enhanced_frs_values[\"rel_error_original\"] = original_frs_values[\n",
    "    \"rel_error_abs\"\n",
    "].values\n",
    "enhanced_frs_values[\"rel_error_abs_change\"] = (\n",
    "    enhanced_frs_values[\"rel_error_abs\"].values\n",
    "    / original_frs_values[\"rel_error_abs\"].values\n",
    "    - 1\n",
    ")\n",
    "enhanced_frs_values[\"error_abs_change\"] = (\n",
    "    enhanced_frs_values[\"abs_error\"].values\n",
    "    / original_frs_values[\"abs_error\"].values\n",
    "    - 1\n",
    ")\n",
    "\n",
    "df = enhanced_frs_values\n",
    "\n",
    "a = (\n",
    "    df[df.rel_error_original > 0.03]\n",
    "    .groupby(\"time_period\")\n",
    "    .rel_error_abs_change.quantile(\n",
    "        [0.1, 0.2, 0.3, 0.4, 0.5, 0.6, 0.7, 0.8, 0.9]\n",
    "    )\n",
    "    .reset_index()\n",
    ")\n",
    "a.columns = [\"time_period\", \"decile\", \"rel_error_abs_change\"]\n",
    "a[\"decile\"] = a.decile.astype(str)\n",
    "a[\"text\"] = a[\"rel_error_abs_change\"].apply(lambda x: f\"{x:+.0%}\")\n",
    "fig = (\n",
    "    px.bar(\n",
    "        a,\n",
    "        x=\"time_period\",\n",
    "        y=\"rel_error_abs_change\",\n",
    "        color=\"decile\",\n",
    "        barmode=\"group\",\n",
    "        text=\"text\",\n",
    "    )\n",
    "    .update_traces(\n",
    "        # text should always be horizontal\n",
    "        # textangle=0,\n",
    "    )\n",
    "    .update_layout(\n",
    "        uniformtext_minsize=8,\n",
    "    )\n",
    ")\n",
    "\n",
    "x = np.linspace(0.2, 1, 10)\n",
    "c = sample_colorscale(\"Blues\", list(x))\n",
    "\n",
    "fig = format_fig(fig)\n",
    "\n",
    "for i in range(len(fig.data)):\n",
    "    fig.data[i].marker.color = c[i]\n",
    "\n",
    "fig.update_layout(\n",
    "    legend_title=\"Quantile\",\n",
    "    xaxis_title=\"Calendar year\",\n",
    "    yaxis_title=\"Change in relative error\",\n",
    "    yaxis_tickformat=\"+.0%\",\n",
    ")"
   ]
  },
  {
   "cell_type": "markdown",
   "metadata": {},
   "source": [
    "We've also made all our calibration validation results available in an interactive dashboard, which is available on GitHub [here](https://github.com/nikhilwoodruff/policyengine-uk-validation) (screenshot below). We welcome feedback or comments on our approach- feel free to [get in touch](https://policyengine.org/uk/contact).\n",
    "\n",
    "![Figure 3: PolicyEngine UK's calibration validation dashboard](https://github.com/PolicyEngine/policyengine-app/assets/35577657/c4d0e71e-cc6b-4191-aaaa-5970f4ac3cc9)"
   ]
  }
 ],
 "metadata": {
  "kernelspec": {
   "display_name": "base",
   "language": "python",
   "name": "python3"
  },
  "language_info": {
   "codemirror_mode": {
    "name": "ipython",
    "version": 3
   },
   "file_extension": ".py",
   "mimetype": "text/x-python",
   "name": "python",
   "nbconvert_exporter": "python",
   "pygments_lexer": "ipython3",
   "version": "3.9.12"
  }
 },
 "nbformat": 4,
 "nbformat_minor": 2
}
