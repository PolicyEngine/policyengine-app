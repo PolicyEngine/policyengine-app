{
 "cells": [
  {
   "cell_type": "markdown",
   "metadata": {},
   "source": [
    "[*See the full impact score here*](/uk/policy?focus=policyOutput.policyBreakdown&reform=56385&baseline=1&timePeriod=2027&region=uk)\n",
    "\n",
    "Yesterday the Conservative Party proposed a new policy called the \"Triple Lock Plus\" which would prevent pensioners from paying income tax on their state pension. The policy would automatically raise the personal allowance (tax-free threshold) for pensioners each year starting from 2025, ensuring it stays ahead of the state pension amount by indexing with the ‘triple lock’ uprating index. This report analyses the potential costs, distributional impacts, and effects on poverty of the proposal.\n",
    "\n",
    "## Background\n",
    "\n",
    "Currently, the state pension in the UK is protected by the \"triple lock\". This policy dictates that the state pension increases each year by the highest of three measures: average earnings growth, price inflation (CPI), or 2.5%. Under current policy, pensioners may be liable to pay income tax on their state pension in future years if it exceeds the personal allowance, which is currently frozen until 2028.\n",
    "\n",
    "Under the proposed Triple Lock Plus, starting from the 2025/26 tax year, the personal allowance (PA) for pensioners would be automatically raised each year to ensure it remains higher than their state pension.\n",
    "\n",
    "| Year     | New pensioner PA | Current PA |\n",
    "|----------|----------------------|-------------------------|\n",
    "| 2025/26  | £13,040              | £12,570                 |\n",
    "| 2026/27  | £13,370              | £12,570                 |\n",
    "| 2027/28  | £13,710              | £12,570                 |\n",
    "| 2028/29  | £14,060              | £12,820                 |\n",
    "| 2029/30  | £14,450              | £13,080                 |\n",
    "\n",
    "As shown in the table, the pensioner personal allowance is projected to rise from £13,040 in 2025/26 to £14,450 by 2029/30, while the general personal allowance is expected to remain frozen until 2028/29.\n",
    "\n",
    "## Economic impacts\n",
    "\n",
    "PolicyEngine estimates the increasing cost of implementing the Triple Lock Plus through 2025-27:\n",
    "\n",
    "| Year | Cost estimate (£bn) |\n",
    "|------|----------------------|\n",
    "| 2025 | 0.6                  |\n",
    "| 2026 | 1.0                  |\n",
    "| 2027 | 1.3                  |\n",
    "\n",
    "The policy primarily benefits households in the lower and middle income deciles, but middle and higher wealth deciles.\n",
    "\n",
    "![Impact on income deciles](/images/posts/uk-triple-lock-plus/decile_impact.png)\n",
    "\n",
    "PolicyEngine estimates that 12% of the population would benefit (around 8m pensioners).\n",
    "\n",
    "![Percent gaining by income decile](/images/posts/uk-triple-lock-plus/intra_decile_impact.png)\n",
    "\n",
    "The Triple Lock Plus is estimated to reduce the overall poverty rate by 0.4 percentage points (0.1pp) in 2027, with pensioners experiencing the most significant decrease of 2.7 percentage points. The policy has little to no impact on poverty rates among working-age adults and children.\n",
    "\n",
    "![Poverty rate change by age group](/images/posts/uk-triple-lock-plus/poverty_impact.png)\n",
    "\n",
    "## Household impacts\n",
    "\n",
    "For a 70-year-old single pensioner receiving the New State Pension in 2027, the Triple Lock Plus would decrease their annual income tax bill by around £230 if they are a basic rate taxpayer, and around £450 if they pay the higher or additional rates.\n",
    "\n",
    "![Gain by income](/images/posts/uk-triple-lock-plus/earnings.png)\n",
    "\n",
    "## Conclusion\n",
    "\n",
    "The proposed Triple Lock Plus policy achieves the stated policy aim of preventing pensioners from paying Income Tax by virtue of their State Pension alone, with a rising per-year cost reaching £1.3 billion by 2027. Its impact on overall poverty rates and working-age households is limited, with a reduction of only 0.1 percentage points for all groups combined. In 2027, this policy essentially behaves as a transfer of £230 per year to basic rate pensioners, and £450 per year to higher and additional rate pensioners.\n",
    "\n"
   ]
  },
  {
   "cell_type": "code",
   "execution_count": 1,
   "metadata": {},
   "outputs": [
    {
     "ename": "NameError",
     "evalue": "name 'Test' is not defined",
     "output_type": "error",
     "traceback": [
      "\u001b[0;31m---------------------------------------------------------------------------\u001b[0m",
      "\u001b[0;31mNameError\u001b[0m                                 Traceback (most recent call last)",
      "\u001b[0;32m/var/folders/8f/pgfhysmd5ls3jnxb_5j7yy340000gn/T/ipykernel_84864/579046729.py\u001b[0m in \u001b[0;36m<cell line: 1>\u001b[0;34m()\u001b[0m\n\u001b[0;32m----> 1\u001b[0;31m \u001b[0mTest\u001b[0m\u001b[0;34m\u001b[0m\u001b[0;34m\u001b[0m\u001b[0m\n\u001b[0m",
      "\u001b[0;31mNameError\u001b[0m: name 'Test' is not defined"
     ]
    }
   ],
   "source": [
    "Test"
   ]
  }
 ],
 "metadata": {
  "kernelspec": {
   "display_name": "base",
   "language": "python",
   "name": "python3"
  },
  "language_info": {
   "codemirror_mode": {
    "name": "ipython",
    "version": 3
   },
   "file_extension": ".py",
   "mimetype": "text/x-python",
   "name": "python",
   "nbconvert_exporter": "python",
   "pygments_lexer": "ipython3",
   "version": "3.9.12"
  }
 },
 "nbformat": 4,
 "nbformat_minor": 2
}
