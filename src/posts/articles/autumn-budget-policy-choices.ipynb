{
 "cells": [
  {
   "cell_type": "markdown",
   "metadata": {},
   "source": [
    "*Image credit: The Labour Party*\n",
    "\n",
    "*See the full impact estimate for 2025 [here](https://policyengine.org/uk/policy?reform=68829&focus=policyOutput.policyBreakdown&region=uk&timePeriod=2025&baseline=1).*\n",
    "\n",
    "\n",
    "## Key findings\n",
    "\n",
    "\n",
    "\n",
    "1. PolicyEngine estimates that four reported tax reforms to Income Tax, National Insurance, Capital Gains Tax and VAT would raise £23 billion in FY2025.\n",
    "2. Our model estimates that these reforms would be progressive, reducing income inequality by 0.6%, and have no significant impact on the government’s absolute before-housing-costs poverty rate.\n",
    "\n",
    "\n",
    "## Background\n",
    "\n",
    "On 30th October, the Chancellor Rachel Reeves will announce proposals for the UK’s tax and spending decisions (and any changes to them) over the next five years in the first Autumn Budget of the new Labour government. [Media](https://www.bbc.co.uk/news/articles/cdxl1zd07l1o) [reports](https://www.theguardian.com/uk-news/2024/oct/17/budget-2024-uk-tax-raises-rachel-reeves) expect these decisions to include both existing manifesto commitments (VAT on private school fees and non-dom tax reform) as well as reforms not included in Labour’s last election manifesto (employer National Insurance and Capital Gains Tax reform).\n",
    "\n",
    "In this report, we outline PolicyEngine’s estimates of the household sector impacts of each of these four most reported-on policy reforms, and their combined impact if all are announced together.\n",
    "\n",
    "\n",
    "## Policy choices\n",
    "\n",
    "\n",
    "### Tax avoidance\n",
    "\n",
    "Labour says [in their manifesto](https://labour.org.uk/change/labours-fiscal-plan/) they would ‘close non-dom tax loopholes’ and ‘close the carried interest tax loophole’ as well as invest in reducing tax avoidance. They said this would raise on average £5.9 billion each year over the parliament in their manifesto. The impact of this reform on households is highly uncertain: as an approximation, we represent this as a tax on earnings over £100,000.\n",
    "\n",
    "\n",
    "### Private school VAT\n",
    "\n",
    "In their manifesto, Labour also committed to levying VAT (as well as business rates) on private school fees from FY2025. We estimate this raises around £1.5 billion per year, assuming no behavioural responses, mostly from higher-income deciles. Read more detail about the policy in our recently-published report [here](https://policyengine.org/uk/research/school-vat).\n",
    "\n",
    "\n",
    "### Employer NICs\n",
    "\n",
    "The UK government is [reportedly](https://www.bbc.co.uk/news/articles/cly4leklk3qo) considering raising National Insurance Contributions (NICs) for employers, by levying NICs on employers' contributions to workers’ pensions. Currently employers pay 13.8% tax on earnings above around £9,500. We use a behavioural model that assumes 40% employee wage incidence, 30% consumer incidence and 30% capital incidence in the first year, rising to 70% employee wage incidence and 15% consumer-capital incidence by the fifth.\n",
    "\n",
    "\n",
    "### Capital Gains Tax\n",
    "\n",
    "Robert Peston of ITV [reports](https://x.com/Peston/status/1847000929913983451) that the Chancellor will raise the higher and additional rate of capital gains from 20% to 24%, raising ‘a few billion’. \n",
    "\n",
    "We impute capital gains to households in our microdata using administrative data published in CAGE Working Paper no. 465, Capital Gains and UK Inequality (Advani &Arun Advani, Andy Summers, 2020) ([here](https://warwick.ac.uk/fac/soc/economics/research/centres/cage/manage/publications/wp465.2020.pdf)). We assume an elasticity of capital gains with respect to the marginal tax rate on capital gains income of -0.5.[^1]\n",
    "\n",
    "\n",
    "## Economic impacts\n",
    "\n",
    "PolicyEngine [estimates](https://policyengine.org/uk/policy?reform=68829&focus=policyOutput.policyBreakdown&region=uk&timePeriod=2025&baseline=1) that these reforms combined would raise £25 billion per year over five years, with over half of the revenue impact from the employer NICs reform. The table below summarises these reforms’ impacts over the budget window (with the behavioural responses as stated previously).\n",
    "\n",
    "\n",
    "| Year | 2025 | 2026 | 2027 | 2028 | 2029 | 2025-29 |\n",
    "|------|------|------|------|------|------|---------|\n",
    "| Levy employer pension NICs | 14.1 | 13.8 | 13.2 | 12.6 | 12.9 | 66.6 |\n",
    "| Levy private school VAT | 1.5 | 1.5 | 1.5 | 1.6 | 1.6 | 7.7 |\n",
    "| Raise CGT to 24% | 1.6 | 1.9 | 2.0 | 2.3 | 2.3 | 10.1 |\n",
    "| Reduce tax avoidance | 5.9 | 5.9 | 5.9 | 5.9 | 5.9 | 29.5 |\n",
    "| **Total** | **[23.1](https://policyengine.org/uk/policy?reform=69049&focus=policyOutput.distributionalImpact.incomeDecile.relative&region=uk&timePeriod=2025&baseline=1)** | **23.1** | **22.6** | **22.4** | **22.7** | **113.9** |\n",
    "\n",
    "\n",
    "\n",
    "\n",
    "[^1]: We will publish an in-depth report detailing our methodology (see our open-source implementation here) in future."
   ]
  },
  {
   "cell_type": "code",
   "execution_count": 2,
   "metadata": {},
   "outputs": [
    {
     "data": {
      "application/vnd.plotly.v1+json": {
       "config": {
        "plotlyServerURL": "https://plot.ly"
       },
       "data": [
        {
         "alignmentgroup": "True",
         "hovertemplate": "Reform=Reduce tax avoidance<br>Decile=%{x}<br>Impact=%{y}<extra></extra>",
         "legendgroup": "Reduce tax avoidance",
         "marker": {
          "color": "#4C78A8",
          "pattern": {
           "shape": ""
          }
         },
         "name": "Reduce tax avoidance",
         "offsetgroup": "Reduce tax avoidance",
         "orientation": "v",
         "showlegend": true,
         "textposition": "auto",
         "type": "bar",
         "x": [
          1,
          2,
          3,
          4,
          5,
          6,
          7,
          8,
          9,
          10
         ],
         "xaxis": "x",
         "y": [
          13012253.120063782,
          822122.3548812866,
          6628.087516784668,
          5718719.044231415,
          11626170.525367737,
          1598769.6617965698,
          14278462.482940674,
          42283001.16581726,
          114404226.20637512,
          5696249498.772247
         ],
         "yaxis": "y"
        },
        {
         "alignmentgroup": "True",
         "hovertemplate": "Reform=Levy private school VAT<br>Decile=%{x}<br>Impact=%{y}<extra></extra>",
         "legendgroup": "Levy private school VAT",
         "marker": {
          "color": "#F58518",
          "pattern": {
           "shape": ""
          }
         },
         "name": "Levy private school VAT",
         "offsetgroup": "Levy private school VAT",
         "orientation": "v",
         "showlegend": true,
         "textposition": "auto",
         "type": "bar",
         "x": [
          1,
          2,
          3,
          4,
          5,
          6,
          7,
          8,
          9,
          10
         ],
         "xaxis": "x",
         "y": [
          34622068.16183472,
          19866349.070915222,
          16637325.785709381,
          63643858.966973305,
          40506401.04219341,
          93347665.88846588,
          94060279.80747223,
          179738760.63454437,
          319683798.96165466,
          635810366.5480957
         ],
         "yaxis": "y"
        },
        {
         "alignmentgroup": "True",
         "hovertemplate": "Reform=Levy employer pension NICs<br>Decile=%{x}<br>Impact=%{y}<extra></extra>",
         "legendgroup": "Levy employer pension NICs",
         "marker": {
          "color": "#E45756",
          "pattern": {
           "shape": ""
          }
         },
         "name": "Levy employer pension NICs",
         "offsetgroup": "Levy employer pension NICs",
         "orientation": "v",
         "showlegend": true,
         "textposition": "auto",
         "type": "bar",
         "x": [
          1,
          2,
          3,
          4,
          5,
          6,
          7,
          8,
          9,
          10
         ],
         "xaxis": "x",
         "y": [
          37566478.3089447,
          258559892.85049438,
          367331760.0690117,
          678500524.290266,
          887692716.7636237,
          1384953057.018219,
          2009641972.6995697,
          2052224977.0562515,
          2791688470.7457275,
          3675937549.9935913
         ],
         "yaxis": "y"
        },
        {
         "alignmentgroup": "True",
         "hovertemplate": "Reform=Raise CGT to 24%<br>Decile=%{x}<br>Impact=%{y}<extra></extra>",
         "legendgroup": "Raise CGT to 24%",
         "marker": {
          "color": "#72B7B2",
          "pattern": {
           "shape": ""
          }
         },
         "name": "Raise CGT to 24%",
         "offsetgroup": "Raise CGT to 24%",
         "orientation": "v",
         "showlegend": true,
         "textposition": "auto",
         "type": "bar",
         "x": [
          1,
          2,
          3,
          4,
          5,
          6,
          7,
          8,
          9,
          10
         ],
         "xaxis": "x",
         "y": [
          447.51342010498047,
          -15.358901977539062,
          -2771.110050201416,
          879251.5545797348,
          -43548.71178197861,
          -81779.86475372314,
          -10952.139694213867,
          -8997.554916381836,
          197159.7639465332,
          1596946268.878601
         ],
         "yaxis": "y"
        }
       ],
       "layout": {
        "annotations": [
         {
          "showarrow": false,
          "text": "0.1",
          "x": 1,
          "y": 85201247.1042633,
          "yshift": 15
         },
         {
          "showarrow": false,
          "text": "0.3",
          "x": 2,
          "y": 279248348.9173889,
          "yshift": 15
         },
         {
          "showarrow": false,
          "text": "0.4",
          "x": 3,
          "y": 383972942.83218765,
          "yshift": 15
         },
         {
          "showarrow": false,
          "text": "0.7",
          "x": 4,
          "y": 748742353.8560505,
          "yshift": 15
         },
         {
          "showarrow": false,
          "text": "0.9",
          "x": 5,
          "y": 939781739.6194029,
          "yshift": 15
         },
         {
          "showarrow": false,
          "text": "1.5",
          "x": 6,
          "y": 1479817712.7037277,
          "yshift": 15
         },
         {
          "showarrow": false,
          "text": "2.1",
          "x": 7,
          "y": 2117969762.8502884,
          "yshift": 15
         },
         {
          "showarrow": false,
          "text": "2.3",
          "x": 8,
          "y": 2274237741.301697,
          "yshift": 15
         },
         {
          "showarrow": false,
          "text": "3.2",
          "x": 9,
          "y": 3225973655.677704,
          "yshift": 15
         },
         {
          "showarrow": false,
          "text": "11.6",
          "x": 10,
          "y": 11604943684.192535,
          "yshift": 15
         }
        ],
        "barmode": "relative",
        "font": {
         "color": "black",
         "family": "Roboto Serif"
        },
        "height": 600,
        "images": [
         {
          "sizex": 0.15,
          "sizey": 0.15,
          "source": "https://raw.githubusercontent.com/PolicyEngine/policyengine-app/master/src/images/logos/policyengine/blue.png",
          "x": 1.1,
          "xanchor": "right",
          "xref": "paper",
          "y": -0.15,
          "yanchor": "bottom",
          "yref": "paper"
         }
        ],
        "legend": {
         "title": {
          "text": "Reform"
         },
         "tracegroupgap": 0
        },
        "margin": {
         "t": 60
        },
        "modebar": {
         "bgcolor": "rgba(0,0,0,0)",
         "color": "rgba(0,0,0,0)"
        },
        "showlegend": true,
        "template": {
         "data": {
          "bar": [
           {
            "error_x": {
             "color": "#2a3f5f"
            },
            "error_y": {
             "color": "#2a3f5f"
            },
            "marker": {
             "line": {
              "color": "white",
              "width": 0.5
             },
             "pattern": {
              "fillmode": "overlay",
              "size": 10,
              "solidity": 0.2
             }
            },
            "type": "bar"
           }
          ],
          "barpolar": [
           {
            "marker": {
             "line": {
              "color": "white",
              "width": 0.5
             },
             "pattern": {
              "fillmode": "overlay",
              "size": 10,
              "solidity": 0.2
             }
            },
            "type": "barpolar"
           }
          ],
          "carpet": [
           {
            "aaxis": {
             "endlinecolor": "#2a3f5f",
             "gridcolor": "#C8D4E3",
             "linecolor": "#C8D4E3",
             "minorgridcolor": "#C8D4E3",
             "startlinecolor": "#2a3f5f"
            },
            "baxis": {
             "endlinecolor": "#2a3f5f",
             "gridcolor": "#C8D4E3",
             "linecolor": "#C8D4E3",
             "minorgridcolor": "#C8D4E3",
             "startlinecolor": "#2a3f5f"
            },
            "type": "carpet"
           }
          ],
          "choropleth": [
           {
            "colorbar": {
             "outlinewidth": 0,
             "ticks": ""
            },
            "type": "choropleth"
           }
          ],
          "contour": [
           {
            "colorbar": {
             "outlinewidth": 0,
             "ticks": ""
            },
            "colorscale": [
             [
              0,
              "#0d0887"
             ],
             [
              0.1111111111111111,
              "#46039f"
             ],
             [
              0.2222222222222222,
              "#7201a8"
             ],
             [
              0.3333333333333333,
              "#9c179e"
             ],
             [
              0.4444444444444444,
              "#bd3786"
             ],
             [
              0.5555555555555556,
              "#d8576b"
             ],
             [
              0.6666666666666666,
              "#ed7953"
             ],
             [
              0.7777777777777778,
              "#fb9f3a"
             ],
             [
              0.8888888888888888,
              "#fdca26"
             ],
             [
              1,
              "#f0f921"
             ]
            ],
            "type": "contour"
           }
          ],
          "contourcarpet": [
           {
            "colorbar": {
             "outlinewidth": 0,
             "ticks": ""
            },
            "type": "contourcarpet"
           }
          ],
          "heatmap": [
           {
            "colorbar": {
             "outlinewidth": 0,
             "ticks": ""
            },
            "colorscale": [
             [
              0,
              "#0d0887"
             ],
             [
              0.1111111111111111,
              "#46039f"
             ],
             [
              0.2222222222222222,
              "#7201a8"
             ],
             [
              0.3333333333333333,
              "#9c179e"
             ],
             [
              0.4444444444444444,
              "#bd3786"
             ],
             [
              0.5555555555555556,
              "#d8576b"
             ],
             [
              0.6666666666666666,
              "#ed7953"
             ],
             [
              0.7777777777777778,
              "#fb9f3a"
             ],
             [
              0.8888888888888888,
              "#fdca26"
             ],
             [
              1,
              "#f0f921"
             ]
            ],
            "type": "heatmap"
           }
          ],
          "heatmapgl": [
           {
            "colorbar": {
             "outlinewidth": 0,
             "ticks": ""
            },
            "colorscale": [
             [
              0,
              "#0d0887"
             ],
             [
              0.1111111111111111,
              "#46039f"
             ],
             [
              0.2222222222222222,
              "#7201a8"
             ],
             [
              0.3333333333333333,
              "#9c179e"
             ],
             [
              0.4444444444444444,
              "#bd3786"
             ],
             [
              0.5555555555555556,
              "#d8576b"
             ],
             [
              0.6666666666666666,
              "#ed7953"
             ],
             [
              0.7777777777777778,
              "#fb9f3a"
             ],
             [
              0.8888888888888888,
              "#fdca26"
             ],
             [
              1,
              "#f0f921"
             ]
            ],
            "type": "heatmapgl"
           }
          ],
          "histogram": [
           {
            "marker": {
             "pattern": {
              "fillmode": "overlay",
              "size": 10,
              "solidity": 0.2
             }
            },
            "type": "histogram"
           }
          ],
          "histogram2d": [
           {
            "colorbar": {
             "outlinewidth": 0,
             "ticks": ""
            },
            "colorscale": [
             [
              0,
              "#0d0887"
             ],
             [
              0.1111111111111111,
              "#46039f"
             ],
             [
              0.2222222222222222,
              "#7201a8"
             ],
             [
              0.3333333333333333,
              "#9c179e"
             ],
             [
              0.4444444444444444,
              "#bd3786"
             ],
             [
              0.5555555555555556,
              "#d8576b"
             ],
             [
              0.6666666666666666,
              "#ed7953"
             ],
             [
              0.7777777777777778,
              "#fb9f3a"
             ],
             [
              0.8888888888888888,
              "#fdca26"
             ],
             [
              1,
              "#f0f921"
             ]
            ],
            "type": "histogram2d"
           }
          ],
          "histogram2dcontour": [
           {
            "colorbar": {
             "outlinewidth": 0,
             "ticks": ""
            },
            "colorscale": [
             [
              0,
              "#0d0887"
             ],
             [
              0.1111111111111111,
              "#46039f"
             ],
             [
              0.2222222222222222,
              "#7201a8"
             ],
             [
              0.3333333333333333,
              "#9c179e"
             ],
             [
              0.4444444444444444,
              "#bd3786"
             ],
             [
              0.5555555555555556,
              "#d8576b"
             ],
             [
              0.6666666666666666,
              "#ed7953"
             ],
             [
              0.7777777777777778,
              "#fb9f3a"
             ],
             [
              0.8888888888888888,
              "#fdca26"
             ],
             [
              1,
              "#f0f921"
             ]
            ],
            "type": "histogram2dcontour"
           }
          ],
          "mesh3d": [
           {
            "colorbar": {
             "outlinewidth": 0,
             "ticks": ""
            },
            "type": "mesh3d"
           }
          ],
          "parcoords": [
           {
            "line": {
             "colorbar": {
              "outlinewidth": 0,
              "ticks": ""
             }
            },
            "type": "parcoords"
           }
          ],
          "pie": [
           {
            "automargin": true,
            "type": "pie"
           }
          ],
          "scatter": [
           {
            "fillpattern": {
             "fillmode": "overlay",
             "size": 10,
             "solidity": 0.2
            },
            "type": "scatter"
           }
          ],
          "scatter3d": [
           {
            "line": {
             "colorbar": {
              "outlinewidth": 0,
              "ticks": ""
             }
            },
            "marker": {
             "colorbar": {
              "outlinewidth": 0,
              "ticks": ""
             }
            },
            "type": "scatter3d"
           }
          ],
          "scattercarpet": [
           {
            "marker": {
             "colorbar": {
              "outlinewidth": 0,
              "ticks": ""
             }
            },
            "type": "scattercarpet"
           }
          ],
          "scattergeo": [
           {
            "marker": {
             "colorbar": {
              "outlinewidth": 0,
              "ticks": ""
             }
            },
            "type": "scattergeo"
           }
          ],
          "scattergl": [
           {
            "marker": {
             "colorbar": {
              "outlinewidth": 0,
              "ticks": ""
             }
            },
            "type": "scattergl"
           }
          ],
          "scattermapbox": [
           {
            "marker": {
             "colorbar": {
              "outlinewidth": 0,
              "ticks": ""
             }
            },
            "type": "scattermapbox"
           }
          ],
          "scatterpolar": [
           {
            "marker": {
             "colorbar": {
              "outlinewidth": 0,
              "ticks": ""
             }
            },
            "type": "scatterpolar"
           }
          ],
          "scatterpolargl": [
           {
            "marker": {
             "colorbar": {
              "outlinewidth": 0,
              "ticks": ""
             }
            },
            "type": "scatterpolargl"
           }
          ],
          "scatterternary": [
           {
            "marker": {
             "colorbar": {
              "outlinewidth": 0,
              "ticks": ""
             }
            },
            "type": "scatterternary"
           }
          ],
          "surface": [
           {
            "colorbar": {
             "outlinewidth": 0,
             "ticks": ""
            },
            "colorscale": [
             [
              0,
              "#0d0887"
             ],
             [
              0.1111111111111111,
              "#46039f"
             ],
             [
              0.2222222222222222,
              "#7201a8"
             ],
             [
              0.3333333333333333,
              "#9c179e"
             ],
             [
              0.4444444444444444,
              "#bd3786"
             ],
             [
              0.5555555555555556,
              "#d8576b"
             ],
             [
              0.6666666666666666,
              "#ed7953"
             ],
             [
              0.7777777777777778,
              "#fb9f3a"
             ],
             [
              0.8888888888888888,
              "#fdca26"
             ],
             [
              1,
              "#f0f921"
             ]
            ],
            "type": "surface"
           }
          ],
          "table": [
           {
            "cells": {
             "fill": {
              "color": "#EBF0F8"
             },
             "line": {
              "color": "white"
             }
            },
            "header": {
             "fill": {
              "color": "#C8D4E3"
             },
             "line": {
              "color": "white"
             }
            },
            "type": "table"
           }
          ]
         },
         "layout": {
          "annotationdefaults": {
           "arrowcolor": "#2a3f5f",
           "arrowhead": 0,
           "arrowwidth": 1
          },
          "autotypenumbers": "strict",
          "coloraxis": {
           "colorbar": {
            "outlinewidth": 0,
            "ticks": ""
           }
          },
          "colorscale": {
           "diverging": [
            [
             0,
             "#8e0152"
            ],
            [
             0.1,
             "#c51b7d"
            ],
            [
             0.2,
             "#de77ae"
            ],
            [
             0.3,
             "#f1b6da"
            ],
            [
             0.4,
             "#fde0ef"
            ],
            [
             0.5,
             "#f7f7f7"
            ],
            [
             0.6,
             "#e6f5d0"
            ],
            [
             0.7,
             "#b8e186"
            ],
            [
             0.8,
             "#7fbc41"
            ],
            [
             0.9,
             "#4d9221"
            ],
            [
             1,
             "#276419"
            ]
           ],
           "sequential": [
            [
             0,
             "#0d0887"
            ],
            [
             0.1111111111111111,
             "#46039f"
            ],
            [
             0.2222222222222222,
             "#7201a8"
            ],
            [
             0.3333333333333333,
             "#9c179e"
            ],
            [
             0.4444444444444444,
             "#bd3786"
            ],
            [
             0.5555555555555556,
             "#d8576b"
            ],
            [
             0.6666666666666666,
             "#ed7953"
            ],
            [
             0.7777777777777778,
             "#fb9f3a"
            ],
            [
             0.8888888888888888,
             "#fdca26"
            ],
            [
             1,
             "#f0f921"
            ]
           ],
           "sequentialminus": [
            [
             0,
             "#0d0887"
            ],
            [
             0.1111111111111111,
             "#46039f"
            ],
            [
             0.2222222222222222,
             "#7201a8"
            ],
            [
             0.3333333333333333,
             "#9c179e"
            ],
            [
             0.4444444444444444,
             "#bd3786"
            ],
            [
             0.5555555555555556,
             "#d8576b"
            ],
            [
             0.6666666666666666,
             "#ed7953"
            ],
            [
             0.7777777777777778,
             "#fb9f3a"
            ],
            [
             0.8888888888888888,
             "#fdca26"
            ],
            [
             1,
             "#f0f921"
            ]
           ]
          },
          "colorway": [
           "#636efa",
           "#EF553B",
           "#00cc96",
           "#ab63fa",
           "#FFA15A",
           "#19d3f3",
           "#FF6692",
           "#B6E880",
           "#FF97FF",
           "#FECB52"
          ],
          "font": {
           "color": "#2a3f5f"
          },
          "geo": {
           "bgcolor": "white",
           "lakecolor": "white",
           "landcolor": "white",
           "showlakes": true,
           "showland": true,
           "subunitcolor": "#C8D4E3"
          },
          "hoverlabel": {
           "align": "left"
          },
          "hovermode": "closest",
          "mapbox": {
           "style": "light"
          },
          "paper_bgcolor": "white",
          "plot_bgcolor": "white",
          "polar": {
           "angularaxis": {
            "gridcolor": "#EBF0F8",
            "linecolor": "#EBF0F8",
            "ticks": ""
           },
           "bgcolor": "white",
           "radialaxis": {
            "gridcolor": "#EBF0F8",
            "linecolor": "#EBF0F8",
            "ticks": ""
           }
          },
          "scene": {
           "xaxis": {
            "backgroundcolor": "white",
            "gridcolor": "#DFE8F3",
            "gridwidth": 2,
            "linecolor": "#EBF0F8",
            "showbackground": true,
            "ticks": "",
            "zerolinecolor": "#EBF0F8"
           },
           "yaxis": {
            "backgroundcolor": "white",
            "gridcolor": "#DFE8F3",
            "gridwidth": 2,
            "linecolor": "#EBF0F8",
            "showbackground": true,
            "ticks": "",
            "zerolinecolor": "#EBF0F8"
           },
           "zaxis": {
            "backgroundcolor": "white",
            "gridcolor": "#DFE8F3",
            "gridwidth": 2,
            "linecolor": "#EBF0F8",
            "showbackground": true,
            "ticks": "",
            "zerolinecolor": "#EBF0F8"
           }
          },
          "shapedefaults": {
           "line": {
            "color": "#2a3f5f"
           }
          },
          "ternary": {
           "aaxis": {
            "gridcolor": "#DFE8F3",
            "linecolor": "#A2B1C6",
            "ticks": ""
           },
           "baxis": {
            "gridcolor": "#DFE8F3",
            "linecolor": "#A2B1C6",
            "ticks": ""
           },
           "bgcolor": "white",
           "caxis": {
            "gridcolor": "#DFE8F3",
            "linecolor": "#A2B1C6",
            "ticks": ""
           }
          },
          "title": {
           "x": 0.05
          },
          "xaxis": {
           "automargin": true,
           "gridcolor": "#EBF0F8",
           "linecolor": "#EBF0F8",
           "ticks": "",
           "title": {
            "standoff": 15
           },
           "zerolinecolor": "#EBF0F8",
           "zerolinewidth": 2
          },
          "yaxis": {
           "automargin": true,
           "gridcolor": "#EBF0F8",
           "linecolor": "#EBF0F8",
           "ticks": "",
           "title": {
            "standoff": 15
           },
           "zerolinecolor": "#EBF0F8",
           "zerolinewidth": 2
          }
         }
        },
        "title": {
         "text": "Revenue impact of possible reforms by household income decile"
        },
        "width": 800,
        "xaxis": {
         "anchor": "y",
         "domain": [
          0,
          1
         ],
         "tickvals": [
          1,
          2,
          3,
          4,
          5,
          6,
          7,
          8,
          9,
          10
         ],
         "title": {
          "text": "Income decile"
         }
        },
        "yaxis": {
         "anchor": "x",
         "domain": [
          0,
          1
         ],
         "title": {
          "text": "Change in revenues (£ billion)"
         }
        }
       }
      }
     },
     "metadata": {},
     "output_type": "display_data"
    }
   ],
   "source": [
    "from policyengine_uk import Microsimulation\n",
    "from policyengine_core.reforms import Reform\n",
    "\n",
    "REDUCE_TAX_AVOIDANCE = {\n",
    "    \"gov.contrib.policyengine.budget.high_income_incident_tax_change\": {\n",
    "        \"2025-01-01.2030-12-31\": 5.9,\n",
    "    },\n",
    "}\n",
    "\n",
    "PRIVATE_SCHOOL_VAT = {\n",
    "    \"gov.contrib.labour.private_school_vat\": {\n",
    "        \"2025-01-01.2030-12-31\": 0.2,\n",
    "    }\n",
    "}\n",
    "\n",
    "EMPLOYER_NICS = {\n",
    "    \"gov.contrib.policyengine.employer_ni.exempt_employer_pension_contributions\": {\n",
    "        \"2025-01-01.2030-12-31\": False,\n",
    "    },\n",
    "    \"gov.contrib.policyengine.employer_ni.employee_incidence\": {\n",
    "        \"2025-01-01.2025-12-31\": 0.4,\n",
    "        \"2026-01-01.2026-12-31\": 0.5,\n",
    "        \"2027-01-01.2027-12-31\": 0.6,\n",
    "        \"2028-01-01.2028-12-31\": 0.7,\n",
    "        \"2029-01-01.2030-12-31\": 0.7,\n",
    "    },\n",
    "    \"gov.contrib.policyengine.employer_ni.consumer_incidence\": {\n",
    "        \"2025-01-01.2030-12-31\": 0.5,\n",
    "    },\n",
    "    \"gov.contrib.policyengine.employer_ni.capital_incidence\": {\n",
    "        \"2025-01-01.2030-12-31\": 0.5,\n",
    "    },\n",
    "}\n",
    "\n",
    "CGT = {\n",
    "    \"gov.hmrc.cgt.higher_rate\": {\n",
    "        \"2025-01-01.2030-12-31\": 0.24,\n",
    "    },\n",
    "    \"gov.hmrc.cgt.additional_rate\": {\n",
    "        \"2025-01-01.2030-12-31\": 0.24,\n",
    "    },\n",
    "    \"gov.simulation.capital_gains_responses.elasticity\": {\n",
    "        \"2025-01-01.2030-12-31\": -0.5,\n",
    "    }\n",
    "}\n",
    "\n",
    "baseline = Microsimulation()\n",
    "\n",
    "import pandas as pd\n",
    "\n",
    "decile = baseline.calculate(\"household_income_decile\", 2025).clip(1, 10)\n",
    "\n",
    "reform_labels = [\n",
    "    \"Reduce tax avoidance\",\n",
    "    \"Levy private school VAT\",\n",
    "    \"Levy employer pension NICs\",\n",
    "    \"Raise CGT to 24%\",\n",
    "]\n",
    "\n",
    "reforms = [\n",
    "    REDUCE_TAX_AVOIDANCE,\n",
    "    PRIVATE_SCHOOL_VAT,\n",
    "    EMPLOYER_NICS,\n",
    "    CGT,\n",
    "]\n",
    "\n",
    "df_reform = []\n",
    "df_decile = []\n",
    "df_value = []\n",
    "\n",
    "from tqdm import tqdm\n",
    "\n",
    "baseline_deciles = (\n",
    "    baseline.calculate(\"gov_balance\", 2025).groupby(decile).sum()\n",
    ")\n",
    "last_deciles = None\n",
    "\n",
    "for i in range(len(reforms)):\n",
    "    combined_reform = {}\n",
    "    for j in range(i + 1):\n",
    "        combined_reform.update(reforms[j])\n",
    "\n",
    "    reform = Reform.from_dict(combined_reform)\n",
    "\n",
    "    reformed = Microsimulation(reform=reform)\n",
    "\n",
    "    deciles = (\n",
    "        reformed.calculate(\"gov_balance\", 2025).groupby(decile).sum()\n",
    "    )\n",
    "\n",
    "    if last_deciles is None:\n",
    "        last_deciles = baseline_deciles\n",
    "\n",
    "    decile_change = deciles - last_deciles\n",
    "\n",
    "    last_deciles = deciles\n",
    "\n",
    "    df_reform.extend([reform_labels[i]] * 10)\n",
    "    df_decile.extend(list(range(1, 11)))\n",
    "    df_value.extend(decile_change.values)\n",
    "\n",
    "df = pd.DataFrame(\n",
    "    {\n",
    "        \"Reform\": df_reform,\n",
    "        \"Decile\": df_decile,\n",
    "        \"Impact\": df_value,\n",
    "    }\n",
    ")\n",
    "\n",
    "import plotly.express as px\n",
    "from policyengine_core.charts import format_fig\n",
    "\n",
    "fig = px.bar(\n",
    "    df,\n",
    "    x=\"Decile\",\n",
    "    y=\"Impact\",\n",
    "    color=\"Reform\",\n",
    "    color_discrete_sequence=px.colors.qualitative.T10,\n",
    ").update_layout(\n",
    "    xaxis_title=\"Income decile\",\n",
    "    yaxis_title=\"Change in revenues (£ billion)\",\n",
    "    title=\"Revenue impact of possible reforms by household income decile\",\n",
    "    showlegend=True,\n",
    "    legend_title=\"Reform\",\n",
    "    xaxis_tickvals=list(range(1, 11)),\n",
    ")\n",
    "\n",
    "# Add a label to each bar combination with the total revenue\n",
    "\n",
    "for i in range(1, 11):\n",
    "    fig.add_annotation(\n",
    "        x=i,\n",
    "        y=df[df[\"Decile\"] == i][\"Impact\"].sum(),\n",
    "        text=f\"{df[df['Decile'] == i]['Impact'].sum()/1e9:,.1f}\",\n",
    "        showarrow=False,\n",
    "        # offset down a bit\n",
    "        yshift=15,\n",
    "    )\n",
    "\n",
    "format_fig(fig)"
   ]
  },
  {
   "cell_type": "markdown",
   "metadata": {},
   "source": [
    "The distributional impact is progressive, and we estimate that these reforms would reduce the Gini coefficient of income inequality by 0.6%. Just under half (47%) of the revenue impact comes from the richest income decile (mostly from the reforms other than employer NICs). \n",
    "\n",
    "The Employer NICs reform is mostly flat (as a percentage of income) across the income distribution in FY2025, because of the lower employee incidence. Assuming a higher consumption/capital incidence for this reform creates a more regressive (with respect to income) impact, while assuming a higher employee incidence moves the impact to be progressive along income deciles. The 40/30/30 split in the first year approximately balances these out. The Times [reports](https://www.thetimes.com/uk/politics/article/rachel-reeves-to-protect-public-sector-workers-from-tax-raid-0n25hxkgg) that the Treasury estimates the employer NICs reform would raise £15.4 billion in FY2025 (our estimate is 7% lower).\n",
    "\n",
    "Absolute, before-housing-costs poverty as measured by the government’s Households Below Average Income definition does not change, because none of the reforms except for the wage incidence of employer NICs affect the definition of income used for this metric.\n",
    "\n",
    "\n",
    "## Conclusion\n",
    "\n",
    "PolicyEngine estimates that these four reforms would raise £23 billion per year over the five-year budget window. We also estimate that these would be progressive in that they would reduce the Gini coefficient of income inequality, but that they would not change the government’s central poverty rates on their own.\n",
    "\n",
    "\n",
    "## Appendix: behavioural responses\n",
    "\n",
    "For our estimates of the impacts of reforms to Capital Gains Tax (CGT) and employer National Insurance, we assume that individuals with capital gains respond to changes in their marginal tax rate and employers respond to changes in their tax liability by adjusting employee wages. We do not account for behavioural responses to private school VAT or reduced tax avoidance measures.\n",
    "\n",
    "The table below shows the impact of these behavioural responses on the total five-year revenue impact of each provision, and in total. Overall, we estimate that behavioural responses to these tax reforms would lower the revenue impact by around 25%.\n",
    "\n",
    "\n",
    "| Reform | Static revenue impact | Dynamic revenue impact | Absolute change | Relative change |\n",
    "|--------|---------------------|----------------------|-----------------|-----------------|\n",
    "| Levy employer pension NICs | 90.3 | 66.6 | -23.7 | -26% |\n",
    "| Levy private school VAT | 7.7 | 7.7 | 0 | 0% |\n",
    "| Raise CGT to 24% | 21.5 | 10.1 | -11.4 | -53% |\n",
    "| Reduce tax avoidance | 5.9 | 5.9 | 0 | 0 |\n",
    "| **Total** | **149.0** | **113.9** | **-35.1** | **-24%** |"
   ]
  }
 ],
 "metadata": {
  "kernelspec": {
   "display_name": "base",
   "language": "python",
   "name": "python3"
  },
  "language_info": {
   "codemirror_mode": {
    "name": "ipython",
    "version": 3
   },
   "file_extension": ".py",
   "mimetype": "text/x-python",
   "name": "python",
   "nbconvert_exporter": "python",
   "pygments_lexer": "ipython3",
   "version": "3.10.14"
  }
 },
 "nbformat": 4,
 "nbformat_minor": 2
}
