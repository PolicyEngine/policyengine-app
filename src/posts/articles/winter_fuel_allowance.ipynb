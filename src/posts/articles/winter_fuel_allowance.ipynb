{
 "cells": [
  {
   "cell_type": "markdown",
   "id": "61336949",
   "metadata": {},
   "source": [
    "Proposed reforms include:\n",
    "\n",
    "1. Introduce a transitional period before disenrolling PIP recipients.\n",
    "2. Increase the threshold for Pension Credit.\n",
    "3. Repeal the two-child limit.\n",
    "\n",
    "| Policy reform                       |   2025 |   2026 |   2027 |   2028 |   2029 |   2025-29 |\n",
    "|:-----------------------------|-------:|-------:|-------:|-------:|-------:|----------:|\n",
    "| PIP reform with 6 months TP  |   -3   |    0   |    0   |    0   |    0   |      -3   |\n",
    "| PIP reform with 12 months TP |   -5.5 |    0   |    0   |    0   |    0   |      -5.5 |\n",
    "| PIP reform with 18 months TP |   -5.5 |   -3   |    0   |    0   |    0   |      -8.6 |\n",
    "| Raise PC threshold by £1,000 |   -1.6 |   -1.6 |   -1.6 |   -1.5 |   -1.4 |      -7.8 |\n",
    "| Raise PC threshold by £2,000 |   -3.2 |   -3.3 |   -3.2 |   -3.2 |   -3.1 |     -16   |\n",
    "| Raise PC threshold by £3,000 |   -4.9 |   -4.9 |   -4.9 |   -4.8 |   -4.7 |     -24.1 |\n",
    "| Repeal two-child limit       |   -1.5 |   -1.6 |   -1.7 |   -2   |   -2.1 |      -8.9 |"
   ]
  },
  {
   "cell_type": "code",
   "execution_count": 1,
   "id": "3f17dec4",
   "metadata": {},
   "outputs": [
    {
     "name": "stderr",
     "output_type": "stream",
     "text": [
      "/Users/nikhilwoodruff/policyengine/policyengine-app/.venv/lib/python3.11/site-packages/tqdm/auto.py:21: TqdmWarning: IProgress not found. Please update jupyter and ipywidgets. See https://ipywidgets.readthedocs.io/en/stable/user_install.html\n",
      "  from .autonotebook import tqdm as notebook_tqdm\n"
     ]
    }
   ],
   "source": [
    "from policyengine import Simulation\n",
    "import pandas as pd\n",
    "import plotly.express as px\n",
    "from policyengine.utils.charts import *\n",
    "\n",
    "\n",
    "def get_threshold_change_reform(\n",
    "    threshold_change: float,\n",
    "):\n",
    "    return {\n",
    "        \"gov.dwp.pension_credit.guarantee_credit.minimum_guarantee.SINGLE\": 221.85 + threshold_change / 52,\n",
    "        \"gov.dwp.pension_credit.guarantee_credit.minimum_guarantee.COUPLE\": 338.61 + threshold_change / 52,\n",
    "    }\n",
    "\n",
    "raise_pc_threshold_1k = get_threshold_change_reform(1000)\n",
    "raise_pc_threshold_2k = get_threshold_change_reform(2000)\n",
    "raise_pc_threshold_3k = get_threshold_change_reform(3000)\n",
    "\n",
    "two_child_limit_repeal = {\n",
    "    \"gov.dwp.universal_credit.elements.child.limit.child_count\": 99,\n",
    "    \"gov.dwp.tax_credits.child_tax_credit.limit.child_count\": 99,\n",
    "}\n",
    "\n"
   ]
  },
  {
   "cell_type": "code",
   "execution_count": 2,
   "id": "da3378ef",
   "metadata": {},
   "outputs": [
    {
     "name": "stderr",
     "output_type": "stream",
     "text": [
      "INFO:root:Using Google Cloud Storage for download.\n",
      "WARNING:root:No version specified for policyengine-uk-data-private, enhanced_frs_2022_23.h5. Using latest version: 1.11.5\n",
      "INFO:policyengine.utils.data.caching_google_storage_client:Syncing policyengine-uk-data-private, enhanced_frs_2022_23.h5, 1.11.5 to cache\n",
      "INFO:policyengine.utils.data.simplified_google_storage_client:Downloading policyengine-uk-data-private, enhanced_frs_2022_23.h5\n",
      "INFO:policyengine.utils.data.caching_google_storage_client:Copying downloaded data for policyengine-uk-data-private, enhanced_frs_2022_23.h5 to enhanced_frs_2022_23.h5\n",
      "INFO:root:Using Google Cloud Storage for download.\n",
      "WARNING:root:No version specified for policyengine-uk-data-private, enhanced_frs_2022_23.h5. Using latest version: 1.11.5\n",
      "INFO:policyengine.utils.data.caching_google_storage_client:Syncing policyengine-uk-data-private, enhanced_frs_2022_23.h5, 1.11.5 to cache\n",
      "INFO:policyengine.utils.data.caching_google_storage_client:Cache exists and crc is unchanged for policyengine-uk-data-private, enhanced_frs_2022_23.h5.\n",
      "INFO:policyengine.utils.data.caching_google_storage_client:Copying downloaded data for policyengine-uk-data-private, enhanced_frs_2022_23.h5 to enhanced_frs_2022_23.h5\n",
      "INFO:root:Using Google Cloud Storage for download.\n",
      "WARNING:root:No version specified for policyengine-uk-data-private, enhanced_frs_2022_23.h5. Using latest version: 1.11.5\n",
      "INFO:policyengine.utils.data.caching_google_storage_client:Syncing policyengine-uk-data-private, enhanced_frs_2022_23.h5, 1.11.5 to cache\n",
      "INFO:policyengine.utils.data.caching_google_storage_client:Cache exists and crc is unchanged for policyengine-uk-data-private, enhanced_frs_2022_23.h5.\n",
      "INFO:policyengine.utils.data.caching_google_storage_client:Copying downloaded data for policyengine-uk-data-private, enhanced_frs_2022_23.h5 to enhanced_frs_2022_23.h5\n",
      "INFO:root:Using Google Cloud Storage for download.\n",
      "WARNING:root:No version specified for policyengine-uk-data-private, enhanced_frs_2022_23.h5. Using latest version: 1.11.5\n",
      "INFO:policyengine.utils.data.caching_google_storage_client:Syncing policyengine-uk-data-private, enhanced_frs_2022_23.h5, 1.11.5 to cache\n",
      "INFO:policyengine.utils.data.caching_google_storage_client:Cache exists and crc is unchanged for policyengine-uk-data-private, enhanced_frs_2022_23.h5.\n",
      "INFO:policyengine.utils.data.caching_google_storage_client:Copying downloaded data for policyengine-uk-data-private, enhanced_frs_2022_23.h5 to enhanced_frs_2022_23.h5\n",
      "INFO:root:Using Google Cloud Storage for download.\n",
      "WARNING:root:No version specified for policyengine-uk-data-private, enhanced_frs_2022_23.h5. Using latest version: 1.11.5\n",
      "INFO:policyengine.utils.data.caching_google_storage_client:Syncing policyengine-uk-data-private, enhanced_frs_2022_23.h5, 1.11.5 to cache\n",
      "INFO:policyengine.utils.data.caching_google_storage_client:Cache exists and crc is unchanged for policyengine-uk-data-private, enhanced_frs_2022_23.h5.\n",
      "INFO:policyengine.utils.data.caching_google_storage_client:Copying downloaded data for policyengine-uk-data-private, enhanced_frs_2022_23.h5 to enhanced_frs_2022_23.h5\n",
      "INFO:root:Using Google Cloud Storage for download.\n",
      "WARNING:root:No version specified for policyengine-uk-data-private, enhanced_frs_2022_23.h5. Using latest version: 1.11.5\n",
      "INFO:policyengine.utils.data.caching_google_storage_client:Syncing policyengine-uk-data-private, enhanced_frs_2022_23.h5, 1.11.5 to cache\n",
      "INFO:policyengine.utils.data.caching_google_storage_client:Cache exists and crc is unchanged for policyengine-uk-data-private, enhanced_frs_2022_23.h5.\n",
      "INFO:policyengine.utils.data.caching_google_storage_client:Copying downloaded data for policyengine-uk-data-private, enhanced_frs_2022_23.h5 to enhanced_frs_2022_23.h5\n",
      "INFO:root:Using Google Cloud Storage for download.\n",
      "WARNING:root:No version specified for policyengine-uk-data-private, enhanced_frs_2022_23.h5. Using latest version: 1.11.5\n",
      "INFO:policyengine.utils.data.caching_google_storage_client:Syncing policyengine-uk-data-private, enhanced_frs_2022_23.h5, 1.11.5 to cache\n",
      "INFO:policyengine.utils.data.caching_google_storage_client:Cache exists and crc is unchanged for policyengine-uk-data-private, enhanced_frs_2022_23.h5.\n",
      "INFO:policyengine.utils.data.caching_google_storage_client:Copying downloaded data for policyengine-uk-data-private, enhanced_frs_2022_23.h5 to enhanced_frs_2022_23.h5\n",
      "INFO:root:Using Google Cloud Storage for download.\n",
      "WARNING:root:No version specified for policyengine-uk-data-private, enhanced_frs_2022_23.h5. Using latest version: 1.11.5\n",
      "INFO:policyengine.utils.data.caching_google_storage_client:Syncing policyengine-uk-data-private, enhanced_frs_2022_23.h5, 1.11.5 to cache\n",
      "INFO:policyengine.utils.data.caching_google_storage_client:Cache exists and crc is unchanged for policyengine-uk-data-private, enhanced_frs_2022_23.h5.\n",
      "INFO:policyengine.utils.data.caching_google_storage_client:Copying downloaded data for policyengine-uk-data-private, enhanced_frs_2022_23.h5 to enhanced_frs_2022_23.h5\n"
     ]
    }
   ],
   "source": [
    "def pip_reform(\n",
    "    transitional_protection_months: int = 0,\n",
    ") -> Simulation:\n",
    "    sim = Simulation(\n",
    "        country=\"uk\",\n",
    "        scope=\"macro\",\n",
    "    )\n",
    "    baseline = sim.baseline_simulation\n",
    "    \n",
    "    has_enhanced_level = (baseline.calculate(\"pip_dl_category\").values == \"ENHANCED\")\n",
    "\n",
    "    data = baseline.to_input_dataframe()\n",
    "\n",
    "    SPLIT = 0.7 # SPLIT% of claimants are in the treatment group\n",
    "\n",
    "    import pandas as pd\n",
    "\n",
    "    data_copy_b = data.copy()\n",
    "    data_copy_r = data.copy()\n",
    "\n",
    "    for col in data_copy_r.columns:\n",
    "        if \"_id\" in col:\n",
    "            data_copy_r[col] = data_copy_r[col].apply(lambda x: 1e9 + x)\n",
    "        if \"_weight\" in col:\n",
    "            data_copy_r[col] = data_copy_r[col] * SPLIT\n",
    "\n",
    "    for col in data_copy_b.columns:\n",
    "        if \"_weight\" in col:\n",
    "            data_copy_b[col] = data_copy_b[col] * (1 - SPLIT)\n",
    "\n",
    "    combined_data = pd.concat([data_copy_b, data_copy_r])\n",
    "\n",
    "    sim.baseline_simulation = Simulation(\n",
    "        country=\"uk\",\n",
    "        scope=\"macro\",\n",
    "        data=combined_data,\n",
    "    ).baseline_simulation\n",
    "    sim.reform_simulation = Simulation(\n",
    "        country=\"uk\",\n",
    "        scope=\"macro\",\n",
    "        data=combined_data,\n",
    "    ).baseline_simulation\n",
    "\n",
    "    import numpy as np\n",
    "\n",
    "    for year in range(2025, 2030):\n",
    "        sim.reform_simulation.set_input(\n",
    "            \"pip_dl\",\n",
    "            year,\n",
    "            list(baseline.calculate(\"pip_dl\", year).values) + list(baseline.calculate(\"pip_dl\", year).values * np.where(\n",
    "                has_enhanced_level, 1, max(min((transitional_protection_months / 12) - (year - 2025), 1), 0)\n",
    "            ))\n",
    "        )\n",
    "    return sim\n",
    "\n",
    "simulations = [\n",
    "    Simulation(\n",
    "        country=\"uk\",\n",
    "        scope=\"macro\",\n",
    "        reform=reform\n",
    "    ) for reform in [\n",
    "        raise_pc_threshold_1k,\n",
    "        raise_pc_threshold_2k,\n",
    "        raise_pc_threshold_3k,\n",
    "        two_child_limit_repeal,\n",
    "    ]\n",
    "]\n",
    "\n",
    "for transitional_protection_months in [0, 6, 12, 18]:\n",
    "    simulations.append(\n",
    "        pip_reform(transitional_protection_months)\n",
    "    )"
   ]
  },
  {
   "cell_type": "code",
   "execution_count": 3,
   "id": "b50f1b36",
   "metadata": {},
   "outputs": [],
   "source": [
    "reform_labels = [\n",
    "    \"Raise PC threshold by £1,000\",\n",
    "    \"Raise PC threshold by £2,000\",\n",
    "    \"Raise PC threshold by £3,000\",\n",
    "    \"Repeal two-child limit\",\n",
    "    \"PIP reform with no TP\",\n",
    "    \"PIP reform with 6 months TP\",\n",
    "    \"PIP reform with 12 months TP\",\n",
    "    \"PIP reform with 18 months TP\",\n",
    "]"
   ]
  },
  {
   "cell_type": "code",
   "execution_count": 4,
   "id": "25e3cfce",
   "metadata": {},
   "outputs": [
    {
     "name": "stdout",
     "output_type": "stream",
     "text": [
      "2025\n",
      "2026\n",
      "2027\n",
      "2028\n",
      "2029\n"
     ]
    }
   ],
   "source": [
    "budgetary_impacts = []\n",
    "years = []\n",
    "\n",
    "for year in range(2025, 2030):\n",
    "    print(year)\n",
    "    for sim in simulations:\n",
    "        budgetary_impacts.append(sim.reform_simulation.calculate(\"gov_balance\", year).sum()/1e9 - sim.baseline_simulation.calculate(\"gov_balance\", year).sum()/1e9)\n",
    "        years.append(year)\n"
   ]
  },
  {
   "cell_type": "code",
   "execution_count": 5,
   "id": "48bcde5b",
   "metadata": {},
   "outputs": [],
   "source": [
    "import pandas as pd\n",
    "\n",
    "df = pd.DataFrame({\n",
    "    \"reform\": reform_labels * 5,\n",
    "    \"year\": years,\n",
    "    \"budgetary_impact\": budgetary_impacts,\n",
    "})"
   ]
  },
  {
   "cell_type": "code",
   "execution_count": 6,
   "id": "907952d9",
   "metadata": {},
   "outputs": [],
   "source": [
    "# cols = year, rows=reform, values=budgetary_impact\n",
    "df_pivot = df.pivot_table(\n",
    "    index=\"reform\",\n",
    "    columns=\"year\",\n",
    "    values=\"budgetary_impact\",\n",
    "    aggfunc=\"sum\"\n",
    ").reset_index()"
   ]
  },
  {
   "cell_type": "code",
   "execution_count": 7,
   "id": "0cb41873",
   "metadata": {},
   "outputs": [
    {
     "data": {
      "text/html": [
       "<div>\n",
       "<style scoped>\n",
       "    .dataframe tbody tr th:only-of-type {\n",
       "        vertical-align: middle;\n",
       "    }\n",
       "\n",
       "    .dataframe tbody tr th {\n",
       "        vertical-align: top;\n",
       "    }\n",
       "\n",
       "    .dataframe thead th {\n",
       "        text-align: right;\n",
       "    }\n",
       "</style>\n",
       "<table border=\"1\" class=\"dataframe\">\n",
       "  <thead>\n",
       "    <tr style=\"text-align: right;\">\n",
       "      <th>year</th>\n",
       "      <th>reform</th>\n",
       "      <th>2025</th>\n",
       "      <th>2026</th>\n",
       "      <th>2027</th>\n",
       "      <th>2028</th>\n",
       "      <th>2029</th>\n",
       "    </tr>\n",
       "  </thead>\n",
       "  <tbody>\n",
       "    <tr>\n",
       "      <th>0</th>\n",
       "      <td>PIP reform with 12 months TP</td>\n",
       "      <td>0.0</td>\n",
       "      <td>5.6</td>\n",
       "      <td>5.7</td>\n",
       "      <td>5.9</td>\n",
       "      <td>6.0</td>\n",
       "    </tr>\n",
       "    <tr>\n",
       "      <th>1</th>\n",
       "      <td>PIP reform with 18 months TP</td>\n",
       "      <td>0.0</td>\n",
       "      <td>2.6</td>\n",
       "      <td>5.7</td>\n",
       "      <td>5.9</td>\n",
       "      <td>6.0</td>\n",
       "    </tr>\n",
       "    <tr>\n",
       "      <th>2</th>\n",
       "      <td>PIP reform with 6 months TP</td>\n",
       "      <td>2.6</td>\n",
       "      <td>5.6</td>\n",
       "      <td>5.7</td>\n",
       "      <td>5.9</td>\n",
       "      <td>6.0</td>\n",
       "    </tr>\n",
       "    <tr>\n",
       "      <th>3</th>\n",
       "      <td>PIP reform with no TP</td>\n",
       "      <td>5.5</td>\n",
       "      <td>5.6</td>\n",
       "      <td>5.7</td>\n",
       "      <td>5.9</td>\n",
       "      <td>6.0</td>\n",
       "    </tr>\n",
       "    <tr>\n",
       "      <th>4</th>\n",
       "      <td>Raise PC threshold by £1,000</td>\n",
       "      <td>-1.6</td>\n",
       "      <td>-1.5</td>\n",
       "      <td>-1.4</td>\n",
       "      <td>-1.4</td>\n",
       "      <td>-1.3</td>\n",
       "    </tr>\n",
       "    <tr>\n",
       "      <th>5</th>\n",
       "      <td>Raise PC threshold by £2,000</td>\n",
       "      <td>-3.1</td>\n",
       "      <td>-3.1</td>\n",
       "      <td>-3.0</td>\n",
       "      <td>-2.9</td>\n",
       "      <td>-2.8</td>\n",
       "    </tr>\n",
       "    <tr>\n",
       "      <th>6</th>\n",
       "      <td>Raise PC threshold by £3,000</td>\n",
       "      <td>-4.7</td>\n",
       "      <td>-4.7</td>\n",
       "      <td>-4.6</td>\n",
       "      <td>-4.5</td>\n",
       "      <td>-4.4</td>\n",
       "    </tr>\n",
       "    <tr>\n",
       "      <th>7</th>\n",
       "      <td>Repeal two-child limit</td>\n",
       "      <td>-1.6</td>\n",
       "      <td>-1.7</td>\n",
       "      <td>-1.8</td>\n",
       "      <td>-2.1</td>\n",
       "      <td>-2.2</td>\n",
       "    </tr>\n",
       "  </tbody>\n",
       "</table>\n",
       "</div>"
      ],
      "text/plain": [
       "year                        reform  2025  2026  2027  2028  2029\n",
       "0     PIP reform with 12 months TP   0.0   5.6   5.7   5.9   6.0\n",
       "1     PIP reform with 18 months TP   0.0   2.6   5.7   5.9   6.0\n",
       "2      PIP reform with 6 months TP   2.6   5.6   5.7   5.9   6.0\n",
       "3            PIP reform with no TP   5.5   5.6   5.7   5.9   6.0\n",
       "4     Raise PC threshold by £1,000  -1.6  -1.5  -1.4  -1.4  -1.3\n",
       "5     Raise PC threshold by £2,000  -3.1  -3.1  -3.0  -2.9  -2.8\n",
       "6     Raise PC threshold by £3,000  -4.7  -4.7  -4.6  -4.5  -4.4\n",
       "7           Repeal two-child limit  -1.6  -1.7  -1.8  -2.1  -2.2"
      ]
     },
     "execution_count": 7,
     "metadata": {},
     "output_type": "execute_result"
    }
   ],
   "source": [
    "df_pivot.round(1)"
   ]
  },
  {
   "cell_type": "code",
   "execution_count": 8,
   "id": "c4f41352",
   "metadata": {},
   "outputs": [],
   "source": [
    "df_pivot[:2][df_pivot.columns[1:]] = df_pivot.loc[:2][df_pivot.columns[1:]] - df_pivot.loc[2][df_pivot.columns[1:]]"
   ]
  },
  {
   "cell_type": "code",
   "execution_count": 9,
   "id": "58930b36",
   "metadata": {},
   "outputs": [
    {
     "data": {
      "text/plain": [
       "0.0"
      ]
     },
     "execution_count": 9,
     "metadata": {},
     "output_type": "execute_result"
    }
   ],
   "source": [
    "df_pivot[2025][1]"
   ]
  },
  {
   "cell_type": "code",
   "execution_count": 10,
   "id": "57479d80",
   "metadata": {},
   "outputs": [],
   "source": [
    "for year in range(2025, 2030):\n",
    "    for i in range(3):\n",
    "        df_pivot[year][i] = df_pivot[year][i] - df_pivot[year][3]"
   ]
  },
  {
   "cell_type": "code",
   "execution_count": 11,
   "id": "ad32f2d6",
   "metadata": {},
   "outputs": [],
   "source": [
    "df_pivot.drop(index=3, inplace=True)"
   ]
  },
  {
   "cell_type": "code",
   "execution_count": 12,
   "id": "c630ff91",
   "metadata": {},
   "outputs": [],
   "source": [
    "df_pivot[\"2025-29\"] = df_pivot[[2025, 2026, 2027, 2028, 2029]].sum(axis=1)"
   ]
  },
  {
   "cell_type": "code",
   "execution_count": 13,
   "id": "833856b1",
   "metadata": {},
   "outputs": [
    {
     "name": "stdout",
     "output_type": "stream",
     "text": [
      "| reform                       |   2025 |   2026 |   2027 |   2028 |   2029 |   2025-29 |\n",
      "|:-----------------------------|-------:|-------:|-------:|-------:|-------:|----------:|\n",
      "| PIP reform with 12 months TP |   -5.5 |    0   |    0   |    0   |    0   |      -5.5 |\n",
      "| PIP reform with 18 months TP |   -5.5 |   -3   |    0   |    0   |    0   |      -8.5 |\n",
      "| PIP reform with 6 months TP  |   -2.9 |    0   |    0   |    0   |    0   |      -2.9 |\n",
      "| Raise PC threshold by £1,000 |   -1.6 |   -1.5 |   -1.4 |   -1.4 |   -1.3 |      -7.2 |\n",
      "| Raise PC threshold by £2,000 |   -3.1 |   -3.1 |   -3   |   -2.9 |   -2.8 |     -15   |\n",
      "| Raise PC threshold by £3,000 |   -4.7 |   -4.7 |   -4.6 |   -4.5 |   -4.4 |     -22.8 |\n",
      "| Repeal two-child limit       |   -1.6 |   -1.7 |   -1.8 |   -2.1 |   -2.2 |      -9.4 |\n"
     ]
    }
   ],
   "source": [
    "print(df_pivot.round(1).to_markdown(index=False))"
   ]
  }
 ],
 "metadata": {
  "kernelspec": {
   "display_name": ".venv",
   "language": "python",
   "name": "python3"
  },
  "language_info": {
   "codemirror_mode": {
    "name": "ipython",
    "version": 3
   },
   "file_extension": ".py",
   "mimetype": "text/x-python",
   "name": "python",
   "nbconvert_exporter": "python",
   "pygments_lexer": "ipython3",
   "version": "3.11.11"
  }
 },
 "nbformat": 4,
 "nbformat_minor": 5
}
