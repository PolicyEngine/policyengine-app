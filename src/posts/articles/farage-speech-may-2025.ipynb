{
 "cells": [
  {
   "cell_type": "code",
   "execution_count": 75,
   "id": "c86ae1b1",
   "metadata": {},
   "outputs": [
    {
     "name": "stdout",
     "output_type": "stream",
     "text": [
      "\u001b[2mUsing Python 3.11.11 environment at: /Users/nikhilwoodruff/policyengine/policyengine-app/.venv\u001b[0m\n",
      "Name: policyengine-uk\n",
      "Version: 2.28.1\n",
      "Location: /Users/nikhilwoodruff/policyengine/policyengine-app/.venv/lib/python3.11/site-packages\n",
      "Requires: microdf-python, policyengine-core\n",
      "Required-by: policyengine\n"
     ]
    }
   ],
   "source": [
    "!uv pip show policyengine-uk"
   ]
  },
  {
   "cell_type": "markdown",
   "id": "9cf7ac94",
   "metadata": {},
   "source": [
    "Reform UK leader Nigel Farage today confirmed four tax-benefit policy reforms would be included in the party's manifesto for the next general election in a [speech](https://www.bbc.co.uk/news/articles/c5yx062pvlvo) in central London. The party had previously included three of these reforms in its 2024 general election manifesto, committing to:\n",
    "\n",
    "* Increase the Personal Allowance from £12,570 to £20,000\n",
    "* Increase the higher rate threshold from £50,270 to £70,000\n",
    "* Raise the Marriage Allowance maximum rate from 10% to 25%\n",
    "\n",
    "Today Farage confirmed that the party would include these reforms in the next general election manifesto, alongside a fourth commitment to repeal the two-child benefit cap on Universal Credit and Child Tax Credit payments. In the following sections, we summarise how these policies work today and quantify their impact using PolicyEngine's tax-benefit microsimulation model.\n",
    "\n",
    "_[See how these reforms would affect your household here.](https://policyengine.org/uk/household?reform=85289&focus=intro&region=uk&timePeriod=2025&baseline=1&uk_local_areas_beta=false)_\n",
    "\n",
    "## Current policy\n",
    "\n",
    "### Personal Allowance\n",
    "\n",
    "The government exempts the first £12,570 of an individual's income from income tax, known as the [**Personal Allowance**](https://www.gov.uk/income-tax-rates). The personal allowance is gradually reduced for individuals earning over £100,000, with a complete withdrawal at £125,140. The government has frozen this threshold since 2021, and is scheduled to remain at this level until 2028.\n",
    "\n",
    "### Higher rate threshold\n",
    "\n",
    "The **higher rate threshold** is the income level at which individuals start paying the higher rate of income tax (40%). Currently, this threshold is set at £37,000 (it is added to the Personal Allowance, so the effective threshold is £50,270). The government has frozen this threshold since 2021, and is scheduled to remain at this level until 2028.\n",
    "\n",
    "### Marriage Allowance\n",
    "\n",
    "The [**Marriage Allowance**](https://www.gov.uk/marriage-allowance) permits couples to transfer 10% of any unused personal allowance between spouses when one earns below the Personal Allowance threshold and the other pays the basic rate.\n",
    "\n",
    "### Two-child limit\n",
    "\n",
    "The two-child limit removes the entitlement of children born after April 2017 to Universal Credit and Child Tax Credit child element payments, if they are the third or subsequent child in a family, unless [exceptions](https://www.gov.uk/guidance/child-tax-credit-exceptions-to-the-2-child-limit#overview) apply.\n",
    "\n",
    "## Economic impacts\n",
    "\n",
    "PolicyEngine's model [estimates](https://policyengine.org/uk/policy?reform=85289&focus=policyOutput.budgetaryImpact&region=uk&timePeriod=2025&baseline=1&uk_local_areas_beta=false&simYears=5) that these reforms would cost £75 billion in 2025-26, rising to £78 billion in 2029-30. Over the five-year window from 2025-26 to 2029-30, the total cost of these reforms would be £391 billion. Table 1 below shows the estimated costs of each reform.\n",
    "\n",
    "*Table 1: Estimated revenue impacts of Reform UK's tax-benefit proposals (£ billion)*\n",
    "| Policy                                   |   2025-26 |   2026-27 |   2027-28 |   2028-29 |   2029-30 |   2025-30 |\n",
    "|:-----------------------------------------|-------:|-------:|-------:|-------:|-------:|----------:|\n",
    "| Repeal the two-child limit               |   -1.7 |   -1.8 |   -1.9 |   -2.2 |   -2.3 |      -9.9 |\n",
    "| Raise the Personal Allowance to £20,000  |  -50.7 |  -51.5 |  -52.4 |  -49.1 |  -45.5 |    -249.3 |\n",
    "| Set the higher rate threshold to £70,000 |  -22.2 |  -23.8 |  -25.5 |  -27.2 |  -29.3 |    -128   |\n",
    "| Raise the Marriage Allowance rate to 25% |   -0.7 |   -0.7 |   -0.8 |   -0.8 |   -0.9 |      -3.9 |\n",
    "| Total                                    |  -75.3 |  -77.9 |  -80.5 |  -79.3 |  -78.1 |    -391.1 |\n",
    "\n",
    "\n",
    "We also estimate that these reforms would benefit 82% of people in 2025, increase the Gini coefficient of income inequality by less than 0.1%, and reduce poverty (absolute before housing costs) by 8.6%. The reforms would raise the net incomes of households in the bottom decile by 1.3% and the top decile by 4.2%.\n",
    "\n",
    "```plotly\n",
    "{\"data\":[{\"alignmentgroup\":\"True\",\"hovertemplate\":\"x=%{x}\\u003cbr\\u003ey=%{y}\\u003cbr\\u003etext=%{text}\\u003cextra\\u003e\\u003c\\u002fextra\\u003e\",\"legendgroup\":\"\",\"marker\":{\"color\":\"#2C6496\",\"pattern\":{\"shape\":\"\"}},\"name\":\"\",\"offsetgroup\":\"\",\"orientation\":\"v\",\"showlegend\":false,\"text\":[\"1.3%\",\"3.1%\",\"4.8%\",\"4.2%\",\"4.3%\",\"5.1%\",\"5.4%\",\"5.3%\",\"6.0%\",\"4.2%\"],\"textposition\":\"auto\",\"x\":[0,1,2,3,4,5,6,7,8,9],\"xaxis\":\"x\",\"y\":[0.012648342807095678,0.03132008664442573,0.04759230794458184,0.04246238057867267,0.04266858638634309,0.05059255780943398,0.05389949484255953,0.053063795971100475,0.06013410923690721,0.04171578019282118],\"yaxis\":\"y\",\"type\":\"bar\"}],\"layout\":{\"template\":{\"data\":{\"barpolar\":[{\"marker\":{\"line\":{\"color\":\"white\",\"width\":0.5},\"pattern\":{\"fillmode\":\"overlay\",\"size\":10,\"solidity\":0.2}},\"type\":\"barpolar\"}],\"bar\":[{\"error_x\":{\"color\":\"#2a3f5f\"},\"error_y\":{\"color\":\"#2a3f5f\"},\"marker\":{\"line\":{\"color\":\"white\",\"width\":0.5},\"pattern\":{\"fillmode\":\"overlay\",\"size\":10,\"solidity\":0.2}},\"type\":\"bar\"}],\"carpet\":[{\"aaxis\":{\"endlinecolor\":\"#2a3f5f\",\"gridcolor\":\"#C8D4E3\",\"linecolor\":\"#C8D4E3\",\"minorgridcolor\":\"#C8D4E3\",\"startlinecolor\":\"#2a3f5f\"},\"baxis\":{\"endlinecolor\":\"#2a3f5f\",\"gridcolor\":\"#C8D4E3\",\"linecolor\":\"#C8D4E3\",\"minorgridcolor\":\"#C8D4E3\",\"startlinecolor\":\"#2a3f5f\"},\"type\":\"carpet\"}],\"choropleth\":[{\"colorbar\":{\"outlinewidth\":0,\"ticks\":\"\"},\"type\":\"choropleth\"}],\"contourcarpet\":[{\"colorbar\":{\"outlinewidth\":0,\"ticks\":\"\"},\"type\":\"contourcarpet\"}],\"contour\":[{\"colorbar\":{\"outlinewidth\":0,\"ticks\":\"\"},\"colorscale\":[[0.0,\"#0d0887\"],[0.1111111111111111,\"#46039f\"],[0.2222222222222222,\"#7201a8\"],[0.3333333333333333,\"#9c179e\"],[0.4444444444444444,\"#bd3786\"],[0.5555555555555556,\"#d8576b\"],[0.6666666666666666,\"#ed7953\"],[0.7777777777777778,\"#fb9f3a\"],[0.8888888888888888,\"#fdca26\"],[1.0,\"#f0f921\"]],\"type\":\"contour\"}],\"heatmapgl\":[{\"colorbar\":{\"outlinewidth\":0,\"ticks\":\"\"},\"colorscale\":[[0.0,\"#0d0887\"],[0.1111111111111111,\"#46039f\"],[0.2222222222222222,\"#7201a8\"],[0.3333333333333333,\"#9c179e\"],[0.4444444444444444,\"#bd3786\"],[0.5555555555555556,\"#d8576b\"],[0.6666666666666666,\"#ed7953\"],[0.7777777777777778,\"#fb9f3a\"],[0.8888888888888888,\"#fdca26\"],[1.0,\"#f0f921\"]],\"type\":\"heatmapgl\"}],\"heatmap\":[{\"colorbar\":{\"outlinewidth\":0,\"ticks\":\"\"},\"colorscale\":[[0.0,\"#0d0887\"],[0.1111111111111111,\"#46039f\"],[0.2222222222222222,\"#7201a8\"],[0.3333333333333333,\"#9c179e\"],[0.4444444444444444,\"#bd3786\"],[0.5555555555555556,\"#d8576b\"],[0.6666666666666666,\"#ed7953\"],[0.7777777777777778,\"#fb9f3a\"],[0.8888888888888888,\"#fdca26\"],[1.0,\"#f0f921\"]],\"type\":\"heatmap\"}],\"histogram2dcontour\":[{\"colorbar\":{\"outlinewidth\":0,\"ticks\":\"\"},\"colorscale\":[[0.0,\"#0d0887\"],[0.1111111111111111,\"#46039f\"],[0.2222222222222222,\"#7201a8\"],[0.3333333333333333,\"#9c179e\"],[0.4444444444444444,\"#bd3786\"],[0.5555555555555556,\"#d8576b\"],[0.6666666666666666,\"#ed7953\"],[0.7777777777777778,\"#fb9f3a\"],[0.8888888888888888,\"#fdca26\"],[1.0,\"#f0f921\"]],\"type\":\"histogram2dcontour\"}],\"histogram2d\":[{\"colorbar\":{\"outlinewidth\":0,\"ticks\":\"\"},\"colorscale\":[[0.0,\"#0d0887\"],[0.1111111111111111,\"#46039f\"],[0.2222222222222222,\"#7201a8\"],[0.3333333333333333,\"#9c179e\"],[0.4444444444444444,\"#bd3786\"],[0.5555555555555556,\"#d8576b\"],[0.6666666666666666,\"#ed7953\"],[0.7777777777777778,\"#fb9f3a\"],[0.8888888888888888,\"#fdca26\"],[1.0,\"#f0f921\"]],\"type\":\"histogram2d\"}],\"histogram\":[{\"marker\":{\"pattern\":{\"fillmode\":\"overlay\",\"size\":10,\"solidity\":0.2}},\"type\":\"histogram\"}],\"mesh3d\":[{\"colorbar\":{\"outlinewidth\":0,\"ticks\":\"\"},\"type\":\"mesh3d\"}],\"parcoords\":[{\"line\":{\"colorbar\":{\"outlinewidth\":0,\"ticks\":\"\"}},\"type\":\"parcoords\"}],\"pie\":[{\"automargin\":true,\"type\":\"pie\"}],\"scatter3d\":[{\"line\":{\"colorbar\":{\"outlinewidth\":0,\"ticks\":\"\"}},\"marker\":{\"colorbar\":{\"outlinewidth\":0,\"ticks\":\"\"}},\"type\":\"scatter3d\"}],\"scattercarpet\":[{\"marker\":{\"colorbar\":{\"outlinewidth\":0,\"ticks\":\"\"}},\"type\":\"scattercarpet\"}],\"scattergeo\":[{\"marker\":{\"colorbar\":{\"outlinewidth\":0,\"ticks\":\"\"}},\"type\":\"scattergeo\"}],\"scattergl\":[{\"marker\":{\"colorbar\":{\"outlinewidth\":0,\"ticks\":\"\"}},\"type\":\"scattergl\"}],\"scattermapbox\":[{\"marker\":{\"colorbar\":{\"outlinewidth\":0,\"ticks\":\"\"}},\"type\":\"scattermapbox\"}],\"scatterpolargl\":[{\"marker\":{\"colorbar\":{\"outlinewidth\":0,\"ticks\":\"\"}},\"type\":\"scatterpolargl\"}],\"scatterpolar\":[{\"marker\":{\"colorbar\":{\"outlinewidth\":0,\"ticks\":\"\"}},\"type\":\"scatterpolar\"}],\"scatter\":[{\"fillpattern\":{\"fillmode\":\"overlay\",\"size\":10,\"solidity\":0.2},\"type\":\"scatter\"}],\"scatterternary\":[{\"marker\":{\"colorbar\":{\"outlinewidth\":0,\"ticks\":\"\"}},\"type\":\"scatterternary\"}],\"surface\":[{\"colorbar\":{\"outlinewidth\":0,\"ticks\":\"\"},\"colorscale\":[[0.0,\"#0d0887\"],[0.1111111111111111,\"#46039f\"],[0.2222222222222222,\"#7201a8\"],[0.3333333333333333,\"#9c179e\"],[0.4444444444444444,\"#bd3786\"],[0.5555555555555556,\"#d8576b\"],[0.6666666666666666,\"#ed7953\"],[0.7777777777777778,\"#fb9f3a\"],[0.8888888888888888,\"#fdca26\"],[1.0,\"#f0f921\"]],\"type\":\"surface\"}],\"table\":[{\"cells\":{\"fill\":{\"color\":\"#EBF0F8\"},\"line\":{\"color\":\"white\"}},\"header\":{\"fill\":{\"color\":\"#C8D4E3\"},\"line\":{\"color\":\"white\"}},\"type\":\"table\"}]},\"layout\":{\"annotationdefaults\":{\"arrowcolor\":\"#2a3f5f\",\"arrowhead\":0,\"arrowwidth\":1},\"autotypenumbers\":\"strict\",\"coloraxis\":{\"colorbar\":{\"outlinewidth\":0,\"ticks\":\"\"}},\"colorscale\":{\"diverging\":[[0,\"#8e0152\"],[0.1,\"#c51b7d\"],[0.2,\"#de77ae\"],[0.3,\"#f1b6da\"],[0.4,\"#fde0ef\"],[0.5,\"#f7f7f7\"],[0.6,\"#e6f5d0\"],[0.7,\"#b8e186\"],[0.8,\"#7fbc41\"],[0.9,\"#4d9221\"],[1,\"#276419\"]],\"sequential\":[[0.0,\"#0d0887\"],[0.1111111111111111,\"#46039f\"],[0.2222222222222222,\"#7201a8\"],[0.3333333333333333,\"#9c179e\"],[0.4444444444444444,\"#bd3786\"],[0.5555555555555556,\"#d8576b\"],[0.6666666666666666,\"#ed7953\"],[0.7777777777777778,\"#fb9f3a\"],[0.8888888888888888,\"#fdca26\"],[1.0,\"#f0f921\"]],\"sequentialminus\":[[0.0,\"#0d0887\"],[0.1111111111111111,\"#46039f\"],[0.2222222222222222,\"#7201a8\"],[0.3333333333333333,\"#9c179e\"],[0.4444444444444444,\"#bd3786\"],[0.5555555555555556,\"#d8576b\"],[0.6666666666666666,\"#ed7953\"],[0.7777777777777778,\"#fb9f3a\"],[0.8888888888888888,\"#fdca26\"],[1.0,\"#f0f921\"]]},\"colorway\":[\"#636efa\",\"#EF553B\",\"#00cc96\",\"#ab63fa\",\"#FFA15A\",\"#19d3f3\",\"#FF6692\",\"#B6E880\",\"#FF97FF\",\"#FECB52\"],\"font\":{\"color\":\"#2a3f5f\"},\"geo\":{\"bgcolor\":\"white\",\"lakecolor\":\"white\",\"landcolor\":\"white\",\"showlakes\":true,\"showland\":true,\"subunitcolor\":\"#C8D4E3\"},\"hoverlabel\":{\"align\":\"left\"},\"hovermode\":\"closest\",\"mapbox\":{\"style\":\"light\"},\"paper_bgcolor\":\"white\",\"plot_bgcolor\":\"white\",\"polar\":{\"angularaxis\":{\"gridcolor\":\"#EBF0F8\",\"linecolor\":\"#EBF0F8\",\"ticks\":\"\"},\"bgcolor\":\"white\",\"radialaxis\":{\"gridcolor\":\"#EBF0F8\",\"linecolor\":\"#EBF0F8\",\"ticks\":\"\"}},\"scene\":{\"xaxis\":{\"backgroundcolor\":\"white\",\"gridcolor\":\"#DFE8F3\",\"gridwidth\":2,\"linecolor\":\"#EBF0F8\",\"showbackground\":true,\"ticks\":\"\",\"zerolinecolor\":\"#EBF0F8\"},\"yaxis\":{\"backgroundcolor\":\"white\",\"gridcolor\":\"#DFE8F3\",\"gridwidth\":2,\"linecolor\":\"#EBF0F8\",\"showbackground\":true,\"ticks\":\"\",\"zerolinecolor\":\"#EBF0F8\"},\"zaxis\":{\"backgroundcolor\":\"white\",\"gridcolor\":\"#DFE8F3\",\"gridwidth\":2,\"linecolor\":\"#EBF0F8\",\"showbackground\":true,\"ticks\":\"\",\"zerolinecolor\":\"#EBF0F8\"}},\"shapedefaults\":{\"line\":{\"color\":\"#2a3f5f\"}},\"ternary\":{\"aaxis\":{\"gridcolor\":\"#DFE8F3\",\"linecolor\":\"#A2B1C6\",\"ticks\":\"\"},\"baxis\":{\"gridcolor\":\"#DFE8F3\",\"linecolor\":\"#A2B1C6\",\"ticks\":\"\"},\"bgcolor\":\"white\",\"caxis\":{\"gridcolor\":\"#DFE8F3\",\"linecolor\":\"#A2B1C6\",\"ticks\":\"\"}},\"title\":{\"x\":0.05},\"xaxis\":{\"automargin\":true,\"gridcolor\":\"#EBF0F8\",\"linecolor\":\"#EBF0F8\",\"ticks\":\"\",\"title\":{\"standoff\":15},\"zerolinecolor\":\"#EBF0F8\",\"zerolinewidth\":2},\"yaxis\":{\"automargin\":true,\"gridcolor\":\"#EBF0F8\",\"linecolor\":\"#EBF0F8\",\"ticks\":\"\",\"title\":{\"standoff\":15},\"zerolinecolor\":\"#EBF0F8\",\"zerolinewidth\":2}}},\"xaxis\":{\"anchor\":\"y\",\"domain\":[0.0,1.0],\"title\":{\"text\":\"Income decile\"},\"tickvals\":[1,2,3,4,5,6,7,8,9,10],\"gridcolor\":\"#F4F4F4\",\"zerolinecolor\":\"#F4F4F4\",\"ticksuffix\":\"\"},\"yaxis\":{\"anchor\":\"x\",\"domain\":[0.0,1.0],\"title\":{\"text\":\"Relative net income change\"},\"tickformat\":\".0%\",\"gridcolor\":\"#F4F4F4\",\"zerolinecolor\":\"#F4F4F4\",\"ticksuffix\":\"\"},\"legend\":{\"tracegroupgap\":0},\"margin\":{\"t\":120,\"b\":120,\"l\":120,\"r\":120},\"barmode\":\"relative\",\"title\":{\"text\":\"Impact of Reform UK tax-benefit policies by income decile\"},\"font\":{\"family\":\"Roboto Serif\",\"color\":\"black\"},\"height\":600,\"width\":800,\"plot_bgcolor\":\"#F4F4F4\",\"paper_bgcolor\":\"#F4F4F4\",\"images\":[{\"sizex\":0.15,\"sizey\":0.15,\"source\":\"https:\\u002f\\u002fraw.githubusercontent.com\\u002fPolicyEngine\\u002fpolicyengine-app\\u002fmaster\\u002fsrc\\u002fimages\\u002flogos\\u002fpolicyengine\\u002fblue.png\",\"x\":1.1,\"xanchor\":\"right\",\"xref\":\"paper\",\"y\":-0.2,\"yanchor\":\"bottom\",\"yref\":\"paper\"}],\"annotations\":[{\"showarrow\":false,\"text\":\"Source: PolicyEngine UK tax-benefit microsimulation model (version 2.28.1)\",\"x\":0,\"xanchor\":\"left\",\"xref\":\"paper\",\"y\":-0.2,\"yanchor\":\"bottom\",\"yref\":\"paper\"}],\"modebar\":{\"bgcolor\":\"#F4F4F4\",\"color\":\"#F4F4F4\",\"activecolor\":\"#F4F4F4\"},\"uniformtext\":{\"mode\":\"hide\",\"minsize\":12}}}\n",
    "\n",
    "```\n",
    "\n",
    "To view more results, visit the [PolicyEngine UK microsimulation model](https://policyengine.org/uk/policy?reform=85289&focus=policyOutput.budgetaryImpact&region=uk&timePeriod=2025&baseline=1&uk_local_areas_beta=false&simYears=5) and our [household calculator](https://policyengine.org/uk/household?reform=85289&focus=intro&region=uk&timePeriod=2025&baseline=1&uk_local_areas_beta=false) for this suite of reforms."
   ]
  },
  {
   "cell_type": "code",
   "execution_count": 76,
   "id": "f4e70450",
   "metadata": {},
   "outputs": [
    {
     "name": "stderr",
     "output_type": "stream",
     "text": [
      "INFO:root:Using Google Cloud Storage for download.\n",
      "WARNING:root:No version specified for policyengine-uk-data-private, enhanced_frs_2022_23.h5. Using latest version: 1.11.6\n",
      "INFO:policyengine.utils.data.caching_google_storage_client:Syncing policyengine-uk-data-private, enhanced_frs_2022_23.h5, 1.11.6 to cache\n",
      "INFO:policyengine.utils.data.caching_google_storage_client:Cache exists and crc is unchanged for policyengine-uk-data-private, enhanced_frs_2022_23.h5.\n",
      "INFO:policyengine.utils.data.caching_google_storage_client:Copying downloaded data for policyengine-uk-data-private, enhanced_frs_2022_23.h5 to enhanced_frs_2022_23.h5\n"
     ]
    }
   ],
   "source": [
    "from policyengine import Simulation\n",
    "\n",
    "sim = Simulation(\n",
    "    country=\"uk\",\n",
    "    scope=\"macro\",\n",
    "    reform={\n",
    "        \"gov.hmrc.income_tax.allowances.personal_allowance.amount\": 20_000,\n",
    "        \"gov.hmrc.income_tax.rates.uk[1].threshold\": 50_000,\n",
    "        \"gov.hmrc.income_tax.allowances.marriage_allowance.max\": 0.25,\n",
    "        \"gov.dwp.universal_credit.elements.child.limit.child_count\": 90,\n",
    "    }\n",
    ")"
   ]
  },
  {
   "cell_type": "code",
   "execution_count": 79,
   "id": "e9c0cb57",
   "metadata": {},
   "outputs": [
    {
     "name": "stderr",
     "output_type": "stream",
     "text": [
      "INFO:root:Using Google Cloud Storage for download.\n",
      "WARNING:root:No version specified for policyengine-uk-data-private, parliamentary_constituency_weights.h5. Using latest version: 1.11.6\n",
      "INFO:policyengine.utils.data.caching_google_storage_client:Syncing policyengine-uk-data-private, parliamentary_constituency_weights.h5, 1.11.6 to cache\n",
      "INFO:policyengine.utils.data.caching_google_storage_client:Cache exists and crc is unchanged for policyengine-uk-data-private, parliamentary_constituency_weights.h5.\n",
      "INFO:policyengine.utils.data.caching_google_storage_client:Copying downloaded data for policyengine-uk-data-private, parliamentary_constituency_weights.h5 to parliamentary_constituency_weights.h5\n",
      "INFO:root:Using Google Cloud Storage for download.\n",
      "WARNING:root:No metadata found for blob, so it has no version attached.\n",
      "WARNING:root:No version specified for policyengine-uk-data-private, constituencies_2024.csv. Using latest version: None\n",
      "INFO:policyengine.utils.data.caching_google_storage_client:Syncing policyengine-uk-data-private, constituencies_2024.csv, None to cache\n",
      "INFO:policyengine.utils.data.caching_google_storage_client:Cache exists and crc is unchanged for policyengine-uk-data-private, constituencies_2024.csv.\n",
      "INFO:policyengine.utils.data.caching_google_storage_client:Copying downloaded data for policyengine-uk-data-private, constituencies_2024.csv to constituencies_2024.csv\n"
     ]
    }
   ],
   "source": [
    "result = sim.calculate_economy_comparison()"
   ]
  },
  {
   "cell_type": "code",
   "execution_count": 111,
   "id": "059323e2",
   "metadata": {},
   "outputs": [
    {
     "name": "stdout",
     "output_type": "stream",
     "text": [
      "{\"data\":[{\"alignmentgroup\":\"True\",\"hovertemplate\":\"x=%{x}\\u003cbr\\u003ey=%{y}\\u003cbr\\u003etext=%{text}\\u003cextra\\u003e\\u003c\\u002fextra\\u003e\",\"legendgroup\":\"\",\"marker\":{\"color\":\"#2C6496\",\"pattern\":{\"shape\":\"\"}},\"name\":\"\",\"offsetgroup\":\"\",\"orientation\":\"v\",\"showlegend\":false,\"text\":[\"1.3%\",\"3.1%\",\"4.8%\",\"4.2%\",\"4.3%\",\"5.1%\",\"5.4%\",\"5.3%\",\"6.0%\",\"4.2%\"],\"textposition\":\"auto\",\"x\":[0,1,2,3,4,5,6,7,8,9],\"xaxis\":\"x\",\"y\":[0.012648342807095678,0.03132008664442573,0.04759230794458184,0.04246238057867267,0.04266858638634309,0.05059255780943398,0.05389949484255953,0.053063795971100475,0.06013410923690721,0.04171578019282118],\"yaxis\":\"y\",\"type\":\"bar\"}],\"layout\":{\"template\":{\"data\":{\"barpolar\":[{\"marker\":{\"line\":{\"color\":\"white\",\"width\":0.5},\"pattern\":{\"fillmode\":\"overlay\",\"size\":10,\"solidity\":0.2}},\"type\":\"barpolar\"}],\"bar\":[{\"error_x\":{\"color\":\"#2a3f5f\"},\"error_y\":{\"color\":\"#2a3f5f\"},\"marker\":{\"line\":{\"color\":\"white\",\"width\":0.5},\"pattern\":{\"fillmode\":\"overlay\",\"size\":10,\"solidity\":0.2}},\"type\":\"bar\"}],\"carpet\":[{\"aaxis\":{\"endlinecolor\":\"#2a3f5f\",\"gridcolor\":\"#C8D4E3\",\"linecolor\":\"#C8D4E3\",\"minorgridcolor\":\"#C8D4E3\",\"startlinecolor\":\"#2a3f5f\"},\"baxis\":{\"endlinecolor\":\"#2a3f5f\",\"gridcolor\":\"#C8D4E3\",\"linecolor\":\"#C8D4E3\",\"minorgridcolor\":\"#C8D4E3\",\"startlinecolor\":\"#2a3f5f\"},\"type\":\"carpet\"}],\"choropleth\":[{\"colorbar\":{\"outlinewidth\":0,\"ticks\":\"\"},\"type\":\"choropleth\"}],\"contourcarpet\":[{\"colorbar\":{\"outlinewidth\":0,\"ticks\":\"\"},\"type\":\"contourcarpet\"}],\"contour\":[{\"colorbar\":{\"outlinewidth\":0,\"ticks\":\"\"},\"colorscale\":[[0.0,\"#0d0887\"],[0.1111111111111111,\"#46039f\"],[0.2222222222222222,\"#7201a8\"],[0.3333333333333333,\"#9c179e\"],[0.4444444444444444,\"#bd3786\"],[0.5555555555555556,\"#d8576b\"],[0.6666666666666666,\"#ed7953\"],[0.7777777777777778,\"#fb9f3a\"],[0.8888888888888888,\"#fdca26\"],[1.0,\"#f0f921\"]],\"type\":\"contour\"}],\"heatmapgl\":[{\"colorbar\":{\"outlinewidth\":0,\"ticks\":\"\"},\"colorscale\":[[0.0,\"#0d0887\"],[0.1111111111111111,\"#46039f\"],[0.2222222222222222,\"#7201a8\"],[0.3333333333333333,\"#9c179e\"],[0.4444444444444444,\"#bd3786\"],[0.5555555555555556,\"#d8576b\"],[0.6666666666666666,\"#ed7953\"],[0.7777777777777778,\"#fb9f3a\"],[0.8888888888888888,\"#fdca26\"],[1.0,\"#f0f921\"]],\"type\":\"heatmapgl\"}],\"heatmap\":[{\"colorbar\":{\"outlinewidth\":0,\"ticks\":\"\"},\"colorscale\":[[0.0,\"#0d0887\"],[0.1111111111111111,\"#46039f\"],[0.2222222222222222,\"#7201a8\"],[0.3333333333333333,\"#9c179e\"],[0.4444444444444444,\"#bd3786\"],[0.5555555555555556,\"#d8576b\"],[0.6666666666666666,\"#ed7953\"],[0.7777777777777778,\"#fb9f3a\"],[0.8888888888888888,\"#fdca26\"],[1.0,\"#f0f921\"]],\"type\":\"heatmap\"}],\"histogram2dcontour\":[{\"colorbar\":{\"outlinewidth\":0,\"ticks\":\"\"},\"colorscale\":[[0.0,\"#0d0887\"],[0.1111111111111111,\"#46039f\"],[0.2222222222222222,\"#7201a8\"],[0.3333333333333333,\"#9c179e\"],[0.4444444444444444,\"#bd3786\"],[0.5555555555555556,\"#d8576b\"],[0.6666666666666666,\"#ed7953\"],[0.7777777777777778,\"#fb9f3a\"],[0.8888888888888888,\"#fdca26\"],[1.0,\"#f0f921\"]],\"type\":\"histogram2dcontour\"}],\"histogram2d\":[{\"colorbar\":{\"outlinewidth\":0,\"ticks\":\"\"},\"colorscale\":[[0.0,\"#0d0887\"],[0.1111111111111111,\"#46039f\"],[0.2222222222222222,\"#7201a8\"],[0.3333333333333333,\"#9c179e\"],[0.4444444444444444,\"#bd3786\"],[0.5555555555555556,\"#d8576b\"],[0.6666666666666666,\"#ed7953\"],[0.7777777777777778,\"#fb9f3a\"],[0.8888888888888888,\"#fdca26\"],[1.0,\"#f0f921\"]],\"type\":\"histogram2d\"}],\"histogram\":[{\"marker\":{\"pattern\":{\"fillmode\":\"overlay\",\"size\":10,\"solidity\":0.2}},\"type\":\"histogram\"}],\"mesh3d\":[{\"colorbar\":{\"outlinewidth\":0,\"ticks\":\"\"},\"type\":\"mesh3d\"}],\"parcoords\":[{\"line\":{\"colorbar\":{\"outlinewidth\":0,\"ticks\":\"\"}},\"type\":\"parcoords\"}],\"pie\":[{\"automargin\":true,\"type\":\"pie\"}],\"scatter3d\":[{\"line\":{\"colorbar\":{\"outlinewidth\":0,\"ticks\":\"\"}},\"marker\":{\"colorbar\":{\"outlinewidth\":0,\"ticks\":\"\"}},\"type\":\"scatter3d\"}],\"scattercarpet\":[{\"marker\":{\"colorbar\":{\"outlinewidth\":0,\"ticks\":\"\"}},\"type\":\"scattercarpet\"}],\"scattergeo\":[{\"marker\":{\"colorbar\":{\"outlinewidth\":0,\"ticks\":\"\"}},\"type\":\"scattergeo\"}],\"scattergl\":[{\"marker\":{\"colorbar\":{\"outlinewidth\":0,\"ticks\":\"\"}},\"type\":\"scattergl\"}],\"scattermapbox\":[{\"marker\":{\"colorbar\":{\"outlinewidth\":0,\"ticks\":\"\"}},\"type\":\"scattermapbox\"}],\"scatterpolargl\":[{\"marker\":{\"colorbar\":{\"outlinewidth\":0,\"ticks\":\"\"}},\"type\":\"scatterpolargl\"}],\"scatterpolar\":[{\"marker\":{\"colorbar\":{\"outlinewidth\":0,\"ticks\":\"\"}},\"type\":\"scatterpolar\"}],\"scatter\":[{\"fillpattern\":{\"fillmode\":\"overlay\",\"size\":10,\"solidity\":0.2},\"type\":\"scatter\"}],\"scatterternary\":[{\"marker\":{\"colorbar\":{\"outlinewidth\":0,\"ticks\":\"\"}},\"type\":\"scatterternary\"}],\"surface\":[{\"colorbar\":{\"outlinewidth\":0,\"ticks\":\"\"},\"colorscale\":[[0.0,\"#0d0887\"],[0.1111111111111111,\"#46039f\"],[0.2222222222222222,\"#7201a8\"],[0.3333333333333333,\"#9c179e\"],[0.4444444444444444,\"#bd3786\"],[0.5555555555555556,\"#d8576b\"],[0.6666666666666666,\"#ed7953\"],[0.7777777777777778,\"#fb9f3a\"],[0.8888888888888888,\"#fdca26\"],[1.0,\"#f0f921\"]],\"type\":\"surface\"}],\"table\":[{\"cells\":{\"fill\":{\"color\":\"#EBF0F8\"},\"line\":{\"color\":\"white\"}},\"header\":{\"fill\":{\"color\":\"#C8D4E3\"},\"line\":{\"color\":\"white\"}},\"type\":\"table\"}]},\"layout\":{\"annotationdefaults\":{\"arrowcolor\":\"#2a3f5f\",\"arrowhead\":0,\"arrowwidth\":1},\"autotypenumbers\":\"strict\",\"coloraxis\":{\"colorbar\":{\"outlinewidth\":0,\"ticks\":\"\"}},\"colorscale\":{\"diverging\":[[0,\"#8e0152\"],[0.1,\"#c51b7d\"],[0.2,\"#de77ae\"],[0.3,\"#f1b6da\"],[0.4,\"#fde0ef\"],[0.5,\"#f7f7f7\"],[0.6,\"#e6f5d0\"],[0.7,\"#b8e186\"],[0.8,\"#7fbc41\"],[0.9,\"#4d9221\"],[1,\"#276419\"]],\"sequential\":[[0.0,\"#0d0887\"],[0.1111111111111111,\"#46039f\"],[0.2222222222222222,\"#7201a8\"],[0.3333333333333333,\"#9c179e\"],[0.4444444444444444,\"#bd3786\"],[0.5555555555555556,\"#d8576b\"],[0.6666666666666666,\"#ed7953\"],[0.7777777777777778,\"#fb9f3a\"],[0.8888888888888888,\"#fdca26\"],[1.0,\"#f0f921\"]],\"sequentialminus\":[[0.0,\"#0d0887\"],[0.1111111111111111,\"#46039f\"],[0.2222222222222222,\"#7201a8\"],[0.3333333333333333,\"#9c179e\"],[0.4444444444444444,\"#bd3786\"],[0.5555555555555556,\"#d8576b\"],[0.6666666666666666,\"#ed7953\"],[0.7777777777777778,\"#fb9f3a\"],[0.8888888888888888,\"#fdca26\"],[1.0,\"#f0f921\"]]},\"colorway\":[\"#636efa\",\"#EF553B\",\"#00cc96\",\"#ab63fa\",\"#FFA15A\",\"#19d3f3\",\"#FF6692\",\"#B6E880\",\"#FF97FF\",\"#FECB52\"],\"font\":{\"color\":\"#2a3f5f\"},\"geo\":{\"bgcolor\":\"white\",\"lakecolor\":\"white\",\"landcolor\":\"white\",\"showlakes\":true,\"showland\":true,\"subunitcolor\":\"#C8D4E3\"},\"hoverlabel\":{\"align\":\"left\"},\"hovermode\":\"closest\",\"mapbox\":{\"style\":\"light\"},\"paper_bgcolor\":\"white\",\"plot_bgcolor\":\"white\",\"polar\":{\"angularaxis\":{\"gridcolor\":\"#EBF0F8\",\"linecolor\":\"#EBF0F8\",\"ticks\":\"\"},\"bgcolor\":\"white\",\"radialaxis\":{\"gridcolor\":\"#EBF0F8\",\"linecolor\":\"#EBF0F8\",\"ticks\":\"\"}},\"scene\":{\"xaxis\":{\"backgroundcolor\":\"white\",\"gridcolor\":\"#DFE8F3\",\"gridwidth\":2,\"linecolor\":\"#EBF0F8\",\"showbackground\":true,\"ticks\":\"\",\"zerolinecolor\":\"#EBF0F8\"},\"yaxis\":{\"backgroundcolor\":\"white\",\"gridcolor\":\"#DFE8F3\",\"gridwidth\":2,\"linecolor\":\"#EBF0F8\",\"showbackground\":true,\"ticks\":\"\",\"zerolinecolor\":\"#EBF0F8\"},\"zaxis\":{\"backgroundcolor\":\"white\",\"gridcolor\":\"#DFE8F3\",\"gridwidth\":2,\"linecolor\":\"#EBF0F8\",\"showbackground\":true,\"ticks\":\"\",\"zerolinecolor\":\"#EBF0F8\"}},\"shapedefaults\":{\"line\":{\"color\":\"#2a3f5f\"}},\"ternary\":{\"aaxis\":{\"gridcolor\":\"#DFE8F3\",\"linecolor\":\"#A2B1C6\",\"ticks\":\"\"},\"baxis\":{\"gridcolor\":\"#DFE8F3\",\"linecolor\":\"#A2B1C6\",\"ticks\":\"\"},\"bgcolor\":\"white\",\"caxis\":{\"gridcolor\":\"#DFE8F3\",\"linecolor\":\"#A2B1C6\",\"ticks\":\"\"}},\"title\":{\"x\":0.05},\"xaxis\":{\"automargin\":true,\"gridcolor\":\"#EBF0F8\",\"linecolor\":\"#EBF0F8\",\"ticks\":\"\",\"title\":{\"standoff\":15},\"zerolinecolor\":\"#EBF0F8\",\"zerolinewidth\":2},\"yaxis\":{\"automargin\":true,\"gridcolor\":\"#EBF0F8\",\"linecolor\":\"#EBF0F8\",\"ticks\":\"\",\"title\":{\"standoff\":15},\"zerolinecolor\":\"#EBF0F8\",\"zerolinewidth\":2}}},\"xaxis\":{\"anchor\":\"y\",\"domain\":[0.0,1.0],\"title\":{\"text\":\"Income decile\"},\"tickvals\":[1,2,3,4,5,6,7,8,9,10],\"gridcolor\":\"#F4F4F4\",\"zerolinecolor\":\"#F4F4F4\",\"ticksuffix\":\"\"},\"yaxis\":{\"anchor\":\"x\",\"domain\":[0.0,1.0],\"title\":{\"text\":\"Relative net income change\"},\"tickformat\":\".0%\",\"gridcolor\":\"#F4F4F4\",\"zerolinecolor\":\"#F4F4F4\",\"ticksuffix\":\"\"},\"legend\":{\"tracegroupgap\":0},\"margin\":{\"t\":120,\"b\":120,\"l\":120,\"r\":120},\"barmode\":\"relative\",\"title\":{\"text\":\"Impact of Reform UK tax-benefit policies by income decile\"},\"font\":{\"family\":\"Roboto Serif\",\"color\":\"black\"},\"height\":600,\"width\":800,\"plot_bgcolor\":\"#F4F4F4\",\"paper_bgcolor\":\"#F4F4F4\",\"images\":[{\"sizex\":0.15,\"sizey\":0.15,\"source\":\"https:\\u002f\\u002fraw.githubusercontent.com\\u002fPolicyEngine\\u002fpolicyengine-app\\u002fmaster\\u002fsrc\\u002fimages\\u002flogos\\u002fpolicyengine\\u002fblue.png\",\"x\":1.1,\"xanchor\":\"right\",\"xref\":\"paper\",\"y\":-0.2,\"yanchor\":\"bottom\",\"yref\":\"paper\"}],\"annotations\":[{\"showarrow\":false,\"text\":\"Source: PolicyEngine UK tax-benefit microsimulation model (version 2.28.1)\",\"x\":0,\"xanchor\":\"left\",\"xref\":\"paper\",\"y\":-0.2,\"yanchor\":\"bottom\",\"yref\":\"paper\"}],\"modebar\":{\"bgcolor\":\"#F4F4F4\",\"color\":\"#F4F4F4\",\"activecolor\":\"#F4F4F4\"},\"uniformtext\":{\"mode\":\"hide\",\"minsize\":12}}}\n"
     ]
    }
   ],
   "source": [
    "from policyengine.utils.charts import *\n",
    "import plotly.express as px\n",
    "import pandas as pd\n",
    "\n",
    "fig = px.bar(\n",
    "    y=result.decile.relative,\n",
    "    text=[f\"{x:.1%}\" for x in result.decile.relative.values()],\n",
    "    color_discrete_sequence=[BLUE]\n",
    ").update_layout(\n",
    "    title=\"Impact of Reform UK tax-benefit policies by income decile\",\n",
    "    xaxis_title=\"Income decile\",\n",
    "    xaxis_tickvals=list(range(1, 11)),\n",
    "    yaxis_title=\"Relative net income change\",\n",
    "    yaxis_tickformat=\".0%\",\n",
    ")\n",
    "\n",
    "print(format_fig(fig).update_layout(\n",
    ").to_json())"
   ]
  },
  {
   "cell_type": "code",
   "execution_count": null,
   "id": "1b19d9f2",
   "metadata": {},
   "outputs": [],
   "source": []
  },
  {
   "cell_type": "code",
   "execution_count": null,
   "id": "a8a4b9b9",
   "metadata": {},
   "outputs": [
    {
     "name": "stderr",
     "output_type": "stream",
     "text": [
      "  0%|          | 0/4 [00:00<?, ?it/s]INFO:root:Using Google Cloud Storage for download.\n",
      "WARNING:root:No version specified for policyengine-uk-data-private, enhanced_frs_2022_23.h5. Using latest version: 1.11.6\n",
      "INFO:policyengine.utils.data.caching_google_storage_client:Syncing policyengine-uk-data-private, enhanced_frs_2022_23.h5, 1.11.6 to cache\n",
      "INFO:policyengine.utils.data.caching_google_storage_client:Cache exists and crc is unchanged for policyengine-uk-data-private, enhanced_frs_2022_23.h5.\n",
      "INFO:policyengine.utils.data.caching_google_storage_client:Copying downloaded data for policyengine-uk-data-private, enhanced_frs_2022_23.h5 to enhanced_frs_2022_23.h5\n"
     ]
    },
    {
     "name": "stdout",
     "output_type": "stream",
     "text": [
      "{'gov.dwp.universal_credit.elements.child.limit.child_count': 90} Repeal the two-child limit\n"
     ]
    },
    {
     "name": "stderr",
     "output_type": "stream",
     "text": [
      "100%|██████████| 5/5 [00:52<00:00, 10.54s/it]\n",
      " 25%|██▌       | 1/4 [00:54<02:42, 54.10s/it]INFO:root:Using Google Cloud Storage for download.\n",
      "WARNING:root:No version specified for policyengine-uk-data-private, enhanced_frs_2022_23.h5. Using latest version: 1.11.6\n",
      "INFO:policyengine.utils.data.caching_google_storage_client:Syncing policyengine-uk-data-private, enhanced_frs_2022_23.h5, 1.11.6 to cache\n",
      "INFO:policyengine.utils.data.caching_google_storage_client:Cache exists and crc is unchanged for policyengine-uk-data-private, enhanced_frs_2022_23.h5.\n",
      "INFO:policyengine.utils.data.caching_google_storage_client:Copying downloaded data for policyengine-uk-data-private, enhanced_frs_2022_23.h5 to enhanced_frs_2022_23.h5\n"
     ]
    },
    {
     "name": "stdout",
     "output_type": "stream",
     "text": [
      "{'gov.dwp.universal_credit.elements.child.limit.child_count': 90, 'gov.hmrc.income_tax.allowances.personal_allowance.amount': 20000, 'gov.hmrc.income_tax.rates.uk[1].threshold': 30270} Raise the Personal Allowance to £20,000\n"
     ]
    },
    {
     "name": "stderr",
     "output_type": "stream",
     "text": [
      "100%|██████████| 5/5 [00:49<00:00,  9.97s/it]\n",
      " 50%|█████     | 2/4 [01:45<01:44, 52.39s/it]INFO:root:Using Google Cloud Storage for download.\n",
      "WARNING:root:No version specified for policyengine-uk-data-private, enhanced_frs_2022_23.h5. Using latest version: 1.11.6\n",
      "INFO:policyengine.utils.data.caching_google_storage_client:Syncing policyengine-uk-data-private, enhanced_frs_2022_23.h5, 1.11.6 to cache\n",
      "INFO:policyengine.utils.data.caching_google_storage_client:Cache exists and crc is unchanged for policyengine-uk-data-private, enhanced_frs_2022_23.h5.\n",
      "INFO:policyengine.utils.data.caching_google_storage_client:Copying downloaded data for policyengine-uk-data-private, enhanced_frs_2022_23.h5 to enhanced_frs_2022_23.h5\n"
     ]
    },
    {
     "name": "stdout",
     "output_type": "stream",
     "text": [
      "{'gov.dwp.universal_credit.elements.child.limit.child_count': 90, 'gov.hmrc.income_tax.allowances.personal_allowance.amount': 20000, 'gov.hmrc.income_tax.rates.uk[1].threshold': 50000} Set the higher rate threshold to £70,000\n"
     ]
    },
    {
     "name": "stderr",
     "output_type": "stream",
     "text": [
      "100%|██████████| 5/5 [00:49<00:00,  9.98s/it]\n",
      " 75%|███████▌  | 3/4 [02:36<00:51, 51.83s/it]INFO:root:Using Google Cloud Storage for download.\n",
      "WARNING:root:No version specified for policyengine-uk-data-private, enhanced_frs_2022_23.h5. Using latest version: 1.11.6\n",
      "INFO:policyengine.utils.data.caching_google_storage_client:Syncing policyengine-uk-data-private, enhanced_frs_2022_23.h5, 1.11.6 to cache\n",
      "INFO:policyengine.utils.data.caching_google_storage_client:Cache exists and crc is unchanged for policyengine-uk-data-private, enhanced_frs_2022_23.h5.\n",
      "INFO:policyengine.utils.data.caching_google_storage_client:Copying downloaded data for policyengine-uk-data-private, enhanced_frs_2022_23.h5 to enhanced_frs_2022_23.h5\n"
     ]
    },
    {
     "name": "stdout",
     "output_type": "stream",
     "text": [
      "{'gov.dwp.universal_credit.elements.child.limit.child_count': 90, 'gov.hmrc.income_tax.allowances.personal_allowance.amount': 20000, 'gov.hmrc.income_tax.rates.uk[1].threshold': 50000, 'gov.hmrc.income_tax.allowances.marriage_allowance.max': 0.25} Raise the Marriage Allowance rate to 25%\n"
     ]
    },
    {
     "name": "stderr",
     "output_type": "stream",
     "text": [
      "100%|██████████| 5/5 [00:49<00:00,  9.86s/it]\n",
      "100%|██████████| 4/4 [03:26<00:00, 51.74s/it]\n"
     ]
    }
   ],
   "source": [
    "from policyengine import Simulation\n",
    "\n",
    "raise_pa = {\n",
    "    \"gov.hmrc.income_tax.allowances.personal_allowance.amount\": 20_000,\n",
    "    \"gov.hmrc.income_tax.rates.uk[1].threshold\": 37_700 - (20_000 - 12_570),\n",
    "}\n",
    "higher_rate_threshold = {\n",
    "    \"gov.hmrc.income_tax.rates.uk[1].threshold\": 50_000,\n",
    "}\n",
    "raise_ma_rate = {\n",
    "    \"gov.hmrc.income_tax.allowances.marriage_allowance.max\": 0.25,\n",
    "}\n",
    "repeal_two_child_limit = {\n",
    "    \"gov.dwp.universal_credit.elements.child.limit.child_count\": 90,\n",
    "}\n",
    "\n",
    "policy_reforms = [\n",
    "    repeal_two_child_limit,\n",
    "    raise_pa,\n",
    "    higher_rate_threshold,\n",
    "    raise_ma_rate,\n",
    "]\n",
    "policy_reform_names = [\n",
    "    \"Repeal the two-child limit\",\n",
    "    \"Raise the Personal Allowance to £20,000\",\n",
    "    \"Set the higher rate threshold to £70,000\",\n",
    "    \"Raise the Marriage Allowance rate to 25%\",\n",
    "]\n",
    "\n",
    "years = []\n",
    "debt_impacts = []\n",
    "policies = []\n",
    "\n",
    "from tqdm import tqdm\n",
    "\n",
    "for i in tqdm(range(len(policy_reforms))):\n",
    "    reform = {}\n",
    "    for j in range(i + 1):\n",
    "        reform.update(policy_reforms[j])\n",
    "\n",
    "    sim = Simulation(\n",
    "        country=\"uk\",\n",
    "        scope=\"macro\",\n",
    "        reform=reform,\n",
    "    )\n",
    "    print(reform, policy_reform_names[i])\n",
    "\n",
    "    for year in tqdm(range(2025, 2030)):\n",
    "        debt_impact = sim.reform_simulation.calculate(\"gov_balance\", year).sum()/1e9 - sim.baseline_simulation.calculate(\"gov_balance\", year).sum()/1e9\n",
    "        years.append(year)\n",
    "        debt_impacts.append(debt_impact)\n",
    "        policies.append(policy_reform_names[i])\n",
    "\n"
   ]
  },
  {
   "cell_type": "code",
   "execution_count": 65,
   "id": "56e44931",
   "metadata": {},
   "outputs": [],
   "source": [
    "import pandas as pd\n",
    "\n",
    "df = pd.DataFrame({\n",
    "    \"Year\": years,\n",
    "    \"Debt impact (£ billions)\": debt_impacts,\n",
    "    \"Policy\": policies,\n",
    "})\n",
    "\n",
    "df = df.pivot(columns=\"Year\", index=\"Policy\", values=\"Debt impact (£ billions)\")\n",
    "df = df.iloc[[2, 1, 3, 0]]"
   ]
  },
  {
   "cell_type": "code",
   "execution_count": 67,
   "id": "35291e14",
   "metadata": {},
   "outputs": [],
   "source": [
    "df.values[1:] = df.values[1:] - df.values[:-1]"
   ]
  },
  {
   "cell_type": "code",
   "execution_count": 68,
   "id": "7f1230a9",
   "metadata": {},
   "outputs": [],
   "source": [
    "df[\"2025-29\"] = df.sum(axis=1)"
   ]
  },
  {
   "cell_type": "code",
   "execution_count": 70,
   "id": "0c7d8a5a",
   "metadata": {},
   "outputs": [],
   "source": [
    "# Add 'total' row\n",
    "df.loc[\"Total\"] = df.sum(numeric_only=True)"
   ]
  },
  {
   "cell_type": "code",
   "execution_count": 71,
   "id": "d2b5d2eb",
   "metadata": {},
   "outputs": [
    {
     "name": "stdout",
     "output_type": "stream",
     "text": [
      "| Policy                                   |   2025 |   2026 |   2027 |   2028 |   2029 |   2025-29 |\n",
      "|:-----------------------------------------|-------:|-------:|-------:|-------:|-------:|----------:|\n",
      "| Repeal the two-child limit               |   -1.7 |   -1.8 |   -1.9 |   -2.2 |   -2.3 |      -9.9 |\n",
      "| Raise the Personal Allowance to £20,000  |  -50.7 |  -51.5 |  -52.4 |  -49.1 |  -45.5 |    -249.3 |\n",
      "| Set the higher rate threshold to £70,000 |  -22.2 |  -23.8 |  -25.5 |  -27.2 |  -29.3 |    -128   |\n",
      "| Raise the Marriage Allowance rate to 25% |   -0.7 |   -0.7 |   -0.8 |   -0.8 |   -0.9 |      -3.9 |\n",
      "| Total                                    |  -75.3 |  -77.9 |  -80.5 |  -79.3 |  -78.1 |    -391.1 |\n"
     ]
    }
   ],
   "source": [
    "print(df.round(1).to_markdown(index=True))"
   ]
  }
 ],
 "metadata": {
  "kernelspec": {
   "display_name": ".venv",
   "language": "python",
   "name": "python3"
  },
  "language_info": {
   "codemirror_mode": {
    "name": "ipython",
    "version": 3
   },
   "file_extension": ".py",
   "mimetype": "text/x-python",
   "name": "python",
   "nbconvert_exporter": "python",
   "pygments_lexer": "ipython3",
   "version": "3.11.11"
  }
 },
 "nbformat": 4,
 "nbformat_minor": 5
}
