{
 "cells": [
  {
   "cell_type": "markdown",
   "metadata": {},
   "source": [
    "The Labour government has announced changes to its Winter Fuel Allowance policy, expanding eligibility from 1.5 million to 9 million pensioners in England and Wales. The new £35,000 income threshold replaces the previous restriction to Pension Credit recipients only.\n",
    "\n",
    "\n",
    "## Original policy\n",
    "\n",
    "The Winter Fuel Payment provides £200 for households with someone of State Pension age and £300 for households with someone aged 80 or over.\n",
    "\n",
    "In July 2024, the government [restricted Winter Fuel Payments](https://commonslibrary.parliament.uk/research-briefings/cbp-10094/) to pensioners receiving Pension Credit or other means-tested benefits. The Department of Work and Pensions [reports](https://www.gov.uk/government/news/nine-million-pensioners-to-receive-winter-fuel-payments-this-winter) that this reduced the number of recipients from 11.4 million to 1.5 million pensioners - a reduction of 9.9 million people.\n",
    "\n",
    "\n",
    "## New policy\n",
    "\n",
    "From winter 2025/26, all people above State Pension age in England and Wales with taxable income of £35,000 or less will receive Winter Fuel Payments; the amounts do not change. Those with income above £35,000 will receive the payment, but have it recovered through HMRC via PAYE or Self-Assessment.\n",
    "\n",
    "The £35,000 threshold applies to individual income, not household income. If any person is eligible under this taxable income means test, the DWP will pay the benefit amount to the household.\n",
    "\n",
    "\n",
    "## Household impacts\n",
    "\n",
    "For a single 70-year old, the new policy increases their net income by £200 between around £11,000 (where Pension Credit entitlement ends) and £35,000 in taxable income.\n",
    "\n",
    "```plotly\n",
    "{\"data\":[{\"hovertemplate\":\"variable=Reform\\u003cbr\\u003eIncome=%{x}\\u003cbr\\u003evalue=%{y}\\u003cextra\\u003e\\u003c\\u002fextra\\u003e\",\"legendgroup\":\"Reform\",\"line\":{\"color\":\"#2C6496\",\"dash\":\"solid\"},\"marker\":{\"symbol\":\"circle\"},\"mode\":\"lines\",\"name\":\"Reform\",\"orientation\":\"v\",\"showlegend\":true,\"x\":[0.0,1189.689453125,2379.37890625,3569.068115234375,4758.7578125,5948.44677734375,7138.13623046875,8327.826171875,9517.515625,10707.2041015625,11896.8935546875,13086.5830078125,14276.2724609375,15465.9619140625,16655.65234375,17845.341796875,19035.03125,20224.720703125,21414.408203125,22604.09765625,23793.787109375,24983.4765625,26173.166015625,27362.85546875,28552.544921875,29742.234375,30931.923828125,32121.61328125,33311.3046875,34500.9921875,35690.68359375,36880.37109375,38070.0625,39259.75,40449.44140625,41639.12890625,42828.81640625,44018.5078125,45208.1953125,46397.88671875,47587.57421875,48777.265625,49966.953125,51156.64453125,52346.33203125,53536.0234375,54725.7109375,55915.40234375,57105.08984375,58294.78125,59484.46875,60674.16015625,61863.84765625,63053.5390625,64243.2265625,65432.91796875,66622.609375,67812.296875,69001.984375,70191.671875,71381.3671875,72571.0546875,73760.7421875,74950.4296875,76140.125,77329.8125,78519.5,79709.1875,80898.8828125,82088.5703125,83278.2578125,84467.9453125,85657.6328125,86847.328125,88037.015625,89226.703125,90416.390625,91606.0859375,92795.7734375,93985.4609375,95175.1484375,96364.84375,97554.53125,98744.21875,99933.90625,101123.6015625,102313.2890625,103502.9765625,104692.6640625,105882.359375,107072.046875,108261.734375,109451.421875,110641.1171875,111830.8046875,113020.4921875,114210.1796875,115399.875,116589.5625,117779.25,118968.9375],\"xaxis\":\"x\",\"y\":[200.0,200.0,200.0,200.0,200.0,200.0,200.0,200.0,200.0,200.0,200.0,200.0,200.0,200.0,200.0,200.0,200.0,200.0,200.0,200.0,200.0,200.0,200.0,200.0,200.0,200.0,200.0,200.0,200.0,200.0,0.0,0.0,0.0,0.0,0.0,0.0,0.0,0.0,0.0,0.0,0.0,0.0,0.0,0.0,0.0,0.0,0.0,0.0,0.0,0.0,0.0,0.0,0.0,0.0,0.0,0.0,0.0,0.0,0.0,0.0,0.0,0.0,0.0,0.0,0.0,0.0,0.0,0.0,0.0,0.0,0.0,0.0,0.0,0.0,0.0,0.0,0.0,0.0,0.0,0.0,0.0,0.0,0.0,0.0,0.0,0.0,0.0,0.0,0.0,0.0,0.0,0.0,0.0,0.0,0.0,0.0,0.0,0.0,0.0,0.0,0.0],\"yaxis\":\"y\",\"type\":\"scatter\"},{\"hovertemplate\":\"variable=Baseline\\u003cbr\\u003eIncome=%{x}\\u003cbr\\u003evalue=%{y}\\u003cextra\\u003e\\u003c\\u002fextra\\u003e\",\"legendgroup\":\"Baseline\",\"line\":{\"color\":\"#808080\",\"dash\":\"solid\"},\"marker\":{\"symbol\":\"circle\"},\"mode\":\"lines\",\"name\":\"Baseline\",\"orientation\":\"v\",\"showlegend\":true,\"x\":[0.0,1189.689453125,2379.37890625,3569.068115234375,4758.7578125,5948.44677734375,7138.13623046875,8327.826171875,9517.515625,10707.2041015625,11896.8935546875,13086.5830078125,14276.2724609375,15465.9619140625,16655.65234375,17845.341796875,19035.03125,20224.720703125,21414.408203125,22604.09765625,23793.787109375,24983.4765625,26173.166015625,27362.85546875,28552.544921875,29742.234375,30931.923828125,32121.61328125,33311.3046875,34500.9921875,35690.68359375,36880.37109375,38070.0625,39259.75,40449.44140625,41639.12890625,42828.81640625,44018.5078125,45208.1953125,46397.88671875,47587.57421875,48777.265625,49966.953125,51156.64453125,52346.33203125,53536.0234375,54725.7109375,55915.40234375,57105.08984375,58294.78125,59484.46875,60674.16015625,61863.84765625,63053.5390625,64243.2265625,65432.91796875,66622.609375,67812.296875,69001.984375,70191.671875,71381.3671875,72571.0546875,73760.7421875,74950.4296875,76140.125,77329.8125,78519.5,79709.1875,80898.8828125,82088.5703125,83278.2578125,84467.9453125,85657.6328125,86847.328125,88037.015625,89226.703125,90416.390625,91606.0859375,92795.7734375,93985.4609375,95175.1484375,96364.84375,97554.53125,98744.21875,99933.90625,101123.6015625,102313.2890625,103502.9765625,104692.6640625,105882.359375,107072.046875,108261.734375,109451.421875,110641.1171875,111830.8046875,113020.4921875,114210.1796875,115399.875,116589.5625,117779.25,118968.9375],\"xaxis\":\"x\",\"y\":[200.0,200.0,200.0,200.0,200.0,200.0,200.0,200.0,200.0,200.0,0.0,0.0,0.0,0.0,0.0,0.0,0.0,0.0,0.0,0.0,0.0,0.0,0.0,0.0,0.0,0.0,0.0,0.0,0.0,0.0,0.0,0.0,0.0,0.0,0.0,0.0,0.0,0.0,0.0,0.0,0.0,0.0,0.0,0.0,0.0,0.0,0.0,0.0,0.0,0.0,0.0,0.0,0.0,0.0,0.0,0.0,0.0,0.0,0.0,0.0,0.0,0.0,0.0,0.0,0.0,0.0,0.0,0.0,0.0,0.0,0.0,0.0,0.0,0.0,0.0,0.0,0.0,0.0,0.0,0.0,0.0,0.0,0.0,0.0,0.0,0.0,0.0,0.0,0.0,0.0,0.0,0.0,0.0,0.0,0.0,0.0,0.0,0.0,0.0,0.0,0.0],\"yaxis\":\"y\",\"type\":\"scatter\"}],\"layout\":{\"template\":{\"data\":{\"barpolar\":[{\"marker\":{\"line\":{\"color\":\"white\",\"width\":0.5},\"pattern\":{\"fillmode\":\"overlay\",\"size\":10,\"solidity\":0.2}},\"type\":\"barpolar\"}],\"bar\":[{\"error_x\":{\"color\":\"#2a3f5f\"},\"error_y\":{\"color\":\"#2a3f5f\"},\"marker\":{\"line\":{\"color\":\"white\",\"width\":0.5},\"pattern\":{\"fillmode\":\"overlay\",\"size\":10,\"solidity\":0.2}},\"type\":\"bar\"}],\"carpet\":[{\"aaxis\":{\"endlinecolor\":\"#2a3f5f\",\"gridcolor\":\"#C8D4E3\",\"linecolor\":\"#C8D4E3\",\"minorgridcolor\":\"#C8D4E3\",\"startlinecolor\":\"#2a3f5f\"},\"baxis\":{\"endlinecolor\":\"#2a3f5f\",\"gridcolor\":\"#C8D4E3\",\"linecolor\":\"#C8D4E3\",\"minorgridcolor\":\"#C8D4E3\",\"startlinecolor\":\"#2a3f5f\"},\"type\":\"carpet\"}],\"choropleth\":[{\"colorbar\":{\"outlinewidth\":0,\"ticks\":\"\"},\"type\":\"choropleth\"}],\"contourcarpet\":[{\"colorbar\":{\"outlinewidth\":0,\"ticks\":\"\"},\"type\":\"contourcarpet\"}],\"contour\":[{\"colorbar\":{\"outlinewidth\":0,\"ticks\":\"\"},\"colorscale\":[[0.0,\"#0d0887\"],[0.1111111111111111,\"#46039f\"],[0.2222222222222222,\"#7201a8\"],[0.3333333333333333,\"#9c179e\"],[0.4444444444444444,\"#bd3786\"],[0.5555555555555556,\"#d8576b\"],[0.6666666666666666,\"#ed7953\"],[0.7777777777777778,\"#fb9f3a\"],[0.8888888888888888,\"#fdca26\"],[1.0,\"#f0f921\"]],\"type\":\"contour\"}],\"heatmapgl\":[{\"colorbar\":{\"outlinewidth\":0,\"ticks\":\"\"},\"colorscale\":[[0.0,\"#0d0887\"],[0.1111111111111111,\"#46039f\"],[0.2222222222222222,\"#7201a8\"],[0.3333333333333333,\"#9c179e\"],[0.4444444444444444,\"#bd3786\"],[0.5555555555555556,\"#d8576b\"],[0.6666666666666666,\"#ed7953\"],[0.7777777777777778,\"#fb9f3a\"],[0.8888888888888888,\"#fdca26\"],[1.0,\"#f0f921\"]],\"type\":\"heatmapgl\"}],\"heatmap\":[{\"colorbar\":{\"outlinewidth\":0,\"ticks\":\"\"},\"colorscale\":[[0.0,\"#0d0887\"],[0.1111111111111111,\"#46039f\"],[0.2222222222222222,\"#7201a8\"],[0.3333333333333333,\"#9c179e\"],[0.4444444444444444,\"#bd3786\"],[0.5555555555555556,\"#d8576b\"],[0.6666666666666666,\"#ed7953\"],[0.7777777777777778,\"#fb9f3a\"],[0.8888888888888888,\"#fdca26\"],[1.0,\"#f0f921\"]],\"type\":\"heatmap\"}],\"histogram2dcontour\":[{\"colorbar\":{\"outlinewidth\":0,\"ticks\":\"\"},\"colorscale\":[[0.0,\"#0d0887\"],[0.1111111111111111,\"#46039f\"],[0.2222222222222222,\"#7201a8\"],[0.3333333333333333,\"#9c179e\"],[0.4444444444444444,\"#bd3786\"],[0.5555555555555556,\"#d8576b\"],[0.6666666666666666,\"#ed7953\"],[0.7777777777777778,\"#fb9f3a\"],[0.8888888888888888,\"#fdca26\"],[1.0,\"#f0f921\"]],\"type\":\"histogram2dcontour\"}],\"histogram2d\":[{\"colorbar\":{\"outlinewidth\":0,\"ticks\":\"\"},\"colorscale\":[[0.0,\"#0d0887\"],[0.1111111111111111,\"#46039f\"],[0.2222222222222222,\"#7201a8\"],[0.3333333333333333,\"#9c179e\"],[0.4444444444444444,\"#bd3786\"],[0.5555555555555556,\"#d8576b\"],[0.6666666666666666,\"#ed7953\"],[0.7777777777777778,\"#fb9f3a\"],[0.8888888888888888,\"#fdca26\"],[1.0,\"#f0f921\"]],\"type\":\"histogram2d\"}],\"histogram\":[{\"marker\":{\"pattern\":{\"fillmode\":\"overlay\",\"size\":10,\"solidity\":0.2}},\"type\":\"histogram\"}],\"mesh3d\":[{\"colorbar\":{\"outlinewidth\":0,\"ticks\":\"\"},\"type\":\"mesh3d\"}],\"parcoords\":[{\"line\":{\"colorbar\":{\"outlinewidth\":0,\"ticks\":\"\"}},\"type\":\"parcoords\"}],\"pie\":[{\"automargin\":true,\"type\":\"pie\"}],\"scatter3d\":[{\"line\":{\"colorbar\":{\"outlinewidth\":0,\"ticks\":\"\"}},\"marker\":{\"colorbar\":{\"outlinewidth\":0,\"ticks\":\"\"}},\"type\":\"scatter3d\"}],\"scattercarpet\":[{\"marker\":{\"colorbar\":{\"outlinewidth\":0,\"ticks\":\"\"}},\"type\":\"scattercarpet\"}],\"scattergeo\":[{\"marker\":{\"colorbar\":{\"outlinewidth\":0,\"ticks\":\"\"}},\"type\":\"scattergeo\"}],\"scattergl\":[{\"marker\":{\"colorbar\":{\"outlinewidth\":0,\"ticks\":\"\"}},\"type\":\"scattergl\"}],\"scattermapbox\":[{\"marker\":{\"colorbar\":{\"outlinewidth\":0,\"ticks\":\"\"}},\"type\":\"scattermapbox\"}],\"scatterpolargl\":[{\"marker\":{\"colorbar\":{\"outlinewidth\":0,\"ticks\":\"\"}},\"type\":\"scatterpolargl\"}],\"scatterpolar\":[{\"marker\":{\"colorbar\":{\"outlinewidth\":0,\"ticks\":\"\"}},\"type\":\"scatterpolar\"}],\"scatter\":[{\"fillpattern\":{\"fillmode\":\"overlay\",\"size\":10,\"solidity\":0.2},\"type\":\"scatter\"}],\"scatterternary\":[{\"marker\":{\"colorbar\":{\"outlinewidth\":0,\"ticks\":\"\"}},\"type\":\"scatterternary\"}],\"surface\":[{\"colorbar\":{\"outlinewidth\":0,\"ticks\":\"\"},\"colorscale\":[[0.0,\"#0d0887\"],[0.1111111111111111,\"#46039f\"],[0.2222222222222222,\"#7201a8\"],[0.3333333333333333,\"#9c179e\"],[0.4444444444444444,\"#bd3786\"],[0.5555555555555556,\"#d8576b\"],[0.6666666666666666,\"#ed7953\"],[0.7777777777777778,\"#fb9f3a\"],[0.8888888888888888,\"#fdca26\"],[1.0,\"#f0f921\"]],\"type\":\"surface\"}],\"table\":[{\"cells\":{\"fill\":{\"color\":\"#EBF0F8\"},\"line\":{\"color\":\"white\"}},\"header\":{\"fill\":{\"color\":\"#C8D4E3\"},\"line\":{\"color\":\"white\"}},\"type\":\"table\"}]},\"layout\":{\"annotationdefaults\":{\"arrowcolor\":\"#2a3f5f\",\"arrowhead\":0,\"arrowwidth\":1},\"autotypenumbers\":\"strict\",\"coloraxis\":{\"colorbar\":{\"outlinewidth\":0,\"ticks\":\"\"}},\"colorscale\":{\"diverging\":[[0,\"#8e0152\"],[0.1,\"#c51b7d\"],[0.2,\"#de77ae\"],[0.3,\"#f1b6da\"],[0.4,\"#fde0ef\"],[0.5,\"#f7f7f7\"],[0.6,\"#e6f5d0\"],[0.7,\"#b8e186\"],[0.8,\"#7fbc41\"],[0.9,\"#4d9221\"],[1,\"#276419\"]],\"sequential\":[[0.0,\"#0d0887\"],[0.1111111111111111,\"#46039f\"],[0.2222222222222222,\"#7201a8\"],[0.3333333333333333,\"#9c179e\"],[0.4444444444444444,\"#bd3786\"],[0.5555555555555556,\"#d8576b\"],[0.6666666666666666,\"#ed7953\"],[0.7777777777777778,\"#fb9f3a\"],[0.8888888888888888,\"#fdca26\"],[1.0,\"#f0f921\"]],\"sequentialminus\":[[0.0,\"#0d0887\"],[0.1111111111111111,\"#46039f\"],[0.2222222222222222,\"#7201a8\"],[0.3333333333333333,\"#9c179e\"],[0.4444444444444444,\"#bd3786\"],[0.5555555555555556,\"#d8576b\"],[0.6666666666666666,\"#ed7953\"],[0.7777777777777778,\"#fb9f3a\"],[0.8888888888888888,\"#fdca26\"],[1.0,\"#f0f921\"]]},\"colorway\":[\"#636efa\",\"#EF553B\",\"#00cc96\",\"#ab63fa\",\"#FFA15A\",\"#19d3f3\",\"#FF6692\",\"#B6E880\",\"#FF97FF\",\"#FECB52\"],\"font\":{\"color\":\"#2a3f5f\"},\"geo\":{\"bgcolor\":\"white\",\"lakecolor\":\"white\",\"landcolor\":\"white\",\"showlakes\":true,\"showland\":true,\"subunitcolor\":\"#C8D4E3\"},\"hoverlabel\":{\"align\":\"left\"},\"hovermode\":\"closest\",\"mapbox\":{\"style\":\"light\"},\"paper_bgcolor\":\"white\",\"plot_bgcolor\":\"white\",\"polar\":{\"angularaxis\":{\"gridcolor\":\"#EBF0F8\",\"linecolor\":\"#EBF0F8\",\"ticks\":\"\"},\"bgcolor\":\"white\",\"radialaxis\":{\"gridcolor\":\"#EBF0F8\",\"linecolor\":\"#EBF0F8\",\"ticks\":\"\"}},\"scene\":{\"xaxis\":{\"backgroundcolor\":\"white\",\"gridcolor\":\"#DFE8F3\",\"gridwidth\":2,\"linecolor\":\"#EBF0F8\",\"showbackground\":true,\"ticks\":\"\",\"zerolinecolor\":\"#EBF0F8\"},\"yaxis\":{\"backgroundcolor\":\"white\",\"gridcolor\":\"#DFE8F3\",\"gridwidth\":2,\"linecolor\":\"#EBF0F8\",\"showbackground\":true,\"ticks\":\"\",\"zerolinecolor\":\"#EBF0F8\"},\"zaxis\":{\"backgroundcolor\":\"white\",\"gridcolor\":\"#DFE8F3\",\"gridwidth\":2,\"linecolor\":\"#EBF0F8\",\"showbackground\":true,\"ticks\":\"\",\"zerolinecolor\":\"#EBF0F8\"}},\"shapedefaults\":{\"line\":{\"color\":\"#2a3f5f\"}},\"ternary\":{\"aaxis\":{\"gridcolor\":\"#DFE8F3\",\"linecolor\":\"#A2B1C6\",\"ticks\":\"\"},\"baxis\":{\"gridcolor\":\"#DFE8F3\",\"linecolor\":\"#A2B1C6\",\"ticks\":\"\"},\"bgcolor\":\"white\",\"caxis\":{\"gridcolor\":\"#DFE8F3\",\"linecolor\":\"#A2B1C6\",\"ticks\":\"\"}},\"title\":{\"x\":0.05},\"xaxis\":{\"automargin\":true,\"gridcolor\":\"#EBF0F8\",\"linecolor\":\"#EBF0F8\",\"ticks\":\"\",\"title\":{\"standoff\":15},\"zerolinecolor\":\"#EBF0F8\",\"zerolinewidth\":2},\"yaxis\":{\"automargin\":true,\"gridcolor\":\"#EBF0F8\",\"linecolor\":\"#EBF0F8\",\"ticks\":\"\",\"title\":{\"standoff\":15},\"zerolinecolor\":\"#EBF0F8\",\"zerolinewidth\":2}}},\"xaxis\":{\"anchor\":\"y\",\"domain\":[0.0,1.0],\"title\":{\"text\":\"Taxable income\"},\"tickprefix\":\"\\u00a3\",\"tickformat\":\",.0f\",\"gridcolor\":\"#F4F4F4\",\"zerolinecolor\":\"#F4F4F4\",\"ticksuffix\":\"\"},\"yaxis\":{\"anchor\":\"x\",\"domain\":[0.0,1.0],\"title\":{\"text\":\"Winter Fuel Allowance\"},\"tickprefix\":\"\\u00a3\",\"tickformat\":\",.0f\",\"gridcolor\":\"#F4F4F4\",\"zerolinecolor\":\"#F4F4F4\",\"ticksuffix\":\"\"},\"legend\":{\"title\":{\"text\":\"\"},\"tracegroupgap\":0},\"margin\":{\"t\":120,\"b\":120,\"l\":120,\"r\":120},\"title\":{\"text\":\"Winter Fuel Allowance by taxable income for a 70-year-old\"},\"font\":{\"family\":\"Roboto Serif\",\"color\":\"black\"},\"height\":600,\"width\":800,\"plot_bgcolor\":\"#F4F4F4\",\"paper_bgcolor\":\"#F4F4F4\",\"images\":[{\"sizex\":0.15,\"sizey\":0.15,\"source\":\"https:\\u002f\\u002fraw.githubusercontent.com\\u002fPolicyEngine\\u002fpolicyengine-app\\u002fmaster\\u002fsrc\\u002fimages\\u002flogos\\u002fpolicyengine\\u002fblue.png\",\"x\":1.1,\"xanchor\":\"right\",\"xref\":\"paper\",\"y\":-0.2,\"yanchor\":\"bottom\",\"yref\":\"paper\"}],\"annotations\":[{\"showarrow\":false,\"text\":\"Source: PolicyEngine UK tax-benefit microsimulation model (version 2.32.0)\",\"x\":0,\"xanchor\":\"left\",\"xref\":\"paper\",\"y\":-0.2,\"yanchor\":\"bottom\",\"yref\":\"paper\"}],\"modebar\":{\"bgcolor\":\"#F4F4F4\",\"color\":\"#F4F4F4\",\"activecolor\":\"#F4F4F4\"},\"uniformtext\":{\"mode\":\"hide\",\"minsize\":12}}}\n",
    "```\n",
    "\n",
    "## Economic impacts\n",
    "\n",
    "We [estimate](https://policyengine.org/uk/policy?focus=policyOutput.policyBreakdown&reform=85980&region=uk&timePeriod=2025&baseline=1) this reform will increase the deficit by £1.33 billion per year (the government estimates £1.26 billion in 2025/26), totaling £6.6 billion over the next five years.\n",
    "\n",
    "| Net revenue impact (billions) | 2025-26 | 2026-27 | 2027-28 | 2028-29 | 2029-30 | 2025-30 |\n",
    "|-------------------------------|---------|---------|---------|---------|---------|---------|\n",
    "| Tax                          | 0.0     | 0.0     | 0.0     | 0.0     | 0.0     | 0.0     |\n",
    "| Benefits                     | 1.3     | 1.3     | 1.3     | 1.3     | 1.3     | 6.6     |\n",
    "| **Total**                    | **-1.3** | **-1.3** | **-1.3** | **-1.3** | **-1.3** | **-6.6** |\n",
    "\n",
    "\n",
    "We estimate that the reform will also benefit the second income decile the most in 2025, with the top three deciles benefitting by less than 0.1%.\n",
    "\n",
    "```plotly\n",
    "{\"data\":[{\"alignmentgroup\":\"True\",\"hovertemplate\":\"Income decile=%{x}\\u003cbr\\u003eRelative net income change=%{y}\\u003cbr\\u003etext=%{text}\\u003cextra\\u003e\\u003c\\u002fextra\\u003e\",\"legendgroup\":\"\",\"marker\":{\"color\":\"#2C6496\",\"pattern\":{\"shape\":\"\"}},\"name\":\"\",\"offsetgroup\":\"\",\"orientation\":\"v\",\"showlegend\":false,\"text\":[\"0.16%\",\"0.26%\",\"0.24%\",\"0.19%\",\"0.19%\",\"0.13%\",\"0.11%\",\"0.02%\",\"0.02%\",\"0.01%\"],\"textposition\":\"auto\",\"x\":[\"1\",\"2\",\"3\",\"4\",\"5\",\"6\",\"7\",\"8\",\"9\",\"10\"],\"xaxis\":\"x\",\"y\":[0.0016286845773460803,0.0025985178524429438,0.0023843406664892223,0.0018586896728699704,0.0018596998204870117,0.0013138312658149721,0.0011071005875686042,0.00024795528943022133,0.0002456897607750285,5.1435862897925305e-05],\"yaxis\":\"y\",\"type\":\"bar\"}],\"layout\":{\"template\":{\"data\":{\"barpolar\":[{\"marker\":{\"line\":{\"color\":\"white\",\"width\":0.5},\"pattern\":{\"fillmode\":\"overlay\",\"size\":10,\"solidity\":0.2}},\"type\":\"barpolar\"}],\"bar\":[{\"error_x\":{\"color\":\"#2a3f5f\"},\"error_y\":{\"color\":\"#2a3f5f\"},\"marker\":{\"line\":{\"color\":\"white\",\"width\":0.5},\"pattern\":{\"fillmode\":\"overlay\",\"size\":10,\"solidity\":0.2}},\"type\":\"bar\"}],\"carpet\":[{\"aaxis\":{\"endlinecolor\":\"#2a3f5f\",\"gridcolor\":\"#C8D4E3\",\"linecolor\":\"#C8D4E3\",\"minorgridcolor\":\"#C8D4E3\",\"startlinecolor\":\"#2a3f5f\"},\"baxis\":{\"endlinecolor\":\"#2a3f5f\",\"gridcolor\":\"#C8D4E3\",\"linecolor\":\"#C8D4E3\",\"minorgridcolor\":\"#C8D4E3\",\"startlinecolor\":\"#2a3f5f\"},\"type\":\"carpet\"}],\"choropleth\":[{\"colorbar\":{\"outlinewidth\":0,\"ticks\":\"\"},\"type\":\"choropleth\"}],\"contourcarpet\":[{\"colorbar\":{\"outlinewidth\":0,\"ticks\":\"\"},\"type\":\"contourcarpet\"}],\"contour\":[{\"colorbar\":{\"outlinewidth\":0,\"ticks\":\"\"},\"colorscale\":[[0.0,\"#0d0887\"],[0.1111111111111111,\"#46039f\"],[0.2222222222222222,\"#7201a8\"],[0.3333333333333333,\"#9c179e\"],[0.4444444444444444,\"#bd3786\"],[0.5555555555555556,\"#d8576b\"],[0.6666666666666666,\"#ed7953\"],[0.7777777777777778,\"#fb9f3a\"],[0.8888888888888888,\"#fdca26\"],[1.0,\"#f0f921\"]],\"type\":\"contour\"}],\"heatmapgl\":[{\"colorbar\":{\"outlinewidth\":0,\"ticks\":\"\"},\"colorscale\":[[0.0,\"#0d0887\"],[0.1111111111111111,\"#46039f\"],[0.2222222222222222,\"#7201a8\"],[0.3333333333333333,\"#9c179e\"],[0.4444444444444444,\"#bd3786\"],[0.5555555555555556,\"#d8576b\"],[0.6666666666666666,\"#ed7953\"],[0.7777777777777778,\"#fb9f3a\"],[0.8888888888888888,\"#fdca26\"],[1.0,\"#f0f921\"]],\"type\":\"heatmapgl\"}],\"heatmap\":[{\"colorbar\":{\"outlinewidth\":0,\"ticks\":\"\"},\"colorscale\":[[0.0,\"#0d0887\"],[0.1111111111111111,\"#46039f\"],[0.2222222222222222,\"#7201a8\"],[0.3333333333333333,\"#9c179e\"],[0.4444444444444444,\"#bd3786\"],[0.5555555555555556,\"#d8576b\"],[0.6666666666666666,\"#ed7953\"],[0.7777777777777778,\"#fb9f3a\"],[0.8888888888888888,\"#fdca26\"],[1.0,\"#f0f921\"]],\"type\":\"heatmap\"}],\"histogram2dcontour\":[{\"colorbar\":{\"outlinewidth\":0,\"ticks\":\"\"},\"colorscale\":[[0.0,\"#0d0887\"],[0.1111111111111111,\"#46039f\"],[0.2222222222222222,\"#7201a8\"],[0.3333333333333333,\"#9c179e\"],[0.4444444444444444,\"#bd3786\"],[0.5555555555555556,\"#d8576b\"],[0.6666666666666666,\"#ed7953\"],[0.7777777777777778,\"#fb9f3a\"],[0.8888888888888888,\"#fdca26\"],[1.0,\"#f0f921\"]],\"type\":\"histogram2dcontour\"}],\"histogram2d\":[{\"colorbar\":{\"outlinewidth\":0,\"ticks\":\"\"},\"colorscale\":[[0.0,\"#0d0887\"],[0.1111111111111111,\"#46039f\"],[0.2222222222222222,\"#7201a8\"],[0.3333333333333333,\"#9c179e\"],[0.4444444444444444,\"#bd3786\"],[0.5555555555555556,\"#d8576b\"],[0.6666666666666666,\"#ed7953\"],[0.7777777777777778,\"#fb9f3a\"],[0.8888888888888888,\"#fdca26\"],[1.0,\"#f0f921\"]],\"type\":\"histogram2d\"}],\"histogram\":[{\"marker\":{\"pattern\":{\"fillmode\":\"overlay\",\"size\":10,\"solidity\":0.2}},\"type\":\"histogram\"}],\"mesh3d\":[{\"colorbar\":{\"outlinewidth\":0,\"ticks\":\"\"},\"type\":\"mesh3d\"}],\"parcoords\":[{\"line\":{\"colorbar\":{\"outlinewidth\":0,\"ticks\":\"\"}},\"type\":\"parcoords\"}],\"pie\":[{\"automargin\":true,\"type\":\"pie\"}],\"scatter3d\":[{\"line\":{\"colorbar\":{\"outlinewidth\":0,\"ticks\":\"\"}},\"marker\":{\"colorbar\":{\"outlinewidth\":0,\"ticks\":\"\"}},\"type\":\"scatter3d\"}],\"scattercarpet\":[{\"marker\":{\"colorbar\":{\"outlinewidth\":0,\"ticks\":\"\"}},\"type\":\"scattercarpet\"}],\"scattergeo\":[{\"marker\":{\"colorbar\":{\"outlinewidth\":0,\"ticks\":\"\"}},\"type\":\"scattergeo\"}],\"scattergl\":[{\"marker\":{\"colorbar\":{\"outlinewidth\":0,\"ticks\":\"\"}},\"type\":\"scattergl\"}],\"scattermapbox\":[{\"marker\":{\"colorbar\":{\"outlinewidth\":0,\"ticks\":\"\"}},\"type\":\"scattermapbox\"}],\"scatterpolargl\":[{\"marker\":{\"colorbar\":{\"outlinewidth\":0,\"ticks\":\"\"}},\"type\":\"scatterpolargl\"}],\"scatterpolar\":[{\"marker\":{\"colorbar\":{\"outlinewidth\":0,\"ticks\":\"\"}},\"type\":\"scatterpolar\"}],\"scatter\":[{\"fillpattern\":{\"fillmode\":\"overlay\",\"size\":10,\"solidity\":0.2},\"type\":\"scatter\"}],\"scatterternary\":[{\"marker\":{\"colorbar\":{\"outlinewidth\":0,\"ticks\":\"\"}},\"type\":\"scatterternary\"}],\"surface\":[{\"colorbar\":{\"outlinewidth\":0,\"ticks\":\"\"},\"colorscale\":[[0.0,\"#0d0887\"],[0.1111111111111111,\"#46039f\"],[0.2222222222222222,\"#7201a8\"],[0.3333333333333333,\"#9c179e\"],[0.4444444444444444,\"#bd3786\"],[0.5555555555555556,\"#d8576b\"],[0.6666666666666666,\"#ed7953\"],[0.7777777777777778,\"#fb9f3a\"],[0.8888888888888888,\"#fdca26\"],[1.0,\"#f0f921\"]],\"type\":\"surface\"}],\"table\":[{\"cells\":{\"fill\":{\"color\":\"#EBF0F8\"},\"line\":{\"color\":\"white\"}},\"header\":{\"fill\":{\"color\":\"#C8D4E3\"},\"line\":{\"color\":\"white\"}},\"type\":\"table\"}]},\"layout\":{\"annotationdefaults\":{\"arrowcolor\":\"#2a3f5f\",\"arrowhead\":0,\"arrowwidth\":1},\"autotypenumbers\":\"strict\",\"coloraxis\":{\"colorbar\":{\"outlinewidth\":0,\"ticks\":\"\"}},\"colorscale\":{\"diverging\":[[0,\"#8e0152\"],[0.1,\"#c51b7d\"],[0.2,\"#de77ae\"],[0.3,\"#f1b6da\"],[0.4,\"#fde0ef\"],[0.5,\"#f7f7f7\"],[0.6,\"#e6f5d0\"],[0.7,\"#b8e186\"],[0.8,\"#7fbc41\"],[0.9,\"#4d9221\"],[1,\"#276419\"]],\"sequential\":[[0.0,\"#0d0887\"],[0.1111111111111111,\"#46039f\"],[0.2222222222222222,\"#7201a8\"],[0.3333333333333333,\"#9c179e\"],[0.4444444444444444,\"#bd3786\"],[0.5555555555555556,\"#d8576b\"],[0.6666666666666666,\"#ed7953\"],[0.7777777777777778,\"#fb9f3a\"],[0.8888888888888888,\"#fdca26\"],[1.0,\"#f0f921\"]],\"sequentialminus\":[[0.0,\"#0d0887\"],[0.1111111111111111,\"#46039f\"],[0.2222222222222222,\"#7201a8\"],[0.3333333333333333,\"#9c179e\"],[0.4444444444444444,\"#bd3786\"],[0.5555555555555556,\"#d8576b\"],[0.6666666666666666,\"#ed7953\"],[0.7777777777777778,\"#fb9f3a\"],[0.8888888888888888,\"#fdca26\"],[1.0,\"#f0f921\"]]},\"colorway\":[\"#636efa\",\"#EF553B\",\"#00cc96\",\"#ab63fa\",\"#FFA15A\",\"#19d3f3\",\"#FF6692\",\"#B6E880\",\"#FF97FF\",\"#FECB52\"],\"font\":{\"color\":\"#2a3f5f\"},\"geo\":{\"bgcolor\":\"white\",\"lakecolor\":\"white\",\"landcolor\":\"white\",\"showlakes\":true,\"showland\":true,\"subunitcolor\":\"#C8D4E3\"},\"hoverlabel\":{\"align\":\"left\"},\"hovermode\":\"closest\",\"mapbox\":{\"style\":\"light\"},\"paper_bgcolor\":\"white\",\"plot_bgcolor\":\"white\",\"polar\":{\"angularaxis\":{\"gridcolor\":\"#EBF0F8\",\"linecolor\":\"#EBF0F8\",\"ticks\":\"\"},\"bgcolor\":\"white\",\"radialaxis\":{\"gridcolor\":\"#EBF0F8\",\"linecolor\":\"#EBF0F8\",\"ticks\":\"\"}},\"scene\":{\"xaxis\":{\"backgroundcolor\":\"white\",\"gridcolor\":\"#DFE8F3\",\"gridwidth\":2,\"linecolor\":\"#EBF0F8\",\"showbackground\":true,\"ticks\":\"\",\"zerolinecolor\":\"#EBF0F8\"},\"yaxis\":{\"backgroundcolor\":\"white\",\"gridcolor\":\"#DFE8F3\",\"gridwidth\":2,\"linecolor\":\"#EBF0F8\",\"showbackground\":true,\"ticks\":\"\",\"zerolinecolor\":\"#EBF0F8\"},\"zaxis\":{\"backgroundcolor\":\"white\",\"gridcolor\":\"#DFE8F3\",\"gridwidth\":2,\"linecolor\":\"#EBF0F8\",\"showbackground\":true,\"ticks\":\"\",\"zerolinecolor\":\"#EBF0F8\"}},\"shapedefaults\":{\"line\":{\"color\":\"#2a3f5f\"}},\"ternary\":{\"aaxis\":{\"gridcolor\":\"#DFE8F3\",\"linecolor\":\"#A2B1C6\",\"ticks\":\"\"},\"baxis\":{\"gridcolor\":\"#DFE8F3\",\"linecolor\":\"#A2B1C6\",\"ticks\":\"\"},\"bgcolor\":\"white\",\"caxis\":{\"gridcolor\":\"#DFE8F3\",\"linecolor\":\"#A2B1C6\",\"ticks\":\"\"}},\"title\":{\"x\":0.05},\"xaxis\":{\"automargin\":true,\"gridcolor\":\"#EBF0F8\",\"linecolor\":\"#EBF0F8\",\"ticks\":\"\",\"title\":{\"standoff\":15},\"zerolinecolor\":\"#EBF0F8\",\"zerolinewidth\":2},\"yaxis\":{\"automargin\":true,\"gridcolor\":\"#EBF0F8\",\"linecolor\":\"#EBF0F8\",\"ticks\":\"\",\"title\":{\"standoff\":15},\"zerolinecolor\":\"#EBF0F8\",\"zerolinewidth\":2}}},\"xaxis\":{\"anchor\":\"y\",\"domain\":[0.0,1.0],\"title\":{\"text\":\"Income decile\"},\"gridcolor\":\"#F4F4F4\",\"zerolinecolor\":\"#F4F4F4\",\"ticksuffix\":\"\"},\"yaxis\":{\"anchor\":\"x\",\"domain\":[0.0,1.0],\"title\":{\"text\":\"Relative net income change\"},\"tickformat\":\".1%\",\"gridcolor\":\"#F4F4F4\",\"zerolinecolor\":\"#F4F4F4\",\"ticksuffix\":\"\"},\"legend\":{\"tracegroupgap\":0},\"margin\":{\"t\":120,\"b\":120,\"l\":120,\"r\":120},\"barmode\":\"relative\",\"uniformtext\":{\"minsize\":12,\"mode\":\"hide\"},\"title\":{\"text\":\"Relative net income change by income decile of expanding WFA eligibility\"},\"font\":{\"family\":\"Roboto Serif\",\"color\":\"black\"},\"height\":600,\"width\":800,\"plot_bgcolor\":\"#F4F4F4\",\"paper_bgcolor\":\"#F4F4F4\",\"images\":[{\"sizex\":0.15,\"sizey\":0.15,\"source\":\"https:\\u002f\\u002fraw.githubusercontent.com\\u002fPolicyEngine\\u002fpolicyengine-app\\u002fmaster\\u002fsrc\\u002fimages\\u002flogos\\u002fpolicyengine\\u002fblue.png\",\"x\":1.1,\"xanchor\":\"right\",\"xref\":\"paper\",\"y\":-0.2,\"yanchor\":\"bottom\",\"yref\":\"paper\"}],\"annotations\":[{\"showarrow\":false,\"text\":\"Source: PolicyEngine UK tax-benefit microsimulation model (version 2.28.2)\",\"x\":0,\"xanchor\":\"left\",\"xref\":\"paper\",\"y\":-0.2,\"yanchor\":\"bottom\",\"yref\":\"paper\"}],\"modebar\":{\"bgcolor\":\"#F4F4F4\",\"color\":\"#F4F4F4\",\"activecolor\":\"#F4F4F4\"}}}\n",
    "\n",
    "```\n"
   ]
  },
  {
   "cell_type": "code",
   "execution_count": 3,
   "metadata": {},
   "outputs": [
    {
     "name": "stderr",
     "output_type": "stream",
     "text": [
      "/Users/nikhilwoodruff/policyengine/policyengine-app/.venv/lib/python3.11/site-packages/tqdm/auto.py:21: TqdmWarning: IProgress not found. Please update jupyter and ipywidgets. See https://ipywidgets.readthedocs.io/en/stable/user_install.html\n",
      "  from .autonotebook import tqdm as notebook_tqdm\n",
      "No data provided, using default dataset: gs://policyengine-uk-data-private/enhanced_frs_2022_23.h5\n",
      "Downloading enhanced_frs_2022_23.h5 from bucket policyengine-uk-data-private\n",
      "INFO:root:Using Google Cloud Storage for download.\n",
      "INFO:root:Metadata for blob policyengine-uk-data-private, enhanced_frs_2022_23.h5 has version: 1.13.1\n",
      "WARNING:root:No version specified for policyengine-uk-data-private, enhanced_frs_2022_23.h5. Using latest version: 1.13.1\n",
      "INFO:policyengine.utils.data.caching_google_storage_client:Syncing policyengine-uk-data-private, enhanced_frs_2022_23.h5, 1.13.1 to cache\n",
      "INFO:root:Blob policyengine-uk-data-private, /b/policyengine-uk-data-private/o/enhanced_frs_2022_23.h5 has version 1.13.1\n",
      "INFO:policyengine.utils.data.simplified_google_storage_client:Crc for policyengine-uk-data-private, enhanced_frs_2022_23.h5 is xBsZfQ==\n",
      "INFO:root:Blob policyengine-uk-data-private, /b/policyengine-uk-data-private/o/enhanced_frs_2022_23.h5 has version 1.13.1\n",
      "INFO:policyengine.utils.data.simplified_google_storage_client:Downloaded policyengine-uk-data-private, enhanced_frs_2022_23.h5, version:1.13.1\n",
      "INFO:policyengine.utils.data.caching_google_storage_client:Downloaded new version of policyengine-uk-data-private, enhanced_frs_2022_23.h5, 1.13.1 with crc xBsZfQ==\n",
      "INFO:policyengine.utils.data.caching_google_storage_client:Cache updated for {id_string}\n",
      "INFO:policyengine.utils.data.caching_google_storage_client:Copying downloaded data for policyengine-uk-data-private, enhanced_frs_2022_23.h5 to enhanced_frs_2022_23.h5\n",
      "INFO:policyengine.utils.data.caching_google_storage_client:Data successfully copied to enhanced_frs_2022_23.h5 with version 1.13.1\n",
      "INFO:root:Data loaded\n",
      "INFO:root:Simulations initialised\n",
      "INFO:root:Output functions loaded\n"
     ]
    },
    {
     "data": {
      "text/markdown": [
       "[See the forecast change in PolicyEngine](https://policyengine.org/uk/policy?reform=85983&baseline=85984&region=uk&timePeriod=2029)"
      ],
      "text/plain": [
       "<IPython.core.display.Markdown object>"
      ]
     },
     "execution_count": 3,
     "metadata": {},
     "output_type": "execute_result"
    }
   ],
   "source": [
    "from policyengine import Simulation\n",
    "\n",
    "\n",
    "ORIGINAL_MEANS_TESTED = {\n",
    "    \"gov.dwp.winter_fuel_payment.eligibility.taxable_income_test.maximum_taxable_income\": {\n",
    "        \"2025\": 0,\n",
    "        \"2026\": 0,\n",
    "        \"2027\": 0,\n",
    "        \"2028\": 0,\n",
    "        \"2029\": 0,\n",
    "    },\n",
    "    \"gov.dwp.winter_fuel_payment.eligibility.taxable_income_test.use_maximum_taxable_income\": {\n",
    "        \"2025\": False,\n",
    "        \"2026\": False,\n",
    "        \"2027\": False,\n",
    "        \"2028\": False,\n",
    "        \"2029\": False,\n",
    "    },\n",
    "}\n",
    "\n",
    "NEW_MEANS_TESTED = {\n",
    "    \"gov.dwp.winter_fuel_payment.eligibility.taxable_income_test.maximum_taxable_income\": {\n",
    "        \"2025\": 35_000,\n",
    "        \"2026\": 35_000,\n",
    "        \"2027\": 35_000,\n",
    "        \"2028\": 35_000,\n",
    "        \"2029\": 35_000,\n",
    "    },\n",
    "    \"gov.dwp.winter_fuel_payment.eligibility.taxable_income_test.use_maximum_taxable_income\": {\n",
    "        \"2025\": True,\n",
    "        \"2026\": True,\n",
    "        \"2027\": True,\n",
    "        \"2028\": True,\n",
    "        \"2029\": True,\n",
    "    },\n",
    "}\n",
    "\n",
    "sim = Simulation(\n",
    "    country=\"uk\",\n",
    "    scope=\"macro\",\n",
    "    baseline=ORIGINAL_MEANS_TESTED,\n",
    "    reform=NEW_MEANS_TESTED,\n",
    ")\n",
    "\n",
    "from policyengine_core.reforms import Reform\n",
    "from IPython.display import Markdown\n",
    "import pandas as pd\n",
    "\n",
    "baseline = Reform.from_dict(ORIGINAL_MEANS_TESTED, country_id=\"uk\")\n",
    "reform = Reform.from_dict(NEW_MEANS_TESTED, country_id=\"uk\")\n",
    "\n",
    "link = f\"https://policyengine.org/uk/policy?reform={reform.api_id}&baseline={baseline.api_id}&region=uk&timePeriod=2029\"\n",
    "\n",
    "Markdown(f\"[See the forecast change in PolicyEngine]({link})\")"
   ]
  },
  {
   "cell_type": "code",
   "execution_count": 10,
   "metadata": {},
   "outputs": [
    {
     "name": "stderr",
     "output_type": "stream",
     "text": [
      "INFO:root:Simulations initialised\n",
      "INFO:root:Output functions loaded\n"
     ]
    },
    {
     "name": "stdout",
     "output_type": "stream",
     "text": [
      "{\"data\":[{\"hovertemplate\":\"variable=Reform\\u003cbr\\u003eIncome=%{x}\\u003cbr\\u003evalue=%{y}\\u003cextra\\u003e\\u003c\\u002fextra\\u003e\",\"legendgroup\":\"Reform\",\"line\":{\"color\":\"#2C6496\",\"dash\":\"solid\"},\"marker\":{\"symbol\":\"circle\"},\"mode\":\"lines\",\"name\":\"Reform\",\"orientation\":\"v\",\"showlegend\":true,\"x\":[0.0,1189.689453125,2379.37890625,3569.068115234375,4758.7578125,5948.44677734375,7138.13623046875,8327.826171875,9517.515625,10707.2041015625,11896.8935546875,13086.5830078125,14276.2724609375,15465.9619140625,16655.65234375,17845.341796875,19035.03125,20224.720703125,21414.408203125,22604.09765625,23793.787109375,24983.4765625,26173.166015625,27362.85546875,28552.544921875,29742.234375,30931.923828125,32121.61328125,33311.3046875,34500.9921875,35690.68359375,36880.37109375,38070.0625,39259.75,40449.44140625,41639.12890625,42828.81640625,44018.5078125,45208.1953125,46397.88671875,47587.57421875,48777.265625,49966.953125,51156.64453125,52346.33203125,53536.0234375,54725.7109375,55915.40234375,57105.08984375,58294.78125,59484.46875,60674.16015625,61863.84765625,63053.5390625,64243.2265625,65432.91796875,66622.609375,67812.296875,69001.984375,70191.671875,71381.3671875,72571.0546875,73760.7421875,74950.4296875,76140.125,77329.8125,78519.5,79709.1875,80898.8828125,82088.5703125,83278.2578125,84467.9453125,85657.6328125,86847.328125,88037.015625,89226.703125,90416.390625,91606.0859375,92795.7734375,93985.4609375,95175.1484375,96364.84375,97554.53125,98744.21875,99933.90625,101123.6015625,102313.2890625,103502.9765625,104692.6640625,105882.359375,107072.046875,108261.734375,109451.421875,110641.1171875,111830.8046875,113020.4921875,114210.1796875,115399.875,116589.5625,117779.25,118968.9375],\"xaxis\":\"x\",\"y\":[200.0,200.0,200.0,200.0,200.0,200.0,200.0,200.0,200.0,200.0,200.0,200.0,200.0,200.0,200.0,200.0,200.0,200.0,200.0,200.0,200.0,200.0,200.0,200.0,200.0,200.0,200.0,200.0,200.0,200.0,0.0,0.0,0.0,0.0,0.0,0.0,0.0,0.0,0.0,0.0,0.0,0.0,0.0,0.0,0.0,0.0,0.0,0.0,0.0,0.0,0.0,0.0,0.0,0.0,0.0,0.0,0.0,0.0,0.0,0.0,0.0,0.0,0.0,0.0,0.0,0.0,0.0,0.0,0.0,0.0,0.0,0.0,0.0,0.0,0.0,0.0,0.0,0.0,0.0,0.0,0.0,0.0,0.0,0.0,0.0,0.0,0.0,0.0,0.0,0.0,0.0,0.0,0.0,0.0,0.0,0.0,0.0,0.0,0.0,0.0,0.0],\"yaxis\":\"y\",\"type\":\"scatter\"},{\"hovertemplate\":\"variable=Baseline\\u003cbr\\u003eIncome=%{x}\\u003cbr\\u003evalue=%{y}\\u003cextra\\u003e\\u003c\\u002fextra\\u003e\",\"legendgroup\":\"Baseline\",\"line\":{\"color\":\"#808080\",\"dash\":\"solid\"},\"marker\":{\"symbol\":\"circle\"},\"mode\":\"lines\",\"name\":\"Baseline\",\"orientation\":\"v\",\"showlegend\":true,\"x\":[0.0,1189.689453125,2379.37890625,3569.068115234375,4758.7578125,5948.44677734375,7138.13623046875,8327.826171875,9517.515625,10707.2041015625,11896.8935546875,13086.5830078125,14276.2724609375,15465.9619140625,16655.65234375,17845.341796875,19035.03125,20224.720703125,21414.408203125,22604.09765625,23793.787109375,24983.4765625,26173.166015625,27362.85546875,28552.544921875,29742.234375,30931.923828125,32121.61328125,33311.3046875,34500.9921875,35690.68359375,36880.37109375,38070.0625,39259.75,40449.44140625,41639.12890625,42828.81640625,44018.5078125,45208.1953125,46397.88671875,47587.57421875,48777.265625,49966.953125,51156.64453125,52346.33203125,53536.0234375,54725.7109375,55915.40234375,57105.08984375,58294.78125,59484.46875,60674.16015625,61863.84765625,63053.5390625,64243.2265625,65432.91796875,66622.609375,67812.296875,69001.984375,70191.671875,71381.3671875,72571.0546875,73760.7421875,74950.4296875,76140.125,77329.8125,78519.5,79709.1875,80898.8828125,82088.5703125,83278.2578125,84467.9453125,85657.6328125,86847.328125,88037.015625,89226.703125,90416.390625,91606.0859375,92795.7734375,93985.4609375,95175.1484375,96364.84375,97554.53125,98744.21875,99933.90625,101123.6015625,102313.2890625,103502.9765625,104692.6640625,105882.359375,107072.046875,108261.734375,109451.421875,110641.1171875,111830.8046875,113020.4921875,114210.1796875,115399.875,116589.5625,117779.25,118968.9375],\"xaxis\":\"x\",\"y\":[200.0,200.0,200.0,200.0,200.0,200.0,200.0,200.0,200.0,200.0,0.0,0.0,0.0,0.0,0.0,0.0,0.0,0.0,0.0,0.0,0.0,0.0,0.0,0.0,0.0,0.0,0.0,0.0,0.0,0.0,0.0,0.0,0.0,0.0,0.0,0.0,0.0,0.0,0.0,0.0,0.0,0.0,0.0,0.0,0.0,0.0,0.0,0.0,0.0,0.0,0.0,0.0,0.0,0.0,0.0,0.0,0.0,0.0,0.0,0.0,0.0,0.0,0.0,0.0,0.0,0.0,0.0,0.0,0.0,0.0,0.0,0.0,0.0,0.0,0.0,0.0,0.0,0.0,0.0,0.0,0.0,0.0,0.0,0.0,0.0,0.0,0.0,0.0,0.0,0.0,0.0,0.0,0.0,0.0,0.0,0.0,0.0,0.0,0.0,0.0,0.0],\"yaxis\":\"y\",\"type\":\"scatter\"}],\"layout\":{\"template\":{\"data\":{\"barpolar\":[{\"marker\":{\"line\":{\"color\":\"white\",\"width\":0.5},\"pattern\":{\"fillmode\":\"overlay\",\"size\":10,\"solidity\":0.2}},\"type\":\"barpolar\"}],\"bar\":[{\"error_x\":{\"color\":\"#2a3f5f\"},\"error_y\":{\"color\":\"#2a3f5f\"},\"marker\":{\"line\":{\"color\":\"white\",\"width\":0.5},\"pattern\":{\"fillmode\":\"overlay\",\"size\":10,\"solidity\":0.2}},\"type\":\"bar\"}],\"carpet\":[{\"aaxis\":{\"endlinecolor\":\"#2a3f5f\",\"gridcolor\":\"#C8D4E3\",\"linecolor\":\"#C8D4E3\",\"minorgridcolor\":\"#C8D4E3\",\"startlinecolor\":\"#2a3f5f\"},\"baxis\":{\"endlinecolor\":\"#2a3f5f\",\"gridcolor\":\"#C8D4E3\",\"linecolor\":\"#C8D4E3\",\"minorgridcolor\":\"#C8D4E3\",\"startlinecolor\":\"#2a3f5f\"},\"type\":\"carpet\"}],\"choropleth\":[{\"colorbar\":{\"outlinewidth\":0,\"ticks\":\"\"},\"type\":\"choropleth\"}],\"contourcarpet\":[{\"colorbar\":{\"outlinewidth\":0,\"ticks\":\"\"},\"type\":\"contourcarpet\"}],\"contour\":[{\"colorbar\":{\"outlinewidth\":0,\"ticks\":\"\"},\"colorscale\":[[0.0,\"#0d0887\"],[0.1111111111111111,\"#46039f\"],[0.2222222222222222,\"#7201a8\"],[0.3333333333333333,\"#9c179e\"],[0.4444444444444444,\"#bd3786\"],[0.5555555555555556,\"#d8576b\"],[0.6666666666666666,\"#ed7953\"],[0.7777777777777778,\"#fb9f3a\"],[0.8888888888888888,\"#fdca26\"],[1.0,\"#f0f921\"]],\"type\":\"contour\"}],\"heatmapgl\":[{\"colorbar\":{\"outlinewidth\":0,\"ticks\":\"\"},\"colorscale\":[[0.0,\"#0d0887\"],[0.1111111111111111,\"#46039f\"],[0.2222222222222222,\"#7201a8\"],[0.3333333333333333,\"#9c179e\"],[0.4444444444444444,\"#bd3786\"],[0.5555555555555556,\"#d8576b\"],[0.6666666666666666,\"#ed7953\"],[0.7777777777777778,\"#fb9f3a\"],[0.8888888888888888,\"#fdca26\"],[1.0,\"#f0f921\"]],\"type\":\"heatmapgl\"}],\"heatmap\":[{\"colorbar\":{\"outlinewidth\":0,\"ticks\":\"\"},\"colorscale\":[[0.0,\"#0d0887\"],[0.1111111111111111,\"#46039f\"],[0.2222222222222222,\"#7201a8\"],[0.3333333333333333,\"#9c179e\"],[0.4444444444444444,\"#bd3786\"],[0.5555555555555556,\"#d8576b\"],[0.6666666666666666,\"#ed7953\"],[0.7777777777777778,\"#fb9f3a\"],[0.8888888888888888,\"#fdca26\"],[1.0,\"#f0f921\"]],\"type\":\"heatmap\"}],\"histogram2dcontour\":[{\"colorbar\":{\"outlinewidth\":0,\"ticks\":\"\"},\"colorscale\":[[0.0,\"#0d0887\"],[0.1111111111111111,\"#46039f\"],[0.2222222222222222,\"#7201a8\"],[0.3333333333333333,\"#9c179e\"],[0.4444444444444444,\"#bd3786\"],[0.5555555555555556,\"#d8576b\"],[0.6666666666666666,\"#ed7953\"],[0.7777777777777778,\"#fb9f3a\"],[0.8888888888888888,\"#fdca26\"],[1.0,\"#f0f921\"]],\"type\":\"histogram2dcontour\"}],\"histogram2d\":[{\"colorbar\":{\"outlinewidth\":0,\"ticks\":\"\"},\"colorscale\":[[0.0,\"#0d0887\"],[0.1111111111111111,\"#46039f\"],[0.2222222222222222,\"#7201a8\"],[0.3333333333333333,\"#9c179e\"],[0.4444444444444444,\"#bd3786\"],[0.5555555555555556,\"#d8576b\"],[0.6666666666666666,\"#ed7953\"],[0.7777777777777778,\"#fb9f3a\"],[0.8888888888888888,\"#fdca26\"],[1.0,\"#f0f921\"]],\"type\":\"histogram2d\"}],\"histogram\":[{\"marker\":{\"pattern\":{\"fillmode\":\"overlay\",\"size\":10,\"solidity\":0.2}},\"type\":\"histogram\"}],\"mesh3d\":[{\"colorbar\":{\"outlinewidth\":0,\"ticks\":\"\"},\"type\":\"mesh3d\"}],\"parcoords\":[{\"line\":{\"colorbar\":{\"outlinewidth\":0,\"ticks\":\"\"}},\"type\":\"parcoords\"}],\"pie\":[{\"automargin\":true,\"type\":\"pie\"}],\"scatter3d\":[{\"line\":{\"colorbar\":{\"outlinewidth\":0,\"ticks\":\"\"}},\"marker\":{\"colorbar\":{\"outlinewidth\":0,\"ticks\":\"\"}},\"type\":\"scatter3d\"}],\"scattercarpet\":[{\"marker\":{\"colorbar\":{\"outlinewidth\":0,\"ticks\":\"\"}},\"type\":\"scattercarpet\"}],\"scattergeo\":[{\"marker\":{\"colorbar\":{\"outlinewidth\":0,\"ticks\":\"\"}},\"type\":\"scattergeo\"}],\"scattergl\":[{\"marker\":{\"colorbar\":{\"outlinewidth\":0,\"ticks\":\"\"}},\"type\":\"scattergl\"}],\"scattermapbox\":[{\"marker\":{\"colorbar\":{\"outlinewidth\":0,\"ticks\":\"\"}},\"type\":\"scattermapbox\"}],\"scatterpolargl\":[{\"marker\":{\"colorbar\":{\"outlinewidth\":0,\"ticks\":\"\"}},\"type\":\"scatterpolargl\"}],\"scatterpolar\":[{\"marker\":{\"colorbar\":{\"outlinewidth\":0,\"ticks\":\"\"}},\"type\":\"scatterpolar\"}],\"scatter\":[{\"fillpattern\":{\"fillmode\":\"overlay\",\"size\":10,\"solidity\":0.2},\"type\":\"scatter\"}],\"scatterternary\":[{\"marker\":{\"colorbar\":{\"outlinewidth\":0,\"ticks\":\"\"}},\"type\":\"scatterternary\"}],\"surface\":[{\"colorbar\":{\"outlinewidth\":0,\"ticks\":\"\"},\"colorscale\":[[0.0,\"#0d0887\"],[0.1111111111111111,\"#46039f\"],[0.2222222222222222,\"#7201a8\"],[0.3333333333333333,\"#9c179e\"],[0.4444444444444444,\"#bd3786\"],[0.5555555555555556,\"#d8576b\"],[0.6666666666666666,\"#ed7953\"],[0.7777777777777778,\"#fb9f3a\"],[0.8888888888888888,\"#fdca26\"],[1.0,\"#f0f921\"]],\"type\":\"surface\"}],\"table\":[{\"cells\":{\"fill\":{\"color\":\"#EBF0F8\"},\"line\":{\"color\":\"white\"}},\"header\":{\"fill\":{\"color\":\"#C8D4E3\"},\"line\":{\"color\":\"white\"}},\"type\":\"table\"}]},\"layout\":{\"annotationdefaults\":{\"arrowcolor\":\"#2a3f5f\",\"arrowhead\":0,\"arrowwidth\":1},\"autotypenumbers\":\"strict\",\"coloraxis\":{\"colorbar\":{\"outlinewidth\":0,\"ticks\":\"\"}},\"colorscale\":{\"diverging\":[[0,\"#8e0152\"],[0.1,\"#c51b7d\"],[0.2,\"#de77ae\"],[0.3,\"#f1b6da\"],[0.4,\"#fde0ef\"],[0.5,\"#f7f7f7\"],[0.6,\"#e6f5d0\"],[0.7,\"#b8e186\"],[0.8,\"#7fbc41\"],[0.9,\"#4d9221\"],[1,\"#276419\"]],\"sequential\":[[0.0,\"#0d0887\"],[0.1111111111111111,\"#46039f\"],[0.2222222222222222,\"#7201a8\"],[0.3333333333333333,\"#9c179e\"],[0.4444444444444444,\"#bd3786\"],[0.5555555555555556,\"#d8576b\"],[0.6666666666666666,\"#ed7953\"],[0.7777777777777778,\"#fb9f3a\"],[0.8888888888888888,\"#fdca26\"],[1.0,\"#f0f921\"]],\"sequentialminus\":[[0.0,\"#0d0887\"],[0.1111111111111111,\"#46039f\"],[0.2222222222222222,\"#7201a8\"],[0.3333333333333333,\"#9c179e\"],[0.4444444444444444,\"#bd3786\"],[0.5555555555555556,\"#d8576b\"],[0.6666666666666666,\"#ed7953\"],[0.7777777777777778,\"#fb9f3a\"],[0.8888888888888888,\"#fdca26\"],[1.0,\"#f0f921\"]]},\"colorway\":[\"#636efa\",\"#EF553B\",\"#00cc96\",\"#ab63fa\",\"#FFA15A\",\"#19d3f3\",\"#FF6692\",\"#B6E880\",\"#FF97FF\",\"#FECB52\"],\"font\":{\"color\":\"#2a3f5f\"},\"geo\":{\"bgcolor\":\"white\",\"lakecolor\":\"white\",\"landcolor\":\"white\",\"showlakes\":true,\"showland\":true,\"subunitcolor\":\"#C8D4E3\"},\"hoverlabel\":{\"align\":\"left\"},\"hovermode\":\"closest\",\"mapbox\":{\"style\":\"light\"},\"paper_bgcolor\":\"white\",\"plot_bgcolor\":\"white\",\"polar\":{\"angularaxis\":{\"gridcolor\":\"#EBF0F8\",\"linecolor\":\"#EBF0F8\",\"ticks\":\"\"},\"bgcolor\":\"white\",\"radialaxis\":{\"gridcolor\":\"#EBF0F8\",\"linecolor\":\"#EBF0F8\",\"ticks\":\"\"}},\"scene\":{\"xaxis\":{\"backgroundcolor\":\"white\",\"gridcolor\":\"#DFE8F3\",\"gridwidth\":2,\"linecolor\":\"#EBF0F8\",\"showbackground\":true,\"ticks\":\"\",\"zerolinecolor\":\"#EBF0F8\"},\"yaxis\":{\"backgroundcolor\":\"white\",\"gridcolor\":\"#DFE8F3\",\"gridwidth\":2,\"linecolor\":\"#EBF0F8\",\"showbackground\":true,\"ticks\":\"\",\"zerolinecolor\":\"#EBF0F8\"},\"zaxis\":{\"backgroundcolor\":\"white\",\"gridcolor\":\"#DFE8F3\",\"gridwidth\":2,\"linecolor\":\"#EBF0F8\",\"showbackground\":true,\"ticks\":\"\",\"zerolinecolor\":\"#EBF0F8\"}},\"shapedefaults\":{\"line\":{\"color\":\"#2a3f5f\"}},\"ternary\":{\"aaxis\":{\"gridcolor\":\"#DFE8F3\",\"linecolor\":\"#A2B1C6\",\"ticks\":\"\"},\"baxis\":{\"gridcolor\":\"#DFE8F3\",\"linecolor\":\"#A2B1C6\",\"ticks\":\"\"},\"bgcolor\":\"white\",\"caxis\":{\"gridcolor\":\"#DFE8F3\",\"linecolor\":\"#A2B1C6\",\"ticks\":\"\"}},\"title\":{\"x\":0.05},\"xaxis\":{\"automargin\":true,\"gridcolor\":\"#EBF0F8\",\"linecolor\":\"#EBF0F8\",\"ticks\":\"\",\"title\":{\"standoff\":15},\"zerolinecolor\":\"#EBF0F8\",\"zerolinewidth\":2},\"yaxis\":{\"automargin\":true,\"gridcolor\":\"#EBF0F8\",\"linecolor\":\"#EBF0F8\",\"ticks\":\"\",\"title\":{\"standoff\":15},\"zerolinecolor\":\"#EBF0F8\",\"zerolinewidth\":2}}},\"xaxis\":{\"anchor\":\"y\",\"domain\":[0.0,1.0],\"title\":{\"text\":\"Taxable income\"},\"tickprefix\":\"\\u00a3\",\"tickformat\":\",.0f\",\"gridcolor\":\"#F4F4F4\",\"zerolinecolor\":\"#F4F4F4\",\"ticksuffix\":\"\"},\"yaxis\":{\"anchor\":\"x\",\"domain\":[0.0,1.0],\"title\":{\"text\":\"Winter Fuel Allowance\"},\"tickprefix\":\"\\u00a3\",\"tickformat\":\",.0f\",\"gridcolor\":\"#F4F4F4\",\"zerolinecolor\":\"#F4F4F4\",\"ticksuffix\":\"\"},\"legend\":{\"title\":{\"text\":\"\"},\"tracegroupgap\":0},\"margin\":{\"t\":120,\"b\":120,\"l\":120,\"r\":120},\"title\":{\"text\":\"Winter Fuel Allowance by taxable income for a 70-year-old\"},\"font\":{\"family\":\"Roboto Serif\",\"color\":\"black\"},\"height\":600,\"width\":800,\"plot_bgcolor\":\"#F4F4F4\",\"paper_bgcolor\":\"#F4F4F4\",\"images\":[{\"sizex\":0.15,\"sizey\":0.15,\"source\":\"https:\\u002f\\u002fraw.githubusercontent.com\\u002fPolicyEngine\\u002fpolicyengine-app\\u002fmaster\\u002fsrc\\u002fimages\\u002flogos\\u002fpolicyengine\\u002fblue.png\",\"x\":1.1,\"xanchor\":\"right\",\"xref\":\"paper\",\"y\":-0.2,\"yanchor\":\"bottom\",\"yref\":\"paper\"}],\"annotations\":[{\"showarrow\":false,\"text\":\"Source: PolicyEngine UK tax-benefit microsimulation model (version 2.32.0)\",\"x\":0,\"xanchor\":\"left\",\"xref\":\"paper\",\"y\":-0.2,\"yanchor\":\"bottom\",\"yref\":\"paper\"}],\"modebar\":{\"bgcolor\":\"#F4F4F4\",\"color\":\"#F4F4F4\",\"activecolor\":\"#F4F4F4\"},\"uniformtext\":{\"mode\":\"hide\",\"minsize\":12}}}\n"
     ]
    }
   ],
   "source": [
    "household = Simulation(\n",
    "    country=\"uk\",\n",
    "    scope=\"household\",\n",
    "    baseline=ORIGINAL_MEANS_TESTED,\n",
    "    reform=NEW_MEANS_TESTED,\n",
    "    data={\n",
    "        \"people\": {\n",
    "            \"person\": {\n",
    "                \"age\": 70,\n",
    "            }\n",
    "        },\n",
    "        \"axes\": [\n",
    "            [\n",
    "                {\n",
    "                    \"name\": \"private_pension_income\",\n",
    "                    \"min\": 0,\n",
    "                    \"max\": 100_000,\n",
    "                    \"count\": 101,\n",
    "                }\n",
    "            ]\n",
    "        ],\n",
    "    },\n",
    ")\n",
    "\n",
    "import plotly.express as px\n",
    "\n",
    "df = pd.DataFrame()\n",
    "df[\"Reform\"] = household.reform_simulation.calculate(\n",
    "    \"winter_fuel_allowance\", 2025\n",
    ")\n",
    "df[\"Baseline\"] = household.baseline_simulation.calculate(\n",
    "    \"winter_fuel_allowance\", 2025\n",
    ")\n",
    "df[\"Income\"] = household.baseline_simulation.calculate(\n",
    "    \"private_pension_income\", 2025\n",
    ")\n",
    "\n",
    "from policyengine.utils.charts import *\n",
    "\n",
    "\n",
    "fig = px.line(\n",
    "    df,\n",
    "    x=\"Income\",\n",
    "    y=[\"Reform\", \"Baseline\"],\n",
    "    color_discrete_sequence=[BLUE, GRAY],\n",
    ").update_layout(\n",
    "    title=\"Winter Fuel Allowance by taxable income for a 70-year-old\",\n",
    "    yaxis_title=\"Winter Fuel Allowance\",\n",
    "    xaxis_title=\"Taxable income\",\n",
    "    yaxis_tickprefix=\"£\",\n",
    "    xaxis_tickprefix=\"£\",\n",
    "    yaxis_tickformat=\",.0f\",\n",
    "    xaxis_tickformat=\",.0f\",\n",
    "    legend_title_text=\"\",\n",
    ")\n",
    "\n",
    "\n",
    "print(format_fig(fig).to_json())"
   ]
  },
  {
   "cell_type": "markdown",
   "metadata": {},
   "source": [
    "### Poverty rates\n",
    "\n",
    "The government reports annually on four poverty metrics:\n",
    "\n",
    "* **Absolute poverty before housing costs**: households with income below 60% of the 2010/11 median income, adjusted for inflation.\n",
    "* **Absolute poverty after housing costs**: households with income below 60% of the 2010/11 median income after housing costs, adjusted for inflation.\n",
    "* **Relative poverty before housing costs**: households with income below 60% of the median income in the current year.\n",
    "* **Relative poverty after housing costs**: households with income below 60% of the median incomeafter housing costs in the current year .\n",
    "\n",
    "For each of these metrics, we simulate the change in the poverty rate and headcount as a result of the policy change. All reported years are fiscal years."
   ]
  },
  {
   "cell_type": "code",
   "execution_count": 2,
   "metadata": {},
   "outputs": [],
   "source": [
    "def get_poverty(simulation, year, absolute, bhc, rate):\n",
    "    population = simulation.calculate(\"person_id\", year).count()\n",
    "    if absolute:\n",
    "        if bhc:\n",
    "            in_poverty = simulation.calculate(\n",
    "                \"in_poverty\", year, map_to=\"person\"\n",
    "            ).sum()\n",
    "        else:\n",
    "            in_poverty = simulation.calculate(\n",
    "                \"in_poverty_ahc\", year, map_to=\"person\"\n",
    "            ).sum()\n",
    "    else:\n",
    "        if bhc:\n",
    "            in_poverty = simulation.calculate(\n",
    "                \"in_relative_poverty_bhc\", year, map_to=\"person\"\n",
    "            ).sum()\n",
    "        else:\n",
    "            in_poverty = simulation.calculate(\n",
    "                \"in_relative_poverty_ahc\", year, map_to=\"person\"\n",
    "            ).sum()\n",
    "\n",
    "    if rate:\n",
    "        return round(in_poverty / population * 100, 1)\n",
    "\n",
    "    else:\n",
    "        return round(in_poverty / 1e3)"
   ]
  },
  {
   "cell_type": "code",
   "execution_count": 3,
   "metadata": {},
   "outputs": [
    {
     "data": {
      "text/markdown": [
       "Table 2: Absolute poverty before housing costs\n",
       "\n",
       "|   Year |   Baseline rate (%) | Baseline headcount (thousands)   |   Reform rate (%) | Reform headcount (thousands)   |   Change in rate (pp) |   Change in headcount (thousands) |\n",
       "|-------:|--------------------:|:---------------------------------|------------------:|:-------------------------------|----------------------:|----------------------------------:|\n",
       "|   2025 |                11.2 | 7,889                            |              11.2 | 7,857                          |                     0 |                               -32 |\n",
       "|   2026 |                11.2 | 7,928                            |              11.2 | 7,898                          |                     0 |                               -30 |\n",
       "|   2027 |                11.3 | 8,065                            |              11.3 | 8,038                          |                     0 |                               -27 |\n",
       "|   2028 |                11.3 | 8,102                            |              11.3 | 8,074                          |                     0 |                               -28 |\n",
       "|   2029 |                11.4 | 8,196                            |              11.4 | 8,173                          |                     0 |                               -23 |"
      ],
      "text/plain": [
       "<IPython.core.display.Markdown object>"
      ]
     },
     "execution_count": 3,
     "metadata": {},
     "output_type": "execute_result"
    }
   ],
   "source": [
    "def add_thousands_separator(x):\n",
    "    return \"{:,}\".format(x)\n",
    "\n",
    "\n",
    "def get_rate_table(absolute, bhc, i):\n",
    "    years = []\n",
    "    poverty_rates_autumn = []\n",
    "    headcounts_autumn = []\n",
    "    poverty_rates_spring = []\n",
    "    headcounts_spring = []\n",
    "    change_rates = []\n",
    "    change_headcounts = []\n",
    "    for year in range(2025, 2030):\n",
    "        years.append(year)\n",
    "        poverty_rates_autumn.append(\n",
    "            get_poverty(\n",
    "                sim.baseline_simulation, year, absolute, bhc, rate=True\n",
    "            )\n",
    "        )\n",
    "        poverty_rates_spring.append(\n",
    "            get_poverty(sim.reform_simulation, year, absolute, bhc, rate=True)\n",
    "        )\n",
    "        headcounts_autumn.append(\n",
    "            get_poverty(\n",
    "                sim.baseline_simulation, year, absolute, bhc, rate=False\n",
    "            )\n",
    "        )\n",
    "        headcounts_spring.append(\n",
    "            get_poverty(sim.reform_simulation, year, absolute, bhc, rate=False)\n",
    "        )\n",
    "        change_rates.append(\n",
    "            round(poverty_rates_spring[-1] - poverty_rates_autumn[-1], 1)\n",
    "        )\n",
    "        change_headcounts.append(\n",
    "            round(headcounts_spring[-1] - headcounts_autumn[-1], 0)\n",
    "        )\n",
    "\n",
    "    df = pd.DataFrame(\n",
    "        {\n",
    "            \"Year\": years,\n",
    "            \"Baseline rate (%)\": poverty_rates_autumn,\n",
    "            \"Baseline headcount (thousands)\": headcounts_autumn,\n",
    "            \"Reform rate (%)\": poverty_rates_spring,\n",
    "            \"Reform headcount (thousands)\": headcounts_spring,\n",
    "            \"Change in rate (pp)\": change_rates,\n",
    "            \"Change in headcount (thousands)\": change_headcounts,\n",
    "        }\n",
    "    )\n",
    "\n",
    "    for col in df.columns:\n",
    "        if \"thousands\" in col:\n",
    "            df[col] = df[col].apply(add_thousands_separator)\n",
    "\n",
    "    title = \"Absolute poverty\" if absolute else \"Relative poverty\"\n",
    "    title += \" before housing costs\" if bhc else \" after housing costs\"\n",
    "\n",
    "    return Markdown(\n",
    "        f\"Table {i}: {title}\\n\\n\" + df.set_index(\"Year\").to_markdown()\n",
    "    )\n",
    "\n",
    "\n",
    "get_rate_table(absolute=True, bhc=True, i=2)"
   ]
  },
  {
   "cell_type": "code",
   "execution_count": 4,
   "metadata": {},
   "outputs": [
    {
     "data": {
      "text/markdown": [
       "Table 3: Absolute poverty after housing costs\n",
       "\n",
       "|   Year |   Baseline rate (%) | Baseline headcount (thousands)   |   Reform rate (%) | Reform headcount (thousands)   |   Change in rate (pp) |   Change in headcount (thousands) |\n",
       "|-------:|--------------------:|:---------------------------------|------------------:|:-------------------------------|----------------------:|----------------------------------:|\n",
       "|   2025 |                16.7 | 11,708                           |              16.7 | 11,694                         |                   0   |                               -14 |\n",
       "|   2026 |                16.9 | 11,928                           |              16.9 | 11,910                         |                   0   |                               -18 |\n",
       "|   2027 |                17.3 | 12,294                           |              17.3 | 12,278                         |                   0   |                               -16 |\n",
       "|   2028 |                17.4 | 12,408                           |              17.3 | 12,388                         |                  -0.1 |                               -20 |\n",
       "|   2029 |                17.4 | 12,516                           |              17.4 | 12,496                         |                   0   |                               -20 |"
      ],
      "text/plain": [
       "<IPython.core.display.Markdown object>"
      ]
     },
     "execution_count": 4,
     "metadata": {},
     "output_type": "execute_result"
    }
   ],
   "source": [
    "get_rate_table(absolute=True, bhc=False, i=3)"
   ]
  },
  {
   "cell_type": "code",
   "execution_count": 5,
   "metadata": {},
   "outputs": [
    {
     "data": {
      "text/markdown": [
       "Table 4: Relative poverty before housing costs\n",
       "\n",
       "|   Year |   Baseline rate (%) | Baseline headcount (thousands)   |   Reform rate (%) | Reform headcount (thousands)   |   Change in rate (pp) |   Change in headcount (thousands) |\n",
       "|-------:|--------------------:|:---------------------------------|------------------:|:-------------------------------|----------------------:|----------------------------------:|\n",
       "|   2025 |                17.8 | 12,511                           |              17.8 | 12,491                         |                   0   |                               -20 |\n",
       "|   2026 |                17.9 | 12,661                           |              17.9 | 12,618                         |                   0   |                               -43 |\n",
       "|   2027 |                18.2 | 12,946                           |              18.2 | 12,921                         |                   0   |                               -25 |\n",
       "|   2028 |                18.2 | 13,026                           |              18.2 | 12,987                         |                   0   |                               -39 |\n",
       "|   2029 |                18.4 | 13,184                           |              18.3 | 13,126                         |                  -0.1 |                               -58 |"
      ],
      "text/plain": [
       "<IPython.core.display.Markdown object>"
      ]
     },
     "execution_count": 5,
     "metadata": {},
     "output_type": "execute_result"
    }
   ],
   "source": [
    "get_rate_table(absolute=False, bhc=True, i=4)"
   ]
  },
  {
   "cell_type": "code",
   "execution_count": 6,
   "metadata": {},
   "outputs": [
    {
     "data": {
      "text/markdown": [
       "Table 5: Relative poverty after housing costs\n",
       "\n",
       "|   Year |   Baseline rate (%) | Baseline headcount (thousands)   |   Reform rate (%) | Reform headcount (thousands)   |   Change in rate (pp) |   Change in headcount (thousands) |\n",
       "|-------:|--------------------:|:---------------------------------|------------------:|:-------------------------------|----------------------:|----------------------------------:|\n",
       "|   2025 |                24.3 | 17,067                           |              24.3 | 17,049                         |                   0   |                               -18 |\n",
       "|   2026 |                24.2 | 17,082                           |              24.2 | 17,073                         |                   0   |                                -9 |\n",
       "|   2027 |                24.3 | 17,302                           |              24.3 | 17,277                         |                   0   |                               -25 |\n",
       "|   2028 |                24.5 | 17,471                           |              24.4 | 17,454                         |                  -0.1 |                               -17 |\n",
       "|   2029 |                24.6 | 17,673                           |              24.8 | 17,763                         |                   0.2 |                                90 |"
      ],
      "text/plain": [
       "<IPython.core.display.Markdown object>"
      ]
     },
     "execution_count": 6,
     "metadata": {},
     "output_type": "execute_result"
    }
   ],
   "source": [
    "get_rate_table(absolute=False, bhc=False, i=5)"
   ]
  },
  {
   "cell_type": "markdown",
   "metadata": {},
   "source": [
    "### Inequality\n",
    "\n",
    "We also project income inequality metrics in PolicyEngine's open source model, including the Gini coefficient, the share of income held by the top 10 percent, and the share of income held by the top 1 percent."
   ]
  },
  {
   "cell_type": "code",
   "execution_count": 11,
   "metadata": {},
   "outputs": [
    {
     "data": {
      "text/markdown": [
       "Table 6: Gini coefficient\n",
       "\n",
       "|   Year |   Baseline |   Reform |   Change (pp) |   Change (%) |\n",
       "|-------:|-----------:|---------:|--------------:|-------------:|\n",
       "|   2025 |       37.3 |     37.2 |          -0.1 |         -0.2 |\n",
       "|   2026 |       37.5 |     37.4 |          -0.1 |         -0.2 |\n",
       "|   2027 |       37.5 |     37.5 |          -0.1 |         -0.1 |\n",
       "|   2028 |       37.6 |     37.6 |          -0.1 |         -0.1 |\n",
       "|   2029 |       37.7 |     37.6 |          -0.1 |         -0.1 |"
      ],
      "text/plain": [
       "<IPython.core.display.Markdown object>"
      ]
     },
     "execution_count": 11,
     "metadata": {},
     "output_type": "execute_result"
    }
   ],
   "source": [
    "def get_inequality_table(metric, i):\n",
    "    years = []\n",
    "    autumn_values = []\n",
    "    spring_values = []\n",
    "    change_values = []\n",
    "    change_values_pct = []\n",
    "\n",
    "    for year in range(2025, 2030):\n",
    "        if metric == \"Gini coefficient\":\n",
    "            autumn_values.append(\n",
    "                sim.baseline_simulation.calculate(\n",
    "                    \"equiv_household_net_income\", year\n",
    "                ).gini()\n",
    "                * 100\n",
    "            )\n",
    "            spring_values.append(\n",
    "                sim.reform_simulation.calculate(\n",
    "                    \"equiv_household_net_income\", year\n",
    "                ).gini()\n",
    "                * 100\n",
    "            )\n",
    "        elif metric == \"Top 10% share\":\n",
    "            autumn_values.append(\n",
    "                sim.baseline_simulation.calculate(\n",
    "                    \"equiv_household_net_income\", year\n",
    "                ).top_10_pct_share()\n",
    "                * 100\n",
    "            )\n",
    "            spring_values.append(\n",
    "                sim.reform_simulation.calculate(\n",
    "                    \"equiv_household_net_income\", year\n",
    "                ).top_10_pct_share()\n",
    "                * 100\n",
    "            )\n",
    "        elif metric == \"Top 1% share\":\n",
    "            autumn_values.append(\n",
    "                sim.baseline_simulation.calculate(\n",
    "                    \"equiv_household_net_income\", year\n",
    "                ).top_1_pct_share()\n",
    "                * 100\n",
    "            )\n",
    "            spring_values.append(\n",
    "                sim.reform_simulation.calculate(\n",
    "                    \"equiv_household_net_income\", year\n",
    "                ).top_1_pct_share()\n",
    "                * 100\n",
    "            )\n",
    "        years.append(year)\n",
    "        change_values.append(round(spring_values[-1] - autumn_values[-1], 1))\n",
    "        change_values_pct.append(\n",
    "            round(\n",
    "                (spring_values[-1] - autumn_values[-1])\n",
    "                / autumn_values[-1]\n",
    "                * 100,\n",
    "                1,\n",
    "            )\n",
    "        )\n",
    "\n",
    "    df = pd.DataFrame(\n",
    "        {\n",
    "            \"Year\": years,\n",
    "            \"Baseline\": autumn_values,\n",
    "            \"Reform\": spring_values,\n",
    "            \"Change (pp)\": change_values,\n",
    "            \"Change (%)\": change_values_pct,\n",
    "        }\n",
    "    )\n",
    "\n",
    "    df[\"Baseline\"] = df[\"Baseline\"].round(1)\n",
    "    df[\"Reform\"] = df[\"Reform\"].round(1)\n",
    "\n",
    "    return Markdown(\n",
    "        f\"Table {i}: {metric}\\n\\n\" + df.set_index(\"Year\").to_markdown()\n",
    "    )\n",
    "\n",
    "\n",
    "get_inequality_table(\"Gini coefficient\", i=6)"
   ]
  },
  {
   "cell_type": "code",
   "execution_count": 12,
   "metadata": {},
   "outputs": [
    {
     "data": {
      "text/markdown": [
       "Table 7: Top 10% share\n",
       "\n",
       "|   Year |   Baseline |   Reform |   Change (pp) |   Change (%) |\n",
       "|-------:|-----------:|---------:|--------------:|-------------:|\n",
       "|   2025 |       29   |     29   |            -0 |         -0.1 |\n",
       "|   2026 |       29.2 |     29.1 |            -0 |         -0.1 |\n",
       "|   2027 |       29.2 |     29.2 |            -0 |         -0.1 |\n",
       "|   2028 |       29.3 |     29.3 |            -0 |         -0.1 |\n",
       "|   2029 |       29.3 |     29.3 |            -0 |         -0   |"
      ],
      "text/plain": [
       "<IPython.core.display.Markdown object>"
      ]
     },
     "execution_count": 12,
     "metadata": {},
     "output_type": "execute_result"
    }
   ],
   "source": [
    "get_inequality_table(\"Top 10% share\", i=7)"
   ]
  },
  {
   "cell_type": "code",
   "execution_count": 13,
   "metadata": {},
   "outputs": [
    {
     "data": {
      "text/markdown": [
       "Table 8: Top 1% share\n",
       "\n",
       "|   Year |   Baseline |   Reform |   Change (pp) |   Change (%) |\n",
       "|-------:|-----------:|---------:|--------------:|-------------:|\n",
       "|   2025 |        9.7 |      9.7 |            -0 |         -0.1 |\n",
       "|   2026 |        9.8 |      9.8 |            -0 |         -0.1 |\n",
       "|   2027 |        9.9 |      9.9 |            -0 |         -0.1 |\n",
       "|   2028 |       10   |     10   |            -0 |         -0.1 |\n",
       "|   2029 |       10.1 |     10   |            -0 |         -0.1 |"
      ],
      "text/plain": [
       "<IPython.core.display.Markdown object>"
      ]
     },
     "execution_count": 13,
     "metadata": {},
     "output_type": "execute_result"
    }
   ],
   "source": [
    "get_inequality_table(\"Top 1% share\", i=8)"
   ]
  },
  {
   "cell_type": "markdown",
   "metadata": {},
   "source": [
    "View the full PolicyEngine analysis [here](https://policyengine.org/uk/policy?focus=policyOutput.policyBreakdown&reform=85980&region=uk&timePeriod=2025&baseline=1) and use our household [calculator](https://policyengine.org/uk/household?focus=intro&reform=85980&region=uk&timePeriod=2025&baseline=1) to see how these changes affect individual households."
   ]
  }
 ],
 "metadata": {
  "kernelspec": {
   "display_name": ".venv",
   "language": "python",
   "name": "python3"
  },
  "language_info": {
   "codemirror_mode": {
    "name": "ipython",
    "version": 3
   },
   "file_extension": ".py",
   "mimetype": "text/x-python",
   "name": "python",
   "nbconvert_exporter": "python",
   "pygments_lexer": "ipython3",
   "version": "3.11.13"
  }
 },
 "nbformat": 4,
 "nbformat_minor": 2
}
