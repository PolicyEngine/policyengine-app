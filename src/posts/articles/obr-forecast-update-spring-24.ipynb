{
 "cells": [
  {
   "cell_type": "markdown",
   "metadata": {},
   "source": [
    "The Office for Budget Responsibility's [March 2024 Economic and Fiscal Outlook](https://obr.uk/docs/dlm_uploads/E03057758_OBR_EFO-March-2024_Web-AccessibleFinal.pdf) updates government forecasts for a five-year budget window for key tax and spending programs, incorporating recent changes in both policy decisions and economic factors. Some parts of PolicyEngine's model are calibrated to be consistent with the OBR's forecasts, and today we're publishing a new version of the model that incorporates the latest information from government publications.\n",
    "\n",
    "This report contains a high-level and a detailed comparison of PolicyEngine's underlying model against government (principally OBR) and other third-party models.\n",
    "\n",
    "## UK household outlook"
   ]
  },
  {
   "cell_type": "code",
   "execution_count": 1,
   "metadata": {},
   "outputs": [],
   "source": [
    "import pandas as pd\n",
    "from tqdm import tqdm\n",
    "\n",
    "PE_VARIABLES = [\n",
    "    \"income_tax\",\n",
    "    \"total_national_insurance\",\n",
    "    \"child_benefit\",\n",
    "    \"universal_credit\",\n",
    "    \"tax_credits\",\n",
    "    \"housing_benefit\",\n",
    "    \"ESA_income\",\n",
    "    \"income_support\",\n",
    "    \"pension_credit\",\n",
    "    \"pip\",\n",
    "    \"dla\",\n",
    "    \"attendance_allowance\",\n",
    "    \"state_pension\",\n",
    "    \"carers_allowance\",\n",
    "    \"fuel_duty\",\n",
    "    \"vat\",\n",
    "    \"council_tax\",\n",
    "    \"household_net_income\",\n",
    "]\n",
    "df = pd.DataFrame(\n",
    "    {\n",
    "        \"Year\": list(range(2021, 2028)),\n",
    "    }\n",
    ")\n",
    "for var in PE_VARIABLES:\n",
    "    df[var] = [0] * len(df[\"Year\"])\n",
    "\n",
    "for year in range(2021, 2028):\n",
    "    from policyengine_uk import Microsimulation\n",
    "\n",
    "    sim = Microsimulation()\n",
    "    for variable in PE_VARIABLES:\n",
    "        df.loc[df[\"Year\"] == year, variable] = round(\n",
    "            sim.calculate(variable, year).sum() / 1e9, 1\n",
    "        )\n",
    "\n",
    "df[\"Fuel duties\"] = df[\"fuel_duty\"]\n",
    "df[\"National Insurance\"] = df[\"total_national_insurance\"]\n",
    "df[\"Main taxes\"] = df[\"income_tax\"] + df[\"total_national_insurance\"]\n",
    "df[\"Legacy benefits\"] = (\n",
    "    df[\"tax_credits\"]\n",
    "    + df[\"housing_benefit\"]\n",
    "    + df[\"ESA_income\"]\n",
    "    + df[\"income_support\"]\n",
    ")\n",
    "df[\"Main benefits\"] = (\n",
    "    df[\"child_benefit\"]\n",
    "    + df[\"universal_credit\"]\n",
    "    + df[\"Legacy benefits\"]\n",
    "    + df[\"pension_credit\"]\n",
    "    + df[\"pip\"]\n",
    "    + df[\"dla\"]\n",
    "    + df[\"attendance_allowance\"]\n",
    "    + df[\"state_pension\"]\n",
    "    + df[\"carers_allowance\"]\n",
    ")\n",
    "\n",
    "pe_df = pd.melt(df, id_vars=[\"Year\"], value_vars=df.columns[1:])\n",
    "pe_df = pe_df.replace(\n",
    "    {\n",
    "        variable.name: variable.label\n",
    "        for variable in sim.tax_benefit_system.variables.values()\n",
    "    }\n",
    ")\n",
    "pe_df = pe_df.rename(columns={\"variable\": \"Variable\", \"value\": \"Value\"})\n",
    "\n",
    "\n",
    "# Data from latest UKMOD country report (in million GBP)\n",
    "ukmod_df = pd.DataFrame(\n",
    "    {\n",
    "        \"Year\": [2021, 2022, 2023, 2024, 2025, 2026, 2027],\n",
    "        \"Income Tax\": [207751, 245771, 303005, 364319, 372215, 383896, 398249],\n",
    "        \"NIC Employees\": [63016, 65432, 60613, 55161, 56067, 57567, 59411],\n",
    "        \"NIC Self-employed\": [5069, 5377, 5126, 4401, 4479, 4610, 4769],\n",
    "        \"NIC Employers\": [\n",
    "            95576,\n",
    "            107253,\n",
    "            110702,\n",
    "            114677,\n",
    "            116797,\n",
    "            120339,\n",
    "            124771,\n",
    "        ],\n",
    "        \"Universal Credit\": [38091, 40899, 47833, 59290, 69939, 70292, 70531],\n",
    "        \"Child Benefit\": [11040, 11150, 11845, 12382, 12677, 12697, 12660],\n",
    "        \"Child and Working Tax Credits\": [5797, 5139, 4536, 2565, 0, 0, 0],\n",
    "        \"Housing Benefit\": [10212, 9498, 9031, 7098, 5117, 5145, 5159],\n",
    "        \"Income Support\": [2523, 2317, 2049, 1199, 0, 0, 0],\n",
    "        \"ESA (income-based)\": [4991, 4593, 4124, 2321, 0, 0, 0],\n",
    "        \"Pension Credit\": [4574, 4653, 5341, 6483, 6664, 6849, 7026],\n",
    "        \"Personal Independence Payment\": [\n",
    "            13740,\n",
    "            14170,\n",
    "            15601,\n",
    "            16649,\n",
    "            17204,\n",
    "            17478,\n",
    "            17729,\n",
    "        ],\n",
    "        \"Disability Living Allowance\": [\n",
    "            3713,\n",
    "            3829,\n",
    "            4216,\n",
    "            4499,\n",
    "            4649,\n",
    "            4723,\n",
    "            4791,\n",
    "        ],\n",
    "        \"Attendance Allowance\": [3285, 3388, 3731, 3981, 4114, 4179, 4239],\n",
    "        \"New/basic State Pension\": [\n",
    "            75080,\n",
    "            77399,\n",
    "            85229,\n",
    "            92475,\n",
    "            95804,\n",
    "            98199,\n",
    "            100654,\n",
    "        ],\n",
    "        \"Second State Pension\": [\n",
    "            18574,\n",
    "            19150,\n",
    "            21082,\n",
    "            22498,\n",
    "            23247,\n",
    "            23620,\n",
    "            23958,\n",
    "        ],\n",
    "        \"Carers Allowance\": [3000, 3093, 3406, 3634, 3755, 3815, 3870],\n",
    "        \"Council Tax\": [44047, 45585, 47986, 50093, 52159, 54317, 56562],\n",
    "    }\n",
    ")\n",
    "\n",
    "ukmod_df[\"National Insurance\"] = ukmod_df[\n",
    "    [\"NIC Employees\", \"NIC Self-employed\", \"NIC Employers\"]\n",
    "].sum(axis=1)\n",
    "ukmod_df[\"Main taxes\"] = ukmod_df[\n",
    "    [\"Income Tax\", \"NIC Employees\", \"NIC Self-employed\", \"NIC Employers\"]\n",
    "].sum(axis=1)\n",
    "ukmod_df[\"Legacy benefits\"] = ukmod_df[\n",
    "    [\n",
    "        \"Child and Working Tax Credits\",\n",
    "        \"Housing Benefit\",\n",
    "        \"Income Support\",\n",
    "        \"ESA (income-based)\",\n",
    "    ]\n",
    "].sum(axis=1)\n",
    "ukmod_df[\"Main benefits\"] = ukmod_df[\n",
    "    [\n",
    "        \"Universal Credit\",\n",
    "        \"Child Benefit\",\n",
    "        \"Legacy benefits\",\n",
    "        \"Pension Credit\",\n",
    "        \"Personal Independence Payment\",\n",
    "        \"Disability Living Allowance\",\n",
    "        \"Attendance Allowance\",\n",
    "        \"Carers Allowance\",\n",
    "        \"New/basic State Pension\",\n",
    "        \"Second State Pension\",\n",
    "    ]\n",
    "].sum(axis=1)\n",
    "\n",
    "ukmod_df = pd.melt(ukmod_df, id_vars=[\"Year\"], value_vars=ukmod_df.columns[1:])\n",
    "ukmod_df = ukmod_df.rename(columns={\"variable\": \"Variable\", \"value\": \"Value\"})\n",
    "ukmod_df.Value = ukmod_df.Value / 1e3\n",
    "\n",
    "obr_df = pd.DataFrame(\n",
    "    {\n",
    "        \"Year\": [2022, 2023, 2024, 2025, 2026, 2027],\n",
    "        \"Income Tax\": [250.5, 279.2, 302.7, 315.8, 331.4, 348.7],\n",
    "        \"National Insurance\": [179.2, 168.1, 173.6, 179.8, 186.1, 192.1],\n",
    "        \"Child Benefit\": [12.5, 13.5, 13.5, 13.5, 13.5, 13.5],\n",
    "        \"Personal Tax Credits\": [7.3, 1.6, -0.1, -0.1, -0.1, -0.1],\n",
    "        \"Housing Benefit (within cap)\": [14.8, 13.8, 11.9, 11.9, 11.6, 10.7],\n",
    "        \"Housing Benefit (outside cap)\": [0.1, 0.0, 0.0, 0.0, 0.0, 0.0],\n",
    "        \"Universal Credit (within cap)\": [40.7, 49.5, 55.0, 57.9, 60.8, 63.7],\n",
    "        \"Universal Credit (outside cap)\": [11.1, 17.4, 19.3, 19.7, 20.0, 20.1],\n",
    "        \"DLA and PIP\": [28.4, 32.7, 35.3, 38.0, 40.9, 43.4],\n",
    "        \"Attendance Allowance\": [6.7, 7.7, 8.0, 8.2, 8.4, 8.6],\n",
    "        \"Pension Credit\": [5.4, 5.8, 5.9, 5.7, 5.4, 5.1],\n",
    "        \"State Pension\": [124.6, 138.1, 146.0, 150.5, 153.2, 155.1],\n",
    "        \"Fuel duties\": [25.1, 24.6, 24.7, 27.3, 27.6, 28.0],\n",
    "        \"VAT\": [159.7, 169.6, 173.9, 180.3, 188.0, 195.9],\n",
    "        \"Council Tax\": [44.0, 46.3, 48.6, 51.2, 53.9, 56.8],\n",
    "    }\n",
    ")\n",
    "\n",
    "obr_df[\"Universal Credit\"] = obr_df[\n",
    "    [\"Universal Credit (within cap)\", \"Universal Credit (outside cap)\"]\n",
    "].sum(axis=1)\n",
    "obr_df[\"Housing Benefit\"] = obr_df[\n",
    "    [\"Housing Benefit (within cap)\", \"Housing Benefit (outside cap)\"]\n",
    "].sum(axis=1)\n",
    "obr_df[\"Main taxes\"] = obr_df[[\"Income Tax\", \"National Insurance\"]].sum(axis=1)\n",
    "obr_df[\"Legacy benefits\"] = obr_df[\n",
    "    [\n",
    "        \"Personal Tax Credits\",\n",
    "        \"Housing Benefit (within cap)\",\n",
    "        \"Housing Benefit (outside cap)\",\n",
    "    ]\n",
    "].sum(axis=1)\n",
    "obr_df[\"Main benefits\"] = obr_df[\n",
    "    [\n",
    "        \"Universal Credit (within cap)\",\n",
    "        \"Universal Credit (outside cap)\",\n",
    "        \"Child Benefit\",\n",
    "        \"DLA and PIP\",\n",
    "        \"Attendance Allowance\",\n",
    "        \"Pension Credit\",\n",
    "        \"State Pension\",\n",
    "    ]\n",
    "].sum(axis=1)\n",
    "\n",
    "obr_df = pd.melt(obr_df, id_vars=[\"Year\"], value_vars=obr_df.columns[1:])\n",
    "obr_df = obr_df.rename(columns={\"variable\": \"Variable\", \"value\": \"Value\"})\n",
    "\n",
    "pe_df[\"Source\"] = \"PolicyEngine\"\n",
    "ukmod_df[\"Source\"] = \"UKMOD\"\n",
    "obr_df[\"Source\"] = \"OBR\"\n",
    "df = pd.concat([pe_df, ukmod_df, obr_df])"
   ]
  },
  {
   "cell_type": "code",
   "execution_count": 4,
   "metadata": {},
   "outputs": [],
   "source": [
    "import plotly.express as px\n",
    "from policyengine_core.charts import *\n",
    "from plotly.express.colors import sample_colorscale\n",
    "import numpy as np\n",
    "\n",
    "# RF-style 'rainbow' chart.\n",
    "\n",
    "# Compute average income in each decile for each year\n",
    "\n",
    "\n",
    "def rainbow_chart(variable: str):\n",
    "    dist_net_income_df = pd.DataFrame()\n",
    "\n",
    "    for year in range(2021, 2028):\n",
    "        sim = Microsimulation()\n",
    "        net_income = sim.calculate(variable, year) * sim.calculate(\n",
    "            \"inflation_adjustment\", year\n",
    "        )\n",
    "        decile = sim.calculate(\"household_income_decile\", year)\n",
    "        avg_by_decile = net_income.groupby(decile).mean()\n",
    "        avg_by_decile = avg_by_decile.reset_index()\n",
    "        avg_by_decile[\"Year\"] = year\n",
    "        dist_net_income_df = pd.concat([dist_net_income_df, avg_by_decile])\n",
    "\n",
    "    dist_net_income_df = dist_net_income_df[dist_net_income_df.index > 0]\n",
    "    dist_net_income_df.columns = [\"Decile\", \"Value\", \"Year\"]\n",
    "\n",
    "    dist_net_income_df_forward_shifted = dist_net_income_df.copy()\n",
    "    dist_net_income_df_forward_shifted.Year += 1\n",
    "    dist_net_income_change_df = (\n",
    "        dist_net_income_df.set_index([\"Decile\", \"Year\"])\n",
    "        / dist_net_income_df_forward_shifted.set_index([\"Decile\", \"Year\"])\n",
    "        - 1\n",
    "    ).reset_index()\n",
    "    dist_net_income_change_df = dist_net_income_change_df.dropna()\n",
    "    dist_net_income_change_df.Decile = dist_net_income_change_df.Decile.astype(\n",
    "        str\n",
    "    )\n",
    "    x = np.linspace(0.1, 0.9, 10)\n",
    "    c = sample_colorscale(\"balance\", list(x))\n",
    "\n",
    "    fig = px.bar(\n",
    "        dist_net_income_change_df,\n",
    "        x=\"Year\",\n",
    "        y=\"Value\",\n",
    "        color=\"Decile\",\n",
    "        barmode=\"group\",\n",
    "        color_discrete_map={str(i): c[i - 1] for i in range(1, 11)},\n",
    "    )\n",
    "\n",
    "    return format_fig(fig).update_layout(\n",
    "        title=\"Figure 1: annual year-on-year change in real household net income forecast by decile\",\n",
    "        height=400,\n",
    "        yaxis_tickformat=\"+.0%\",\n",
    "        yaxis_range=[-0.1, 0.1],\n",
    "        yaxis_title=\"Relative year-on-year change\",\n",
    "    )"
   ]
  },
  {
   "cell_type": "code",
   "execution_count": 5,
   "metadata": {},
   "outputs": [
    {
     "data": {
      "application/vnd.plotly.v1+json": {
       "config": {
        "plotlyServerURL": "https://plot.ly"
       },
       "data": [
        {
         "alignmentgroup": "True",
         "hovertemplate": "Decile=1<br>Year=%{x}<br>Value=%{y}<extra></extra>",
         "legendgroup": "1",
         "marker": {
          "color": "rgb(38, 62, 148)",
          "pattern": {
           "shape": ""
          }
         },
         "name": "1",
         "offsetgroup": "1",
         "orientation": "v",
         "showlegend": true,
         "textposition": "auto",
         "type": "bar",
         "x": [
          2022,
          2023,
          2024,
          2025,
          2026,
          2027
         ],
         "xaxis": "x",
         "y": [
          0.06098550302574912,
          -0.024777739988302017,
          -0.06919046377067062,
          0.02568336434674312,
          -0.034802688160677775,
          -0.024373664670781947
         ],
         "yaxis": "y"
        },
        {
         "alignmentgroup": "True",
         "hovertemplate": "Decile=2<br>Year=%{x}<br>Value=%{y}<extra></extra>",
         "legendgroup": "2",
         "marker": {
          "color": "rgb(16, 105, 189)",
          "pattern": {
           "shape": ""
          }
         },
         "name": "2",
         "offsetgroup": "2",
         "orientation": "v",
         "showlegend": true,
         "textposition": "auto",
         "type": "bar",
         "x": [
          2022,
          2023,
          2024,
          2025,
          2026,
          2027
         ],
         "xaxis": "x",
         "y": [
          -0.01604705517785776,
          -0.044150857440637736,
          -0.04928612532101795,
          0.011212540159080353,
          -0.005984095325190175,
          -0.011708984889061136
         ],
         "yaxis": "y"
        },
        {
         "alignmentgroup": "True",
         "hovertemplate": "Decile=3<br>Year=%{x}<br>Value=%{y}<extra></extra>",
         "legendgroup": "3",
         "marker": {
          "color": "rgb(73, 146, 186)",
          "pattern": {
           "shape": ""
          }
         },
         "name": "3",
         "offsetgroup": "3",
         "orientation": "v",
         "showlegend": true,
         "textposition": "auto",
         "type": "bar",
         "x": [
          2022,
          2023,
          2024,
          2025,
          2026,
          2027
         ],
         "xaxis": "x",
         "y": [
          -0.023927406540540375,
          -0.02588969963203125,
          -0.05766072876991135,
          0.019617924796277553,
          -0.003459407854223051,
          -0.00919984699556009
         ],
         "yaxis": "y"
        },
        {
         "alignmentgroup": "True",
         "hovertemplate": "Decile=4<br>Year=%{x}<br>Value=%{y}<extra></extra>",
         "legendgroup": "4",
         "marker": {
          "color": "rgb(144, 182, 195)",
          "pattern": {
           "shape": ""
          }
         },
         "name": "4",
         "offsetgroup": "4",
         "orientation": "v",
         "showlegend": true,
         "textposition": "auto",
         "type": "bar",
         "x": [
          2022,
          2023,
          2024,
          2025,
          2026,
          2027
         ],
         "xaxis": "x",
         "y": [
          -0.019351008351608856,
          -0.018928234520711684,
          -0.04400594501352828,
          0.010420792542917168,
          -0.006890706292805637,
          -0.01543495328029909
         ],
         "yaxis": "y"
        },
        {
         "alignmentgroup": "True",
         "hovertemplate": "Decile=5<br>Year=%{x}<br>Value=%{y}<extra></extra>",
         "legendgroup": "5",
         "marker": {
          "color": "rgb(210, 216, 219)",
          "pattern": {
           "shape": ""
          }
         },
         "name": "5",
         "offsetgroup": "5",
         "orientation": "v",
         "showlegend": true,
         "textposition": "auto",
         "type": "bar",
         "x": [
          2022,
          2023,
          2024,
          2025,
          2026,
          2027
         ],
         "xaxis": "x",
         "y": [
          0.008041644903471257,
          -0.01635818299901548,
          -0.026779281687234424,
          -0.0011183785639852228,
          -0.021142575618871895,
          -0.01776586554249282
         ],
         "yaxis": "y"
        },
        {
         "alignmentgroup": "True",
         "hovertemplate": "Decile=6<br>Year=%{x}<br>Value=%{y}<extra></extra>",
         "legendgroup": "6",
         "marker": {
          "color": "rgb(230, 210, 204)",
          "pattern": {
           "shape": ""
          }
         },
         "name": "6",
         "offsetgroup": "6",
         "orientation": "v",
         "showlegend": true,
         "textposition": "auto",
         "type": "bar",
         "x": [
          2022,
          2023,
          2024,
          2025,
          2026,
          2027
         ],
         "xaxis": "x",
         "y": [
          0.053361422154542204,
          -0.05195141967140937,
          -0.008388390670859835,
          0.0014066026592536307,
          -0.012417506245419596,
          -0.009155019914818485
         ],
         "yaxis": "y"
        },
        {
         "alignmentgroup": "True",
         "hovertemplate": "Decile=7<br>Year=%{x}<br>Value=%{y}<extra></extra>",
         "legendgroup": "7",
         "marker": {
          "color": "rgb(214, 159, 139)",
          "pattern": {
           "shape": ""
          }
         },
         "name": "7",
         "offsetgroup": "7",
         "orientation": "v",
         "showlegend": true,
         "textposition": "auto",
         "type": "bar",
         "x": [
          2022,
          2023,
          2024,
          2025,
          2026,
          2027
         ],
         "xaxis": "x",
         "y": [
          0.06885705752116045,
          -0.0730764604461368,
          0.007512420668321695,
          0.0056511371291085855,
          0.0023882315861369907,
          -0.009976150495451863
         ],
         "yaxis": "y"
        },
        {
         "alignmentgroup": "True",
         "hovertemplate": "Decile=8<br>Year=%{x}<br>Value=%{y}<extra></extra>",
         "legendgroup": "8",
         "marker": {
          "color": "rgb(197, 104, 76)",
          "pattern": {
           "shape": ""
          }
         },
         "name": "8",
         "offsetgroup": "8",
         "orientation": "v",
         "showlegend": true,
         "textposition": "auto",
         "type": "bar",
         "x": [
          2022,
          2023,
          2024,
          2025,
          2026,
          2027
         ],
         "xaxis": "x",
         "y": [
          0.06363717711829153,
          -0.039491342890727976,
          0.012743846908935375,
          0.004380777926949575,
          0.00462299597657867,
          -0.001350515752682968
         ],
         "yaxis": "y"
        },
        {
         "alignmentgroup": "True",
         "hovertemplate": "Decile=9<br>Year=%{x}<br>Value=%{y}<extra></extra>",
         "legendgroup": "9",
         "marker": {
          "color": "rgb(174, 48, 39)",
          "pattern": {
           "shape": ""
          }
         },
         "name": "9",
         "offsetgroup": "9",
         "orientation": "v",
         "showlegend": true,
         "textposition": "auto",
         "type": "bar",
         "x": [
          2022,
          2023,
          2024,
          2025,
          2026,
          2027
         ],
         "xaxis": "x",
         "y": [
          0.03390593979175516,
          -6.199970403297783e-05,
          0.003100317550160714,
          0.009654179412011077,
          -0.0010631178772319005,
          0.006137202431111488
         ],
         "yaxis": "y"
        },
        {
         "alignmentgroup": "True",
         "hovertemplate": "Decile=10<br>Year=%{x}<br>Value=%{y}<extra></extra>",
         "legendgroup": "10",
         "marker": {
          "color": "rgb(125, 17, 40)",
          "pattern": {
           "shape": ""
          }
         },
         "name": "10",
         "offsetgroup": "10",
         "orientation": "v",
         "showlegend": true,
         "textposition": "auto",
         "type": "bar",
         "x": [
          2022,
          2023,
          2024,
          2025,
          2026,
          2027
         ],
         "xaxis": "x",
         "y": [
          0.051711122865027326,
          -0.022260216445154524,
          0.011172574332359186,
          0.010072355896902474,
          0.03511376610909589,
          0.0028147473179358506
         ],
         "yaxis": "y"
        }
       ],
       "layout": {
        "barmode": "group",
        "font": {
         "color": "black",
         "family": "Roboto Serif"
        },
        "height": 400,
        "images": [
         {
          "sizex": 0.15,
          "sizey": 0.15,
          "source": "https://raw.githubusercontent.com/PolicyEngine/policyengine-app/master/src/images/logos/policyengine/blue.png",
          "x": 1.1,
          "xanchor": "right",
          "xref": "paper",
          "y": -0.15,
          "yanchor": "bottom",
          "yref": "paper"
         }
        ],
        "legend": {
         "title": {
          "text": "Decile"
         },
         "tracegroupgap": 0
        },
        "margin": {
         "t": 60
        },
        "modebar": {
         "bgcolor": "rgba(0,0,0,0)",
         "color": "rgba(0,0,0,0)"
        },
        "template": {
         "data": {
          "bar": [
           {
            "error_x": {
             "color": "#2a3f5f"
            },
            "error_y": {
             "color": "#2a3f5f"
            },
            "marker": {
             "line": {
              "color": "white",
              "width": 0.5
             },
             "pattern": {
              "fillmode": "overlay",
              "size": 10,
              "solidity": 0.2
             }
            },
            "type": "bar"
           }
          ],
          "barpolar": [
           {
            "marker": {
             "line": {
              "color": "white",
              "width": 0.5
             },
             "pattern": {
              "fillmode": "overlay",
              "size": 10,
              "solidity": 0.2
             }
            },
            "type": "barpolar"
           }
          ],
          "carpet": [
           {
            "aaxis": {
             "endlinecolor": "#2a3f5f",
             "gridcolor": "#C8D4E3",
             "linecolor": "#C8D4E3",
             "minorgridcolor": "#C8D4E3",
             "startlinecolor": "#2a3f5f"
            },
            "baxis": {
             "endlinecolor": "#2a3f5f",
             "gridcolor": "#C8D4E3",
             "linecolor": "#C8D4E3",
             "minorgridcolor": "#C8D4E3",
             "startlinecolor": "#2a3f5f"
            },
            "type": "carpet"
           }
          ],
          "choropleth": [
           {
            "colorbar": {
             "outlinewidth": 0,
             "ticks": ""
            },
            "type": "choropleth"
           }
          ],
          "contour": [
           {
            "colorbar": {
             "outlinewidth": 0,
             "ticks": ""
            },
            "colorscale": [
             [
              0,
              "#0d0887"
             ],
             [
              0.1111111111111111,
              "#46039f"
             ],
             [
              0.2222222222222222,
              "#7201a8"
             ],
             [
              0.3333333333333333,
              "#9c179e"
             ],
             [
              0.4444444444444444,
              "#bd3786"
             ],
             [
              0.5555555555555556,
              "#d8576b"
             ],
             [
              0.6666666666666666,
              "#ed7953"
             ],
             [
              0.7777777777777778,
              "#fb9f3a"
             ],
             [
              0.8888888888888888,
              "#fdca26"
             ],
             [
              1,
              "#f0f921"
             ]
            ],
            "type": "contour"
           }
          ],
          "contourcarpet": [
           {
            "colorbar": {
             "outlinewidth": 0,
             "ticks": ""
            },
            "type": "contourcarpet"
           }
          ],
          "heatmap": [
           {
            "colorbar": {
             "outlinewidth": 0,
             "ticks": ""
            },
            "colorscale": [
             [
              0,
              "#0d0887"
             ],
             [
              0.1111111111111111,
              "#46039f"
             ],
             [
              0.2222222222222222,
              "#7201a8"
             ],
             [
              0.3333333333333333,
              "#9c179e"
             ],
             [
              0.4444444444444444,
              "#bd3786"
             ],
             [
              0.5555555555555556,
              "#d8576b"
             ],
             [
              0.6666666666666666,
              "#ed7953"
             ],
             [
              0.7777777777777778,
              "#fb9f3a"
             ],
             [
              0.8888888888888888,
              "#fdca26"
             ],
             [
              1,
              "#f0f921"
             ]
            ],
            "type": "heatmap"
           }
          ],
          "heatmapgl": [
           {
            "colorbar": {
             "outlinewidth": 0,
             "ticks": ""
            },
            "colorscale": [
             [
              0,
              "#0d0887"
             ],
             [
              0.1111111111111111,
              "#46039f"
             ],
             [
              0.2222222222222222,
              "#7201a8"
             ],
             [
              0.3333333333333333,
              "#9c179e"
             ],
             [
              0.4444444444444444,
              "#bd3786"
             ],
             [
              0.5555555555555556,
              "#d8576b"
             ],
             [
              0.6666666666666666,
              "#ed7953"
             ],
             [
              0.7777777777777778,
              "#fb9f3a"
             ],
             [
              0.8888888888888888,
              "#fdca26"
             ],
             [
              1,
              "#f0f921"
             ]
            ],
            "type": "heatmapgl"
           }
          ],
          "histogram": [
           {
            "marker": {
             "pattern": {
              "fillmode": "overlay",
              "size": 10,
              "solidity": 0.2
             }
            },
            "type": "histogram"
           }
          ],
          "histogram2d": [
           {
            "colorbar": {
             "outlinewidth": 0,
             "ticks": ""
            },
            "colorscale": [
             [
              0,
              "#0d0887"
             ],
             [
              0.1111111111111111,
              "#46039f"
             ],
             [
              0.2222222222222222,
              "#7201a8"
             ],
             [
              0.3333333333333333,
              "#9c179e"
             ],
             [
              0.4444444444444444,
              "#bd3786"
             ],
             [
              0.5555555555555556,
              "#d8576b"
             ],
             [
              0.6666666666666666,
              "#ed7953"
             ],
             [
              0.7777777777777778,
              "#fb9f3a"
             ],
             [
              0.8888888888888888,
              "#fdca26"
             ],
             [
              1,
              "#f0f921"
             ]
            ],
            "type": "histogram2d"
           }
          ],
          "histogram2dcontour": [
           {
            "colorbar": {
             "outlinewidth": 0,
             "ticks": ""
            },
            "colorscale": [
             [
              0,
              "#0d0887"
             ],
             [
              0.1111111111111111,
              "#46039f"
             ],
             [
              0.2222222222222222,
              "#7201a8"
             ],
             [
              0.3333333333333333,
              "#9c179e"
             ],
             [
              0.4444444444444444,
              "#bd3786"
             ],
             [
              0.5555555555555556,
              "#d8576b"
             ],
             [
              0.6666666666666666,
              "#ed7953"
             ],
             [
              0.7777777777777778,
              "#fb9f3a"
             ],
             [
              0.8888888888888888,
              "#fdca26"
             ],
             [
              1,
              "#f0f921"
             ]
            ],
            "type": "histogram2dcontour"
           }
          ],
          "mesh3d": [
           {
            "colorbar": {
             "outlinewidth": 0,
             "ticks": ""
            },
            "type": "mesh3d"
           }
          ],
          "parcoords": [
           {
            "line": {
             "colorbar": {
              "outlinewidth": 0,
              "ticks": ""
             }
            },
            "type": "parcoords"
           }
          ],
          "pie": [
           {
            "automargin": true,
            "type": "pie"
           }
          ],
          "scatter": [
           {
            "fillpattern": {
             "fillmode": "overlay",
             "size": 10,
             "solidity": 0.2
            },
            "type": "scatter"
           }
          ],
          "scatter3d": [
           {
            "line": {
             "colorbar": {
              "outlinewidth": 0,
              "ticks": ""
             }
            },
            "marker": {
             "colorbar": {
              "outlinewidth": 0,
              "ticks": ""
             }
            },
            "type": "scatter3d"
           }
          ],
          "scattercarpet": [
           {
            "marker": {
             "colorbar": {
              "outlinewidth": 0,
              "ticks": ""
             }
            },
            "type": "scattercarpet"
           }
          ],
          "scattergeo": [
           {
            "marker": {
             "colorbar": {
              "outlinewidth": 0,
              "ticks": ""
             }
            },
            "type": "scattergeo"
           }
          ],
          "scattergl": [
           {
            "marker": {
             "colorbar": {
              "outlinewidth": 0,
              "ticks": ""
             }
            },
            "type": "scattergl"
           }
          ],
          "scattermapbox": [
           {
            "marker": {
             "colorbar": {
              "outlinewidth": 0,
              "ticks": ""
             }
            },
            "type": "scattermapbox"
           }
          ],
          "scatterpolar": [
           {
            "marker": {
             "colorbar": {
              "outlinewidth": 0,
              "ticks": ""
             }
            },
            "type": "scatterpolar"
           }
          ],
          "scatterpolargl": [
           {
            "marker": {
             "colorbar": {
              "outlinewidth": 0,
              "ticks": ""
             }
            },
            "type": "scatterpolargl"
           }
          ],
          "scatterternary": [
           {
            "marker": {
             "colorbar": {
              "outlinewidth": 0,
              "ticks": ""
             }
            },
            "type": "scatterternary"
           }
          ],
          "surface": [
           {
            "colorbar": {
             "outlinewidth": 0,
             "ticks": ""
            },
            "colorscale": [
             [
              0,
              "#0d0887"
             ],
             [
              0.1111111111111111,
              "#46039f"
             ],
             [
              0.2222222222222222,
              "#7201a8"
             ],
             [
              0.3333333333333333,
              "#9c179e"
             ],
             [
              0.4444444444444444,
              "#bd3786"
             ],
             [
              0.5555555555555556,
              "#d8576b"
             ],
             [
              0.6666666666666666,
              "#ed7953"
             ],
             [
              0.7777777777777778,
              "#fb9f3a"
             ],
             [
              0.8888888888888888,
              "#fdca26"
             ],
             [
              1,
              "#f0f921"
             ]
            ],
            "type": "surface"
           }
          ],
          "table": [
           {
            "cells": {
             "fill": {
              "color": "#EBF0F8"
             },
             "line": {
              "color": "white"
             }
            },
            "header": {
             "fill": {
              "color": "#C8D4E3"
             },
             "line": {
              "color": "white"
             }
            },
            "type": "table"
           }
          ]
         },
         "layout": {
          "annotationdefaults": {
           "arrowcolor": "#2a3f5f",
           "arrowhead": 0,
           "arrowwidth": 1
          },
          "autotypenumbers": "strict",
          "coloraxis": {
           "colorbar": {
            "outlinewidth": 0,
            "ticks": ""
           }
          },
          "colorscale": {
           "diverging": [
            [
             0,
             "#8e0152"
            ],
            [
             0.1,
             "#c51b7d"
            ],
            [
             0.2,
             "#de77ae"
            ],
            [
             0.3,
             "#f1b6da"
            ],
            [
             0.4,
             "#fde0ef"
            ],
            [
             0.5,
             "#f7f7f7"
            ],
            [
             0.6,
             "#e6f5d0"
            ],
            [
             0.7,
             "#b8e186"
            ],
            [
             0.8,
             "#7fbc41"
            ],
            [
             0.9,
             "#4d9221"
            ],
            [
             1,
             "#276419"
            ]
           ],
           "sequential": [
            [
             0,
             "#0d0887"
            ],
            [
             0.1111111111111111,
             "#46039f"
            ],
            [
             0.2222222222222222,
             "#7201a8"
            ],
            [
             0.3333333333333333,
             "#9c179e"
            ],
            [
             0.4444444444444444,
             "#bd3786"
            ],
            [
             0.5555555555555556,
             "#d8576b"
            ],
            [
             0.6666666666666666,
             "#ed7953"
            ],
            [
             0.7777777777777778,
             "#fb9f3a"
            ],
            [
             0.8888888888888888,
             "#fdca26"
            ],
            [
             1,
             "#f0f921"
            ]
           ],
           "sequentialminus": [
            [
             0,
             "#0d0887"
            ],
            [
             0.1111111111111111,
             "#46039f"
            ],
            [
             0.2222222222222222,
             "#7201a8"
            ],
            [
             0.3333333333333333,
             "#9c179e"
            ],
            [
             0.4444444444444444,
             "#bd3786"
            ],
            [
             0.5555555555555556,
             "#d8576b"
            ],
            [
             0.6666666666666666,
             "#ed7953"
            ],
            [
             0.7777777777777778,
             "#fb9f3a"
            ],
            [
             0.8888888888888888,
             "#fdca26"
            ],
            [
             1,
             "#f0f921"
            ]
           ]
          },
          "colorway": [
           "#636efa",
           "#EF553B",
           "#00cc96",
           "#ab63fa",
           "#FFA15A",
           "#19d3f3",
           "#FF6692",
           "#B6E880",
           "#FF97FF",
           "#FECB52"
          ],
          "font": {
           "color": "#2a3f5f"
          },
          "geo": {
           "bgcolor": "white",
           "lakecolor": "white",
           "landcolor": "white",
           "showlakes": true,
           "showland": true,
           "subunitcolor": "#C8D4E3"
          },
          "hoverlabel": {
           "align": "left"
          },
          "hovermode": "closest",
          "mapbox": {
           "style": "light"
          },
          "paper_bgcolor": "white",
          "plot_bgcolor": "white",
          "polar": {
           "angularaxis": {
            "gridcolor": "#EBF0F8",
            "linecolor": "#EBF0F8",
            "ticks": ""
           },
           "bgcolor": "white",
           "radialaxis": {
            "gridcolor": "#EBF0F8",
            "linecolor": "#EBF0F8",
            "ticks": ""
           }
          },
          "scene": {
           "xaxis": {
            "backgroundcolor": "white",
            "gridcolor": "#DFE8F3",
            "gridwidth": 2,
            "linecolor": "#EBF0F8",
            "showbackground": true,
            "ticks": "",
            "zerolinecolor": "#EBF0F8"
           },
           "yaxis": {
            "backgroundcolor": "white",
            "gridcolor": "#DFE8F3",
            "gridwidth": 2,
            "linecolor": "#EBF0F8",
            "showbackground": true,
            "ticks": "",
            "zerolinecolor": "#EBF0F8"
           },
           "zaxis": {
            "backgroundcolor": "white",
            "gridcolor": "#DFE8F3",
            "gridwidth": 2,
            "linecolor": "#EBF0F8",
            "showbackground": true,
            "ticks": "",
            "zerolinecolor": "#EBF0F8"
           }
          },
          "shapedefaults": {
           "line": {
            "color": "#2a3f5f"
           }
          },
          "ternary": {
           "aaxis": {
            "gridcolor": "#DFE8F3",
            "linecolor": "#A2B1C6",
            "ticks": ""
           },
           "baxis": {
            "gridcolor": "#DFE8F3",
            "linecolor": "#A2B1C6",
            "ticks": ""
           },
           "bgcolor": "white",
           "caxis": {
            "gridcolor": "#DFE8F3",
            "linecolor": "#A2B1C6",
            "ticks": ""
           }
          },
          "title": {
           "x": 0.05
          },
          "xaxis": {
           "automargin": true,
           "gridcolor": "#EBF0F8",
           "linecolor": "#EBF0F8",
           "ticks": "",
           "title": {
            "standoff": 15
           },
           "zerolinecolor": "#EBF0F8",
           "zerolinewidth": 2
          },
          "yaxis": {
           "automargin": true,
           "gridcolor": "#EBF0F8",
           "linecolor": "#EBF0F8",
           "ticks": "",
           "title": {
            "standoff": 15
           },
           "zerolinecolor": "#EBF0F8",
           "zerolinewidth": 2
          }
         }
        },
        "title": {
         "text": "Figure 1: annual year-on-year change in real household net income forecast by decile"
        },
        "width": 800,
        "xaxis": {
         "anchor": "y",
         "domain": [
          0,
          1
         ],
         "title": {
          "text": "Year"
         }
        },
        "yaxis": {
         "anchor": "x",
         "domain": [
          0,
          1
         ],
         "range": [
          -0.1,
          0.1
         ],
         "tickformat": "+.0%",
         "title": {
          "text": "Relative year-on-year change"
         }
        }
       }
      }
     },
     "metadata": {},
     "output_type": "display_data"
    }
   ],
   "source": [
    "rainbow_chart(\"household_net_income\")"
   ]
  },
  {
   "cell_type": "markdown",
   "metadata": {},
   "source": [
    "Figure 1 shows PolicyEngine's principal forecast for (real) household disposable incomes, up to and including calendar year 2027. In 2025, we project average relative increases in real disposable income for most income deciles, of between 0 and 3%. In 2026 and 2027, net income falls for most deciles, except for the top four.\n",
    "\n",
    "All income measures in this report are before housing costs."
   ]
  },
  {
   "cell_type": "code",
   "execution_count": 10,
   "metadata": {},
   "outputs": [],
   "source": [
    "def poverty_rate_chart_df():\n",
    "    pov_df = pd.DataFrame()\n",
    "    for year in range(2022, 2028):\n",
    "        sim = Microsimulation()\n",
    "        in_poverty = sim.calculate(\"in_poverty\", map_to=\"person\", period=year)\n",
    "        child_poverty = in_poverty[sim.calculate(\"is_child\")].mean()\n",
    "        wa_poverty = in_poverty[sim.calculate(\"is_WA_adult\")].mean()\n",
    "        senior_poverty = in_poverty[sim.calculate(\"is_SP_age\")].mean()\n",
    "        all_poverty = in_poverty.mean()\n",
    "        pov_df = pd.concat(\n",
    "            [\n",
    "                pov_df,\n",
    "                pd.DataFrame(\n",
    "                    {\n",
    "                        \"Year\": [year],\n",
    "                        \"Children\": [child_poverty],\n",
    "                        \"Working-age adults\": [wa_poverty],\n",
    "                        \"Seniors\": [senior_poverty],\n",
    "                        \"All\": [all_poverty],\n",
    "                    }\n",
    "                ),\n",
    "            ]\n",
    "        )\n",
    "\n",
    "    return pov_df\n",
    "\n",
    "\n",
    "pov_df = poverty_rate_chart_df()"
   ]
  },
  {
   "cell_type": "code",
   "execution_count": 11,
   "metadata": {},
   "outputs": [
    {
     "data": {
      "application/vnd.plotly.v1+json": {
       "config": {
        "plotlyServerURL": "https://plot.ly"
       },
       "data": [
        {
         "hovertemplate": "variable=All<br>Year=%{x}<br>value=%{y}<extra></extra>",
         "legendgroup": "All",
         "line": {
          "color": "#4C78A8",
          "dash": "solid"
         },
         "marker": {
          "symbol": "circle"
         },
         "mode": "markers+lines",
         "name": "All",
         "orientation": "v",
         "showlegend": true,
         "type": "scatter",
         "x": [
          2022,
          2023,
          2024,
          2025,
          2026,
          2027
         ],
         "xaxis": "x",
         "y": [
          0.14915348845705703,
          0.15255748691590837,
          0.17178459441404054,
          0.16456900659431725,
          0.17376096837592594,
          0.1839555876431336
         ],
         "yaxis": "y"
        },
        {
         "hovertemplate": "variable=Children<br>Year=%{x}<br>value=%{y}<extra></extra>",
         "legendgroup": "Children",
         "line": {
          "color": "#F58518",
          "dash": "solid"
         },
         "marker": {
          "symbol": "circle"
         },
         "mode": "markers+lines",
         "name": "Children",
         "orientation": "v",
         "showlegend": true,
         "type": "scatter",
         "x": [
          2022,
          2023,
          2024,
          2025,
          2026,
          2027
         ],
         "xaxis": "x",
         "y": [
          0.27281412587719256,
          0.3039218034607991,
          0.31191894762846734,
          0.2910883325456953,
          0.29423284133503347,
          0.31178026278011817
         ],
         "yaxis": "y"
        },
        {
         "hovertemplate": "variable=Working-age adults<br>Year=%{x}<br>value=%{y}<extra></extra>",
         "legendgroup": "Working-age adults",
         "line": {
          "color": "#E45756",
          "dash": "solid"
         },
         "marker": {
          "symbol": "circle"
         },
         "mode": "markers+lines",
         "name": "Working-age adults",
         "orientation": "v",
         "showlegend": true,
         "type": "scatter",
         "x": [
          2022,
          2023,
          2024,
          2025,
          2026,
          2027
         ],
         "xaxis": "x",
         "y": [
          0.10929488945587383,
          0.11802532720613122,
          0.13606327885571504,
          0.1283247688889464,
          0.13584665237975,
          0.1416472090065762
         ],
         "yaxis": "y"
        },
        {
         "hovertemplate": "variable=Seniors<br>Year=%{x}<br>value=%{y}<extra></extra>",
         "legendgroup": "Seniors",
         "line": {
          "color": "#72B7B2",
          "dash": "solid"
         },
         "marker": {
          "symbol": "circle"
         },
         "mode": "markers+lines",
         "name": "Seniors",
         "orientation": "v",
         "showlegend": true,
         "type": "scatter",
         "x": [
          2022,
          2023,
          2024,
          2025,
          2026,
          2027
         ],
         "xaxis": "x",
         "y": [
          0.12418169874974387,
          0.07091406830812352,
          0.1138586834299001,
          0.12944351080881158,
          0.1584197776217525,
          0.17507432232385708
         ],
         "yaxis": "y"
        }
       ],
       "layout": {
        "font": {
         "color": "black",
         "family": "Roboto Serif"
        },
        "height": 600,
        "images": [
         {
          "sizex": 0.15,
          "sizey": 0.15,
          "source": "https://raw.githubusercontent.com/PolicyEngine/policyengine-app/master/src/images/logos/policyengine/blue.png",
          "x": 1.1,
          "xanchor": "right",
          "xref": "paper",
          "y": -0.15,
          "yanchor": "bottom",
          "yref": "paper"
         }
        ],
        "legend": {
         "title": {
          "text": "Age group"
         },
         "tracegroupgap": 0
        },
        "margin": {
         "t": 60
        },
        "modebar": {
         "bgcolor": "rgba(0,0,0,0)",
         "color": "rgba(0,0,0,0)"
        },
        "template": {
         "data": {
          "bar": [
           {
            "error_x": {
             "color": "#2a3f5f"
            },
            "error_y": {
             "color": "#2a3f5f"
            },
            "marker": {
             "line": {
              "color": "white",
              "width": 0.5
             },
             "pattern": {
              "fillmode": "overlay",
              "size": 10,
              "solidity": 0.2
             }
            },
            "type": "bar"
           }
          ],
          "barpolar": [
           {
            "marker": {
             "line": {
              "color": "white",
              "width": 0.5
             },
             "pattern": {
              "fillmode": "overlay",
              "size": 10,
              "solidity": 0.2
             }
            },
            "type": "barpolar"
           }
          ],
          "carpet": [
           {
            "aaxis": {
             "endlinecolor": "#2a3f5f",
             "gridcolor": "#C8D4E3",
             "linecolor": "#C8D4E3",
             "minorgridcolor": "#C8D4E3",
             "startlinecolor": "#2a3f5f"
            },
            "baxis": {
             "endlinecolor": "#2a3f5f",
             "gridcolor": "#C8D4E3",
             "linecolor": "#C8D4E3",
             "minorgridcolor": "#C8D4E3",
             "startlinecolor": "#2a3f5f"
            },
            "type": "carpet"
           }
          ],
          "choropleth": [
           {
            "colorbar": {
             "outlinewidth": 0,
             "ticks": ""
            },
            "type": "choropleth"
           }
          ],
          "contour": [
           {
            "colorbar": {
             "outlinewidth": 0,
             "ticks": ""
            },
            "colorscale": [
             [
              0,
              "#0d0887"
             ],
             [
              0.1111111111111111,
              "#46039f"
             ],
             [
              0.2222222222222222,
              "#7201a8"
             ],
             [
              0.3333333333333333,
              "#9c179e"
             ],
             [
              0.4444444444444444,
              "#bd3786"
             ],
             [
              0.5555555555555556,
              "#d8576b"
             ],
             [
              0.6666666666666666,
              "#ed7953"
             ],
             [
              0.7777777777777778,
              "#fb9f3a"
             ],
             [
              0.8888888888888888,
              "#fdca26"
             ],
             [
              1,
              "#f0f921"
             ]
            ],
            "type": "contour"
           }
          ],
          "contourcarpet": [
           {
            "colorbar": {
             "outlinewidth": 0,
             "ticks": ""
            },
            "type": "contourcarpet"
           }
          ],
          "heatmap": [
           {
            "colorbar": {
             "outlinewidth": 0,
             "ticks": ""
            },
            "colorscale": [
             [
              0,
              "#0d0887"
             ],
             [
              0.1111111111111111,
              "#46039f"
             ],
             [
              0.2222222222222222,
              "#7201a8"
             ],
             [
              0.3333333333333333,
              "#9c179e"
             ],
             [
              0.4444444444444444,
              "#bd3786"
             ],
             [
              0.5555555555555556,
              "#d8576b"
             ],
             [
              0.6666666666666666,
              "#ed7953"
             ],
             [
              0.7777777777777778,
              "#fb9f3a"
             ],
             [
              0.8888888888888888,
              "#fdca26"
             ],
             [
              1,
              "#f0f921"
             ]
            ],
            "type": "heatmap"
           }
          ],
          "heatmapgl": [
           {
            "colorbar": {
             "outlinewidth": 0,
             "ticks": ""
            },
            "colorscale": [
             [
              0,
              "#0d0887"
             ],
             [
              0.1111111111111111,
              "#46039f"
             ],
             [
              0.2222222222222222,
              "#7201a8"
             ],
             [
              0.3333333333333333,
              "#9c179e"
             ],
             [
              0.4444444444444444,
              "#bd3786"
             ],
             [
              0.5555555555555556,
              "#d8576b"
             ],
             [
              0.6666666666666666,
              "#ed7953"
             ],
             [
              0.7777777777777778,
              "#fb9f3a"
             ],
             [
              0.8888888888888888,
              "#fdca26"
             ],
             [
              1,
              "#f0f921"
             ]
            ],
            "type": "heatmapgl"
           }
          ],
          "histogram": [
           {
            "marker": {
             "pattern": {
              "fillmode": "overlay",
              "size": 10,
              "solidity": 0.2
             }
            },
            "type": "histogram"
           }
          ],
          "histogram2d": [
           {
            "colorbar": {
             "outlinewidth": 0,
             "ticks": ""
            },
            "colorscale": [
             [
              0,
              "#0d0887"
             ],
             [
              0.1111111111111111,
              "#46039f"
             ],
             [
              0.2222222222222222,
              "#7201a8"
             ],
             [
              0.3333333333333333,
              "#9c179e"
             ],
             [
              0.4444444444444444,
              "#bd3786"
             ],
             [
              0.5555555555555556,
              "#d8576b"
             ],
             [
              0.6666666666666666,
              "#ed7953"
             ],
             [
              0.7777777777777778,
              "#fb9f3a"
             ],
             [
              0.8888888888888888,
              "#fdca26"
             ],
             [
              1,
              "#f0f921"
             ]
            ],
            "type": "histogram2d"
           }
          ],
          "histogram2dcontour": [
           {
            "colorbar": {
             "outlinewidth": 0,
             "ticks": ""
            },
            "colorscale": [
             [
              0,
              "#0d0887"
             ],
             [
              0.1111111111111111,
              "#46039f"
             ],
             [
              0.2222222222222222,
              "#7201a8"
             ],
             [
              0.3333333333333333,
              "#9c179e"
             ],
             [
              0.4444444444444444,
              "#bd3786"
             ],
             [
              0.5555555555555556,
              "#d8576b"
             ],
             [
              0.6666666666666666,
              "#ed7953"
             ],
             [
              0.7777777777777778,
              "#fb9f3a"
             ],
             [
              0.8888888888888888,
              "#fdca26"
             ],
             [
              1,
              "#f0f921"
             ]
            ],
            "type": "histogram2dcontour"
           }
          ],
          "mesh3d": [
           {
            "colorbar": {
             "outlinewidth": 0,
             "ticks": ""
            },
            "type": "mesh3d"
           }
          ],
          "parcoords": [
           {
            "line": {
             "colorbar": {
              "outlinewidth": 0,
              "ticks": ""
             }
            },
            "type": "parcoords"
           }
          ],
          "pie": [
           {
            "automargin": true,
            "type": "pie"
           }
          ],
          "scatter": [
           {
            "fillpattern": {
             "fillmode": "overlay",
             "size": 10,
             "solidity": 0.2
            },
            "type": "scatter"
           }
          ],
          "scatter3d": [
           {
            "line": {
             "colorbar": {
              "outlinewidth": 0,
              "ticks": ""
             }
            },
            "marker": {
             "colorbar": {
              "outlinewidth": 0,
              "ticks": ""
             }
            },
            "type": "scatter3d"
           }
          ],
          "scattercarpet": [
           {
            "marker": {
             "colorbar": {
              "outlinewidth": 0,
              "ticks": ""
             }
            },
            "type": "scattercarpet"
           }
          ],
          "scattergeo": [
           {
            "marker": {
             "colorbar": {
              "outlinewidth": 0,
              "ticks": ""
             }
            },
            "type": "scattergeo"
           }
          ],
          "scattergl": [
           {
            "marker": {
             "colorbar": {
              "outlinewidth": 0,
              "ticks": ""
             }
            },
            "type": "scattergl"
           }
          ],
          "scattermapbox": [
           {
            "marker": {
             "colorbar": {
              "outlinewidth": 0,
              "ticks": ""
             }
            },
            "type": "scattermapbox"
           }
          ],
          "scatterpolar": [
           {
            "marker": {
             "colorbar": {
              "outlinewidth": 0,
              "ticks": ""
             }
            },
            "type": "scatterpolar"
           }
          ],
          "scatterpolargl": [
           {
            "marker": {
             "colorbar": {
              "outlinewidth": 0,
              "ticks": ""
             }
            },
            "type": "scatterpolargl"
           }
          ],
          "scatterternary": [
           {
            "marker": {
             "colorbar": {
              "outlinewidth": 0,
              "ticks": ""
             }
            },
            "type": "scatterternary"
           }
          ],
          "surface": [
           {
            "colorbar": {
             "outlinewidth": 0,
             "ticks": ""
            },
            "colorscale": [
             [
              0,
              "#0d0887"
             ],
             [
              0.1111111111111111,
              "#46039f"
             ],
             [
              0.2222222222222222,
              "#7201a8"
             ],
             [
              0.3333333333333333,
              "#9c179e"
             ],
             [
              0.4444444444444444,
              "#bd3786"
             ],
             [
              0.5555555555555556,
              "#d8576b"
             ],
             [
              0.6666666666666666,
              "#ed7953"
             ],
             [
              0.7777777777777778,
              "#fb9f3a"
             ],
             [
              0.8888888888888888,
              "#fdca26"
             ],
             [
              1,
              "#f0f921"
             ]
            ],
            "type": "surface"
           }
          ],
          "table": [
           {
            "cells": {
             "fill": {
              "color": "#EBF0F8"
             },
             "line": {
              "color": "white"
             }
            },
            "header": {
             "fill": {
              "color": "#C8D4E3"
             },
             "line": {
              "color": "white"
             }
            },
            "type": "table"
           }
          ]
         },
         "layout": {
          "annotationdefaults": {
           "arrowcolor": "#2a3f5f",
           "arrowhead": 0,
           "arrowwidth": 1
          },
          "autotypenumbers": "strict",
          "coloraxis": {
           "colorbar": {
            "outlinewidth": 0,
            "ticks": ""
           }
          },
          "colorscale": {
           "diverging": [
            [
             0,
             "#8e0152"
            ],
            [
             0.1,
             "#c51b7d"
            ],
            [
             0.2,
             "#de77ae"
            ],
            [
             0.3,
             "#f1b6da"
            ],
            [
             0.4,
             "#fde0ef"
            ],
            [
             0.5,
             "#f7f7f7"
            ],
            [
             0.6,
             "#e6f5d0"
            ],
            [
             0.7,
             "#b8e186"
            ],
            [
             0.8,
             "#7fbc41"
            ],
            [
             0.9,
             "#4d9221"
            ],
            [
             1,
             "#276419"
            ]
           ],
           "sequential": [
            [
             0,
             "#0d0887"
            ],
            [
             0.1111111111111111,
             "#46039f"
            ],
            [
             0.2222222222222222,
             "#7201a8"
            ],
            [
             0.3333333333333333,
             "#9c179e"
            ],
            [
             0.4444444444444444,
             "#bd3786"
            ],
            [
             0.5555555555555556,
             "#d8576b"
            ],
            [
             0.6666666666666666,
             "#ed7953"
            ],
            [
             0.7777777777777778,
             "#fb9f3a"
            ],
            [
             0.8888888888888888,
             "#fdca26"
            ],
            [
             1,
             "#f0f921"
            ]
           ],
           "sequentialminus": [
            [
             0,
             "#0d0887"
            ],
            [
             0.1111111111111111,
             "#46039f"
            ],
            [
             0.2222222222222222,
             "#7201a8"
            ],
            [
             0.3333333333333333,
             "#9c179e"
            ],
            [
             0.4444444444444444,
             "#bd3786"
            ],
            [
             0.5555555555555556,
             "#d8576b"
            ],
            [
             0.6666666666666666,
             "#ed7953"
            ],
            [
             0.7777777777777778,
             "#fb9f3a"
            ],
            [
             0.8888888888888888,
             "#fdca26"
            ],
            [
             1,
             "#f0f921"
            ]
           ]
          },
          "colorway": [
           "#636efa",
           "#EF553B",
           "#00cc96",
           "#ab63fa",
           "#FFA15A",
           "#19d3f3",
           "#FF6692",
           "#B6E880",
           "#FF97FF",
           "#FECB52"
          ],
          "font": {
           "color": "#2a3f5f"
          },
          "geo": {
           "bgcolor": "white",
           "lakecolor": "white",
           "landcolor": "white",
           "showlakes": true,
           "showland": true,
           "subunitcolor": "#C8D4E3"
          },
          "hoverlabel": {
           "align": "left"
          },
          "hovermode": "closest",
          "mapbox": {
           "style": "light"
          },
          "paper_bgcolor": "white",
          "plot_bgcolor": "white",
          "polar": {
           "angularaxis": {
            "gridcolor": "#EBF0F8",
            "linecolor": "#EBF0F8",
            "ticks": ""
           },
           "bgcolor": "white",
           "radialaxis": {
            "gridcolor": "#EBF0F8",
            "linecolor": "#EBF0F8",
            "ticks": ""
           }
          },
          "scene": {
           "xaxis": {
            "backgroundcolor": "white",
            "gridcolor": "#DFE8F3",
            "gridwidth": 2,
            "linecolor": "#EBF0F8",
            "showbackground": true,
            "ticks": "",
            "zerolinecolor": "#EBF0F8"
           },
           "yaxis": {
            "backgroundcolor": "white",
            "gridcolor": "#DFE8F3",
            "gridwidth": 2,
            "linecolor": "#EBF0F8",
            "showbackground": true,
            "ticks": "",
            "zerolinecolor": "#EBF0F8"
           },
           "zaxis": {
            "backgroundcolor": "white",
            "gridcolor": "#DFE8F3",
            "gridwidth": 2,
            "linecolor": "#EBF0F8",
            "showbackground": true,
            "ticks": "",
            "zerolinecolor": "#EBF0F8"
           }
          },
          "shapedefaults": {
           "line": {
            "color": "#2a3f5f"
           }
          },
          "ternary": {
           "aaxis": {
            "gridcolor": "#DFE8F3",
            "linecolor": "#A2B1C6",
            "ticks": ""
           },
           "baxis": {
            "gridcolor": "#DFE8F3",
            "linecolor": "#A2B1C6",
            "ticks": ""
           },
           "bgcolor": "white",
           "caxis": {
            "gridcolor": "#DFE8F3",
            "linecolor": "#A2B1C6",
            "ticks": ""
           }
          },
          "title": {
           "x": 0.05
          },
          "xaxis": {
           "automargin": true,
           "gridcolor": "#EBF0F8",
           "linecolor": "#EBF0F8",
           "ticks": "",
           "title": {
            "standoff": 15
           },
           "zerolinecolor": "#EBF0F8",
           "zerolinewidth": 2
          },
          "yaxis": {
           "automargin": true,
           "gridcolor": "#EBF0F8",
           "linecolor": "#EBF0F8",
           "ticks": "",
           "title": {
            "standoff": 15
           },
           "zerolinecolor": "#EBF0F8",
           "zerolinewidth": 2
          }
         }
        },
        "title": {
         "text": "Figure 2: absolute poverty forecast by age group"
        },
        "width": 800,
        "xaxis": {
         "anchor": "y",
         "domain": [
          0,
          1
         ],
         "title": {
          "text": "Year"
         }
        },
        "yaxis": {
         "anchor": "x",
         "domain": [
          0,
          1
         ],
         "range": [
          0,
          0.4
         ],
         "tickformat": ".0%",
         "title": {
          "text": "Percentage"
         }
        }
       }
      }
     },
     "metadata": {},
     "output_type": "display_data"
    }
   ],
   "source": [
    "fig = px.line(\n",
    "    pov_df,\n",
    "    x=\"Year\",\n",
    "    y=[\"All\", \"Children\", \"Working-age adults\", \"Seniors\"],\n",
    "    color_discrete_sequence=px.colors.qualitative.T10,\n",
    ")\n",
    "\n",
    "fig = format_fig(fig).update_layout(\n",
    "    yaxis_range=[0, 0.4],\n",
    "    yaxis_tickformat=\".0%\",\n",
    "    title=\"Figure 2: absolute poverty forecast by age group\",\n",
    "    legend_title=\"Age group\",\n",
    "    yaxis_title=\"Percentage\",\n",
    ")\n",
    "# Add squares to each point\n",
    "\n",
    "fig.update_traces(mode=\"markers+lines\")"
   ]
  },
  {
   "cell_type": "markdown",
   "metadata": {},
   "source": [
    "Figure 2 shows the forecast for poverty rates (absolute, before housing costs): increases for all major age groups. With the exception of a reduction in pensioner poverty in 2023 (largely due to benefit increases), we forecast increases in absolute poverty rates for all age groups until at least 2027.\n",
    "\n",
    "The [latest](https://www.gov.uk/government/statistics/households-below-average-income-for-financial-years-ending-1995-to-2023/households-below-average-income-an-analysis-of-the-uk-income-distribution-fye-1995-to-fye-2023) official absolute poverty rates from the government's Households Below Average Income series (which is for FY2022-23) differs slightly from our 2022 estimates (see Appendix A for a comparison and explanation of senior poverty rate trend differences):\n",
    "\n",
    "| Age group         | HBAI (%) | PolicyEngine (%) | Difference |\n",
    "|--------------------|------|--------------|--|\n",
    "| Children           | 22   | 27           |+5|\n",
    "| Working-age adults | 15   | 11           |-4|\n",
    "| Seniors            | 19   | 12           |-5|\n",
    "| All                | 17   | 15           |-2|\n"
   ]
  },
  {
   "cell_type": "markdown",
   "metadata": {},
   "source": [
    "\n",
    "PolicyEngine replicates official forecasts closely, largely due to both calibrating some outputs directly to be consistent (making many of these comparisons - all but VAT and fuel duty - _ex post_), and replicating the use of the OBR's economic determinant forecasts. The next sections evaluate PolicyEngine's model forecasts against OBR forecasts for key programs. We also compare against UKMOD, developed at the University of Essex, using their latest (March 2024) [country report](https://www.iser.essex.ac.uk/research/publications/working-papers/cempa/cempa4-24) as reference.\n",
    "\n",
    "PolicyEngine’s calibration routine (specified in more detail in our [working paper](https://policyengine.org/uk_data_enhancement.pdf)) calibrates the underlying household survey data weights to reduce inconsistency between the Family Resources Survey and other, more accurate government statistics on taxes and benefits. We use optimisation techniques [like the DWP does](https://assets.publishing.service.gov.uk/media/5a7dddcc40f0b65d88634e32/initial-review-family-resources-survey-weighting-scheme.pdf) in generating the initial FRS household weights, but we include statistics on tax revenues and benefit expenditures as well as demographics instead of excluding them. We also include imputations from other surveys on income and expenditure as part of this process. For a comparison to UKMOD’s approach, see Appendix B.\n",
    "\n",
    "### Income Tax\n",
    "\n",
    "PolicyEngine matches Income Tax revenue within 1% in 2024, with this accuracy falling to within 3% in 2027 as we project receipts to grow more slowly than the OBR."
   ]
  },
  {
   "cell_type": "code",
   "execution_count": 6,
   "metadata": {},
   "outputs": [
    {
     "data": {
      "text/markdown": [
       "|   Year |   OBR |   PolicyEngine |   UKMOD |   PolicyEngine / OBR (%) |   UKMOD / OBR (%) |\n",
       "|-------:|------:|---------------:|--------:|-------------------------:|------------------:|\n",
       "|   2022 | 250.5 |          250.2 |   245.8 |                     -0.1 |              -1.9 |\n",
       "|   2023 | 279.2 |          279.4 |   303   |                      0.1 |               8.5 |\n",
       "|   2024 | 302.7 |          299.8 |   364.3 |                     -1   |              20.4 |\n",
       "|   2025 | 315.8 |          310.1 |   372.2 |                     -1.8 |              17.9 |\n",
       "|   2026 | 331.4 |          324.2 |   383.9 |                     -2.2 |              15.8 |\n",
       "|   2027 | 348.7 |          339.3 |   398.2 |                     -2.7 |              14.2 |"
      ],
      "text/plain": [
       "<IPython.core.display.Markdown object>"
      ]
     },
     "execution_count": 6,
     "metadata": {},
     "output_type": "execute_result"
    }
   ],
   "source": [
    "from IPython.display import Markdown\n",
    "\n",
    "\n",
    "def variable_table(variable):\n",
    "    table = df[df.Variable.isin([variable]) & (df.Year > 2021)].pivot_table(\n",
    "        index=\"Year\", columns=[\"Source\"], values=\"Value\"\n",
    "    )\n",
    "    table[\"PolicyEngine / OBR (%)\"] = (\n",
    "        table.PolicyEngine / table.OBR - 1\n",
    "    ).apply(lambda x: f\"{x * 100:+.1f}\")\n",
    "    if \"UKMOD\" in table.columns:\n",
    "        table.UKMOD = table.UKMOD.apply(lambda x: round(x, 1))\n",
    "        table[\"UKMOD / OBR (%)\"] = (table.UKMOD / table.OBR - 1).apply(\n",
    "            lambda x: f\"{x * 100:+.1f}\"\n",
    "        )\n",
    "    return Markdown(table.to_markdown())\n",
    "\n",
    "\n",
    "variable_table(\"Income Tax\")"
   ]
  },
  {
   "cell_type": "markdown",
   "metadata": {},
   "source": [
    "### National Insurance\n",
    "\n",
    "PolicyEngine underestimates total National Insurance receipts by around 6% in 2024, rising to 8% in 2027."
   ]
  },
  {
   "cell_type": "code",
   "execution_count": 7,
   "metadata": {},
   "outputs": [
    {
     "data": {
      "text/markdown": [
       "|   Year |   OBR |   PolicyEngine |   UKMOD |   PolicyEngine / OBR (%) |   UKMOD / OBR (%) |\n",
       "|-------:|------:|---------------:|--------:|-------------------------:|------------------:|\n",
       "|   2022 | 179.2 |          165.7 |   178.1 |                     -7.5 |              -0.6 |\n",
       "|   2023 | 168.1 |          164.7 |   176.4 |                     -2   |               4.9 |\n",
       "|   2024 | 173.6 |          163.8 |   174.2 |                     -5.6 |               0.3 |\n",
       "|   2025 | 179.8 |          166.8 |   177.3 |                     -7.2 |              -1.4 |\n",
       "|   2026 | 186.1 |          171.5 |   182.5 |                     -7.8 |              -1.9 |\n",
       "|   2027 | 192.1 |          176.5 |   189   |                     -8.1 |              -1.6 |"
      ],
      "text/plain": [
       "<IPython.core.display.Markdown object>"
      ]
     },
     "execution_count": 7,
     "metadata": {},
     "output_type": "execute_result"
    }
   ],
   "source": [
    "variable_table(\"National Insurance\")"
   ]
  },
  {
   "cell_type": "markdown",
   "metadata": {},
   "source": [
    "### VAT\n",
    "\n",
    "PolicyEngine and the OBR match closely despite PolicyEngine not explicitly calibrating to VAT receipts. The difference is less than 1% in 2024 and 2025, and 2% in 2027 (UKMOD does not model VAT so is unavailable for comparison)."
   ]
  },
  {
   "cell_type": "code",
   "execution_count": 8,
   "metadata": {},
   "outputs": [
    {
     "data": {
      "text/markdown": [
       "|   Year |   OBR |   PolicyEngine |   PolicyEngine / OBR (%) |\n",
       "|-------:|------:|---------------:|-------------------------:|\n",
       "|   2022 | 159.7 |          156   |                     -2.3 |\n",
       "|   2023 | 169.6 |          165.7 |                     -2.3 |\n",
       "|   2024 | 173.9 |          175.6 |                      1   |\n",
       "|   2025 | 180.3 |          181.2 |                      0.5 |\n",
       "|   2026 | 188   |          186.7 |                     -0.7 |\n",
       "|   2027 | 195.9 |          193.2 |                     -1.4 |"
      ],
      "text/plain": [
       "<IPython.core.display.Markdown object>"
      ]
     },
     "execution_count": 8,
     "metadata": {},
     "output_type": "execute_result"
    }
   ],
   "source": [
    "variable_table(\"VAT\")"
   ]
  },
  {
   "cell_type": "markdown",
   "metadata": {},
   "source": [
    "### Council Tax\n",
    "\n",
    "We match Council Tax receipts closely (as does UKMOD)- Council Tax is imputed but relying on reported values by region (rather than simulated across local authorities), and all three models use the same OBR uprating forecasts to increase year-by-year."
   ]
  },
  {
   "cell_type": "code",
   "execution_count": 9,
   "metadata": {},
   "outputs": [
    {
     "data": {
      "text/markdown": [
       "|   Year |   OBR |   PolicyEngine |   UKMOD |   PolicyEngine / OBR (%) |   UKMOD / OBR (%) |\n",
       "|-------:|------:|---------------:|--------:|-------------------------:|------------------:|\n",
       "|   2022 |  44   |           42   |    45.6 |                     -4.5 |               3.6 |\n",
       "|   2023 |  46.3 |           45.2 |    48   |                     -2.4 |               3.7 |\n",
       "|   2024 |  48.6 |           47.9 |    50.1 |                     -1.4 |               3.1 |\n",
       "|   2025 |  51.2 |           50.4 |    52.2 |                     -1.6 |               2   |\n",
       "|   2026 |  53.9 |           53.3 |    54.3 |                     -1.1 |               0.7 |\n",
       "|   2027 |  56.8 |           55.9 |    56.6 |                     -1.6 |              -0.4 |"
      ],
      "text/plain": [
       "<IPython.core.display.Markdown object>"
      ]
     },
     "execution_count": 9,
     "metadata": {},
     "output_type": "execute_result"
    }
   ],
   "source": [
    "variable_table(\"Council Tax\")"
   ]
  },
  {
   "cell_type": "markdown",
   "metadata": {},
   "source": [
    "### Fuel duty\n",
    "\n",
    "Fuel duty is matched by around 10% on average, but is more volatile in PolicyEngine's model than the OBR forecast (UKMOD does not model fuel duty so cannot be used for comparison).\n",
    "\n",
    "The deviation is likely caused by the fact that the OBR accounts for the impact of car electrification on revenues, unlike PolicyEngine which does not.\n"
   ]
  },
  {
   "cell_type": "code",
   "execution_count": 10,
   "metadata": {},
   "outputs": [
    {
     "data": {
      "text/markdown": [
       "|   Year |   OBR |   PolicyEngine |   PolicyEngine / OBR (%) |\n",
       "|-------:|------:|---------------:|-------------------------:|\n",
       "|   2022 |  25.1 |           24.1 |                     -4   |\n",
       "|   2023 |  24.6 |           23.5 |                     -4.5 |\n",
       "|   2024 |  24.7 |           28   |                     13.4 |\n",
       "|   2025 |  27.3 |           29.5 |                      8.1 |\n",
       "|   2026 |  27.6 |           30.9 |                     12   |\n",
       "|   2027 |  28   |           33.3 |                     18.9 |"
      ],
      "text/plain": [
       "<IPython.core.display.Markdown object>"
      ]
     },
     "execution_count": 10,
     "metadata": {},
     "output_type": "execute_result"
    }
   ],
   "source": [
    "variable_table(\"Fuel duties\")"
   ]
  },
  {
   "cell_type": "markdown",
   "metadata": {},
   "source": [
    "### Universal Credit\n",
    "\n",
    "PolicyEngine's Universal Credit forecast is around 4% higher in 2024 than the OBR's, rising to 7.5% in 2027. This likely reflects uncertainty over the rollout of Universal Credit from legacy benefits."
   ]
  },
  {
   "cell_type": "code",
   "execution_count": 11,
   "metadata": {},
   "outputs": [
    {
     "data": {
      "text/markdown": [
       "|   Year |   OBR |   PolicyEngine |   UKMOD |   PolicyEngine / OBR (%) |   UKMOD / OBR (%) |\n",
       "|-------:|------:|---------------:|--------:|-------------------------:|------------------:|\n",
       "|   2022 |  51.8 |           57.6 |    40.9 |                     11.2 |             -21   |\n",
       "|   2023 |  66.9 |           68.7 |    47.8 |                      2.7 |             -28.6 |\n",
       "|   2024 |  74.3 |           77.6 |    59.3 |                      4.4 |             -20.2 |\n",
       "|   2025 |  77.6 |           83   |    69.9 |                      7   |              -9.9 |\n",
       "|   2026 |  80.8 |           87.2 |    70.3 |                      7.9 |             -13   |\n",
       "|   2027 |  83.8 |           90.1 |    70.5 |                      7.5 |             -15.9 |"
      ],
      "text/plain": [
       "<IPython.core.display.Markdown object>"
      ]
     },
     "execution_count": 11,
     "metadata": {},
     "output_type": "execute_result"
    }
   ],
   "source": [
    "variable_table(\"Universal Credit\")"
   ]
  },
  {
   "cell_type": "markdown",
   "metadata": {},
   "source": [
    "### Legacy benefits\n",
    "\n",
    "We match the OBR's forecasts for legacy benefit spending by around 7% on average."
   ]
  },
  {
   "cell_type": "code",
   "execution_count": 12,
   "metadata": {},
   "outputs": [
    {
     "data": {
      "text/markdown": [
       "|   Year |   OBR |   PolicyEngine |   UKMOD |   PolicyEngine / OBR (%) |   UKMOD / OBR (%) |\n",
       "|-------:|------:|---------------:|--------:|-------------------------:|------------------:|\n",
       "|   2022 |  22.2 |           24.2 |    21.5 |                      9   |              -3.2 |\n",
       "|   2023 |  15.4 |           17.2 |    19.7 |                     11.7 |              27.9 |\n",
       "|   2024 |  11.8 |           13.4 |    13.2 |                     13.6 |              11.9 |\n",
       "|   2025 |  11.8 |           11.9 |     5.1 |                      0.8 |             -56.8 |\n",
       "|   2026 |  11.5 |           12.3 |     5.1 |                      7   |             -55.7 |\n",
       "|   2027 |  10.6 |           11.7 |     5.2 |                     10.4 |             -50.9 |"
      ],
      "text/plain": [
       "<IPython.core.display.Markdown object>"
      ]
     },
     "execution_count": 12,
     "metadata": {},
     "output_type": "execute_result"
    }
   ],
   "source": [
    "variable_table(\"Legacy benefits\")"
   ]
  },
  {
   "cell_type": "markdown",
   "metadata": {},
   "source": [
    "### Child Benefit\n",
    "\n",
    "We match Child Benefit spending by around 10% on average."
   ]
  },
  {
   "cell_type": "code",
   "execution_count": 13,
   "metadata": {},
   "outputs": [
    {
     "data": {
      "text/markdown": [
       "|   Year |   OBR |   PolicyEngine |   UKMOD |   PolicyEngine / OBR (%) |   UKMOD / OBR (%) |\n",
       "|-------:|------:|---------------:|--------:|-------------------------:|------------------:|\n",
       "|   2022 |  12.5 |           12.6 |    11.2 |                      0.8 |             -10.4 |\n",
       "|   2023 |  13.5 |           14.4 |    11.8 |                      6.7 |             -12.6 |\n",
       "|   2024 |  13.5 |           15   |    12.4 |                     11.1 |              -8.1 |\n",
       "|   2025 |  13.5 |           15   |    12.7 |                     11.1 |              -5.9 |\n",
       "|   2026 |  13.5 |           14.9 |    12.7 |                     10.4 |              -5.9 |\n",
       "|   2027 |  13.5 |           15   |    12.7 |                     11.1 |              -5.9 |"
      ],
      "text/plain": [
       "<IPython.core.display.Markdown object>"
      ]
     },
     "execution_count": 13,
     "metadata": {},
     "output_type": "execute_result"
    }
   ],
   "source": [
    "variable_table(\"Child Benefit\")"
   ]
  },
  {
   "cell_type": "markdown",
   "metadata": {},
   "source": [
    "### Pension Credit\n",
    "\n",
    "Pension Credit sees the most divergence between PolicyEngine and the OBR of all simulated programs: £3bn on average, which represents aroud 40% of the size of the OBR forecast. UKMOD also shows differences up to 40% (but lower overall). Given that Pension Credit affects the pensioners with extremely low incomes (whose data in the FRS is less reliable), this is an area for further investigation."
   ]
  },
  {
   "cell_type": "code",
   "execution_count": 14,
   "metadata": {},
   "outputs": [
    {
     "data": {
      "text/markdown": [
       "|   Year |   OBR |   PolicyEngine |   UKMOD |   PolicyEngine / OBR (%) |   UKMOD / OBR (%) |\n",
       "|-------:|------:|---------------:|--------:|-------------------------:|------------------:|\n",
       "|   2022 |   5.4 |            9.3 |     4.7 |                     72.2 |             -13   |\n",
       "|   2023 |   5.8 |            5.2 |     5.3 |                    -10.3 |              -8.6 |\n",
       "|   2024 |   5.9 |            2.9 |     6.5 |                    -50.8 |              10.2 |\n",
       "|   2025 |   5.7 |            3.1 |     6.7 |                    -45.6 |              17.5 |\n",
       "|   2026 |   5.4 |            3.6 |     6.8 |                    -33.3 |              25.9 |\n",
       "|   2027 |   5.1 |            4.2 |     7   |                    -17.6 |              37.3 |"
      ],
      "text/plain": [
       "<IPython.core.display.Markdown object>"
      ]
     },
     "execution_count": 14,
     "metadata": {},
     "output_type": "execute_result"
    }
   ],
   "source": [
    "variable_table(\"Pension Credit\")"
   ]
  },
  {
   "cell_type": "markdown",
   "metadata": {},
   "source": [
    "### State Pension\n",
    "\n",
    "In 2024, we match the OBR on State Pension forecast within 7%, though this narrows to within 2% in 2026 and 2027."
   ]
  },
  {
   "cell_type": "code",
   "execution_count": 15,
   "metadata": {},
   "outputs": [
    {
     "data": {
      "text/markdown": [
       "|   Year |   OBR |   PolicyEngine |   PolicyEngine / OBR (%) |\n",
       "|-------:|------:|---------------:|-------------------------:|\n",
       "|   2022 | 124.6 |          125.1 |                      0.4 |\n",
       "|   2023 | 138.1 |          148.2 |                      7.3 |\n",
       "|   2024 | 146   |          155.9 |                      6.8 |\n",
       "|   2025 | 150.5 |          157.5 |                      4.7 |\n",
       "|   2026 | 153.2 |          155.9 |                      1.8 |\n",
       "|   2027 | 155.1 |          153.5 |                     -1   |"
      ],
      "text/plain": [
       "<IPython.core.display.Markdown object>"
      ]
     },
     "execution_count": 15,
     "metadata": {},
     "output_type": "execute_result"
    }
   ],
   "source": [
    "variable_table(\"State Pension\")"
   ]
  },
  {
   "cell_type": "markdown",
   "metadata": {},
   "source": [
    "## Appendix: senior poverty rates\n",
    "\n",
    "We project a significantly lower senior poverty estimate for 2023 than HBAI largely because of our modelling of the Energy Price Guarantee. We modelled this as an increase to incomes, rather than a decrease in consumption. Figure 3 shows the senior poverty rate with and without this intervention."
   ]
  },
  {
   "cell_type": "code",
   "execution_count": 12,
   "metadata": {},
   "outputs": [],
   "source": [
    "from policyengine_core.reforms import Reform\n",
    "\n",
    "no_epg_subsidy = Reform.from_dict(\n",
    "    {\n",
    "        \"gov.ofgem.energy_price_guarantee\": {\n",
    "            \"year:2020:10\": 1_000_000,\n",
    "        }\n",
    "    },\n",
    "    country_id=\"uk\",\n",
    ")\n",
    "\n",
    "\n",
    "def poverty_rate_chart_df():\n",
    "    pov_df = pd.DataFrame()\n",
    "    for year in range(2022, 2028):\n",
    "        baseline = Microsimulation()\n",
    "        sim = Microsimulation(reform=no_epg_subsidy)\n",
    "        in_poverty_b = baseline.calculate(\n",
    "            \"in_poverty\", map_to=\"person\", period=year\n",
    "        )\n",
    "        senior_poverty_b = in_poverty_b[baseline.calculate(\"is_SP_age\")].mean()\n",
    "        in_poverty_no_epg = sim.calculate(\n",
    "            \"in_poverty\", map_to=\"person\", period=year\n",
    "        )\n",
    "        senior_poverty_no_epg = in_poverty_no_epg[\n",
    "            sim.calculate(\"is_SP_age\")\n",
    "        ].mean()\n",
    "        pov_df = pd.concat(\n",
    "            [\n",
    "                pov_df,\n",
    "                pd.DataFrame(\n",
    "                    {\n",
    "                        \"Year\": [year],\n",
    "                        \"Baseline\": [senior_poverty_b],\n",
    "                        \"No EPG subsidy\": [senior_poverty_no_epg],\n",
    "                    }\n",
    "                ),\n",
    "            ]\n",
    "        )\n",
    "\n",
    "    return pov_df\n",
    "\n",
    "\n",
    "pov_df = poverty_rate_chart_df()"
   ]
  },
  {
   "cell_type": "code",
   "execution_count": 18,
   "metadata": {},
   "outputs": [
    {
     "data": {
      "application/vnd.plotly.v1+json": {
       "config": {
        "plotlyServerURL": "https://plot.ly"
       },
       "data": [
        {
         "hovertemplate": "variable=Baseline<br>Year=%{x}<br>value=%{y}<extra></extra>",
         "legendgroup": "Baseline",
         "line": {
          "color": "#72B7B2",
          "dash": "solid"
         },
         "marker": {
          "symbol": "circle"
         },
         "mode": "markers+lines",
         "name": "Baseline",
         "orientation": "v",
         "showlegend": true,
         "type": "scatter",
         "x": [
          2022,
          2023,
          2024,
          2025,
          2026,
          2027
         ],
         "xaxis": "x",
         "y": [
          0.12418169874974387,
          0.07091406830812352,
          0.1138586834299001,
          0.12944351080881158,
          0.1584197776217525,
          0.17507432232385708
         ],
         "yaxis": "y"
        },
        {
         "hovertemplate": "variable=No EPG subsidy<br>Year=%{x}<br>value=%{y}<extra></extra>",
         "legendgroup": "No EPG subsidy",
         "line": {
          "color": "#72B7B2",
          "dash": "dash"
         },
         "marker": {
          "symbol": "circle"
         },
         "mode": "markers+lines",
         "name": "No EPG subsidy",
         "orientation": "v",
         "showlegend": true,
         "type": "scatter",
         "x": [
          2022,
          2023,
          2024,
          2025,
          2026,
          2027
         ],
         "xaxis": "x",
         "y": [
          0.12876935776938392,
          0.09515916239260568,
          0.1138586834299001,
          0.12944351080881158,
          0.1584197776217525,
          0.17507432232385708
         ],
         "yaxis": "y"
        }
       ],
       "layout": {
        "font": {
         "color": "black",
         "family": "Roboto Serif"
        },
        "height": 600,
        "images": [
         {
          "sizex": 0.15,
          "sizey": 0.15,
          "source": "https://raw.githubusercontent.com/PolicyEngine/policyengine-app/master/src/images/logos/policyengine/blue.png",
          "x": 1.1,
          "xanchor": "right",
          "xref": "paper",
          "y": -0.15,
          "yanchor": "bottom",
          "yref": "paper"
         }
        ],
        "legend": {
         "title": {
          "text": "Policy"
         },
         "tracegroupgap": 0
        },
        "margin": {
         "t": 60
        },
        "modebar": {
         "bgcolor": "rgba(0,0,0,0)",
         "color": "rgba(0,0,0,0)"
        },
        "template": {
         "data": {
          "bar": [
           {
            "error_x": {
             "color": "#2a3f5f"
            },
            "error_y": {
             "color": "#2a3f5f"
            },
            "marker": {
             "line": {
              "color": "white",
              "width": 0.5
             },
             "pattern": {
              "fillmode": "overlay",
              "size": 10,
              "solidity": 0.2
             }
            },
            "type": "bar"
           }
          ],
          "barpolar": [
           {
            "marker": {
             "line": {
              "color": "white",
              "width": 0.5
             },
             "pattern": {
              "fillmode": "overlay",
              "size": 10,
              "solidity": 0.2
             }
            },
            "type": "barpolar"
           }
          ],
          "carpet": [
           {
            "aaxis": {
             "endlinecolor": "#2a3f5f",
             "gridcolor": "#C8D4E3",
             "linecolor": "#C8D4E3",
             "minorgridcolor": "#C8D4E3",
             "startlinecolor": "#2a3f5f"
            },
            "baxis": {
             "endlinecolor": "#2a3f5f",
             "gridcolor": "#C8D4E3",
             "linecolor": "#C8D4E3",
             "minorgridcolor": "#C8D4E3",
             "startlinecolor": "#2a3f5f"
            },
            "type": "carpet"
           }
          ],
          "choropleth": [
           {
            "colorbar": {
             "outlinewidth": 0,
             "ticks": ""
            },
            "type": "choropleth"
           }
          ],
          "contour": [
           {
            "colorbar": {
             "outlinewidth": 0,
             "ticks": ""
            },
            "colorscale": [
             [
              0,
              "#0d0887"
             ],
             [
              0.1111111111111111,
              "#46039f"
             ],
             [
              0.2222222222222222,
              "#7201a8"
             ],
             [
              0.3333333333333333,
              "#9c179e"
             ],
             [
              0.4444444444444444,
              "#bd3786"
             ],
             [
              0.5555555555555556,
              "#d8576b"
             ],
             [
              0.6666666666666666,
              "#ed7953"
             ],
             [
              0.7777777777777778,
              "#fb9f3a"
             ],
             [
              0.8888888888888888,
              "#fdca26"
             ],
             [
              1,
              "#f0f921"
             ]
            ],
            "type": "contour"
           }
          ],
          "contourcarpet": [
           {
            "colorbar": {
             "outlinewidth": 0,
             "ticks": ""
            },
            "type": "contourcarpet"
           }
          ],
          "heatmap": [
           {
            "colorbar": {
             "outlinewidth": 0,
             "ticks": ""
            },
            "colorscale": [
             [
              0,
              "#0d0887"
             ],
             [
              0.1111111111111111,
              "#46039f"
             ],
             [
              0.2222222222222222,
              "#7201a8"
             ],
             [
              0.3333333333333333,
              "#9c179e"
             ],
             [
              0.4444444444444444,
              "#bd3786"
             ],
             [
              0.5555555555555556,
              "#d8576b"
             ],
             [
              0.6666666666666666,
              "#ed7953"
             ],
             [
              0.7777777777777778,
              "#fb9f3a"
             ],
             [
              0.8888888888888888,
              "#fdca26"
             ],
             [
              1,
              "#f0f921"
             ]
            ],
            "type": "heatmap"
           }
          ],
          "heatmapgl": [
           {
            "colorbar": {
             "outlinewidth": 0,
             "ticks": ""
            },
            "colorscale": [
             [
              0,
              "#0d0887"
             ],
             [
              0.1111111111111111,
              "#46039f"
             ],
             [
              0.2222222222222222,
              "#7201a8"
             ],
             [
              0.3333333333333333,
              "#9c179e"
             ],
             [
              0.4444444444444444,
              "#bd3786"
             ],
             [
              0.5555555555555556,
              "#d8576b"
             ],
             [
              0.6666666666666666,
              "#ed7953"
             ],
             [
              0.7777777777777778,
              "#fb9f3a"
             ],
             [
              0.8888888888888888,
              "#fdca26"
             ],
             [
              1,
              "#f0f921"
             ]
            ],
            "type": "heatmapgl"
           }
          ],
          "histogram": [
           {
            "marker": {
             "pattern": {
              "fillmode": "overlay",
              "size": 10,
              "solidity": 0.2
             }
            },
            "type": "histogram"
           }
          ],
          "histogram2d": [
           {
            "colorbar": {
             "outlinewidth": 0,
             "ticks": ""
            },
            "colorscale": [
             [
              0,
              "#0d0887"
             ],
             [
              0.1111111111111111,
              "#46039f"
             ],
             [
              0.2222222222222222,
              "#7201a8"
             ],
             [
              0.3333333333333333,
              "#9c179e"
             ],
             [
              0.4444444444444444,
              "#bd3786"
             ],
             [
              0.5555555555555556,
              "#d8576b"
             ],
             [
              0.6666666666666666,
              "#ed7953"
             ],
             [
              0.7777777777777778,
              "#fb9f3a"
             ],
             [
              0.8888888888888888,
              "#fdca26"
             ],
             [
              1,
              "#f0f921"
             ]
            ],
            "type": "histogram2d"
           }
          ],
          "histogram2dcontour": [
           {
            "colorbar": {
             "outlinewidth": 0,
             "ticks": ""
            },
            "colorscale": [
             [
              0,
              "#0d0887"
             ],
             [
              0.1111111111111111,
              "#46039f"
             ],
             [
              0.2222222222222222,
              "#7201a8"
             ],
             [
              0.3333333333333333,
              "#9c179e"
             ],
             [
              0.4444444444444444,
              "#bd3786"
             ],
             [
              0.5555555555555556,
              "#d8576b"
             ],
             [
              0.6666666666666666,
              "#ed7953"
             ],
             [
              0.7777777777777778,
              "#fb9f3a"
             ],
             [
              0.8888888888888888,
              "#fdca26"
             ],
             [
              1,
              "#f0f921"
             ]
            ],
            "type": "histogram2dcontour"
           }
          ],
          "mesh3d": [
           {
            "colorbar": {
             "outlinewidth": 0,
             "ticks": ""
            },
            "type": "mesh3d"
           }
          ],
          "parcoords": [
           {
            "line": {
             "colorbar": {
              "outlinewidth": 0,
              "ticks": ""
             }
            },
            "type": "parcoords"
           }
          ],
          "pie": [
           {
            "automargin": true,
            "type": "pie"
           }
          ],
          "scatter": [
           {
            "fillpattern": {
             "fillmode": "overlay",
             "size": 10,
             "solidity": 0.2
            },
            "type": "scatter"
           }
          ],
          "scatter3d": [
           {
            "line": {
             "colorbar": {
              "outlinewidth": 0,
              "ticks": ""
             }
            },
            "marker": {
             "colorbar": {
              "outlinewidth": 0,
              "ticks": ""
             }
            },
            "type": "scatter3d"
           }
          ],
          "scattercarpet": [
           {
            "marker": {
             "colorbar": {
              "outlinewidth": 0,
              "ticks": ""
             }
            },
            "type": "scattercarpet"
           }
          ],
          "scattergeo": [
           {
            "marker": {
             "colorbar": {
              "outlinewidth": 0,
              "ticks": ""
             }
            },
            "type": "scattergeo"
           }
          ],
          "scattergl": [
           {
            "marker": {
             "colorbar": {
              "outlinewidth": 0,
              "ticks": ""
             }
            },
            "type": "scattergl"
           }
          ],
          "scattermapbox": [
           {
            "marker": {
             "colorbar": {
              "outlinewidth": 0,
              "ticks": ""
             }
            },
            "type": "scattermapbox"
           }
          ],
          "scatterpolar": [
           {
            "marker": {
             "colorbar": {
              "outlinewidth": 0,
              "ticks": ""
             }
            },
            "type": "scatterpolar"
           }
          ],
          "scatterpolargl": [
           {
            "marker": {
             "colorbar": {
              "outlinewidth": 0,
              "ticks": ""
             }
            },
            "type": "scatterpolargl"
           }
          ],
          "scatterternary": [
           {
            "marker": {
             "colorbar": {
              "outlinewidth": 0,
              "ticks": ""
             }
            },
            "type": "scatterternary"
           }
          ],
          "surface": [
           {
            "colorbar": {
             "outlinewidth": 0,
             "ticks": ""
            },
            "colorscale": [
             [
              0,
              "#0d0887"
             ],
             [
              0.1111111111111111,
              "#46039f"
             ],
             [
              0.2222222222222222,
              "#7201a8"
             ],
             [
              0.3333333333333333,
              "#9c179e"
             ],
             [
              0.4444444444444444,
              "#bd3786"
             ],
             [
              0.5555555555555556,
              "#d8576b"
             ],
             [
              0.6666666666666666,
              "#ed7953"
             ],
             [
              0.7777777777777778,
              "#fb9f3a"
             ],
             [
              0.8888888888888888,
              "#fdca26"
             ],
             [
              1,
              "#f0f921"
             ]
            ],
            "type": "surface"
           }
          ],
          "table": [
           {
            "cells": {
             "fill": {
              "color": "#EBF0F8"
             },
             "line": {
              "color": "white"
             }
            },
            "header": {
             "fill": {
              "color": "#C8D4E3"
             },
             "line": {
              "color": "white"
             }
            },
            "type": "table"
           }
          ]
         },
         "layout": {
          "annotationdefaults": {
           "arrowcolor": "#2a3f5f",
           "arrowhead": 0,
           "arrowwidth": 1
          },
          "autotypenumbers": "strict",
          "coloraxis": {
           "colorbar": {
            "outlinewidth": 0,
            "ticks": ""
           }
          },
          "colorscale": {
           "diverging": [
            [
             0,
             "#8e0152"
            ],
            [
             0.1,
             "#c51b7d"
            ],
            [
             0.2,
             "#de77ae"
            ],
            [
             0.3,
             "#f1b6da"
            ],
            [
             0.4,
             "#fde0ef"
            ],
            [
             0.5,
             "#f7f7f7"
            ],
            [
             0.6,
             "#e6f5d0"
            ],
            [
             0.7,
             "#b8e186"
            ],
            [
             0.8,
             "#7fbc41"
            ],
            [
             0.9,
             "#4d9221"
            ],
            [
             1,
             "#276419"
            ]
           ],
           "sequential": [
            [
             0,
             "#0d0887"
            ],
            [
             0.1111111111111111,
             "#46039f"
            ],
            [
             0.2222222222222222,
             "#7201a8"
            ],
            [
             0.3333333333333333,
             "#9c179e"
            ],
            [
             0.4444444444444444,
             "#bd3786"
            ],
            [
             0.5555555555555556,
             "#d8576b"
            ],
            [
             0.6666666666666666,
             "#ed7953"
            ],
            [
             0.7777777777777778,
             "#fb9f3a"
            ],
            [
             0.8888888888888888,
             "#fdca26"
            ],
            [
             1,
             "#f0f921"
            ]
           ],
           "sequentialminus": [
            [
             0,
             "#0d0887"
            ],
            [
             0.1111111111111111,
             "#46039f"
            ],
            [
             0.2222222222222222,
             "#7201a8"
            ],
            [
             0.3333333333333333,
             "#9c179e"
            ],
            [
             0.4444444444444444,
             "#bd3786"
            ],
            [
             0.5555555555555556,
             "#d8576b"
            ],
            [
             0.6666666666666666,
             "#ed7953"
            ],
            [
             0.7777777777777778,
             "#fb9f3a"
            ],
            [
             0.8888888888888888,
             "#fdca26"
            ],
            [
             1,
             "#f0f921"
            ]
           ]
          },
          "colorway": [
           "#636efa",
           "#EF553B",
           "#00cc96",
           "#ab63fa",
           "#FFA15A",
           "#19d3f3",
           "#FF6692",
           "#B6E880",
           "#FF97FF",
           "#FECB52"
          ],
          "font": {
           "color": "#2a3f5f"
          },
          "geo": {
           "bgcolor": "white",
           "lakecolor": "white",
           "landcolor": "white",
           "showlakes": true,
           "showland": true,
           "subunitcolor": "#C8D4E3"
          },
          "hoverlabel": {
           "align": "left"
          },
          "hovermode": "closest",
          "mapbox": {
           "style": "light"
          },
          "paper_bgcolor": "white",
          "plot_bgcolor": "white",
          "polar": {
           "angularaxis": {
            "gridcolor": "#EBF0F8",
            "linecolor": "#EBF0F8",
            "ticks": ""
           },
           "bgcolor": "white",
           "radialaxis": {
            "gridcolor": "#EBF0F8",
            "linecolor": "#EBF0F8",
            "ticks": ""
           }
          },
          "scene": {
           "xaxis": {
            "backgroundcolor": "white",
            "gridcolor": "#DFE8F3",
            "gridwidth": 2,
            "linecolor": "#EBF0F8",
            "showbackground": true,
            "ticks": "",
            "zerolinecolor": "#EBF0F8"
           },
           "yaxis": {
            "backgroundcolor": "white",
            "gridcolor": "#DFE8F3",
            "gridwidth": 2,
            "linecolor": "#EBF0F8",
            "showbackground": true,
            "ticks": "",
            "zerolinecolor": "#EBF0F8"
           },
           "zaxis": {
            "backgroundcolor": "white",
            "gridcolor": "#DFE8F3",
            "gridwidth": 2,
            "linecolor": "#EBF0F8",
            "showbackground": true,
            "ticks": "",
            "zerolinecolor": "#EBF0F8"
           }
          },
          "shapedefaults": {
           "line": {
            "color": "#2a3f5f"
           }
          },
          "ternary": {
           "aaxis": {
            "gridcolor": "#DFE8F3",
            "linecolor": "#A2B1C6",
            "ticks": ""
           },
           "baxis": {
            "gridcolor": "#DFE8F3",
            "linecolor": "#A2B1C6",
            "ticks": ""
           },
           "bgcolor": "white",
           "caxis": {
            "gridcolor": "#DFE8F3",
            "linecolor": "#A2B1C6",
            "ticks": ""
           }
          },
          "title": {
           "x": 0.05
          },
          "xaxis": {
           "automargin": true,
           "gridcolor": "#EBF0F8",
           "linecolor": "#EBF0F8",
           "ticks": "",
           "title": {
            "standoff": 15
           },
           "zerolinecolor": "#EBF0F8",
           "zerolinewidth": 2
          },
          "yaxis": {
           "automargin": true,
           "gridcolor": "#EBF0F8",
           "linecolor": "#EBF0F8",
           "ticks": "",
           "title": {
            "standoff": 15
           },
           "zerolinecolor": "#EBF0F8",
           "zerolinewidth": 2
          }
         }
        },
        "title": {
         "text": "Figure 3: senior absolute poverty forecast under alternative policy scenarios"
        },
        "width": 800,
        "xaxis": {
         "anchor": "y",
         "domain": [
          0,
          1
         ],
         "title": {
          "text": "Year"
         }
        },
        "yaxis": {
         "anchor": "x",
         "domain": [
          0,
          1
         ],
         "range": [
          0,
          0.4
         ],
         "tickformat": ".0%",
         "title": {
          "text": "Percentage"
         }
        }
       }
      }
     },
     "metadata": {},
     "output_type": "display_data"
    }
   ],
   "source": [
    "fig = px.line(\n",
    "    pov_df,\n",
    "    x=\"Year\",\n",
    "    y=[\"Baseline\", \"No EPG subsidy\"],\n",
    "    color_discrete_sequence=[px.colors.qualitative.T10[3]] * 2,\n",
    ")\n",
    "\n",
    "fig = format_fig(fig).update_layout(\n",
    "    yaxis_range=[0, 0.4],\n",
    "    yaxis_tickformat=\".0%\",\n",
    "    title=\"Figure 3: senior absolute poverty forecast under alternative policy scenarios\",\n",
    "    legend_title=\"Policy\",\n",
    "    yaxis_title=\"Percentage\",\n",
    ")\n",
    "# Add squares to each point\n",
    "\n",
    "fig.update_traces(mode=\"markers+lines\")\n",
    "\n",
    "# Make the second line dashed\n",
    "\n",
    "fig.data[1].line.dash = \"dash\"\n",
    "\n",
    "fig"
   ]
  },
  {
   "cell_type": "markdown",
   "metadata": {},
   "source": [
    "## Appendix B: modelling assumptions\n",
    "\n",
    "Both PolicyEngine and UKMOD face choices in how much to calibrate their models to administrative aggregates. These choices can involve inheriting calibration from the Department for Work and Pensions' (DWP) microdata calibration, applying uprating factors, and determining benefit take-up rates.\n",
    "\n",
    "PolicyEngine has opted for a broader-scale calibration approach. We use optimisation techniques similar to those employed by the DWP when generating the initial Family Resources Survey (FRS) household weights. However, while the DWP primarily focuses on calibrating to demographic totals, PolicyEngine also includes statistics on tax revenues and benefit expenditures in the calibration process. Furthermore, we incorporate imputations from other surveys on income and expenditure to refine the microdata.\n",
    "\n",
    "In contrast, UKMOD relies on the original FRS weights calibrated by the DWP to demographic totals, and limits adjustments to applying uprating factors and policy-related mechanical changes, such as transitioning households from legacy benefits to Universal Credit, adjusting unemployment status, and modelling benefit take-up rates.\n",
    "\n",
    "While both approaches have their merits, we believe that microsimulation models should, at a minimum, strive to replicate the reported administrative totals for years where this information is known. PolicyEngine's more extensive calibration process aims to achieve this goal and improve the model's accuracy in estimating the impacts of policy reforms on UK households.\n",
    "\n",
    "It is important to acknowledge that the level of confidence in projections may decrease for future years due to inherent uncertainties. However, calibrating the model to match known administrative data ensures a solid foundation for estimating policy reform impacts. Furthermore, we believe OBR projections are the best sources available for calibrating microdata in future years.\n",
    "\n",
    "We recognise that the choice of calibration approach can influence comparisons between different microsimulation models. By providing transparency about our modelling assumptions and calibration methods, we hope to facilitate a better understanding of the similarities and differences between PolicyEngine and other models, such as UKMOD.\n",
    "\n",
    "As we continue to develop and refine our model, we remain committed to striking a balance between model accuracy and transparency, while acknowledging the uncertainties associated with future projections."
   ]
  }
 ],
 "metadata": {
  "kernelspec": {
   "display_name": "base",
   "language": "python",
   "name": "python3"
  },
  "language_info": {
   "codemirror_mode": {
    "name": "ipython",
    "version": 3
   },
   "file_extension": ".py",
   "mimetype": "text/x-python",
   "name": "python",
   "nbconvert_exporter": "python",
   "pygments_lexer": "ipython3",
   "version": "3.9.12"
  }
 },
 "nbformat": 4,
 "nbformat_minor": 2
}
