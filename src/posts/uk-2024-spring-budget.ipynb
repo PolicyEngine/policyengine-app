{
 "cells": [
  {
   "cell_type": "markdown",
   "metadata": {},
   "source": [
    "Today, Chancellor of the Exchequer Jeremy Hunt announced the Government's Spring Budget 2024. This budget includes a variety of reforms, delineated by the Treasury [here](https://www.gov.uk/government/publications/spring-budget-2024).\n",
    "\n",
    "In this post, PolicyEngine will model the budgetary, societal, and distributional impacts of the budget's reforms to National Insurance, the High Income Child Benefit Charge, and the fuel duty. *To view the impacts of these reforms upon society in PolicyEngine's interactive reform modeling tool, visit [this link](https://policyengine.org/uk/policy?reform=49773&baseline=1&time_period=2024&region=uk&focus=policyOutput.policyBreakdown&timePeriod=2024).*\n",
    "\n",
    "## Spring Budget 2024 reforms\n",
    "The Spring 2024 Budget includes reforms to various different segments of the tax code. Of these, PolicyEngine will be modelling the following in this article:\n",
    "\n",
    "#### National Insurance Contributions (NICs)\n",
    "* Lowering the main rate of Class 1 NICs from 10p to 8p\n",
    "* Cutting the main rate of Class 4 self-employed NICs from 8p to 6p\n",
    "\n",
    "#### High Income Child Benefit Charge\n",
    "* Increasing the income threshold for the charge from £60,000 to £80,000\n",
    "* Increasing the charge's taper range from £60,000 to £80,000\n",
    "\n",
    "#### Fuel Duty\n",
    "* Extending the fuel duty's 5p rate cut for 12 months\n",
    "* Forgoing the fiscal year 2024-2025 RPI increase for the fuel duty\n",
    "\n",
    "When modelling these reforms, PolicyEngine assumes they take effect on 1 January 2024 and evaluates their impacts over calendar year 2024, differing slightly from Treasury's estimates, which are aligned with the fiscal calendar. In future development iterations, PolicyEngine hopes to be able to model the mid-year effective date of reforms like these.\n",
    "\n",
    "#### Other reforms\n",
    "The Chancellor's Spring Budget 2024 also codifies a number of reforms not included in the PolicyEngine model, such as a freeze on the alcohol duty, changes to the non-domiciled taxation regime, and a duty on vaping products. These reforms will not be modelled in this article.\n",
    "\n",
    "## Reform outcomes\n",
    "Table 1 below presents PolicyEngine's estimate of each policy reform provision's key household, budgetary, and societal impact metrics. Cumulatively, the reforms are modelled to cost HM Treasury a total of £14.1 billion for calendar year 2024 and raise the net income of 77.4% of British households, particularly those with higher pre-tax income. The policies also present ambiguous impacts upon the poverty rate, while raising inequality by 0.4%."
   ]
  },
  {
   "cell_type": "markdown",
   "metadata": {},
   "source": [
    "*Table 1: Household and societal impacts of each Spring Budget 2023 reform provision*"
   ]
  },
  {
   "cell_type": "code",
   "execution_count": 5,
   "metadata": {},
   "outputs": [],
   "source": [
    "from policyengine_uk import Microsimulation\n",
    "from policyengine_uk.model_api import *\n",
    "\n",
    "reform = {\n",
    "    \"gov.hmrc.fuel_duty.petrol_and_diesel\": {\n",
    "        \"year:2024:5\": 0.5295,\n",
    "    },\n",
    "    \"gov.hmrc.income_tax.charges.CB_HITC.phase_out_start\": {\n",
    "        \"year:2024:5\": 60_000,\n",
    "    },\n",
    "    \"gov.hmrc.income_tax.charges.CB_HITC.phase_out_rate\": {\n",
    "        \"year:2024:5\": 0.05,\n",
    "    },\n",
    "    \"gov.hmrc.national_insurance.class_1.rates.employee.main\": {\n",
    "        \"year:2024:5\": 0.08,\n",
    "    },\n",
    "    \"gov.hmrc.national_insurance.class_4.rates.main\": {\n",
    "        \"year:2024:5\": 0.06,\n",
    "    },\n",
    "}\n",
    "import pandas as pd\n",
    "\n",
    "# DataFrame with columns: [provision name, provision cost in 2024, percent better off, provision poverty impact in 2024, inequality impact in 2024]\n",
    "\n",
    "reforms = []\n",
    "\n",
    "fuel_duty_freeze = {\n",
    "    \"gov.hmrc.fuel_duty.petrol_and_diesel\": {\n",
    "        \"year:2024:5\": 0.5295,\n",
    "    }\n",
    "}\n",
    "\n",
    "cb_hitc_cut = {\n",
    "    \"gov.hmrc.income_tax.charges.CB_HITC.phase_out_start\": {\n",
    "        \"year:2024:5\": 60_000,\n",
    "    },\n",
    "    \"gov.hmrc.income_tax.charges.CB_HITC.phase_out_rate\": {\n",
    "        \"year:2024:5\": 0.05,\n",
    "    },\n",
    "}\n",
    "\n",
    "ni_class_1_cut = {\n",
    "    \"gov.hmrc.national_insurance.class_1.rates.employee.main\": {\n",
    "        \"year:2024:5\": 0.08,\n",
    "    },\n",
    "}\n",
    "\n",
    "ni_class_4_cut = {\n",
    "    \"gov.hmrc.national_insurance.class_4.rates.main\": {\n",
    "        \"year:2024:5\": 0.06,\n",
    "    },\n",
    "}\n",
    "\n",
    "complete_reform = {\n",
    "    **fuel_duty_freeze,\n",
    "    **cb_hitc_cut,\n",
    "    **ni_class_1_cut,\n",
    "    **ni_class_4_cut\n",
    "}\n",
    "\n",
    "reforms = [fuel_duty_freeze, cb_hitc_cut, ni_class_1_cut, ni_class_4_cut, complete_reform]\n",
    "\n",
    "provisions = [\"Fuel duty freeze\", \"CB HITC cut\", \"NI class 1 cut\", \"NI class 4 cut\", \"Combined\"]\n",
    "\n",
    "baseline = Microsimulation()\n",
    "\n",
    "def get_impacts(reform_dict: dict) -> dict:\n",
    "    reform = Reform.from_dict(reform_dict, country_id=\"uk\")\n",
    "    reformed = Microsimulation(reform=reform)\n",
    "\n",
    "    budgetary_impact = baseline.calculate(\"household_net_income\", period=2024).sum() - reformed.calculate(\"household_net_income\", 2024).sum()\n",
    "    poverty_baseline = baseline.calculate(\"in_poverty\", map_to=\"person\", period=2024).mean()\n",
    "    poverty_reform = reformed.calculate(\"in_poverty\", map_to=\"person\", period=2024).mean()\n",
    "    poverty_rate_change = (poverty_reform - poverty_baseline) / poverty_baseline\n",
    "\n",
    "    gini_baseline = baseline.calculate(\"equiv_household_net_income\", map_to=\"person\", period=2024).gini()\n",
    "    gini_reform = reformed.calculate(\"equiv_household_net_income\", map_to=\"person\", period=2024).gini()\n",
    "    gini_rate_change = (gini_reform - gini_baseline) / gini_baseline\n",
    "\n",
    "    hnet_reformed = reformed.calculate(\"household_net_income\", period=2024, map_to=\"person\")\n",
    "    hnet_baseline = baseline.calculate(\"household_net_income\", period=2024, map_to=\"person\")\n",
    "    percent_better_off = (hnet_reformed > hnet_baseline).mean()\n",
    "    # Poverty headcount relative change\n",
    "    # Inequality gini index relative change\n",
    "    # Percent better off\n",
    "\n",
    "    return dict(\n",
    "        budgetary_impact=budgetary_impact,\n",
    "        reform_id=reform.api_id,\n",
    "        poverty_rate_change=poverty_rate_change,\n",
    "        gini_rate_change=gini_rate_change,\n",
    "        percent_better_off=percent_better_off\n",
    "    )\n",
    "\n",
    "budgetary_impacts = []\n",
    "reform_ids = []\n",
    "poverty_rate_changes = []\n",
    "gini_rate_changes = []\n",
    "percentages_better_off = []\n",
    "\n",
    "for i in range(len(provisions)):\n",
    "    impacts = get_impacts(reforms[i])\n",
    "    budgetary_impacts.append(impacts[\"budgetary_impact\"])\n",
    "    reform_ids.append(impacts[\"reform_id\"])\n",
    "    poverty_rate_changes.append(impacts[\"poverty_rate_change\"])\n",
    "    gini_rate_changes.append(impacts[\"gini_rate_change\"])\n",
    "    percentages_better_off.append(impacts[\"percent_better_off\"])\n",
    "\n",
    "df = pd.DataFrame({\n",
    "    \"Reform\": provisions,\n",
    "    \"Budgetary impact\": budgetary_impacts,\n",
    "    \"Percent gaining\": percentages_better_off,\n",
    "    \"Poverty change\": poverty_rate_changes,\n",
    "    \"Inequality change\": gini_rate_changes,\n",
    "    \"PolicyEngine\": reform_ids,\n",
    "})\n",
    "\n",
    "df[\"Budgetary impact\"] = df[\"Budgetary impact\"].apply(lambda x: f\"{x/1e9:+,.1f}\")\n",
    "df[\"PolicyEngine\"] = df[\"PolicyEngine\"].apply(lambda x: f\"[#{x}](https://policyengine.org/uk/policy?reform={x}&baseline=1&time_period=2024&region=uk)\")\n",
    "df[\"Percent gaining\"] =  df[\"Percent gaining\"].apply(lambda x: f\"{x:+.1%}\")\n",
    "df[\"Poverty change\"] =  df[\"Poverty change\"].apply(lambda x: f\"{x:+.1%}\")\n",
    "df[\"Inequality change\"] =  df[\"Inequality change\"].apply(lambda x: f\"{x:+.1%}\")"
   ]
  },
  {
   "cell_type": "code",
   "execution_count": 33,
   "metadata": {},
   "outputs": [
    {
     "data": {
      "text/markdown": [
       "| Reform           |   Budgetary impact | Percent gaining   | Poverty change   | Inequality change   | PolicyEngine                                                                                    |\n",
       "|:-----------------|-------------------:|:------------------|:-----------------|:--------------------|:------------------------------------------------------------------------------------------------|\n",
       "| Fuel duty freeze |               -1   | +37.6%            | -0.6%            | -0.0%               | [#49760](https://policyengine.org/uk/policy?reform=49760&baseline=1&time_period=2024&region=uk) |\n",
       "| CB HITC cut      |               -1.4 | +7.0%             | +0.0%            | +0.0%               | [#49761](https://policyengine.org/uk/policy?reform=49761&baseline=1&time_period=2024&region=uk) |\n",
       "| NI class 1 cut   |              -10   | +63.8%            | -0.6%            | +0.3%               | [#49643](https://policyengine.org/uk/policy?reform=49643&baseline=1&time_period=2024&region=uk) |\n",
       "| NI class 4 cut   |               -1   | +8.0%             | +0.0%            | +0.0%               | [#49762](https://policyengine.org/uk/policy?reform=49762&baseline=1&time_period=2024&region=uk) |\n",
       "| Combined         |              -13.4 | +76.9%            | -1.0%            | +0.3%               | [#49773](https://policyengine.org/uk/policy?reform=49773&baseline=1&time_period=2024&region=uk) |"
      ],
      "text/plain": [
       "<IPython.core.display.Markdown object>"
      ]
     },
     "execution_count": 33,
     "metadata": {},
     "output_type": "execute_result"
    }
   ],
   "source": [
    "from IPython.display import Markdown\n",
    "\n",
    "Markdown(df.to_markdown(index=False))"
   ]
  },
  {
   "cell_type": "code",
   "execution_count": 8,
   "metadata": {},
   "outputs": [],
   "source": [
    "reformed = Microsimulation()"
   ]
  },
  {
   "cell_type": "markdown",
   "metadata": {},
   "source": [
    "## Budgetary impacts\n",
    "\n",
    "The PolicyEngine microsimulation model projects that the six reforms covered in this article will cost a combined £14.1 billion in 2024 [LINK]. This is only slightly higher than the Treasury's projected cost of [£13.7 billion](https://assets.publishing.service.gov.uk/media/65e7920c08eef600155a5617/Published_Costing_Document_Spring_Budget_2024_Final.pdf) for the same six reforms in fiscal year 2024-2025. Some of the variance in these projections may be attributable to HM Treasury's inclusion of behavioural responses to policy reforms, as well as Treasury's modelling over a the fiscal year, as opposed to the calendar.\n",
    "\n",
    "Table 2 below presents PolicyEngine's broader estimates over 2024, 2025, and 2026, as compared to HM Treasury's [estimates](https://assets.publishing.service.gov.uk/media/65e8578eb559930011ade2cb/E03057752_HMT_Spring_Budget_Mar_24_Web_Accessible__2_.pdf) over the corresponding fiscal years (2024-2025, etc.) for the six policies investigated in this article."
   ]
  },
  {
   "cell_type": "code",
   "execution_count": 43,
   "metadata": {},
   "outputs": [],
   "source": [
    "from policyengine_uk import Microsimulation\n",
    "from policyengine_uk.model_api import *\n",
    "\n",
    "import pandas as pd\n",
    "\n",
    "# DataFrame with columns: [provision name, provision cost in 2024, percent better off, provision poverty impact in 2024, inequality impact in 2024]\n",
    "\n",
    "rows = [\"PolicyEngine\", \"HM Treasury\", \"Relative difference\"]\n",
    "years = [\"2024\", \"2025\", \"2026\"]\n",
    "\n",
    "baseline = Microsimulation()\n",
    "\n",
    "# Assign values for HM Treasury from report\n",
    "treasury_values_bn = {\n",
    "    \"2024\": {\n",
    "        \"ni_class_1_cut\": -9.360,\n",
    "        \"ni_class_4_cut\": -0.710,\n",
    "        \"cb_hitc_cut\": -0.540,\n",
    "        \"fuel_duty_freeze\": -3.090\n",
    "    },\n",
    "    \"2025\": {\n",
    "        \"ni_class_1_cut\": -9.295,\n",
    "        \"ni_class_4_cut\": -0.850,\n",
    "        \"cb_hitc_cut\": -0.635,\n",
    "        \"fuel_duty_freeze\": -0.820\n",
    "    },\n",
    "    \"2026\": {\n",
    "        \"ni_class_1_cut\": -9.490,\n",
    "        \"ni_class_4_cut\": -0.735,\n",
    "        \"cb_hitc_cut\": -0.640,\n",
    "        \"fuel_duty_freeze\": -0.830\n",
    "    },\n",
    "}\n",
    "\n",
    "treasury_totals_bn = {}\n",
    "for year in treasury_values_bn:\n",
    "    treasury_totals_bn[year] = sum(treasury_values_bn[year].values())\n",
    "\n",
    "# Get impacts of entire policy reform for each year and place into dict\n",
    "def get_budget_impact_year(reform_dict: dict, year: str) -> float:\n",
    "    reform = Reform.from_dict(reform_dict, country_id=\"uk\")\n",
    "    reformed = Microsimulation(reform=reform)\n",
    "\n",
    "    budgetary_impact = baseline.calculate(\"household_net_income\", period=year).sum() - reformed.calculate(\"household_net_income\", year).sum()\n",
    "    return budgetary_impact\n",
    "\n",
    "pe_totals_bn = {}\n",
    "for year in years:\n",
    "    pe_totals_bn[year] = get_budget_impact_year(complete_reform, year)/1e9\n",
    "\n",
    "# Calculate difference between values\n",
    "diff_totals_bn = {}\n",
    "\n",
    "for year in years:\n",
    "    diff_totals_bn[year] = treasury_totals_bn[year] - pe_totals_bn[year]\n",
    "\n",
    "chart_data = []\n",
    "for i in range(len(years)):\n",
    "    chart_data.append([])\n",
    "    chart_data[i].append(pe_totals_bn[years[i]])\n",
    "    chart_data[i].append(treasury_totals_bn[years[i]])\n",
    "    chart_data[i].append(diff_totals_bn[years[i]])\n",
    "\n",
    "df = pd.DataFrame({\n",
    "    \"Estimates\": rows,\n",
    "    \"2024\": chart_data[0],\n",
    "    \"2025\": chart_data[1],\n",
    "    \"2026\": chart_data[2],\n",
    "})\n"
   ]
  },
  {
   "cell_type": "code",
   "execution_count": 49,
   "metadata": {},
   "outputs": [],
   "source": [
    "df[\"2024\"] = df[\"2024\"].apply(lambda x: f\"{x:+,.1f}\")\n",
    "df[\"2025\"] = df[\"2025\"].apply(lambda x: f\"{x:+,.1f}\")\n",
    "df[\"2026\"] = df[\"2026\"].apply(lambda x: f\"{x:+,.1f}\")\n",
    "\n",
    "# Note - I am unsure how to format the sole percentage row"
   ]
  },
  {
   "cell_type": "code",
   "execution_count": 50,
   "metadata": {},
   "outputs": [
    {
     "data": {
      "text/markdown": [
       "| Estimates           |   2024 |   2025 |   2026 |\n",
       "|:--------------------|-------:|-------:|-------:|\n",
       "| PolicyEngine        |  -13.4 |  -14.9 |  -15.3 |\n",
       "| HM Treasury         |  -13.7 |  -11.6 |  -11.7 |\n",
       "| Relative difference |   -0.3 |    3.3 |    3.6 |"
      ],
      "text/plain": [
       "<IPython.core.display.Markdown object>"
      ]
     },
     "execution_count": 50,
     "metadata": {},
     "output_type": "execute_result"
    }
   ],
   "source": [
    "from IPython.display import Markdown\n",
    "\n",
    "Markdown(df.to_markdown(index=False))"
   ]
  },
  {
   "cell_type": "markdown",
   "metadata": {},
   "source": [
    "## Distributional impacts\n",
    "The six modeled reforms of the Spring Budget 2023 would increase the net income of households by 1.2% on average. Under this reform, top-earning deciles would disproportionately benefit. Decile 9, the biggest beneficiary in relative terms, would experience a 1.9% gain in disposable income, while deciles 1 through 3 receive between 0.3% and 0.4%. In absolute terms, this equates to a £46 increase in post-tax income for earners in the lowest decile and a £1,402 increase for those in the top decile (£1,386 for those in decile 9). Similarly, 99.6% of earners in decile 9 and 77.4% of earners in decile 10 experience an increase in net income under these reforms, while 36.2% of earners in the lowest decile gain.\n",
    "\n",
    "[CHART]\n",
    "\n",
    "## Household impacts\n",
    "For a single person with only employment income, the six reforms evaluated in this article produce a benefit if they earn at least £12,750, producing a maximum benefit of £754 if the individual earns £50,270 per year. This assumes the individual consumes no fuel impacted by the fuel duty freeze; if the same person were to spend the UK average of [£1,176](https://www.nimblefins.co.uk/cheap-car-insurance/average-cost-petrol-car) in 2024 on petrol, they would save a further £96, no matter what their pre-tax income.\n",
    "\n",
    "[CHART]\n",
    "\n",
    "For the same hypothetical person, if their income falls within the range specified above, the tax reforms analysed here would yield a 2% drop in their marginal tax rate; all others would see no change. *View this household in the interactive PolicyEngine tax calculator at [this link](https://policyengine.org/uk/household?reform=49773&baseline=1&time_period=2024&region=uk&focus=householdOutput.netIncome&timePeriod=2024&household=42359).*\n",
    "\n",
    "For a married couple with two children, the impacts of this reform package are slightly more complext. Again, these reforms would produce no increase to post-tax income until the head of household earns £12,750 per year, after which the families net income will rise, until reaching a peak of £2,874 when the head makes £60,000. After this point, the post-tax benefit drops as the High Income Child Benefit Charge phases in, until the end of its taper at £80,000, at which all households see a net income increase of £754. These figures do not include the impact of the fuel duty freeze. *View this household in the interactive PolicyEngine tax calculator at [this link](https://policyengine.org/uk/household?reform=49773&baseline=1&time_period=2024&region=uk&focus=householdOutput.earnings&timePeriod=2024&household=42361).*"
   ]
  },
  {
   "cell_type": "code",
   "execution_count": 53,
   "metadata": {},
   "outputs": [],
   "source": [
    "from policyengine_uk import Simulation\n",
    "from policyengine_core.reforms import Reform\n",
    "from policyengine_core.periods import instant\n",
    "import plotly.express as px\n",
    "\n",
    "\n",
    "def modify_parameters(parameters):\n",
    "    parameters.gov.hmrc.fuel_duty.petrol_and_diesel.update(\n",
    "        start=instant(\"2024-01-01\"), stop=instant(\"2028-12-31\"),\n",
    "        value=0.5295)\n",
    "    parameters.gov.hmrc.income_tax.charges.CB_HITC.phase_out_rate.update(\n",
    "        start=instant(\"2024-01-01\"), stop=instant(\"2028-12-31\"),\n",
    "        value=0.05)\n",
    "    parameters.gov.hmrc.income_tax.charges.CB_HITC.phase_out_start.update(\n",
    "        start=instant(\"2024-01-01\"), stop=instant(\"2028-12-31\"),\n",
    "        value=60000)\n",
    "    parameters.gov.hmrc.national_insurance.class_1.rates.employee.main.update(\n",
    "        start=instant(\"2024-01-01\"), stop=instant(\"2028-12-31\"),\n",
    "        value=0.08)\n",
    "    parameters.gov.hmrc.national_insurance.class_4.rates.main.update(\n",
    "        start=instant(\"2024-01-01\"), stop=instant(\"2028-12-31\"),\n",
    "        value=0.06)\n",
    "    return parameters\n",
    "\n",
    "\n",
    "class reform(Reform):\n",
    "    def apply(self):\n",
    "        self.modify_parameters(modify_parameters)\n",
    "\n",
    "\n",
    "situation = {\n",
    "  \"people\": {\n",
    "    \"you\": {\n",
    "      \"age\": {\n",
    "        \"2024\": 40\n",
    "      }\n",
    "    }\n",
    "  },\n",
    "  \"benunits\": {\n",
    "    \"your immediate family\": {\n",
    "      \"members\": [\n",
    "        \"you\"\n",
    "      ]\n",
    "    }\n",
    "  },\n",
    "  \"households\": {\n",
    "    \"your household\": {\n",
    "      \"members\": [\n",
    "        \"you\"\n",
    "      ],\n",
    "      \"BRMA\": {\n",
    "        \"2024\": \"MAIDSTONE\"\n",
    "      },\n",
    "      \"local_authority\": {\n",
    "        \"2024\": \"MAIDSTONE\"\n",
    "      },\n",
    "      \"region\": {\n",
    "        \"2024\": \"LONDON\"\n",
    "      }\n",
    "    }\n",
    "  },\n",
    "  \"axes\": [\n",
    "    [\n",
    "      {\n",
    "        \"name\": \"employment_income\",\n",
    "        \"count\": 200,\n",
    "        \"min\": 0,\n",
    "        \"max\": 200000\n",
    "      }\n",
    "    ]\n",
    "  ]\n",
    "}\n",
    "\n",
    "baseline_simulation = Simulation(\n",
    "    situation=situation\n",
    ")\n",
    "\n",
    "reform_simulation = Simulation(\n",
    "    reform=reform,\n",
    "    situation=situation,\n",
    ")\n",
    "\n"
   ]
  },
  {
   "cell_type": "code",
   "execution_count": 66,
   "metadata": {},
   "outputs": [
    {
     "data": {
      "application/vnd.plotly.v1+json": {
       "config": {
        "plotlyServerURL": "https://plot.ly"
       },
       "data": [
        {
         "hovertemplate": "variable=Added net income<br>index=%{x}<br>value=%{y}<extra></extra>",
         "legendgroup": "Added net income",
         "line": {
          "color": "#2C6496",
          "dash": "solid"
         },
         "marker": {
          "symbol": "circle"
         },
         "mode": "lines",
         "name": "Added net income",
         "orientation": "v",
         "showlegend": true,
         "type": "scatter",
         "x": [
          0,
          1,
          2,
          3,
          4,
          5,
          6,
          7,
          8,
          9,
          10,
          11,
          12,
          13,
          14,
          15,
          16,
          17,
          18,
          19,
          20,
          21,
          22,
          23,
          24,
          25,
          26,
          27,
          28,
          29,
          30,
          31,
          32,
          33,
          34,
          35,
          36,
          37,
          38,
          39,
          40,
          41,
          42,
          43,
          44,
          45,
          46,
          47,
          48,
          49,
          50,
          51,
          52,
          53,
          54,
          55,
          56,
          57,
          58,
          59,
          60,
          61,
          62,
          63,
          64,
          65,
          66,
          67,
          68,
          69,
          70,
          71,
          72,
          73,
          74,
          75,
          76,
          77,
          78,
          79,
          80,
          81,
          82,
          83,
          84,
          85,
          86,
          87,
          88,
          89,
          90,
          91,
          92,
          93,
          94,
          95,
          96,
          97,
          98,
          99,
          100,
          101,
          102,
          103,
          104,
          105,
          106,
          107,
          108,
          109,
          110,
          111,
          112,
          113,
          114,
          115,
          116,
          117,
          118,
          119,
          120,
          121,
          122,
          123,
          124,
          125,
          126,
          127,
          128,
          129,
          130,
          131,
          132,
          133,
          134,
          135,
          136,
          137,
          138,
          139,
          140,
          141,
          142,
          143,
          144,
          145,
          146,
          147,
          148,
          149,
          150,
          151,
          152,
          153,
          154,
          155,
          156,
          157,
          158,
          159,
          160,
          161,
          162,
          163,
          164,
          165,
          166,
          167,
          168,
          169,
          170,
          171,
          172,
          173,
          174,
          175,
          176,
          177,
          178,
          179,
          180,
          181,
          182,
          183,
          184,
          185,
          186,
          187,
          188,
          189,
          190,
          191,
          192,
          193,
          194,
          195,
          196,
          197,
          198,
          199
         ],
         "xaxis": "x",
         "y": [
          0,
          0,
          0,
          0,
          0,
          0,
          0,
          0,
          0,
          0,
          0,
          0,
          4.744140625,
          26.08984375,
          47.4345703125,
          68.7802734375,
          90.1259765625,
          111.470703125,
          132.81640625,
          154.16015625,
          175.5078125,
          196.8515625,
          218.197265625,
          239.54296875,
          260.888671875,
          282.232421875,
          303.578125,
          324.923828125,
          346.26953125,
          367.615234375,
          388.958984375,
          410.3046875,
          431.65234375,
          452.99609375,
          474.341796875,
          495.685546875,
          517.03125,
          538.37890625,
          559.72265625,
          581.06640625,
          602.4140625,
          623.76171875,
          645.10546875,
          666.44921875,
          687.79296875,
          709.140625,
          730.484375,
          751.83203125,
          754,
          754.00390625,
          754,
          754,
          754,
          754,
          754,
          754,
          754,
          754,
          754,
          754,
          754,
          754,
          754,
          754,
          754,
          754,
          754,
          754,
          754,
          754.00390625,
          754,
          754,
          754,
          754.00390625,
          754,
          754,
          754,
          754,
          754,
          754,
          754,
          754,
          754,
          754,
          754,
          754,
          754.00390625,
          754,
          754,
          754,
          754,
          754,
          754,
          754,
          754,
          754,
          754,
          754,
          754,
          754,
          754,
          754,
          754,
          754,
          753.9921875,
          754,
          754,
          754,
          754.0078125,
          754,
          754,
          754,
          754,
          754,
          754,
          754,
          754.0078125,
          754,
          754.0078125,
          754,
          754,
          754,
          753.9921875,
          754,
          754,
          754,
          754,
          754,
          754,
          754,
          753.9921875,
          754,
          754,
          754,
          754.0078125,
          754,
          754,
          754,
          754,
          753.9921875,
          754,
          754,
          754.0078125,
          754,
          754,
          754,
          754,
          753.9921875,
          754,
          754,
          754,
          754.0078125,
          754,
          754,
          754,
          754,
          754,
          754,
          754,
          754,
          753.9921875,
          754,
          754,
          754.0078125,
          754,
          754,
          754,
          754,
          754,
          753.9921875,
          754,
          754,
          754,
          754,
          754,
          754,
          754,
          754,
          754,
          754,
          754,
          754,
          754,
          754,
          754,
          754,
          754,
          753.9921875,
          754,
          754,
          754,
          754,
          754,
          754,
          754,
          754,
          754,
          754,
          754,
          754
         ],
         "yaxis": "y"
        }
       ],
       "layout": {
        "legend": {
         "title": {
          "text": "variable"
         },
         "tracegroupgap": 0
        },
        "template": {
         "data": {
          "bar": [
           {
            "error_x": {
             "color": "#2a3f5f"
            },
            "error_y": {
             "color": "#2a3f5f"
            },
            "marker": {
             "line": {
              "color": "#E5ECF6",
              "width": 0.5
             },
             "pattern": {
              "fillmode": "overlay",
              "size": 10,
              "solidity": 0.2
             }
            },
            "type": "bar"
           }
          ],
          "barpolar": [
           {
            "marker": {
             "line": {
              "color": "#E5ECF6",
              "width": 0.5
             },
             "pattern": {
              "fillmode": "overlay",
              "size": 10,
              "solidity": 0.2
             }
            },
            "type": "barpolar"
           }
          ],
          "carpet": [
           {
            "aaxis": {
             "endlinecolor": "#2a3f5f",
             "gridcolor": "white",
             "linecolor": "white",
             "minorgridcolor": "white",
             "startlinecolor": "#2a3f5f"
            },
            "baxis": {
             "endlinecolor": "#2a3f5f",
             "gridcolor": "white",
             "linecolor": "white",
             "minorgridcolor": "white",
             "startlinecolor": "#2a3f5f"
            },
            "type": "carpet"
           }
          ],
          "choropleth": [
           {
            "colorbar": {
             "outlinewidth": 0,
             "ticks": ""
            },
            "type": "choropleth"
           }
          ],
          "contour": [
           {
            "colorbar": {
             "outlinewidth": 0,
             "ticks": ""
            },
            "colorscale": [
             [
              0,
              "#0d0887"
             ],
             [
              0.1111111111111111,
              "#46039f"
             ],
             [
              0.2222222222222222,
              "#7201a8"
             ],
             [
              0.3333333333333333,
              "#9c179e"
             ],
             [
              0.4444444444444444,
              "#bd3786"
             ],
             [
              0.5555555555555556,
              "#d8576b"
             ],
             [
              0.6666666666666666,
              "#ed7953"
             ],
             [
              0.7777777777777778,
              "#fb9f3a"
             ],
             [
              0.8888888888888888,
              "#fdca26"
             ],
             [
              1,
              "#f0f921"
             ]
            ],
            "type": "contour"
           }
          ],
          "contourcarpet": [
           {
            "colorbar": {
             "outlinewidth": 0,
             "ticks": ""
            },
            "type": "contourcarpet"
           }
          ],
          "heatmap": [
           {
            "colorbar": {
             "outlinewidth": 0,
             "ticks": ""
            },
            "colorscale": [
             [
              0,
              "#0d0887"
             ],
             [
              0.1111111111111111,
              "#46039f"
             ],
             [
              0.2222222222222222,
              "#7201a8"
             ],
             [
              0.3333333333333333,
              "#9c179e"
             ],
             [
              0.4444444444444444,
              "#bd3786"
             ],
             [
              0.5555555555555556,
              "#d8576b"
             ],
             [
              0.6666666666666666,
              "#ed7953"
             ],
             [
              0.7777777777777778,
              "#fb9f3a"
             ],
             [
              0.8888888888888888,
              "#fdca26"
             ],
             [
              1,
              "#f0f921"
             ]
            ],
            "type": "heatmap"
           }
          ],
          "heatmapgl": [
           {
            "colorbar": {
             "outlinewidth": 0,
             "ticks": ""
            },
            "colorscale": [
             [
              0,
              "#0d0887"
             ],
             [
              0.1111111111111111,
              "#46039f"
             ],
             [
              0.2222222222222222,
              "#7201a8"
             ],
             [
              0.3333333333333333,
              "#9c179e"
             ],
             [
              0.4444444444444444,
              "#bd3786"
             ],
             [
              0.5555555555555556,
              "#d8576b"
             ],
             [
              0.6666666666666666,
              "#ed7953"
             ],
             [
              0.7777777777777778,
              "#fb9f3a"
             ],
             [
              0.8888888888888888,
              "#fdca26"
             ],
             [
              1,
              "#f0f921"
             ]
            ],
            "type": "heatmapgl"
           }
          ],
          "histogram": [
           {
            "marker": {
             "pattern": {
              "fillmode": "overlay",
              "size": 10,
              "solidity": 0.2
             }
            },
            "type": "histogram"
           }
          ],
          "histogram2d": [
           {
            "colorbar": {
             "outlinewidth": 0,
             "ticks": ""
            },
            "colorscale": [
             [
              0,
              "#0d0887"
             ],
             [
              0.1111111111111111,
              "#46039f"
             ],
             [
              0.2222222222222222,
              "#7201a8"
             ],
             [
              0.3333333333333333,
              "#9c179e"
             ],
             [
              0.4444444444444444,
              "#bd3786"
             ],
             [
              0.5555555555555556,
              "#d8576b"
             ],
             [
              0.6666666666666666,
              "#ed7953"
             ],
             [
              0.7777777777777778,
              "#fb9f3a"
             ],
             [
              0.8888888888888888,
              "#fdca26"
             ],
             [
              1,
              "#f0f921"
             ]
            ],
            "type": "histogram2d"
           }
          ],
          "histogram2dcontour": [
           {
            "colorbar": {
             "outlinewidth": 0,
             "ticks": ""
            },
            "colorscale": [
             [
              0,
              "#0d0887"
             ],
             [
              0.1111111111111111,
              "#46039f"
             ],
             [
              0.2222222222222222,
              "#7201a8"
             ],
             [
              0.3333333333333333,
              "#9c179e"
             ],
             [
              0.4444444444444444,
              "#bd3786"
             ],
             [
              0.5555555555555556,
              "#d8576b"
             ],
             [
              0.6666666666666666,
              "#ed7953"
             ],
             [
              0.7777777777777778,
              "#fb9f3a"
             ],
             [
              0.8888888888888888,
              "#fdca26"
             ],
             [
              1,
              "#f0f921"
             ]
            ],
            "type": "histogram2dcontour"
           }
          ],
          "mesh3d": [
           {
            "colorbar": {
             "outlinewidth": 0,
             "ticks": ""
            },
            "type": "mesh3d"
           }
          ],
          "parcoords": [
           {
            "line": {
             "colorbar": {
              "outlinewidth": 0,
              "ticks": ""
             }
            },
            "type": "parcoords"
           }
          ],
          "pie": [
           {
            "automargin": true,
            "type": "pie"
           }
          ],
          "scatter": [
           {
            "fillpattern": {
             "fillmode": "overlay",
             "size": 10,
             "solidity": 0.2
            },
            "type": "scatter"
           }
          ],
          "scatter3d": [
           {
            "line": {
             "colorbar": {
              "outlinewidth": 0,
              "ticks": ""
             }
            },
            "marker": {
             "colorbar": {
              "outlinewidth": 0,
              "ticks": ""
             }
            },
            "type": "scatter3d"
           }
          ],
          "scattercarpet": [
           {
            "marker": {
             "colorbar": {
              "outlinewidth": 0,
              "ticks": ""
             }
            },
            "type": "scattercarpet"
           }
          ],
          "scattergeo": [
           {
            "marker": {
             "colorbar": {
              "outlinewidth": 0,
              "ticks": ""
             }
            },
            "type": "scattergeo"
           }
          ],
          "scattergl": [
           {
            "marker": {
             "colorbar": {
              "outlinewidth": 0,
              "ticks": ""
             }
            },
            "type": "scattergl"
           }
          ],
          "scattermapbox": [
           {
            "marker": {
             "colorbar": {
              "outlinewidth": 0,
              "ticks": ""
             }
            },
            "type": "scattermapbox"
           }
          ],
          "scatterpolar": [
           {
            "marker": {
             "colorbar": {
              "outlinewidth": 0,
              "ticks": ""
             }
            },
            "type": "scatterpolar"
           }
          ],
          "scatterpolargl": [
           {
            "marker": {
             "colorbar": {
              "outlinewidth": 0,
              "ticks": ""
             }
            },
            "type": "scatterpolargl"
           }
          ],
          "scatterternary": [
           {
            "marker": {
             "colorbar": {
              "outlinewidth": 0,
              "ticks": ""
             }
            },
            "type": "scatterternary"
           }
          ],
          "surface": [
           {
            "colorbar": {
             "outlinewidth": 0,
             "ticks": ""
            },
            "colorscale": [
             [
              0,
              "#0d0887"
             ],
             [
              0.1111111111111111,
              "#46039f"
             ],
             [
              0.2222222222222222,
              "#7201a8"
             ],
             [
              0.3333333333333333,
              "#9c179e"
             ],
             [
              0.4444444444444444,
              "#bd3786"
             ],
             [
              0.5555555555555556,
              "#d8576b"
             ],
             [
              0.6666666666666666,
              "#ed7953"
             ],
             [
              0.7777777777777778,
              "#fb9f3a"
             ],
             [
              0.8888888888888888,
              "#fdca26"
             ],
             [
              1,
              "#f0f921"
             ]
            ],
            "type": "surface"
           }
          ],
          "table": [
           {
            "cells": {
             "fill": {
              "color": "#EBF0F8"
             },
             "line": {
              "color": "white"
             }
            },
            "header": {
             "fill": {
              "color": "#C8D4E3"
             },
             "line": {
              "color": "white"
             }
            },
            "type": "table"
           }
          ]
         },
         "layout": {
          "annotationdefaults": {
           "arrowcolor": "#2a3f5f",
           "arrowhead": 0,
           "arrowwidth": 1
          },
          "autotypenumbers": "strict",
          "coloraxis": {
           "colorbar": {
            "outlinewidth": 0,
            "ticks": ""
           }
          },
          "colorscale": {
           "diverging": [
            [
             0,
             "#8e0152"
            ],
            [
             0.1,
             "#c51b7d"
            ],
            [
             0.2,
             "#de77ae"
            ],
            [
             0.3,
             "#f1b6da"
            ],
            [
             0.4,
             "#fde0ef"
            ],
            [
             0.5,
             "#f7f7f7"
            ],
            [
             0.6,
             "#e6f5d0"
            ],
            [
             0.7,
             "#b8e186"
            ],
            [
             0.8,
             "#7fbc41"
            ],
            [
             0.9,
             "#4d9221"
            ],
            [
             1,
             "#276419"
            ]
           ],
           "sequential": [
            [
             0,
             "#0d0887"
            ],
            [
             0.1111111111111111,
             "#46039f"
            ],
            [
             0.2222222222222222,
             "#7201a8"
            ],
            [
             0.3333333333333333,
             "#9c179e"
            ],
            [
             0.4444444444444444,
             "#bd3786"
            ],
            [
             0.5555555555555556,
             "#d8576b"
            ],
            [
             0.6666666666666666,
             "#ed7953"
            ],
            [
             0.7777777777777778,
             "#fb9f3a"
            ],
            [
             0.8888888888888888,
             "#fdca26"
            ],
            [
             1,
             "#f0f921"
            ]
           ],
           "sequentialminus": [
            [
             0,
             "#0d0887"
            ],
            [
             0.1111111111111111,
             "#46039f"
            ],
            [
             0.2222222222222222,
             "#7201a8"
            ],
            [
             0.3333333333333333,
             "#9c179e"
            ],
            [
             0.4444444444444444,
             "#bd3786"
            ],
            [
             0.5555555555555556,
             "#d8576b"
            ],
            [
             0.6666666666666666,
             "#ed7953"
            ],
            [
             0.7777777777777778,
             "#fb9f3a"
            ],
            [
             0.8888888888888888,
             "#fdca26"
            ],
            [
             1,
             "#f0f921"
            ]
           ]
          },
          "colorway": [
           "#636efa",
           "#EF553B",
           "#00cc96",
           "#ab63fa",
           "#FFA15A",
           "#19d3f3",
           "#FF6692",
           "#B6E880",
           "#FF97FF",
           "#FECB52"
          ],
          "font": {
           "color": "#2a3f5f"
          },
          "geo": {
           "bgcolor": "white",
           "lakecolor": "white",
           "landcolor": "#E5ECF6",
           "showlakes": true,
           "showland": true,
           "subunitcolor": "white"
          },
          "hoverlabel": {
           "align": "left"
          },
          "hovermode": "closest",
          "mapbox": {
           "style": "light"
          },
          "paper_bgcolor": "white",
          "plot_bgcolor": "#E5ECF6",
          "polar": {
           "angularaxis": {
            "gridcolor": "white",
            "linecolor": "white",
            "ticks": ""
           },
           "bgcolor": "#E5ECF6",
           "radialaxis": {
            "gridcolor": "white",
            "linecolor": "white",
            "ticks": ""
           }
          },
          "scene": {
           "xaxis": {
            "backgroundcolor": "#E5ECF6",
            "gridcolor": "white",
            "gridwidth": 2,
            "linecolor": "white",
            "showbackground": true,
            "ticks": "",
            "zerolinecolor": "white"
           },
           "yaxis": {
            "backgroundcolor": "#E5ECF6",
            "gridcolor": "white",
            "gridwidth": 2,
            "linecolor": "white",
            "showbackground": true,
            "ticks": "",
            "zerolinecolor": "white"
           },
           "zaxis": {
            "backgroundcolor": "#E5ECF6",
            "gridcolor": "white",
            "gridwidth": 2,
            "linecolor": "white",
            "showbackground": true,
            "ticks": "",
            "zerolinecolor": "white"
           }
          },
          "shapedefaults": {
           "line": {
            "color": "#2a3f5f"
           }
          },
          "ternary": {
           "aaxis": {
            "gridcolor": "white",
            "linecolor": "white",
            "ticks": ""
           },
           "baxis": {
            "gridcolor": "white",
            "linecolor": "white",
            "ticks": ""
           },
           "bgcolor": "#E5ECF6",
           "caxis": {
            "gridcolor": "white",
            "linecolor": "white",
            "ticks": ""
           }
          },
          "title": {
           "x": 0.05
          },
          "xaxis": {
           "automargin": true,
           "gridcolor": "white",
           "linecolor": "white",
           "ticks": "",
           "title": {
            "standoff": 15
           },
           "zerolinecolor": "white",
           "zerolinewidth": 2
          },
          "yaxis": {
           "automargin": true,
           "gridcolor": "white",
           "linecolor": "white",
           "ticks": "",
           "title": {
            "standoff": 15
           },
           "zerolinecolor": "white",
           "zerolinewidth": 2
          }
         }
        },
        "title": {
         "text": "Change to household net income by employment income"
        },
        "xaxis": {
         "anchor": "y",
         "domain": [
          0,
          1
         ],
         "title": {
          "text": "Pre-tax income, £,000"
         }
        },
        "yaxis": {
         "anchor": "x",
         "domain": [
          0,
          1
         ],
         "title": {
          "text": "Aboslute savings, £"
         }
        }
       }
      }
     },
     "metadata": {},
     "output_type": "display_data"
    }
   ],
   "source": [
    "from policyengine_core.charts import *\n",
    "\n",
    "diff = pd.DataFrame({\n",
    "  \"Added net income\": (reform_simulation.calculate(\"household_net_income\", 2024) - baseline_simulation.calculate(\"household_net_income\", 2024))\n",
    "})\n",
    "fig = px.line(\n",
    "    diff,\n",
    "    color_discrete_map={\n",
    "      \"Added net income\": BLUE_PRIMARY\n",
    "    },\n",
    "    title=\"Change to household net income by employment income\"\n",
    ").update_layout(\n",
    "    xaxis_title=\"Pre-tax income, £,000\",\n",
    "    yaxis_title=\"Aboslute savings, £\",\n",
    ")\n",
    "fig"
   ]
  },
  {
   "cell_type": "markdown",
   "metadata": {},
   "source": [
    "## Conclusion\n",
    "PolicyEngine estimates the cost of the Spring Budget 2023's reforms to National Insurance, the High Income Child Benefit Charge, and the fuel duty at £14.1 billion in 2024. Cumulatively, these reforms will raise the net income of 77.4% of British households, with a disproportionately positive impact upon higher-income households. We also find a small effect on poverty reduction, as well as a 0.5% increase in inequality. For readers interested in generating their own society-wide tax reform simulations or better understanding how these reforms will impact their household in the coming fiscal year, we invite you to use our personalised [PolicyEngine calculator](https://policyengine.org/uk/policy?reform=49773&baseline=1&time_period=2024&region=uk&focus=policyOutput.policyBreakdown&timePeriod=2024), available on desktop and mobile devices."
   ]
  }
 ],
 "metadata": {
  "kernelspec": {
   "display_name": "base",
   "language": "python",
   "name": "python3"
  },
  "language_info": {
   "codemirror_mode": {
    "name": "ipython",
    "version": 3
   },
   "file_extension": ".py",
   "mimetype": "text/x-python",
   "name": "python",
   "nbconvert_exporter": "python",
   "pygments_lexer": "ipython3",
   "version": "3.9.13"
  }
 },
 "nbformat": 4,
 "nbformat_minor": 2
}
