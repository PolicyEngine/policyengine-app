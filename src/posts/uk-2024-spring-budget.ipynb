{
 "cells": [
  {
   "cell_type": "markdown",
   "metadata": {},
   "source": [
    "Today, Chancellor of the Exchequer Jeremy Hunt announced the Government's Spring Budget 2024. This budget includes a variety of reforms, delineated by the Treasury [here](https://www.gov.uk/government/publications/spring-budget-2024).\n",
    "\n",
    "In this post, PolicyEngine will model the budgetary, societal, and distributional impacts of the budget's reforms to National Insurance, the High Income Child Benefit Charge, and the fuel duty. *To view the impacts of these reforms upon society in PolicyEngine's interactive reform modeling tool, visit [this link](https://policyengine.org/uk/policy?reform=49773&baseline=1&time_period=2024&region=uk&focus=policyOutput.policyBreakdown&timePeriod=2024).*\n",
    "\n",
    "## Spring Budget 2024 reforms\n",
    "The Spring 2024 Budget includes reforms to various different segments of the tax code. Of these, PolicyEngine will be modelling the following in this article:\n",
    "\n",
    "#### National Insurance Contributions (NICs)\n",
    "* Lowering the main rate of Class 1 NICs from 10p to 8p\n",
    "* Cutting the main rate of Class 4 self-employed NICs from 8p to 6p\n",
    "\n",
    "#### High Income Child Benefit Charge\n",
    "* Increasing the income threshold for the charge from £60,000 to £80,000\n",
    "* Increasing the charge's taper range from £60,000 to £80,000\n",
    "\n",
    "#### Fuel Duty\n",
    "* Extending the fuel duty's 5p rate cut for 12 months\n",
    "* Forgoing the fiscal year 2024-2025 RPI increase for the fuel duty\n",
    "\n",
    "When modelling these reforms, PolicyEngine assumes they take effect on 1 January 2024 and evaluates their impacts over calendar year 2024, differing slightly from Treasury's estimates, which are aligned with the fiscal calendar.\n",
    "\n",
    "#### Other reforms\n",
    "The Chancellor's Spring Budget 2024 also codifies a number of reforms not included in the PolicyEngine model, such as a freeze on the alcohol duty, changes to the non-domiciled taxation regime, and a duty on vaping products. These reforms will not be modelled in this article.\n",
    "\n",
    "## Reform outcomes\n",
    "Table 1 below presents PolicyEngine's estimate of each policy reform provision's key household, budgetary, and societal impact metrics. Cumulatively, the reforms are modelled to cost HM Treasury a total of £14.1 billion for calendar year 2024 and raise the net income of 77.4% of British households, particularly those with higher pre-tax income. The policies also present ambiguous impacts upon the poverty rate, while raising inequality by 0.4%."
   ]
  },
  {
   "cell_type": "markdown",
   "metadata": {},
   "source": [
    "*Table 1: Household and societal impacts of each Spring Budget 2023 reform provision*"
   ]
  },
  {
   "cell_type": "code",
   "execution_count": 1,
   "metadata": {},
   "outputs": [],
   "source": [
    "from policyengine_uk import Microsimulation\n",
    "from policyengine_uk.model_api import *\n",
    "\n",
    "reform = {\n",
    "    \"gov.hmrc.fuel_duty.petrol_and_diesel\": {\n",
    "        \"year:2024:5\": 0.5295,\n",
    "    },\n",
    "    \"gov.hmrc.income_tax.charges.CB_HITC.phase_out_start\": {\n",
    "        \"year:2024:5\": 60_000,\n",
    "    },\n",
    "    \"gov.hmrc.income_tax.charges.CB_HITC.phase_out_rate\": {\n",
    "        \"year:2024:5\": 0.05,\n",
    "    },\n",
    "    \"gov.hmrc.national_insurance.class_1.rates.employee.main\": {\n",
    "        \"year:2024:5\": 0.08,\n",
    "    },\n",
    "    \"gov.hmrc.national_insurance.class_4.rates.main\": {\n",
    "        \"year:2024:5\": 0.06,\n",
    "    },\n",
    "}\n",
    "import pandas as pd\n",
    "\n",
    "# DataFrame with columns: [provision name, provision cost in 2024, percent better off, provision poverty impact in 2024, inequality impact in 2024]\n",
    "\n",
    "reforms = []\n",
    "\n",
    "fuel_duty_freeze = {\n",
    "    \"gov.hmrc.fuel_duty.petrol_and_diesel\": {\n",
    "        \"year:2024:5\": 0.5295,\n",
    "    }\n",
    "}\n",
    "\n",
    "cb_hitc_cut = {\n",
    "    \"gov.hmrc.income_tax.charges.CB_HITC.phase_out_start\": {\n",
    "        \"year:2024:5\": 60_000,\n",
    "    },\n",
    "    \"gov.hmrc.income_tax.charges.CB_HITC.phase_out_rate\": {\n",
    "        \"year:2024:5\": 0.05,\n",
    "    },\n",
    "}\n",
    "\n",
    "ni_class_1_cut = {\n",
    "    \"gov.hmrc.national_insurance.class_1.rates.employee.main\": {\n",
    "        \"year:2024:5\": 0.08,\n",
    "    },\n",
    "}\n",
    "\n",
    "ni_class_4_cut = {\n",
    "    \"gov.hmrc.national_insurance.class_4.rates.main\": {\n",
    "        \"year:2024:5\": 0.06,\n",
    "    },\n",
    "}\n",
    "\n",
    "complete_reform = {\n",
    "    **fuel_duty_freeze,\n",
    "    **cb_hitc_cut,\n",
    "    **ni_class_1_cut,\n",
    "    **ni_class_4_cut,\n",
    "}\n",
    "\n",
    "reforms = [\n",
    "    fuel_duty_freeze,\n",
    "    cb_hitc_cut,\n",
    "    ni_class_1_cut,\n",
    "    ni_class_4_cut,\n",
    "    complete_reform,\n",
    "]\n",
    "\n",
    "provisions = [\n",
    "    \"Fuel duty freeze\",\n",
    "    \"CB HITC cut\",\n",
    "    \"NI class 1 cut\",\n",
    "    \"NI class 4 cut\",\n",
    "    \"Combined\",\n",
    "]\n",
    "\n",
    "baseline = Microsimulation()\n",
    "\n",
    "\n",
    "def get_impacts(reform_dict: dict) -> dict:\n",
    "    reform = Reform.from_dict(reform_dict, country_id=\"uk\")\n",
    "    reformed = Microsimulation(reform=reform)\n",
    "\n",
    "    budgetary_impact = (\n",
    "        baseline.calculate(\"household_net_income\", period=2024).sum()\n",
    "        - reformed.calculate(\"household_net_income\", 2024).sum()\n",
    "    )\n",
    "    poverty_baseline = baseline.calculate(\n",
    "        \"in_poverty\", map_to=\"person\", period=2024\n",
    "    ).mean()\n",
    "    poverty_reform = reformed.calculate(\n",
    "        \"in_poverty\", map_to=\"person\", period=2024\n",
    "    ).mean()\n",
    "    poverty_rate_change = (\n",
    "        poverty_reform - poverty_baseline\n",
    "    ) / poverty_baseline\n",
    "\n",
    "    gini_baseline = baseline.calculate(\n",
    "        \"equiv_household_net_income\", map_to=\"person\", period=2024\n",
    "    ).gini()\n",
    "    gini_reform = reformed.calculate(\n",
    "        \"equiv_household_net_income\", map_to=\"person\", period=2024\n",
    "    ).gini()\n",
    "    gini_rate_change = (gini_reform - gini_baseline) / gini_baseline\n",
    "\n",
    "    hnet_reformed = reformed.calculate(\n",
    "        \"household_net_income\", period=2024, map_to=\"person\"\n",
    "    )\n",
    "    hnet_baseline = baseline.calculate(\n",
    "        \"household_net_income\", period=2024, map_to=\"person\"\n",
    "    )\n",
    "    percent_better_off = (hnet_reformed > hnet_baseline).mean()\n",
    "    # Poverty headcount relative change\n",
    "    # Inequality gini index relative change\n",
    "    # Percent better off\n",
    "\n",
    "    return dict(\n",
    "        budgetary_impact=budgetary_impact,\n",
    "        reform_id=reform.api_id,\n",
    "        poverty_rate_change=poverty_rate_change,\n",
    "        gini_rate_change=gini_rate_change,\n",
    "        percent_better_off=percent_better_off,\n",
    "    )\n",
    "\n",
    "\n",
    "budgetary_impacts = []\n",
    "reform_ids = []\n",
    "poverty_rate_changes = []\n",
    "gini_rate_changes = []\n",
    "percentages_better_off = []\n",
    "\n",
    "for i in range(len(provisions)):\n",
    "    impacts = get_impacts(reforms[i])\n",
    "    budgetary_impacts.append(impacts[\"budgetary_impact\"])\n",
    "    reform_ids.append(impacts[\"reform_id\"])\n",
    "    poverty_rate_changes.append(impacts[\"poverty_rate_change\"])\n",
    "    gini_rate_changes.append(impacts[\"gini_rate_change\"])\n",
    "    percentages_better_off.append(impacts[\"percent_better_off\"])\n",
    "\n",
    "df = pd.DataFrame(\n",
    "    {\n",
    "        \"Reform\": provisions,\n",
    "        \"Budgetary impact\": budgetary_impacts,\n",
    "        \"Percent gaining\": percentages_better_off,\n",
    "        \"Poverty change\": poverty_rate_changes,\n",
    "        \"Inequality change\": gini_rate_changes,\n",
    "        \"PolicyEngine\": reform_ids,\n",
    "    }\n",
    ")\n",
    "\n",
    "df[\"Budgetary impact\"] = df[\"Budgetary impact\"].apply(\n",
    "    lambda x: f\"{x/1e9:+,.1f}\"\n",
    ")\n",
    "df[\"PolicyEngine\"] = df[\"PolicyEngine\"].apply(\n",
    "    lambda x: f\"[#{x}](https://policyengine.org/uk/policy?reform={x}&baseline=1&time_period=2024&region=uk)\"\n",
    ")\n",
    "df[\"Percent gaining\"] = df[\"Percent gaining\"].apply(lambda x: f\"{x:+.1%}\")\n",
    "df[\"Poverty change\"] = df[\"Poverty change\"].apply(lambda x: f\"{x:+.1%}\")\n",
    "df[\"Inequality change\"] = df[\"Inequality change\"].apply(lambda x: f\"{x:+.1%}\")"
   ]
  },
  {
   "cell_type": "code",
   "execution_count": 2,
   "metadata": {},
   "outputs": [
    {
     "data": {
      "text/markdown": [
       "| Reform           |   Budgetary impact | Percent gaining   | Poverty change   | Inequality change   | PolicyEngine                                                                                    |\n",
       "|:-----------------|-------------------:|:------------------|:-----------------|:--------------------|:------------------------------------------------------------------------------------------------|\n",
       "| Fuel duty freeze |               -1.7 | +44.7%            | -0.2%            | -0.1%               | [#49760](https://policyengine.org/uk/policy?reform=49760&baseline=1&time_period=2024&region=uk) |\n",
       "| CB HITC cut      |               -1.4 | +7.0%             | +0.0%            | +0.0%               | [#49761](https://policyengine.org/uk/policy?reform=49761&baseline=1&time_period=2024&region=uk) |\n",
       "| NI class 1 cut   |              -10   | +63.8%            | +0.0%            | +0.3%               | [#49643](https://policyengine.org/uk/policy?reform=49643&baseline=1&time_period=2024&region=uk) |\n",
       "| NI class 4 cut   |               -1   | +8.0%             | +0.0%            | +0.0%               | [#49762](https://policyengine.org/uk/policy?reform=49762&baseline=1&time_period=2024&region=uk) |\n",
       "| Combined         |              -14.1 | +78.9%            | -0.4%            | +0.3%               | [#49773](https://policyengine.org/uk/policy?reform=49773&baseline=1&time_period=2024&region=uk) |"
      ],
      "text/plain": [
       "<IPython.core.display.Markdown object>"
      ]
     },
     "execution_count": 2,
     "metadata": {},
     "output_type": "execute_result"
    }
   ],
   "source": [
    "from IPython.display import Markdown\n",
    "\n",
    "Markdown(df.to_markdown(index=False))"
   ]
  },
  {
   "cell_type": "code",
   "execution_count": 3,
   "metadata": {},
   "outputs": [],
   "source": [
    "reformed = Microsimulation()"
   ]
  },
  {
   "cell_type": "markdown",
   "metadata": {},
   "source": [
    "## Budgetary impacts\n",
    "\n",
    "The PolicyEngine microsimulation model projects that the six reforms covered in this article will cost a combined [£14.1 billion in 2024](https://policyengine.org/uk/policy?reform=49773&baseline=1&time_period=2024&region=uk&focus=policyOutput.policyBreakdown&timePeriod=2024). This is only slightly higher than the Treasury's projected cost of [£13.7 billion](https://assets.publishing.service.gov.uk/media/65e7920c08eef600155a5617/Published_Costing_Document_Spring_Budget_2024_Final.pdf) for the same six reforms in fiscal year 2024-2025. Some of the variance in these projections are attributable to HM Treasury's inclusion of behavioural responses to policy reforms, as well as Treasury's modelling over a the fiscal year, as opposed to the calendar year.\n",
    "\n",
    "Table 2 below presents PolicyEngine's broader estimates over 2024, 2025, and 2026, as compared to HM Treasury's [estimates](https://assets.publishing.service.gov.uk/media/65e8578eb559930011ade2cb/E03057752_HMT_Spring_Budget_Mar_24_Web_Accessible__2_.pdf) over the corresponding fiscal years (2024-2025, etc.) for the six policies investigated in this article."
   ]
  },
  {
   "cell_type": "code",
   "execution_count": 4,
   "metadata": {},
   "outputs": [],
   "source": [
    "from policyengine_uk import Microsimulation\n",
    "from policyengine_uk.model_api import *\n",
    "\n",
    "import pandas as pd\n",
    "\n",
    "# DataFrame with columns: [provision name, provision cost in 2024, percent better off, provision poverty impact in 2024, inequality impact in 2024]\n",
    "\n",
    "rows = [\"PolicyEngine\", \"HM Treasury\", \"Difference\"]\n",
    "years = [\"2024\", \"2025\", \"2026\"]\n",
    "\n",
    "baseline = Microsimulation()\n",
    "\n",
    "# Assign values for HM Treasury from report\n",
    "treasury_values_bn = {\n",
    "    \"2024\": {\n",
    "        \"ni_class_1_cut\": -9.360,\n",
    "        \"ni_class_4_cut\": -0.710,\n",
    "        \"cb_hitc_cut\": -0.540,\n",
    "        \"fuel_duty_freeze\": -3.090,\n",
    "    },\n",
    "    \"2025\": {\n",
    "        \"ni_class_1_cut\": -9.295,\n",
    "        \"ni_class_4_cut\": -0.850,\n",
    "        \"cb_hitc_cut\": -0.635,\n",
    "        \"fuel_duty_freeze\": -0.820,\n",
    "    },\n",
    "    \"2026\": {\n",
    "        \"ni_class_1_cut\": -9.490,\n",
    "        \"ni_class_4_cut\": -0.735,\n",
    "        \"cb_hitc_cut\": -0.640,\n",
    "        \"fuel_duty_freeze\": -0.830,\n",
    "    },\n",
    "}\n",
    "\n",
    "treasury_totals_bn = {}\n",
    "for year in treasury_values_bn:\n",
    "    treasury_totals_bn[year] = sum(treasury_values_bn[year].values())\n",
    "\n",
    "\n",
    "# Get impacts of entire policy reform for each year and place into dict\n",
    "def get_budget_impact_year(reform_dict: dict, year: str) -> float:\n",
    "    reform = Reform.from_dict(reform_dict, country_id=\"uk\")\n",
    "    reformed = Microsimulation(reform=reform)\n",
    "\n",
    "    budgetary_impact = (\n",
    "        baseline.calculate(\"household_net_income\", period=year).sum()\n",
    "        - reformed.calculate(\"household_net_income\", year).sum()\n",
    "    )\n",
    "    return budgetary_impact\n",
    "\n",
    "\n",
    "pe_totals_bn = {}\n",
    "for year in years:\n",
    "    pe_totals_bn[year] = get_budget_impact_year(complete_reform, year) / 1e9\n",
    "\n",
    "# Calculate difference between values\n",
    "diff_totals_bn = {}\n",
    "\n",
    "for year in years:\n",
    "    diff_totals_bn[year] = treasury_totals_bn[year] - pe_totals_bn[year]\n",
    "\n",
    "chart_data = []\n",
    "for i in range(len(years)):\n",
    "    chart_data.append([])\n",
    "    chart_data[i].append(pe_totals_bn[years[i]])\n",
    "    chart_data[i].append(treasury_totals_bn[years[i]])\n",
    "    chart_data[i].append(diff_totals_bn[years[i]])\n",
    "\n",
    "df = pd.DataFrame(\n",
    "    {\n",
    "        \"Estimates\": rows,\n",
    "        \"2024 (£bn)\": chart_data[0],\n",
    "        \"2025 (£bn)\": chart_data[1],\n",
    "        \"2026 (£bn)\": chart_data[2],\n",
    "    }\n",
    ")"
   ]
  },
  {
   "cell_type": "code",
   "execution_count": 5,
   "metadata": {},
   "outputs": [],
   "source": [
    "df[\"2024 (£bn)\"] = df[\"2024 (£bn)\"].apply(lambda x: f\"{x:+,.1f}\")\n",
    "df[\"2025 (£bn)\"] = df[\"2025 (£bn)\"].apply(lambda x: f\"{x:+,.1f}\")\n",
    "df[\"2026 (£bn)\"] = df[\"2026 (£bn)\"].apply(lambda x: f\"{x:+,.1f}\")\n",
    "\n",
    "# Note - I am unsure how to format the sole percentage row"
   ]
  },
  {
   "cell_type": "code",
   "execution_count": 6,
   "metadata": {},
   "outputs": [
    {
     "data": {
      "text/markdown": [
       "| Estimates    |   2024 (£bn) |   2025 (£bn) |   2026 (£bn) |\n",
       "|:-------------|-------------:|-------------:|-------------:|\n",
       "| PolicyEngine |        -14.1 |        -15.8 |        -16.4 |\n",
       "| HM Treasury  |        -13.7 |        -11.6 |        -11.7 |\n",
       "| Difference   |          0.4 |          4.2 |          4.7 |"
      ],
      "text/plain": [
       "<IPython.core.display.Markdown object>"
      ]
     },
     "execution_count": 6,
     "metadata": {},
     "output_type": "execute_result"
    }
   ],
   "source": [
    "from IPython.display import Markdown\n",
    "\n",
    "Markdown(df.to_markdown(index=False))"
   ]
  },
  {
   "cell_type": "markdown",
   "metadata": {},
   "source": [
    "## Distributional impacts\n",
    "The six modeled reforms of the Spring Budget 2023 would increase the net income of households by 1.2% on average. Under this reform, top-earning deciles would disproportionately benefit. Decile 9, the biggest beneficiary in relative terms, would experience a 1.9% gain in disposable income, while deciles 1 through 3 receive between 0.3% and 0.4%. In absolute terms, this equates to a £46 increase in post-tax income for earners in the lowest decile and a £1,402 increase for those in the top decile (£1,386 for those in decile 9). Similarly, 99.6% of earners in decile 9 and 77.4% of earners in decile 10 experience an increase in net income under these reforms, while 36.2% of earners in the lowest decile gain."
   ]
  },
  {
   "cell_type": "code",
   "execution_count": 7,
   "metadata": {},
   "outputs": [],
   "source": [
    "from policyengine_uk import Simulation\n",
    "from policyengine_core.reforms import Reform\n",
    "from policyengine_core.periods import instant\n",
    "\n",
    "\n",
    "def modify_parameters(parameters):\n",
    "    parameters.gov.hmrc.fuel_duty.petrol_and_diesel.update(\n",
    "        start=instant(\"2024-01-01\"), stop=instant(\"2028-12-31\"), value=0.5295\n",
    "    )\n",
    "    parameters.gov.hmrc.income_tax.charges.CB_HITC.phase_out_rate.update(\n",
    "        start=instant(\"2024-01-01\"), stop=instant(\"2028-12-31\"), value=0.05\n",
    "    )\n",
    "    parameters.gov.hmrc.income_tax.charges.CB_HITC.phase_out_start.update(\n",
    "        start=instant(\"2024-01-01\"), stop=instant(\"2028-12-31\"), value=60000\n",
    "    )\n",
    "    parameters.gov.hmrc.national_insurance.class_1.rates.employee.main.update(\n",
    "        start=instant(\"2024-01-01\"), stop=instant(\"2028-12-31\"), value=0.08\n",
    "    )\n",
    "    parameters.gov.hmrc.national_insurance.class_4.rates.main.update(\n",
    "        start=instant(\"2024-01-01\"), stop=instant(\"2028-12-31\"), value=0.06\n",
    "    )\n",
    "    return parameters\n",
    "\n",
    "\n",
    "class reform(Reform):\n",
    "    def apply(self):\n",
    "        self.modify_parameters(modify_parameters)\n",
    "\n",
    "\n",
    "single_situation = {\n",
    "    \"people\": {\"you\": {\"age\": {\"2024\": 40}}},\n",
    "    \"benunits\": {\"your immediate family\": {\"members\": [\"you\"]}},\n",
    "    \"households\": {\n",
    "        \"your household\": {\n",
    "            \"members\": [\"you\"],\n",
    "            \"BRMA\": {\"2024\": \"MAIDSTONE\"},\n",
    "            \"local_authority\": {\"2024\": \"MAIDSTONE\"},\n",
    "            \"region\": {\"2024\": \"LONDON\"},\n",
    "        }\n",
    "    },\n",
    "    \"axes\": [\n",
    "        [{\"name\": \"employment_income\", \"count\": 200, \"min\": 0, \"max\": 200000}]\n",
    "    ],\n",
    "}\n",
    "\n",
    "married_situation = {\n",
    "    \"people\": {\n",
    "        \"you\": {\"age\": {\"2024\": 40}},\n",
    "        \"your partner\": {\"age\": {\"2024\": 40}},\n",
    "        \"your first child\": {\"age\": {\"2024\": 10}},\n",
    "        \"your second child\": {\"age\": {\"2024\": 10}},\n",
    "    },\n",
    "    \"benunits\": {\n",
    "        \"your immediate family\": {\n",
    "            \"members\": [\n",
    "                \"you\",\n",
    "                \"your partner\",\n",
    "                \"your first child\",\n",
    "                \"your second child\",\n",
    "            ]\n",
    "        }\n",
    "    },\n",
    "    \"households\": {\n",
    "        \"your household\": {\n",
    "            \"members\": [\n",
    "                \"you\",\n",
    "                \"your partner\",\n",
    "                \"your first child\",\n",
    "                \"your second child\",\n",
    "            ],\n",
    "            \"BRMA\": {\"2024\": \"MAIDSTONE\"},\n",
    "            \"local_authority\": {\"2024\": \"MAIDSTONE\"},\n",
    "            \"region\": {\"2024\": \"LONDON\"},\n",
    "        }\n",
    "    },\n",
    "    \"axes\": [\n",
    "        [{\"name\": \"employment_income\", \"count\": 200, \"min\": 0, \"max\": 200000}]\n",
    "    ],\n",
    "}\n",
    "\n",
    "baseline_single_simulation = Simulation(situation=single_situation)\n",
    "\n",
    "reform_single_simulation = Simulation(\n",
    "    reform=reform,\n",
    "    situation=single_situation,\n",
    ")\n",
    "\n",
    "baseline_married_simulation = Simulation(situation=married_situation)\n",
    "\n",
    "reform_married_simulation = Simulation(\n",
    "    reform=reform,\n",
    "    situation=married_situation,\n",
    ")"
   ]
  },
  {
   "cell_type": "markdown",
   "metadata": {},
   "source": [
    "## Household impacts\n",
    "For a single person with only employment income, the six reforms evaluated in this article produce a benefit if they earn at least £12,750, producing a maximum benefit of £754 if the individual earns £50,270 per year. This assumes the individual consumes no fuel impacted by the fuel duty freeze; if the same person were to spend the UK average of [£1,176](https://www.nimblefins.co.uk/cheap-car-insurance/average-cost-petrol-car) in 2024 on petrol, they would save a further £96, no matter what their pre-tax income.\n"
   ]
  },
  {
   "cell_type": "code",
   "execution_count": 13,
   "metadata": {},
   "outputs": [
    {
     "data": {
      "application/vnd.plotly.v1+json": {
       "config": {
        "plotlyServerURL": "https://plot.ly"
       },
       "data": [
        {
         "hovertemplate": "Employment income=%{x}<br>Net income=%{y}<extra></extra>",
         "legendgroup": "",
         "line": {
          "color": "#2C6496",
          "dash": "solid"
         },
         "marker": {
          "symbol": "circle"
         },
         "mode": "lines",
         "name": "",
         "orientation": "v",
         "showlegend": false,
         "type": "scatter",
         "x": [
          0,
          1067.2659912109375,
          2134.531982421875,
          3201.7978515625,
          4269.06396484375,
          5336.32958984375,
          6403.595703125,
          7470.861328125,
          8538.1279296875,
          9605.3935546875,
          10672.6591796875,
          11739.9248046875,
          12807.19140625,
          13874.4560546875,
          14941.72265625,
          16008.9892578125,
          17076.255859375,
          18143.521484375,
          19210.787109375,
          20278.05078125,
          21345.318359375,
          22412.583984375,
          23479.849609375,
          24547.1171875,
          25614.3828125,
          26681.6484375,
          27748.912109375,
          28816.1796875,
          29883.4453125,
          30950.7109375,
          32017.978515625,
          33085.2421875,
          34152.51171875,
          35219.7734375,
          36287.04296875,
          37354.3046875,
          38421.57421875,
          39488.83984375,
          40556.1015625,
          41623.37109375,
          42690.63671875,
          43757.90234375,
          44825.16796875,
          45892.4375,
          46959.69921875,
          48026.96484375,
          49094.234375,
          50161.49609375,
          51228.765625,
          52296.02734375,
          53363.296875,
          54430.5625,
          55497.82421875,
          56565.09375,
          57632.359375,
          58699.625,
          59766.890625,
          60834.16015625,
          61901.421875,
          62968.6875,
          64035.95703125,
          65103.21875,
          66170.484375,
          67237.75,
          68305.0234375,
          69372.28125,
          70439.546875,
          71506.8125,
          72574.0859375,
          73641.3515625,
          74708.609375,
          75775.875,
          76843.1484375,
          77910.4140625,
          78977.6796875,
          80044.9453125,
          81112.203125,
          82179.4765625,
          83246.7421875,
          84314.0078125,
          85381.2734375,
          86448.546875,
          87515.8046875,
          88583.0703125,
          89650.3359375,
          90717.6015625,
          91784.875,
          92852.1328125,
          93919.3984375,
          94986.6640625,
          96053.9296875,
          97121.203125,
          98188.46875,
          99255.7265625,
          100322.9921875,
          101390.265625,
          102457.53125,
          103524.796875,
          104592.0546875,
          105659.3203125,
          106726.59375,
          107793.859375,
          108861.125,
          109928.390625,
          110995.6484375,
          112062.921875,
          113130.1875,
          114197.453125,
          115264.71875,
          116331.984375,
          117399.25,
          118466.515625,
          119533.78125,
          120601.046875,
          121668.3203125,
          122735.578125,
          123802.84375,
          124870.109375,
          125937.375,
          127004.6484375,
          128071.9140625,
          129139.171875,
          130206.4375,
          131273.703125,
          132340.96875,
          133408.234375,
          134475.5,
          135542.765625,
          136610.046875,
          137677.296875,
          138744.5625,
          139811.84375,
          140879.09375,
          141946.375,
          143013.625,
          144080.890625,
          145148.171875,
          146215.421875,
          147282.703125,
          148349.96875,
          149417.21875,
          150484.5,
          151551.75,
          152619.03125,
          153686.296875,
          154753.546875,
          155820.828125,
          156888.078125,
          157955.359375,
          159022.625,
          160089.890625,
          161157.15625,
          162224.40625,
          163291.6875,
          164358.953125,
          165426.21875,
          166493.484375,
          167560.734375,
          168628.015625,
          169695.28125,
          170762.546875,
          171829.8125,
          172897.09375,
          173964.34375,
          175031.609375,
          176098.875,
          177166.140625,
          178233.421875,
          179300.671875,
          180367.9375,
          181435.203125,
          182502.46875,
          183569.75,
          184637,
          185704.265625,
          186771.53125,
          187838.796875,
          188906.078125,
          189973.328125,
          191040.59375,
          192107.859375,
          193175.125,
          194242.40625,
          195309.65625,
          196376.9375,
          197444.1875,
          198511.453125,
          199578.734375,
          200645.984375,
          201713.265625,
          202780.53125,
          203847.78125,
          204915.0625,
          205982.3125,
          207049.59375,
          208116.859375,
          209184.109375,
          210251.390625,
          211318.640625,
          212385.921875
         ],
         "xaxis": "x",
         "y": [
          0,
          0,
          0,
          0,
          0,
          0,
          0,
          0,
          0,
          0,
          0,
          0,
          4.744140625,
          26.08984375,
          47.4345703125,
          68.7802734375,
          90.1259765625,
          111.470703125,
          132.81640625,
          154.16015625,
          175.5078125,
          196.8515625,
          218.197265625,
          239.54296875,
          260.888671875,
          282.232421875,
          303.578125,
          324.923828125,
          346.26953125,
          367.615234375,
          388.958984375,
          410.3046875,
          431.65234375,
          452.99609375,
          474.341796875,
          495.685546875,
          517.03125,
          538.37890625,
          559.72265625,
          581.06640625,
          602.4140625,
          623.76171875,
          645.10546875,
          666.44921875,
          687.79296875,
          709.140625,
          730.484375,
          751.83203125,
          754,
          754.00390625,
          754,
          754,
          754,
          754,
          754,
          754,
          754,
          754,
          754,
          754,
          754,
          754,
          754,
          754,
          754,
          754,
          754,
          754,
          754,
          754.00390625,
          754,
          754,
          754,
          754.00390625,
          754,
          754,
          754,
          754,
          754,
          754,
          754,
          754,
          754,
          754,
          754,
          754,
          754.00390625,
          754,
          754,
          754,
          754,
          754,
          754,
          754,
          754,
          754,
          754,
          754,
          754,
          754,
          754,
          754,
          754,
          754,
          753.9921875,
          754,
          754,
          754,
          754.0078125,
          754,
          754,
          754,
          754,
          754,
          754,
          754,
          754.0078125,
          754,
          754.0078125,
          754,
          754,
          754,
          753.9921875,
          754,
          754,
          754,
          754,
          754,
          754,
          754,
          753.9921875,
          754,
          754,
          754,
          754.0078125,
          754,
          754,
          754,
          754,
          753.9921875,
          754,
          754,
          754.0078125,
          754,
          754,
          754,
          754,
          753.9921875,
          754,
          754,
          754,
          754.0078125,
          754,
          754,
          754,
          754,
          754,
          754,
          754,
          754,
          753.9921875,
          754,
          754,
          754.0078125,
          754,
          754,
          754,
          754,
          754,
          753.9921875,
          754,
          754,
          754,
          754,
          754,
          754,
          754,
          754,
          754,
          754,
          754,
          754,
          754,
          754,
          754,
          754,
          754,
          753.9921875,
          754,
          754,
          754,
          754,
          754,
          754,
          754,
          754,
          754,
          754,
          754,
          754
         ],
         "yaxis": "y"
        }
       ],
       "layout": {
        "font": {
         "color": "black",
         "family": "Roboto Serif"
        },
        "height": 600,
        "images": [
         {
          "sizex": 0.2,
          "sizey": 0.2,
          "source": "https://raw.githubusercontent.com/PolicyEngine/policyengine-app/master/src/images/logos/policyengine/blue.png",
          "x": 1,
          "xanchor": "right",
          "xref": "paper",
          "y": -0.15,
          "yanchor": "bottom",
          "yref": "paper"
         }
        ],
        "legend": {
         "tracegroupgap": 0
        },
        "modebar": {
         "bgcolor": "rgba(0,0,0,0)",
         "color": "rgba(0,0,0,0)"
        },
        "showlegend": false,
        "template": {
         "data": {
          "bar": [
           {
            "error_x": {
             "color": "#2a3f5f"
            },
            "error_y": {
             "color": "#2a3f5f"
            },
            "marker": {
             "line": {
              "color": "white",
              "width": 0.5
             },
             "pattern": {
              "fillmode": "overlay",
              "size": 10,
              "solidity": 0.2
             }
            },
            "type": "bar"
           }
          ],
          "barpolar": [
           {
            "marker": {
             "line": {
              "color": "white",
              "width": 0.5
             },
             "pattern": {
              "fillmode": "overlay",
              "size": 10,
              "solidity": 0.2
             }
            },
            "type": "barpolar"
           }
          ],
          "carpet": [
           {
            "aaxis": {
             "endlinecolor": "#2a3f5f",
             "gridcolor": "#C8D4E3",
             "linecolor": "#C8D4E3",
             "minorgridcolor": "#C8D4E3",
             "startlinecolor": "#2a3f5f"
            },
            "baxis": {
             "endlinecolor": "#2a3f5f",
             "gridcolor": "#C8D4E3",
             "linecolor": "#C8D4E3",
             "minorgridcolor": "#C8D4E3",
             "startlinecolor": "#2a3f5f"
            },
            "type": "carpet"
           }
          ],
          "choropleth": [
           {
            "colorbar": {
             "outlinewidth": 0,
             "ticks": ""
            },
            "type": "choropleth"
           }
          ],
          "contour": [
           {
            "colorbar": {
             "outlinewidth": 0,
             "ticks": ""
            },
            "colorscale": [
             [
              0,
              "#0d0887"
             ],
             [
              0.1111111111111111,
              "#46039f"
             ],
             [
              0.2222222222222222,
              "#7201a8"
             ],
             [
              0.3333333333333333,
              "#9c179e"
             ],
             [
              0.4444444444444444,
              "#bd3786"
             ],
             [
              0.5555555555555556,
              "#d8576b"
             ],
             [
              0.6666666666666666,
              "#ed7953"
             ],
             [
              0.7777777777777778,
              "#fb9f3a"
             ],
             [
              0.8888888888888888,
              "#fdca26"
             ],
             [
              1,
              "#f0f921"
             ]
            ],
            "type": "contour"
           }
          ],
          "contourcarpet": [
           {
            "colorbar": {
             "outlinewidth": 0,
             "ticks": ""
            },
            "type": "contourcarpet"
           }
          ],
          "heatmap": [
           {
            "colorbar": {
             "outlinewidth": 0,
             "ticks": ""
            },
            "colorscale": [
             [
              0,
              "#0d0887"
             ],
             [
              0.1111111111111111,
              "#46039f"
             ],
             [
              0.2222222222222222,
              "#7201a8"
             ],
             [
              0.3333333333333333,
              "#9c179e"
             ],
             [
              0.4444444444444444,
              "#bd3786"
             ],
             [
              0.5555555555555556,
              "#d8576b"
             ],
             [
              0.6666666666666666,
              "#ed7953"
             ],
             [
              0.7777777777777778,
              "#fb9f3a"
             ],
             [
              0.8888888888888888,
              "#fdca26"
             ],
             [
              1,
              "#f0f921"
             ]
            ],
            "type": "heatmap"
           }
          ],
          "heatmapgl": [
           {
            "colorbar": {
             "outlinewidth": 0,
             "ticks": ""
            },
            "colorscale": [
             [
              0,
              "#0d0887"
             ],
             [
              0.1111111111111111,
              "#46039f"
             ],
             [
              0.2222222222222222,
              "#7201a8"
             ],
             [
              0.3333333333333333,
              "#9c179e"
             ],
             [
              0.4444444444444444,
              "#bd3786"
             ],
             [
              0.5555555555555556,
              "#d8576b"
             ],
             [
              0.6666666666666666,
              "#ed7953"
             ],
             [
              0.7777777777777778,
              "#fb9f3a"
             ],
             [
              0.8888888888888888,
              "#fdca26"
             ],
             [
              1,
              "#f0f921"
             ]
            ],
            "type": "heatmapgl"
           }
          ],
          "histogram": [
           {
            "marker": {
             "pattern": {
              "fillmode": "overlay",
              "size": 10,
              "solidity": 0.2
             }
            },
            "type": "histogram"
           }
          ],
          "histogram2d": [
           {
            "colorbar": {
             "outlinewidth": 0,
             "ticks": ""
            },
            "colorscale": [
             [
              0,
              "#0d0887"
             ],
             [
              0.1111111111111111,
              "#46039f"
             ],
             [
              0.2222222222222222,
              "#7201a8"
             ],
             [
              0.3333333333333333,
              "#9c179e"
             ],
             [
              0.4444444444444444,
              "#bd3786"
             ],
             [
              0.5555555555555556,
              "#d8576b"
             ],
             [
              0.6666666666666666,
              "#ed7953"
             ],
             [
              0.7777777777777778,
              "#fb9f3a"
             ],
             [
              0.8888888888888888,
              "#fdca26"
             ],
             [
              1,
              "#f0f921"
             ]
            ],
            "type": "histogram2d"
           }
          ],
          "histogram2dcontour": [
           {
            "colorbar": {
             "outlinewidth": 0,
             "ticks": ""
            },
            "colorscale": [
             [
              0,
              "#0d0887"
             ],
             [
              0.1111111111111111,
              "#46039f"
             ],
             [
              0.2222222222222222,
              "#7201a8"
             ],
             [
              0.3333333333333333,
              "#9c179e"
             ],
             [
              0.4444444444444444,
              "#bd3786"
             ],
             [
              0.5555555555555556,
              "#d8576b"
             ],
             [
              0.6666666666666666,
              "#ed7953"
             ],
             [
              0.7777777777777778,
              "#fb9f3a"
             ],
             [
              0.8888888888888888,
              "#fdca26"
             ],
             [
              1,
              "#f0f921"
             ]
            ],
            "type": "histogram2dcontour"
           }
          ],
          "mesh3d": [
           {
            "colorbar": {
             "outlinewidth": 0,
             "ticks": ""
            },
            "type": "mesh3d"
           }
          ],
          "parcoords": [
           {
            "line": {
             "colorbar": {
              "outlinewidth": 0,
              "ticks": ""
             }
            },
            "type": "parcoords"
           }
          ],
          "pie": [
           {
            "automargin": true,
            "type": "pie"
           }
          ],
          "scatter": [
           {
            "fillpattern": {
             "fillmode": "overlay",
             "size": 10,
             "solidity": 0.2
            },
            "type": "scatter"
           }
          ],
          "scatter3d": [
           {
            "line": {
             "colorbar": {
              "outlinewidth": 0,
              "ticks": ""
             }
            },
            "marker": {
             "colorbar": {
              "outlinewidth": 0,
              "ticks": ""
             }
            },
            "type": "scatter3d"
           }
          ],
          "scattercarpet": [
           {
            "marker": {
             "colorbar": {
              "outlinewidth": 0,
              "ticks": ""
             }
            },
            "type": "scattercarpet"
           }
          ],
          "scattergeo": [
           {
            "marker": {
             "colorbar": {
              "outlinewidth": 0,
              "ticks": ""
             }
            },
            "type": "scattergeo"
           }
          ],
          "scattergl": [
           {
            "marker": {
             "colorbar": {
              "outlinewidth": 0,
              "ticks": ""
             }
            },
            "type": "scattergl"
           }
          ],
          "scattermapbox": [
           {
            "marker": {
             "colorbar": {
              "outlinewidth": 0,
              "ticks": ""
             }
            },
            "type": "scattermapbox"
           }
          ],
          "scatterpolar": [
           {
            "marker": {
             "colorbar": {
              "outlinewidth": 0,
              "ticks": ""
             }
            },
            "type": "scatterpolar"
           }
          ],
          "scatterpolargl": [
           {
            "marker": {
             "colorbar": {
              "outlinewidth": 0,
              "ticks": ""
             }
            },
            "type": "scatterpolargl"
           }
          ],
          "scatterternary": [
           {
            "marker": {
             "colorbar": {
              "outlinewidth": 0,
              "ticks": ""
             }
            },
            "type": "scatterternary"
           }
          ],
          "surface": [
           {
            "colorbar": {
             "outlinewidth": 0,
             "ticks": ""
            },
            "colorscale": [
             [
              0,
              "#0d0887"
             ],
             [
              0.1111111111111111,
              "#46039f"
             ],
             [
              0.2222222222222222,
              "#7201a8"
             ],
             [
              0.3333333333333333,
              "#9c179e"
             ],
             [
              0.4444444444444444,
              "#bd3786"
             ],
             [
              0.5555555555555556,
              "#d8576b"
             ],
             [
              0.6666666666666666,
              "#ed7953"
             ],
             [
              0.7777777777777778,
              "#fb9f3a"
             ],
             [
              0.8888888888888888,
              "#fdca26"
             ],
             [
              1,
              "#f0f921"
             ]
            ],
            "type": "surface"
           }
          ],
          "table": [
           {
            "cells": {
             "fill": {
              "color": "#EBF0F8"
             },
             "line": {
              "color": "white"
             }
            },
            "header": {
             "fill": {
              "color": "#C8D4E3"
             },
             "line": {
              "color": "white"
             }
            },
            "type": "table"
           }
          ]
         },
         "layout": {
          "annotationdefaults": {
           "arrowcolor": "#2a3f5f",
           "arrowhead": 0,
           "arrowwidth": 1
          },
          "autotypenumbers": "strict",
          "coloraxis": {
           "colorbar": {
            "outlinewidth": 0,
            "ticks": ""
           }
          },
          "colorscale": {
           "diverging": [
            [
             0,
             "#8e0152"
            ],
            [
             0.1,
             "#c51b7d"
            ],
            [
             0.2,
             "#de77ae"
            ],
            [
             0.3,
             "#f1b6da"
            ],
            [
             0.4,
             "#fde0ef"
            ],
            [
             0.5,
             "#f7f7f7"
            ],
            [
             0.6,
             "#e6f5d0"
            ],
            [
             0.7,
             "#b8e186"
            ],
            [
             0.8,
             "#7fbc41"
            ],
            [
             0.9,
             "#4d9221"
            ],
            [
             1,
             "#276419"
            ]
           ],
           "sequential": [
            [
             0,
             "#0d0887"
            ],
            [
             0.1111111111111111,
             "#46039f"
            ],
            [
             0.2222222222222222,
             "#7201a8"
            ],
            [
             0.3333333333333333,
             "#9c179e"
            ],
            [
             0.4444444444444444,
             "#bd3786"
            ],
            [
             0.5555555555555556,
             "#d8576b"
            ],
            [
             0.6666666666666666,
             "#ed7953"
            ],
            [
             0.7777777777777778,
             "#fb9f3a"
            ],
            [
             0.8888888888888888,
             "#fdca26"
            ],
            [
             1,
             "#f0f921"
            ]
           ],
           "sequentialminus": [
            [
             0,
             "#0d0887"
            ],
            [
             0.1111111111111111,
             "#46039f"
            ],
            [
             0.2222222222222222,
             "#7201a8"
            ],
            [
             0.3333333333333333,
             "#9c179e"
            ],
            [
             0.4444444444444444,
             "#bd3786"
            ],
            [
             0.5555555555555556,
             "#d8576b"
            ],
            [
             0.6666666666666666,
             "#ed7953"
            ],
            [
             0.7777777777777778,
             "#fb9f3a"
            ],
            [
             0.8888888888888888,
             "#fdca26"
            ],
            [
             1,
             "#f0f921"
            ]
           ]
          },
          "colorway": [
           "#636efa",
           "#EF553B",
           "#00cc96",
           "#ab63fa",
           "#FFA15A",
           "#19d3f3",
           "#FF6692",
           "#B6E880",
           "#FF97FF",
           "#FECB52"
          ],
          "font": {
           "color": "#2a3f5f"
          },
          "geo": {
           "bgcolor": "white",
           "lakecolor": "white",
           "landcolor": "white",
           "showlakes": true,
           "showland": true,
           "subunitcolor": "#C8D4E3"
          },
          "hoverlabel": {
           "align": "left"
          },
          "hovermode": "closest",
          "mapbox": {
           "style": "light"
          },
          "paper_bgcolor": "white",
          "plot_bgcolor": "white",
          "polar": {
           "angularaxis": {
            "gridcolor": "#EBF0F8",
            "linecolor": "#EBF0F8",
            "ticks": ""
           },
           "bgcolor": "white",
           "radialaxis": {
            "gridcolor": "#EBF0F8",
            "linecolor": "#EBF0F8",
            "ticks": ""
           }
          },
          "scene": {
           "xaxis": {
            "backgroundcolor": "white",
            "gridcolor": "#DFE8F3",
            "gridwidth": 2,
            "linecolor": "#EBF0F8",
            "showbackground": true,
            "ticks": "",
            "zerolinecolor": "#EBF0F8"
           },
           "yaxis": {
            "backgroundcolor": "white",
            "gridcolor": "#DFE8F3",
            "gridwidth": 2,
            "linecolor": "#EBF0F8",
            "showbackground": true,
            "ticks": "",
            "zerolinecolor": "#EBF0F8"
           },
           "zaxis": {
            "backgroundcolor": "white",
            "gridcolor": "#DFE8F3",
            "gridwidth": 2,
            "linecolor": "#EBF0F8",
            "showbackground": true,
            "ticks": "",
            "zerolinecolor": "#EBF0F8"
           }
          },
          "shapedefaults": {
           "line": {
            "color": "#2a3f5f"
           }
          },
          "ternary": {
           "aaxis": {
            "gridcolor": "#DFE8F3",
            "linecolor": "#A2B1C6",
            "ticks": ""
           },
           "baxis": {
            "gridcolor": "#DFE8F3",
            "linecolor": "#A2B1C6",
            "ticks": ""
           },
           "bgcolor": "white",
           "caxis": {
            "gridcolor": "#DFE8F3",
            "linecolor": "#A2B1C6",
            "ticks": ""
           }
          },
          "title": {
           "x": 0.05
          },
          "xaxis": {
           "automargin": true,
           "gridcolor": "#EBF0F8",
           "linecolor": "#EBF0F8",
           "ticks": "",
           "title": {
            "standoff": 15
           },
           "zerolinecolor": "#EBF0F8",
           "zerolinewidth": 2
          },
          "yaxis": {
           "automargin": true,
           "gridcolor": "#EBF0F8",
           "linecolor": "#EBF0F8",
           "ticks": "",
           "title": {
            "standoff": 15
           },
           "zerolinecolor": "#EBF0F8",
           "zerolinewidth": 2
          }
         }
        },
        "title": {
         "text": "Change to household net income by employment income for a single person"
        },
        "width": 800,
        "xaxis": {
         "anchor": "y",
         "domain": [
          0,
          1
         ],
         "tickformat": ",.0f",
         "tickprefix": "£",
         "title": {
          "text": "Employment income"
         }
        },
        "yaxis": {
         "anchor": "x",
         "domain": [
          0,
          1
         ],
         "tickformat": ",.0f",
         "tickprefix": "£",
         "title": {
          "text": "Change to net income"
         }
        }
       }
      }
     },
     "metadata": {},
     "output_type": "display_data"
    }
   ],
   "source": [
    "from policyengine_core.charts import *\n",
    "\n",
    "single_diff = pd.DataFrame(\n",
    "    {\n",
    "        \"Net income\": (\n",
    "            reform_single_simulation.calculate(\"household_net_income\", 2024)\n",
    "            - baseline_single_simulation.calculate(\n",
    "                \"household_net_income\", 2024\n",
    "            )\n",
    "        ),\n",
    "        \"Employment income\": reform_single_simulation.calculate(\n",
    "            \"employment_income\", 2024\n",
    "        ),\n",
    "    }\n",
    ")\n",
    "fig = px.line(\n",
    "    single_diff,\n",
    "    y=\"Net income\",\n",
    "    x=\"Employment income\",\n",
    "    color_discrete_sequence=[BLUE],\n",
    "    title=\"Change to household net income by employment income for a single person\",\n",
    ").update_layout(\n",
    "    xaxis_title=\"Employment income\",\n",
    "    yaxis_title=\"Change to net income\",\n",
    "    yaxis_tickformat=\",.0f\",\n",
    "    yaxis_tickprefix=\"£\",\n",
    "    xaxis_tickformat=\",.0f\",\n",
    "    xaxis_tickprefix=\"£\",\n",
    "    showlegend=False,\n",
    ")\n",
    "format_fig(fig)"
   ]
  },
  {
   "cell_type": "markdown",
   "metadata": {},
   "source": [
    "For the same hypothetical person, if their income falls within the range specified above, the tax reforms analysed here would yield a 2% drop in their marginal tax rate; all others would see no change. *View this household in the interactive PolicyEngine tax calculator [here](https://policyengine.org/uk/household?reform=49773&baseline=1&time_period=2024&region=uk&focus=householdOutput.netIncome&timePeriod=2024&household=42359).*\n",
    "\n",
    "For a married couple with two children, the impacts of this reform package are slightly more complext. Again, these reforms would produce no increase to post-tax income until the head of household earns £12,750 per year, after which the families net income will rise, until reaching a peak of £2,874 when the head makes £60,000. After this point, the post-tax benefit drops as the High Income Child Benefit Charge phases in, until the end of its taper at £80,000, at which all households see a net income increase of £754. These figures do not include the impact of the fuel duty freeze. *View this household in the interactive PolicyEngine tax calculator [here](https://policyengine.org/uk/household?reform=49773&baseline=1&time_period=2024&region=uk&focus=householdOutput.earnings&timePeriod=2024&household=42361).*"
   ]
  },
  {
   "cell_type": "code",
   "execution_count": 15,
   "metadata": {},
   "outputs": [
    {
     "data": {
      "application/vnd.plotly.v1+json": {
       "config": {
        "plotlyServerURL": "https://plot.ly"
       },
       "data": [
        {
         "hovertemplate": "Employment income=%{x}<br>Net income=%{y}<extra></extra>",
         "legendgroup": "",
         "line": {
          "color": "#2C6496",
          "dash": "solid"
         },
         "marker": {
          "symbol": "circle"
         },
         "mode": "lines",
         "name": "",
         "orientation": "v",
         "showlegend": false,
         "type": "scatter",
         "x": [
          0,
          1067.2659912109375,
          2134.531982421875,
          3201.7978515625,
          4269.06396484375,
          5336.32958984375,
          6403.595703125,
          7470.861328125,
          8538.1279296875,
          9605.3935546875,
          10672.6591796875,
          11739.9248046875,
          12807.19140625,
          13874.4560546875,
          14941.72265625,
          16008.9892578125,
          17076.255859375,
          18143.521484375,
          19210.787109375,
          20278.05078125,
          21345.318359375,
          22412.583984375,
          23479.849609375,
          24547.1171875,
          25614.3828125,
          26681.6484375,
          27748.912109375,
          28816.1796875,
          29883.4453125,
          30950.7109375,
          32017.978515625,
          33085.2421875,
          34152.51171875,
          35219.7734375,
          36287.04296875,
          37354.3046875,
          38421.57421875,
          39488.83984375,
          40556.1015625,
          41623.37109375,
          42690.63671875,
          43757.90234375,
          44825.16796875,
          45892.4375,
          46959.69921875,
          48026.96484375,
          49094.234375,
          50161.49609375,
          51228.765625,
          52296.02734375,
          53363.296875,
          54430.5625,
          55497.82421875,
          56565.09375,
          57632.359375,
          58699.625,
          59766.890625,
          60834.16015625,
          61901.421875,
          62968.6875,
          64035.95703125,
          65103.21875,
          66170.484375,
          67237.75,
          68305.0234375,
          69372.28125,
          70439.546875,
          71506.8125,
          72574.0859375,
          73641.3515625,
          74708.609375,
          75775.875,
          76843.1484375,
          77910.4140625,
          78977.6796875,
          80044.9453125,
          81112.203125,
          82179.4765625,
          83246.7421875,
          84314.0078125,
          85381.2734375,
          86448.546875,
          87515.8046875,
          88583.0703125,
          89650.3359375,
          90717.6015625,
          91784.875,
          92852.1328125,
          93919.3984375,
          94986.6640625,
          96053.9296875,
          97121.203125,
          98188.46875,
          99255.7265625,
          100322.9921875,
          101390.265625,
          102457.53125,
          103524.796875,
          104592.0546875,
          105659.3203125,
          106726.59375,
          107793.859375,
          108861.125,
          109928.390625,
          110995.6484375,
          112062.921875,
          113130.1875,
          114197.453125,
          115264.71875,
          116331.984375,
          117399.25,
          118466.515625,
          119533.78125,
          120601.046875,
          121668.3203125,
          122735.578125,
          123802.84375,
          124870.109375,
          125937.375,
          127004.6484375,
          128071.9140625,
          129139.171875,
          130206.4375,
          131273.703125,
          132340.96875,
          133408.234375,
          134475.5,
          135542.765625,
          136610.046875,
          137677.296875,
          138744.5625,
          139811.84375,
          140879.09375,
          141946.375,
          143013.625,
          144080.890625,
          145148.171875,
          146215.421875,
          147282.703125,
          148349.96875,
          149417.21875,
          150484.5,
          151551.75,
          152619.03125,
          153686.296875,
          154753.546875,
          155820.828125,
          156888.078125,
          157955.359375,
          159022.625,
          160089.890625,
          161157.15625,
          162224.40625,
          163291.6875,
          164358.953125,
          165426.21875,
          166493.484375,
          167560.734375,
          168628.015625,
          169695.28125,
          170762.546875,
          171829.8125,
          172897.09375,
          173964.34375,
          175031.609375,
          176098.875,
          177166.140625,
          178233.421875,
          179300.671875,
          180367.9375,
          181435.203125,
          182502.46875,
          183569.75,
          184637,
          185704.265625,
          186771.53125,
          187838.796875,
          188906.078125,
          189973.328125,
          191040.59375,
          192107.859375,
          193175.125,
          194242.40625,
          195309.65625,
          196376.9375,
          197444.1875,
          198511.453125,
          199578.734375,
          200645.984375,
          201713.265625,
          202780.53125,
          203847.78125,
          204915.0625,
          205982.3125,
          207049.59375,
          208116.859375,
          209184.109375,
          210251.390625,
          211318.640625,
          212385.921875
         ],
         "xaxis": "x",
         "y": [
          0,
          0,
          0,
          0,
          0,
          0,
          0,
          0,
          0,
          0,
          0,
          0,
          2.134765625,
          11.7421875,
          21.345703125,
          30.951171875,
          40.556640625,
          50.162109375,
          59.765625,
          69.373046875,
          78.978515625,
          88.58203125,
          98.1875,
          107.79296875,
          117.400390625,
          127.001953125,
          136.611328125,
          146.212890625,
          155.8203125,
          165.427734375,
          175.03515625,
          184.63671875,
          194.2421875,
          203.8515625,
          213.453125,
          223.05859375,
          232.6640625,
          242.2734375,
          261.0703125,
          581.06640625,
          602.4140625,
          623.76171875,
          645.10546875,
          666.44921875,
          687.79296875,
          709.140625,
          730.484375,
          786.0625,
          1014.453125,
          1240.67578125,
          1466.89453125,
          1693.1171875,
          1919.3359375,
          2145.55859375,
          2371.77734375,
          2598,
          2824.22265625,
          2785.2265625,
          2672.1171875,
          2559.00390625,
          2445.89453125,
          2332.78125,
          2219.67578125,
          2106.5625,
          1993.453125,
          1880.33984375,
          1767.23046875,
          1654.125,
          1541.0078125,
          1427.8984375,
          1314.78515625,
          1201.67578125,
          1088.56640625,
          975.45703125,
          862.34375,
          754,
          754,
          754.00390625,
          754,
          754,
          754,
          754,
          754,
          754,
          753.99609375,
          754,
          754.00390625,
          754,
          754,
          754,
          754.00390625,
          754.0078125,
          754,
          754,
          754,
          754,
          754,
          754,
          754,
          754,
          754,
          754,
          754,
          754,
          753.9921875,
          754,
          754,
          754,
          754.0078125,
          754,
          754,
          754,
          754,
          754,
          754,
          754,
          754.0078125,
          754,
          754.0078125,
          754,
          754,
          753.9921875,
          754,
          754,
          754,
          754.0078125,
          754,
          754.0078125,
          754,
          754,
          754,
          754,
          754,
          754,
          754,
          754,
          754,
          754,
          754,
          754,
          754,
          754,
          754,
          754,
          754,
          754,
          754,
          754,
          754,
          754,
          754.0078125,
          754,
          754,
          754,
          754,
          754,
          754,
          754,
          754,
          754,
          753.9921875,
          754,
          754,
          754,
          754,
          754,
          754,
          754,
          754,
          753.9921875,
          754,
          754,
          754,
          754,
          754,
          754,
          754,
          754,
          754,
          754,
          754,
          754,
          754,
          754,
          754,
          754,
          754,
          753.9921875,
          754,
          754,
          754,
          754,
          754,
          754.0078125,
          754,
          754,
          754,
          754,
          754,
          754.0078125
         ],
         "yaxis": "y"
        }
       ],
       "layout": {
        "font": {
         "color": "black",
         "family": "Roboto Serif"
        },
        "height": 600,
        "images": [
         {
          "sizex": 0.2,
          "sizey": 0.2,
          "source": "https://raw.githubusercontent.com/PolicyEngine/policyengine-app/master/src/images/logos/policyengine/blue.png",
          "x": 1,
          "xanchor": "right",
          "xref": "paper",
          "y": -0.15,
          "yanchor": "bottom",
          "yref": "paper"
         }
        ],
        "legend": {
         "tracegroupgap": 0
        },
        "modebar": {
         "bgcolor": "rgba(0,0,0,0)",
         "color": "rgba(0,0,0,0)"
        },
        "template": {
         "data": {
          "bar": [
           {
            "error_x": {
             "color": "#2a3f5f"
            },
            "error_y": {
             "color": "#2a3f5f"
            },
            "marker": {
             "line": {
              "color": "white",
              "width": 0.5
             },
             "pattern": {
              "fillmode": "overlay",
              "size": 10,
              "solidity": 0.2
             }
            },
            "type": "bar"
           }
          ],
          "barpolar": [
           {
            "marker": {
             "line": {
              "color": "white",
              "width": 0.5
             },
             "pattern": {
              "fillmode": "overlay",
              "size": 10,
              "solidity": 0.2
             }
            },
            "type": "barpolar"
           }
          ],
          "carpet": [
           {
            "aaxis": {
             "endlinecolor": "#2a3f5f",
             "gridcolor": "#C8D4E3",
             "linecolor": "#C8D4E3",
             "minorgridcolor": "#C8D4E3",
             "startlinecolor": "#2a3f5f"
            },
            "baxis": {
             "endlinecolor": "#2a3f5f",
             "gridcolor": "#C8D4E3",
             "linecolor": "#C8D4E3",
             "minorgridcolor": "#C8D4E3",
             "startlinecolor": "#2a3f5f"
            },
            "type": "carpet"
           }
          ],
          "choropleth": [
           {
            "colorbar": {
             "outlinewidth": 0,
             "ticks": ""
            },
            "type": "choropleth"
           }
          ],
          "contour": [
           {
            "colorbar": {
             "outlinewidth": 0,
             "ticks": ""
            },
            "colorscale": [
             [
              0,
              "#0d0887"
             ],
             [
              0.1111111111111111,
              "#46039f"
             ],
             [
              0.2222222222222222,
              "#7201a8"
             ],
             [
              0.3333333333333333,
              "#9c179e"
             ],
             [
              0.4444444444444444,
              "#bd3786"
             ],
             [
              0.5555555555555556,
              "#d8576b"
             ],
             [
              0.6666666666666666,
              "#ed7953"
             ],
             [
              0.7777777777777778,
              "#fb9f3a"
             ],
             [
              0.8888888888888888,
              "#fdca26"
             ],
             [
              1,
              "#f0f921"
             ]
            ],
            "type": "contour"
           }
          ],
          "contourcarpet": [
           {
            "colorbar": {
             "outlinewidth": 0,
             "ticks": ""
            },
            "type": "contourcarpet"
           }
          ],
          "heatmap": [
           {
            "colorbar": {
             "outlinewidth": 0,
             "ticks": ""
            },
            "colorscale": [
             [
              0,
              "#0d0887"
             ],
             [
              0.1111111111111111,
              "#46039f"
             ],
             [
              0.2222222222222222,
              "#7201a8"
             ],
             [
              0.3333333333333333,
              "#9c179e"
             ],
             [
              0.4444444444444444,
              "#bd3786"
             ],
             [
              0.5555555555555556,
              "#d8576b"
             ],
             [
              0.6666666666666666,
              "#ed7953"
             ],
             [
              0.7777777777777778,
              "#fb9f3a"
             ],
             [
              0.8888888888888888,
              "#fdca26"
             ],
             [
              1,
              "#f0f921"
             ]
            ],
            "type": "heatmap"
           }
          ],
          "heatmapgl": [
           {
            "colorbar": {
             "outlinewidth": 0,
             "ticks": ""
            },
            "colorscale": [
             [
              0,
              "#0d0887"
             ],
             [
              0.1111111111111111,
              "#46039f"
             ],
             [
              0.2222222222222222,
              "#7201a8"
             ],
             [
              0.3333333333333333,
              "#9c179e"
             ],
             [
              0.4444444444444444,
              "#bd3786"
             ],
             [
              0.5555555555555556,
              "#d8576b"
             ],
             [
              0.6666666666666666,
              "#ed7953"
             ],
             [
              0.7777777777777778,
              "#fb9f3a"
             ],
             [
              0.8888888888888888,
              "#fdca26"
             ],
             [
              1,
              "#f0f921"
             ]
            ],
            "type": "heatmapgl"
           }
          ],
          "histogram": [
           {
            "marker": {
             "pattern": {
              "fillmode": "overlay",
              "size": 10,
              "solidity": 0.2
             }
            },
            "type": "histogram"
           }
          ],
          "histogram2d": [
           {
            "colorbar": {
             "outlinewidth": 0,
             "ticks": ""
            },
            "colorscale": [
             [
              0,
              "#0d0887"
             ],
             [
              0.1111111111111111,
              "#46039f"
             ],
             [
              0.2222222222222222,
              "#7201a8"
             ],
             [
              0.3333333333333333,
              "#9c179e"
             ],
             [
              0.4444444444444444,
              "#bd3786"
             ],
             [
              0.5555555555555556,
              "#d8576b"
             ],
             [
              0.6666666666666666,
              "#ed7953"
             ],
             [
              0.7777777777777778,
              "#fb9f3a"
             ],
             [
              0.8888888888888888,
              "#fdca26"
             ],
             [
              1,
              "#f0f921"
             ]
            ],
            "type": "histogram2d"
           }
          ],
          "histogram2dcontour": [
           {
            "colorbar": {
             "outlinewidth": 0,
             "ticks": ""
            },
            "colorscale": [
             [
              0,
              "#0d0887"
             ],
             [
              0.1111111111111111,
              "#46039f"
             ],
             [
              0.2222222222222222,
              "#7201a8"
             ],
             [
              0.3333333333333333,
              "#9c179e"
             ],
             [
              0.4444444444444444,
              "#bd3786"
             ],
             [
              0.5555555555555556,
              "#d8576b"
             ],
             [
              0.6666666666666666,
              "#ed7953"
             ],
             [
              0.7777777777777778,
              "#fb9f3a"
             ],
             [
              0.8888888888888888,
              "#fdca26"
             ],
             [
              1,
              "#f0f921"
             ]
            ],
            "type": "histogram2dcontour"
           }
          ],
          "mesh3d": [
           {
            "colorbar": {
             "outlinewidth": 0,
             "ticks": ""
            },
            "type": "mesh3d"
           }
          ],
          "parcoords": [
           {
            "line": {
             "colorbar": {
              "outlinewidth": 0,
              "ticks": ""
             }
            },
            "type": "parcoords"
           }
          ],
          "pie": [
           {
            "automargin": true,
            "type": "pie"
           }
          ],
          "scatter": [
           {
            "fillpattern": {
             "fillmode": "overlay",
             "size": 10,
             "solidity": 0.2
            },
            "type": "scatter"
           }
          ],
          "scatter3d": [
           {
            "line": {
             "colorbar": {
              "outlinewidth": 0,
              "ticks": ""
             }
            },
            "marker": {
             "colorbar": {
              "outlinewidth": 0,
              "ticks": ""
             }
            },
            "type": "scatter3d"
           }
          ],
          "scattercarpet": [
           {
            "marker": {
             "colorbar": {
              "outlinewidth": 0,
              "ticks": ""
             }
            },
            "type": "scattercarpet"
           }
          ],
          "scattergeo": [
           {
            "marker": {
             "colorbar": {
              "outlinewidth": 0,
              "ticks": ""
             }
            },
            "type": "scattergeo"
           }
          ],
          "scattergl": [
           {
            "marker": {
             "colorbar": {
              "outlinewidth": 0,
              "ticks": ""
             }
            },
            "type": "scattergl"
           }
          ],
          "scattermapbox": [
           {
            "marker": {
             "colorbar": {
              "outlinewidth": 0,
              "ticks": ""
             }
            },
            "type": "scattermapbox"
           }
          ],
          "scatterpolar": [
           {
            "marker": {
             "colorbar": {
              "outlinewidth": 0,
              "ticks": ""
             }
            },
            "type": "scatterpolar"
           }
          ],
          "scatterpolargl": [
           {
            "marker": {
             "colorbar": {
              "outlinewidth": 0,
              "ticks": ""
             }
            },
            "type": "scatterpolargl"
           }
          ],
          "scatterternary": [
           {
            "marker": {
             "colorbar": {
              "outlinewidth": 0,
              "ticks": ""
             }
            },
            "type": "scatterternary"
           }
          ],
          "surface": [
           {
            "colorbar": {
             "outlinewidth": 0,
             "ticks": ""
            },
            "colorscale": [
             [
              0,
              "#0d0887"
             ],
             [
              0.1111111111111111,
              "#46039f"
             ],
             [
              0.2222222222222222,
              "#7201a8"
             ],
             [
              0.3333333333333333,
              "#9c179e"
             ],
             [
              0.4444444444444444,
              "#bd3786"
             ],
             [
              0.5555555555555556,
              "#d8576b"
             ],
             [
              0.6666666666666666,
              "#ed7953"
             ],
             [
              0.7777777777777778,
              "#fb9f3a"
             ],
             [
              0.8888888888888888,
              "#fdca26"
             ],
             [
              1,
              "#f0f921"
             ]
            ],
            "type": "surface"
           }
          ],
          "table": [
           {
            "cells": {
             "fill": {
              "color": "#EBF0F8"
             },
             "line": {
              "color": "white"
             }
            },
            "header": {
             "fill": {
              "color": "#C8D4E3"
             },
             "line": {
              "color": "white"
             }
            },
            "type": "table"
           }
          ]
         },
         "layout": {
          "annotationdefaults": {
           "arrowcolor": "#2a3f5f",
           "arrowhead": 0,
           "arrowwidth": 1
          },
          "autotypenumbers": "strict",
          "coloraxis": {
           "colorbar": {
            "outlinewidth": 0,
            "ticks": ""
           }
          },
          "colorscale": {
           "diverging": [
            [
             0,
             "#8e0152"
            ],
            [
             0.1,
             "#c51b7d"
            ],
            [
             0.2,
             "#de77ae"
            ],
            [
             0.3,
             "#f1b6da"
            ],
            [
             0.4,
             "#fde0ef"
            ],
            [
             0.5,
             "#f7f7f7"
            ],
            [
             0.6,
             "#e6f5d0"
            ],
            [
             0.7,
             "#b8e186"
            ],
            [
             0.8,
             "#7fbc41"
            ],
            [
             0.9,
             "#4d9221"
            ],
            [
             1,
             "#276419"
            ]
           ],
           "sequential": [
            [
             0,
             "#0d0887"
            ],
            [
             0.1111111111111111,
             "#46039f"
            ],
            [
             0.2222222222222222,
             "#7201a8"
            ],
            [
             0.3333333333333333,
             "#9c179e"
            ],
            [
             0.4444444444444444,
             "#bd3786"
            ],
            [
             0.5555555555555556,
             "#d8576b"
            ],
            [
             0.6666666666666666,
             "#ed7953"
            ],
            [
             0.7777777777777778,
             "#fb9f3a"
            ],
            [
             0.8888888888888888,
             "#fdca26"
            ],
            [
             1,
             "#f0f921"
            ]
           ],
           "sequentialminus": [
            [
             0,
             "#0d0887"
            ],
            [
             0.1111111111111111,
             "#46039f"
            ],
            [
             0.2222222222222222,
             "#7201a8"
            ],
            [
             0.3333333333333333,
             "#9c179e"
            ],
            [
             0.4444444444444444,
             "#bd3786"
            ],
            [
             0.5555555555555556,
             "#d8576b"
            ],
            [
             0.6666666666666666,
             "#ed7953"
            ],
            [
             0.7777777777777778,
             "#fb9f3a"
            ],
            [
             0.8888888888888888,
             "#fdca26"
            ],
            [
             1,
             "#f0f921"
            ]
           ]
          },
          "colorway": [
           "#636efa",
           "#EF553B",
           "#00cc96",
           "#ab63fa",
           "#FFA15A",
           "#19d3f3",
           "#FF6692",
           "#B6E880",
           "#FF97FF",
           "#FECB52"
          ],
          "font": {
           "color": "#2a3f5f"
          },
          "geo": {
           "bgcolor": "white",
           "lakecolor": "white",
           "landcolor": "white",
           "showlakes": true,
           "showland": true,
           "subunitcolor": "#C8D4E3"
          },
          "hoverlabel": {
           "align": "left"
          },
          "hovermode": "closest",
          "mapbox": {
           "style": "light"
          },
          "paper_bgcolor": "white",
          "plot_bgcolor": "white",
          "polar": {
           "angularaxis": {
            "gridcolor": "#EBF0F8",
            "linecolor": "#EBF0F8",
            "ticks": ""
           },
           "bgcolor": "white",
           "radialaxis": {
            "gridcolor": "#EBF0F8",
            "linecolor": "#EBF0F8",
            "ticks": ""
           }
          },
          "scene": {
           "xaxis": {
            "backgroundcolor": "white",
            "gridcolor": "#DFE8F3",
            "gridwidth": 2,
            "linecolor": "#EBF0F8",
            "showbackground": true,
            "ticks": "",
            "zerolinecolor": "#EBF0F8"
           },
           "yaxis": {
            "backgroundcolor": "white",
            "gridcolor": "#DFE8F3",
            "gridwidth": 2,
            "linecolor": "#EBF0F8",
            "showbackground": true,
            "ticks": "",
            "zerolinecolor": "#EBF0F8"
           },
           "zaxis": {
            "backgroundcolor": "white",
            "gridcolor": "#DFE8F3",
            "gridwidth": 2,
            "linecolor": "#EBF0F8",
            "showbackground": true,
            "ticks": "",
            "zerolinecolor": "#EBF0F8"
           }
          },
          "shapedefaults": {
           "line": {
            "color": "#2a3f5f"
           }
          },
          "ternary": {
           "aaxis": {
            "gridcolor": "#DFE8F3",
            "linecolor": "#A2B1C6",
            "ticks": ""
           },
           "baxis": {
            "gridcolor": "#DFE8F3",
            "linecolor": "#A2B1C6",
            "ticks": ""
           },
           "bgcolor": "white",
           "caxis": {
            "gridcolor": "#DFE8F3",
            "linecolor": "#A2B1C6",
            "ticks": ""
           }
          },
          "title": {
           "x": 0.05
          },
          "xaxis": {
           "automargin": true,
           "gridcolor": "#EBF0F8",
           "linecolor": "#EBF0F8",
           "ticks": "",
           "title": {
            "standoff": 15
           },
           "zerolinecolor": "#EBF0F8",
           "zerolinewidth": 2
          },
          "yaxis": {
           "automargin": true,
           "gridcolor": "#EBF0F8",
           "linecolor": "#EBF0F8",
           "ticks": "",
           "title": {
            "standoff": 15
           },
           "zerolinecolor": "#EBF0F8",
           "zerolinewidth": 2
          }
         }
        },
        "title": {
         "text": "Change to household net income by employment income for a married couple with two children"
        },
        "width": 800,
        "xaxis": {
         "anchor": "y",
         "domain": [
          0,
          1
         ],
         "tickformat": ",.0f",
         "tickprefix": "£",
         "title": {
          "text": "Employment income"
         }
        },
        "yaxis": {
         "anchor": "x",
         "domain": [
          0,
          1
         ],
         "tickformat": ",.0f",
         "tickprefix": "£",
         "title": {
          "text": "Change to net income"
         }
        }
       }
      }
     },
     "metadata": {},
     "output_type": "display_data"
    }
   ],
   "source": [
    "married_diff = pd.DataFrame(\n",
    "    {\n",
    "        \"Net income\": (\n",
    "            reform_married_simulation.calculate(\"household_net_income\", 2024)\n",
    "            - baseline_married_simulation.calculate(\n",
    "                \"household_net_income\", 2024\n",
    "            )\n",
    "        ),\n",
    "        \"Employment income\": reform_married_simulation.calculate(\n",
    "            \"employment_income\", 2024, map_to=\"household\"\n",
    "        ),\n",
    "    }\n",
    ")\n",
    "fig = px.line(\n",
    "    married_diff,\n",
    "    y=\"Net income\",\n",
    "    x=\"Employment income\",\n",
    "    color_discrete_sequence=[BLUE],\n",
    "    title=\"Change to household net income by employment income for a married couple with two children\",\n",
    ").update_layout(\n",
    "    xaxis_title=\"Employment income\",\n",
    "    yaxis_title=\"Change to net income\",\n",
    "    yaxis_tickformat=\",.0f\",\n",
    "    yaxis_tickprefix=\"£\",\n",
    "    xaxis_tickformat=\",.0f\",\n",
    "    xaxis_tickprefix=\"£\",\n",
    ")\n",
    "format_fig(fig)"
   ]
  },
  {
   "cell_type": "markdown",
   "metadata": {},
   "source": [
    "## Conclusion\n",
    "PolicyEngine estimates the cost of the Spring Budget 2023's reforms to National Insurance, the High Income Child Benefit Charge, and the fuel duty at £14.1 billion in 2024. Cumulatively, these reforms will raise the net income of 77.4% of British households, with a disproportionately positive impact upon higher-income households. We also find a small effect on poverty reduction, as well as a 0.5% increase in inequality. For readers interested in generating their own society-wide tax reform simulations or better understanding how these reforms will impact their household in the coming fiscal year, we invite you to use our personalised [PolicyEngine calculator](https://policyengine.org/uk/policy?reform=49773&baseline=1&time_period=2024&region=uk&focus=policyOutput.policyBreakdown&timePeriod=2024), available on desktop and mobile devices."
   ]
  }
 ],
 "metadata": {
  "kernelspec": {
   "display_name": "base",
   "language": "python",
   "name": "python3"
  },
  "language_info": {
   "codemirror_mode": {
    "name": "ipython",
    "version": 3
   },
   "file_extension": ".py",
   "mimetype": "text/x-python",
   "name": "python",
   "nbconvert_exporter": "python",
   "pygments_lexer": "ipython3",
   "version": "3.9.12"
  }
 },
 "nbformat": 4,
 "nbformat_minor": 2
}
