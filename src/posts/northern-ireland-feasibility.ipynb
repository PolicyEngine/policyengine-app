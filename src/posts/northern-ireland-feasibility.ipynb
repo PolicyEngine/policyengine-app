{
 "cells": [
  {
   "cell_type": "markdown",
   "metadata": {
    "tags": [
     "hide-input"
    ]
   },
   "source": [
    "*We thank the UBI Lab Northern Ireland for supporting this project and suggesting the constraints of the policy designs.*\n",
    "\n",
    "## Executive summary\n",
    "\n",
    "This report aims to fill a research gap by exploring the feasibility and potential impacts of implementing a universal basic income (UBI) in Northern Ireland (NI). Despite interest in the concept of UBI—a regular, unconditional payment made to all individuals—there has been limited study on how such a policy could be enacted in NI via tax reforms and other fiscal policies. This analysis employs data-driven methods to estimate the effects on individual households, as well as broader societal metrics such as budget implications, poverty rates, and income inequality.\n",
    "\n",
    "Following [proposals](https://www.ubilabnetwork.org/pledge-for-ubi-in-northern-ireland) by the UBI Lab Northern Ireland, we fill that gap. This paper begins with a description of Northern Ireland's economy, then identifies over 120 UBI policies funded by a combination of tax reform and transfers from the UK government. We then zoom in on three specific policies, covering the space of UBI amounts (£200 to £400 per adult, per month) and tax reforms (lowering the personal allowance and increasing tax rates). As shown below, our static microsimulation model finds that each of the policies lowers poverty and inequality in Northern Ireland, while benefiting a majority of the population.\n"
   ]
  },
  {
   "cell_type": "code",
   "execution_count": 1,
   "metadata": {},
   "outputs": [
    {
     "data": {
      "text/plain": [
       "'{\"data\":[{\"alignmentgroup\":\"True\",\"hovertemplate\":\"Monthly adult UBI=\\\\u00a3200/month<br>Metric=%{x}<br>Value=%{y}<br>Text=%{text}<extra></extra>\",\"legendgroup\":\"\\\\u00a3200/month\",\"marker\":{\"color\":\"#D8E6F3\",\"pattern\":{\"shape\":\"\"}},\"name\":\"\\\\u00a3200/month\",\"offsetgroup\":\"\\\\u00a3200/month\",\"orientation\":\"v\",\"showlegend\":true,\"text\":[\"-9.1%\",\"-36.1%\"],\"textposition\":\"auto\",\"x\":[\"Income inequality (Gini index)\",\"Absolute poverty\"],\"xaxis\":\"x\",\"y\":[-0.091,-0.361],\"yaxis\":\"y\",\"type\":\"bar\"},{\"alignmentgroup\":\"True\",\"hovertemplate\":\"Monthly adult UBI=\\\\u00a3300/month<br>Metric=%{x}<br>Value=%{y}<br>Text=%{text}<extra></extra>\",\"legendgroup\":\"\\\\u00a3300/month\",\"marker\":{\"color\":\"#2C6496\",\"pattern\":{\"shape\":\"\"}},\"name\":\"\\\\u00a3300/month\",\"offsetgroup\":\"\\\\u00a3300/month\",\"orientation\":\"v\",\"showlegend\":true,\"text\":[\"-13.9%\",\"-44.6%\"],\"textposition\":\"auto\",\"x\":[\"Income inequality (Gini index)\",\"Absolute poverty\"],\"xaxis\":\"x\",\"y\":[-0.139,-0.446],\"yaxis\":\"y\",\"type\":\"bar\"},{\"alignmentgroup\":\"True\",\"hovertemplate\":\"Monthly adult UBI=\\\\u00a3400/month<br>Metric=%{x}<br>Value=%{y}<br>Text=%{text}<extra></extra>\",\"legendgroup\":\"\\\\u00a3400/month\",\"marker\":{\"color\":\"#17354F\",\"pattern\":{\"shape\":\"\"}},\"name\":\"\\\\u00a3400/month\",\"offsetgroup\":\"\\\\u00a3400/month\",\"orientation\":\"v\",\"showlegend\":true,\"text\":[\"-17.7%\",\"-59.4%\"],\"textposition\":\"auto\",\"x\":[\"Income inequality (Gini index)\",\"Absolute poverty\"],\"xaxis\":\"x\",\"y\":[-0.177,-0.594],\"yaxis\":\"y\",\"type\":\"bar\"}],\"layout\":{\"template\":{\"data\":{\"barpolar\":[{\"marker\":{\"line\":{\"color\":\"white\",\"width\":0.5},\"pattern\":{\"fillmode\":\"overlay\",\"size\":10,\"solidity\":0.2}},\"type\":\"barpolar\"}],\"bar\":[{\"error_x\":{\"color\":\"#2a3f5f\"},\"error_y\":{\"color\":\"#2a3f5f\"},\"marker\":{\"line\":{\"color\":\"white\",\"width\":0.5},\"pattern\":{\"fillmode\":\"overlay\",\"size\":10,\"solidity\":0.2}},\"type\":\"bar\"}],\"carpet\":[{\"aaxis\":{\"endlinecolor\":\"#2a3f5f\",\"gridcolor\":\"#C8D4E3\",\"linecolor\":\"#C8D4E3\",\"minorgridcolor\":\"#C8D4E3\",\"startlinecolor\":\"#2a3f5f\"},\"baxis\":{\"endlinecolor\":\"#2a3f5f\",\"gridcolor\":\"#C8D4E3\",\"linecolor\":\"#C8D4E3\",\"minorgridcolor\":\"#C8D4E3\",\"startlinecolor\":\"#2a3f5f\"},\"type\":\"carpet\"}],\"choropleth\":[{\"colorbar\":{\"outlinewidth\":0,\"ticks\":\"\"},\"type\":\"choropleth\"}],\"contourcarpet\":[{\"colorbar\":{\"outlinewidth\":0,\"ticks\":\"\"},\"type\":\"contourcarpet\"}],\"contour\":[{\"colorbar\":{\"outlinewidth\":0,\"ticks\":\"\"},\"colorscale\":[[0.0,\"#0d0887\"],[0.1111111111111111,\"#46039f\"],[0.2222222222222222,\"#7201a8\"],[0.3333333333333333,\"#9c179e\"],[0.4444444444444444,\"#bd3786\"],[0.5555555555555556,\"#d8576b\"],[0.6666666666666666,\"#ed7953\"],[0.7777777777777778,\"#fb9f3a\"],[0.8888888888888888,\"#fdca26\"],[1.0,\"#f0f921\"]],\"type\":\"contour\"}],\"heatmapgl\":[{\"colorbar\":{\"outlinewidth\":0,\"ticks\":\"\"},\"colorscale\":[[0.0,\"#0d0887\"],[0.1111111111111111,\"#46039f\"],[0.2222222222222222,\"#7201a8\"],[0.3333333333333333,\"#9c179e\"],[0.4444444444444444,\"#bd3786\"],[0.5555555555555556,\"#d8576b\"],[0.6666666666666666,\"#ed7953\"],[0.7777777777777778,\"#fb9f3a\"],[0.8888888888888888,\"#fdca26\"],[1.0,\"#f0f921\"]],\"type\":\"heatmapgl\"}],\"heatmap\":[{\"colorbar\":{\"outlinewidth\":0,\"ticks\":\"\"},\"colorscale\":[[0.0,\"#0d0887\"],[0.1111111111111111,\"#46039f\"],[0.2222222222222222,\"#7201a8\"],[0.3333333333333333,\"#9c179e\"],[0.4444444444444444,\"#bd3786\"],[0.5555555555555556,\"#d8576b\"],[0.6666666666666666,\"#ed7953\"],[0.7777777777777778,\"#fb9f3a\"],[0.8888888888888888,\"#fdca26\"],[1.0,\"#f0f921\"]],\"type\":\"heatmap\"}],\"histogram2dcontour\":[{\"colorbar\":{\"outlinewidth\":0,\"ticks\":\"\"},\"colorscale\":[[0.0,\"#0d0887\"],[0.1111111111111111,\"#46039f\"],[0.2222222222222222,\"#7201a8\"],[0.3333333333333333,\"#9c179e\"],[0.4444444444444444,\"#bd3786\"],[0.5555555555555556,\"#d8576b\"],[0.6666666666666666,\"#ed7953\"],[0.7777777777777778,\"#fb9f3a\"],[0.8888888888888888,\"#fdca26\"],[1.0,\"#f0f921\"]],\"type\":\"histogram2dcontour\"}],\"histogram2d\":[{\"colorbar\":{\"outlinewidth\":0,\"ticks\":\"\"},\"colorscale\":[[0.0,\"#0d0887\"],[0.1111111111111111,\"#46039f\"],[0.2222222222222222,\"#7201a8\"],[0.3333333333333333,\"#9c179e\"],[0.4444444444444444,\"#bd3786\"],[0.5555555555555556,\"#d8576b\"],[0.6666666666666666,\"#ed7953\"],[0.7777777777777778,\"#fb9f3a\"],[0.8888888888888888,\"#fdca26\"],[1.0,\"#f0f921\"]],\"type\":\"histogram2d\"}],\"histogram\":[{\"marker\":{\"pattern\":{\"fillmode\":\"overlay\",\"size\":10,\"solidity\":0.2}},\"type\":\"histogram\"}],\"mesh3d\":[{\"colorbar\":{\"outlinewidth\":0,\"ticks\":\"\"},\"type\":\"mesh3d\"}],\"parcoords\":[{\"line\":{\"colorbar\":{\"outlinewidth\":0,\"ticks\":\"\"}},\"type\":\"parcoords\"}],\"pie\":[{\"automargin\":true,\"type\":\"pie\"}],\"scatter3d\":[{\"line\":{\"colorbar\":{\"outlinewidth\":0,\"ticks\":\"\"}},\"marker\":{\"colorbar\":{\"outlinewidth\":0,\"ticks\":\"\"}},\"type\":\"scatter3d\"}],\"scattercarpet\":[{\"marker\":{\"colorbar\":{\"outlinewidth\":0,\"ticks\":\"\"}},\"type\":\"scattercarpet\"}],\"scattergeo\":[{\"marker\":{\"colorbar\":{\"outlinewidth\":0,\"ticks\":\"\"}},\"type\":\"scattergeo\"}],\"scattergl\":[{\"marker\":{\"colorbar\":{\"outlinewidth\":0,\"ticks\":\"\"}},\"type\":\"scattergl\"}],\"scattermapbox\":[{\"marker\":{\"colorbar\":{\"outlinewidth\":0,\"ticks\":\"\"}},\"type\":\"scattermapbox\"}],\"scatterpolargl\":[{\"marker\":{\"colorbar\":{\"outlinewidth\":0,\"ticks\":\"\"}},\"type\":\"scatterpolargl\"}],\"scatterpolar\":[{\"marker\":{\"colorbar\":{\"outlinewidth\":0,\"ticks\":\"\"}},\"type\":\"scatterpolar\"}],\"scatter\":[{\"fillpattern\":{\"fillmode\":\"overlay\",\"size\":10,\"solidity\":0.2},\"type\":\"scatter\"}],\"scatterternary\":[{\"marker\":{\"colorbar\":{\"outlinewidth\":0,\"ticks\":\"\"}},\"type\":\"scatterternary\"}],\"surface\":[{\"colorbar\":{\"outlinewidth\":0,\"ticks\":\"\"},\"colorscale\":[[0.0,\"#0d0887\"],[0.1111111111111111,\"#46039f\"],[0.2222222222222222,\"#7201a8\"],[0.3333333333333333,\"#9c179e\"],[0.4444444444444444,\"#bd3786\"],[0.5555555555555556,\"#d8576b\"],[0.6666666666666666,\"#ed7953\"],[0.7777777777777778,\"#fb9f3a\"],[0.8888888888888888,\"#fdca26\"],[1.0,\"#f0f921\"]],\"type\":\"surface\"}],\"table\":[{\"cells\":{\"fill\":{\"color\":\"#EBF0F8\"},\"line\":{\"color\":\"white\"}},\"header\":{\"fill\":{\"color\":\"#C8D4E3\"},\"line\":{\"color\":\"white\"}},\"type\":\"table\"}]},\"layout\":{\"annotationdefaults\":{\"arrowcolor\":\"#2a3f5f\",\"arrowhead\":0,\"arrowwidth\":1},\"autotypenumbers\":\"strict\",\"coloraxis\":{\"colorbar\":{\"outlinewidth\":0,\"ticks\":\"\"}},\"colorscale\":{\"diverging\":[[0,\"#8e0152\"],[0.1,\"#c51b7d\"],[0.2,\"#de77ae\"],[0.3,\"#f1b6da\"],[0.4,\"#fde0ef\"],[0.5,\"#f7f7f7\"],[0.6,\"#e6f5d0\"],[0.7,\"#b8e186\"],[0.8,\"#7fbc41\"],[0.9,\"#4d9221\"],[1,\"#276419\"]],\"sequential\":[[0.0,\"#0d0887\"],[0.1111111111111111,\"#46039f\"],[0.2222222222222222,\"#7201a8\"],[0.3333333333333333,\"#9c179e\"],[0.4444444444444444,\"#bd3786\"],[0.5555555555555556,\"#d8576b\"],[0.6666666666666666,\"#ed7953\"],[0.7777777777777778,\"#fb9f3a\"],[0.8888888888888888,\"#fdca26\"],[1.0,\"#f0f921\"]],\"sequentialminus\":[[0.0,\"#0d0887\"],[0.1111111111111111,\"#46039f\"],[0.2222222222222222,\"#7201a8\"],[0.3333333333333333,\"#9c179e\"],[0.4444444444444444,\"#bd3786\"],[0.5555555555555556,\"#d8576b\"],[0.6666666666666666,\"#ed7953\"],[0.7777777777777778,\"#fb9f3a\"],[0.8888888888888888,\"#fdca26\"],[1.0,\"#f0f921\"]]},\"colorway\":[\"#636efa\",\"#EF553B\",\"#00cc96\",\"#ab63fa\",\"#FFA15A\",\"#19d3f3\",\"#FF6692\",\"#B6E880\",\"#FF97FF\",\"#FECB52\"],\"font\":{\"color\":\"#2a3f5f\"},\"geo\":{\"bgcolor\":\"white\",\"lakecolor\":\"white\",\"landcolor\":\"white\",\"showlakes\":true,\"showland\":true,\"subunitcolor\":\"#C8D4E3\"},\"hoverlabel\":{\"align\":\"left\"},\"hovermode\":\"closest\",\"mapbox\":{\"style\":\"light\"},\"paper_bgcolor\":\"white\",\"plot_bgcolor\":\"white\",\"polar\":{\"angularaxis\":{\"gridcolor\":\"#EBF0F8\",\"linecolor\":\"#EBF0F8\",\"ticks\":\"\"},\"bgcolor\":\"white\",\"radialaxis\":{\"gridcolor\":\"#EBF0F8\",\"linecolor\":\"#EBF0F8\",\"ticks\":\"\"}},\"scene\":{\"xaxis\":{\"backgroundcolor\":\"white\",\"gridcolor\":\"#DFE8F3\",\"gridwidth\":2,\"linecolor\":\"#EBF0F8\",\"showbackground\":true,\"ticks\":\"\",\"zerolinecolor\":\"#EBF0F8\"},\"yaxis\":{\"backgroundcolor\":\"white\",\"gridcolor\":\"#DFE8F3\",\"gridwidth\":2,\"linecolor\":\"#EBF0F8\",\"showbackground\":true,\"ticks\":\"\",\"zerolinecolor\":\"#EBF0F8\"},\"zaxis\":{\"backgroundcolor\":\"white\",\"gridcolor\":\"#DFE8F3\",\"gridwidth\":2,\"linecolor\":\"#EBF0F8\",\"showbackground\":true,\"ticks\":\"\",\"zerolinecolor\":\"#EBF0F8\"}},\"shapedefaults\":{\"line\":{\"color\":\"#2a3f5f\"}},\"ternary\":{\"aaxis\":{\"gridcolor\":\"#DFE8F3\",\"linecolor\":\"#A2B1C6\",\"ticks\":\"\"},\"baxis\":{\"gridcolor\":\"#DFE8F3\",\"linecolor\":\"#A2B1C6\",\"ticks\":\"\"},\"bgcolor\":\"white\",\"caxis\":{\"gridcolor\":\"#DFE8F3\",\"linecolor\":\"#A2B1C6\",\"ticks\":\"\"}},\"title\":{\"x\":0.05},\"xaxis\":{\"automargin\":true,\"gridcolor\":\"#EBF0F8\",\"linecolor\":\"#EBF0F8\",\"ticks\":\"\",\"title\":{\"standoff\":15},\"zerolinecolor\":\"#EBF0F8\",\"zerolinewidth\":2},\"yaxis\":{\"automargin\":true,\"gridcolor\":\"#EBF0F8\",\"linecolor\":\"#EBF0F8\",\"ticks\":\"\",\"title\":{\"standoff\":15},\"zerolinecolor\":\"#EBF0F8\",\"zerolinewidth\":2}}},\"xaxis\":{\"anchor\":\"y\",\"domain\":[0.0,1.0],\"title\":{\"text\":\"Metric\"}},\"yaxis\":{\"anchor\":\"x\",\"domain\":[0.0,1.0],\"title\":{\"text\":\"Relative change\"},\"tickformat\":\".0%\"},\"legend\":{\"title\":{\"text\":\"Monthly adult UBI\"},\"tracegroupgap\":0},\"margin\":{\"t\":60},\"barmode\":\"group\",\"font\":{\"family\":\"Roboto Serif\",\"color\":\"black\"},\"images\":[{\"sizex\":0.2,\"sizey\":0.2,\"source\":\"https://raw.githubusercontent.com/PolicyEngine/policyengine-app/master/src/images/logos/policyengine/blue.png\",\"x\":1,\"xanchor\":\"right\",\"xref\":\"paper\",\"y\":-0.15,\"yanchor\":\"bottom\",\"yref\":\"paper\"}],\"height\":600,\"width\":800,\"modebar\":{\"bgcolor\":\"rgba(0,0,0,0)\",\"color\":\"rgba(0,0,0,0)\"}}}'"
      ]
     },
     "execution_count": 1,
     "metadata": {},
     "output_type": "execute_result"
    }
   ],
   "source": [
    "import plotly.express as px\n",
    "import pandas as pd\n",
    "from policyengine_core.charts import *\n",
    "\n",
    "df = pd.DataFrame({\n",
    "    \"Metric\": [\"Income inequality (Gini index)\", \"Absolute poverty\"],\n",
    "    \"£200/month\": [-9.1, -36.1],\n",
    "    \"£300/month\": [-13.9, -44.6],\n",
    "    \"£400/month\": [-17.7, -59.4],\n",
    "})\n",
    "\n",
    "# Convert wide to long\n",
    "df = pd.melt(df, id_vars=[\"Metric\"], value_vars=[\"£200/month\", \"£300/month\", \"£400/month\"]).rename(columns={\n",
    "    \"variable\": \"Monthly adult UBI\",\n",
    "    \"value\": \"Value\"\n",
    "})\n",
    "df[\"Value\"] /= 100\n",
    "\n",
    "df[\"Text\"] = df[\"Value\"].apply(lambda x: f\"{x:+.1%}\")\n",
    "\n",
    "fig = px.bar(\n",
    "    df,\n",
    "    x=\"Metric\",\n",
    "    y=\"Value\",\n",
    "    color=\"Monthly adult UBI\",\n",
    "    barmode=\"group\",\n",
    "    text=\"Text\",\n",
    "    color_discrete_sequence=BLUE_COLOUR_SCALE,\n",
    ").update_layout(\n",
    "    yaxis_tickformat=\".0%\",\n",
    "    yaxis_title=\"Relative change\",\n",
    ")\n",
    "\n",
    "format_fig(fig).to_json()"
   ]
  },
  {
   "cell_type": "markdown",
   "metadata": {},
   "source": [
    "\n",
    "We follow our population-level analysis with a household analysis, visualising how each of these three policies would affect the net income and work incentives of archetypical households. While each policy benefits low-income households and families with children, it leaves childless singles worse off when their income exceeds about £10,000. It also lowers the payoff to working for most workers, though it also lowers some of the higher marginal tax rates present in the current system.\n",
    "\n",
    "We conclude with caveats of our analysis and room for more research.\n",
    "\n",
    "\n",
    "## Northern Ireland today\n",
    "\n",
    "Compared to other UK nations, Northern Ireland (NI) has lower economic output and higher levels of social security spending. NI has a GDP per capita roughly 20% below the UK average,[^1] and the population of 1.9 million generates around £2.8 billion in Income Tax liabilities.[^2] Higher levels of public spending (with a net fiscal deficit of £9,500 per capita)[^3] in NI increase disposable incomes to partially offset this. As a result, we estimate that 11.9% of NI is in absolute poverty before housing costs, compared to 11.3% across the UK.[^4] We also find that NI incomes are more equal, with a Gini index of 0.272 against the UK's 0.305.\n",
    "\n",
    "Many of Northern Ireland’s taxes and benefits operate under centralised UK rules, though exceptions to this include local property taxes such as domestic rates (and rates rebates), which replace Council Tax and Council Tax Benefit, respectively. Unlike Scotland, Northern Ireland does not set alternative tax rates for Income Tax.\n",
    "\n",
    "When it comes to basic income, Northern Ireland is broadly supportive, according to a 2017 poll by Ipsos MORI finding that 66% of Northern Irish people favoured a basic income, compared to 49% of UK residents.5 Northern Ireland's net favourability of +55 was more than double that of any other region surveyed.[^5]\n",
    "\n",
    "\n",
    "[^1]: [Northern Ireland Statistics Research Agency, 2020](https://www.nisra.gov.uk/statistics/economic-output-statistics/gross-value-added-and-gross-domestic-product#:~:text=In%20terms%20of%20GDP%20per,78.6%20per%20cent%20of%20UK).\n",
    "[^2]: [HMRC, 2019](https://assets.publishing.service.gov.uk/government/uploads/system/uploads/attachment_data/file/853118/Disaggregated_tax_and_NICs_receipts_-_methodological_note.pdf).\n",
    "[^3]: [ONS, 2021](https://www.ons.gov.uk/economy/governmentpublicsectorandtaxes/publicsectorfinance/articles/countryandregionalpublicsectorfinances/financialyearending2021#:~:text=On%20a%20per%20person%20basis,per%20head%20was%20%C2%A34%2C740).\n",
    "[^4]: Throughout this paper, we report absolute poverty rates before housing costs, using the PolicyEngine UK calibrated Family Resources Survey extrapolated to 2023.\n",
    "[^5]: This is the only poll to ask about basic income for Northern Ireland and the UK, per the [UBI Center's Poll Tracker](polls.ubicenter.org)."
   ]
  },
  {
   "cell_type": "code",
   "execution_count": 1,
   "metadata": {},
   "outputs": [
    {
     "data": {
      "text/plain": [
       "'{\"data\":[{\"alignmentgroup\":\"True\",\"customdata\":[[\"25% of people in Northern Ireland strongly support a UBI\"],[\"23% of people in Scotland strongly support a UBI\"],[\"16% of people in London strongly support a UBI\"],[\"16% of people in Wales strongly support a UBI\"],[\"15% of people in Midlands strongly support a UBI\"],[\"14% of people in North strongly support a UBI\"],[\"14% of people in England strongly support a UBI\"],[\"12% of people in South strongly support a UBI\"]],\"hovertemplate\":\"%{customdata[0]}\",\"legendgroup\":\"Strongly support\",\"marker\":{\"color\":\"#2C6496\",\"pattern\":{\"shape\":\"\"}},\"name\":\"Strongly support\",\"offsetgroup\":\"Strongly support\",\"orientation\":\"h\",\"showlegend\":true,\"text\":[\"25%\",\"23%\",\"16%\",\"16%\",\"15%\",\"14%\",\"14%\",\"12%\"],\"textposition\":\"inside\",\"x\":[25.2525252525,22.772277227700002,16.0,16.0,14.7058823529,14.0,14.0,12.1212121212],\"xaxis\":\"x\",\"y\":[\"Northern Ireland\",\"Scotland\",\"London\",\"Wales\",\"Midlands\",\"North\",\"England\",\"South\"],\"yaxis\":\"y\",\"type\":\"bar\",\"texttemplate\":\"%{text}\"},{\"alignmentgroup\":\"True\",\"customdata\":[[\"41% of people in Northern Ireland tend to support a UBI\"],[\"37% of people in South tend to support a UBI\"],[\"35% of people in North tend to support a UBI\"],[\"34% of people in England tend to support a UBI\"],[\"32% of people in Midlands tend to support a UBI\"],[\"31% of people in London tend to support a UBI\"],[\"31% of people in Wales tend to support a UBI\"],[\"24% of people in Scotland tend to support a UBI\"]],\"hovertemplate\":\"%{customdata[0]}\",\"legendgroup\":\"Tend to support\",\"marker\":{\"color\":\"#D8E6F3\",\"pattern\":{\"shape\":\"\"}},\"name\":\"Tend to support\",\"offsetgroup\":\"Tend to support\",\"orientation\":\"h\",\"showlegend\":true,\"text\":[\"41%\",\"37%\",\"35%\",\"34%\",\"32%\",\"31%\",\"31%\",\"24%\"],\"textposition\":\"inside\",\"x\":[41.4141414141,37.3737373737,35.0,34.0,32.3529411765,31.0,31.0,23.7623762376],\"xaxis\":\"x\",\"y\":[\"Northern Ireland\",\"South\",\"North\",\"England\",\"Midlands\",\"London\",\"Wales\",\"Scotland\"],\"yaxis\":\"y\",\"type\":\"bar\",\"texttemplate\":\"%{text}\"},{\"alignmentgroup\":\"True\",\"customdata\":[[\"29% of people in Wales neither support nor oppose a UBI\"],[\"20% of people in South neither support nor oppose a UBI\"],[\"20% of people in London neither support nor oppose a UBI\"],[\"19% of people in North neither support nor oppose a UBI\"],[\"19% of people in England neither support nor oppose a UBI\"],[\"18% of people in Midlands neither support nor oppose a UBI\"],[\"17% of people in Scotland neither support nor oppose a UBI\"],[\"17% of people in Northern Ireland neither support nor oppose a UBI\"]],\"hovertemplate\":\"%{customdata[0]}\",\"legendgroup\":\"Neither support nor oppose\",\"marker\":{\"color\":\"#FFFFFF\",\"pattern\":{\"shape\":\"\"}},\"name\":\"Neither support nor oppose\",\"offsetgroup\":\"Neither support nor oppose\",\"orientation\":\"h\",\"showlegend\":true,\"text\":[\"29%\",\"20%\",\"20%\",\"19%\",\"19%\",\"18%\",\"17%\",\"17%\"],\"textposition\":\"inside\",\"x\":[29.0,20.202020202,20.0,19.0,19.0,17.6470588235,16.8316831683,17.1717171717],\"xaxis\":\"x\",\"y\":[\"Wales\",\"South\",\"London\",\"North\",\"England\",\"Midlands\",\"Scotland\",\"Northern Ireland\"],\"yaxis\":\"y\",\"type\":\"bar\",\"texttemplate\":\"%{text}\"},{\"alignmentgroup\":\"True\",\"customdata\":[[\"10% of people in London don\\'t know a UBI\"],[\"7% of people in North don\\'t know a UBI\"],[\"7% of people in Midlands don\\'t know a UBI\"],[\"7% of people in England don\\'t know a UBI\"],[\"5% of people in South don\\'t know a UBI\"],[\"5% of people in Scotland don\\'t know a UBI\"],[\"5% of people in Northern Ireland don\\'t know a UBI\"],[\"4% of people in Wales don\\'t know a UBI\"]],\"hovertemplate\":\"%{customdata[0]}\",\"legendgroup\":\"Don\\'t know\",\"marker\":{\"color\":\"#F2F2F2\",\"pattern\":{\"shape\":\"\"}},\"name\":\"Don\\'t know\",\"offsetgroup\":\"Don\\'t know\",\"orientation\":\"h\",\"showlegend\":true,\"text\":[\"10%\",\"7%\",\"7%\",\"7%\",\"5%\",\"5%\",\"5%\",\"4%\"],\"textposition\":\"inside\",\"x\":[10.0,7.0,6.862745098,7.0,5.0505050505,4.9504950495,5.0505050505,4.0],\"xaxis\":\"x\",\"y\":[\"London\",\"North\",\"Midlands\",\"England\",\"South\",\"Scotland\",\"Northern Ireland\",\"Wales\"],\"yaxis\":\"y\",\"type\":\"bar\",\"texttemplate\":\"%{text}\"},{\"alignmentgroup\":\"True\",\"customdata\":[[\"20% of people in Scotland tend to oppose a UBI\"],[\"18% of people in Midlands tend to oppose a UBI\"],[\"17% of people in England tend to oppose a UBI\"],[\"16% of people in North tend to oppose a UBI\"],[\"16% of people in South tend to oppose a UBI\"],[\"16% of people in London tend to oppose a UBI\"],[\"12% of people in Wales tend to oppose a UBI\"],[\"8% of people in Northern Ireland tend to oppose a UBI\"]],\"hovertemplate\":\"%{customdata[0]}\",\"legendgroup\":\"Tend to oppose\",\"marker\":{\"color\":\"#808080\",\"pattern\":{\"shape\":\"\"}},\"name\":\"Tend to oppose\",\"offsetgroup\":\"Tend to oppose\",\"orientation\":\"h\",\"showlegend\":true,\"text\":[\"20%\",\"18%\",\"17%\",\"16%\",\"16%\",\"16%\",\"12%\",\"8%\"],\"textposition\":\"inside\",\"x\":[19.801980198,17.6470588235,17.0,16.0,16.1616161616,16.0,12.0,8.0808080808],\"xaxis\":\"x\",\"y\":[\"Scotland\",\"Midlands\",\"England\",\"North\",\"South\",\"London\",\"Wales\",\"Northern Ireland\"],\"yaxis\":\"y\",\"type\":\"bar\",\"texttemplate\":\"%{text}\"},{\"alignmentgroup\":\"True\",\"customdata\":[[\"12% of people in Scotland strongly oppose a UBI\"],[\"11% of people in Midlands strongly oppose a UBI\"],[\"9% of people in North strongly oppose a UBI\"],[\"9% of people in South strongly oppose a UBI\"],[\"9% of people in England strongly oppose a UBI\"],[\"8% of people in Wales strongly oppose a UBI\"],[\"7% of people in London strongly oppose a UBI\"],[\"3% of people in Northern Ireland strongly oppose a UBI\"]],\"hovertemplate\":\"%{customdata[0]}\",\"legendgroup\":\"Strongly oppose\",\"marker\":{\"color\":\"#616161\",\"pattern\":{\"shape\":\"\"}},\"name\":\"Strongly oppose\",\"offsetgroup\":\"Strongly oppose\",\"orientation\":\"h\",\"showlegend\":true,\"text\":[\"12%\",\"11%\",\"9%\",\"9%\",\"9%\",\"8%\",\"7%\",\"3%\"],\"textposition\":\"inside\",\"x\":[11.8811881188,10.7843137255,9.0,9.0909090909,9.0,8.0,7.0,3.0303030303],\"xaxis\":\"x\",\"y\":[\"Scotland\",\"Midlands\",\"North\",\"South\",\"England\",\"Wales\",\"London\",\"Northern Ireland\"],\"yaxis\":\"y\",\"type\":\"bar\",\"texttemplate\":\"%{text}\"}],\"layout\":{\"template\":{\"data\":{\"barpolar\":[{\"marker\":{\"line\":{\"color\":\"white\",\"width\":0.5},\"pattern\":{\"fillmode\":\"overlay\",\"size\":10,\"solidity\":0.2}},\"type\":\"barpolar\"}],\"bar\":[{\"error_x\":{\"color\":\"#2a3f5f\"},\"error_y\":{\"color\":\"#2a3f5f\"},\"marker\":{\"line\":{\"color\":\"white\",\"width\":0.5},\"pattern\":{\"fillmode\":\"overlay\",\"size\":10,\"solidity\":0.2}},\"type\":\"bar\"}],\"carpet\":[{\"aaxis\":{\"endlinecolor\":\"#2a3f5f\",\"gridcolor\":\"#C8D4E3\",\"linecolor\":\"#C8D4E3\",\"minorgridcolor\":\"#C8D4E3\",\"startlinecolor\":\"#2a3f5f\"},\"baxis\":{\"endlinecolor\":\"#2a3f5f\",\"gridcolor\":\"#C8D4E3\",\"linecolor\":\"#C8D4E3\",\"minorgridcolor\":\"#C8D4E3\",\"startlinecolor\":\"#2a3f5f\"},\"type\":\"carpet\"}],\"choropleth\":[{\"colorbar\":{\"outlinewidth\":0,\"ticks\":\"\"},\"type\":\"choropleth\"}],\"contourcarpet\":[{\"colorbar\":{\"outlinewidth\":0,\"ticks\":\"\"},\"type\":\"contourcarpet\"}],\"contour\":[{\"colorbar\":{\"outlinewidth\":0,\"ticks\":\"\"},\"colorscale\":[[0.0,\"#0d0887\"],[0.1111111111111111,\"#46039f\"],[0.2222222222222222,\"#7201a8\"],[0.3333333333333333,\"#9c179e\"],[0.4444444444444444,\"#bd3786\"],[0.5555555555555556,\"#d8576b\"],[0.6666666666666666,\"#ed7953\"],[0.7777777777777778,\"#fb9f3a\"],[0.8888888888888888,\"#fdca26\"],[1.0,\"#f0f921\"]],\"type\":\"contour\"}],\"heatmapgl\":[{\"colorbar\":{\"outlinewidth\":0,\"ticks\":\"\"},\"colorscale\":[[0.0,\"#0d0887\"],[0.1111111111111111,\"#46039f\"],[0.2222222222222222,\"#7201a8\"],[0.3333333333333333,\"#9c179e\"],[0.4444444444444444,\"#bd3786\"],[0.5555555555555556,\"#d8576b\"],[0.6666666666666666,\"#ed7953\"],[0.7777777777777778,\"#fb9f3a\"],[0.8888888888888888,\"#fdca26\"],[1.0,\"#f0f921\"]],\"type\":\"heatmapgl\"}],\"heatmap\":[{\"colorbar\":{\"outlinewidth\":0,\"ticks\":\"\"},\"colorscale\":[[0.0,\"#0d0887\"],[0.1111111111111111,\"#46039f\"],[0.2222222222222222,\"#7201a8\"],[0.3333333333333333,\"#9c179e\"],[0.4444444444444444,\"#bd3786\"],[0.5555555555555556,\"#d8576b\"],[0.6666666666666666,\"#ed7953\"],[0.7777777777777778,\"#fb9f3a\"],[0.8888888888888888,\"#fdca26\"],[1.0,\"#f0f921\"]],\"type\":\"heatmap\"}],\"histogram2dcontour\":[{\"colorbar\":{\"outlinewidth\":0,\"ticks\":\"\"},\"colorscale\":[[0.0,\"#0d0887\"],[0.1111111111111111,\"#46039f\"],[0.2222222222222222,\"#7201a8\"],[0.3333333333333333,\"#9c179e\"],[0.4444444444444444,\"#bd3786\"],[0.5555555555555556,\"#d8576b\"],[0.6666666666666666,\"#ed7953\"],[0.7777777777777778,\"#fb9f3a\"],[0.8888888888888888,\"#fdca26\"],[1.0,\"#f0f921\"]],\"type\":\"histogram2dcontour\"}],\"histogram2d\":[{\"colorbar\":{\"outlinewidth\":0,\"ticks\":\"\"},\"colorscale\":[[0.0,\"#0d0887\"],[0.1111111111111111,\"#46039f\"],[0.2222222222222222,\"#7201a8\"],[0.3333333333333333,\"#9c179e\"],[0.4444444444444444,\"#bd3786\"],[0.5555555555555556,\"#d8576b\"],[0.6666666666666666,\"#ed7953\"],[0.7777777777777778,\"#fb9f3a\"],[0.8888888888888888,\"#fdca26\"],[1.0,\"#f0f921\"]],\"type\":\"histogram2d\"}],\"histogram\":[{\"marker\":{\"pattern\":{\"fillmode\":\"overlay\",\"size\":10,\"solidity\":0.2}},\"type\":\"histogram\"}],\"mesh3d\":[{\"colorbar\":{\"outlinewidth\":0,\"ticks\":\"\"},\"type\":\"mesh3d\"}],\"parcoords\":[{\"line\":{\"colorbar\":{\"outlinewidth\":0,\"ticks\":\"\"}},\"type\":\"parcoords\"}],\"pie\":[{\"automargin\":true,\"type\":\"pie\"}],\"scatter3d\":[{\"line\":{\"colorbar\":{\"outlinewidth\":0,\"ticks\":\"\"}},\"marker\":{\"colorbar\":{\"outlinewidth\":0,\"ticks\":\"\"}},\"type\":\"scatter3d\"}],\"scattercarpet\":[{\"marker\":{\"colorbar\":{\"outlinewidth\":0,\"ticks\":\"\"}},\"type\":\"scattercarpet\"}],\"scattergeo\":[{\"marker\":{\"colorbar\":{\"outlinewidth\":0,\"ticks\":\"\"}},\"type\":\"scattergeo\"}],\"scattergl\":[{\"marker\":{\"colorbar\":{\"outlinewidth\":0,\"ticks\":\"\"}},\"type\":\"scattergl\"}],\"scattermapbox\":[{\"marker\":{\"colorbar\":{\"outlinewidth\":0,\"ticks\":\"\"}},\"type\":\"scattermapbox\"}],\"scatterpolargl\":[{\"marker\":{\"colorbar\":{\"outlinewidth\":0,\"ticks\":\"\"}},\"type\":\"scatterpolargl\"}],\"scatterpolar\":[{\"marker\":{\"colorbar\":{\"outlinewidth\":0,\"ticks\":\"\"}},\"type\":\"scatterpolar\"}],\"scatter\":[{\"fillpattern\":{\"fillmode\":\"overlay\",\"size\":10,\"solidity\":0.2},\"type\":\"scatter\"}],\"scatterternary\":[{\"marker\":{\"colorbar\":{\"outlinewidth\":0,\"ticks\":\"\"}},\"type\":\"scatterternary\"}],\"surface\":[{\"colorbar\":{\"outlinewidth\":0,\"ticks\":\"\"},\"colorscale\":[[0.0,\"#0d0887\"],[0.1111111111111111,\"#46039f\"],[0.2222222222222222,\"#7201a8\"],[0.3333333333333333,\"#9c179e\"],[0.4444444444444444,\"#bd3786\"],[0.5555555555555556,\"#d8576b\"],[0.6666666666666666,\"#ed7953\"],[0.7777777777777778,\"#fb9f3a\"],[0.8888888888888888,\"#fdca26\"],[1.0,\"#f0f921\"]],\"type\":\"surface\"}],\"table\":[{\"cells\":{\"fill\":{\"color\":\"#EBF0F8\"},\"line\":{\"color\":\"white\"}},\"header\":{\"fill\":{\"color\":\"#C8D4E3\"},\"line\":{\"color\":\"white\"}},\"type\":\"table\"}]},\"layout\":{\"annotationdefaults\":{\"arrowcolor\":\"#2a3f5f\",\"arrowhead\":0,\"arrowwidth\":1},\"autotypenumbers\":\"strict\",\"coloraxis\":{\"colorbar\":{\"outlinewidth\":0,\"ticks\":\"\"}},\"colorscale\":{\"diverging\":[[0,\"#8e0152\"],[0.1,\"#c51b7d\"],[0.2,\"#de77ae\"],[0.3,\"#f1b6da\"],[0.4,\"#fde0ef\"],[0.5,\"#f7f7f7\"],[0.6,\"#e6f5d0\"],[0.7,\"#b8e186\"],[0.8,\"#7fbc41\"],[0.9,\"#4d9221\"],[1,\"#276419\"]],\"sequential\":[[0.0,\"#0d0887\"],[0.1111111111111111,\"#46039f\"],[0.2222222222222222,\"#7201a8\"],[0.3333333333333333,\"#9c179e\"],[0.4444444444444444,\"#bd3786\"],[0.5555555555555556,\"#d8576b\"],[0.6666666666666666,\"#ed7953\"],[0.7777777777777778,\"#fb9f3a\"],[0.8888888888888888,\"#fdca26\"],[1.0,\"#f0f921\"]],\"sequentialminus\":[[0.0,\"#0d0887\"],[0.1111111111111111,\"#46039f\"],[0.2222222222222222,\"#7201a8\"],[0.3333333333333333,\"#9c179e\"],[0.4444444444444444,\"#bd3786\"],[0.5555555555555556,\"#d8576b\"],[0.6666666666666666,\"#ed7953\"],[0.7777777777777778,\"#fb9f3a\"],[0.8888888888888888,\"#fdca26\"],[1.0,\"#f0f921\"]]},\"colorway\":[\"#636efa\",\"#EF553B\",\"#00cc96\",\"#ab63fa\",\"#FFA15A\",\"#19d3f3\",\"#FF6692\",\"#B6E880\",\"#FF97FF\",\"#FECB52\"],\"font\":{\"color\":\"#2a3f5f\"},\"geo\":{\"bgcolor\":\"white\",\"lakecolor\":\"white\",\"landcolor\":\"white\",\"showlakes\":true,\"showland\":true,\"subunitcolor\":\"#C8D4E3\"},\"hoverlabel\":{\"align\":\"left\"},\"hovermode\":\"closest\",\"mapbox\":{\"style\":\"light\"},\"paper_bgcolor\":\"white\",\"plot_bgcolor\":\"white\",\"polar\":{\"angularaxis\":{\"gridcolor\":\"#EBF0F8\",\"linecolor\":\"#EBF0F8\",\"ticks\":\"\"},\"bgcolor\":\"white\",\"radialaxis\":{\"gridcolor\":\"#EBF0F8\",\"linecolor\":\"#EBF0F8\",\"ticks\":\"\"}},\"scene\":{\"xaxis\":{\"backgroundcolor\":\"white\",\"gridcolor\":\"#DFE8F3\",\"gridwidth\":2,\"linecolor\":\"#EBF0F8\",\"showbackground\":true,\"ticks\":\"\",\"zerolinecolor\":\"#EBF0F8\"},\"yaxis\":{\"backgroundcolor\":\"white\",\"gridcolor\":\"#DFE8F3\",\"gridwidth\":2,\"linecolor\":\"#EBF0F8\",\"showbackground\":true,\"ticks\":\"\",\"zerolinecolor\":\"#EBF0F8\"},\"zaxis\":{\"backgroundcolor\":\"white\",\"gridcolor\":\"#DFE8F3\",\"gridwidth\":2,\"linecolor\":\"#EBF0F8\",\"showbackground\":true,\"ticks\":\"\",\"zerolinecolor\":\"#EBF0F8\"}},\"shapedefaults\":{\"line\":{\"color\":\"#2a3f5f\"}},\"ternary\":{\"aaxis\":{\"gridcolor\":\"#DFE8F3\",\"linecolor\":\"#A2B1C6\",\"ticks\":\"\"},\"baxis\":{\"gridcolor\":\"#DFE8F3\",\"linecolor\":\"#A2B1C6\",\"ticks\":\"\"},\"bgcolor\":\"white\",\"caxis\":{\"gridcolor\":\"#DFE8F3\",\"linecolor\":\"#A2B1C6\",\"ticks\":\"\"}},\"title\":{\"x\":0.05},\"xaxis\":{\"automargin\":true,\"gridcolor\":\"#EBF0F8\",\"linecolor\":\"#EBF0F8\",\"ticks\":\"\",\"title\":{\"standoff\":15},\"zerolinecolor\":\"#EBF0F8\",\"zerolinewidth\":2},\"yaxis\":{\"automargin\":true,\"gridcolor\":\"#EBF0F8\",\"linecolor\":\"#EBF0F8\",\"ticks\":\"\",\"title\":{\"standoff\":15},\"zerolinecolor\":\"#EBF0F8\",\"zerolinewidth\":2}}},\"xaxis\":{\"anchor\":\"y\",\"domain\":[0.0,1.0],\"title\":{\"text\":\"Percent\"},\"tickangle\":0},\"yaxis\":{\"anchor\":\"x\",\"domain\":[0.0,1.0],\"title\":{\"text\":\"Region\"}},\"legend\":{\"title\":{},\"tracegroupgap\":0,\"orientation\":\"h\",\"yanchor\":\"bottom\",\"y\":-0.3},\"margin\":{\"t\":60},\"barmode\":\"relative\",\"uniformtext\":{\"minsize\":11,\"mode\":\"hide\"},\"title\":{\"text\":\"Figure 1: UBI favourability by UK subregion\"},\"font\":{\"family\":\"Roboto Serif\",\"color\":\"black\"},\"images\":[{\"sizex\":0.2,\"sizey\":0.2,\"source\":\"https://raw.githubusercontent.com/PolicyEngine/policyengine-app/master/src/images/logos/policyengine/blue.png\",\"x\":1,\"xanchor\":\"right\",\"xref\":\"paper\",\"y\":-0.15,\"yanchor\":\"bottom\",\"yref\":\"paper\"}],\"height\":600,\"width\":800,\"modebar\":{\"bgcolor\":\"rgba(0,0,0,0)\",\"color\":\"rgba(0,0,0,0)\"}}}'"
      ]
     },
     "execution_count": 1,
     "metadata": {},
     "output_type": "execute_result"
    }
   ],
   "source": [
    "import plotly.express as px\n",
    "from policyengine_core.charts import *\n",
    "\n",
    "RESPONSE_JSON = '{\"poll_id\":{\"90\":7,\"84\":7,\"66\":7,\"78\":7,\"54\":7,\"48\":7,\"72\":7,\"60\":7,\"91\":7,\"61\":7,\"49\":7,\"73\":7,\"55\":7,\"67\":7,\"79\":7,\"85\":7,\"80\":7,\"62\":7,\"68\":7,\"50\":7,\"74\":7,\"56\":7,\"86\":7,\"92\":7,\"71\":7,\"53\":7,\"59\":7,\"77\":7,\"65\":7,\"89\":7,\"95\":7,\"83\":7,\"87\":7,\"57\":7,\"75\":7,\"51\":7,\"63\":7,\"69\":7,\"81\":7,\"93\":7,\"88\":7,\"58\":7,\"52\":7,\"64\":7,\"76\":7,\"82\":7,\"70\":7,\"94\":7},\"question_id\":{\"90\":10,\"84\":10,\"66\":10,\"78\":10,\"54\":10,\"48\":10,\"72\":10,\"60\":10,\"91\":10,\"61\":10,\"49\":10,\"73\":10,\"55\":10,\"67\":10,\"79\":10,\"85\":10,\"80\":10,\"62\":10,\"68\":10,\"50\":10,\"74\":10,\"56\":10,\"86\":10,\"92\":10,\"71\":10,\"53\":10,\"59\":10,\"77\":10,\"65\":10,\"89\":10,\"95\":10,\"83\":10,\"87\":10,\"57\":10,\"75\":10,\"51\":10,\"63\":10,\"69\":10,\"81\":10,\"93\":10,\"88\":10,\"58\":10,\"52\":10,\"64\":10,\"76\":10,\"82\":10,\"70\":10,\"94\":10},\"response\":{\"90\":\"Strongly support\",\"84\":\"Strongly support\",\"66\":\"Strongly support\",\"78\":\"Strongly support\",\"54\":\"Strongly support\",\"48\":\"Strongly support\",\"72\":\"Strongly support\",\"60\":\"Strongly support\",\"91\":\"Tend to support\",\"61\":\"Tend to support\",\"49\":\"Tend to support\",\"73\":\"Tend to support\",\"55\":\"Tend to support\",\"67\":\"Tend to support\",\"79\":\"Tend to support\",\"85\":\"Tend to support\",\"80\":\"Neither support nor oppose\",\"62\":\"Neither support nor oppose\",\"68\":\"Neither support nor oppose\",\"50\":\"Neither support nor oppose\",\"74\":\"Neither support nor oppose\",\"56\":\"Neither support nor oppose\",\"86\":\"Neither support nor oppose\",\"92\":\"Neither support nor oppose\",\"71\":\"Don\\'t Know\",\"53\":\"Don\\'t Know\",\"59\":\"Don\\'t Know\",\"77\":\"Don\\'t Know\",\"65\":\"Don\\'t Know\",\"89\":\"Don\\'t Know\",\"95\":\"Don\\'t Know\",\"83\":\"Don\\'t Know\",\"87\":\"Tend to oppose\",\"57\":\"Tend to oppose\",\"75\":\"Tend to oppose\",\"51\":\"Tend to oppose\",\"63\":\"Tend to oppose\",\"69\":\"Tend to oppose\",\"81\":\"Tend to oppose\",\"93\":\"Tend to oppose\",\"88\":\"Strongly oppose\",\"58\":\"Strongly oppose\",\"52\":\"Strongly oppose\",\"64\":\"Strongly oppose\",\"76\":\"Strongly oppose\",\"82\":\"Strongly oppose\",\"70\":\"Strongly oppose\",\"94\":\"Strongly oppose\"},\"xtab1_var\":{\"90\":\"Region\",\"84\":\"Region\",\"66\":\"Region\",\"78\":\"Region\",\"54\":\"Region\",\"48\":\"Region\",\"72\":\"Region\",\"60\":\"Region\",\"91\":\"Region\",\"61\":\"Region\",\"49\":\"Region\",\"73\":\"Region\",\"55\":\"Region\",\"67\":\"Region\",\"79\":\"Region\",\"85\":\"Region\",\"80\":\"Region\",\"62\":\"Region\",\"68\":\"Region\",\"50\":\"Region\",\"74\":\"Region\",\"56\":\"Region\",\"86\":\"Region\",\"92\":\"Region\",\"71\":\"Region\",\"53\":\"Region\",\"59\":\"Region\",\"77\":\"Region\",\"65\":\"Region\",\"89\":\"Region\",\"95\":\"Region\",\"83\":\"Region\",\"87\":\"Region\",\"57\":\"Region\",\"75\":\"Region\",\"51\":\"Region\",\"63\":\"Region\",\"69\":\"Region\",\"81\":\"Region\",\"93\":\"Region\",\"88\":\"Region\",\"58\":\"Region\",\"52\":\"Region\",\"64\":\"Region\",\"76\":\"Region\",\"82\":\"Region\",\"70\":\"Region\",\"94\":\"Region\"},\"xtab1_val\":{\"90\":\"Northern Ireland\",\"84\":\"Scotland\",\"66\":\"London\",\"78\":\"Wales\",\"54\":\"Midlands\",\"48\":\"North\",\"72\":\"England\",\"60\":\"South\",\"91\":\"Northern Ireland\",\"61\":\"South\",\"49\":\"North\",\"73\":\"England\",\"55\":\"Midlands\",\"67\":\"London\",\"79\":\"Wales\",\"85\":\"Scotland\",\"80\":\"Wales\",\"62\":\"South\",\"68\":\"London\",\"50\":\"North\",\"74\":\"England\",\"56\":\"Midlands\",\"86\":\"Scotland\",\"92\":\"Northern Ireland\",\"71\":\"London\",\"53\":\"North\",\"59\":\"Midlands\",\"77\":\"England\",\"65\":\"South\",\"89\":\"Scotland\",\"95\":\"Northern Ireland\",\"83\":\"Wales\",\"87\":\"Scotland\",\"57\":\"Midlands\",\"75\":\"England\",\"51\":\"North\",\"63\":\"South\",\"69\":\"London\",\"81\":\"Wales\",\"93\":\"Northern Ireland\",\"88\":\"Scotland\",\"58\":\"Midlands\",\"52\":\"North\",\"64\":\"South\",\"76\":\"England\",\"82\":\"Wales\",\"70\":\"London\",\"94\":\"Northern Ireland\"},\"xtab2_var\":{\"90\":\"-\",\"84\":\"-\",\"66\":\"-\",\"78\":\"-\",\"54\":\"-\",\"48\":\"-\",\"72\":\"-\",\"60\":\"-\",\"91\":\"-\",\"61\":\"-\",\"49\":\"-\",\"73\":\"-\",\"55\":\"-\",\"67\":\"-\",\"79\":\"-\",\"85\":\"-\",\"80\":\"-\",\"62\":\"-\",\"68\":\"-\",\"50\":\"-\",\"74\":\"-\",\"56\":\"-\",\"86\":\"-\",\"92\":\"-\",\"71\":\"-\",\"53\":\"-\",\"59\":\"-\",\"77\":\"-\",\"65\":\"-\",\"89\":\"-\",\"95\":\"-\",\"83\":\"-\",\"87\":\"-\",\"57\":\"-\",\"75\":\"-\",\"51\":\"-\",\"63\":\"-\",\"69\":\"-\",\"81\":\"-\",\"93\":\"-\",\"88\":\"-\",\"58\":\"-\",\"52\":\"-\",\"64\":\"-\",\"76\":\"-\",\"82\":\"-\",\"70\":\"-\",\"94\":\"-\"},\"xtab2_val\":{\"90\":\"-\",\"84\":\"-\",\"66\":\"-\",\"78\":\"-\",\"54\":\"-\",\"48\":\"-\",\"72\":\"-\",\"60\":\"-\",\"91\":\"-\",\"61\":\"-\",\"49\":\"-\",\"73\":\"-\",\"55\":\"-\",\"67\":\"-\",\"79\":\"-\",\"85\":\"-\",\"80\":\"-\",\"62\":\"-\",\"68\":\"-\",\"50\":\"-\",\"74\":\"-\",\"56\":\"-\",\"86\":\"-\",\"92\":\"-\",\"71\":\"-\",\"53\":\"-\",\"59\":\"-\",\"77\":\"-\",\"65\":\"-\",\"89\":\"-\",\"95\":\"-\",\"83\":\"-\",\"87\":\"-\",\"57\":\"-\",\"75\":\"-\",\"51\":\"-\",\"63\":\"-\",\"69\":\"-\",\"81\":\"-\",\"93\":\"-\",\"88\":\"-\",\"58\":\"-\",\"52\":\"-\",\"64\":\"-\",\"76\":\"-\",\"82\":\"-\",\"70\":\"-\",\"94\":\"-\"},\"pct\":{\"90\":25.0,\"84\":23.0,\"66\":16.0,\"78\":16.0,\"54\":15.0,\"48\":14.0,\"72\":14.0,\"60\":12.0,\"91\":41.0,\"61\":37.0,\"49\":35.0,\"73\":34.0,\"55\":33.0,\"67\":31.0,\"79\":31.0,\"85\":24.0,\"80\":29.0,\"62\":20.0,\"68\":20.0,\"50\":19.0,\"74\":19.0,\"56\":18.0,\"86\":17.0,\"92\":17.0,\"71\":10.0,\"53\":7.0,\"59\":7.0,\"77\":7.0,\"65\":5.0,\"89\":5.0,\"95\":5.0,\"83\":4.0,\"87\":20.0,\"57\":18.0,\"75\":17.0,\"51\":16.0,\"63\":16.0,\"69\":16.0,\"81\":12.0,\"93\":8.0,\"88\":12.0,\"58\":11.0,\"52\":9.0,\"64\":9.0,\"76\":9.0,\"82\":8.0,\"70\":7.0,\"94\":3.0},\"notes\":{\"90\":null,\"84\":null,\"66\":null,\"78\":null,\"54\":null,\"48\":null,\"72\":null,\"60\":null,\"91\":null,\"61\":null,\"49\":null,\"73\":null,\"55\":null,\"67\":null,\"79\":null,\"85\":null,\"80\":null,\"62\":null,\"68\":null,\"50\":null,\"74\":null,\"56\":null,\"86\":null,\"92\":null,\"71\":null,\"53\":null,\"59\":null,\"77\":null,\"65\":null,\"89\":null,\"95\":null,\"83\":null,\"87\":null,\"57\":null,\"75\":null,\"51\":null,\"63\":null,\"69\":null,\"81\":null,\"93\":null,\"88\":null,\"58\":null,\"52\":null,\"64\":null,\"76\":null,\"82\":null,\"70\":null,\"94\":null},\"Region\":{\"90\":\"Northern Ireland\",\"84\":\"Scotland\",\"66\":\"London\",\"78\":\"Wales\",\"54\":\"Midlands\",\"48\":\"North\",\"72\":\"England\",\"60\":\"South\",\"91\":\"Northern Ireland\",\"61\":\"South\",\"49\":\"North\",\"73\":\"England\",\"55\":\"Midlands\",\"67\":\"London\",\"79\":\"Wales\",\"85\":\"Scotland\",\"80\":\"Wales\",\"62\":\"South\",\"68\":\"London\",\"50\":\"North\",\"74\":\"England\",\"56\":\"Midlands\",\"86\":\"Scotland\",\"92\":\"Northern Ireland\",\"71\":\"London\",\"53\":\"North\",\"59\":\"Midlands\",\"77\":\"England\",\"65\":\"South\",\"89\":\"Scotland\",\"95\":\"Northern Ireland\",\"83\":\"Wales\",\"87\":\"Scotland\",\"57\":\"Midlands\",\"75\":\"England\",\"51\":\"North\",\"63\":\"South\",\"69\":\"London\",\"81\":\"Wales\",\"93\":\"Northern Ireland\",\"88\":\"Scotland\",\"58\":\"Midlands\",\"52\":\"North\",\"64\":\"South\",\"76\":\"England\",\"82\":\"Wales\",\"70\":\"London\",\"94\":\"Northern Ireland\"},\"Response\":{\"90\":\"Strongly support\",\"84\":\"Strongly support\",\"66\":\"Strongly support\",\"78\":\"Strongly support\",\"54\":\"Strongly support\",\"48\":\"Strongly support\",\"72\":\"Strongly support\",\"60\":\"Strongly support\",\"91\":\"Tend to support\",\"61\":\"Tend to support\",\"49\":\"Tend to support\",\"73\":\"Tend to support\",\"55\":\"Tend to support\",\"67\":\"Tend to support\",\"79\":\"Tend to support\",\"85\":\"Tend to support\",\"80\":\"Neither support nor oppose\",\"62\":\"Neither support nor oppose\",\"68\":\"Neither support nor oppose\",\"50\":\"Neither support nor oppose\",\"74\":\"Neither support nor oppose\",\"56\":\"Neither support nor oppose\",\"86\":\"Neither support nor oppose\",\"92\":\"Neither support nor oppose\",\"71\":\"Don\\'t know\",\"53\":\"Don\\'t know\",\"59\":\"Don\\'t know\",\"77\":\"Don\\'t know\",\"65\":\"Don\\'t know\",\"89\":\"Don\\'t know\",\"95\":\"Don\\'t know\",\"83\":\"Don\\'t know\",\"87\":\"Tend to oppose\",\"57\":\"Tend to oppose\",\"75\":\"Tend to oppose\",\"51\":\"Tend to oppose\",\"63\":\"Tend to oppose\",\"69\":\"Tend to oppose\",\"81\":\"Tend to oppose\",\"93\":\"Tend to oppose\",\"88\":\"Strongly oppose\",\"58\":\"Strongly oppose\",\"52\":\"Strongly oppose\",\"64\":\"Strongly oppose\",\"76\":\"Strongly oppose\",\"82\":\"Strongly oppose\",\"70\":\"Strongly oppose\",\"94\":\"Strongly oppose\"},\"response_code\":{\"90\":6,\"84\":6,\"66\":6,\"78\":6,\"54\":6,\"48\":6,\"72\":6,\"60\":6,\"91\":5,\"61\":5,\"49\":5,\"73\":5,\"55\":5,\"67\":5,\"79\":5,\"85\":5,\"80\":4,\"62\":4,\"68\":4,\"50\":4,\"74\":4,\"56\":4,\"86\":4,\"92\":4,\"71\":3,\"53\":3,\"59\":3,\"77\":3,\"65\":3,\"89\":3,\"95\":3,\"83\":3,\"87\":2,\"57\":2,\"75\":2,\"51\":2,\"63\":2,\"69\":2,\"81\":2,\"93\":2,\"88\":1,\"58\":1,\"52\":1,\"64\":1,\"76\":1,\"82\":1,\"70\":1,\"94\":1},\"Percent\":{\"90\":25.2525252525,\"84\":22.7722772277,\"66\":16.0,\"78\":16.0,\"54\":14.7058823529,\"48\":14.0,\"72\":14.0,\"60\":12.1212121212,\"91\":41.4141414141,\"61\":37.3737373737,\"49\":35.0,\"73\":34.0,\"55\":32.3529411765,\"67\":31.0,\"79\":31.0,\"85\":23.7623762376,\"80\":29.0,\"62\":20.202020202,\"68\":20.0,\"50\":19.0,\"74\":19.0,\"56\":17.6470588235,\"86\":16.8316831683,\"92\":17.1717171717,\"71\":10.0,\"53\":7.0,\"59\":6.862745098,\"77\":7.0,\"65\":5.0505050505,\"89\":4.9504950495,\"95\":5.0505050505,\"83\":4.0,\"87\":19.801980198,\"57\":17.6470588235,\"75\":17.0,\"51\":16.0,\"63\":16.1616161616,\"69\":16.0,\"81\":12.0,\"93\":8.0808080808,\"88\":11.8811881188,\"58\":10.7843137255,\"52\":9.0,\"64\":9.0909090909,\"76\":9.0,\"82\":8.0,\"70\":7.0,\"94\":3.0303030303},\"Hover text\":{\"90\":\"25% of people in Northern Ireland strongly support a UBI\",\"84\":\"23% of people in Scotland strongly support a UBI\",\"66\":\"16% of people in London strongly support a UBI\",\"78\":\"16% of people in Wales strongly support a UBI\",\"54\":\"15% of people in Midlands strongly support a UBI\",\"48\":\"14% of people in North strongly support a UBI\",\"72\":\"14% of people in England strongly support a UBI\",\"60\":\"12% of people in South strongly support a UBI\",\"91\":\"41% of people in Northern Ireland tend to support a UBI\",\"61\":\"37% of people in South tend to support a UBI\",\"49\":\"35% of people in North tend to support a UBI\",\"73\":\"34% of people in England tend to support a UBI\",\"55\":\"32% of people in Midlands tend to support a UBI\",\"67\":\"31% of people in London tend to support a UBI\",\"79\":\"31% of people in Wales tend to support a UBI\",\"85\":\"24% of people in Scotland tend to support a UBI\",\"80\":\"29% of people in Wales neither support nor oppose a UBI\",\"62\":\"20% of people in South neither support nor oppose a UBI\",\"68\":\"20% of people in London neither support nor oppose a UBI\",\"50\":\"19% of people in North neither support nor oppose a UBI\",\"74\":\"19% of people in England neither support nor oppose a UBI\",\"56\":\"18% of people in Midlands neither support nor oppose a UBI\",\"86\":\"17% of people in Scotland neither support nor oppose a UBI\",\"92\":\"17% of people in Northern Ireland neither support nor oppose a UBI\",\"71\":\"10% of people in London don\\'t know a UBI\",\"53\":\"7% of people in North don\\'t know a UBI\",\"59\":\"7% of people in Midlands don\\'t know a UBI\",\"77\":\"7% of people in England don\\'t know a UBI\",\"65\":\"5% of people in South don\\'t know a UBI\",\"89\":\"5% of people in Scotland don\\'t know a UBI\",\"95\":\"5% of people in Northern Ireland don\\'t know a UBI\",\"83\":\"4% of people in Wales don\\'t know a UBI\",\"87\":\"20% of people in Scotland tend to oppose a UBI\",\"57\":\"18% of people in Midlands tend to oppose a UBI\",\"75\":\"17% of people in England tend to oppose a UBI\",\"51\":\"16% of people in North tend to oppose a UBI\",\"63\":\"16% of people in South tend to oppose a UBI\",\"69\":\"16% of people in London tend to oppose a UBI\",\"81\":\"12% of people in Wales tend to oppose a UBI\",\"93\":\"8% of people in Northern Ireland tend to oppose a UBI\",\"88\":\"12% of people in Scotland strongly oppose a UBI\",\"58\":\"11% of people in Midlands strongly oppose a UBI\",\"52\":\"9% of people in North strongly oppose a UBI\",\"64\":\"9% of people in South strongly oppose a UBI\",\"76\":\"9% of people in England strongly oppose a UBI\",\"82\":\"8% of people in Wales strongly oppose a UBI\",\"70\":\"7% of people in London strongly oppose a UBI\",\"94\":\"3% of people in Northern Ireland strongly oppose a UBI\"},\"Text\":{\"90\":\"25%\",\"84\":\"23%\",\"66\":\"16%\",\"78\":\"16%\",\"54\":\"15%\",\"48\":\"14%\",\"72\":\"14%\",\"60\":\"12%\",\"91\":\"41%\",\"61\":\"37%\",\"49\":\"35%\",\"73\":\"34%\",\"55\":\"32%\",\"67\":\"31%\",\"79\":\"31%\",\"85\":\"24%\",\"80\":\"29%\",\"62\":\"20%\",\"68\":\"20%\",\"50\":\"19%\",\"74\":\"19%\",\"56\":\"18%\",\"86\":\"17%\",\"92\":\"17%\",\"71\":\"10%\",\"53\":\"7%\",\"59\":\"7%\",\"77\":\"7%\",\"65\":\"5%\",\"89\":\"5%\",\"95\":\"5%\",\"83\":\"4%\",\"87\":\"20%\",\"57\":\"18%\",\"75\":\"17%\",\"51\":\"16%\",\"63\":\"16%\",\"69\":\"16%\",\"81\":\"12%\",\"93\":\"8%\",\"88\":\"12%\",\"58\":\"11%\",\"52\":\"9%\",\"64\":\"9%\",\"76\":\"9%\",\"82\":\"8%\",\"70\":\"7%\",\"94\":\"3%\"}}'\n",
    "\n",
    "responses = pd.read_json(RESPONSE_JSON)\n",
    "\n",
    "responses[\"Hover text\"] = [\n",
    "    f\"{responses.iloc[i]['Percent']:.0f}% of people in {responses.iloc[i]['Region']} {responses.iloc[i]['Response'].lower()} a UBI\"\n",
    "    for i in range(len(responses))\n",
    "]\n",
    "\n",
    "responses[\"Text\"] = [\n",
    "    f\"{responses.iloc[i]['Percent']:.0f}%\"\n",
    "    for i in range(len(responses))\n",
    "]\n",
    "\n",
    "fig = px.bar(\n",
    "    responses,\n",
    "    x=\"Percent\",\n",
    "    y=\"xtab1_val\",\n",
    "    text=\"Text\",\n",
    "    color=\"Response\",\n",
    "    custom_data=[\"Hover text\"],\n",
    "    color_discrete_map={\n",
    "        \"Strongly oppose\": DARK_GRAY,\n",
    "        \"Tend to oppose\": GRAY,\n",
    "        \"Don\\'t know\": LIGHT_GRAY,\n",
    "        \"Neither support nor oppose\": WHITE,\n",
    "        \"Tend to support\": BLUE_LIGHT,\n",
    "        \"Strongly support\": BLUE_PRIMARY,\n",
    "    },\n",
    ")\n",
    "\n",
    "fig.update_traces(\n",
    "    textposition=\"inside\",\n",
    "    texttemplate=\"%{text}\",\n",
    "    hovertemplate=\"%{customdata[0]}\",\n",
    ")\n",
    "\n",
    "fig.update_layout(\n",
    "    uniformtext_minsize=11,\n",
    "    uniformtext_mode=\"hide\",\n",
    "    xaxis_tickangle=0,\n",
    "    legend_title_text=None,\n",
    "    yaxis_title=\"Region\",\n",
    "    title=\"Figure 1: UBI favourability by UK subregion\",\n",
    "    legend=dict(\n",
    "        orientation=\"h\",\n",
    "        yanchor=\"bottom\",\n",
    "        y=-0.3,\n",
    "    )\n",
    ")\n",
    "\n",
    "format_fig(fig).update_layout(\n",
    "    width=800,\n",
    "    height=600,\n",
    ").to_json()"
   ]
  },
  {
   "cell_type": "markdown",
   "metadata": {},
   "source": [
    "_Source: [Ipsos MORI, August 2017](https://www.ipsos.com/ipsos-mori/en-uk/half-uk-adults-would-support-universal-basic-income-principle). Full question: \"Assuming the level would be set roughly at the amount the UK government judged to be necessary to cover basic needs, e.g. food and clothing (but not housing costs), to what extent would you support or oppose the UK Government introducing a basic income?\"._\n",
    "\n",
    "## Exploring the space of feasible policies\n",
    "\n",
    "One could model an infinite number of basic income policies for Northern Ireland. We constrained the problem by defining UBI parameter values, tax variables to adjust, and requirements for the resulting policy.\n",
    "\n",
    "In particular, we limited to UBI policies of the following form:\n",
    "\n",
    "- Amounts per adult (aged 18 or over) of £200, £300, and £400 per month\n",
    "- Amounts per child aged 16 or 17 of half the adult amount\n",
    "- No amount per child younger than 16\n",
    "- UBI payments do not count as income for tax or means-tested benefits\n",
    "- UK government externally funds 25% of the gross UBI cost\n",
    "\n",
    "To fund the UBI, we considered three levers:\n",
    "\n",
    "- Personal allowance, from zero to the current value of £12,570 (we also adjusted the higher rate threshold to keep it at £50,270)\n",
    "- Basic rate increase\n",
    "- Ratio of higher and additional rate increases to the basic rate increase, of 0x (not changing the higher and additional rates), 1x, and 2x\n",
    "\n",
    "Finally, we constrained the end policy to:\n",
    "\n",
    "- Be budget-neutral (assuming no behavioural responses)\n",
    "- Avoid raising marginal tax rates above 100%,[^6] either via the normal tax rates, the phase-out of the personal allowance or benefit phase-outs\n",
    "\n",
    "[^6]: We exclude the Child Benefit High-Income Tax Charge from contributing to this limit, because the MTR addition from that is dependent on the number of children, with no upper bound.\n"
   ]
  },
  {
   "cell_type": "code",
   "execution_count": 2,
   "metadata": {
    "tags": [
     "hide-input"
    ]
   },
   "outputs": [
    {
     "name": "stderr",
     "output_type": "stream",
     "text": [
      "100%|██████████| 14/14 [01:13<00:00,  5.28s/it]\n"
     ]
    }
   ],
   "source": [
    "from policyengine_uk import Microsimulation\n",
    "import numpy as np\n",
    "import pandas as pd\n",
    "import plotly.express as px\n",
    "import plotly.graph_objects as go\n",
    "from scipy.optimize import bisect\n",
    "from policyengine_core.charts import format_fig\n",
    "from policyengine_core.model_api import *\n",
    "import pandas as pd\n",
    "# Silence warnings\n",
    "import warnings\n",
    "warnings.filterwarnings(\"ignore\")\n",
    "import plotly.io as pio\n",
    "pio.renderers.default = \"notebook\"\n",
    "\n",
    "np.random.seed(0)\n",
    "\n",
    "def filter_to_ni(sim: Microsimulation) -> None:\n",
    "    \"\"\"Filters a simulation, in place, to just Northern Ireland.\n",
    "    \n",
    "    Args:\n",
    "        sim (Microsimulation): The simulation to filter.\n",
    "    \"\"\"\n",
    "    weights = sim.calculate(\"household_weight\")\n",
    "    country = sim.calculate(\"country\")\n",
    "    sim.set_input(\"household_weight\", 2023, np.where(country == \"NORTHERN_IRELAND\", weights, 0))\n",
    "\n",
    "baseline = Microsimulation()\n",
    "filter_to_ni(baseline)\n",
    "\n",
    "\n",
    "def get_ubi_cost(\n",
    "    adult_amount: float = 400 * 12,\n",
    "    child_amount: float = 200 * 12,\n",
    "    senior_amount: float = 100 * 12,\n",
    "    child_min_age: int = 16,\n",
    "):\n",
    "    in_ni = baseline.calculate(\"country\", map_to=\"person\") == \"NORTHERN_IRELAND\"\n",
    "    age = baseline.calculate(\"age\")\n",
    "    retired = baseline.calculate(\"is_SP_age\")\n",
    "    num_adults = ((age >= 18) * (~retired))[in_ni].sum()\n",
    "    num_children = ((age >= child_min_age) * (age < 18))[in_ni].sum()\n",
    "    num_seniors = (retired)[in_ni].sum()\n",
    "    return adult_amount * num_adults + child_amount * num_children + senior_amount * num_seniors\n",
    "\n",
    "from policyengine_uk.model_api import *\n",
    "\n",
    "def ubi_ni_reform(\n",
    "    personal_allowance: float = 12_570,\n",
    "    higher_rate_threshold: float = 50_270,\n",
    "    basic_rate: float = 0.2,\n",
    "    higher_rate: float = 0.4,\n",
    "    additional_rate: float = 0.45,\n",
    "    child_bi: float = 0,\n",
    "    adult_bi: float = 0,\n",
    "    senior_bi: float = 0,\n",
    "    child_min_age: int = 16,\n",
    ") -> Reform:\n",
    "    TIME_PERIOD = \"year:2023:10\"\n",
    "    return Reform.from_dict({\n",
    "        \"gov.hmrc.income_tax.rates.uk[0].rate\": { TIME_PERIOD: (basic_rate * 1_000) // 1 / 1000 },\n",
    "        \"gov.hmrc.income_tax.rates.uk[1].rate\": { TIME_PERIOD: (higher_rate * 1_000) // 1 / 1000 },\n",
    "        \"gov.hmrc.income_tax.rates.uk[2].rate\": { TIME_PERIOD: (additional_rate * 1_000) // 1 / 1000 },\n",
    "        \"gov.hmrc.income_tax.rates.uk[1].threshold\": { TIME_PERIOD: float(higher_rate_threshold) },\n",
    "        \"gov.hmrc.income_tax.allowances.personal_allowance.amount\": { TIME_PERIOD: float(personal_allowance) },\n",
    "        \"gov.contrib.ubi_center.basic_income.amount.by_age.child\": { TIME_PERIOD: child_bi / 52 },\n",
    "        \"gov.contrib.ubi_center.basic_income.amount.child_min_age\": { TIME_PERIOD: child_min_age },\n",
    "        \"gov.contrib.ubi_center.basic_income.amount.by_age.working_age\": { TIME_PERIOD: adult_bi / 52 },\n",
    "        \"gov.contrib.ubi_center.basic_income.amount.by_age.senior\": { TIME_PERIOD: senior_bi / 52 },\n",
    "    }, country_id=\"uk\")\n",
    "\n",
    "def get_revenue_slow_estimate(\n",
    "    personal_allowance: float,\n",
    "    basic_rate_addition: float,\n",
    "    higher_rate_addition: float,\n",
    "    additional_rate_addition: float,\n",
    "    adult_ubi: float = 0,\n",
    "    child_ubi: float = 0,\n",
    "    senior_ubi: float = 0,\n",
    "    child_min_age: int = 16,\n",
    ") -> float:\n",
    "    reformed = Microsimulation(\n",
    "        reform=ubi_ni_reform(\n",
    "            personal_allowance=personal_allowance,\n",
    "            higher_rate_threshold = 50_270 - personal_allowance,\n",
    "            basic_rate=0.2 + basic_rate_addition,\n",
    "            higher_rate=0.4 + higher_rate_addition,\n",
    "            additional_rate=0.45 + additional_rate_addition,\n",
    "            child_bi=child_ubi,\n",
    "            adult_bi=adult_ubi,\n",
    "            senior_bi=senior_ubi,\n",
    "            child_min_age=child_min_age,\n",
    "        )\n",
    "    )\n",
    "    filter_to_ni(reformed)\n",
    "    return baseline.calculate(\"household_net_income\").sum() - reformed.calculate(\"household_net_income\").sum()\n",
    "\n",
    "def get_revenue_quick_estimate(\n",
    "    personal_allowance: float,\n",
    "    basic_rate_addition: float,\n",
    "    higher_rate_addition: float,\n",
    "    additional_rate_addition: float,\n",
    ") -> float:\n",
    "    income = baseline.calc(\"adjusted_net_income\")\n",
    "    weight = income.weights\n",
    "    add_rate_income = np.maximum(0, income - 125_140)\n",
    "    higher_rate_income = np.maximum(0, income - 50_270) - add_rate_income\n",
    "    basic_rate_income_b = np.maximum(0, income - higher_rate_income - add_rate_income - 12_570)\n",
    "    basic_rate_income_r = np.maximum(0, income - higher_rate_income - add_rate_income - personal_allowance)\n",
    "    basic_rate_increased_tax = (\n",
    "        basic_rate_income_r * (0.2 + basic_rate_addition)\n",
    "        - basic_rate_income_b * 0.2\n",
    "    )\n",
    "    higher_rate_increased_tax = baseline.calculate(\"higher_rate_earned_income\").values * higher_rate_addition\n",
    "    additional_rate_increased_tax = baseline.calculate(\"add_rate_earned_income\").values * additional_rate_addition\n",
    "    increased_tax = basic_rate_increased_tax + higher_rate_increased_tax + additional_rate_increased_tax\n",
    "    return (increased_tax * weight).sum() * 0.65\n",
    "\n",
    "def solve_rates(\n",
    "    adult_ubi: float = 0,\n",
    "    child_ubi: float = 0,\n",
    "    senior_ubi: float = 0,\n",
    "    child_min_age: int = 16,\n",
    "    personal_allowance: float = 12_570,\n",
    "    higher_rate_ratio: float = 1,\n",
    "    additional_rate_ratio: float = 1,\n",
    "    use_quick_estimate: bool = True,\n",
    "):\n",
    "    def adjusted_reform_cost(\n",
    "        basic_rate_addition: float = 0,\n",
    "    ) -> float:\n",
    "        if use_quick_estimate:\n",
    "            adjusted_revenue = get_revenue_quick_estimate(personal_allowance, basic_rate_addition, basic_rate_addition * higher_rate_ratio, basic_rate_addition * additional_rate_ratio)\n",
    "        else:\n",
    "            adjusted_revenue = get_revenue_slow_estimate(personal_allowance, basic_rate_addition, basic_rate_addition * higher_rate_ratio, basic_rate_addition * additional_rate_ratio)\n",
    "        ubi_cost = get_ubi_cost(\n",
    "            adult_ubi, \n",
    "            child_ubi,\n",
    "            senior_ubi,\n",
    "            child_min_age=child_min_age,\n",
    "        )\n",
    "        return ubi_cost * 0.75 - adjusted_revenue # Assume 25% of the UBI is paid for by Westminster\n",
    "    \n",
    "    return bisect(adjusted_reform_cost, -0.5, 1, xtol=1e-3)\n",
    "\n",
    "from tqdm import tqdm\n",
    "\n",
    "def create_policy_space(\n",
    "    child_min_age: int = 16,\n",
    "):\n",
    "    headline_ubi_rates = []\n",
    "    personal_allowances = []\n",
    "    basic_rate_additions = []\n",
    "    higher_add_addition_ratios = []\n",
    "\n",
    "    for pa in tqdm([12_570] + list(range(12_000, -1000, -1000))):\n",
    "        for ubi_rate in list([200 * 12, 300 * 12, 400 * 12]):\n",
    "            for higher_add_ratio in list((0, 1, 2)):\n",
    "                headline_ubi_rates.append(ubi_rate)\n",
    "                personal_allowances.append(pa)\n",
    "                basic_rate_additions.append(solve_rates(adult_ubi=ubi_rate, personal_allowance=pa, higher_rate_ratio=higher_add_ratio, additional_rate_ratio=higher_add_ratio, child_min_age=child_min_age))\n",
    "                higher_add_addition_ratios.append(higher_add_ratio)\n",
    "\n",
    "\n",
    "    df = pd.DataFrame({\n",
    "        \"Adult UBI\": headline_ubi_rates,\n",
    "        \"Child UBI\": [x * 0.5 for x in headline_ubi_rates],\n",
    "        \"Senior UBI\": headline_ubi_rates,\n",
    "        \"Personal Allowance\": personal_allowances,\n",
    "        \"Basic rate addition\": basic_rate_additions,\n",
    "        \"Higher/additional rate increase ratio\": higher_add_addition_ratios,\n",
    "    })\n",
    "    df[\"Personal Allowance reduction\"] = 12_570 - df[\"Personal Allowance\"]\n",
    "    df[\"Higher rate addition\"] = df[\"Basic rate addition\"] * df[\"Higher/additional rate increase ratio\"]\n",
    "    df[\"Basic rate addition (x100)\"] = df[\"Basic rate addition\"] * 100\n",
    "    df[\"Additional rate addition\"] = df[\"Basic rate addition\"] * df[\"Higher/additional rate increase ratio\"]\n",
    "    df[\"UBI/Increase ratio combination\"] = [\n",
    "        f\"{higher_add_ratio:.0%}\" + \" \" * (ubi // 100)\n",
    "        for ubi, higher_add_ratio in zip(\n",
    "            df[\"Adult UBI\"],\n",
    "            df[\"Higher/additional rate increase ratio\"],\n",
    "        )\n",
    "    ]\n",
    "    df[\"Label\"] = [\n",
    "        f\"A £{ubi:,.0f} UBI and £{pa:,.0f} Personal Allowance can be made <br>75% budget neutral by setting the basic, higher and additional rates<br> to {0.2 + basic_rate_addition:.1%}, {0.4 + higher_rate_addition:.1%} and {0.45 + additional_rate_addition:.1%} respectively.\"\n",
    "        for ubi, pa, basic_rate_addition, higher_rate_addition, additional_rate_addition in zip(\n",
    "            df[\"Adult UBI\"],\n",
    "            df[\"Personal Allowance\"],\n",
    "            df[\"Basic rate addition\"],\n",
    "            df[\"Higher rate addition\"],\n",
    "            df[\"Additional rate addition\"],\n",
    "        )\n",
    "    ]\n",
    "\n",
    "    df = df.sort_values([\"Adult UBI\", \"Higher/additional rate increase ratio\"])\n",
    "\n",
    "    df[\"Basic rate\"] = df[\"Basic rate addition\"] + 0.2\n",
    "    df[\"Higher rate\"] = df[\"Higher rate addition\"] + 0.4\n",
    "    df[\"Add. rate\"] = df[\"Additional rate addition\"] + 0.45\n",
    "\n",
    "    df[\"Feasible MTR\"] = np.where(\n",
    "            # £150k+ MTR under 100%\n",
    "            (df[\"Add. rate\"] + 0.0325 < 1)\n",
    "            # £100k-150k MTR under 100%\n",
    "            & (df[\"Higher rate\"] * (\n",
    "                np.where(df[\"Personal Allowance\"] > 0, 1.5, 1)\n",
    "            ) + 0.0325 < 1),\n",
    "            \"Yes\",\n",
    "            \"No\",\n",
    "        )\n",
    "    return df\n",
    "\n",
    "df = create_policy_space()\n",
    "\n",
    "def extract_three_model_rows(df: pd.DataFrame, child_min_age: int = 16):\n",
    "    pa = df[\"Personal Allowance\"]\n",
    "    ubi = df[\"Adult UBI\"]\n",
    "    ratio = df[\"Higher/additional rate increase ratio\"]\n",
    "    model_1_row = df[(pa == 2000) & (ubi == 200 * 12) & (ratio == 2)].iloc[0]\n",
    "    model_2_row = df[(pa == 0) & (ubi == 300 * 12) & (ratio == 1)].iloc[0]\n",
    "    model_3_row = df[(pa == 0) & (ubi == 400 * 12) & (ratio == 0)].iloc[0]\n",
    "\n",
    "    for row in [model_1_row, model_2_row, model_3_row]:\n",
    "        # Re-solve with slow estimate\n",
    "        #row[\"Basic rate addition\"] = solve_rates(\n",
    "        ##    adult_ubi=row[\"Adult UBI\"],\n",
    "         #   child_ubi=row[\"Child UBI\"],\n",
    "         #   senior_ubi=row[\"Senior UBI\"],\n",
    "         #   child_min_age=child_min_age,\n",
    "         #   personal_allowance=row[\"Personal Allowance\"],\n",
    "         #   higher_rate_ratio=row[\"Higher/additional rate increase ratio\"],\n",
    "         #   additional_rate_ratio=row[\"Higher/additional rate increase ratio\"],\n",
    "         #   use_quick_estimate=False,\n",
    "        #)\n",
    "        row[\"Higher rate addition\"] = row[\"Basic rate addition\"] * row[\"Higher/additional rate increase ratio\"]\n",
    "        row[\"Additional rate addition\"] = row[\"Basic rate addition\"] * row[\"Higher/additional rate increase ratio\"]\n",
    "        row[\"Higher rate\"] = row[\"Higher rate addition\"] + 0.4\n",
    "        row[\"Add. rate\"] = row[\"Additional rate addition\"] + 0.45\n",
    "        row[\"Basic rate\"] = row[\"Basic rate addition\"] + 0.2\n",
    "        row[\"Child basic income age\"] = child_min_age\n",
    "    \n",
    "    return [model_1_row, model_2_row, model_3_row]\n",
    "\n",
    "def row_to_policy(row: pd.Series):\n",
    "    return dict(\n",
    "        basic_rate=row[\"Basic rate\"],\n",
    "        higher_rate=row[\"Higher rate\"],\n",
    "        additional_rate=row[\"Add. rate\"],\n",
    "        personal_allowance=row[\"Personal Allowance\"],\n",
    "        adult_bi=row[\"Adult UBI\"],\n",
    "        higher_rate_threshold=50_270. - row[\"Personal Allowance\"],\n",
    "        child_bi=row[\"Adult UBI\"] * 0.5,\n",
    "        senior_bi=row[\"Adult UBI\"],\n",
    "        child_min_age=row[\"Child basic income age\"],\n",
    "    )\n",
    "\n",
    "model_1_row, model_2_row, model_3_row = extract_three_model_rows(df)"
   ]
  },
  {
   "cell_type": "code",
   "execution_count": 3,
   "metadata": {
    "tags": [
     "highlighted-left"
    ]
   },
   "outputs": [
    {
     "data": {
      "text/plain": [
       "'{\"data\":[{\"customdata\":[[\"A \\\\u00a32,400 UBI and \\\\u00a312,570 Personal Allowance can be made <br>75% budget neutral by setting the basic, higher and additional rates<br> to 45.2%, 40.0% and 45.0% respectively.\"],[\"A \\\\u00a32,400 UBI and \\\\u00a312,000 Personal Allowance can be made <br>75% budget neutral by setting the basic, higher and additional rates<br> to 43.5%, 40.0% and 45.0% respectively.\"],[\"A \\\\u00a32,400 UBI and \\\\u00a311,000 Personal Allowance can be made <br>75% budget neutral by setting the basic, higher and additional rates<br> to 40.7%, 40.0% and 45.0% respectively.\"],[\"A \\\\u00a32,400 UBI and \\\\u00a310,000 Personal Allowance can be made <br>75% budget neutral by setting the basic, higher and additional rates<br> to 38.0%, 40.0% and 45.0% respectively.\"],[\"A \\\\u00a32,400 UBI and \\\\u00a39,000 Personal Allowance can be made <br>75% budget neutral by setting the basic, higher and additional rates<br> to 35.7%, 40.0% and 45.0% respectively.\"],[\"A \\\\u00a32,400 UBI and \\\\u00a38,000 Personal Allowance can be made <br>75% budget neutral by setting the basic, higher and additional rates<br> to 33.5%, 40.0% and 45.0% respectively.\"],[\"A \\\\u00a32,400 UBI and \\\\u00a37,000 Personal Allowance can be made <br>75% budget neutral by setting the basic, higher and additional rates<br> to 31.5%, 40.0% and 45.0% respectively.\"],[\"A \\\\u00a32,400 UBI and \\\\u00a36,000 Personal Allowance can be made <br>75% budget neutral by setting the basic, higher and additional rates<br> to 29.5%, 40.0% and 45.0% respectively.\"],[\"A \\\\u00a32,400 UBI and \\\\u00a35,000 Personal Allowance can be made <br>75% budget neutral by setting the basic, higher and additional rates<br> to 27.8%, 40.0% and 45.0% respectively.\"],[\"A \\\\u00a32,400 UBI and \\\\u00a34,000 Personal Allowance can be made <br>75% budget neutral by setting the basic, higher and additional rates<br> to 26.2%, 40.0% and 45.0% respectively.\"],[\"A \\\\u00a32,400 UBI and \\\\u00a33,000 Personal Allowance can be made <br>75% budget neutral by setting the basic, higher and additional rates<br> to 24.7%, 40.0% and 45.0% respectively.\"],[\"A \\\\u00a32,400 UBI and \\\\u00a32,000 Personal Allowance can be made <br>75% budget neutral by setting the basic, higher and additional rates<br> to 23.4%, 40.0% and 45.0% respectively.\"],[\"A \\\\u00a32,400 UBI and \\\\u00a31,000 Personal Allowance can be made <br>75% budget neutral by setting the basic, higher and additional rates<br> to 22.2%, 40.0% and 45.0% respectively.\"],[\"A \\\\u00a32,400 UBI and \\\\u00a30 Personal Allowance can be made <br>75% budget neutral by setting the basic, higher and additional rates<br> to 21.2%, 40.0% and 45.0% respectively.\"]],\"hovertemplate\":\"%{customdata[0]}\",\"legendgroup\":\"0%                        \",\"line\":{\"color\":\"#ABCEEB\",\"dash\":\"solid\"},\"marker\":{\"symbol\":\"circle\"},\"mode\":\"lines\",\"name\":\"0%                        \",\"orientation\":\"v\",\"showlegend\":true,\"x\":[12570,12000,11000,10000,9000,8000,7000,6000,5000,4000,3000,2000,1000,0],\"xaxis\":\"x\",\"y\":[0.452197265625,0.434619140625,0.406787109375,0.380419921875,0.356982421875,0.335009765625,0.314501953125,0.295458984375,0.277880859375,0.261767578125,0.247119140625,0.233935546875,0.222216796875,0.211962890625],\"yaxis\":\"y\",\"type\":\"scatter\"},{\"customdata\":[[\"A \\\\u00a32,400 UBI and \\\\u00a312,570 Personal Allowance can be made <br>75% budget neutral by setting the basic, higher and additional rates<br> to 40.1%, 60.1% and 65.1% respectively.\"],[\"A \\\\u00a32,400 UBI and \\\\u00a312,000 Personal Allowance can be made <br>75% budget neutral by setting the basic, higher and additional rates<br> to 38.9%, 58.9% and 63.9% respectively.\"],[\"A \\\\u00a32,400 UBI and \\\\u00a311,000 Personal Allowance can be made <br>75% budget neutral by setting the basic, higher and additional rates<br> to 36.9%, 56.9% and 61.9% respectively.\"],[\"A \\\\u00a32,400 UBI and \\\\u00a310,000 Personal Allowance can be made <br>75% budget neutral by setting the basic, higher and additional rates<br> to 35.0%, 55.0% and 60.0% respectively.\"],[\"A \\\\u00a32,400 UBI and \\\\u00a39,000 Personal Allowance can be made <br>75% budget neutral by setting the basic, higher and additional rates<br> to 33.1%, 53.1% and 58.1% respectively.\"],[\"A \\\\u00a32,400 UBI and \\\\u00a38,000 Personal Allowance can be made <br>75% budget neutral by setting the basic, higher and additional rates<br> to 31.3%, 51.3% and 56.3% respectively.\"],[\"A \\\\u00a32,400 UBI and \\\\u00a37,000 Personal Allowance can be made <br>75% budget neutral by setting the basic, higher and additional rates<br> to 29.7%, 49.7% and 54.7% respectively.\"],[\"A \\\\u00a32,400 UBI and \\\\u00a36,000 Personal Allowance can be made <br>75% budget neutral by setting the basic, higher and additional rates<br> to 28.1%, 48.1% and 53.1% respectively.\"],[\"A \\\\u00a32,400 UBI and \\\\u00a35,000 Personal Allowance can be made <br>75% budget neutral by setting the basic, higher and additional rates<br> to 26.8%, 46.8% and 51.8% respectively.\"],[\"A \\\\u00a32,400 UBI and \\\\u00a34,000 Personal Allowance can be made <br>75% budget neutral by setting the basic, higher and additional rates<br> to 25.4%, 45.4% and 50.4% respectively.\"],[\"A \\\\u00a32,400 UBI and \\\\u00a33,000 Personal Allowance can be made <br>75% budget neutral by setting the basic, higher and additional rates<br> to 24.1%, 44.1% and 49.1% respectively.\"],[\"A \\\\u00a32,400 UBI and \\\\u00a32,000 Personal Allowance can be made <br>75% budget neutral by setting the basic, higher and additional rates<br> to 23.1%, 43.1% and 48.1% respectively.\"],[\"A \\\\u00a32,400 UBI and \\\\u00a31,000 Personal Allowance can be made <br>75% budget neutral by setting the basic, higher and additional rates<br> to 22.1%, 42.1% and 47.1% respectively.\"],[\"A \\\\u00a32,400 UBI and \\\\u00a30 Personal Allowance can be made <br>75% budget neutral by setting the basic, higher and additional rates<br> to 21.0%, 41.0% and 46.0% respectively.\"]],\"hovertemplate\":\"%{customdata[0]}\",\"legendgroup\":\"100%                        \",\"line\":{\"color\":\"#49A6E2\",\"dash\":\"solid\"},\"marker\":{\"symbol\":\"circle\"},\"mode\":\"lines\",\"name\":\"100%                        \",\"orientation\":\"v\",\"showlegend\":false,\"x\":[12570,12000,11000,10000,9000,8000,7000,6000,5000,4000,3000,2000,1000,0],\"xaxis\":\"x\",\"y\":[0.400927734375,0.389208984375,0.368701171875,0.349658203125,0.330615234375,0.313037109375,0.296923828125,0.280810546875,0.267626953125,0.254443359375,0.241259765625,0.231005859375,0.220751953125,0.210498046875],\"yaxis\":\"y\",\"type\":\"scatter\"},{\"customdata\":[[\"A \\\\u00a32,400 UBI and \\\\u00a39,000 Personal Allowance can be made <br>75% budget neutral by setting the basic, higher and additional rates<br> to 31.2%, 62.3% and 67.3% respectively.\"],[\"A \\\\u00a32,400 UBI and \\\\u00a38,000 Personal Allowance can be made <br>75% budget neutral by setting the basic, higher and additional rates<br> to 29.8%, 59.7% and 64.7% respectively.\"],[\"A \\\\u00a32,400 UBI and \\\\u00a37,000 Personal Allowance can be made <br>75% budget neutral by setting the basic, higher and additional rates<br> to 28.4%, 56.7% and 61.7% respectively.\"],[\"A \\\\u00a32,400 UBI and \\\\u00a36,000 Personal Allowance can be made <br>75% budget neutral by setting the basic, higher and additional rates<br> to 27.2%, 54.4% and 59.4% respectively.\"],[\"A \\\\u00a32,400 UBI and \\\\u00a35,000 Personal Allowance can be made <br>75% budget neutral by setting the basic, higher and additional rates<br> to 25.9%, 51.8% and 56.8% respectively.\"],[\"A \\\\u00a32,400 UBI and \\\\u00a34,000 Personal Allowance can be made <br>75% budget neutral by setting the basic, higher and additional rates<br> to 24.7%, 49.4% and 54.4% respectively.\"],[\"A \\\\u00a32,400 UBI and \\\\u00a33,000 Personal Allowance can be made <br>75% budget neutral by setting the basic, higher and additional rates<br> to 23.7%, 47.4% and 52.4% respectively.\"],[\"A \\\\u00a32,400 UBI and \\\\u00a32,000 Personal Allowance can be made <br>75% budget neutral by setting the basic, higher and additional rates<br> to 22.8%, 45.6% and 50.6% respectively.\"],[\"A \\\\u00a32,400 UBI and \\\\u00a31,000 Personal Allowance can be made <br>75% budget neutral by setting the basic, higher and additional rates<br> to 21.8%, 43.6% and 48.6% respectively.\"],[\"A \\\\u00a32,400 UBI and \\\\u00a30 Personal Allowance can be made <br>75% budget neutral by setting the basic, higher and additional rates<br> to 21.0%, 42.1% and 47.1% respectively.\"]],\"hovertemplate\":\"%{customdata[0]}\",\"legendgroup\":\"200%                        \",\"line\":{\"color\":\"#1976D2\",\"dash\":\"solid\"},\"marker\":{\"symbol\":\"circle\"},\"mode\":\"lines\",\"name\":\"200%                        \",\"orientation\":\"v\",\"showlegend\":false,\"x\":[9000,8000,7000,6000,5000,4000,3000,2000,1000,0],\"xaxis\":\"x\",\"y\":[0.311572265625,0.298388671875,0.283740234375,0.272021484375,0.258837890625,0.247119140625,0.236865234375,0.228076171875,0.217822265625,0.210498046875],\"yaxis\":\"y\",\"type\":\"scatter\"},{\"customdata\":[[\"A \\\\u00a33,600 UBI and \\\\u00a312,570 Personal Allowance can be made <br>75% budget neutral by setting the basic, higher and additional rates<br> to 57.8%, 40.0% and 45.0% respectively.\"],[\"A \\\\u00a33,600 UBI and \\\\u00a312,000 Personal Allowance can be made <br>75% budget neutral by setting the basic, higher and additional rates<br> to 55.6%, 40.0% and 45.0% respectively.\"],[\"A \\\\u00a33,600 UBI and \\\\u00a311,000 Personal Allowance can be made <br>75% budget neutral by setting the basic, higher and additional rates<br> to 52.0%, 40.0% and 45.0% respectively.\"],[\"A \\\\u00a33,600 UBI and \\\\u00a310,000 Personal Allowance can be made <br>75% budget neutral by setting the basic, higher and additional rates<br> to 48.7%, 40.0% and 45.0% respectively.\"],[\"A \\\\u00a33,600 UBI and \\\\u00a39,000 Personal Allowance can be made <br>75% budget neutral by setting the basic, higher and additional rates<br> to 45.7%, 40.0% and 45.0% respectively.\"],[\"A \\\\u00a33,600 UBI and \\\\u00a38,000 Personal Allowance can be made <br>75% budget neutral by setting the basic, higher and additional rates<br> to 42.7%, 40.0% and 45.0% respectively.\"],[\"A \\\\u00a33,600 UBI and \\\\u00a37,000 Personal Allowance can be made <br>75% budget neutral by setting the basic, higher and additional rates<br> to 40.1%, 40.0% and 45.0% respectively.\"],[\"A \\\\u00a33,600 UBI and \\\\u00a36,000 Personal Allowance can be made <br>75% budget neutral by setting the basic, higher and additional rates<br> to 37.7%, 40.0% and 45.0% respectively.\"],[\"A \\\\u00a33,600 UBI and \\\\u00a35,000 Personal Allowance can be made <br>75% budget neutral by setting the basic, higher and additional rates<br> to 35.4%, 40.0% and 45.0% respectively.\"],[\"A \\\\u00a33,600 UBI and \\\\u00a34,000 Personal Allowance can be made <br>75% budget neutral by setting the basic, higher and additional rates<br> to 33.5%, 40.0% and 45.0% respectively.\"],[\"A \\\\u00a33,600 UBI and \\\\u00a33,000 Personal Allowance can be made <br>75% budget neutral by setting the basic, higher and additional rates<br> to 31.6%, 40.0% and 45.0% respectively.\"],[\"A \\\\u00a33,600 UBI and \\\\u00a32,000 Personal Allowance can be made <br>75% budget neutral by setting the basic, higher and additional rates<br> to 30.0%, 40.0% and 45.0% respectively.\"],[\"A \\\\u00a33,600 UBI and \\\\u00a31,000 Personal Allowance can be made <br>75% budget neutral by setting the basic, higher and additional rates<br> to 28.5%, 40.0% and 45.0% respectively.\"],[\"A \\\\u00a33,600 UBI and \\\\u00a30 Personal Allowance can be made <br>75% budget neutral by setting the basic, higher and additional rates<br> to 27.2%, 40.0% and 45.0% respectively.\"]],\"hovertemplate\":\"%{customdata[0]}\",\"legendgroup\":\"0%                                    \",\"line\":{\"color\":\"#ABCEEB\",\"dash\":\"solid\"},\"marker\":{\"symbol\":\"circle\"},\"mode\":\"lines\",\"name\":\"0%                                    \",\"orientation\":\"v\",\"showlegend\":false,\"x\":[12570,12000,11000,10000,9000,8000,7000,6000,5000,4000,3000,2000,1000,0],\"xaxis\":\"x\",\"y\":[0.578173828125,0.556201171875,0.519580078125,0.487353515625,0.456591796875,0.427294921875,0.400927734375,0.377490234375,0.354052734375,0.335009765625,0.315966796875,0.299853515625,0.285205078125,0.272021484375],\"yaxis\":\"y\",\"type\":\"scatter\"},{\"customdata\":[[\"A \\\\u00a33,600 UBI and \\\\u00a310,000 Personal Allowance can be made <br>75% budget neutral by setting the basic, higher and additional rates<br> to 43.6%, 63.6% and 68.6% respectively.\"],[\"A \\\\u00a33,600 UBI and \\\\u00a39,000 Personal Allowance can be made <br>75% budget neutral by setting the basic, higher and additional rates<br> to 41.4%, 61.4% and 66.4% respectively.\"],[\"A \\\\u00a33,600 UBI and \\\\u00a38,000 Personal Allowance can be made <br>75% budget neutral by setting the basic, higher and additional rates<br> to 39.2%, 59.2% and 64.2% respectively.\"],[\"A \\\\u00a33,600 UBI and \\\\u00a37,000 Personal Allowance can be made <br>75% budget neutral by setting the basic, higher and additional rates<br> to 37.2%, 57.2% and 62.2% respectively.\"],[\"A \\\\u00a33,600 UBI and \\\\u00a36,000 Personal Allowance can be made <br>75% budget neutral by setting the basic, higher and additional rates<br> to 35.3%, 55.3% and 60.3% respectively.\"],[\"A \\\\u00a33,600 UBI and \\\\u00a35,000 Personal Allowance can be made <br>75% budget neutral by setting the basic, higher and additional rates<br> to 33.4%, 53.4% and 58.4% respectively.\"],[\"A \\\\u00a33,600 UBI and \\\\u00a34,000 Personal Allowance can be made <br>75% budget neutral by setting the basic, higher and additional rates<br> to 31.7%, 51.7% and 56.7% respectively.\"],[\"A \\\\u00a33,600 UBI and \\\\u00a33,000 Personal Allowance can be made <br>75% budget neutral by setting the basic, higher and additional rates<br> to 30.3%, 50.3% and 55.3% respectively.\"],[\"A \\\\u00a33,600 UBI and \\\\u00a32,000 Personal Allowance can be made <br>75% budget neutral by setting the basic, higher and additional rates<br> to 28.8%, 48.8% and 53.8% respectively.\"],[\"A \\\\u00a33,600 UBI and \\\\u00a31,000 Personal Allowance can be made <br>75% budget neutral by setting the basic, higher and additional rates<br> to 27.5%, 47.5% and 52.5% respectively.\"],[\"A \\\\u00a33,600 UBI and \\\\u00a30 Personal Allowance can be made <br>75% budget neutral by setting the basic, higher and additional rates<br> to 26.3%, 46.3% and 51.3% respectively.\"]],\"hovertemplate\":\"%{customdata[0]}\",\"legendgroup\":\"100%                                    \",\"line\":{\"color\":\"#49A6E2\",\"dash\":\"solid\"},\"marker\":{\"symbol\":\"circle\"},\"mode\":\"lines\",\"name\":\"100%                                    \",\"orientation\":\"v\",\"showlegend\":true,\"x\":[10000,9000,8000,7000,6000,5000,4000,3000,2000,1000,0],\"xaxis\":\"x\",\"y\":[0.436083984375,0.414111328125,0.392138671875,0.371630859375,0.352587890625,0.333544921875,0.317431640625,0.302783203125,0.288134765625,0.274951171875,0.263232421875],\"yaxis\":\"y\",\"type\":\"scatter\"},{\"customdata\":[[\"A \\\\u00a33,600 UBI and \\\\u00a35,000 Personal Allowance can be made <br>75% budget neutral by setting the basic, higher and additional rates<br> to 31.9%, 63.8% and 68.8% respectively.\"],[\"A \\\\u00a33,600 UBI and \\\\u00a34,000 Personal Allowance can be made <br>75% budget neutral by setting the basic, higher and additional rates<br> to 30.4%, 60.8% and 65.8% respectively.\"],[\"A \\\\u00a33,600 UBI and \\\\u00a33,000 Personal Allowance can be made <br>75% budget neutral by setting the basic, higher and additional rates<br> to 29.1%, 58.2% and 63.2% respectively.\"],[\"A \\\\u00a33,600 UBI and \\\\u00a32,000 Personal Allowance can be made <br>75% budget neutral by setting the basic, higher and additional rates<br> to 27.9%, 55.9% and 60.9% respectively.\"],[\"A \\\\u00a33,600 UBI and \\\\u00a31,000 Personal Allowance can be made <br>75% budget neutral by setting the basic, higher and additional rates<br> to 26.8%, 53.5% and 58.5% respectively.\"],[\"A \\\\u00a33,600 UBI and \\\\u00a30 Personal Allowance can be made <br>75% budget neutral by setting the basic, higher and additional rates<br> to 25.7%, 51.5% and 56.5% respectively.\"]],\"hovertemplate\":\"%{customdata[0]}\",\"legendgroup\":\"200%                                    \",\"line\":{\"color\":\"#1976D2\",\"dash\":\"solid\"},\"marker\":{\"symbol\":\"circle\"},\"mode\":\"lines\",\"name\":\"200%                                    \",\"orientation\":\"v\",\"showlegend\":false,\"x\":[5000,4000,3000,2000,1000,0],\"xaxis\":\"x\",\"y\":[0.318896484375,0.304248046875,0.291064453125,0.279345703125,0.267626953125,0.257373046875],\"yaxis\":\"y\",\"type\":\"scatter\"},{\"customdata\":[[\"A \\\\u00a34,800 UBI and \\\\u00a312,570 Personal Allowance can be made <br>75% budget neutral by setting the basic, higher and additional rates<br> to 70.4%, 40.0% and 45.0% respectively.\"],[\"A \\\\u00a34,800 UBI and \\\\u00a312,000 Personal Allowance can be made <br>75% budget neutral by setting the basic, higher and additional rates<br> to 67.8%, 40.0% and 45.0% respectively.\"],[\"A \\\\u00a34,800 UBI and \\\\u00a311,000 Personal Allowance can be made <br>75% budget neutral by setting the basic, higher and additional rates<br> to 63.4%, 40.0% and 45.0% respectively.\"],[\"A \\\\u00a34,800 UBI and \\\\u00a310,000 Personal Allowance can be made <br>75% budget neutral by setting the basic, higher and additional rates<br> to 59.3%, 40.0% and 45.0% respectively.\"],[\"A \\\\u00a34,800 UBI and \\\\u00a39,000 Personal Allowance can be made <br>75% budget neutral by setting the basic, higher and additional rates<br> to 55.6%, 40.0% and 45.0% respectively.\"],[\"A \\\\u00a34,800 UBI and \\\\u00a38,000 Personal Allowance can be made <br>75% budget neutral by setting the basic, higher and additional rates<br> to 52.1%, 40.0% and 45.0% respectively.\"],[\"A \\\\u00a34,800 UBI and \\\\u00a37,000 Personal Allowance can be made <br>75% budget neutral by setting the basic, higher and additional rates<br> to 48.9%, 40.0% and 45.0% respectively.\"],[\"A \\\\u00a34,800 UBI and \\\\u00a36,000 Personal Allowance can be made <br>75% budget neutral by setting the basic, higher and additional rates<br> to 46.0%, 40.0% and 45.0% respectively.\"],[\"A \\\\u00a34,800 UBI and \\\\u00a35,000 Personal Allowance can be made <br>75% budget neutral by setting the basic, higher and additional rates<br> to 43.2%, 40.0% and 45.0% respectively.\"],[\"A \\\\u00a34,800 UBI and \\\\u00a34,000 Personal Allowance can be made <br>75% budget neutral by setting the basic, higher and additional rates<br> to 40.8%, 40.0% and 45.0% respectively.\"],[\"A \\\\u00a34,800 UBI and \\\\u00a33,000 Personal Allowance can be made <br>75% budget neutral by setting the basic, higher and additional rates<br> to 38.5%, 40.0% and 45.0% respectively.\"],[\"A \\\\u00a34,800 UBI and \\\\u00a32,000 Personal Allowance can be made <br>75% budget neutral by setting the basic, higher and additional rates<br> to 36.6%, 40.0% and 45.0% respectively.\"],[\"A \\\\u00a34,800 UBI and \\\\u00a31,000 Personal Allowance can be made <br>75% budget neutral by setting the basic, higher and additional rates<br> to 34.7%, 40.0% and 45.0% respectively.\"],[\"A \\\\u00a34,800 UBI and \\\\u00a30 Personal Allowance can be made <br>75% budget neutral by setting the basic, higher and additional rates<br> to 33.1%, 40.0% and 45.0% respectively.\"]],\"hovertemplate\":\"%{customdata[0]}\",\"legendgroup\":\"0%                                                \",\"line\":{\"color\":\"#ABCEEB\",\"dash\":\"solid\"},\"marker\":{\"symbol\":\"circle\"},\"mode\":\"lines\",\"name\":\"0%                                                \",\"orientation\":\"v\",\"showlegend\":false,\"x\":[12570,12000,11000,10000,9000,8000,7000,6000,5000,4000,3000,2000,1000,0],\"xaxis\":\"x\",\"y\":[0.704150390625,0.677783203125,0.633837890625,0.592822265625,0.556201171875,0.521044921875,0.488818359375,0.459521484375,0.431689453125,0.408251953125,0.384814453125,0.365771484375,0.346728515625,0.330615234375],\"yaxis\":\"y\",\"type\":\"scatter\"},{\"customdata\":[[\"A \\\\u00a34,800 UBI and \\\\u00a36,000 Personal Allowance can be made <br>75% budget neutral by setting the basic, higher and additional rates<br> to 42.3%, 62.3% and 67.3% respectively.\"],[\"A \\\\u00a34,800 UBI and \\\\u00a35,000 Personal Allowance can be made <br>75% budget neutral by setting the basic, higher and additional rates<br> to 40.1%, 60.1% and 65.1% respectively.\"],[\"A \\\\u00a34,800 UBI and \\\\u00a34,000 Personal Allowance can be made <br>75% budget neutral by setting the basic, higher and additional rates<br> to 38.2%, 58.2% and 63.2% respectively.\"],[\"A \\\\u00a34,800 UBI and \\\\u00a33,000 Personal Allowance can be made <br>75% budget neutral by setting the basic, higher and additional rates<br> to 36.3%, 56.3% and 61.3% respectively.\"],[\"A \\\\u00a34,800 UBI and \\\\u00a32,000 Personal Allowance can be made <br>75% budget neutral by setting the basic, higher and additional rates<br> to 34.7%, 54.7% and 59.7% respectively.\"],[\"A \\\\u00a34,800 UBI and \\\\u00a31,000 Personal Allowance can be made <br>75% budget neutral by setting the basic, higher and additional rates<br> to 33.1%, 53.1% and 58.1% respectively.\"],[\"A \\\\u00a34,800 UBI and \\\\u00a30 Personal Allowance can be made <br>75% budget neutral by setting the basic, higher and additional rates<br> to 31.7%, 51.7% and 56.7% respectively.\"]],\"hovertemplate\":\"%{customdata[0]}\",\"legendgroup\":\"100%                                                \",\"line\":{\"color\":\"#49A6E2\",\"dash\":\"solid\"},\"marker\":{\"symbol\":\"circle\"},\"mode\":\"lines\",\"name\":\"100%                                                \",\"orientation\":\"v\",\"showlegend\":false,\"x\":[6000,5000,4000,3000,2000,1000,0],\"xaxis\":\"x\",\"y\":[0.422900390625,0.400927734375,0.381884765625,0.362841796875,0.346728515625,0.330615234375,0.317431640625],\"yaxis\":\"y\",\"type\":\"scatter\"},{\"customdata\":[[\"A \\\\u00a34,800 UBI and \\\\u00a31,000 Personal Allowance can be made <br>75% budget neutral by setting the basic, higher and additional rates<br> to 31.7%, 63.5% and 68.5% respectively.\"],[\"A \\\\u00a34,800 UBI and \\\\u00a30 Personal Allowance can be made <br>75% budget neutral by setting the basic, higher and additional rates<br> to 30.6%, 61.1% and 66.1% respectively.\"]],\"hovertemplate\":\"%{customdata[0]}\",\"legendgroup\":\"200%                                                \",\"line\":{\"color\":\"#1976D2\",\"dash\":\"solid\"},\"marker\":{\"symbol\":\"circle\"},\"mode\":\"lines\",\"name\":\"200%                                                \",\"orientation\":\"v\",\"showlegend\":true,\"x\":[1000,0],\"xaxis\":\"x\",\"y\":[0.317431640625,0.305712890625],\"yaxis\":\"y\",\"type\":\"scatter\"},{\"marker\":{\"color\":\"gray\",\"size\":5},\"mode\":\"markers\",\"showlegend\":false,\"x\":[2000],\"y\":[0.228076171875],\"type\":\"scatter\"},{\"mode\":\"text\",\"showlegend\":false,\"text\":[\"Model 1\"],\"textposition\":\"middle right\",\"x\":[2300],\"y\":[0.23807617187500002],\"type\":\"scatter\"},{\"marker\":{\"color\":\"gray\",\"size\":5},\"mode\":\"markers\",\"showlegend\":false,\"x\":[0],\"y\":[0.263232421875],\"type\":\"scatter\"},{\"mode\":\"text\",\"showlegend\":false,\"text\":[\"Model 2\"],\"textposition\":\"middle right\",\"x\":[300],\"y\":[0.273232421875],\"type\":\"scatter\"},{\"marker\":{\"color\":\"gray\",\"size\":5},\"mode\":\"markers\",\"showlegend\":false,\"x\":[0],\"y\":[0.330615234375],\"type\":\"scatter\"},{\"mode\":\"text\",\"showlegend\":false,\"text\":[\"Model 3\"],\"textposition\":\"middle right\",\"x\":[300],\"y\":[0.340615234375],\"type\":\"scatter\"}],\"layout\":{\"template\":{\"data\":{\"barpolar\":[{\"marker\":{\"line\":{\"color\":\"white\",\"width\":0.5},\"pattern\":{\"fillmode\":\"overlay\",\"size\":10,\"solidity\":0.2}},\"type\":\"barpolar\"}],\"bar\":[{\"error_x\":{\"color\":\"#2a3f5f\"},\"error_y\":{\"color\":\"#2a3f5f\"},\"marker\":{\"line\":{\"color\":\"white\",\"width\":0.5},\"pattern\":{\"fillmode\":\"overlay\",\"size\":10,\"solidity\":0.2}},\"type\":\"bar\"}],\"carpet\":[{\"aaxis\":{\"endlinecolor\":\"#2a3f5f\",\"gridcolor\":\"#C8D4E3\",\"linecolor\":\"#C8D4E3\",\"minorgridcolor\":\"#C8D4E3\",\"startlinecolor\":\"#2a3f5f\"},\"baxis\":{\"endlinecolor\":\"#2a3f5f\",\"gridcolor\":\"#C8D4E3\",\"linecolor\":\"#C8D4E3\",\"minorgridcolor\":\"#C8D4E3\",\"startlinecolor\":\"#2a3f5f\"},\"type\":\"carpet\"}],\"choropleth\":[{\"colorbar\":{\"outlinewidth\":0,\"ticks\":\"\"},\"type\":\"choropleth\"}],\"contourcarpet\":[{\"colorbar\":{\"outlinewidth\":0,\"ticks\":\"\"},\"type\":\"contourcarpet\"}],\"contour\":[{\"colorbar\":{\"outlinewidth\":0,\"ticks\":\"\"},\"colorscale\":[[0.0,\"#0d0887\"],[0.1111111111111111,\"#46039f\"],[0.2222222222222222,\"#7201a8\"],[0.3333333333333333,\"#9c179e\"],[0.4444444444444444,\"#bd3786\"],[0.5555555555555556,\"#d8576b\"],[0.6666666666666666,\"#ed7953\"],[0.7777777777777778,\"#fb9f3a\"],[0.8888888888888888,\"#fdca26\"],[1.0,\"#f0f921\"]],\"type\":\"contour\"}],\"heatmapgl\":[{\"colorbar\":{\"outlinewidth\":0,\"ticks\":\"\"},\"colorscale\":[[0.0,\"#0d0887\"],[0.1111111111111111,\"#46039f\"],[0.2222222222222222,\"#7201a8\"],[0.3333333333333333,\"#9c179e\"],[0.4444444444444444,\"#bd3786\"],[0.5555555555555556,\"#d8576b\"],[0.6666666666666666,\"#ed7953\"],[0.7777777777777778,\"#fb9f3a\"],[0.8888888888888888,\"#fdca26\"],[1.0,\"#f0f921\"]],\"type\":\"heatmapgl\"}],\"heatmap\":[{\"colorbar\":{\"outlinewidth\":0,\"ticks\":\"\"},\"colorscale\":[[0.0,\"#0d0887\"],[0.1111111111111111,\"#46039f\"],[0.2222222222222222,\"#7201a8\"],[0.3333333333333333,\"#9c179e\"],[0.4444444444444444,\"#bd3786\"],[0.5555555555555556,\"#d8576b\"],[0.6666666666666666,\"#ed7953\"],[0.7777777777777778,\"#fb9f3a\"],[0.8888888888888888,\"#fdca26\"],[1.0,\"#f0f921\"]],\"type\":\"heatmap\"}],\"histogram2dcontour\":[{\"colorbar\":{\"outlinewidth\":0,\"ticks\":\"\"},\"colorscale\":[[0.0,\"#0d0887\"],[0.1111111111111111,\"#46039f\"],[0.2222222222222222,\"#7201a8\"],[0.3333333333333333,\"#9c179e\"],[0.4444444444444444,\"#bd3786\"],[0.5555555555555556,\"#d8576b\"],[0.6666666666666666,\"#ed7953\"],[0.7777777777777778,\"#fb9f3a\"],[0.8888888888888888,\"#fdca26\"],[1.0,\"#f0f921\"]],\"type\":\"histogram2dcontour\"}],\"histogram2d\":[{\"colorbar\":{\"outlinewidth\":0,\"ticks\":\"\"},\"colorscale\":[[0.0,\"#0d0887\"],[0.1111111111111111,\"#46039f\"],[0.2222222222222222,\"#7201a8\"],[0.3333333333333333,\"#9c179e\"],[0.4444444444444444,\"#bd3786\"],[0.5555555555555556,\"#d8576b\"],[0.6666666666666666,\"#ed7953\"],[0.7777777777777778,\"#fb9f3a\"],[0.8888888888888888,\"#fdca26\"],[1.0,\"#f0f921\"]],\"type\":\"histogram2d\"}],\"histogram\":[{\"marker\":{\"pattern\":{\"fillmode\":\"overlay\",\"size\":10,\"solidity\":0.2}},\"type\":\"histogram\"}],\"mesh3d\":[{\"colorbar\":{\"outlinewidth\":0,\"ticks\":\"\"},\"type\":\"mesh3d\"}],\"parcoords\":[{\"line\":{\"colorbar\":{\"outlinewidth\":0,\"ticks\":\"\"}},\"type\":\"parcoords\"}],\"pie\":[{\"automargin\":true,\"type\":\"pie\"}],\"scatter3d\":[{\"line\":{\"colorbar\":{\"outlinewidth\":0,\"ticks\":\"\"}},\"marker\":{\"colorbar\":{\"outlinewidth\":0,\"ticks\":\"\"}},\"type\":\"scatter3d\"}],\"scattercarpet\":[{\"marker\":{\"colorbar\":{\"outlinewidth\":0,\"ticks\":\"\"}},\"type\":\"scattercarpet\"}],\"scattergeo\":[{\"marker\":{\"colorbar\":{\"outlinewidth\":0,\"ticks\":\"\"}},\"type\":\"scattergeo\"}],\"scattergl\":[{\"marker\":{\"colorbar\":{\"outlinewidth\":0,\"ticks\":\"\"}},\"type\":\"scattergl\"}],\"scattermapbox\":[{\"marker\":{\"colorbar\":{\"outlinewidth\":0,\"ticks\":\"\"}},\"type\":\"scattermapbox\"}],\"scatterpolargl\":[{\"marker\":{\"colorbar\":{\"outlinewidth\":0,\"ticks\":\"\"}},\"type\":\"scatterpolargl\"}],\"scatterpolar\":[{\"marker\":{\"colorbar\":{\"outlinewidth\":0,\"ticks\":\"\"}},\"type\":\"scatterpolar\"}],\"scatter\":[{\"fillpattern\":{\"fillmode\":\"overlay\",\"size\":10,\"solidity\":0.2},\"type\":\"scatter\"}],\"scatterternary\":[{\"marker\":{\"colorbar\":{\"outlinewidth\":0,\"ticks\":\"\"}},\"type\":\"scatterternary\"}],\"surface\":[{\"colorbar\":{\"outlinewidth\":0,\"ticks\":\"\"},\"colorscale\":[[0.0,\"#0d0887\"],[0.1111111111111111,\"#46039f\"],[0.2222222222222222,\"#7201a8\"],[0.3333333333333333,\"#9c179e\"],[0.4444444444444444,\"#bd3786\"],[0.5555555555555556,\"#d8576b\"],[0.6666666666666666,\"#ed7953\"],[0.7777777777777778,\"#fb9f3a\"],[0.8888888888888888,\"#fdca26\"],[1.0,\"#f0f921\"]],\"type\":\"surface\"}],\"table\":[{\"cells\":{\"fill\":{\"color\":\"#EBF0F8\"},\"line\":{\"color\":\"white\"}},\"header\":{\"fill\":{\"color\":\"#C8D4E3\"},\"line\":{\"color\":\"white\"}},\"type\":\"table\"}]},\"layout\":{\"annotationdefaults\":{\"arrowcolor\":\"#2a3f5f\",\"arrowhead\":0,\"arrowwidth\":1},\"autotypenumbers\":\"strict\",\"coloraxis\":{\"colorbar\":{\"outlinewidth\":0,\"ticks\":\"\"}},\"colorscale\":{\"diverging\":[[0,\"#8e0152\"],[0.1,\"#c51b7d\"],[0.2,\"#de77ae\"],[0.3,\"#f1b6da\"],[0.4,\"#fde0ef\"],[0.5,\"#f7f7f7\"],[0.6,\"#e6f5d0\"],[0.7,\"#b8e186\"],[0.8,\"#7fbc41\"],[0.9,\"#4d9221\"],[1,\"#276419\"]],\"sequential\":[[0.0,\"#0d0887\"],[0.1111111111111111,\"#46039f\"],[0.2222222222222222,\"#7201a8\"],[0.3333333333333333,\"#9c179e\"],[0.4444444444444444,\"#bd3786\"],[0.5555555555555556,\"#d8576b\"],[0.6666666666666666,\"#ed7953\"],[0.7777777777777778,\"#fb9f3a\"],[0.8888888888888888,\"#fdca26\"],[1.0,\"#f0f921\"]],\"sequentialminus\":[[0.0,\"#0d0887\"],[0.1111111111111111,\"#46039f\"],[0.2222222222222222,\"#7201a8\"],[0.3333333333333333,\"#9c179e\"],[0.4444444444444444,\"#bd3786\"],[0.5555555555555556,\"#d8576b\"],[0.6666666666666666,\"#ed7953\"],[0.7777777777777778,\"#fb9f3a\"],[0.8888888888888888,\"#fdca26\"],[1.0,\"#f0f921\"]]},\"colorway\":[\"#636efa\",\"#EF553B\",\"#00cc96\",\"#ab63fa\",\"#FFA15A\",\"#19d3f3\",\"#FF6692\",\"#B6E880\",\"#FF97FF\",\"#FECB52\"],\"font\":{\"color\":\"#2a3f5f\"},\"geo\":{\"bgcolor\":\"white\",\"lakecolor\":\"white\",\"landcolor\":\"white\",\"showlakes\":true,\"showland\":true,\"subunitcolor\":\"#C8D4E3\"},\"hoverlabel\":{\"align\":\"left\"},\"hovermode\":\"closest\",\"mapbox\":{\"style\":\"light\"},\"paper_bgcolor\":\"white\",\"plot_bgcolor\":\"white\",\"polar\":{\"angularaxis\":{\"gridcolor\":\"#EBF0F8\",\"linecolor\":\"#EBF0F8\",\"ticks\":\"\"},\"bgcolor\":\"white\",\"radialaxis\":{\"gridcolor\":\"#EBF0F8\",\"linecolor\":\"#EBF0F8\",\"ticks\":\"\"}},\"scene\":{\"xaxis\":{\"backgroundcolor\":\"white\",\"gridcolor\":\"#DFE8F3\",\"gridwidth\":2,\"linecolor\":\"#EBF0F8\",\"showbackground\":true,\"ticks\":\"\",\"zerolinecolor\":\"#EBF0F8\"},\"yaxis\":{\"backgroundcolor\":\"white\",\"gridcolor\":\"#DFE8F3\",\"gridwidth\":2,\"linecolor\":\"#EBF0F8\",\"showbackground\":true,\"ticks\":\"\",\"zerolinecolor\":\"#EBF0F8\"},\"zaxis\":{\"backgroundcolor\":\"white\",\"gridcolor\":\"#DFE8F3\",\"gridwidth\":2,\"linecolor\":\"#EBF0F8\",\"showbackground\":true,\"ticks\":\"\",\"zerolinecolor\":\"#EBF0F8\"}},\"shapedefaults\":{\"line\":{\"color\":\"#2a3f5f\"}},\"ternary\":{\"aaxis\":{\"gridcolor\":\"#DFE8F3\",\"linecolor\":\"#A2B1C6\",\"ticks\":\"\"},\"baxis\":{\"gridcolor\":\"#DFE8F3\",\"linecolor\":\"#A2B1C6\",\"ticks\":\"\"},\"bgcolor\":\"white\",\"caxis\":{\"gridcolor\":\"#DFE8F3\",\"linecolor\":\"#A2B1C6\",\"ticks\":\"\"}},\"title\":{\"x\":0.05},\"xaxis\":{\"automargin\":true,\"gridcolor\":\"#EBF0F8\",\"linecolor\":\"#EBF0F8\",\"ticks\":\"\",\"title\":{\"standoff\":15},\"zerolinecolor\":\"#EBF0F8\",\"zerolinewidth\":2},\"yaxis\":{\"automargin\":true,\"gridcolor\":\"#EBF0F8\",\"linecolor\":\"#EBF0F8\",\"ticks\":\"\",\"title\":{\"standoff\":15},\"zerolinecolor\":\"#EBF0F8\",\"zerolinewidth\":2}}},\"xaxis\":{\"anchor\":\"y\",\"domain\":[0.0,1.0],\"title\":{\"text\":\"Personal Allowance\"},\"tickprefix\":\"\\\\u00a3\",\"tickformat\":\",.0f\"},\"yaxis\":{\"anchor\":\"x\",\"domain\":[0.0,1.0],\"title\":{\"text\":\"Basic rate\"},\"tickformat\":\".0%\"},\"legend\":{\"title\":{\"text\":\"Higher/add. rate increase ratio\"},\"tracegroupgap\":0,\"orientation\":\"h\",\"yanchor\":\"top\",\"y\":1.1},\"margin\":{\"t\":60},\"font\":{\"family\":\"Roboto Serif\",\"color\":\"black\"},\"images\":[{\"sizex\":0.2,\"sizey\":0.2,\"source\":\"https://raw.githubusercontent.com/PolicyEngine/policyengine-app/master/src/images/logos/policyengine/blue.png\",\"x\":1,\"xanchor\":\"right\",\"xref\":\"paper\",\"y\":-0.15,\"yanchor\":\"bottom\",\"yref\":\"paper\"}],\"height\":600,\"width\":800,\"modebar\":{\"bgcolor\":\"rgba(0,0,0,0)\",\"color\":\"rgba(0,0,0,0)\"},\"title\":{\"text\":\"Figure 2: Feasible UBI policies for Northern Ireland\"}}}'"
      ]
     },
     "execution_count": 3,
     "metadata": {},
     "output_type": "execute_result"
    }
   ],
   "source": [
    "from policyengine_core.charts import *\n",
    "from ubicenter.plotly import BLUE_COLOR_SEQUENCE\n",
    "\n",
    "df = df[df[\"Feasible MTR\"] == \"Yes\"]\n",
    "fig = px.line(\n",
    "    df,\n",
    "    x=\"Personal Allowance\", \n",
    "    y=\"Basic rate\", \n",
    "    color=\"UBI/Increase ratio combination\",  \n",
    "    custom_data=[df.Label],\n",
    "    color_discrete_sequence=BLUE_COLOR_SEQUENCE[:3],\n",
    ")\n",
    "fig.update_layout(\n",
    "    yaxis_tickformat=\".0%\",\n",
    "    yaxis_title=\"Basic rate\",\n",
    "    xaxis_tickprefix=\"£\",\n",
    "    xaxis_tickformat=\",.0f\",\n",
    "    legend_title=\"Higher/add. rate increase ratio\",\n",
    ")\n",
    "\n",
    "CUSTOM_HOVERTEMPLATE=\"%{customdata[0]}\"\n",
    "fig.update_traces(hovertemplate=CUSTOM_HOVERTEMPLATE)\n",
    "\n",
    "for i, data in enumerate(fig.data):\n",
    "    data.hovertemplate = CUSTOM_HOVERTEMPLATE\n",
    "    if i % 4 == 0:\n",
    "        data[\"showlegend\"] = True\n",
    "    else:\n",
    "        data[\"showlegend\"] = False\n",
    "\n",
    "\n",
    "# Add three points, one for each model.\n",
    "\n",
    "for row, name in zip([model_1_row, model_2_row, model_3_row], [\"Model 1\", \"Model 2\", \"Model 3\"]):\n",
    "    fig.add_trace(go.Scatter(\n",
    "        x=[row[\"Personal Allowance\"]],\n",
    "        y=[row[\"Basic rate\"]],\n",
    "        mode=\"markers\",\n",
    "        marker=dict(\n",
    "            color=\"gray\",\n",
    "            size=5,\n",
    "        ),\n",
    "        showlegend=False,\n",
    "    ))\n",
    "\n",
    "    fig.add_trace(go.Scatter(\n",
    "        x=[row[\"Personal Allowance\"] + 300],\n",
    "        y=[row[\"Basic rate\"] + 0.01],\n",
    "        mode=\"text\",\n",
    "        text=[name],\n",
    "        textposition=\"middle right\",\n",
    "        showlegend=False,\n",
    "    ))\n",
    "\n",
    "\n",
    "fig_json = format_fig(fig).update_layout(\n",
    "    title=\"Figure 2: Feasible UBI policies for Northern Ireland\",\n",
    "    legend=dict(\n",
    "        orientation=\"h\",\n",
    "        yanchor=\"top\",\n",
    "        y=1.1,\n",
    "    )\n",
    ").to_json()\n",
    "fig_json"
   ]
  },
  {
   "cell_type": "markdown",
   "metadata": {
    "tags": [
     "highlighted-right"
    ]
   },
   "source": [
    "Figure 2 illustrates the outcomes of various feasible policies generated through PolicyEngine's UK microsimulation model, using an enhanced version of the Family Resources Survey. Details on the data and methodology can be found in Appendix A. Each point on these lines represents a specific policy configuration. For instance, the topmost line displays all policies that provide £400 per month to adults (£100 to children) while keeping the higher and additional rates constant as the basic rate changes. The policy configurations along this line vary based on the basic rate and personal allowance. The leftmost point of this line represents a policy that completely eliminates the Personal Allowance (a reduction of the full £12,570), increases the basic rate by 4p, and leaves the higher and additional rates unchanged.\n",
    "\n",
    "These lines are incomplete because they do not show policies that would increase marginal tax rates (MTRs) above 100%. For example, the lowest line in the £400 per month group ends at the policy that would raise the basic rate by 11p and reduce the personal allowance to £6,000. Extending that line (raising the Personal Allowance) would require increasing the basic rate. However, doing so would increase the MTR above 100% for people earning £100,000, as their personal allowance phases out.[^7] To avoid exceeding 100% MTRs, more generous UBI policies require broader-based tax reforms focused on the personal allowance and basic rate.\n",
    "\n",
    "In the next section, we provide a deeper dive into three policies—one for each UBI level.\n",
    "\n",
    "[^7]: Specifically, the MTR increases by (higher rate x 1.5)% on the income between £100,000 and (£100,000 + personal allowance x 2). In the baseline, the higher rate is 40% and the personal allowance is £12,570, creating a 60% MTR on income between £100,000 and £125,140.\n"
   ]
  },
  {
   "cell_type": "markdown",
   "metadata": {},
   "source": [
    "## Policy deep dive\n",
    "\n",
    "We selected three of the 126 feasible policies to describe in more detail. These show the space of policies—not only in terms of UBI amount, but also the funding mechanisms. These three policies are shown in Table 1, the first column of which directs to the reform in PolicyEngine.[^8] Each policy's tax reforms comprise about 75% of the cost, with the remainder coming from the UK government.\n",
    "\n",
    "- _Model 1_ provides £200 per adult per month, and funds it by reducing the personal allowance to £2,000 and increasing the basic rate by 1.8p and the higher and additional rates by 3.6p.\n",
    "- _Model 2_ provides £300 per adult per month, funded by abolishing the personal allowance and increasing all three tax rates by 5.2p.\n",
    "- _Model 3_ provides £400 per adult per month, again abolishing the personal allowance but increasing only the basic rate of income tax, by 11.5p.\n",
    "\n",
    "Each of the reforms substantially lowers or eliminates the personal allowance, and increases the basic rate; the cost of the policies requires broad-based tax reform. Each of the reforms also cuts poverty by at least 36% and inequality by at least 9%, with the more generous programs producing stronger effects. A majority of the population comes out ahead from each, as well.\n",
    "\n",
    "[^8]: Alternative policies mirroring the triplet here but including payments for children are shown in Appendix B.\n",
    "\n",
    "Table 1: Three policies to fund a UBI in Northern Ireland\n"
   ]
  },
  {
   "cell_type": "code",
   "execution_count": 4,
   "metadata": {},
   "outputs": [
    {
     "data": {
      "text/markdown": [
       "|                               | Model 1                                                                                                                                           | Model 2                                                                                                                                           | Model 3                                                                                                                                           |\n",
       "|:------------------------------|:--------------------------------------------------------------------------------------------------------------------------------------------------|:--------------------------------------------------------------------------------------------------------------------------------------------------|:--------------------------------------------------------------------------------------------------------------------------------------------------|\n",
       "| Monthly UBI amount (18+)      | £200                                                                                                                                              | £300                                                                                                                                              | £400                                                                                                                                              |\n",
       "| Monthly UBI amount (16-17)    | £100                                                                                                                                              | £150                                                                                                                                              | £200                                                                                                                                              |\n",
       "| Monthly UBI amount (0-15)     | £0                                                                                                                                                | £0                                                                                                                                                | £0                                                                                                                                                |\n",
       "| Personal Allowance            | £2,000                                                                                                                                            | £0                                                                                                                                                | £0                                                                                                                                                |\n",
       "| Basic rate increase           | 2.8p                                                                                                                                              | 6.3p                                                                                                                                              | 13.1p                                                                                                                                             |\n",
       "| Higher rate increase          | 5.6p                                                                                                                                              | 6.3p                                                                                                                                              | 0.0p                                                                                                                                              |\n",
       "| Additional rate increase      | 5.6p                                                                                                                                              | 6.3p                                                                                                                                              | 0.0p                                                                                                                                              |\n",
       "| Net cost                      | £0.6bn                                                                                                                                            | £1.0bn                                                                                                                                            | £1.3bn                                                                                                                                            |\n",
       "| Revenue raised                | £3.1bn                                                                                                                                            | £4.6bn                                                                                                                                            | £6.1bn                                                                                                                                            |\n",
       "| Basic income spending         | £3.4bn                                                                                                                                            | £5.1bn                                                                                                                                            | £6.8bn                                                                                                                                            |\n",
       "| Benefit outlay increase       | £0.3bn                                                                                                                                            | £0.5bn                                                                                                                                            | £0.7bn                                                                                                                                            |\n",
       "| Poverty impact                | -34.6%                                                                                                                                            | -44.2%                                                                                                                                            | -58.0%                                                                                                                                            |\n",
       "| Inequality impact             | -10.0%                                                                                                                                            | -14.6%                                                                                                                                            | -18.0%                                                                                                                                            |\n",
       "| Percent of population gaining | 59%                                                                                                                                               | 62%                                                                                                                                               | 64%                                                                                                                                               |\n",
       "| UK supplement                 | 16.7%                                                                                                                                             | 18.9%                                                                                                                                             | 19.7%                                                                                                                                             |\n",
       "| Link                          | <a href=\"https://policyengine.org/uk/policy?reform=36779&focus=policyOutput.decileRelativeImpact&region=ni&timePeriod=2023&baseline=1\">#36779</a> | <a href=\"https://policyengine.org/uk/policy?reform=36780&focus=policyOutput.decileRelativeImpact&region=ni&timePeriod=2023&baseline=1\">#36780</a> | <a href=\"https://policyengine.org/uk/policy?reform=36781&focus=policyOutput.decileRelativeImpact&region=ni&timePeriod=2023&baseline=1\">#36781</a> |"
      ],
      "text/plain": [
       "<IPython.core.display.Markdown object>"
      ]
     },
     "execution_count": 4,
     "metadata": {},
     "output_type": "execute_result"
    }
   ],
   "source": [
    "model_1_policy = row_to_policy(model_1_row)\n",
    "model_2_policy = row_to_policy(model_2_row)\n",
    "model_3_policy = row_to_policy(model_3_row)\n",
    "\n",
    "model_1_reform = ubi_ni_reform(**model_1_policy)\n",
    "model_2_reform = ubi_ni_reform(**model_2_policy)\n",
    "model_3_reform = ubi_ni_reform(**model_3_policy)\n",
    "\n",
    "baseline = Microsimulation()\n",
    "model_1_sim = Microsimulation(reform=model_1_reform)\n",
    "model_2_sim = Microsimulation(reform=model_2_reform)\n",
    "model_3_sim = Microsimulation(reform=model_3_reform)\n",
    "\n",
    "for simulation in [baseline, model_1_sim, model_2_sim, model_3_sim]:\n",
    "    filter_to_ni(simulation)\n",
    "\n",
    "def create_summary_table(model_1_row, model_2_row, model_3_row):\n",
    "    model_1_policy = row_to_policy(model_1_row)\n",
    "    model_2_policy = row_to_policy(model_2_row)\n",
    "    model_3_policy = row_to_policy(model_3_row)\n",
    "\n",
    "    model_1_reform = ubi_ni_reform(**model_1_policy)\n",
    "    model_2_reform = ubi_ni_reform(**model_2_policy)\n",
    "    model_3_reform = ubi_ni_reform(**model_3_policy)\n",
    "\n",
    "    baseline = Microsimulation()\n",
    "    model_1_sim = Microsimulation(reform=model_1_reform)\n",
    "    model_2_sim = Microsimulation(reform=model_2_reform)\n",
    "    model_3_sim = Microsimulation(reform=model_3_reform)\n",
    "\n",
    "    for simulation in [baseline, model_1_sim, model_2_sim, model_3_sim]:\n",
    "        filter_to_ni(simulation)\n",
    "\n",
    "    summary_table = pd.DataFrame()\n",
    "    summary_table[\"Monthly UBI amount (18+)\"] = [model_1_row[\"Adult UBI\"] / 12, model_2_row[\"Adult UBI\"] / 12, model_3_row[\"Adult UBI\"] / 12]\n",
    "    summary_table[\"Monthly UBI amount (16-17)\"] = summary_table[\"Monthly UBI amount (18+)\"] / 2\n",
    "    summary_table[\"Monthly UBI amount (0-15)\"] = [0, 0, 0]\n",
    "    summary_table[\"Personal Allowance\"] = [model_1_row[\"Personal Allowance\"], model_2_row[\"Personal Allowance\"], model_3_row[\"Personal Allowance\"]]\n",
    "    summary_table[\"Basic rate increase\"] = [model_1_row[\"Basic rate addition\"], model_2_row[\"Basic rate addition\"], model_3_row[\"Basic rate addition\"]]\n",
    "    summary_table[\"Higher rate increase\"] = [model_1_row[\"Higher rate addition\"], model_2_row[\"Higher rate addition\"], model_3_row[\"Higher rate addition\"]]\n",
    "    summary_table[\"Additional rate increase\"] = [model_1_row[\"Additional rate addition\"], model_2_row[\"Additional rate addition\"], model_3_row[\"Additional rate addition\"]]\n",
    "    summary_table[\"Net cost\"] = [\n",
    "        sim.calculate(\"household_net_income\").sum() - baseline.calculate(\"household_net_income\").sum()\n",
    "        for sim in [model_1_sim, model_2_sim, model_3_sim]\n",
    "    ]\n",
    "    summary_table[\"Revenue raised\"] = [\n",
    "        sim.calculate(\"income_tax\").sum() - baseline.calculate(\"income_tax\").sum()\n",
    "        for sim in [model_1_sim, model_2_sim, model_3_sim]\n",
    "    ]\n",
    "    summary_table[\"Basic income spending\"] = [\n",
    "        sim.calculate(\"basic_income\").sum()\n",
    "        for sim in [model_1_sim, model_2_sim, model_3_sim]\n",
    "    ]\n",
    "    summary_table[\"Benefit outlay increase\"] = [\n",
    "        sim.calculate(\"household_benefits\").sum() - baseline.calculate(\"household_benefits\").sum()\n",
    "        for sim in [model_1_sim, model_2_sim, model_3_sim]\n",
    "    ]\n",
    "    summary_table[\"Benefit outlay increase\"] = summary_table[\"Benefit outlay increase\"] - summary_table[\"Basic income spending\"]\n",
    "    summary_table[\"Poverty impact\"] = [\n",
    "        sim.calculate(\"in_poverty\", map_to=\"person\").sum() / baseline.calculate(\"in_poverty\", map_to=\"person\").sum() - 1\n",
    "        for sim in [model_1_sim, model_2_sim, model_3_sim]\n",
    "    ]\n",
    "    summary_table[\"Inequality impact\"] = [\n",
    "        sim.calculate(\"equiv_household_net_income\", map_to=\"person\").gini() / baseline.calculate(\"equiv_household_net_income\", map_to=\"person\").gini() - 1\n",
    "        for sim in [model_1_sim, model_2_sim, model_3_sim]\n",
    "    ]\n",
    "    summary_table[\"Percent of population gaining\"] = [\n",
    "        (sim.calculate(\"household_net_income\", map_to=\"person\") > baseline.calculate(\"household_net_income\", map_to=\"person\")).mean()\n",
    "        for sim in [model_1_sim, model_2_sim, model_3_sim]\n",
    "    ]\n",
    "\n",
    "    # Formatting\n",
    "\n",
    "    summary_table[\"Monthly UBI amount (18+)\"] = summary_table[\"Monthly UBI amount (18+)\"].map(lambda x: f\"£{x:,.0f}\")\n",
    "    summary_table[\"Monthly UBI amount (16-17)\"] = summary_table[\"Monthly UBI amount (16-17)\"].map(lambda x: f\"£{x:,.0f}\")\n",
    "    summary_table[\"Monthly UBI amount (0-15)\"] = summary_table[\"Monthly UBI amount (0-15)\"].map(lambda x: f\"£{x:,.0f}\")\n",
    "    summary_table[\"Personal Allowance\"] = summary_table[\"Personal Allowance\"].map(lambda x: f\"£{x:,.0f}\")\n",
    "    summary_table[\"Basic rate increase\"] = summary_table[\"Basic rate increase\"].map(lambda x: f\"{x * 100:.1f}p\")\n",
    "    summary_table[\"Higher rate increase\"] = summary_table[\"Higher rate increase\"].map(lambda x: f\"{x * 100:.1f}p\")\n",
    "    summary_table[\"Additional rate increase\"] = summary_table[\"Additional rate increase\"].map(lambda x: f\"{x * 100:.1f}p\")\n",
    "    summary_table[\"UK supplement\"] = summary_table[\"Net cost\"] / summary_table[\"Basic income spending\"]\n",
    "    summary_table[\"UK supplement\"] = summary_table[\"UK supplement\"].map(lambda x: f\"{x:.1%}\")\n",
    "    summary_table[\"Net cost\"] = summary_table[\"Net cost\"].map(lambda x: f\"£{x/1e9:,.1f}bn\")\n",
    "    summary_table[\"Revenue raised\"] = summary_table[\"Revenue raised\"].map(lambda x: f\"£{x/1e9:,.1f}bn\")\n",
    "    summary_table[\"Benefit outlay increase\"] = summary_table[\"Benefit outlay increase\"].map(lambda x: f\"£{x/1e9:,.1f}bn\")\n",
    "    summary_table[\"Basic income spending\"] = summary_table[\"Basic income spending\"].map(lambda x: f\"£{x/1e9:,.1f}bn\")\n",
    "    summary_table[\"Poverty impact\"] = summary_table[\"Poverty impact\"].map(lambda x: f\"{x * 100:+.1f}%\")\n",
    "    summary_table[\"Inequality impact\"] = summary_table[\"Inequality impact\"].map(lambda x: f\"{x * 100:+.1f}%\")\n",
    "    summary_table[\"Percent of population gaining\"] = summary_table[\"Percent of population gaining\"].map(lambda x: f\"{x * 100:.0f}%\")\n",
    "\n",
    "    policy_ids = [\n",
    "        reform.api_id\n",
    "        for reform in [model_1_reform, model_2_reform, model_3_reform]\n",
    "    ]\n",
    "    summary_table[\"Link\"] = [\n",
    "        f\"<a href=\\\"https://policyengine.org/uk/policy?reform={policy_id}&focus=policyOutput.decileRelativeImpact&region=ni&timePeriod=2023&baseline=1\\\">#{policy_id}</a>\" for policy_id in policy_ids\n",
    "    ]\n",
    "    summary_table.index = [\"Model 1\", \"Model 2\", \"Model 3\"]\n",
    "\n",
    "    return summary_table\n",
    "\n",
    "summary_table = create_summary_table(model_1_row, model_2_row, model_3_row)\n",
    "\n",
    "from IPython.display import Markdown\n",
    "\n",
    "Markdown(summary_table.T.to_markdown())"
   ]
  },
  {
   "cell_type": "markdown",
   "metadata": {},
   "source": [
    "Digging into the poverty impacts reveals similarly sized impacts on child poverty, with the most generous plan halving it.[^9] \n",
    "\n",
    "[^9]: The impacts on deep poverty (the population share with net income below half the poverty threshold) are similar, though we do not include them here as the Family Resources Survey has too few records near the deep poverty line to produce reliable results.\n"
   ]
  },
  {
   "cell_type": "code",
   "execution_count": 26,
   "metadata": {
    "tags": [
     "hide-input"
    ]
   },
   "outputs": [
    {
     "data": {
      "text/plain": [
       "'{\"data\":[{\"alignmentgroup\":\"True\",\"hovertemplate\":\"Policy=\\\\u00a3200/month<br>Age group=%{x}<br>Poverty rate change=%{y}<extra></extra>\",\"legendgroup\":\"\\\\u00a3200/month\",\"marker\":{\"color\":\"#D8E6F3\",\"pattern\":{\"shape\":\"\"}},\"name\":\"\\\\u00a3200/month\",\"offsetgroup\":\"\\\\u00a3200/month\",\"orientation\":\"v\",\"showlegend\":true,\"textposition\":\"auto\",\"x\":[\"Child\",\"Working-age\",\"Senior\",\"All\"],\"xaxis\":\"x\",\"y\":[-0.40580616199289277,-0.3724656031404552,-0.21684426933727885,-0.3455001327291657],\"yaxis\":\"y\",\"type\":\"bar\",\"text\":[\"-40.6%\",\"-37.2%\",\"-21.7%\",\"-34.6%\"],\"textangle\":0},{\"alignmentgroup\":\"True\",\"hovertemplate\":\"Policy=\\\\u00a3300/month<br>Age group=%{x}<br>Poverty rate change=%{y}<extra></extra>\",\"legendgroup\":\"\\\\u00a3300/month\",\"marker\":{\"color\":\"#2C6496\",\"pattern\":{\"shape\":\"\"}},\"name\":\"\\\\u00a3300/month\",\"offsetgroup\":\"\\\\u00a3300/month\",\"orientation\":\"v\",\"showlegend\":true,\"textposition\":\"auto\",\"x\":[\"Child\",\"Working-age\",\"Senior\",\"All\"],\"xaxis\":\"x\",\"y\":[-0.4913514791298538,-0.490852334052314,-0.27712027620435464,-0.442386437180327],\"yaxis\":\"y\",\"type\":\"bar\",\"text\":[\"-49.1%\",\"-49.1%\",\"-27.7%\",\"-44.2%\"],\"textangle\":0},{\"alignmentgroup\":\"True\",\"hovertemplate\":\"Policy=\\\\u00a3400/month<br>Age group=%{x}<br>Poverty rate change=%{y}<extra></extra>\",\"legendgroup\":\"\\\\u00a3400/month\",\"marker\":{\"color\":\"#17354F\",\"pattern\":{\"shape\":\"\"}},\"name\":\"\\\\u00a3400/month\",\"offsetgroup\":\"\\\\u00a3400/month\",\"orientation\":\"v\",\"showlegend\":true,\"textposition\":\"auto\",\"x\":[\"Child\",\"Working-age\",\"Senior\",\"All\"],\"xaxis\":\"x\",\"y\":[-0.5182041911349483,-0.6023604594197787,-0.5957764692468912,-0.5796230395482089],\"yaxis\":\"y\",\"type\":\"bar\",\"text\":[\"-51.8%\",\"-60.2%\",\"-59.6%\",\"-58.0%\"],\"textangle\":0}],\"layout\":{\"template\":{\"data\":{\"barpolar\":[{\"marker\":{\"line\":{\"color\":\"white\",\"width\":0.5},\"pattern\":{\"fillmode\":\"overlay\",\"size\":10,\"solidity\":0.2}},\"type\":\"barpolar\"}],\"bar\":[{\"error_x\":{\"color\":\"#2a3f5f\"},\"error_y\":{\"color\":\"#2a3f5f\"},\"marker\":{\"line\":{\"color\":\"white\",\"width\":0.5},\"pattern\":{\"fillmode\":\"overlay\",\"size\":10,\"solidity\":0.2}},\"type\":\"bar\"}],\"carpet\":[{\"aaxis\":{\"endlinecolor\":\"#2a3f5f\",\"gridcolor\":\"#C8D4E3\",\"linecolor\":\"#C8D4E3\",\"minorgridcolor\":\"#C8D4E3\",\"startlinecolor\":\"#2a3f5f\"},\"baxis\":{\"endlinecolor\":\"#2a3f5f\",\"gridcolor\":\"#C8D4E3\",\"linecolor\":\"#C8D4E3\",\"minorgridcolor\":\"#C8D4E3\",\"startlinecolor\":\"#2a3f5f\"},\"type\":\"carpet\"}],\"choropleth\":[{\"colorbar\":{\"outlinewidth\":0,\"ticks\":\"\"},\"type\":\"choropleth\"}],\"contourcarpet\":[{\"colorbar\":{\"outlinewidth\":0,\"ticks\":\"\"},\"type\":\"contourcarpet\"}],\"contour\":[{\"colorbar\":{\"outlinewidth\":0,\"ticks\":\"\"},\"colorscale\":[[0.0,\"#0d0887\"],[0.1111111111111111,\"#46039f\"],[0.2222222222222222,\"#7201a8\"],[0.3333333333333333,\"#9c179e\"],[0.4444444444444444,\"#bd3786\"],[0.5555555555555556,\"#d8576b\"],[0.6666666666666666,\"#ed7953\"],[0.7777777777777778,\"#fb9f3a\"],[0.8888888888888888,\"#fdca26\"],[1.0,\"#f0f921\"]],\"type\":\"contour\"}],\"heatmapgl\":[{\"colorbar\":{\"outlinewidth\":0,\"ticks\":\"\"},\"colorscale\":[[0.0,\"#0d0887\"],[0.1111111111111111,\"#46039f\"],[0.2222222222222222,\"#7201a8\"],[0.3333333333333333,\"#9c179e\"],[0.4444444444444444,\"#bd3786\"],[0.5555555555555556,\"#d8576b\"],[0.6666666666666666,\"#ed7953\"],[0.7777777777777778,\"#fb9f3a\"],[0.8888888888888888,\"#fdca26\"],[1.0,\"#f0f921\"]],\"type\":\"heatmapgl\"}],\"heatmap\":[{\"colorbar\":{\"outlinewidth\":0,\"ticks\":\"\"},\"colorscale\":[[0.0,\"#0d0887\"],[0.1111111111111111,\"#46039f\"],[0.2222222222222222,\"#7201a8\"],[0.3333333333333333,\"#9c179e\"],[0.4444444444444444,\"#bd3786\"],[0.5555555555555556,\"#d8576b\"],[0.6666666666666666,\"#ed7953\"],[0.7777777777777778,\"#fb9f3a\"],[0.8888888888888888,\"#fdca26\"],[1.0,\"#f0f921\"]],\"type\":\"heatmap\"}],\"histogram2dcontour\":[{\"colorbar\":{\"outlinewidth\":0,\"ticks\":\"\"},\"colorscale\":[[0.0,\"#0d0887\"],[0.1111111111111111,\"#46039f\"],[0.2222222222222222,\"#7201a8\"],[0.3333333333333333,\"#9c179e\"],[0.4444444444444444,\"#bd3786\"],[0.5555555555555556,\"#d8576b\"],[0.6666666666666666,\"#ed7953\"],[0.7777777777777778,\"#fb9f3a\"],[0.8888888888888888,\"#fdca26\"],[1.0,\"#f0f921\"]],\"type\":\"histogram2dcontour\"}],\"histogram2d\":[{\"colorbar\":{\"outlinewidth\":0,\"ticks\":\"\"},\"colorscale\":[[0.0,\"#0d0887\"],[0.1111111111111111,\"#46039f\"],[0.2222222222222222,\"#7201a8\"],[0.3333333333333333,\"#9c179e\"],[0.4444444444444444,\"#bd3786\"],[0.5555555555555556,\"#d8576b\"],[0.6666666666666666,\"#ed7953\"],[0.7777777777777778,\"#fb9f3a\"],[0.8888888888888888,\"#fdca26\"],[1.0,\"#f0f921\"]],\"type\":\"histogram2d\"}],\"histogram\":[{\"marker\":{\"pattern\":{\"fillmode\":\"overlay\",\"size\":10,\"solidity\":0.2}},\"type\":\"histogram\"}],\"mesh3d\":[{\"colorbar\":{\"outlinewidth\":0,\"ticks\":\"\"},\"type\":\"mesh3d\"}],\"parcoords\":[{\"line\":{\"colorbar\":{\"outlinewidth\":0,\"ticks\":\"\"}},\"type\":\"parcoords\"}],\"pie\":[{\"automargin\":true,\"type\":\"pie\"}],\"scatter3d\":[{\"line\":{\"colorbar\":{\"outlinewidth\":0,\"ticks\":\"\"}},\"marker\":{\"colorbar\":{\"outlinewidth\":0,\"ticks\":\"\"}},\"type\":\"scatter3d\"}],\"scattercarpet\":[{\"marker\":{\"colorbar\":{\"outlinewidth\":0,\"ticks\":\"\"}},\"type\":\"scattercarpet\"}],\"scattergeo\":[{\"marker\":{\"colorbar\":{\"outlinewidth\":0,\"ticks\":\"\"}},\"type\":\"scattergeo\"}],\"scattergl\":[{\"marker\":{\"colorbar\":{\"outlinewidth\":0,\"ticks\":\"\"}},\"type\":\"scattergl\"}],\"scattermapbox\":[{\"marker\":{\"colorbar\":{\"outlinewidth\":0,\"ticks\":\"\"}},\"type\":\"scattermapbox\"}],\"scatterpolargl\":[{\"marker\":{\"colorbar\":{\"outlinewidth\":0,\"ticks\":\"\"}},\"type\":\"scatterpolargl\"}],\"scatterpolar\":[{\"marker\":{\"colorbar\":{\"outlinewidth\":0,\"ticks\":\"\"}},\"type\":\"scatterpolar\"}],\"scatter\":[{\"fillpattern\":{\"fillmode\":\"overlay\",\"size\":10,\"solidity\":0.2},\"type\":\"scatter\"}],\"scatterternary\":[{\"marker\":{\"colorbar\":{\"outlinewidth\":0,\"ticks\":\"\"}},\"type\":\"scatterternary\"}],\"surface\":[{\"colorbar\":{\"outlinewidth\":0,\"ticks\":\"\"},\"colorscale\":[[0.0,\"#0d0887\"],[0.1111111111111111,\"#46039f\"],[0.2222222222222222,\"#7201a8\"],[0.3333333333333333,\"#9c179e\"],[0.4444444444444444,\"#bd3786\"],[0.5555555555555556,\"#d8576b\"],[0.6666666666666666,\"#ed7953\"],[0.7777777777777778,\"#fb9f3a\"],[0.8888888888888888,\"#fdca26\"],[1.0,\"#f0f921\"]],\"type\":\"surface\"}],\"table\":[{\"cells\":{\"fill\":{\"color\":\"#EBF0F8\"},\"line\":{\"color\":\"white\"}},\"header\":{\"fill\":{\"color\":\"#C8D4E3\"},\"line\":{\"color\":\"white\"}},\"type\":\"table\"}]},\"layout\":{\"annotationdefaults\":{\"arrowcolor\":\"#2a3f5f\",\"arrowhead\":0,\"arrowwidth\":1},\"autotypenumbers\":\"strict\",\"coloraxis\":{\"colorbar\":{\"outlinewidth\":0,\"ticks\":\"\"}},\"colorscale\":{\"diverging\":[[0,\"#8e0152\"],[0.1,\"#c51b7d\"],[0.2,\"#de77ae\"],[0.3,\"#f1b6da\"],[0.4,\"#fde0ef\"],[0.5,\"#f7f7f7\"],[0.6,\"#e6f5d0\"],[0.7,\"#b8e186\"],[0.8,\"#7fbc41\"],[0.9,\"#4d9221\"],[1,\"#276419\"]],\"sequential\":[[0.0,\"#0d0887\"],[0.1111111111111111,\"#46039f\"],[0.2222222222222222,\"#7201a8\"],[0.3333333333333333,\"#9c179e\"],[0.4444444444444444,\"#bd3786\"],[0.5555555555555556,\"#d8576b\"],[0.6666666666666666,\"#ed7953\"],[0.7777777777777778,\"#fb9f3a\"],[0.8888888888888888,\"#fdca26\"],[1.0,\"#f0f921\"]],\"sequentialminus\":[[0.0,\"#0d0887\"],[0.1111111111111111,\"#46039f\"],[0.2222222222222222,\"#7201a8\"],[0.3333333333333333,\"#9c179e\"],[0.4444444444444444,\"#bd3786\"],[0.5555555555555556,\"#d8576b\"],[0.6666666666666666,\"#ed7953\"],[0.7777777777777778,\"#fb9f3a\"],[0.8888888888888888,\"#fdca26\"],[1.0,\"#f0f921\"]]},\"colorway\":[\"#636efa\",\"#EF553B\",\"#00cc96\",\"#ab63fa\",\"#FFA15A\",\"#19d3f3\",\"#FF6692\",\"#B6E880\",\"#FF97FF\",\"#FECB52\"],\"font\":{\"color\":\"#2a3f5f\"},\"geo\":{\"bgcolor\":\"white\",\"lakecolor\":\"white\",\"landcolor\":\"white\",\"showlakes\":true,\"showland\":true,\"subunitcolor\":\"#C8D4E3\"},\"hoverlabel\":{\"align\":\"left\"},\"hovermode\":\"closest\",\"mapbox\":{\"style\":\"light\"},\"paper_bgcolor\":\"white\",\"plot_bgcolor\":\"white\",\"polar\":{\"angularaxis\":{\"gridcolor\":\"#EBF0F8\",\"linecolor\":\"#EBF0F8\",\"ticks\":\"\"},\"bgcolor\":\"white\",\"radialaxis\":{\"gridcolor\":\"#EBF0F8\",\"linecolor\":\"#EBF0F8\",\"ticks\":\"\"}},\"scene\":{\"xaxis\":{\"backgroundcolor\":\"white\",\"gridcolor\":\"#DFE8F3\",\"gridwidth\":2,\"linecolor\":\"#EBF0F8\",\"showbackground\":true,\"ticks\":\"\",\"zerolinecolor\":\"#EBF0F8\"},\"yaxis\":{\"backgroundcolor\":\"white\",\"gridcolor\":\"#DFE8F3\",\"gridwidth\":2,\"linecolor\":\"#EBF0F8\",\"showbackground\":true,\"ticks\":\"\",\"zerolinecolor\":\"#EBF0F8\"},\"zaxis\":{\"backgroundcolor\":\"white\",\"gridcolor\":\"#DFE8F3\",\"gridwidth\":2,\"linecolor\":\"#EBF0F8\",\"showbackground\":true,\"ticks\":\"\",\"zerolinecolor\":\"#EBF0F8\"}},\"shapedefaults\":{\"line\":{\"color\":\"#2a3f5f\"}},\"ternary\":{\"aaxis\":{\"gridcolor\":\"#DFE8F3\",\"linecolor\":\"#A2B1C6\",\"ticks\":\"\"},\"baxis\":{\"gridcolor\":\"#DFE8F3\",\"linecolor\":\"#A2B1C6\",\"ticks\":\"\"},\"bgcolor\":\"white\",\"caxis\":{\"gridcolor\":\"#DFE8F3\",\"linecolor\":\"#A2B1C6\",\"ticks\":\"\"}},\"title\":{\"x\":0.05},\"xaxis\":{\"automargin\":true,\"gridcolor\":\"#EBF0F8\",\"linecolor\":\"#EBF0F8\",\"ticks\":\"\",\"title\":{\"standoff\":15},\"zerolinecolor\":\"#EBF0F8\",\"zerolinewidth\":2},\"yaxis\":{\"automargin\":true,\"gridcolor\":\"#EBF0F8\",\"linecolor\":\"#EBF0F8\",\"ticks\":\"\",\"title\":{\"standoff\":15},\"zerolinecolor\":\"#EBF0F8\",\"zerolinewidth\":2}}},\"xaxis\":{\"anchor\":\"y\",\"domain\":[0.0,1.0],\"title\":{\"text\":\"Age group\"}},\"yaxis\":{\"anchor\":\"x\",\"domain\":[0.0,1.0],\"title\":{\"text\":\"Poverty rate change\"},\"tickformat\":\".0%\"},\"legend\":{\"title\":{\"text\":\"Policy\"},\"tracegroupgap\":0},\"margin\":{\"t\":60},\"barmode\":\"group\",\"title\":{\"text\":\"Figure 3: Poverty rate change by age group\"},\"font\":{\"family\":\"Roboto Serif\",\"color\":\"black\"},\"images\":[{\"sizex\":0.2,\"sizey\":0.2,\"source\":\"https://raw.githubusercontent.com/PolicyEngine/policyengine-app/master/src/images/logos/policyengine/blue.png\",\"x\":1,\"xanchor\":\"right\",\"xref\":\"paper\",\"y\":-0.15,\"yanchor\":\"bottom\",\"yref\":\"paper\"}],\"height\":600,\"width\":800,\"modebar\":{\"bgcolor\":\"rgba(0,0,0,0)\",\"color\":\"rgba(0,0,0,0)\"}}}'"
      ]
     },
     "execution_count": 26,
     "metadata": {},
     "output_type": "execute_result"
    }
   ],
   "source": [
    "import pandas as pd\n",
    "import plotly.express as px\n",
    "from policyengine_core.charts import BLUE_COLOUR_SCALE\n",
    "\n",
    "for simulation in [baseline, model_1_sim, model_2_sim, model_3_sim]:\n",
    "    filter_to_ni(simulation)\n",
    "\n",
    "dfs = []\n",
    "for sim, policy_name in zip([model_1_sim, model_2_sim, model_3_sim], [\"£200/month\", \"£300/month\", \"£400/month\"]):\n",
    "    for group, name in zip([\"is_child\", \"is_WA_adult\", \"is_SP_age\", \"people\"], [\"Child\", \"Working-age\", \"Senior\", \"All\"]):\n",
    "        df = pd.DataFrame({\n",
    "            \"Poverty rate change\": (\n",
    "                [sim.calc(\"in_poverty_bhc\", map_to=\"person\")[sim.calc(group) > 0].mean()\n",
    "                / baseline.calc(\"in_poverty_bhc\", map_to=\"person\")[sim.calc(group) > 0].mean() - 1]\n",
    "            ),\n",
    "            \"Deep poverty rate change\": (\n",
    "                [sim.calc(\"in_deep_poverty_bhc\", map_to=\"person\")[sim.calc(group) > 0].mean()\n",
    "                / baseline.calc(\"in_deep_poverty_bhc\", map_to=\"person\")[sim.calc(group) > 0].mean() - 1]\n",
    "            ),\n",
    "            \"Age group\": [name],\n",
    "            \"Policy\": [policy_name],\n",
    "        })\n",
    "        dfs += [df]\n",
    "poverty_df = pd.concat(dfs)\n",
    "fig = px.bar(\n",
    "    poverty_df,\n",
    "    x=\"Age group\",\n",
    "    y=\"Poverty rate change\",\n",
    "    color=\"Policy\",\n",
    "    barmode=\"group\",\n",
    "    color_discrete_sequence=BLUE_COLOUR_SCALE,\n",
    ").update_layout(\n",
    "    yaxis_tickformat=\".0%\",\n",
    "    title=\"Figure 3: Poverty rate change by age group\",\n",
    ")\n",
    "for i in range(len(fig.data)):\n",
    "    fig.data[i][\"text\"] = [f\"{x:+.1%}\" if x is not None else \"\" for x in fig.data[i][\"y\"]]\n",
    "fig.update_traces(\n",
    "    textangle=0,\n",
    ")\n",
    "format_fig(fig).to_json()"
   ]
  },
  {
   "cell_type": "markdown",
   "metadata": {},
   "source": [
    "Each policy reduces various measures of income inequality, especially the Gini index, roughly in proportion to the UBI amount. They also cut narrower measures of inequality: depending on the policy, the share of disposable income held by the top 1 and 10 percent of the population falls by 3 to 8 percent.\n"
   ]
  },
  {
   "cell_type": "code",
   "execution_count": 27,
   "metadata": {
    "tags": [
     "hide-input"
    ]
   },
   "outputs": [
    {
     "data": {
      "text/plain": [
       "'{\"data\":[{\"alignmentgroup\":\"True\",\"hovertemplate\":\"Policy=\\\\u00a3200/month<br>Metric=%{x}<br>Inequality change=%{y}<extra></extra>\",\"legendgroup\":\"\\\\u00a3200/month\",\"marker\":{\"color\":\"#D8E6F3\",\"pattern\":{\"shape\":\"\"}},\"name\":\"\\\\u00a3200/month\",\"offsetgroup\":\"\\\\u00a3200/month\",\"orientation\":\"v\",\"showlegend\":true,\"textposition\":\"auto\",\"x\":[\"Gini coefficient\",\"Top-10% share\",\"Top-1% share\"],\"xaxis\":\"x\",\"y\":[-0.10016716047270546,-0.05179548016089763,-0.07305998061389285],\"yaxis\":\"y\",\"type\":\"bar\",\"text\":[\"-10.0%\",\"-5.2%\",\"-7.3%\"],\"textangle\":0},{\"alignmentgroup\":\"True\",\"hovertemplate\":\"Policy=\\\\u00a3300/month<br>Metric=%{x}<br>Inequality change=%{y}<extra></extra>\",\"legendgroup\":\"\\\\u00a3300/month\",\"marker\":{\"color\":\"#2C6496\",\"pattern\":{\"shape\":\"\"}},\"name\":\"\\\\u00a3300/month\",\"offsetgroup\":\"\\\\u00a3300/month\",\"orientation\":\"v\",\"showlegend\":true,\"textposition\":\"auto\",\"x\":[\"Gini coefficient\",\"Top-10% share\",\"Top-1% share\"],\"xaxis\":\"x\",\"y\":[-0.14601073125981723,-0.07542895045645026,-0.09414758707483772],\"yaxis\":\"y\",\"type\":\"bar\",\"text\":[\"-14.6%\",\"-7.5%\",\"-9.4%\"],\"textangle\":0},{\"alignmentgroup\":\"True\",\"hovertemplate\":\"Policy=\\\\u00a3400/month<br>Metric=%{x}<br>Inequality change=%{y}<extra></extra>\",\"legendgroup\":\"\\\\u00a3400/month\",\"marker\":{\"color\":\"#17354F\",\"pattern\":{\"shape\":\"\"}},\"name\":\"\\\\u00a3400/month\",\"offsetgroup\":\"\\\\u00a3400/month\",\"orientation\":\"v\",\"showlegend\":true,\"textposition\":\"auto\",\"x\":[\"Gini coefficient\",\"Top-10% share\",\"Top-1% share\"],\"xaxis\":\"x\",\"y\":[-0.18042260875971783,-0.07953947136454964,-0.04203335856877355],\"yaxis\":\"y\",\"type\":\"bar\",\"text\":[\"-18.0%\",\"-8.0%\",\"-4.2%\"],\"textangle\":0}],\"layout\":{\"template\":{\"data\":{\"barpolar\":[{\"marker\":{\"line\":{\"color\":\"white\",\"width\":0.5},\"pattern\":{\"fillmode\":\"overlay\",\"size\":10,\"solidity\":0.2}},\"type\":\"barpolar\"}],\"bar\":[{\"error_x\":{\"color\":\"#2a3f5f\"},\"error_y\":{\"color\":\"#2a3f5f\"},\"marker\":{\"line\":{\"color\":\"white\",\"width\":0.5},\"pattern\":{\"fillmode\":\"overlay\",\"size\":10,\"solidity\":0.2}},\"type\":\"bar\"}],\"carpet\":[{\"aaxis\":{\"endlinecolor\":\"#2a3f5f\",\"gridcolor\":\"#C8D4E3\",\"linecolor\":\"#C8D4E3\",\"minorgridcolor\":\"#C8D4E3\",\"startlinecolor\":\"#2a3f5f\"},\"baxis\":{\"endlinecolor\":\"#2a3f5f\",\"gridcolor\":\"#C8D4E3\",\"linecolor\":\"#C8D4E3\",\"minorgridcolor\":\"#C8D4E3\",\"startlinecolor\":\"#2a3f5f\"},\"type\":\"carpet\"}],\"choropleth\":[{\"colorbar\":{\"outlinewidth\":0,\"ticks\":\"\"},\"type\":\"choropleth\"}],\"contourcarpet\":[{\"colorbar\":{\"outlinewidth\":0,\"ticks\":\"\"},\"type\":\"contourcarpet\"}],\"contour\":[{\"colorbar\":{\"outlinewidth\":0,\"ticks\":\"\"},\"colorscale\":[[0.0,\"#0d0887\"],[0.1111111111111111,\"#46039f\"],[0.2222222222222222,\"#7201a8\"],[0.3333333333333333,\"#9c179e\"],[0.4444444444444444,\"#bd3786\"],[0.5555555555555556,\"#d8576b\"],[0.6666666666666666,\"#ed7953\"],[0.7777777777777778,\"#fb9f3a\"],[0.8888888888888888,\"#fdca26\"],[1.0,\"#f0f921\"]],\"type\":\"contour\"}],\"heatmapgl\":[{\"colorbar\":{\"outlinewidth\":0,\"ticks\":\"\"},\"colorscale\":[[0.0,\"#0d0887\"],[0.1111111111111111,\"#46039f\"],[0.2222222222222222,\"#7201a8\"],[0.3333333333333333,\"#9c179e\"],[0.4444444444444444,\"#bd3786\"],[0.5555555555555556,\"#d8576b\"],[0.6666666666666666,\"#ed7953\"],[0.7777777777777778,\"#fb9f3a\"],[0.8888888888888888,\"#fdca26\"],[1.0,\"#f0f921\"]],\"type\":\"heatmapgl\"}],\"heatmap\":[{\"colorbar\":{\"outlinewidth\":0,\"ticks\":\"\"},\"colorscale\":[[0.0,\"#0d0887\"],[0.1111111111111111,\"#46039f\"],[0.2222222222222222,\"#7201a8\"],[0.3333333333333333,\"#9c179e\"],[0.4444444444444444,\"#bd3786\"],[0.5555555555555556,\"#d8576b\"],[0.6666666666666666,\"#ed7953\"],[0.7777777777777778,\"#fb9f3a\"],[0.8888888888888888,\"#fdca26\"],[1.0,\"#f0f921\"]],\"type\":\"heatmap\"}],\"histogram2dcontour\":[{\"colorbar\":{\"outlinewidth\":0,\"ticks\":\"\"},\"colorscale\":[[0.0,\"#0d0887\"],[0.1111111111111111,\"#46039f\"],[0.2222222222222222,\"#7201a8\"],[0.3333333333333333,\"#9c179e\"],[0.4444444444444444,\"#bd3786\"],[0.5555555555555556,\"#d8576b\"],[0.6666666666666666,\"#ed7953\"],[0.7777777777777778,\"#fb9f3a\"],[0.8888888888888888,\"#fdca26\"],[1.0,\"#f0f921\"]],\"type\":\"histogram2dcontour\"}],\"histogram2d\":[{\"colorbar\":{\"outlinewidth\":0,\"ticks\":\"\"},\"colorscale\":[[0.0,\"#0d0887\"],[0.1111111111111111,\"#46039f\"],[0.2222222222222222,\"#7201a8\"],[0.3333333333333333,\"#9c179e\"],[0.4444444444444444,\"#bd3786\"],[0.5555555555555556,\"#d8576b\"],[0.6666666666666666,\"#ed7953\"],[0.7777777777777778,\"#fb9f3a\"],[0.8888888888888888,\"#fdca26\"],[1.0,\"#f0f921\"]],\"type\":\"histogram2d\"}],\"histogram\":[{\"marker\":{\"pattern\":{\"fillmode\":\"overlay\",\"size\":10,\"solidity\":0.2}},\"type\":\"histogram\"}],\"mesh3d\":[{\"colorbar\":{\"outlinewidth\":0,\"ticks\":\"\"},\"type\":\"mesh3d\"}],\"parcoords\":[{\"line\":{\"colorbar\":{\"outlinewidth\":0,\"ticks\":\"\"}},\"type\":\"parcoords\"}],\"pie\":[{\"automargin\":true,\"type\":\"pie\"}],\"scatter3d\":[{\"line\":{\"colorbar\":{\"outlinewidth\":0,\"ticks\":\"\"}},\"marker\":{\"colorbar\":{\"outlinewidth\":0,\"ticks\":\"\"}},\"type\":\"scatter3d\"}],\"scattercarpet\":[{\"marker\":{\"colorbar\":{\"outlinewidth\":0,\"ticks\":\"\"}},\"type\":\"scattercarpet\"}],\"scattergeo\":[{\"marker\":{\"colorbar\":{\"outlinewidth\":0,\"ticks\":\"\"}},\"type\":\"scattergeo\"}],\"scattergl\":[{\"marker\":{\"colorbar\":{\"outlinewidth\":0,\"ticks\":\"\"}},\"type\":\"scattergl\"}],\"scattermapbox\":[{\"marker\":{\"colorbar\":{\"outlinewidth\":0,\"ticks\":\"\"}},\"type\":\"scattermapbox\"}],\"scatterpolargl\":[{\"marker\":{\"colorbar\":{\"outlinewidth\":0,\"ticks\":\"\"}},\"type\":\"scatterpolargl\"}],\"scatterpolar\":[{\"marker\":{\"colorbar\":{\"outlinewidth\":0,\"ticks\":\"\"}},\"type\":\"scatterpolar\"}],\"scatter\":[{\"fillpattern\":{\"fillmode\":\"overlay\",\"size\":10,\"solidity\":0.2},\"type\":\"scatter\"}],\"scatterternary\":[{\"marker\":{\"colorbar\":{\"outlinewidth\":0,\"ticks\":\"\"}},\"type\":\"scatterternary\"}],\"surface\":[{\"colorbar\":{\"outlinewidth\":0,\"ticks\":\"\"},\"colorscale\":[[0.0,\"#0d0887\"],[0.1111111111111111,\"#46039f\"],[0.2222222222222222,\"#7201a8\"],[0.3333333333333333,\"#9c179e\"],[0.4444444444444444,\"#bd3786\"],[0.5555555555555556,\"#d8576b\"],[0.6666666666666666,\"#ed7953\"],[0.7777777777777778,\"#fb9f3a\"],[0.8888888888888888,\"#fdca26\"],[1.0,\"#f0f921\"]],\"type\":\"surface\"}],\"table\":[{\"cells\":{\"fill\":{\"color\":\"#EBF0F8\"},\"line\":{\"color\":\"white\"}},\"header\":{\"fill\":{\"color\":\"#C8D4E3\"},\"line\":{\"color\":\"white\"}},\"type\":\"table\"}]},\"layout\":{\"annotationdefaults\":{\"arrowcolor\":\"#2a3f5f\",\"arrowhead\":0,\"arrowwidth\":1},\"autotypenumbers\":\"strict\",\"coloraxis\":{\"colorbar\":{\"outlinewidth\":0,\"ticks\":\"\"}},\"colorscale\":{\"diverging\":[[0,\"#8e0152\"],[0.1,\"#c51b7d\"],[0.2,\"#de77ae\"],[0.3,\"#f1b6da\"],[0.4,\"#fde0ef\"],[0.5,\"#f7f7f7\"],[0.6,\"#e6f5d0\"],[0.7,\"#b8e186\"],[0.8,\"#7fbc41\"],[0.9,\"#4d9221\"],[1,\"#276419\"]],\"sequential\":[[0.0,\"#0d0887\"],[0.1111111111111111,\"#46039f\"],[0.2222222222222222,\"#7201a8\"],[0.3333333333333333,\"#9c179e\"],[0.4444444444444444,\"#bd3786\"],[0.5555555555555556,\"#d8576b\"],[0.6666666666666666,\"#ed7953\"],[0.7777777777777778,\"#fb9f3a\"],[0.8888888888888888,\"#fdca26\"],[1.0,\"#f0f921\"]],\"sequentialminus\":[[0.0,\"#0d0887\"],[0.1111111111111111,\"#46039f\"],[0.2222222222222222,\"#7201a8\"],[0.3333333333333333,\"#9c179e\"],[0.4444444444444444,\"#bd3786\"],[0.5555555555555556,\"#d8576b\"],[0.6666666666666666,\"#ed7953\"],[0.7777777777777778,\"#fb9f3a\"],[0.8888888888888888,\"#fdca26\"],[1.0,\"#f0f921\"]]},\"colorway\":[\"#636efa\",\"#EF553B\",\"#00cc96\",\"#ab63fa\",\"#FFA15A\",\"#19d3f3\",\"#FF6692\",\"#B6E880\",\"#FF97FF\",\"#FECB52\"],\"font\":{\"color\":\"#2a3f5f\"},\"geo\":{\"bgcolor\":\"white\",\"lakecolor\":\"white\",\"landcolor\":\"white\",\"showlakes\":true,\"showland\":true,\"subunitcolor\":\"#C8D4E3\"},\"hoverlabel\":{\"align\":\"left\"},\"hovermode\":\"closest\",\"mapbox\":{\"style\":\"light\"},\"paper_bgcolor\":\"white\",\"plot_bgcolor\":\"white\",\"polar\":{\"angularaxis\":{\"gridcolor\":\"#EBF0F8\",\"linecolor\":\"#EBF0F8\",\"ticks\":\"\"},\"bgcolor\":\"white\",\"radialaxis\":{\"gridcolor\":\"#EBF0F8\",\"linecolor\":\"#EBF0F8\",\"ticks\":\"\"}},\"scene\":{\"xaxis\":{\"backgroundcolor\":\"white\",\"gridcolor\":\"#DFE8F3\",\"gridwidth\":2,\"linecolor\":\"#EBF0F8\",\"showbackground\":true,\"ticks\":\"\",\"zerolinecolor\":\"#EBF0F8\"},\"yaxis\":{\"backgroundcolor\":\"white\",\"gridcolor\":\"#DFE8F3\",\"gridwidth\":2,\"linecolor\":\"#EBF0F8\",\"showbackground\":true,\"ticks\":\"\",\"zerolinecolor\":\"#EBF0F8\"},\"zaxis\":{\"backgroundcolor\":\"white\",\"gridcolor\":\"#DFE8F3\",\"gridwidth\":2,\"linecolor\":\"#EBF0F8\",\"showbackground\":true,\"ticks\":\"\",\"zerolinecolor\":\"#EBF0F8\"}},\"shapedefaults\":{\"line\":{\"color\":\"#2a3f5f\"}},\"ternary\":{\"aaxis\":{\"gridcolor\":\"#DFE8F3\",\"linecolor\":\"#A2B1C6\",\"ticks\":\"\"},\"baxis\":{\"gridcolor\":\"#DFE8F3\",\"linecolor\":\"#A2B1C6\",\"ticks\":\"\"},\"bgcolor\":\"white\",\"caxis\":{\"gridcolor\":\"#DFE8F3\",\"linecolor\":\"#A2B1C6\",\"ticks\":\"\"}},\"title\":{\"x\":0.05},\"xaxis\":{\"automargin\":true,\"gridcolor\":\"#EBF0F8\",\"linecolor\":\"#EBF0F8\",\"ticks\":\"\",\"title\":{\"standoff\":15},\"zerolinecolor\":\"#EBF0F8\",\"zerolinewidth\":2},\"yaxis\":{\"automargin\":true,\"gridcolor\":\"#EBF0F8\",\"linecolor\":\"#EBF0F8\",\"ticks\":\"\",\"title\":{\"standoff\":15},\"zerolinecolor\":\"#EBF0F8\",\"zerolinewidth\":2}}},\"xaxis\":{\"anchor\":\"y\",\"domain\":[0.0,1.0],\"title\":{\"text\":\"Metric\"}},\"yaxis\":{\"anchor\":\"x\",\"domain\":[0.0,1.0],\"title\":{\"text\":\"Inequality change\"},\"tickformat\":\".0%\"},\"legend\":{\"title\":{\"text\":\"Policy\"},\"tracegroupgap\":0},\"margin\":{\"t\":60},\"barmode\":\"group\",\"font\":{\"family\":\"Roboto Serif\",\"color\":\"black\"},\"images\":[{\"sizex\":0.2,\"sizey\":0.2,\"source\":\"https://raw.githubusercontent.com/PolicyEngine/policyengine-app/master/src/images/logos/policyengine/blue.png\",\"x\":1,\"xanchor\":\"right\",\"xref\":\"paper\",\"y\":-0.15,\"yanchor\":\"bottom\",\"yref\":\"paper\"}],\"height\":600,\"width\":800,\"modebar\":{\"bgcolor\":\"rgba(0,0,0,0)\",\"color\":\"rgba(0,0,0,0)\"},\"title\":{\"text\":\"Figure 4: Inequality impact by metric and UBI policy\"}}}'"
      ]
     },
     "execution_count": 27,
     "metadata": {},
     "output_type": "execute_result"
    }
   ],
   "source": [
    "dfs = []\n",
    "from policyengine_core.charts import BLUE_COLOUR_SCALE\n",
    "for reformed, policy_name in zip([model_1_sim, model_2_sim, model_3_sim], [\"£200/month\", \"£300/month\", \"£400/month\"]):\n",
    "    equiv_income = baseline.calc(\n",
    "        \"equiv_household_net_income\", map_to=\"person\"\n",
    "    )\n",
    "    reform_equiv_income = reformed.calc(\n",
    "        \"equiv_household_net_income\", map_to=\"person\"\n",
    "    )\n",
    "    baseline_gini = equiv_income.gini()\n",
    "    reform_gini = reform_equiv_income.gini()\n",
    "    gini_change = reform_gini / baseline_gini - 1\n",
    "    baseline_top_ten_pct_share = (\n",
    "        equiv_income[equiv_income.decile_rank() == 10].sum()\n",
    "        / equiv_income.sum()\n",
    "    )\n",
    "    reform_top_ten_pct_share = (\n",
    "        reform_equiv_income[reform_equiv_income.decile_rank() == 10].sum()\n",
    "        / reform_equiv_income.sum()\n",
    "    )\n",
    "    top_ten_pct_share_change = (\n",
    "        reform_top_ten_pct_share / baseline_top_ten_pct_share - 1\n",
    "    )\n",
    "    baseline_top_one_pct_share = (\n",
    "        equiv_income[equiv_income.percentile_rank() == 100].sum()\n",
    "        / equiv_income.sum()\n",
    "    )\n",
    "    reform_top_one_pct_share = (\n",
    "        reform_equiv_income[reform_equiv_income.percentile_rank() == 100].sum()\n",
    "        / reform_equiv_income.sum()\n",
    "    )\n",
    "    top_one_pct_share_change = (\n",
    "        reform_top_one_pct_share / baseline_top_one_pct_share - 1\n",
    "    )\n",
    "    df = pd.DataFrame({\n",
    "        \"Metric\": [\"Gini coefficient\", \"Top-10% share\", \"Top-1% share\"],\n",
    "        \"Inequality change\": [\n",
    "            reform_gini / baseline_gini - 1,\n",
    "            reform_top_ten_pct_share / baseline_top_ten_pct_share - 1,\n",
    "            reform_top_one_pct_share / baseline_top_one_pct_share - 1,\n",
    "        ],\n",
    "        \"Policy\": [policy_name] * 3,\n",
    "    })\n",
    "    dfs += [df]\n",
    "inequality_df = pd.concat(dfs)\n",
    "fig = px.bar(\n",
    "    inequality_df,\n",
    "    x=\"Metric\",\n",
    "    y=\"Inequality change\",\n",
    "    color=\"Policy\",\n",
    "    barmode=\"group\",\n",
    "    color_discrete_sequence=BLUE_COLOUR_SCALE,\n",
    ").update_layout(\n",
    "    yaxis_tickformat=\".0%\",\n",
    ")\n",
    "for i in range(len(fig.data)):\n",
    "    fig.data[i][\"text\"] = [f\"{x:+.1%}\" if x is not None else \"\" for x in fig.data[i][\"y\"]]\n",
    "fig.update_traces(\n",
    "    textangle=0,\n",
    ")\n",
    "format_fig(fig).update_layout(\n",
    "    title=\"Figure 4: Inequality impact by metric and UBI policy\",\n",
    ").to_json()"
   ]
  },
  {
   "cell_type": "markdown",
   "metadata": {},
   "source": [
    "The next sections provide more detailed societal-level impacts on each of the three policies.\n",
    "\n",
    "## [£200 per month option](https://policyengine.org/uk/policy?reform=33332&focus=policyOutput.decileRelativeImpact&region=ni&timePeriod=2023&baseline=1)\n",
    "\n",
    "_£200 per month for adults, funded by lowering the personal allowance to £2,000, increasing the basic rate by 1.8p, and increasing the higher and additional rates by 3.6p_\n",
    "\n",
    "The smallest policy in our analysis reduces the allowance to £2,000 per year, raises the basic rate to 21.8%, the higher rate to 43.6% and the additional rate to 48.6%. 66% of the population sees their income rise as a result of the policy.\n",
    "\n",
    "The lowest income decile sees an average increase of 15% to its aggregate disposable income, while the upper decile sees a 1.2% decrease.\n"
   ]
  },
  {
   "cell_type": "code",
   "execution_count": 7,
   "metadata": {
    "tags": [
     "hide-input"
    ]
   },
   "outputs": [
    {
     "data": {
      "text/plain": [
       "'{\"data\":[{\"marker\":{\"color\":[\"#2C6496\",\"#2C6496\",\"#2C6496\",\"#2C6496\",\"#2C6496\",\"#2C6496\",\"#2C6496\",\"#616161\",\"#616161\",\"#616161\"]},\"text\":[\"+14.9%\",\"+7.7%\",\"+5.9%\",\"+4.1%\",\"+3.1%\",\"+1.2%\",\"+0.8%\",\"-0.4%\",\"-0.8%\",\"-2.9%\"],\"textangle\":0,\"x\":[1,2,3,4,5,6,7,8,9,10],\"y\":[0.14906459170205308,0.07674358131182248,0.059146188945514516,0.04146744244742707,0.030606688732465446,0.012085809568845774,0.008280828705423548,-0.0035260906275629434,-0.008454461943989784,-0.029300115350787463],\"type\":\"bar\"}],\"layout\":{\"uniformtext\":{\"minsize\":8,\"mode\":\"hide\"},\"xaxis\":{\"tickvals\":[1,2,3,4,5,6,7,8,9,10],\"title\":{\"text\":\"Income decile\"}},\"yaxis\":{\"tickformat\":\"+,.0%\",\"title\":{\"text\":\"Relative change\"}},\"template\":{\"data\":{\"barpolar\":[{\"marker\":{\"line\":{\"color\":\"white\",\"width\":0.5},\"pattern\":{\"fillmode\":\"overlay\",\"size\":10,\"solidity\":0.2}},\"type\":\"barpolar\"}],\"bar\":[{\"error_x\":{\"color\":\"#2a3f5f\"},\"error_y\":{\"color\":\"#2a3f5f\"},\"marker\":{\"line\":{\"color\":\"white\",\"width\":0.5},\"pattern\":{\"fillmode\":\"overlay\",\"size\":10,\"solidity\":0.2}},\"type\":\"bar\"}],\"carpet\":[{\"aaxis\":{\"endlinecolor\":\"#2a3f5f\",\"gridcolor\":\"#C8D4E3\",\"linecolor\":\"#C8D4E3\",\"minorgridcolor\":\"#C8D4E3\",\"startlinecolor\":\"#2a3f5f\"},\"baxis\":{\"endlinecolor\":\"#2a3f5f\",\"gridcolor\":\"#C8D4E3\",\"linecolor\":\"#C8D4E3\",\"minorgridcolor\":\"#C8D4E3\",\"startlinecolor\":\"#2a3f5f\"},\"type\":\"carpet\"}],\"choropleth\":[{\"colorbar\":{\"outlinewidth\":0,\"ticks\":\"\"},\"type\":\"choropleth\"}],\"contourcarpet\":[{\"colorbar\":{\"outlinewidth\":0,\"ticks\":\"\"},\"type\":\"contourcarpet\"}],\"contour\":[{\"colorbar\":{\"outlinewidth\":0,\"ticks\":\"\"},\"colorscale\":[[0.0,\"#0d0887\"],[0.1111111111111111,\"#46039f\"],[0.2222222222222222,\"#7201a8\"],[0.3333333333333333,\"#9c179e\"],[0.4444444444444444,\"#bd3786\"],[0.5555555555555556,\"#d8576b\"],[0.6666666666666666,\"#ed7953\"],[0.7777777777777778,\"#fb9f3a\"],[0.8888888888888888,\"#fdca26\"],[1.0,\"#f0f921\"]],\"type\":\"contour\"}],\"heatmapgl\":[{\"colorbar\":{\"outlinewidth\":0,\"ticks\":\"\"},\"colorscale\":[[0.0,\"#0d0887\"],[0.1111111111111111,\"#46039f\"],[0.2222222222222222,\"#7201a8\"],[0.3333333333333333,\"#9c179e\"],[0.4444444444444444,\"#bd3786\"],[0.5555555555555556,\"#d8576b\"],[0.6666666666666666,\"#ed7953\"],[0.7777777777777778,\"#fb9f3a\"],[0.8888888888888888,\"#fdca26\"],[1.0,\"#f0f921\"]],\"type\":\"heatmapgl\"}],\"heatmap\":[{\"colorbar\":{\"outlinewidth\":0,\"ticks\":\"\"},\"colorscale\":[[0.0,\"#0d0887\"],[0.1111111111111111,\"#46039f\"],[0.2222222222222222,\"#7201a8\"],[0.3333333333333333,\"#9c179e\"],[0.4444444444444444,\"#bd3786\"],[0.5555555555555556,\"#d8576b\"],[0.6666666666666666,\"#ed7953\"],[0.7777777777777778,\"#fb9f3a\"],[0.8888888888888888,\"#fdca26\"],[1.0,\"#f0f921\"]],\"type\":\"heatmap\"}],\"histogram2dcontour\":[{\"colorbar\":{\"outlinewidth\":0,\"ticks\":\"\"},\"colorscale\":[[0.0,\"#0d0887\"],[0.1111111111111111,\"#46039f\"],[0.2222222222222222,\"#7201a8\"],[0.3333333333333333,\"#9c179e\"],[0.4444444444444444,\"#bd3786\"],[0.5555555555555556,\"#d8576b\"],[0.6666666666666666,\"#ed7953\"],[0.7777777777777778,\"#fb9f3a\"],[0.8888888888888888,\"#fdca26\"],[1.0,\"#f0f921\"]],\"type\":\"histogram2dcontour\"}],\"histogram2d\":[{\"colorbar\":{\"outlinewidth\":0,\"ticks\":\"\"},\"colorscale\":[[0.0,\"#0d0887\"],[0.1111111111111111,\"#46039f\"],[0.2222222222222222,\"#7201a8\"],[0.3333333333333333,\"#9c179e\"],[0.4444444444444444,\"#bd3786\"],[0.5555555555555556,\"#d8576b\"],[0.6666666666666666,\"#ed7953\"],[0.7777777777777778,\"#fb9f3a\"],[0.8888888888888888,\"#fdca26\"],[1.0,\"#f0f921\"]],\"type\":\"histogram2d\"}],\"histogram\":[{\"marker\":{\"pattern\":{\"fillmode\":\"overlay\",\"size\":10,\"solidity\":0.2}},\"type\":\"histogram\"}],\"mesh3d\":[{\"colorbar\":{\"outlinewidth\":0,\"ticks\":\"\"},\"type\":\"mesh3d\"}],\"parcoords\":[{\"line\":{\"colorbar\":{\"outlinewidth\":0,\"ticks\":\"\"}},\"type\":\"parcoords\"}],\"pie\":[{\"automargin\":true,\"type\":\"pie\"}],\"scatter3d\":[{\"line\":{\"colorbar\":{\"outlinewidth\":0,\"ticks\":\"\"}},\"marker\":{\"colorbar\":{\"outlinewidth\":0,\"ticks\":\"\"}},\"type\":\"scatter3d\"}],\"scattercarpet\":[{\"marker\":{\"colorbar\":{\"outlinewidth\":0,\"ticks\":\"\"}},\"type\":\"scattercarpet\"}],\"scattergeo\":[{\"marker\":{\"colorbar\":{\"outlinewidth\":0,\"ticks\":\"\"}},\"type\":\"scattergeo\"}],\"scattergl\":[{\"marker\":{\"colorbar\":{\"outlinewidth\":0,\"ticks\":\"\"}},\"type\":\"scattergl\"}],\"scattermapbox\":[{\"marker\":{\"colorbar\":{\"outlinewidth\":0,\"ticks\":\"\"}},\"type\":\"scattermapbox\"}],\"scatterpolargl\":[{\"marker\":{\"colorbar\":{\"outlinewidth\":0,\"ticks\":\"\"}},\"type\":\"scatterpolargl\"}],\"scatterpolar\":[{\"marker\":{\"colorbar\":{\"outlinewidth\":0,\"ticks\":\"\"}},\"type\":\"scatterpolar\"}],\"scatter\":[{\"fillpattern\":{\"fillmode\":\"overlay\",\"size\":10,\"solidity\":0.2},\"type\":\"scatter\"}],\"scatterternary\":[{\"marker\":{\"colorbar\":{\"outlinewidth\":0,\"ticks\":\"\"}},\"type\":\"scatterternary\"}],\"surface\":[{\"colorbar\":{\"outlinewidth\":0,\"ticks\":\"\"},\"colorscale\":[[0.0,\"#0d0887\"],[0.1111111111111111,\"#46039f\"],[0.2222222222222222,\"#7201a8\"],[0.3333333333333333,\"#9c179e\"],[0.4444444444444444,\"#bd3786\"],[0.5555555555555556,\"#d8576b\"],[0.6666666666666666,\"#ed7953\"],[0.7777777777777778,\"#fb9f3a\"],[0.8888888888888888,\"#fdca26\"],[1.0,\"#f0f921\"]],\"type\":\"surface\"}],\"table\":[{\"cells\":{\"fill\":{\"color\":\"#EBF0F8\"},\"line\":{\"color\":\"white\"}},\"header\":{\"fill\":{\"color\":\"#C8D4E3\"},\"line\":{\"color\":\"white\"}},\"type\":\"table\"}]},\"layout\":{\"annotationdefaults\":{\"arrowcolor\":\"#2a3f5f\",\"arrowhead\":0,\"arrowwidth\":1},\"autotypenumbers\":\"strict\",\"coloraxis\":{\"colorbar\":{\"outlinewidth\":0,\"ticks\":\"\"}},\"colorscale\":{\"diverging\":[[0,\"#8e0152\"],[0.1,\"#c51b7d\"],[0.2,\"#de77ae\"],[0.3,\"#f1b6da\"],[0.4,\"#fde0ef\"],[0.5,\"#f7f7f7\"],[0.6,\"#e6f5d0\"],[0.7,\"#b8e186\"],[0.8,\"#7fbc41\"],[0.9,\"#4d9221\"],[1,\"#276419\"]],\"sequential\":[[0.0,\"#0d0887\"],[0.1111111111111111,\"#46039f\"],[0.2222222222222222,\"#7201a8\"],[0.3333333333333333,\"#9c179e\"],[0.4444444444444444,\"#bd3786\"],[0.5555555555555556,\"#d8576b\"],[0.6666666666666666,\"#ed7953\"],[0.7777777777777778,\"#fb9f3a\"],[0.8888888888888888,\"#fdca26\"],[1.0,\"#f0f921\"]],\"sequentialminus\":[[0.0,\"#0d0887\"],[0.1111111111111111,\"#46039f\"],[0.2222222222222222,\"#7201a8\"],[0.3333333333333333,\"#9c179e\"],[0.4444444444444444,\"#bd3786\"],[0.5555555555555556,\"#d8576b\"],[0.6666666666666666,\"#ed7953\"],[0.7777777777777778,\"#fb9f3a\"],[0.8888888888888888,\"#fdca26\"],[1.0,\"#f0f921\"]]},\"colorway\":[\"#636efa\",\"#EF553B\",\"#00cc96\",\"#ab63fa\",\"#FFA15A\",\"#19d3f3\",\"#FF6692\",\"#B6E880\",\"#FF97FF\",\"#FECB52\"],\"font\":{\"color\":\"#2a3f5f\"},\"geo\":{\"bgcolor\":\"white\",\"lakecolor\":\"white\",\"landcolor\":\"white\",\"showlakes\":true,\"showland\":true,\"subunitcolor\":\"#C8D4E3\"},\"hoverlabel\":{\"align\":\"left\"},\"hovermode\":\"closest\",\"mapbox\":{\"style\":\"light\"},\"paper_bgcolor\":\"white\",\"plot_bgcolor\":\"white\",\"polar\":{\"angularaxis\":{\"gridcolor\":\"#EBF0F8\",\"linecolor\":\"#EBF0F8\",\"ticks\":\"\"},\"bgcolor\":\"white\",\"radialaxis\":{\"gridcolor\":\"#EBF0F8\",\"linecolor\":\"#EBF0F8\",\"ticks\":\"\"}},\"scene\":{\"xaxis\":{\"backgroundcolor\":\"white\",\"gridcolor\":\"#DFE8F3\",\"gridwidth\":2,\"linecolor\":\"#EBF0F8\",\"showbackground\":true,\"ticks\":\"\",\"zerolinecolor\":\"#EBF0F8\"},\"yaxis\":{\"backgroundcolor\":\"white\",\"gridcolor\":\"#DFE8F3\",\"gridwidth\":2,\"linecolor\":\"#EBF0F8\",\"showbackground\":true,\"ticks\":\"\",\"zerolinecolor\":\"#EBF0F8\"},\"zaxis\":{\"backgroundcolor\":\"white\",\"gridcolor\":\"#DFE8F3\",\"gridwidth\":2,\"linecolor\":\"#EBF0F8\",\"showbackground\":true,\"ticks\":\"\",\"zerolinecolor\":\"#EBF0F8\"}},\"shapedefaults\":{\"line\":{\"color\":\"#2a3f5f\"}},\"ternary\":{\"aaxis\":{\"gridcolor\":\"#DFE8F3\",\"linecolor\":\"#A2B1C6\",\"ticks\":\"\"},\"baxis\":{\"gridcolor\":\"#DFE8F3\",\"linecolor\":\"#A2B1C6\",\"ticks\":\"\"},\"bgcolor\":\"white\",\"caxis\":{\"gridcolor\":\"#DFE8F3\",\"linecolor\":\"#A2B1C6\",\"ticks\":\"\"}},\"title\":{\"x\":0.05},\"xaxis\":{\"automargin\":true,\"gridcolor\":\"#EBF0F8\",\"linecolor\":\"#EBF0F8\",\"ticks\":\"\",\"title\":{\"standoff\":15},\"zerolinecolor\":\"#EBF0F8\",\"zerolinewidth\":2},\"yaxis\":{\"automargin\":true,\"gridcolor\":\"#EBF0F8\",\"linecolor\":\"#EBF0F8\",\"ticks\":\"\",\"title\":{\"standoff\":15},\"zerolinecolor\":\"#EBF0F8\",\"zerolinewidth\":2}}},\"font\":{\"family\":\"Roboto Serif\",\"color\":\"black\"},\"images\":[{\"sizex\":0.2,\"sizey\":0.2,\"source\":\"https://raw.githubusercontent.com/PolicyEngine/policyengine-app/master/src/images/logos/policyengine/blue.png\",\"x\":1,\"xanchor\":\"right\",\"xref\":\"paper\",\"y\":-0.15,\"yanchor\":\"bottom\",\"yref\":\"paper\"}],\"height\":600,\"width\":800,\"modebar\":{\"bgcolor\":\"rgba(0,0,0,0)\",\"color\":\"rgba(0,0,0,0)\"},\"title\":{\"text\":\"Figure 5: Change to net income by income decile under a \\\\u00a3200 per month UBI\"}}}'"
      ]
     },
     "execution_count": 7,
     "metadata": {},
     "output_type": "execute_result"
    }
   ],
   "source": [
    "from policyengine_core.charts import decile_chart, intra_decile_chart\n",
    "\n",
    "decile_chart(\n",
    "    \"uk\",\n",
    "    model_1_reform.api_id,\n",
    "    \"ni\",\n",
    "    \"2023\",\n",
    ").update_layout(\n",
    "    title=\"Figure 5: Change to net income by income decile under a £200 per month UBI\"\n",
    ").to_json()"
   ]
  },
  {
   "cell_type": "markdown",
   "metadata": {},
   "source": [
    "This does not mean, however, that everyone within a beneficiary decile comes out ahead or vice-versa. But gains broadly correlate with income: in the first decile, all individuals see their household net income rise; in the top decile, most see their income fall."
   ]
  },
  {
   "cell_type": "code",
   "execution_count": 8,
   "metadata": {},
   "outputs": [
    {
     "data": {
      "text/plain": [
       "'{\"data\":[{\"hoverinfo\":\"none\",\"legendgroup\":\"Gain more than 5%\",\"marker\":{\"color\":\"#2C6496\",\"line\":{\"width\":0}},\"name\":\"Gain more than 5%\",\"offsetgroup\":\"Gain more than 5%\",\"orientation\":\"h\",\"showlegend\":false,\"text\":[\"46%\"],\"textangle\":0,\"textposition\":\"inside\",\"x\":[0.45630390057616543],\"xaxis\":\"x\",\"y\":[\"All\"],\"yaxis\":\"y\",\"type\":\"bar\",\"width\":[0.9,0.9,0.9,0.9,0.9,0.9,0.9,0.9,0.9,0.9]},{\"hoverinfo\":\"none\",\"legendgroup\":\"Gain less than 5%\",\"marker\":{\"color\":\"#D8E6F3\",\"line\":{\"width\":0}},\"name\":\"Gain less than 5%\",\"offsetgroup\":\"Gain less than 5%\",\"orientation\":\"h\",\"showlegend\":false,\"text\":[\"13%\"],\"textangle\":0,\"textposition\":\"inside\",\"x\":[0.1336800553999595],\"xaxis\":\"x\",\"y\":[\"All\"],\"yaxis\":\"y\",\"type\":\"bar\",\"width\":[0.9,0.9,0.9,0.9,0.9,0.9,0.9,0.9,0.9,0.9]},{\"hoverinfo\":\"none\",\"legendgroup\":\"No change\",\"marker\":{\"color\":\"#FFFFFF\",\"line\":{\"width\":0}},\"name\":\"No change\",\"offsetgroup\":\"No change\",\"orientation\":\"h\",\"showlegend\":false,\"text\":[\"0%\"],\"textangle\":0,\"textposition\":\"inside\",\"x\":[0.0019348821659243589],\"xaxis\":\"x\",\"y\":[\"All\"],\"yaxis\":\"y\",\"type\":\"bar\",\"width\":[0.9,0.9,0.9,0.9,0.9,0.9,0.9,0.9,0.9,0.9]},{\"hoverinfo\":\"none\",\"legendgroup\":\"Lose less than 5%\",\"marker\":{\"color\":\"#D2D2D2\",\"line\":{\"width\":0}},\"name\":\"Lose less than 5%\",\"offsetgroup\":\"Lose less than 5%\",\"orientation\":\"h\",\"showlegend\":false,\"text\":[\"34%\"],\"textangle\":0,\"textposition\":\"inside\",\"x\":[0.3363816718969847],\"xaxis\":\"x\",\"y\":[\"All\"],\"yaxis\":\"y\",\"type\":\"bar\",\"width\":[0.9,0.9,0.9,0.9,0.9,0.9,0.9,0.9,0.9,0.9]},{\"hoverinfo\":\"none\",\"legendgroup\":\"Lose more than 5%\",\"marker\":{\"color\":\"#616161\",\"line\":{\"width\":0}},\"name\":\"Lose more than 5%\",\"offsetgroup\":\"Lose more than 5%\",\"orientation\":\"h\",\"showlegend\":false,\"text\":[\"7%\"],\"textangle\":0,\"textposition\":\"inside\",\"x\":[0.07169948996096599],\"xaxis\":\"x\",\"y\":[\"All\"],\"yaxis\":\"y\",\"type\":\"bar\",\"width\":[0.9,0.9,0.9,0.9,0.9,0.9,0.9,0.9,0.9,0.9]},{\"hoverinfo\":\"none\",\"marker\":{\"color\":\"#2C6496\",\"line\":{\"width\":0}},\"name\":\"Gain more than 5%\",\"orientation\":\"h\",\"text\":[\"90%\",\"74%\",\"74%\",\"67%\",\"48%\",\"31%\",\"37%\",\"19%\",\"13%\",\"3%\"],\"textangle\":0,\"textposition\":\"inside\",\"x\":[0.8990228551712489,0.7406334682395671,0.7415187164238507,0.6729375144593659,0.4819615677827192,0.306094764169512,0.3653617237822536,0.19171323541648613,0.13191894958862782,0.03187621072802262],\"xaxis\":\"x2\",\"y\":[1,2,3,4,5,6,7,8,9,10],\"yaxis\":\"y2\",\"type\":\"bar\",\"width\":[0.9,0.9,0.9,0.9,0.9,0.9,0.9,0.9,0.9,0.9]},{\"hoverinfo\":\"none\",\"marker\":{\"color\":\"#D8E6F3\",\"line\":{\"width\":0}},\"name\":\"Gain less than 5%\",\"orientation\":\"h\",\"text\":[\"3%\",\"2%\",\"9%\",\"22%\",\"16%\",\"17%\",\"10%\",\"11%\",\"16%\",\"28%\"],\"textangle\":0,\"textposition\":\"inside\",\"x\":[0.03176446564321984,0.020860388132864997,0.08551659769948895,0.21997204320312258,0.15813304581875995,0.1688766170226392,0.0998683798000677,0.11291121387111713,0.1593625383880839,0.27953526442023097],\"xaxis\":\"x2\",\"y\":[1,2,3,4,5,6,7,8,9,10],\"yaxis\":\"y2\",\"type\":\"bar\",\"width\":[0.9,0.9,0.9,0.9,0.9,0.9,0.9,0.9,0.9,0.9]},{\"hoverinfo\":\"none\",\"marker\":{\"color\":\"#FFFFFF\",\"line\":{\"width\":0}},\"name\":\"No change\",\"orientation\":\"h\",\"text\":[\"0%\",\"0%\",\"0%\",\"0%\",\"2%\",\"0%\",\"0%\",\"0%\",\"0%\",\"0%\"],\"textangle\":0,\"textposition\":\"inside\",\"x\":[0.0,0.0,0.0,0.0,0.01934882165924359,0.0,0.0,0.0,0.0,0.0],\"xaxis\":\"x2\",\"y\":[1,2,3,4,5,6,7,8,9,10],\"yaxis\":\"y2\",\"type\":\"bar\",\"width\":[0.9,0.9,0.9,0.9,0.9,0.9,0.9,0.9,0.9,0.9]},{\"hoverinfo\":\"none\",\"marker\":{\"color\":\"#D2D2D2\",\"line\":{\"width\":0}},\"name\":\"Lose less than 5%\",\"orientation\":\"h\",\"text\":[\"7%\",\"24%\",\"17%\",\"11%\",\"34%\",\"52%\",\"52%\",\"67%\",\"58%\",\"14%\"],\"textangle\":0,\"textposition\":\"inside\",\"x\":[0.06921267918553124,0.2385061436275679,0.17296468587666036,0.10709044233751151,0.3394825757344584,0.5164443072799159,0.5246740018532695,0.6722359102715965,0.578555608925068,0.14465036387826813],\"xaxis\":\"x2\",\"y\":[1,2,3,4,5,6,7,8,9,10],\"yaxis\":\"y2\",\"type\":\"bar\",\"width\":[0.9,0.9,0.9,0.9,0.9,0.9,0.9,0.9,0.9,0.9]},{\"hoverinfo\":\"none\",\"marker\":{\"color\":\"#616161\",\"line\":{\"width\":0}},\"name\":\"Lose more than 5%\",\"orientation\":\"h\",\"text\":[\"0%\",\"0%\",\"0%\",\"0%\",\"0%\",\"1%\",\"1%\",\"2%\",\"13%\",\"54%\"],\"textangle\":0,\"textposition\":\"inside\",\"x\":[0.0,0.0,0.0,0.0,0.0010739890048188788,0.008584311527932974,0.010095894564409229,0.02313964044080026,0.13016290309822032,0.5439381609734782],\"xaxis\":\"x2\",\"y\":[1,2,3,4,5,6,7,8,9,10],\"yaxis\":\"y2\",\"type\":\"bar\",\"width\":[0.9,0.9,0.9,0.9,0.9,0.9,0.9,0.9,0.9,0.9]}],\"layout\":{\"barmode\":\"stack\",\"grid\":{\"columns\":1,\"rows\":2},\"uniformtext\":{\"minsize\":10,\"mode\":\"hide\"},\"xaxis\":{\"anchor\":\"y\",\"matches\":\"x2\",\"showgrid\":false,\"showticklabels\":false,\"tickformat\":\".0%\",\"title\":{\"text\":\"\"}},\"yaxis\":{\"domain\":[0.91,1],\"tickvals\":[\"All\"],\"title\":{\"text\":\"\"}},\"xaxis2\":{\"anchor\":\"y2\",\"tickformat\":\".0%\",\"title\":{\"text\":\"Population share\"}},\"yaxis2\":{\"anchor\":\"x2\",\"domain\":[0,0.85],\"tickvals\":[1,2,3,4,5,6,7,8,9,10],\"title\":{\"text\":\"Income decile\"}},\"template\":{\"data\":{\"barpolar\":[{\"marker\":{\"line\":{\"color\":\"white\",\"width\":0.5},\"pattern\":{\"fillmode\":\"overlay\",\"size\":10,\"solidity\":0.2}},\"type\":\"barpolar\"}],\"bar\":[{\"error_x\":{\"color\":\"#2a3f5f\"},\"error_y\":{\"color\":\"#2a3f5f\"},\"marker\":{\"line\":{\"color\":\"white\",\"width\":0.5},\"pattern\":{\"fillmode\":\"overlay\",\"size\":10,\"solidity\":0.2}},\"type\":\"bar\"}],\"carpet\":[{\"aaxis\":{\"endlinecolor\":\"#2a3f5f\",\"gridcolor\":\"#C8D4E3\",\"linecolor\":\"#C8D4E3\",\"minorgridcolor\":\"#C8D4E3\",\"startlinecolor\":\"#2a3f5f\"},\"baxis\":{\"endlinecolor\":\"#2a3f5f\",\"gridcolor\":\"#C8D4E3\",\"linecolor\":\"#C8D4E3\",\"minorgridcolor\":\"#C8D4E3\",\"startlinecolor\":\"#2a3f5f\"},\"type\":\"carpet\"}],\"choropleth\":[{\"colorbar\":{\"outlinewidth\":0,\"ticks\":\"\"},\"type\":\"choropleth\"}],\"contourcarpet\":[{\"colorbar\":{\"outlinewidth\":0,\"ticks\":\"\"},\"type\":\"contourcarpet\"}],\"contour\":[{\"colorbar\":{\"outlinewidth\":0,\"ticks\":\"\"},\"colorscale\":[[0.0,\"#0d0887\"],[0.1111111111111111,\"#46039f\"],[0.2222222222222222,\"#7201a8\"],[0.3333333333333333,\"#9c179e\"],[0.4444444444444444,\"#bd3786\"],[0.5555555555555556,\"#d8576b\"],[0.6666666666666666,\"#ed7953\"],[0.7777777777777778,\"#fb9f3a\"],[0.8888888888888888,\"#fdca26\"],[1.0,\"#f0f921\"]],\"type\":\"contour\"}],\"heatmapgl\":[{\"colorbar\":{\"outlinewidth\":0,\"ticks\":\"\"},\"colorscale\":[[0.0,\"#0d0887\"],[0.1111111111111111,\"#46039f\"],[0.2222222222222222,\"#7201a8\"],[0.3333333333333333,\"#9c179e\"],[0.4444444444444444,\"#bd3786\"],[0.5555555555555556,\"#d8576b\"],[0.6666666666666666,\"#ed7953\"],[0.7777777777777778,\"#fb9f3a\"],[0.8888888888888888,\"#fdca26\"],[1.0,\"#f0f921\"]],\"type\":\"heatmapgl\"}],\"heatmap\":[{\"colorbar\":{\"outlinewidth\":0,\"ticks\":\"\"},\"colorscale\":[[0.0,\"#0d0887\"],[0.1111111111111111,\"#46039f\"],[0.2222222222222222,\"#7201a8\"],[0.3333333333333333,\"#9c179e\"],[0.4444444444444444,\"#bd3786\"],[0.5555555555555556,\"#d8576b\"],[0.6666666666666666,\"#ed7953\"],[0.7777777777777778,\"#fb9f3a\"],[0.8888888888888888,\"#fdca26\"],[1.0,\"#f0f921\"]],\"type\":\"heatmap\"}],\"histogram2dcontour\":[{\"colorbar\":{\"outlinewidth\":0,\"ticks\":\"\"},\"colorscale\":[[0.0,\"#0d0887\"],[0.1111111111111111,\"#46039f\"],[0.2222222222222222,\"#7201a8\"],[0.3333333333333333,\"#9c179e\"],[0.4444444444444444,\"#bd3786\"],[0.5555555555555556,\"#d8576b\"],[0.6666666666666666,\"#ed7953\"],[0.7777777777777778,\"#fb9f3a\"],[0.8888888888888888,\"#fdca26\"],[1.0,\"#f0f921\"]],\"type\":\"histogram2dcontour\"}],\"histogram2d\":[{\"colorbar\":{\"outlinewidth\":0,\"ticks\":\"\"},\"colorscale\":[[0.0,\"#0d0887\"],[0.1111111111111111,\"#46039f\"],[0.2222222222222222,\"#7201a8\"],[0.3333333333333333,\"#9c179e\"],[0.4444444444444444,\"#bd3786\"],[0.5555555555555556,\"#d8576b\"],[0.6666666666666666,\"#ed7953\"],[0.7777777777777778,\"#fb9f3a\"],[0.8888888888888888,\"#fdca26\"],[1.0,\"#f0f921\"]],\"type\":\"histogram2d\"}],\"histogram\":[{\"marker\":{\"pattern\":{\"fillmode\":\"overlay\",\"size\":10,\"solidity\":0.2}},\"type\":\"histogram\"}],\"mesh3d\":[{\"colorbar\":{\"outlinewidth\":0,\"ticks\":\"\"},\"type\":\"mesh3d\"}],\"parcoords\":[{\"line\":{\"colorbar\":{\"outlinewidth\":0,\"ticks\":\"\"}},\"type\":\"parcoords\"}],\"pie\":[{\"automargin\":true,\"type\":\"pie\"}],\"scatter3d\":[{\"line\":{\"colorbar\":{\"outlinewidth\":0,\"ticks\":\"\"}},\"marker\":{\"colorbar\":{\"outlinewidth\":0,\"ticks\":\"\"}},\"type\":\"scatter3d\"}],\"scattercarpet\":[{\"marker\":{\"colorbar\":{\"outlinewidth\":0,\"ticks\":\"\"}},\"type\":\"scattercarpet\"}],\"scattergeo\":[{\"marker\":{\"colorbar\":{\"outlinewidth\":0,\"ticks\":\"\"}},\"type\":\"scattergeo\"}],\"scattergl\":[{\"marker\":{\"colorbar\":{\"outlinewidth\":0,\"ticks\":\"\"}},\"type\":\"scattergl\"}],\"scattermapbox\":[{\"marker\":{\"colorbar\":{\"outlinewidth\":0,\"ticks\":\"\"}},\"type\":\"scattermapbox\"}],\"scatterpolargl\":[{\"marker\":{\"colorbar\":{\"outlinewidth\":0,\"ticks\":\"\"}},\"type\":\"scatterpolargl\"}],\"scatterpolar\":[{\"marker\":{\"colorbar\":{\"outlinewidth\":0,\"ticks\":\"\"}},\"type\":\"scatterpolar\"}],\"scatter\":[{\"fillpattern\":{\"fillmode\":\"overlay\",\"size\":10,\"solidity\":0.2},\"type\":\"scatter\"}],\"scatterternary\":[{\"marker\":{\"colorbar\":{\"outlinewidth\":0,\"ticks\":\"\"}},\"type\":\"scatterternary\"}],\"surface\":[{\"colorbar\":{\"outlinewidth\":0,\"ticks\":\"\"},\"colorscale\":[[0.0,\"#0d0887\"],[0.1111111111111111,\"#46039f\"],[0.2222222222222222,\"#7201a8\"],[0.3333333333333333,\"#9c179e\"],[0.4444444444444444,\"#bd3786\"],[0.5555555555555556,\"#d8576b\"],[0.6666666666666666,\"#ed7953\"],[0.7777777777777778,\"#fb9f3a\"],[0.8888888888888888,\"#fdca26\"],[1.0,\"#f0f921\"]],\"type\":\"surface\"}],\"table\":[{\"cells\":{\"fill\":{\"color\":\"#EBF0F8\"},\"line\":{\"color\":\"white\"}},\"header\":{\"fill\":{\"color\":\"#C8D4E3\"},\"line\":{\"color\":\"white\"}},\"type\":\"table\"}]},\"layout\":{\"annotationdefaults\":{\"arrowcolor\":\"#2a3f5f\",\"arrowhead\":0,\"arrowwidth\":1},\"autotypenumbers\":\"strict\",\"coloraxis\":{\"colorbar\":{\"outlinewidth\":0,\"ticks\":\"\"}},\"colorscale\":{\"diverging\":[[0,\"#8e0152\"],[0.1,\"#c51b7d\"],[0.2,\"#de77ae\"],[0.3,\"#f1b6da\"],[0.4,\"#fde0ef\"],[0.5,\"#f7f7f7\"],[0.6,\"#e6f5d0\"],[0.7,\"#b8e186\"],[0.8,\"#7fbc41\"],[0.9,\"#4d9221\"],[1,\"#276419\"]],\"sequential\":[[0.0,\"#0d0887\"],[0.1111111111111111,\"#46039f\"],[0.2222222222222222,\"#7201a8\"],[0.3333333333333333,\"#9c179e\"],[0.4444444444444444,\"#bd3786\"],[0.5555555555555556,\"#d8576b\"],[0.6666666666666666,\"#ed7953\"],[0.7777777777777778,\"#fb9f3a\"],[0.8888888888888888,\"#fdca26\"],[1.0,\"#f0f921\"]],\"sequentialminus\":[[0.0,\"#0d0887\"],[0.1111111111111111,\"#46039f\"],[0.2222222222222222,\"#7201a8\"],[0.3333333333333333,\"#9c179e\"],[0.4444444444444444,\"#bd3786\"],[0.5555555555555556,\"#d8576b\"],[0.6666666666666666,\"#ed7953\"],[0.7777777777777778,\"#fb9f3a\"],[0.8888888888888888,\"#fdca26\"],[1.0,\"#f0f921\"]]},\"colorway\":[\"#636efa\",\"#EF553B\",\"#00cc96\",\"#ab63fa\",\"#FFA15A\",\"#19d3f3\",\"#FF6692\",\"#B6E880\",\"#FF97FF\",\"#FECB52\"],\"font\":{\"color\":\"#2a3f5f\"},\"geo\":{\"bgcolor\":\"white\",\"lakecolor\":\"white\",\"landcolor\":\"white\",\"showlakes\":true,\"showland\":true,\"subunitcolor\":\"#C8D4E3\"},\"hoverlabel\":{\"align\":\"left\"},\"hovermode\":\"closest\",\"mapbox\":{\"style\":\"light\"},\"paper_bgcolor\":\"white\",\"plot_bgcolor\":\"white\",\"polar\":{\"angularaxis\":{\"gridcolor\":\"#EBF0F8\",\"linecolor\":\"#EBF0F8\",\"ticks\":\"\"},\"bgcolor\":\"white\",\"radialaxis\":{\"gridcolor\":\"#EBF0F8\",\"linecolor\":\"#EBF0F8\",\"ticks\":\"\"}},\"scene\":{\"xaxis\":{\"backgroundcolor\":\"white\",\"gridcolor\":\"#DFE8F3\",\"gridwidth\":2,\"linecolor\":\"#EBF0F8\",\"showbackground\":true,\"ticks\":\"\",\"zerolinecolor\":\"#EBF0F8\"},\"yaxis\":{\"backgroundcolor\":\"white\",\"gridcolor\":\"#DFE8F3\",\"gridwidth\":2,\"linecolor\":\"#EBF0F8\",\"showbackground\":true,\"ticks\":\"\",\"zerolinecolor\":\"#EBF0F8\"},\"zaxis\":{\"backgroundcolor\":\"white\",\"gridcolor\":\"#DFE8F3\",\"gridwidth\":2,\"linecolor\":\"#EBF0F8\",\"showbackground\":true,\"ticks\":\"\",\"zerolinecolor\":\"#EBF0F8\"}},\"shapedefaults\":{\"line\":{\"color\":\"#2a3f5f\"}},\"ternary\":{\"aaxis\":{\"gridcolor\":\"#DFE8F3\",\"linecolor\":\"#A2B1C6\",\"ticks\":\"\"},\"baxis\":{\"gridcolor\":\"#DFE8F3\",\"linecolor\":\"#A2B1C6\",\"ticks\":\"\"},\"bgcolor\":\"white\",\"caxis\":{\"gridcolor\":\"#DFE8F3\",\"linecolor\":\"#A2B1C6\",\"ticks\":\"\"}},\"title\":{\"x\":0.05},\"xaxis\":{\"automargin\":true,\"gridcolor\":\"#EBF0F8\",\"linecolor\":\"#EBF0F8\",\"ticks\":\"\",\"title\":{\"standoff\":15},\"zerolinecolor\":\"#EBF0F8\",\"zerolinewidth\":2},\"yaxis\":{\"automargin\":true,\"gridcolor\":\"#EBF0F8\",\"linecolor\":\"#EBF0F8\",\"ticks\":\"\",\"title\":{\"standoff\":15},\"zerolinecolor\":\"#EBF0F8\",\"zerolinewidth\":2}}},\"font\":{\"family\":\"Roboto Serif\",\"color\":\"black\"},\"images\":[{\"sizex\":0.2,\"sizey\":0.2,\"source\":\"https://raw.githubusercontent.com/PolicyEngine/policyengine-app/master/src/images/logos/policyengine/blue.png\",\"x\":1,\"xanchor\":\"right\",\"xref\":\"paper\",\"y\":-0.15,\"yanchor\":\"bottom\",\"yref\":\"paper\"}],\"height\":600,\"width\":800,\"modebar\":{\"bgcolor\":\"rgba(0,0,0,0)\",\"color\":\"rgba(0,0,0,0)\"},\"legend\":{\"orientation\":\"h\",\"yanchor\":\"bottom\",\"y\":-0.3},\"title\":{\"text\":\"Figure 6: Outcome distribution by income decile under a \\\\u00a3200 per month UBI\"}}}'"
      ]
     },
     "execution_count": 8,
     "metadata": {},
     "output_type": "execute_result"
    }
   ],
   "source": [
    "intra_decile_chart(\n",
    "    \"uk\",\n",
    "    model_1_reform.api_id,\n",
    "    \"ni\",\n",
    "    \"2023\",\n",
    ").update_layout(\n",
    "    title=\"Figure 6: Outcome distribution by income decile under a £200 per month UBI\",\n",
    "    legend=dict(\n",
    "        orientation=\"h\",\n",
    "        yanchor=\"bottom\",\n",
    "        y=-0.3,\n",
    "    )\n",
    ").to_json()"
   ]
  },
  {
   "cell_type": "markdown",
   "metadata": {},
   "source": [
    "Total absolute poverty falls by 36%. This includes a fall of 40% for working-age poverty and by 42% for child poverty.\n",
    "\n",
    "## [£300 per month option](https://policyengine.org/uk/policy?reform=33333&focus=policyOutput.decileRelativeImpact&region=ni&timePeriod=2023&baseline=1)\n",
    "\n",
    "_£300 per month for adults, funded by repealing the personal allowance and increasing all tax rates by 5.2p_\n",
    "\n",
    "To raise the basic income level from £200 to £300, Northern Ireland could eliminate the personal allowance and adjust tax rates as follows: increase the basic rate to 25.2%, the higher rate to 45.2%, and the additional rate to 49.2%. UK transfers would fund the remaining quarter. As a result, the top marginal income tax rate would drop to 49.2% because the policy eliminates the personal allowance and its phase-out effect on higher earners.[^10]\n",
    "\n",
    "With a larger UBI comes larger gains for lowest income decile: 23%, compared to a 2% fall among the top decile.\n",
    "\n",
    "[^10]: This is because of the personal allowance phase-out, which creates a 60% marginal rate (40% \\* 1.5), in addition to the National Insurance marginal rate of (as of the time of writing) 3.25%.\n"
   ]
  },
  {
   "cell_type": "code",
   "execution_count": 9,
   "metadata": {
    "tags": [
     "hide-input"
    ]
   },
   "outputs": [
    {
     "data": {
      "text/plain": [
       "'{\"data\":[{\"marker\":{\"color\":[\"#2C6496\",\"#2C6496\",\"#2C6496\",\"#2C6496\",\"#2C6496\",\"#2C6496\",\"#2C6496\",\"#616161\",\"#616161\",\"#616161\"]},\"text\":[\"+22.6%\",\"+12.1%\",\"+9.5%\",\"+6.9%\",\"+5.1%\",\"+2.4%\",\"+1.5%\",\"-0.5%\",\"-1.5%\",\"-3.6%\"],\"textangle\":0,\"x\":[1,2,3,4,5,6,7,8,9,10],\"y\":[0.22570904884058754,0.12095187591891643,0.09455232356452342,0.06868454950662248,0.050914723111192946,0.023597636772881198,0.01528567464086537,-0.004997856319529357,-0.014642196401721411,-0.03631149335582351],\"type\":\"bar\"}],\"layout\":{\"uniformtext\":{\"minsize\":8,\"mode\":\"hide\"},\"xaxis\":{\"tickvals\":[1,2,3,4,5,6,7,8,9,10],\"title\":{\"text\":\"Income decile\"}},\"yaxis\":{\"tickformat\":\"+,.0%\",\"title\":{\"text\":\"Relative change\"}},\"template\":{\"data\":{\"barpolar\":[{\"marker\":{\"line\":{\"color\":\"white\",\"width\":0.5},\"pattern\":{\"fillmode\":\"overlay\",\"size\":10,\"solidity\":0.2}},\"type\":\"barpolar\"}],\"bar\":[{\"error_x\":{\"color\":\"#2a3f5f\"},\"error_y\":{\"color\":\"#2a3f5f\"},\"marker\":{\"line\":{\"color\":\"white\",\"width\":0.5},\"pattern\":{\"fillmode\":\"overlay\",\"size\":10,\"solidity\":0.2}},\"type\":\"bar\"}],\"carpet\":[{\"aaxis\":{\"endlinecolor\":\"#2a3f5f\",\"gridcolor\":\"#C8D4E3\",\"linecolor\":\"#C8D4E3\",\"minorgridcolor\":\"#C8D4E3\",\"startlinecolor\":\"#2a3f5f\"},\"baxis\":{\"endlinecolor\":\"#2a3f5f\",\"gridcolor\":\"#C8D4E3\",\"linecolor\":\"#C8D4E3\",\"minorgridcolor\":\"#C8D4E3\",\"startlinecolor\":\"#2a3f5f\"},\"type\":\"carpet\"}],\"choropleth\":[{\"colorbar\":{\"outlinewidth\":0,\"ticks\":\"\"},\"type\":\"choropleth\"}],\"contourcarpet\":[{\"colorbar\":{\"outlinewidth\":0,\"ticks\":\"\"},\"type\":\"contourcarpet\"}],\"contour\":[{\"colorbar\":{\"outlinewidth\":0,\"ticks\":\"\"},\"colorscale\":[[0.0,\"#0d0887\"],[0.1111111111111111,\"#46039f\"],[0.2222222222222222,\"#7201a8\"],[0.3333333333333333,\"#9c179e\"],[0.4444444444444444,\"#bd3786\"],[0.5555555555555556,\"#d8576b\"],[0.6666666666666666,\"#ed7953\"],[0.7777777777777778,\"#fb9f3a\"],[0.8888888888888888,\"#fdca26\"],[1.0,\"#f0f921\"]],\"type\":\"contour\"}],\"heatmapgl\":[{\"colorbar\":{\"outlinewidth\":0,\"ticks\":\"\"},\"colorscale\":[[0.0,\"#0d0887\"],[0.1111111111111111,\"#46039f\"],[0.2222222222222222,\"#7201a8\"],[0.3333333333333333,\"#9c179e\"],[0.4444444444444444,\"#bd3786\"],[0.5555555555555556,\"#d8576b\"],[0.6666666666666666,\"#ed7953\"],[0.7777777777777778,\"#fb9f3a\"],[0.8888888888888888,\"#fdca26\"],[1.0,\"#f0f921\"]],\"type\":\"heatmapgl\"}],\"heatmap\":[{\"colorbar\":{\"outlinewidth\":0,\"ticks\":\"\"},\"colorscale\":[[0.0,\"#0d0887\"],[0.1111111111111111,\"#46039f\"],[0.2222222222222222,\"#7201a8\"],[0.3333333333333333,\"#9c179e\"],[0.4444444444444444,\"#bd3786\"],[0.5555555555555556,\"#d8576b\"],[0.6666666666666666,\"#ed7953\"],[0.7777777777777778,\"#fb9f3a\"],[0.8888888888888888,\"#fdca26\"],[1.0,\"#f0f921\"]],\"type\":\"heatmap\"}],\"histogram2dcontour\":[{\"colorbar\":{\"outlinewidth\":0,\"ticks\":\"\"},\"colorscale\":[[0.0,\"#0d0887\"],[0.1111111111111111,\"#46039f\"],[0.2222222222222222,\"#7201a8\"],[0.3333333333333333,\"#9c179e\"],[0.4444444444444444,\"#bd3786\"],[0.5555555555555556,\"#d8576b\"],[0.6666666666666666,\"#ed7953\"],[0.7777777777777778,\"#fb9f3a\"],[0.8888888888888888,\"#fdca26\"],[1.0,\"#f0f921\"]],\"type\":\"histogram2dcontour\"}],\"histogram2d\":[{\"colorbar\":{\"outlinewidth\":0,\"ticks\":\"\"},\"colorscale\":[[0.0,\"#0d0887\"],[0.1111111111111111,\"#46039f\"],[0.2222222222222222,\"#7201a8\"],[0.3333333333333333,\"#9c179e\"],[0.4444444444444444,\"#bd3786\"],[0.5555555555555556,\"#d8576b\"],[0.6666666666666666,\"#ed7953\"],[0.7777777777777778,\"#fb9f3a\"],[0.8888888888888888,\"#fdca26\"],[1.0,\"#f0f921\"]],\"type\":\"histogram2d\"}],\"histogram\":[{\"marker\":{\"pattern\":{\"fillmode\":\"overlay\",\"size\":10,\"solidity\":0.2}},\"type\":\"histogram\"}],\"mesh3d\":[{\"colorbar\":{\"outlinewidth\":0,\"ticks\":\"\"},\"type\":\"mesh3d\"}],\"parcoords\":[{\"line\":{\"colorbar\":{\"outlinewidth\":0,\"ticks\":\"\"}},\"type\":\"parcoords\"}],\"pie\":[{\"automargin\":true,\"type\":\"pie\"}],\"scatter3d\":[{\"line\":{\"colorbar\":{\"outlinewidth\":0,\"ticks\":\"\"}},\"marker\":{\"colorbar\":{\"outlinewidth\":0,\"ticks\":\"\"}},\"type\":\"scatter3d\"}],\"scattercarpet\":[{\"marker\":{\"colorbar\":{\"outlinewidth\":0,\"ticks\":\"\"}},\"type\":\"scattercarpet\"}],\"scattergeo\":[{\"marker\":{\"colorbar\":{\"outlinewidth\":0,\"ticks\":\"\"}},\"type\":\"scattergeo\"}],\"scattergl\":[{\"marker\":{\"colorbar\":{\"outlinewidth\":0,\"ticks\":\"\"}},\"type\":\"scattergl\"}],\"scattermapbox\":[{\"marker\":{\"colorbar\":{\"outlinewidth\":0,\"ticks\":\"\"}},\"type\":\"scattermapbox\"}],\"scatterpolargl\":[{\"marker\":{\"colorbar\":{\"outlinewidth\":0,\"ticks\":\"\"}},\"type\":\"scatterpolargl\"}],\"scatterpolar\":[{\"marker\":{\"colorbar\":{\"outlinewidth\":0,\"ticks\":\"\"}},\"type\":\"scatterpolar\"}],\"scatter\":[{\"fillpattern\":{\"fillmode\":\"overlay\",\"size\":10,\"solidity\":0.2},\"type\":\"scatter\"}],\"scatterternary\":[{\"marker\":{\"colorbar\":{\"outlinewidth\":0,\"ticks\":\"\"}},\"type\":\"scatterternary\"}],\"surface\":[{\"colorbar\":{\"outlinewidth\":0,\"ticks\":\"\"},\"colorscale\":[[0.0,\"#0d0887\"],[0.1111111111111111,\"#46039f\"],[0.2222222222222222,\"#7201a8\"],[0.3333333333333333,\"#9c179e\"],[0.4444444444444444,\"#bd3786\"],[0.5555555555555556,\"#d8576b\"],[0.6666666666666666,\"#ed7953\"],[0.7777777777777778,\"#fb9f3a\"],[0.8888888888888888,\"#fdca26\"],[1.0,\"#f0f921\"]],\"type\":\"surface\"}],\"table\":[{\"cells\":{\"fill\":{\"color\":\"#EBF0F8\"},\"line\":{\"color\":\"white\"}},\"header\":{\"fill\":{\"color\":\"#C8D4E3\"},\"line\":{\"color\":\"white\"}},\"type\":\"table\"}]},\"layout\":{\"annotationdefaults\":{\"arrowcolor\":\"#2a3f5f\",\"arrowhead\":0,\"arrowwidth\":1},\"autotypenumbers\":\"strict\",\"coloraxis\":{\"colorbar\":{\"outlinewidth\":0,\"ticks\":\"\"}},\"colorscale\":{\"diverging\":[[0,\"#8e0152\"],[0.1,\"#c51b7d\"],[0.2,\"#de77ae\"],[0.3,\"#f1b6da\"],[0.4,\"#fde0ef\"],[0.5,\"#f7f7f7\"],[0.6,\"#e6f5d0\"],[0.7,\"#b8e186\"],[0.8,\"#7fbc41\"],[0.9,\"#4d9221\"],[1,\"#276419\"]],\"sequential\":[[0.0,\"#0d0887\"],[0.1111111111111111,\"#46039f\"],[0.2222222222222222,\"#7201a8\"],[0.3333333333333333,\"#9c179e\"],[0.4444444444444444,\"#bd3786\"],[0.5555555555555556,\"#d8576b\"],[0.6666666666666666,\"#ed7953\"],[0.7777777777777778,\"#fb9f3a\"],[0.8888888888888888,\"#fdca26\"],[1.0,\"#f0f921\"]],\"sequentialminus\":[[0.0,\"#0d0887\"],[0.1111111111111111,\"#46039f\"],[0.2222222222222222,\"#7201a8\"],[0.3333333333333333,\"#9c179e\"],[0.4444444444444444,\"#bd3786\"],[0.5555555555555556,\"#d8576b\"],[0.6666666666666666,\"#ed7953\"],[0.7777777777777778,\"#fb9f3a\"],[0.8888888888888888,\"#fdca26\"],[1.0,\"#f0f921\"]]},\"colorway\":[\"#636efa\",\"#EF553B\",\"#00cc96\",\"#ab63fa\",\"#FFA15A\",\"#19d3f3\",\"#FF6692\",\"#B6E880\",\"#FF97FF\",\"#FECB52\"],\"font\":{\"color\":\"#2a3f5f\"},\"geo\":{\"bgcolor\":\"white\",\"lakecolor\":\"white\",\"landcolor\":\"white\",\"showlakes\":true,\"showland\":true,\"subunitcolor\":\"#C8D4E3\"},\"hoverlabel\":{\"align\":\"left\"},\"hovermode\":\"closest\",\"mapbox\":{\"style\":\"light\"},\"paper_bgcolor\":\"white\",\"plot_bgcolor\":\"white\",\"polar\":{\"angularaxis\":{\"gridcolor\":\"#EBF0F8\",\"linecolor\":\"#EBF0F8\",\"ticks\":\"\"},\"bgcolor\":\"white\",\"radialaxis\":{\"gridcolor\":\"#EBF0F8\",\"linecolor\":\"#EBF0F8\",\"ticks\":\"\"}},\"scene\":{\"xaxis\":{\"backgroundcolor\":\"white\",\"gridcolor\":\"#DFE8F3\",\"gridwidth\":2,\"linecolor\":\"#EBF0F8\",\"showbackground\":true,\"ticks\":\"\",\"zerolinecolor\":\"#EBF0F8\"},\"yaxis\":{\"backgroundcolor\":\"white\",\"gridcolor\":\"#DFE8F3\",\"gridwidth\":2,\"linecolor\":\"#EBF0F8\",\"showbackground\":true,\"ticks\":\"\",\"zerolinecolor\":\"#EBF0F8\"},\"zaxis\":{\"backgroundcolor\":\"white\",\"gridcolor\":\"#DFE8F3\",\"gridwidth\":2,\"linecolor\":\"#EBF0F8\",\"showbackground\":true,\"ticks\":\"\",\"zerolinecolor\":\"#EBF0F8\"}},\"shapedefaults\":{\"line\":{\"color\":\"#2a3f5f\"}},\"ternary\":{\"aaxis\":{\"gridcolor\":\"#DFE8F3\",\"linecolor\":\"#A2B1C6\",\"ticks\":\"\"},\"baxis\":{\"gridcolor\":\"#DFE8F3\",\"linecolor\":\"#A2B1C6\",\"ticks\":\"\"},\"bgcolor\":\"white\",\"caxis\":{\"gridcolor\":\"#DFE8F3\",\"linecolor\":\"#A2B1C6\",\"ticks\":\"\"}},\"title\":{\"x\":0.05},\"xaxis\":{\"automargin\":true,\"gridcolor\":\"#EBF0F8\",\"linecolor\":\"#EBF0F8\",\"ticks\":\"\",\"title\":{\"standoff\":15},\"zerolinecolor\":\"#EBF0F8\",\"zerolinewidth\":2},\"yaxis\":{\"automargin\":true,\"gridcolor\":\"#EBF0F8\",\"linecolor\":\"#EBF0F8\",\"ticks\":\"\",\"title\":{\"standoff\":15},\"zerolinecolor\":\"#EBF0F8\",\"zerolinewidth\":2}}},\"font\":{\"family\":\"Roboto Serif\",\"color\":\"black\"},\"images\":[{\"sizex\":0.2,\"sizey\":0.2,\"source\":\"https://raw.githubusercontent.com/PolicyEngine/policyengine-app/master/src/images/logos/policyengine/blue.png\",\"x\":1,\"xanchor\":\"right\",\"xref\":\"paper\",\"y\":-0.15,\"yanchor\":\"bottom\",\"yref\":\"paper\"}],\"height\":600,\"width\":800,\"modebar\":{\"bgcolor\":\"rgba(0,0,0,0)\",\"color\":\"rgba(0,0,0,0)\"},\"title\":{\"text\":\"Figure 7: Change to net income by income decile under a \\\\u00a3300 per month UBI\"}}}'"
      ]
     },
     "execution_count": 9,
     "metadata": {},
     "output_type": "execute_result"
    }
   ],
   "source": [
    "decile_chart(\n",
    "    \"uk\",\n",
    "    model_2_reform.api_id,\n",
    "    \"ni\",\n",
    "    \"2023\",\n",
    ").update_layout(\n",
    "    title=\"Figure 7: Change to net income by income decile under a £300 per month UBI\"\n",
    ").to_json()"
   ]
  },
  {
   "cell_type": "markdown",
   "metadata": {},
   "source": [
    "A similar pattern holds for the distribution of outcomes within each decile, but the results are more pronounced. More households lose income, and more shift from losing under 5% to over 5%. Meanwhile, a larger proportion of individuals that gain at least 5% of income: from 50% (for the £200 per month policy) to 56%."
   ]
  },
  {
   "cell_type": "code",
   "execution_count": 10,
   "metadata": {
    "tags": [
     "hide-input"
    ]
   },
   "outputs": [
    {
     "data": {
      "text/plain": [
       "'{\"data\":[{\"hoverinfo\":\"none\",\"legendgroup\":\"Gain more than 5%\",\"marker\":{\"color\":\"#2C6496\",\"line\":{\"width\":0}},\"name\":\"Gain more than 5%\",\"offsetgroup\":\"Gain more than 5%\",\"orientation\":\"h\",\"showlegend\":false,\"text\":[\"53%\"],\"textangle\":0,\"textposition\":\"inside\",\"x\":[0.5281313526406684],\"xaxis\":\"x\",\"y\":[\"All\"],\"yaxis\":\"y\",\"type\":\"bar\",\"width\":[0.9,0.9,0.9,0.9,0.9,0.9,0.9,0.9,0.9,0.9]},{\"hoverinfo\":\"none\",\"legendgroup\":\"Gain less than 5%\",\"marker\":{\"color\":\"#D8E6F3\",\"line\":{\"width\":0}},\"name\":\"Gain less than 5%\",\"offsetgroup\":\"Gain less than 5%\",\"orientation\":\"h\",\"showlegend\":false,\"text\":[\"9%\"],\"textangle\":0,\"textposition\":\"inside\",\"x\":[0.09372632034941722],\"xaxis\":\"x\",\"y\":[\"All\"],\"yaxis\":\"y\",\"type\":\"bar\",\"width\":[0.9,0.9,0.9,0.9,0.9,0.9,0.9,0.9,0.9,0.9]},{\"hoverinfo\":\"none\",\"legendgroup\":\"No change\",\"marker\":{\"color\":\"#FFFFFF\",\"line\":{\"width\":0}},\"name\":\"No change\",\"offsetgroup\":\"No change\",\"orientation\":\"h\",\"showlegend\":false,\"text\":[\"0%\"],\"textangle\":0,\"textposition\":\"inside\",\"x\":[0.0016006142415265674],\"xaxis\":\"x\",\"y\":[\"All\"],\"yaxis\":\"y\",\"type\":\"bar\",\"width\":[0.9,0.9,0.9,0.9,0.9,0.9,0.9,0.9,0.9,0.9]},{\"hoverinfo\":\"none\",\"legendgroup\":\"Lose less than 5%\",\"marker\":{\"color\":\"#D2D2D2\",\"line\":{\"width\":0}},\"name\":\"Lose less than 5%\",\"offsetgroup\":\"Lose less than 5%\",\"orientation\":\"h\",\"showlegend\":false,\"text\":[\"20%\"],\"textangle\":0,\"textposition\":\"inside\",\"x\":[0.19948404922922464],\"xaxis\":\"x\",\"y\":[\"All\"],\"yaxis\":\"y\",\"type\":\"bar\",\"width\":[0.9,0.9,0.9,0.9,0.9,0.9,0.9,0.9,0.9,0.9]},{\"hoverinfo\":\"none\",\"legendgroup\":\"Lose more than 5%\",\"marker\":{\"color\":\"#616161\",\"line\":{\"width\":0}},\"name\":\"Lose more than 5%\",\"offsetgroup\":\"Lose more than 5%\",\"orientation\":\"h\",\"showlegend\":false,\"text\":[\"18%\"],\"textangle\":0,\"textposition\":\"inside\",\"x\":[0.1770576635391632],\"xaxis\":\"x\",\"y\":[\"All\"],\"yaxis\":\"y\",\"type\":\"bar\",\"width\":[0.9,0.9,0.9,0.9,0.9,0.9,0.9,0.9,0.9,0.9]},{\"hoverinfo\":\"none\",\"marker\":{\"color\":\"#2C6496\",\"line\":{\"width\":0}},\"name\":\"Gain more than 5%\",\"orientation\":\"h\",\"text\":[\"92%\",\"76%\",\"84%\",\"78%\",\"57%\",\"47%\",\"40%\",\"26%\",\"22%\",\"5%\"],\"textangle\":0,\"textposition\":\"inside\",\"x\":[0.9229922048906417,0.761493856372432,0.8436123075493216,0.7822369959815344,0.571818107635157,0.46696397368994214,0.4008483446747851,0.25971065368434526,0.21917530073684732,0.05246178119167705],\"xaxis\":\"x2\",\"y\":[1,2,3,4,5,6,7,8,9,10],\"yaxis\":\"y2\",\"type\":\"bar\",\"width\":[0.9,0.9,0.9,0.9,0.9,0.9,0.9,0.9,0.9,0.9]},{\"hoverinfo\":\"none\",\"marker\":{\"color\":\"#D8E6F3\",\"line\":{\"width\":0}},\"name\":\"Gain less than 5%\",\"orientation\":\"h\",\"text\":[\"8%\",\"4%\",\"0%\",\"17%\",\"13%\",\"3%\",\"7%\",\"5%\",\"13%\",\"24%\"],\"textangle\":0,\"textposition\":\"inside\",\"x\":[0.07670762782212304,0.039134744950836735,0.0,0.17413139478712877,0.13194363962656094,0.0275606885569888,0.0697283895217238,0.04751167834560565,0.12664979593289594,0.24389524395030857],\"xaxis\":\"x2\",\"y\":[1,2,3,4,5,6,7,8,9,10],\"yaxis\":\"y2\",\"type\":\"bar\",\"width\":[0.9,0.9,0.9,0.9,0.9,0.9,0.9,0.9,0.9,0.9]},{\"hoverinfo\":\"none\",\"marker\":{\"color\":\"#FFFFFF\",\"line\":{\"width\":0}},\"name\":\"No change\",\"orientation\":\"h\",\"text\":[\"0%\",\"0%\",\"0%\",\"0%\",\"2%\",\"0%\",\"0%\",\"0%\",\"0%\",\"0%\"],\"textangle\":0,\"textposition\":\"inside\",\"x\":[0.0,0.0,0.0,0.0,0.016006142415265674,0.0,0.0,0.0,0.0,0.0],\"xaxis\":\"x2\",\"y\":[1,2,3,4,5,6,7,8,9,10],\"yaxis\":\"y2\",\"type\":\"bar\",\"width\":[0.9,0.9,0.9,0.9,0.9,0.9,0.9,0.9,0.9,0.9]},{\"hoverinfo\":\"none\",\"marker\":{\"color\":\"#D2D2D2\",\"line\":{\"width\":0}},\"name\":\"Lose less than 5%\",\"orientation\":\"h\",\"text\":[\"0%\",\"18%\",\"6%\",\"2%\",\"27%\",\"49%\",\"42%\",\"25%\",\"14%\",\"16%\"],\"textangle\":0,\"textposition\":\"inside\",\"x\":[0.0003001672872352223,0.18335761280976676,0.057627445199327124,0.02248075648685325,0.26693735361446724,0.49137056593256256,0.4214534783712676,0.2529137683691214,0.13893033559969367,0.15946900862195185],\"xaxis\":\"x2\",\"y\":[1,2,3,4,5,6,7,8,9,10],\"yaxis\":\"y2\",\"type\":\"bar\",\"width\":[0.9,0.9,0.9,0.9,0.9,0.9,0.9,0.9,0.9,0.9]},{\"hoverinfo\":\"none\",\"marker\":{\"color\":\"#616161\",\"line\":{\"width\":0}},\"name\":\"Lose more than 5%\",\"orientation\":\"h\",\"text\":[\"0%\",\"2%\",\"10%\",\"2%\",\"1%\",\"1%\",\"11%\",\"44%\",\"52%\",\"54%\"],\"textangle\":0,\"textposition\":\"inside\",\"x\":[0.0,0.016013785866964395,0.09876024725135131,0.021150852744483608,0.013294756708549176,0.01410477182050651,0.10796978743222353,0.4398638996009277,0.515244567730563,0.5441739662360625],\"xaxis\":\"x2\",\"y\":[1,2,3,4,5,6,7,8,9,10],\"yaxis\":\"y2\",\"type\":\"bar\",\"width\":[0.9,0.9,0.9,0.9,0.9,0.9,0.9,0.9,0.9,0.9]}],\"layout\":{\"barmode\":\"stack\",\"grid\":{\"columns\":1,\"rows\":2},\"uniformtext\":{\"minsize\":10,\"mode\":\"hide\"},\"xaxis\":{\"anchor\":\"y\",\"matches\":\"x2\",\"showgrid\":false,\"showticklabels\":false,\"tickformat\":\".0%\",\"title\":{\"text\":\"\"}},\"yaxis\":{\"domain\":[0.91,1],\"tickvals\":[\"All\"],\"title\":{\"text\":\"\"}},\"xaxis2\":{\"anchor\":\"y2\",\"tickformat\":\".0%\",\"title\":{\"text\":\"Population share\"}},\"yaxis2\":{\"anchor\":\"x2\",\"domain\":[0,0.85],\"tickvals\":[1,2,3,4,5,6,7,8,9,10],\"title\":{\"text\":\"Income decile\"}},\"template\":{\"data\":{\"barpolar\":[{\"marker\":{\"line\":{\"color\":\"white\",\"width\":0.5},\"pattern\":{\"fillmode\":\"overlay\",\"size\":10,\"solidity\":0.2}},\"type\":\"barpolar\"}],\"bar\":[{\"error_x\":{\"color\":\"#2a3f5f\"},\"error_y\":{\"color\":\"#2a3f5f\"},\"marker\":{\"line\":{\"color\":\"white\",\"width\":0.5},\"pattern\":{\"fillmode\":\"overlay\",\"size\":10,\"solidity\":0.2}},\"type\":\"bar\"}],\"carpet\":[{\"aaxis\":{\"endlinecolor\":\"#2a3f5f\",\"gridcolor\":\"#C8D4E3\",\"linecolor\":\"#C8D4E3\",\"minorgridcolor\":\"#C8D4E3\",\"startlinecolor\":\"#2a3f5f\"},\"baxis\":{\"endlinecolor\":\"#2a3f5f\",\"gridcolor\":\"#C8D4E3\",\"linecolor\":\"#C8D4E3\",\"minorgridcolor\":\"#C8D4E3\",\"startlinecolor\":\"#2a3f5f\"},\"type\":\"carpet\"}],\"choropleth\":[{\"colorbar\":{\"outlinewidth\":0,\"ticks\":\"\"},\"type\":\"choropleth\"}],\"contourcarpet\":[{\"colorbar\":{\"outlinewidth\":0,\"ticks\":\"\"},\"type\":\"contourcarpet\"}],\"contour\":[{\"colorbar\":{\"outlinewidth\":0,\"ticks\":\"\"},\"colorscale\":[[0.0,\"#0d0887\"],[0.1111111111111111,\"#46039f\"],[0.2222222222222222,\"#7201a8\"],[0.3333333333333333,\"#9c179e\"],[0.4444444444444444,\"#bd3786\"],[0.5555555555555556,\"#d8576b\"],[0.6666666666666666,\"#ed7953\"],[0.7777777777777778,\"#fb9f3a\"],[0.8888888888888888,\"#fdca26\"],[1.0,\"#f0f921\"]],\"type\":\"contour\"}],\"heatmapgl\":[{\"colorbar\":{\"outlinewidth\":0,\"ticks\":\"\"},\"colorscale\":[[0.0,\"#0d0887\"],[0.1111111111111111,\"#46039f\"],[0.2222222222222222,\"#7201a8\"],[0.3333333333333333,\"#9c179e\"],[0.4444444444444444,\"#bd3786\"],[0.5555555555555556,\"#d8576b\"],[0.6666666666666666,\"#ed7953\"],[0.7777777777777778,\"#fb9f3a\"],[0.8888888888888888,\"#fdca26\"],[1.0,\"#f0f921\"]],\"type\":\"heatmapgl\"}],\"heatmap\":[{\"colorbar\":{\"outlinewidth\":0,\"ticks\":\"\"},\"colorscale\":[[0.0,\"#0d0887\"],[0.1111111111111111,\"#46039f\"],[0.2222222222222222,\"#7201a8\"],[0.3333333333333333,\"#9c179e\"],[0.4444444444444444,\"#bd3786\"],[0.5555555555555556,\"#d8576b\"],[0.6666666666666666,\"#ed7953\"],[0.7777777777777778,\"#fb9f3a\"],[0.8888888888888888,\"#fdca26\"],[1.0,\"#f0f921\"]],\"type\":\"heatmap\"}],\"histogram2dcontour\":[{\"colorbar\":{\"outlinewidth\":0,\"ticks\":\"\"},\"colorscale\":[[0.0,\"#0d0887\"],[0.1111111111111111,\"#46039f\"],[0.2222222222222222,\"#7201a8\"],[0.3333333333333333,\"#9c179e\"],[0.4444444444444444,\"#bd3786\"],[0.5555555555555556,\"#d8576b\"],[0.6666666666666666,\"#ed7953\"],[0.7777777777777778,\"#fb9f3a\"],[0.8888888888888888,\"#fdca26\"],[1.0,\"#f0f921\"]],\"type\":\"histogram2dcontour\"}],\"histogram2d\":[{\"colorbar\":{\"outlinewidth\":0,\"ticks\":\"\"},\"colorscale\":[[0.0,\"#0d0887\"],[0.1111111111111111,\"#46039f\"],[0.2222222222222222,\"#7201a8\"],[0.3333333333333333,\"#9c179e\"],[0.4444444444444444,\"#bd3786\"],[0.5555555555555556,\"#d8576b\"],[0.6666666666666666,\"#ed7953\"],[0.7777777777777778,\"#fb9f3a\"],[0.8888888888888888,\"#fdca26\"],[1.0,\"#f0f921\"]],\"type\":\"histogram2d\"}],\"histogram\":[{\"marker\":{\"pattern\":{\"fillmode\":\"overlay\",\"size\":10,\"solidity\":0.2}},\"type\":\"histogram\"}],\"mesh3d\":[{\"colorbar\":{\"outlinewidth\":0,\"ticks\":\"\"},\"type\":\"mesh3d\"}],\"parcoords\":[{\"line\":{\"colorbar\":{\"outlinewidth\":0,\"ticks\":\"\"}},\"type\":\"parcoords\"}],\"pie\":[{\"automargin\":true,\"type\":\"pie\"}],\"scatter3d\":[{\"line\":{\"colorbar\":{\"outlinewidth\":0,\"ticks\":\"\"}},\"marker\":{\"colorbar\":{\"outlinewidth\":0,\"ticks\":\"\"}},\"type\":\"scatter3d\"}],\"scattercarpet\":[{\"marker\":{\"colorbar\":{\"outlinewidth\":0,\"ticks\":\"\"}},\"type\":\"scattercarpet\"}],\"scattergeo\":[{\"marker\":{\"colorbar\":{\"outlinewidth\":0,\"ticks\":\"\"}},\"type\":\"scattergeo\"}],\"scattergl\":[{\"marker\":{\"colorbar\":{\"outlinewidth\":0,\"ticks\":\"\"}},\"type\":\"scattergl\"}],\"scattermapbox\":[{\"marker\":{\"colorbar\":{\"outlinewidth\":0,\"ticks\":\"\"}},\"type\":\"scattermapbox\"}],\"scatterpolargl\":[{\"marker\":{\"colorbar\":{\"outlinewidth\":0,\"ticks\":\"\"}},\"type\":\"scatterpolargl\"}],\"scatterpolar\":[{\"marker\":{\"colorbar\":{\"outlinewidth\":0,\"ticks\":\"\"}},\"type\":\"scatterpolar\"}],\"scatter\":[{\"fillpattern\":{\"fillmode\":\"overlay\",\"size\":10,\"solidity\":0.2},\"type\":\"scatter\"}],\"scatterternary\":[{\"marker\":{\"colorbar\":{\"outlinewidth\":0,\"ticks\":\"\"}},\"type\":\"scatterternary\"}],\"surface\":[{\"colorbar\":{\"outlinewidth\":0,\"ticks\":\"\"},\"colorscale\":[[0.0,\"#0d0887\"],[0.1111111111111111,\"#46039f\"],[0.2222222222222222,\"#7201a8\"],[0.3333333333333333,\"#9c179e\"],[0.4444444444444444,\"#bd3786\"],[0.5555555555555556,\"#d8576b\"],[0.6666666666666666,\"#ed7953\"],[0.7777777777777778,\"#fb9f3a\"],[0.8888888888888888,\"#fdca26\"],[1.0,\"#f0f921\"]],\"type\":\"surface\"}],\"table\":[{\"cells\":{\"fill\":{\"color\":\"#EBF0F8\"},\"line\":{\"color\":\"white\"}},\"header\":{\"fill\":{\"color\":\"#C8D4E3\"},\"line\":{\"color\":\"white\"}},\"type\":\"table\"}]},\"layout\":{\"annotationdefaults\":{\"arrowcolor\":\"#2a3f5f\",\"arrowhead\":0,\"arrowwidth\":1},\"autotypenumbers\":\"strict\",\"coloraxis\":{\"colorbar\":{\"outlinewidth\":0,\"ticks\":\"\"}},\"colorscale\":{\"diverging\":[[0,\"#8e0152\"],[0.1,\"#c51b7d\"],[0.2,\"#de77ae\"],[0.3,\"#f1b6da\"],[0.4,\"#fde0ef\"],[0.5,\"#f7f7f7\"],[0.6,\"#e6f5d0\"],[0.7,\"#b8e186\"],[0.8,\"#7fbc41\"],[0.9,\"#4d9221\"],[1,\"#276419\"]],\"sequential\":[[0.0,\"#0d0887\"],[0.1111111111111111,\"#46039f\"],[0.2222222222222222,\"#7201a8\"],[0.3333333333333333,\"#9c179e\"],[0.4444444444444444,\"#bd3786\"],[0.5555555555555556,\"#d8576b\"],[0.6666666666666666,\"#ed7953\"],[0.7777777777777778,\"#fb9f3a\"],[0.8888888888888888,\"#fdca26\"],[1.0,\"#f0f921\"]],\"sequentialminus\":[[0.0,\"#0d0887\"],[0.1111111111111111,\"#46039f\"],[0.2222222222222222,\"#7201a8\"],[0.3333333333333333,\"#9c179e\"],[0.4444444444444444,\"#bd3786\"],[0.5555555555555556,\"#d8576b\"],[0.6666666666666666,\"#ed7953\"],[0.7777777777777778,\"#fb9f3a\"],[0.8888888888888888,\"#fdca26\"],[1.0,\"#f0f921\"]]},\"colorway\":[\"#636efa\",\"#EF553B\",\"#00cc96\",\"#ab63fa\",\"#FFA15A\",\"#19d3f3\",\"#FF6692\",\"#B6E880\",\"#FF97FF\",\"#FECB52\"],\"font\":{\"color\":\"#2a3f5f\"},\"geo\":{\"bgcolor\":\"white\",\"lakecolor\":\"white\",\"landcolor\":\"white\",\"showlakes\":true,\"showland\":true,\"subunitcolor\":\"#C8D4E3\"},\"hoverlabel\":{\"align\":\"left\"},\"hovermode\":\"closest\",\"mapbox\":{\"style\":\"light\"},\"paper_bgcolor\":\"white\",\"plot_bgcolor\":\"white\",\"polar\":{\"angularaxis\":{\"gridcolor\":\"#EBF0F8\",\"linecolor\":\"#EBF0F8\",\"ticks\":\"\"},\"bgcolor\":\"white\",\"radialaxis\":{\"gridcolor\":\"#EBF0F8\",\"linecolor\":\"#EBF0F8\",\"ticks\":\"\"}},\"scene\":{\"xaxis\":{\"backgroundcolor\":\"white\",\"gridcolor\":\"#DFE8F3\",\"gridwidth\":2,\"linecolor\":\"#EBF0F8\",\"showbackground\":true,\"ticks\":\"\",\"zerolinecolor\":\"#EBF0F8\"},\"yaxis\":{\"backgroundcolor\":\"white\",\"gridcolor\":\"#DFE8F3\",\"gridwidth\":2,\"linecolor\":\"#EBF0F8\",\"showbackground\":true,\"ticks\":\"\",\"zerolinecolor\":\"#EBF0F8\"},\"zaxis\":{\"backgroundcolor\":\"white\",\"gridcolor\":\"#DFE8F3\",\"gridwidth\":2,\"linecolor\":\"#EBF0F8\",\"showbackground\":true,\"ticks\":\"\",\"zerolinecolor\":\"#EBF0F8\"}},\"shapedefaults\":{\"line\":{\"color\":\"#2a3f5f\"}},\"ternary\":{\"aaxis\":{\"gridcolor\":\"#DFE8F3\",\"linecolor\":\"#A2B1C6\",\"ticks\":\"\"},\"baxis\":{\"gridcolor\":\"#DFE8F3\",\"linecolor\":\"#A2B1C6\",\"ticks\":\"\"},\"bgcolor\":\"white\",\"caxis\":{\"gridcolor\":\"#DFE8F3\",\"linecolor\":\"#A2B1C6\",\"ticks\":\"\"}},\"title\":{\"x\":0.05},\"xaxis\":{\"automargin\":true,\"gridcolor\":\"#EBF0F8\",\"linecolor\":\"#EBF0F8\",\"ticks\":\"\",\"title\":{\"standoff\":15},\"zerolinecolor\":\"#EBF0F8\",\"zerolinewidth\":2},\"yaxis\":{\"automargin\":true,\"gridcolor\":\"#EBF0F8\",\"linecolor\":\"#EBF0F8\",\"ticks\":\"\",\"title\":{\"standoff\":15},\"zerolinecolor\":\"#EBF0F8\",\"zerolinewidth\":2}}},\"font\":{\"family\":\"Roboto Serif\",\"color\":\"black\"},\"images\":[{\"sizex\":0.2,\"sizey\":0.2,\"source\":\"https://raw.githubusercontent.com/PolicyEngine/policyengine-app/master/src/images/logos/policyengine/blue.png\",\"x\":1,\"xanchor\":\"right\",\"xref\":\"paper\",\"y\":-0.15,\"yanchor\":\"bottom\",\"yref\":\"paper\"}],\"height\":600,\"width\":800,\"modebar\":{\"bgcolor\":\"rgba(0,0,0,0)\",\"color\":\"rgba(0,0,0,0)\"},\"legend\":{\"orientation\":\"h\",\"yanchor\":\"bottom\",\"y\":-0.3},\"title\":{\"text\":\"Figure 8: Outcome distribution by income decile under a \\\\u00a3300 per month UBI\"}}}'"
      ]
     },
     "execution_count": 10,
     "metadata": {},
     "output_type": "execute_result"
    }
   ],
   "source": [
    "intra_decile_chart(\n",
    "    \"uk\",\n",
    "    model_2_reform.api_id,\n",
    "    \"ni\",\n",
    "    \"2023\",\n",
    ").update_layout(\n",
    "    title=\"Figure 8: Outcome distribution by income decile under a £300 per month UBI\",\n",
    "    legend=dict(\n",
    "        orientation=\"h\",\n",
    "        yanchor=\"bottom\",\n",
    "        y=-0.3,\n",
    "    )\n",
    ").to_json()"
   ]
  },
  {
   "cell_type": "markdown",
   "metadata": {},
   "source": [
    "## [£400 per month option](http://policyengine.org/uk/policy?reform=33334&focus=policyOutput.decileRelativeImpact&region=ni&timePeriod=2023&baseline=1)\n",
    "\n",
    "_£400 per month for adults, funded by repealing the personal allowance and increasing the basic rate by 11.5p_\n",
    "\n",
    "The most generous basic income policy considered is £400 per month for adults, funded by repealing the personal allowance and raising the basic rate to 31.5%, creating a non-progressive nominal tax schedule (though note that the full tax-benefit schedule is already non-progressive). With a total redistribution of £5.7bn in via tax revenues and £6.8bn out via benefit outlays (including the Westminster-funded portion), 70% of individuals see an increase in disposable income. The bottom decile sees an increase of 32% in disposable income, and the top two deciles both fall by around 1-2%.\n"
   ]
  },
  {
   "cell_type": "code",
   "execution_count": 11,
   "metadata": {
    "tags": [
     "hide-input"
    ]
   },
   "outputs": [
    {
     "data": {
      "text/plain": [
       "'{\"data\":[{\"marker\":{\"color\":[\"#2C6496\",\"#2C6496\",\"#2C6496\",\"#2C6496\",\"#2C6496\",\"#2C6496\",\"#2C6496\",\"#616161\",\"#616161\",\"#616161\"]},\"text\":[\"+31.1%\",\"+16.4%\",\"+12.7%\",\"+9.5%\",\"+6.6%\",\"+3.0%\",\"+1.2%\",\"-1.9%\",\"-3.6%\",\"-2.3%\"],\"textangle\":0,\"x\":[1,2,3,4,5,6,7,8,9,10],\"y\":[0.3114485757059091,0.1642760964210358,0.1270355360532727,0.09490974730229708,0.06595090015635925,0.02957921835575856,0.011553699180358252,-0.01924110630174932,-0.03565260841674134,-0.022999022885530004],\"type\":\"bar\"}],\"layout\":{\"uniformtext\":{\"minsize\":8,\"mode\":\"hide\"},\"xaxis\":{\"tickvals\":[1,2,3,4,5,6,7,8,9,10],\"title\":{\"text\":\"Income decile\"}},\"yaxis\":{\"tickformat\":\"+,.0%\",\"title\":{\"text\":\"Relative change\"}},\"template\":{\"data\":{\"barpolar\":[{\"marker\":{\"line\":{\"color\":\"white\",\"width\":0.5},\"pattern\":{\"fillmode\":\"overlay\",\"size\":10,\"solidity\":0.2}},\"type\":\"barpolar\"}],\"bar\":[{\"error_x\":{\"color\":\"#2a3f5f\"},\"error_y\":{\"color\":\"#2a3f5f\"},\"marker\":{\"line\":{\"color\":\"white\",\"width\":0.5},\"pattern\":{\"fillmode\":\"overlay\",\"size\":10,\"solidity\":0.2}},\"type\":\"bar\"}],\"carpet\":[{\"aaxis\":{\"endlinecolor\":\"#2a3f5f\",\"gridcolor\":\"#C8D4E3\",\"linecolor\":\"#C8D4E3\",\"minorgridcolor\":\"#C8D4E3\",\"startlinecolor\":\"#2a3f5f\"},\"baxis\":{\"endlinecolor\":\"#2a3f5f\",\"gridcolor\":\"#C8D4E3\",\"linecolor\":\"#C8D4E3\",\"minorgridcolor\":\"#C8D4E3\",\"startlinecolor\":\"#2a3f5f\"},\"type\":\"carpet\"}],\"choropleth\":[{\"colorbar\":{\"outlinewidth\":0,\"ticks\":\"\"},\"type\":\"choropleth\"}],\"contourcarpet\":[{\"colorbar\":{\"outlinewidth\":0,\"ticks\":\"\"},\"type\":\"contourcarpet\"}],\"contour\":[{\"colorbar\":{\"outlinewidth\":0,\"ticks\":\"\"},\"colorscale\":[[0.0,\"#0d0887\"],[0.1111111111111111,\"#46039f\"],[0.2222222222222222,\"#7201a8\"],[0.3333333333333333,\"#9c179e\"],[0.4444444444444444,\"#bd3786\"],[0.5555555555555556,\"#d8576b\"],[0.6666666666666666,\"#ed7953\"],[0.7777777777777778,\"#fb9f3a\"],[0.8888888888888888,\"#fdca26\"],[1.0,\"#f0f921\"]],\"type\":\"contour\"}],\"heatmapgl\":[{\"colorbar\":{\"outlinewidth\":0,\"ticks\":\"\"},\"colorscale\":[[0.0,\"#0d0887\"],[0.1111111111111111,\"#46039f\"],[0.2222222222222222,\"#7201a8\"],[0.3333333333333333,\"#9c179e\"],[0.4444444444444444,\"#bd3786\"],[0.5555555555555556,\"#d8576b\"],[0.6666666666666666,\"#ed7953\"],[0.7777777777777778,\"#fb9f3a\"],[0.8888888888888888,\"#fdca26\"],[1.0,\"#f0f921\"]],\"type\":\"heatmapgl\"}],\"heatmap\":[{\"colorbar\":{\"outlinewidth\":0,\"ticks\":\"\"},\"colorscale\":[[0.0,\"#0d0887\"],[0.1111111111111111,\"#46039f\"],[0.2222222222222222,\"#7201a8\"],[0.3333333333333333,\"#9c179e\"],[0.4444444444444444,\"#bd3786\"],[0.5555555555555556,\"#d8576b\"],[0.6666666666666666,\"#ed7953\"],[0.7777777777777778,\"#fb9f3a\"],[0.8888888888888888,\"#fdca26\"],[1.0,\"#f0f921\"]],\"type\":\"heatmap\"}],\"histogram2dcontour\":[{\"colorbar\":{\"outlinewidth\":0,\"ticks\":\"\"},\"colorscale\":[[0.0,\"#0d0887\"],[0.1111111111111111,\"#46039f\"],[0.2222222222222222,\"#7201a8\"],[0.3333333333333333,\"#9c179e\"],[0.4444444444444444,\"#bd3786\"],[0.5555555555555556,\"#d8576b\"],[0.6666666666666666,\"#ed7953\"],[0.7777777777777778,\"#fb9f3a\"],[0.8888888888888888,\"#fdca26\"],[1.0,\"#f0f921\"]],\"type\":\"histogram2dcontour\"}],\"histogram2d\":[{\"colorbar\":{\"outlinewidth\":0,\"ticks\":\"\"},\"colorscale\":[[0.0,\"#0d0887\"],[0.1111111111111111,\"#46039f\"],[0.2222222222222222,\"#7201a8\"],[0.3333333333333333,\"#9c179e\"],[0.4444444444444444,\"#bd3786\"],[0.5555555555555556,\"#d8576b\"],[0.6666666666666666,\"#ed7953\"],[0.7777777777777778,\"#fb9f3a\"],[0.8888888888888888,\"#fdca26\"],[1.0,\"#f0f921\"]],\"type\":\"histogram2d\"}],\"histogram\":[{\"marker\":{\"pattern\":{\"fillmode\":\"overlay\",\"size\":10,\"solidity\":0.2}},\"type\":\"histogram\"}],\"mesh3d\":[{\"colorbar\":{\"outlinewidth\":0,\"ticks\":\"\"},\"type\":\"mesh3d\"}],\"parcoords\":[{\"line\":{\"colorbar\":{\"outlinewidth\":0,\"ticks\":\"\"}},\"type\":\"parcoords\"}],\"pie\":[{\"automargin\":true,\"type\":\"pie\"}],\"scatter3d\":[{\"line\":{\"colorbar\":{\"outlinewidth\":0,\"ticks\":\"\"}},\"marker\":{\"colorbar\":{\"outlinewidth\":0,\"ticks\":\"\"}},\"type\":\"scatter3d\"}],\"scattercarpet\":[{\"marker\":{\"colorbar\":{\"outlinewidth\":0,\"ticks\":\"\"}},\"type\":\"scattercarpet\"}],\"scattergeo\":[{\"marker\":{\"colorbar\":{\"outlinewidth\":0,\"ticks\":\"\"}},\"type\":\"scattergeo\"}],\"scattergl\":[{\"marker\":{\"colorbar\":{\"outlinewidth\":0,\"ticks\":\"\"}},\"type\":\"scattergl\"}],\"scattermapbox\":[{\"marker\":{\"colorbar\":{\"outlinewidth\":0,\"ticks\":\"\"}},\"type\":\"scattermapbox\"}],\"scatterpolargl\":[{\"marker\":{\"colorbar\":{\"outlinewidth\":0,\"ticks\":\"\"}},\"type\":\"scatterpolargl\"}],\"scatterpolar\":[{\"marker\":{\"colorbar\":{\"outlinewidth\":0,\"ticks\":\"\"}},\"type\":\"scatterpolar\"}],\"scatter\":[{\"fillpattern\":{\"fillmode\":\"overlay\",\"size\":10,\"solidity\":0.2},\"type\":\"scatter\"}],\"scatterternary\":[{\"marker\":{\"colorbar\":{\"outlinewidth\":0,\"ticks\":\"\"}},\"type\":\"scatterternary\"}],\"surface\":[{\"colorbar\":{\"outlinewidth\":0,\"ticks\":\"\"},\"colorscale\":[[0.0,\"#0d0887\"],[0.1111111111111111,\"#46039f\"],[0.2222222222222222,\"#7201a8\"],[0.3333333333333333,\"#9c179e\"],[0.4444444444444444,\"#bd3786\"],[0.5555555555555556,\"#d8576b\"],[0.6666666666666666,\"#ed7953\"],[0.7777777777777778,\"#fb9f3a\"],[0.8888888888888888,\"#fdca26\"],[1.0,\"#f0f921\"]],\"type\":\"surface\"}],\"table\":[{\"cells\":{\"fill\":{\"color\":\"#EBF0F8\"},\"line\":{\"color\":\"white\"}},\"header\":{\"fill\":{\"color\":\"#C8D4E3\"},\"line\":{\"color\":\"white\"}},\"type\":\"table\"}]},\"layout\":{\"annotationdefaults\":{\"arrowcolor\":\"#2a3f5f\",\"arrowhead\":0,\"arrowwidth\":1},\"autotypenumbers\":\"strict\",\"coloraxis\":{\"colorbar\":{\"outlinewidth\":0,\"ticks\":\"\"}},\"colorscale\":{\"diverging\":[[0,\"#8e0152\"],[0.1,\"#c51b7d\"],[0.2,\"#de77ae\"],[0.3,\"#f1b6da\"],[0.4,\"#fde0ef\"],[0.5,\"#f7f7f7\"],[0.6,\"#e6f5d0\"],[0.7,\"#b8e186\"],[0.8,\"#7fbc41\"],[0.9,\"#4d9221\"],[1,\"#276419\"]],\"sequential\":[[0.0,\"#0d0887\"],[0.1111111111111111,\"#46039f\"],[0.2222222222222222,\"#7201a8\"],[0.3333333333333333,\"#9c179e\"],[0.4444444444444444,\"#bd3786\"],[0.5555555555555556,\"#d8576b\"],[0.6666666666666666,\"#ed7953\"],[0.7777777777777778,\"#fb9f3a\"],[0.8888888888888888,\"#fdca26\"],[1.0,\"#f0f921\"]],\"sequentialminus\":[[0.0,\"#0d0887\"],[0.1111111111111111,\"#46039f\"],[0.2222222222222222,\"#7201a8\"],[0.3333333333333333,\"#9c179e\"],[0.4444444444444444,\"#bd3786\"],[0.5555555555555556,\"#d8576b\"],[0.6666666666666666,\"#ed7953\"],[0.7777777777777778,\"#fb9f3a\"],[0.8888888888888888,\"#fdca26\"],[1.0,\"#f0f921\"]]},\"colorway\":[\"#636efa\",\"#EF553B\",\"#00cc96\",\"#ab63fa\",\"#FFA15A\",\"#19d3f3\",\"#FF6692\",\"#B6E880\",\"#FF97FF\",\"#FECB52\"],\"font\":{\"color\":\"#2a3f5f\"},\"geo\":{\"bgcolor\":\"white\",\"lakecolor\":\"white\",\"landcolor\":\"white\",\"showlakes\":true,\"showland\":true,\"subunitcolor\":\"#C8D4E3\"},\"hoverlabel\":{\"align\":\"left\"},\"hovermode\":\"closest\",\"mapbox\":{\"style\":\"light\"},\"paper_bgcolor\":\"white\",\"plot_bgcolor\":\"white\",\"polar\":{\"angularaxis\":{\"gridcolor\":\"#EBF0F8\",\"linecolor\":\"#EBF0F8\",\"ticks\":\"\"},\"bgcolor\":\"white\",\"radialaxis\":{\"gridcolor\":\"#EBF0F8\",\"linecolor\":\"#EBF0F8\",\"ticks\":\"\"}},\"scene\":{\"xaxis\":{\"backgroundcolor\":\"white\",\"gridcolor\":\"#DFE8F3\",\"gridwidth\":2,\"linecolor\":\"#EBF0F8\",\"showbackground\":true,\"ticks\":\"\",\"zerolinecolor\":\"#EBF0F8\"},\"yaxis\":{\"backgroundcolor\":\"white\",\"gridcolor\":\"#DFE8F3\",\"gridwidth\":2,\"linecolor\":\"#EBF0F8\",\"showbackground\":true,\"ticks\":\"\",\"zerolinecolor\":\"#EBF0F8\"},\"zaxis\":{\"backgroundcolor\":\"white\",\"gridcolor\":\"#DFE8F3\",\"gridwidth\":2,\"linecolor\":\"#EBF0F8\",\"showbackground\":true,\"ticks\":\"\",\"zerolinecolor\":\"#EBF0F8\"}},\"shapedefaults\":{\"line\":{\"color\":\"#2a3f5f\"}},\"ternary\":{\"aaxis\":{\"gridcolor\":\"#DFE8F3\",\"linecolor\":\"#A2B1C6\",\"ticks\":\"\"},\"baxis\":{\"gridcolor\":\"#DFE8F3\",\"linecolor\":\"#A2B1C6\",\"ticks\":\"\"},\"bgcolor\":\"white\",\"caxis\":{\"gridcolor\":\"#DFE8F3\",\"linecolor\":\"#A2B1C6\",\"ticks\":\"\"}},\"title\":{\"x\":0.05},\"xaxis\":{\"automargin\":true,\"gridcolor\":\"#EBF0F8\",\"linecolor\":\"#EBF0F8\",\"ticks\":\"\",\"title\":{\"standoff\":15},\"zerolinecolor\":\"#EBF0F8\",\"zerolinewidth\":2},\"yaxis\":{\"automargin\":true,\"gridcolor\":\"#EBF0F8\",\"linecolor\":\"#EBF0F8\",\"ticks\":\"\",\"title\":{\"standoff\":15},\"zerolinecolor\":\"#EBF0F8\",\"zerolinewidth\":2}}},\"font\":{\"family\":\"Roboto Serif\",\"color\":\"black\"},\"images\":[{\"sizex\":0.2,\"sizey\":0.2,\"source\":\"https://raw.githubusercontent.com/PolicyEngine/policyengine-app/master/src/images/logos/policyengine/blue.png\",\"x\":1,\"xanchor\":\"right\",\"xref\":\"paper\",\"y\":-0.15,\"yanchor\":\"bottom\",\"yref\":\"paper\"}],\"height\":600,\"width\":800,\"modebar\":{\"bgcolor\":\"rgba(0,0,0,0)\",\"color\":\"rgba(0,0,0,0)\"},\"title\":{\"text\":\"Figure 9: Change to net income by income decile under a \\\\u00a3400 per month UBI\"}}}'"
      ]
     },
     "execution_count": 11,
     "metadata": {},
     "output_type": "execute_result"
    }
   ],
   "source": [
    "decile_chart(\n",
    "    \"uk\",\n",
    "    model_3_reform.api_id,\n",
    "    \"ni\",\n",
    "    \"2023\",\n",
    ").update_layout(\n",
    "    title=\"Figure 9: Change to net income by income decile under a £400 per month UBI\"\n",
    ").to_json()"
   ]
  },
  {
   "cell_type": "markdown",
   "metadata": {},
   "source": [
    "The share of individuals who see gains greater than 5% rises to 59%.\n"
   ]
  },
  {
   "cell_type": "code",
   "execution_count": 12,
   "metadata": {
    "tags": [
     "hide-input"
    ]
   },
   "outputs": [
    {
     "data": {
      "text/plain": [
       "'{\"data\":[{\"hoverinfo\":\"none\",\"legendgroup\":\"Gain more than 5%\",\"marker\":{\"color\":\"#2C6496\",\"line\":{\"width\":0}},\"name\":\"Gain more than 5%\",\"offsetgroup\":\"Gain more than 5%\",\"orientation\":\"h\",\"showlegend\":false,\"text\":[\"55%\"],\"textangle\":0,\"textposition\":\"inside\",\"x\":[0.5485454374581331],\"xaxis\":\"x\",\"y\":[\"All\"],\"yaxis\":\"y\",\"type\":\"bar\",\"width\":[0.9,0.9,0.9,0.9,0.9,0.9,0.9,0.9,0.9,0.9]},{\"hoverinfo\":\"none\",\"legendgroup\":\"Gain less than 5%\",\"marker\":{\"color\":\"#D8E6F3\",\"line\":{\"width\":0}},\"name\":\"Gain less than 5%\",\"offsetgroup\":\"Gain less than 5%\",\"orientation\":\"h\",\"showlegend\":false,\"text\":[\"9%\"],\"textangle\":0,\"textposition\":\"inside\",\"x\":[0.08831011199437015],\"xaxis\":\"x\",\"y\":[\"All\"],\"yaxis\":\"y\",\"type\":\"bar\",\"width\":[0.9,0.9,0.9,0.9,0.9,0.9,0.9,0.9,0.9,0.9]},{\"hoverinfo\":\"none\",\"legendgroup\":\"No change\",\"marker\":{\"color\":\"#FFFFFF\",\"line\":{\"width\":0}},\"name\":\"No change\",\"offsetgroup\":\"No change\",\"orientation\":\"h\",\"showlegend\":false,\"text\":[\"1%\"],\"textangle\":0,\"textposition\":\"inside\",\"x\":[0.006605558921481719],\"xaxis\":\"x\",\"y\":[\"All\"],\"yaxis\":\"y\",\"type\":\"bar\",\"width\":[0.9,0.9,0.9,0.9,0.9,0.9,0.9,0.9,0.9,0.9]},{\"hoverinfo\":\"none\",\"legendgroup\":\"Lose less than 5%\",\"marker\":{\"color\":\"#D2D2D2\",\"line\":{\"width\":0}},\"name\":\"Lose less than 5%\",\"offsetgroup\":\"Lose less than 5%\",\"orientation\":\"h\",\"showlegend\":false,\"text\":[\"9%\"],\"textangle\":0,\"textposition\":\"inside\",\"x\":[0.08996434178421295],\"xaxis\":\"x\",\"y\":[\"All\"],\"yaxis\":\"y\",\"type\":\"bar\",\"width\":[0.9,0.9,0.9,0.9,0.9,0.9,0.9,0.9,0.9,0.9]},{\"hoverinfo\":\"none\",\"legendgroup\":\"Lose more than 5%\",\"marker\":{\"color\":\"#616161\",\"line\":{\"width\":0}},\"name\":\"Lose more than 5%\",\"offsetgroup\":\"Lose more than 5%\",\"orientation\":\"h\",\"showlegend\":false,\"text\":[\"27%\"],\"textangle\":0,\"textposition\":\"inside\",\"x\":[0.2665745498418022],\"xaxis\":\"x\",\"y\":[\"All\"],\"yaxis\":\"y\",\"type\":\"bar\",\"width\":[0.9,0.9,0.9,0.9,0.9,0.9,0.9,0.9,0.9,0.9]},{\"hoverinfo\":\"none\",\"marker\":{\"color\":\"#2C6496\",\"line\":{\"width\":0}},\"name\":\"Gain more than 5%\",\"orientation\":\"h\",\"text\":[\"95%\",\"77%\",\"84%\",\"87%\",\"62%\",\"47%\",\"40%\",\"26%\",\"23%\",\"7%\"],\"textangle\":0,\"textposition\":\"inside\",\"x\":[0.9537228768538647,0.7691486706477791,0.8436123075493216,0.8711989230619367,0.6215122032830581,0.47379769559290047,0.4008483446747851,0.25971065368434526,0.22658741277889197,0.06531528645444691],\"xaxis\":\"x2\",\"y\":[1,2,3,4,5,6,7,8,9,10],\"yaxis\":\"y2\",\"type\":\"bar\",\"width\":[0.9,0.9,0.9,0.9,0.9,0.9,0.9,0.9,0.9,0.9]},{\"hoverinfo\":\"none\",\"marker\":{\"color\":\"#D8E6F3\",\"line\":{\"width\":0}},\"name\":\"Gain less than 5%\",\"orientation\":\"h\",\"text\":[\"5%\",\"4%\",\"0%\",\"8%\",\"7%\",\"9%\",\"8%\",\"0%\",\"6%\",\"42%\"],\"textangle\":0,\"textposition\":\"inside\",\"x\":[0.045976955858900125,0.041796217406726045,0.0,0.07936457521739662,0.0669515643079059,0.0900234451914338,0.08104491377810197,0.0,0.06161732049634459,0.41632612768689253],\"xaxis\":\"x2\",\"y\":[1,2,3,4,5,6,7,8,9,10],\"yaxis\":\"y2\",\"type\":\"bar\",\"width\":[0.9,0.9,0.9,0.9,0.9,0.9,0.9,0.9,0.9,0.9]},{\"hoverinfo\":\"none\",\"marker\":{\"color\":\"#FFFFFF\",\"line\":{\"width\":0}},\"name\":\"No change\",\"orientation\":\"h\",\"text\":[\"0%\",\"2%\",\"0%\",\"2%\",\"0%\",\"0%\",\"0%\",\"3%\",\"0%\",\"0%\"],\"textangle\":0,\"textposition\":\"inside\",\"x\":[0.0,0.016760961491035203,0.0,0.019794032554282862,0.0,0.0,0.0,0.029500595169499128,0.0,0.0],\"xaxis\":\"x2\",\"y\":[1,2,3,4,5,6,7,8,9,10],\"yaxis\":\"y2\",\"type\":\"bar\",\"width\":[0.9,0.9,0.9,0.9,0.9,0.9,0.9,0.9,0.9,0.9]},{\"hoverinfo\":\"none\",\"marker\":{\"color\":\"#D2D2D2\",\"line\":{\"width\":0}},\"name\":\"Lose less than 5%\",\"orientation\":\"h\",\"text\":[\"0%\",\"6%\",\"1%\",\"1%\",\"28%\",\"20%\",\"9%\",\"11%\",\"7%\",\"7%\"],\"textangle\":0,\"textposition\":\"inside\",\"x\":[0.0,0.0639360554468194,0.009370059713866433,0.008491616421900248,0.2779543135857776,0.19821237010003018,0.08647084609514508,0.11416304483881734,0.0715870771178193,0.06945803452195384],\"xaxis\":\"x2\",\"y\":[1,2,3,4,5,6,7,8,9,10],\"yaxis\":\"y2\",\"type\":\"bar\",\"width\":[0.9,0.9,0.9,0.9,0.9,0.9,0.9,0.9,0.9,0.9]},{\"hoverinfo\":\"none\",\"marker\":{\"color\":\"#616161\",\"line\":{\"width\":0}},\"name\":\"Lose more than 5%\",\"orientation\":\"h\",\"text\":[\"0%\",\"11%\",\"15%\",\"2%\",\"3%\",\"24%\",\"43%\",\"60%\",\"64%\",\"45%\"],\"textangle\":0,\"textposition\":\"inside\",\"x\":[0.0003001672872352223,0.10835809500764018,0.147017632736812,0.021150852744483608,0.033581918823258394,0.2379664891156355,0.4316358954519679,0.5966257063073382,0.6402081896069441,0.4489005513367067],\"xaxis\":\"x2\",\"y\":[1,2,3,4,5,6,7,8,9,10],\"yaxis\":\"y2\",\"type\":\"bar\",\"width\":[0.9,0.9,0.9,0.9,0.9,0.9,0.9,0.9,0.9,0.9]}],\"layout\":{\"barmode\":\"stack\",\"grid\":{\"columns\":1,\"rows\":2},\"uniformtext\":{\"minsize\":10,\"mode\":\"hide\"},\"xaxis\":{\"anchor\":\"y\",\"matches\":\"x2\",\"showgrid\":false,\"showticklabels\":false,\"tickformat\":\".0%\",\"title\":{\"text\":\"\"}},\"yaxis\":{\"domain\":[0.91,1],\"tickvals\":[\"All\"],\"title\":{\"text\":\"\"}},\"xaxis2\":{\"anchor\":\"y2\",\"tickformat\":\".0%\",\"title\":{\"text\":\"Population share\"}},\"yaxis2\":{\"anchor\":\"x2\",\"domain\":[0,0.85],\"tickvals\":[1,2,3,4,5,6,7,8,9,10],\"title\":{\"text\":\"Income decile\"}},\"template\":{\"data\":{\"barpolar\":[{\"marker\":{\"line\":{\"color\":\"white\",\"width\":0.5},\"pattern\":{\"fillmode\":\"overlay\",\"size\":10,\"solidity\":0.2}},\"type\":\"barpolar\"}],\"bar\":[{\"error_x\":{\"color\":\"#2a3f5f\"},\"error_y\":{\"color\":\"#2a3f5f\"},\"marker\":{\"line\":{\"color\":\"white\",\"width\":0.5},\"pattern\":{\"fillmode\":\"overlay\",\"size\":10,\"solidity\":0.2}},\"type\":\"bar\"}],\"carpet\":[{\"aaxis\":{\"endlinecolor\":\"#2a3f5f\",\"gridcolor\":\"#C8D4E3\",\"linecolor\":\"#C8D4E3\",\"minorgridcolor\":\"#C8D4E3\",\"startlinecolor\":\"#2a3f5f\"},\"baxis\":{\"endlinecolor\":\"#2a3f5f\",\"gridcolor\":\"#C8D4E3\",\"linecolor\":\"#C8D4E3\",\"minorgridcolor\":\"#C8D4E3\",\"startlinecolor\":\"#2a3f5f\"},\"type\":\"carpet\"}],\"choropleth\":[{\"colorbar\":{\"outlinewidth\":0,\"ticks\":\"\"},\"type\":\"choropleth\"}],\"contourcarpet\":[{\"colorbar\":{\"outlinewidth\":0,\"ticks\":\"\"},\"type\":\"contourcarpet\"}],\"contour\":[{\"colorbar\":{\"outlinewidth\":0,\"ticks\":\"\"},\"colorscale\":[[0.0,\"#0d0887\"],[0.1111111111111111,\"#46039f\"],[0.2222222222222222,\"#7201a8\"],[0.3333333333333333,\"#9c179e\"],[0.4444444444444444,\"#bd3786\"],[0.5555555555555556,\"#d8576b\"],[0.6666666666666666,\"#ed7953\"],[0.7777777777777778,\"#fb9f3a\"],[0.8888888888888888,\"#fdca26\"],[1.0,\"#f0f921\"]],\"type\":\"contour\"}],\"heatmapgl\":[{\"colorbar\":{\"outlinewidth\":0,\"ticks\":\"\"},\"colorscale\":[[0.0,\"#0d0887\"],[0.1111111111111111,\"#46039f\"],[0.2222222222222222,\"#7201a8\"],[0.3333333333333333,\"#9c179e\"],[0.4444444444444444,\"#bd3786\"],[0.5555555555555556,\"#d8576b\"],[0.6666666666666666,\"#ed7953\"],[0.7777777777777778,\"#fb9f3a\"],[0.8888888888888888,\"#fdca26\"],[1.0,\"#f0f921\"]],\"type\":\"heatmapgl\"}],\"heatmap\":[{\"colorbar\":{\"outlinewidth\":0,\"ticks\":\"\"},\"colorscale\":[[0.0,\"#0d0887\"],[0.1111111111111111,\"#46039f\"],[0.2222222222222222,\"#7201a8\"],[0.3333333333333333,\"#9c179e\"],[0.4444444444444444,\"#bd3786\"],[0.5555555555555556,\"#d8576b\"],[0.6666666666666666,\"#ed7953\"],[0.7777777777777778,\"#fb9f3a\"],[0.8888888888888888,\"#fdca26\"],[1.0,\"#f0f921\"]],\"type\":\"heatmap\"}],\"histogram2dcontour\":[{\"colorbar\":{\"outlinewidth\":0,\"ticks\":\"\"},\"colorscale\":[[0.0,\"#0d0887\"],[0.1111111111111111,\"#46039f\"],[0.2222222222222222,\"#7201a8\"],[0.3333333333333333,\"#9c179e\"],[0.4444444444444444,\"#bd3786\"],[0.5555555555555556,\"#d8576b\"],[0.6666666666666666,\"#ed7953\"],[0.7777777777777778,\"#fb9f3a\"],[0.8888888888888888,\"#fdca26\"],[1.0,\"#f0f921\"]],\"type\":\"histogram2dcontour\"}],\"histogram2d\":[{\"colorbar\":{\"outlinewidth\":0,\"ticks\":\"\"},\"colorscale\":[[0.0,\"#0d0887\"],[0.1111111111111111,\"#46039f\"],[0.2222222222222222,\"#7201a8\"],[0.3333333333333333,\"#9c179e\"],[0.4444444444444444,\"#bd3786\"],[0.5555555555555556,\"#d8576b\"],[0.6666666666666666,\"#ed7953\"],[0.7777777777777778,\"#fb9f3a\"],[0.8888888888888888,\"#fdca26\"],[1.0,\"#f0f921\"]],\"type\":\"histogram2d\"}],\"histogram\":[{\"marker\":{\"pattern\":{\"fillmode\":\"overlay\",\"size\":10,\"solidity\":0.2}},\"type\":\"histogram\"}],\"mesh3d\":[{\"colorbar\":{\"outlinewidth\":0,\"ticks\":\"\"},\"type\":\"mesh3d\"}],\"parcoords\":[{\"line\":{\"colorbar\":{\"outlinewidth\":0,\"ticks\":\"\"}},\"type\":\"parcoords\"}],\"pie\":[{\"automargin\":true,\"type\":\"pie\"}],\"scatter3d\":[{\"line\":{\"colorbar\":{\"outlinewidth\":0,\"ticks\":\"\"}},\"marker\":{\"colorbar\":{\"outlinewidth\":0,\"ticks\":\"\"}},\"type\":\"scatter3d\"}],\"scattercarpet\":[{\"marker\":{\"colorbar\":{\"outlinewidth\":0,\"ticks\":\"\"}},\"type\":\"scattercarpet\"}],\"scattergeo\":[{\"marker\":{\"colorbar\":{\"outlinewidth\":0,\"ticks\":\"\"}},\"type\":\"scattergeo\"}],\"scattergl\":[{\"marker\":{\"colorbar\":{\"outlinewidth\":0,\"ticks\":\"\"}},\"type\":\"scattergl\"}],\"scattermapbox\":[{\"marker\":{\"colorbar\":{\"outlinewidth\":0,\"ticks\":\"\"}},\"type\":\"scattermapbox\"}],\"scatterpolargl\":[{\"marker\":{\"colorbar\":{\"outlinewidth\":0,\"ticks\":\"\"}},\"type\":\"scatterpolargl\"}],\"scatterpolar\":[{\"marker\":{\"colorbar\":{\"outlinewidth\":0,\"ticks\":\"\"}},\"type\":\"scatterpolar\"}],\"scatter\":[{\"fillpattern\":{\"fillmode\":\"overlay\",\"size\":10,\"solidity\":0.2},\"type\":\"scatter\"}],\"scatterternary\":[{\"marker\":{\"colorbar\":{\"outlinewidth\":0,\"ticks\":\"\"}},\"type\":\"scatterternary\"}],\"surface\":[{\"colorbar\":{\"outlinewidth\":0,\"ticks\":\"\"},\"colorscale\":[[0.0,\"#0d0887\"],[0.1111111111111111,\"#46039f\"],[0.2222222222222222,\"#7201a8\"],[0.3333333333333333,\"#9c179e\"],[0.4444444444444444,\"#bd3786\"],[0.5555555555555556,\"#d8576b\"],[0.6666666666666666,\"#ed7953\"],[0.7777777777777778,\"#fb9f3a\"],[0.8888888888888888,\"#fdca26\"],[1.0,\"#f0f921\"]],\"type\":\"surface\"}],\"table\":[{\"cells\":{\"fill\":{\"color\":\"#EBF0F8\"},\"line\":{\"color\":\"white\"}},\"header\":{\"fill\":{\"color\":\"#C8D4E3\"},\"line\":{\"color\":\"white\"}},\"type\":\"table\"}]},\"layout\":{\"annotationdefaults\":{\"arrowcolor\":\"#2a3f5f\",\"arrowhead\":0,\"arrowwidth\":1},\"autotypenumbers\":\"strict\",\"coloraxis\":{\"colorbar\":{\"outlinewidth\":0,\"ticks\":\"\"}},\"colorscale\":{\"diverging\":[[0,\"#8e0152\"],[0.1,\"#c51b7d\"],[0.2,\"#de77ae\"],[0.3,\"#f1b6da\"],[0.4,\"#fde0ef\"],[0.5,\"#f7f7f7\"],[0.6,\"#e6f5d0\"],[0.7,\"#b8e186\"],[0.8,\"#7fbc41\"],[0.9,\"#4d9221\"],[1,\"#276419\"]],\"sequential\":[[0.0,\"#0d0887\"],[0.1111111111111111,\"#46039f\"],[0.2222222222222222,\"#7201a8\"],[0.3333333333333333,\"#9c179e\"],[0.4444444444444444,\"#bd3786\"],[0.5555555555555556,\"#d8576b\"],[0.6666666666666666,\"#ed7953\"],[0.7777777777777778,\"#fb9f3a\"],[0.8888888888888888,\"#fdca26\"],[1.0,\"#f0f921\"]],\"sequentialminus\":[[0.0,\"#0d0887\"],[0.1111111111111111,\"#46039f\"],[0.2222222222222222,\"#7201a8\"],[0.3333333333333333,\"#9c179e\"],[0.4444444444444444,\"#bd3786\"],[0.5555555555555556,\"#d8576b\"],[0.6666666666666666,\"#ed7953\"],[0.7777777777777778,\"#fb9f3a\"],[0.8888888888888888,\"#fdca26\"],[1.0,\"#f0f921\"]]},\"colorway\":[\"#636efa\",\"#EF553B\",\"#00cc96\",\"#ab63fa\",\"#FFA15A\",\"#19d3f3\",\"#FF6692\",\"#B6E880\",\"#FF97FF\",\"#FECB52\"],\"font\":{\"color\":\"#2a3f5f\"},\"geo\":{\"bgcolor\":\"white\",\"lakecolor\":\"white\",\"landcolor\":\"white\",\"showlakes\":true,\"showland\":true,\"subunitcolor\":\"#C8D4E3\"},\"hoverlabel\":{\"align\":\"left\"},\"hovermode\":\"closest\",\"mapbox\":{\"style\":\"light\"},\"paper_bgcolor\":\"white\",\"plot_bgcolor\":\"white\",\"polar\":{\"angularaxis\":{\"gridcolor\":\"#EBF0F8\",\"linecolor\":\"#EBF0F8\",\"ticks\":\"\"},\"bgcolor\":\"white\",\"radialaxis\":{\"gridcolor\":\"#EBF0F8\",\"linecolor\":\"#EBF0F8\",\"ticks\":\"\"}},\"scene\":{\"xaxis\":{\"backgroundcolor\":\"white\",\"gridcolor\":\"#DFE8F3\",\"gridwidth\":2,\"linecolor\":\"#EBF0F8\",\"showbackground\":true,\"ticks\":\"\",\"zerolinecolor\":\"#EBF0F8\"},\"yaxis\":{\"backgroundcolor\":\"white\",\"gridcolor\":\"#DFE8F3\",\"gridwidth\":2,\"linecolor\":\"#EBF0F8\",\"showbackground\":true,\"ticks\":\"\",\"zerolinecolor\":\"#EBF0F8\"},\"zaxis\":{\"backgroundcolor\":\"white\",\"gridcolor\":\"#DFE8F3\",\"gridwidth\":2,\"linecolor\":\"#EBF0F8\",\"showbackground\":true,\"ticks\":\"\",\"zerolinecolor\":\"#EBF0F8\"}},\"shapedefaults\":{\"line\":{\"color\":\"#2a3f5f\"}},\"ternary\":{\"aaxis\":{\"gridcolor\":\"#DFE8F3\",\"linecolor\":\"#A2B1C6\",\"ticks\":\"\"},\"baxis\":{\"gridcolor\":\"#DFE8F3\",\"linecolor\":\"#A2B1C6\",\"ticks\":\"\"},\"bgcolor\":\"white\",\"caxis\":{\"gridcolor\":\"#DFE8F3\",\"linecolor\":\"#A2B1C6\",\"ticks\":\"\"}},\"title\":{\"x\":0.05},\"xaxis\":{\"automargin\":true,\"gridcolor\":\"#EBF0F8\",\"linecolor\":\"#EBF0F8\",\"ticks\":\"\",\"title\":{\"standoff\":15},\"zerolinecolor\":\"#EBF0F8\",\"zerolinewidth\":2},\"yaxis\":{\"automargin\":true,\"gridcolor\":\"#EBF0F8\",\"linecolor\":\"#EBF0F8\",\"ticks\":\"\",\"title\":{\"standoff\":15},\"zerolinecolor\":\"#EBF0F8\",\"zerolinewidth\":2}}},\"font\":{\"family\":\"Roboto Serif\",\"color\":\"black\"},\"images\":[{\"sizex\":0.2,\"sizey\":0.2,\"source\":\"https://raw.githubusercontent.com/PolicyEngine/policyengine-app/master/src/images/logos/policyengine/blue.png\",\"x\":1,\"xanchor\":\"right\",\"xref\":\"paper\",\"y\":-0.15,\"yanchor\":\"bottom\",\"yref\":\"paper\"}],\"height\":600,\"width\":800,\"modebar\":{\"bgcolor\":\"rgba(0,0,0,0)\",\"color\":\"rgba(0,0,0,0)\"},\"legend\":{\"orientation\":\"h\",\"yanchor\":\"bottom\",\"y\":-0.3},\"title\":{\"text\":\"Figure 10: Outcome distribution by income decile under a \\\\u00a3400 per month UBI\"}}}'"
      ]
     },
     "execution_count": 12,
     "metadata": {},
     "output_type": "execute_result"
    }
   ],
   "source": [
    "intra_decile_chart(\n",
    "    \"uk\",\n",
    "    model_3_reform.api_id,\n",
    "    \"ni\",\n",
    "    \"2023\",\n",
    ").update_layout(\n",
    "    title=\"Figure 10: Outcome distribution by income decile under a £400 per month UBI\",\n",
    "    legend=dict(\n",
    "        orientation=\"h\",\n",
    "        yanchor=\"bottom\",\n",
    "        y=-0.3,\n",
    "    )\n",
    ").to_json()"
   ]
  },
  {
   "cell_type": "markdown",
   "metadata": {},
   "source": [
    "## Household impacts\n",
    "\n",
    "For individual households, each policy changes how the tax-benefit system shapes net incomes in response to earnings. To show this, we continue examining our three policies through the lenses of three example households: a single adult, a married couple with two children, and a pensioner couple.\n",
    "\n",
    "### Net income\n",
    "\n",
    "A single adult with no children sees a net gain under all three policies only up to £21,000 in employment income. Below this income level, the £400 per month UBI policy results in the highest net income.[^11] After surpassing the £21,000 threshold, the rate of increase in net income slows under the £400 and £300 per month UBI policies compared to the baseline, due to higher tax increases. This pattern shifts once again after income crosses the personal allowance phase-out point at £125,140. Beyond this point, the £400 per month UBI policy leads to the highest net income because it involves no changes to the higher and additional rates of income tax.\n",
    "\n",
    "[^11]: We vary the employment income of only one earner, holding the other (if they exist) at zero.\n"
   ]
  },
  {
   "cell_type": "code",
   "execution_count": 13,
   "metadata": {
    "tags": [
     "hide-input"
    ]
   },
   "outputs": [],
   "source": [
    "import plotly.express as px\n",
    "from policyengine_uk import Simulation\n",
    "import pandas as pd\n",
    "\n",
    "SINGLE_NO_CHILDREN = {\n",
    "    \"people\": {\n",
    "        \"adult\": {\n",
    "            \"age\": 25,\n",
    "        }\n",
    "    },\n",
    "    \"benunits\": {\n",
    "        \"benunit\": {\n",
    "            \"members\": [\"adult\"],\n",
    "            \"claims_legacy_benefits\": False,\n",
    "            \"claims_all_entitled_benefits\": True,\n",
    "        }\n",
    "    },\n",
    "    \"households\": {\n",
    "        \"household\": {\n",
    "            \"members\": [\"adult\"],\n",
    "            \"would_evade_tv_licence_fee\": False,\n",
    "            \"household_owns_tv\": True,\n",
    "        }\n",
    "    },\n",
    "    \"axes\": [[{\n",
    "        \"name\": \"employment_income\",\n",
    "        \"min\": 0,\n",
    "        \"max\": 100_000,\n",
    "        \"count\": 100,\n",
    "    }]],\n",
    "}\n",
    "\n",
    "MARRIED_TWO_CHILDREN = {\n",
    "    \"people\": {\n",
    "        \"adult_1\": {\n",
    "            \"age\": 31,\n",
    "        },\n",
    "        \"adult_2\": {\n",
    "            \"age\": 30,\n",
    "        },\n",
    "        \"child_1\": {\n",
    "            \"age\": 4,\n",
    "        },\n",
    "        \"child_2\": {\n",
    "            \"age\": 6,\n",
    "        },\n",
    "    },\n",
    "    \"benunits\": {\n",
    "        \"benunit\": {\n",
    "            \"members\": [\"adult_1\", \"adult_2\", \"child_1\", \"child_2\"],\n",
    "            \"claims_legacy_benefits\": False,\n",
    "            \"claims_all_entitled_benefits\": True,\n",
    "        }\n",
    "    },\n",
    "    \"households\": {\n",
    "        \"household\": {\n",
    "            \"members\": [\"adult_1\", \"adult_2\", \"child_1\", \"child_2\"],\n",
    "            \"would_evade_tv_licence_fee\": False,\n",
    "            \"household_owns_tv\": True,\n",
    "        }\n",
    "    },\n",
    "    \"axes\": [[{\n",
    "        \"name\": \"employment_income\",\n",
    "        \"min\": 0,\n",
    "        \"max\": 100_000,\n",
    "        \"count\": 100,\n",
    "    }]],\n",
    "}\n",
    "\n",
    "PENSIONER_COUPLE_NO_CHILDREN = {\n",
    "    \"people\": {\n",
    "        \"adult_1\": {\n",
    "            \"age\": 70,\n",
    "        },\n",
    "        \"adult_2\": {\n",
    "            \"age\": 71,\n",
    "        }\n",
    "    },\n",
    "    \"benunits\": {\n",
    "        \"benunit\": {\n",
    "            \"members\": [\"adult_1\", \"adult_2\"],\n",
    "            \"claims_legacy_benefits\": False,\n",
    "            \"claims_all_entitled_benefits\": True,\n",
    "        }\n",
    "    },\n",
    "    \"households\": {\n",
    "        \"household\": {\n",
    "            \"members\": [\"adult_1\", \"adult_2\"],\n",
    "            \"would_evade_tv_licence_fee\": False,\n",
    "            \"household_owns_tv\": True,\n",
    "        }\n",
    "    },\n",
    "    \"axes\": [[{\n",
    "        \"name\": \"employment_income\",\n",
    "        \"min\": 0,\n",
    "        \"max\": 100_000,\n",
    "        \"count\": 100,\n",
    "    }]],\n",
    "}\n",
    "dfs = []\n",
    "for reform, policy_name in zip([model_1_reform, model_2_reform, model_3_reform], [\"£200/month\", \"£300/month\", \"£400/month\"]):\n",
    "    for household_type, household_name in zip(\n",
    "        [SINGLE_NO_CHILDREN, MARRIED_TWO_CHILDREN, PENSIONER_COUPLE_NO_CHILDREN],\n",
    "        [\"Single adult, no children\", \"Married couple, two children\", \"Pensioner couple, no children\"],\n",
    "    ):\n",
    "        baseline_sim = Simulation(situation=household_type)\n",
    "        sim = Simulation(situation=household_type, reform=reform)\n",
    "        net_income = sim.calculate(\"household_net_income\", 2023) - baseline_sim.calculate(\"household_net_income\", 2023)\n",
    "        earnings = sim.calculate(\"employment_income\", map_to=\"household\", period=2023)\n",
    "        df = pd.DataFrame({\"Policy\": policy_name, \"Net income\": net_income, \"Earnings\": earnings, \"Household type\": household_name})\n",
    "        dfs.append(df)\n",
    "\n",
    "df = pd.concat(dfs)"
   ]
  },
  {
   "cell_type": "code",
   "execution_count": 14,
   "metadata": {
    "tags": [
     "hide-input"
    ]
   },
   "outputs": [
    {
     "data": {
      "text/plain": [
       "'{\"data\":[{\"hovertemplate\":\"Policy=\\\\u00a3200/month<br>Earnings=%{x}<br>Net income=%{y}<extra></extra>\",\"legendgroup\":\"\\\\u00a3200/month\",\"line\":{\"color\":\"#D8E6F3\",\"dash\":\"solid\"},\"marker\":{\"symbol\":\"circle\"},\"mode\":\"lines\",\"name\":\"\\\\u00a3200/month\",\"orientation\":\"v\",\"showlegend\":true,\"x\":[0.0,1040.44580078125,2080.8916015625,3121.33740234375,4161.783203125,5202.22900390625,6242.6748046875,7283.12060546875,8323.56640625,9364.0126953125,10404.4580078125,11444.904296875,12485.349609375,13525.7958984375,14566.2412109375,15606.6875,16647.1328125,17687.578125,18728.025390625,19768.470703125,20808.916015625,21849.361328125,22889.80859375,23930.251953125,24970.69921875,26011.14453125,27051.591796875,28092.03515625,29132.482421875,30172.927734375,31213.375,32253.818359375,33294.265625,34334.7109375,35375.15625,36415.6015625,37456.05078125,38496.49609375,39536.94140625,40577.3828125,41617.83203125,42658.27734375,43698.72265625,44739.16796875,45779.6171875,46820.0625,47860.50390625,48900.94921875,49941.3984375,50981.84375,52022.2890625,53062.73828125,54103.18359375,55143.62890625,56184.0703125,57224.51953125,58264.96484375,59305.41015625,60345.85546875,61386.3046875,62426.75,63467.19140625,64507.63671875,65548.0859375,66588.53125,67628.9765625,68669.421875,69709.8671875,70750.3125,71790.7578125,72831.203125,73871.6484375,74912.1015625,75952.546875,76992.9921875,78033.4375,79073.8828125,80114.328125,81154.765625,82195.2109375,83235.6640625,84276.109375,85316.5546875,86357.0,87397.4453125,88437.890625,89478.3359375,90518.7890625,91559.234375,92599.6796875,93640.125,94680.5703125,95721.0078125,96761.453125,97801.8984375,98842.3515625,99882.796875,100923.2421875,101963.6875,103004.1328125],\"xaxis\":\"x\",\"y\":[2400.0,2400.0,2391.7001953125,2284.95068359375,2178.201171875,2071.451171875,1964.70166015625,1857.951171875,1192.16015625,721.0048828125,483.783203125,246.5615234375,9.33984375,-36.7216796875,-65.853515625,-94.9873046875,-124.119140625,-153.251953125,-182.384765625,-211.517578125,-240.650390625,-269.78125,-298.9140625,-328.046875,-357.1796875,-386.3125,-415.4453125,-444.578125,-473.708984375,-502.841796875,-531.974609375,-561.10546875,-590.240234375,-619.373046875,-648.50390625,-677.63671875,-706.76953125,-735.90234375,-765.03515625,-794.16796875,-823.296875,-852.431640625,-881.56640625,-910.69921875,-939.828125,-968.9609375,-998.09375,-1027.2265625,-1056.359375,-1105.421875,-1163.6875,-1221.953125,-1280.21875,-1338.48046875,-1396.75,-1455.01171875,-1513.27734375,-1571.54296875,-1629.80859375,-1688.0703125,-1746.3359375,-1804.609375,-1862.8671875,-1921.1328125,-1979.3984375,-2037.6640625,-2095.9296875,-2154.19140625,-2212.45703125,-2270.72265625,-2328.98828125,-2387.25,-2445.515625,-2503.78125,-2562.046875,-2620.3125,-2678.578125,-2736.84375,-2795.109375,-2853.375,-2911.63671875,-2969.90234375,-3028.16796875,-3086.4296875,-3144.6953125,-3202.95703125,-3261.22265625,-3319.4921875,-3377.7578125,-3436.0234375,-3494.28515625,-3552.55078125,-3610.81640625,-3669.08203125,-3727.34765625,-3785.61328125,-3843.8828125,-3927.9921875,-4015.390625,-4102.79296875],\"yaxis\":\"y\",\"type\":\"scatter\"},{\"hovertemplate\":\"Policy=\\\\u00a3300/month<br>Earnings=%{x}<br>Net income=%{y}<extra></extra>\",\"legendgroup\":\"\\\\u00a3300/month\",\"line\":{\"color\":\"#2C6496\",\"dash\":\"solid\"},\"marker\":{\"symbol\":\"circle\"},\"mode\":\"lines\",\"name\":\"\\\\u00a3300/month\",\"orientation\":\"v\",\"showlegend\":true,\"x\":[0.0,1040.44580078125,2080.8916015625,3121.33740234375,4161.783203125,5202.22900390625,6242.6748046875,7283.12060546875,8323.56640625,9364.0126953125,10404.4580078125,11444.904296875,12485.349609375,13525.7958984375,14566.2412109375,15606.6875,16647.1328125,17687.578125,18728.025390625,19768.470703125,20808.916015625,21849.361328125,22889.80859375,23930.251953125,24970.69921875,26011.14453125,27051.591796875,28092.03515625,29132.482421875,30172.927734375,31213.375,32253.818359375,33294.265625,34334.7109375,35375.15625,36415.6015625,37456.05078125,38496.49609375,39536.94140625,40577.3828125,41617.83203125,42658.27734375,43698.72265625,44739.16796875,45779.6171875,46820.0625,47860.50390625,48900.94921875,49941.3984375,50981.84375,52022.2890625,53062.73828125,54103.18359375,55143.62890625,56184.0703125,57224.51953125,58264.96484375,59305.41015625,60345.85546875,61386.3046875,62426.75,63467.19140625,64507.63671875,65548.0859375,66588.53125,67628.9765625,68669.421875,69709.8671875,70750.3125,71790.7578125,72831.203125,73871.6484375,74912.1015625,75952.546875,76992.9921875,78033.4375,79073.8828125,80114.328125,81154.765625,82195.2109375,83235.6640625,84276.109375,85316.5546875,86357.0,87397.4453125,88437.890625,89478.3359375,90518.7890625,91559.234375,92599.6796875,93640.125,94680.5703125,95721.0078125,96761.453125,97801.8984375,98842.3515625,99882.796875,100923.2421875,101963.6875,103004.1328125],\"xaxis\":\"x\",\"y\":[3600.0,3476.86328125,3353.7265625,3230.58984375,3107.453125,2984.31640625,2861.17919921875,2738.04296875,2055.8642578125,1360.482421875,863.6279296875,589.990234375,316.353515625,233.8759765625,168.328125,102.779296875,37.23046875,-28.3173828125,-93.8671875,-159.4140625,-224.962890625,-290.509765625,-356.05859375,-421.60546875,-487.154296875,-552.701171875,-618.251953125,-683.798828125,-749.34375,-814.892578125,-880.44140625,-945.98828125,-1011.5390625,-1077.087890625,-1142.6328125,-1208.18359375,-1273.732421875,-1339.27734375,-1404.828125,-1470.375,-1535.921875,-1601.47265625,-1667.01953125,-1732.5703125,-1798.11328125,-1863.6640625,-1929.2109375,-1994.7578125,-2060.30859375,-2125.85546875,-2191.40625,-2256.94921875,-2322.5,-2388.046875,-2453.59765625,-2519.14453125,-2584.6953125,-2650.2421875,-2715.7890625,-2781.3359375,-2846.8828125,-2912.4375,-2977.9765625,-3043.53125,-3109.078125,-3174.62890625,-3240.171875,-3305.72265625,-3371.26953125,-3436.81640625,-3502.3671875,-3567.91015625,-3633.4609375,-3699.01171875,-3764.5625,-3830.109375,-3895.65625,-3961.203125,-4026.75,-4092.296875,-4157.84765625,-4223.39453125,-4288.94140625,-4354.48828125,-4420.03515625,-4485.5859375,-4551.1328125,-4616.68359375,-4682.234375,-4747.78125,-4813.328125,-4878.875,-4944.42578125,-5009.97265625,-5075.51953125,-5141.0703125,-5206.62109375,-5087.515625,-4944.9765625,-4802.4375],\"yaxis\":\"y\",\"type\":\"scatter\"},{\"hovertemplate\":\"Policy=\\\\u00a3400/month<br>Earnings=%{x}<br>Net income=%{y}<extra></extra>\",\"legendgroup\":\"\\\\u00a3400/month\",\"line\":{\"color\":\"#17354F\",\"dash\":\"solid\"},\"marker\":{\"symbol\":\"circle\"},\"mode\":\"lines\",\"name\":\"\\\\u00a3400/month\",\"orientation\":\"v\",\"showlegend\":true,\"x\":[0.0,1040.44580078125,2080.8916015625,3121.33740234375,4161.783203125,5202.22900390625,6242.6748046875,7283.12060546875,8323.56640625,9364.0126953125,10404.4580078125,11444.904296875,12485.349609375,13525.7958984375,14566.2412109375,15606.6875,16647.1328125,17687.578125,18728.025390625,19768.470703125,20808.916015625,21849.361328125,22889.80859375,23930.251953125,24970.69921875,26011.14453125,27051.591796875,28092.03515625,29132.482421875,30172.927734375,31213.375,32253.818359375,33294.265625,34334.7109375,35375.15625,36415.6015625,37456.05078125,38496.49609375,39536.94140625,40577.3828125,41617.83203125,42658.27734375,43698.72265625,44739.16796875,45779.6171875,46820.0625,47860.50390625,48900.94921875,49941.3984375,50981.84375,52022.2890625,53062.73828125,54103.18359375,55143.62890625,56184.0703125,57224.51953125,58264.96484375,59305.41015625,60345.85546875,61386.3046875,62426.75,63467.19140625,64507.63671875,65548.0859375,66588.53125,67628.9765625,68669.421875,69709.8671875,70750.3125,71790.7578125,72831.203125,73871.6484375,74912.1015625,75952.546875,76992.9921875,78033.4375,79073.8828125,80114.328125,81154.765625,82195.2109375,83235.6640625,84276.109375,85316.5546875,86357.0,87397.4453125,88437.890625,89478.3359375,90518.7890625,91559.234375,92599.6796875,93640.125,94680.5703125,95721.0078125,96761.453125,97801.8984375,98842.3515625,99882.796875,100923.2421875,101963.6875,103004.1328125],\"xaxis\":\"x\",\"y\":[4800.0,4645.49365234375,4490.9873046875,4336.482421875,4181.974609375,4027.46875,3872.96240234375,3718.45703125,3004.908203125,2278.1572265625,1551.4052734375,1023.181640625,679.833984375,527.6474609375,392.3896484375,257.130859375,121.873046875,-13.3857421875,-148.64453125,-283.900390625,-419.16015625,-554.41796875,-689.67578125,-824.931640625,-960.19140625,-1095.44921875,-1230.708984375,-1365.96484375,-1501.220703125,-1636.478515625,-1771.73828125,-1906.994140625,-2042.25390625,-2177.513671875,-2312.76953125,-2448.02734375,-2583.2890625,-2718.54296875,-2853.802734375,-2989.05859375,-3124.31640625,-3259.576171875,-3394.833984375,-3530.09375,-3665.349609375,-3800.609375,-3935.8671875,-4071.12109375,-4206.3828125,-4249.1015625,-4249.1015625,-4249.09765625,-4249.09765625,-4249.09765625,-4249.1015625,-4249.1015625,-4249.1015625,-4249.1015625,-4249.1015625,-4249.09765625,-4249.1015625,-4249.10546875,-4249.09765625,-4249.1015625,-4249.1015625,-4249.1015625,-4249.1015625,-4249.09765625,-4249.09765625,-4249.09765625,-4249.1015625,-4249.09765625,-4249.1015625,-4249.1015625,-4249.1015625,-4249.1015625,-4249.1015625,-4249.1015625,-4249.09765625,-4249.09765625,-4249.09765625,-4249.09765625,-4249.1015625,-4249.09765625,-4249.09765625,-4249.09765625,-4249.09765625,-4249.1015625,-4249.1015625,-4249.1015625,-4249.09765625,-4249.09765625,-4249.1015625,-4249.09765625,-4249.1015625,-4249.1015625,-4249.10546875,-4064.453125,-3856.36328125,-3648.27734375],\"yaxis\":\"y\",\"type\":\"scatter\"}],\"layout\":{\"template\":{\"data\":{\"barpolar\":[{\"marker\":{\"line\":{\"color\":\"white\",\"width\":0.5},\"pattern\":{\"fillmode\":\"overlay\",\"size\":10,\"solidity\":0.2}},\"type\":\"barpolar\"}],\"bar\":[{\"error_x\":{\"color\":\"#2a3f5f\"},\"error_y\":{\"color\":\"#2a3f5f\"},\"marker\":{\"line\":{\"color\":\"white\",\"width\":0.5},\"pattern\":{\"fillmode\":\"overlay\",\"size\":10,\"solidity\":0.2}},\"type\":\"bar\"}],\"carpet\":[{\"aaxis\":{\"endlinecolor\":\"#2a3f5f\",\"gridcolor\":\"#C8D4E3\",\"linecolor\":\"#C8D4E3\",\"minorgridcolor\":\"#C8D4E3\",\"startlinecolor\":\"#2a3f5f\"},\"baxis\":{\"endlinecolor\":\"#2a3f5f\",\"gridcolor\":\"#C8D4E3\",\"linecolor\":\"#C8D4E3\",\"minorgridcolor\":\"#C8D4E3\",\"startlinecolor\":\"#2a3f5f\"},\"type\":\"carpet\"}],\"choropleth\":[{\"colorbar\":{\"outlinewidth\":0,\"ticks\":\"\"},\"type\":\"choropleth\"}],\"contourcarpet\":[{\"colorbar\":{\"outlinewidth\":0,\"ticks\":\"\"},\"type\":\"contourcarpet\"}],\"contour\":[{\"colorbar\":{\"outlinewidth\":0,\"ticks\":\"\"},\"colorscale\":[[0.0,\"#0d0887\"],[0.1111111111111111,\"#46039f\"],[0.2222222222222222,\"#7201a8\"],[0.3333333333333333,\"#9c179e\"],[0.4444444444444444,\"#bd3786\"],[0.5555555555555556,\"#d8576b\"],[0.6666666666666666,\"#ed7953\"],[0.7777777777777778,\"#fb9f3a\"],[0.8888888888888888,\"#fdca26\"],[1.0,\"#f0f921\"]],\"type\":\"contour\"}],\"heatmapgl\":[{\"colorbar\":{\"outlinewidth\":0,\"ticks\":\"\"},\"colorscale\":[[0.0,\"#0d0887\"],[0.1111111111111111,\"#46039f\"],[0.2222222222222222,\"#7201a8\"],[0.3333333333333333,\"#9c179e\"],[0.4444444444444444,\"#bd3786\"],[0.5555555555555556,\"#d8576b\"],[0.6666666666666666,\"#ed7953\"],[0.7777777777777778,\"#fb9f3a\"],[0.8888888888888888,\"#fdca26\"],[1.0,\"#f0f921\"]],\"type\":\"heatmapgl\"}],\"heatmap\":[{\"colorbar\":{\"outlinewidth\":0,\"ticks\":\"\"},\"colorscale\":[[0.0,\"#0d0887\"],[0.1111111111111111,\"#46039f\"],[0.2222222222222222,\"#7201a8\"],[0.3333333333333333,\"#9c179e\"],[0.4444444444444444,\"#bd3786\"],[0.5555555555555556,\"#d8576b\"],[0.6666666666666666,\"#ed7953\"],[0.7777777777777778,\"#fb9f3a\"],[0.8888888888888888,\"#fdca26\"],[1.0,\"#f0f921\"]],\"type\":\"heatmap\"}],\"histogram2dcontour\":[{\"colorbar\":{\"outlinewidth\":0,\"ticks\":\"\"},\"colorscale\":[[0.0,\"#0d0887\"],[0.1111111111111111,\"#46039f\"],[0.2222222222222222,\"#7201a8\"],[0.3333333333333333,\"#9c179e\"],[0.4444444444444444,\"#bd3786\"],[0.5555555555555556,\"#d8576b\"],[0.6666666666666666,\"#ed7953\"],[0.7777777777777778,\"#fb9f3a\"],[0.8888888888888888,\"#fdca26\"],[1.0,\"#f0f921\"]],\"type\":\"histogram2dcontour\"}],\"histogram2d\":[{\"colorbar\":{\"outlinewidth\":0,\"ticks\":\"\"},\"colorscale\":[[0.0,\"#0d0887\"],[0.1111111111111111,\"#46039f\"],[0.2222222222222222,\"#7201a8\"],[0.3333333333333333,\"#9c179e\"],[0.4444444444444444,\"#bd3786\"],[0.5555555555555556,\"#d8576b\"],[0.6666666666666666,\"#ed7953\"],[0.7777777777777778,\"#fb9f3a\"],[0.8888888888888888,\"#fdca26\"],[1.0,\"#f0f921\"]],\"type\":\"histogram2d\"}],\"histogram\":[{\"marker\":{\"pattern\":{\"fillmode\":\"overlay\",\"size\":10,\"solidity\":0.2}},\"type\":\"histogram\"}],\"mesh3d\":[{\"colorbar\":{\"outlinewidth\":0,\"ticks\":\"\"},\"type\":\"mesh3d\"}],\"parcoords\":[{\"line\":{\"colorbar\":{\"outlinewidth\":0,\"ticks\":\"\"}},\"type\":\"parcoords\"}],\"pie\":[{\"automargin\":true,\"type\":\"pie\"}],\"scatter3d\":[{\"line\":{\"colorbar\":{\"outlinewidth\":0,\"ticks\":\"\"}},\"marker\":{\"colorbar\":{\"outlinewidth\":0,\"ticks\":\"\"}},\"type\":\"scatter3d\"}],\"scattercarpet\":[{\"marker\":{\"colorbar\":{\"outlinewidth\":0,\"ticks\":\"\"}},\"type\":\"scattercarpet\"}],\"scattergeo\":[{\"marker\":{\"colorbar\":{\"outlinewidth\":0,\"ticks\":\"\"}},\"type\":\"scattergeo\"}],\"scattergl\":[{\"marker\":{\"colorbar\":{\"outlinewidth\":0,\"ticks\":\"\"}},\"type\":\"scattergl\"}],\"scattermapbox\":[{\"marker\":{\"colorbar\":{\"outlinewidth\":0,\"ticks\":\"\"}},\"type\":\"scattermapbox\"}],\"scatterpolargl\":[{\"marker\":{\"colorbar\":{\"outlinewidth\":0,\"ticks\":\"\"}},\"type\":\"scatterpolargl\"}],\"scatterpolar\":[{\"marker\":{\"colorbar\":{\"outlinewidth\":0,\"ticks\":\"\"}},\"type\":\"scatterpolar\"}],\"scatter\":[{\"fillpattern\":{\"fillmode\":\"overlay\",\"size\":10,\"solidity\":0.2},\"type\":\"scatter\"}],\"scatterternary\":[{\"marker\":{\"colorbar\":{\"outlinewidth\":0,\"ticks\":\"\"}},\"type\":\"scatterternary\"}],\"surface\":[{\"colorbar\":{\"outlinewidth\":0,\"ticks\":\"\"},\"colorscale\":[[0.0,\"#0d0887\"],[0.1111111111111111,\"#46039f\"],[0.2222222222222222,\"#7201a8\"],[0.3333333333333333,\"#9c179e\"],[0.4444444444444444,\"#bd3786\"],[0.5555555555555556,\"#d8576b\"],[0.6666666666666666,\"#ed7953\"],[0.7777777777777778,\"#fb9f3a\"],[0.8888888888888888,\"#fdca26\"],[1.0,\"#f0f921\"]],\"type\":\"surface\"}],\"table\":[{\"cells\":{\"fill\":{\"color\":\"#EBF0F8\"},\"line\":{\"color\":\"white\"}},\"header\":{\"fill\":{\"color\":\"#C8D4E3\"},\"line\":{\"color\":\"white\"}},\"type\":\"table\"}]},\"layout\":{\"annotationdefaults\":{\"arrowcolor\":\"#2a3f5f\",\"arrowhead\":0,\"arrowwidth\":1},\"autotypenumbers\":\"strict\",\"coloraxis\":{\"colorbar\":{\"outlinewidth\":0,\"ticks\":\"\"}},\"colorscale\":{\"diverging\":[[0,\"#8e0152\"],[0.1,\"#c51b7d\"],[0.2,\"#de77ae\"],[0.3,\"#f1b6da\"],[0.4,\"#fde0ef\"],[0.5,\"#f7f7f7\"],[0.6,\"#e6f5d0\"],[0.7,\"#b8e186\"],[0.8,\"#7fbc41\"],[0.9,\"#4d9221\"],[1,\"#276419\"]],\"sequential\":[[0.0,\"#0d0887\"],[0.1111111111111111,\"#46039f\"],[0.2222222222222222,\"#7201a8\"],[0.3333333333333333,\"#9c179e\"],[0.4444444444444444,\"#bd3786\"],[0.5555555555555556,\"#d8576b\"],[0.6666666666666666,\"#ed7953\"],[0.7777777777777778,\"#fb9f3a\"],[0.8888888888888888,\"#fdca26\"],[1.0,\"#f0f921\"]],\"sequentialminus\":[[0.0,\"#0d0887\"],[0.1111111111111111,\"#46039f\"],[0.2222222222222222,\"#7201a8\"],[0.3333333333333333,\"#9c179e\"],[0.4444444444444444,\"#bd3786\"],[0.5555555555555556,\"#d8576b\"],[0.6666666666666666,\"#ed7953\"],[0.7777777777777778,\"#fb9f3a\"],[0.8888888888888888,\"#fdca26\"],[1.0,\"#f0f921\"]]},\"colorway\":[\"#636efa\",\"#EF553B\",\"#00cc96\",\"#ab63fa\",\"#FFA15A\",\"#19d3f3\",\"#FF6692\",\"#B6E880\",\"#FF97FF\",\"#FECB52\"],\"font\":{\"color\":\"#2a3f5f\"},\"geo\":{\"bgcolor\":\"white\",\"lakecolor\":\"white\",\"landcolor\":\"white\",\"showlakes\":true,\"showland\":true,\"subunitcolor\":\"#C8D4E3\"},\"hoverlabel\":{\"align\":\"left\"},\"hovermode\":\"closest\",\"mapbox\":{\"style\":\"light\"},\"paper_bgcolor\":\"white\",\"plot_bgcolor\":\"white\",\"polar\":{\"angularaxis\":{\"gridcolor\":\"#EBF0F8\",\"linecolor\":\"#EBF0F8\",\"ticks\":\"\"},\"bgcolor\":\"white\",\"radialaxis\":{\"gridcolor\":\"#EBF0F8\",\"linecolor\":\"#EBF0F8\",\"ticks\":\"\"}},\"scene\":{\"xaxis\":{\"backgroundcolor\":\"white\",\"gridcolor\":\"#DFE8F3\",\"gridwidth\":2,\"linecolor\":\"#EBF0F8\",\"showbackground\":true,\"ticks\":\"\",\"zerolinecolor\":\"#EBF0F8\"},\"yaxis\":{\"backgroundcolor\":\"white\",\"gridcolor\":\"#DFE8F3\",\"gridwidth\":2,\"linecolor\":\"#EBF0F8\",\"showbackground\":true,\"ticks\":\"\",\"zerolinecolor\":\"#EBF0F8\"},\"zaxis\":{\"backgroundcolor\":\"white\",\"gridcolor\":\"#DFE8F3\",\"gridwidth\":2,\"linecolor\":\"#EBF0F8\",\"showbackground\":true,\"ticks\":\"\",\"zerolinecolor\":\"#EBF0F8\"}},\"shapedefaults\":{\"line\":{\"color\":\"#2a3f5f\"}},\"ternary\":{\"aaxis\":{\"gridcolor\":\"#DFE8F3\",\"linecolor\":\"#A2B1C6\",\"ticks\":\"\"},\"baxis\":{\"gridcolor\":\"#DFE8F3\",\"linecolor\":\"#A2B1C6\",\"ticks\":\"\"},\"bgcolor\":\"white\",\"caxis\":{\"gridcolor\":\"#DFE8F3\",\"linecolor\":\"#A2B1C6\",\"ticks\":\"\"}},\"title\":{\"x\":0.05},\"xaxis\":{\"automargin\":true,\"gridcolor\":\"#EBF0F8\",\"linecolor\":\"#EBF0F8\",\"ticks\":\"\",\"title\":{\"standoff\":15},\"zerolinecolor\":\"#EBF0F8\",\"zerolinewidth\":2},\"yaxis\":{\"automargin\":true,\"gridcolor\":\"#EBF0F8\",\"linecolor\":\"#EBF0F8\",\"ticks\":\"\",\"title\":{\"standoff\":15},\"zerolinecolor\":\"#EBF0F8\",\"zerolinewidth\":2}}},\"xaxis\":{\"anchor\":\"y\",\"domain\":[0.0,1.0],\"title\":{\"text\":\"Employment income\"},\"tickformat\":\",.0f\",\"tickprefix\":\"\\\\u00a3\"},\"yaxis\":{\"anchor\":\"x\",\"domain\":[0.0,1.0],\"title\":{\"text\":\"Change to annual net income\"},\"tickmode\":\"array\",\"tickvals\":[-10000,-5000,0,5000,10000],\"ticktext\":[\"-\\\\u00a310,000\",\"-\\\\u00a35,000\",\"\\\\u00a30\",\"+\\\\u00a35,000\",\"+\\\\u00a310,000\"],\"range\":[-10000,10000]},\"legend\":{\"title\":{\"text\":\"Policy\"},\"tracegroupgap\":0},\"margin\":{\"t\":60},\"title\":{\"text\":\"Figure 11: Change to annual net income by UBI policy and income (single adult, no children)\"},\"shapes\":[{\"line\":{\"color\":\"grey\",\"width\":1},\"type\":\"line\",\"x0\":0,\"x1\":1,\"xref\":\"paper\",\"y0\":0,\"y1\":0,\"yref\":\"y\"}],\"font\":{\"family\":\"Roboto Serif\",\"color\":\"black\"},\"images\":[{\"sizex\":0.2,\"sizey\":0.2,\"source\":\"https://raw.githubusercontent.com/PolicyEngine/policyengine-app/master/src/images/logos/policyengine/blue.png\",\"x\":1,\"xanchor\":\"right\",\"xref\":\"paper\",\"y\":-0.15,\"yanchor\":\"bottom\",\"yref\":\"paper\"}],\"height\":600,\"width\":800,\"modebar\":{\"bgcolor\":\"rgba(0,0,0,0)\",\"color\":\"rgba(0,0,0,0)\"}}}'"
      ]
     },
     "execution_count": 14,
     "metadata": {},
     "output_type": "execute_result"
    }
   ],
   "source": [
    "import plotly.io as pio\n",
    "from policyengine_core.charts import *\n",
    "\n",
    "H1 = \"Single adult, no children\"\n",
    "H2 = \"Married couple, two children\"\n",
    "H3 = \"Pensioner couple, no children\"\n",
    "\n",
    "def plot(household_name: str, title):\n",
    "    fig = px.line(\n",
    "        df[df[\"Household type\"] == household_name], \n",
    "        x=\"Earnings\", \n",
    "        y=\"Net income\", \n",
    "        color=\"Policy\",\n",
    "        color_discrete_sequence=BLUE_COLOUR_SCALE,\n",
    "    ).update_layout(\n",
    "        yaxis_tickmode=\"array\",\n",
    "        yaxis_tickvals=[-10_000, -5_000, 0, 5_000, 10_000],\n",
    "        yaxis_ticktext=[\"-£10,000\", \"-£5,000\", \"£0\", \"+£5,000\", \"+£10,000\"],\n",
    "        yaxis_range=(-10_000, 10_000),\n",
    "        xaxis_tickformat=\",.0f\",\n",
    "        xaxis_tickprefix=\"£\",\n",
    "        yaxis_title=\"Change to annual net income\",\n",
    "        xaxis_title=\"Employment income\",\n",
    "        title=title,\n",
    "    )\n",
    "    fig.add_shape(\n",
    "            type=\"line\",\n",
    "            xref=\"paper\",\n",
    "            yref=\"y\",\n",
    "            x0=0,\n",
    "            y0=0,\n",
    "            x1=1,\n",
    "            y1=0,\n",
    "            line=dict(color=\"grey\", width=1),\n",
    "        )\n",
    "    return format_fig(fig)\n",
    "plot(H1, title=\"Figure 11: Change to annual net income by UBI policy and income (single adult, no children)\").to_json()"
   ]
  },
  {
   "cell_type": "markdown",
   "metadata": {},
   "source": [
    "For a married couple with two children, one of whom has earnings, the net income landscape is more generous. All UBI schemes leave them better off or roughly equal at virtually any earnings level, starting with a bonus over £5,000 which decreases non-monotonically.\n"
   ]
  },
  {
   "cell_type": "code",
   "execution_count": 15,
   "metadata": {
    "tags": [
     "hide-input"
    ]
   },
   "outputs": [
    {
     "data": {
      "text/plain": [
       "'{\"data\":[{\"hovertemplate\":\"Policy=\\\\u00a3200/month<br>Earnings=%{x}<br>Net income=%{y}<extra></extra>\",\"legendgroup\":\"\\\\u00a3200/month\",\"line\":{\"color\":\"#D8E6F3\",\"dash\":\"solid\"},\"marker\":{\"symbol\":\"circle\"},\"mode\":\"lines\",\"name\":\"\\\\u00a3200/month\",\"orientation\":\"v\",\"showlegend\":true,\"x\":[0.0,1040.44580078125,2080.8916015625,3121.33740234375,4161.783203125,5202.22900390625,6242.6748046875,7283.12060546875,8323.56640625,9364.0126953125,10404.4580078125,11444.904296875,12485.349609375,13525.7958984375,14566.2412109375,15606.6875,16647.1328125,17687.578125,18728.025390625,19768.470703125,20808.916015625,21849.361328125,22889.80859375,23930.251953125,24970.69921875,26011.14453125,27051.591796875,28092.03515625,29132.482421875,30172.927734375,31213.375,32253.818359375,33294.265625,34334.7109375,35375.15625,36415.6015625,37456.05078125,38496.49609375,39536.94140625,40577.3828125,41617.83203125,42658.27734375,43698.72265625,44739.16796875,45779.6171875,46820.0625,47860.50390625,48900.94921875,49941.3984375,50981.84375,52022.2890625,53062.73828125,54103.18359375,55143.62890625,56184.0703125,57224.51953125,58264.96484375,59305.41015625,60345.85546875,61386.3046875,62426.75,63467.19140625,64507.63671875,65548.0859375,66588.53125,67628.9765625,68669.421875,69709.8671875,70750.3125,71790.7578125,72831.203125,73871.6484375,74912.1015625,75952.546875,76992.9921875,78033.4375,79073.8828125,80114.328125,81154.765625,82195.2109375,83235.6640625,84276.109375,85316.5546875,86357.0,87397.4453125,88437.890625,89478.3359375,90518.7890625,91559.234375,92599.6796875,93640.125,94680.5703125,95721.0078125,96761.453125,97801.8984375,98842.3515625,99882.796875,100923.2421875,101963.6875,103004.1328125],\"xaxis\":\"x\",\"y\":[4800.0,4800.0,4800.0009765625,4589.935546875,4352.712890625,4115.4921875,3878.26953125,3864.96484375,4171.720703125,4064.970703125,3958.22265625,3851.47265625,3744.72265625,3637.97265625,3597.48828125,3584.373046875,3571.265625,3558.15625,3545.046875,3531.935546875,3518.828125,3505.71875,3492.609375,3479.498046875,3466.388671875,3453.279296875,3440.169921875,3427.060546875,3413.953125,3400.84375,3387.732421875,3374.619140625,3361.51171875,3348.40234375,3335.29296875,3312.19140625,2909.94921875,2507.71875,2105.48046875,1703.24609375,1370.30078125,1341.16796875,1312.03515625,1282.90234375,1253.76953125,1224.63671875,1195.5078125,1166.375,1137.2421875,1294.578125,1236.3125,1178.046875,1119.78125,1061.515625,1003.25,944.984375,886.72265625,828.453125,770.1953125,711.9296875,653.6640625,595.390625,537.1328125,478.8671875,420.6015625,362.3359375,304.0703125,245.80859375,187.54296875,129.27734375,71.01171875,12.75,-45.515625,-103.78125,-162.046875,-220.3125,-278.578125,-336.84375,-395.109375,-453.37109375,-511.63671875,-569.90234375,-628.16796875,-686.4296875,-744.6953125,-802.95703125,-861.22265625,-919.4921875,-977.7578125,-1036.0234375,-1094.28515625,-1152.55078125,-1210.81640625,-1269.08203125,-1327.34765625,-1385.61328125,-1443.8828125,-1527.9921875,-1615.390625,-1702.796875],\"yaxis\":\"y\",\"type\":\"scatter\"},{\"hovertemplate\":\"Policy=\\\\u00a3300/month<br>Earnings=%{x}<br>Net income=%{y}<extra></extra>\",\"legendgroup\":\"\\\\u00a3300/month\",\"line\":{\"color\":\"#2C6496\",\"dash\":\"solid\"},\"marker\":{\"symbol\":\"circle\"},\"mode\":\"lines\",\"name\":\"\\\\u00a3300/month\",\"orientation\":\"v\",\"showlegend\":true,\"x\":[0.0,1040.44580078125,2080.8916015625,3121.33740234375,4161.783203125,5202.22900390625,6242.6748046875,7283.12060546875,8323.56640625,9364.0126953125,10404.4580078125,11444.904296875,12485.349609375,13525.7958984375,14566.2412109375,15606.6875,16647.1328125,17687.578125,18728.025390625,19768.470703125,20808.916015625,21849.361328125,22889.80859375,23930.251953125,24970.69921875,26011.14453125,27051.591796875,28092.03515625,29132.482421875,30172.927734375,31213.375,32253.818359375,33294.265625,34334.7109375,35375.15625,36415.6015625,37456.05078125,38496.49609375,39536.94140625,40577.3828125,41617.83203125,42658.27734375,43698.72265625,44739.16796875,45779.6171875,46820.0625,47860.50390625,48900.94921875,49941.3984375,50981.84375,52022.2890625,53062.73828125,54103.18359375,55143.62890625,56184.0703125,57224.51953125,58264.96484375,59305.41015625,60345.85546875,61386.3046875,62426.75,63467.19140625,64507.63671875,65548.0859375,66588.53125,67628.9765625,68669.421875,69709.8671875,70750.3125,71790.7578125,72831.203125,73871.6484375,74912.1015625,75952.546875,76992.9921875,78033.4375,79073.8828125,80114.328125,81154.765625,82195.2109375,83235.6640625,84276.109375,85316.5546875,86357.0,87397.4453125,88437.890625,89478.3359375,90518.7890625,91559.234375,92599.6796875,93640.125,94680.5703125,95721.0078125,96761.453125,97801.8984375,98842.3515625,99882.796875,100923.2421875,101963.6875,103004.1328125],\"xaxis\":\"x\",\"y\":[7200.0,6926.36328125,6652.7255859375,6379.087890625,6105.451171875,5831.814453125,5558.17578125,5508.455078125,5807.064453125,6091.771484375,5968.630859375,5845.49609375,5722.359375,5599.220703125,5542.34765625,5512.849609375,5483.353515625,5453.857421875,5424.361328125,5394.861328125,5365.369140625,5335.87109375,5306.373046875,5276.87890625,5247.380859375,5217.884765625,5188.38671875,5158.890625,5129.3984375,5099.8984375,5070.400390625,5040.904296875,5011.41015625,4981.91015625,4952.4140625,4912.92578125,4494.30078125,4075.6796875,3657.0546875,3238.43359375,2819.80859375,2401.18359375,1982.5625,1615.4296875,1549.88671875,1484.3359375,1418.7890625,1353.2421875,1287.69140625,1474.1484375,1408.59765625,1343.046875,1277.5,1211.94921875,1146.3984375,1080.8515625,1015.3125,949.7578125,884.21484375,818.6640625,753.1171875,687.5625,622.0234375,556.46875,490.921875,425.37109375,359.828125,294.27734375,228.73046875,163.18359375,97.6328125,32.08984375,-33.4609375,-99.01171875,-164.55859375,-230.109375,-295.65625,-361.203125,-426.75,-492.296875,-557.84765625,-623.39453125,-688.94140625,-754.48828125,-820.03515625,-885.58203125,-951.1328125,-1016.68359375,-1082.234375,-1147.78125,-1213.328125,-1278.875,-1344.42578125,-1409.97265625,-1475.51953125,-1541.0703125,-1606.62109375,-1487.515625,-1344.9765625,-1202.4375],\"yaxis\":\"y\",\"type\":\"scatter\"},{\"hovertemplate\":\"Policy=\\\\u00a3400/month<br>Earnings=%{x}<br>Net income=%{y}<extra></extra>\",\"legendgroup\":\"\\\\u00a3400/month\",\"line\":{\"color\":\"#17354F\",\"dash\":\"solid\"},\"marker\":{\"symbol\":\"circle\"},\"mode\":\"lines\",\"name\":\"\\\\u00a3400/month\",\"orientation\":\"v\",\"showlegend\":true,\"x\":[0.0,1040.44580078125,2080.8916015625,3121.33740234375,4161.783203125,5202.22900390625,6242.6748046875,7283.12060546875,8323.56640625,9364.0126953125,10404.4580078125,11444.904296875,12485.349609375,13525.7958984375,14566.2412109375,15606.6875,16647.1328125,17687.578125,18728.025390625,19768.470703125,20808.916015625,21849.361328125,22889.80859375,23930.251953125,24970.69921875,26011.14453125,27051.591796875,28092.03515625,29132.482421875,30172.927734375,31213.375,32253.818359375,33294.265625,34334.7109375,35375.15625,36415.6015625,37456.05078125,38496.49609375,39536.94140625,40577.3828125,41617.83203125,42658.27734375,43698.72265625,44739.16796875,45779.6171875,46820.0625,47860.50390625,48900.94921875,49941.3984375,50981.84375,52022.2890625,53062.73828125,54103.18359375,55143.62890625,56184.0703125,57224.51953125,58264.96484375,59305.41015625,60345.85546875,61386.3046875,62426.75,63467.19140625,64507.63671875,65548.0859375,66588.53125,67628.9765625,68669.421875,69709.8671875,70750.3125,71790.7578125,72831.203125,73871.6484375,74912.1015625,75952.546875,76992.9921875,78033.4375,79073.8828125,80114.328125,81154.765625,82195.2109375,83235.6640625,84276.109375,85316.5546875,86357.0,87397.4453125,88437.890625,89478.3359375,90518.7890625,91559.234375,92599.6796875,93640.125,94680.5703125,95721.0078125,96761.453125,97801.8984375,98842.3515625,99882.796875,100923.2421875,101963.6875,103004.1328125],\"xaxis\":\"x\",\"y\":[9600.0,9256.65234375,8913.3076171875,8569.958984375,8226.611328125,7883.263671875,7539.91796875,7420.486328125,7649.384765625,7878.283203125,8054.935546875,7900.435546875,7745.92578125,7591.41796875,7503.173828125,7442.306640625,7381.44140625,7320.57421875,7259.708984375,7198.841796875,7137.9765625,7077.11328125,7016.244140625,6955.37890625,6894.509765625,6833.646484375,6772.78125,6711.91796875,6651.05078125,6590.18359375,6529.314453125,6468.455078125,6407.5859375,6346.71484375,6285.8515625,6214.99609375,5765.0,5315.0078125,4865.015625,4415.02734375,3965.03125,3515.0390625,3065.04296875,2615.05078125,2165.05859375,1715.0625,1265.078125,815.0859375,365.0859375,550.8984375,550.90234375,550.90234375,550.90625,550.89453125,550.8984375,550.89453125,550.90625,550.8984375,550.90625,550.90234375,550.8984375,550.89453125,550.90234375,550.8984375,550.8984375,550.8984375,550.8984375,550.90234375,550.90234375,550.90234375,550.8984375,550.90234375,550.8984375,550.8984375,550.8984375,550.8984375,550.8984375,550.8984375,550.90234375,550.90234375,550.90234375,550.90234375,550.8984375,550.90625,550.90234375,550.90234375,550.90234375,550.8984375,550.8984375,550.8984375,550.90234375,550.90234375,550.8984375,550.90234375,550.8984375,550.8984375,550.890625,735.546875,943.6328125,1151.71875],\"yaxis\":\"y\",\"type\":\"scatter\"}],\"layout\":{\"template\":{\"data\":{\"barpolar\":[{\"marker\":{\"line\":{\"color\":\"white\",\"width\":0.5},\"pattern\":{\"fillmode\":\"overlay\",\"size\":10,\"solidity\":0.2}},\"type\":\"barpolar\"}],\"bar\":[{\"error_x\":{\"color\":\"#2a3f5f\"},\"error_y\":{\"color\":\"#2a3f5f\"},\"marker\":{\"line\":{\"color\":\"white\",\"width\":0.5},\"pattern\":{\"fillmode\":\"overlay\",\"size\":10,\"solidity\":0.2}},\"type\":\"bar\"}],\"carpet\":[{\"aaxis\":{\"endlinecolor\":\"#2a3f5f\",\"gridcolor\":\"#C8D4E3\",\"linecolor\":\"#C8D4E3\",\"minorgridcolor\":\"#C8D4E3\",\"startlinecolor\":\"#2a3f5f\"},\"baxis\":{\"endlinecolor\":\"#2a3f5f\",\"gridcolor\":\"#C8D4E3\",\"linecolor\":\"#C8D4E3\",\"minorgridcolor\":\"#C8D4E3\",\"startlinecolor\":\"#2a3f5f\"},\"type\":\"carpet\"}],\"choropleth\":[{\"colorbar\":{\"outlinewidth\":0,\"ticks\":\"\"},\"type\":\"choropleth\"}],\"contourcarpet\":[{\"colorbar\":{\"outlinewidth\":0,\"ticks\":\"\"},\"type\":\"contourcarpet\"}],\"contour\":[{\"colorbar\":{\"outlinewidth\":0,\"ticks\":\"\"},\"colorscale\":[[0.0,\"#0d0887\"],[0.1111111111111111,\"#46039f\"],[0.2222222222222222,\"#7201a8\"],[0.3333333333333333,\"#9c179e\"],[0.4444444444444444,\"#bd3786\"],[0.5555555555555556,\"#d8576b\"],[0.6666666666666666,\"#ed7953\"],[0.7777777777777778,\"#fb9f3a\"],[0.8888888888888888,\"#fdca26\"],[1.0,\"#f0f921\"]],\"type\":\"contour\"}],\"heatmapgl\":[{\"colorbar\":{\"outlinewidth\":0,\"ticks\":\"\"},\"colorscale\":[[0.0,\"#0d0887\"],[0.1111111111111111,\"#46039f\"],[0.2222222222222222,\"#7201a8\"],[0.3333333333333333,\"#9c179e\"],[0.4444444444444444,\"#bd3786\"],[0.5555555555555556,\"#d8576b\"],[0.6666666666666666,\"#ed7953\"],[0.7777777777777778,\"#fb9f3a\"],[0.8888888888888888,\"#fdca26\"],[1.0,\"#f0f921\"]],\"type\":\"heatmapgl\"}],\"heatmap\":[{\"colorbar\":{\"outlinewidth\":0,\"ticks\":\"\"},\"colorscale\":[[0.0,\"#0d0887\"],[0.1111111111111111,\"#46039f\"],[0.2222222222222222,\"#7201a8\"],[0.3333333333333333,\"#9c179e\"],[0.4444444444444444,\"#bd3786\"],[0.5555555555555556,\"#d8576b\"],[0.6666666666666666,\"#ed7953\"],[0.7777777777777778,\"#fb9f3a\"],[0.8888888888888888,\"#fdca26\"],[1.0,\"#f0f921\"]],\"type\":\"heatmap\"}],\"histogram2dcontour\":[{\"colorbar\":{\"outlinewidth\":0,\"ticks\":\"\"},\"colorscale\":[[0.0,\"#0d0887\"],[0.1111111111111111,\"#46039f\"],[0.2222222222222222,\"#7201a8\"],[0.3333333333333333,\"#9c179e\"],[0.4444444444444444,\"#bd3786\"],[0.5555555555555556,\"#d8576b\"],[0.6666666666666666,\"#ed7953\"],[0.7777777777777778,\"#fb9f3a\"],[0.8888888888888888,\"#fdca26\"],[1.0,\"#f0f921\"]],\"type\":\"histogram2dcontour\"}],\"histogram2d\":[{\"colorbar\":{\"outlinewidth\":0,\"ticks\":\"\"},\"colorscale\":[[0.0,\"#0d0887\"],[0.1111111111111111,\"#46039f\"],[0.2222222222222222,\"#7201a8\"],[0.3333333333333333,\"#9c179e\"],[0.4444444444444444,\"#bd3786\"],[0.5555555555555556,\"#d8576b\"],[0.6666666666666666,\"#ed7953\"],[0.7777777777777778,\"#fb9f3a\"],[0.8888888888888888,\"#fdca26\"],[1.0,\"#f0f921\"]],\"type\":\"histogram2d\"}],\"histogram\":[{\"marker\":{\"pattern\":{\"fillmode\":\"overlay\",\"size\":10,\"solidity\":0.2}},\"type\":\"histogram\"}],\"mesh3d\":[{\"colorbar\":{\"outlinewidth\":0,\"ticks\":\"\"},\"type\":\"mesh3d\"}],\"parcoords\":[{\"line\":{\"colorbar\":{\"outlinewidth\":0,\"ticks\":\"\"}},\"type\":\"parcoords\"}],\"pie\":[{\"automargin\":true,\"type\":\"pie\"}],\"scatter3d\":[{\"line\":{\"colorbar\":{\"outlinewidth\":0,\"ticks\":\"\"}},\"marker\":{\"colorbar\":{\"outlinewidth\":0,\"ticks\":\"\"}},\"type\":\"scatter3d\"}],\"scattercarpet\":[{\"marker\":{\"colorbar\":{\"outlinewidth\":0,\"ticks\":\"\"}},\"type\":\"scattercarpet\"}],\"scattergeo\":[{\"marker\":{\"colorbar\":{\"outlinewidth\":0,\"ticks\":\"\"}},\"type\":\"scattergeo\"}],\"scattergl\":[{\"marker\":{\"colorbar\":{\"outlinewidth\":0,\"ticks\":\"\"}},\"type\":\"scattergl\"}],\"scattermapbox\":[{\"marker\":{\"colorbar\":{\"outlinewidth\":0,\"ticks\":\"\"}},\"type\":\"scattermapbox\"}],\"scatterpolargl\":[{\"marker\":{\"colorbar\":{\"outlinewidth\":0,\"ticks\":\"\"}},\"type\":\"scatterpolargl\"}],\"scatterpolar\":[{\"marker\":{\"colorbar\":{\"outlinewidth\":0,\"ticks\":\"\"}},\"type\":\"scatterpolar\"}],\"scatter\":[{\"fillpattern\":{\"fillmode\":\"overlay\",\"size\":10,\"solidity\":0.2},\"type\":\"scatter\"}],\"scatterternary\":[{\"marker\":{\"colorbar\":{\"outlinewidth\":0,\"ticks\":\"\"}},\"type\":\"scatterternary\"}],\"surface\":[{\"colorbar\":{\"outlinewidth\":0,\"ticks\":\"\"},\"colorscale\":[[0.0,\"#0d0887\"],[0.1111111111111111,\"#46039f\"],[0.2222222222222222,\"#7201a8\"],[0.3333333333333333,\"#9c179e\"],[0.4444444444444444,\"#bd3786\"],[0.5555555555555556,\"#d8576b\"],[0.6666666666666666,\"#ed7953\"],[0.7777777777777778,\"#fb9f3a\"],[0.8888888888888888,\"#fdca26\"],[1.0,\"#f0f921\"]],\"type\":\"surface\"}],\"table\":[{\"cells\":{\"fill\":{\"color\":\"#EBF0F8\"},\"line\":{\"color\":\"white\"}},\"header\":{\"fill\":{\"color\":\"#C8D4E3\"},\"line\":{\"color\":\"white\"}},\"type\":\"table\"}]},\"layout\":{\"annotationdefaults\":{\"arrowcolor\":\"#2a3f5f\",\"arrowhead\":0,\"arrowwidth\":1},\"autotypenumbers\":\"strict\",\"coloraxis\":{\"colorbar\":{\"outlinewidth\":0,\"ticks\":\"\"}},\"colorscale\":{\"diverging\":[[0,\"#8e0152\"],[0.1,\"#c51b7d\"],[0.2,\"#de77ae\"],[0.3,\"#f1b6da\"],[0.4,\"#fde0ef\"],[0.5,\"#f7f7f7\"],[0.6,\"#e6f5d0\"],[0.7,\"#b8e186\"],[0.8,\"#7fbc41\"],[0.9,\"#4d9221\"],[1,\"#276419\"]],\"sequential\":[[0.0,\"#0d0887\"],[0.1111111111111111,\"#46039f\"],[0.2222222222222222,\"#7201a8\"],[0.3333333333333333,\"#9c179e\"],[0.4444444444444444,\"#bd3786\"],[0.5555555555555556,\"#d8576b\"],[0.6666666666666666,\"#ed7953\"],[0.7777777777777778,\"#fb9f3a\"],[0.8888888888888888,\"#fdca26\"],[1.0,\"#f0f921\"]],\"sequentialminus\":[[0.0,\"#0d0887\"],[0.1111111111111111,\"#46039f\"],[0.2222222222222222,\"#7201a8\"],[0.3333333333333333,\"#9c179e\"],[0.4444444444444444,\"#bd3786\"],[0.5555555555555556,\"#d8576b\"],[0.6666666666666666,\"#ed7953\"],[0.7777777777777778,\"#fb9f3a\"],[0.8888888888888888,\"#fdca26\"],[1.0,\"#f0f921\"]]},\"colorway\":[\"#636efa\",\"#EF553B\",\"#00cc96\",\"#ab63fa\",\"#FFA15A\",\"#19d3f3\",\"#FF6692\",\"#B6E880\",\"#FF97FF\",\"#FECB52\"],\"font\":{\"color\":\"#2a3f5f\"},\"geo\":{\"bgcolor\":\"white\",\"lakecolor\":\"white\",\"landcolor\":\"white\",\"showlakes\":true,\"showland\":true,\"subunitcolor\":\"#C8D4E3\"},\"hoverlabel\":{\"align\":\"left\"},\"hovermode\":\"closest\",\"mapbox\":{\"style\":\"light\"},\"paper_bgcolor\":\"white\",\"plot_bgcolor\":\"white\",\"polar\":{\"angularaxis\":{\"gridcolor\":\"#EBF0F8\",\"linecolor\":\"#EBF0F8\",\"ticks\":\"\"},\"bgcolor\":\"white\",\"radialaxis\":{\"gridcolor\":\"#EBF0F8\",\"linecolor\":\"#EBF0F8\",\"ticks\":\"\"}},\"scene\":{\"xaxis\":{\"backgroundcolor\":\"white\",\"gridcolor\":\"#DFE8F3\",\"gridwidth\":2,\"linecolor\":\"#EBF0F8\",\"showbackground\":true,\"ticks\":\"\",\"zerolinecolor\":\"#EBF0F8\"},\"yaxis\":{\"backgroundcolor\":\"white\",\"gridcolor\":\"#DFE8F3\",\"gridwidth\":2,\"linecolor\":\"#EBF0F8\",\"showbackground\":true,\"ticks\":\"\",\"zerolinecolor\":\"#EBF0F8\"},\"zaxis\":{\"backgroundcolor\":\"white\",\"gridcolor\":\"#DFE8F3\",\"gridwidth\":2,\"linecolor\":\"#EBF0F8\",\"showbackground\":true,\"ticks\":\"\",\"zerolinecolor\":\"#EBF0F8\"}},\"shapedefaults\":{\"line\":{\"color\":\"#2a3f5f\"}},\"ternary\":{\"aaxis\":{\"gridcolor\":\"#DFE8F3\",\"linecolor\":\"#A2B1C6\",\"ticks\":\"\"},\"baxis\":{\"gridcolor\":\"#DFE8F3\",\"linecolor\":\"#A2B1C6\",\"ticks\":\"\"},\"bgcolor\":\"white\",\"caxis\":{\"gridcolor\":\"#DFE8F3\",\"linecolor\":\"#A2B1C6\",\"ticks\":\"\"}},\"title\":{\"x\":0.05},\"xaxis\":{\"automargin\":true,\"gridcolor\":\"#EBF0F8\",\"linecolor\":\"#EBF0F8\",\"ticks\":\"\",\"title\":{\"standoff\":15},\"zerolinecolor\":\"#EBF0F8\",\"zerolinewidth\":2},\"yaxis\":{\"automargin\":true,\"gridcolor\":\"#EBF0F8\",\"linecolor\":\"#EBF0F8\",\"ticks\":\"\",\"title\":{\"standoff\":15},\"zerolinecolor\":\"#EBF0F8\",\"zerolinewidth\":2}}},\"xaxis\":{\"anchor\":\"y\",\"domain\":[0.0,1.0],\"title\":{\"text\":\"Employment income\"},\"tickformat\":\",.0f\",\"tickprefix\":\"\\\\u00a3\"},\"yaxis\":{\"anchor\":\"x\",\"domain\":[0.0,1.0],\"title\":{\"text\":\"Change to annual net income\"},\"tickmode\":\"array\",\"tickvals\":[-10000,-5000,0,5000,10000],\"ticktext\":[\"-\\\\u00a310,000\",\"-\\\\u00a35,000\",\"\\\\u00a30\",\"+\\\\u00a35,000\",\"+\\\\u00a310,000\"],\"range\":[-10000,10000]},\"legend\":{\"title\":{\"text\":\"Policy\"},\"tracegroupgap\":0},\"margin\":{\"t\":60},\"title\":{\"text\":\"Figure 12: Change to annual net income by UBI policy and income (married couple, two children)\"},\"shapes\":[{\"line\":{\"color\":\"grey\",\"width\":1},\"type\":\"line\",\"x0\":0,\"x1\":1,\"xref\":\"paper\",\"y0\":0,\"y1\":0,\"yref\":\"y\"}],\"font\":{\"family\":\"Roboto Serif\",\"color\":\"black\"},\"images\":[{\"sizex\":0.2,\"sizey\":0.2,\"source\":\"https://raw.githubusercontent.com/PolicyEngine/policyengine-app/master/src/images/logos/policyengine/blue.png\",\"x\":1,\"xanchor\":\"right\",\"xref\":\"paper\",\"y\":-0.15,\"yanchor\":\"bottom\",\"yref\":\"paper\"}],\"height\":600,\"width\":800,\"modebar\":{\"bgcolor\":\"rgba(0,0,0,0)\",\"color\":\"rgba(0,0,0,0)\"}}}'"
      ]
     },
     "execution_count": 15,
     "metadata": {},
     "output_type": "execute_result"
    }
   ],
   "source": [
    "plot(H2, title=\"Figure 12: Change to annual net income by UBI policy and income (married couple, two children)\").to_json()"
   ]
  },
  {
   "cell_type": "markdown",
   "metadata": {},
   "source": [
    "For a pensioner couple, one of whom has income,[^11] the net impact of the basic income policies varies significantly with income. For households with income under £100,000, all of the policies leave them better off, primarily because Pension Credit compensates pensioners for any Income Tax rises. The Guarantee Credit element of Pension Credit tops up pensioner incomes to a minimum level, and the post-tax income definition used means that pensioners are guaranteed to be better off: it deducts income tax payments (meaning that it shields from the broad-based tax rises in each policy) and does not include basic income payments. However, after pensioner income rises out of the range in which Guarantee Credit operates (around £12,500), the gains from the UBI policies diminish.\n",
    "\n",
    "[^11]: We plot based on earnings, but net income responds similarly to earnings as State Pension.\n"
   ]
  },
  {
   "cell_type": "code",
   "execution_count": 16,
   "metadata": {
    "tags": [
     "hide-input"
    ]
   },
   "outputs": [
    {
     "data": {
      "text/plain": [
       "'{\"data\":[{\"hovertemplate\":\"Policy=\\\\u00a3200/month<br>Earnings=%{x}<br>Net income=%{y}<extra></extra>\",\"legendgroup\":\"\\\\u00a3200/month\",\"line\":{\"color\":\"#D8E6F3\",\"dash\":\"solid\"},\"marker\":{\"symbol\":\"circle\"},\"mode\":\"lines\",\"name\":\"\\\\u00a3200/month\",\"orientation\":\"v\",\"showlegend\":true,\"x\":[0.0,1040.44580078125,2080.8916015625,3121.33740234375,4161.783203125,5202.22900390625,6242.6748046875,7283.12060546875,8323.56640625,9364.0126953125,10404.4580078125,11444.904296875,12485.349609375,13525.7958984375,14566.2412109375,15606.6875,16647.1328125,17687.578125,18728.025390625,19768.470703125,20808.916015625,21849.361328125,22889.80859375,23930.251953125,24970.69921875,26011.14453125,27051.591796875,28092.03515625,29132.482421875,30172.927734375,31213.375,32253.818359375,33294.265625,34334.7109375,35375.15625,36415.6015625,37456.05078125,38496.49609375,39536.94140625,40577.3828125,41617.83203125,42658.27734375,43698.72265625,44739.16796875,45779.6171875,46820.0625,47860.50390625,48900.94921875,49941.3984375,50981.84375,52022.2890625,53062.73828125,54103.18359375,55143.62890625,56184.0703125,57224.51953125,58264.96484375,59305.41015625,60345.85546875,61386.3046875,62426.75,63467.19140625,64507.63671875,65548.0859375,66588.53125,67628.9765625,68669.421875,69709.8671875,70750.3125,71790.7578125,72831.203125,73871.6484375,74912.1015625,75952.546875,76992.9921875,78033.4375,79073.8828125,80114.328125,81154.765625,82195.2109375,83235.6640625,84276.109375,85316.5546875,86357.0,87397.4453125,88437.890625,89478.3359375,90518.7890625,91559.234375,92599.6796875,93640.125,94680.5703125,95721.0078125,96761.453125,97801.8984375,98842.3515625,99882.796875,100923.2421875,101963.6875,103004.1328125],\"xaxis\":\"x\",\"y\":[4800.0,4800.0,4799.998046875,4800.001953125,4800.0,4800.0,4799.998046875,4800.0,4800.0,4800.001953125,4799.998046875,4800.0,4800.0,4521.0263671875,3985.1064453125,3485.6943359375,3161.6875,3033.6796875,2683.255859375,2332.833984375,1982.4140625,1923.818359375,1894.68359375,1865.552734375,1836.421875,1807.287109375,1778.15625,1749.0234375,1719.892578125,1690.759765625,1661.626953125,1632.49609375,1603.361328125,1574.2265625,1545.095703125,1515.96484375,1486.83203125,1457.69921875,1428.5625,1399.43359375,1370.30078125,1341.16796875,1312.0390625,1282.90234375,1253.76953125,1224.63671875,1195.5078125,1166.375,1137.2421875,1294.578125,1236.3125,1178.046875,1119.78125,1061.515625,1003.25390625,944.98828125,886.7265625,828.45703125,770.1875,711.9296875,653.66015625,595.3984375,537.13671875,478.8671875,420.6015625,362.3359375,304.07421875,245.8046875,187.54296875,129.28125,71.01171875,12.74609375,-45.51953125,-103.78125,-162.046875,-220.3125,-278.578125,-336.84375,-395.109375,-453.37109375,-511.63671875,-569.8984375,-628.16796875,-686.43359375,-744.69921875,-802.9609375,-861.2265625,-919.4921875,-977.7578125,-1036.03125,-1094.2890625,-1152.5546875,-1210.8203125,-1269.0859375,-1327.34375,-1385.609375,-1443.8828125,-1527.9921875,-1615.390625,-1702.796875],\"yaxis\":\"y\",\"type\":\"scatter\"},{\"hovertemplate\":\"Policy=\\\\u00a3300/month<br>Earnings=%{x}<br>Net income=%{y}<extra></extra>\",\"legendgroup\":\"\\\\u00a3300/month\",\"line\":{\"color\":\"#2C6496\",\"dash\":\"solid\"},\"marker\":{\"symbol\":\"circle\"},\"mode\":\"lines\",\"name\":\"\\\\u00a3300/month\",\"orientation\":\"v\",\"showlegend\":true,\"x\":[0.0,1040.44580078125,2080.8916015625,3121.33740234375,4161.783203125,5202.22900390625,6242.6748046875,7283.12060546875,8323.56640625,9364.0126953125,10404.4580078125,11444.904296875,12485.349609375,13525.7958984375,14566.2412109375,15606.6875,16647.1328125,17687.578125,18728.025390625,19768.470703125,20808.916015625,21849.361328125,22889.80859375,23930.251953125,24970.69921875,26011.14453125,27051.591796875,28092.03515625,29132.482421875,30172.927734375,31213.375,32253.818359375,33294.265625,34334.7109375,35375.15625,36415.6015625,37456.05078125,38496.49609375,39536.94140625,40577.3828125,41617.83203125,42658.27734375,43698.72265625,44739.16796875,45779.6171875,46820.0625,47860.50390625,48900.94921875,49941.3984375,50981.84375,52022.2890625,53062.73828125,54103.18359375,55143.62890625,56184.0703125,57224.51953125,58264.96484375,59305.41015625,60345.85546875,61386.3046875,62426.75,63467.19140625,64507.63671875,65548.0859375,66588.53125,67628.9765625,68669.421875,69709.8671875,70750.3125,71790.7578125,72831.203125,73871.6484375,74912.1015625,75952.546875,76992.9921875,78033.4375,79073.8828125,80114.328125,81154.765625,82195.2109375,83235.6640625,84276.109375,85316.5546875,86357.0,87397.4453125,88437.890625,89478.3359375,90518.7890625,91559.234375,92599.6796875,93640.125,94680.5703125,95721.0078125,96761.453125,97801.8984375,98842.3515625,99882.796875,100923.2421875,101963.6875,103004.1328125],\"xaxis\":\"x\",\"y\":[7200.0,7200.0,7200.0,7200.0,7200.0,7200.0,7199.998046875,7200.0,7200.0,7200.001953125,7200.0,7200.0,7200.0,6921.0244140625,6385.1064453125,5885.6943359375,5386.279296875,4776.33984375,4389.009765625,4016.736328125,3644.46484375,3272.1953125,2991.94140625,2926.39453125,2860.84765625,2795.296875,2729.751953125,2664.201171875,2598.654296875,2533.107421875,2467.55859375,2402.01171875,2336.462890625,2270.912109375,2205.3671875,2139.81640625,2074.26953125,2008.72265625,1943.171875,1877.625,1812.078125,1746.52734375,1680.984375,1615.4296875,1549.8828125,1484.3359375,1418.7890625,1353.2421875,1287.6953125,1474.14453125,1408.59375,1343.05078125,1277.5,1211.94921875,1146.40234375,1080.85546875,1015.3125,949.75390625,884.2109375,818.6640625,753.11328125,687.5625,622.0234375,556.46875,490.921875,425.37109375,359.828125,294.27734375,228.73046875,163.18359375,97.6328125,32.08984375,-33.46484375,-99.01171875,-164.5625,-230.109375,-295.65234375,-361.203125,-426.75,-492.296875,-557.84765625,-623.390625,-688.94140625,-754.48828125,-820.0390625,-885.5859375,-951.1328125,-1016.6796875,-1082.2265625,-1147.78125,-1213.328125,-1278.875,-1344.4296875,-1409.9765625,-1475.515625,-1541.0625,-1606.6171875,-1487.515625,-1344.9765625,-1202.4375],\"yaxis\":\"y\",\"type\":\"scatter\"},{\"hovertemplate\":\"Policy=\\\\u00a3400/month<br>Earnings=%{x}<br>Net income=%{y}<extra></extra>\",\"legendgroup\":\"\\\\u00a3400/month\",\"line\":{\"color\":\"#17354F\",\"dash\":\"solid\"},\"marker\":{\"symbol\":\"circle\"},\"mode\":\"lines\",\"name\":\"\\\\u00a3400/month\",\"orientation\":\"v\",\"showlegend\":true,\"x\":[0.0,1040.44580078125,2080.8916015625,3121.33740234375,4161.783203125,5202.22900390625,6242.6748046875,7283.12060546875,8323.56640625,9364.0126953125,10404.4580078125,11444.904296875,12485.349609375,13525.7958984375,14566.2412109375,15606.6875,16647.1328125,17687.578125,18728.025390625,19768.470703125,20808.916015625,21849.361328125,22889.80859375,23930.251953125,24970.69921875,26011.14453125,27051.591796875,28092.03515625,29132.482421875,30172.927734375,31213.375,32253.818359375,33294.265625,34334.7109375,35375.15625,36415.6015625,37456.05078125,38496.49609375,39536.94140625,40577.3828125,41617.83203125,42658.27734375,43698.72265625,44739.16796875,45779.6171875,46820.0625,47860.50390625,48900.94921875,49941.3984375,50981.84375,52022.2890625,53062.73828125,54103.18359375,55143.62890625,56184.0703125,57224.51953125,58264.96484375,59305.41015625,60345.85546875,61386.3046875,62426.75,63467.19140625,64507.63671875,65548.0859375,66588.53125,67628.9765625,68669.421875,69709.8671875,70750.3125,71790.7578125,72831.203125,73871.6484375,74912.1015625,75952.546875,76992.9921875,78033.4375,79073.8828125,80114.328125,81154.765625,82195.2109375,83235.6640625,84276.109375,85316.5546875,86357.0,87397.4453125,88437.890625,89478.3359375,90518.7890625,91559.234375,92599.6796875,93640.125,94680.5703125,95721.0078125,96761.453125,97801.8984375,98842.3515625,99882.796875,100923.2421875,101963.6875,103004.1328125],\"xaxis\":\"x\",\"y\":[9600.0,9599.998046875,9600.0,9600.001953125,9600.0,9599.998046875,9600.001953125,9600.0,9600.0,9599.998046875,9600.0,9600.0,9600.0,9321.0283203125,8785.1083984375,8285.6943359375,7786.27734375,7176.337890625,6343.98046875,5622.044921875,5207.94921875,4793.8515625,4379.75,3965.65625,3587.80859375,3452.55078125,3317.294921875,3182.03515625,3046.779296875,2911.521484375,2776.26171875,2641.005859375,2505.74609375,2370.486328125,2235.23046875,2099.97265625,1964.71484375,1829.45703125,1694.1953125,1558.94140625,1423.6796875,1288.42578125,1153.16796875,1017.90625,882.6484375,747.390625,612.13671875,476.87890625,341.6171875,550.90234375,550.8984375,550.90234375,550.90234375,550.8984375,550.90234375,550.8984375,550.90625,550.89453125,550.90234375,550.90234375,550.8984375,550.8984375,550.90234375,550.8984375,550.90234375,550.8984375,550.90234375,550.8984375,550.8984375,550.90234375,550.8984375,550.90234375,550.8984375,550.90234375,550.8984375,550.8984375,550.90234375,550.8984375,550.8984375,550.90234375,550.8984375,550.90234375,550.8984375,550.90234375,550.8984375,550.8984375,550.90625,550.8984375,550.8984375,550.890625,550.8984375,550.8984375,550.890625,550.8984375,550.8984375,550.90625,550.8984375,735.546875,943.6328125,1151.71875],\"yaxis\":\"y\",\"type\":\"scatter\"}],\"layout\":{\"template\":{\"data\":{\"barpolar\":[{\"marker\":{\"line\":{\"color\":\"white\",\"width\":0.5},\"pattern\":{\"fillmode\":\"overlay\",\"size\":10,\"solidity\":0.2}},\"type\":\"barpolar\"}],\"bar\":[{\"error_x\":{\"color\":\"#2a3f5f\"},\"error_y\":{\"color\":\"#2a3f5f\"},\"marker\":{\"line\":{\"color\":\"white\",\"width\":0.5},\"pattern\":{\"fillmode\":\"overlay\",\"size\":10,\"solidity\":0.2}},\"type\":\"bar\"}],\"carpet\":[{\"aaxis\":{\"endlinecolor\":\"#2a3f5f\",\"gridcolor\":\"#C8D4E3\",\"linecolor\":\"#C8D4E3\",\"minorgridcolor\":\"#C8D4E3\",\"startlinecolor\":\"#2a3f5f\"},\"baxis\":{\"endlinecolor\":\"#2a3f5f\",\"gridcolor\":\"#C8D4E3\",\"linecolor\":\"#C8D4E3\",\"minorgridcolor\":\"#C8D4E3\",\"startlinecolor\":\"#2a3f5f\"},\"type\":\"carpet\"}],\"choropleth\":[{\"colorbar\":{\"outlinewidth\":0,\"ticks\":\"\"},\"type\":\"choropleth\"}],\"contourcarpet\":[{\"colorbar\":{\"outlinewidth\":0,\"ticks\":\"\"},\"type\":\"contourcarpet\"}],\"contour\":[{\"colorbar\":{\"outlinewidth\":0,\"ticks\":\"\"},\"colorscale\":[[0.0,\"#0d0887\"],[0.1111111111111111,\"#46039f\"],[0.2222222222222222,\"#7201a8\"],[0.3333333333333333,\"#9c179e\"],[0.4444444444444444,\"#bd3786\"],[0.5555555555555556,\"#d8576b\"],[0.6666666666666666,\"#ed7953\"],[0.7777777777777778,\"#fb9f3a\"],[0.8888888888888888,\"#fdca26\"],[1.0,\"#f0f921\"]],\"type\":\"contour\"}],\"heatmapgl\":[{\"colorbar\":{\"outlinewidth\":0,\"ticks\":\"\"},\"colorscale\":[[0.0,\"#0d0887\"],[0.1111111111111111,\"#46039f\"],[0.2222222222222222,\"#7201a8\"],[0.3333333333333333,\"#9c179e\"],[0.4444444444444444,\"#bd3786\"],[0.5555555555555556,\"#d8576b\"],[0.6666666666666666,\"#ed7953\"],[0.7777777777777778,\"#fb9f3a\"],[0.8888888888888888,\"#fdca26\"],[1.0,\"#f0f921\"]],\"type\":\"heatmapgl\"}],\"heatmap\":[{\"colorbar\":{\"outlinewidth\":0,\"ticks\":\"\"},\"colorscale\":[[0.0,\"#0d0887\"],[0.1111111111111111,\"#46039f\"],[0.2222222222222222,\"#7201a8\"],[0.3333333333333333,\"#9c179e\"],[0.4444444444444444,\"#bd3786\"],[0.5555555555555556,\"#d8576b\"],[0.6666666666666666,\"#ed7953\"],[0.7777777777777778,\"#fb9f3a\"],[0.8888888888888888,\"#fdca26\"],[1.0,\"#f0f921\"]],\"type\":\"heatmap\"}],\"histogram2dcontour\":[{\"colorbar\":{\"outlinewidth\":0,\"ticks\":\"\"},\"colorscale\":[[0.0,\"#0d0887\"],[0.1111111111111111,\"#46039f\"],[0.2222222222222222,\"#7201a8\"],[0.3333333333333333,\"#9c179e\"],[0.4444444444444444,\"#bd3786\"],[0.5555555555555556,\"#d8576b\"],[0.6666666666666666,\"#ed7953\"],[0.7777777777777778,\"#fb9f3a\"],[0.8888888888888888,\"#fdca26\"],[1.0,\"#f0f921\"]],\"type\":\"histogram2dcontour\"}],\"histogram2d\":[{\"colorbar\":{\"outlinewidth\":0,\"ticks\":\"\"},\"colorscale\":[[0.0,\"#0d0887\"],[0.1111111111111111,\"#46039f\"],[0.2222222222222222,\"#7201a8\"],[0.3333333333333333,\"#9c179e\"],[0.4444444444444444,\"#bd3786\"],[0.5555555555555556,\"#d8576b\"],[0.6666666666666666,\"#ed7953\"],[0.7777777777777778,\"#fb9f3a\"],[0.8888888888888888,\"#fdca26\"],[1.0,\"#f0f921\"]],\"type\":\"histogram2d\"}],\"histogram\":[{\"marker\":{\"pattern\":{\"fillmode\":\"overlay\",\"size\":10,\"solidity\":0.2}},\"type\":\"histogram\"}],\"mesh3d\":[{\"colorbar\":{\"outlinewidth\":0,\"ticks\":\"\"},\"type\":\"mesh3d\"}],\"parcoords\":[{\"line\":{\"colorbar\":{\"outlinewidth\":0,\"ticks\":\"\"}},\"type\":\"parcoords\"}],\"pie\":[{\"automargin\":true,\"type\":\"pie\"}],\"scatter3d\":[{\"line\":{\"colorbar\":{\"outlinewidth\":0,\"ticks\":\"\"}},\"marker\":{\"colorbar\":{\"outlinewidth\":0,\"ticks\":\"\"}},\"type\":\"scatter3d\"}],\"scattercarpet\":[{\"marker\":{\"colorbar\":{\"outlinewidth\":0,\"ticks\":\"\"}},\"type\":\"scattercarpet\"}],\"scattergeo\":[{\"marker\":{\"colorbar\":{\"outlinewidth\":0,\"ticks\":\"\"}},\"type\":\"scattergeo\"}],\"scattergl\":[{\"marker\":{\"colorbar\":{\"outlinewidth\":0,\"ticks\":\"\"}},\"type\":\"scattergl\"}],\"scattermapbox\":[{\"marker\":{\"colorbar\":{\"outlinewidth\":0,\"ticks\":\"\"}},\"type\":\"scattermapbox\"}],\"scatterpolargl\":[{\"marker\":{\"colorbar\":{\"outlinewidth\":0,\"ticks\":\"\"}},\"type\":\"scatterpolargl\"}],\"scatterpolar\":[{\"marker\":{\"colorbar\":{\"outlinewidth\":0,\"ticks\":\"\"}},\"type\":\"scatterpolar\"}],\"scatter\":[{\"fillpattern\":{\"fillmode\":\"overlay\",\"size\":10,\"solidity\":0.2},\"type\":\"scatter\"}],\"scatterternary\":[{\"marker\":{\"colorbar\":{\"outlinewidth\":0,\"ticks\":\"\"}},\"type\":\"scatterternary\"}],\"surface\":[{\"colorbar\":{\"outlinewidth\":0,\"ticks\":\"\"},\"colorscale\":[[0.0,\"#0d0887\"],[0.1111111111111111,\"#46039f\"],[0.2222222222222222,\"#7201a8\"],[0.3333333333333333,\"#9c179e\"],[0.4444444444444444,\"#bd3786\"],[0.5555555555555556,\"#d8576b\"],[0.6666666666666666,\"#ed7953\"],[0.7777777777777778,\"#fb9f3a\"],[0.8888888888888888,\"#fdca26\"],[1.0,\"#f0f921\"]],\"type\":\"surface\"}],\"table\":[{\"cells\":{\"fill\":{\"color\":\"#EBF0F8\"},\"line\":{\"color\":\"white\"}},\"header\":{\"fill\":{\"color\":\"#C8D4E3\"},\"line\":{\"color\":\"white\"}},\"type\":\"table\"}]},\"layout\":{\"annotationdefaults\":{\"arrowcolor\":\"#2a3f5f\",\"arrowhead\":0,\"arrowwidth\":1},\"autotypenumbers\":\"strict\",\"coloraxis\":{\"colorbar\":{\"outlinewidth\":0,\"ticks\":\"\"}},\"colorscale\":{\"diverging\":[[0,\"#8e0152\"],[0.1,\"#c51b7d\"],[0.2,\"#de77ae\"],[0.3,\"#f1b6da\"],[0.4,\"#fde0ef\"],[0.5,\"#f7f7f7\"],[0.6,\"#e6f5d0\"],[0.7,\"#b8e186\"],[0.8,\"#7fbc41\"],[0.9,\"#4d9221\"],[1,\"#276419\"]],\"sequential\":[[0.0,\"#0d0887\"],[0.1111111111111111,\"#46039f\"],[0.2222222222222222,\"#7201a8\"],[0.3333333333333333,\"#9c179e\"],[0.4444444444444444,\"#bd3786\"],[0.5555555555555556,\"#d8576b\"],[0.6666666666666666,\"#ed7953\"],[0.7777777777777778,\"#fb9f3a\"],[0.8888888888888888,\"#fdca26\"],[1.0,\"#f0f921\"]],\"sequentialminus\":[[0.0,\"#0d0887\"],[0.1111111111111111,\"#46039f\"],[0.2222222222222222,\"#7201a8\"],[0.3333333333333333,\"#9c179e\"],[0.4444444444444444,\"#bd3786\"],[0.5555555555555556,\"#d8576b\"],[0.6666666666666666,\"#ed7953\"],[0.7777777777777778,\"#fb9f3a\"],[0.8888888888888888,\"#fdca26\"],[1.0,\"#f0f921\"]]},\"colorway\":[\"#636efa\",\"#EF553B\",\"#00cc96\",\"#ab63fa\",\"#FFA15A\",\"#19d3f3\",\"#FF6692\",\"#B6E880\",\"#FF97FF\",\"#FECB52\"],\"font\":{\"color\":\"#2a3f5f\"},\"geo\":{\"bgcolor\":\"white\",\"lakecolor\":\"white\",\"landcolor\":\"white\",\"showlakes\":true,\"showland\":true,\"subunitcolor\":\"#C8D4E3\"},\"hoverlabel\":{\"align\":\"left\"},\"hovermode\":\"closest\",\"mapbox\":{\"style\":\"light\"},\"paper_bgcolor\":\"white\",\"plot_bgcolor\":\"white\",\"polar\":{\"angularaxis\":{\"gridcolor\":\"#EBF0F8\",\"linecolor\":\"#EBF0F8\",\"ticks\":\"\"},\"bgcolor\":\"white\",\"radialaxis\":{\"gridcolor\":\"#EBF0F8\",\"linecolor\":\"#EBF0F8\",\"ticks\":\"\"}},\"scene\":{\"xaxis\":{\"backgroundcolor\":\"white\",\"gridcolor\":\"#DFE8F3\",\"gridwidth\":2,\"linecolor\":\"#EBF0F8\",\"showbackground\":true,\"ticks\":\"\",\"zerolinecolor\":\"#EBF0F8\"},\"yaxis\":{\"backgroundcolor\":\"white\",\"gridcolor\":\"#DFE8F3\",\"gridwidth\":2,\"linecolor\":\"#EBF0F8\",\"showbackground\":true,\"ticks\":\"\",\"zerolinecolor\":\"#EBF0F8\"},\"zaxis\":{\"backgroundcolor\":\"white\",\"gridcolor\":\"#DFE8F3\",\"gridwidth\":2,\"linecolor\":\"#EBF0F8\",\"showbackground\":true,\"ticks\":\"\",\"zerolinecolor\":\"#EBF0F8\"}},\"shapedefaults\":{\"line\":{\"color\":\"#2a3f5f\"}},\"ternary\":{\"aaxis\":{\"gridcolor\":\"#DFE8F3\",\"linecolor\":\"#A2B1C6\",\"ticks\":\"\"},\"baxis\":{\"gridcolor\":\"#DFE8F3\",\"linecolor\":\"#A2B1C6\",\"ticks\":\"\"},\"bgcolor\":\"white\",\"caxis\":{\"gridcolor\":\"#DFE8F3\",\"linecolor\":\"#A2B1C6\",\"ticks\":\"\"}},\"title\":{\"x\":0.05},\"xaxis\":{\"automargin\":true,\"gridcolor\":\"#EBF0F8\",\"linecolor\":\"#EBF0F8\",\"ticks\":\"\",\"title\":{\"standoff\":15},\"zerolinecolor\":\"#EBF0F8\",\"zerolinewidth\":2},\"yaxis\":{\"automargin\":true,\"gridcolor\":\"#EBF0F8\",\"linecolor\":\"#EBF0F8\",\"ticks\":\"\",\"title\":{\"standoff\":15},\"zerolinecolor\":\"#EBF0F8\",\"zerolinewidth\":2}}},\"xaxis\":{\"anchor\":\"y\",\"domain\":[0.0,1.0],\"title\":{\"text\":\"Employment income\"},\"tickformat\":\",.0f\",\"tickprefix\":\"\\\\u00a3\"},\"yaxis\":{\"anchor\":\"x\",\"domain\":[0.0,1.0],\"title\":{\"text\":\"Change to annual net income\"},\"tickmode\":\"array\",\"tickvals\":[-10000,-5000,0,5000,10000],\"ticktext\":[\"-\\\\u00a310,000\",\"-\\\\u00a35,000\",\"\\\\u00a30\",\"+\\\\u00a35,000\",\"+\\\\u00a310,000\"],\"range\":[-10000,10000]},\"legend\":{\"title\":{\"text\":\"Policy\"},\"tracegroupgap\":0},\"margin\":{\"t\":60},\"title\":{\"text\":\"Figure 13: Change to annual net income by UBI policy and income (pensioner couple, no children)\"},\"shapes\":[{\"line\":{\"color\":\"grey\",\"width\":1},\"type\":\"line\",\"x0\":0,\"x1\":1,\"xref\":\"paper\",\"y0\":0,\"y1\":0,\"yref\":\"y\"}],\"font\":{\"family\":\"Roboto Serif\",\"color\":\"black\"},\"images\":[{\"sizex\":0.2,\"sizey\":0.2,\"source\":\"https://raw.githubusercontent.com/PolicyEngine/policyengine-app/master/src/images/logos/policyengine/blue.png\",\"x\":1,\"xanchor\":\"right\",\"xref\":\"paper\",\"y\":-0.15,\"yanchor\":\"bottom\",\"yref\":\"paper\"}],\"height\":600,\"width\":800,\"modebar\":{\"bgcolor\":\"rgba(0,0,0,0)\",\"color\":\"rgba(0,0,0,0)\"}}}'"
      ]
     },
     "execution_count": 16,
     "metadata": {},
     "output_type": "execute_result"
    }
   ],
   "source": [
    "plot(H3, title=\"Figure 13: Change to annual net income by UBI policy and income (pensioner couple, no children)\").to_json()"
   ]
  },
  {
   "cell_type": "markdown",
   "metadata": {},
   "source": [
    "### Marginal tax rates\n",
    "\n",
    "The marginal tax rate (MTR) represents the portion of an additional pound of earnings that does not add to net income. This occurs either because it is taken as tax or results in reduced benefit entitlements. For instance, if someone has a 20% MTR due to taxes and another 15% MTR from reduced benefits, the total MTR would be 35%. In this scenario, the individual would keep 65 pence out of each additional pound earned.\n",
    "\n",
    "Figure 14 displays the Marginal Tax Rate (MTR) at various earnings levels for a married couple with two children.[^12] A higher line at a given income level indicates a diminished incentive to work. When the MTR is 100%, earning an additional pound has no impact on net income. An MTR above 100% means that earning more actually reduces net income. The UBI policies' impact on MTR varies: at certain income levels, they lower MTRs; at others, they raise them. Generally, MTRs tend to go up, though there are specific income ranges where they decrease.\n",
    "\n",
    "The first such range is at £50,270, which is the higher rate threshold. Under current rules, the Marriage Allowance allows couples to transfer 10% of their personal allowance between them, reducing their tax liability. This benefit is lost when one partner's income surpasses the higher rate threshold, leading to a sharp increase in tax liability and creating an MTR 'cliff' over 100%. All examined UBI policies mitigate this issue by either reducing or eliminating the personal allowance.\n",
    "\n",
    "The second notable income range starts at £100,000. According to the baseline policy, the personal allowance begins to phase out at this level, diminishing by 50p for each pound earned above this threshold. The £300 and £400 per month UBI policies remove this phase-out by reducing or eliminating the personal allowance, which in turn lowers the MTR by 20 percentage points.\n",
    "\n",
    "In summary, all analysed policies generally increase MTRs, thereby reducing work incentives relative to the current system. However, they also remove specific high MTRs that exist in the current tax code.\n",
    "\n",
    "[^12]: We focus on the MTR for a married couple with two children because the differences between baseline and reform don't depend much on household structure.\n"
   ]
  },
  {
   "cell_type": "code",
   "execution_count": 17,
   "metadata": {
    "tags": [
     "hide-input"
    ]
   },
   "outputs": [],
   "source": [
    "import plotly.express as px\n",
    "from policyengine_uk import Simulation\n",
    "import pandas as pd\n",
    "\n",
    "SINGLE_NO_CHILDREN = {\n",
    "    \"people\": {\n",
    "        \"adult\": {\n",
    "            \"age\": 25,\n",
    "        }\n",
    "    },\n",
    "    \"benunits\": {\n",
    "        \"benunit\": {\n",
    "            \"members\": [\"adult\"],\n",
    "            \"claims_legacy_benefits\": False,\n",
    "            \"claims_all_entitled_benefits\": True,\n",
    "        }\n",
    "    },\n",
    "    \"households\": {\n",
    "        \"household\": {\n",
    "            \"members\": [\"adult\"],\n",
    "            \"would_evade_tv_licence_fee\": False,\n",
    "            \"household_owns_tv\": True,\n",
    "        }\n",
    "    },\n",
    "    \"axes\": [[{\n",
    "        \"name\": \"employment_income\",\n",
    "        \"min\": 0,\n",
    "        \"max\": 150_000,\n",
    "        \"count\": 100,\n",
    "    }]],\n",
    "}\n",
    "\n",
    "MARRIED_TWO_CHILDREN = {\n",
    "    \"people\": {\n",
    "        \"adult_1\": {\n",
    "            \"age\": 31,\n",
    "        },\n",
    "        \"adult_2\": {\n",
    "            \"age\": 30,\n",
    "        },\n",
    "        \"child_1\": {\n",
    "            \"age\": 4,\n",
    "        },\n",
    "        \"child_2\": {\n",
    "            \"age\": 6,\n",
    "        },\n",
    "    },\n",
    "    \"benunits\": {\n",
    "        \"benunit\": {\n",
    "            \"members\": [\"adult_1\", \"adult_2\", \"child_1\", \"child_2\"],\n",
    "            \"claims_legacy_benefits\": False,\n",
    "            \"claims_all_entitled_benefits\": True,\n",
    "        }\n",
    "    },\n",
    "    \"households\": {\n",
    "        \"household\": {\n",
    "            \"members\": [\"adult_1\", \"adult_2\", \"child_1\", \"child_2\"],\n",
    "            \"would_evade_tv_licence_fee\": False,\n",
    "            \"household_owns_tv\": True,\n",
    "        }\n",
    "    },\n",
    "    \"axes\": [[{\n",
    "        \"name\": \"employment_income\",\n",
    "        \"min\": 0,\n",
    "        \"max\": 150_000,\n",
    "        \"count\": 100,\n",
    "    }]],\n",
    "}\n",
    "\n",
    "PENSIONER_COUPLE_NO_CHILDREN = {\n",
    "    \"people\": {\n",
    "        \"adult_1\": {\n",
    "            \"age\": 70,\n",
    "        },\n",
    "        \"adult_2\": {\n",
    "            \"age\": 71,\n",
    "        }\n",
    "    },\n",
    "    \"benunits\": {\n",
    "        \"benunit\": {\n",
    "            \"members\": [\"adult_1\", \"adult_2\"],\n",
    "            \"claims_legacy_benefits\": False,\n",
    "            \"claims_all_entitled_benefits\": True,\n",
    "        }\n",
    "    },\n",
    "    \"households\": {\n",
    "        \"household\": {\n",
    "            \"members\": [\"adult_1\", \"adult_2\"],\n",
    "            \"would_evade_tv_licence_fee\": False,\n",
    "            \"household_owns_tv\": True,\n",
    "        }\n",
    "    },\n",
    "    \"axes\": [[{\n",
    "        \"name\": \"employment_income\",\n",
    "        \"min\": 0,\n",
    "        \"max\": 150_000,\n",
    "        \"count\": 100,\n",
    "    }]],\n",
    "}\n",
    "dfs = []\n",
    "for reform, policy_name in zip([None, model_1_reform, model_2_reform, model_3_reform], [\"Baseline\", \"£200/month\", \"£300/month\", \"£400/month\"]):\n",
    "    for household_type, household_name in zip(\n",
    "        [SINGLE_NO_CHILDREN, MARRIED_TWO_CHILDREN, PENSIONER_COUPLE_NO_CHILDREN],\n",
    "        [\"Single adult, no children\", \"Married couple, two children\", \"Pensioner couple, no children\"],\n",
    "    ):\n",
    "        baseline_sim = Simulation(situation=household_type)\n",
    "        sim = Simulation(situation=household_type, reform=reform)\n",
    "        mtr = sim.calculate(\"marginal_tax_rate\", 2023)\n",
    "        mtr = mtr.reshape((100, -1)).T[0]\n",
    "        earnings = sim.calculate(\"employment_income\", map_to=\"household\", period=2023)\n",
    "        df = pd.DataFrame({\"Policy\": policy_name, \"Marginal tax rate\": mtr, \"Earnings\": earnings, \"Household type\": household_name})\n",
    "        dfs.append(df)\n",
    "\n",
    "mtr_df = pd.concat(dfs)"
   ]
  },
  {
   "cell_type": "code",
   "execution_count": 18,
   "metadata": {
    "tags": [
     "hide-input"
    ]
   },
   "outputs": [
    {
     "data": {
      "text/plain": [
       "'{\"data\":[{\"hovertemplate\":\"Policy=Baseline<br>Earnings=%{x}<br>Marginal tax rate=%{y}<extra></extra>\",\"legendgroup\":\"Baseline\",\"line\":{\"color\":\"#616161\",\"dash\":\"solid\",\"shape\":\"hv\"},\"marker\":{\"symbol\":\"circle\"},\"mode\":\"lines\",\"name\":\"Baseline\",\"orientation\":\"v\",\"showlegend\":true,\"x\":[0.0,1560.668701171875,3121.33740234375,4682.00634765625,6242.6748046875,7803.34375,9364.0126953125,10924.6806640625,12485.349609375,14046.017578125,15606.6875,17167.35546875,18728.025390625,20288.69140625,21849.361328125,23410.03125,24970.69921875,26531.369140625,28092.03515625,29652.705078125,31213.375,32774.04296875,34334.7109375,35895.37890625,37456.05078125,39016.71875,40577.3828125,42138.0546875,43698.72265625,45259.39453125,46820.0625,48380.7265625,49941.3984375,51502.06640625,53062.73828125,54623.40625,56184.0703125,57744.7421875,59305.41015625,60866.08203125,62426.75,63987.4140625,65548.0859375,67108.7578125,68669.421875,70230.09375,71790.7578125,73351.4296875,74912.1015625,76472.765625,78033.4375,79594.1015625,81154.765625,82715.4453125,84276.109375,85836.78125,87397.4453125,88958.109375,90518.7890625,92079.453125,93640.125,95200.7890625,96761.453125,98322.1328125,99882.796875,101443.46875,103004.1328125,104564.796875,106125.4765625,107686.140625,109246.8125,110807.4765625,112368.140625,113928.8203125,115489.484375,117050.15625,118610.8203125,120171.484375,121732.1640625,123292.828125,124853.5,126414.1640625,127974.828125,129535.5078125,131096.171875,132656.828125,134217.515625,135778.1875,137338.84375,138899.515625,140460.1875,142020.84375,143581.515625,145142.1875,146702.859375,148263.515625,149824.203125,151384.875,152945.53125,154506.203125],\"xaxis\":\"x\",\"y\":[0.0,9.5367431640625e-07,0.0,0.0,0.20166993141174316,0.550000011920929,0.550000011920929,0.550000011920929,0.5994316339492798,0.6940000057220459,0.6940000057220459,0.6940000057220459,0.6940000057220459,0.6940000057220459,0.6940000057220459,0.6940000057220459,0.6940000057220459,0.6940019130706787,0.6940000057220459,0.6939980387687683,0.6940000057220459,0.6940000057220459,0.6940000057220459,0.5045703053474426,0.3199999928474426,0.3199999928474426,0.3199999928474426,0.3199999928474426,0.3199999928474426,0.3199999928474426,0.3199999928474426,0.3199999928474426,0.8249843716621399,0.6209999918937683,0.6209999918937683,0.6210038661956787,0.6210038661956787,0.6209999918937683,0.5634297132492065,0.4325000047683716,0.4325000047683716,0.4325000047683716,0.4325000047683716,0.4325000047683716,0.4325000047683716,0.4325000047683716,0.4324960708618164,0.4325000047683716,0.4325000047683716,0.4325000047683716,0.4325000047683716,0.432503879070282,0.4325000047683716,0.4325000047683716,0.4325000047683716,0.4325000047683716,0.4324960708618164,0.4325000047683716,0.4325000047683716,0.4325000047683716,0.4325000047683716,0.4325000047683716,0.4325000047683716,0.43250781297683716,0.6090624928474426,0.6324999928474426,0.6325078010559082,0.6324999928474426,0.6324999928474426,0.6324999928474426,0.6324999928474426,0.6324999928474426,0.632492184638977,0.6324999928474426,0.6324999928474426,0.6324999928474426,0.6324999928474426,0.6324999928474426,0.6324999928474426,0.6324999928474426,0.5254765748977661,0.48250001668930054,0.48250001668930054,0.48250001668930054,0.48250001668930054,0.4825078248977661,0.48250001668930054,0.48250001668930054,0.48250001668930054,0.48250001668930054,0.48250001668930054,0.48250001668930054,0.48250001668930054,0.48250001668930054,0.4825078248977661,0.48250001668930054,0.48250001668930054,0.48250001668930054,0.48250001668930054,0.48250001668930054],\"yaxis\":\"y\",\"type\":\"scatter\"},{\"hovertemplate\":\"Policy=\\\\u00a3200/month<br>Earnings=%{x}<br>Marginal tax rate=%{y}<extra></extra>\",\"legendgroup\":\"\\\\u00a3200/month\",\"line\":{\"color\":\"#D8E6F3\",\"dash\":\"solid\",\"shape\":\"hv\"},\"marker\":{\"symbol\":\"circle\"},\"mode\":\"lines\",\"name\":\"\\\\u00a3200/month\",\"orientation\":\"v\",\"showlegend\":true,\"x\":[0.0,1560.668701171875,3121.33740234375,4682.00634765625,6242.6748046875,7803.34375,9364.0126953125,10924.6806640625,12485.349609375,14046.017578125,15606.6875,17167.35546875,18728.025390625,20288.69140625,21849.361328125,23410.03125,24970.69921875,26531.369140625,28092.03515625,29652.705078125,31213.375,32774.04296875,34334.7109375,35895.37890625,37456.05078125,39016.71875,40577.3828125,42138.0546875,43698.72265625,45259.39453125,46820.0625,48380.7265625,49941.3984375,51502.06640625,53062.73828125,54623.40625,56184.0703125,57744.7421875,59305.41015625,60866.08203125,62426.75,63987.4140625,65548.0859375,67108.7578125,68669.421875,70230.09375,71790.7578125,73351.4296875,74912.1015625,76472.765625,78033.4375,79594.1015625,81154.765625,82715.4453125,84276.109375,85836.78125,87397.4453125,88958.109375,90518.7890625,92079.453125,93640.125,95200.7890625,96761.453125,98322.1328125,99882.796875,101443.46875,103004.1328125,104564.796875,106125.4765625,107686.140625,109246.8125,110807.4765625,112368.140625,113928.8203125,115489.484375,117050.15625,118610.8203125,120171.484375,121732.1640625,123292.828125,124853.5,126414.1640625,127974.828125,129535.5078125,131096.171875,132656.828125,134217.515625,135778.1875,137338.84375,138899.515625,140460.1875,142020.84375,143581.515625,145142.1875,146702.859375,148263.515625,149824.203125,151384.875,152945.53125,154506.203125],\"xaxis\":\"x\",\"y\":[0.0,0.08223241567611694,0.2279999852180481,0.2279999852180481,0.2279999852180481,0.45997852087020874,0.6525976657867432,0.6526015996932983,0.7020312547683716,0.7065995931625366,0.7065995931625366,0.7065976858139038,0.7066015601158142,0.7066015601158142,0.7065976858139038,0.7065976858139038,0.7066015601158142,0.7066015601158142,0.7065995931625366,0.7065995931625366,0.7065976858139038,0.7065976858139038,0.7066015601158142,0.7066015601158142,0.7065976858139038,0.7066015601158142,0.6518124938011169,0.3479999899864197,0.3479999899864197,0.3479999899864197,0.3479999899864197,0.3479999899864197,0.6653828024864197,0.6769999861717224,0.6769999861717224,0.6769999861717224,0.6769999861717224,0.6770039200782776,0.6194297075271606,0.48850393295288086,0.4884999990463257,0.48850393295288086,0.4884999990463257,0.48850393295288086,0.4884999990463257,0.48850393295288086,0.4884999990463257,0.48850393295288086,0.4884999990463257,0.48850393295288086,0.4884999990463257,0.4884999990463257,0.4884960651397705,0.48850393295288086,0.4884999990463257,0.4884999990463257,0.4884999990463257,0.4884999990463257,0.4884999990463257,0.4884999990463257,0.4884999990463257,0.4884999990463257,0.48850393295288086,0.4884999990463257,0.689773440361023,0.7165077924728394,0.7155547142028809,0.4884999990463257,0.4884999990463257,0.4884999990463257,0.4884999990463257,0.4884999990463257,0.4884999990463257,0.4884999990463257,0.4884999990463257,0.4884999990463257,0.4884921908378601,0.4884999990463257,0.48850780725479126,0.4884999990463257,0.5241796970367432,0.5385000109672546,0.5385000109672546,0.5384922027587891,0.5385000109672546,0.5385078191757202,0.5385000109672546,0.5385000109672546,0.5385000109672546,0.5385000109672546,0.5385000109672546,0.5385000109672546,0.5385000109672546,0.5385000109672546,0.5385000109672546,0.5384922027587891,0.5385000109672546,0.5385000109672546,0.5385000109672546,0.5385000109672546],\"yaxis\":\"y\",\"type\":\"scatter\"},{\"hovertemplate\":\"Policy=\\\\u00a3300/month<br>Earnings=%{x}<br>Marginal tax rate=%{y}<extra></extra>\",\"legendgroup\":\"\\\\u00a3300/month\",\"line\":{\"color\":\"#2C6496\",\"dash\":\"solid\",\"shape\":\"hv\"},\"marker\":{\"symbol\":\"circle\"},\"mode\":\"lines\",\"name\":\"\\\\u00a3300/month\",\"orientation\":\"v\",\"showlegend\":true,\"x\":[0.0,1560.668701171875,3121.33740234375,4682.00634765625,6242.6748046875,7803.34375,9364.0126953125,10924.6806640625,12485.349609375,14046.017578125,15606.6875,17167.35546875,18728.025390625,20288.69140625,21849.361328125,23410.03125,24970.69921875,26531.369140625,28092.03515625,29652.705078125,31213.375,32774.04296875,34334.7109375,35895.37890625,37456.05078125,39016.71875,40577.3828125,42138.0546875,43698.72265625,45259.39453125,46820.0625,48380.7265625,49941.3984375,51502.06640625,53062.73828125,54623.40625,56184.0703125,57744.7421875,59305.41015625,60866.08203125,62426.75,63987.4140625,65548.0859375,67108.7578125,68669.421875,70230.09375,71790.7578125,73351.4296875,74912.1015625,76472.765625,78033.4375,79594.1015625,81154.765625,82715.4453125,84276.109375,85836.78125,87397.4453125,88958.109375,90518.7890625,92079.453125,93640.125,95200.7890625,96761.453125,98322.1328125,99882.796875,101443.46875,103004.1328125,104564.796875,106125.4765625,107686.140625,109246.8125,110807.4765625,112368.140625,113928.8203125,115489.484375,117050.15625,118610.8203125,120171.484375,121732.1640625,123292.828125,124853.5,126414.1640625,127974.828125,129535.5078125,131096.171875,132656.828125,134217.515625,135778.1875,137338.84375,138899.515625,140460.1875,142020.84375,143581.515625,145142.1875,146702.859375,148263.515625,149824.203125,151384.875,152945.53125,154506.203125],\"xaxis\":\"x\",\"y\":[0.2630000114440918,0.2630000114440918,0.2630000114440918,0.2630000114440918,0.2630000114440918,0.2630000114440918,0.6683515310287476,0.6683515310287476,0.7177812457084656,0.722347617149353,0.722347617149353,0.722347617149353,0.7223515510559082,0.7223515510559082,0.7223515510559082,0.722347617149353,0.7223515510559082,0.7223437428474426,0.7223515510559082,0.7223515510559082,0.7223515510559082,0.7223515510559082,0.7223515510559082,0.722347617149353,0.7223515510559082,0.722347617149353,0.7223515510559082,0.7223515510559082,0.684581995010376,0.3830000162124634,0.3830000162124634,0.3830000162124634,0.635980486869812,0.6840000152587891,0.6840000152587891,0.6840039491653442,0.6840000152587891,0.6840000152587891,0.6264296770095825,0.49550390243530273,0.49550002813339233,0.49550390243530273,0.49550002813339233,0.49550002813339233,0.49550002813339233,0.49550390243530273,0.49550002813339233,0.49550002813339233,0.49550002813339233,0.49550002813339233,0.49550002813339233,0.49550002813339233,0.49550002813339233,0.49550002813339233,0.49550002813339233,0.49550002813339233,0.49550002813339233,0.49550002813339233,0.49550390243530273,0.49549609422683716,0.49550002813339233,0.49550002813339233,0.49550390243530273,0.49550002813339233,0.49549609422683716,0.4955078363418579,0.49550002813339233,0.49550002813339233,0.49550002813339233,0.49550002813339233,0.49550002813339233,0.49550002813339233,0.49550002813339233,0.49550002813339233,0.49550002813339233,0.49550002813339233,0.49550002813339233,0.49550002813339233,0.4955156445503235,0.49550002813339233,0.5311719179153442,0.5455000400543213,0.5455000400543213,0.5455000400543213,0.5455000400543213,0.5455077886581421,0.5455000400543213,0.5455000400543213,0.5455000400543213,0.5455000400543213,0.5455000400543213,0.5455000400543213,0.5455077886581421,0.5455000400543213,0.5455000400543213,0.5454921722412109,0.5455000400543213,0.5454921722412109,0.5455000400543213,0.5455000400543213],\"yaxis\":\"y\",\"type\":\"scatter\"},{\"hovertemplate\":\"Policy=\\\\u00a3400/month<br>Earnings=%{x}<br>Marginal tax rate=%{y}<extra></extra>\",\"legendgroup\":\"\\\\u00a3400/month\",\"line\":{\"color\":\"#17354F\",\"dash\":\"solid\",\"shape\":\"hv\"},\"marker\":{\"symbol\":\"circle\"},\"mode\":\"lines\",\"name\":\"\\\\u00a3400/month\",\"orientation\":\"v\",\"showlegend\":true,\"x\":[0.0,1560.668701171875,3121.33740234375,4682.00634765625,6242.6748046875,7803.34375,9364.0126953125,10924.6806640625,12485.349609375,14046.017578125,15606.6875,17167.35546875,18728.025390625,20288.69140625,21849.361328125,23410.03125,24970.69921875,26531.369140625,28092.03515625,29652.705078125,31213.375,32774.04296875,34334.7109375,35895.37890625,37456.05078125,39016.71875,40577.3828125,42138.0546875,43698.72265625,45259.39453125,46820.0625,48380.7265625,49941.3984375,51502.06640625,53062.73828125,54623.40625,56184.0703125,57744.7421875,59305.41015625,60866.08203125,62426.75,63987.4140625,65548.0859375,67108.7578125,68669.421875,70230.09375,71790.7578125,73351.4296875,74912.1015625,76472.765625,78033.4375,79594.1015625,81154.765625,82715.4453125,84276.109375,85836.78125,87397.4453125,88958.109375,90518.7890625,92079.453125,93640.125,95200.7890625,96761.453125,98322.1328125,99882.796875,101443.46875,103004.1328125,104564.796875,106125.4765625,107686.140625,109246.8125,110807.4765625,112368.140625,113928.8203125,115489.484375,117050.15625,118610.8203125,120171.484375,121732.1640625,123292.828125,124853.5,126414.1640625,127974.828125,129535.5078125,131096.171875,132656.828125,134217.515625,135778.1875,137338.84375,138899.515625,140460.1875,142020.84375,143581.515625,145142.1875,146702.859375,148263.515625,149824.203125,151384.875,152945.53125,154506.203125],\"xaxis\":\"x\",\"y\":[0.32999998331069946,0.32999998331069946,0.32999998331069946,0.32999998331069946,0.32999998331069946,0.32999998331069946,0.3673398494720459,0.6985000371932983,0.7479315996170044,0.7524999976158142,0.7524999976158142,0.7524999976158142,0.7524999976158142,0.7524999976158142,0.7524999976158142,0.7524999976158142,0.7524961233139038,0.7524999976158142,0.7524999976158142,0.7525038719177246,0.7524999976158142,0.7524999976158142,0.7524999976158142,0.7524999976158142,0.7524999976158142,0.7524999976158142,0.7524999976158142,0.7524999976158142,0.7524999976158142,0.7524999976158142,0.7524999976158142,0.7524999976158142,0.639171838760376,0.6210038661956787,0.6210078001022339,0.6209999918937683,0.6209999918937683,0.6209999918937683,0.5634297132492065,0.4325000047683716,0.4325000047683716,0.4325000047683716,0.4325000047683716,0.432503879070282,0.4325000047683716,0.432503879070282,0.4325000047683716,0.4325000047683716,0.4325000047683716,0.4325000047683716,0.4325000047683716,0.4325000047683716,0.4325000047683716,0.432503879070282,0.4325000047683716,0.4325000047683716,0.4324960708618164,0.432503879070282,0.4325000047683716,0.4325000047683716,0.4325000047683716,0.4325000047683716,0.432503879070282,0.4325000047683716,0.432492196559906,0.4325000047683716,0.4325000047683716,0.4325000047683716,0.4325000047683716,0.4325000047683716,0.43250781297683716,0.432492196559906,0.4325000047683716,0.4325000047683716,0.4325000047683716,0.4325000047683716,0.43250781297683716,0.4325000047683716,0.4325000047683716,0.4325000047683716,0.4681718945503235,0.48250001668930054,0.48250001668930054,0.48249220848083496,0.48250001668930054,0.4825078248977661,0.4825078248977661,0.48249220848083496,0.48250001668930054,0.48250001668930054,0.48250001668930054,0.48250001668930054,0.48250001668930054,0.4825078248977661,0.48250001668930054,0.48249220848083496,0.4825078248977661,0.48249220848083496,0.48250001668930054,0.48250001668930054],\"yaxis\":\"y\",\"type\":\"scatter\"}],\"layout\":{\"template\":{\"data\":{\"barpolar\":[{\"marker\":{\"line\":{\"color\":\"white\",\"width\":0.5},\"pattern\":{\"fillmode\":\"overlay\",\"size\":10,\"solidity\":0.2}},\"type\":\"barpolar\"}],\"bar\":[{\"error_x\":{\"color\":\"#2a3f5f\"},\"error_y\":{\"color\":\"#2a3f5f\"},\"marker\":{\"line\":{\"color\":\"white\",\"width\":0.5},\"pattern\":{\"fillmode\":\"overlay\",\"size\":10,\"solidity\":0.2}},\"type\":\"bar\"}],\"carpet\":[{\"aaxis\":{\"endlinecolor\":\"#2a3f5f\",\"gridcolor\":\"#C8D4E3\",\"linecolor\":\"#C8D4E3\",\"minorgridcolor\":\"#C8D4E3\",\"startlinecolor\":\"#2a3f5f\"},\"baxis\":{\"endlinecolor\":\"#2a3f5f\",\"gridcolor\":\"#C8D4E3\",\"linecolor\":\"#C8D4E3\",\"minorgridcolor\":\"#C8D4E3\",\"startlinecolor\":\"#2a3f5f\"},\"type\":\"carpet\"}],\"choropleth\":[{\"colorbar\":{\"outlinewidth\":0,\"ticks\":\"\"},\"type\":\"choropleth\"}],\"contourcarpet\":[{\"colorbar\":{\"outlinewidth\":0,\"ticks\":\"\"},\"type\":\"contourcarpet\"}],\"contour\":[{\"colorbar\":{\"outlinewidth\":0,\"ticks\":\"\"},\"colorscale\":[[0.0,\"#0d0887\"],[0.1111111111111111,\"#46039f\"],[0.2222222222222222,\"#7201a8\"],[0.3333333333333333,\"#9c179e\"],[0.4444444444444444,\"#bd3786\"],[0.5555555555555556,\"#d8576b\"],[0.6666666666666666,\"#ed7953\"],[0.7777777777777778,\"#fb9f3a\"],[0.8888888888888888,\"#fdca26\"],[1.0,\"#f0f921\"]],\"type\":\"contour\"}],\"heatmapgl\":[{\"colorbar\":{\"outlinewidth\":0,\"ticks\":\"\"},\"colorscale\":[[0.0,\"#0d0887\"],[0.1111111111111111,\"#46039f\"],[0.2222222222222222,\"#7201a8\"],[0.3333333333333333,\"#9c179e\"],[0.4444444444444444,\"#bd3786\"],[0.5555555555555556,\"#d8576b\"],[0.6666666666666666,\"#ed7953\"],[0.7777777777777778,\"#fb9f3a\"],[0.8888888888888888,\"#fdca26\"],[1.0,\"#f0f921\"]],\"type\":\"heatmapgl\"}],\"heatmap\":[{\"colorbar\":{\"outlinewidth\":0,\"ticks\":\"\"},\"colorscale\":[[0.0,\"#0d0887\"],[0.1111111111111111,\"#46039f\"],[0.2222222222222222,\"#7201a8\"],[0.3333333333333333,\"#9c179e\"],[0.4444444444444444,\"#bd3786\"],[0.5555555555555556,\"#d8576b\"],[0.6666666666666666,\"#ed7953\"],[0.7777777777777778,\"#fb9f3a\"],[0.8888888888888888,\"#fdca26\"],[1.0,\"#f0f921\"]],\"type\":\"heatmap\"}],\"histogram2dcontour\":[{\"colorbar\":{\"outlinewidth\":0,\"ticks\":\"\"},\"colorscale\":[[0.0,\"#0d0887\"],[0.1111111111111111,\"#46039f\"],[0.2222222222222222,\"#7201a8\"],[0.3333333333333333,\"#9c179e\"],[0.4444444444444444,\"#bd3786\"],[0.5555555555555556,\"#d8576b\"],[0.6666666666666666,\"#ed7953\"],[0.7777777777777778,\"#fb9f3a\"],[0.8888888888888888,\"#fdca26\"],[1.0,\"#f0f921\"]],\"type\":\"histogram2dcontour\"}],\"histogram2d\":[{\"colorbar\":{\"outlinewidth\":0,\"ticks\":\"\"},\"colorscale\":[[0.0,\"#0d0887\"],[0.1111111111111111,\"#46039f\"],[0.2222222222222222,\"#7201a8\"],[0.3333333333333333,\"#9c179e\"],[0.4444444444444444,\"#bd3786\"],[0.5555555555555556,\"#d8576b\"],[0.6666666666666666,\"#ed7953\"],[0.7777777777777778,\"#fb9f3a\"],[0.8888888888888888,\"#fdca26\"],[1.0,\"#f0f921\"]],\"type\":\"histogram2d\"}],\"histogram\":[{\"marker\":{\"pattern\":{\"fillmode\":\"overlay\",\"size\":10,\"solidity\":0.2}},\"type\":\"histogram\"}],\"mesh3d\":[{\"colorbar\":{\"outlinewidth\":0,\"ticks\":\"\"},\"type\":\"mesh3d\"}],\"parcoords\":[{\"line\":{\"colorbar\":{\"outlinewidth\":0,\"ticks\":\"\"}},\"type\":\"parcoords\"}],\"pie\":[{\"automargin\":true,\"type\":\"pie\"}],\"scatter3d\":[{\"line\":{\"colorbar\":{\"outlinewidth\":0,\"ticks\":\"\"}},\"marker\":{\"colorbar\":{\"outlinewidth\":0,\"ticks\":\"\"}},\"type\":\"scatter3d\"}],\"scattercarpet\":[{\"marker\":{\"colorbar\":{\"outlinewidth\":0,\"ticks\":\"\"}},\"type\":\"scattercarpet\"}],\"scattergeo\":[{\"marker\":{\"colorbar\":{\"outlinewidth\":0,\"ticks\":\"\"}},\"type\":\"scattergeo\"}],\"scattergl\":[{\"marker\":{\"colorbar\":{\"outlinewidth\":0,\"ticks\":\"\"}},\"type\":\"scattergl\"}],\"scattermapbox\":[{\"marker\":{\"colorbar\":{\"outlinewidth\":0,\"ticks\":\"\"}},\"type\":\"scattermapbox\"}],\"scatterpolargl\":[{\"marker\":{\"colorbar\":{\"outlinewidth\":0,\"ticks\":\"\"}},\"type\":\"scatterpolargl\"}],\"scatterpolar\":[{\"marker\":{\"colorbar\":{\"outlinewidth\":0,\"ticks\":\"\"}},\"type\":\"scatterpolar\"}],\"scatter\":[{\"fillpattern\":{\"fillmode\":\"overlay\",\"size\":10,\"solidity\":0.2},\"type\":\"scatter\"}],\"scatterternary\":[{\"marker\":{\"colorbar\":{\"outlinewidth\":0,\"ticks\":\"\"}},\"type\":\"scatterternary\"}],\"surface\":[{\"colorbar\":{\"outlinewidth\":0,\"ticks\":\"\"},\"colorscale\":[[0.0,\"#0d0887\"],[0.1111111111111111,\"#46039f\"],[0.2222222222222222,\"#7201a8\"],[0.3333333333333333,\"#9c179e\"],[0.4444444444444444,\"#bd3786\"],[0.5555555555555556,\"#d8576b\"],[0.6666666666666666,\"#ed7953\"],[0.7777777777777778,\"#fb9f3a\"],[0.8888888888888888,\"#fdca26\"],[1.0,\"#f0f921\"]],\"type\":\"surface\"}],\"table\":[{\"cells\":{\"fill\":{\"color\":\"#EBF0F8\"},\"line\":{\"color\":\"white\"}},\"header\":{\"fill\":{\"color\":\"#C8D4E3\"},\"line\":{\"color\":\"white\"}},\"type\":\"table\"}]},\"layout\":{\"annotationdefaults\":{\"arrowcolor\":\"#2a3f5f\",\"arrowhead\":0,\"arrowwidth\":1},\"autotypenumbers\":\"strict\",\"coloraxis\":{\"colorbar\":{\"outlinewidth\":0,\"ticks\":\"\"}},\"colorscale\":{\"diverging\":[[0,\"#8e0152\"],[0.1,\"#c51b7d\"],[0.2,\"#de77ae\"],[0.3,\"#f1b6da\"],[0.4,\"#fde0ef\"],[0.5,\"#f7f7f7\"],[0.6,\"#e6f5d0\"],[0.7,\"#b8e186\"],[0.8,\"#7fbc41\"],[0.9,\"#4d9221\"],[1,\"#276419\"]],\"sequential\":[[0.0,\"#0d0887\"],[0.1111111111111111,\"#46039f\"],[0.2222222222222222,\"#7201a8\"],[0.3333333333333333,\"#9c179e\"],[0.4444444444444444,\"#bd3786\"],[0.5555555555555556,\"#d8576b\"],[0.6666666666666666,\"#ed7953\"],[0.7777777777777778,\"#fb9f3a\"],[0.8888888888888888,\"#fdca26\"],[1.0,\"#f0f921\"]],\"sequentialminus\":[[0.0,\"#0d0887\"],[0.1111111111111111,\"#46039f\"],[0.2222222222222222,\"#7201a8\"],[0.3333333333333333,\"#9c179e\"],[0.4444444444444444,\"#bd3786\"],[0.5555555555555556,\"#d8576b\"],[0.6666666666666666,\"#ed7953\"],[0.7777777777777778,\"#fb9f3a\"],[0.8888888888888888,\"#fdca26\"],[1.0,\"#f0f921\"]]},\"colorway\":[\"#636efa\",\"#EF553B\",\"#00cc96\",\"#ab63fa\",\"#FFA15A\",\"#19d3f3\",\"#FF6692\",\"#B6E880\",\"#FF97FF\",\"#FECB52\"],\"font\":{\"color\":\"#2a3f5f\"},\"geo\":{\"bgcolor\":\"white\",\"lakecolor\":\"white\",\"landcolor\":\"white\",\"showlakes\":true,\"showland\":true,\"subunitcolor\":\"#C8D4E3\"},\"hoverlabel\":{\"align\":\"left\"},\"hovermode\":\"closest\",\"mapbox\":{\"style\":\"light\"},\"paper_bgcolor\":\"white\",\"plot_bgcolor\":\"white\",\"polar\":{\"angularaxis\":{\"gridcolor\":\"#EBF0F8\",\"linecolor\":\"#EBF0F8\",\"ticks\":\"\"},\"bgcolor\":\"white\",\"radialaxis\":{\"gridcolor\":\"#EBF0F8\",\"linecolor\":\"#EBF0F8\",\"ticks\":\"\"}},\"scene\":{\"xaxis\":{\"backgroundcolor\":\"white\",\"gridcolor\":\"#DFE8F3\",\"gridwidth\":2,\"linecolor\":\"#EBF0F8\",\"showbackground\":true,\"ticks\":\"\",\"zerolinecolor\":\"#EBF0F8\"},\"yaxis\":{\"backgroundcolor\":\"white\",\"gridcolor\":\"#DFE8F3\",\"gridwidth\":2,\"linecolor\":\"#EBF0F8\",\"showbackground\":true,\"ticks\":\"\",\"zerolinecolor\":\"#EBF0F8\"},\"zaxis\":{\"backgroundcolor\":\"white\",\"gridcolor\":\"#DFE8F3\",\"gridwidth\":2,\"linecolor\":\"#EBF0F8\",\"showbackground\":true,\"ticks\":\"\",\"zerolinecolor\":\"#EBF0F8\"}},\"shapedefaults\":{\"line\":{\"color\":\"#2a3f5f\"}},\"ternary\":{\"aaxis\":{\"gridcolor\":\"#DFE8F3\",\"linecolor\":\"#A2B1C6\",\"ticks\":\"\"},\"baxis\":{\"gridcolor\":\"#DFE8F3\",\"linecolor\":\"#A2B1C6\",\"ticks\":\"\"},\"bgcolor\":\"white\",\"caxis\":{\"gridcolor\":\"#DFE8F3\",\"linecolor\":\"#A2B1C6\",\"ticks\":\"\"}},\"title\":{\"x\":0.05},\"xaxis\":{\"automargin\":true,\"gridcolor\":\"#EBF0F8\",\"linecolor\":\"#EBF0F8\",\"ticks\":\"\",\"title\":{\"standoff\":15},\"zerolinecolor\":\"#EBF0F8\",\"zerolinewidth\":2},\"yaxis\":{\"automargin\":true,\"gridcolor\":\"#EBF0F8\",\"linecolor\":\"#EBF0F8\",\"ticks\":\"\",\"title\":{\"standoff\":15},\"zerolinecolor\":\"#EBF0F8\",\"zerolinewidth\":2}}},\"xaxis\":{\"anchor\":\"y\",\"domain\":[0.0,1.0],\"title\":{\"text\":\"Employment income\"},\"tickformat\":\",.0f\",\"tickprefix\":\"\\\\u00a3\"},\"yaxis\":{\"anchor\":\"x\",\"domain\":[0.0,1.0],\"title\":{\"text\":\"Marginal tax rate\"},\"tickformat\":\".0%\",\"range\":[-0.01,1]},\"legend\":{\"title\":{\"text\":\"Policy\"},\"tracegroupgap\":0},\"margin\":{\"t\":60},\"title\":{\"text\":\"Figure 14: Marginal tax rate by UBI policy and income (married couple, two children)\"},\"font\":{\"family\":\"Roboto Serif\",\"color\":\"black\"},\"images\":[{\"sizex\":0.2,\"sizey\":0.2,\"source\":\"https://raw.githubusercontent.com/PolicyEngine/policyengine-app/master/src/images/logos/policyengine/blue.png\",\"x\":1,\"xanchor\":\"right\",\"xref\":\"paper\",\"y\":-0.15,\"yanchor\":\"bottom\",\"yref\":\"paper\"}],\"height\":600,\"width\":800,\"modebar\":{\"bgcolor\":\"rgba(0,0,0,0)\",\"color\":\"rgba(0,0,0,0)\"}}}'"
      ]
     },
     "execution_count": 18,
     "metadata": {},
     "output_type": "execute_result"
    }
   ],
   "source": [
    "import plotly.io as pio\n",
    "\n",
    "fig = px.line(\n",
    "    mtr_df[mtr_df[\"Household type\"] == \"Married couple, two children\"], \n",
    "    x=\"Earnings\", \n",
    "    y=\"Marginal tax rate\", \n",
    "    color=\"Policy\",\n",
    "    color_discrete_sequence=[DARK_GRAY] + BLUE_COLOUR_SCALE,\n",
    ").update_layout(\n",
    "    yaxis_tickformat=\".0%\",\n",
    "    xaxis_tickformat=\",.0f\",\n",
    "    xaxis_tickprefix=\"£\",\n",
    "    yaxis_range=(-0.01, 1),\n",
    "    yaxis_title=\"Marginal tax rate\",\n",
    "    xaxis_title=\"Employment income\",\n",
    "    title=\"Figure 14: Marginal tax rate by UBI policy and income (married couple, two children)\",\n",
    ").update_traces(\n",
    "    line_shape=\"hv\",\n",
    ")\n",
    "format_fig(fig).to_json()"
   ]
  },
  {
   "cell_type": "markdown",
   "metadata": {},
   "source": [
    "Another way of framing these effects is as the change to effective marginal wages. For example, if a policy increases the MTR from 35% to 40%, that lowers the effective marginal wage from 65% to 60%, or by about 8%. Here we see that effective marginal wages are generally lower under the UBI reforms, except for the regions described above.\n"
   ]
  },
  {
   "cell_type": "code",
   "execution_count": 19,
   "metadata": {
    "tags": [
     "hide-input"
    ]
   },
   "outputs": [],
   "source": [
    "import plotly.express as px\n",
    "from policyengine_uk import Simulation\n",
    "import pandas as pd\n",
    "\n",
    "dfs = []\n",
    "for reform, policy_name in zip([model_1_reform, model_2_reform, model_3_reform], [\"£200/month\", \"£300/month\", \"£400/month\"]):\n",
    "    for household_type, household_name in zip(\n",
    "        [SINGLE_NO_CHILDREN, MARRIED_TWO_CHILDREN, PENSIONER_COUPLE_NO_CHILDREN],\n",
    "        [\"Single adult, no children\", \"Married couple, two children\", \"Pensioner couple, no children\"],\n",
    "    ):\n",
    "        baseline_sim = Simulation(situation=household_type)\n",
    "        sim = Simulation(situation=household_type, reform=reform)\n",
    "        mtr = sim.calculate(\"marginal_tax_rate\", 2023) - baseline_sim.calculate(\"marginal_tax_rate\", 2023)\n",
    "        original_mtr = baseline_sim.calculate(\"marginal_tax_rate\", 2023).reshape((100, -1)).T[0]\n",
    "        original_wage_multiplier = 1 - original_mtr\n",
    "        reformed_mtr = sim.calculate(\"marginal_tax_rate\", 2023).reshape((100, -1)).T[0]\n",
    "        reformed_wage_multiplier = 1 - reformed_mtr\n",
    "        wage = reformed_wage_multiplier / original_wage_multiplier - 1\n",
    "        earnings = sim.calculate(\"employment_income\", map_to=\"household\", period=2023)\n",
    "        df = pd.DataFrame({\"Policy\": policy_name, \"Effective wage change\": wage, \"Earnings\": earnings, \"Household type\": household_name})\n",
    "        dfs.append(df)\n",
    "\n",
    "wage_change_df = pd.concat(dfs)"
   ]
  },
  {
   "cell_type": "code",
   "execution_count": 20,
   "metadata": {
    "tags": [
     "hide-input"
    ]
   },
   "outputs": [
    {
     "data": {
      "text/plain": [
       "'{\"data\":[{\"hovertemplate\":\"Policy=\\\\u00a3200/month<br>Earnings=%{x}<br>Effective wage change=%{y}<extra></extra>\",\"legendgroup\":\"\\\\u00a3200/month\",\"line\":{\"color\":\"#D8E6F3\",\"dash\":\"solid\",\"shape\":\"hv\"},\"marker\":{\"symbol\":\"circle\"},\"mode\":\"lines\",\"name\":\"\\\\u00a3200/month\",\"orientation\":\"v\",\"showlegend\":true,\"x\":[0.0,1560.668701171875,3121.33740234375,4682.00634765625,6242.6748046875,7803.34375,9364.0126953125,10924.6806640625,12485.349609375,14046.017578125,15606.6875,17167.35546875,18728.025390625,20288.69140625,21849.361328125,23410.03125,24970.69921875,26531.369140625,28092.03515625,29652.705078125,31213.375,32774.04296875,34334.7109375,35895.37890625,37456.05078125,39016.71875,40577.3828125,42138.0546875,43698.72265625,45259.39453125,46820.0625,48380.7265625,49941.3984375,51502.06640625,53062.73828125,54623.40625,56184.0703125,57744.7421875,59305.41015625,60866.08203125,62426.75,63987.4140625,65548.0859375,67108.7578125,68669.421875,70230.09375,71790.7578125,73351.4296875,74912.1015625,76472.765625,78033.4375,79594.1015625,81154.765625,82715.4453125,84276.109375,85836.78125,87397.4453125,88958.109375,90518.7890625,92079.453125,93640.125,95200.7890625,96761.453125,98322.1328125,99882.796875,101443.46875,103004.1328125,104564.796875,106125.4765625,107686.140625,109246.8125,110807.4765625,112368.140625,113928.8203125,115489.484375,117050.15625,118610.8203125,120171.484375,121732.1640625,123292.828125,124853.5,126414.1640625,127974.828125,129535.5078125,131096.171875,132656.828125,134217.515625,135778.1875,137338.84375,138899.515625,140460.1875,142020.84375,143581.515625,145142.1875,146702.859375,148263.515625,149824.203125,151384.875,152945.53125,154506.203125],\"xaxis\":\"x\",\"y\":[0.0,-0.08223152160644531,-0.2279999852180481,-0.2279999852180481,-0.03298139572143555,0.20004773139953613,-0.22799479961395264,-0.22800356149673462,-0.25613510608673096,-0.041175127029418945,-0.041175127029418945,-0.04116886854171753,-0.04118156433105469,-0.04118156433105469,-0.04116886854171753,-0.04116886854171753,-0.04118156433105469,-0.04117560386657715,-0.041175127029418945,-0.04118126630783081,-0.04116886854171753,-0.04116886854171753,-0.04118156433105469,-0.407789945602417,-0.568526029586792,-0.5685317516326904,-0.4879595637321472,-0.041176438331604004,-0.041176438331604004,-0.041176438331604004,-0.041176438331604004,-0.041176438331604004,0.9119275808334351,-0.14775723218917847,-0.14775723218917847,-0.14774852991104126,-0.14774852991104126,-0.14776760339736938,-0.12827259302139282,-0.09868532419204712,-0.09867841005325317,-0.09868532419204712,-0.09867841005325317,-0.09868532419204712,-0.09867841005325317,-0.09868532419204712,-0.09868466854095459,-0.09868532419204712,-0.09867841005325317,-0.09868532419204712,-0.09867841005325317,-0.09867227077484131,-0.09867149591445923,-0.09868532419204712,-0.09867841005325317,-0.09867841005325317,-0.09868466854095459,-0.09867841005325317,-0.09867841005325317,-0.09867841005325317,-0.09867841005325317,-0.09867841005325317,-0.09868532419204712,-0.09866601228713989,-0.20645487308502197,-0.2285926342010498,-0.22598278522491455,0.3918367624282837,0.3918367624282837,0.3918367624282837,0.3918367624282837,0.3918367624282837,0.39180707931518555,0.3918367624282837,0.3918367624282837,0.3918367624282837,0.39185798168182373,0.3918367624282837,0.3918154239654541,0.3918367624282837,0.002732992172241211,-0.10821253061294556,-0.10821253061294556,-0.10819745063781738,-0.10821253061294556,-0.10821419954299927,-0.10821253061294556,-0.10821253061294556,-0.10821253061294556,-0.10821253061294556,-0.10821253061294556,-0.10821253061294556,-0.10821253061294556,-0.10821253061294556,-0.1081991195678711,-0.10819745063781738,-0.10821253061294556,-0.10821253061294556,-0.10821253061294556,-0.10821253061294556],\"yaxis\":\"y\",\"type\":\"scatter\"},{\"hovertemplate\":\"Policy=\\\\u00a3300/month<br>Earnings=%{x}<br>Effective wage change=%{y}<extra></extra>\",\"legendgroup\":\"\\\\u00a3300/month\",\"line\":{\"color\":\"#2C6496\",\"dash\":\"solid\",\"shape\":\"hv\"},\"marker\":{\"symbol\":\"circle\"},\"mode\":\"lines\",\"name\":\"\\\\u00a3300/month\",\"orientation\":\"v\",\"showlegend\":true,\"x\":[0.0,1560.668701171875,3121.33740234375,4682.00634765625,6242.6748046875,7803.34375,9364.0126953125,10924.6806640625,12485.349609375,14046.017578125,15606.6875,17167.35546875,18728.025390625,20288.69140625,21849.361328125,23410.03125,24970.69921875,26531.369140625,28092.03515625,29652.705078125,31213.375,32774.04296875,34334.7109375,35895.37890625,37456.05078125,39016.71875,40577.3828125,42138.0546875,43698.72265625,45259.39453125,46820.0625,48380.7265625,49941.3984375,51502.06640625,53062.73828125,54623.40625,56184.0703125,57744.7421875,59305.41015625,60866.08203125,62426.75,63987.4140625,65548.0859375,67108.7578125,68669.421875,70230.09375,71790.7578125,73351.4296875,74912.1015625,76472.765625,78033.4375,79594.1015625,81154.765625,82715.4453125,84276.109375,85836.78125,87397.4453125,88958.109375,90518.7890625,92079.453125,93640.125,95200.7890625,96761.453125,98322.1328125,99882.796875,101443.46875,103004.1328125,104564.796875,106125.4765625,107686.140625,109246.8125,110807.4765625,112368.140625,113928.8203125,115489.484375,117050.15625,118610.8203125,120171.484375,121732.1640625,123292.828125,124853.5,126414.1640625,127974.828125,129535.5078125,131096.171875,132656.828125,134217.515625,135778.1875,137338.84375,138899.515625,140460.1875,142020.84375,143581.515625,145142.1875,146702.859375,148263.515625,149824.203125,151384.875,152945.53125,154506.203125],\"xaxis\":\"x\",\"y\":[-0.2630000114440918,-0.2629992961883545,-0.2630000114440918,-0.2630000114440918,-0.07682293653488159,0.6377778053283691,-0.263003408908844,-0.263003408908844,-0.295454204082489,-0.0926392674446106,-0.0926392674446106,-0.0926392674446106,-0.0926520824432373,-0.0926520824432373,-0.0926520824432373,-0.0926392674446106,-0.0926520824432373,-0.09262090921401978,-0.0926520824432373,-0.09265792369842529,-0.0926520824432373,-0.0926520824432373,-0.0926520824432373,-0.4395725727081299,-0.5916934609413147,-0.5916876792907715,-0.5916934609413147,-0.5916934609413147,-0.5361499786376953,-0.09264707565307617,-0.09264707565307617,-0.09264707565307617,1.079925775527954,-0.16622698307037354,-0.16622698307037354,-0.16622883081436157,-0.16621845960617065,-0.16622698307037354,-0.14430660009384155,-0.11102008819580078,-0.11101323366165161,-0.11102008819580078,-0.11101323366165161,-0.11101323366165161,-0.11101323366165161,-0.11102008819580078,-0.11101943254470825,-0.11101323366165161,-0.11101323366165161,-0.11101323366165161,-0.11101323366165161,-0.1110072135925293,-0.11101323366165161,-0.11101323366165161,-0.11101323366165161,-0.11101323366165161,-0.11101943254470825,-0.11101323366165161,-0.11102008819580078,-0.11100631952285767,-0.11101323366165161,-0.11101323366165161,-0.11102008819580078,-0.11100101470947266,0.2904975414276123,0.3727678060531616,0.3728182315826416,0.37278902530670166,0.37278902530670166,0.37278902530670166,0.37278902530670166,0.37278902530670166,0.3727598190307617,0.37278902530670166,0.37278902530670166,0.37278902530670166,0.37278902530670166,0.37278902530670166,0.37274646759033203,0.37278902530670166,-0.012002229690551758,-0.1217392086982727,-0.1217392086982727,-0.1217392086982727,-0.1217392086982727,-0.12174087762832642,-0.1217392086982727,-0.1217392086982727,-0.1217392086982727,-0.1217392086982727,-0.1217392086982727,-0.1217392086982727,-0.12175416946411133,-0.1217392086982727,-0.12172591686248779,-0.1217239499092102,-0.1217392086982727,-0.1217239499092102,-0.1217392086982727,-0.1217392086982727],\"yaxis\":\"y\",\"type\":\"scatter\"},{\"hovertemplate\":\"Policy=\\\\u00a3400/month<br>Earnings=%{x}<br>Effective wage change=%{y}<extra></extra>\",\"legendgroup\":\"\\\\u00a3400/month\",\"line\":{\"color\":\"#17354F\",\"dash\":\"solid\",\"shape\":\"hv\"},\"marker\":{\"symbol\":\"circle\"},\"mode\":\"lines\",\"name\":\"\\\\u00a3400/month\",\"orientation\":\"v\",\"showlegend\":true,\"x\":[0.0,1560.668701171875,3121.33740234375,4682.00634765625,6242.6748046875,7803.34375,9364.0126953125,10924.6806640625,12485.349609375,14046.017578125,15606.6875,17167.35546875,18728.025390625,20288.69140625,21849.361328125,23410.03125,24970.69921875,26531.369140625,28092.03515625,29652.705078125,31213.375,32774.04296875,34334.7109375,35895.37890625,37456.05078125,39016.71875,40577.3828125,42138.0546875,43698.72265625,45259.39453125,46820.0625,48380.7265625,49941.3984375,51502.06640625,53062.73828125,54623.40625,56184.0703125,57744.7421875,59305.41015625,60866.08203125,62426.75,63987.4140625,65548.0859375,67108.7578125,68669.421875,70230.09375,71790.7578125,73351.4296875,74912.1015625,76472.765625,78033.4375,79594.1015625,81154.765625,82715.4453125,84276.109375,85836.78125,87397.4453125,88958.109375,90518.7890625,92079.453125,93640.125,95200.7890625,96761.453125,98322.1328125,99882.796875,101443.46875,103004.1328125,104564.796875,106125.4765625,107686.140625,109246.8125,110807.4765625,112368.140625,113928.8203125,115489.484375,117050.15625,118610.8203125,120171.484375,121732.1640625,123292.828125,124853.5,126414.1640625,127974.828125,129535.5078125,131096.171875,132656.828125,134217.515625,135778.1875,137338.84375,138899.515625,140460.1875,142020.84375,143581.515625,145142.1875,146702.859375,148263.515625,149824.203125,151384.875,152945.53125,154506.203125],\"xaxis\":\"x\",\"y\":[-0.32999998331069946,-0.32999932765960693,-0.32999998331069946,-0.32999998331069946,-0.16074812412261963,0.4888889789581299,0.4059114456176758,-0.33000004291534424,-0.3707231283187866,-0.19117647409439087,-0.19117647409439087,-0.19117647409439087,-0.19117647409439087,-0.19117647409439087,-0.19117647409439087,-0.19117647409439087,-0.1911637783050537,-0.19117140769958496,-0.19117647409439087,-0.1911942958831787,-0.19117647409439087,-0.19117647409439087,-0.19117647409439087,-0.5004336833953857,-0.6360294222831726,-0.6360294222831726,-0.6360294222831726,-0.6360294222831726,-0.6360294222831726,-0.6360294222831726,-0.6360294222831726,-0.6360294222831726,1.0616910457611084,-1.0251998901367188e-05,-2.0623207092285156e-05,1.0251998901367188e-05,1.0251998901367188e-05,0.0,0.0,0.0,0.0,0.0,0.0,-6.854534149169922e-06,0.0,-6.854534149169922e-06,-6.9141387939453125e-06,0.0,0.0,0.0,0.0,6.794929504394531e-06,0.0,-6.854534149169922e-06,0.0,0.0,0.0,-6.854534149169922e-06,0.0,0.0,0.0,0.0,-6.854534149169922e-06,1.3709068298339844e-05,0.45165860652923584,0.544217586517334,0.54425048828125,0.544217586517334,0.544217586517334,0.544217586517334,0.544196367263794,0.5442389249801636,0.5441848039627075,0.544217586517334,0.544217586517334,0.544217586517334,0.544196367263794,0.544217586517334,0.544217586517334,0.544217586517334,0.12076258659362793,0.0,0.0,1.5139579772949219e-05,0.0,0.0,-1.5079975128173828e-05,1.5139579772949219e-05,0.0,0.0,0.0,0.0,0.0,-1.5079975128173828e-05,1.5139579772949219e-05,1.5139579772949219e-05,-1.5079975128173828e-05,1.5139579772949219e-05,0.0,0.0],\"yaxis\":\"y\",\"type\":\"scatter\"}],\"layout\":{\"template\":{\"data\":{\"barpolar\":[{\"marker\":{\"line\":{\"color\":\"white\",\"width\":0.5},\"pattern\":{\"fillmode\":\"overlay\",\"size\":10,\"solidity\":0.2}},\"type\":\"barpolar\"}],\"bar\":[{\"error_x\":{\"color\":\"#2a3f5f\"},\"error_y\":{\"color\":\"#2a3f5f\"},\"marker\":{\"line\":{\"color\":\"white\",\"width\":0.5},\"pattern\":{\"fillmode\":\"overlay\",\"size\":10,\"solidity\":0.2}},\"type\":\"bar\"}],\"carpet\":[{\"aaxis\":{\"endlinecolor\":\"#2a3f5f\",\"gridcolor\":\"#C8D4E3\",\"linecolor\":\"#C8D4E3\",\"minorgridcolor\":\"#C8D4E3\",\"startlinecolor\":\"#2a3f5f\"},\"baxis\":{\"endlinecolor\":\"#2a3f5f\",\"gridcolor\":\"#C8D4E3\",\"linecolor\":\"#C8D4E3\",\"minorgridcolor\":\"#C8D4E3\",\"startlinecolor\":\"#2a3f5f\"},\"type\":\"carpet\"}],\"choropleth\":[{\"colorbar\":{\"outlinewidth\":0,\"ticks\":\"\"},\"type\":\"choropleth\"}],\"contourcarpet\":[{\"colorbar\":{\"outlinewidth\":0,\"ticks\":\"\"},\"type\":\"contourcarpet\"}],\"contour\":[{\"colorbar\":{\"outlinewidth\":0,\"ticks\":\"\"},\"colorscale\":[[0.0,\"#0d0887\"],[0.1111111111111111,\"#46039f\"],[0.2222222222222222,\"#7201a8\"],[0.3333333333333333,\"#9c179e\"],[0.4444444444444444,\"#bd3786\"],[0.5555555555555556,\"#d8576b\"],[0.6666666666666666,\"#ed7953\"],[0.7777777777777778,\"#fb9f3a\"],[0.8888888888888888,\"#fdca26\"],[1.0,\"#f0f921\"]],\"type\":\"contour\"}],\"heatmapgl\":[{\"colorbar\":{\"outlinewidth\":0,\"ticks\":\"\"},\"colorscale\":[[0.0,\"#0d0887\"],[0.1111111111111111,\"#46039f\"],[0.2222222222222222,\"#7201a8\"],[0.3333333333333333,\"#9c179e\"],[0.4444444444444444,\"#bd3786\"],[0.5555555555555556,\"#d8576b\"],[0.6666666666666666,\"#ed7953\"],[0.7777777777777778,\"#fb9f3a\"],[0.8888888888888888,\"#fdca26\"],[1.0,\"#f0f921\"]],\"type\":\"heatmapgl\"}],\"heatmap\":[{\"colorbar\":{\"outlinewidth\":0,\"ticks\":\"\"},\"colorscale\":[[0.0,\"#0d0887\"],[0.1111111111111111,\"#46039f\"],[0.2222222222222222,\"#7201a8\"],[0.3333333333333333,\"#9c179e\"],[0.4444444444444444,\"#bd3786\"],[0.5555555555555556,\"#d8576b\"],[0.6666666666666666,\"#ed7953\"],[0.7777777777777778,\"#fb9f3a\"],[0.8888888888888888,\"#fdca26\"],[1.0,\"#f0f921\"]],\"type\":\"heatmap\"}],\"histogram2dcontour\":[{\"colorbar\":{\"outlinewidth\":0,\"ticks\":\"\"},\"colorscale\":[[0.0,\"#0d0887\"],[0.1111111111111111,\"#46039f\"],[0.2222222222222222,\"#7201a8\"],[0.3333333333333333,\"#9c179e\"],[0.4444444444444444,\"#bd3786\"],[0.5555555555555556,\"#d8576b\"],[0.6666666666666666,\"#ed7953\"],[0.7777777777777778,\"#fb9f3a\"],[0.8888888888888888,\"#fdca26\"],[1.0,\"#f0f921\"]],\"type\":\"histogram2dcontour\"}],\"histogram2d\":[{\"colorbar\":{\"outlinewidth\":0,\"ticks\":\"\"},\"colorscale\":[[0.0,\"#0d0887\"],[0.1111111111111111,\"#46039f\"],[0.2222222222222222,\"#7201a8\"],[0.3333333333333333,\"#9c179e\"],[0.4444444444444444,\"#bd3786\"],[0.5555555555555556,\"#d8576b\"],[0.6666666666666666,\"#ed7953\"],[0.7777777777777778,\"#fb9f3a\"],[0.8888888888888888,\"#fdca26\"],[1.0,\"#f0f921\"]],\"type\":\"histogram2d\"}],\"histogram\":[{\"marker\":{\"pattern\":{\"fillmode\":\"overlay\",\"size\":10,\"solidity\":0.2}},\"type\":\"histogram\"}],\"mesh3d\":[{\"colorbar\":{\"outlinewidth\":0,\"ticks\":\"\"},\"type\":\"mesh3d\"}],\"parcoords\":[{\"line\":{\"colorbar\":{\"outlinewidth\":0,\"ticks\":\"\"}},\"type\":\"parcoords\"}],\"pie\":[{\"automargin\":true,\"type\":\"pie\"}],\"scatter3d\":[{\"line\":{\"colorbar\":{\"outlinewidth\":0,\"ticks\":\"\"}},\"marker\":{\"colorbar\":{\"outlinewidth\":0,\"ticks\":\"\"}},\"type\":\"scatter3d\"}],\"scattercarpet\":[{\"marker\":{\"colorbar\":{\"outlinewidth\":0,\"ticks\":\"\"}},\"type\":\"scattercarpet\"}],\"scattergeo\":[{\"marker\":{\"colorbar\":{\"outlinewidth\":0,\"ticks\":\"\"}},\"type\":\"scattergeo\"}],\"scattergl\":[{\"marker\":{\"colorbar\":{\"outlinewidth\":0,\"ticks\":\"\"}},\"type\":\"scattergl\"}],\"scattermapbox\":[{\"marker\":{\"colorbar\":{\"outlinewidth\":0,\"ticks\":\"\"}},\"type\":\"scattermapbox\"}],\"scatterpolargl\":[{\"marker\":{\"colorbar\":{\"outlinewidth\":0,\"ticks\":\"\"}},\"type\":\"scatterpolargl\"}],\"scatterpolar\":[{\"marker\":{\"colorbar\":{\"outlinewidth\":0,\"ticks\":\"\"}},\"type\":\"scatterpolar\"}],\"scatter\":[{\"fillpattern\":{\"fillmode\":\"overlay\",\"size\":10,\"solidity\":0.2},\"type\":\"scatter\"}],\"scatterternary\":[{\"marker\":{\"colorbar\":{\"outlinewidth\":0,\"ticks\":\"\"}},\"type\":\"scatterternary\"}],\"surface\":[{\"colorbar\":{\"outlinewidth\":0,\"ticks\":\"\"},\"colorscale\":[[0.0,\"#0d0887\"],[0.1111111111111111,\"#46039f\"],[0.2222222222222222,\"#7201a8\"],[0.3333333333333333,\"#9c179e\"],[0.4444444444444444,\"#bd3786\"],[0.5555555555555556,\"#d8576b\"],[0.6666666666666666,\"#ed7953\"],[0.7777777777777778,\"#fb9f3a\"],[0.8888888888888888,\"#fdca26\"],[1.0,\"#f0f921\"]],\"type\":\"surface\"}],\"table\":[{\"cells\":{\"fill\":{\"color\":\"#EBF0F8\"},\"line\":{\"color\":\"white\"}},\"header\":{\"fill\":{\"color\":\"#C8D4E3\"},\"line\":{\"color\":\"white\"}},\"type\":\"table\"}]},\"layout\":{\"annotationdefaults\":{\"arrowcolor\":\"#2a3f5f\",\"arrowhead\":0,\"arrowwidth\":1},\"autotypenumbers\":\"strict\",\"coloraxis\":{\"colorbar\":{\"outlinewidth\":0,\"ticks\":\"\"}},\"colorscale\":{\"diverging\":[[0,\"#8e0152\"],[0.1,\"#c51b7d\"],[0.2,\"#de77ae\"],[0.3,\"#f1b6da\"],[0.4,\"#fde0ef\"],[0.5,\"#f7f7f7\"],[0.6,\"#e6f5d0\"],[0.7,\"#b8e186\"],[0.8,\"#7fbc41\"],[0.9,\"#4d9221\"],[1,\"#276419\"]],\"sequential\":[[0.0,\"#0d0887\"],[0.1111111111111111,\"#46039f\"],[0.2222222222222222,\"#7201a8\"],[0.3333333333333333,\"#9c179e\"],[0.4444444444444444,\"#bd3786\"],[0.5555555555555556,\"#d8576b\"],[0.6666666666666666,\"#ed7953\"],[0.7777777777777778,\"#fb9f3a\"],[0.8888888888888888,\"#fdca26\"],[1.0,\"#f0f921\"]],\"sequentialminus\":[[0.0,\"#0d0887\"],[0.1111111111111111,\"#46039f\"],[0.2222222222222222,\"#7201a8\"],[0.3333333333333333,\"#9c179e\"],[0.4444444444444444,\"#bd3786\"],[0.5555555555555556,\"#d8576b\"],[0.6666666666666666,\"#ed7953\"],[0.7777777777777778,\"#fb9f3a\"],[0.8888888888888888,\"#fdca26\"],[1.0,\"#f0f921\"]]},\"colorway\":[\"#636efa\",\"#EF553B\",\"#00cc96\",\"#ab63fa\",\"#FFA15A\",\"#19d3f3\",\"#FF6692\",\"#B6E880\",\"#FF97FF\",\"#FECB52\"],\"font\":{\"color\":\"#2a3f5f\"},\"geo\":{\"bgcolor\":\"white\",\"lakecolor\":\"white\",\"landcolor\":\"white\",\"showlakes\":true,\"showland\":true,\"subunitcolor\":\"#C8D4E3\"},\"hoverlabel\":{\"align\":\"left\"},\"hovermode\":\"closest\",\"mapbox\":{\"style\":\"light\"},\"paper_bgcolor\":\"white\",\"plot_bgcolor\":\"white\",\"polar\":{\"angularaxis\":{\"gridcolor\":\"#EBF0F8\",\"linecolor\":\"#EBF0F8\",\"ticks\":\"\"},\"bgcolor\":\"white\",\"radialaxis\":{\"gridcolor\":\"#EBF0F8\",\"linecolor\":\"#EBF0F8\",\"ticks\":\"\"}},\"scene\":{\"xaxis\":{\"backgroundcolor\":\"white\",\"gridcolor\":\"#DFE8F3\",\"gridwidth\":2,\"linecolor\":\"#EBF0F8\",\"showbackground\":true,\"ticks\":\"\",\"zerolinecolor\":\"#EBF0F8\"},\"yaxis\":{\"backgroundcolor\":\"white\",\"gridcolor\":\"#DFE8F3\",\"gridwidth\":2,\"linecolor\":\"#EBF0F8\",\"showbackground\":true,\"ticks\":\"\",\"zerolinecolor\":\"#EBF0F8\"},\"zaxis\":{\"backgroundcolor\":\"white\",\"gridcolor\":\"#DFE8F3\",\"gridwidth\":2,\"linecolor\":\"#EBF0F8\",\"showbackground\":true,\"ticks\":\"\",\"zerolinecolor\":\"#EBF0F8\"}},\"shapedefaults\":{\"line\":{\"color\":\"#2a3f5f\"}},\"ternary\":{\"aaxis\":{\"gridcolor\":\"#DFE8F3\",\"linecolor\":\"#A2B1C6\",\"ticks\":\"\"},\"baxis\":{\"gridcolor\":\"#DFE8F3\",\"linecolor\":\"#A2B1C6\",\"ticks\":\"\"},\"bgcolor\":\"white\",\"caxis\":{\"gridcolor\":\"#DFE8F3\",\"linecolor\":\"#A2B1C6\",\"ticks\":\"\"}},\"title\":{\"x\":0.05},\"xaxis\":{\"automargin\":true,\"gridcolor\":\"#EBF0F8\",\"linecolor\":\"#EBF0F8\",\"ticks\":\"\",\"title\":{\"standoff\":15},\"zerolinecolor\":\"#EBF0F8\",\"zerolinewidth\":2},\"yaxis\":{\"automargin\":true,\"gridcolor\":\"#EBF0F8\",\"linecolor\":\"#EBF0F8\",\"ticks\":\"\",\"title\":{\"standoff\":15},\"zerolinecolor\":\"#EBF0F8\",\"zerolinewidth\":2}}},\"xaxis\":{\"anchor\":\"y\",\"domain\":[0.0,1.0],\"title\":{\"text\":\"Employment income\"},\"tickformat\":\",.0f\",\"tickprefix\":\"\\\\u00a3\"},\"yaxis\":{\"anchor\":\"x\",\"domain\":[0.0,1.0],\"title\":{\"text\":\"Change to effective marginal wage\"},\"tickformat\":\"+.0%\",\"range\":[-1,1]},\"legend\":{\"title\":{\"text\":\"Policy\"},\"tracegroupgap\":0},\"margin\":{\"t\":60},\"title\":{\"text\":\"Figure 15: Change to effective marginal wage by UBI policy and income (married couple, two children)\"},\"shapes\":[{\"line\":{\"color\":\"grey\",\"width\":1},\"type\":\"line\",\"x0\":0,\"x1\":1,\"xref\":\"paper\",\"y0\":0,\"y1\":0,\"yref\":\"y\"}],\"font\":{\"family\":\"Roboto Serif\",\"color\":\"black\"},\"images\":[{\"sizex\":0.2,\"sizey\":0.2,\"source\":\"https://raw.githubusercontent.com/PolicyEngine/policyengine-app/master/src/images/logos/policyengine/blue.png\",\"x\":1,\"xanchor\":\"right\",\"xref\":\"paper\",\"y\":-0.15,\"yanchor\":\"bottom\",\"yref\":\"paper\"}],\"height\":600,\"width\":800,\"modebar\":{\"bgcolor\":\"rgba(0,0,0,0)\",\"color\":\"rgba(0,0,0,0)\"}}}'"
      ]
     },
     "execution_count": 20,
     "metadata": {},
     "output_type": "execute_result"
    }
   ],
   "source": [
    "import plotly.io as pio\n",
    "\n",
    "def plot_wage(household_name: str):\n",
    "    fig = px.line(\n",
    "        wage_change_df[wage_change_df[\"Household type\"] == household_name], \n",
    "        x=\"Earnings\", \n",
    "        y=\"Effective wage change\", \n",
    "        color=\"Policy\",\n",
    "        color_discrete_sequence=BLUE_COLOUR_SCALE,\n",
    "    ).update_layout(\n",
    "        yaxis_tickformat=\"+.0%\",\n",
    "        xaxis_tickformat=\",.0f\",\n",
    "        xaxis_tickprefix=\"£\",\n",
    "        yaxis_range=(-1, 1),\n",
    "        yaxis_title=\"Change to effective marginal wage\",\n",
    "        xaxis_title=\"Employment income\",\n",
    "        title=\"Figure 15: Change to effective marginal wage by UBI policy and income (married couple, two children)\",\n",
    "    ).update_traces(\n",
    "        line_shape=\"hv\",\n",
    "    )\n",
    "    fig.add_shape(\n",
    "            type=\"line\",\n",
    "            xref=\"paper\",\n",
    "            yref=\"y\",\n",
    "            x0=0,\n",
    "            y0=0,\n",
    "            x1=1,\n",
    "            y1=0,\n",
    "            line=dict(color=\"grey\", width=1),\n",
    "        )\n",
    "    return format_fig(fig)\n",
    "plot_wage(H2).to_json()"
   ]
  },
  {
   "cell_type": "markdown",
   "metadata": {},
   "source": [
    "## Conclusion\n",
    "\n",
    "The UBI policies examined in this report would result in notable shifts within Northern Ireland's socio-economic landscape, including poverty reductions historically corresponding to several years' changes.\n",
    "\n",
    "However, these shifts come with their own set of complexities, such as potential economic consequences and an increase in marginal tax rates for a considerable portion of the populace. It's important to note that our model is static and does not account for all of these factors. A [recent paper](http://www.columbia.edu/~wk2110/bin/DeatonReviewChapter.pdf) from the IFS and Columbia University states, \"Current estimates therefore suggest that the top UK rate [of 47%] is close to revenue maximizing, but there is a very large degree of uncertainty around this.\" Several of the proposed reforms would push this top rate closer to 80%.\n",
    "\n",
    "While our model shows certain immediate changes in household economics, it's less clear on the potential macroeconomic effects. For instance, the change in poverty status and marginal tax rates for a wide range of individuals could have various implications for the economy. More research is needed to understand the full spectrum of these impacts.\n",
    "\n",
    "Future studies could offer alternative policy designs that produce similar distributional effects but with reduced economic and social perturbations. Methods such as optimisation models could assess a variety of UBI policies specifically for Northern Ireland, potentially incorporating the tax reforms outlined in this report.\n",
    "\n",
    "Our microsimulation approach provides one piece of the puzzle in understanding possible outcomes of a universal basic income in Northern Ireland."
   ]
  },
  {
   "cell_type": "markdown",
   "metadata": {},
   "source": [
    "## Appendix A: PolicyEngine's data generation procedure\n",
    "\n",
    "PolicyEngine's enhanced FRS dataset counters many of the biases present within the unadjusted dataset. This section describes the data generation procedure in detail.\n",
    "\n",
    "1. **Start with the 2019-20 Family Resources Survey (FRS).** The Department of Work and Pensions administers the annual FRS, collecting information on household structure, income, taxes, and benefits from respondents. The FRS reports households' region, and 2,075 of its 19,210 households reside in Northern Ireland; these form the basis of this report. Like other research institutions, PolicyEngine skips the 2020-21 FRS round released in 2022, as Covid distorts its use for future-looking analysis.\n",
    "2. **Duplicate the FRS and replace income variables in a replicate with imputed values from the Survey of Personal Incomes (SPI).** HMRC releases the SPI as an anonymised sample of tax records. It is more accurate than the FRS, though it lacks demographic and benefit information of the FRS. PolicyEngine applies its [synthimpute](https://github.com/PSLmodels/synthimpute/releases) machine learning technology to impute from the conditional distribution of each record, ensuring that this copy of the FRS includes the tails of SPI records.\n",
    "3. **Stack the original and SPI-imputed FRS.** This gives the subsequent reweighting algorithm the opportunity to balance originally-reported FRS income and SPI-imputed income for each person.\n",
    "4. **Fuse consumption data from the Living Costs and Food Survey and wealth data from the Wealth and Assets Survey to the stacked FRS.** PolicyEngine imputes these signals using synthimpute; while this report does not make use of them, PolicyEngine makes them available for simulations of other policies like a land value tax and carbon tax.\n",
    "5. **Uprate (age) the survey data for each year from the survey year to 2026.** PolicyEngine uprates data in accordance with projections from the Office of National Statistics, such as projections of how average earnings will change.\n",
    "6. **Replace taxes and benefits with computed values for each modelled year.** PolicyEngine applies tax and benefit rules both to capture policy changes and to produce a baseline that responds only to policy reforms. They model benefit take-up by respecting whether a person, benefit unit, or household claimed a benefit if eligible, and assigning a probability for each benefit for ineligible households based on reported take-up rates.\n",
    "7. **Construct a loss metric measuring the aggregate deviation of totals from the survey to administrative totals reported by the government, for each modelled year.** PolicyEngine's loss metric covers population, income, benefits, and taxes at various granularities. In total, this loss metric has 2,664 components, of which 264 are specific to Northern Ireland.\n",
    "8. **Reweight the dataset to minimise this loss metric using gradient descent.** The gradient descent algorithm computes the change to the loss metric with respect to small perturbations of an input (in this case, a household's survey weight), then moves each input (weight) by some multiplier of that change (known as the _learning rate_), and iteratively continues this process. Artificial intelligence models like deep neural networks rely heavily on gradient descent. PolicyEngine identifies the number of iterations that minimises the loss on an out-of-sample set of validation metrics to avoid overfitting, and prevents negative weights. The [reweighting procedure](https://policyengine.github.io/openfisca-uk//model/reweighting.html) results in 862 Northern Ireland households with nonzero weight, and reduces the loss metric by about 99.5% compared to its initial value. Figure 16 shows that PolicyEngine's data enhancement dramatically reduces error rates for key Northern Ireland aggregates.\n",
    "\n",
    "We publish this dataset's accuracy in our [documentation page on validation](https://policyengine.github.io/openfisca-uk//model/validation.html), which shows that their model deviates from administrative totals less than UKMOD does (only UKMOD publishes their totals amongst other UK microsimulation models).\n",
    "\n",
    "**Table 2: Error rates for selected Northern Ireland aggregates based on the original and PolicyEngine-enhanced 2019/20 Family Resources Survey**\n"
   ]
  },
  {
   "cell_type": "code",
   "execution_count": 21,
   "metadata": {},
   "outputs": [
    {
     "data": {
      "text/markdown": [
       "| Variable                         |   Target total |   Original FRS total |   Calibrated FRS total |   Original FRS error (%) |   Calibrated FRS error (%) |\n",
       "|:---------------------------------|---------------:|---------------------:|-----------------------:|-------------------------:|---------------------------:|\n",
       "| Income from dividends (£bn)      |           1.4  |                 0.1  |                   1.39 |                   -93    |                      -0.59 |\n",
       "| Employment income (£bn)          |          19    |                19.17 |                  18.45 |                     0.91 |                      -2.87 |\n",
       "| Pension income (£bn)             |           2.23 |                 2.52 |                   2.37 |                    13.03 |                       6.1  |\n",
       "| Rental income (£bn)              |           0.56 |                 0.23 |                   0.56 |                   -58.07 |                      -0.62 |\n",
       "| Savings interest income (£bn)    |           0.15 |                 0.1  |                   0.15 |                   -30.4  |                      -0.96 |\n",
       "| Self-employment income (£bn)     |           2.2  |                 2.29 |                   2.15 |                     4.1  |                      -2.41 |\n",
       "| Income Tax (£bn)                 |           3.03 |                 2.84 |                   2.97 |                    -6.42 |                      -1.98 |\n",
       "| National Insurance (total) (£bn) |           3.01 |                 3.28 |                   2.98 |                     8.83 |                      -1.02 |\n",
       "| Population (m)                   |           1.9  |                 1.86 |                   1.78 |                    -1.68 |                      -6.01 |\n",
       "| Households (m)                   |           0.77 |                 0.74 |                   0.77 |                    -3.83 |                      -0.07 |"
      ],
      "text/plain": [
       "<IPython.core.display.Markdown object>"
      ]
     },
     "execution_count": 21,
     "metadata": {},
     "output_type": "execute_result"
    }
   ],
   "source": [
    "import pandas as pd\n",
    "\n",
    "# Creating data dictionary\n",
    "data = {\n",
    "    'Variable': [\n",
    "        'Income from dividends (£bn)',\n",
    "        'Employment income (£bn)',\n",
    "        'Pension income (£bn)',\n",
    "        'Rental income (£bn)',\n",
    "        'Savings interest income (£bn)',\n",
    "        'Self-employment income (£bn)',\n",
    "        'Income Tax (£bn)',\n",
    "        'National Insurance (total) (£bn)',\n",
    "        'Population (m)',\n",
    "        'Households (m)'\n",
    "    ],\n",
    "    'Target total': [1.40, 19.00, 2.23, 0.56, 0.15, 2.20, 3.03, 3.01, 1.90, 0.77],\n",
    "    'Original FRS total': [0.10, 19.17, 2.52, 0.23, 0.10, 2.29, 2.84, 3.28, 1.86, 0.74],\n",
    "    'Calibrated FRS total': [1.39, 18.45, 2.37, 0.56, 0.15, 2.15, 2.97, 2.98, 1.78, 0.77],\n",
    "    'Original FRS error (%)': [-93.00, 0.91, 13.03, -58.07, -30.40, 4.10, -6.42, 8.83, -1.68, -3.83],\n",
    "    'Calibrated FRS error (%)': [-0.59, -2.87, 6.10, -0.62, -0.96, -2.41, -1.98, -1.02, -6.01, -0.07]\n",
    "}\n",
    "\n",
    "from IPython.display import Markdown\n",
    "df = pd.DataFrame(data)\n",
    "Markdown(df.to_markdown(index=False))"
   ]
  },
  {
   "cell_type": "markdown",
   "metadata": {},
   "source": [
    "## Appendix B: Extending the UBI to children\n",
    "\n",
    "Table 3 mirrors Table 1 with a parallel version of each UBI model, revised to provide half the adult amount to children under age 16.\n",
    "\n",
    "Table 3: Three policies to fund a UBI in Northern Ireland, including children\n"
   ]
  },
  {
   "cell_type": "code",
   "execution_count": 22,
   "metadata": {},
   "outputs": [
    {
     "name": "stderr",
     "output_type": "stream",
     "text": [
      "100%|██████████| 14/14 [01:14<00:00,  5.33s/it]\n"
     ]
    }
   ],
   "source": [
    "df_child_space = create_policy_space(child_min_age=0)\n",
    "child_model_1_row, child_model_2_row, child_model_3_row = extract_three_model_rows(df_child_space, child_min_age=0)\n",
    "child_summary_table = create_summary_table(child_model_1_row, child_model_2_row, child_model_3_row)"
   ]
  },
  {
   "cell_type": "code",
   "execution_count": 23,
   "metadata": {},
   "outputs": [
    {
     "data": {
      "text/markdown": [
       "|                               | Model 1                                                                                                                                           | Model 1c                                                                                                                                          | Model 2                                                                                                                                           | Model 2c                                                                                                                                          | Model 3                                                                                                                                           | Model 3c                                                                                                                                          |\n",
       "|:------------------------------|:--------------------------------------------------------------------------------------------------------------------------------------------------|:--------------------------------------------------------------------------------------------------------------------------------------------------|:--------------------------------------------------------------------------------------------------------------------------------------------------|:--------------------------------------------------------------------------------------------------------------------------------------------------|:--------------------------------------------------------------------------------------------------------------------------------------------------|:--------------------------------------------------------------------------------------------------------------------------------------------------|\n",
       "| Monthly UBI amount (18+)      | £200                                                                                                                                              | £200                                                                                                                                              | £300                                                                                                                                              | £300                                                                                                                                              | £400                                                                                                                                              | £400                                                                                                                                              |\n",
       "| Monthly UBI amount (16-17)    | £100                                                                                                                                              | £100                                                                                                                                              | £150                                                                                                                                              | £150                                                                                                                                              | £200                                                                                                                                              | £200                                                                                                                                              |\n",
       "| Monthly UBI amount (0-15)     | £0                                                                                                                                                | £100                                                                                                                                              | £0                                                                                                                                                | £150                                                                                                                                              | £0                                                                                                                                                | £200                                                                                                                                              |\n",
       "| Personal Allowance            | £2,000                                                                                                                                            | £2,000                                                                                                                                            | £0                                                                                                                                                | £0                                                                                                                                                | £0                                                                                                                                                | £0                                                                                                                                                |\n",
       "| Basic rate increase           | 2.8p                                                                                                                                              | 2.8p                                                                                                                                              | 6.3p                                                                                                                                              | 6.3p                                                                                                                                              | 13.1p                                                                                                                                             | 13.1p                                                                                                                                             |\n",
       "| Higher rate increase          | 5.6p                                                                                                                                              | 5.6p                                                                                                                                              | 6.3p                                                                                                                                              | 6.3p                                                                                                                                              | 0.0p                                                                                                                                              | 0.0p                                                                                                                                              |\n",
       "| Additional rate increase      | 5.6p                                                                                                                                              | 5.6p                                                                                                                                              | 6.3p                                                                                                                                              | 6.3p                                                                                                                                              | 0.0p                                                                                                                                              | 0.0p                                                                                                                                              |\n",
       "| Net cost                      | £0.6bn                                                                                                                                            | £1.0bn                                                                                                                                            | £1.0bn                                                                                                                                            | £1.6bn                                                                                                                                            | £1.3bn                                                                                                                                            | £2.2bn                                                                                                                                            |\n",
       "| Revenue raised                | £3.1bn                                                                                                                                            | £3.1bn                                                                                                                                            | £4.6bn                                                                                                                                            | £4.6bn                                                                                                                                            | £6.1bn                                                                                                                                            | £6.1bn                                                                                                                                            |\n",
       "| Basic income spending         | £3.4bn                                                                                                                                            | £3.9bn                                                                                                                                            | £5.1bn                                                                                                                                            | £5.8bn                                                                                                                                            | £6.8bn                                                                                                                                            | £7.7bn                                                                                                                                            |\n",
       "| Benefit outlay increase       | £0.3bn                                                                                                                                            | £0.3bn                                                                                                                                            | £0.5bn                                                                                                                                            | £0.5bn                                                                                                                                            | £0.7bn                                                                                                                                            | £0.7bn                                                                                                                                            |\n",
       "| Poverty impact                | -34.6%                                                                                                                                            | -40.8%                                                                                                                                            | -44.2%                                                                                                                                            | -45.6%                                                                                                                                            | -58.0%                                                                                                                                            | -70.9%                                                                                                                                            |\n",
       "| Inequality impact             | -10.0%                                                                                                                                            | -12.2%                                                                                                                                            | -14.6%                                                                                                                                            | -17.7%                                                                                                                                            | -18.0%                                                                                                                                            | -22.0%                                                                                                                                            |\n",
       "| Percent of population gaining | 59%                                                                                                                                               | 75%                                                                                                                                               | 62%                                                                                                                                               | 77%                                                                                                                                               | 64%                                                                                                                                               | 77%                                                                                                                                               |\n",
       "| UK supplement                 | 16.7%                                                                                                                                             | 26.5%                                                                                                                                             | 18.9%                                                                                                                                             | 28.4%                                                                                                                                             | 19.7%                                                                                                                                             | 29.1%                                                                                                                                             |\n",
       "| Link                          | <a href=\"https://policyengine.org/uk/policy?reform=36779&focus=policyOutput.decileRelativeImpact&region=ni&timePeriod=2023&baseline=1\">#36779</a> | <a href=\"https://policyengine.org/uk/policy?reform=36788&focus=policyOutput.decileRelativeImpact&region=ni&timePeriod=2023&baseline=1\">#36788</a> | <a href=\"https://policyengine.org/uk/policy?reform=36780&focus=policyOutput.decileRelativeImpact&region=ni&timePeriod=2023&baseline=1\">#36780</a> | <a href=\"https://policyengine.org/uk/policy?reform=36789&focus=policyOutput.decileRelativeImpact&region=ni&timePeriod=2023&baseline=1\">#36789</a> | <a href=\"https://policyengine.org/uk/policy?reform=36781&focus=policyOutput.decileRelativeImpact&region=ni&timePeriod=2023&baseline=1\">#36781</a> | <a href=\"https://policyengine.org/uk/policy?reform=36790&focus=policyOutput.decileRelativeImpact&region=ni&timePeriod=2023&baseline=1\">#36790</a> |"
      ],
      "text/plain": [
       "<IPython.core.display.Markdown object>"
      ]
     },
     "execution_count": 23,
     "metadata": {},
     "output_type": "execute_result"
    }
   ],
   "source": [
    "combined_table = pd.concat([\n",
    "    summary_table,\n",
    "    child_summary_table,\n",
    "]).T\n",
    "\n",
    "# Intersperse the columns (1, 4, 2, 5, 3, 6)\n",
    "\n",
    "combined_table = combined_table.iloc[:, [0, 3, 1, 4, 2, 5]]\n",
    "\n",
    "# Rename index (Model 1, Model 1(C), Model 2, Model 2(C), Model 3, Model 3(C))\n",
    "\n",
    "combined_table.columns = [\n",
    "    \"Model 1\",\n",
    "    \"Model 1c\",\n",
    "    \"Model 2\",\n",
    "    \"Model 2c\",\n",
    "    \"Model 3\",\n",
    "    \"Model 3c\",\n",
    "]\n",
    "\n",
    "for i in range(1, 4):\n",
    "    ubi_amount = {\n",
    "        1: \"£100\",\n",
    "        2: \"£150\",\n",
    "        3: \"£200\",\n",
    "    }[i]\n",
    "    combined_table[f\"Model {i}c\"].iloc[2] = ubi_amount\n",
    "\n",
    "Markdown(combined_table.to_markdown())"
   ]
  }
 ],
 "metadata": {
  "kernelspec": {
   "display_name": "Python 3.7.13 ('policyengine')",
   "language": "python",
   "name": "python3"
  },
  "language_info": {
   "codemirror_mode": {
    "name": "ipython",
    "version": 3
   },
   "file_extension": ".py",
   "mimetype": "text/x-python",
   "name": "python",
   "nbconvert_exporter": "python",
   "pygments_lexer": "ipython3",
   "version": "3.9.12"
  },
  "vscode": {
   "interpreter": {
    "hash": "b3d32dd368ae8f4a8d01f617ffd041f85e5cc660529457803f0af86bbe37ac63"
   }
  }
 },
 "nbformat": 4,
 "nbformat_minor": 4
}
