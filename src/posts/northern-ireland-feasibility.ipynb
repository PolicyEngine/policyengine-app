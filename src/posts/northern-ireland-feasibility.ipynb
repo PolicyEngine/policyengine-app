{
 "cells": [
  {
   "cell_type": "markdown",
   "metadata": {
    "tags": [
     "hide-input"
    ]
   },
   "source": [
    "# Executive summary\n",
    "\n",
    "Northern Ireland is both unusually egalitarian and unusually supportive of universal basic income, the idea to provide everyone in society a regular unconditional payment. But so far, no study has quantified how the nation might enact a universal basic income (UBI) through tax and benefit reforms.\n",
    "\n",
    "Following proposals by the UBI Lab Northern Ireland, we fill that gap. This paper begins with a description of Northern Ireland's economy, then identifies over 120 tax-funded UBI policies, and zooms in on three in particular. These policies cover the space of UBI amounts (£200 to £400 per adult, per month) and tax reforms (lowering the personal allowance and increasing tax rates). As shown below, each of the policies significantly lowers poverty and inequality in Northern Ireland, while benefiting a majority of the population.\n",
    "\n",
    "We follow our population-level analysis with a household analysis, visualising how each of these three policies would affect the net income and work incentives of archetypical households. While each policy benefits low-income households and families with children, it leaves childless singles worse off when their income exceeds about £10,000. It also lowers the payoff to working for most workers, though it smooths out some of the most severe disincentives in the current system.\n",
    "\n",
    "UBI is a significant economic proposition, and our analysis finds that it would leave a major mark on most Northern Ireland residents—in an undeniably progressive fashion. We conclude with caveats of our analysis, opportunities for less disruptive models, and room for more research.\n",
    "\n",
    "\n",
    "# Northern Ireland today\n",
    "\n",
    "The demographic and economic characteristics of Northern Ireland (NI) differ from those of the UK and other UK nations. In the main, this is lower economic output, but higher levels of social security spending. NI has a GDP per capita roughly 20% below the UK average,[^1] and the population of 1.9 million generates around £2.8 billion in Income Tax liabilities.[^2] Higher levels of public spending (with a net fiscal deficit of £9,500 per capita)[^3] in NI increase disposable incomes to offset this. As a result, we estimate that 6.1% of NI is in absolute poverty, compared to 5.5% across the UK.[^4] We also find that NI is more equal, with a Gini index of 0.274 against the UK's 0.333.\n",
    "\n",
    "Many of Northern Ireland’s taxes and benefits operate under centralised UK rules, though exceptions to this include local property taxes such as [domestic rates](https://www.finance-ni.gov.uk/topics/property-rating/domestic-rating) (and rates rebates), which exist in place of Council Tax and Council Tax Benefit. Unlike Scotland, Northern Ireland does not set alternative tax rates for Income Tax.\n",
    "\n",
    "When it comes to basic income, Northern Ireland is broadly supportive. A 2017 poll by Ipsos MORI found that 66% of Northern Irish people favoured a basic income, compared to 49% of UK residents.[^5] Northern Ireland's net favourability of +55 was more than double that of any other region surveyed.\n",
    "\n",
    "[^1]:\n",
    "     [Northern Ireland Statistics Research Agency, 2020](https://www.nisra.gov.uk/statistics/economic-output-statistics/gross-value-added-and-gross-domestic-product#:~:text=In%20terms%20of%20GDP%20per,78.6%20per%20cent%20of%20UK).).\n",
    "\n",
    "[^2]:\n",
    "     [HMRC, 2019](https://assets.publishing.service.gov.uk/government/uploads/system/uploads/attachment_data/file/853118/Disaggregated_tax_and_NICs_receipts_-_methodological_note.pdf).\n",
    "\n",
    "[^3]:\n",
    "     [ONS, 2021](https://www.ons.gov.uk/economy/governmentpublicsectorandtaxes/publicsectorfinance/articles/countryandregionalpublicsectorfinances/financialyearending2021#:~:text=On%20a%20per%20person%20basis,per%20head%20was%20%C2%A34%2C740.).\n",
    "\n",
    "[^4]:\n",
    "     Throughout this paper, we report absolute poverty rates before housing costs, using the OpenFisca UK calibrated Family Resources Survey extrapolated to 2022.\n",
    "\n",
    "[^5]:\n",
    "     This is the only poll to ask about basic income for Northern Ireland and the UK, per the [UBI Center's Poll Tracker](polls.ubicenter.org).\n",
    "\n",
    "\n"
   ]
  },
  {
   "cell_type": "code",
   "execution_count": 1,
   "metadata": {},
   "outputs": [
    {
     "data": {
      "text/plain": [
       "'{\"data\":[{\"alignmentgroup\":\"True\",\"customdata\":[[\"25% of people in Northern Ireland strongly support a UBI\"],[\"23% of people in Scotland strongly support a UBI\"],[\"16% of people in London strongly support a UBI\"],[\"16% of people in Wales strongly support a UBI\"],[\"15% of people in Midlands strongly support a UBI\"],[\"14% of people in North strongly support a UBI\"],[\"14% of people in England strongly support a UBI\"],[\"12% of people in South strongly support a UBI\"]],\"hovertemplate\":\"%{customdata[0]}\",\"legendgroup\":\"Strongly support\",\"marker\":{\"color\":\"#2C6496\",\"pattern\":{\"shape\":\"\"}},\"name\":\"Strongly support\",\"offsetgroup\":\"Strongly support\",\"orientation\":\"h\",\"showlegend\":true,\"text\":[\"25%\",\"23%\",\"16%\",\"16%\",\"15%\",\"14%\",\"14%\",\"12%\"],\"textposition\":\"inside\",\"x\":[25.2525252525,22.772277227700002,16.0,16.0,14.7058823529,14.0,14.0,12.1212121212],\"xaxis\":\"x\",\"y\":[\"Northern Ireland\",\"Scotland\",\"London\",\"Wales\",\"Midlands\",\"North\",\"England\",\"South\"],\"yaxis\":\"y\",\"type\":\"bar\",\"texttemplate\":\"%{text}\"},{\"alignmentgroup\":\"True\",\"customdata\":[[\"41% of people in Northern Ireland tend to support a UBI\"],[\"37% of people in South tend to support a UBI\"],[\"35% of people in North tend to support a UBI\"],[\"34% of people in England tend to support a UBI\"],[\"32% of people in Midlands tend to support a UBI\"],[\"31% of people in London tend to support a UBI\"],[\"31% of people in Wales tend to support a UBI\"],[\"24% of people in Scotland tend to support a UBI\"]],\"hovertemplate\":\"%{customdata[0]}\",\"legendgroup\":\"Tend to support\",\"marker\":{\"color\":\"#D8E6F3\",\"pattern\":{\"shape\":\"\"}},\"name\":\"Tend to support\",\"offsetgroup\":\"Tend to support\",\"orientation\":\"h\",\"showlegend\":true,\"text\":[\"41%\",\"37%\",\"35%\",\"34%\",\"32%\",\"31%\",\"31%\",\"24%\"],\"textposition\":\"inside\",\"x\":[41.4141414141,37.3737373737,35.0,34.0,32.3529411765,31.0,31.0,23.7623762376],\"xaxis\":\"x\",\"y\":[\"Northern Ireland\",\"South\",\"North\",\"England\",\"Midlands\",\"London\",\"Wales\",\"Scotland\"],\"yaxis\":\"y\",\"type\":\"bar\",\"texttemplate\":\"%{text}\"},{\"alignmentgroup\":\"True\",\"customdata\":[[\"29% of people in Wales neither support nor oppose a UBI\"],[\"20% of people in South neither support nor oppose a UBI\"],[\"20% of people in London neither support nor oppose a UBI\"],[\"19% of people in North neither support nor oppose a UBI\"],[\"19% of people in England neither support nor oppose a UBI\"],[\"18% of people in Midlands neither support nor oppose a UBI\"],[\"17% of people in Scotland neither support nor oppose a UBI\"],[\"17% of people in Northern Ireland neither support nor oppose a UBI\"]],\"hovertemplate\":\"%{customdata[0]}\",\"legendgroup\":\"Neither support nor oppose\",\"marker\":{\"color\":\"#FFFFFF\",\"pattern\":{\"shape\":\"\"}},\"name\":\"Neither support nor oppose\",\"offsetgroup\":\"Neither support nor oppose\",\"orientation\":\"h\",\"showlegend\":true,\"text\":[\"29%\",\"20%\",\"20%\",\"19%\",\"19%\",\"18%\",\"17%\",\"17%\"],\"textposition\":\"inside\",\"x\":[29.0,20.202020202,20.0,19.0,19.0,17.6470588235,16.8316831683,17.1717171717],\"xaxis\":\"x\",\"y\":[\"Wales\",\"South\",\"London\",\"North\",\"England\",\"Midlands\",\"Scotland\",\"Northern Ireland\"],\"yaxis\":\"y\",\"type\":\"bar\",\"texttemplate\":\"%{text}\"},{\"alignmentgroup\":\"True\",\"customdata\":[[\"10% of people in London don\\'t know a UBI\"],[\"7% of people in North don\\'t know a UBI\"],[\"7% of people in Midlands don\\'t know a UBI\"],[\"7% of people in England don\\'t know a UBI\"],[\"5% of people in South don\\'t know a UBI\"],[\"5% of people in Scotland don\\'t know a UBI\"],[\"5% of people in Northern Ireland don\\'t know a UBI\"],[\"4% of people in Wales don\\'t know a UBI\"]],\"hovertemplate\":\"%{customdata[0]}\",\"legendgroup\":\"Don\\'t know\",\"marker\":{\"color\":\"#FFFFFF\",\"pattern\":{\"shape\":\"\"}},\"name\":\"Don\\'t know\",\"offsetgroup\":\"Don\\'t know\",\"orientation\":\"h\",\"showlegend\":true,\"text\":[\"10%\",\"7%\",\"7%\",\"7%\",\"5%\",\"5%\",\"5%\",\"4%\"],\"textposition\":\"inside\",\"x\":[10.0,7.0,6.862745098,7.0,5.0505050505,4.9504950495,5.0505050505,4.0],\"xaxis\":\"x\",\"y\":[\"London\",\"North\",\"Midlands\",\"England\",\"South\",\"Scotland\",\"Northern Ireland\",\"Wales\"],\"yaxis\":\"y\",\"type\":\"bar\",\"texttemplate\":\"%{text}\"},{\"alignmentgroup\":\"True\",\"customdata\":[[\"20% of people in Scotland tend to oppose a UBI\"],[\"18% of people in Midlands tend to oppose a UBI\"],[\"17% of people in England tend to oppose a UBI\"],[\"16% of people in North tend to oppose a UBI\"],[\"16% of people in South tend to oppose a UBI\"],[\"16% of people in London tend to oppose a UBI\"],[\"12% of people in Wales tend to oppose a UBI\"],[\"8% of people in Northern Ireland tend to oppose a UBI\"]],\"hovertemplate\":\"%{customdata[0]}\",\"legendgroup\":\"Tend to oppose\",\"marker\":{\"color\":\"#808080\",\"pattern\":{\"shape\":\"\"}},\"name\":\"Tend to oppose\",\"offsetgroup\":\"Tend to oppose\",\"orientation\":\"h\",\"showlegend\":true,\"text\":[\"20%\",\"18%\",\"17%\",\"16%\",\"16%\",\"16%\",\"12%\",\"8%\"],\"textposition\":\"inside\",\"x\":[19.801980198,17.6470588235,17.0,16.0,16.1616161616,16.0,12.0,8.0808080808],\"xaxis\":\"x\",\"y\":[\"Scotland\",\"Midlands\",\"England\",\"North\",\"South\",\"London\",\"Wales\",\"Northern Ireland\"],\"yaxis\":\"y\",\"type\":\"bar\",\"texttemplate\":\"%{text}\"},{\"alignmentgroup\":\"True\",\"customdata\":[[\"12% of people in Scotland strongly oppose a UBI\"],[\"11% of people in Midlands strongly oppose a UBI\"],[\"9% of people in North strongly oppose a UBI\"],[\"9% of people in South strongly oppose a UBI\"],[\"9% of people in England strongly oppose a UBI\"],[\"8% of people in Wales strongly oppose a UBI\"],[\"7% of people in London strongly oppose a UBI\"],[\"3% of people in Northern Ireland strongly oppose a UBI\"]],\"hovertemplate\":\"%{customdata[0]}\",\"legendgroup\":\"Strongly oppose\",\"marker\":{\"color\":\"#616161\",\"pattern\":{\"shape\":\"\"}},\"name\":\"Strongly oppose\",\"offsetgroup\":\"Strongly oppose\",\"orientation\":\"h\",\"showlegend\":true,\"text\":[\"12%\",\"11%\",\"9%\",\"9%\",\"9%\",\"8%\",\"7%\",\"3%\"],\"textposition\":\"inside\",\"x\":[11.8811881188,10.7843137255,9.0,9.0909090909,9.0,8.0,7.0,3.0303030303],\"xaxis\":\"x\",\"y\":[\"Scotland\",\"Midlands\",\"North\",\"South\",\"England\",\"Wales\",\"London\",\"Northern Ireland\"],\"yaxis\":\"y\",\"type\":\"bar\",\"texttemplate\":\"%{text}\"}],\"layout\":{\"template\":{\"data\":{\"barpolar\":[{\"marker\":{\"line\":{\"color\":\"white\",\"width\":0.5},\"pattern\":{\"fillmode\":\"overlay\",\"size\":10,\"solidity\":0.2}},\"type\":\"barpolar\"}],\"bar\":[{\"error_x\":{\"color\":\"#2a3f5f\"},\"error_y\":{\"color\":\"#2a3f5f\"},\"marker\":{\"line\":{\"color\":\"white\",\"width\":0.5},\"pattern\":{\"fillmode\":\"overlay\",\"size\":10,\"solidity\":0.2}},\"type\":\"bar\"}],\"carpet\":[{\"aaxis\":{\"endlinecolor\":\"#2a3f5f\",\"gridcolor\":\"#C8D4E3\",\"linecolor\":\"#C8D4E3\",\"minorgridcolor\":\"#C8D4E3\",\"startlinecolor\":\"#2a3f5f\"},\"baxis\":{\"endlinecolor\":\"#2a3f5f\",\"gridcolor\":\"#C8D4E3\",\"linecolor\":\"#C8D4E3\",\"minorgridcolor\":\"#C8D4E3\",\"startlinecolor\":\"#2a3f5f\"},\"type\":\"carpet\"}],\"choropleth\":[{\"colorbar\":{\"outlinewidth\":0,\"ticks\":\"\"},\"type\":\"choropleth\"}],\"contourcarpet\":[{\"colorbar\":{\"outlinewidth\":0,\"ticks\":\"\"},\"type\":\"contourcarpet\"}],\"contour\":[{\"colorbar\":{\"outlinewidth\":0,\"ticks\":\"\"},\"colorscale\":[[0.0,\"#0d0887\"],[0.1111111111111111,\"#46039f\"],[0.2222222222222222,\"#7201a8\"],[0.3333333333333333,\"#9c179e\"],[0.4444444444444444,\"#bd3786\"],[0.5555555555555556,\"#d8576b\"],[0.6666666666666666,\"#ed7953\"],[0.7777777777777778,\"#fb9f3a\"],[0.8888888888888888,\"#fdca26\"],[1.0,\"#f0f921\"]],\"type\":\"contour\"}],\"heatmapgl\":[{\"colorbar\":{\"outlinewidth\":0,\"ticks\":\"\"},\"colorscale\":[[0.0,\"#0d0887\"],[0.1111111111111111,\"#46039f\"],[0.2222222222222222,\"#7201a8\"],[0.3333333333333333,\"#9c179e\"],[0.4444444444444444,\"#bd3786\"],[0.5555555555555556,\"#d8576b\"],[0.6666666666666666,\"#ed7953\"],[0.7777777777777778,\"#fb9f3a\"],[0.8888888888888888,\"#fdca26\"],[1.0,\"#f0f921\"]],\"type\":\"heatmapgl\"}],\"heatmap\":[{\"colorbar\":{\"outlinewidth\":0,\"ticks\":\"\"},\"colorscale\":[[0.0,\"#0d0887\"],[0.1111111111111111,\"#46039f\"],[0.2222222222222222,\"#7201a8\"],[0.3333333333333333,\"#9c179e\"],[0.4444444444444444,\"#bd3786\"],[0.5555555555555556,\"#d8576b\"],[0.6666666666666666,\"#ed7953\"],[0.7777777777777778,\"#fb9f3a\"],[0.8888888888888888,\"#fdca26\"],[1.0,\"#f0f921\"]],\"type\":\"heatmap\"}],\"histogram2dcontour\":[{\"colorbar\":{\"outlinewidth\":0,\"ticks\":\"\"},\"colorscale\":[[0.0,\"#0d0887\"],[0.1111111111111111,\"#46039f\"],[0.2222222222222222,\"#7201a8\"],[0.3333333333333333,\"#9c179e\"],[0.4444444444444444,\"#bd3786\"],[0.5555555555555556,\"#d8576b\"],[0.6666666666666666,\"#ed7953\"],[0.7777777777777778,\"#fb9f3a\"],[0.8888888888888888,\"#fdca26\"],[1.0,\"#f0f921\"]],\"type\":\"histogram2dcontour\"}],\"histogram2d\":[{\"colorbar\":{\"outlinewidth\":0,\"ticks\":\"\"},\"colorscale\":[[0.0,\"#0d0887\"],[0.1111111111111111,\"#46039f\"],[0.2222222222222222,\"#7201a8\"],[0.3333333333333333,\"#9c179e\"],[0.4444444444444444,\"#bd3786\"],[0.5555555555555556,\"#d8576b\"],[0.6666666666666666,\"#ed7953\"],[0.7777777777777778,\"#fb9f3a\"],[0.8888888888888888,\"#fdca26\"],[1.0,\"#f0f921\"]],\"type\":\"histogram2d\"}],\"histogram\":[{\"marker\":{\"pattern\":{\"fillmode\":\"overlay\",\"size\":10,\"solidity\":0.2}},\"type\":\"histogram\"}],\"mesh3d\":[{\"colorbar\":{\"outlinewidth\":0,\"ticks\":\"\"},\"type\":\"mesh3d\"}],\"parcoords\":[{\"line\":{\"colorbar\":{\"outlinewidth\":0,\"ticks\":\"\"}},\"type\":\"parcoords\"}],\"pie\":[{\"automargin\":true,\"type\":\"pie\"}],\"scatter3d\":[{\"line\":{\"colorbar\":{\"outlinewidth\":0,\"ticks\":\"\"}},\"marker\":{\"colorbar\":{\"outlinewidth\":0,\"ticks\":\"\"}},\"type\":\"scatter3d\"}],\"scattercarpet\":[{\"marker\":{\"colorbar\":{\"outlinewidth\":0,\"ticks\":\"\"}},\"type\":\"scattercarpet\"}],\"scattergeo\":[{\"marker\":{\"colorbar\":{\"outlinewidth\":0,\"ticks\":\"\"}},\"type\":\"scattergeo\"}],\"scattergl\":[{\"marker\":{\"colorbar\":{\"outlinewidth\":0,\"ticks\":\"\"}},\"type\":\"scattergl\"}],\"scattermapbox\":[{\"marker\":{\"colorbar\":{\"outlinewidth\":0,\"ticks\":\"\"}},\"type\":\"scattermapbox\"}],\"scatterpolargl\":[{\"marker\":{\"colorbar\":{\"outlinewidth\":0,\"ticks\":\"\"}},\"type\":\"scatterpolargl\"}],\"scatterpolar\":[{\"marker\":{\"colorbar\":{\"outlinewidth\":0,\"ticks\":\"\"}},\"type\":\"scatterpolar\"}],\"scatter\":[{\"fillpattern\":{\"fillmode\":\"overlay\",\"size\":10,\"solidity\":0.2},\"type\":\"scatter\"}],\"scatterternary\":[{\"marker\":{\"colorbar\":{\"outlinewidth\":0,\"ticks\":\"\"}},\"type\":\"scatterternary\"}],\"surface\":[{\"colorbar\":{\"outlinewidth\":0,\"ticks\":\"\"},\"colorscale\":[[0.0,\"#0d0887\"],[0.1111111111111111,\"#46039f\"],[0.2222222222222222,\"#7201a8\"],[0.3333333333333333,\"#9c179e\"],[0.4444444444444444,\"#bd3786\"],[0.5555555555555556,\"#d8576b\"],[0.6666666666666666,\"#ed7953\"],[0.7777777777777778,\"#fb9f3a\"],[0.8888888888888888,\"#fdca26\"],[1.0,\"#f0f921\"]],\"type\":\"surface\"}],\"table\":[{\"cells\":{\"fill\":{\"color\":\"#EBF0F8\"},\"line\":{\"color\":\"white\"}},\"header\":{\"fill\":{\"color\":\"#C8D4E3\"},\"line\":{\"color\":\"white\"}},\"type\":\"table\"}]},\"layout\":{\"annotationdefaults\":{\"arrowcolor\":\"#2a3f5f\",\"arrowhead\":0,\"arrowwidth\":1},\"autotypenumbers\":\"strict\",\"coloraxis\":{\"colorbar\":{\"outlinewidth\":0,\"ticks\":\"\"}},\"colorscale\":{\"diverging\":[[0,\"#8e0152\"],[0.1,\"#c51b7d\"],[0.2,\"#de77ae\"],[0.3,\"#f1b6da\"],[0.4,\"#fde0ef\"],[0.5,\"#f7f7f7\"],[0.6,\"#e6f5d0\"],[0.7,\"#b8e186\"],[0.8,\"#7fbc41\"],[0.9,\"#4d9221\"],[1,\"#276419\"]],\"sequential\":[[0.0,\"#0d0887\"],[0.1111111111111111,\"#46039f\"],[0.2222222222222222,\"#7201a8\"],[0.3333333333333333,\"#9c179e\"],[0.4444444444444444,\"#bd3786\"],[0.5555555555555556,\"#d8576b\"],[0.6666666666666666,\"#ed7953\"],[0.7777777777777778,\"#fb9f3a\"],[0.8888888888888888,\"#fdca26\"],[1.0,\"#f0f921\"]],\"sequentialminus\":[[0.0,\"#0d0887\"],[0.1111111111111111,\"#46039f\"],[0.2222222222222222,\"#7201a8\"],[0.3333333333333333,\"#9c179e\"],[0.4444444444444444,\"#bd3786\"],[0.5555555555555556,\"#d8576b\"],[0.6666666666666666,\"#ed7953\"],[0.7777777777777778,\"#fb9f3a\"],[0.8888888888888888,\"#fdca26\"],[1.0,\"#f0f921\"]]},\"colorway\":[\"#636efa\",\"#EF553B\",\"#00cc96\",\"#ab63fa\",\"#FFA15A\",\"#19d3f3\",\"#FF6692\",\"#B6E880\",\"#FF97FF\",\"#FECB52\"],\"font\":{\"color\":\"#2a3f5f\"},\"geo\":{\"bgcolor\":\"white\",\"lakecolor\":\"white\",\"landcolor\":\"white\",\"showlakes\":true,\"showland\":true,\"subunitcolor\":\"#C8D4E3\"},\"hoverlabel\":{\"align\":\"left\"},\"hovermode\":\"closest\",\"mapbox\":{\"style\":\"light\"},\"paper_bgcolor\":\"white\",\"plot_bgcolor\":\"white\",\"polar\":{\"angularaxis\":{\"gridcolor\":\"#EBF0F8\",\"linecolor\":\"#EBF0F8\",\"ticks\":\"\"},\"bgcolor\":\"white\",\"radialaxis\":{\"gridcolor\":\"#EBF0F8\",\"linecolor\":\"#EBF0F8\",\"ticks\":\"\"}},\"scene\":{\"xaxis\":{\"backgroundcolor\":\"white\",\"gridcolor\":\"#DFE8F3\",\"gridwidth\":2,\"linecolor\":\"#EBF0F8\",\"showbackground\":true,\"ticks\":\"\",\"zerolinecolor\":\"#EBF0F8\"},\"yaxis\":{\"backgroundcolor\":\"white\",\"gridcolor\":\"#DFE8F3\",\"gridwidth\":2,\"linecolor\":\"#EBF0F8\",\"showbackground\":true,\"ticks\":\"\",\"zerolinecolor\":\"#EBF0F8\"},\"zaxis\":{\"backgroundcolor\":\"white\",\"gridcolor\":\"#DFE8F3\",\"gridwidth\":2,\"linecolor\":\"#EBF0F8\",\"showbackground\":true,\"ticks\":\"\",\"zerolinecolor\":\"#EBF0F8\"}},\"shapedefaults\":{\"line\":{\"color\":\"#2a3f5f\"}},\"ternary\":{\"aaxis\":{\"gridcolor\":\"#DFE8F3\",\"linecolor\":\"#A2B1C6\",\"ticks\":\"\"},\"baxis\":{\"gridcolor\":\"#DFE8F3\",\"linecolor\":\"#A2B1C6\",\"ticks\":\"\"},\"bgcolor\":\"white\",\"caxis\":{\"gridcolor\":\"#DFE8F3\",\"linecolor\":\"#A2B1C6\",\"ticks\":\"\"}},\"title\":{\"x\":0.05},\"xaxis\":{\"automargin\":true,\"gridcolor\":\"#EBF0F8\",\"linecolor\":\"#EBF0F8\",\"ticks\":\"\",\"title\":{\"standoff\":15},\"zerolinecolor\":\"#EBF0F8\",\"zerolinewidth\":2},\"yaxis\":{\"automargin\":true,\"gridcolor\":\"#EBF0F8\",\"linecolor\":\"#EBF0F8\",\"ticks\":\"\",\"title\":{\"standoff\":15},\"zerolinecolor\":\"#EBF0F8\",\"zerolinewidth\":2}}},\"xaxis\":{\"anchor\":\"y\",\"domain\":[0.0,1.0],\"title\":{\"text\":\"Percent\"},\"tickangle\":0},\"yaxis\":{\"anchor\":\"x\",\"domain\":[0.0,1.0],\"title\":{\"text\":\"Region\"}},\"legend\":{\"title\":{},\"tracegroupgap\":0,\"orientation\":\"h\",\"yanchor\":\"bottom\",\"y\":-0.3},\"margin\":{\"t\":60},\"barmode\":\"relative\",\"uniformtext\":{\"minsize\":11,\"mode\":\"hide\"},\"title\":{\"text\":\"Figure 1: UBI favourability by UK subregion\"},\"font\":{\"family\":\"Roboto Serif\",\"color\":\"black\"},\"images\":[{\"sizex\":0.2,\"sizey\":0.2,\"source\":\"https://raw.githubusercontent.com/PolicyEngine/policyengine-app/master/src/images/logos/policyengine/blue.png\",\"x\":1,\"xanchor\":\"right\",\"xref\":\"paper\",\"y\":-0.15,\"yanchor\":\"bottom\",\"yref\":\"paper\"}],\"height\":600,\"width\":800,\"modebar\":{\"bgcolor\":\"rgba(0,0,0,0)\",\"color\":\"rgba(0,0,0,0)\"}}}'"
      ]
     },
     "execution_count": 1,
     "metadata": {},
     "output_type": "execute_result"
    }
   ],
   "source": [
    "import plotly.express as px\n",
    "from policyengine_core.charts import *\n",
    "\n",
    "RESPONSE_JSON = '{\"poll_id\":{\"90\":7,\"84\":7,\"66\":7,\"78\":7,\"54\":7,\"48\":7,\"72\":7,\"60\":7,\"91\":7,\"61\":7,\"49\":7,\"73\":7,\"55\":7,\"67\":7,\"79\":7,\"85\":7,\"80\":7,\"62\":7,\"68\":7,\"50\":7,\"74\":7,\"56\":7,\"86\":7,\"92\":7,\"71\":7,\"53\":7,\"59\":7,\"77\":7,\"65\":7,\"89\":7,\"95\":7,\"83\":7,\"87\":7,\"57\":7,\"75\":7,\"51\":7,\"63\":7,\"69\":7,\"81\":7,\"93\":7,\"88\":7,\"58\":7,\"52\":7,\"64\":7,\"76\":7,\"82\":7,\"70\":7,\"94\":7},\"question_id\":{\"90\":10,\"84\":10,\"66\":10,\"78\":10,\"54\":10,\"48\":10,\"72\":10,\"60\":10,\"91\":10,\"61\":10,\"49\":10,\"73\":10,\"55\":10,\"67\":10,\"79\":10,\"85\":10,\"80\":10,\"62\":10,\"68\":10,\"50\":10,\"74\":10,\"56\":10,\"86\":10,\"92\":10,\"71\":10,\"53\":10,\"59\":10,\"77\":10,\"65\":10,\"89\":10,\"95\":10,\"83\":10,\"87\":10,\"57\":10,\"75\":10,\"51\":10,\"63\":10,\"69\":10,\"81\":10,\"93\":10,\"88\":10,\"58\":10,\"52\":10,\"64\":10,\"76\":10,\"82\":10,\"70\":10,\"94\":10},\"response\":{\"90\":\"Strongly support\",\"84\":\"Strongly support\",\"66\":\"Strongly support\",\"78\":\"Strongly support\",\"54\":\"Strongly support\",\"48\":\"Strongly support\",\"72\":\"Strongly support\",\"60\":\"Strongly support\",\"91\":\"Tend to support\",\"61\":\"Tend to support\",\"49\":\"Tend to support\",\"73\":\"Tend to support\",\"55\":\"Tend to support\",\"67\":\"Tend to support\",\"79\":\"Tend to support\",\"85\":\"Tend to support\",\"80\":\"Neither support nor oppose\",\"62\":\"Neither support nor oppose\",\"68\":\"Neither support nor oppose\",\"50\":\"Neither support nor oppose\",\"74\":\"Neither support nor oppose\",\"56\":\"Neither support nor oppose\",\"86\":\"Neither support nor oppose\",\"92\":\"Neither support nor oppose\",\"71\":\"Don\\'t Know\",\"53\":\"Don\\'t Know\",\"59\":\"Don\\'t Know\",\"77\":\"Don\\'t Know\",\"65\":\"Don\\'t Know\",\"89\":\"Don\\'t Know\",\"95\":\"Don\\'t Know\",\"83\":\"Don\\'t Know\",\"87\":\"Tend to oppose\",\"57\":\"Tend to oppose\",\"75\":\"Tend to oppose\",\"51\":\"Tend to oppose\",\"63\":\"Tend to oppose\",\"69\":\"Tend to oppose\",\"81\":\"Tend to oppose\",\"93\":\"Tend to oppose\",\"88\":\"Strongly oppose\",\"58\":\"Strongly oppose\",\"52\":\"Strongly oppose\",\"64\":\"Strongly oppose\",\"76\":\"Strongly oppose\",\"82\":\"Strongly oppose\",\"70\":\"Strongly oppose\",\"94\":\"Strongly oppose\"},\"xtab1_var\":{\"90\":\"Region\",\"84\":\"Region\",\"66\":\"Region\",\"78\":\"Region\",\"54\":\"Region\",\"48\":\"Region\",\"72\":\"Region\",\"60\":\"Region\",\"91\":\"Region\",\"61\":\"Region\",\"49\":\"Region\",\"73\":\"Region\",\"55\":\"Region\",\"67\":\"Region\",\"79\":\"Region\",\"85\":\"Region\",\"80\":\"Region\",\"62\":\"Region\",\"68\":\"Region\",\"50\":\"Region\",\"74\":\"Region\",\"56\":\"Region\",\"86\":\"Region\",\"92\":\"Region\",\"71\":\"Region\",\"53\":\"Region\",\"59\":\"Region\",\"77\":\"Region\",\"65\":\"Region\",\"89\":\"Region\",\"95\":\"Region\",\"83\":\"Region\",\"87\":\"Region\",\"57\":\"Region\",\"75\":\"Region\",\"51\":\"Region\",\"63\":\"Region\",\"69\":\"Region\",\"81\":\"Region\",\"93\":\"Region\",\"88\":\"Region\",\"58\":\"Region\",\"52\":\"Region\",\"64\":\"Region\",\"76\":\"Region\",\"82\":\"Region\",\"70\":\"Region\",\"94\":\"Region\"},\"xtab1_val\":{\"90\":\"Northern Ireland\",\"84\":\"Scotland\",\"66\":\"London\",\"78\":\"Wales\",\"54\":\"Midlands\",\"48\":\"North\",\"72\":\"England\",\"60\":\"South\",\"91\":\"Northern Ireland\",\"61\":\"South\",\"49\":\"North\",\"73\":\"England\",\"55\":\"Midlands\",\"67\":\"London\",\"79\":\"Wales\",\"85\":\"Scotland\",\"80\":\"Wales\",\"62\":\"South\",\"68\":\"London\",\"50\":\"North\",\"74\":\"England\",\"56\":\"Midlands\",\"86\":\"Scotland\",\"92\":\"Northern Ireland\",\"71\":\"London\",\"53\":\"North\",\"59\":\"Midlands\",\"77\":\"England\",\"65\":\"South\",\"89\":\"Scotland\",\"95\":\"Northern Ireland\",\"83\":\"Wales\",\"87\":\"Scotland\",\"57\":\"Midlands\",\"75\":\"England\",\"51\":\"North\",\"63\":\"South\",\"69\":\"London\",\"81\":\"Wales\",\"93\":\"Northern Ireland\",\"88\":\"Scotland\",\"58\":\"Midlands\",\"52\":\"North\",\"64\":\"South\",\"76\":\"England\",\"82\":\"Wales\",\"70\":\"London\",\"94\":\"Northern Ireland\"},\"xtab2_var\":{\"90\":\"-\",\"84\":\"-\",\"66\":\"-\",\"78\":\"-\",\"54\":\"-\",\"48\":\"-\",\"72\":\"-\",\"60\":\"-\",\"91\":\"-\",\"61\":\"-\",\"49\":\"-\",\"73\":\"-\",\"55\":\"-\",\"67\":\"-\",\"79\":\"-\",\"85\":\"-\",\"80\":\"-\",\"62\":\"-\",\"68\":\"-\",\"50\":\"-\",\"74\":\"-\",\"56\":\"-\",\"86\":\"-\",\"92\":\"-\",\"71\":\"-\",\"53\":\"-\",\"59\":\"-\",\"77\":\"-\",\"65\":\"-\",\"89\":\"-\",\"95\":\"-\",\"83\":\"-\",\"87\":\"-\",\"57\":\"-\",\"75\":\"-\",\"51\":\"-\",\"63\":\"-\",\"69\":\"-\",\"81\":\"-\",\"93\":\"-\",\"88\":\"-\",\"58\":\"-\",\"52\":\"-\",\"64\":\"-\",\"76\":\"-\",\"82\":\"-\",\"70\":\"-\",\"94\":\"-\"},\"xtab2_val\":{\"90\":\"-\",\"84\":\"-\",\"66\":\"-\",\"78\":\"-\",\"54\":\"-\",\"48\":\"-\",\"72\":\"-\",\"60\":\"-\",\"91\":\"-\",\"61\":\"-\",\"49\":\"-\",\"73\":\"-\",\"55\":\"-\",\"67\":\"-\",\"79\":\"-\",\"85\":\"-\",\"80\":\"-\",\"62\":\"-\",\"68\":\"-\",\"50\":\"-\",\"74\":\"-\",\"56\":\"-\",\"86\":\"-\",\"92\":\"-\",\"71\":\"-\",\"53\":\"-\",\"59\":\"-\",\"77\":\"-\",\"65\":\"-\",\"89\":\"-\",\"95\":\"-\",\"83\":\"-\",\"87\":\"-\",\"57\":\"-\",\"75\":\"-\",\"51\":\"-\",\"63\":\"-\",\"69\":\"-\",\"81\":\"-\",\"93\":\"-\",\"88\":\"-\",\"58\":\"-\",\"52\":\"-\",\"64\":\"-\",\"76\":\"-\",\"82\":\"-\",\"70\":\"-\",\"94\":\"-\"},\"pct\":{\"90\":25.0,\"84\":23.0,\"66\":16.0,\"78\":16.0,\"54\":15.0,\"48\":14.0,\"72\":14.0,\"60\":12.0,\"91\":41.0,\"61\":37.0,\"49\":35.0,\"73\":34.0,\"55\":33.0,\"67\":31.0,\"79\":31.0,\"85\":24.0,\"80\":29.0,\"62\":20.0,\"68\":20.0,\"50\":19.0,\"74\":19.0,\"56\":18.0,\"86\":17.0,\"92\":17.0,\"71\":10.0,\"53\":7.0,\"59\":7.0,\"77\":7.0,\"65\":5.0,\"89\":5.0,\"95\":5.0,\"83\":4.0,\"87\":20.0,\"57\":18.0,\"75\":17.0,\"51\":16.0,\"63\":16.0,\"69\":16.0,\"81\":12.0,\"93\":8.0,\"88\":12.0,\"58\":11.0,\"52\":9.0,\"64\":9.0,\"76\":9.0,\"82\":8.0,\"70\":7.0,\"94\":3.0},\"notes\":{\"90\":null,\"84\":null,\"66\":null,\"78\":null,\"54\":null,\"48\":null,\"72\":null,\"60\":null,\"91\":null,\"61\":null,\"49\":null,\"73\":null,\"55\":null,\"67\":null,\"79\":null,\"85\":null,\"80\":null,\"62\":null,\"68\":null,\"50\":null,\"74\":null,\"56\":null,\"86\":null,\"92\":null,\"71\":null,\"53\":null,\"59\":null,\"77\":null,\"65\":null,\"89\":null,\"95\":null,\"83\":null,\"87\":null,\"57\":null,\"75\":null,\"51\":null,\"63\":null,\"69\":null,\"81\":null,\"93\":null,\"88\":null,\"58\":null,\"52\":null,\"64\":null,\"76\":null,\"82\":null,\"70\":null,\"94\":null},\"Region\":{\"90\":\"Northern Ireland\",\"84\":\"Scotland\",\"66\":\"London\",\"78\":\"Wales\",\"54\":\"Midlands\",\"48\":\"North\",\"72\":\"England\",\"60\":\"South\",\"91\":\"Northern Ireland\",\"61\":\"South\",\"49\":\"North\",\"73\":\"England\",\"55\":\"Midlands\",\"67\":\"London\",\"79\":\"Wales\",\"85\":\"Scotland\",\"80\":\"Wales\",\"62\":\"South\",\"68\":\"London\",\"50\":\"North\",\"74\":\"England\",\"56\":\"Midlands\",\"86\":\"Scotland\",\"92\":\"Northern Ireland\",\"71\":\"London\",\"53\":\"North\",\"59\":\"Midlands\",\"77\":\"England\",\"65\":\"South\",\"89\":\"Scotland\",\"95\":\"Northern Ireland\",\"83\":\"Wales\",\"87\":\"Scotland\",\"57\":\"Midlands\",\"75\":\"England\",\"51\":\"North\",\"63\":\"South\",\"69\":\"London\",\"81\":\"Wales\",\"93\":\"Northern Ireland\",\"88\":\"Scotland\",\"58\":\"Midlands\",\"52\":\"North\",\"64\":\"South\",\"76\":\"England\",\"82\":\"Wales\",\"70\":\"London\",\"94\":\"Northern Ireland\"},\"Response\":{\"90\":\"Strongly support\",\"84\":\"Strongly support\",\"66\":\"Strongly support\",\"78\":\"Strongly support\",\"54\":\"Strongly support\",\"48\":\"Strongly support\",\"72\":\"Strongly support\",\"60\":\"Strongly support\",\"91\":\"Tend to support\",\"61\":\"Tend to support\",\"49\":\"Tend to support\",\"73\":\"Tend to support\",\"55\":\"Tend to support\",\"67\":\"Tend to support\",\"79\":\"Tend to support\",\"85\":\"Tend to support\",\"80\":\"Neither support nor oppose\",\"62\":\"Neither support nor oppose\",\"68\":\"Neither support nor oppose\",\"50\":\"Neither support nor oppose\",\"74\":\"Neither support nor oppose\",\"56\":\"Neither support nor oppose\",\"86\":\"Neither support nor oppose\",\"92\":\"Neither support nor oppose\",\"71\":\"Don\\'t know\",\"53\":\"Don\\'t know\",\"59\":\"Don\\'t know\",\"77\":\"Don\\'t know\",\"65\":\"Don\\'t know\",\"89\":\"Don\\'t know\",\"95\":\"Don\\'t know\",\"83\":\"Don\\'t know\",\"87\":\"Tend to oppose\",\"57\":\"Tend to oppose\",\"75\":\"Tend to oppose\",\"51\":\"Tend to oppose\",\"63\":\"Tend to oppose\",\"69\":\"Tend to oppose\",\"81\":\"Tend to oppose\",\"93\":\"Tend to oppose\",\"88\":\"Strongly oppose\",\"58\":\"Strongly oppose\",\"52\":\"Strongly oppose\",\"64\":\"Strongly oppose\",\"76\":\"Strongly oppose\",\"82\":\"Strongly oppose\",\"70\":\"Strongly oppose\",\"94\":\"Strongly oppose\"},\"response_code\":{\"90\":6,\"84\":6,\"66\":6,\"78\":6,\"54\":6,\"48\":6,\"72\":6,\"60\":6,\"91\":5,\"61\":5,\"49\":5,\"73\":5,\"55\":5,\"67\":5,\"79\":5,\"85\":5,\"80\":4,\"62\":4,\"68\":4,\"50\":4,\"74\":4,\"56\":4,\"86\":4,\"92\":4,\"71\":3,\"53\":3,\"59\":3,\"77\":3,\"65\":3,\"89\":3,\"95\":3,\"83\":3,\"87\":2,\"57\":2,\"75\":2,\"51\":2,\"63\":2,\"69\":2,\"81\":2,\"93\":2,\"88\":1,\"58\":1,\"52\":1,\"64\":1,\"76\":1,\"82\":1,\"70\":1,\"94\":1},\"Percent\":{\"90\":25.2525252525,\"84\":22.7722772277,\"66\":16.0,\"78\":16.0,\"54\":14.7058823529,\"48\":14.0,\"72\":14.0,\"60\":12.1212121212,\"91\":41.4141414141,\"61\":37.3737373737,\"49\":35.0,\"73\":34.0,\"55\":32.3529411765,\"67\":31.0,\"79\":31.0,\"85\":23.7623762376,\"80\":29.0,\"62\":20.202020202,\"68\":20.0,\"50\":19.0,\"74\":19.0,\"56\":17.6470588235,\"86\":16.8316831683,\"92\":17.1717171717,\"71\":10.0,\"53\":7.0,\"59\":6.862745098,\"77\":7.0,\"65\":5.0505050505,\"89\":4.9504950495,\"95\":5.0505050505,\"83\":4.0,\"87\":19.801980198,\"57\":17.6470588235,\"75\":17.0,\"51\":16.0,\"63\":16.1616161616,\"69\":16.0,\"81\":12.0,\"93\":8.0808080808,\"88\":11.8811881188,\"58\":10.7843137255,\"52\":9.0,\"64\":9.0909090909,\"76\":9.0,\"82\":8.0,\"70\":7.0,\"94\":3.0303030303},\"Hover text\":{\"90\":\"25% of people in Northern Ireland strongly support a UBI\",\"84\":\"23% of people in Scotland strongly support a UBI\",\"66\":\"16% of people in London strongly support a UBI\",\"78\":\"16% of people in Wales strongly support a UBI\",\"54\":\"15% of people in Midlands strongly support a UBI\",\"48\":\"14% of people in North strongly support a UBI\",\"72\":\"14% of people in England strongly support a UBI\",\"60\":\"12% of people in South strongly support a UBI\",\"91\":\"41% of people in Northern Ireland tend to support a UBI\",\"61\":\"37% of people in South tend to support a UBI\",\"49\":\"35% of people in North tend to support a UBI\",\"73\":\"34% of people in England tend to support a UBI\",\"55\":\"32% of people in Midlands tend to support a UBI\",\"67\":\"31% of people in London tend to support a UBI\",\"79\":\"31% of people in Wales tend to support a UBI\",\"85\":\"24% of people in Scotland tend to support a UBI\",\"80\":\"29% of people in Wales neither support nor oppose a UBI\",\"62\":\"20% of people in South neither support nor oppose a UBI\",\"68\":\"20% of people in London neither support nor oppose a UBI\",\"50\":\"19% of people in North neither support nor oppose a UBI\",\"74\":\"19% of people in England neither support nor oppose a UBI\",\"56\":\"18% of people in Midlands neither support nor oppose a UBI\",\"86\":\"17% of people in Scotland neither support nor oppose a UBI\",\"92\":\"17% of people in Northern Ireland neither support nor oppose a UBI\",\"71\":\"10% of people in London don\\'t know a UBI\",\"53\":\"7% of people in North don\\'t know a UBI\",\"59\":\"7% of people in Midlands don\\'t know a UBI\",\"77\":\"7% of people in England don\\'t know a UBI\",\"65\":\"5% of people in South don\\'t know a UBI\",\"89\":\"5% of people in Scotland don\\'t know a UBI\",\"95\":\"5% of people in Northern Ireland don\\'t know a UBI\",\"83\":\"4% of people in Wales don\\'t know a UBI\",\"87\":\"20% of people in Scotland tend to oppose a UBI\",\"57\":\"18% of people in Midlands tend to oppose a UBI\",\"75\":\"17% of people in England tend to oppose a UBI\",\"51\":\"16% of people in North tend to oppose a UBI\",\"63\":\"16% of people in South tend to oppose a UBI\",\"69\":\"16% of people in London tend to oppose a UBI\",\"81\":\"12% of people in Wales tend to oppose a UBI\",\"93\":\"8% of people in Northern Ireland tend to oppose a UBI\",\"88\":\"12% of people in Scotland strongly oppose a UBI\",\"58\":\"11% of people in Midlands strongly oppose a UBI\",\"52\":\"9% of people in North strongly oppose a UBI\",\"64\":\"9% of people in South strongly oppose a UBI\",\"76\":\"9% of people in England strongly oppose a UBI\",\"82\":\"8% of people in Wales strongly oppose a UBI\",\"70\":\"7% of people in London strongly oppose a UBI\",\"94\":\"3% of people in Northern Ireland strongly oppose a UBI\"},\"Text\":{\"90\":\"25%\",\"84\":\"23%\",\"66\":\"16%\",\"78\":\"16%\",\"54\":\"15%\",\"48\":\"14%\",\"72\":\"14%\",\"60\":\"12%\",\"91\":\"41%\",\"61\":\"37%\",\"49\":\"35%\",\"73\":\"34%\",\"55\":\"32%\",\"67\":\"31%\",\"79\":\"31%\",\"85\":\"24%\",\"80\":\"29%\",\"62\":\"20%\",\"68\":\"20%\",\"50\":\"19%\",\"74\":\"19%\",\"56\":\"18%\",\"86\":\"17%\",\"92\":\"17%\",\"71\":\"10%\",\"53\":\"7%\",\"59\":\"7%\",\"77\":\"7%\",\"65\":\"5%\",\"89\":\"5%\",\"95\":\"5%\",\"83\":\"4%\",\"87\":\"20%\",\"57\":\"18%\",\"75\":\"17%\",\"51\":\"16%\",\"63\":\"16%\",\"69\":\"16%\",\"81\":\"12%\",\"93\":\"8%\",\"88\":\"12%\",\"58\":\"11%\",\"52\":\"9%\",\"64\":\"9%\",\"76\":\"9%\",\"82\":\"8%\",\"70\":\"7%\",\"94\":\"3%\"}}'\n",
    "\n",
    "responses = pd.read_json(RESPONSE_JSON)\n",
    "\n",
    "responses[\"Hover text\"] = [\n",
    "    f\"{responses.iloc[i]['Percent']:.0f}% of people in {responses.iloc[i]['Region']} {responses.iloc[i]['Response'].lower()} a UBI\"\n",
    "    for i in range(len(responses))\n",
    "]\n",
    "\n",
    "responses[\"Text\"] = [\n",
    "    f\"{responses.iloc[i]['Percent']:.0f}%\"\n",
    "    for i in range(len(responses))\n",
    "]\n",
    "\n",
    "fig = px.bar(\n",
    "    responses,\n",
    "    x=\"Percent\",\n",
    "    y=\"xtab1_val\",\n",
    "    text=\"Text\",\n",
    "    color=\"Response\",\n",
    "    custom_data=[\"Hover text\"],\n",
    "    color_discrete_map={\n",
    "        \"Strongly oppose\": DARK_GRAY,\n",
    "        \"Tend to oppose\": GRAY,\n",
    "        \"Don't know\": WHITE,\n",
    "        \"Neither support nor oppose\": WHITE,\n",
    "        \"Tend to support\": BLUE_LIGHT,\n",
    "        \"Strongly support\": BLUE_PRIMARY,\n",
    "    },\n",
    ")\n",
    "\n",
    "fig.update_traces(\n",
    "    textposition=\"inside\",\n",
    "    texttemplate=\"%{text}\",\n",
    "    hovertemplate=\"%{customdata[0]}\",\n",
    ")\n",
    "\n",
    "fig.update_layout(\n",
    "    uniformtext_minsize=11,\n",
    "    uniformtext_mode=\"hide\",\n",
    "    xaxis_tickangle=0,\n",
    "    legend_title_text=None,\n",
    "    yaxis_title=\"Region\",\n",
    "    title=\"Figure 1: UBI favourability by UK subregion\",\n",
    "    legend=dict(\n",
    "        orientation=\"h\",\n",
    "        yanchor=\"bottom\",\n",
    "        y=-0.3,\n",
    "    )\n",
    ")\n",
    "\n",
    "format_fig(fig).update_layout(\n",
    "    width=800,\n",
    "    height=600,\n",
    ").to_json()"
   ]
  },
  {
   "cell_type": "markdown",
   "metadata": {},
   "source": [
    "*Source: [Ipsos MORI, August 2017](https://www.ipsos.com/ipsos-mori/en-uk/half-uk-adults-would-support-universal-basic-income-principle). Full question: \"Assuming the level would be set roughly at the amount the UK government judged to be necessary to cover basic needs, e.g. food and clothing (but not housing costs), to what extent would you support or oppose the UK Government introducing a basic income?\".*\n",
    "\n",
    "A full UBI in NI would align with the nation's egalitarianism and public opinion. The next section models how NI could do it.\n",
    "\n",
    "\n",
    "# Exploring the space of feasible policies\n",
    "\n",
    "One could model an infinite number of basic income policies for Northern Ireland. We constrained the problem by defining UBI parameter values, tax variables to adjust, and requirements for the resulting policy.\n",
    "\n",
    "In particular, we limited to UBI policies of the following form:\n",
    "\n",
    "\n",
    "* Amounts per adult (aged 16 or over) of £200, £300, and £400 per month\n",
    "* No amount per child\n",
    "* UBI payments do not count as income for tax or means-tested benefits\n",
    "\n",
    "To fund the UBI, we considered three levers:\n",
    "\n",
    "\n",
    "* Personal allowance, from zero to the current value of £12,570 (we also adjusted the higher rate threshold to keep it at £50,270)\n",
    "* Basic rate increase\n",
    "* Ratio of higher and additional rate increases to the basic rate increase, of 0x (not changing the higher and additional rates), 1x, and 2x\n",
    "\n",
    "Finally, we constrained the end policy to:\n",
    "\n",
    "\n",
    "* Be budget-neutral (assuming no behavioural responses)\n",
    "* Avoid raising marginal tax rates above 100%,[^6] either via the normal tax rates, the phase-out of the personal allowance or benefit phase-outs\n",
    "\n",
    "[^6]:\n",
    "     We exclude the Child Benefit High-Income Tax Charge from contributing to this limit, because the MTR addition from that is dependent on the number of children, with no upper bound.\n"
   ]
  },
  {
   "cell_type": "code",
   "execution_count": 2,
   "metadata": {
    "tags": [
     "hide-input"
    ]
   },
   "outputs": [],
   "source": [
    "from policyengine_uk import Microsimulation\n",
    "import numpy as np\n",
    "import pandas as pd\n",
    "import plotly.express as px\n",
    "import plotly.graph_objects as go\n",
    "from scipy.optimize import bisect\n",
    "from policyengine_core.charts import format_fig\n",
    "from policyengine_core.model_api import *\n",
    "import pandas as pd\n",
    "# Silence warnings\n",
    "import warnings\n",
    "warnings.filterwarnings(\"ignore\")\n",
    "import plotly.io as pio\n",
    "pio.renderers.default = \"notebook\"\n",
    "\n",
    "def filter_to_ni(sim: Microsimulation):\n",
    "    weights = sim.calculate(\"household_weight\")\n",
    "    country = sim.calculate(\"country\")\n",
    "    sim.set_input(\"household_weight\", 2023, np.where(country == \"NORTHERN_IRELAND\", weights, 0))\n",
    "\n",
    "baseline = Microsimulation()\n",
    "filter_to_ni(baseline)\n",
    "\n",
    "\n",
    "def get_ubi_cost(\n",
    "    adult_amount: float = 400 * 12,\n",
    "    child_amount: float = 200 * 12,\n",
    "    senior_amount: float = 100 * 12,\n",
    "):\n",
    "    in_ni = baseline.calculate(\"country\", map_to=\"person\") == \"NORTHERN_IRELAND\"\n",
    "    age = baseline.calculate(\"age\")\n",
    "    retired = baseline.calculate(\"is_SP_age\")\n",
    "    num_adults = ((age >= 16) * (~retired))[in_ni].sum()\n",
    "    num_children = (age < 16)[in_ni].sum()\n",
    "    num_seniors = (retired)[in_ni].sum()\n",
    "    return adult_amount * num_adults + child_amount * num_children + senior_amount * num_seniors\n",
    "\n",
    "from policyengine_uk.model_api import *\n",
    "\n",
    "def ubi_ni_reform(\n",
    "    personal_allowance: float = 12_570,\n",
    "    higher_rate_threshold: float = 50_270,\n",
    "    basic_rate: float = 0.2,\n",
    "    higher_rate: float = 0.4,\n",
    "    additional_rate: float = 0.45,\n",
    "    child_bi: float = 0,\n",
    "    adult_bi: float = 0,\n",
    "    senior_bi: float = 0,\n",
    "\n",
    ") -> Reform:\n",
    "    TIME_PERIOD = \"year:2023:10\"\n",
    "    return Reform.from_dict({\n",
    "        \"gov.hmrc.income_tax.rates.uk[0].rate\": { TIME_PERIOD: basic_rate },\n",
    "        \"gov.hmrc.income_tax.rates.uk[1].rate\": { TIME_PERIOD: higher_rate },\n",
    "        \"gov.hmrc.income_tax.rates.uk[2].rate\": { TIME_PERIOD: additional_rate },\n",
    "        \"gov.hmrc.income_tax.rates.uk[1].threshold\": { TIME_PERIOD: float(higher_rate_threshold) },\n",
    "        \"gov.hmrc.income_tax.allowances.personal_allowance.amount\": { TIME_PERIOD: float(personal_allowance) },\n",
    "        \"gov.contrib.ubi_center.basic_income.amount.by_age.child\": { TIME_PERIOD: child_bi / 52 },\n",
    "        \"gov.contrib.ubi_center.basic_income.amount.by_age.working_age\": { TIME_PERIOD: adult_bi / 52 },\n",
    "        \"gov.contrib.ubi_center.basic_income.amount.by_age.senior\": { TIME_PERIOD: senior_bi / 52 },\n",
    "    }, country_id=\"uk\")\n",
    "\n",
    "def get_revenue_slow_estimate(\n",
    "    personal_allowance: float,\n",
    "    basic_rate_addition: float,\n",
    "    higher_rate_addition: float,\n",
    "    additional_rate_addition: float,\n",
    ") -> float:\n",
    "    baseline = Microsimulation()\n",
    "    reformed = Microsimulation(\n",
    "        reform=ubi_ni_reform(\n",
    "            personal_allowance=personal_allowance,\n",
    "            higher_rate_threshold = 50_270 + 12_570 - personal_allowance,\n",
    "            basic_rate=0.2 + basic_rate_addition,\n",
    "            higher_rate=0.4 + higher_rate_addition,\n",
    "            additional_rate=0.45 + additional_rate_addition,\n",
    "            child_bi=0,\n",
    "            adult_bi=0,\n",
    "            senior_bi=0,\n",
    "        )\n",
    "    )\n",
    "    filter_to_ni(baseline)\n",
    "    filter_to_ni(reformed)\n",
    "    return baseline.calculate(\"household_net_income\").sum() - reformed.calculate(\"household_net_income\").sum()\n",
    "\n",
    "def get_revenue_quick_estimate(\n",
    "    personal_allowance: float,\n",
    "    basic_rate_addition: float,\n",
    "    higher_rate_addition: float,\n",
    "    additional_rate_addition: float,\n",
    ") -> float:\n",
    "    income = baseline.calc(\"adjusted_net_income\")\n",
    "    weight = income.weights\n",
    "    add_rate_income = np.maximum(0, income - 125_140)\n",
    "    higher_rate_income = np.maximum(0, income - 50_270) - add_rate_income\n",
    "    basic_rate_income_b = np.maximum(0, income - higher_rate_income - add_rate_income - 12_570)\n",
    "    basic_rate_income_r = np.maximum(0, income - higher_rate_income - add_rate_income - personal_allowance)\n",
    "    basic_rate_increased_tax = (\n",
    "        basic_rate_income_r * (0.2 + basic_rate_addition)\n",
    "        - basic_rate_income_b * 0.2\n",
    "    )\n",
    "    higher_rate_increased_tax = baseline.calculate(\"higher_rate_earned_income\").values * higher_rate_addition\n",
    "    additional_rate_increased_tax = baseline.calculate(\"add_rate_earned_income\").values * additional_rate_addition\n",
    "    increased_tax = basic_rate_increased_tax + higher_rate_increased_tax + additional_rate_increased_tax\n",
    "    return (increased_tax * weight).sum() * 0.93 # Rough benefit response ratio\n",
    "\n",
    "def solve_rates(\n",
    "    adult_ubi: float = 0,\n",
    "    personal_allowance: float = 12_570,\n",
    "    higher_rate_ratio: float = 1,\n",
    "    additional_rate_ratio: float = 1,\n",
    "):\n",
    "    def adjusted_reform_cost(\n",
    "        basic_rate_addition: float = 0,\n",
    "    ) -> float:\n",
    "        adjusted_revenue = get_revenue_quick_estimate(personal_allowance, basic_rate_addition, basic_rate_addition * higher_rate_ratio, basic_rate_addition * additional_rate_ratio)\n",
    "        ubi_cost = get_ubi_cost(\n",
    "            adult_ubi, \n",
    "            0, # adult_ubi * 0.5, <- A previous version gave half the adult UBI to children\n",
    "            adult_ubi\n",
    "        )\n",
    "        return ubi_cost * 0.75 - adjusted_revenue # Assume 25% of the UBI is paid for by Westminster\n",
    "    \n",
    "    return bisect(adjusted_reform_cost, -1, 1, xtol=1e-3)\n",
    "\n",
    "\n",
    "headline_ubi_rates = []\n",
    "personal_allowances = []\n",
    "basic_rate_additions = []\n",
    "higher_add_addition_ratios = []\n",
    "\n",
    "for pa in [12_570] + list(range(12_000, -1000, -1000)):\n",
    "    for ubi_rate in list([200 * 12, 300 * 12, 400 * 12]):\n",
    "        for higher_add_ratio in list((0, 1, 2)):\n",
    "            headline_ubi_rates.append(ubi_rate)\n",
    "            personal_allowances.append(pa)\n",
    "            basic_rate_additions.append(solve_rates(adult_ubi=ubi_rate, personal_allowance=pa, higher_rate_ratio=higher_add_ratio, additional_rate_ratio=higher_add_ratio))\n",
    "            higher_add_addition_ratios.append(higher_add_ratio)\n",
    "\n",
    "\n",
    "df = pd.DataFrame({\n",
    "    \"Adult UBI\": headline_ubi_rates,\n",
    "    \"Personal Allowance\": personal_allowances,\n",
    "    \"Basic rate addition\": basic_rate_additions,\n",
    "    \"Higher/additional rate increase ratio\": higher_add_addition_ratios,\n",
    "})\n",
    "df[\"Personal Allowance reduction\"] = 12_570 - df[\"Personal Allowance\"]\n",
    "df[\"Higher rate addition\"] = df[\"Basic rate addition\"] * df[\"Higher/additional rate increase ratio\"]\n",
    "df[\"Basic rate addition (x100)\"] = df[\"Basic rate addition\"] * 100\n",
    "df[\"Additional rate addition\"] = df[\"Basic rate addition\"] * df[\"Higher/additional rate increase ratio\"]\n",
    "df[\"UBI/Increase ratio combination\"] = [\n",
    "    f\"{higher_add_ratio:.0%}\" + \" \" * (ubi // 100)\n",
    "    for ubi, higher_add_ratio in zip(\n",
    "        df[\"Adult UBI\"],\n",
    "        df[\"Higher/additional rate increase ratio\"],\n",
    "    )\n",
    "]\n",
    "df[\"Label\"] = [\n",
    "    f\"A £{ubi:,.0f} UBI and £{pa:,.0f} Personal Allowance can be made <br>75% budget neutral by setting the basic, higher and additional rates<br> to {0.2 + basic_rate_addition:.1%}, {0.4 + higher_rate_addition:.1%} and {0.45 + additional_rate_addition:.1%} respectively.\"\n",
    "    for ubi, pa, basic_rate_addition, higher_rate_addition, additional_rate_addition in zip(\n",
    "        df[\"Adult UBI\"],\n",
    "        df[\"Personal Allowance\"],\n",
    "        df[\"Basic rate addition\"],\n",
    "        df[\"Higher rate addition\"],\n",
    "        df[\"Additional rate addition\"],\n",
    "    )\n",
    "]\n",
    "\n",
    "df = df.sort_values([\"Adult UBI\", \"Higher/additional rate increase ratio\"])\n",
    "\n",
    "df[\"Basic rate\"] = df[\"Basic rate addition\"] + 0.2\n",
    "df[\"Higher rate\"] = df[\"Higher rate addition\"] + 0.4\n",
    "df[\"Add. rate\"] = df[\"Additional rate addition\"] + 0.45\n",
    "\n",
    "df[[\n",
    "    \"Adult UBI\",\n",
    "    \"Personal Allowance\",\n",
    "    \"Basic rate addition\",\n",
    "    \"Higher/additional rate increase ratio\",\n",
    "]].to_csv(\"table.csv\", index=False)\n",
    "df[\"Feasible MTR\"] = np.where(\n",
    "        # £150k+ MTR under 100%\n",
    "        (df[\"Add. rate\"] + 0.0325 < 1)\n",
    "        # £100k-150k MTR under 100%\n",
    "        & (df[\"Higher rate\"] * (\n",
    "            np.where(df[\"Personal Allowance\"] > 0, 1.5, 1)\n",
    "        ) + 0.0325 < 1),\n",
    "        \"Yes\",\n",
    "        \"No\",\n",
    "    )\n",
    "\n",
    "df.to_csv(\"experiment_results.csv\")"
   ]
  },
  {
   "cell_type": "code",
   "execution_count": 3,
   "metadata": {
    "tags": [
     "highlighted-left"
    ]
   },
   "outputs": [
    {
     "data": {
      "text/plain": [
       "'{\"data\":[{\"customdata\":[[\"A \\\\u00a32,400 UBI and \\\\u00a312,570 Personal Allowance can be made <br>75% budget neutral by setting the basic, higher and additional rates<br> to 42.4%, 40.0% and 45.0% respectively.\"],[\"A \\\\u00a32,400 UBI and \\\\u00a312,000 Personal Allowance can be made <br>75% budget neutral by setting the basic, higher and additional rates<br> to 40.6%, 40.0% and 45.0% respectively.\"],[\"A \\\\u00a32,400 UBI and \\\\u00a311,000 Personal Allowance can be made <br>75% budget neutral by setting the basic, higher and additional rates<br> to 38.1%, 40.0% and 45.0% respectively.\"],[\"A \\\\u00a32,400 UBI and \\\\u00a310,000 Personal Allowance can be made <br>75% budget neutral by setting the basic, higher and additional rates<br> to 35.5%, 40.0% and 45.0% respectively.\"],[\"A \\\\u00a32,400 UBI and \\\\u00a39,000 Personal Allowance can be made <br>75% budget neutral by setting the basic, higher and additional rates<br> to 33.4%, 40.0% and 45.0% respectively.\"],[\"A \\\\u00a32,400 UBI and \\\\u00a38,000 Personal Allowance can be made <br>75% budget neutral by setting the basic, higher and additional rates<br> to 31.2%, 40.0% and 45.0% respectively.\"],[\"A \\\\u00a32,400 UBI and \\\\u00a37,000 Personal Allowance can be made <br>75% budget neutral by setting the basic, higher and additional rates<br> to 29.3%, 40.0% and 45.0% respectively.\"],[\"A \\\\u00a32,400 UBI and \\\\u00a36,000 Personal Allowance can be made <br>75% budget neutral by setting the basic, higher and additional rates<br> to 27.5%, 40.0% and 45.0% respectively.\"],[\"A \\\\u00a32,400 UBI and \\\\u00a35,000 Personal Allowance can be made <br>75% budget neutral by setting the basic, higher and additional rates<br> to 26.0%, 40.0% and 45.0% respectively.\"],[\"A \\\\u00a32,400 UBI and \\\\u00a34,000 Personal Allowance can be made <br>75% budget neutral by setting the basic, higher and additional rates<br> to 24.4%, 40.0% and 45.0% respectively.\"],[\"A \\\\u00a32,400 UBI and \\\\u00a33,000 Personal Allowance can be made <br>75% budget neutral by setting the basic, higher and additional rates<br> to 23.2%, 40.0% and 45.0% respectively.\"],[\"A \\\\u00a32,400 UBI and \\\\u00a32,000 Personal Allowance can be made <br>75% budget neutral by setting the basic, higher and additional rates<br> to 21.9%, 40.0% and 45.0% respectively.\"],[\"A \\\\u00a32,400 UBI and \\\\u00a31,000 Personal Allowance can be made <br>75% budget neutral by setting the basic, higher and additional rates<br> to 20.9%, 40.0% and 45.0% respectively.\"],[\"A \\\\u00a32,400 UBI and \\\\u00a30 Personal Allowance can be made <br>75% budget neutral by setting the basic, higher and additional rates<br> to 19.9%, 40.0% and 45.0% respectively.\"]],\"hovertemplate\":\"%{customdata[0]}\",\"legendgroup\":\"0%                        \",\"line\":{\"color\":\"#ABCEEB\",\"dash\":\"solid\"},\"marker\":{\"symbol\":\"circle\"},\"mode\":\"lines\",\"name\":\"0%                        \",\"orientation\":\"v\",\"showlegend\":true,\"x\":[12570,12000,11000,10000,9000,8000,7000,6000,5000,4000,3000,2000,1000,0],\"xaxis\":\"x\",\"y\":[0.4236328125,0.4060546875,0.3806640625,0.3552734375,0.3337890625,0.3123046875,0.2927734375,0.2751953125,0.2595703125,0.2439453125,0.2322265625,0.2185546875,0.2087890625,0.1990234375],\"yaxis\":\"y\",\"type\":\"scatter\"},{\"customdata\":[[\"A \\\\u00a32,400 UBI and \\\\u00a312,570 Personal Allowance can be made <br>75% budget neutral by setting the basic, higher and additional rates<br> to 37.9%, 57.9% and 62.9% respectively.\"],[\"A \\\\u00a32,400 UBI and \\\\u00a312,000 Personal Allowance can be made <br>75% budget neutral by setting the basic, higher and additional rates<br> to 36.7%, 56.7% and 61.7% respectively.\"],[\"A \\\\u00a32,400 UBI and \\\\u00a311,000 Personal Allowance can be made <br>75% budget neutral by setting the basic, higher and additional rates<br> to 34.7%, 54.7% and 59.7% respectively.\"],[\"A \\\\u00a32,400 UBI and \\\\u00a310,000 Personal Allowance can be made <br>75% budget neutral by setting the basic, higher and additional rates<br> to 32.8%, 52.8% and 57.8% respectively.\"],[\"A \\\\u00a32,400 UBI and \\\\u00a39,000 Personal Allowance can be made <br>75% budget neutral by setting the basic, higher and additional rates<br> to 31.2%, 51.2% and 56.2% respectively.\"],[\"A \\\\u00a32,400 UBI and \\\\u00a38,000 Personal Allowance can be made <br>75% budget neutral by setting the basic, higher and additional rates<br> to 29.5%, 49.5% and 54.5% respectively.\"],[\"A \\\\u00a32,400 UBI and \\\\u00a37,000 Personal Allowance can be made <br>75% budget neutral by setting the basic, higher and additional rates<br> to 27.9%, 47.9% and 52.9% respectively.\"],[\"A \\\\u00a32,400 UBI and \\\\u00a36,000 Personal Allowance can be made <br>75% budget neutral by setting the basic, higher and additional rates<br> to 26.5%, 46.5% and 51.5% respectively.\"],[\"A \\\\u00a32,400 UBI and \\\\u00a35,000 Personal Allowance can be made <br>75% budget neutral by setting the basic, higher and additional rates<br> to 25.2%, 45.2% and 50.2% respectively.\"],[\"A \\\\u00a32,400 UBI and \\\\u00a34,000 Personal Allowance can be made <br>75% budget neutral by setting the basic, higher and additional rates<br> to 24.0%, 44.0% and 49.0% respectively.\"],[\"A \\\\u00a32,400 UBI and \\\\u00a33,000 Personal Allowance can be made <br>75% budget neutral by setting the basic, higher and additional rates<br> to 22.8%, 42.8% and 47.8% respectively.\"],[\"A \\\\u00a32,400 UBI and \\\\u00a32,000 Personal Allowance can be made <br>75% budget neutral by setting the basic, higher and additional rates<br> to 21.7%, 41.7% and 46.7% respectively.\"],[\"A \\\\u00a32,400 UBI and \\\\u00a31,000 Personal Allowance can be made <br>75% budget neutral by setting the basic, higher and additional rates<br> to 20.7%, 40.7% and 45.7% respectively.\"],[\"A \\\\u00a32,400 UBI and \\\\u00a30 Personal Allowance can be made <br>75% budget neutral by setting the basic, higher and additional rates<br> to 19.9%, 39.9% and 44.9% respectively.\"]],\"hovertemplate\":\"%{customdata[0]}\",\"legendgroup\":\"100%                        \",\"line\":{\"color\":\"#49A6E2\",\"dash\":\"solid\"},\"marker\":{\"symbol\":\"circle\"},\"mode\":\"lines\",\"name\":\"100%                        \",\"orientation\":\"v\",\"showlegend\":false,\"x\":[12570,12000,11000,10000,9000,8000,7000,6000,5000,4000,3000,2000,1000,0],\"xaxis\":\"x\",\"y\":[0.3787109375,0.3669921875,0.3474609375,0.3279296875,0.3123046875,0.2947265625,0.2791015625,0.2654296875,0.2517578125,0.2400390625,0.2283203125,0.2166015625,0.2068359375,0.1990234375],\"yaxis\":\"y\",\"type\":\"scatter\"},{\"customdata\":[[\"A \\\\u00a32,400 UBI and \\\\u00a310,000 Personal Allowance can be made <br>75% budget neutral by setting the basic, higher and additional rates<br> to 31.0%, 62.1% and 67.1% respectively.\"],[\"A \\\\u00a32,400 UBI and \\\\u00a39,000 Personal Allowance can be made <br>75% budget neutral by setting the basic, higher and additional rates<br> to 29.5%, 58.9% and 63.9% respectively.\"],[\"A \\\\u00a32,400 UBI and \\\\u00a38,000 Personal Allowance can be made <br>75% budget neutral by setting the basic, higher and additional rates<br> to 28.3%, 56.6% and 61.6% respectively.\"],[\"A \\\\u00a32,400 UBI and \\\\u00a37,000 Personal Allowance can be made <br>75% budget neutral by setting the basic, higher and additional rates<br> to 26.9%, 53.9% and 58.9% respectively.\"],[\"A \\\\u00a32,400 UBI and \\\\u00a36,000 Personal Allowance can be made <br>75% budget neutral by setting the basic, higher and additional rates<br> to 25.8%, 51.5% and 56.5% respectively.\"],[\"A \\\\u00a32,400 UBI and \\\\u00a35,000 Personal Allowance can be made <br>75% budget neutral by setting the basic, higher and additional rates<br> to 24.6%, 49.2% and 54.2% respectively.\"],[\"A \\\\u00a32,400 UBI and \\\\u00a34,000 Personal Allowance can be made <br>75% budget neutral by setting the basic, higher and additional rates<br> to 23.4%, 46.8% and 51.8% respectively.\"],[\"A \\\\u00a32,400 UBI and \\\\u00a33,000 Personal Allowance can be made <br>75% budget neutral by setting the basic, higher and additional rates<br> to 22.4%, 44.9% and 49.9% respectively.\"],[\"A \\\\u00a32,400 UBI and \\\\u00a32,000 Personal Allowance can be made <br>75% budget neutral by setting the basic, higher and additional rates<br> to 21.5%, 42.9% and 47.9% respectively.\"],[\"A \\\\u00a32,400 UBI and \\\\u00a31,000 Personal Allowance can be made <br>75% budget neutral by setting the basic, higher and additional rates<br> to 20.7%, 41.4% and 46.4% respectively.\"],[\"A \\\\u00a32,400 UBI and \\\\u00a30 Personal Allowance can be made <br>75% budget neutral by setting the basic, higher and additional rates<br> to 19.9%, 39.8% and 44.8% respectively.\"]],\"hovertemplate\":\"%{customdata[0]}\",\"legendgroup\":\"200%                        \",\"line\":{\"color\":\"#1976D2\",\"dash\":\"solid\"},\"marker\":{\"symbol\":\"circle\"},\"mode\":\"lines\",\"name\":\"200%                        \",\"orientation\":\"v\",\"showlegend\":false,\"x\":[10000,9000,8000,7000,6000,5000,4000,3000,2000,1000,0],\"xaxis\":\"x\",\"y\":[0.3103515625,0.2947265625,0.2830078125,0.2693359375,0.2576171875,0.2458984375,0.2341796875,0.2244140625,0.2146484375,0.2068359375,0.1990234375],\"yaxis\":\"y\",\"type\":\"scatter\"},{\"customdata\":[[\"A \\\\u00a33,600 UBI and \\\\u00a312,570 Personal Allowance can be made <br>75% budget neutral by setting the basic, higher and additional rates<br> to 53.5%, 40.0% and 45.0% respectively.\"],[\"A \\\\u00a33,600 UBI and \\\\u00a312,000 Personal Allowance can be made <br>75% budget neutral by setting the basic, higher and additional rates<br> to 51.3%, 40.0% and 45.0% respectively.\"],[\"A \\\\u00a33,600 UBI and \\\\u00a311,000 Personal Allowance can be made <br>75% budget neutral by setting the basic, higher and additional rates<br> to 48.0%, 40.0% and 45.0% respectively.\"],[\"A \\\\u00a33,600 UBI and \\\\u00a310,000 Personal Allowance can be made <br>75% budget neutral by setting the basic, higher and additional rates<br> to 44.9%, 40.0% and 45.0% respectively.\"],[\"A \\\\u00a33,600 UBI and \\\\u00a39,000 Personal Allowance can be made <br>75% budget neutral by setting the basic, higher and additional rates<br> to 42.2%, 40.0% and 45.0% respectively.\"],[\"A \\\\u00a33,600 UBI and \\\\u00a38,000 Personal Allowance can be made <br>75% budget neutral by setting the basic, higher and additional rates<br> to 39.4%, 40.0% and 45.0% respectively.\"],[\"A \\\\u00a33,600 UBI and \\\\u00a37,000 Personal Allowance can be made <br>75% budget neutral by setting the basic, higher and additional rates<br> to 37.1%, 40.0% and 45.0% respectively.\"],[\"A \\\\u00a33,600 UBI and \\\\u00a36,000 Personal Allowance can be made <br>75% budget neutral by setting the basic, higher and additional rates<br> to 34.7%, 40.0% and 45.0% respectively.\"],[\"A \\\\u00a33,600 UBI and \\\\u00a35,000 Personal Allowance can be made <br>75% budget neutral by setting the basic, higher and additional rates<br> to 32.8%, 40.0% and 45.0% respectively.\"],[\"A \\\\u00a33,600 UBI and \\\\u00a34,000 Personal Allowance can be made <br>75% budget neutral by setting the basic, higher and additional rates<br> to 30.8%, 40.0% and 45.0% respectively.\"],[\"A \\\\u00a33,600 UBI and \\\\u00a33,000 Personal Allowance can be made <br>75% budget neutral by setting the basic, higher and additional rates<br> to 29.3%, 40.0% and 45.0% respectively.\"],[\"A \\\\u00a33,600 UBI and \\\\u00a32,000 Personal Allowance can be made <br>75% budget neutral by setting the basic, higher and additional rates<br> to 27.7%, 40.0% and 45.0% respectively.\"],[\"A \\\\u00a33,600 UBI and \\\\u00a31,000 Personal Allowance can be made <br>75% budget neutral by setting the basic, higher and additional rates<br> to 26.3%, 40.0% and 45.0% respectively.\"],[\"A \\\\u00a33,600 UBI and \\\\u00a30 Personal Allowance can be made <br>75% budget neutral by setting the basic, higher and additional rates<br> to 25.0%, 40.0% and 45.0% respectively.\"]],\"hovertemplate\":\"%{customdata[0]}\",\"legendgroup\":\"0%                                    \",\"line\":{\"color\":\"#ABCEEB\",\"dash\":\"solid\"},\"marker\":{\"symbol\":\"circle\"},\"mode\":\"lines\",\"name\":\"0%                                    \",\"orientation\":\"v\",\"showlegend\":false,\"x\":[12570,12000,11000,10000,9000,8000,7000,6000,5000,4000,3000,2000,1000,0],\"xaxis\":\"x\",\"y\":[0.5349609375,0.5134765625,0.4802734375,0.4490234375,0.4216796875,0.3943359375,0.3708984375,0.3474609375,0.3279296875,0.3083984375,0.2927734375,0.2771484375,0.2634765625,0.2498046875],\"yaxis\":\"y\",\"type\":\"scatter\"},{\"customdata\":[[\"A \\\\u00a33,600 UBI and \\\\u00a311,000 Personal Allowance can be made <br>75% budget neutral by setting the basic, higher and additional rates<br> to 42.9%, 62.9% and 67.9% respectively.\"],[\"A \\\\u00a33,600 UBI and \\\\u00a310,000 Personal Allowance can be made <br>75% budget neutral by setting the basic, higher and additional rates<br> to 40.6%, 60.6% and 65.6% respectively.\"],[\"A \\\\u00a33,600 UBI and \\\\u00a39,000 Personal Allowance can be made <br>75% budget neutral by setting the basic, higher and additional rates<br> to 38.5%, 58.5% and 63.5% respectively.\"],[\"A \\\\u00a33,600 UBI and \\\\u00a38,000 Personal Allowance can be made <br>75% budget neutral by setting the basic, higher and additional rates<br> to 36.5%, 56.5% and 61.5% respectively.\"],[\"A \\\\u00a33,600 UBI and \\\\u00a37,000 Personal Allowance can be made <br>75% budget neutral by setting the basic, higher and additional rates<br> to 34.6%, 54.6% and 59.6% respectively.\"],[\"A \\\\u00a33,600 UBI and \\\\u00a36,000 Personal Allowance can be made <br>75% budget neutral by setting the basic, higher and additional rates<br> to 32.8%, 52.8% and 57.8% respectively.\"],[\"A \\\\u00a33,600 UBI and \\\\u00a35,000 Personal Allowance can be made <br>75% budget neutral by setting the basic, higher and additional rates<br> to 31.0%, 51.0% and 56.0% respectively.\"],[\"A \\\\u00a33,600 UBI and \\\\u00a34,000 Personal Allowance can be made <br>75% budget neutral by setting the basic, higher and additional rates<br> to 29.5%, 49.5% and 54.5% respectively.\"],[\"A \\\\u00a33,600 UBI and \\\\u00a33,000 Personal Allowance can be made <br>75% budget neutral by setting the basic, higher and additional rates<br> to 28.1%, 48.1% and 53.1% respectively.\"],[\"A \\\\u00a33,600 UBI and \\\\u00a32,000 Personal Allowance can be made <br>75% budget neutral by setting the basic, higher and additional rates<br> to 26.7%, 46.7% and 51.7% respectively.\"],[\"A \\\\u00a33,600 UBI and \\\\u00a31,000 Personal Allowance can be made <br>75% budget neutral by setting the basic, higher and additional rates<br> to 25.6%, 45.6% and 50.6% respectively.\"],[\"A \\\\u00a33,600 UBI and \\\\u00a30 Personal Allowance can be made <br>75% budget neutral by setting the basic, higher and additional rates<br> to 24.6%, 44.6% and 49.6% respectively.\"]],\"hovertemplate\":\"%{customdata[0]}\",\"legendgroup\":\"100%                                    \",\"line\":{\"color\":\"#49A6E2\",\"dash\":\"solid\"},\"marker\":{\"symbol\":\"circle\"},\"mode\":\"lines\",\"name\":\"100%                                    \",\"orientation\":\"v\",\"showlegend\":true,\"x\":[11000,10000,9000,8000,7000,6000,5000,4000,3000,2000,1000,0],\"xaxis\":\"x\",\"y\":[0.4294921875,0.4060546875,0.3845703125,0.3650390625,0.3455078125,0.3279296875,0.3103515625,0.2947265625,0.2810546875,0.2673828125,0.2556640625,0.2458984375],\"yaxis\":\"y\",\"type\":\"scatter\"},{\"customdata\":[[\"A \\\\u00a33,600 UBI and \\\\u00a36,000 Personal Allowance can be made <br>75% budget neutral by setting the basic, higher and additional rates<br> to 31.2%, 62.5% and 67.5% respectively.\"],[\"A \\\\u00a33,600 UBI and \\\\u00a35,000 Personal Allowance can be made <br>75% budget neutral by setting the basic, higher and additional rates<br> to 29.7%, 59.3% and 64.3% respectively.\"],[\"A \\\\u00a33,600 UBI and \\\\u00a34,000 Personal Allowance can be made <br>75% budget neutral by setting the basic, higher and additional rates<br> to 28.5%, 57.0% and 62.0% respectively.\"],[\"A \\\\u00a33,600 UBI and \\\\u00a33,000 Personal Allowance can be made <br>75% budget neutral by setting the basic, higher and additional rates<br> to 27.3%, 54.6% and 59.6% respectively.\"],[\"A \\\\u00a33,600 UBI and \\\\u00a32,000 Personal Allowance can be made <br>75% budget neutral by setting the basic, higher and additional rates<br> to 26.2%, 52.3% and 57.3% respectively.\"],[\"A \\\\u00a33,600 UBI and \\\\u00a31,000 Personal Allowance can be made <br>75% budget neutral by setting the basic, higher and additional rates<br> to 25.0%, 50.0% and 55.0% respectively.\"],[\"A \\\\u00a33,600 UBI and \\\\u00a30 Personal Allowance can be made <br>75% budget neutral by setting the basic, higher and additional rates<br> to 24.2%, 48.4% and 53.4% respectively.\"]],\"hovertemplate\":\"%{customdata[0]}\",\"legendgroup\":\"200%                                    \",\"line\":{\"color\":\"#1976D2\",\"dash\":\"solid\"},\"marker\":{\"symbol\":\"circle\"},\"mode\":\"lines\",\"name\":\"200%                                    \",\"orientation\":\"v\",\"showlegend\":false,\"x\":[6000,5000,4000,3000,2000,1000,0],\"xaxis\":\"x\",\"y\":[0.3123046875,0.2966796875,0.2849609375,0.2732421875,0.2615234375,0.2498046875,0.2419921875],\"yaxis\":\"y\",\"type\":\"scatter\"},{\"customdata\":[[\"A \\\\u00a34,800 UBI and \\\\u00a312,570 Personal Allowance can be made <br>75% budget neutral by setting the basic, higher and additional rates<br> to 64.6%, 40.0% and 45.0% respectively.\"],[\"A \\\\u00a34,800 UBI and \\\\u00a312,000 Personal Allowance can be made <br>75% budget neutral by setting the basic, higher and additional rates<br> to 62.1%, 40.0% and 45.0% respectively.\"],[\"A \\\\u00a34,800 UBI and \\\\u00a311,000 Personal Allowance can be made <br>75% budget neutral by setting the basic, higher and additional rates<br> to 58.0%, 40.0% and 45.0% respectively.\"],[\"A \\\\u00a34,800 UBI and \\\\u00a310,000 Personal Allowance can be made <br>75% budget neutral by setting the basic, higher and additional rates<br> to 54.3%, 40.0% and 45.0% respectively.\"],[\"A \\\\u00a34,800 UBI and \\\\u00a39,000 Personal Allowance can be made <br>75% budget neutral by setting the basic, higher and additional rates<br> to 51.0%, 40.0% and 45.0% respectively.\"],[\"A \\\\u00a34,800 UBI and \\\\u00a38,000 Personal Allowance can be made <br>75% budget neutral by setting the basic, higher and additional rates<br> to 47.8%, 40.0% and 45.0% respectively.\"],[\"A \\\\u00a34,800 UBI and \\\\u00a37,000 Personal Allowance can be made <br>75% budget neutral by setting the basic, higher and additional rates<br> to 44.9%, 40.0% and 45.0% respectively.\"],[\"A \\\\u00a34,800 UBI and \\\\u00a36,000 Personal Allowance can be made <br>75% budget neutral by setting the basic, higher and additional rates<br> to 42.2%, 40.0% and 45.0% respectively.\"],[\"A \\\\u00a34,800 UBI and \\\\u00a35,000 Personal Allowance can be made <br>75% budget neutral by setting the basic, higher and additional rates<br> to 39.6%, 40.0% and 45.0% respectively.\"],[\"A \\\\u00a34,800 UBI and \\\\u00a34,000 Personal Allowance can be made <br>75% budget neutral by setting the basic, higher and additional rates<br> to 37.3%, 40.0% and 45.0% respectively.\"],[\"A \\\\u00a34,800 UBI and \\\\u00a33,000 Personal Allowance can be made <br>75% budget neutral by setting the basic, higher and additional rates<br> to 35.3%, 40.0% and 45.0% respectively.\"],[\"A \\\\u00a34,800 UBI and \\\\u00a32,000 Personal Allowance can be made <br>75% budget neutral by setting the basic, higher and additional rates<br> to 33.6%, 40.0% and 45.0% respectively.\"],[\"A \\\\u00a34,800 UBI and \\\\u00a31,000 Personal Allowance can be made <br>75% budget neutral by setting the basic, higher and additional rates<br> to 31.8%, 40.0% and 45.0% respectively.\"],[\"A \\\\u00a34,800 UBI and \\\\u00a30 Personal Allowance can be made <br>75% budget neutral by setting the basic, higher and additional rates<br> to 30.3%, 40.0% and 45.0% respectively.\"]],\"hovertemplate\":\"%{customdata[0]}\",\"legendgroup\":\"0%                                                \",\"line\":{\"color\":\"#ABCEEB\",\"dash\":\"solid\"},\"marker\":{\"symbol\":\"circle\"},\"mode\":\"lines\",\"name\":\"0%                                                \",\"orientation\":\"v\",\"showlegend\":false,\"x\":[12570,12000,11000,10000,9000,8000,7000,6000,5000,4000,3000,2000,1000,0],\"xaxis\":\"x\",\"y\":[0.6462890625,0.6208984375,0.5798828125,0.5427734375,0.5095703125,0.4783203125,0.4490234375,0.4216796875,0.3962890625,0.3728515625,0.3533203125,0.3357421875,0.3181640625,0.3025390625],\"yaxis\":\"y\",\"type\":\"scatter\"},{\"customdata\":[[\"A \\\\u00a34,800 UBI and \\\\u00a38,000 Personal Allowance can be made <br>75% budget neutral by setting the basic, higher and additional rates<br> to 43.3%, 63.3% and 68.3% respectively.\"],[\"A \\\\u00a34,800 UBI and \\\\u00a37,000 Personal Allowance can be made <br>75% budget neutral by setting the basic, higher and additional rates<br> to 41.2%, 61.2% and 66.2% respectively.\"],[\"A \\\\u00a34,800 UBI and \\\\u00a36,000 Personal Allowance can be made <br>75% budget neutral by setting the basic, higher and additional rates<br> to 39.0%, 59.0% and 64.0% respectively.\"],[\"A \\\\u00a34,800 UBI and \\\\u00a35,000 Personal Allowance can be made <br>75% budget neutral by setting the basic, higher and additional rates<br> to 36.9%, 56.9% and 61.9% respectively.\"],[\"A \\\\u00a34,800 UBI and \\\\u00a34,000 Personal Allowance can be made <br>75% budget neutral by setting the basic, higher and additional rates<br> to 35.1%, 55.1% and 60.1% respectively.\"],[\"A \\\\u00a34,800 UBI and \\\\u00a33,000 Personal Allowance can be made <br>75% budget neutral by setting the basic, higher and additional rates<br> to 33.6%, 53.6% and 58.6% respectively.\"],[\"A \\\\u00a34,800 UBI and \\\\u00a32,000 Personal Allowance can be made <br>75% budget neutral by setting the basic, higher and additional rates<br> to 32.0%, 52.0% and 57.0% respectively.\"],[\"A \\\\u00a34,800 UBI and \\\\u00a31,000 Personal Allowance can be made <br>75% budget neutral by setting the basic, higher and additional rates<br> to 30.4%, 50.4% and 55.4% respectively.\"],[\"A \\\\u00a34,800 UBI and \\\\u00a30 Personal Allowance can be made <br>75% budget neutral by setting the basic, higher and additional rates<br> to 29.3%, 49.3% and 54.3% respectively.\"]],\"hovertemplate\":\"%{customdata[0]}\",\"legendgroup\":\"100%                                                \",\"line\":{\"color\":\"#49A6E2\",\"dash\":\"solid\"},\"marker\":{\"symbol\":\"circle\"},\"mode\":\"lines\",\"name\":\"100%                                                \",\"orientation\":\"v\",\"showlegend\":false,\"x\":[8000,7000,6000,5000,4000,3000,2000,1000,0],\"xaxis\":\"x\",\"y\":[0.4333984375,0.4119140625,0.3904296875,0.3689453125,0.3513671875,0.3357421875,0.3201171875,0.3044921875,0.2927734375],\"yaxis\":\"y\",\"type\":\"scatter\"},{\"customdata\":[[\"A \\\\u00a34,800 UBI and \\\\u00a33,000 Personal Allowance can be made <br>75% budget neutral by setting the basic, higher and additional rates<br> to 32.0%, 64.0% and 69.0% respectively.\"],[\"A \\\\u00a34,800 UBI and \\\\u00a32,000 Personal Allowance can be made <br>75% budget neutral by setting the basic, higher and additional rates<br> to 30.6%, 61.3% and 66.3% respectively.\"],[\"A \\\\u00a34,800 UBI and \\\\u00a31,000 Personal Allowance can be made <br>75% budget neutral by setting the basic, higher and additional rates<br> to 29.5%, 58.9% and 63.9% respectively.\"],[\"A \\\\u00a34,800 UBI and \\\\u00a30 Personal Allowance can be made <br>75% budget neutral by setting the basic, higher and additional rates<br> to 28.3%, 56.6% and 61.6% respectively.\"]],\"hovertemplate\":\"%{customdata[0]}\",\"legendgroup\":\"200%                                                \",\"line\":{\"color\":\"#1976D2\",\"dash\":\"solid\"},\"marker\":{\"symbol\":\"circle\"},\"mode\":\"lines\",\"name\":\"200%                                                \",\"orientation\":\"v\",\"showlegend\":true,\"x\":[3000,2000,1000,0],\"xaxis\":\"x\",\"y\":[0.3201171875,0.3064453125,0.2947265625,0.2830078125],\"yaxis\":\"y\",\"type\":\"scatter\"},{\"mode\":\"text\",\"name\":\"Label\",\"showlegend\":false,\"text\":[\"\\\\u00a3200/mo\",\"\\\\u00a3300/mo\",\"\\\\u00a3400/mo\"],\"textposition\":\"bottom center\",\"x\":[1000,1000,1000],\"y\":[0.18,0.265,0.35],\"type\":\"scatter\"}],\"layout\":{\"template\":{\"data\":{\"barpolar\":[{\"marker\":{\"line\":{\"color\":\"white\",\"width\":0.5},\"pattern\":{\"fillmode\":\"overlay\",\"size\":10,\"solidity\":0.2}},\"type\":\"barpolar\"}],\"bar\":[{\"error_x\":{\"color\":\"#2a3f5f\"},\"error_y\":{\"color\":\"#2a3f5f\"},\"marker\":{\"line\":{\"color\":\"white\",\"width\":0.5},\"pattern\":{\"fillmode\":\"overlay\",\"size\":10,\"solidity\":0.2}},\"type\":\"bar\"}],\"carpet\":[{\"aaxis\":{\"endlinecolor\":\"#2a3f5f\",\"gridcolor\":\"#C8D4E3\",\"linecolor\":\"#C8D4E3\",\"minorgridcolor\":\"#C8D4E3\",\"startlinecolor\":\"#2a3f5f\"},\"baxis\":{\"endlinecolor\":\"#2a3f5f\",\"gridcolor\":\"#C8D4E3\",\"linecolor\":\"#C8D4E3\",\"minorgridcolor\":\"#C8D4E3\",\"startlinecolor\":\"#2a3f5f\"},\"type\":\"carpet\"}],\"choropleth\":[{\"colorbar\":{\"outlinewidth\":0,\"ticks\":\"\"},\"type\":\"choropleth\"}],\"contourcarpet\":[{\"colorbar\":{\"outlinewidth\":0,\"ticks\":\"\"},\"type\":\"contourcarpet\"}],\"contour\":[{\"colorbar\":{\"outlinewidth\":0,\"ticks\":\"\"},\"colorscale\":[[0.0,\"#0d0887\"],[0.1111111111111111,\"#46039f\"],[0.2222222222222222,\"#7201a8\"],[0.3333333333333333,\"#9c179e\"],[0.4444444444444444,\"#bd3786\"],[0.5555555555555556,\"#d8576b\"],[0.6666666666666666,\"#ed7953\"],[0.7777777777777778,\"#fb9f3a\"],[0.8888888888888888,\"#fdca26\"],[1.0,\"#f0f921\"]],\"type\":\"contour\"}],\"heatmapgl\":[{\"colorbar\":{\"outlinewidth\":0,\"ticks\":\"\"},\"colorscale\":[[0.0,\"#0d0887\"],[0.1111111111111111,\"#46039f\"],[0.2222222222222222,\"#7201a8\"],[0.3333333333333333,\"#9c179e\"],[0.4444444444444444,\"#bd3786\"],[0.5555555555555556,\"#d8576b\"],[0.6666666666666666,\"#ed7953\"],[0.7777777777777778,\"#fb9f3a\"],[0.8888888888888888,\"#fdca26\"],[1.0,\"#f0f921\"]],\"type\":\"heatmapgl\"}],\"heatmap\":[{\"colorbar\":{\"outlinewidth\":0,\"ticks\":\"\"},\"colorscale\":[[0.0,\"#0d0887\"],[0.1111111111111111,\"#46039f\"],[0.2222222222222222,\"#7201a8\"],[0.3333333333333333,\"#9c179e\"],[0.4444444444444444,\"#bd3786\"],[0.5555555555555556,\"#d8576b\"],[0.6666666666666666,\"#ed7953\"],[0.7777777777777778,\"#fb9f3a\"],[0.8888888888888888,\"#fdca26\"],[1.0,\"#f0f921\"]],\"type\":\"heatmap\"}],\"histogram2dcontour\":[{\"colorbar\":{\"outlinewidth\":0,\"ticks\":\"\"},\"colorscale\":[[0.0,\"#0d0887\"],[0.1111111111111111,\"#46039f\"],[0.2222222222222222,\"#7201a8\"],[0.3333333333333333,\"#9c179e\"],[0.4444444444444444,\"#bd3786\"],[0.5555555555555556,\"#d8576b\"],[0.6666666666666666,\"#ed7953\"],[0.7777777777777778,\"#fb9f3a\"],[0.8888888888888888,\"#fdca26\"],[1.0,\"#f0f921\"]],\"type\":\"histogram2dcontour\"}],\"histogram2d\":[{\"colorbar\":{\"outlinewidth\":0,\"ticks\":\"\"},\"colorscale\":[[0.0,\"#0d0887\"],[0.1111111111111111,\"#46039f\"],[0.2222222222222222,\"#7201a8\"],[0.3333333333333333,\"#9c179e\"],[0.4444444444444444,\"#bd3786\"],[0.5555555555555556,\"#d8576b\"],[0.6666666666666666,\"#ed7953\"],[0.7777777777777778,\"#fb9f3a\"],[0.8888888888888888,\"#fdca26\"],[1.0,\"#f0f921\"]],\"type\":\"histogram2d\"}],\"histogram\":[{\"marker\":{\"pattern\":{\"fillmode\":\"overlay\",\"size\":10,\"solidity\":0.2}},\"type\":\"histogram\"}],\"mesh3d\":[{\"colorbar\":{\"outlinewidth\":0,\"ticks\":\"\"},\"type\":\"mesh3d\"}],\"parcoords\":[{\"line\":{\"colorbar\":{\"outlinewidth\":0,\"ticks\":\"\"}},\"type\":\"parcoords\"}],\"pie\":[{\"automargin\":true,\"type\":\"pie\"}],\"scatter3d\":[{\"line\":{\"colorbar\":{\"outlinewidth\":0,\"ticks\":\"\"}},\"marker\":{\"colorbar\":{\"outlinewidth\":0,\"ticks\":\"\"}},\"type\":\"scatter3d\"}],\"scattercarpet\":[{\"marker\":{\"colorbar\":{\"outlinewidth\":0,\"ticks\":\"\"}},\"type\":\"scattercarpet\"}],\"scattergeo\":[{\"marker\":{\"colorbar\":{\"outlinewidth\":0,\"ticks\":\"\"}},\"type\":\"scattergeo\"}],\"scattergl\":[{\"marker\":{\"colorbar\":{\"outlinewidth\":0,\"ticks\":\"\"}},\"type\":\"scattergl\"}],\"scattermapbox\":[{\"marker\":{\"colorbar\":{\"outlinewidth\":0,\"ticks\":\"\"}},\"type\":\"scattermapbox\"}],\"scatterpolargl\":[{\"marker\":{\"colorbar\":{\"outlinewidth\":0,\"ticks\":\"\"}},\"type\":\"scatterpolargl\"}],\"scatterpolar\":[{\"marker\":{\"colorbar\":{\"outlinewidth\":0,\"ticks\":\"\"}},\"type\":\"scatterpolar\"}],\"scatter\":[{\"fillpattern\":{\"fillmode\":\"overlay\",\"size\":10,\"solidity\":0.2},\"type\":\"scatter\"}],\"scatterternary\":[{\"marker\":{\"colorbar\":{\"outlinewidth\":0,\"ticks\":\"\"}},\"type\":\"scatterternary\"}],\"surface\":[{\"colorbar\":{\"outlinewidth\":0,\"ticks\":\"\"},\"colorscale\":[[0.0,\"#0d0887\"],[0.1111111111111111,\"#46039f\"],[0.2222222222222222,\"#7201a8\"],[0.3333333333333333,\"#9c179e\"],[0.4444444444444444,\"#bd3786\"],[0.5555555555555556,\"#d8576b\"],[0.6666666666666666,\"#ed7953\"],[0.7777777777777778,\"#fb9f3a\"],[0.8888888888888888,\"#fdca26\"],[1.0,\"#f0f921\"]],\"type\":\"surface\"}],\"table\":[{\"cells\":{\"fill\":{\"color\":\"#EBF0F8\"},\"line\":{\"color\":\"white\"}},\"header\":{\"fill\":{\"color\":\"#C8D4E3\"},\"line\":{\"color\":\"white\"}},\"type\":\"table\"}]},\"layout\":{\"annotationdefaults\":{\"arrowcolor\":\"#2a3f5f\",\"arrowhead\":0,\"arrowwidth\":1},\"autotypenumbers\":\"strict\",\"coloraxis\":{\"colorbar\":{\"outlinewidth\":0,\"ticks\":\"\"}},\"colorscale\":{\"diverging\":[[0,\"#8e0152\"],[0.1,\"#c51b7d\"],[0.2,\"#de77ae\"],[0.3,\"#f1b6da\"],[0.4,\"#fde0ef\"],[0.5,\"#f7f7f7\"],[0.6,\"#e6f5d0\"],[0.7,\"#b8e186\"],[0.8,\"#7fbc41\"],[0.9,\"#4d9221\"],[1,\"#276419\"]],\"sequential\":[[0.0,\"#0d0887\"],[0.1111111111111111,\"#46039f\"],[0.2222222222222222,\"#7201a8\"],[0.3333333333333333,\"#9c179e\"],[0.4444444444444444,\"#bd3786\"],[0.5555555555555556,\"#d8576b\"],[0.6666666666666666,\"#ed7953\"],[0.7777777777777778,\"#fb9f3a\"],[0.8888888888888888,\"#fdca26\"],[1.0,\"#f0f921\"]],\"sequentialminus\":[[0.0,\"#0d0887\"],[0.1111111111111111,\"#46039f\"],[0.2222222222222222,\"#7201a8\"],[0.3333333333333333,\"#9c179e\"],[0.4444444444444444,\"#bd3786\"],[0.5555555555555556,\"#d8576b\"],[0.6666666666666666,\"#ed7953\"],[0.7777777777777778,\"#fb9f3a\"],[0.8888888888888888,\"#fdca26\"],[1.0,\"#f0f921\"]]},\"colorway\":[\"#636efa\",\"#EF553B\",\"#00cc96\",\"#ab63fa\",\"#FFA15A\",\"#19d3f3\",\"#FF6692\",\"#B6E880\",\"#FF97FF\",\"#FECB52\"],\"font\":{\"color\":\"#2a3f5f\"},\"geo\":{\"bgcolor\":\"white\",\"lakecolor\":\"white\",\"landcolor\":\"white\",\"showlakes\":true,\"showland\":true,\"subunitcolor\":\"#C8D4E3\"},\"hoverlabel\":{\"align\":\"left\"},\"hovermode\":\"closest\",\"mapbox\":{\"style\":\"light\"},\"paper_bgcolor\":\"white\",\"plot_bgcolor\":\"white\",\"polar\":{\"angularaxis\":{\"gridcolor\":\"#EBF0F8\",\"linecolor\":\"#EBF0F8\",\"ticks\":\"\"},\"bgcolor\":\"white\",\"radialaxis\":{\"gridcolor\":\"#EBF0F8\",\"linecolor\":\"#EBF0F8\",\"ticks\":\"\"}},\"scene\":{\"xaxis\":{\"backgroundcolor\":\"white\",\"gridcolor\":\"#DFE8F3\",\"gridwidth\":2,\"linecolor\":\"#EBF0F8\",\"showbackground\":true,\"ticks\":\"\",\"zerolinecolor\":\"#EBF0F8\"},\"yaxis\":{\"backgroundcolor\":\"white\",\"gridcolor\":\"#DFE8F3\",\"gridwidth\":2,\"linecolor\":\"#EBF0F8\",\"showbackground\":true,\"ticks\":\"\",\"zerolinecolor\":\"#EBF0F8\"},\"zaxis\":{\"backgroundcolor\":\"white\",\"gridcolor\":\"#DFE8F3\",\"gridwidth\":2,\"linecolor\":\"#EBF0F8\",\"showbackground\":true,\"ticks\":\"\",\"zerolinecolor\":\"#EBF0F8\"}},\"shapedefaults\":{\"line\":{\"color\":\"#2a3f5f\"}},\"ternary\":{\"aaxis\":{\"gridcolor\":\"#DFE8F3\",\"linecolor\":\"#A2B1C6\",\"ticks\":\"\"},\"baxis\":{\"gridcolor\":\"#DFE8F3\",\"linecolor\":\"#A2B1C6\",\"ticks\":\"\"},\"bgcolor\":\"white\",\"caxis\":{\"gridcolor\":\"#DFE8F3\",\"linecolor\":\"#A2B1C6\",\"ticks\":\"\"}},\"title\":{\"x\":0.05},\"xaxis\":{\"automargin\":true,\"gridcolor\":\"#EBF0F8\",\"linecolor\":\"#EBF0F8\",\"ticks\":\"\",\"title\":{\"standoff\":15},\"zerolinecolor\":\"#EBF0F8\",\"zerolinewidth\":2},\"yaxis\":{\"automargin\":true,\"gridcolor\":\"#EBF0F8\",\"linecolor\":\"#EBF0F8\",\"ticks\":\"\",\"title\":{\"standoff\":15},\"zerolinecolor\":\"#EBF0F8\",\"zerolinewidth\":2}}},\"xaxis\":{\"anchor\":\"y\",\"domain\":[0.0,1.0],\"title\":{\"text\":\"Personal Allowance\"},\"tickprefix\":\"\\\\u00a3\",\"tickformat\":\",.0f\",\"range\":[0,12570]},\"yaxis\":{\"anchor\":\"x\",\"domain\":[0.0,1.0],\"title\":{\"text\":\"Basic rate\"},\"tickformat\":\".0%\",\"range\":[0,0.7]},\"legend\":{\"title\":{\"text\":\"Higher/add. rate increase ratio\"},\"tracegroupgap\":0,\"orientation\":\"h\",\"yanchor\":\"top\",\"y\":1.1},\"margin\":{\"t\":60},\"font\":{\"family\":\"Roboto Serif\",\"color\":\"black\"},\"images\":[{\"sizex\":0.2,\"sizey\":0.2,\"source\":\"https://raw.githubusercontent.com/PolicyEngine/policyengine-app/master/src/images/logos/policyengine/blue.png\",\"x\":1,\"xanchor\":\"right\",\"xref\":\"paper\",\"y\":-0.15,\"yanchor\":\"bottom\",\"yref\":\"paper\"}],\"height\":600,\"width\":800,\"modebar\":{\"bgcolor\":\"rgba(0,0,0,0)\",\"color\":\"rgba(0,0,0,0)\"},\"title\":{\"text\":\"Figure 2: Feasible UBI policies for Northern Ireland\"}}}'"
      ]
     },
     "execution_count": 3,
     "metadata": {},
     "output_type": "execute_result"
    }
   ],
   "source": [
    "from policyengine_core.charts import *\n",
    "from ubicenter.plotly import BLUE_COLOR_SEQUENCE\n",
    "\n",
    "df = pd.read_csv(\"experiment_results.csv\")\n",
    "df = df[df[\"Feasible MTR\"] == \"Yes\"]\n",
    "fig = px.line(\n",
    "    df,\n",
    "    x=\"Personal Allowance\", \n",
    "    y=\"Basic rate\", \n",
    "    color=\"UBI/Increase ratio combination\",  \n",
    "    custom_data=[df.Label],\n",
    "    color_discrete_sequence=BLUE_COLOR_SEQUENCE[:3],\n",
    ")\n",
    "fig.update_layout(\n",
    "    yaxis_tickformat=\".0%\",\n",
    "    yaxis_title=\"Basic rate\",\n",
    "    xaxis_tickprefix=\"£\",\n",
    "    xaxis_tickformat=\",.0f\",\n",
    "    xaxis_range=(0, 12_570),\n",
    "    yaxis_range=(0, 0.7),\n",
    "    legend_title=\"Higher/add. rate increase ratio\",\n",
    ")\n",
    "\n",
    "CUSTOM_HOVERTEMPLATE=\"%{customdata[0]}\"\n",
    "fig.update_traces(hovertemplate=CUSTOM_HOVERTEMPLATE)\n",
    "\n",
    "for i, data in enumerate(fig.data):\n",
    "    data.hovertemplate = CUSTOM_HOVERTEMPLATE\n",
    "    if i % 4 == 0:\n",
    "        data[\"showlegend\"] = True\n",
    "    else:\n",
    "        data[\"showlegend\"] = False\n",
    "\n",
    "fig.add_trace(go.Scatter(\n",
    "    y=np.linspace(0.18, 0.35, 3),\n",
    "    x=[1_000] * 3,\n",
    "    mode=\"text\",\n",
    "    name=\"Label\",\n",
    "    text=[\"£200/mo\", \"£300/mo\", \"£400/mo\"],\n",
    "    textposition=\"bottom center\",\n",
    "    showlegend=False,\n",
    "))\n",
    "\n",
    "fig_json = format_fig(fig).update_layout(\n",
    "    title=\"Figure 2: Feasible UBI policies for Northern Ireland\",\n",
    "    legend=dict(\n",
    "        orientation=\"h\",\n",
    "        yanchor=\"top\",\n",
    "        y=1.1,\n",
    "    )\n",
    ").to_json()\n",
    "fig_json"
   ]
  },
  {
   "cell_type": "markdown",
   "metadata": {
    "tags": [
     "highlighted-right"
    ]
   },
   "source": [
    "Figure 2 represents this exploratory exercise: each point in these lines is a feasible policy. For example, the topmost line shows the set of all policies that provide £400 per month to adults (£100 to children), and in which the higher and additional rates do not rise with the basic rate. It varies by the basic rate and personal allowance. The leftmost point in this line is a policy that abolishes the Personal Allowance (reduces it by the full £12,570), increases the basic rate by 9p, and doesn't increase the higher and additional rates.\n",
    "\n",
    "These lines are incomplete because they do not show policies that would increase marginal tax rates (MTRs) above 100%. For example, the lowest line ends at the policy that would raise the basic rate by 11p and reduce the personal allowance to £11,000. Extending that line (raising the Personal Allowance) would require increasing the basic rate to allow for a larger personal allowance. However, doing so would increase the MTR above 100% for people earning £100,000, as their personal allowance phases out.[^7]\n",
    "\n",
    "To avoid exceeding 100% MTRs, more generous UBI policies require broader-base tax reforms focused on the personal allowance and basic rate. Indeed, the £400 per month policy can only increase the higher and additional rates at double the basic rate if the personal allowance is reduced to £4,000. At this point, the basic rate would rise by 12p to 32p, the higher rate would rise by 24p to 64p, and the additional rate would rise by 32p to 80p; even a pound of personal allowance would create a MTR above 100% for people in the phase-out range.\n",
    "\n",
    "We have listed all 126 policies represented in the chart in [this spreadsheet](https://docs.google.com/spreadsheets/d/17_xYwxvc119MrVLpo1gzGEVwL7uIM0Vn8-jaf6uN9s0/edit#gid=0). In the next section, we provide a deeper dive into three policies—one for each UBI level.\n",
    "\n",
    "[^7]:\n",
    "     Specifically, the MTR increases by (higher rate x 1.5)% on the income between £100,000 and (£100,000 + personal allowance x 2). In the baseline, the higher rate is 40% and the personal allowance is £12,570, creating a 60% MTR on income between £100,000 and £125,140.\n"
   ]
  },
  {
   "cell_type": "markdown",
   "metadata": {},
   "source": [
    "# Policy deep dive\n",
    "\n",
    "We selected three of the 126 feasible policies to describe in more detail. These show the space of policies—not only in terms of UBI amount, but also the funding mechanisms. These three policies are shown in Table 1, the first column of which directs to the reform in PolicyEngine.\n",
    "\n",
    "* *Model 1* provides £200 per adult per month, and funds it by reducing the personal allowance to £2,000 and increasing the basic rate by 1.5p and the higher and additional rates by 2.9p.\n",
    "* *Model 2* provides £300 per adult per month, funded by abolishing the personal allowance and increasing all three tax rates by 4.6p.\n",
    "* *Model 3* provides £400 per adult per month, again abolishing the personal allowance but increasing only the basic rate of income tax, by 10.3p.\n",
    "\n",
    "Each of the reforms substantially lowers or eliminates the personal allowance, and increases the basic rate; the cost of the policies requires broad-based tax reform. Each of the reforms also cuts poverty by at least 37% and inequality by at least 8%, with the more generous programs producing stronger effects. A large majority of the population comes out ahead from each, as well.\n",
    "\n",
    "Table 1: Three policies to fund a UBI in Northern Ireland"
   ]
  },
  {
   "cell_type": "code",
   "execution_count": 4,
   "metadata": {},
   "outputs": [],
   "source": [
    "pa = df[\"Personal Allowance\"]\n",
    "ubi = df[\"Adult UBI\"]\n",
    "ratio = df[\"Higher/additional rate increase ratio\"]\n",
    "model_1_row = df[(pa == 2000) & (ubi == 200 * 12) & (ratio == 2)].iloc[0]\n",
    "model_2_row = df[(pa == 0) & (ubi == 300 * 12) & (ratio == 1)].iloc[0]\n",
    "model_3_row = df[(pa == 0) & (ubi == 400 * 12) & (ratio == 0)].iloc[0]\n",
    "\n",
    "model_1_policy = dict(\n",
    "    basic_rate=model_1_row[\"Basic rate\"],\n",
    "    higher_rate=model_1_row[\"Higher rate\"],\n",
    "    additional_rate=model_1_row[\"Add. rate\"],\n",
    "    personal_allowance=model_1_row[\"Personal Allowance\"],\n",
    "    adult_bi=model_1_row[\"Adult UBI\"],\n",
    "    higher_rate_threshold=50_270. - model_1_row[\"Personal Allowance\"],\n",
    "    child_bi=0,\n",
    "    senior_bi=model_1_row[\"Adult UBI\"],\n",
    ")\n",
    "\n",
    "model_2_policy = dict(\n",
    "    basic_rate=model_2_row[\"Basic rate\"],\n",
    "    higher_rate=model_2_row[\"Higher rate\"],\n",
    "    additional_rate=model_2_row[\"Add. rate\"],\n",
    "    personal_allowance=model_2_row[\"Personal Allowance\"],\n",
    "    adult_bi=model_2_row[\"Adult UBI\"],\n",
    "    higher_rate_threshold=50_270. - model_2_row[\"Personal Allowance\"],\n",
    "    child_bi=0,\n",
    "    senior_bi=model_2_row[\"Adult UBI\"],\n",
    ")\n",
    "\n",
    "model_3_policy = dict(\n",
    "    basic_rate=model_3_row[\"Basic rate\"],\n",
    "    higher_rate=model_3_row[\"Higher rate\"],\n",
    "    additional_rate=model_3_row[\"Add. rate\"],\n",
    "    personal_allowance=model_3_row[\"Personal Allowance\"],\n",
    "    adult_bi=model_3_row[\"Adult UBI\"],\n",
    "    higher_rate_threshold=50_270. - model_3_row[\"Personal Allowance\"],\n",
    "    child_bi=0,\n",
    "    senior_bi=model_3_row[\"Adult UBI\"],\n",
    ")"
   ]
  },
  {
   "cell_type": "code",
   "execution_count": 5,
   "metadata": {
    "tags": [
     "hide-input"
    ]
   },
   "outputs": [],
   "source": [
    "model_1_reform = ubi_ni_reform(**model_1_policy)\n",
    "model_2_reform = ubi_ni_reform(**model_2_policy)\n",
    "model_3_reform = ubi_ni_reform(**model_3_policy)\n",
    "\n",
    "baseline = Microsimulation()\n",
    "model_1_sim = Microsimulation(reform=model_1_reform)\n",
    "model_2_sim = Microsimulation(reform=model_2_reform)\n",
    "model_3_sim = Microsimulation(reform=model_3_reform)\n",
    "\n",
    "for simulation in [baseline, model_1_sim, model_2_sim, model_3_sim]:\n",
    "    filter_to_ni(simulation)"
   ]
  },
  {
   "cell_type": "code",
   "execution_count": 6,
   "metadata": {},
   "outputs": [
    {
     "data": {
      "text/markdown": [
       "|                                 | Model 1                                                                                                                                        | Model 2                                                                                                                                        | Model 3                                                                                                                                        |\n",
       "|:--------------------------------|:-----------------------------------------------------------------------------------------------------------------------------------------------|:-----------------------------------------------------------------------------------------------------------------------------------------------|:-----------------------------------------------------------------------------------------------------------------------------------------------|\n",
       "| Monthly UBI amount for adults   | £200                                                                                                                                           | £300                                                                                                                                           | £400                                                                                                                                           |\n",
       "| Monthly UBI amount for children | £0                                                                                                                                             | £0                                                                                                                                             | £0                                                                                                                                             |\n",
       "| Personal Allowance              | £2,000                                                                                                                                         | £0                                                                                                                                             | £0                                                                                                                                             |\n",
       "| Basic rate increase             | 1.5p                                                                                                                                           | 4.6p                                                                                                                                           | 10.3p                                                                                                                                          |\n",
       "| Higher rate increase            | 2.9p                                                                                                                                           | 4.6p                                                                                                                                           | 0.0p                                                                                                                                           |\n",
       "| Additional rate increase        | 2.9p                                                                                                                                           | 4.6p                                                                                                                                           | 0.0p                                                                                                                                           |\n",
       "| Net cost                        | £0.9bn                                                                                                                                         | £1.3bn                                                                                                                                         | £1.9bn                                                                                                                                         |\n",
       "| Revenue raised                  | £2.7bn                                                                                                                                         | £4.1bn                                                                                                                                         | £5.4bn                                                                                                                                         |\n",
       "| Benefit outlay increase         | £3.6bn                                                                                                                                         | £5.4bn                                                                                                                                         | £7.3bn                                                                                                                                         |\n",
       "| Poverty impact                  | -37.0%                                                                                                                                         | -44.5%                                                                                                                                         | -60.0%                                                                                                                                         |\n",
       "| Inequality impact               | -8.6%                                                                                                                                          | -13.3%                                                                                                                                         | -16.9%                                                                                                                                         |\n",
       "| Percent of population gaining   | 71%                                                                                                                                            | 76%                                                                                                                                            | 74%                                                                                                                                            |\n",
       "| Westminster contribution        | 24.4%                                                                                                                                          | 24.4%                                                                                                                                          | 25.5%                                                                                                                                          |\n",
       "| PolicyEngine link               | <a href=\"http://localhost:3000/uk/policy?reform=32192&focus=policyOutput.decileRelativeImpact&region=ni&timePeriod=2023&baseline=1\">#32192</a> | <a href=\"http://localhost:3000/uk/policy?reform=32193&focus=policyOutput.decileRelativeImpact&region=ni&timePeriod=2023&baseline=1\">#32193</a> | <a href=\"http://localhost:3000/uk/policy?reform=32194&focus=policyOutput.decileRelativeImpact&region=ni&timePeriod=2023&baseline=1\">#32194</a> |"
      ],
      "text/plain": [
       "<IPython.core.display.Markdown object>"
      ]
     },
     "execution_count": 6,
     "metadata": {},
     "output_type": "execute_result"
    }
   ],
   "source": [
    "summary_table = pd.DataFrame()\n",
    "summary_table[\"Monthly UBI amount for adults\"] = [model_1_row[\"Adult UBI\"] / 12, model_2_row[\"Adult UBI\"] / 12, model_3_row[\"Adult UBI\"] / 12]\n",
    "summary_table[\"Monthly UBI amount for children\"] = [0, 0, 0]\n",
    "summary_table[\"Personal Allowance\"] = [model_1_row[\"Personal Allowance\"], model_2_row[\"Personal Allowance\"], model_3_row[\"Personal Allowance\"]]\n",
    "summary_table[\"Basic rate increase\"] = [model_1_row[\"Basic rate addition\"], model_2_row[\"Basic rate addition\"], model_3_row[\"Basic rate addition\"]]\n",
    "summary_table[\"Higher rate increase\"] = [model_1_row[\"Higher rate addition\"], model_2_row[\"Higher rate addition\"], model_3_row[\"Higher rate addition\"]]\n",
    "summary_table[\"Additional rate increase\"] = [model_1_row[\"Additional rate addition\"], model_2_row[\"Additional rate addition\"], model_3_row[\"Additional rate addition\"]]\n",
    "summary_table[\"Net cost\"] = [\n",
    "    sim.calculate(\"household_net_income\").sum() - baseline.calculate(\"household_net_income\").sum()\n",
    "    for sim in [model_1_sim, model_2_sim, model_3_sim]\n",
    "]\n",
    "summary_table[\"Revenue raised\"] = [\n",
    "    sim.calculate(\"income_tax\").sum() - baseline.calculate(\"income_tax\").sum()\n",
    "    for sim in [model_1_sim, model_2_sim, model_3_sim]\n",
    "]\n",
    "summary_table[\"Benefit outlay increase\"] = [\n",
    "    sim.calculate(\"household_benefits\").sum() - baseline.calculate(\"household_benefits\").sum()\n",
    "    for sim in [model_1_sim, model_2_sim, model_3_sim]\n",
    "]\n",
    "summary_table[\"Poverty impact\"] = [\n",
    "    sim.calculate(\"in_poverty\", map_to=\"person\").sum() / baseline.calculate(\"in_poverty\", map_to=\"person\").sum() - 1\n",
    "    for sim in [model_1_sim, model_2_sim, model_3_sim]\n",
    "]\n",
    "summary_table[\"Inequality impact\"] = [\n",
    "    sim.calculate(\"equiv_household_net_income\", map_to=\"person\").gini() / baseline.calculate(\"equiv_household_net_income\", map_to=\"person\").gini() - 1\n",
    "    for sim in [model_1_sim, model_2_sim, model_3_sim]\n",
    "]\n",
    "summary_table[\"Percent of population gaining\"] = [\n",
    "    (sim.calculate(\"household_net_income\", map_to=\"person\") > baseline.calculate(\"household_net_income\", map_to=\"person\")).mean()\n",
    "    for sim in [model_1_sim, model_2_sim, model_3_sim]\n",
    "]\n",
    "\n",
    "summary_table\n",
    "\n",
    "# Formatting\n",
    "\n",
    "summary_table[\"Monthly UBI amount for adults\"] = summary_table[\"Monthly UBI amount for adults\"].map(lambda x: f\"£{x:,.0f}\")\n",
    "summary_table[\"Monthly UBI amount for children\"] = summary_table[\"Monthly UBI amount for children\"].map(lambda x: f\"£{x:,.0f}\")\n",
    "summary_table[\"Personal Allowance\"] = summary_table[\"Personal Allowance\"].map(lambda x: f\"£{x:,.0f}\")\n",
    "summary_table[\"Basic rate increase\"] = summary_table[\"Basic rate increase\"].map(lambda x: f\"{x * 100:.1f}p\")\n",
    "summary_table[\"Higher rate increase\"] = summary_table[\"Higher rate increase\"].map(lambda x: f\"{x * 100:.1f}p\")\n",
    "summary_table[\"Additional rate increase\"] = summary_table[\"Additional rate increase\"].map(lambda x: f\"{x * 100:.1f}p\")\n",
    "summary_table[\"Westminster contribution\"] = summary_table[\"Net cost\"] / summary_table[\"Benefit outlay increase\"]\n",
    "summary_table[\"Westminster contribution\"] = summary_table[\"Westminster contribution\"].map(lambda x: f\"{x:.1%}\")\n",
    "summary_table[\"Net cost\"] = summary_table[\"Net cost\"].map(lambda x: f\"£{x/1e9:,.1f}bn\")\n",
    "summary_table[\"Revenue raised\"] = summary_table[\"Revenue raised\"].map(lambda x: f\"£{x/1e9:,.1f}bn\")\n",
    "summary_table[\"Benefit outlay increase\"] = summary_table[\"Benefit outlay increase\"].map(lambda x: f\"£{x/1e9:,.1f}bn\")\n",
    "summary_table[\"Poverty impact\"] = summary_table[\"Poverty impact\"].map(lambda x: f\"{x * 100:+.1f}%\")\n",
    "summary_table[\"Inequality impact\"] = summary_table[\"Inequality impact\"].map(lambda x: f\"{x * 100:+.1f}%\")\n",
    "summary_table[\"Percent of population gaining\"] = summary_table[\"Percent of population gaining\"].map(lambda x: f\"{x * 100:.0f}%\")\n",
    "\n",
    "policy_ids = [\n",
    "    reform.api_id\n",
    "    for reform in [model_1_reform, model_2_reform, model_3_reform]\n",
    "]\n",
    "summary_table[\"PolicyEngine link\"] = [\n",
    "    f\"<a href=\\\"http://localhost:3000/uk/policy?reform={policy_id}&focus=policyOutput.decileRelativeImpact&region=ni&timePeriod=2023&baseline=1\\\">#{policy_id}</a>\" for policy_id in policy_ids\n",
    "]\n",
    "summary_table.index = [\"Model 1\", \"Model 2\", \"Model 3\"]\n",
    "\n",
    "from IPython.display import Markdown\n",
    "\n",
    "Markdown(summary_table.T.to_markdown())"
   ]
  },
  {
   "cell_type": "markdown",
   "metadata": {},
   "source": [
    "Digging into the poverty impacts reveals similarly sized impacts on child poverty, with the most generous plan halving it.[^8] [Many studies find](child-allowance.ubicenter.org/empirical) that child poverty causes deleterious developmental and lifelong outcomes.\n",
    "\n",
    "[^8]:\n",
    "     The impacts on deep poverty (the population share with net income below half the poverty threshold) are similar, though we do not include them here as the Family Resources Survey has too few records near the deep poverty line to produce reliable results.\n"
   ]
  },
  {
   "cell_type": "code",
   "execution_count": 7,
   "metadata": {
    "tags": [
     "hide-input"
    ]
   },
   "outputs": [
    {
     "data": {
      "text/plain": [
       "'{\"data\":[{\"alignmentgroup\":\"True\",\"hovertemplate\":\"Policy=\\\\u00a3200/month<br>Age group=%{x}<br>Poverty rate change=%{y}<extra></extra>\",\"legendgroup\":\"\\\\u00a3200/month\",\"marker\":{\"color\":\"#D8E6F3\",\"pattern\":{\"shape\":\"\"}},\"name\":\"\\\\u00a3200/month\",\"offsetgroup\":\"\\\\u00a3200/month\",\"orientation\":\"v\",\"showlegend\":true,\"textposition\":\"auto\",\"x\":[\"Child\",\"Working-age\",\"Senior\",\"All\"],\"xaxis\":\"x\",\"y\":[-0.4317611874411227,-0.40767676883249426,-0.21684426933727885,-0.3703698612312635],\"yaxis\":\"y\",\"type\":\"bar\",\"text\":[\"-43.2%\",\"-40.8%\",\"-21.7%\",\"-37.0%\"]},{\"alignmentgroup\":\"True\",\"hovertemplate\":\"Policy=\\\\u00a3300/month<br>Age group=%{x}<br>Poverty rate change=%{y}<extra></extra>\",\"legendgroup\":\"\\\\u00a3300/month\",\"marker\":{\"color\":\"#2C6496\",\"pattern\":{\"shape\":\"\"}},\"name\":\"\\\\u00a3300/month\",\"offsetgroup\":\"\\\\u00a3300/month\",\"orientation\":\"v\",\"showlegend\":true,\"textposition\":\"auto\",\"x\":[\"Child\",\"Working-age\",\"Senior\",\"All\"],\"xaxis\":\"x\",\"y\":[-0.4884173763258127,-0.4971543065791241,-0.27712027620435464,-0.4449245276263938],\"yaxis\":\"y\",\"type\":\"bar\",\"text\":[\"-48.8%\",\"-49.7%\",\"-27.7%\",\"-44.5%\"]},{\"alignmentgroup\":\"True\",\"hovertemplate\":\"Policy=\\\\u00a3400/month<br>Age group=%{x}<br>Poverty rate change=%{y}<extra></extra>\",\"legendgroup\":\"\\\\u00a3400/month\",\"marker\":{\"color\":\"#17354F\",\"pattern\":{\"shape\":\"\"}},\"name\":\"\\\\u00a3400/month\",\"offsetgroup\":\"\\\\u00a3400/month\",\"orientation\":\"v\",\"showlegend\":true,\"textposition\":\"auto\",\"x\":[\"Child\",\"Working-age\",\"Senior\",\"All\"],\"xaxis\":\"x\",\"y\":[-0.5152700883309072,-0.6255991612829608,-0.6367956115461852,-0.6002982520309396],\"yaxis\":\"y\",\"type\":\"bar\",\"text\":[\"-51.5%\",\"-62.6%\",\"-63.7%\",\"-60.0%\"]}],\"layout\":{\"template\":{\"data\":{\"barpolar\":[{\"marker\":{\"line\":{\"color\":\"white\",\"width\":0.5},\"pattern\":{\"fillmode\":\"overlay\",\"size\":10,\"solidity\":0.2}},\"type\":\"barpolar\"}],\"bar\":[{\"error_x\":{\"color\":\"#2a3f5f\"},\"error_y\":{\"color\":\"#2a3f5f\"},\"marker\":{\"line\":{\"color\":\"white\",\"width\":0.5},\"pattern\":{\"fillmode\":\"overlay\",\"size\":10,\"solidity\":0.2}},\"type\":\"bar\"}],\"carpet\":[{\"aaxis\":{\"endlinecolor\":\"#2a3f5f\",\"gridcolor\":\"#C8D4E3\",\"linecolor\":\"#C8D4E3\",\"minorgridcolor\":\"#C8D4E3\",\"startlinecolor\":\"#2a3f5f\"},\"baxis\":{\"endlinecolor\":\"#2a3f5f\",\"gridcolor\":\"#C8D4E3\",\"linecolor\":\"#C8D4E3\",\"minorgridcolor\":\"#C8D4E3\",\"startlinecolor\":\"#2a3f5f\"},\"type\":\"carpet\"}],\"choropleth\":[{\"colorbar\":{\"outlinewidth\":0,\"ticks\":\"\"},\"type\":\"choropleth\"}],\"contourcarpet\":[{\"colorbar\":{\"outlinewidth\":0,\"ticks\":\"\"},\"type\":\"contourcarpet\"}],\"contour\":[{\"colorbar\":{\"outlinewidth\":0,\"ticks\":\"\"},\"colorscale\":[[0.0,\"#0d0887\"],[0.1111111111111111,\"#46039f\"],[0.2222222222222222,\"#7201a8\"],[0.3333333333333333,\"#9c179e\"],[0.4444444444444444,\"#bd3786\"],[0.5555555555555556,\"#d8576b\"],[0.6666666666666666,\"#ed7953\"],[0.7777777777777778,\"#fb9f3a\"],[0.8888888888888888,\"#fdca26\"],[1.0,\"#f0f921\"]],\"type\":\"contour\"}],\"heatmapgl\":[{\"colorbar\":{\"outlinewidth\":0,\"ticks\":\"\"},\"colorscale\":[[0.0,\"#0d0887\"],[0.1111111111111111,\"#46039f\"],[0.2222222222222222,\"#7201a8\"],[0.3333333333333333,\"#9c179e\"],[0.4444444444444444,\"#bd3786\"],[0.5555555555555556,\"#d8576b\"],[0.6666666666666666,\"#ed7953\"],[0.7777777777777778,\"#fb9f3a\"],[0.8888888888888888,\"#fdca26\"],[1.0,\"#f0f921\"]],\"type\":\"heatmapgl\"}],\"heatmap\":[{\"colorbar\":{\"outlinewidth\":0,\"ticks\":\"\"},\"colorscale\":[[0.0,\"#0d0887\"],[0.1111111111111111,\"#46039f\"],[0.2222222222222222,\"#7201a8\"],[0.3333333333333333,\"#9c179e\"],[0.4444444444444444,\"#bd3786\"],[0.5555555555555556,\"#d8576b\"],[0.6666666666666666,\"#ed7953\"],[0.7777777777777778,\"#fb9f3a\"],[0.8888888888888888,\"#fdca26\"],[1.0,\"#f0f921\"]],\"type\":\"heatmap\"}],\"histogram2dcontour\":[{\"colorbar\":{\"outlinewidth\":0,\"ticks\":\"\"},\"colorscale\":[[0.0,\"#0d0887\"],[0.1111111111111111,\"#46039f\"],[0.2222222222222222,\"#7201a8\"],[0.3333333333333333,\"#9c179e\"],[0.4444444444444444,\"#bd3786\"],[0.5555555555555556,\"#d8576b\"],[0.6666666666666666,\"#ed7953\"],[0.7777777777777778,\"#fb9f3a\"],[0.8888888888888888,\"#fdca26\"],[1.0,\"#f0f921\"]],\"type\":\"histogram2dcontour\"}],\"histogram2d\":[{\"colorbar\":{\"outlinewidth\":0,\"ticks\":\"\"},\"colorscale\":[[0.0,\"#0d0887\"],[0.1111111111111111,\"#46039f\"],[0.2222222222222222,\"#7201a8\"],[0.3333333333333333,\"#9c179e\"],[0.4444444444444444,\"#bd3786\"],[0.5555555555555556,\"#d8576b\"],[0.6666666666666666,\"#ed7953\"],[0.7777777777777778,\"#fb9f3a\"],[0.8888888888888888,\"#fdca26\"],[1.0,\"#f0f921\"]],\"type\":\"histogram2d\"}],\"histogram\":[{\"marker\":{\"pattern\":{\"fillmode\":\"overlay\",\"size\":10,\"solidity\":0.2}},\"type\":\"histogram\"}],\"mesh3d\":[{\"colorbar\":{\"outlinewidth\":0,\"ticks\":\"\"},\"type\":\"mesh3d\"}],\"parcoords\":[{\"line\":{\"colorbar\":{\"outlinewidth\":0,\"ticks\":\"\"}},\"type\":\"parcoords\"}],\"pie\":[{\"automargin\":true,\"type\":\"pie\"}],\"scatter3d\":[{\"line\":{\"colorbar\":{\"outlinewidth\":0,\"ticks\":\"\"}},\"marker\":{\"colorbar\":{\"outlinewidth\":0,\"ticks\":\"\"}},\"type\":\"scatter3d\"}],\"scattercarpet\":[{\"marker\":{\"colorbar\":{\"outlinewidth\":0,\"ticks\":\"\"}},\"type\":\"scattercarpet\"}],\"scattergeo\":[{\"marker\":{\"colorbar\":{\"outlinewidth\":0,\"ticks\":\"\"}},\"type\":\"scattergeo\"}],\"scattergl\":[{\"marker\":{\"colorbar\":{\"outlinewidth\":0,\"ticks\":\"\"}},\"type\":\"scattergl\"}],\"scattermapbox\":[{\"marker\":{\"colorbar\":{\"outlinewidth\":0,\"ticks\":\"\"}},\"type\":\"scattermapbox\"}],\"scatterpolargl\":[{\"marker\":{\"colorbar\":{\"outlinewidth\":0,\"ticks\":\"\"}},\"type\":\"scatterpolargl\"}],\"scatterpolar\":[{\"marker\":{\"colorbar\":{\"outlinewidth\":0,\"ticks\":\"\"}},\"type\":\"scatterpolar\"}],\"scatter\":[{\"fillpattern\":{\"fillmode\":\"overlay\",\"size\":10,\"solidity\":0.2},\"type\":\"scatter\"}],\"scatterternary\":[{\"marker\":{\"colorbar\":{\"outlinewidth\":0,\"ticks\":\"\"}},\"type\":\"scatterternary\"}],\"surface\":[{\"colorbar\":{\"outlinewidth\":0,\"ticks\":\"\"},\"colorscale\":[[0.0,\"#0d0887\"],[0.1111111111111111,\"#46039f\"],[0.2222222222222222,\"#7201a8\"],[0.3333333333333333,\"#9c179e\"],[0.4444444444444444,\"#bd3786\"],[0.5555555555555556,\"#d8576b\"],[0.6666666666666666,\"#ed7953\"],[0.7777777777777778,\"#fb9f3a\"],[0.8888888888888888,\"#fdca26\"],[1.0,\"#f0f921\"]],\"type\":\"surface\"}],\"table\":[{\"cells\":{\"fill\":{\"color\":\"#EBF0F8\"},\"line\":{\"color\":\"white\"}},\"header\":{\"fill\":{\"color\":\"#C8D4E3\"},\"line\":{\"color\":\"white\"}},\"type\":\"table\"}]},\"layout\":{\"annotationdefaults\":{\"arrowcolor\":\"#2a3f5f\",\"arrowhead\":0,\"arrowwidth\":1},\"autotypenumbers\":\"strict\",\"coloraxis\":{\"colorbar\":{\"outlinewidth\":0,\"ticks\":\"\"}},\"colorscale\":{\"diverging\":[[0,\"#8e0152\"],[0.1,\"#c51b7d\"],[0.2,\"#de77ae\"],[0.3,\"#f1b6da\"],[0.4,\"#fde0ef\"],[0.5,\"#f7f7f7\"],[0.6,\"#e6f5d0\"],[0.7,\"#b8e186\"],[0.8,\"#7fbc41\"],[0.9,\"#4d9221\"],[1,\"#276419\"]],\"sequential\":[[0.0,\"#0d0887\"],[0.1111111111111111,\"#46039f\"],[0.2222222222222222,\"#7201a8\"],[0.3333333333333333,\"#9c179e\"],[0.4444444444444444,\"#bd3786\"],[0.5555555555555556,\"#d8576b\"],[0.6666666666666666,\"#ed7953\"],[0.7777777777777778,\"#fb9f3a\"],[0.8888888888888888,\"#fdca26\"],[1.0,\"#f0f921\"]],\"sequentialminus\":[[0.0,\"#0d0887\"],[0.1111111111111111,\"#46039f\"],[0.2222222222222222,\"#7201a8\"],[0.3333333333333333,\"#9c179e\"],[0.4444444444444444,\"#bd3786\"],[0.5555555555555556,\"#d8576b\"],[0.6666666666666666,\"#ed7953\"],[0.7777777777777778,\"#fb9f3a\"],[0.8888888888888888,\"#fdca26\"],[1.0,\"#f0f921\"]]},\"colorway\":[\"#636efa\",\"#EF553B\",\"#00cc96\",\"#ab63fa\",\"#FFA15A\",\"#19d3f3\",\"#FF6692\",\"#B6E880\",\"#FF97FF\",\"#FECB52\"],\"font\":{\"color\":\"#2a3f5f\"},\"geo\":{\"bgcolor\":\"white\",\"lakecolor\":\"white\",\"landcolor\":\"white\",\"showlakes\":true,\"showland\":true,\"subunitcolor\":\"#C8D4E3\"},\"hoverlabel\":{\"align\":\"left\"},\"hovermode\":\"closest\",\"mapbox\":{\"style\":\"light\"},\"paper_bgcolor\":\"white\",\"plot_bgcolor\":\"white\",\"polar\":{\"angularaxis\":{\"gridcolor\":\"#EBF0F8\",\"linecolor\":\"#EBF0F8\",\"ticks\":\"\"},\"bgcolor\":\"white\",\"radialaxis\":{\"gridcolor\":\"#EBF0F8\",\"linecolor\":\"#EBF0F8\",\"ticks\":\"\"}},\"scene\":{\"xaxis\":{\"backgroundcolor\":\"white\",\"gridcolor\":\"#DFE8F3\",\"gridwidth\":2,\"linecolor\":\"#EBF0F8\",\"showbackground\":true,\"ticks\":\"\",\"zerolinecolor\":\"#EBF0F8\"},\"yaxis\":{\"backgroundcolor\":\"white\",\"gridcolor\":\"#DFE8F3\",\"gridwidth\":2,\"linecolor\":\"#EBF0F8\",\"showbackground\":true,\"ticks\":\"\",\"zerolinecolor\":\"#EBF0F8\"},\"zaxis\":{\"backgroundcolor\":\"white\",\"gridcolor\":\"#DFE8F3\",\"gridwidth\":2,\"linecolor\":\"#EBF0F8\",\"showbackground\":true,\"ticks\":\"\",\"zerolinecolor\":\"#EBF0F8\"}},\"shapedefaults\":{\"line\":{\"color\":\"#2a3f5f\"}},\"ternary\":{\"aaxis\":{\"gridcolor\":\"#DFE8F3\",\"linecolor\":\"#A2B1C6\",\"ticks\":\"\"},\"baxis\":{\"gridcolor\":\"#DFE8F3\",\"linecolor\":\"#A2B1C6\",\"ticks\":\"\"},\"bgcolor\":\"white\",\"caxis\":{\"gridcolor\":\"#DFE8F3\",\"linecolor\":\"#A2B1C6\",\"ticks\":\"\"}},\"title\":{\"x\":0.05},\"xaxis\":{\"automargin\":true,\"gridcolor\":\"#EBF0F8\",\"linecolor\":\"#EBF0F8\",\"ticks\":\"\",\"title\":{\"standoff\":15},\"zerolinecolor\":\"#EBF0F8\",\"zerolinewidth\":2},\"yaxis\":{\"automargin\":true,\"gridcolor\":\"#EBF0F8\",\"linecolor\":\"#EBF0F8\",\"ticks\":\"\",\"title\":{\"standoff\":15},\"zerolinecolor\":\"#EBF0F8\",\"zerolinewidth\":2}}},\"xaxis\":{\"anchor\":\"y\",\"domain\":[0.0,1.0],\"title\":{\"text\":\"Age group\"}},\"yaxis\":{\"anchor\":\"x\",\"domain\":[0.0,1.0],\"title\":{\"text\":\"Poverty rate change\"},\"tickformat\":\".0%\"},\"legend\":{\"title\":{\"text\":\"Policy\"},\"tracegroupgap\":0},\"margin\":{\"t\":60},\"barmode\":\"group\",\"title\":{\"text\":\"Figure 3: Poverty rate change by age group\"},\"font\":{\"family\":\"Roboto Serif\",\"color\":\"black\"},\"images\":[{\"sizex\":0.2,\"sizey\":0.2,\"source\":\"https://raw.githubusercontent.com/PolicyEngine/policyengine-app/master/src/images/logos/policyengine/blue.png\",\"x\":1,\"xanchor\":\"right\",\"xref\":\"paper\",\"y\":-0.15,\"yanchor\":\"bottom\",\"yref\":\"paper\"}],\"height\":600,\"width\":800,\"modebar\":{\"bgcolor\":\"rgba(0,0,0,0)\",\"color\":\"rgba(0,0,0,0)\"}}}'"
      ]
     },
     "execution_count": 7,
     "metadata": {},
     "output_type": "execute_result"
    }
   ],
   "source": [
    "import pandas as pd\n",
    "import plotly.express as px\n",
    "from policyengine_core.charts import BLUE_COLOUR_SCALE\n",
    "\n",
    "dfs = []\n",
    "for sim, policy_name in zip([model_1_sim, model_2_sim, model_3_sim], [\"£200/month\", \"£300/month\", \"£400/month\"]):\n",
    "    for group, name in zip([\"is_child\", \"is_WA_adult\", \"is_SP_age\", \"people\"], [\"Child\", \"Working-age\", \"Senior\", \"All\"]):\n",
    "        df = pd.DataFrame({\n",
    "            \"Poverty rate change\": (\n",
    "                [sim.calc(\"in_poverty_bhc\", map_to=\"person\")[sim.calc(group) > 0].mean()\n",
    "                / baseline.calc(\"in_poverty_bhc\", map_to=\"person\")[sim.calc(group) > 0].mean() - 1]\n",
    "            ),\n",
    "            \"Deep poverty rate change\": (\n",
    "                [sim.calc(\"in_deep_poverty_bhc\", map_to=\"person\")[sim.calc(group) > 0].mean()\n",
    "                / baseline.calc(\"in_deep_poverty_bhc\", map_to=\"person\")[sim.calc(group) > 0].mean() - 1]\n",
    "            ),\n",
    "            \"Age group\": [name],\n",
    "            \"Policy\": [policy_name],\n",
    "        })\n",
    "        dfs += [df]\n",
    "poverty_df = pd.concat(dfs)\n",
    "fig = px.bar(\n",
    "    poverty_df,\n",
    "    x=\"Age group\",\n",
    "    y=\"Poverty rate change\",\n",
    "    color=\"Policy\",\n",
    "    barmode=\"group\",\n",
    "    color_discrete_sequence=BLUE_COLOUR_SCALE,\n",
    ").update_layout(\n",
    "    yaxis_tickformat=\".0%\",\n",
    "    title=\"Figure 3: Poverty rate change by age group\",\n",
    ")\n",
    "for i in range(len(fig.data)):\n",
    "    fig.data[i][\"text\"] = [f\"{x:+.1%}\" if x is not None else \"\" for x in fig.data[i][\"y\"]]\n",
    "format_fig(fig).to_json()"
   ]
  },
  {
   "cell_type": "markdown",
   "metadata": {},
   "source": [
    "Each policy reduces various measures of inequality, especially the Gini index, roughly in proportion to the UBI amount. They also cut narrower measures of inequality: depending on the policy, the share of disposable income held by the top 1 and 10 percent of the population falls by 3 to 8 percent.\n"
   ]
  },
  {
   "cell_type": "code",
   "execution_count": 8,
   "metadata": {
    "tags": [
     "hide-input"
    ]
   },
   "outputs": [
    {
     "data": {
      "text/plain": [
       "'{\"data\":[{\"alignmentgroup\":\"True\",\"hovertemplate\":\"Policy=\\\\u00a3200/month<br>Metric=%{x}<br>Inequality change=%{y}<extra></extra>\",\"legendgroup\":\"\\\\u00a3200/month\",\"marker\":{\"color\":\"#D8E6F3\",\"pattern\":{\"shape\":\"\"}},\"name\":\"\\\\u00a3200/month\",\"offsetgroup\":\"\\\\u00a3200/month\",\"orientation\":\"v\",\"showlegend\":true,\"textposition\":\"auto\",\"x\":[\"Gini coefficient\",\"Top-10% share\",\"Top-1% share\"],\"xaxis\":\"x\",\"y\":[-0.08595915408731591,-0.03846821251449595,-0.04639395447309136],\"yaxis\":\"y\",\"type\":\"bar\",\"text\":[\"-8.6%\",\"-3.8%\",\"-4.6%\"]},{\"alignmentgroup\":\"True\",\"hovertemplate\":\"Policy=\\\\u00a3300/month<br>Metric=%{x}<br>Inequality change=%{y}<extra></extra>\",\"legendgroup\":\"\\\\u00a3300/month\",\"marker\":{\"color\":\"#2C6496\",\"pattern\":{\"shape\":\"\"}},\"name\":\"\\\\u00a3300/month\",\"offsetgroup\":\"\\\\u00a3300/month\",\"orientation\":\"v\",\"showlegend\":true,\"textposition\":\"auto\",\"x\":[\"Gini coefficient\",\"Top-10% share\",\"Top-1% share\"],\"xaxis\":\"x\",\"y\":[-0.13266132209329917,-0.06626077128850272,-0.07918297468741609],\"yaxis\":\"y\",\"type\":\"bar\",\"text\":[\"-13.3%\",\"-6.6%\",\"-7.9%\"]},{\"alignmentgroup\":\"True\",\"hovertemplate\":\"Policy=\\\\u00a3400/month<br>Metric=%{x}<br>Inequality change=%{y}<extra></extra>\",\"legendgroup\":\"\\\\u00a3400/month\",\"marker\":{\"color\":\"#17354F\",\"pattern\":{\"shape\":\"\"}},\"name\":\"\\\\u00a3400/month\",\"offsetgroup\":\"\\\\u00a3400/month\",\"orientation\":\"v\",\"showlegend\":true,\"textposition\":\"auto\",\"x\":[\"Gini coefficient\",\"Top-10% share\",\"Top-1% share\"],\"xaxis\":\"x\",\"y\":[-0.16887566518666386,-0.07654668273011234,-0.049013733284804406],\"yaxis\":\"y\",\"type\":\"bar\",\"text\":[\"-16.9%\",\"-7.7%\",\"-4.9%\"]}],\"layout\":{\"template\":{\"data\":{\"barpolar\":[{\"marker\":{\"line\":{\"color\":\"white\",\"width\":0.5},\"pattern\":{\"fillmode\":\"overlay\",\"size\":10,\"solidity\":0.2}},\"type\":\"barpolar\"}],\"bar\":[{\"error_x\":{\"color\":\"#2a3f5f\"},\"error_y\":{\"color\":\"#2a3f5f\"},\"marker\":{\"line\":{\"color\":\"white\",\"width\":0.5},\"pattern\":{\"fillmode\":\"overlay\",\"size\":10,\"solidity\":0.2}},\"type\":\"bar\"}],\"carpet\":[{\"aaxis\":{\"endlinecolor\":\"#2a3f5f\",\"gridcolor\":\"#C8D4E3\",\"linecolor\":\"#C8D4E3\",\"minorgridcolor\":\"#C8D4E3\",\"startlinecolor\":\"#2a3f5f\"},\"baxis\":{\"endlinecolor\":\"#2a3f5f\",\"gridcolor\":\"#C8D4E3\",\"linecolor\":\"#C8D4E3\",\"minorgridcolor\":\"#C8D4E3\",\"startlinecolor\":\"#2a3f5f\"},\"type\":\"carpet\"}],\"choropleth\":[{\"colorbar\":{\"outlinewidth\":0,\"ticks\":\"\"},\"type\":\"choropleth\"}],\"contourcarpet\":[{\"colorbar\":{\"outlinewidth\":0,\"ticks\":\"\"},\"type\":\"contourcarpet\"}],\"contour\":[{\"colorbar\":{\"outlinewidth\":0,\"ticks\":\"\"},\"colorscale\":[[0.0,\"#0d0887\"],[0.1111111111111111,\"#46039f\"],[0.2222222222222222,\"#7201a8\"],[0.3333333333333333,\"#9c179e\"],[0.4444444444444444,\"#bd3786\"],[0.5555555555555556,\"#d8576b\"],[0.6666666666666666,\"#ed7953\"],[0.7777777777777778,\"#fb9f3a\"],[0.8888888888888888,\"#fdca26\"],[1.0,\"#f0f921\"]],\"type\":\"contour\"}],\"heatmapgl\":[{\"colorbar\":{\"outlinewidth\":0,\"ticks\":\"\"},\"colorscale\":[[0.0,\"#0d0887\"],[0.1111111111111111,\"#46039f\"],[0.2222222222222222,\"#7201a8\"],[0.3333333333333333,\"#9c179e\"],[0.4444444444444444,\"#bd3786\"],[0.5555555555555556,\"#d8576b\"],[0.6666666666666666,\"#ed7953\"],[0.7777777777777778,\"#fb9f3a\"],[0.8888888888888888,\"#fdca26\"],[1.0,\"#f0f921\"]],\"type\":\"heatmapgl\"}],\"heatmap\":[{\"colorbar\":{\"outlinewidth\":0,\"ticks\":\"\"},\"colorscale\":[[0.0,\"#0d0887\"],[0.1111111111111111,\"#46039f\"],[0.2222222222222222,\"#7201a8\"],[0.3333333333333333,\"#9c179e\"],[0.4444444444444444,\"#bd3786\"],[0.5555555555555556,\"#d8576b\"],[0.6666666666666666,\"#ed7953\"],[0.7777777777777778,\"#fb9f3a\"],[0.8888888888888888,\"#fdca26\"],[1.0,\"#f0f921\"]],\"type\":\"heatmap\"}],\"histogram2dcontour\":[{\"colorbar\":{\"outlinewidth\":0,\"ticks\":\"\"},\"colorscale\":[[0.0,\"#0d0887\"],[0.1111111111111111,\"#46039f\"],[0.2222222222222222,\"#7201a8\"],[0.3333333333333333,\"#9c179e\"],[0.4444444444444444,\"#bd3786\"],[0.5555555555555556,\"#d8576b\"],[0.6666666666666666,\"#ed7953\"],[0.7777777777777778,\"#fb9f3a\"],[0.8888888888888888,\"#fdca26\"],[1.0,\"#f0f921\"]],\"type\":\"histogram2dcontour\"}],\"histogram2d\":[{\"colorbar\":{\"outlinewidth\":0,\"ticks\":\"\"},\"colorscale\":[[0.0,\"#0d0887\"],[0.1111111111111111,\"#46039f\"],[0.2222222222222222,\"#7201a8\"],[0.3333333333333333,\"#9c179e\"],[0.4444444444444444,\"#bd3786\"],[0.5555555555555556,\"#d8576b\"],[0.6666666666666666,\"#ed7953\"],[0.7777777777777778,\"#fb9f3a\"],[0.8888888888888888,\"#fdca26\"],[1.0,\"#f0f921\"]],\"type\":\"histogram2d\"}],\"histogram\":[{\"marker\":{\"pattern\":{\"fillmode\":\"overlay\",\"size\":10,\"solidity\":0.2}},\"type\":\"histogram\"}],\"mesh3d\":[{\"colorbar\":{\"outlinewidth\":0,\"ticks\":\"\"},\"type\":\"mesh3d\"}],\"parcoords\":[{\"line\":{\"colorbar\":{\"outlinewidth\":0,\"ticks\":\"\"}},\"type\":\"parcoords\"}],\"pie\":[{\"automargin\":true,\"type\":\"pie\"}],\"scatter3d\":[{\"line\":{\"colorbar\":{\"outlinewidth\":0,\"ticks\":\"\"}},\"marker\":{\"colorbar\":{\"outlinewidth\":0,\"ticks\":\"\"}},\"type\":\"scatter3d\"}],\"scattercarpet\":[{\"marker\":{\"colorbar\":{\"outlinewidth\":0,\"ticks\":\"\"}},\"type\":\"scattercarpet\"}],\"scattergeo\":[{\"marker\":{\"colorbar\":{\"outlinewidth\":0,\"ticks\":\"\"}},\"type\":\"scattergeo\"}],\"scattergl\":[{\"marker\":{\"colorbar\":{\"outlinewidth\":0,\"ticks\":\"\"}},\"type\":\"scattergl\"}],\"scattermapbox\":[{\"marker\":{\"colorbar\":{\"outlinewidth\":0,\"ticks\":\"\"}},\"type\":\"scattermapbox\"}],\"scatterpolargl\":[{\"marker\":{\"colorbar\":{\"outlinewidth\":0,\"ticks\":\"\"}},\"type\":\"scatterpolargl\"}],\"scatterpolar\":[{\"marker\":{\"colorbar\":{\"outlinewidth\":0,\"ticks\":\"\"}},\"type\":\"scatterpolar\"}],\"scatter\":[{\"fillpattern\":{\"fillmode\":\"overlay\",\"size\":10,\"solidity\":0.2},\"type\":\"scatter\"}],\"scatterternary\":[{\"marker\":{\"colorbar\":{\"outlinewidth\":0,\"ticks\":\"\"}},\"type\":\"scatterternary\"}],\"surface\":[{\"colorbar\":{\"outlinewidth\":0,\"ticks\":\"\"},\"colorscale\":[[0.0,\"#0d0887\"],[0.1111111111111111,\"#46039f\"],[0.2222222222222222,\"#7201a8\"],[0.3333333333333333,\"#9c179e\"],[0.4444444444444444,\"#bd3786\"],[0.5555555555555556,\"#d8576b\"],[0.6666666666666666,\"#ed7953\"],[0.7777777777777778,\"#fb9f3a\"],[0.8888888888888888,\"#fdca26\"],[1.0,\"#f0f921\"]],\"type\":\"surface\"}],\"table\":[{\"cells\":{\"fill\":{\"color\":\"#EBF0F8\"},\"line\":{\"color\":\"white\"}},\"header\":{\"fill\":{\"color\":\"#C8D4E3\"},\"line\":{\"color\":\"white\"}},\"type\":\"table\"}]},\"layout\":{\"annotationdefaults\":{\"arrowcolor\":\"#2a3f5f\",\"arrowhead\":0,\"arrowwidth\":1},\"autotypenumbers\":\"strict\",\"coloraxis\":{\"colorbar\":{\"outlinewidth\":0,\"ticks\":\"\"}},\"colorscale\":{\"diverging\":[[0,\"#8e0152\"],[0.1,\"#c51b7d\"],[0.2,\"#de77ae\"],[0.3,\"#f1b6da\"],[0.4,\"#fde0ef\"],[0.5,\"#f7f7f7\"],[0.6,\"#e6f5d0\"],[0.7,\"#b8e186\"],[0.8,\"#7fbc41\"],[0.9,\"#4d9221\"],[1,\"#276419\"]],\"sequential\":[[0.0,\"#0d0887\"],[0.1111111111111111,\"#46039f\"],[0.2222222222222222,\"#7201a8\"],[0.3333333333333333,\"#9c179e\"],[0.4444444444444444,\"#bd3786\"],[0.5555555555555556,\"#d8576b\"],[0.6666666666666666,\"#ed7953\"],[0.7777777777777778,\"#fb9f3a\"],[0.8888888888888888,\"#fdca26\"],[1.0,\"#f0f921\"]],\"sequentialminus\":[[0.0,\"#0d0887\"],[0.1111111111111111,\"#46039f\"],[0.2222222222222222,\"#7201a8\"],[0.3333333333333333,\"#9c179e\"],[0.4444444444444444,\"#bd3786\"],[0.5555555555555556,\"#d8576b\"],[0.6666666666666666,\"#ed7953\"],[0.7777777777777778,\"#fb9f3a\"],[0.8888888888888888,\"#fdca26\"],[1.0,\"#f0f921\"]]},\"colorway\":[\"#636efa\",\"#EF553B\",\"#00cc96\",\"#ab63fa\",\"#FFA15A\",\"#19d3f3\",\"#FF6692\",\"#B6E880\",\"#FF97FF\",\"#FECB52\"],\"font\":{\"color\":\"#2a3f5f\"},\"geo\":{\"bgcolor\":\"white\",\"lakecolor\":\"white\",\"landcolor\":\"white\",\"showlakes\":true,\"showland\":true,\"subunitcolor\":\"#C8D4E3\"},\"hoverlabel\":{\"align\":\"left\"},\"hovermode\":\"closest\",\"mapbox\":{\"style\":\"light\"},\"paper_bgcolor\":\"white\",\"plot_bgcolor\":\"white\",\"polar\":{\"angularaxis\":{\"gridcolor\":\"#EBF0F8\",\"linecolor\":\"#EBF0F8\",\"ticks\":\"\"},\"bgcolor\":\"white\",\"radialaxis\":{\"gridcolor\":\"#EBF0F8\",\"linecolor\":\"#EBF0F8\",\"ticks\":\"\"}},\"scene\":{\"xaxis\":{\"backgroundcolor\":\"white\",\"gridcolor\":\"#DFE8F3\",\"gridwidth\":2,\"linecolor\":\"#EBF0F8\",\"showbackground\":true,\"ticks\":\"\",\"zerolinecolor\":\"#EBF0F8\"},\"yaxis\":{\"backgroundcolor\":\"white\",\"gridcolor\":\"#DFE8F3\",\"gridwidth\":2,\"linecolor\":\"#EBF0F8\",\"showbackground\":true,\"ticks\":\"\",\"zerolinecolor\":\"#EBF0F8\"},\"zaxis\":{\"backgroundcolor\":\"white\",\"gridcolor\":\"#DFE8F3\",\"gridwidth\":2,\"linecolor\":\"#EBF0F8\",\"showbackground\":true,\"ticks\":\"\",\"zerolinecolor\":\"#EBF0F8\"}},\"shapedefaults\":{\"line\":{\"color\":\"#2a3f5f\"}},\"ternary\":{\"aaxis\":{\"gridcolor\":\"#DFE8F3\",\"linecolor\":\"#A2B1C6\",\"ticks\":\"\"},\"baxis\":{\"gridcolor\":\"#DFE8F3\",\"linecolor\":\"#A2B1C6\",\"ticks\":\"\"},\"bgcolor\":\"white\",\"caxis\":{\"gridcolor\":\"#DFE8F3\",\"linecolor\":\"#A2B1C6\",\"ticks\":\"\"}},\"title\":{\"x\":0.05},\"xaxis\":{\"automargin\":true,\"gridcolor\":\"#EBF0F8\",\"linecolor\":\"#EBF0F8\",\"ticks\":\"\",\"title\":{\"standoff\":15},\"zerolinecolor\":\"#EBF0F8\",\"zerolinewidth\":2},\"yaxis\":{\"automargin\":true,\"gridcolor\":\"#EBF0F8\",\"linecolor\":\"#EBF0F8\",\"ticks\":\"\",\"title\":{\"standoff\":15},\"zerolinecolor\":\"#EBF0F8\",\"zerolinewidth\":2}}},\"xaxis\":{\"anchor\":\"y\",\"domain\":[0.0,1.0],\"title\":{\"text\":\"Metric\"}},\"yaxis\":{\"anchor\":\"x\",\"domain\":[0.0,1.0],\"title\":{\"text\":\"Inequality change\"},\"tickformat\":\".0%\"},\"legend\":{\"title\":{\"text\":\"Policy\"},\"tracegroupgap\":0},\"margin\":{\"t\":60},\"barmode\":\"group\",\"font\":{\"family\":\"Roboto Serif\",\"color\":\"black\"},\"images\":[{\"sizex\":0.2,\"sizey\":0.2,\"source\":\"https://raw.githubusercontent.com/PolicyEngine/policyengine-app/master/src/images/logos/policyengine/blue.png\",\"x\":1,\"xanchor\":\"right\",\"xref\":\"paper\",\"y\":-0.15,\"yanchor\":\"bottom\",\"yref\":\"paper\"}],\"height\":600,\"width\":800,\"modebar\":{\"bgcolor\":\"rgba(0,0,0,0)\",\"color\":\"rgba(0,0,0,0)\"},\"title\":{\"text\":\"Figure 4: Inequality impact by metric and UBI policy\"}}}'"
      ]
     },
     "execution_count": 8,
     "metadata": {},
     "output_type": "execute_result"
    }
   ],
   "source": [
    "dfs = []\n",
    "from policyengine_core.charts import BLUE_COLOUR_SCALE\n",
    "for reformed, policy_name in zip([model_1_sim, model_2_sim, model_3_sim], [\"£200/month\", \"£300/month\", \"£400/month\"]):\n",
    "    equiv_income = baseline.calc(\n",
    "        \"equiv_household_net_income\", map_to=\"person\"\n",
    "    )\n",
    "    reform_equiv_income = reformed.calc(\n",
    "        \"equiv_household_net_income\", map_to=\"person\"\n",
    "    )\n",
    "    baseline_gini = equiv_income.gini()\n",
    "    reform_gini = reform_equiv_income.gini()\n",
    "    gini_change = reform_gini / baseline_gini - 1\n",
    "    baseline_top_ten_pct_share = (\n",
    "        equiv_income[equiv_income.decile_rank() == 10].sum()\n",
    "        / equiv_income.sum()\n",
    "    )\n",
    "    reform_top_ten_pct_share = (\n",
    "        reform_equiv_income[reform_equiv_income.decile_rank() == 10].sum()\n",
    "        / reform_equiv_income.sum()\n",
    "    )\n",
    "    top_ten_pct_share_change = (\n",
    "        reform_top_ten_pct_share / baseline_top_ten_pct_share - 1\n",
    "    )\n",
    "    baseline_top_one_pct_share = (\n",
    "        equiv_income[equiv_income.percentile_rank() == 100].sum()\n",
    "        / equiv_income.sum()\n",
    "    )\n",
    "    reform_top_one_pct_share = (\n",
    "        reform_equiv_income[reform_equiv_income.percentile_rank() == 100].sum()\n",
    "        / reform_equiv_income.sum()\n",
    "    )\n",
    "    top_one_pct_share_change = (\n",
    "        reform_top_one_pct_share / baseline_top_one_pct_share - 1\n",
    "    )\n",
    "    df = pd.DataFrame({\n",
    "        \"Metric\": [\"Gini coefficient\", \"Top-10% share\", \"Top-1% share\"],\n",
    "        \"Inequality change\": [\n",
    "            reform_gini / baseline_gini - 1,\n",
    "            reform_top_ten_pct_share / baseline_top_ten_pct_share - 1,\n",
    "            reform_top_one_pct_share / baseline_top_one_pct_share - 1,\n",
    "        ],\n",
    "        \"Policy\": [policy_name] * 3,\n",
    "    })\n",
    "    dfs += [df]\n",
    "inequality_df = pd.concat(dfs)\n",
    "fig = px.bar(\n",
    "    inequality_df,\n",
    "    x=\"Metric\",\n",
    "    y=\"Inequality change\",\n",
    "    color=\"Policy\",\n",
    "    barmode=\"group\",\n",
    "    color_discrete_sequence=BLUE_COLOUR_SCALE,\n",
    ").update_layout(\n",
    "    yaxis_tickformat=\".0%\",\n",
    ")\n",
    "for i in range(len(fig.data)):\n",
    "    fig.data[i][\"text\"] = [f\"{x:+.1%}\" if x is not None else \"\" for x in fig.data[i][\"y\"]]\n",
    "format_fig(fig).update_layout(\n",
    "    title=\"Figure 4: Inequality impact by metric and UBI policy\",\n",
    ").to_json()"
   ]
  },
  {
   "cell_type": "markdown",
   "metadata": {},
   "source": [
    "The next sections provide more detailed societal-level impacts on each of the three policies.\n",
    "\n",
    "\n",
    "## [£200 per month option](http://localhost:3000/uk/policy?reform=31959&focus=policyOutput.decileRelativeImpact&region=ni&timePeriod=2023&baseline=1)\n",
    "\n",
    "_£200 per month for adults, funded by lowering the personal allowance to £2,000, increasing the basic rate by 1.5p, and increasing the higher and additional rates by 2.9p_\n",
    "\n",
    "The smallest policy in our analysis reduces the allowance to £2,000 per year, raises the basic rate to 21.5%, the higher rate to 42.9% and the additional rate to 47.9%. 71% of the population sees their income rise as a result of the policy.\n",
    "\n",
    "The policy is highly progressive: the lowest income decile sees an increase of 15% to its aggregate disposable income.\n",
    "\n"
   ]
  },
  {
   "cell_type": "code",
   "execution_count": 9,
   "metadata": {
    "tags": [
     "hide-input"
    ]
   },
   "outputs": [
    {
     "data": {
      "text/plain": [
       "'{\"data\":[{\"marker\":{\"color\":[\"#2C6496\",\"#2C6496\",\"#2C6496\",\"#2C6496\",\"#2C6496\",\"#2C6496\",\"#2C6496\",\"#2C6496\",\"#2C6496\",\"#616161\"]},\"text\":[\"+15.4%\",\"+8.4%\",\"+6.5%\",\"+4.9%\",\"+3.8%\",\"+2.1%\",\"+1.7%\",\"+0.9%\",\"+0.4%\",\"-0.8%\"],\"textangle\":0,\"x\":[1,2,3,4,5,6,7,8,9,10],\"y\":[0.15408292058154588,0.08375903225972975,0.06473777296000713,0.04883701124144256,0.03803934706504714,0.02118480214041604,0.016885994146595276,0.00872129636839636,0.004377866308597994,-0.007895287204174366],\"type\":\"bar\"}],\"layout\":{\"uniformtext\":{\"minsize\":8,\"mode\":\"hide\"},\"xaxis\":{\"tickvals\":[1,2,3,4,5,6,7,8,9,10],\"title\":{\"text\":\"Income decile\"}},\"yaxis\":{\"tickformat\":\"+,.0%\",\"title\":{\"text\":\"Relative change\"}},\"template\":{\"data\":{\"barpolar\":[{\"marker\":{\"line\":{\"color\":\"white\",\"width\":0.5},\"pattern\":{\"fillmode\":\"overlay\",\"size\":10,\"solidity\":0.2}},\"type\":\"barpolar\"}],\"bar\":[{\"error_x\":{\"color\":\"#2a3f5f\"},\"error_y\":{\"color\":\"#2a3f5f\"},\"marker\":{\"line\":{\"color\":\"white\",\"width\":0.5},\"pattern\":{\"fillmode\":\"overlay\",\"size\":10,\"solidity\":0.2}},\"type\":\"bar\"}],\"carpet\":[{\"aaxis\":{\"endlinecolor\":\"#2a3f5f\",\"gridcolor\":\"#C8D4E3\",\"linecolor\":\"#C8D4E3\",\"minorgridcolor\":\"#C8D4E3\",\"startlinecolor\":\"#2a3f5f\"},\"baxis\":{\"endlinecolor\":\"#2a3f5f\",\"gridcolor\":\"#C8D4E3\",\"linecolor\":\"#C8D4E3\",\"minorgridcolor\":\"#C8D4E3\",\"startlinecolor\":\"#2a3f5f\"},\"type\":\"carpet\"}],\"choropleth\":[{\"colorbar\":{\"outlinewidth\":0,\"ticks\":\"\"},\"type\":\"choropleth\"}],\"contourcarpet\":[{\"colorbar\":{\"outlinewidth\":0,\"ticks\":\"\"},\"type\":\"contourcarpet\"}],\"contour\":[{\"colorbar\":{\"outlinewidth\":0,\"ticks\":\"\"},\"colorscale\":[[0.0,\"#0d0887\"],[0.1111111111111111,\"#46039f\"],[0.2222222222222222,\"#7201a8\"],[0.3333333333333333,\"#9c179e\"],[0.4444444444444444,\"#bd3786\"],[0.5555555555555556,\"#d8576b\"],[0.6666666666666666,\"#ed7953\"],[0.7777777777777778,\"#fb9f3a\"],[0.8888888888888888,\"#fdca26\"],[1.0,\"#f0f921\"]],\"type\":\"contour\"}],\"heatmapgl\":[{\"colorbar\":{\"outlinewidth\":0,\"ticks\":\"\"},\"colorscale\":[[0.0,\"#0d0887\"],[0.1111111111111111,\"#46039f\"],[0.2222222222222222,\"#7201a8\"],[0.3333333333333333,\"#9c179e\"],[0.4444444444444444,\"#bd3786\"],[0.5555555555555556,\"#d8576b\"],[0.6666666666666666,\"#ed7953\"],[0.7777777777777778,\"#fb9f3a\"],[0.8888888888888888,\"#fdca26\"],[1.0,\"#f0f921\"]],\"type\":\"heatmapgl\"}],\"heatmap\":[{\"colorbar\":{\"outlinewidth\":0,\"ticks\":\"\"},\"colorscale\":[[0.0,\"#0d0887\"],[0.1111111111111111,\"#46039f\"],[0.2222222222222222,\"#7201a8\"],[0.3333333333333333,\"#9c179e\"],[0.4444444444444444,\"#bd3786\"],[0.5555555555555556,\"#d8576b\"],[0.6666666666666666,\"#ed7953\"],[0.7777777777777778,\"#fb9f3a\"],[0.8888888888888888,\"#fdca26\"],[1.0,\"#f0f921\"]],\"type\":\"heatmap\"}],\"histogram2dcontour\":[{\"colorbar\":{\"outlinewidth\":0,\"ticks\":\"\"},\"colorscale\":[[0.0,\"#0d0887\"],[0.1111111111111111,\"#46039f\"],[0.2222222222222222,\"#7201a8\"],[0.3333333333333333,\"#9c179e\"],[0.4444444444444444,\"#bd3786\"],[0.5555555555555556,\"#d8576b\"],[0.6666666666666666,\"#ed7953\"],[0.7777777777777778,\"#fb9f3a\"],[0.8888888888888888,\"#fdca26\"],[1.0,\"#f0f921\"]],\"type\":\"histogram2dcontour\"}],\"histogram2d\":[{\"colorbar\":{\"outlinewidth\":0,\"ticks\":\"\"},\"colorscale\":[[0.0,\"#0d0887\"],[0.1111111111111111,\"#46039f\"],[0.2222222222222222,\"#7201a8\"],[0.3333333333333333,\"#9c179e\"],[0.4444444444444444,\"#bd3786\"],[0.5555555555555556,\"#d8576b\"],[0.6666666666666666,\"#ed7953\"],[0.7777777777777778,\"#fb9f3a\"],[0.8888888888888888,\"#fdca26\"],[1.0,\"#f0f921\"]],\"type\":\"histogram2d\"}],\"histogram\":[{\"marker\":{\"pattern\":{\"fillmode\":\"overlay\",\"size\":10,\"solidity\":0.2}},\"type\":\"histogram\"}],\"mesh3d\":[{\"colorbar\":{\"outlinewidth\":0,\"ticks\":\"\"},\"type\":\"mesh3d\"}],\"parcoords\":[{\"line\":{\"colorbar\":{\"outlinewidth\":0,\"ticks\":\"\"}},\"type\":\"parcoords\"}],\"pie\":[{\"automargin\":true,\"type\":\"pie\"}],\"scatter3d\":[{\"line\":{\"colorbar\":{\"outlinewidth\":0,\"ticks\":\"\"}},\"marker\":{\"colorbar\":{\"outlinewidth\":0,\"ticks\":\"\"}},\"type\":\"scatter3d\"}],\"scattercarpet\":[{\"marker\":{\"colorbar\":{\"outlinewidth\":0,\"ticks\":\"\"}},\"type\":\"scattercarpet\"}],\"scattergeo\":[{\"marker\":{\"colorbar\":{\"outlinewidth\":0,\"ticks\":\"\"}},\"type\":\"scattergeo\"}],\"scattergl\":[{\"marker\":{\"colorbar\":{\"outlinewidth\":0,\"ticks\":\"\"}},\"type\":\"scattergl\"}],\"scattermapbox\":[{\"marker\":{\"colorbar\":{\"outlinewidth\":0,\"ticks\":\"\"}},\"type\":\"scattermapbox\"}],\"scatterpolargl\":[{\"marker\":{\"colorbar\":{\"outlinewidth\":0,\"ticks\":\"\"}},\"type\":\"scatterpolargl\"}],\"scatterpolar\":[{\"marker\":{\"colorbar\":{\"outlinewidth\":0,\"ticks\":\"\"}},\"type\":\"scatterpolar\"}],\"scatter\":[{\"fillpattern\":{\"fillmode\":\"overlay\",\"size\":10,\"solidity\":0.2},\"type\":\"scatter\"}],\"scatterternary\":[{\"marker\":{\"colorbar\":{\"outlinewidth\":0,\"ticks\":\"\"}},\"type\":\"scatterternary\"}],\"surface\":[{\"colorbar\":{\"outlinewidth\":0,\"ticks\":\"\"},\"colorscale\":[[0.0,\"#0d0887\"],[0.1111111111111111,\"#46039f\"],[0.2222222222222222,\"#7201a8\"],[0.3333333333333333,\"#9c179e\"],[0.4444444444444444,\"#bd3786\"],[0.5555555555555556,\"#d8576b\"],[0.6666666666666666,\"#ed7953\"],[0.7777777777777778,\"#fb9f3a\"],[0.8888888888888888,\"#fdca26\"],[1.0,\"#f0f921\"]],\"type\":\"surface\"}],\"table\":[{\"cells\":{\"fill\":{\"color\":\"#EBF0F8\"},\"line\":{\"color\":\"white\"}},\"header\":{\"fill\":{\"color\":\"#C8D4E3\"},\"line\":{\"color\":\"white\"}},\"type\":\"table\"}]},\"layout\":{\"annotationdefaults\":{\"arrowcolor\":\"#2a3f5f\",\"arrowhead\":0,\"arrowwidth\":1},\"autotypenumbers\":\"strict\",\"coloraxis\":{\"colorbar\":{\"outlinewidth\":0,\"ticks\":\"\"}},\"colorscale\":{\"diverging\":[[0,\"#8e0152\"],[0.1,\"#c51b7d\"],[0.2,\"#de77ae\"],[0.3,\"#f1b6da\"],[0.4,\"#fde0ef\"],[0.5,\"#f7f7f7\"],[0.6,\"#e6f5d0\"],[0.7,\"#b8e186\"],[0.8,\"#7fbc41\"],[0.9,\"#4d9221\"],[1,\"#276419\"]],\"sequential\":[[0.0,\"#0d0887\"],[0.1111111111111111,\"#46039f\"],[0.2222222222222222,\"#7201a8\"],[0.3333333333333333,\"#9c179e\"],[0.4444444444444444,\"#bd3786\"],[0.5555555555555556,\"#d8576b\"],[0.6666666666666666,\"#ed7953\"],[0.7777777777777778,\"#fb9f3a\"],[0.8888888888888888,\"#fdca26\"],[1.0,\"#f0f921\"]],\"sequentialminus\":[[0.0,\"#0d0887\"],[0.1111111111111111,\"#46039f\"],[0.2222222222222222,\"#7201a8\"],[0.3333333333333333,\"#9c179e\"],[0.4444444444444444,\"#bd3786\"],[0.5555555555555556,\"#d8576b\"],[0.6666666666666666,\"#ed7953\"],[0.7777777777777778,\"#fb9f3a\"],[0.8888888888888888,\"#fdca26\"],[1.0,\"#f0f921\"]]},\"colorway\":[\"#636efa\",\"#EF553B\",\"#00cc96\",\"#ab63fa\",\"#FFA15A\",\"#19d3f3\",\"#FF6692\",\"#B6E880\",\"#FF97FF\",\"#FECB52\"],\"font\":{\"color\":\"#2a3f5f\"},\"geo\":{\"bgcolor\":\"white\",\"lakecolor\":\"white\",\"landcolor\":\"white\",\"showlakes\":true,\"showland\":true,\"subunitcolor\":\"#C8D4E3\"},\"hoverlabel\":{\"align\":\"left\"},\"hovermode\":\"closest\",\"mapbox\":{\"style\":\"light\"},\"paper_bgcolor\":\"white\",\"plot_bgcolor\":\"white\",\"polar\":{\"angularaxis\":{\"gridcolor\":\"#EBF0F8\",\"linecolor\":\"#EBF0F8\",\"ticks\":\"\"},\"bgcolor\":\"white\",\"radialaxis\":{\"gridcolor\":\"#EBF0F8\",\"linecolor\":\"#EBF0F8\",\"ticks\":\"\"}},\"scene\":{\"xaxis\":{\"backgroundcolor\":\"white\",\"gridcolor\":\"#DFE8F3\",\"gridwidth\":2,\"linecolor\":\"#EBF0F8\",\"showbackground\":true,\"ticks\":\"\",\"zerolinecolor\":\"#EBF0F8\"},\"yaxis\":{\"backgroundcolor\":\"white\",\"gridcolor\":\"#DFE8F3\",\"gridwidth\":2,\"linecolor\":\"#EBF0F8\",\"showbackground\":true,\"ticks\":\"\",\"zerolinecolor\":\"#EBF0F8\"},\"zaxis\":{\"backgroundcolor\":\"white\",\"gridcolor\":\"#DFE8F3\",\"gridwidth\":2,\"linecolor\":\"#EBF0F8\",\"showbackground\":true,\"ticks\":\"\",\"zerolinecolor\":\"#EBF0F8\"}},\"shapedefaults\":{\"line\":{\"color\":\"#2a3f5f\"}},\"ternary\":{\"aaxis\":{\"gridcolor\":\"#DFE8F3\",\"linecolor\":\"#A2B1C6\",\"ticks\":\"\"},\"baxis\":{\"gridcolor\":\"#DFE8F3\",\"linecolor\":\"#A2B1C6\",\"ticks\":\"\"},\"bgcolor\":\"white\",\"caxis\":{\"gridcolor\":\"#DFE8F3\",\"linecolor\":\"#A2B1C6\",\"ticks\":\"\"}},\"title\":{\"x\":0.05},\"xaxis\":{\"automargin\":true,\"gridcolor\":\"#EBF0F8\",\"linecolor\":\"#EBF0F8\",\"ticks\":\"\",\"title\":{\"standoff\":15},\"zerolinecolor\":\"#EBF0F8\",\"zerolinewidth\":2},\"yaxis\":{\"automargin\":true,\"gridcolor\":\"#EBF0F8\",\"linecolor\":\"#EBF0F8\",\"ticks\":\"\",\"title\":{\"standoff\":15},\"zerolinecolor\":\"#EBF0F8\",\"zerolinewidth\":2}}},\"font\":{\"family\":\"Roboto Serif\",\"color\":\"black\"},\"images\":[{\"sizex\":0.2,\"sizey\":0.2,\"source\":\"https://raw.githubusercontent.com/PolicyEngine/policyengine-app/master/src/images/logos/policyengine/blue.png\",\"x\":1,\"xanchor\":\"right\",\"xref\":\"paper\",\"y\":-0.15,\"yanchor\":\"bottom\",\"yref\":\"paper\"}],\"height\":600,\"width\":800,\"modebar\":{\"bgcolor\":\"rgba(0,0,0,0)\",\"color\":\"rgba(0,0,0,0)\"},\"title\":{\"text\":\"Figure 5: Change to net income by income decile under a \\\\u00a3200 per month UBI\"}}}'"
      ]
     },
     "execution_count": 9,
     "metadata": {},
     "output_type": "execute_result"
    }
   ],
   "source": [
    "from policyengine_core.charts import decile_chart, intra_decile_chart\n",
    "\n",
    "decile_chart(\n",
    "    \"uk\",\n",
    "    model_1_reform.api_id,\n",
    "    \"ni\",\n",
    "    \"2023\",\n",
    ").update_layout(\n",
    "    title=\"Figure 5: Change to net income by income decile under a £200 per month UBI\"\n",
    ").to_json()"
   ]
  },
  {
   "cell_type": "markdown",
   "metadata": {},
   "source": [
    "This does not mean, however, that everyone within a beneficiary decile comes out ahead or vice-versa. But gains broadly correlate with income: in the first decile, all individuals see their household net income rise; in the top decile, most see their income fall. Basic income schemes often create large amounts of low-income households who see a loss, if the policy abolishes or removes elements of the existing welfare system. This and other policies considered in this report avoid creating such low-income losses by not reforming benefit programs."
   ]
  },
  {
   "cell_type": "code",
   "execution_count": 10,
   "metadata": {},
   "outputs": [
    {
     "data": {
      "text/plain": [
       "'{\"data\":[{\"hoverinfo\":\"none\",\"legendgroup\":\"Gain more than 5%\",\"marker\":{\"color\":\"#2C6496\",\"line\":{\"width\":0}},\"name\":\"Gain more than 5%\",\"offsetgroup\":\"Gain more than 5%\",\"orientation\":\"h\",\"showlegend\":false,\"text\":[\"49%\"],\"textangle\":0,\"textposition\":\"inside\",\"x\":[0.48711814203142],\"xaxis\":\"x\",\"y\":[\"All\"],\"yaxis\":\"y\",\"type\":\"bar\",\"width\":[0.9,0.9,0.9,0.9,0.9,0.9,0.9,0.9,0.9,0.9]},{\"hoverinfo\":\"none\",\"legendgroup\":\"Gain less than 5%\",\"marker\":{\"color\":\"#D8E6F3\",\"line\":{\"width\":0}},\"name\":\"Gain less than 5%\",\"offsetgroup\":\"Gain less than 5%\",\"orientation\":\"h\",\"showlegend\":false,\"text\":[\"21%\"],\"textangle\":0,\"textposition\":\"inside\",\"x\":[0.2068321948982427],\"xaxis\":\"x\",\"y\":[\"All\"],\"yaxis\":\"y\",\"type\":\"bar\",\"width\":[0.9,0.9,0.9,0.9,0.9,0.9,0.9,0.9,0.9,0.9]},{\"hoverinfo\":\"none\",\"legendgroup\":\"No change\",\"marker\":{\"color\":\"#FFFFFF\",\"line\":{\"width\":0}},\"name\":\"No change\",\"offsetgroup\":\"No change\",\"orientation\":\"h\",\"showlegend\":false,\"text\":[\"3%\"],\"textangle\":0,\"textposition\":\"inside\",\"x\":[0.025641627799386123],\"xaxis\":\"x\",\"y\":[\"All\"],\"yaxis\":\"y\",\"type\":\"bar\",\"width\":[0.9,0.9,0.9,0.9,0.9,0.9,0.9,0.9,0.9,0.9]},{\"hoverinfo\":\"none\",\"legendgroup\":\"Lose less than 5%\",\"marker\":{\"color\":\"#D2D2D2\",\"line\":{\"width\":0}},\"name\":\"Lose less than 5%\",\"offsetgroup\":\"Lose less than 5%\",\"orientation\":\"h\",\"showlegend\":false,\"text\":[\"27%\"],\"textangle\":0,\"textposition\":\"inside\",\"x\":[0.2718588609307762],\"xaxis\":\"x\",\"y\":[\"All\"],\"yaxis\":\"y\",\"type\":\"bar\",\"width\":[0.9,0.9,0.9,0.9,0.9,0.9,0.9,0.9,0.9,0.9]},{\"hoverinfo\":\"none\",\"legendgroup\":\"Lose more than 5%\",\"marker\":{\"color\":\"#616161\",\"line\":{\"width\":0}},\"name\":\"Lose more than 5%\",\"offsetgroup\":\"Lose more than 5%\",\"orientation\":\"h\",\"showlegend\":false,\"text\":[\"1%\"],\"textangle\":0,\"textposition\":\"inside\",\"x\":[0.008549174340175023],\"xaxis\":\"x\",\"y\":[\"All\"],\"yaxis\":\"y\",\"type\":\"bar\",\"width\":[0.9,0.9,0.9,0.9,0.9,0.9,0.9,0.9,0.9,0.9]},{\"hoverinfo\":\"none\",\"marker\":{\"color\":\"#2C6496\",\"line\":{\"width\":0}},\"name\":\"Gain more than 5%\",\"orientation\":\"h\",\"text\":[\"90%\",\"73%\",\"73%\",\"71%\",\"49%\",\"31%\",\"44%\",\"24%\",\"25%\",\"7%\"],\"textangle\":0,\"textposition\":\"inside\",\"x\":[0.9041411110877134,0.7343027695795373,0.7251903603924501,0.7107789529571982,0.4927348492179431,0.3127070824433511,0.43540690699014434,0.24088302077471702,0.24972108041669835,0.06531528645444691],\"xaxis\":\"x2\",\"y\":[1,2,3,4,5,6,7,8,9,10],\"yaxis\":\"y2\",\"type\":\"bar\",\"width\":[0.9,0.9,0.9,0.9,0.9,0.9,0.9,0.9,0.9,0.9]},{\"hoverinfo\":\"none\",\"marker\":{\"color\":\"#D8E6F3\",\"line\":{\"width\":0}},\"name\":\"Gain less than 5%\",\"orientation\":\"h\",\"text\":[\"10%\",\"15%\",\"13%\",\"26%\",\"44%\",\"34%\",\"5%\",\"17%\",\"12%\",\"32%\"],\"textangle\":0,\"textposition\":\"inside\",\"x\":[0.0955587216250513,0.1451554290635994,0.1274504611584238,0.2622653018089884,0.43965340132198105,0.3388957806899711,0.053491650606254056,0.17236789016946596,0.1152156847904804,0.31826762774821116],\"xaxis\":\"x2\",\"y\":[1,2,3,4,5,6,7,8,9,10],\"yaxis\":\"y2\",\"type\":\"bar\",\"width\":[0.9,0.9,0.9,0.9,0.9,0.9,0.9,0.9,0.9,0.9]},{\"hoverinfo\":\"none\",\"marker\":{\"color\":\"#FFFFFF\",\"line\":{\"width\":0}},\"name\":\"No change\",\"orientation\":\"h\",\"text\":[\"0%\",\"2%\",\"0%\",\"0%\",\"1%\",\"18%\",\"0%\",\"2%\",\"2%\",\"0%\"],\"textangle\":0,\"textposition\":\"inside\",\"x\":[0.0,0.023634588308152373,0.0003415457123141204,0.0,0.011997617261525864,0.17684925535174376,0.0,0.02133559539652535,0.022257675963599767,0.0],\"xaxis\":\"x2\",\"y\":[1,2,3,4,5,6,7,8,9,10],\"yaxis\":\"y2\",\"type\":\"bar\",\"width\":[0.9,0.9,0.9,0.9,0.9,0.9,0.9,0.9,0.9,0.9]},{\"hoverinfo\":\"none\",\"marker\":{\"color\":\"#D2D2D2\",\"line\":{\"width\":0}},\"name\":\"Lose less than 5%\",\"orientation\":\"h\",\"text\":[\"0%\",\"10%\",\"15%\",\"3%\",\"6%\",\"17%\",\"46%\",\"55%\",\"61%\",\"60%\"],\"textangle\":0,\"textposition\":\"inside\",\"x\":[0.0003001672872352223,0.09690721304871094,0.147017632736812,0.02695574523381347,0.05561413219854999,0.17154788151493403,0.4582843315886786,0.5497984681958682,0.6128055588292215,0.5993574786739383],\"xaxis\":\"x2\",\"y\":[1,2,3,4,5,6,7,8,9,10],\"yaxis\":\"y2\",\"type\":\"bar\",\"width\":[0.9,0.9,0.9,0.9,0.9,0.9,0.9,0.9,0.9,0.9]},{\"hoverinfo\":\"none\",\"marker\":{\"color\":\"#616161\",\"line\":{\"width\":0}},\"name\":\"Lose more than 5%\",\"orientation\":\"h\",\"text\":[\"0%\",\"0%\",\"0%\",\"0%\",\"0%\",\"0%\",\"5%\",\"2%\",\"0%\",\"2%\"],\"textangle\":0,\"textposition\":\"inside\",\"x\":[0.0,0.0,0.0,0.0,0.0,0.0,0.052817110814923,0.01561502546342354,0.0,0.01705960712340369],\"xaxis\":\"x2\",\"y\":[1,2,3,4,5,6,7,8,9,10],\"yaxis\":\"y2\",\"type\":\"bar\",\"width\":[0.9,0.9,0.9,0.9,0.9,0.9,0.9,0.9,0.9,0.9]}],\"layout\":{\"barmode\":\"stack\",\"grid\":{\"columns\":1,\"rows\":2},\"uniformtext\":{\"minsize\":10,\"mode\":\"hide\"},\"xaxis\":{\"anchor\":\"y\",\"matches\":\"x2\",\"showgrid\":false,\"showticklabels\":false,\"tickformat\":\".0%\",\"title\":{\"text\":\"\"}},\"yaxis\":{\"domain\":[0.91,1],\"tickvals\":[\"All\"],\"title\":{\"text\":\"\"}},\"xaxis2\":{\"anchor\":\"y2\",\"tickformat\":\".0%\",\"title\":{\"text\":\"Population share\"}},\"yaxis2\":{\"anchor\":\"x2\",\"domain\":[0,0.85],\"tickvals\":[1,2,3,4,5,6,7,8,9,10],\"title\":{\"text\":\"Income decile\"}},\"template\":{\"data\":{\"barpolar\":[{\"marker\":{\"line\":{\"color\":\"white\",\"width\":0.5},\"pattern\":{\"fillmode\":\"overlay\",\"size\":10,\"solidity\":0.2}},\"type\":\"barpolar\"}],\"bar\":[{\"error_x\":{\"color\":\"#2a3f5f\"},\"error_y\":{\"color\":\"#2a3f5f\"},\"marker\":{\"line\":{\"color\":\"white\",\"width\":0.5},\"pattern\":{\"fillmode\":\"overlay\",\"size\":10,\"solidity\":0.2}},\"type\":\"bar\"}],\"carpet\":[{\"aaxis\":{\"endlinecolor\":\"#2a3f5f\",\"gridcolor\":\"#C8D4E3\",\"linecolor\":\"#C8D4E3\",\"minorgridcolor\":\"#C8D4E3\",\"startlinecolor\":\"#2a3f5f\"},\"baxis\":{\"endlinecolor\":\"#2a3f5f\",\"gridcolor\":\"#C8D4E3\",\"linecolor\":\"#C8D4E3\",\"minorgridcolor\":\"#C8D4E3\",\"startlinecolor\":\"#2a3f5f\"},\"type\":\"carpet\"}],\"choropleth\":[{\"colorbar\":{\"outlinewidth\":0,\"ticks\":\"\"},\"type\":\"choropleth\"}],\"contourcarpet\":[{\"colorbar\":{\"outlinewidth\":0,\"ticks\":\"\"},\"type\":\"contourcarpet\"}],\"contour\":[{\"colorbar\":{\"outlinewidth\":0,\"ticks\":\"\"},\"colorscale\":[[0.0,\"#0d0887\"],[0.1111111111111111,\"#46039f\"],[0.2222222222222222,\"#7201a8\"],[0.3333333333333333,\"#9c179e\"],[0.4444444444444444,\"#bd3786\"],[0.5555555555555556,\"#d8576b\"],[0.6666666666666666,\"#ed7953\"],[0.7777777777777778,\"#fb9f3a\"],[0.8888888888888888,\"#fdca26\"],[1.0,\"#f0f921\"]],\"type\":\"contour\"}],\"heatmapgl\":[{\"colorbar\":{\"outlinewidth\":0,\"ticks\":\"\"},\"colorscale\":[[0.0,\"#0d0887\"],[0.1111111111111111,\"#46039f\"],[0.2222222222222222,\"#7201a8\"],[0.3333333333333333,\"#9c179e\"],[0.4444444444444444,\"#bd3786\"],[0.5555555555555556,\"#d8576b\"],[0.6666666666666666,\"#ed7953\"],[0.7777777777777778,\"#fb9f3a\"],[0.8888888888888888,\"#fdca26\"],[1.0,\"#f0f921\"]],\"type\":\"heatmapgl\"}],\"heatmap\":[{\"colorbar\":{\"outlinewidth\":0,\"ticks\":\"\"},\"colorscale\":[[0.0,\"#0d0887\"],[0.1111111111111111,\"#46039f\"],[0.2222222222222222,\"#7201a8\"],[0.3333333333333333,\"#9c179e\"],[0.4444444444444444,\"#bd3786\"],[0.5555555555555556,\"#d8576b\"],[0.6666666666666666,\"#ed7953\"],[0.7777777777777778,\"#fb9f3a\"],[0.8888888888888888,\"#fdca26\"],[1.0,\"#f0f921\"]],\"type\":\"heatmap\"}],\"histogram2dcontour\":[{\"colorbar\":{\"outlinewidth\":0,\"ticks\":\"\"},\"colorscale\":[[0.0,\"#0d0887\"],[0.1111111111111111,\"#46039f\"],[0.2222222222222222,\"#7201a8\"],[0.3333333333333333,\"#9c179e\"],[0.4444444444444444,\"#bd3786\"],[0.5555555555555556,\"#d8576b\"],[0.6666666666666666,\"#ed7953\"],[0.7777777777777778,\"#fb9f3a\"],[0.8888888888888888,\"#fdca26\"],[1.0,\"#f0f921\"]],\"type\":\"histogram2dcontour\"}],\"histogram2d\":[{\"colorbar\":{\"outlinewidth\":0,\"ticks\":\"\"},\"colorscale\":[[0.0,\"#0d0887\"],[0.1111111111111111,\"#46039f\"],[0.2222222222222222,\"#7201a8\"],[0.3333333333333333,\"#9c179e\"],[0.4444444444444444,\"#bd3786\"],[0.5555555555555556,\"#d8576b\"],[0.6666666666666666,\"#ed7953\"],[0.7777777777777778,\"#fb9f3a\"],[0.8888888888888888,\"#fdca26\"],[1.0,\"#f0f921\"]],\"type\":\"histogram2d\"}],\"histogram\":[{\"marker\":{\"pattern\":{\"fillmode\":\"overlay\",\"size\":10,\"solidity\":0.2}},\"type\":\"histogram\"}],\"mesh3d\":[{\"colorbar\":{\"outlinewidth\":0,\"ticks\":\"\"},\"type\":\"mesh3d\"}],\"parcoords\":[{\"line\":{\"colorbar\":{\"outlinewidth\":0,\"ticks\":\"\"}},\"type\":\"parcoords\"}],\"pie\":[{\"automargin\":true,\"type\":\"pie\"}],\"scatter3d\":[{\"line\":{\"colorbar\":{\"outlinewidth\":0,\"ticks\":\"\"}},\"marker\":{\"colorbar\":{\"outlinewidth\":0,\"ticks\":\"\"}},\"type\":\"scatter3d\"}],\"scattercarpet\":[{\"marker\":{\"colorbar\":{\"outlinewidth\":0,\"ticks\":\"\"}},\"type\":\"scattercarpet\"}],\"scattergeo\":[{\"marker\":{\"colorbar\":{\"outlinewidth\":0,\"ticks\":\"\"}},\"type\":\"scattergeo\"}],\"scattergl\":[{\"marker\":{\"colorbar\":{\"outlinewidth\":0,\"ticks\":\"\"}},\"type\":\"scattergl\"}],\"scattermapbox\":[{\"marker\":{\"colorbar\":{\"outlinewidth\":0,\"ticks\":\"\"}},\"type\":\"scattermapbox\"}],\"scatterpolargl\":[{\"marker\":{\"colorbar\":{\"outlinewidth\":0,\"ticks\":\"\"}},\"type\":\"scatterpolargl\"}],\"scatterpolar\":[{\"marker\":{\"colorbar\":{\"outlinewidth\":0,\"ticks\":\"\"}},\"type\":\"scatterpolar\"}],\"scatter\":[{\"fillpattern\":{\"fillmode\":\"overlay\",\"size\":10,\"solidity\":0.2},\"type\":\"scatter\"}],\"scatterternary\":[{\"marker\":{\"colorbar\":{\"outlinewidth\":0,\"ticks\":\"\"}},\"type\":\"scatterternary\"}],\"surface\":[{\"colorbar\":{\"outlinewidth\":0,\"ticks\":\"\"},\"colorscale\":[[0.0,\"#0d0887\"],[0.1111111111111111,\"#46039f\"],[0.2222222222222222,\"#7201a8\"],[0.3333333333333333,\"#9c179e\"],[0.4444444444444444,\"#bd3786\"],[0.5555555555555556,\"#d8576b\"],[0.6666666666666666,\"#ed7953\"],[0.7777777777777778,\"#fb9f3a\"],[0.8888888888888888,\"#fdca26\"],[1.0,\"#f0f921\"]],\"type\":\"surface\"}],\"table\":[{\"cells\":{\"fill\":{\"color\":\"#EBF0F8\"},\"line\":{\"color\":\"white\"}},\"header\":{\"fill\":{\"color\":\"#C8D4E3\"},\"line\":{\"color\":\"white\"}},\"type\":\"table\"}]},\"layout\":{\"annotationdefaults\":{\"arrowcolor\":\"#2a3f5f\",\"arrowhead\":0,\"arrowwidth\":1},\"autotypenumbers\":\"strict\",\"coloraxis\":{\"colorbar\":{\"outlinewidth\":0,\"ticks\":\"\"}},\"colorscale\":{\"diverging\":[[0,\"#8e0152\"],[0.1,\"#c51b7d\"],[0.2,\"#de77ae\"],[0.3,\"#f1b6da\"],[0.4,\"#fde0ef\"],[0.5,\"#f7f7f7\"],[0.6,\"#e6f5d0\"],[0.7,\"#b8e186\"],[0.8,\"#7fbc41\"],[0.9,\"#4d9221\"],[1,\"#276419\"]],\"sequential\":[[0.0,\"#0d0887\"],[0.1111111111111111,\"#46039f\"],[0.2222222222222222,\"#7201a8\"],[0.3333333333333333,\"#9c179e\"],[0.4444444444444444,\"#bd3786\"],[0.5555555555555556,\"#d8576b\"],[0.6666666666666666,\"#ed7953\"],[0.7777777777777778,\"#fb9f3a\"],[0.8888888888888888,\"#fdca26\"],[1.0,\"#f0f921\"]],\"sequentialminus\":[[0.0,\"#0d0887\"],[0.1111111111111111,\"#46039f\"],[0.2222222222222222,\"#7201a8\"],[0.3333333333333333,\"#9c179e\"],[0.4444444444444444,\"#bd3786\"],[0.5555555555555556,\"#d8576b\"],[0.6666666666666666,\"#ed7953\"],[0.7777777777777778,\"#fb9f3a\"],[0.8888888888888888,\"#fdca26\"],[1.0,\"#f0f921\"]]},\"colorway\":[\"#636efa\",\"#EF553B\",\"#00cc96\",\"#ab63fa\",\"#FFA15A\",\"#19d3f3\",\"#FF6692\",\"#B6E880\",\"#FF97FF\",\"#FECB52\"],\"font\":{\"color\":\"#2a3f5f\"},\"geo\":{\"bgcolor\":\"white\",\"lakecolor\":\"white\",\"landcolor\":\"white\",\"showlakes\":true,\"showland\":true,\"subunitcolor\":\"#C8D4E3\"},\"hoverlabel\":{\"align\":\"left\"},\"hovermode\":\"closest\",\"mapbox\":{\"style\":\"light\"},\"paper_bgcolor\":\"white\",\"plot_bgcolor\":\"white\",\"polar\":{\"angularaxis\":{\"gridcolor\":\"#EBF0F8\",\"linecolor\":\"#EBF0F8\",\"ticks\":\"\"},\"bgcolor\":\"white\",\"radialaxis\":{\"gridcolor\":\"#EBF0F8\",\"linecolor\":\"#EBF0F8\",\"ticks\":\"\"}},\"scene\":{\"xaxis\":{\"backgroundcolor\":\"white\",\"gridcolor\":\"#DFE8F3\",\"gridwidth\":2,\"linecolor\":\"#EBF0F8\",\"showbackground\":true,\"ticks\":\"\",\"zerolinecolor\":\"#EBF0F8\"},\"yaxis\":{\"backgroundcolor\":\"white\",\"gridcolor\":\"#DFE8F3\",\"gridwidth\":2,\"linecolor\":\"#EBF0F8\",\"showbackground\":true,\"ticks\":\"\",\"zerolinecolor\":\"#EBF0F8\"},\"zaxis\":{\"backgroundcolor\":\"white\",\"gridcolor\":\"#DFE8F3\",\"gridwidth\":2,\"linecolor\":\"#EBF0F8\",\"showbackground\":true,\"ticks\":\"\",\"zerolinecolor\":\"#EBF0F8\"}},\"shapedefaults\":{\"line\":{\"color\":\"#2a3f5f\"}},\"ternary\":{\"aaxis\":{\"gridcolor\":\"#DFE8F3\",\"linecolor\":\"#A2B1C6\",\"ticks\":\"\"},\"baxis\":{\"gridcolor\":\"#DFE8F3\",\"linecolor\":\"#A2B1C6\",\"ticks\":\"\"},\"bgcolor\":\"white\",\"caxis\":{\"gridcolor\":\"#DFE8F3\",\"linecolor\":\"#A2B1C6\",\"ticks\":\"\"}},\"title\":{\"x\":0.05},\"xaxis\":{\"automargin\":true,\"gridcolor\":\"#EBF0F8\",\"linecolor\":\"#EBF0F8\",\"ticks\":\"\",\"title\":{\"standoff\":15},\"zerolinecolor\":\"#EBF0F8\",\"zerolinewidth\":2},\"yaxis\":{\"automargin\":true,\"gridcolor\":\"#EBF0F8\",\"linecolor\":\"#EBF0F8\",\"ticks\":\"\",\"title\":{\"standoff\":15},\"zerolinecolor\":\"#EBF0F8\",\"zerolinewidth\":2}}},\"font\":{\"family\":\"Roboto Serif\",\"color\":\"black\"},\"images\":[{\"sizex\":0.2,\"sizey\":0.2,\"source\":\"https://raw.githubusercontent.com/PolicyEngine/policyengine-app/master/src/images/logos/policyengine/blue.png\",\"x\":1,\"xanchor\":\"right\",\"xref\":\"paper\",\"y\":-0.15,\"yanchor\":\"bottom\",\"yref\":\"paper\"}],\"height\":600,\"width\":800,\"modebar\":{\"bgcolor\":\"rgba(0,0,0,0)\",\"color\":\"rgba(0,0,0,0)\"},\"legend\":{\"orientation\":\"h\",\"yanchor\":\"bottom\",\"y\":-0.3},\"title\":{\"text\":\"Figure 6: Outcome distribution by income decile under a \\\\u00a3200 per month UBI\"}}}'"
      ]
     },
     "execution_count": 10,
     "metadata": {},
     "output_type": "execute_result"
    }
   ],
   "source": [
    "intra_decile_chart(\n",
    "    \"uk\",\n",
    "    model_1_reform.api_id,\n",
    "    \"ni\",\n",
    "    \"2023\",\n",
    ").update_layout(\n",
    "    title=\"Figure 6: Outcome distribution by income decile under a £200 per month UBI\",\n",
    "    legend=dict(\n",
    "        orientation=\"h\",\n",
    "        yanchor=\"bottom\",\n",
    "        y=-0.3,\n",
    "    )\n",
    ").to_json()"
   ]
  },
  {
   "cell_type": "markdown",
   "metadata": {},
   "source": [
    "Total absolute poverty falls by 37%. This includes a fall of 41% for working-age poverty and by 43% for child poverty. \n",
    "\n",
    "\n",
    "## [£300 per month option](http://localhost:3000/uk/policy?reform=31960&focus=policyOutput.decileRelativeImpact&region=ni&timePeriod=2023&baseline=1)\n",
    "\n",
    "_£300 per month for adults, funded by repealing the personal allowance and increasing all tax rates by 4.6p_\n",
    "\n",
    "Northern Ireland could increase the basic income level from £200 to £300 by eliminating the personal allowance and raising the basic rate to 24.6%, the higher rate to 44.6%, and the additional rate to 49.6%. One counter-intuitive result of this is that the top marginal income tax rate actually falls slightly: in the current system, individuals who earn over £100,000 and less than £125,140 pay a 63.25% marginal tax rate.[^9] Under this policy, the top marginal income tax rate becomes 49.6%, as the personal allowance no longer exists to be phased out.\n",
    "\n",
    "With a larger UBI comes more progressive outcomes: the lowest income decile sees its income increase by over 23%, and the top decile income falls by around half a percent.\n",
    "\n",
    "\n",
    "[^9]:\n",
    "     This is because of the personal allowance phase-out, which creates a 60% marginal rate (40% * 1.5), in addition to the National Insurance marginal rate of (as of the time of writing) 3.25%.\n"
   ]
  },
  {
   "cell_type": "code",
   "execution_count": 11,
   "metadata": {
    "tags": [
     "hide-input"
    ]
   },
   "outputs": [
    {
     "data": {
      "text/plain": [
       "'{\"data\":[{\"marker\":{\"color\":[\"#2C6496\",\"#2C6496\",\"#2C6496\",\"#2C6496\",\"#2C6496\",\"#2C6496\",\"#2C6496\",\"#2C6496\",\"#2C6496\",\"#616161\"]},\"text\":[\"+23.4%\",\"+13.1%\",\"+10.2%\",\"+7.9%\",\"+6.1%\",\"+3.6%\",\"+2.7%\",\"+1.1%\",\"+0.2%\",\"-1.7%\"],\"textangle\":0,\"x\":[1,2,3,4,5,6,7,8,9,10],\"y\":[0.23361934430104322,0.13103066808675762,0.10213486432346493,0.07872083326998702,0.060799308817062206,0.03560826277773433,0.02663579947794794,0.010808080141169223,0.0018643992912080406,-0.01725005376861107],\"type\":\"bar\"}],\"layout\":{\"uniformtext\":{\"minsize\":8,\"mode\":\"hide\"},\"xaxis\":{\"tickvals\":[1,2,3,4,5,6,7,8,9,10],\"title\":{\"text\":\"Income decile\"}},\"yaxis\":{\"tickformat\":\"+,.0%\",\"title\":{\"text\":\"Relative change\"}},\"template\":{\"data\":{\"barpolar\":[{\"marker\":{\"line\":{\"color\":\"white\",\"width\":0.5},\"pattern\":{\"fillmode\":\"overlay\",\"size\":10,\"solidity\":0.2}},\"type\":\"barpolar\"}],\"bar\":[{\"error_x\":{\"color\":\"#2a3f5f\"},\"error_y\":{\"color\":\"#2a3f5f\"},\"marker\":{\"line\":{\"color\":\"white\",\"width\":0.5},\"pattern\":{\"fillmode\":\"overlay\",\"size\":10,\"solidity\":0.2}},\"type\":\"bar\"}],\"carpet\":[{\"aaxis\":{\"endlinecolor\":\"#2a3f5f\",\"gridcolor\":\"#C8D4E3\",\"linecolor\":\"#C8D4E3\",\"minorgridcolor\":\"#C8D4E3\",\"startlinecolor\":\"#2a3f5f\"},\"baxis\":{\"endlinecolor\":\"#2a3f5f\",\"gridcolor\":\"#C8D4E3\",\"linecolor\":\"#C8D4E3\",\"minorgridcolor\":\"#C8D4E3\",\"startlinecolor\":\"#2a3f5f\"},\"type\":\"carpet\"}],\"choropleth\":[{\"colorbar\":{\"outlinewidth\":0,\"ticks\":\"\"},\"type\":\"choropleth\"}],\"contourcarpet\":[{\"colorbar\":{\"outlinewidth\":0,\"ticks\":\"\"},\"type\":\"contourcarpet\"}],\"contour\":[{\"colorbar\":{\"outlinewidth\":0,\"ticks\":\"\"},\"colorscale\":[[0.0,\"#0d0887\"],[0.1111111111111111,\"#46039f\"],[0.2222222222222222,\"#7201a8\"],[0.3333333333333333,\"#9c179e\"],[0.4444444444444444,\"#bd3786\"],[0.5555555555555556,\"#d8576b\"],[0.6666666666666666,\"#ed7953\"],[0.7777777777777778,\"#fb9f3a\"],[0.8888888888888888,\"#fdca26\"],[1.0,\"#f0f921\"]],\"type\":\"contour\"}],\"heatmapgl\":[{\"colorbar\":{\"outlinewidth\":0,\"ticks\":\"\"},\"colorscale\":[[0.0,\"#0d0887\"],[0.1111111111111111,\"#46039f\"],[0.2222222222222222,\"#7201a8\"],[0.3333333333333333,\"#9c179e\"],[0.4444444444444444,\"#bd3786\"],[0.5555555555555556,\"#d8576b\"],[0.6666666666666666,\"#ed7953\"],[0.7777777777777778,\"#fb9f3a\"],[0.8888888888888888,\"#fdca26\"],[1.0,\"#f0f921\"]],\"type\":\"heatmapgl\"}],\"heatmap\":[{\"colorbar\":{\"outlinewidth\":0,\"ticks\":\"\"},\"colorscale\":[[0.0,\"#0d0887\"],[0.1111111111111111,\"#46039f\"],[0.2222222222222222,\"#7201a8\"],[0.3333333333333333,\"#9c179e\"],[0.4444444444444444,\"#bd3786\"],[0.5555555555555556,\"#d8576b\"],[0.6666666666666666,\"#ed7953\"],[0.7777777777777778,\"#fb9f3a\"],[0.8888888888888888,\"#fdca26\"],[1.0,\"#f0f921\"]],\"type\":\"heatmap\"}],\"histogram2dcontour\":[{\"colorbar\":{\"outlinewidth\":0,\"ticks\":\"\"},\"colorscale\":[[0.0,\"#0d0887\"],[0.1111111111111111,\"#46039f\"],[0.2222222222222222,\"#7201a8\"],[0.3333333333333333,\"#9c179e\"],[0.4444444444444444,\"#bd3786\"],[0.5555555555555556,\"#d8576b\"],[0.6666666666666666,\"#ed7953\"],[0.7777777777777778,\"#fb9f3a\"],[0.8888888888888888,\"#fdca26\"],[1.0,\"#f0f921\"]],\"type\":\"histogram2dcontour\"}],\"histogram2d\":[{\"colorbar\":{\"outlinewidth\":0,\"ticks\":\"\"},\"colorscale\":[[0.0,\"#0d0887\"],[0.1111111111111111,\"#46039f\"],[0.2222222222222222,\"#7201a8\"],[0.3333333333333333,\"#9c179e\"],[0.4444444444444444,\"#bd3786\"],[0.5555555555555556,\"#d8576b\"],[0.6666666666666666,\"#ed7953\"],[0.7777777777777778,\"#fb9f3a\"],[0.8888888888888888,\"#fdca26\"],[1.0,\"#f0f921\"]],\"type\":\"histogram2d\"}],\"histogram\":[{\"marker\":{\"pattern\":{\"fillmode\":\"overlay\",\"size\":10,\"solidity\":0.2}},\"type\":\"histogram\"}],\"mesh3d\":[{\"colorbar\":{\"outlinewidth\":0,\"ticks\":\"\"},\"type\":\"mesh3d\"}],\"parcoords\":[{\"line\":{\"colorbar\":{\"outlinewidth\":0,\"ticks\":\"\"}},\"type\":\"parcoords\"}],\"pie\":[{\"automargin\":true,\"type\":\"pie\"}],\"scatter3d\":[{\"line\":{\"colorbar\":{\"outlinewidth\":0,\"ticks\":\"\"}},\"marker\":{\"colorbar\":{\"outlinewidth\":0,\"ticks\":\"\"}},\"type\":\"scatter3d\"}],\"scattercarpet\":[{\"marker\":{\"colorbar\":{\"outlinewidth\":0,\"ticks\":\"\"}},\"type\":\"scattercarpet\"}],\"scattergeo\":[{\"marker\":{\"colorbar\":{\"outlinewidth\":0,\"ticks\":\"\"}},\"type\":\"scattergeo\"}],\"scattergl\":[{\"marker\":{\"colorbar\":{\"outlinewidth\":0,\"ticks\":\"\"}},\"type\":\"scattergl\"}],\"scattermapbox\":[{\"marker\":{\"colorbar\":{\"outlinewidth\":0,\"ticks\":\"\"}},\"type\":\"scattermapbox\"}],\"scatterpolargl\":[{\"marker\":{\"colorbar\":{\"outlinewidth\":0,\"ticks\":\"\"}},\"type\":\"scatterpolargl\"}],\"scatterpolar\":[{\"marker\":{\"colorbar\":{\"outlinewidth\":0,\"ticks\":\"\"}},\"type\":\"scatterpolar\"}],\"scatter\":[{\"fillpattern\":{\"fillmode\":\"overlay\",\"size\":10,\"solidity\":0.2},\"type\":\"scatter\"}],\"scatterternary\":[{\"marker\":{\"colorbar\":{\"outlinewidth\":0,\"ticks\":\"\"}},\"type\":\"scatterternary\"}],\"surface\":[{\"colorbar\":{\"outlinewidth\":0,\"ticks\":\"\"},\"colorscale\":[[0.0,\"#0d0887\"],[0.1111111111111111,\"#46039f\"],[0.2222222222222222,\"#7201a8\"],[0.3333333333333333,\"#9c179e\"],[0.4444444444444444,\"#bd3786\"],[0.5555555555555556,\"#d8576b\"],[0.6666666666666666,\"#ed7953\"],[0.7777777777777778,\"#fb9f3a\"],[0.8888888888888888,\"#fdca26\"],[1.0,\"#f0f921\"]],\"type\":\"surface\"}],\"table\":[{\"cells\":{\"fill\":{\"color\":\"#EBF0F8\"},\"line\":{\"color\":\"white\"}},\"header\":{\"fill\":{\"color\":\"#C8D4E3\"},\"line\":{\"color\":\"white\"}},\"type\":\"table\"}]},\"layout\":{\"annotationdefaults\":{\"arrowcolor\":\"#2a3f5f\",\"arrowhead\":0,\"arrowwidth\":1},\"autotypenumbers\":\"strict\",\"coloraxis\":{\"colorbar\":{\"outlinewidth\":0,\"ticks\":\"\"}},\"colorscale\":{\"diverging\":[[0,\"#8e0152\"],[0.1,\"#c51b7d\"],[0.2,\"#de77ae\"],[0.3,\"#f1b6da\"],[0.4,\"#fde0ef\"],[0.5,\"#f7f7f7\"],[0.6,\"#e6f5d0\"],[0.7,\"#b8e186\"],[0.8,\"#7fbc41\"],[0.9,\"#4d9221\"],[1,\"#276419\"]],\"sequential\":[[0.0,\"#0d0887\"],[0.1111111111111111,\"#46039f\"],[0.2222222222222222,\"#7201a8\"],[0.3333333333333333,\"#9c179e\"],[0.4444444444444444,\"#bd3786\"],[0.5555555555555556,\"#d8576b\"],[0.6666666666666666,\"#ed7953\"],[0.7777777777777778,\"#fb9f3a\"],[0.8888888888888888,\"#fdca26\"],[1.0,\"#f0f921\"]],\"sequentialminus\":[[0.0,\"#0d0887\"],[0.1111111111111111,\"#46039f\"],[0.2222222222222222,\"#7201a8\"],[0.3333333333333333,\"#9c179e\"],[0.4444444444444444,\"#bd3786\"],[0.5555555555555556,\"#d8576b\"],[0.6666666666666666,\"#ed7953\"],[0.7777777777777778,\"#fb9f3a\"],[0.8888888888888888,\"#fdca26\"],[1.0,\"#f0f921\"]]},\"colorway\":[\"#636efa\",\"#EF553B\",\"#00cc96\",\"#ab63fa\",\"#FFA15A\",\"#19d3f3\",\"#FF6692\",\"#B6E880\",\"#FF97FF\",\"#FECB52\"],\"font\":{\"color\":\"#2a3f5f\"},\"geo\":{\"bgcolor\":\"white\",\"lakecolor\":\"white\",\"landcolor\":\"white\",\"showlakes\":true,\"showland\":true,\"subunitcolor\":\"#C8D4E3\"},\"hoverlabel\":{\"align\":\"left\"},\"hovermode\":\"closest\",\"mapbox\":{\"style\":\"light\"},\"paper_bgcolor\":\"white\",\"plot_bgcolor\":\"white\",\"polar\":{\"angularaxis\":{\"gridcolor\":\"#EBF0F8\",\"linecolor\":\"#EBF0F8\",\"ticks\":\"\"},\"bgcolor\":\"white\",\"radialaxis\":{\"gridcolor\":\"#EBF0F8\",\"linecolor\":\"#EBF0F8\",\"ticks\":\"\"}},\"scene\":{\"xaxis\":{\"backgroundcolor\":\"white\",\"gridcolor\":\"#DFE8F3\",\"gridwidth\":2,\"linecolor\":\"#EBF0F8\",\"showbackground\":true,\"ticks\":\"\",\"zerolinecolor\":\"#EBF0F8\"},\"yaxis\":{\"backgroundcolor\":\"white\",\"gridcolor\":\"#DFE8F3\",\"gridwidth\":2,\"linecolor\":\"#EBF0F8\",\"showbackground\":true,\"ticks\":\"\",\"zerolinecolor\":\"#EBF0F8\"},\"zaxis\":{\"backgroundcolor\":\"white\",\"gridcolor\":\"#DFE8F3\",\"gridwidth\":2,\"linecolor\":\"#EBF0F8\",\"showbackground\":true,\"ticks\":\"\",\"zerolinecolor\":\"#EBF0F8\"}},\"shapedefaults\":{\"line\":{\"color\":\"#2a3f5f\"}},\"ternary\":{\"aaxis\":{\"gridcolor\":\"#DFE8F3\",\"linecolor\":\"#A2B1C6\",\"ticks\":\"\"},\"baxis\":{\"gridcolor\":\"#DFE8F3\",\"linecolor\":\"#A2B1C6\",\"ticks\":\"\"},\"bgcolor\":\"white\",\"caxis\":{\"gridcolor\":\"#DFE8F3\",\"linecolor\":\"#A2B1C6\",\"ticks\":\"\"}},\"title\":{\"x\":0.05},\"xaxis\":{\"automargin\":true,\"gridcolor\":\"#EBF0F8\",\"linecolor\":\"#EBF0F8\",\"ticks\":\"\",\"title\":{\"standoff\":15},\"zerolinecolor\":\"#EBF0F8\",\"zerolinewidth\":2},\"yaxis\":{\"automargin\":true,\"gridcolor\":\"#EBF0F8\",\"linecolor\":\"#EBF0F8\",\"ticks\":\"\",\"title\":{\"standoff\":15},\"zerolinecolor\":\"#EBF0F8\",\"zerolinewidth\":2}}},\"font\":{\"family\":\"Roboto Serif\",\"color\":\"black\"},\"images\":[{\"sizex\":0.2,\"sizey\":0.2,\"source\":\"https://raw.githubusercontent.com/PolicyEngine/policyengine-app/master/src/images/logos/policyengine/blue.png\",\"x\":1,\"xanchor\":\"right\",\"xref\":\"paper\",\"y\":-0.15,\"yanchor\":\"bottom\",\"yref\":\"paper\"}],\"height\":600,\"width\":800,\"modebar\":{\"bgcolor\":\"rgba(0,0,0,0)\",\"color\":\"rgba(0,0,0,0)\"},\"title\":{\"text\":\"Figure 7: Change to net income by income decile under a \\\\u00a3300 per month UBI\"}}}'"
      ]
     },
     "execution_count": 11,
     "metadata": {},
     "output_type": "execute_result"
    }
   ],
   "source": [
    "decile_chart(\n",
    "    \"uk\",\n",
    "    model_2_reform.api_id,\n",
    "    \"ni\",\n",
    "    \"2023\",\n",
    ").update_layout(\n",
    "    title=\"Figure 7: Change to net income by income decile under a £300 per month UBI\"\n",
    ").to_json()"
   ]
  },
  {
   "cell_type": "markdown",
   "metadata": {},
   "source": [
    "A similar pattern holds for the distribution of outcomes within each decile, but the results are more pronounced. More households lose income, and more shift from losing under 5% to over 5%. Countering this, a larger proportion of individuals are in households with strong (over 5%) increases in income: from 49% (for the £200 per month policy) to 56%.\n"
   ]
  },
  {
   "cell_type": "code",
   "execution_count": 12,
   "metadata": {
    "tags": [
     "hide-input"
    ]
   },
   "outputs": [
    {
     "data": {
      "text/plain": [
       "'{\"data\":[{\"hoverinfo\":\"none\",\"legendgroup\":\"Gain more than 5%\",\"marker\":{\"color\":\"#2C6496\",\"line\":{\"width\":0}},\"name\":\"Gain more than 5%\",\"offsetgroup\":\"Gain more than 5%\",\"orientation\":\"h\",\"showlegend\":false,\"text\":[\"56%\"],\"textangle\":0,\"textposition\":\"inside\",\"x\":[0.5583498416390994],\"xaxis\":\"x\",\"y\":[\"All\"],\"yaxis\":\"y\",\"type\":\"bar\",\"width\":[0.9,0.9,0.9,0.9,0.9,0.9,0.9,0.9,0.9,0.9]},{\"hoverinfo\":\"none\",\"legendgroup\":\"Gain less than 5%\",\"marker\":{\"color\":\"#D8E6F3\",\"line\":{\"width\":0}},\"name\":\"Gain less than 5%\",\"offsetgroup\":\"Gain less than 5%\",\"orientation\":\"h\",\"showlegend\":false,\"text\":[\"20%\"],\"textangle\":0,\"textposition\":\"inside\",\"x\":[0.19506604776245265],\"xaxis\":\"x\",\"y\":[\"All\"],\"yaxis\":\"y\",\"type\":\"bar\",\"width\":[0.9,0.9,0.9,0.9,0.9,0.9,0.9,0.9,0.9,0.9]},{\"hoverinfo\":\"none\",\"legendgroup\":\"No change\",\"marker\":{\"color\":\"#FFFFFF\",\"line\":{\"width\":0}},\"name\":\"No change\",\"offsetgroup\":\"No change\",\"orientation\":\"h\",\"showlegend\":false,\"text\":[\"1%\"],\"textangle\":0,\"textposition\":\"inside\",\"x\":[0.009738741712701279],\"xaxis\":\"x\",\"y\":[\"All\"],\"yaxis\":\"y\",\"type\":\"bar\",\"width\":[0.9,0.9,0.9,0.9,0.9,0.9,0.9,0.9,0.9,0.9]},{\"hoverinfo\":\"none\",\"legendgroup\":\"Lose less than 5%\",\"marker\":{\"color\":\"#D2D2D2\",\"line\":{\"width\":0}},\"name\":\"Lose less than 5%\",\"offsetgroup\":\"Lose less than 5%\",\"orientation\":\"h\",\"showlegend\":false,\"text\":[\"17%\"],\"textangle\":0,\"textposition\":\"inside\",\"x\":[0.165241316368139],\"xaxis\":\"x\",\"y\":[\"All\"],\"yaxis\":\"y\",\"type\":\"bar\",\"width\":[0.9,0.9,0.9,0.9,0.9,0.9,0.9,0.9,0.9,0.9]},{\"hoverinfo\":\"none\",\"legendgroup\":\"Lose more than 5%\",\"marker\":{\"color\":\"#616161\",\"line\":{\"width\":0}},\"name\":\"Lose more than 5%\",\"offsetgroup\":\"Lose more than 5%\",\"orientation\":\"h\",\"showlegend\":false,\"text\":[\"7%\"],\"textangle\":0,\"textposition\":\"inside\",\"x\":[0.07160405251760768],\"xaxis\":\"x\",\"y\":[\"All\"],\"yaxis\":\"y\",\"type\":\"bar\",\"width\":[0.9,0.9,0.9,0.9,0.9,0.9,0.9,0.9,0.9,0.9]},{\"hoverinfo\":\"none\",\"marker\":{\"color\":\"#2C6496\",\"line\":{\"width\":0}},\"name\":\"Gain more than 5%\",\"orientation\":\"h\",\"text\":[\"98%\",\"76%\",\"84%\",\"90%\",\"52%\",\"42%\",\"44%\",\"24%\",\"28%\",\"21%\"],\"textangle\":0,\"textposition\":\"inside\",\"x\":[0.9777922303389533,0.7583842632289115,0.8424070279611603,0.9031446322758981,0.5158455698943146,0.4205248794030143,0.43540690699014434,0.24088302077471702,0.28112860111334526,0.20798128441053537],\"xaxis\":\"x2\",\"y\":[1,2,3,4,5,6,7,8,9,10],\"yaxis\":\"y2\",\"type\":\"bar\",\"width\":[0.9,0.9,0.9,0.9,0.9,0.9,0.9,0.9,0.9,0.9]},{\"hoverinfo\":\"none\",\"marker\":{\"color\":\"#D8E6F3\",\"line\":{\"width\":0}},\"name\":\"Gain less than 5%\",\"orientation\":\"h\",\"text\":[\"2%\",\"21%\",\"3%\",\"7%\",\"46%\",\"53%\",\"16%\",\"14%\",\"12%\",\"20%\"],\"textangle\":0,\"textposition\":\"inside\",\"x\":[0.02220776966104664,0.21454575163828704,0.025348239701653404,0.06989962249028839,0.4566256076974884,0.53336214242109,0.15646016339053354,0.14429568693824202,0.12406520518896878,0.203850288496928],\"xaxis\":\"x2\",\"y\":[1,2,3,4,5,6,7,8,9,10],\"yaxis\":\"y2\",\"type\":\"bar\",\"width\":[0.9,0.9,0.9,0.9,0.9,0.9,0.9,0.9,0.9,0.9]},{\"hoverinfo\":\"none\",\"marker\":{\"color\":\"#FFFFFF\",\"line\":{\"width\":0}},\"name\":\"No change\",\"orientation\":\"h\",\"text\":[\"0%\",\"0%\",\"0%\",\"0%\",\"0%\",\"0%\",\"4%\",\"3%\",\"2%\",\"1%\"],\"textangle\":0,\"textposition\":\"inside\",\"x\":[0.0,0.0,0.0,0.0,0.0,0.0,0.03968739226824303,0.03096380234478937,0.015249827001059845,0.011486395512920538],\"xaxis\":\"x2\",\"y\":[1,2,3,4,5,6,7,8,9,10],\"yaxis\":\"y2\",\"type\":\"bar\",\"width\":[0.9,0.9,0.9,0.9,0.9,0.9,0.9,0.9,0.9,0.9]},{\"hoverinfo\":\"none\",\"marker\":{\"color\":\"#D2D2D2\",\"line\":{\"width\":0}},\"name\":\"Lose less than 5%\",\"orientation\":\"h\",\"text\":[\"0%\",\"3%\",\"13%\",\"2%\",\"3%\",\"4%\",\"31%\",\"56%\",\"43%\",\"11%\"],\"textangle\":0,\"textposition\":\"inside\",\"x\":[0.0,0.027069985132801448,0.1322447323371863,0.021150852744483608,0.026454833403378102,0.037528666647962755,0.3055325319717469,0.5607178495014513,0.43264233933551594,0.10907137260686359],\"xaxis\":\"x2\",\"y\":[1,2,3,4,5,6,7,8,9,10],\"yaxis\":\"y2\",\"type\":\"bar\",\"width\":[0.9,0.9,0.9,0.9,0.9,0.9,0.9,0.9,0.9,0.9]},{\"hoverinfo\":\"none\",\"marker\":{\"color\":\"#616161\",\"line\":{\"width\":0}},\"name\":\"Lose more than 5%\",\"orientation\":\"h\",\"text\":[\"0%\",\"0%\",\"0%\",\"1%\",\"0%\",\"1%\",\"6%\",\"2%\",\"15%\",\"47%\"],\"textangle\":0,\"textposition\":\"inside\",\"x\":[0.0,0.0,0.0,0.00580489248932986,0.0010739890048188788,0.008584311527932974,0.06291300537933223,0.02313964044080026,0.14691402736111014,0.4676106589727525],\"xaxis\":\"x2\",\"y\":[1,2,3,4,5,6,7,8,9,10],\"yaxis\":\"y2\",\"type\":\"bar\",\"width\":[0.9,0.9,0.9,0.9,0.9,0.9,0.9,0.9,0.9,0.9]}],\"layout\":{\"barmode\":\"stack\",\"grid\":{\"columns\":1,\"rows\":2},\"uniformtext\":{\"minsize\":10,\"mode\":\"hide\"},\"xaxis\":{\"anchor\":\"y\",\"matches\":\"x2\",\"showgrid\":false,\"showticklabels\":false,\"tickformat\":\".0%\",\"title\":{\"text\":\"\"}},\"yaxis\":{\"domain\":[0.91,1],\"tickvals\":[\"All\"],\"title\":{\"text\":\"\"}},\"xaxis2\":{\"anchor\":\"y2\",\"tickformat\":\".0%\",\"title\":{\"text\":\"Population share\"}},\"yaxis2\":{\"anchor\":\"x2\",\"domain\":[0,0.85],\"tickvals\":[1,2,3,4,5,6,7,8,9,10],\"title\":{\"text\":\"Income decile\"}},\"template\":{\"data\":{\"barpolar\":[{\"marker\":{\"line\":{\"color\":\"white\",\"width\":0.5},\"pattern\":{\"fillmode\":\"overlay\",\"size\":10,\"solidity\":0.2}},\"type\":\"barpolar\"}],\"bar\":[{\"error_x\":{\"color\":\"#2a3f5f\"},\"error_y\":{\"color\":\"#2a3f5f\"},\"marker\":{\"line\":{\"color\":\"white\",\"width\":0.5},\"pattern\":{\"fillmode\":\"overlay\",\"size\":10,\"solidity\":0.2}},\"type\":\"bar\"}],\"carpet\":[{\"aaxis\":{\"endlinecolor\":\"#2a3f5f\",\"gridcolor\":\"#C8D4E3\",\"linecolor\":\"#C8D4E3\",\"minorgridcolor\":\"#C8D4E3\",\"startlinecolor\":\"#2a3f5f\"},\"baxis\":{\"endlinecolor\":\"#2a3f5f\",\"gridcolor\":\"#C8D4E3\",\"linecolor\":\"#C8D4E3\",\"minorgridcolor\":\"#C8D4E3\",\"startlinecolor\":\"#2a3f5f\"},\"type\":\"carpet\"}],\"choropleth\":[{\"colorbar\":{\"outlinewidth\":0,\"ticks\":\"\"},\"type\":\"choropleth\"}],\"contourcarpet\":[{\"colorbar\":{\"outlinewidth\":0,\"ticks\":\"\"},\"type\":\"contourcarpet\"}],\"contour\":[{\"colorbar\":{\"outlinewidth\":0,\"ticks\":\"\"},\"colorscale\":[[0.0,\"#0d0887\"],[0.1111111111111111,\"#46039f\"],[0.2222222222222222,\"#7201a8\"],[0.3333333333333333,\"#9c179e\"],[0.4444444444444444,\"#bd3786\"],[0.5555555555555556,\"#d8576b\"],[0.6666666666666666,\"#ed7953\"],[0.7777777777777778,\"#fb9f3a\"],[0.8888888888888888,\"#fdca26\"],[1.0,\"#f0f921\"]],\"type\":\"contour\"}],\"heatmapgl\":[{\"colorbar\":{\"outlinewidth\":0,\"ticks\":\"\"},\"colorscale\":[[0.0,\"#0d0887\"],[0.1111111111111111,\"#46039f\"],[0.2222222222222222,\"#7201a8\"],[0.3333333333333333,\"#9c179e\"],[0.4444444444444444,\"#bd3786\"],[0.5555555555555556,\"#d8576b\"],[0.6666666666666666,\"#ed7953\"],[0.7777777777777778,\"#fb9f3a\"],[0.8888888888888888,\"#fdca26\"],[1.0,\"#f0f921\"]],\"type\":\"heatmapgl\"}],\"heatmap\":[{\"colorbar\":{\"outlinewidth\":0,\"ticks\":\"\"},\"colorscale\":[[0.0,\"#0d0887\"],[0.1111111111111111,\"#46039f\"],[0.2222222222222222,\"#7201a8\"],[0.3333333333333333,\"#9c179e\"],[0.4444444444444444,\"#bd3786\"],[0.5555555555555556,\"#d8576b\"],[0.6666666666666666,\"#ed7953\"],[0.7777777777777778,\"#fb9f3a\"],[0.8888888888888888,\"#fdca26\"],[1.0,\"#f0f921\"]],\"type\":\"heatmap\"}],\"histogram2dcontour\":[{\"colorbar\":{\"outlinewidth\":0,\"ticks\":\"\"},\"colorscale\":[[0.0,\"#0d0887\"],[0.1111111111111111,\"#46039f\"],[0.2222222222222222,\"#7201a8\"],[0.3333333333333333,\"#9c179e\"],[0.4444444444444444,\"#bd3786\"],[0.5555555555555556,\"#d8576b\"],[0.6666666666666666,\"#ed7953\"],[0.7777777777777778,\"#fb9f3a\"],[0.8888888888888888,\"#fdca26\"],[1.0,\"#f0f921\"]],\"type\":\"histogram2dcontour\"}],\"histogram2d\":[{\"colorbar\":{\"outlinewidth\":0,\"ticks\":\"\"},\"colorscale\":[[0.0,\"#0d0887\"],[0.1111111111111111,\"#46039f\"],[0.2222222222222222,\"#7201a8\"],[0.3333333333333333,\"#9c179e\"],[0.4444444444444444,\"#bd3786\"],[0.5555555555555556,\"#d8576b\"],[0.6666666666666666,\"#ed7953\"],[0.7777777777777778,\"#fb9f3a\"],[0.8888888888888888,\"#fdca26\"],[1.0,\"#f0f921\"]],\"type\":\"histogram2d\"}],\"histogram\":[{\"marker\":{\"pattern\":{\"fillmode\":\"overlay\",\"size\":10,\"solidity\":0.2}},\"type\":\"histogram\"}],\"mesh3d\":[{\"colorbar\":{\"outlinewidth\":0,\"ticks\":\"\"},\"type\":\"mesh3d\"}],\"parcoords\":[{\"line\":{\"colorbar\":{\"outlinewidth\":0,\"ticks\":\"\"}},\"type\":\"parcoords\"}],\"pie\":[{\"automargin\":true,\"type\":\"pie\"}],\"scatter3d\":[{\"line\":{\"colorbar\":{\"outlinewidth\":0,\"ticks\":\"\"}},\"marker\":{\"colorbar\":{\"outlinewidth\":0,\"ticks\":\"\"}},\"type\":\"scatter3d\"}],\"scattercarpet\":[{\"marker\":{\"colorbar\":{\"outlinewidth\":0,\"ticks\":\"\"}},\"type\":\"scattercarpet\"}],\"scattergeo\":[{\"marker\":{\"colorbar\":{\"outlinewidth\":0,\"ticks\":\"\"}},\"type\":\"scattergeo\"}],\"scattergl\":[{\"marker\":{\"colorbar\":{\"outlinewidth\":0,\"ticks\":\"\"}},\"type\":\"scattergl\"}],\"scattermapbox\":[{\"marker\":{\"colorbar\":{\"outlinewidth\":0,\"ticks\":\"\"}},\"type\":\"scattermapbox\"}],\"scatterpolargl\":[{\"marker\":{\"colorbar\":{\"outlinewidth\":0,\"ticks\":\"\"}},\"type\":\"scatterpolargl\"}],\"scatterpolar\":[{\"marker\":{\"colorbar\":{\"outlinewidth\":0,\"ticks\":\"\"}},\"type\":\"scatterpolar\"}],\"scatter\":[{\"fillpattern\":{\"fillmode\":\"overlay\",\"size\":10,\"solidity\":0.2},\"type\":\"scatter\"}],\"scatterternary\":[{\"marker\":{\"colorbar\":{\"outlinewidth\":0,\"ticks\":\"\"}},\"type\":\"scatterternary\"}],\"surface\":[{\"colorbar\":{\"outlinewidth\":0,\"ticks\":\"\"},\"colorscale\":[[0.0,\"#0d0887\"],[0.1111111111111111,\"#46039f\"],[0.2222222222222222,\"#7201a8\"],[0.3333333333333333,\"#9c179e\"],[0.4444444444444444,\"#bd3786\"],[0.5555555555555556,\"#d8576b\"],[0.6666666666666666,\"#ed7953\"],[0.7777777777777778,\"#fb9f3a\"],[0.8888888888888888,\"#fdca26\"],[1.0,\"#f0f921\"]],\"type\":\"surface\"}],\"table\":[{\"cells\":{\"fill\":{\"color\":\"#EBF0F8\"},\"line\":{\"color\":\"white\"}},\"header\":{\"fill\":{\"color\":\"#C8D4E3\"},\"line\":{\"color\":\"white\"}},\"type\":\"table\"}]},\"layout\":{\"annotationdefaults\":{\"arrowcolor\":\"#2a3f5f\",\"arrowhead\":0,\"arrowwidth\":1},\"autotypenumbers\":\"strict\",\"coloraxis\":{\"colorbar\":{\"outlinewidth\":0,\"ticks\":\"\"}},\"colorscale\":{\"diverging\":[[0,\"#8e0152\"],[0.1,\"#c51b7d\"],[0.2,\"#de77ae\"],[0.3,\"#f1b6da\"],[0.4,\"#fde0ef\"],[0.5,\"#f7f7f7\"],[0.6,\"#e6f5d0\"],[0.7,\"#b8e186\"],[0.8,\"#7fbc41\"],[0.9,\"#4d9221\"],[1,\"#276419\"]],\"sequential\":[[0.0,\"#0d0887\"],[0.1111111111111111,\"#46039f\"],[0.2222222222222222,\"#7201a8\"],[0.3333333333333333,\"#9c179e\"],[0.4444444444444444,\"#bd3786\"],[0.5555555555555556,\"#d8576b\"],[0.6666666666666666,\"#ed7953\"],[0.7777777777777778,\"#fb9f3a\"],[0.8888888888888888,\"#fdca26\"],[1.0,\"#f0f921\"]],\"sequentialminus\":[[0.0,\"#0d0887\"],[0.1111111111111111,\"#46039f\"],[0.2222222222222222,\"#7201a8\"],[0.3333333333333333,\"#9c179e\"],[0.4444444444444444,\"#bd3786\"],[0.5555555555555556,\"#d8576b\"],[0.6666666666666666,\"#ed7953\"],[0.7777777777777778,\"#fb9f3a\"],[0.8888888888888888,\"#fdca26\"],[1.0,\"#f0f921\"]]},\"colorway\":[\"#636efa\",\"#EF553B\",\"#00cc96\",\"#ab63fa\",\"#FFA15A\",\"#19d3f3\",\"#FF6692\",\"#B6E880\",\"#FF97FF\",\"#FECB52\"],\"font\":{\"color\":\"#2a3f5f\"},\"geo\":{\"bgcolor\":\"white\",\"lakecolor\":\"white\",\"landcolor\":\"white\",\"showlakes\":true,\"showland\":true,\"subunitcolor\":\"#C8D4E3\"},\"hoverlabel\":{\"align\":\"left\"},\"hovermode\":\"closest\",\"mapbox\":{\"style\":\"light\"},\"paper_bgcolor\":\"white\",\"plot_bgcolor\":\"white\",\"polar\":{\"angularaxis\":{\"gridcolor\":\"#EBF0F8\",\"linecolor\":\"#EBF0F8\",\"ticks\":\"\"},\"bgcolor\":\"white\",\"radialaxis\":{\"gridcolor\":\"#EBF0F8\",\"linecolor\":\"#EBF0F8\",\"ticks\":\"\"}},\"scene\":{\"xaxis\":{\"backgroundcolor\":\"white\",\"gridcolor\":\"#DFE8F3\",\"gridwidth\":2,\"linecolor\":\"#EBF0F8\",\"showbackground\":true,\"ticks\":\"\",\"zerolinecolor\":\"#EBF0F8\"},\"yaxis\":{\"backgroundcolor\":\"white\",\"gridcolor\":\"#DFE8F3\",\"gridwidth\":2,\"linecolor\":\"#EBF0F8\",\"showbackground\":true,\"ticks\":\"\",\"zerolinecolor\":\"#EBF0F8\"},\"zaxis\":{\"backgroundcolor\":\"white\",\"gridcolor\":\"#DFE8F3\",\"gridwidth\":2,\"linecolor\":\"#EBF0F8\",\"showbackground\":true,\"ticks\":\"\",\"zerolinecolor\":\"#EBF0F8\"}},\"shapedefaults\":{\"line\":{\"color\":\"#2a3f5f\"}},\"ternary\":{\"aaxis\":{\"gridcolor\":\"#DFE8F3\",\"linecolor\":\"#A2B1C6\",\"ticks\":\"\"},\"baxis\":{\"gridcolor\":\"#DFE8F3\",\"linecolor\":\"#A2B1C6\",\"ticks\":\"\"},\"bgcolor\":\"white\",\"caxis\":{\"gridcolor\":\"#DFE8F3\",\"linecolor\":\"#A2B1C6\",\"ticks\":\"\"}},\"title\":{\"x\":0.05},\"xaxis\":{\"automargin\":true,\"gridcolor\":\"#EBF0F8\",\"linecolor\":\"#EBF0F8\",\"ticks\":\"\",\"title\":{\"standoff\":15},\"zerolinecolor\":\"#EBF0F8\",\"zerolinewidth\":2},\"yaxis\":{\"automargin\":true,\"gridcolor\":\"#EBF0F8\",\"linecolor\":\"#EBF0F8\",\"ticks\":\"\",\"title\":{\"standoff\":15},\"zerolinecolor\":\"#EBF0F8\",\"zerolinewidth\":2}}},\"font\":{\"family\":\"Roboto Serif\",\"color\":\"black\"},\"images\":[{\"sizex\":0.2,\"sizey\":0.2,\"source\":\"https://raw.githubusercontent.com/PolicyEngine/policyengine-app/master/src/images/logos/policyengine/blue.png\",\"x\":1,\"xanchor\":\"right\",\"xref\":\"paper\",\"y\":-0.15,\"yanchor\":\"bottom\",\"yref\":\"paper\"}],\"height\":600,\"width\":800,\"modebar\":{\"bgcolor\":\"rgba(0,0,0,0)\",\"color\":\"rgba(0,0,0,0)\"},\"legend\":{\"orientation\":\"h\",\"yanchor\":\"bottom\",\"y\":-0.3},\"title\":{\"text\":\"Figure 6: Outcome distribution by income decile under a \\\\u00a3300 per month UBI\"}}}'"
      ]
     },
     "execution_count": 12,
     "metadata": {},
     "output_type": "execute_result"
    }
   ],
   "source": [
    "intra_decile_chart(\n",
    "    \"uk\",\n",
    "    model_2_reform.api_id,\n",
    "    \"ni\",\n",
    "    \"2023\",\n",
    ").update_layout(\n",
    "    title=\"Figure 6: Outcome distribution by income decile under a £300 per month UBI\",\n",
    "    legend=dict(\n",
    "        orientation=\"h\",\n",
    "        yanchor=\"bottom\",\n",
    "        y=-0.3,\n",
    "    )\n",
    ").to_json()"
   ]
  },
  {
   "cell_type": "markdown",
   "metadata": {},
   "source": [
    "## [£400 per month option](http://localhost:3000/uk/policy?reform=31961&focus=policyOutput.decileRelativeImpact&region=ni&timePeriod=2023&baseline=1)\n",
    "\n",
    "_£400 per month for adults, funded by repealing the personal allowance and increasing the basic rate by 10.3p_\n",
    "\n",
    "The most generous basic income policy considered is £400 per month for adults, funded by repealing the personal allowance and raising the basic rate to 30.3%, creating a non-progressive nominal tax schedule (though note that the full tax-benefit schedule is already non-progressive). With a total redistribution of £5.4bn in via tax revenues and £7.3bn out via benefit outlays (including the Westminster-funded portion), 74% of individuals see an increase in disposable income. The bottom decile sees an increase of 32% in disposable income, and the top two deciles both fall by around 1%.\n"
   ]
  },
  {
   "cell_type": "code",
   "execution_count": 13,
   "metadata": {
    "tags": [
     "hide-input"
    ]
   },
   "outputs": [
    {
     "data": {
      "text/plain": [
       "'{\"data\":[{\"marker\":{\"color\":[\"#2C6496\",\"#2C6496\",\"#2C6496\",\"#2C6496\",\"#2C6496\",\"#2C6496\",\"#2C6496\",\"#2C6496\",\"#616161\",\"#616161\"]},\"text\":[\"+32.4%\",\"+18.0%\",\"+14.0%\",\"+11.1%\",\"+8.3%\",\"+4.9%\",\"+3.1%\",\"+0.5%\",\"-1.0%\",\"-0.6%\"],\"textangle\":0,\"x\":[1,2,3,4,5,6,7,8,9,10],\"y\":[0.3242202647469278,0.18026235695351525,0.1402812621443977,0.1112623236767986,0.08270922380139469,0.048513943384135026,0.030683700332856077,0.00545810991546843,-0.009903304369797718,-0.005709797887265693],\"type\":\"bar\"}],\"layout\":{\"uniformtext\":{\"minsize\":8,\"mode\":\"hide\"},\"xaxis\":{\"tickvals\":[1,2,3,4,5,6,7,8,9,10],\"title\":{\"text\":\"Income decile\"}},\"yaxis\":{\"tickformat\":\"+,.0%\",\"title\":{\"text\":\"Relative change\"}},\"template\":{\"data\":{\"barpolar\":[{\"marker\":{\"line\":{\"color\":\"white\",\"width\":0.5},\"pattern\":{\"fillmode\":\"overlay\",\"size\":10,\"solidity\":0.2}},\"type\":\"barpolar\"}],\"bar\":[{\"error_x\":{\"color\":\"#2a3f5f\"},\"error_y\":{\"color\":\"#2a3f5f\"},\"marker\":{\"line\":{\"color\":\"white\",\"width\":0.5},\"pattern\":{\"fillmode\":\"overlay\",\"size\":10,\"solidity\":0.2}},\"type\":\"bar\"}],\"carpet\":[{\"aaxis\":{\"endlinecolor\":\"#2a3f5f\",\"gridcolor\":\"#C8D4E3\",\"linecolor\":\"#C8D4E3\",\"minorgridcolor\":\"#C8D4E3\",\"startlinecolor\":\"#2a3f5f\"},\"baxis\":{\"endlinecolor\":\"#2a3f5f\",\"gridcolor\":\"#C8D4E3\",\"linecolor\":\"#C8D4E3\",\"minorgridcolor\":\"#C8D4E3\",\"startlinecolor\":\"#2a3f5f\"},\"type\":\"carpet\"}],\"choropleth\":[{\"colorbar\":{\"outlinewidth\":0,\"ticks\":\"\"},\"type\":\"choropleth\"}],\"contourcarpet\":[{\"colorbar\":{\"outlinewidth\":0,\"ticks\":\"\"},\"type\":\"contourcarpet\"}],\"contour\":[{\"colorbar\":{\"outlinewidth\":0,\"ticks\":\"\"},\"colorscale\":[[0.0,\"#0d0887\"],[0.1111111111111111,\"#46039f\"],[0.2222222222222222,\"#7201a8\"],[0.3333333333333333,\"#9c179e\"],[0.4444444444444444,\"#bd3786\"],[0.5555555555555556,\"#d8576b\"],[0.6666666666666666,\"#ed7953\"],[0.7777777777777778,\"#fb9f3a\"],[0.8888888888888888,\"#fdca26\"],[1.0,\"#f0f921\"]],\"type\":\"contour\"}],\"heatmapgl\":[{\"colorbar\":{\"outlinewidth\":0,\"ticks\":\"\"},\"colorscale\":[[0.0,\"#0d0887\"],[0.1111111111111111,\"#46039f\"],[0.2222222222222222,\"#7201a8\"],[0.3333333333333333,\"#9c179e\"],[0.4444444444444444,\"#bd3786\"],[0.5555555555555556,\"#d8576b\"],[0.6666666666666666,\"#ed7953\"],[0.7777777777777778,\"#fb9f3a\"],[0.8888888888888888,\"#fdca26\"],[1.0,\"#f0f921\"]],\"type\":\"heatmapgl\"}],\"heatmap\":[{\"colorbar\":{\"outlinewidth\":0,\"ticks\":\"\"},\"colorscale\":[[0.0,\"#0d0887\"],[0.1111111111111111,\"#46039f\"],[0.2222222222222222,\"#7201a8\"],[0.3333333333333333,\"#9c179e\"],[0.4444444444444444,\"#bd3786\"],[0.5555555555555556,\"#d8576b\"],[0.6666666666666666,\"#ed7953\"],[0.7777777777777778,\"#fb9f3a\"],[0.8888888888888888,\"#fdca26\"],[1.0,\"#f0f921\"]],\"type\":\"heatmap\"}],\"histogram2dcontour\":[{\"colorbar\":{\"outlinewidth\":0,\"ticks\":\"\"},\"colorscale\":[[0.0,\"#0d0887\"],[0.1111111111111111,\"#46039f\"],[0.2222222222222222,\"#7201a8\"],[0.3333333333333333,\"#9c179e\"],[0.4444444444444444,\"#bd3786\"],[0.5555555555555556,\"#d8576b\"],[0.6666666666666666,\"#ed7953\"],[0.7777777777777778,\"#fb9f3a\"],[0.8888888888888888,\"#fdca26\"],[1.0,\"#f0f921\"]],\"type\":\"histogram2dcontour\"}],\"histogram2d\":[{\"colorbar\":{\"outlinewidth\":0,\"ticks\":\"\"},\"colorscale\":[[0.0,\"#0d0887\"],[0.1111111111111111,\"#46039f\"],[0.2222222222222222,\"#7201a8\"],[0.3333333333333333,\"#9c179e\"],[0.4444444444444444,\"#bd3786\"],[0.5555555555555556,\"#d8576b\"],[0.6666666666666666,\"#ed7953\"],[0.7777777777777778,\"#fb9f3a\"],[0.8888888888888888,\"#fdca26\"],[1.0,\"#f0f921\"]],\"type\":\"histogram2d\"}],\"histogram\":[{\"marker\":{\"pattern\":{\"fillmode\":\"overlay\",\"size\":10,\"solidity\":0.2}},\"type\":\"histogram\"}],\"mesh3d\":[{\"colorbar\":{\"outlinewidth\":0,\"ticks\":\"\"},\"type\":\"mesh3d\"}],\"parcoords\":[{\"line\":{\"colorbar\":{\"outlinewidth\":0,\"ticks\":\"\"}},\"type\":\"parcoords\"}],\"pie\":[{\"automargin\":true,\"type\":\"pie\"}],\"scatter3d\":[{\"line\":{\"colorbar\":{\"outlinewidth\":0,\"ticks\":\"\"}},\"marker\":{\"colorbar\":{\"outlinewidth\":0,\"ticks\":\"\"}},\"type\":\"scatter3d\"}],\"scattercarpet\":[{\"marker\":{\"colorbar\":{\"outlinewidth\":0,\"ticks\":\"\"}},\"type\":\"scattercarpet\"}],\"scattergeo\":[{\"marker\":{\"colorbar\":{\"outlinewidth\":0,\"ticks\":\"\"}},\"type\":\"scattergeo\"}],\"scattergl\":[{\"marker\":{\"colorbar\":{\"outlinewidth\":0,\"ticks\":\"\"}},\"type\":\"scattergl\"}],\"scattermapbox\":[{\"marker\":{\"colorbar\":{\"outlinewidth\":0,\"ticks\":\"\"}},\"type\":\"scattermapbox\"}],\"scatterpolargl\":[{\"marker\":{\"colorbar\":{\"outlinewidth\":0,\"ticks\":\"\"}},\"type\":\"scatterpolargl\"}],\"scatterpolar\":[{\"marker\":{\"colorbar\":{\"outlinewidth\":0,\"ticks\":\"\"}},\"type\":\"scatterpolar\"}],\"scatter\":[{\"fillpattern\":{\"fillmode\":\"overlay\",\"size\":10,\"solidity\":0.2},\"type\":\"scatter\"}],\"scatterternary\":[{\"marker\":{\"colorbar\":{\"outlinewidth\":0,\"ticks\":\"\"}},\"type\":\"scatterternary\"}],\"surface\":[{\"colorbar\":{\"outlinewidth\":0,\"ticks\":\"\"},\"colorscale\":[[0.0,\"#0d0887\"],[0.1111111111111111,\"#46039f\"],[0.2222222222222222,\"#7201a8\"],[0.3333333333333333,\"#9c179e\"],[0.4444444444444444,\"#bd3786\"],[0.5555555555555556,\"#d8576b\"],[0.6666666666666666,\"#ed7953\"],[0.7777777777777778,\"#fb9f3a\"],[0.8888888888888888,\"#fdca26\"],[1.0,\"#f0f921\"]],\"type\":\"surface\"}],\"table\":[{\"cells\":{\"fill\":{\"color\":\"#EBF0F8\"},\"line\":{\"color\":\"white\"}},\"header\":{\"fill\":{\"color\":\"#C8D4E3\"},\"line\":{\"color\":\"white\"}},\"type\":\"table\"}]},\"layout\":{\"annotationdefaults\":{\"arrowcolor\":\"#2a3f5f\",\"arrowhead\":0,\"arrowwidth\":1},\"autotypenumbers\":\"strict\",\"coloraxis\":{\"colorbar\":{\"outlinewidth\":0,\"ticks\":\"\"}},\"colorscale\":{\"diverging\":[[0,\"#8e0152\"],[0.1,\"#c51b7d\"],[0.2,\"#de77ae\"],[0.3,\"#f1b6da\"],[0.4,\"#fde0ef\"],[0.5,\"#f7f7f7\"],[0.6,\"#e6f5d0\"],[0.7,\"#b8e186\"],[0.8,\"#7fbc41\"],[0.9,\"#4d9221\"],[1,\"#276419\"]],\"sequential\":[[0.0,\"#0d0887\"],[0.1111111111111111,\"#46039f\"],[0.2222222222222222,\"#7201a8\"],[0.3333333333333333,\"#9c179e\"],[0.4444444444444444,\"#bd3786\"],[0.5555555555555556,\"#d8576b\"],[0.6666666666666666,\"#ed7953\"],[0.7777777777777778,\"#fb9f3a\"],[0.8888888888888888,\"#fdca26\"],[1.0,\"#f0f921\"]],\"sequentialminus\":[[0.0,\"#0d0887\"],[0.1111111111111111,\"#46039f\"],[0.2222222222222222,\"#7201a8\"],[0.3333333333333333,\"#9c179e\"],[0.4444444444444444,\"#bd3786\"],[0.5555555555555556,\"#d8576b\"],[0.6666666666666666,\"#ed7953\"],[0.7777777777777778,\"#fb9f3a\"],[0.8888888888888888,\"#fdca26\"],[1.0,\"#f0f921\"]]},\"colorway\":[\"#636efa\",\"#EF553B\",\"#00cc96\",\"#ab63fa\",\"#FFA15A\",\"#19d3f3\",\"#FF6692\",\"#B6E880\",\"#FF97FF\",\"#FECB52\"],\"font\":{\"color\":\"#2a3f5f\"},\"geo\":{\"bgcolor\":\"white\",\"lakecolor\":\"white\",\"landcolor\":\"white\",\"showlakes\":true,\"showland\":true,\"subunitcolor\":\"#C8D4E3\"},\"hoverlabel\":{\"align\":\"left\"},\"hovermode\":\"closest\",\"mapbox\":{\"style\":\"light\"},\"paper_bgcolor\":\"white\",\"plot_bgcolor\":\"white\",\"polar\":{\"angularaxis\":{\"gridcolor\":\"#EBF0F8\",\"linecolor\":\"#EBF0F8\",\"ticks\":\"\"},\"bgcolor\":\"white\",\"radialaxis\":{\"gridcolor\":\"#EBF0F8\",\"linecolor\":\"#EBF0F8\",\"ticks\":\"\"}},\"scene\":{\"xaxis\":{\"backgroundcolor\":\"white\",\"gridcolor\":\"#DFE8F3\",\"gridwidth\":2,\"linecolor\":\"#EBF0F8\",\"showbackground\":true,\"ticks\":\"\",\"zerolinecolor\":\"#EBF0F8\"},\"yaxis\":{\"backgroundcolor\":\"white\",\"gridcolor\":\"#DFE8F3\",\"gridwidth\":2,\"linecolor\":\"#EBF0F8\",\"showbackground\":true,\"ticks\":\"\",\"zerolinecolor\":\"#EBF0F8\"},\"zaxis\":{\"backgroundcolor\":\"white\",\"gridcolor\":\"#DFE8F3\",\"gridwidth\":2,\"linecolor\":\"#EBF0F8\",\"showbackground\":true,\"ticks\":\"\",\"zerolinecolor\":\"#EBF0F8\"}},\"shapedefaults\":{\"line\":{\"color\":\"#2a3f5f\"}},\"ternary\":{\"aaxis\":{\"gridcolor\":\"#DFE8F3\",\"linecolor\":\"#A2B1C6\",\"ticks\":\"\"},\"baxis\":{\"gridcolor\":\"#DFE8F3\",\"linecolor\":\"#A2B1C6\",\"ticks\":\"\"},\"bgcolor\":\"white\",\"caxis\":{\"gridcolor\":\"#DFE8F3\",\"linecolor\":\"#A2B1C6\",\"ticks\":\"\"}},\"title\":{\"x\":0.05},\"xaxis\":{\"automargin\":true,\"gridcolor\":\"#EBF0F8\",\"linecolor\":\"#EBF0F8\",\"ticks\":\"\",\"title\":{\"standoff\":15},\"zerolinecolor\":\"#EBF0F8\",\"zerolinewidth\":2},\"yaxis\":{\"automargin\":true,\"gridcolor\":\"#EBF0F8\",\"linecolor\":\"#EBF0F8\",\"ticks\":\"\",\"title\":{\"standoff\":15},\"zerolinecolor\":\"#EBF0F8\",\"zerolinewidth\":2}}},\"font\":{\"family\":\"Roboto Serif\",\"color\":\"black\"},\"images\":[{\"sizex\":0.2,\"sizey\":0.2,\"source\":\"https://raw.githubusercontent.com/PolicyEngine/policyengine-app/master/src/images/logos/policyengine/blue.png\",\"x\":1,\"xanchor\":\"right\",\"xref\":\"paper\",\"y\":-0.15,\"yanchor\":\"bottom\",\"yref\":\"paper\"}],\"height\":600,\"width\":800,\"modebar\":{\"bgcolor\":\"rgba(0,0,0,0)\",\"color\":\"rgba(0,0,0,0)\"},\"title\":{\"text\":\"Figure 7: Change to net income by income decile under a \\\\u00a3400 per month UBI\"}}}'"
      ]
     },
     "execution_count": 13,
     "metadata": {},
     "output_type": "execute_result"
    }
   ],
   "source": [
    "decile_chart(\n",
    "    \"uk\",\n",
    "    model_3_reform.api_id,\n",
    "    \"ni\",\n",
    "    \"2023\",\n",
    ").update_layout(\n",
    "    title=\"Figure 7: Change to net income by income decile under a £400 per month UBI\"\n",
    ").to_json()"
   ]
  },
  {
   "cell_type": "markdown",
   "metadata": {},
   "source": [
    "The share of individuals who see gains greater than 5% rises slightly to 60%.\n"
   ]
  },
  {
   "cell_type": "code",
   "execution_count": 14,
   "metadata": {
    "tags": [
     "hide-input"
    ]
   },
   "outputs": [
    {
     "data": {
      "text/plain": [
       "'{\"data\":[{\"hoverinfo\":\"none\",\"legendgroup\":\"Gain more than 5%\",\"marker\":{\"color\":\"#2C6496\",\"line\":{\"width\":0}},\"name\":\"Gain more than 5%\",\"offsetgroup\":\"Gain more than 5%\",\"orientation\":\"h\",\"showlegend\":false,\"text\":[\"60%\"],\"textangle\":0,\"textposition\":\"inside\",\"x\":[0.5994100639344667],\"xaxis\":\"x\",\"y\":[\"All\"],\"yaxis\":\"y\",\"type\":\"bar\",\"width\":[0.9,0.9,0.9,0.9,0.9,0.9,0.9,0.9,0.9,0.9]},{\"hoverinfo\":\"none\",\"legendgroup\":\"Gain less than 5%\",\"marker\":{\"color\":\"#D8E6F3\",\"line\":{\"width\":0}},\"name\":\"Gain less than 5%\",\"offsetgroup\":\"Gain less than 5%\",\"orientation\":\"h\",\"showlegend\":false,\"text\":[\"13%\"],\"textangle\":0,\"textposition\":\"inside\",\"x\":[0.1326462586559888],\"xaxis\":\"x\",\"y\":[\"All\"],\"yaxis\":\"y\",\"type\":\"bar\",\"width\":[0.9,0.9,0.9,0.9,0.9,0.9,0.9,0.9,0.9,0.9]},{\"hoverinfo\":\"none\",\"legendgroup\":\"No change\",\"marker\":{\"color\":\"#FFFFFF\",\"line\":{\"width\":0}},\"name\":\"No change\",\"offsetgroup\":\"No change\",\"orientation\":\"h\",\"showlegend\":false,\"text\":[\"1%\"],\"textangle\":0,\"textposition\":\"inside\",\"x\":[0.005959183422034581],\"xaxis\":\"x\",\"y\":[\"All\"],\"yaxis\":\"y\",\"type\":\"bar\",\"width\":[0.9,0.9,0.9,0.9,0.9,0.9,0.9,0.9,0.9,0.9]},{\"hoverinfo\":\"none\",\"legendgroup\":\"Lose less than 5%\",\"marker\":{\"color\":\"#D2D2D2\",\"line\":{\"width\":0}},\"name\":\"Lose less than 5%\",\"offsetgroup\":\"Lose less than 5%\",\"orientation\":\"h\",\"showlegend\":false,\"text\":[\"12%\"],\"textangle\":0,\"textposition\":\"inside\",\"x\":[0.12292448693408084],\"xaxis\":\"x\",\"y\":[\"All\"],\"yaxis\":\"y\",\"type\":\"bar\",\"width\":[0.9,0.9,0.9,0.9,0.9,0.9,0.9,0.9,0.9,0.9]},{\"hoverinfo\":\"none\",\"legendgroup\":\"Lose more than 5%\",\"marker\":{\"color\":\"#616161\",\"line\":{\"width\":0}},\"name\":\"Lose more than 5%\",\"offsetgroup\":\"Lose more than 5%\",\"orientation\":\"h\",\"showlegend\":false,\"text\":[\"14%\"],\"textangle\":0,\"textposition\":\"inside\",\"x\":[0.13906000705342905],\"xaxis\":\"x\",\"y\":[\"All\"],\"yaxis\":\"y\",\"type\":\"bar\",\"width\":[0.9,0.9,0.9,0.9,0.9,0.9,0.9,0.9,0.9,0.9]},{\"hoverinfo\":\"none\",\"marker\":{\"color\":\"#2C6496\",\"line\":{\"width\":0}},\"name\":\"Gain more than 5%\",\"orientation\":\"h\",\"text\":[\"100%\",\"83%\",\"84%\",\"97%\",\"63%\",\"50%\",\"45%\",\"27%\",\"29%\",\"22%\"],\"textangle\":0,\"textposition\":\"inside\",\"x\":[0.9996998327127647,0.82683260798169,0.8436123075493216,0.9730442547661865,0.6280705143712912,0.4961201456211077,0.4467234312465225,0.2703836159442161,0.2892833924835179,0.22033053666804914],\"xaxis\":\"x2\",\"y\":[1,2,3,4,5,6,7,8,9,10],\"yaxis\":\"y2\",\"type\":\"bar\",\"width\":[0.9,0.9,0.9,0.9,0.9,0.9,0.9,0.9,0.9,0.9]},{\"hoverinfo\":\"none\",\"marker\":{\"color\":\"#D8E6F3\",\"line\":{\"width\":0}},\"name\":\"Gain less than 5%\",\"orientation\":\"h\",\"text\":[\"0%\",\"9%\",\"1%\",\"0%\",\"34%\",\"35%\",\"2%\",\"11%\",\"8%\",\"33%\"],\"textangle\":0,\"textposition\":\"inside\",\"x\":[0.0,0.0902614900599739,0.009370059713866433,0.0,0.3383475668054504,0.3493393748520364,0.02154736039124081,0.1078407335506899,0.08261320700977125,0.3271427941768588],\"xaxis\":\"x2\",\"y\":[1,2,3,4,5,6,7,8,9,10],\"yaxis\":\"y2\",\"type\":\"bar\",\"width\":[0.9,0.9,0.9,0.9,0.9,0.9,0.9,0.9,0.9,0.9]},{\"hoverinfo\":\"none\",\"marker\":{\"color\":\"#FFFFFF\",\"line\":{\"width\":0}},\"name\":\"No change\",\"orientation\":\"h\",\"text\":[\"0%\",\"1%\",\"0%\",\"0%\",\"0%\",\"0%\",\"2%\",\"0%\",\"0%\",\"3%\"],\"textangle\":0,\"textposition\":\"inside\",\"x\":[0.0,0.0138901700123717,0.0,0.0,0.0,0.0,0.017453005503168813,0.0,0.0,0.028248658704805297],\"xaxis\":\"x2\",\"y\":[1,2,3,4,5,6,7,8,9,10],\"yaxis\":\"y2\",\"type\":\"bar\",\"width\":[0.9,0.9,0.9,0.9,0.9,0.9,0.9,0.9,0.9,0.9]},{\"hoverinfo\":\"none\",\"marker\":{\"color\":\"#D2D2D2\",\"line\":{\"width\":0}},\"name\":\"Lose less than 5%\",\"orientation\":\"h\",\"text\":[\"0%\",\"7%\",\"12%\",\"0%\",\"2%\",\"14%\",\"45%\",\"18%\",\"9%\",\"16%\"],\"textangle\":0,\"textposition\":\"inside\",\"x\":[0.0003001672872352223,0.06901573194596437,0.12410828357869577,0.0,0.02028716211470922,0.1404357077063494,0.4455435891105695,0.18315632990217168,0.09075797248017117,0.15563992521494205],\"xaxis\":\"x2\",\"y\":[1,2,3,4,5,6,7,8,9,10],\"yaxis\":\"y2\",\"type\":\"bar\",\"width\":[0.9,0.9,0.9,0.9,0.9,0.9,0.9,0.9,0.9,0.9]},{\"hoverinfo\":\"none\",\"marker\":{\"color\":\"#616161\",\"line\":{\"width\":0}},\"name\":\"Lose more than 5%\",\"orientation\":\"h\",\"text\":[\"0%\",\"0%\",\"2%\",\"3%\",\"1%\",\"1%\",\"7%\",\"44%\",\"54%\",\"27%\"],\"textangle\":0,\"textposition\":\"inside\",\"x\":[0.0,0.0,0.022909349158116224,0.02695574523381347,0.013294756708549176,0.01410477182050651,0.06873261374849837,0.4386193206029223,0.5373454280265396,0.2686380852353447],\"xaxis\":\"x2\",\"y\":[1,2,3,4,5,6,7,8,9,10],\"yaxis\":\"y2\",\"type\":\"bar\",\"width\":[0.9,0.9,0.9,0.9,0.9,0.9,0.9,0.9,0.9,0.9]}],\"layout\":{\"barmode\":\"stack\",\"grid\":{\"columns\":1,\"rows\":2},\"uniformtext\":{\"minsize\":10,\"mode\":\"hide\"},\"xaxis\":{\"anchor\":\"y\",\"matches\":\"x2\",\"showgrid\":false,\"showticklabels\":false,\"tickformat\":\".0%\",\"title\":{\"text\":\"\"}},\"yaxis\":{\"domain\":[0.91,1],\"tickvals\":[\"All\"],\"title\":{\"text\":\"\"}},\"xaxis2\":{\"anchor\":\"y2\",\"tickformat\":\".0%\",\"title\":{\"text\":\"Population share\"}},\"yaxis2\":{\"anchor\":\"x2\",\"domain\":[0,0.85],\"tickvals\":[1,2,3,4,5,6,7,8,9,10],\"title\":{\"text\":\"Income decile\"}},\"template\":{\"data\":{\"barpolar\":[{\"marker\":{\"line\":{\"color\":\"white\",\"width\":0.5},\"pattern\":{\"fillmode\":\"overlay\",\"size\":10,\"solidity\":0.2}},\"type\":\"barpolar\"}],\"bar\":[{\"error_x\":{\"color\":\"#2a3f5f\"},\"error_y\":{\"color\":\"#2a3f5f\"},\"marker\":{\"line\":{\"color\":\"white\",\"width\":0.5},\"pattern\":{\"fillmode\":\"overlay\",\"size\":10,\"solidity\":0.2}},\"type\":\"bar\"}],\"carpet\":[{\"aaxis\":{\"endlinecolor\":\"#2a3f5f\",\"gridcolor\":\"#C8D4E3\",\"linecolor\":\"#C8D4E3\",\"minorgridcolor\":\"#C8D4E3\",\"startlinecolor\":\"#2a3f5f\"},\"baxis\":{\"endlinecolor\":\"#2a3f5f\",\"gridcolor\":\"#C8D4E3\",\"linecolor\":\"#C8D4E3\",\"minorgridcolor\":\"#C8D4E3\",\"startlinecolor\":\"#2a3f5f\"},\"type\":\"carpet\"}],\"choropleth\":[{\"colorbar\":{\"outlinewidth\":0,\"ticks\":\"\"},\"type\":\"choropleth\"}],\"contourcarpet\":[{\"colorbar\":{\"outlinewidth\":0,\"ticks\":\"\"},\"type\":\"contourcarpet\"}],\"contour\":[{\"colorbar\":{\"outlinewidth\":0,\"ticks\":\"\"},\"colorscale\":[[0.0,\"#0d0887\"],[0.1111111111111111,\"#46039f\"],[0.2222222222222222,\"#7201a8\"],[0.3333333333333333,\"#9c179e\"],[0.4444444444444444,\"#bd3786\"],[0.5555555555555556,\"#d8576b\"],[0.6666666666666666,\"#ed7953\"],[0.7777777777777778,\"#fb9f3a\"],[0.8888888888888888,\"#fdca26\"],[1.0,\"#f0f921\"]],\"type\":\"contour\"}],\"heatmapgl\":[{\"colorbar\":{\"outlinewidth\":0,\"ticks\":\"\"},\"colorscale\":[[0.0,\"#0d0887\"],[0.1111111111111111,\"#46039f\"],[0.2222222222222222,\"#7201a8\"],[0.3333333333333333,\"#9c179e\"],[0.4444444444444444,\"#bd3786\"],[0.5555555555555556,\"#d8576b\"],[0.6666666666666666,\"#ed7953\"],[0.7777777777777778,\"#fb9f3a\"],[0.8888888888888888,\"#fdca26\"],[1.0,\"#f0f921\"]],\"type\":\"heatmapgl\"}],\"heatmap\":[{\"colorbar\":{\"outlinewidth\":0,\"ticks\":\"\"},\"colorscale\":[[0.0,\"#0d0887\"],[0.1111111111111111,\"#46039f\"],[0.2222222222222222,\"#7201a8\"],[0.3333333333333333,\"#9c179e\"],[0.4444444444444444,\"#bd3786\"],[0.5555555555555556,\"#d8576b\"],[0.6666666666666666,\"#ed7953\"],[0.7777777777777778,\"#fb9f3a\"],[0.8888888888888888,\"#fdca26\"],[1.0,\"#f0f921\"]],\"type\":\"heatmap\"}],\"histogram2dcontour\":[{\"colorbar\":{\"outlinewidth\":0,\"ticks\":\"\"},\"colorscale\":[[0.0,\"#0d0887\"],[0.1111111111111111,\"#46039f\"],[0.2222222222222222,\"#7201a8\"],[0.3333333333333333,\"#9c179e\"],[0.4444444444444444,\"#bd3786\"],[0.5555555555555556,\"#d8576b\"],[0.6666666666666666,\"#ed7953\"],[0.7777777777777778,\"#fb9f3a\"],[0.8888888888888888,\"#fdca26\"],[1.0,\"#f0f921\"]],\"type\":\"histogram2dcontour\"}],\"histogram2d\":[{\"colorbar\":{\"outlinewidth\":0,\"ticks\":\"\"},\"colorscale\":[[0.0,\"#0d0887\"],[0.1111111111111111,\"#46039f\"],[0.2222222222222222,\"#7201a8\"],[0.3333333333333333,\"#9c179e\"],[0.4444444444444444,\"#bd3786\"],[0.5555555555555556,\"#d8576b\"],[0.6666666666666666,\"#ed7953\"],[0.7777777777777778,\"#fb9f3a\"],[0.8888888888888888,\"#fdca26\"],[1.0,\"#f0f921\"]],\"type\":\"histogram2d\"}],\"histogram\":[{\"marker\":{\"pattern\":{\"fillmode\":\"overlay\",\"size\":10,\"solidity\":0.2}},\"type\":\"histogram\"}],\"mesh3d\":[{\"colorbar\":{\"outlinewidth\":0,\"ticks\":\"\"},\"type\":\"mesh3d\"}],\"parcoords\":[{\"line\":{\"colorbar\":{\"outlinewidth\":0,\"ticks\":\"\"}},\"type\":\"parcoords\"}],\"pie\":[{\"automargin\":true,\"type\":\"pie\"}],\"scatter3d\":[{\"line\":{\"colorbar\":{\"outlinewidth\":0,\"ticks\":\"\"}},\"marker\":{\"colorbar\":{\"outlinewidth\":0,\"ticks\":\"\"}},\"type\":\"scatter3d\"}],\"scattercarpet\":[{\"marker\":{\"colorbar\":{\"outlinewidth\":0,\"ticks\":\"\"}},\"type\":\"scattercarpet\"}],\"scattergeo\":[{\"marker\":{\"colorbar\":{\"outlinewidth\":0,\"ticks\":\"\"}},\"type\":\"scattergeo\"}],\"scattergl\":[{\"marker\":{\"colorbar\":{\"outlinewidth\":0,\"ticks\":\"\"}},\"type\":\"scattergl\"}],\"scattermapbox\":[{\"marker\":{\"colorbar\":{\"outlinewidth\":0,\"ticks\":\"\"}},\"type\":\"scattermapbox\"}],\"scatterpolargl\":[{\"marker\":{\"colorbar\":{\"outlinewidth\":0,\"ticks\":\"\"}},\"type\":\"scatterpolargl\"}],\"scatterpolar\":[{\"marker\":{\"colorbar\":{\"outlinewidth\":0,\"ticks\":\"\"}},\"type\":\"scatterpolar\"}],\"scatter\":[{\"fillpattern\":{\"fillmode\":\"overlay\",\"size\":10,\"solidity\":0.2},\"type\":\"scatter\"}],\"scatterternary\":[{\"marker\":{\"colorbar\":{\"outlinewidth\":0,\"ticks\":\"\"}},\"type\":\"scatterternary\"}],\"surface\":[{\"colorbar\":{\"outlinewidth\":0,\"ticks\":\"\"},\"colorscale\":[[0.0,\"#0d0887\"],[0.1111111111111111,\"#46039f\"],[0.2222222222222222,\"#7201a8\"],[0.3333333333333333,\"#9c179e\"],[0.4444444444444444,\"#bd3786\"],[0.5555555555555556,\"#d8576b\"],[0.6666666666666666,\"#ed7953\"],[0.7777777777777778,\"#fb9f3a\"],[0.8888888888888888,\"#fdca26\"],[1.0,\"#f0f921\"]],\"type\":\"surface\"}],\"table\":[{\"cells\":{\"fill\":{\"color\":\"#EBF0F8\"},\"line\":{\"color\":\"white\"}},\"header\":{\"fill\":{\"color\":\"#C8D4E3\"},\"line\":{\"color\":\"white\"}},\"type\":\"table\"}]},\"layout\":{\"annotationdefaults\":{\"arrowcolor\":\"#2a3f5f\",\"arrowhead\":0,\"arrowwidth\":1},\"autotypenumbers\":\"strict\",\"coloraxis\":{\"colorbar\":{\"outlinewidth\":0,\"ticks\":\"\"}},\"colorscale\":{\"diverging\":[[0,\"#8e0152\"],[0.1,\"#c51b7d\"],[0.2,\"#de77ae\"],[0.3,\"#f1b6da\"],[0.4,\"#fde0ef\"],[0.5,\"#f7f7f7\"],[0.6,\"#e6f5d0\"],[0.7,\"#b8e186\"],[0.8,\"#7fbc41\"],[0.9,\"#4d9221\"],[1,\"#276419\"]],\"sequential\":[[0.0,\"#0d0887\"],[0.1111111111111111,\"#46039f\"],[0.2222222222222222,\"#7201a8\"],[0.3333333333333333,\"#9c179e\"],[0.4444444444444444,\"#bd3786\"],[0.5555555555555556,\"#d8576b\"],[0.6666666666666666,\"#ed7953\"],[0.7777777777777778,\"#fb9f3a\"],[0.8888888888888888,\"#fdca26\"],[1.0,\"#f0f921\"]],\"sequentialminus\":[[0.0,\"#0d0887\"],[0.1111111111111111,\"#46039f\"],[0.2222222222222222,\"#7201a8\"],[0.3333333333333333,\"#9c179e\"],[0.4444444444444444,\"#bd3786\"],[0.5555555555555556,\"#d8576b\"],[0.6666666666666666,\"#ed7953\"],[0.7777777777777778,\"#fb9f3a\"],[0.8888888888888888,\"#fdca26\"],[1.0,\"#f0f921\"]]},\"colorway\":[\"#636efa\",\"#EF553B\",\"#00cc96\",\"#ab63fa\",\"#FFA15A\",\"#19d3f3\",\"#FF6692\",\"#B6E880\",\"#FF97FF\",\"#FECB52\"],\"font\":{\"color\":\"#2a3f5f\"},\"geo\":{\"bgcolor\":\"white\",\"lakecolor\":\"white\",\"landcolor\":\"white\",\"showlakes\":true,\"showland\":true,\"subunitcolor\":\"#C8D4E3\"},\"hoverlabel\":{\"align\":\"left\"},\"hovermode\":\"closest\",\"mapbox\":{\"style\":\"light\"},\"paper_bgcolor\":\"white\",\"plot_bgcolor\":\"white\",\"polar\":{\"angularaxis\":{\"gridcolor\":\"#EBF0F8\",\"linecolor\":\"#EBF0F8\",\"ticks\":\"\"},\"bgcolor\":\"white\",\"radialaxis\":{\"gridcolor\":\"#EBF0F8\",\"linecolor\":\"#EBF0F8\",\"ticks\":\"\"}},\"scene\":{\"xaxis\":{\"backgroundcolor\":\"white\",\"gridcolor\":\"#DFE8F3\",\"gridwidth\":2,\"linecolor\":\"#EBF0F8\",\"showbackground\":true,\"ticks\":\"\",\"zerolinecolor\":\"#EBF0F8\"},\"yaxis\":{\"backgroundcolor\":\"white\",\"gridcolor\":\"#DFE8F3\",\"gridwidth\":2,\"linecolor\":\"#EBF0F8\",\"showbackground\":true,\"ticks\":\"\",\"zerolinecolor\":\"#EBF0F8\"},\"zaxis\":{\"backgroundcolor\":\"white\",\"gridcolor\":\"#DFE8F3\",\"gridwidth\":2,\"linecolor\":\"#EBF0F8\",\"showbackground\":true,\"ticks\":\"\",\"zerolinecolor\":\"#EBF0F8\"}},\"shapedefaults\":{\"line\":{\"color\":\"#2a3f5f\"}},\"ternary\":{\"aaxis\":{\"gridcolor\":\"#DFE8F3\",\"linecolor\":\"#A2B1C6\",\"ticks\":\"\"},\"baxis\":{\"gridcolor\":\"#DFE8F3\",\"linecolor\":\"#A2B1C6\",\"ticks\":\"\"},\"bgcolor\":\"white\",\"caxis\":{\"gridcolor\":\"#DFE8F3\",\"linecolor\":\"#A2B1C6\",\"ticks\":\"\"}},\"title\":{\"x\":0.05},\"xaxis\":{\"automargin\":true,\"gridcolor\":\"#EBF0F8\",\"linecolor\":\"#EBF0F8\",\"ticks\":\"\",\"title\":{\"standoff\":15},\"zerolinecolor\":\"#EBF0F8\",\"zerolinewidth\":2},\"yaxis\":{\"automargin\":true,\"gridcolor\":\"#EBF0F8\",\"linecolor\":\"#EBF0F8\",\"ticks\":\"\",\"title\":{\"standoff\":15},\"zerolinecolor\":\"#EBF0F8\",\"zerolinewidth\":2}}},\"font\":{\"family\":\"Roboto Serif\",\"color\":\"black\"},\"images\":[{\"sizex\":0.2,\"sizey\":0.2,\"source\":\"https://raw.githubusercontent.com/PolicyEngine/policyengine-app/master/src/images/logos/policyengine/blue.png\",\"x\":1,\"xanchor\":\"right\",\"xref\":\"paper\",\"y\":-0.15,\"yanchor\":\"bottom\",\"yref\":\"paper\"}],\"height\":600,\"width\":800,\"modebar\":{\"bgcolor\":\"rgba(0,0,0,0)\",\"color\":\"rgba(0,0,0,0)\"},\"legend\":{\"orientation\":\"h\",\"yanchor\":\"bottom\",\"y\":-0.3},\"title\":{\"text\":\"Figure 8: Outcome distribution by income decile under a \\\\u00a3400 per month UBI\"}}}'"
      ]
     },
     "execution_count": 14,
     "metadata": {},
     "output_type": "execute_result"
    }
   ],
   "source": [
    "intra_decile_chart(\n",
    "    \"uk\",\n",
    "    model_3_reform.api_id,\n",
    "    \"ni\",\n",
    "    \"2023\",\n",
    ").update_layout(\n",
    "    title=\"Figure 8: Outcome distribution by income decile under a £400 per month UBI\",\n",
    "    legend=dict(\n",
    "        orientation=\"h\",\n",
    "        yanchor=\"bottom\",\n",
    "        y=-0.3,\n",
    "    )\n",
    ").to_json()"
   ]
  },
  {
   "cell_type": "markdown",
   "metadata": {},
   "source": [
    "\n",
    "## Household impacts\n",
    "\n",
    "For individual households, each policy changes how the tax-benefit system shapes net incomes in response to earnings. To show this, we continue examining our three policies through the lenses of three example households: a single adult, a married couple with two children, and a pensioner couple.\n",
    "\n",
    "\n",
    "### Net income\n",
    "\n",
    "A single adult with no children is a net beneficiary under all three policies only until they reach £21,000 in employment income.[^10] Before this break-even point, the policy that most benefits them is the £400 per month UBI. After that threshold, their net income rises more slowly than it would have under the baseline policy, and their policy preference would flip: The £400 and £300 per month UBI policies (which have higher tax increases) are worse for their net income. However, this preference only lasts until after the personal allowance phase-out at £125,140: the £400 per month UBI quickly becomes the best policy due to its 0-point changes to the higher and additional rates of income tax.\n",
    "\n",
    "[^10]:\n",
    "     We vary the employment income of only one earner, holding the other (if they exist) at zero.\n"
   ]
  },
  {
   "cell_type": "code",
   "execution_count": 15,
   "metadata": {
    "tags": [
     "hide-input"
    ]
   },
   "outputs": [],
   "source": [
    "import plotly.express as px\n",
    "from policyengine_uk import Simulation\n",
    "import pandas as pd\n",
    "\n",
    "SINGLE_NO_CHILDREN = {\n",
    "    \"people\": {\n",
    "        \"adult\": {\n",
    "            \"age\": 25,\n",
    "        }\n",
    "    },\n",
    "    \"benunits\": {\n",
    "        \"benunit\": {\n",
    "            \"members\": [\"adult\"],\n",
    "            \"claims_legacy_benefits\": False,\n",
    "            \"claims_all_entitled_benefits\": True,\n",
    "        }\n",
    "    },\n",
    "    \"households\": {\n",
    "        \"household\": {\n",
    "            \"members\": [\"adult\"],\n",
    "            \"would_evade_tv_licence_fee\": False,\n",
    "            \"household_owns_tv\": True,\n",
    "        }\n",
    "    },\n",
    "    \"axes\": [[{\n",
    "        \"name\": \"employment_income\",\n",
    "        \"min\": 0,\n",
    "        \"max\": 100_000,\n",
    "        \"count\": 100,\n",
    "    }]],\n",
    "}\n",
    "\n",
    "MARRIED_TWO_CHILDREN = {\n",
    "    \"people\": {\n",
    "        \"adult_1\": {\n",
    "            \"age\": 31,\n",
    "        },\n",
    "        \"adult_2\": {\n",
    "            \"age\": 30,\n",
    "        },\n",
    "        \"child_1\": {\n",
    "            \"age\": 4,\n",
    "        },\n",
    "        \"child_2\": {\n",
    "            \"age\": 6,\n",
    "        },\n",
    "    },\n",
    "    \"benunits\": {\n",
    "        \"benunit\": {\n",
    "            \"members\": [\"adult_1\", \"adult_2\", \"child_1\", \"child_2\"],\n",
    "            \"claims_legacy_benefits\": False,\n",
    "            \"claims_all_entitled_benefits\": True,\n",
    "        }\n",
    "    },\n",
    "    \"households\": {\n",
    "        \"household\": {\n",
    "            \"members\": [\"adult_1\", \"adult_2\", \"child_1\", \"child_2\"],\n",
    "            \"would_evade_tv_licence_fee\": False,\n",
    "            \"household_owns_tv\": True,\n",
    "        }\n",
    "    },\n",
    "    \"axes\": [[{\n",
    "        \"name\": \"employment_income\",\n",
    "        \"min\": 0,\n",
    "        \"max\": 100_000,\n",
    "        \"count\": 100,\n",
    "    }]],\n",
    "}\n",
    "\n",
    "PENSIONER_COUPLE_NO_CHILDREN = {\n",
    "    \"people\": {\n",
    "        \"adult_1\": {\n",
    "            \"age\": 70,\n",
    "        },\n",
    "        \"adult_2\": {\n",
    "            \"age\": 71,\n",
    "        }\n",
    "    },\n",
    "    \"benunits\": {\n",
    "        \"benunit\": {\n",
    "            \"members\": [\"adult_1\", \"adult_2\"],\n",
    "            \"claims_legacy_benefits\": False,\n",
    "            \"claims_all_entitled_benefits\": True,\n",
    "        }\n",
    "    },\n",
    "    \"households\": {\n",
    "        \"household\": {\n",
    "            \"members\": [\"adult_1\", \"adult_2\"],\n",
    "            \"would_evade_tv_licence_fee\": False,\n",
    "            \"household_owns_tv\": True,\n",
    "        }\n",
    "    },\n",
    "    \"axes\": [[{\n",
    "        \"name\": \"employment_income\",\n",
    "        \"min\": 0,\n",
    "        \"max\": 100_000,\n",
    "        \"count\": 100,\n",
    "    }]],\n",
    "}\n",
    "dfs = []\n",
    "for reform, policy_name in zip([model_1_reform, model_2_reform, model_3_reform], [\"£200/month\", \"£300/month\", \"£400/month\"]):\n",
    "    for household_type, household_name in zip(\n",
    "        [SINGLE_NO_CHILDREN, MARRIED_TWO_CHILDREN, PENSIONER_COUPLE_NO_CHILDREN],\n",
    "        [\"Single adult, no children\", \"Married couple, two children\", \"Pensioner couple, no children\"],\n",
    "    ):\n",
    "        baseline_sim = Simulation(situation=household_type)\n",
    "        sim = Simulation(situation=household_type, reform=reform)\n",
    "        net_income = sim.calculate(\"household_net_income\", 2023) - baseline_sim.calculate(\"household_net_income\", 2023)\n",
    "        earnings = sim.calculate(\"employment_income\", map_to=\"household\", period=2023)\n",
    "        df = pd.DataFrame({\"Policy\": policy_name, \"Net income\": net_income, \"Earnings\": earnings, \"Household type\": household_name})\n",
    "        dfs.append(df)\n",
    "\n",
    "df = pd.concat(dfs)"
   ]
  },
  {
   "cell_type": "code",
   "execution_count": 16,
   "metadata": {
    "tags": [
     "hide-input"
    ]
   },
   "outputs": [
    {
     "data": {
      "text/plain": [
       "'{\"data\":[{\"hovertemplate\":\"Policy=\\\\u00a3200/month<br>Earnings=%{x}<br>Net income=%{y}<extra></extra>\",\"legendgroup\":\"\\\\u00a3200/month\",\"line\":{\"color\":\"#D8E6F3\",\"dash\":\"solid\"},\"marker\":{\"symbol\":\"circle\"},\"mode\":\"lines\",\"name\":\"\\\\u00a3200/month\",\"orientation\":\"v\",\"showlegend\":true,\"x\":[0.0,1040.44580078125,2080.8916015625,3121.33740234375,4161.783203125,5202.22900390625,6242.6748046875,7283.12060546875,8323.56640625,9364.0126953125,10404.4580078125,11444.904296875,12485.349609375,13525.7958984375,14566.2412109375,15606.6875,16647.1328125,17687.578125,18728.025390625,19768.470703125,20808.916015625,21849.361328125,22889.80859375,23930.251953125,24970.69921875,26011.14453125,27051.591796875,28092.03515625,29132.482421875,30172.927734375,31213.375,32253.818359375,33294.265625,34334.7109375,35375.15625,36415.6015625,37456.05078125,38496.49609375,39536.94140625,40577.3828125,41617.83203125,42658.27734375,43698.72265625,44739.16796875,45779.6171875,46820.0625,47860.50390625,48900.94921875,49941.3984375,50981.84375,52022.2890625,53062.73828125,54103.18359375,55143.62890625,56184.0703125,57224.51953125,58264.96484375,59305.41015625,60345.85546875,61386.3046875,62426.75,63467.19140625,64507.63671875,65548.0859375,66588.53125,67628.9765625,68669.421875,69709.8671875,70750.3125,71790.7578125,72831.203125,73871.6484375,74912.1015625,75952.546875,76992.9921875,78033.4375,79073.8828125,80114.328125,81154.765625,82195.2109375,83235.6640625,84276.109375,85316.5546875,86357.0,87397.4453125,88437.890625,89478.3359375,90518.7890625,91559.234375,92599.6796875,93640.125,94680.5703125,95721.0078125,96761.453125,97801.8984375,98842.3515625,99882.796875,100923.2421875,101963.6875,103004.1328125],\"xaxis\":\"x\",\"y\":[2400.0,2400.0,2392.1865234375,2291.68798828125,2191.189453125,2090.6904296875,1990.19287109375,1889.693359375,1230.1533203125,819.326171875,595.99609375,372.666015625,149.3359375,117.1650390625,101.9248046875,86.68359375,71.4423828125,56.2021484375,40.9609375,25.720703125,10.478515625,-4.76171875,-20.00390625,-35.244140625,-50.484375,-65.724609375,-80.966796875,-96.208984375,-111.447265625,-126.689453125,-141.9296875,-157.169921875,-172.412109375,-187.654296875,-202.892578125,-218.134765625,-233.376953125,-248.6171875,-263.859375,-279.09765625,-294.337890625,-309.578125,-324.8203125,-340.0625,-355.30078125,-370.546875,-385.78515625,-401.0234375,-416.265625,-441.93359375,-472.4140625,-502.8984375,-533.37890625,-563.859375,-594.34375,-624.82421875,-655.30859375,-685.7890625,-716.2734375,-746.75,-777.234375,-807.72265625,-838.1953125,-868.6796875,-899.1640625,-929.6484375,-960.125,-990.60546875,-1021.08984375,-1051.57421875,-1082.05078125,-1112.53125,-1143.015625,-1173.5,-1203.984375,-1234.46484375,-1264.9453125,-1295.4296875,-1325.90625,-1356.390625,-1386.87109375,-1417.35546875,-1447.8359375,-1478.3125,-1508.796875,-1539.27734375,-1569.7578125,-1600.24609375,-1630.7265625,-1661.2109375,-1691.6875,-1722.16796875,-1752.65234375,-1783.1328125,-1813.6171875,-1844.1015625,-1874.5859375,-1918.58203125,-1964.30859375,-2010.03125],\"yaxis\":\"y\",\"type\":\"scatter\"},{\"hovertemplate\":\"Policy=\\\\u00a3300/month<br>Earnings=%{x}<br>Net income=%{y}<extra></extra>\",\"legendgroup\":\"\\\\u00a3300/month\",\"line\":{\"color\":\"#2C6496\",\"dash\":\"solid\"},\"marker\":{\"symbol\":\"circle\"},\"mode\":\"lines\",\"name\":\"\\\\u00a3300/month\",\"orientation\":\"v\",\"showlegend\":true,\"x\":[0.0,1040.44580078125,2080.8916015625,3121.33740234375,4161.783203125,5202.22900390625,6242.6748046875,7283.12060546875,8323.56640625,9364.0126953125,10404.4580078125,11444.904296875,12485.349609375,13525.7958984375,14566.2412109375,15606.6875,16647.1328125,17687.578125,18728.025390625,19768.470703125,20808.916015625,21849.361328125,22889.80859375,23930.251953125,24970.69921875,26011.14453125,27051.591796875,28092.03515625,29132.482421875,30172.927734375,31213.375,32253.818359375,33294.265625,34334.7109375,35375.15625,36415.6015625,37456.05078125,38496.49609375,39536.94140625,40577.3828125,41617.83203125,42658.27734375,43698.72265625,44739.16796875,45779.6171875,46820.0625,47860.50390625,48900.94921875,49941.3984375,50981.84375,52022.2890625,53062.73828125,54103.18359375,55143.62890625,56184.0703125,57224.51953125,58264.96484375,59305.41015625,60345.85546875,61386.3046875,62426.75,63467.19140625,64507.63671875,65548.0859375,66588.53125,67628.9765625,68669.421875,69709.8671875,70750.3125,71790.7578125,72831.203125,73871.6484375,74912.1015625,75952.546875,76992.9921875,78033.4375,79073.8828125,80114.328125,81154.765625,82195.2109375,83235.6640625,84276.109375,85316.5546875,86357.0,87397.4453125,88437.890625,89478.3359375,90518.7890625,91559.234375,92599.6796875,93640.125,94680.5703125,95721.0078125,96761.453125,97801.8984375,98842.3515625,99882.796875,100923.2421875,101963.6875,103004.1328125],\"xaxis\":\"x\",\"y\":[3600.0,3484.86962890625,3369.7412109375,3254.6103515625,3139.48046875,3024.3515625,2909.22021484375,2794.091796875,2119.919921875,1432.5439453125,1041.5595703125,785.7158203125,529.8720703125,465.1884765625,417.43359375,369.677734375,321.9228515625,274.1689453125,226.412109375,178.658203125,130.90234375,83.1484375,35.39453125,-12.361328125,-60.115234375,-107.87109375,-155.626953125,-203.3828125,-251.1328125,-298.888671875,-346.64453125,-394.3984375,-442.15625,-489.91015625,-537.6640625,-585.41796875,-633.17578125,-680.9296875,-728.68359375,-776.4375,-824.19140625,-871.94921875,-919.703125,-967.4609375,-1015.21484375,-1062.96875,-1110.72265625,-1158.4765625,-1206.234375,-1253.984375,-1301.7421875,-1349.4921875,-1397.25,-1445.00390625,-1492.76171875,-1540.515625,-1588.26953125,-1636.0234375,-1683.78125,-1731.53125,-1779.2890625,-1827.05078125,-1874.796875,-1922.5546875,-1970.3125,-2018.06640625,-2065.8203125,-2113.57421875,-2161.328125,-2209.08203125,-2256.83984375,-2304.58984375,-2352.3515625,-2400.1015625,-2447.859375,-2495.6171875,-2543.3671875,-2591.125,-2638.875,-2686.6328125,-2734.38671875,-2782.140625,-2829.89453125,-2877.6484375,-2925.40234375,-2973.15625,-3020.9140625,-3068.671875,-3116.42578125,-3164.18359375,-3211.93359375,-3259.6875,-3307.4453125,-3355.19921875,-3402.95703125,-3450.7109375,-3498.46875,-3361.5703125,-3201.23828125,-3040.90625],\"yaxis\":\"y\",\"type\":\"scatter\"},{\"hovertemplate\":\"Policy=\\\\u00a3400/month<br>Earnings=%{x}<br>Net income=%{y}<extra></extra>\",\"legendgroup\":\"\\\\u00a3400/month\",\"line\":{\"color\":\"#17354F\",\"dash\":\"solid\"},\"marker\":{\"symbol\":\"circle\"},\"mode\":\"lines\",\"name\":\"\\\\u00a3400/month\",\"orientation\":\"v\",\"showlegend\":true,\"x\":[0.0,1040.44580078125,2080.8916015625,3121.33740234375,4161.783203125,5202.22900390625,6242.6748046875,7283.12060546875,8323.56640625,9364.0126953125,10404.4580078125,11444.904296875,12485.349609375,13525.7958984375,14566.2412109375,15606.6875,16647.1328125,17687.578125,18728.025390625,19768.470703125,20808.916015625,21849.361328125,22889.80859375,23930.251953125,24970.69921875,26011.14453125,27051.591796875,28092.03515625,29132.482421875,30172.927734375,31213.375,32253.818359375,33294.265625,34334.7109375,35375.15625,36415.6015625,37456.05078125,38496.49609375,39536.94140625,40577.3828125,41617.83203125,42658.27734375,43698.72265625,44739.16796875,45779.6171875,46820.0625,47860.50390625,48900.94921875,49941.3984375,50981.84375,52022.2890625,53062.73828125,54103.18359375,55143.62890625,56184.0703125,57224.51953125,58264.96484375,59305.41015625,60345.85546875,61386.3046875,62426.75,63467.19140625,64507.63671875,65548.0859375,66588.53125,67628.9765625,68669.421875,69709.8671875,70750.3125,71790.7578125,72831.203125,73871.6484375,74912.1015625,75952.546875,76992.9921875,78033.4375,79073.8828125,80114.328125,81154.765625,82195.2109375,83235.6640625,84276.109375,85316.5546875,86357.0,87397.4453125,88437.890625,89478.3359375,90518.7890625,91559.234375,92599.6796875,93640.125,94680.5703125,95721.0078125,96761.453125,97801.8984375,98842.3515625,99882.796875,100923.2421875,101963.6875,103004.1328125],\"xaxis\":\"x\",\"y\":[4800.0,4658.35009765625,4516.7021484375,4375.0537109375,4233.404296875,4091.7548828125,3950.10595703125,3808.4560546875,3107.7666015625,2393.8720703125,1679.978515625,1337.4697265625,1022.6943359375,899.0791015625,792.392578125,685.705078125,579.01953125,472.3330078125,365.64453125,258.958984375,152.2734375,45.5859375,-61.099609375,-167.78515625,-274.470703125,-381.15625,-487.845703125,-594.53125,-701.21484375,-807.90234375,-914.58984375,-1021.275390625,-1127.962890625,-1234.6484375,-1341.333984375,-1448.021484375,-1554.7109375,-1661.39453125,-1768.08203125,-1874.765625,-1981.453125,-2088.140625,-2194.826171875,-2301.513671875,-2408.19921875,-2514.88671875,-2621.5703125,-2728.2578125,-2834.9453125,-2868.63671875,-2868.640625,-2868.63671875,-2868.63671875,-2868.63671875,-2868.640625,-2868.640625,-2868.640625,-2868.640625,-2868.640625,-2868.63671875,-2868.63671875,-2868.64453125,-2868.63671875,-2868.640625,-2868.640625,-2868.640625,-2868.640625,-2868.63671875,-2868.63671875,-2868.63671875,-2868.63671875,-2868.63671875,-2868.640625,-2868.640625,-2868.640625,-2868.640625,-2868.640625,-2868.640625,-2868.63671875,-2868.63671875,-2868.63671875,-2868.63671875,-2868.63671875,-2868.63671875,-2868.63671875,-2868.63671875,-2868.63671875,-2868.640625,-2868.640625,-2868.640625,-2868.63671875,-2868.63671875,-2868.640625,-2868.63671875,-2868.640625,-2868.640625,-2868.64453125,-2683.9921875,-2475.90234375,-2267.81640625],\"yaxis\":\"y\",\"type\":\"scatter\"}],\"layout\":{\"template\":{\"data\":{\"barpolar\":[{\"marker\":{\"line\":{\"color\":\"white\",\"width\":0.5},\"pattern\":{\"fillmode\":\"overlay\",\"size\":10,\"solidity\":0.2}},\"type\":\"barpolar\"}],\"bar\":[{\"error_x\":{\"color\":\"#2a3f5f\"},\"error_y\":{\"color\":\"#2a3f5f\"},\"marker\":{\"line\":{\"color\":\"white\",\"width\":0.5},\"pattern\":{\"fillmode\":\"overlay\",\"size\":10,\"solidity\":0.2}},\"type\":\"bar\"}],\"carpet\":[{\"aaxis\":{\"endlinecolor\":\"#2a3f5f\",\"gridcolor\":\"#C8D4E3\",\"linecolor\":\"#C8D4E3\",\"minorgridcolor\":\"#C8D4E3\",\"startlinecolor\":\"#2a3f5f\"},\"baxis\":{\"endlinecolor\":\"#2a3f5f\",\"gridcolor\":\"#C8D4E3\",\"linecolor\":\"#C8D4E3\",\"minorgridcolor\":\"#C8D4E3\",\"startlinecolor\":\"#2a3f5f\"},\"type\":\"carpet\"}],\"choropleth\":[{\"colorbar\":{\"outlinewidth\":0,\"ticks\":\"\"},\"type\":\"choropleth\"}],\"contourcarpet\":[{\"colorbar\":{\"outlinewidth\":0,\"ticks\":\"\"},\"type\":\"contourcarpet\"}],\"contour\":[{\"colorbar\":{\"outlinewidth\":0,\"ticks\":\"\"},\"colorscale\":[[0.0,\"#0d0887\"],[0.1111111111111111,\"#46039f\"],[0.2222222222222222,\"#7201a8\"],[0.3333333333333333,\"#9c179e\"],[0.4444444444444444,\"#bd3786\"],[0.5555555555555556,\"#d8576b\"],[0.6666666666666666,\"#ed7953\"],[0.7777777777777778,\"#fb9f3a\"],[0.8888888888888888,\"#fdca26\"],[1.0,\"#f0f921\"]],\"type\":\"contour\"}],\"heatmapgl\":[{\"colorbar\":{\"outlinewidth\":0,\"ticks\":\"\"},\"colorscale\":[[0.0,\"#0d0887\"],[0.1111111111111111,\"#46039f\"],[0.2222222222222222,\"#7201a8\"],[0.3333333333333333,\"#9c179e\"],[0.4444444444444444,\"#bd3786\"],[0.5555555555555556,\"#d8576b\"],[0.6666666666666666,\"#ed7953\"],[0.7777777777777778,\"#fb9f3a\"],[0.8888888888888888,\"#fdca26\"],[1.0,\"#f0f921\"]],\"type\":\"heatmapgl\"}],\"heatmap\":[{\"colorbar\":{\"outlinewidth\":0,\"ticks\":\"\"},\"colorscale\":[[0.0,\"#0d0887\"],[0.1111111111111111,\"#46039f\"],[0.2222222222222222,\"#7201a8\"],[0.3333333333333333,\"#9c179e\"],[0.4444444444444444,\"#bd3786\"],[0.5555555555555556,\"#d8576b\"],[0.6666666666666666,\"#ed7953\"],[0.7777777777777778,\"#fb9f3a\"],[0.8888888888888888,\"#fdca26\"],[1.0,\"#f0f921\"]],\"type\":\"heatmap\"}],\"histogram2dcontour\":[{\"colorbar\":{\"outlinewidth\":0,\"ticks\":\"\"},\"colorscale\":[[0.0,\"#0d0887\"],[0.1111111111111111,\"#46039f\"],[0.2222222222222222,\"#7201a8\"],[0.3333333333333333,\"#9c179e\"],[0.4444444444444444,\"#bd3786\"],[0.5555555555555556,\"#d8576b\"],[0.6666666666666666,\"#ed7953\"],[0.7777777777777778,\"#fb9f3a\"],[0.8888888888888888,\"#fdca26\"],[1.0,\"#f0f921\"]],\"type\":\"histogram2dcontour\"}],\"histogram2d\":[{\"colorbar\":{\"outlinewidth\":0,\"ticks\":\"\"},\"colorscale\":[[0.0,\"#0d0887\"],[0.1111111111111111,\"#46039f\"],[0.2222222222222222,\"#7201a8\"],[0.3333333333333333,\"#9c179e\"],[0.4444444444444444,\"#bd3786\"],[0.5555555555555556,\"#d8576b\"],[0.6666666666666666,\"#ed7953\"],[0.7777777777777778,\"#fb9f3a\"],[0.8888888888888888,\"#fdca26\"],[1.0,\"#f0f921\"]],\"type\":\"histogram2d\"}],\"histogram\":[{\"marker\":{\"pattern\":{\"fillmode\":\"overlay\",\"size\":10,\"solidity\":0.2}},\"type\":\"histogram\"}],\"mesh3d\":[{\"colorbar\":{\"outlinewidth\":0,\"ticks\":\"\"},\"type\":\"mesh3d\"}],\"parcoords\":[{\"line\":{\"colorbar\":{\"outlinewidth\":0,\"ticks\":\"\"}},\"type\":\"parcoords\"}],\"pie\":[{\"automargin\":true,\"type\":\"pie\"}],\"scatter3d\":[{\"line\":{\"colorbar\":{\"outlinewidth\":0,\"ticks\":\"\"}},\"marker\":{\"colorbar\":{\"outlinewidth\":0,\"ticks\":\"\"}},\"type\":\"scatter3d\"}],\"scattercarpet\":[{\"marker\":{\"colorbar\":{\"outlinewidth\":0,\"ticks\":\"\"}},\"type\":\"scattercarpet\"}],\"scattergeo\":[{\"marker\":{\"colorbar\":{\"outlinewidth\":0,\"ticks\":\"\"}},\"type\":\"scattergeo\"}],\"scattergl\":[{\"marker\":{\"colorbar\":{\"outlinewidth\":0,\"ticks\":\"\"}},\"type\":\"scattergl\"}],\"scattermapbox\":[{\"marker\":{\"colorbar\":{\"outlinewidth\":0,\"ticks\":\"\"}},\"type\":\"scattermapbox\"}],\"scatterpolargl\":[{\"marker\":{\"colorbar\":{\"outlinewidth\":0,\"ticks\":\"\"}},\"type\":\"scatterpolargl\"}],\"scatterpolar\":[{\"marker\":{\"colorbar\":{\"outlinewidth\":0,\"ticks\":\"\"}},\"type\":\"scatterpolar\"}],\"scatter\":[{\"fillpattern\":{\"fillmode\":\"overlay\",\"size\":10,\"solidity\":0.2},\"type\":\"scatter\"}],\"scatterternary\":[{\"marker\":{\"colorbar\":{\"outlinewidth\":0,\"ticks\":\"\"}},\"type\":\"scatterternary\"}],\"surface\":[{\"colorbar\":{\"outlinewidth\":0,\"ticks\":\"\"},\"colorscale\":[[0.0,\"#0d0887\"],[0.1111111111111111,\"#46039f\"],[0.2222222222222222,\"#7201a8\"],[0.3333333333333333,\"#9c179e\"],[0.4444444444444444,\"#bd3786\"],[0.5555555555555556,\"#d8576b\"],[0.6666666666666666,\"#ed7953\"],[0.7777777777777778,\"#fb9f3a\"],[0.8888888888888888,\"#fdca26\"],[1.0,\"#f0f921\"]],\"type\":\"surface\"}],\"table\":[{\"cells\":{\"fill\":{\"color\":\"#EBF0F8\"},\"line\":{\"color\":\"white\"}},\"header\":{\"fill\":{\"color\":\"#C8D4E3\"},\"line\":{\"color\":\"white\"}},\"type\":\"table\"}]},\"layout\":{\"annotationdefaults\":{\"arrowcolor\":\"#2a3f5f\",\"arrowhead\":0,\"arrowwidth\":1},\"autotypenumbers\":\"strict\",\"coloraxis\":{\"colorbar\":{\"outlinewidth\":0,\"ticks\":\"\"}},\"colorscale\":{\"diverging\":[[0,\"#8e0152\"],[0.1,\"#c51b7d\"],[0.2,\"#de77ae\"],[0.3,\"#f1b6da\"],[0.4,\"#fde0ef\"],[0.5,\"#f7f7f7\"],[0.6,\"#e6f5d0\"],[0.7,\"#b8e186\"],[0.8,\"#7fbc41\"],[0.9,\"#4d9221\"],[1,\"#276419\"]],\"sequential\":[[0.0,\"#0d0887\"],[0.1111111111111111,\"#46039f\"],[0.2222222222222222,\"#7201a8\"],[0.3333333333333333,\"#9c179e\"],[0.4444444444444444,\"#bd3786\"],[0.5555555555555556,\"#d8576b\"],[0.6666666666666666,\"#ed7953\"],[0.7777777777777778,\"#fb9f3a\"],[0.8888888888888888,\"#fdca26\"],[1.0,\"#f0f921\"]],\"sequentialminus\":[[0.0,\"#0d0887\"],[0.1111111111111111,\"#46039f\"],[0.2222222222222222,\"#7201a8\"],[0.3333333333333333,\"#9c179e\"],[0.4444444444444444,\"#bd3786\"],[0.5555555555555556,\"#d8576b\"],[0.6666666666666666,\"#ed7953\"],[0.7777777777777778,\"#fb9f3a\"],[0.8888888888888888,\"#fdca26\"],[1.0,\"#f0f921\"]]},\"colorway\":[\"#636efa\",\"#EF553B\",\"#00cc96\",\"#ab63fa\",\"#FFA15A\",\"#19d3f3\",\"#FF6692\",\"#B6E880\",\"#FF97FF\",\"#FECB52\"],\"font\":{\"color\":\"#2a3f5f\"},\"geo\":{\"bgcolor\":\"white\",\"lakecolor\":\"white\",\"landcolor\":\"white\",\"showlakes\":true,\"showland\":true,\"subunitcolor\":\"#C8D4E3\"},\"hoverlabel\":{\"align\":\"left\"},\"hovermode\":\"closest\",\"mapbox\":{\"style\":\"light\"},\"paper_bgcolor\":\"white\",\"plot_bgcolor\":\"white\",\"polar\":{\"angularaxis\":{\"gridcolor\":\"#EBF0F8\",\"linecolor\":\"#EBF0F8\",\"ticks\":\"\"},\"bgcolor\":\"white\",\"radialaxis\":{\"gridcolor\":\"#EBF0F8\",\"linecolor\":\"#EBF0F8\",\"ticks\":\"\"}},\"scene\":{\"xaxis\":{\"backgroundcolor\":\"white\",\"gridcolor\":\"#DFE8F3\",\"gridwidth\":2,\"linecolor\":\"#EBF0F8\",\"showbackground\":true,\"ticks\":\"\",\"zerolinecolor\":\"#EBF0F8\"},\"yaxis\":{\"backgroundcolor\":\"white\",\"gridcolor\":\"#DFE8F3\",\"gridwidth\":2,\"linecolor\":\"#EBF0F8\",\"showbackground\":true,\"ticks\":\"\",\"zerolinecolor\":\"#EBF0F8\"},\"zaxis\":{\"backgroundcolor\":\"white\",\"gridcolor\":\"#DFE8F3\",\"gridwidth\":2,\"linecolor\":\"#EBF0F8\",\"showbackground\":true,\"ticks\":\"\",\"zerolinecolor\":\"#EBF0F8\"}},\"shapedefaults\":{\"line\":{\"color\":\"#2a3f5f\"}},\"ternary\":{\"aaxis\":{\"gridcolor\":\"#DFE8F3\",\"linecolor\":\"#A2B1C6\",\"ticks\":\"\"},\"baxis\":{\"gridcolor\":\"#DFE8F3\",\"linecolor\":\"#A2B1C6\",\"ticks\":\"\"},\"bgcolor\":\"white\",\"caxis\":{\"gridcolor\":\"#DFE8F3\",\"linecolor\":\"#A2B1C6\",\"ticks\":\"\"}},\"title\":{\"x\":0.05},\"xaxis\":{\"automargin\":true,\"gridcolor\":\"#EBF0F8\",\"linecolor\":\"#EBF0F8\",\"ticks\":\"\",\"title\":{\"standoff\":15},\"zerolinecolor\":\"#EBF0F8\",\"zerolinewidth\":2},\"yaxis\":{\"automargin\":true,\"gridcolor\":\"#EBF0F8\",\"linecolor\":\"#EBF0F8\",\"ticks\":\"\",\"title\":{\"standoff\":15},\"zerolinecolor\":\"#EBF0F8\",\"zerolinewidth\":2}}},\"xaxis\":{\"anchor\":\"y\",\"domain\":[0.0,1.0],\"title\":{\"text\":\"Employment income\"},\"tickformat\":\",.0f\",\"tickprefix\":\"\\\\u00a3\"},\"yaxis\":{\"anchor\":\"x\",\"domain\":[0.0,1.0],\"title\":{\"text\":\"Change to annual net income\"},\"tickmode\":\"array\",\"tickvals\":[-20000,-15000,-10000,-5000,0,5000,10000,15000,20000],\"ticktext\":[\"-\\\\u00a320,000\",\"-\\\\u00a315,000\",\"-\\\\u00a310,000\",\"-\\\\u00a35,000\",\"\\\\u00a30\",\"+\\\\u00a35,000\",\"+\\\\u00a310,000\",\"+\\\\u00a315,000\",\"+\\\\u00a320,000\"],\"range\":[-25000,25000]},\"legend\":{\"title\":{\"text\":\"Policy\"},\"tracegroupgap\":0},\"margin\":{\"t\":60},\"title\":{\"text\":\"Figure 11: Change to annual net income by UBI policy and income (single adult, no children)\"},\"shapes\":[{\"line\":{\"color\":\"grey\",\"width\":1},\"type\":\"line\",\"x0\":0,\"x1\":1,\"xref\":\"paper\",\"y0\":0,\"y1\":0,\"yref\":\"y\"}],\"font\":{\"family\":\"Roboto Serif\",\"color\":\"black\"},\"images\":[{\"sizex\":0.2,\"sizey\":0.2,\"source\":\"https://raw.githubusercontent.com/PolicyEngine/policyengine-app/master/src/images/logos/policyengine/blue.png\",\"x\":1,\"xanchor\":\"right\",\"xref\":\"paper\",\"y\":-0.15,\"yanchor\":\"bottom\",\"yref\":\"paper\"}],\"height\":600,\"width\":800,\"modebar\":{\"bgcolor\":\"rgba(0,0,0,0)\",\"color\":\"rgba(0,0,0,0)\"}}}'"
      ]
     },
     "execution_count": 16,
     "metadata": {},
     "output_type": "execute_result"
    }
   ],
   "source": [
    "import plotly.io as pio\n",
    "from policyengine_core.charts import *\n",
    "\n",
    "H1 = \"Single adult, no children\"\n",
    "H2 = \"Married couple, two children\"\n",
    "H3 = \"Pensioner couple, no children\"\n",
    "\n",
    "def plot(household_name: str, title):\n",
    "    fig = px.line(\n",
    "        df[df[\"Household type\"] == household_name], \n",
    "        x=\"Earnings\", \n",
    "        y=\"Net income\", \n",
    "        color=\"Policy\",\n",
    "        color_discrete_sequence=BLUE_COLOUR_SCALE,\n",
    "    ).update_layout(\n",
    "        yaxis_tickmode=\"array\",\n",
    "        yaxis_tickvals=[-20_000, -15_000, -10_000, -5_000, 0, 5_000, 10_000, 15_000, 20_000],\n",
    "        yaxis_ticktext=[\"-£20,000\", \"-£15,000\", \"-£10,000\", \"-£5,000\", \"£0\", \"+£5,000\", \"+£10,000\", \"+£15,000\", \"+£20,000\"],\n",
    "        yaxis_range=(-25_000, 25_000),\n",
    "        xaxis_tickformat=\",.0f\",\n",
    "        xaxis_tickprefix=\"£\",\n",
    "        yaxis_title=\"Change to annual net income\",\n",
    "        xaxis_title=\"Employment income\",\n",
    "        title=title,\n",
    "    )\n",
    "    fig.add_shape(\n",
    "            type=\"line\",\n",
    "            xref=\"paper\",\n",
    "            yref=\"y\",\n",
    "            x0=0,\n",
    "            y0=0,\n",
    "            x1=1,\n",
    "            y1=0,\n",
    "            line=dict(color=\"grey\", width=1),\n",
    "        )\n",
    "    return format_fig(fig)\n",
    "plot(H1, title=\"Figure 11: Change to annual net income by UBI policy and income (single adult, no children)\").to_json()"
   ]
  },
  {
   "cell_type": "markdown",
   "metadata": {},
   "source": [
    "For a married couple with two children, one of whom has earnings, the net income landscape is more generous. All UBI schemes leave them better off or roughly equal at virtually any earnings level, starting with a bonus over £5,000 which decreases non-monotonically to a minimum of £100."
   ]
  },
  {
   "cell_type": "code",
   "execution_count": 17,
   "metadata": {
    "tags": [
     "hide-input"
    ]
   },
   "outputs": [
    {
     "data": {
      "text/plain": [
       "'{\"data\":[{\"hovertemplate\":\"Policy=\\\\u00a3200/month<br>Earnings=%{x}<br>Net income=%{y}<extra></extra>\",\"legendgroup\":\"\\\\u00a3200/month\",\"line\":{\"color\":\"#D8E6F3\",\"dash\":\"solid\"},\"marker\":{\"symbol\":\"circle\"},\"mode\":\"lines\",\"name\":\"\\\\u00a3200/month\",\"orientation\":\"v\",\"showlegend\":true,\"x\":[0.0,1040.44580078125,2080.8916015625,3121.33740234375,4161.783203125,5202.22900390625,6242.6748046875,7283.12060546875,8323.56640625,9364.0126953125,10404.4580078125,11444.904296875,12485.349609375,13525.7958984375,14566.2412109375,15606.6875,16647.1328125,17687.578125,18728.025390625,19768.470703125,20808.916015625,21849.361328125,22889.80859375,23930.251953125,24970.69921875,26011.14453125,27051.591796875,28092.03515625,29132.482421875,30172.927734375,31213.375,32253.818359375,33294.265625,34334.7109375,35375.15625,36415.6015625,37456.05078125,38496.49609375,39536.94140625,40577.3828125,41617.83203125,42658.27734375,43698.72265625,44739.16796875,45779.6171875,46820.0625,47860.50390625,48900.94921875,49941.3984375,50981.84375,52022.2890625,53062.73828125,54103.18359375,55143.62890625,56184.0703125,57224.51953125,58264.96484375,59305.41015625,60345.85546875,61386.3046875,62426.75,63467.19140625,64507.63671875,65548.0859375,66588.53125,67628.9765625,68669.421875,69709.8671875,70750.3125,71790.7578125,72831.203125,73871.6484375,74912.1015625,75952.546875,76992.9921875,78033.4375,79073.8828125,80114.328125,81154.765625,82195.2109375,83235.6640625,84276.109375,85316.5546875,86357.0,87397.4453125,88437.890625,89478.3359375,90518.7890625,91559.234375,92599.6796875,93640.125,94680.5703125,95721.0078125,96761.453125,97801.8984375,98842.3515625,99882.796875,100923.2421875,101963.6875,103004.1328125],\"xaxis\":\"x\",\"y\":[4800.0,4800.0,4800.0009765625,4602.236328125,4378.90625,4155.576171875,3932.24609375,3932.83203125,4208.515625,4108.015625,4007.515625,3907.01953125,3806.51953125,3706.021484375,3671.78515625,3664.923828125,3658.068359375,3651.208984375,3644.349609375,3637.4921875,3630.630859375,3623.775390625,3616.916015625,3610.060546875,3603.19921875,3596.33984375,3589.482421875,3582.626953125,3575.771484375,3568.908203125,3562.048828125,3555.189453125,3548.3359375,3541.47265625,3534.61328125,3517.76171875,3121.77734375,2725.79296875,2329.80859375,1933.82421875,1896.58984375,1881.3515625,1866.109375,1850.8671875,1835.62890625,1820.3828125,1805.14453125,1789.90625,1774.6640625,1958.06640625,1927.5859375,1897.1015625,1866.62109375,1836.13671875,1805.65625,1775.171875,1744.69140625,1714.20703125,1683.734375,1653.25,1622.765625,1592.27734375,1561.8046875,1531.3203125,1500.8359375,1470.3515625,1439.875,1409.39453125,1378.91015625,1348.42578125,1317.94921875,1287.46875,1256.984375,1226.5,1196.015625,1165.53515625,1135.0546875,1104.5703125,1074.09375,1043.609375,1013.12890625,982.64453125,952.1640625,921.6875,891.20703125,860.72265625,830.2421875,799.75390625,769.2734375,738.7890625,708.3125,677.83203125,647.34765625,616.8671875,586.3828125,555.8984375,525.4140625,481.4140625,435.6953125,389.96875],\"yaxis\":\"y\",\"type\":\"scatter\"},{\"hovertemplate\":\"Policy=\\\\u00a3300/month<br>Earnings=%{x}<br>Net income=%{y}<extra></extra>\",\"legendgroup\":\"\\\\u00a3300/month\",\"line\":{\"color\":\"#2C6496\",\"dash\":\"solid\"},\"marker\":{\"symbol\":\"circle\"},\"mode\":\"lines\",\"name\":\"\\\\u00a3300/month\",\"orientation\":\"v\",\"showlegend\":true,\"x\":[0.0,1040.44580078125,2080.8916015625,3121.33740234375,4161.783203125,5202.22900390625,6242.6748046875,7283.12060546875,8323.56640625,9364.0126953125,10404.4580078125,11444.904296875,12485.349609375,13525.7958984375,14566.2412109375,15606.6875,16647.1328125,17687.578125,18728.025390625,19768.470703125,20808.916015625,21849.361328125,22889.80859375,23930.251953125,24970.69921875,26011.14453125,27051.591796875,28092.03515625,29132.482421875,30172.927734375,31213.375,32253.818359375,33294.265625,34334.7109375,35375.15625,36415.6015625,37456.05078125,38496.49609375,39536.94140625,40577.3828125,41617.83203125,42658.27734375,43698.72265625,44739.16796875,45779.6171875,46820.0625,47860.50390625,48900.94921875,49941.3984375,50981.84375,52022.2890625,53062.73828125,54103.18359375,55143.62890625,56184.0703125,57224.51953125,58264.96484375,59305.41015625,60345.85546875,61386.3046875,62426.75,63467.19140625,64507.63671875,65548.0859375,66588.53125,67628.9765625,68669.421875,69709.8671875,70750.3125,71790.7578125,72831.203125,73871.6484375,74912.1015625,75952.546875,76992.9921875,78033.4375,79073.8828125,80114.328125,81154.765625,82195.2109375,83235.6640625,84276.109375,85316.5546875,86357.0,87397.4453125,88437.890625,89478.3359375,90518.7890625,91559.234375,92599.6796875,93640.125,94680.5703125,95721.0078125,96761.453125,97801.8984375,98842.3515625,99882.796875,100923.2421875,101963.6875,103004.1328125],\"xaxis\":\"x\",\"y\":[7200.0,6944.15625,6688.3134765625,6432.46875,6176.625,5920.779296875,5664.935546875,5633.0078125,5949.41015625,6163.83203125,6048.701171875,5933.57421875,5818.443359375,5703.314453125,5654.4453125,5632.955078125,5611.462890625,5589.9765625,5568.482421875,5546.99609375,5525.5078125,5504.017578125,5482.529296875,5461.037109375,5439.548828125,5418.056640625,5396.5703125,5375.078125,5353.59375,5332.1015625,5310.611328125,5289.119140625,5267.62890625,5246.140625,5224.6484375,5193.16796875,4782.55078125,4371.93359375,3961.3203125,3550.703125,3140.08984375,2729.46875,2428.296875,2380.5390625,2332.78515625,2285.03125,2237.27734375,2189.5234375,2141.765625,2346.015625,2298.26171875,2250.50390625,2202.75,2154.9921875,2107.234375,2059.4765625,2011.734375,1963.96875,1916.22265625,1868.46875,1820.7109375,1772.94921875,1725.203125,1677.4453125,1629.6875,1581.93359375,1534.1796875,1486.42578125,1438.671875,1390.91796875,1343.16015625,1295.41015625,1247.6484375,1199.8984375,1152.140625,1104.3828125,1056.6328125,1008.875,961.125,913.3671875,865.61328125,817.859375,770.10546875,722.3515625,674.59765625,626.84375,579.0859375,531.328125,483.57421875,435.81640625,388.06640625,340.3125,292.5546875,244.80078125,197.04296875,149.2890625,101.53125,238.4296875,398.7578125,559.09375],\"yaxis\":\"y\",\"type\":\"scatter\"},{\"hovertemplate\":\"Policy=\\\\u00a3400/month<br>Earnings=%{x}<br>Net income=%{y}<extra></extra>\",\"legendgroup\":\"\\\\u00a3400/month\",\"line\":{\"color\":\"#17354F\",\"dash\":\"solid\"},\"marker\":{\"symbol\":\"circle\"},\"mode\":\"lines\",\"name\":\"\\\\u00a3400/month\",\"orientation\":\"v\",\"showlegend\":true,\"x\":[0.0,1040.44580078125,2080.8916015625,3121.33740234375,4161.783203125,5202.22900390625,6242.6748046875,7283.12060546875,8323.56640625,9364.0126953125,10404.4580078125,11444.904296875,12485.349609375,13525.7958984375,14566.2412109375,15606.6875,16647.1328125,17687.578125,18728.025390625,19768.470703125,20808.916015625,21849.361328125,22889.80859375,23930.251953125,24970.69921875,26011.14453125,27051.591796875,28092.03515625,29132.482421875,30172.927734375,31213.375,32253.818359375,33294.265625,34334.7109375,35375.15625,36415.6015625,37456.05078125,38496.49609375,39536.94140625,40577.3828125,41617.83203125,42658.27734375,43698.72265625,44739.16796875,45779.6171875,46820.0625,47860.50390625,48900.94921875,49941.3984375,50981.84375,52022.2890625,53062.73828125,54103.18359375,55143.62890625,56184.0703125,57224.51953125,58264.96484375,59305.41015625,60345.85546875,61386.3046875,62426.75,63467.19140625,64507.63671875,65548.0859375,66588.53125,67628.9765625,68669.421875,69709.8671875,70750.3125,71790.7578125,72831.203125,73871.6484375,74912.1015625,75952.546875,76992.9921875,78033.4375,79073.8828125,80114.328125,81154.765625,82195.2109375,83235.6640625,84276.109375,85316.5546875,86357.0,87397.4453125,88437.890625,89478.3359375,90518.7890625,91559.234375,92599.6796875,93640.125,94680.5703125,95721.0078125,96761.453125,97801.8984375,98842.3515625,99882.796875,100923.2421875,101963.6875,103004.1328125],\"xaxis\":\"x\",\"y\":[9600.0,9285.224609375,8970.4501953125,8655.673828125,8340.8984375,8026.123046875,7711.34765625,7620.48828125,7877.958984375,8135.427734375,8183.51171875,8041.86328125,7900.21484375,7758.564453125,7683.177734375,7635.166015625,7587.158203125,7539.1484375,7491.138671875,7443.134765625,7395.12109375,7347.1171875,7299.107421875,7251.09765625,7203.087890625,7155.080078125,7107.0703125,7059.0625,7011.0546875,6963.04296875,6915.033203125,6867.025390625,6819.015625,6771.0078125,6722.99609375,6664.99609375,6227.859375,5790.7265625,5353.58984375,4916.45703125,4479.3203125,4042.18359375,3605.05078125,3167.9140625,2730.77734375,2293.640625,1926.4296875,1819.7421875,1713.0546875,1931.36328125,1931.36328125,1931.36328125,1931.3671875,1931.35546875,1931.359375,1931.35546875,1931.3671875,1931.359375,1931.3671875,1931.36328125,1931.36328125,1931.35546875,1931.36328125,1931.359375,1931.359375,1931.359375,1931.359375,1931.36328125,1931.36328125,1931.36328125,1931.36328125,1931.36328125,1931.359375,1931.359375,1931.359375,1931.359375,1931.359375,1931.359375,1931.36328125,1931.36328125,1931.36328125,1931.36328125,1931.36328125,1931.36328125,1931.36328125,1931.36328125,1931.36328125,1931.359375,1931.359375,1931.36328125,1931.36328125,1931.36328125,1931.359375,1931.3671875,1931.359375,1931.359375,1931.359375,2116.0078125,2324.1015625,2532.1875],\"yaxis\":\"y\",\"type\":\"scatter\"}],\"layout\":{\"template\":{\"data\":{\"barpolar\":[{\"marker\":{\"line\":{\"color\":\"white\",\"width\":0.5},\"pattern\":{\"fillmode\":\"overlay\",\"size\":10,\"solidity\":0.2}},\"type\":\"barpolar\"}],\"bar\":[{\"error_x\":{\"color\":\"#2a3f5f\"},\"error_y\":{\"color\":\"#2a3f5f\"},\"marker\":{\"line\":{\"color\":\"white\",\"width\":0.5},\"pattern\":{\"fillmode\":\"overlay\",\"size\":10,\"solidity\":0.2}},\"type\":\"bar\"}],\"carpet\":[{\"aaxis\":{\"endlinecolor\":\"#2a3f5f\",\"gridcolor\":\"#C8D4E3\",\"linecolor\":\"#C8D4E3\",\"minorgridcolor\":\"#C8D4E3\",\"startlinecolor\":\"#2a3f5f\"},\"baxis\":{\"endlinecolor\":\"#2a3f5f\",\"gridcolor\":\"#C8D4E3\",\"linecolor\":\"#C8D4E3\",\"minorgridcolor\":\"#C8D4E3\",\"startlinecolor\":\"#2a3f5f\"},\"type\":\"carpet\"}],\"choropleth\":[{\"colorbar\":{\"outlinewidth\":0,\"ticks\":\"\"},\"type\":\"choropleth\"}],\"contourcarpet\":[{\"colorbar\":{\"outlinewidth\":0,\"ticks\":\"\"},\"type\":\"contourcarpet\"}],\"contour\":[{\"colorbar\":{\"outlinewidth\":0,\"ticks\":\"\"},\"colorscale\":[[0.0,\"#0d0887\"],[0.1111111111111111,\"#46039f\"],[0.2222222222222222,\"#7201a8\"],[0.3333333333333333,\"#9c179e\"],[0.4444444444444444,\"#bd3786\"],[0.5555555555555556,\"#d8576b\"],[0.6666666666666666,\"#ed7953\"],[0.7777777777777778,\"#fb9f3a\"],[0.8888888888888888,\"#fdca26\"],[1.0,\"#f0f921\"]],\"type\":\"contour\"}],\"heatmapgl\":[{\"colorbar\":{\"outlinewidth\":0,\"ticks\":\"\"},\"colorscale\":[[0.0,\"#0d0887\"],[0.1111111111111111,\"#46039f\"],[0.2222222222222222,\"#7201a8\"],[0.3333333333333333,\"#9c179e\"],[0.4444444444444444,\"#bd3786\"],[0.5555555555555556,\"#d8576b\"],[0.6666666666666666,\"#ed7953\"],[0.7777777777777778,\"#fb9f3a\"],[0.8888888888888888,\"#fdca26\"],[1.0,\"#f0f921\"]],\"type\":\"heatmapgl\"}],\"heatmap\":[{\"colorbar\":{\"outlinewidth\":0,\"ticks\":\"\"},\"colorscale\":[[0.0,\"#0d0887\"],[0.1111111111111111,\"#46039f\"],[0.2222222222222222,\"#7201a8\"],[0.3333333333333333,\"#9c179e\"],[0.4444444444444444,\"#bd3786\"],[0.5555555555555556,\"#d8576b\"],[0.6666666666666666,\"#ed7953\"],[0.7777777777777778,\"#fb9f3a\"],[0.8888888888888888,\"#fdca26\"],[1.0,\"#f0f921\"]],\"type\":\"heatmap\"}],\"histogram2dcontour\":[{\"colorbar\":{\"outlinewidth\":0,\"ticks\":\"\"},\"colorscale\":[[0.0,\"#0d0887\"],[0.1111111111111111,\"#46039f\"],[0.2222222222222222,\"#7201a8\"],[0.3333333333333333,\"#9c179e\"],[0.4444444444444444,\"#bd3786\"],[0.5555555555555556,\"#d8576b\"],[0.6666666666666666,\"#ed7953\"],[0.7777777777777778,\"#fb9f3a\"],[0.8888888888888888,\"#fdca26\"],[1.0,\"#f0f921\"]],\"type\":\"histogram2dcontour\"}],\"histogram2d\":[{\"colorbar\":{\"outlinewidth\":0,\"ticks\":\"\"},\"colorscale\":[[0.0,\"#0d0887\"],[0.1111111111111111,\"#46039f\"],[0.2222222222222222,\"#7201a8\"],[0.3333333333333333,\"#9c179e\"],[0.4444444444444444,\"#bd3786\"],[0.5555555555555556,\"#d8576b\"],[0.6666666666666666,\"#ed7953\"],[0.7777777777777778,\"#fb9f3a\"],[0.8888888888888888,\"#fdca26\"],[1.0,\"#f0f921\"]],\"type\":\"histogram2d\"}],\"histogram\":[{\"marker\":{\"pattern\":{\"fillmode\":\"overlay\",\"size\":10,\"solidity\":0.2}},\"type\":\"histogram\"}],\"mesh3d\":[{\"colorbar\":{\"outlinewidth\":0,\"ticks\":\"\"},\"type\":\"mesh3d\"}],\"parcoords\":[{\"line\":{\"colorbar\":{\"outlinewidth\":0,\"ticks\":\"\"}},\"type\":\"parcoords\"}],\"pie\":[{\"automargin\":true,\"type\":\"pie\"}],\"scatter3d\":[{\"line\":{\"colorbar\":{\"outlinewidth\":0,\"ticks\":\"\"}},\"marker\":{\"colorbar\":{\"outlinewidth\":0,\"ticks\":\"\"}},\"type\":\"scatter3d\"}],\"scattercarpet\":[{\"marker\":{\"colorbar\":{\"outlinewidth\":0,\"ticks\":\"\"}},\"type\":\"scattercarpet\"}],\"scattergeo\":[{\"marker\":{\"colorbar\":{\"outlinewidth\":0,\"ticks\":\"\"}},\"type\":\"scattergeo\"}],\"scattergl\":[{\"marker\":{\"colorbar\":{\"outlinewidth\":0,\"ticks\":\"\"}},\"type\":\"scattergl\"}],\"scattermapbox\":[{\"marker\":{\"colorbar\":{\"outlinewidth\":0,\"ticks\":\"\"}},\"type\":\"scattermapbox\"}],\"scatterpolargl\":[{\"marker\":{\"colorbar\":{\"outlinewidth\":0,\"ticks\":\"\"}},\"type\":\"scatterpolargl\"}],\"scatterpolar\":[{\"marker\":{\"colorbar\":{\"outlinewidth\":0,\"ticks\":\"\"}},\"type\":\"scatterpolar\"}],\"scatter\":[{\"fillpattern\":{\"fillmode\":\"overlay\",\"size\":10,\"solidity\":0.2},\"type\":\"scatter\"}],\"scatterternary\":[{\"marker\":{\"colorbar\":{\"outlinewidth\":0,\"ticks\":\"\"}},\"type\":\"scatterternary\"}],\"surface\":[{\"colorbar\":{\"outlinewidth\":0,\"ticks\":\"\"},\"colorscale\":[[0.0,\"#0d0887\"],[0.1111111111111111,\"#46039f\"],[0.2222222222222222,\"#7201a8\"],[0.3333333333333333,\"#9c179e\"],[0.4444444444444444,\"#bd3786\"],[0.5555555555555556,\"#d8576b\"],[0.6666666666666666,\"#ed7953\"],[0.7777777777777778,\"#fb9f3a\"],[0.8888888888888888,\"#fdca26\"],[1.0,\"#f0f921\"]],\"type\":\"surface\"}],\"table\":[{\"cells\":{\"fill\":{\"color\":\"#EBF0F8\"},\"line\":{\"color\":\"white\"}},\"header\":{\"fill\":{\"color\":\"#C8D4E3\"},\"line\":{\"color\":\"white\"}},\"type\":\"table\"}]},\"layout\":{\"annotationdefaults\":{\"arrowcolor\":\"#2a3f5f\",\"arrowhead\":0,\"arrowwidth\":1},\"autotypenumbers\":\"strict\",\"coloraxis\":{\"colorbar\":{\"outlinewidth\":0,\"ticks\":\"\"}},\"colorscale\":{\"diverging\":[[0,\"#8e0152\"],[0.1,\"#c51b7d\"],[0.2,\"#de77ae\"],[0.3,\"#f1b6da\"],[0.4,\"#fde0ef\"],[0.5,\"#f7f7f7\"],[0.6,\"#e6f5d0\"],[0.7,\"#b8e186\"],[0.8,\"#7fbc41\"],[0.9,\"#4d9221\"],[1,\"#276419\"]],\"sequential\":[[0.0,\"#0d0887\"],[0.1111111111111111,\"#46039f\"],[0.2222222222222222,\"#7201a8\"],[0.3333333333333333,\"#9c179e\"],[0.4444444444444444,\"#bd3786\"],[0.5555555555555556,\"#d8576b\"],[0.6666666666666666,\"#ed7953\"],[0.7777777777777778,\"#fb9f3a\"],[0.8888888888888888,\"#fdca26\"],[1.0,\"#f0f921\"]],\"sequentialminus\":[[0.0,\"#0d0887\"],[0.1111111111111111,\"#46039f\"],[0.2222222222222222,\"#7201a8\"],[0.3333333333333333,\"#9c179e\"],[0.4444444444444444,\"#bd3786\"],[0.5555555555555556,\"#d8576b\"],[0.6666666666666666,\"#ed7953\"],[0.7777777777777778,\"#fb9f3a\"],[0.8888888888888888,\"#fdca26\"],[1.0,\"#f0f921\"]]},\"colorway\":[\"#636efa\",\"#EF553B\",\"#00cc96\",\"#ab63fa\",\"#FFA15A\",\"#19d3f3\",\"#FF6692\",\"#B6E880\",\"#FF97FF\",\"#FECB52\"],\"font\":{\"color\":\"#2a3f5f\"},\"geo\":{\"bgcolor\":\"white\",\"lakecolor\":\"white\",\"landcolor\":\"white\",\"showlakes\":true,\"showland\":true,\"subunitcolor\":\"#C8D4E3\"},\"hoverlabel\":{\"align\":\"left\"},\"hovermode\":\"closest\",\"mapbox\":{\"style\":\"light\"},\"paper_bgcolor\":\"white\",\"plot_bgcolor\":\"white\",\"polar\":{\"angularaxis\":{\"gridcolor\":\"#EBF0F8\",\"linecolor\":\"#EBF0F8\",\"ticks\":\"\"},\"bgcolor\":\"white\",\"radialaxis\":{\"gridcolor\":\"#EBF0F8\",\"linecolor\":\"#EBF0F8\",\"ticks\":\"\"}},\"scene\":{\"xaxis\":{\"backgroundcolor\":\"white\",\"gridcolor\":\"#DFE8F3\",\"gridwidth\":2,\"linecolor\":\"#EBF0F8\",\"showbackground\":true,\"ticks\":\"\",\"zerolinecolor\":\"#EBF0F8\"},\"yaxis\":{\"backgroundcolor\":\"white\",\"gridcolor\":\"#DFE8F3\",\"gridwidth\":2,\"linecolor\":\"#EBF0F8\",\"showbackground\":true,\"ticks\":\"\",\"zerolinecolor\":\"#EBF0F8\"},\"zaxis\":{\"backgroundcolor\":\"white\",\"gridcolor\":\"#DFE8F3\",\"gridwidth\":2,\"linecolor\":\"#EBF0F8\",\"showbackground\":true,\"ticks\":\"\",\"zerolinecolor\":\"#EBF0F8\"}},\"shapedefaults\":{\"line\":{\"color\":\"#2a3f5f\"}},\"ternary\":{\"aaxis\":{\"gridcolor\":\"#DFE8F3\",\"linecolor\":\"#A2B1C6\",\"ticks\":\"\"},\"baxis\":{\"gridcolor\":\"#DFE8F3\",\"linecolor\":\"#A2B1C6\",\"ticks\":\"\"},\"bgcolor\":\"white\",\"caxis\":{\"gridcolor\":\"#DFE8F3\",\"linecolor\":\"#A2B1C6\",\"ticks\":\"\"}},\"title\":{\"x\":0.05},\"xaxis\":{\"automargin\":true,\"gridcolor\":\"#EBF0F8\",\"linecolor\":\"#EBF0F8\",\"ticks\":\"\",\"title\":{\"standoff\":15},\"zerolinecolor\":\"#EBF0F8\",\"zerolinewidth\":2},\"yaxis\":{\"automargin\":true,\"gridcolor\":\"#EBF0F8\",\"linecolor\":\"#EBF0F8\",\"ticks\":\"\",\"title\":{\"standoff\":15},\"zerolinecolor\":\"#EBF0F8\",\"zerolinewidth\":2}}},\"xaxis\":{\"anchor\":\"y\",\"domain\":[0.0,1.0],\"title\":{\"text\":\"Employment income\"},\"tickformat\":\",.0f\",\"tickprefix\":\"\\\\u00a3\"},\"yaxis\":{\"anchor\":\"x\",\"domain\":[0.0,1.0],\"title\":{\"text\":\"Change to annual net income\"},\"tickmode\":\"array\",\"tickvals\":[-20000,-15000,-10000,-5000,0,5000,10000,15000,20000],\"ticktext\":[\"-\\\\u00a320,000\",\"-\\\\u00a315,000\",\"-\\\\u00a310,000\",\"-\\\\u00a35,000\",\"\\\\u00a30\",\"+\\\\u00a35,000\",\"+\\\\u00a310,000\",\"+\\\\u00a315,000\",\"+\\\\u00a320,000\"],\"range\":[-25000,25000]},\"legend\":{\"title\":{\"text\":\"Policy\"},\"tracegroupgap\":0},\"margin\":{\"t\":60},\"title\":{\"text\":\"Figure 12: Change to annual net income by UBI policy and income (married couple, two children)\"},\"shapes\":[{\"line\":{\"color\":\"grey\",\"width\":1},\"type\":\"line\",\"x0\":0,\"x1\":1,\"xref\":\"paper\",\"y0\":0,\"y1\":0,\"yref\":\"y\"}],\"font\":{\"family\":\"Roboto Serif\",\"color\":\"black\"},\"images\":[{\"sizex\":0.2,\"sizey\":0.2,\"source\":\"https://raw.githubusercontent.com/PolicyEngine/policyengine-app/master/src/images/logos/policyengine/blue.png\",\"x\":1,\"xanchor\":\"right\",\"xref\":\"paper\",\"y\":-0.15,\"yanchor\":\"bottom\",\"yref\":\"paper\"}],\"height\":600,\"width\":800,\"modebar\":{\"bgcolor\":\"rgba(0,0,0,0)\",\"color\":\"rgba(0,0,0,0)\"}}}'"
      ]
     },
     "execution_count": 17,
     "metadata": {},
     "output_type": "execute_result"
    }
   ],
   "source": [
    "plot(H2, title=\"Figure 12: Change to annual net income by UBI policy and income (married couple, two children)\").to_json()"
   ]
  },
  {
   "cell_type": "markdown",
   "metadata": {},
   "source": [
    "For a pensioner couple, one of whom has income,[^11] the net impact of the basic income policies varies significantly with income, with regions of high gains and high losses. For households with income under £100,000, all of the policies leave them better off. This is primarily because Pension Credit insulates pensioners from Income Tax rises. The Guarantee Credit element of Pension Credit tops up pensioner incomes to a minimum level, and the income definition used means that pensioners are guaranteed to be better off: it deducts income tax payments (meaning that it shields from the tax rises in each policy) and does not include basic income payments. However, after pensioner income rises out of the range in which Guarantee Credit operates (around £12,500), the gains from the UBI policies diminish.\n",
    "\n",
    "\n",
    "[^11]:\n",
    "     We plot based on earnings, but net income responds similarly to earnings as State Pension."
   ]
  },
  {
   "cell_type": "code",
   "execution_count": 18,
   "metadata": {
    "tags": [
     "hide-input"
    ]
   },
   "outputs": [
    {
     "data": {
      "text/plain": [
       "'{\"data\":[{\"hovertemplate\":\"Policy=\\\\u00a3200/month<br>Earnings=%{x}<br>Net income=%{y}<extra></extra>\",\"legendgroup\":\"\\\\u00a3200/month\",\"line\":{\"color\":\"#D8E6F3\",\"dash\":\"solid\"},\"marker\":{\"symbol\":\"circle\"},\"mode\":\"lines\",\"name\":\"\\\\u00a3200/month\",\"orientation\":\"v\",\"showlegend\":true,\"x\":[0.0,1040.44580078125,2080.8916015625,3121.33740234375,4161.783203125,5202.22900390625,6242.6748046875,7283.12060546875,8323.56640625,9364.0126953125,10404.4580078125,11444.904296875,12485.349609375,13525.7958984375,14566.2412109375,15606.6875,16647.1328125,17687.578125,18728.025390625,19768.470703125,20808.916015625,21849.361328125,22889.80859375,23930.251953125,24970.69921875,26011.14453125,27051.591796875,28092.03515625,29132.482421875,30172.927734375,31213.375,32253.818359375,33294.265625,34334.7109375,35375.15625,36415.6015625,37456.05078125,38496.49609375,39536.94140625,40577.3828125,41617.83203125,42658.27734375,43698.72265625,44739.16796875,45779.6171875,46820.0625,47860.50390625,48900.94921875,49941.3984375,50981.84375,52022.2890625,53062.73828125,54103.18359375,55143.62890625,56184.0703125,57224.51953125,58264.96484375,59305.41015625,60345.85546875,61386.3046875,62426.75,63467.19140625,64507.63671875,65548.0859375,66588.53125,67628.9765625,68669.421875,69709.8671875,70750.3125,71790.7578125,72831.203125,73871.6484375,74912.1015625,75952.546875,76992.9921875,78033.4375,79073.8828125,80114.328125,81154.765625,82195.2109375,83235.6640625,84276.109375,85316.5546875,86357.0,87397.4453125,88437.890625,89478.3359375,90518.7890625,91559.234375,92599.6796875,93640.125,94680.5703125,95721.0078125,96761.453125,97801.8984375,98842.3515625,99882.796875,100923.2421875,101963.6875,103004.1328125],\"xaxis\":\"x\",\"y\":[4800.0,4800.0,4799.998046875,4800.0,4800.0,4800.0,4800.0,4800.0,4800.0,4800.0,4800.0,4800.0,4800.0,4521.0263671875,3985.1083984375,3485.6943359375,3277.421875,3157.75,2815.662109375,2473.57421875,2201.408203125,2186.16796875,2170.92578125,2155.685546875,2140.4453125,2125.203125,2109.962890625,2094.720703125,2079.482421875,2064.2421875,2049.0,2033.759765625,2018.517578125,2003.275390625,1988.03515625,1972.796875,1957.5546875,1942.3125,1927.0703125,1911.83203125,1896.58984375,1881.3515625,1866.109375,1850.8671875,1835.625,1820.38671875,1805.14453125,1789.90625,1774.6640625,1958.06640625,1927.58203125,1897.1015625,1866.62109375,1836.13671875,1805.65625,1775.17578125,1744.6953125,1714.2109375,1683.7265625,1653.25,1622.765625,1592.28125,1561.8046875,1531.3203125,1500.83984375,1470.35546875,1439.875,1409.390625,1378.91015625,1348.4296875,1317.94921875,1287.46484375,1256.98046875,1226.50390625,1196.015625,1165.5390625,1135.05859375,1104.57421875,1074.09375,1043.61328125,1013.12890625,982.6484375,952.1640625,921.68359375,891.203125,860.71875,830.2421875,799.7578125,769.2734375,738.7890625,708.3125,677.828125,647.34375,616.859375,586.3828125,555.90625,525.4140625,481.4140625,435.6953125,389.96875],\"yaxis\":\"y\",\"type\":\"scatter\"},{\"hovertemplate\":\"Policy=\\\\u00a3300/month<br>Earnings=%{x}<br>Net income=%{y}<extra></extra>\",\"legendgroup\":\"\\\\u00a3300/month\",\"line\":{\"color\":\"#2C6496\",\"dash\":\"solid\"},\"marker\":{\"symbol\":\"circle\"},\"mode\":\"lines\",\"name\":\"\\\\u00a3300/month\",\"orientation\":\"v\",\"showlegend\":true,\"x\":[0.0,1040.44580078125,2080.8916015625,3121.33740234375,4161.783203125,5202.22900390625,6242.6748046875,7283.12060546875,8323.56640625,9364.0126953125,10404.4580078125,11444.904296875,12485.349609375,13525.7958984375,14566.2412109375,15606.6875,16647.1328125,17687.578125,18728.025390625,19768.470703125,20808.916015625,21849.361328125,22889.80859375,23930.251953125,24970.69921875,26011.14453125,27051.591796875,28092.03515625,29132.482421875,30172.927734375,31213.375,32253.818359375,33294.265625,34334.7109375,35375.15625,36415.6015625,37456.05078125,38496.49609375,39536.94140625,40577.3828125,41617.83203125,42658.27734375,43698.72265625,44739.16796875,45779.6171875,46820.0625,47860.50390625,48900.94921875,49941.3984375,50981.84375,52022.2890625,53062.73828125,54103.18359375,55143.62890625,56184.0703125,57224.51953125,58264.96484375,59305.41015625,60345.85546875,61386.3046875,62426.75,63467.19140625,64507.63671875,65548.0859375,66588.53125,67628.9765625,68669.421875,69709.8671875,70750.3125,71790.7578125,72831.203125,73871.6484375,74912.1015625,75952.546875,76992.9921875,78033.4375,79073.8828125,80114.328125,81154.765625,82195.2109375,83235.6640625,84276.109375,85316.5546875,86357.0,87397.4453125,88437.890625,89478.3359375,90518.7890625,91559.234375,92599.6796875,93640.125,94680.5703125,95721.0078125,96761.453125,97801.8984375,98842.3515625,99882.796875,100923.2421875,101963.6875,103004.1328125],\"xaxis\":\"x\",\"y\":[7200.0,7200.0,7200.001953125,7200.0,7199.998046875,7199.998046875,7200.0,7200.0,7200.0,7200.0,7200.0,7199.998046875,7199.998046875,6921.0244140625,6385.1064453125,5885.6943359375,5386.279296875,4942.7734375,4581.177734375,4219.578125,3857.984375,3496.390625,3383.392578125,3335.638671875,3287.884765625,3240.12890625,3192.375,3144.619140625,3096.865234375,3049.111328125,3001.35546875,2953.6015625,2905.845703125,2858.08984375,2810.3359375,2762.58203125,2714.82421875,2667.0703125,2619.3125,2571.5625,2523.8046875,2476.05078125,2428.296875,2380.5390625,2332.78515625,2285.03125,2237.27734375,2189.5234375,2141.76953125,2346.01171875,2298.2578125,2250.5078125,2202.74609375,2154.9921875,2107.23828125,2059.484375,2011.734375,1963.97265625,1916.21875,1868.46875,1820.70703125,1772.953125,1725.20703125,1677.4453125,1629.69140625,1581.93359375,1534.18359375,1486.421875,1438.671875,1390.91796875,1343.16015625,1295.41015625,1247.65234375,1199.8984375,1152.140625,1104.38671875,1056.6328125,1008.87890625,961.125,913.3671875,865.61328125,817.859375,770.10546875,722.34765625,674.59375,626.84375,579.0859375,531.328125,483.578125,435.8125,388.0625,340.3125,292.546875,244.796875,197.046875,149.296875,101.5390625,238.4296875,398.7578125,559.09375],\"yaxis\":\"y\",\"type\":\"scatter\"},{\"hovertemplate\":\"Policy=\\\\u00a3400/month<br>Earnings=%{x}<br>Net income=%{y}<extra></extra>\",\"legendgroup\":\"\\\\u00a3400/month\",\"line\":{\"color\":\"#17354F\",\"dash\":\"solid\"},\"marker\":{\"symbol\":\"circle\"},\"mode\":\"lines\",\"name\":\"\\\\u00a3400/month\",\"orientation\":\"v\",\"showlegend\":true,\"x\":[0.0,1040.44580078125,2080.8916015625,3121.33740234375,4161.783203125,5202.22900390625,6242.6748046875,7283.12060546875,8323.56640625,9364.0126953125,10404.4580078125,11444.904296875,12485.349609375,13525.7958984375,14566.2412109375,15606.6875,16647.1328125,17687.578125,18728.025390625,19768.470703125,20808.916015625,21849.361328125,22889.80859375,23930.251953125,24970.69921875,26011.14453125,27051.591796875,28092.03515625,29132.482421875,30172.927734375,31213.375,32253.818359375,33294.265625,34334.7109375,35375.15625,36415.6015625,37456.05078125,38496.49609375,39536.94140625,40577.3828125,41617.83203125,42658.27734375,43698.72265625,44739.16796875,45779.6171875,46820.0625,47860.50390625,48900.94921875,49941.3984375,50981.84375,52022.2890625,53062.73828125,54103.18359375,55143.62890625,56184.0703125,57224.51953125,58264.96484375,59305.41015625,60345.85546875,61386.3046875,62426.75,63467.19140625,64507.63671875,65548.0859375,66588.53125,67628.9765625,68669.421875,69709.8671875,70750.3125,71790.7578125,72831.203125,73871.6484375,74912.1015625,75952.546875,76992.9921875,78033.4375,79073.8828125,80114.328125,81154.765625,82195.2109375,83235.6640625,84276.109375,85316.5546875,86357.0,87397.4453125,88437.890625,89478.3359375,90518.7890625,91559.234375,92599.6796875,93640.125,94680.5703125,95721.0078125,96761.453125,97801.8984375,98842.3515625,99882.796875,100923.2421875,101963.6875,103004.1328125],\"xaxis\":\"x\",\"y\":[9600.0,9600.0,9599.998046875,9600.001953125,9600.0,9600.0,9600.001953125,9600.0,9600.001953125,9599.998046875,9600.001953125,9599.998046875,9600.0,9321.0244140625,8785.1083984375,8285.6943359375,7786.279296875,7176.337890625,6344.716796875,5947.76171875,5550.806640625,5153.853515625,4756.896484375,4380.212890625,4273.529296875,4166.841796875,4060.15625,3953.46875,3846.783203125,3740.099609375,3633.41015625,3526.7265625,3420.037109375,3313.3515625,3206.6640625,3099.98046875,2993.29296875,2886.609375,2779.91796875,2673.234375,2566.546875,2459.86328125,2353.17578125,2246.484375,2139.80078125,2033.11328125,1926.4296875,1819.7421875,1713.05859375,1931.36328125,1931.359375,1931.36328125,1931.36328125,1931.359375,1931.36328125,1931.359375,1931.3671875,1931.35546875,1931.36328125,1931.36328125,1931.36328125,1931.359375,1931.36328125,1931.359375,1931.36328125,1931.36328125,1931.36328125,1931.359375,1931.359375,1931.36328125,1931.36328125,1931.36328125,1931.36328125,1931.36328125,1931.359375,1931.359375,1931.36328125,1931.36328125,1931.359375,1931.36328125,1931.359375,1931.36328125,1931.36328125,1931.36328125,1931.359375,1931.359375,1931.359375,1931.359375,1931.3671875,1931.359375,1931.359375,1931.359375,1931.359375,1931.359375,1931.359375,1931.3671875,1931.359375,2116.0078125,2324.1015625,2532.1875],\"yaxis\":\"y\",\"type\":\"scatter\"}],\"layout\":{\"template\":{\"data\":{\"barpolar\":[{\"marker\":{\"line\":{\"color\":\"white\",\"width\":0.5},\"pattern\":{\"fillmode\":\"overlay\",\"size\":10,\"solidity\":0.2}},\"type\":\"barpolar\"}],\"bar\":[{\"error_x\":{\"color\":\"#2a3f5f\"},\"error_y\":{\"color\":\"#2a3f5f\"},\"marker\":{\"line\":{\"color\":\"white\",\"width\":0.5},\"pattern\":{\"fillmode\":\"overlay\",\"size\":10,\"solidity\":0.2}},\"type\":\"bar\"}],\"carpet\":[{\"aaxis\":{\"endlinecolor\":\"#2a3f5f\",\"gridcolor\":\"#C8D4E3\",\"linecolor\":\"#C8D4E3\",\"minorgridcolor\":\"#C8D4E3\",\"startlinecolor\":\"#2a3f5f\"},\"baxis\":{\"endlinecolor\":\"#2a3f5f\",\"gridcolor\":\"#C8D4E3\",\"linecolor\":\"#C8D4E3\",\"minorgridcolor\":\"#C8D4E3\",\"startlinecolor\":\"#2a3f5f\"},\"type\":\"carpet\"}],\"choropleth\":[{\"colorbar\":{\"outlinewidth\":0,\"ticks\":\"\"},\"type\":\"choropleth\"}],\"contourcarpet\":[{\"colorbar\":{\"outlinewidth\":0,\"ticks\":\"\"},\"type\":\"contourcarpet\"}],\"contour\":[{\"colorbar\":{\"outlinewidth\":0,\"ticks\":\"\"},\"colorscale\":[[0.0,\"#0d0887\"],[0.1111111111111111,\"#46039f\"],[0.2222222222222222,\"#7201a8\"],[0.3333333333333333,\"#9c179e\"],[0.4444444444444444,\"#bd3786\"],[0.5555555555555556,\"#d8576b\"],[0.6666666666666666,\"#ed7953\"],[0.7777777777777778,\"#fb9f3a\"],[0.8888888888888888,\"#fdca26\"],[1.0,\"#f0f921\"]],\"type\":\"contour\"}],\"heatmapgl\":[{\"colorbar\":{\"outlinewidth\":0,\"ticks\":\"\"},\"colorscale\":[[0.0,\"#0d0887\"],[0.1111111111111111,\"#46039f\"],[0.2222222222222222,\"#7201a8\"],[0.3333333333333333,\"#9c179e\"],[0.4444444444444444,\"#bd3786\"],[0.5555555555555556,\"#d8576b\"],[0.6666666666666666,\"#ed7953\"],[0.7777777777777778,\"#fb9f3a\"],[0.8888888888888888,\"#fdca26\"],[1.0,\"#f0f921\"]],\"type\":\"heatmapgl\"}],\"heatmap\":[{\"colorbar\":{\"outlinewidth\":0,\"ticks\":\"\"},\"colorscale\":[[0.0,\"#0d0887\"],[0.1111111111111111,\"#46039f\"],[0.2222222222222222,\"#7201a8\"],[0.3333333333333333,\"#9c179e\"],[0.4444444444444444,\"#bd3786\"],[0.5555555555555556,\"#d8576b\"],[0.6666666666666666,\"#ed7953\"],[0.7777777777777778,\"#fb9f3a\"],[0.8888888888888888,\"#fdca26\"],[1.0,\"#f0f921\"]],\"type\":\"heatmap\"}],\"histogram2dcontour\":[{\"colorbar\":{\"outlinewidth\":0,\"ticks\":\"\"},\"colorscale\":[[0.0,\"#0d0887\"],[0.1111111111111111,\"#46039f\"],[0.2222222222222222,\"#7201a8\"],[0.3333333333333333,\"#9c179e\"],[0.4444444444444444,\"#bd3786\"],[0.5555555555555556,\"#d8576b\"],[0.6666666666666666,\"#ed7953\"],[0.7777777777777778,\"#fb9f3a\"],[0.8888888888888888,\"#fdca26\"],[1.0,\"#f0f921\"]],\"type\":\"histogram2dcontour\"}],\"histogram2d\":[{\"colorbar\":{\"outlinewidth\":0,\"ticks\":\"\"},\"colorscale\":[[0.0,\"#0d0887\"],[0.1111111111111111,\"#46039f\"],[0.2222222222222222,\"#7201a8\"],[0.3333333333333333,\"#9c179e\"],[0.4444444444444444,\"#bd3786\"],[0.5555555555555556,\"#d8576b\"],[0.6666666666666666,\"#ed7953\"],[0.7777777777777778,\"#fb9f3a\"],[0.8888888888888888,\"#fdca26\"],[1.0,\"#f0f921\"]],\"type\":\"histogram2d\"}],\"histogram\":[{\"marker\":{\"pattern\":{\"fillmode\":\"overlay\",\"size\":10,\"solidity\":0.2}},\"type\":\"histogram\"}],\"mesh3d\":[{\"colorbar\":{\"outlinewidth\":0,\"ticks\":\"\"},\"type\":\"mesh3d\"}],\"parcoords\":[{\"line\":{\"colorbar\":{\"outlinewidth\":0,\"ticks\":\"\"}},\"type\":\"parcoords\"}],\"pie\":[{\"automargin\":true,\"type\":\"pie\"}],\"scatter3d\":[{\"line\":{\"colorbar\":{\"outlinewidth\":0,\"ticks\":\"\"}},\"marker\":{\"colorbar\":{\"outlinewidth\":0,\"ticks\":\"\"}},\"type\":\"scatter3d\"}],\"scattercarpet\":[{\"marker\":{\"colorbar\":{\"outlinewidth\":0,\"ticks\":\"\"}},\"type\":\"scattercarpet\"}],\"scattergeo\":[{\"marker\":{\"colorbar\":{\"outlinewidth\":0,\"ticks\":\"\"}},\"type\":\"scattergeo\"}],\"scattergl\":[{\"marker\":{\"colorbar\":{\"outlinewidth\":0,\"ticks\":\"\"}},\"type\":\"scattergl\"}],\"scattermapbox\":[{\"marker\":{\"colorbar\":{\"outlinewidth\":0,\"ticks\":\"\"}},\"type\":\"scattermapbox\"}],\"scatterpolargl\":[{\"marker\":{\"colorbar\":{\"outlinewidth\":0,\"ticks\":\"\"}},\"type\":\"scatterpolargl\"}],\"scatterpolar\":[{\"marker\":{\"colorbar\":{\"outlinewidth\":0,\"ticks\":\"\"}},\"type\":\"scatterpolar\"}],\"scatter\":[{\"fillpattern\":{\"fillmode\":\"overlay\",\"size\":10,\"solidity\":0.2},\"type\":\"scatter\"}],\"scatterternary\":[{\"marker\":{\"colorbar\":{\"outlinewidth\":0,\"ticks\":\"\"}},\"type\":\"scatterternary\"}],\"surface\":[{\"colorbar\":{\"outlinewidth\":0,\"ticks\":\"\"},\"colorscale\":[[0.0,\"#0d0887\"],[0.1111111111111111,\"#46039f\"],[0.2222222222222222,\"#7201a8\"],[0.3333333333333333,\"#9c179e\"],[0.4444444444444444,\"#bd3786\"],[0.5555555555555556,\"#d8576b\"],[0.6666666666666666,\"#ed7953\"],[0.7777777777777778,\"#fb9f3a\"],[0.8888888888888888,\"#fdca26\"],[1.0,\"#f0f921\"]],\"type\":\"surface\"}],\"table\":[{\"cells\":{\"fill\":{\"color\":\"#EBF0F8\"},\"line\":{\"color\":\"white\"}},\"header\":{\"fill\":{\"color\":\"#C8D4E3\"},\"line\":{\"color\":\"white\"}},\"type\":\"table\"}]},\"layout\":{\"annotationdefaults\":{\"arrowcolor\":\"#2a3f5f\",\"arrowhead\":0,\"arrowwidth\":1},\"autotypenumbers\":\"strict\",\"coloraxis\":{\"colorbar\":{\"outlinewidth\":0,\"ticks\":\"\"}},\"colorscale\":{\"diverging\":[[0,\"#8e0152\"],[0.1,\"#c51b7d\"],[0.2,\"#de77ae\"],[0.3,\"#f1b6da\"],[0.4,\"#fde0ef\"],[0.5,\"#f7f7f7\"],[0.6,\"#e6f5d0\"],[0.7,\"#b8e186\"],[0.8,\"#7fbc41\"],[0.9,\"#4d9221\"],[1,\"#276419\"]],\"sequential\":[[0.0,\"#0d0887\"],[0.1111111111111111,\"#46039f\"],[0.2222222222222222,\"#7201a8\"],[0.3333333333333333,\"#9c179e\"],[0.4444444444444444,\"#bd3786\"],[0.5555555555555556,\"#d8576b\"],[0.6666666666666666,\"#ed7953\"],[0.7777777777777778,\"#fb9f3a\"],[0.8888888888888888,\"#fdca26\"],[1.0,\"#f0f921\"]],\"sequentialminus\":[[0.0,\"#0d0887\"],[0.1111111111111111,\"#46039f\"],[0.2222222222222222,\"#7201a8\"],[0.3333333333333333,\"#9c179e\"],[0.4444444444444444,\"#bd3786\"],[0.5555555555555556,\"#d8576b\"],[0.6666666666666666,\"#ed7953\"],[0.7777777777777778,\"#fb9f3a\"],[0.8888888888888888,\"#fdca26\"],[1.0,\"#f0f921\"]]},\"colorway\":[\"#636efa\",\"#EF553B\",\"#00cc96\",\"#ab63fa\",\"#FFA15A\",\"#19d3f3\",\"#FF6692\",\"#B6E880\",\"#FF97FF\",\"#FECB52\"],\"font\":{\"color\":\"#2a3f5f\"},\"geo\":{\"bgcolor\":\"white\",\"lakecolor\":\"white\",\"landcolor\":\"white\",\"showlakes\":true,\"showland\":true,\"subunitcolor\":\"#C8D4E3\"},\"hoverlabel\":{\"align\":\"left\"},\"hovermode\":\"closest\",\"mapbox\":{\"style\":\"light\"},\"paper_bgcolor\":\"white\",\"plot_bgcolor\":\"white\",\"polar\":{\"angularaxis\":{\"gridcolor\":\"#EBF0F8\",\"linecolor\":\"#EBF0F8\",\"ticks\":\"\"},\"bgcolor\":\"white\",\"radialaxis\":{\"gridcolor\":\"#EBF0F8\",\"linecolor\":\"#EBF0F8\",\"ticks\":\"\"}},\"scene\":{\"xaxis\":{\"backgroundcolor\":\"white\",\"gridcolor\":\"#DFE8F3\",\"gridwidth\":2,\"linecolor\":\"#EBF0F8\",\"showbackground\":true,\"ticks\":\"\",\"zerolinecolor\":\"#EBF0F8\"},\"yaxis\":{\"backgroundcolor\":\"white\",\"gridcolor\":\"#DFE8F3\",\"gridwidth\":2,\"linecolor\":\"#EBF0F8\",\"showbackground\":true,\"ticks\":\"\",\"zerolinecolor\":\"#EBF0F8\"},\"zaxis\":{\"backgroundcolor\":\"white\",\"gridcolor\":\"#DFE8F3\",\"gridwidth\":2,\"linecolor\":\"#EBF0F8\",\"showbackground\":true,\"ticks\":\"\",\"zerolinecolor\":\"#EBF0F8\"}},\"shapedefaults\":{\"line\":{\"color\":\"#2a3f5f\"}},\"ternary\":{\"aaxis\":{\"gridcolor\":\"#DFE8F3\",\"linecolor\":\"#A2B1C6\",\"ticks\":\"\"},\"baxis\":{\"gridcolor\":\"#DFE8F3\",\"linecolor\":\"#A2B1C6\",\"ticks\":\"\"},\"bgcolor\":\"white\",\"caxis\":{\"gridcolor\":\"#DFE8F3\",\"linecolor\":\"#A2B1C6\",\"ticks\":\"\"}},\"title\":{\"x\":0.05},\"xaxis\":{\"automargin\":true,\"gridcolor\":\"#EBF0F8\",\"linecolor\":\"#EBF0F8\",\"ticks\":\"\",\"title\":{\"standoff\":15},\"zerolinecolor\":\"#EBF0F8\",\"zerolinewidth\":2},\"yaxis\":{\"automargin\":true,\"gridcolor\":\"#EBF0F8\",\"linecolor\":\"#EBF0F8\",\"ticks\":\"\",\"title\":{\"standoff\":15},\"zerolinecolor\":\"#EBF0F8\",\"zerolinewidth\":2}}},\"xaxis\":{\"anchor\":\"y\",\"domain\":[0.0,1.0],\"title\":{\"text\":\"Employment income\"},\"tickformat\":\",.0f\",\"tickprefix\":\"\\\\u00a3\"},\"yaxis\":{\"anchor\":\"x\",\"domain\":[0.0,1.0],\"title\":{\"text\":\"Change to annual net income\"},\"tickmode\":\"array\",\"tickvals\":[-20000,-15000,-10000,-5000,0,5000,10000,15000,20000],\"ticktext\":[\"-\\\\u00a320,000\",\"-\\\\u00a315,000\",\"-\\\\u00a310,000\",\"-\\\\u00a35,000\",\"\\\\u00a30\",\"+\\\\u00a35,000\",\"+\\\\u00a310,000\",\"+\\\\u00a315,000\",\"+\\\\u00a320,000\"],\"range\":[-25000,25000]},\"legend\":{\"title\":{\"text\":\"Policy\"},\"tracegroupgap\":0},\"margin\":{\"t\":60},\"title\":{\"text\":\"Figure 13: Change to annual net income by UBI policy and income (pensioner couple, no children)\"},\"shapes\":[{\"line\":{\"color\":\"grey\",\"width\":1},\"type\":\"line\",\"x0\":0,\"x1\":1,\"xref\":\"paper\",\"y0\":0,\"y1\":0,\"yref\":\"y\"}],\"font\":{\"family\":\"Roboto Serif\",\"color\":\"black\"},\"images\":[{\"sizex\":0.2,\"sizey\":0.2,\"source\":\"https://raw.githubusercontent.com/PolicyEngine/policyengine-app/master/src/images/logos/policyengine/blue.png\",\"x\":1,\"xanchor\":\"right\",\"xref\":\"paper\",\"y\":-0.15,\"yanchor\":\"bottom\",\"yref\":\"paper\"}],\"height\":600,\"width\":800,\"modebar\":{\"bgcolor\":\"rgba(0,0,0,0)\",\"color\":\"rgba(0,0,0,0)\"}}}'"
      ]
     },
     "execution_count": 18,
     "metadata": {},
     "output_type": "execute_result"
    }
   ],
   "source": [
    "plot(H3, title=\"Figure 13: Change to annual net income by UBI policy and income (pensioner couple, no children)\").to_json()"
   ]
  },
  {
   "cell_type": "markdown",
   "metadata": {},
   "source": [
    "The appendix contains charts comparing the baseline and reform net incomes as values rather than differences.\n",
    "\n",
    "\n",
    "### Marginal tax rates\n",
    "\n",
    "The marginal tax rate (MTR) for a given pound of earnings is defined as the percentage which does not contribute to increasing net income, either by going to taxation instead or by causing a reduction in benefit entitlement. For example, if an earner faces a 20% MTR from taxes and a 15% MTR from benefits, their total MTR is 35% and they take home 65p for each additional £1 of earnings.\n",
    "\n",
    "Figure 14 shows the MTR associated with each earnings level for a married couple with two children:[^12] the higher the line at a given income, the lower the incentive to work. Where the MTR is 100%, this means that earning an additional pound will make no difference to net income. Where the MTR is above 100%, earning additional income at the margin will decrease the household’s net income. The interaction of the policies is complex: at different points, some UBI policies would reduce MTRs; at others, they would increase them. Broadly, MTRs rise across the earnings spectrum, but decrease in some specific areas. \n",
    "\n",
    "The first of these areas is at £50,270, the higher rate threshold. Under current law, the Marriage Allowance is a tax allowance that reduces tax liability by enabling couples to transfer some (10%) of their personal allowance between them. However, it is only available to couples with one earner under the higher rate threshold, which leads to a sudden increase in tax liability at that income level (creating an MTR over 100%, a ‘cliff’). All UBI policies reduce this cliff because they reduce or eliminate the personal allowance.\n",
    "\n",
    "The second is at £100,000. Under baseline policy, the personal allowance is phased out after this point at a rate of 50p per pound of income over the threshold. With no personal allowance, there is nothing to phase out, so the £300 per month and £400 per month UBI policies both eliminate this, reducing the MTR by 20pp.\n",
    "\n",
    "Overall, all policies substantially raise marginal tax rates in the main, and therefore disincentivise work relative to the status quo, while removing some extreme disincentives to work embedded in certain parts of the current tax code. \n",
    "\n",
    "\n",
    "[^12]:\n",
    "     We focus on the MTR for a married couple with two children because the differences between baseline and reform don't depend much on household structure. See the appendix for more MTR charts for different household archetypes."
   ]
  },
  {
   "cell_type": "code",
   "execution_count": 19,
   "metadata": {
    "tags": [
     "hide-input"
    ]
   },
   "outputs": [],
   "source": [
    "import plotly.express as px\n",
    "from policyengine_uk import Simulation\n",
    "import pandas as pd\n",
    "\n",
    "SINGLE_NO_CHILDREN = {\n",
    "    \"people\": {\n",
    "        \"adult\": {\n",
    "            \"age\": 25,\n",
    "        }\n",
    "    },\n",
    "    \"benunits\": {\n",
    "        \"benunit\": {\n",
    "            \"members\": [\"adult\"],\n",
    "            \"claims_legacy_benefits\": False,\n",
    "            \"claims_all_entitled_benefits\": True,\n",
    "        }\n",
    "    },\n",
    "    \"households\": {\n",
    "        \"household\": {\n",
    "            \"members\": [\"adult\"],\n",
    "            \"would_evade_tv_licence_fee\": False,\n",
    "            \"household_owns_tv\": True,\n",
    "        }\n",
    "    },\n",
    "    \"axes\": [[{\n",
    "        \"name\": \"employment_income\",\n",
    "        \"min\": 0,\n",
    "        \"max\": 150_000,\n",
    "        \"count\": 100,\n",
    "    }]],\n",
    "}\n",
    "\n",
    "MARRIED_TWO_CHILDREN = {\n",
    "    \"people\": {\n",
    "        \"adult_1\": {\n",
    "            \"age\": 31,\n",
    "        },\n",
    "        \"adult_2\": {\n",
    "            \"age\": 30,\n",
    "        },\n",
    "        \"child_1\": {\n",
    "            \"age\": 4,\n",
    "        },\n",
    "        \"child_2\": {\n",
    "            \"age\": 6,\n",
    "        },\n",
    "    },\n",
    "    \"benunits\": {\n",
    "        \"benunit\": {\n",
    "            \"members\": [\"adult_1\", \"adult_2\", \"child_1\", \"child_2\"],\n",
    "            \"claims_legacy_benefits\": False,\n",
    "            \"claims_all_entitled_benefits\": True,\n",
    "        }\n",
    "    },\n",
    "    \"households\": {\n",
    "        \"household\": {\n",
    "            \"members\": [\"adult_1\", \"adult_2\", \"child_1\", \"child_2\"],\n",
    "            \"would_evade_tv_licence_fee\": False,\n",
    "            \"household_owns_tv\": True,\n",
    "        }\n",
    "    },\n",
    "    \"axes\": [[{\n",
    "        \"name\": \"employment_income\",\n",
    "        \"min\": 0,\n",
    "        \"max\": 150_000,\n",
    "        \"count\": 100,\n",
    "    }]],\n",
    "}\n",
    "\n",
    "PENSIONER_COUPLE_NO_CHILDREN = {\n",
    "    \"people\": {\n",
    "        \"adult_1\": {\n",
    "            \"age\": 70,\n",
    "        },\n",
    "        \"adult_2\": {\n",
    "            \"age\": 71,\n",
    "        }\n",
    "    },\n",
    "    \"benunits\": {\n",
    "        \"benunit\": {\n",
    "            \"members\": [\"adult_1\", \"adult_2\"],\n",
    "            \"claims_legacy_benefits\": False,\n",
    "            \"claims_all_entitled_benefits\": True,\n",
    "        }\n",
    "    },\n",
    "    \"households\": {\n",
    "        \"household\": {\n",
    "            \"members\": [\"adult_1\", \"adult_2\"],\n",
    "            \"would_evade_tv_licence_fee\": False,\n",
    "            \"household_owns_tv\": True,\n",
    "        }\n",
    "    },\n",
    "    \"axes\": [[{\n",
    "        \"name\": \"employment_income\",\n",
    "        \"min\": 0,\n",
    "        \"max\": 150_000,\n",
    "        \"count\": 100,\n",
    "    }]],\n",
    "}\n",
    "dfs = []\n",
    "for reform, policy_name in zip([None, model_1_reform, model_2_reform, model_3_reform], [\"Baseline\", \"£200/month\", \"£300/month\", \"£400/month\"]):\n",
    "    for household_type, household_name in zip(\n",
    "        [SINGLE_NO_CHILDREN, MARRIED_TWO_CHILDREN, PENSIONER_COUPLE_NO_CHILDREN],\n",
    "        [\"Single adult, no children\", \"Married couple, two children\", \"Pensioner couple, no children\"],\n",
    "    ):\n",
    "        baseline_sim = Simulation(situation=household_type)\n",
    "        sim = Simulation(situation=household_type, reform=reform)\n",
    "        mtr = sim.calculate(\"marginal_tax_rate\", 2023)\n",
    "        mtr = mtr.reshape((100, -1)).T[0]\n",
    "        earnings = sim.calculate(\"employment_income\", map_to=\"household\", period=2023)\n",
    "        df = pd.DataFrame({\"Policy\": policy_name, \"Marginal tax rate\": mtr, \"Earnings\": earnings, \"Household type\": household_name})\n",
    "        dfs.append(df)\n",
    "\n",
    "mtr_df = pd.concat(dfs)"
   ]
  },
  {
   "cell_type": "code",
   "execution_count": 20,
   "metadata": {
    "tags": [
     "hide-input"
    ]
   },
   "outputs": [
    {
     "data": {
      "text/plain": [
       "'{\"data\":[{\"hovertemplate\":\"Policy=Baseline<br>Earnings=%{x}<br>Marginal tax rate=%{y}<extra></extra>\",\"legendgroup\":\"Baseline\",\"line\":{\"color\":\"#616161\",\"dash\":\"solid\",\"shape\":\"hv\"},\"marker\":{\"symbol\":\"circle\"},\"mode\":\"lines\",\"name\":\"Baseline\",\"orientation\":\"v\",\"showlegend\":true,\"x\":[0.0,1560.668701171875,3121.33740234375,4682.00634765625,6242.6748046875,7803.34375,9364.0126953125,10924.6806640625,12485.349609375,14046.017578125,15606.6875,17167.35546875,18728.025390625,20288.69140625,21849.361328125,23410.03125,24970.69921875,26531.369140625,28092.03515625,29652.705078125,31213.375,32774.04296875,34334.7109375,35895.37890625,37456.05078125,39016.71875,40577.3828125,42138.0546875,43698.72265625,45259.39453125,46820.0625,48380.7265625,49941.3984375,51502.06640625,53062.73828125,54623.40625,56184.0703125,57744.7421875,59305.41015625,60866.08203125,62426.75,63987.4140625,65548.0859375,67108.7578125,68669.421875,70230.09375,71790.7578125,73351.4296875,74912.1015625,76472.765625,78033.4375,79594.1015625,81154.765625,82715.4453125,84276.109375,85836.78125,87397.4453125,88958.109375,90518.7890625,92079.453125,93640.125,95200.7890625,96761.453125,98322.1328125,99882.796875,101443.46875,103004.1328125,104564.796875,106125.4765625,107686.140625,109246.8125,110807.4765625,112368.140625,113928.8203125,115489.484375,117050.15625,118610.8203125,120171.484375,121732.1640625,123292.828125,124853.5,126414.1640625,127974.828125,129535.5078125,131096.171875,132656.828125,134217.515625,135778.1875,137338.84375,138899.515625,140460.1875,142020.84375,143581.515625,145142.1875,146702.859375,148263.515625,149824.203125,151384.875,152945.53125,154506.203125],\"xaxis\":\"x\",\"y\":[0.0,9.5367431640625e-07,0.0,0.0,0.20166993141174316,0.550000011920929,0.550000011920929,0.550000011920929,0.5994316339492798,0.6940000057220459,0.6940000057220459,0.6940000057220459,0.6940000057220459,0.6940000057220459,0.6940000057220459,0.6940000057220459,0.6940000057220459,0.6940019130706787,0.6940000057220459,0.6939980387687683,0.6940000057220459,0.6940000057220459,0.6940000057220459,0.5045703053474426,0.3199999928474426,0.3199999928474426,0.3199999928474426,0.3199999928474426,0.3199999928474426,0.3199999928474426,0.3199999928474426,0.3199999928474426,0.8249843716621399,0.6209999918937683,0.6209999918937683,0.6210038661956787,0.6210038661956787,0.6209999918937683,0.5634297132492065,0.4325000047683716,0.4325000047683716,0.4325000047683716,0.4325000047683716,0.4325000047683716,0.4325000047683716,0.4325000047683716,0.4324960708618164,0.4325000047683716,0.4325000047683716,0.4325000047683716,0.4325000047683716,0.432503879070282,0.4325000047683716,0.4325000047683716,0.4325000047683716,0.4325000047683716,0.4324960708618164,0.4325000047683716,0.4325000047683716,0.4325000047683716,0.4325000047683716,0.4325000047683716,0.4325000047683716,0.43250781297683716,0.6090624928474426,0.6324999928474426,0.6325078010559082,0.6324999928474426,0.6324999928474426,0.6324999928474426,0.6324999928474426,0.6324999928474426,0.6324999928474426,0.6325078010559082,0.6324999928474426,0.6324999928474426,0.6324999928474426,0.6324999928474426,0.6324999928474426,0.6324999928474426,0.5254765748977661,0.48250001668930054,0.48250001668930054,0.48250001668930054,0.48250001668930054,0.48250001668930054,0.48250001668930054,0.48250001668930054,0.48250001668930054,0.48250001668930054,0.48250001668930054,0.48250001668930054,0.48250001668930054,0.48250001668930054,0.48250001668930054,0.48250001668930054,0.48250001668930054,0.48250001668930054,0.48250001668930054,0.48250001668930054],\"yaxis\":\"y\",\"type\":\"scatter\"},{\"hovertemplate\":\"Policy=\\\\u00a3200/month<br>Earnings=%{x}<br>Marginal tax rate=%{y}<extra></extra>\",\"legendgroup\":\"\\\\u00a3200/month\",\"line\":{\"color\":\"#D8E6F3\",\"dash\":\"solid\",\"shape\":\"hv\"},\"marker\":{\"symbol\":\"circle\"},\"mode\":\"lines\",\"name\":\"\\\\u00a3200/month\",\"orientation\":\"v\",\"showlegend\":true,\"x\":[0.0,1560.668701171875,3121.33740234375,4682.00634765625,6242.6748046875,7803.34375,9364.0126953125,10924.6806640625,12485.349609375,14046.017578125,15606.6875,17167.35546875,18728.025390625,20288.69140625,21849.361328125,23410.03125,24970.69921875,26531.369140625,28092.03515625,29652.705078125,31213.375,32774.04296875,34334.7109375,35895.37890625,37456.05078125,39016.71875,40577.3828125,42138.0546875,43698.72265625,45259.39453125,46820.0625,48380.7265625,49941.3984375,51502.06640625,53062.73828125,54623.40625,56184.0703125,57744.7421875,59305.41015625,60866.08203125,62426.75,63987.4140625,65548.0859375,67108.7578125,68669.421875,70230.09375,71790.7578125,73351.4296875,74912.1015625,76472.765625,78033.4375,79594.1015625,81154.765625,82715.4453125,84276.109375,85836.78125,87397.4453125,88958.109375,90518.7890625,92079.453125,93640.125,95200.7890625,96761.453125,98322.1328125,99882.796875,101443.46875,103004.1328125,104564.796875,106125.4765625,107686.140625,109246.8125,110807.4765625,112368.140625,113928.8203125,115489.484375,117050.15625,118610.8203125,120171.484375,121732.1640625,123292.828125,124853.5,126414.1640625,127974.828125,129535.5078125,131096.171875,132656.828125,134217.515625,135778.1875,137338.84375,138899.515625,140460.1875,142020.84375,143581.515625,145142.1875,146702.859375,148263.515625,149824.203125,151384.875,152945.53125,154506.203125],\"xaxis\":\"x\",\"y\":[0.0,0.07741600275039673,0.21464842557907104,0.21464842557907104,0.21464842557907104,0.4951211214065552,0.6465937495231628,0.6465898752212524,0.6960214972496033,0.7005918025970459,0.7005937099456787,0.7005937099456787,0.7005937099456787,0.7005898356437683,0.7005898356437683,0.7005937099456787,0.7005898356437683,0.7005937099456787,0.7005937099456787,0.7005898356437683,0.7005898356437683,0.7005898356437683,0.7005937099456787,0.7005937099456787,0.7005937099456787,0.7005937099456787,0.35664063692092896,0.3346484303474426,0.3346484303474426,0.3346484303474426,0.3346484303474426,0.3346484303474426,0.6403984427452087,0.6502968668937683,0.6502968668937683,0.6502968668937683,0.6503007411956787,0.6503007411956787,0.5927265882492065,0.4617968797683716,0.4617968797683716,0.461800754070282,0.4617968797683716,0.461800754070282,0.4617968797683716,0.461800754070282,0.4617929458618164,0.461800754070282,0.4617968797683716,0.4617968797683716,0.4617929458618164,0.4617968797683716,0.4617968797683716,0.4617968797683716,0.4617968797683716,0.4617968797683716,0.4617968797683716,0.4617968797683716,0.4617968797683716,0.4617968797683716,0.4617968797683716,0.4617968797683716,0.4617968797683716,0.4617968797683716,0.6512812376022339,0.676437497138977,0.6755625009536743,0.4617968797683716,0.4617968797683716,0.4617968797683716,0.4617968797683716,0.4617968797683716,0.4617968797683716,0.4617968797683716,0.4617968797683716,0.4617968797683716,0.4617968797683716,0.46180468797683716,0.4617968797683716,0.4617968797683716,0.49747657775878906,0.5117968320846558,0.5117968320846558,0.5117968320846558,0.5117968320846558,0.5118046998977661,0.5117968320846558,0.5117968320846558,0.5117968320846558,0.5117968320846558,0.5117968320846558,0.5117968320846558,0.5117968320846558,0.5117968320846558,0.5117968320846558,0.5117968320846558,0.5117968320846558,0.5117968320846558,0.5117968320846558,0.5117968320846558],\"yaxis\":\"y\",\"type\":\"scatter\"},{\"hovertemplate\":\"Policy=\\\\u00a3300/month<br>Earnings=%{x}<br>Marginal tax rate=%{y}<extra></extra>\",\"legendgroup\":\"\\\\u00a3300/month\",\"line\":{\"color\":\"#2C6496\",\"dash\":\"solid\",\"shape\":\"hv\"},\"marker\":{\"symbol\":\"circle\"},\"mode\":\"lines\",\"name\":\"\\\\u00a3300/month\",\"orientation\":\"v\",\"showlegend\":true,\"x\":[0.0,1560.668701171875,3121.33740234375,4682.00634765625,6242.6748046875,7803.34375,9364.0126953125,10924.6806640625,12485.349609375,14046.017578125,15606.6875,17167.35546875,18728.025390625,20288.69140625,21849.361328125,23410.03125,24970.69921875,26531.369140625,28092.03515625,29652.705078125,31213.375,32774.04296875,34334.7109375,35895.37890625,37456.05078125,39016.71875,40577.3828125,42138.0546875,43698.72265625,45259.39453125,46820.0625,48380.7265625,49941.3984375,51502.06640625,53062.73828125,54623.40625,56184.0703125,57744.7421875,59305.41015625,60866.08203125,62426.75,63987.4140625,65548.0859375,67108.7578125,68669.421875,70230.09375,71790.7578125,73351.4296875,74912.1015625,76472.765625,78033.4375,79594.1015625,81154.765625,82715.4453125,84276.109375,85836.78125,87397.4453125,88958.109375,90518.7890625,92079.453125,93640.125,95200.7890625,96761.453125,98322.1328125,99882.796875,101443.46875,103004.1328125,104564.796875,106125.4765625,107686.140625,109246.8125,110807.4765625,112368.140625,113928.8203125,115489.484375,117050.15625,118610.8203125,120171.484375,121732.1640625,123292.828125,124853.5,126414.1640625,127974.828125,129535.5078125,131096.171875,132656.828125,134217.515625,135778.1875,137338.84375,138899.515625,140460.1875,142020.84375,143581.515625,145142.1875,146702.859375,148263.515625,149824.203125,151384.875,152945.53125,154506.203125],\"xaxis\":\"x\",\"y\":[0.24589842557907104,0.24589842557907104,0.24589842557907104,0.24589842557907104,0.24589842557907104,0.24589842557907104,0.660656213760376,0.6606523394584656,0.7100839614868164,0.7146562337875366,0.7146562337875366,0.7146562337875366,0.7146522998809814,0.7146522998809814,0.7146522998809814,0.7146543264389038,0.7146562337875366,0.7146522998809814,0.7146562337875366,0.714648425579071,0.7146562337875366,0.7146522998809814,0.7146562337875366,0.7146562337875366,0.7146562337875366,0.7146522998809814,0.7146522998809814,0.7146522998809814,0.3658984303474426,0.3658984303474426,0.3658984303474426,0.3658984303474426,0.6188827753067017,0.6668984293937683,0.6668984293937683,0.6668984293937683,0.6668984293937683,0.6669023036956787,0.6093281507492065,0.478402316570282,0.4783984422683716,0.478402316570282,0.4783984422683716,0.478402316570282,0.4783984422683716,0.478402316570282,0.4783984422683716,0.478402316570282,0.4783945083618164,0.478402316570282,0.4783945083618164,0.4783984422683716,0.4783984422683716,0.4783984422683716,0.478402316570282,0.4783984422683716,0.4783984422683716,0.478402316570282,0.4783984422683716,0.4783984422683716,0.4783984422683716,0.4783984422683716,0.478402316570282,0.478390634059906,0.4783984422683716,0.4783984422683716,0.4783984422683716,0.47840625047683716,0.478390634059906,0.4783984422683716,0.4783984422683716,0.478390634059906,0.4783984422683716,0.4783984422683716,0.4783984422683716,0.4783984422683716,0.478390634059906,0.4783984422683716,0.47841405868530273,0.4783984422683716,0.5140702724456787,0.5283983945846558,0.5284062623977661,0.528390645980835,0.5284062623977661,0.5283983945846558,0.5283983945846558,0.5283983945846558,0.528390645980835,0.5283983945846558,0.5283983945846558,0.5283983945846558,0.5284062623977661,0.5283983945846558,0.5283983945846558,0.5283983945846558,0.5283983945846558,0.5283983945846558,0.5283983945846558,0.5283983945846558],\"yaxis\":\"y\",\"type\":\"scatter\"},{\"hovertemplate\":\"Policy=\\\\u00a3400/month<br>Earnings=%{x}<br>Marginal tax rate=%{y}<extra></extra>\",\"legendgroup\":\"\\\\u00a3400/month\",\"line\":{\"color\":\"#17354F\",\"dash\":\"solid\",\"shape\":\"hv\"},\"marker\":{\"symbol\":\"circle\"},\"mode\":\"lines\",\"name\":\"\\\\u00a3400/month\",\"orientation\":\"v\",\"showlegend\":true,\"x\":[0.0,1560.668701171875,3121.33740234375,4682.00634765625,6242.6748046875,7803.34375,9364.0126953125,10924.6806640625,12485.349609375,14046.017578125,15606.6875,17167.35546875,18728.025390625,20288.69140625,21849.361328125,23410.03125,24970.69921875,26531.369140625,28092.03515625,29652.705078125,31213.375,32774.04296875,34334.7109375,35895.37890625,37456.05078125,39016.71875,40577.3828125,42138.0546875,43698.72265625,45259.39453125,46820.0625,48380.7265625,49941.3984375,51502.06640625,53062.73828125,54623.40625,56184.0703125,57744.7421875,59305.41015625,60866.08203125,62426.75,63987.4140625,65548.0859375,67108.7578125,68669.421875,70230.09375,71790.7578125,73351.4296875,74912.1015625,76472.765625,78033.4375,79594.1015625,81154.765625,82715.4453125,84276.109375,85836.78125,87397.4453125,88958.109375,90518.7890625,92079.453125,93640.125,95200.7890625,96761.453125,98322.1328125,99882.796875,101443.46875,103004.1328125,104564.796875,106125.4765625,107686.140625,109246.8125,110807.4765625,112368.140625,113928.8203125,115489.484375,117050.15625,118610.8203125,120171.484375,121732.1640625,123292.828125,124853.5,126414.1640625,127974.828125,129535.5078125,131096.171875,132656.828125,134217.515625,135778.1875,137338.84375,138899.515625,140460.1875,142020.84375,143581.515625,145142.1875,146702.859375,148263.515625,149824.203125,151384.875,152945.53125,154506.203125],\"xaxis\":\"x\",\"y\":[0.30253905057907104,0.30253905057907104,0.30253905057907104,0.30253905057907104,0.30253905057907104,0.30253905057907104,0.49641406536102295,0.6861406564712524,0.7355761528015137,0.7401406168937683,0.7401444911956787,0.7401465177536011,0.7401406168937683,0.7401406168937683,0.7401444911956787,0.7401406168937683,0.7401444911956787,0.7401406168937683,0.7401406168937683,0.7401444911956787,0.7401406168937683,0.7401406168937683,0.7401444911956787,0.7401444911956787,0.7401444911956787,0.7401406168937683,0.7401444911956787,0.7401406168937683,0.7401484251022339,0.7401406168937683,0.6830663681030273,0.4225390553474426,0.6066796779632568,0.6209999918937683,0.6210078001022339,0.6209999918937683,0.6209999918937683,0.6209999918937683,0.5634297132492065,0.4325000047683716,0.4325000047683716,0.4325000047683716,0.4325000047683716,0.432503879070282,0.4325000047683716,0.432503879070282,0.4325000047683716,0.4325000047683716,0.4324960708618164,0.4325000047683716,0.4325000047683716,0.4325000047683716,0.4325000047683716,0.432503879070282,0.4325000047683716,0.4325000047683716,0.4324960708618164,0.432503879070282,0.4325000047683716,0.4325000047683716,0.4325000047683716,0.4325000047683716,0.43250781297683716,0.4325000047683716,0.4325000047683716,0.43250781297683716,0.43250781297683716,0.4325000047683716,0.4325000047683716,0.43250781297683716,0.4325000047683716,0.4325000047683716,0.4325000047683716,0.43250781297683716,0.4325000047683716,0.4325000047683716,0.43250781297683716,0.4325000047683716,0.43250781297683716,0.4325000047683716,0.46817970275878906,0.4825078248977661,0.48250001668930054,0.48250001668930054,0.48250001668930054,0.48250001668930054,0.48250001668930054,0.48250001668930054,0.48250001668930054,0.48250001668930054,0.48250001668930054,0.48250001668930054,0.48250001668930054,0.48250001668930054,0.48250001668930054,0.48249220848083496,0.48250001668930054,0.48250001668930054,0.48250001668930054,0.48250001668930054],\"yaxis\":\"y\",\"type\":\"scatter\"}],\"layout\":{\"template\":{\"data\":{\"barpolar\":[{\"marker\":{\"line\":{\"color\":\"white\",\"width\":0.5},\"pattern\":{\"fillmode\":\"overlay\",\"size\":10,\"solidity\":0.2}},\"type\":\"barpolar\"}],\"bar\":[{\"error_x\":{\"color\":\"#2a3f5f\"},\"error_y\":{\"color\":\"#2a3f5f\"},\"marker\":{\"line\":{\"color\":\"white\",\"width\":0.5},\"pattern\":{\"fillmode\":\"overlay\",\"size\":10,\"solidity\":0.2}},\"type\":\"bar\"}],\"carpet\":[{\"aaxis\":{\"endlinecolor\":\"#2a3f5f\",\"gridcolor\":\"#C8D4E3\",\"linecolor\":\"#C8D4E3\",\"minorgridcolor\":\"#C8D4E3\",\"startlinecolor\":\"#2a3f5f\"},\"baxis\":{\"endlinecolor\":\"#2a3f5f\",\"gridcolor\":\"#C8D4E3\",\"linecolor\":\"#C8D4E3\",\"minorgridcolor\":\"#C8D4E3\",\"startlinecolor\":\"#2a3f5f\"},\"type\":\"carpet\"}],\"choropleth\":[{\"colorbar\":{\"outlinewidth\":0,\"ticks\":\"\"},\"type\":\"choropleth\"}],\"contourcarpet\":[{\"colorbar\":{\"outlinewidth\":0,\"ticks\":\"\"},\"type\":\"contourcarpet\"}],\"contour\":[{\"colorbar\":{\"outlinewidth\":0,\"ticks\":\"\"},\"colorscale\":[[0.0,\"#0d0887\"],[0.1111111111111111,\"#46039f\"],[0.2222222222222222,\"#7201a8\"],[0.3333333333333333,\"#9c179e\"],[0.4444444444444444,\"#bd3786\"],[0.5555555555555556,\"#d8576b\"],[0.6666666666666666,\"#ed7953\"],[0.7777777777777778,\"#fb9f3a\"],[0.8888888888888888,\"#fdca26\"],[1.0,\"#f0f921\"]],\"type\":\"contour\"}],\"heatmapgl\":[{\"colorbar\":{\"outlinewidth\":0,\"ticks\":\"\"},\"colorscale\":[[0.0,\"#0d0887\"],[0.1111111111111111,\"#46039f\"],[0.2222222222222222,\"#7201a8\"],[0.3333333333333333,\"#9c179e\"],[0.4444444444444444,\"#bd3786\"],[0.5555555555555556,\"#d8576b\"],[0.6666666666666666,\"#ed7953\"],[0.7777777777777778,\"#fb9f3a\"],[0.8888888888888888,\"#fdca26\"],[1.0,\"#f0f921\"]],\"type\":\"heatmapgl\"}],\"heatmap\":[{\"colorbar\":{\"outlinewidth\":0,\"ticks\":\"\"},\"colorscale\":[[0.0,\"#0d0887\"],[0.1111111111111111,\"#46039f\"],[0.2222222222222222,\"#7201a8\"],[0.3333333333333333,\"#9c179e\"],[0.4444444444444444,\"#bd3786\"],[0.5555555555555556,\"#d8576b\"],[0.6666666666666666,\"#ed7953\"],[0.7777777777777778,\"#fb9f3a\"],[0.8888888888888888,\"#fdca26\"],[1.0,\"#f0f921\"]],\"type\":\"heatmap\"}],\"histogram2dcontour\":[{\"colorbar\":{\"outlinewidth\":0,\"ticks\":\"\"},\"colorscale\":[[0.0,\"#0d0887\"],[0.1111111111111111,\"#46039f\"],[0.2222222222222222,\"#7201a8\"],[0.3333333333333333,\"#9c179e\"],[0.4444444444444444,\"#bd3786\"],[0.5555555555555556,\"#d8576b\"],[0.6666666666666666,\"#ed7953\"],[0.7777777777777778,\"#fb9f3a\"],[0.8888888888888888,\"#fdca26\"],[1.0,\"#f0f921\"]],\"type\":\"histogram2dcontour\"}],\"histogram2d\":[{\"colorbar\":{\"outlinewidth\":0,\"ticks\":\"\"},\"colorscale\":[[0.0,\"#0d0887\"],[0.1111111111111111,\"#46039f\"],[0.2222222222222222,\"#7201a8\"],[0.3333333333333333,\"#9c179e\"],[0.4444444444444444,\"#bd3786\"],[0.5555555555555556,\"#d8576b\"],[0.6666666666666666,\"#ed7953\"],[0.7777777777777778,\"#fb9f3a\"],[0.8888888888888888,\"#fdca26\"],[1.0,\"#f0f921\"]],\"type\":\"histogram2d\"}],\"histogram\":[{\"marker\":{\"pattern\":{\"fillmode\":\"overlay\",\"size\":10,\"solidity\":0.2}},\"type\":\"histogram\"}],\"mesh3d\":[{\"colorbar\":{\"outlinewidth\":0,\"ticks\":\"\"},\"type\":\"mesh3d\"}],\"parcoords\":[{\"line\":{\"colorbar\":{\"outlinewidth\":0,\"ticks\":\"\"}},\"type\":\"parcoords\"}],\"pie\":[{\"automargin\":true,\"type\":\"pie\"}],\"scatter3d\":[{\"line\":{\"colorbar\":{\"outlinewidth\":0,\"ticks\":\"\"}},\"marker\":{\"colorbar\":{\"outlinewidth\":0,\"ticks\":\"\"}},\"type\":\"scatter3d\"}],\"scattercarpet\":[{\"marker\":{\"colorbar\":{\"outlinewidth\":0,\"ticks\":\"\"}},\"type\":\"scattercarpet\"}],\"scattergeo\":[{\"marker\":{\"colorbar\":{\"outlinewidth\":0,\"ticks\":\"\"}},\"type\":\"scattergeo\"}],\"scattergl\":[{\"marker\":{\"colorbar\":{\"outlinewidth\":0,\"ticks\":\"\"}},\"type\":\"scattergl\"}],\"scattermapbox\":[{\"marker\":{\"colorbar\":{\"outlinewidth\":0,\"ticks\":\"\"}},\"type\":\"scattermapbox\"}],\"scatterpolargl\":[{\"marker\":{\"colorbar\":{\"outlinewidth\":0,\"ticks\":\"\"}},\"type\":\"scatterpolargl\"}],\"scatterpolar\":[{\"marker\":{\"colorbar\":{\"outlinewidth\":0,\"ticks\":\"\"}},\"type\":\"scatterpolar\"}],\"scatter\":[{\"fillpattern\":{\"fillmode\":\"overlay\",\"size\":10,\"solidity\":0.2},\"type\":\"scatter\"}],\"scatterternary\":[{\"marker\":{\"colorbar\":{\"outlinewidth\":0,\"ticks\":\"\"}},\"type\":\"scatterternary\"}],\"surface\":[{\"colorbar\":{\"outlinewidth\":0,\"ticks\":\"\"},\"colorscale\":[[0.0,\"#0d0887\"],[0.1111111111111111,\"#46039f\"],[0.2222222222222222,\"#7201a8\"],[0.3333333333333333,\"#9c179e\"],[0.4444444444444444,\"#bd3786\"],[0.5555555555555556,\"#d8576b\"],[0.6666666666666666,\"#ed7953\"],[0.7777777777777778,\"#fb9f3a\"],[0.8888888888888888,\"#fdca26\"],[1.0,\"#f0f921\"]],\"type\":\"surface\"}],\"table\":[{\"cells\":{\"fill\":{\"color\":\"#EBF0F8\"},\"line\":{\"color\":\"white\"}},\"header\":{\"fill\":{\"color\":\"#C8D4E3\"},\"line\":{\"color\":\"white\"}},\"type\":\"table\"}]},\"layout\":{\"annotationdefaults\":{\"arrowcolor\":\"#2a3f5f\",\"arrowhead\":0,\"arrowwidth\":1},\"autotypenumbers\":\"strict\",\"coloraxis\":{\"colorbar\":{\"outlinewidth\":0,\"ticks\":\"\"}},\"colorscale\":{\"diverging\":[[0,\"#8e0152\"],[0.1,\"#c51b7d\"],[0.2,\"#de77ae\"],[0.3,\"#f1b6da\"],[0.4,\"#fde0ef\"],[0.5,\"#f7f7f7\"],[0.6,\"#e6f5d0\"],[0.7,\"#b8e186\"],[0.8,\"#7fbc41\"],[0.9,\"#4d9221\"],[1,\"#276419\"]],\"sequential\":[[0.0,\"#0d0887\"],[0.1111111111111111,\"#46039f\"],[0.2222222222222222,\"#7201a8\"],[0.3333333333333333,\"#9c179e\"],[0.4444444444444444,\"#bd3786\"],[0.5555555555555556,\"#d8576b\"],[0.6666666666666666,\"#ed7953\"],[0.7777777777777778,\"#fb9f3a\"],[0.8888888888888888,\"#fdca26\"],[1.0,\"#f0f921\"]],\"sequentialminus\":[[0.0,\"#0d0887\"],[0.1111111111111111,\"#46039f\"],[0.2222222222222222,\"#7201a8\"],[0.3333333333333333,\"#9c179e\"],[0.4444444444444444,\"#bd3786\"],[0.5555555555555556,\"#d8576b\"],[0.6666666666666666,\"#ed7953\"],[0.7777777777777778,\"#fb9f3a\"],[0.8888888888888888,\"#fdca26\"],[1.0,\"#f0f921\"]]},\"colorway\":[\"#636efa\",\"#EF553B\",\"#00cc96\",\"#ab63fa\",\"#FFA15A\",\"#19d3f3\",\"#FF6692\",\"#B6E880\",\"#FF97FF\",\"#FECB52\"],\"font\":{\"color\":\"#2a3f5f\"},\"geo\":{\"bgcolor\":\"white\",\"lakecolor\":\"white\",\"landcolor\":\"white\",\"showlakes\":true,\"showland\":true,\"subunitcolor\":\"#C8D4E3\"},\"hoverlabel\":{\"align\":\"left\"},\"hovermode\":\"closest\",\"mapbox\":{\"style\":\"light\"},\"paper_bgcolor\":\"white\",\"plot_bgcolor\":\"white\",\"polar\":{\"angularaxis\":{\"gridcolor\":\"#EBF0F8\",\"linecolor\":\"#EBF0F8\",\"ticks\":\"\"},\"bgcolor\":\"white\",\"radialaxis\":{\"gridcolor\":\"#EBF0F8\",\"linecolor\":\"#EBF0F8\",\"ticks\":\"\"}},\"scene\":{\"xaxis\":{\"backgroundcolor\":\"white\",\"gridcolor\":\"#DFE8F3\",\"gridwidth\":2,\"linecolor\":\"#EBF0F8\",\"showbackground\":true,\"ticks\":\"\",\"zerolinecolor\":\"#EBF0F8\"},\"yaxis\":{\"backgroundcolor\":\"white\",\"gridcolor\":\"#DFE8F3\",\"gridwidth\":2,\"linecolor\":\"#EBF0F8\",\"showbackground\":true,\"ticks\":\"\",\"zerolinecolor\":\"#EBF0F8\"},\"zaxis\":{\"backgroundcolor\":\"white\",\"gridcolor\":\"#DFE8F3\",\"gridwidth\":2,\"linecolor\":\"#EBF0F8\",\"showbackground\":true,\"ticks\":\"\",\"zerolinecolor\":\"#EBF0F8\"}},\"shapedefaults\":{\"line\":{\"color\":\"#2a3f5f\"}},\"ternary\":{\"aaxis\":{\"gridcolor\":\"#DFE8F3\",\"linecolor\":\"#A2B1C6\",\"ticks\":\"\"},\"baxis\":{\"gridcolor\":\"#DFE8F3\",\"linecolor\":\"#A2B1C6\",\"ticks\":\"\"},\"bgcolor\":\"white\",\"caxis\":{\"gridcolor\":\"#DFE8F3\",\"linecolor\":\"#A2B1C6\",\"ticks\":\"\"}},\"title\":{\"x\":0.05},\"xaxis\":{\"automargin\":true,\"gridcolor\":\"#EBF0F8\",\"linecolor\":\"#EBF0F8\",\"ticks\":\"\",\"title\":{\"standoff\":15},\"zerolinecolor\":\"#EBF0F8\",\"zerolinewidth\":2},\"yaxis\":{\"automargin\":true,\"gridcolor\":\"#EBF0F8\",\"linecolor\":\"#EBF0F8\",\"ticks\":\"\",\"title\":{\"standoff\":15},\"zerolinecolor\":\"#EBF0F8\",\"zerolinewidth\":2}}},\"xaxis\":{\"anchor\":\"y\",\"domain\":[0.0,1.0],\"title\":{\"text\":\"Employment income\"},\"tickformat\":\",.0f\",\"tickprefix\":\"\\\\u00a3\"},\"yaxis\":{\"anchor\":\"x\",\"domain\":[0.0,1.0],\"title\":{\"text\":\"Marginal tax rate\"},\"tickformat\":\".0%\",\"range\":[-0.01,1]},\"legend\":{\"title\":{\"text\":\"Policy\"},\"tracegroupgap\":0},\"margin\":{\"t\":60},\"title\":{\"text\":\"Marginal tax rate by UBI policy and income (married couple, two children)\"},\"font\":{\"family\":\"Roboto Serif\",\"color\":\"black\"},\"images\":[{\"sizex\":0.2,\"sizey\":0.2,\"source\":\"https://raw.githubusercontent.com/PolicyEngine/policyengine-app/master/src/images/logos/policyengine/blue.png\",\"x\":1,\"xanchor\":\"right\",\"xref\":\"paper\",\"y\":-0.15,\"yanchor\":\"bottom\",\"yref\":\"paper\"}],\"height\":600,\"width\":800,\"modebar\":{\"bgcolor\":\"rgba(0,0,0,0)\",\"color\":\"rgba(0,0,0,0)\"}}}'"
      ]
     },
     "execution_count": 20,
     "metadata": {},
     "output_type": "execute_result"
    }
   ],
   "source": [
    "import plotly.io as pio\n",
    "\n",
    "fig = px.line(\n",
    "    mtr_df[mtr_df[\"Household type\"] == \"Married couple, two children\"], \n",
    "    x=\"Earnings\", \n",
    "    y=\"Marginal tax rate\", \n",
    "    color=\"Policy\",\n",
    "    color_discrete_sequence=[DARK_GRAY] + BLUE_COLOUR_SCALE,\n",
    ").update_layout(\n",
    "    yaxis_tickformat=\".0%\",\n",
    "    xaxis_tickformat=\",.0f\",\n",
    "    xaxis_tickprefix=\"£\",\n",
    "    yaxis_range=(-0.01, 1),\n",
    "    yaxis_title=\"Marginal tax rate\",\n",
    "    xaxis_title=\"Employment income\",\n",
    "    title=\"Marginal tax rate by UBI policy and income (married couple, two children)\",\n",
    ").update_traces(\n",
    "    line_shape=\"hv\",\n",
    ")\n",
    "format_fig(fig).to_json()"
   ]
  },
  {
   "cell_type": "markdown",
   "metadata": {},
   "source": [
    "Another way of framing these effects is as the change to effective marginal wages. For example, if a policy increases the MTR from 35% to 40%, that lowers the effective marginal wage from 65% to 60%, or by about 8%. Here we see that effective marginal wages are generally lower under the UBI reforms, except for the regions described above."
   ]
  },
  {
   "cell_type": "code",
   "execution_count": 21,
   "metadata": {
    "tags": [
     "hide-input"
    ]
   },
   "outputs": [],
   "source": [
    "import plotly.express as px\n",
    "from policyengine_uk import Simulation\n",
    "import pandas as pd\n",
    "\n",
    "dfs = []\n",
    "for reform, policy_name in zip([model_1_reform, model_2_reform, model_3_reform], [\"£200/month\", \"£300/month\", \"£400/month\"]):\n",
    "    for household_type, household_name in zip(\n",
    "        [SINGLE_NO_CHILDREN, MARRIED_TWO_CHILDREN, PENSIONER_COUPLE_NO_CHILDREN],\n",
    "        [\"Single adult, no children\", \"Married couple, two children\", \"Pensioner couple, no children\"],\n",
    "    ):\n",
    "        baseline_sim = Simulation(situation=household_type)\n",
    "        sim = Simulation(situation=household_type, reform=reform)\n",
    "        mtr = sim.calculate(\"marginal_tax_rate\", 2023) - baseline_sim.calculate(\"marginal_tax_rate\", 2023)\n",
    "        mtr = mtr.reshape((100, -1)).T[0]\n",
    "        wage = - mtr\n",
    "        earnings = sim.calculate(\"employment_income\", map_to=\"household\", period=2023)\n",
    "        df = pd.DataFrame({\"Policy\": policy_name, \"Effective wage change\": wage, \"Earnings\": earnings, \"Household type\": household_name})\n",
    "        dfs.append(df)\n",
    "\n",
    "wage_change_df = pd.concat(dfs)"
   ]
  },
  {
   "cell_type": "code",
   "execution_count": 22,
   "metadata": {
    "tags": [
     "hide-input"
    ]
   },
   "outputs": [
    {
     "data": {
      "text/plain": [
       "'{\"data\":[{\"hovertemplate\":\"Policy=\\\\u00a3200/month<br>Earnings=%{x}<br>Effective wage change=%{y}<extra></extra>\",\"legendgroup\":\"\\\\u00a3200/month\",\"line\":{\"color\":\"#D8E6F3\",\"dash\":\"solid\",\"shape\":\"hv\"},\"marker\":{\"symbol\":\"circle\"},\"mode\":\"lines\",\"name\":\"\\\\u00a3200/month\",\"orientation\":\"v\",\"showlegend\":true,\"x\":[0.0,1560.668701171875,3121.33740234375,4682.00634765625,6242.6748046875,7803.34375,9364.0126953125,10924.6806640625,12485.349609375,14046.017578125,15606.6875,17167.35546875,18728.025390625,20288.69140625,21849.361328125,23410.03125,24970.69921875,26531.369140625,28092.03515625,29652.705078125,31213.375,32774.04296875,34334.7109375,35895.37890625,37456.05078125,39016.71875,40577.3828125,42138.0546875,43698.72265625,45259.39453125,46820.0625,48380.7265625,49941.3984375,51502.06640625,53062.73828125,54623.40625,56184.0703125,57744.7421875,59305.41015625,60866.08203125,62426.75,63987.4140625,65548.0859375,67108.7578125,68669.421875,70230.09375,71790.7578125,73351.4296875,74912.1015625,76472.765625,78033.4375,79594.1015625,81154.765625,82715.4453125,84276.109375,85836.78125,87397.4453125,88958.109375,90518.7890625,92079.453125,93640.125,95200.7890625,96761.453125,98322.1328125,99882.796875,101443.46875,103004.1328125,104564.796875,106125.4765625,107686.140625,109246.8125,110807.4765625,112368.140625,113928.8203125,115489.484375,117050.15625,118610.8203125,120171.484375,121732.1640625,123292.828125,124853.5,126414.1640625,127974.828125,129535.5078125,131096.171875,132656.828125,134217.515625,135778.1875,137338.84375,138899.515625,140460.1875,142020.84375,143581.515625,145142.1875,146702.859375,148263.515625,149824.203125,151384.875,152945.53125,154506.203125],\"xaxis\":\"x\",\"y\":[-0.0,-0.07741504907608032,-0.21464842557907104,-0.21464842557907104,-0.01297849416732788,0.05487889051437378,-0.09659373760223389,-0.09658986330032349,-0.09658986330032349,-0.006591796875,-0.0065937042236328125,-0.0065937042236328125,-0.0065937042236328125,-0.006589829921722412,-0.006589829921722412,-0.0065937042236328125,-0.006589829921722412,-0.006591796875,-0.0065937042236328125,-0.006591796875,-0.006589829921722412,-0.006589829921722412,-0.0065937042236328125,-0.19602340459823608,-0.3805937170982361,-0.3805937170982361,-0.03664064407348633,-0.0146484375,-0.0146484375,-0.0146484375,-0.0146484375,-0.0146484375,0.18458592891693115,-0.029296875,-0.029296875,-0.0292930006980896,-0.029296875,-0.0293007493019104,-0.029296875,-0.029296875,-0.029296875,-0.0293007493019104,-0.029296875,-0.0293007493019104,-0.029296875,-0.0293007493019104,-0.029296875,-0.0293007493019104,-0.029296875,-0.029296875,-0.029292941093444824,-0.0292930006980896,-0.029296875,-0.029296875,-0.029296875,-0.029296875,-0.029300808906555176,-0.029296875,-0.029296875,-0.029296875,-0.029296875,-0.029296875,-0.029296875,-0.029289066791534424,-0.04221874475479126,-0.043937504291534424,-0.04305469989776611,0.17070311307907104,0.17070311307907104,0.17070311307907104,0.17070311307907104,0.17070311307907104,0.17070311307907104,0.17071092128753662,0.17070311307907104,0.17070311307907104,0.17070311307907104,0.17069530487060547,0.17070311307907104,0.17070311307907104,0.02799999713897705,-0.029296815395355225,-0.029296815395355225,-0.029296815395355225,-0.029296815395355225,-0.029304683208465576,-0.029296815395355225,-0.029296815395355225,-0.029296815395355225,-0.029296815395355225,-0.029296815395355225,-0.029296815395355225,-0.029296815395355225,-0.029296815395355225,-0.029296815395355225,-0.029296815395355225,-0.029296815395355225,-0.029296815395355225,-0.029296815395355225,-0.029296815395355225],\"yaxis\":\"y\",\"type\":\"scatter\"},{\"hovertemplate\":\"Policy=\\\\u00a3300/month<br>Earnings=%{x}<br>Effective wage change=%{y}<extra></extra>\",\"legendgroup\":\"\\\\u00a3300/month\",\"line\":{\"color\":\"#2C6496\",\"dash\":\"solid\",\"shape\":\"hv\"},\"marker\":{\"symbol\":\"circle\"},\"mode\":\"lines\",\"name\":\"\\\\u00a3300/month\",\"orientation\":\"v\",\"showlegend\":true,\"x\":[0.0,1560.668701171875,3121.33740234375,4682.00634765625,6242.6748046875,7803.34375,9364.0126953125,10924.6806640625,12485.349609375,14046.017578125,15606.6875,17167.35546875,18728.025390625,20288.69140625,21849.361328125,23410.03125,24970.69921875,26531.369140625,28092.03515625,29652.705078125,31213.375,32774.04296875,34334.7109375,35895.37890625,37456.05078125,39016.71875,40577.3828125,42138.0546875,43698.72265625,45259.39453125,46820.0625,48380.7265625,49941.3984375,51502.06640625,53062.73828125,54623.40625,56184.0703125,57744.7421875,59305.41015625,60866.08203125,62426.75,63987.4140625,65548.0859375,67108.7578125,68669.421875,70230.09375,71790.7578125,73351.4296875,74912.1015625,76472.765625,78033.4375,79594.1015625,81154.765625,82715.4453125,84276.109375,85836.78125,87397.4453125,88958.109375,90518.7890625,92079.453125,93640.125,95200.7890625,96761.453125,98322.1328125,99882.796875,101443.46875,103004.1328125,104564.796875,106125.4765625,107686.140625,109246.8125,110807.4765625,112368.140625,113928.8203125,115489.484375,117050.15625,118610.8203125,120171.484375,121732.1640625,123292.828125,124853.5,126414.1640625,127974.828125,129535.5078125,131096.171875,132656.828125,134217.515625,135778.1875,137338.84375,138899.515625,140460.1875,142020.84375,143581.515625,145142.1875,146702.859375,148263.515625,149824.203125,151384.875,152945.53125,154506.203125],\"xaxis\":\"x\",\"y\":[-0.24589842557907104,-0.24589747190475464,-0.24589842557907104,-0.24589842557907104,-0.04422849416732788,0.3041015863418579,-0.11065620183944702,-0.11065232753753662,-0.11065232753753662,-0.020656228065490723,-0.020656228065490723,-0.020656228065490723,-0.020652294158935547,-0.020652294158935547,-0.020652294158935547,-0.02065432071685791,-0.020656228065490723,-0.020650386810302734,-0.020656228065490723,-0.020650386810302734,-0.020656228065490723,-0.020652294158935547,-0.020656228065490723,-0.210085928440094,-0.394656240940094,-0.3946523070335388,-0.3946523070335388,-0.3946523070335388,-0.0458984375,-0.0458984375,-0.0458984375,-0.0458984375,0.20610159635543823,-0.0458984375,-0.0458984375,-0.0458945631980896,-0.0458945631980896,-0.0459023118019104,-0.0458984375,-0.0459023118019104,-0.0458984375,-0.0459023118019104,-0.0458984375,-0.0459023118019104,-0.0458984375,-0.0459023118019104,-0.045902371406555176,-0.0459023118019104,-0.045894503593444824,-0.0459023118019104,-0.045894503593444824,-0.0458945631980896,-0.0458984375,-0.0458984375,-0.0459023118019104,-0.0458984375,-0.045902371406555176,-0.0459023118019104,-0.0458984375,-0.0458984375,-0.0458984375,-0.0458984375,-0.0459023118019104,-0.04588282108306885,0.13066405057907104,0.15410155057907104,0.15410935878753662,0.15409374237060547,0.15410935878753662,0.15410155057907104,0.15410155057907104,0.15410935878753662,0.15410155057907104,0.15410935878753662,0.15410155057907104,0.15410155057907104,0.15410935878753662,0.15410155057907104,0.1540859341621399,0.15410155057907104,0.011406302452087402,-0.045898377895355225,-0.045906245708465576,-0.045890629291534424,-0.045906245708465576,-0.045898377895355225,-0.045898377895355225,-0.045898377895355225,-0.045890629291534424,-0.045898377895355225,-0.045898377895355225,-0.045898377895355225,-0.045906245708465576,-0.045898377895355225,-0.045898377895355225,-0.045898377895355225,-0.045898377895355225,-0.045898377895355225,-0.045898377895355225,-0.045898377895355225],\"yaxis\":\"y\",\"type\":\"scatter\"},{\"hovertemplate\":\"Policy=\\\\u00a3400/month<br>Earnings=%{x}<br>Effective wage change=%{y}<extra></extra>\",\"legendgroup\":\"\\\\u00a3400/month\",\"line\":{\"color\":\"#17354F\",\"dash\":\"solid\",\"shape\":\"hv\"},\"marker\":{\"symbol\":\"circle\"},\"mode\":\"lines\",\"name\":\"\\\\u00a3400/month\",\"orientation\":\"v\",\"showlegend\":true,\"x\":[0.0,1560.668701171875,3121.33740234375,4682.00634765625,6242.6748046875,7803.34375,9364.0126953125,10924.6806640625,12485.349609375,14046.017578125,15606.6875,17167.35546875,18728.025390625,20288.69140625,21849.361328125,23410.03125,24970.69921875,26531.369140625,28092.03515625,29652.705078125,31213.375,32774.04296875,34334.7109375,35895.37890625,37456.05078125,39016.71875,40577.3828125,42138.0546875,43698.72265625,45259.39453125,46820.0625,48380.7265625,49941.3984375,51502.06640625,53062.73828125,54623.40625,56184.0703125,57744.7421875,59305.41015625,60866.08203125,62426.75,63987.4140625,65548.0859375,67108.7578125,68669.421875,70230.09375,71790.7578125,73351.4296875,74912.1015625,76472.765625,78033.4375,79594.1015625,81154.765625,82715.4453125,84276.109375,85836.78125,87397.4453125,88958.109375,90518.7890625,92079.453125,93640.125,95200.7890625,96761.453125,98322.1328125,99882.796875,101443.46875,103004.1328125,104564.796875,106125.4765625,107686.140625,109246.8125,110807.4765625,112368.140625,113928.8203125,115489.484375,117050.15625,118610.8203125,120171.484375,121732.1640625,123292.828125,124853.5,126414.1640625,127974.828125,129535.5078125,131096.171875,132656.828125,134217.515625,135778.1875,137338.84375,138899.515625,140460.1875,142020.84375,143581.515625,145142.1875,146702.859375,148263.515625,149824.203125,151384.875,152945.53125,154506.203125],\"xaxis\":\"x\",\"y\":[-0.30253905057907104,-0.30253809690475464,-0.30253905057907104,-0.30253905057907104,-0.10086911916732788,0.2474609613418579,0.053585946559906006,-0.1361406445503235,-0.1361445188522339,-0.04614061117172241,-0.04614448547363281,-0.046146512031555176,-0.04614061117172241,-0.04614061117172241,-0.04614448547363281,-0.04614061117172241,-0.04614448547363281,-0.0461387038230896,-0.04614061117172241,-0.0461464524269104,-0.04614061117172241,-0.04614061117172241,-0.04614448547363281,-0.23557418584823608,-0.4201444983482361,-0.4201406240463257,-0.4201444983482361,-0.4201406240463257,-0.42014843225479126,-0.4201406240463257,-0.3630663752555847,-0.1025390625,0.21830469369888306,-0.0,-7.808208465576172e-06,3.874301910400391e-06,3.874301910400391e-06,-0.0,-0.0,-0.0,-0.0,-0.0,-0.0,-3.874301910400391e-06,-0.0,-3.874301910400391e-06,-3.933906555175781e-06,-0.0,3.933906555175781e-06,-0.0,-0.0,3.874301910400391e-06,-0.0,-3.874301910400391e-06,-0.0,-0.0,-0.0,-3.874301910400391e-06,-0.0,-0.0,-0.0,-0.0,-7.808208465576172e-06,7.808208465576172e-06,0.17656248807907104,0.19999217987060547,0.19999998807907104,0.19999998807907104,0.19999998807907104,0.19999217987060547,0.19999998807907104,0.19999998807907104,0.19999998807907104,0.19999998807907104,0.19999998807907104,0.19999998807907104,0.19999217987060547,0.19999998807907104,0.19999217987060547,0.19999998807907104,0.05729687213897705,-7.808208465576172e-06,-0.0,-0.0,-0.0,-0.0,-0.0,-0.0,-0.0,-0.0,-0.0,-0.0,-0.0,-0.0,-0.0,7.808208465576172e-06,-0.0,-0.0,-0.0,-0.0],\"yaxis\":\"y\",\"type\":\"scatter\"}],\"layout\":{\"template\":{\"data\":{\"barpolar\":[{\"marker\":{\"line\":{\"color\":\"white\",\"width\":0.5},\"pattern\":{\"fillmode\":\"overlay\",\"size\":10,\"solidity\":0.2}},\"type\":\"barpolar\"}],\"bar\":[{\"error_x\":{\"color\":\"#2a3f5f\"},\"error_y\":{\"color\":\"#2a3f5f\"},\"marker\":{\"line\":{\"color\":\"white\",\"width\":0.5},\"pattern\":{\"fillmode\":\"overlay\",\"size\":10,\"solidity\":0.2}},\"type\":\"bar\"}],\"carpet\":[{\"aaxis\":{\"endlinecolor\":\"#2a3f5f\",\"gridcolor\":\"#C8D4E3\",\"linecolor\":\"#C8D4E3\",\"minorgridcolor\":\"#C8D4E3\",\"startlinecolor\":\"#2a3f5f\"},\"baxis\":{\"endlinecolor\":\"#2a3f5f\",\"gridcolor\":\"#C8D4E3\",\"linecolor\":\"#C8D4E3\",\"minorgridcolor\":\"#C8D4E3\",\"startlinecolor\":\"#2a3f5f\"},\"type\":\"carpet\"}],\"choropleth\":[{\"colorbar\":{\"outlinewidth\":0,\"ticks\":\"\"},\"type\":\"choropleth\"}],\"contourcarpet\":[{\"colorbar\":{\"outlinewidth\":0,\"ticks\":\"\"},\"type\":\"contourcarpet\"}],\"contour\":[{\"colorbar\":{\"outlinewidth\":0,\"ticks\":\"\"},\"colorscale\":[[0.0,\"#0d0887\"],[0.1111111111111111,\"#46039f\"],[0.2222222222222222,\"#7201a8\"],[0.3333333333333333,\"#9c179e\"],[0.4444444444444444,\"#bd3786\"],[0.5555555555555556,\"#d8576b\"],[0.6666666666666666,\"#ed7953\"],[0.7777777777777778,\"#fb9f3a\"],[0.8888888888888888,\"#fdca26\"],[1.0,\"#f0f921\"]],\"type\":\"contour\"}],\"heatmapgl\":[{\"colorbar\":{\"outlinewidth\":0,\"ticks\":\"\"},\"colorscale\":[[0.0,\"#0d0887\"],[0.1111111111111111,\"#46039f\"],[0.2222222222222222,\"#7201a8\"],[0.3333333333333333,\"#9c179e\"],[0.4444444444444444,\"#bd3786\"],[0.5555555555555556,\"#d8576b\"],[0.6666666666666666,\"#ed7953\"],[0.7777777777777778,\"#fb9f3a\"],[0.8888888888888888,\"#fdca26\"],[1.0,\"#f0f921\"]],\"type\":\"heatmapgl\"}],\"heatmap\":[{\"colorbar\":{\"outlinewidth\":0,\"ticks\":\"\"},\"colorscale\":[[0.0,\"#0d0887\"],[0.1111111111111111,\"#46039f\"],[0.2222222222222222,\"#7201a8\"],[0.3333333333333333,\"#9c179e\"],[0.4444444444444444,\"#bd3786\"],[0.5555555555555556,\"#d8576b\"],[0.6666666666666666,\"#ed7953\"],[0.7777777777777778,\"#fb9f3a\"],[0.8888888888888888,\"#fdca26\"],[1.0,\"#f0f921\"]],\"type\":\"heatmap\"}],\"histogram2dcontour\":[{\"colorbar\":{\"outlinewidth\":0,\"ticks\":\"\"},\"colorscale\":[[0.0,\"#0d0887\"],[0.1111111111111111,\"#46039f\"],[0.2222222222222222,\"#7201a8\"],[0.3333333333333333,\"#9c179e\"],[0.4444444444444444,\"#bd3786\"],[0.5555555555555556,\"#d8576b\"],[0.6666666666666666,\"#ed7953\"],[0.7777777777777778,\"#fb9f3a\"],[0.8888888888888888,\"#fdca26\"],[1.0,\"#f0f921\"]],\"type\":\"histogram2dcontour\"}],\"histogram2d\":[{\"colorbar\":{\"outlinewidth\":0,\"ticks\":\"\"},\"colorscale\":[[0.0,\"#0d0887\"],[0.1111111111111111,\"#46039f\"],[0.2222222222222222,\"#7201a8\"],[0.3333333333333333,\"#9c179e\"],[0.4444444444444444,\"#bd3786\"],[0.5555555555555556,\"#d8576b\"],[0.6666666666666666,\"#ed7953\"],[0.7777777777777778,\"#fb9f3a\"],[0.8888888888888888,\"#fdca26\"],[1.0,\"#f0f921\"]],\"type\":\"histogram2d\"}],\"histogram\":[{\"marker\":{\"pattern\":{\"fillmode\":\"overlay\",\"size\":10,\"solidity\":0.2}},\"type\":\"histogram\"}],\"mesh3d\":[{\"colorbar\":{\"outlinewidth\":0,\"ticks\":\"\"},\"type\":\"mesh3d\"}],\"parcoords\":[{\"line\":{\"colorbar\":{\"outlinewidth\":0,\"ticks\":\"\"}},\"type\":\"parcoords\"}],\"pie\":[{\"automargin\":true,\"type\":\"pie\"}],\"scatter3d\":[{\"line\":{\"colorbar\":{\"outlinewidth\":0,\"ticks\":\"\"}},\"marker\":{\"colorbar\":{\"outlinewidth\":0,\"ticks\":\"\"}},\"type\":\"scatter3d\"}],\"scattercarpet\":[{\"marker\":{\"colorbar\":{\"outlinewidth\":0,\"ticks\":\"\"}},\"type\":\"scattercarpet\"}],\"scattergeo\":[{\"marker\":{\"colorbar\":{\"outlinewidth\":0,\"ticks\":\"\"}},\"type\":\"scattergeo\"}],\"scattergl\":[{\"marker\":{\"colorbar\":{\"outlinewidth\":0,\"ticks\":\"\"}},\"type\":\"scattergl\"}],\"scattermapbox\":[{\"marker\":{\"colorbar\":{\"outlinewidth\":0,\"ticks\":\"\"}},\"type\":\"scattermapbox\"}],\"scatterpolargl\":[{\"marker\":{\"colorbar\":{\"outlinewidth\":0,\"ticks\":\"\"}},\"type\":\"scatterpolargl\"}],\"scatterpolar\":[{\"marker\":{\"colorbar\":{\"outlinewidth\":0,\"ticks\":\"\"}},\"type\":\"scatterpolar\"}],\"scatter\":[{\"fillpattern\":{\"fillmode\":\"overlay\",\"size\":10,\"solidity\":0.2},\"type\":\"scatter\"}],\"scatterternary\":[{\"marker\":{\"colorbar\":{\"outlinewidth\":0,\"ticks\":\"\"}},\"type\":\"scatterternary\"}],\"surface\":[{\"colorbar\":{\"outlinewidth\":0,\"ticks\":\"\"},\"colorscale\":[[0.0,\"#0d0887\"],[0.1111111111111111,\"#46039f\"],[0.2222222222222222,\"#7201a8\"],[0.3333333333333333,\"#9c179e\"],[0.4444444444444444,\"#bd3786\"],[0.5555555555555556,\"#d8576b\"],[0.6666666666666666,\"#ed7953\"],[0.7777777777777778,\"#fb9f3a\"],[0.8888888888888888,\"#fdca26\"],[1.0,\"#f0f921\"]],\"type\":\"surface\"}],\"table\":[{\"cells\":{\"fill\":{\"color\":\"#EBF0F8\"},\"line\":{\"color\":\"white\"}},\"header\":{\"fill\":{\"color\":\"#C8D4E3\"},\"line\":{\"color\":\"white\"}},\"type\":\"table\"}]},\"layout\":{\"annotationdefaults\":{\"arrowcolor\":\"#2a3f5f\",\"arrowhead\":0,\"arrowwidth\":1},\"autotypenumbers\":\"strict\",\"coloraxis\":{\"colorbar\":{\"outlinewidth\":0,\"ticks\":\"\"}},\"colorscale\":{\"diverging\":[[0,\"#8e0152\"],[0.1,\"#c51b7d\"],[0.2,\"#de77ae\"],[0.3,\"#f1b6da\"],[0.4,\"#fde0ef\"],[0.5,\"#f7f7f7\"],[0.6,\"#e6f5d0\"],[0.7,\"#b8e186\"],[0.8,\"#7fbc41\"],[0.9,\"#4d9221\"],[1,\"#276419\"]],\"sequential\":[[0.0,\"#0d0887\"],[0.1111111111111111,\"#46039f\"],[0.2222222222222222,\"#7201a8\"],[0.3333333333333333,\"#9c179e\"],[0.4444444444444444,\"#bd3786\"],[0.5555555555555556,\"#d8576b\"],[0.6666666666666666,\"#ed7953\"],[0.7777777777777778,\"#fb9f3a\"],[0.8888888888888888,\"#fdca26\"],[1.0,\"#f0f921\"]],\"sequentialminus\":[[0.0,\"#0d0887\"],[0.1111111111111111,\"#46039f\"],[0.2222222222222222,\"#7201a8\"],[0.3333333333333333,\"#9c179e\"],[0.4444444444444444,\"#bd3786\"],[0.5555555555555556,\"#d8576b\"],[0.6666666666666666,\"#ed7953\"],[0.7777777777777778,\"#fb9f3a\"],[0.8888888888888888,\"#fdca26\"],[1.0,\"#f0f921\"]]},\"colorway\":[\"#636efa\",\"#EF553B\",\"#00cc96\",\"#ab63fa\",\"#FFA15A\",\"#19d3f3\",\"#FF6692\",\"#B6E880\",\"#FF97FF\",\"#FECB52\"],\"font\":{\"color\":\"#2a3f5f\"},\"geo\":{\"bgcolor\":\"white\",\"lakecolor\":\"white\",\"landcolor\":\"white\",\"showlakes\":true,\"showland\":true,\"subunitcolor\":\"#C8D4E3\"},\"hoverlabel\":{\"align\":\"left\"},\"hovermode\":\"closest\",\"mapbox\":{\"style\":\"light\"},\"paper_bgcolor\":\"white\",\"plot_bgcolor\":\"white\",\"polar\":{\"angularaxis\":{\"gridcolor\":\"#EBF0F8\",\"linecolor\":\"#EBF0F8\",\"ticks\":\"\"},\"bgcolor\":\"white\",\"radialaxis\":{\"gridcolor\":\"#EBF0F8\",\"linecolor\":\"#EBF0F8\",\"ticks\":\"\"}},\"scene\":{\"xaxis\":{\"backgroundcolor\":\"white\",\"gridcolor\":\"#DFE8F3\",\"gridwidth\":2,\"linecolor\":\"#EBF0F8\",\"showbackground\":true,\"ticks\":\"\",\"zerolinecolor\":\"#EBF0F8\"},\"yaxis\":{\"backgroundcolor\":\"white\",\"gridcolor\":\"#DFE8F3\",\"gridwidth\":2,\"linecolor\":\"#EBF0F8\",\"showbackground\":true,\"ticks\":\"\",\"zerolinecolor\":\"#EBF0F8\"},\"zaxis\":{\"backgroundcolor\":\"white\",\"gridcolor\":\"#DFE8F3\",\"gridwidth\":2,\"linecolor\":\"#EBF0F8\",\"showbackground\":true,\"ticks\":\"\",\"zerolinecolor\":\"#EBF0F8\"}},\"shapedefaults\":{\"line\":{\"color\":\"#2a3f5f\"}},\"ternary\":{\"aaxis\":{\"gridcolor\":\"#DFE8F3\",\"linecolor\":\"#A2B1C6\",\"ticks\":\"\"},\"baxis\":{\"gridcolor\":\"#DFE8F3\",\"linecolor\":\"#A2B1C6\",\"ticks\":\"\"},\"bgcolor\":\"white\",\"caxis\":{\"gridcolor\":\"#DFE8F3\",\"linecolor\":\"#A2B1C6\",\"ticks\":\"\"}},\"title\":{\"x\":0.05},\"xaxis\":{\"automargin\":true,\"gridcolor\":\"#EBF0F8\",\"linecolor\":\"#EBF0F8\",\"ticks\":\"\",\"title\":{\"standoff\":15},\"zerolinecolor\":\"#EBF0F8\",\"zerolinewidth\":2},\"yaxis\":{\"automargin\":true,\"gridcolor\":\"#EBF0F8\",\"linecolor\":\"#EBF0F8\",\"ticks\":\"\",\"title\":{\"standoff\":15},\"zerolinecolor\":\"#EBF0F8\",\"zerolinewidth\":2}}},\"xaxis\":{\"anchor\":\"y\",\"domain\":[0.0,1.0],\"title\":{\"text\":\"Employment income\"},\"tickformat\":\",.0f\",\"tickprefix\":\"\\\\u00a3\"},\"yaxis\":{\"anchor\":\"x\",\"domain\":[0.0,1.0],\"title\":{\"text\":\"Change to effective marginal wage\"},\"tickformat\":\"+.0%\",\"range\":[-1,1]},\"legend\":{\"title\":{\"text\":\"Policy\"},\"tracegroupgap\":0},\"margin\":{\"t\":60},\"title\":{\"text\":\"Figure 15: Change to effective marginal wage by UBI policy and income (married couple, two children)\"},\"shapes\":[{\"line\":{\"color\":\"grey\",\"width\":1},\"type\":\"line\",\"x0\":0,\"x1\":1,\"xref\":\"paper\",\"y0\":0,\"y1\":0,\"yref\":\"y\"}],\"font\":{\"family\":\"Roboto Serif\",\"color\":\"black\"},\"images\":[{\"sizex\":0.2,\"sizey\":0.2,\"source\":\"https://raw.githubusercontent.com/PolicyEngine/policyengine-app/master/src/images/logos/policyengine/blue.png\",\"x\":1,\"xanchor\":\"right\",\"xref\":\"paper\",\"y\":-0.15,\"yanchor\":\"bottom\",\"yref\":\"paper\"}],\"height\":600,\"width\":800,\"modebar\":{\"bgcolor\":\"rgba(0,0,0,0)\",\"color\":\"rgba(0,0,0,0)\"}}}'"
      ]
     },
     "execution_count": 22,
     "metadata": {},
     "output_type": "execute_result"
    }
   ],
   "source": [
    "import plotly.io as pio\n",
    "\n",
    "def plot_wage(household_name: str):\n",
    "    fig = px.line(\n",
    "        wage_change_df[wage_change_df[\"Household type\"] == household_name], \n",
    "        x=\"Earnings\", \n",
    "        y=\"Effective wage change\", \n",
    "        color=\"Policy\",\n",
    "        color_discrete_sequence=BLUE_COLOUR_SCALE,\n",
    "    ).update_layout(\n",
    "        yaxis_tickformat=\"+.0%\",\n",
    "        xaxis_tickformat=\",.0f\",\n",
    "        xaxis_tickprefix=\"£\",\n",
    "        yaxis_range=(-1, 1),\n",
    "        yaxis_title=\"Change to effective marginal wage\",\n",
    "        xaxis_title=\"Employment income\",\n",
    "        title=\"Figure 15: Change to effective marginal wage by UBI policy and income (married couple, two children)\",\n",
    "    ).update_traces(\n",
    "        line_shape=\"hv\",\n",
    "    )\n",
    "    fig.add_shape(\n",
    "            type=\"line\",\n",
    "            xref=\"paper\",\n",
    "            yref=\"y\",\n",
    "            x0=0,\n",
    "            y0=0,\n",
    "            x1=1,\n",
    "            y1=0,\n",
    "            line=dict(color=\"grey\", width=1),\n",
    "        )\n",
    "    return format_fig(fig)\n",
    "plot_wage(H2).to_json()"
   ]
  },
  {
   "cell_type": "markdown",
   "metadata": {},
   "source": [
    "# Conclusion\n",
    "\n",
    "Any one of the UBI policies described here would dramatically reshape Northern Ireland, achieving overnight poverty reductions NI has taken years or decades to see naturally.\n",
    "\n",
    "Yet that reshaping also comes in the form of disruption and potential macroeconomic drag. A substantial portion of the nation would come out behind, and many by material amounts. And most would face considerably higher marginal tax rates.\n",
    "\n",
    "Our static model does not fully account for these costs. A [recent paper](http://www.columbia.edu/~wk2110/bin/DeatonReviewChapter.pdf) from IFS and Columbia University found, \"Current estimates therefore suggest that the top UK rate [of 47%] is close to revenue maximising, but there is a very large degree of uncertainty around this.\" Some of these reforms would bring that top rate closer to 80%, and extend it to a thicker part of the earnings distribution. While poverty reduction would benefit the economy, reducing the net marginal wage for hundreds of thousands of workers could shrink it, and more research is needed to understand the full impact of these countervailing forces.\n",
    "\n",
    "More research could also identify policies that achieve similar distributional benefits without so much disruption. For example, others have [created an optimisation model](ubicenter.org/uk-blank-slate-ubi) to explore tens of thousands of UBI policies and select the age-dependent amounts that minimised disruption. That approach could be applied to NI specifically, and with potentially more levers such as the tax reforms we applied here.\n",
    "\n",
    "Our microsimulation approach provides one piece of the puzzle in understanding a feasible transition to universal basic income in Northern Ireland.\n"
   ]
  },
  {
   "cell_type": "markdown",
   "metadata": {},
   "source": [
    "## Appendix: PolicyEngine's data generation procedure\n",
    "\n",
    "PolicyEngine's enhanced FRS dataset counters many of the biases present within the unadjusted dataset. This section describes the data generation procedure in detail.\n",
    "\n",
    "1. **Start with the 2019-20 Family Resources Survey (FRS).** The Department of Work and Pensions administers the annual FRS, collecting information on household structure, income, taxes, and benefits from respondents. The FRS reports households' region, and 2,075 of its 19,210 households reside in Northern Ireland; these form the basis of this report. Like other research institutions, PolicyEngine skips the 2020-21 FRS round released in 2022, as Covid distorts its use for future-looking analysis.\n",
    "2. **Duplicate the FRS and replace income variables in a replicate with imputed values from the Survey of Personal Incomes (SPI).** HMRC releases the SPI as an anonymised sample of tax records. It is more accurate than the FRS, though it lacks demographic and benefit information of the FRS. PolicyEngine applies its [synthimpute](https://github.com/PSLmodels/synthimpute/releases) machine learning technology to impute from the conditional distribution of each record, ensuring that this copy of the FRS includes the tails of SPI records.\n",
    "3. **Stack the original and SPI-imputed FRS.** This gives the subsequent reweighting algorithm the opportunity to balance originally-reported FRS income and SPI-imputed income for each person.\n",
    "4. **Fuse consumption data from the Living Costs and Food Survey and wealth data from the Wealth and Assets Survey to the stacked FRS.** PolicyEngine imputes these signals using synthimpute; while this report does not make use of them, PolicyEngine makes them available for simulations of other policies like a land value tax and carbon tax.\n",
    "5. **Uprate (age) the survey data for each year from the survey year to 2026.** PolicyEngine uprates data in accordance with projections from the Office of National Statistics, such as projections of how average earnings will change.\n",
    "6. **Replace taxes and benefits with computed values for each modelled year.** PolicyEngine applies tax and benefit rules both to capture policy changes and to produce a baseline that responds only to policy reforms. They model benefit take-up by respecting whether a person, benefit unit, or household claimed a benefit if eligible, and assigning a probability for each benefit for ineligible households based on reported take-up rates.\n",
    "7. **Construct a loss metric measuring the aggregate deviation of totals from the survey to administrative totals reported by the government, for each modelled year.** PolicyEngine's loss metric covers population, income, benefits, and taxes at various granularities. In total, this loss metric has 2,664 components, of which 264 are specific to Northern Ireland.\n",
    "8. **Reweight the dataset to minimise this loss metric using gradient descent.** The gradient descent algorithm computes the change to the loss metric with respect to small perturbations of an input (in this case, a household's survey weight), then moves each input (weight) by some multiplier of that change (known as the _learning rate_), and iteratively continues this process. Artificial intelligence models like deep neural networks rely heavily on gradient descent. PolicyEngine identifies the number of iterations that minimises the loss on an out-of-sample set of validation metrics to avoid overfitting, and prevents negative weights. The [reweighting procedure](https://policyengine.github.io/openfisca-uk//model/reweighting.html) results in 862 Northern Ireland households with nonzero weight, and reduces the loss metric by about 99.5% compared to its initial value. Figure 16 shows that PolicyEngine's data enhancement dramatically reduces error rates for key Northern Ireland aggregates.\n",
    "\n",
    "We publish this dataset's accuracy in our [documentation page on validation](https://policyengine.github.io/openfisca-uk//model/validation.html), which shows that their model deviates from administrative totals less than UKMOD does (only UKMOD publishes their totals amongst other UK microsimulation models).\n",
    "\n",
    "**Table 2: Error rates for selected Northern Ireland aggregates based on the original and PolicyEngine-enhanced 2019/20 Family Resources Survey**"
   ]
  },
  {
   "cell_type": "code",
   "execution_count": 30,
   "metadata": {},
   "outputs": [
    {
     "data": {
      "text/markdown": [
       "| Variable                         |   Target total |   Original FRS total |   Calibrated FRS total |   Original FRS error (%) |   Calibrated FRS error (%) |\n",
       "|:---------------------------------|---------------:|---------------------:|-----------------------:|-------------------------:|---------------------------:|\n",
       "| Income from dividends (£bn)      |           1.4  |                 0.1  |                   1.39 |                   -93    |                      -0.59 |\n",
       "| Employment income (£bn)          |          19    |                19.17 |                  18.45 |                     0.91 |                      -2.87 |\n",
       "| Pension income (£bn)             |           2.23 |                 2.52 |                   2.37 |                    13.03 |                       6.1  |\n",
       "| Rental income (£bn)              |           0.56 |                 0.23 |                   0.56 |                   -58.07 |                      -0.62 |\n",
       "| Savings interest income (£bn)    |           0.15 |                 0.1  |                   0.15 |                   -30.4  |                      -0.96 |\n",
       "| Self-employment income (£bn)     |           2.2  |                 2.29 |                   2.15 |                     4.1  |                      -2.41 |\n",
       "| Income Tax (£bn)                 |           3.03 |                 2.84 |                   2.97 |                    -6.42 |                      -1.98 |\n",
       "| National Insurance (total) (£bn) |           3.01 |                 3.28 |                   2.98 |                     8.83 |                      -1.02 |\n",
       "| Population (m)                   |           1.9  |                 1.86 |                   1.78 |                    -1.68 |                      -6.01 |\n",
       "| Households (m)                   |           0.77 |                 0.74 |                   0.77 |                    -3.83 |                      -0.07 |"
      ],
      "text/plain": [
       "<IPython.core.display.Markdown object>"
      ]
     },
     "execution_count": 30,
     "metadata": {},
     "output_type": "execute_result"
    }
   ],
   "source": [
    "import pandas as pd\n",
    "\n",
    "# Creating data dictionary\n",
    "data = {\n",
    "    'Variable': [\n",
    "        'Income from dividends (£bn)',\n",
    "        'Employment income (£bn)',\n",
    "        'Pension income (£bn)',\n",
    "        'Rental income (£bn)',\n",
    "        'Savings interest income (£bn)',\n",
    "        'Self-employment income (£bn)',\n",
    "        'Income Tax (£bn)',\n",
    "        'National Insurance (total) (£bn)',\n",
    "        'Population (m)',\n",
    "        'Households (m)'\n",
    "    ],\n",
    "    'Target total': [1.40, 19.00, 2.23, 0.56, 0.15, 2.20, 3.03, 3.01, 1.90, 0.77],\n",
    "    'Original FRS total': [0.10, 19.17, 2.52, 0.23, 0.10, 2.29, 2.84, 3.28, 1.86, 0.74],\n",
    "    'Calibrated FRS total': [1.39, 18.45, 2.37, 0.56, 0.15, 2.15, 2.97, 2.98, 1.78, 0.77],\n",
    "    'Original FRS error (%)': [-93.00, 0.91, 13.03, -58.07, -30.40, 4.10, -6.42, 8.83, -1.68, -3.83],\n",
    "    'Calibrated FRS error (%)': [-0.59, -2.87, 6.10, -0.62, -0.96, -2.41, -1.98, -1.02, -6.01, -0.07]\n",
    "}\n",
    "\n",
    "from IPython.display import Markdown\n",
    "\n",
    "Markdown(df.to_markdown(index=False))"
   ]
  }
 ],
 "metadata": {
  "kernelspec": {
   "display_name": "Python 3.7.13 ('policyengine')",
   "language": "python",
   "name": "python3"
  },
  "language_info": {
   "codemirror_mode": {
    "name": "ipython",
    "version": 3
   },
   "file_extension": ".py",
   "mimetype": "text/x-python",
   "name": "python",
   "nbconvert_exporter": "python",
   "pygments_lexer": "ipython3",
   "version": "3.9.12"
  },
  "vscode": {
   "interpreter": {
    "hash": "b3d32dd368ae8f4a8d01f617ffd041f85e5cc660529457803f0af86bbe37ac63"
   }
  }
 },
 "nbformat": 4,
 "nbformat_minor": 4
}
