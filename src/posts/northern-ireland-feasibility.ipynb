{
 "cells": [
  {
   "cell_type": "markdown",
   "metadata": {
    "tags": [
     "hide-input"
    ]
   },
   "source": [
    "*We thank the UBI Lab Northern Ireland for supporting this project and suggesting the constraints of the policy designs.*\n",
    "\n",
    "## Executive summary\n",
    "\n",
    "This report aims to fill a research gap by exploring the feasibility and potential impacts of implementing a universal basic income (UBI) in Northern Ireland (NI). Despite interest in the concept of UBI—a regular, unconditional payment made to all individuals—there has been limited study on how such a policy could be enacted in NI via tax reforms and other fiscal policies. This analysis employs data-driven methods to estimate the effects on individual households, as well as broader societal metrics such as budget implications, poverty rates, and income inequality.\n",
    "\n",
    "Following [proposals](https://www.ubilabnetwork.org/pledge-for-ubi-in-northern-ireland) by the UBI Lab Northern Ireland, we fill that gap. This paper begins with a description of Northern Ireland's economy, then identifies over 120 UBI policies funded by a combination of tax reform and transfers from the UK government. We then zoom in on three specific policies, covering the space of UBI amounts (£200 to £400 per adult, per month) and tax reforms (lowering the personal allowance and increasing tax rates). As shown below, our static microsimulation model finds that each of the policies lowers poverty and inequality in Northern Ireland, while benefiting a majority of the population.\n",
    "\n",
    "We follow our population-level analysis with a household analysis, visualising how each of these three policies would affect the net income and work incentives of archetypical households. While each policy benefits low-income households and families with children, it leaves childless singles worse off when their income exceeds about £10,000. It also lowers the payoff to working for most workers, though it also lowers some of the higher marginal tax rates present in the current system.\n",
    "\n",
    "We conclude with caveats of our analysis and room for more research.\n",
    "\n",
    "\n",
    "## Northern Ireland today\n",
    "\n",
    "Compared to other UK nations, Northern Ireland (NI) has lower economic output and higher levels of social security spending. NI has a GDP per capita roughly 20% below the UK average,[^1] and the population of 1.9 million generates around £2.8 billion in Income Tax liabilities.[^2] Higher levels of public spending (with a net fiscal deficit of £9,500 per capita)[^3] in NI increase disposable incomes to partially offset this. As a result, we estimate that 11.9% of NI is in absolute poverty before housing costs, compared to 11.3% across the UK.[^4] We also find that NI incomes are more equal, with a Gini index of 0.272 against the UK's 0.305.\n",
    "\n",
    "Many of Northern Ireland’s taxes and benefits operate under centralised UK rules, though exceptions to this include local property taxes such as domestic rates (and rates rebates), which replace Council Tax and Council Tax Benefit, respectively. Unlike Scotland, Northern Ireland does not set alternative tax rates for Income Tax.\n",
    "\n",
    "When it comes to basic income, Northern Ireland is broadly supportive, according to a 2017 poll by Ipsos MORI finding that 66% of Northern Irish people favoured a basic income, compared to 49% of UK residents.5 Northern Ireland's net favourability of +55 was more than double that of any other region surveyed.[^5]\n",
    "\n",
    "\n",
    "[^1]: [Northern Ireland Statistics Research Agency, 2020](https://www.nisra.gov.uk/statistics/economic-output-statistics/gross-value-added-and-gross-domestic-product#:~:text=In%20terms%20of%20GDP%20per,78.6%20per%20cent%20of%20UK).\n",
    "[^2]: [HMRC, 2019](https://assets.publishing.service.gov.uk/government/uploads/system/uploads/attachment_data/file/853118/Disaggregated_tax_and_NICs_receipts_-_methodological_note.pdf).\n",
    "[^3]: [ONS, 2021](https://www.ons.gov.uk/economy/governmentpublicsectorandtaxes/publicsectorfinance/articles/countryandregionalpublicsectorfinances/financialyearending2021#:~:text=On%20a%20per%20person%20basis,per%20head%20was%20%C2%A34%2C740).\n",
    "[^4]: Throughout this paper, we report absolute poverty rates before housing costs, using the PolicyEngine UK calibrated Family Resources Survey extrapolated to 2023.\n",
    "[^5]: This is the only poll to ask about basic income for Northern Ireland and the UK, per the [UBI Center's Poll Tracker](polls.ubicenter.org).\n"
   ]
  },
  {
   "cell_type": "code",
   "execution_count": 1,
   "metadata": {},
   "outputs": [
    {
     "data": {
      "text/plain": [
       "'{\"data\":[{\"alignmentgroup\":\"True\",\"customdata\":[[\"25% of people in Northern Ireland strongly support a UBI\"],[\"23% of people in Scotland strongly support a UBI\"],[\"16% of people in London strongly support a UBI\"],[\"16% of people in Wales strongly support a UBI\"],[\"15% of people in Midlands strongly support a UBI\"],[\"14% of people in North strongly support a UBI\"],[\"14% of people in England strongly support a UBI\"],[\"12% of people in South strongly support a UBI\"]],\"hovertemplate\":\"%{customdata[0]}\",\"legendgroup\":\"Strongly support\",\"marker\":{\"color\":\"#2C6496\",\"pattern\":{\"shape\":\"\"}},\"name\":\"Strongly support\",\"offsetgroup\":\"Strongly support\",\"orientation\":\"h\",\"showlegend\":true,\"text\":[\"25%\",\"23%\",\"16%\",\"16%\",\"15%\",\"14%\",\"14%\",\"12%\"],\"textposition\":\"inside\",\"x\":[25.2525252525,22.772277227700002,16.0,16.0,14.7058823529,14.0,14.0,12.1212121212],\"xaxis\":\"x\",\"y\":[\"Northern Ireland\",\"Scotland\",\"London\",\"Wales\",\"Midlands\",\"North\",\"England\",\"South\"],\"yaxis\":\"y\",\"type\":\"bar\",\"texttemplate\":\"%{text}\"},{\"alignmentgroup\":\"True\",\"customdata\":[[\"41% of people in Northern Ireland tend to support a UBI\"],[\"37% of people in South tend to support a UBI\"],[\"35% of people in North tend to support a UBI\"],[\"34% of people in England tend to support a UBI\"],[\"32% of people in Midlands tend to support a UBI\"],[\"31% of people in London tend to support a UBI\"],[\"31% of people in Wales tend to support a UBI\"],[\"24% of people in Scotland tend to support a UBI\"]],\"hovertemplate\":\"%{customdata[0]}\",\"legendgroup\":\"Tend to support\",\"marker\":{\"color\":\"#D8E6F3\",\"pattern\":{\"shape\":\"\"}},\"name\":\"Tend to support\",\"offsetgroup\":\"Tend to support\",\"orientation\":\"h\",\"showlegend\":true,\"text\":[\"41%\",\"37%\",\"35%\",\"34%\",\"32%\",\"31%\",\"31%\",\"24%\"],\"textposition\":\"inside\",\"x\":[41.4141414141,37.3737373737,35.0,34.0,32.3529411765,31.0,31.0,23.7623762376],\"xaxis\":\"x\",\"y\":[\"Northern Ireland\",\"South\",\"North\",\"England\",\"Midlands\",\"London\",\"Wales\",\"Scotland\"],\"yaxis\":\"y\",\"type\":\"bar\",\"texttemplate\":\"%{text}\"},{\"alignmentgroup\":\"True\",\"customdata\":[[\"29% of people in Wales neither support nor oppose a UBI\"],[\"20% of people in South neither support nor oppose a UBI\"],[\"20% of people in London neither support nor oppose a UBI\"],[\"19% of people in North neither support nor oppose a UBI\"],[\"19% of people in England neither support nor oppose a UBI\"],[\"18% of people in Midlands neither support nor oppose a UBI\"],[\"17% of people in Scotland neither support nor oppose a UBI\"],[\"17% of people in Northern Ireland neither support nor oppose a UBI\"]],\"hovertemplate\":\"%{customdata[0]}\",\"legendgroup\":\"Neither support nor oppose\",\"marker\":{\"color\":\"#FFFFFF\",\"pattern\":{\"shape\":\"\"}},\"name\":\"Neither support nor oppose\",\"offsetgroup\":\"Neither support nor oppose\",\"orientation\":\"h\",\"showlegend\":true,\"text\":[\"29%\",\"20%\",\"20%\",\"19%\",\"19%\",\"18%\",\"17%\",\"17%\"],\"textposition\":\"inside\",\"x\":[29.0,20.202020202,20.0,19.0,19.0,17.6470588235,16.8316831683,17.1717171717],\"xaxis\":\"x\",\"y\":[\"Wales\",\"South\",\"London\",\"North\",\"England\",\"Midlands\",\"Scotland\",\"Northern Ireland\"],\"yaxis\":\"y\",\"type\":\"bar\",\"texttemplate\":\"%{text}\"},{\"alignmentgroup\":\"True\",\"customdata\":[[\"10% of people in London don\\'t know a UBI\"],[\"7% of people in North don\\'t know a UBI\"],[\"7% of people in Midlands don\\'t know a UBI\"],[\"7% of people in England don\\'t know a UBI\"],[\"5% of people in South don\\'t know a UBI\"],[\"5% of people in Scotland don\\'t know a UBI\"],[\"5% of people in Northern Ireland don\\'t know a UBI\"],[\"4% of people in Wales don\\'t know a UBI\"]],\"hovertemplate\":\"%{customdata[0]}\",\"legendgroup\":\"Don\\'t know\",\"marker\":{\"color\":\"#F2F2F2\",\"pattern\":{\"shape\":\"\"}},\"name\":\"Don\\'t know\",\"offsetgroup\":\"Don\\'t know\",\"orientation\":\"h\",\"showlegend\":true,\"text\":[\"10%\",\"7%\",\"7%\",\"7%\",\"5%\",\"5%\",\"5%\",\"4%\"],\"textposition\":\"inside\",\"x\":[10.0,7.0,6.862745098,7.0,5.0505050505,4.9504950495,5.0505050505,4.0],\"xaxis\":\"x\",\"y\":[\"London\",\"North\",\"Midlands\",\"England\",\"South\",\"Scotland\",\"Northern Ireland\",\"Wales\"],\"yaxis\":\"y\",\"type\":\"bar\",\"texttemplate\":\"%{text}\"},{\"alignmentgroup\":\"True\",\"customdata\":[[\"20% of people in Scotland tend to oppose a UBI\"],[\"18% of people in Midlands tend to oppose a UBI\"],[\"17% of people in England tend to oppose a UBI\"],[\"16% of people in North tend to oppose a UBI\"],[\"16% of people in South tend to oppose a UBI\"],[\"16% of people in London tend to oppose a UBI\"],[\"12% of people in Wales tend to oppose a UBI\"],[\"8% of people in Northern Ireland tend to oppose a UBI\"]],\"hovertemplate\":\"%{customdata[0]}\",\"legendgroup\":\"Tend to oppose\",\"marker\":{\"color\":\"#808080\",\"pattern\":{\"shape\":\"\"}},\"name\":\"Tend to oppose\",\"offsetgroup\":\"Tend to oppose\",\"orientation\":\"h\",\"showlegend\":true,\"text\":[\"20%\",\"18%\",\"17%\",\"16%\",\"16%\",\"16%\",\"12%\",\"8%\"],\"textposition\":\"inside\",\"x\":[19.801980198,17.6470588235,17.0,16.0,16.1616161616,16.0,12.0,8.0808080808],\"xaxis\":\"x\",\"y\":[\"Scotland\",\"Midlands\",\"England\",\"North\",\"South\",\"London\",\"Wales\",\"Northern Ireland\"],\"yaxis\":\"y\",\"type\":\"bar\",\"texttemplate\":\"%{text}\"},{\"alignmentgroup\":\"True\",\"customdata\":[[\"12% of people in Scotland strongly oppose a UBI\"],[\"11% of people in Midlands strongly oppose a UBI\"],[\"9% of people in North strongly oppose a UBI\"],[\"9% of people in South strongly oppose a UBI\"],[\"9% of people in England strongly oppose a UBI\"],[\"8% of people in Wales strongly oppose a UBI\"],[\"7% of people in London strongly oppose a UBI\"],[\"3% of people in Northern Ireland strongly oppose a UBI\"]],\"hovertemplate\":\"%{customdata[0]}\",\"legendgroup\":\"Strongly oppose\",\"marker\":{\"color\":\"#616161\",\"pattern\":{\"shape\":\"\"}},\"name\":\"Strongly oppose\",\"offsetgroup\":\"Strongly oppose\",\"orientation\":\"h\",\"showlegend\":true,\"text\":[\"12%\",\"11%\",\"9%\",\"9%\",\"9%\",\"8%\",\"7%\",\"3%\"],\"textposition\":\"inside\",\"x\":[11.8811881188,10.7843137255,9.0,9.0909090909,9.0,8.0,7.0,3.0303030303],\"xaxis\":\"x\",\"y\":[\"Scotland\",\"Midlands\",\"North\",\"South\",\"England\",\"Wales\",\"London\",\"Northern Ireland\"],\"yaxis\":\"y\",\"type\":\"bar\",\"texttemplate\":\"%{text}\"}],\"layout\":{\"template\":{\"data\":{\"barpolar\":[{\"marker\":{\"line\":{\"color\":\"white\",\"width\":0.5},\"pattern\":{\"fillmode\":\"overlay\",\"size\":10,\"solidity\":0.2}},\"type\":\"barpolar\"}],\"bar\":[{\"error_x\":{\"color\":\"#2a3f5f\"},\"error_y\":{\"color\":\"#2a3f5f\"},\"marker\":{\"line\":{\"color\":\"white\",\"width\":0.5},\"pattern\":{\"fillmode\":\"overlay\",\"size\":10,\"solidity\":0.2}},\"type\":\"bar\"}],\"carpet\":[{\"aaxis\":{\"endlinecolor\":\"#2a3f5f\",\"gridcolor\":\"#C8D4E3\",\"linecolor\":\"#C8D4E3\",\"minorgridcolor\":\"#C8D4E3\",\"startlinecolor\":\"#2a3f5f\"},\"baxis\":{\"endlinecolor\":\"#2a3f5f\",\"gridcolor\":\"#C8D4E3\",\"linecolor\":\"#C8D4E3\",\"minorgridcolor\":\"#C8D4E3\",\"startlinecolor\":\"#2a3f5f\"},\"type\":\"carpet\"}],\"choropleth\":[{\"colorbar\":{\"outlinewidth\":0,\"ticks\":\"\"},\"type\":\"choropleth\"}],\"contourcarpet\":[{\"colorbar\":{\"outlinewidth\":0,\"ticks\":\"\"},\"type\":\"contourcarpet\"}],\"contour\":[{\"colorbar\":{\"outlinewidth\":0,\"ticks\":\"\"},\"colorscale\":[[0.0,\"#0d0887\"],[0.1111111111111111,\"#46039f\"],[0.2222222222222222,\"#7201a8\"],[0.3333333333333333,\"#9c179e\"],[0.4444444444444444,\"#bd3786\"],[0.5555555555555556,\"#d8576b\"],[0.6666666666666666,\"#ed7953\"],[0.7777777777777778,\"#fb9f3a\"],[0.8888888888888888,\"#fdca26\"],[1.0,\"#f0f921\"]],\"type\":\"contour\"}],\"heatmapgl\":[{\"colorbar\":{\"outlinewidth\":0,\"ticks\":\"\"},\"colorscale\":[[0.0,\"#0d0887\"],[0.1111111111111111,\"#46039f\"],[0.2222222222222222,\"#7201a8\"],[0.3333333333333333,\"#9c179e\"],[0.4444444444444444,\"#bd3786\"],[0.5555555555555556,\"#d8576b\"],[0.6666666666666666,\"#ed7953\"],[0.7777777777777778,\"#fb9f3a\"],[0.8888888888888888,\"#fdca26\"],[1.0,\"#f0f921\"]],\"type\":\"heatmapgl\"}],\"heatmap\":[{\"colorbar\":{\"outlinewidth\":0,\"ticks\":\"\"},\"colorscale\":[[0.0,\"#0d0887\"],[0.1111111111111111,\"#46039f\"],[0.2222222222222222,\"#7201a8\"],[0.3333333333333333,\"#9c179e\"],[0.4444444444444444,\"#bd3786\"],[0.5555555555555556,\"#d8576b\"],[0.6666666666666666,\"#ed7953\"],[0.7777777777777778,\"#fb9f3a\"],[0.8888888888888888,\"#fdca26\"],[1.0,\"#f0f921\"]],\"type\":\"heatmap\"}],\"histogram2dcontour\":[{\"colorbar\":{\"outlinewidth\":0,\"ticks\":\"\"},\"colorscale\":[[0.0,\"#0d0887\"],[0.1111111111111111,\"#46039f\"],[0.2222222222222222,\"#7201a8\"],[0.3333333333333333,\"#9c179e\"],[0.4444444444444444,\"#bd3786\"],[0.5555555555555556,\"#d8576b\"],[0.6666666666666666,\"#ed7953\"],[0.7777777777777778,\"#fb9f3a\"],[0.8888888888888888,\"#fdca26\"],[1.0,\"#f0f921\"]],\"type\":\"histogram2dcontour\"}],\"histogram2d\":[{\"colorbar\":{\"outlinewidth\":0,\"ticks\":\"\"},\"colorscale\":[[0.0,\"#0d0887\"],[0.1111111111111111,\"#46039f\"],[0.2222222222222222,\"#7201a8\"],[0.3333333333333333,\"#9c179e\"],[0.4444444444444444,\"#bd3786\"],[0.5555555555555556,\"#d8576b\"],[0.6666666666666666,\"#ed7953\"],[0.7777777777777778,\"#fb9f3a\"],[0.8888888888888888,\"#fdca26\"],[1.0,\"#f0f921\"]],\"type\":\"histogram2d\"}],\"histogram\":[{\"marker\":{\"pattern\":{\"fillmode\":\"overlay\",\"size\":10,\"solidity\":0.2}},\"type\":\"histogram\"}],\"mesh3d\":[{\"colorbar\":{\"outlinewidth\":0,\"ticks\":\"\"},\"type\":\"mesh3d\"}],\"parcoords\":[{\"line\":{\"colorbar\":{\"outlinewidth\":0,\"ticks\":\"\"}},\"type\":\"parcoords\"}],\"pie\":[{\"automargin\":true,\"type\":\"pie\"}],\"scatter3d\":[{\"line\":{\"colorbar\":{\"outlinewidth\":0,\"ticks\":\"\"}},\"marker\":{\"colorbar\":{\"outlinewidth\":0,\"ticks\":\"\"}},\"type\":\"scatter3d\"}],\"scattercarpet\":[{\"marker\":{\"colorbar\":{\"outlinewidth\":0,\"ticks\":\"\"}},\"type\":\"scattercarpet\"}],\"scattergeo\":[{\"marker\":{\"colorbar\":{\"outlinewidth\":0,\"ticks\":\"\"}},\"type\":\"scattergeo\"}],\"scattergl\":[{\"marker\":{\"colorbar\":{\"outlinewidth\":0,\"ticks\":\"\"}},\"type\":\"scattergl\"}],\"scattermapbox\":[{\"marker\":{\"colorbar\":{\"outlinewidth\":0,\"ticks\":\"\"}},\"type\":\"scattermapbox\"}],\"scatterpolargl\":[{\"marker\":{\"colorbar\":{\"outlinewidth\":0,\"ticks\":\"\"}},\"type\":\"scatterpolargl\"}],\"scatterpolar\":[{\"marker\":{\"colorbar\":{\"outlinewidth\":0,\"ticks\":\"\"}},\"type\":\"scatterpolar\"}],\"scatter\":[{\"fillpattern\":{\"fillmode\":\"overlay\",\"size\":10,\"solidity\":0.2},\"type\":\"scatter\"}],\"scatterternary\":[{\"marker\":{\"colorbar\":{\"outlinewidth\":0,\"ticks\":\"\"}},\"type\":\"scatterternary\"}],\"surface\":[{\"colorbar\":{\"outlinewidth\":0,\"ticks\":\"\"},\"colorscale\":[[0.0,\"#0d0887\"],[0.1111111111111111,\"#46039f\"],[0.2222222222222222,\"#7201a8\"],[0.3333333333333333,\"#9c179e\"],[0.4444444444444444,\"#bd3786\"],[0.5555555555555556,\"#d8576b\"],[0.6666666666666666,\"#ed7953\"],[0.7777777777777778,\"#fb9f3a\"],[0.8888888888888888,\"#fdca26\"],[1.0,\"#f0f921\"]],\"type\":\"surface\"}],\"table\":[{\"cells\":{\"fill\":{\"color\":\"#EBF0F8\"},\"line\":{\"color\":\"white\"}},\"header\":{\"fill\":{\"color\":\"#C8D4E3\"},\"line\":{\"color\":\"white\"}},\"type\":\"table\"}]},\"layout\":{\"annotationdefaults\":{\"arrowcolor\":\"#2a3f5f\",\"arrowhead\":0,\"arrowwidth\":1},\"autotypenumbers\":\"strict\",\"coloraxis\":{\"colorbar\":{\"outlinewidth\":0,\"ticks\":\"\"}},\"colorscale\":{\"diverging\":[[0,\"#8e0152\"],[0.1,\"#c51b7d\"],[0.2,\"#de77ae\"],[0.3,\"#f1b6da\"],[0.4,\"#fde0ef\"],[0.5,\"#f7f7f7\"],[0.6,\"#e6f5d0\"],[0.7,\"#b8e186\"],[0.8,\"#7fbc41\"],[0.9,\"#4d9221\"],[1,\"#276419\"]],\"sequential\":[[0.0,\"#0d0887\"],[0.1111111111111111,\"#46039f\"],[0.2222222222222222,\"#7201a8\"],[0.3333333333333333,\"#9c179e\"],[0.4444444444444444,\"#bd3786\"],[0.5555555555555556,\"#d8576b\"],[0.6666666666666666,\"#ed7953\"],[0.7777777777777778,\"#fb9f3a\"],[0.8888888888888888,\"#fdca26\"],[1.0,\"#f0f921\"]],\"sequentialminus\":[[0.0,\"#0d0887\"],[0.1111111111111111,\"#46039f\"],[0.2222222222222222,\"#7201a8\"],[0.3333333333333333,\"#9c179e\"],[0.4444444444444444,\"#bd3786\"],[0.5555555555555556,\"#d8576b\"],[0.6666666666666666,\"#ed7953\"],[0.7777777777777778,\"#fb9f3a\"],[0.8888888888888888,\"#fdca26\"],[1.0,\"#f0f921\"]]},\"colorway\":[\"#636efa\",\"#EF553B\",\"#00cc96\",\"#ab63fa\",\"#FFA15A\",\"#19d3f3\",\"#FF6692\",\"#B6E880\",\"#FF97FF\",\"#FECB52\"],\"font\":{\"color\":\"#2a3f5f\"},\"geo\":{\"bgcolor\":\"white\",\"lakecolor\":\"white\",\"landcolor\":\"white\",\"showlakes\":true,\"showland\":true,\"subunitcolor\":\"#C8D4E3\"},\"hoverlabel\":{\"align\":\"left\"},\"hovermode\":\"closest\",\"mapbox\":{\"style\":\"light\"},\"paper_bgcolor\":\"white\",\"plot_bgcolor\":\"white\",\"polar\":{\"angularaxis\":{\"gridcolor\":\"#EBF0F8\",\"linecolor\":\"#EBF0F8\",\"ticks\":\"\"},\"bgcolor\":\"white\",\"radialaxis\":{\"gridcolor\":\"#EBF0F8\",\"linecolor\":\"#EBF0F8\",\"ticks\":\"\"}},\"scene\":{\"xaxis\":{\"backgroundcolor\":\"white\",\"gridcolor\":\"#DFE8F3\",\"gridwidth\":2,\"linecolor\":\"#EBF0F8\",\"showbackground\":true,\"ticks\":\"\",\"zerolinecolor\":\"#EBF0F8\"},\"yaxis\":{\"backgroundcolor\":\"white\",\"gridcolor\":\"#DFE8F3\",\"gridwidth\":2,\"linecolor\":\"#EBF0F8\",\"showbackground\":true,\"ticks\":\"\",\"zerolinecolor\":\"#EBF0F8\"},\"zaxis\":{\"backgroundcolor\":\"white\",\"gridcolor\":\"#DFE8F3\",\"gridwidth\":2,\"linecolor\":\"#EBF0F8\",\"showbackground\":true,\"ticks\":\"\",\"zerolinecolor\":\"#EBF0F8\"}},\"shapedefaults\":{\"line\":{\"color\":\"#2a3f5f\"}},\"ternary\":{\"aaxis\":{\"gridcolor\":\"#DFE8F3\",\"linecolor\":\"#A2B1C6\",\"ticks\":\"\"},\"baxis\":{\"gridcolor\":\"#DFE8F3\",\"linecolor\":\"#A2B1C6\",\"ticks\":\"\"},\"bgcolor\":\"white\",\"caxis\":{\"gridcolor\":\"#DFE8F3\",\"linecolor\":\"#A2B1C6\",\"ticks\":\"\"}},\"title\":{\"x\":0.05},\"xaxis\":{\"automargin\":true,\"gridcolor\":\"#EBF0F8\",\"linecolor\":\"#EBF0F8\",\"ticks\":\"\",\"title\":{\"standoff\":15},\"zerolinecolor\":\"#EBF0F8\",\"zerolinewidth\":2},\"yaxis\":{\"automargin\":true,\"gridcolor\":\"#EBF0F8\",\"linecolor\":\"#EBF0F8\",\"ticks\":\"\",\"title\":{\"standoff\":15},\"zerolinecolor\":\"#EBF0F8\",\"zerolinewidth\":2}}},\"xaxis\":{\"anchor\":\"y\",\"domain\":[0.0,1.0],\"title\":{\"text\":\"Percent\"},\"tickangle\":0},\"yaxis\":{\"anchor\":\"x\",\"domain\":[0.0,1.0],\"title\":{\"text\":\"Region\"}},\"legend\":{\"title\":{},\"tracegroupgap\":0,\"orientation\":\"h\",\"yanchor\":\"bottom\",\"y\":-0.3},\"margin\":{\"t\":60},\"barmode\":\"relative\",\"uniformtext\":{\"minsize\":11,\"mode\":\"hide\"},\"title\":{\"text\":\"Figure 1: UBI favourability by UK subregion\"},\"font\":{\"family\":\"Roboto Serif\",\"color\":\"black\"},\"images\":[{\"sizex\":0.2,\"sizey\":0.2,\"source\":\"https://raw.githubusercontent.com/PolicyEngine/policyengine-app/master/src/images/logos/policyengine/blue.png\",\"x\":1,\"xanchor\":\"right\",\"xref\":\"paper\",\"y\":-0.15,\"yanchor\":\"bottom\",\"yref\":\"paper\"}],\"height\":600,\"width\":800,\"modebar\":{\"bgcolor\":\"rgba(0,0,0,0)\",\"color\":\"rgba(0,0,0,0)\"}}}'"
      ]
     },
     "execution_count": 1,
     "metadata": {},
     "output_type": "execute_result"
    }
   ],
   "source": [
    "import plotly.express as px\n",
    "from policyengine_core.charts import *\n",
    "\n",
    "RESPONSE_JSON = '{\"poll_id\":{\"90\":7,\"84\":7,\"66\":7,\"78\":7,\"54\":7,\"48\":7,\"72\":7,\"60\":7,\"91\":7,\"61\":7,\"49\":7,\"73\":7,\"55\":7,\"67\":7,\"79\":7,\"85\":7,\"80\":7,\"62\":7,\"68\":7,\"50\":7,\"74\":7,\"56\":7,\"86\":7,\"92\":7,\"71\":7,\"53\":7,\"59\":7,\"77\":7,\"65\":7,\"89\":7,\"95\":7,\"83\":7,\"87\":7,\"57\":7,\"75\":7,\"51\":7,\"63\":7,\"69\":7,\"81\":7,\"93\":7,\"88\":7,\"58\":7,\"52\":7,\"64\":7,\"76\":7,\"82\":7,\"70\":7,\"94\":7},\"question_id\":{\"90\":10,\"84\":10,\"66\":10,\"78\":10,\"54\":10,\"48\":10,\"72\":10,\"60\":10,\"91\":10,\"61\":10,\"49\":10,\"73\":10,\"55\":10,\"67\":10,\"79\":10,\"85\":10,\"80\":10,\"62\":10,\"68\":10,\"50\":10,\"74\":10,\"56\":10,\"86\":10,\"92\":10,\"71\":10,\"53\":10,\"59\":10,\"77\":10,\"65\":10,\"89\":10,\"95\":10,\"83\":10,\"87\":10,\"57\":10,\"75\":10,\"51\":10,\"63\":10,\"69\":10,\"81\":10,\"93\":10,\"88\":10,\"58\":10,\"52\":10,\"64\":10,\"76\":10,\"82\":10,\"70\":10,\"94\":10},\"response\":{\"90\":\"Strongly support\",\"84\":\"Strongly support\",\"66\":\"Strongly support\",\"78\":\"Strongly support\",\"54\":\"Strongly support\",\"48\":\"Strongly support\",\"72\":\"Strongly support\",\"60\":\"Strongly support\",\"91\":\"Tend to support\",\"61\":\"Tend to support\",\"49\":\"Tend to support\",\"73\":\"Tend to support\",\"55\":\"Tend to support\",\"67\":\"Tend to support\",\"79\":\"Tend to support\",\"85\":\"Tend to support\",\"80\":\"Neither support nor oppose\",\"62\":\"Neither support nor oppose\",\"68\":\"Neither support nor oppose\",\"50\":\"Neither support nor oppose\",\"74\":\"Neither support nor oppose\",\"56\":\"Neither support nor oppose\",\"86\":\"Neither support nor oppose\",\"92\":\"Neither support nor oppose\",\"71\":\"Don\\'t Know\",\"53\":\"Don\\'t Know\",\"59\":\"Don\\'t Know\",\"77\":\"Don\\'t Know\",\"65\":\"Don\\'t Know\",\"89\":\"Don\\'t Know\",\"95\":\"Don\\'t Know\",\"83\":\"Don\\'t Know\",\"87\":\"Tend to oppose\",\"57\":\"Tend to oppose\",\"75\":\"Tend to oppose\",\"51\":\"Tend to oppose\",\"63\":\"Tend to oppose\",\"69\":\"Tend to oppose\",\"81\":\"Tend to oppose\",\"93\":\"Tend to oppose\",\"88\":\"Strongly oppose\",\"58\":\"Strongly oppose\",\"52\":\"Strongly oppose\",\"64\":\"Strongly oppose\",\"76\":\"Strongly oppose\",\"82\":\"Strongly oppose\",\"70\":\"Strongly oppose\",\"94\":\"Strongly oppose\"},\"xtab1_var\":{\"90\":\"Region\",\"84\":\"Region\",\"66\":\"Region\",\"78\":\"Region\",\"54\":\"Region\",\"48\":\"Region\",\"72\":\"Region\",\"60\":\"Region\",\"91\":\"Region\",\"61\":\"Region\",\"49\":\"Region\",\"73\":\"Region\",\"55\":\"Region\",\"67\":\"Region\",\"79\":\"Region\",\"85\":\"Region\",\"80\":\"Region\",\"62\":\"Region\",\"68\":\"Region\",\"50\":\"Region\",\"74\":\"Region\",\"56\":\"Region\",\"86\":\"Region\",\"92\":\"Region\",\"71\":\"Region\",\"53\":\"Region\",\"59\":\"Region\",\"77\":\"Region\",\"65\":\"Region\",\"89\":\"Region\",\"95\":\"Region\",\"83\":\"Region\",\"87\":\"Region\",\"57\":\"Region\",\"75\":\"Region\",\"51\":\"Region\",\"63\":\"Region\",\"69\":\"Region\",\"81\":\"Region\",\"93\":\"Region\",\"88\":\"Region\",\"58\":\"Region\",\"52\":\"Region\",\"64\":\"Region\",\"76\":\"Region\",\"82\":\"Region\",\"70\":\"Region\",\"94\":\"Region\"},\"xtab1_val\":{\"90\":\"Northern Ireland\",\"84\":\"Scotland\",\"66\":\"London\",\"78\":\"Wales\",\"54\":\"Midlands\",\"48\":\"North\",\"72\":\"England\",\"60\":\"South\",\"91\":\"Northern Ireland\",\"61\":\"South\",\"49\":\"North\",\"73\":\"England\",\"55\":\"Midlands\",\"67\":\"London\",\"79\":\"Wales\",\"85\":\"Scotland\",\"80\":\"Wales\",\"62\":\"South\",\"68\":\"London\",\"50\":\"North\",\"74\":\"England\",\"56\":\"Midlands\",\"86\":\"Scotland\",\"92\":\"Northern Ireland\",\"71\":\"London\",\"53\":\"North\",\"59\":\"Midlands\",\"77\":\"England\",\"65\":\"South\",\"89\":\"Scotland\",\"95\":\"Northern Ireland\",\"83\":\"Wales\",\"87\":\"Scotland\",\"57\":\"Midlands\",\"75\":\"England\",\"51\":\"North\",\"63\":\"South\",\"69\":\"London\",\"81\":\"Wales\",\"93\":\"Northern Ireland\",\"88\":\"Scotland\",\"58\":\"Midlands\",\"52\":\"North\",\"64\":\"South\",\"76\":\"England\",\"82\":\"Wales\",\"70\":\"London\",\"94\":\"Northern Ireland\"},\"xtab2_var\":{\"90\":\"-\",\"84\":\"-\",\"66\":\"-\",\"78\":\"-\",\"54\":\"-\",\"48\":\"-\",\"72\":\"-\",\"60\":\"-\",\"91\":\"-\",\"61\":\"-\",\"49\":\"-\",\"73\":\"-\",\"55\":\"-\",\"67\":\"-\",\"79\":\"-\",\"85\":\"-\",\"80\":\"-\",\"62\":\"-\",\"68\":\"-\",\"50\":\"-\",\"74\":\"-\",\"56\":\"-\",\"86\":\"-\",\"92\":\"-\",\"71\":\"-\",\"53\":\"-\",\"59\":\"-\",\"77\":\"-\",\"65\":\"-\",\"89\":\"-\",\"95\":\"-\",\"83\":\"-\",\"87\":\"-\",\"57\":\"-\",\"75\":\"-\",\"51\":\"-\",\"63\":\"-\",\"69\":\"-\",\"81\":\"-\",\"93\":\"-\",\"88\":\"-\",\"58\":\"-\",\"52\":\"-\",\"64\":\"-\",\"76\":\"-\",\"82\":\"-\",\"70\":\"-\",\"94\":\"-\"},\"xtab2_val\":{\"90\":\"-\",\"84\":\"-\",\"66\":\"-\",\"78\":\"-\",\"54\":\"-\",\"48\":\"-\",\"72\":\"-\",\"60\":\"-\",\"91\":\"-\",\"61\":\"-\",\"49\":\"-\",\"73\":\"-\",\"55\":\"-\",\"67\":\"-\",\"79\":\"-\",\"85\":\"-\",\"80\":\"-\",\"62\":\"-\",\"68\":\"-\",\"50\":\"-\",\"74\":\"-\",\"56\":\"-\",\"86\":\"-\",\"92\":\"-\",\"71\":\"-\",\"53\":\"-\",\"59\":\"-\",\"77\":\"-\",\"65\":\"-\",\"89\":\"-\",\"95\":\"-\",\"83\":\"-\",\"87\":\"-\",\"57\":\"-\",\"75\":\"-\",\"51\":\"-\",\"63\":\"-\",\"69\":\"-\",\"81\":\"-\",\"93\":\"-\",\"88\":\"-\",\"58\":\"-\",\"52\":\"-\",\"64\":\"-\",\"76\":\"-\",\"82\":\"-\",\"70\":\"-\",\"94\":\"-\"},\"pct\":{\"90\":25.0,\"84\":23.0,\"66\":16.0,\"78\":16.0,\"54\":15.0,\"48\":14.0,\"72\":14.0,\"60\":12.0,\"91\":41.0,\"61\":37.0,\"49\":35.0,\"73\":34.0,\"55\":33.0,\"67\":31.0,\"79\":31.0,\"85\":24.0,\"80\":29.0,\"62\":20.0,\"68\":20.0,\"50\":19.0,\"74\":19.0,\"56\":18.0,\"86\":17.0,\"92\":17.0,\"71\":10.0,\"53\":7.0,\"59\":7.0,\"77\":7.0,\"65\":5.0,\"89\":5.0,\"95\":5.0,\"83\":4.0,\"87\":20.0,\"57\":18.0,\"75\":17.0,\"51\":16.0,\"63\":16.0,\"69\":16.0,\"81\":12.0,\"93\":8.0,\"88\":12.0,\"58\":11.0,\"52\":9.0,\"64\":9.0,\"76\":9.0,\"82\":8.0,\"70\":7.0,\"94\":3.0},\"notes\":{\"90\":null,\"84\":null,\"66\":null,\"78\":null,\"54\":null,\"48\":null,\"72\":null,\"60\":null,\"91\":null,\"61\":null,\"49\":null,\"73\":null,\"55\":null,\"67\":null,\"79\":null,\"85\":null,\"80\":null,\"62\":null,\"68\":null,\"50\":null,\"74\":null,\"56\":null,\"86\":null,\"92\":null,\"71\":null,\"53\":null,\"59\":null,\"77\":null,\"65\":null,\"89\":null,\"95\":null,\"83\":null,\"87\":null,\"57\":null,\"75\":null,\"51\":null,\"63\":null,\"69\":null,\"81\":null,\"93\":null,\"88\":null,\"58\":null,\"52\":null,\"64\":null,\"76\":null,\"82\":null,\"70\":null,\"94\":null},\"Region\":{\"90\":\"Northern Ireland\",\"84\":\"Scotland\",\"66\":\"London\",\"78\":\"Wales\",\"54\":\"Midlands\",\"48\":\"North\",\"72\":\"England\",\"60\":\"South\",\"91\":\"Northern Ireland\",\"61\":\"South\",\"49\":\"North\",\"73\":\"England\",\"55\":\"Midlands\",\"67\":\"London\",\"79\":\"Wales\",\"85\":\"Scotland\",\"80\":\"Wales\",\"62\":\"South\",\"68\":\"London\",\"50\":\"North\",\"74\":\"England\",\"56\":\"Midlands\",\"86\":\"Scotland\",\"92\":\"Northern Ireland\",\"71\":\"London\",\"53\":\"North\",\"59\":\"Midlands\",\"77\":\"England\",\"65\":\"South\",\"89\":\"Scotland\",\"95\":\"Northern Ireland\",\"83\":\"Wales\",\"87\":\"Scotland\",\"57\":\"Midlands\",\"75\":\"England\",\"51\":\"North\",\"63\":\"South\",\"69\":\"London\",\"81\":\"Wales\",\"93\":\"Northern Ireland\",\"88\":\"Scotland\",\"58\":\"Midlands\",\"52\":\"North\",\"64\":\"South\",\"76\":\"England\",\"82\":\"Wales\",\"70\":\"London\",\"94\":\"Northern Ireland\"},\"Response\":{\"90\":\"Strongly support\",\"84\":\"Strongly support\",\"66\":\"Strongly support\",\"78\":\"Strongly support\",\"54\":\"Strongly support\",\"48\":\"Strongly support\",\"72\":\"Strongly support\",\"60\":\"Strongly support\",\"91\":\"Tend to support\",\"61\":\"Tend to support\",\"49\":\"Tend to support\",\"73\":\"Tend to support\",\"55\":\"Tend to support\",\"67\":\"Tend to support\",\"79\":\"Tend to support\",\"85\":\"Tend to support\",\"80\":\"Neither support nor oppose\",\"62\":\"Neither support nor oppose\",\"68\":\"Neither support nor oppose\",\"50\":\"Neither support nor oppose\",\"74\":\"Neither support nor oppose\",\"56\":\"Neither support nor oppose\",\"86\":\"Neither support nor oppose\",\"92\":\"Neither support nor oppose\",\"71\":\"Don\\'t know\",\"53\":\"Don\\'t know\",\"59\":\"Don\\'t know\",\"77\":\"Don\\'t know\",\"65\":\"Don\\'t know\",\"89\":\"Don\\'t know\",\"95\":\"Don\\'t know\",\"83\":\"Don\\'t know\",\"87\":\"Tend to oppose\",\"57\":\"Tend to oppose\",\"75\":\"Tend to oppose\",\"51\":\"Tend to oppose\",\"63\":\"Tend to oppose\",\"69\":\"Tend to oppose\",\"81\":\"Tend to oppose\",\"93\":\"Tend to oppose\",\"88\":\"Strongly oppose\",\"58\":\"Strongly oppose\",\"52\":\"Strongly oppose\",\"64\":\"Strongly oppose\",\"76\":\"Strongly oppose\",\"82\":\"Strongly oppose\",\"70\":\"Strongly oppose\",\"94\":\"Strongly oppose\"},\"response_code\":{\"90\":6,\"84\":6,\"66\":6,\"78\":6,\"54\":6,\"48\":6,\"72\":6,\"60\":6,\"91\":5,\"61\":5,\"49\":5,\"73\":5,\"55\":5,\"67\":5,\"79\":5,\"85\":5,\"80\":4,\"62\":4,\"68\":4,\"50\":4,\"74\":4,\"56\":4,\"86\":4,\"92\":4,\"71\":3,\"53\":3,\"59\":3,\"77\":3,\"65\":3,\"89\":3,\"95\":3,\"83\":3,\"87\":2,\"57\":2,\"75\":2,\"51\":2,\"63\":2,\"69\":2,\"81\":2,\"93\":2,\"88\":1,\"58\":1,\"52\":1,\"64\":1,\"76\":1,\"82\":1,\"70\":1,\"94\":1},\"Percent\":{\"90\":25.2525252525,\"84\":22.7722772277,\"66\":16.0,\"78\":16.0,\"54\":14.7058823529,\"48\":14.0,\"72\":14.0,\"60\":12.1212121212,\"91\":41.4141414141,\"61\":37.3737373737,\"49\":35.0,\"73\":34.0,\"55\":32.3529411765,\"67\":31.0,\"79\":31.0,\"85\":23.7623762376,\"80\":29.0,\"62\":20.202020202,\"68\":20.0,\"50\":19.0,\"74\":19.0,\"56\":17.6470588235,\"86\":16.8316831683,\"92\":17.1717171717,\"71\":10.0,\"53\":7.0,\"59\":6.862745098,\"77\":7.0,\"65\":5.0505050505,\"89\":4.9504950495,\"95\":5.0505050505,\"83\":4.0,\"87\":19.801980198,\"57\":17.6470588235,\"75\":17.0,\"51\":16.0,\"63\":16.1616161616,\"69\":16.0,\"81\":12.0,\"93\":8.0808080808,\"88\":11.8811881188,\"58\":10.7843137255,\"52\":9.0,\"64\":9.0909090909,\"76\":9.0,\"82\":8.0,\"70\":7.0,\"94\":3.0303030303},\"Hover text\":{\"90\":\"25% of people in Northern Ireland strongly support a UBI\",\"84\":\"23% of people in Scotland strongly support a UBI\",\"66\":\"16% of people in London strongly support a UBI\",\"78\":\"16% of people in Wales strongly support a UBI\",\"54\":\"15% of people in Midlands strongly support a UBI\",\"48\":\"14% of people in North strongly support a UBI\",\"72\":\"14% of people in England strongly support a UBI\",\"60\":\"12% of people in South strongly support a UBI\",\"91\":\"41% of people in Northern Ireland tend to support a UBI\",\"61\":\"37% of people in South tend to support a UBI\",\"49\":\"35% of people in North tend to support a UBI\",\"73\":\"34% of people in England tend to support a UBI\",\"55\":\"32% of people in Midlands tend to support a UBI\",\"67\":\"31% of people in London tend to support a UBI\",\"79\":\"31% of people in Wales tend to support a UBI\",\"85\":\"24% of people in Scotland tend to support a UBI\",\"80\":\"29% of people in Wales neither support nor oppose a UBI\",\"62\":\"20% of people in South neither support nor oppose a UBI\",\"68\":\"20% of people in London neither support nor oppose a UBI\",\"50\":\"19% of people in North neither support nor oppose a UBI\",\"74\":\"19% of people in England neither support nor oppose a UBI\",\"56\":\"18% of people in Midlands neither support nor oppose a UBI\",\"86\":\"17% of people in Scotland neither support nor oppose a UBI\",\"92\":\"17% of people in Northern Ireland neither support nor oppose a UBI\",\"71\":\"10% of people in London don\\'t know a UBI\",\"53\":\"7% of people in North don\\'t know a UBI\",\"59\":\"7% of people in Midlands don\\'t know a UBI\",\"77\":\"7% of people in England don\\'t know a UBI\",\"65\":\"5% of people in South don\\'t know a UBI\",\"89\":\"5% of people in Scotland don\\'t know a UBI\",\"95\":\"5% of people in Northern Ireland don\\'t know a UBI\",\"83\":\"4% of people in Wales don\\'t know a UBI\",\"87\":\"20% of people in Scotland tend to oppose a UBI\",\"57\":\"18% of people in Midlands tend to oppose a UBI\",\"75\":\"17% of people in England tend to oppose a UBI\",\"51\":\"16% of people in North tend to oppose a UBI\",\"63\":\"16% of people in South tend to oppose a UBI\",\"69\":\"16% of people in London tend to oppose a UBI\",\"81\":\"12% of people in Wales tend to oppose a UBI\",\"93\":\"8% of people in Northern Ireland tend to oppose a UBI\",\"88\":\"12% of people in Scotland strongly oppose a UBI\",\"58\":\"11% of people in Midlands strongly oppose a UBI\",\"52\":\"9% of people in North strongly oppose a UBI\",\"64\":\"9% of people in South strongly oppose a UBI\",\"76\":\"9% of people in England strongly oppose a UBI\",\"82\":\"8% of people in Wales strongly oppose a UBI\",\"70\":\"7% of people in London strongly oppose a UBI\",\"94\":\"3% of people in Northern Ireland strongly oppose a UBI\"},\"Text\":{\"90\":\"25%\",\"84\":\"23%\",\"66\":\"16%\",\"78\":\"16%\",\"54\":\"15%\",\"48\":\"14%\",\"72\":\"14%\",\"60\":\"12%\",\"91\":\"41%\",\"61\":\"37%\",\"49\":\"35%\",\"73\":\"34%\",\"55\":\"32%\",\"67\":\"31%\",\"79\":\"31%\",\"85\":\"24%\",\"80\":\"29%\",\"62\":\"20%\",\"68\":\"20%\",\"50\":\"19%\",\"74\":\"19%\",\"56\":\"18%\",\"86\":\"17%\",\"92\":\"17%\",\"71\":\"10%\",\"53\":\"7%\",\"59\":\"7%\",\"77\":\"7%\",\"65\":\"5%\",\"89\":\"5%\",\"95\":\"5%\",\"83\":\"4%\",\"87\":\"20%\",\"57\":\"18%\",\"75\":\"17%\",\"51\":\"16%\",\"63\":\"16%\",\"69\":\"16%\",\"81\":\"12%\",\"93\":\"8%\",\"88\":\"12%\",\"58\":\"11%\",\"52\":\"9%\",\"64\":\"9%\",\"76\":\"9%\",\"82\":\"8%\",\"70\":\"7%\",\"94\":\"3%\"}}'\n",
    "\n",
    "responses = pd.read_json(RESPONSE_JSON)\n",
    "\n",
    "responses[\"Hover text\"] = [\n",
    "    f\"{responses.iloc[i]['Percent']:.0f}% of people in {responses.iloc[i]['Region']} {responses.iloc[i]['Response'].lower()} a UBI\"\n",
    "    for i in range(len(responses))\n",
    "]\n",
    "\n",
    "responses[\"Text\"] = [\n",
    "    f\"{responses.iloc[i]['Percent']:.0f}%\"\n",
    "    for i in range(len(responses))\n",
    "]\n",
    "\n",
    "fig = px.bar(\n",
    "    responses,\n",
    "    x=\"Percent\",\n",
    "    y=\"xtab1_val\",\n",
    "    text=\"Text\",\n",
    "    color=\"Response\",\n",
    "    custom_data=[\"Hover text\"],\n",
    "    color_discrete_map={\n",
    "        \"Strongly oppose\": DARK_GRAY,\n",
    "        \"Tend to oppose\": GRAY,\n",
    "        \"Don\\'t know\": LIGHT_GRAY,\n",
    "        \"Neither support nor oppose\": WHITE,\n",
    "        \"Tend to support\": BLUE_LIGHT,\n",
    "        \"Strongly support\": BLUE_PRIMARY,\n",
    "    },\n",
    ")\n",
    "\n",
    "fig.update_traces(\n",
    "    textposition=\"inside\",\n",
    "    texttemplate=\"%{text}\",\n",
    "    hovertemplate=\"%{customdata[0]}\",\n",
    ")\n",
    "\n",
    "fig.update_layout(\n",
    "    uniformtext_minsize=11,\n",
    "    uniformtext_mode=\"hide\",\n",
    "    xaxis_tickangle=0,\n",
    "    legend_title_text=None,\n",
    "    yaxis_title=\"Region\",\n",
    "    title=\"Figure 1: UBI favourability by UK subregion\",\n",
    "    legend=dict(\n",
    "        orientation=\"h\",\n",
    "        yanchor=\"bottom\",\n",
    "        y=-0.3,\n",
    "    )\n",
    ")\n",
    "\n",
    "format_fig(fig).update_layout(\n",
    "    width=800,\n",
    "    height=600,\n",
    ").to_json()"
   ]
  },
  {
   "cell_type": "markdown",
   "metadata": {},
   "source": [
    "_Source: [Ipsos MORI, August 2017](https://www.ipsos.com/ipsos-mori/en-uk/half-uk-adults-would-support-universal-basic-income-principle). Full question: \"Assuming the level would be set roughly at the amount the UK government judged to be necessary to cover basic needs, e.g. food and clothing (but not housing costs), to what extent would you support or oppose the UK Government introducing a basic income?\"._\n",
    "\n",
    "## Exploring the space of feasible policies\n",
    "\n",
    "One could model an infinite number of basic income policies for Northern Ireland. We constrained the problem by defining UBI parameter values, tax variables to adjust, and requirements for the resulting policy.\n",
    "\n",
    "In particular, we limited to UBI policies of the following form:\n",
    "\n",
    "- Amounts per adult (aged 18 or over) of £200, £300, and £400 per month\n",
    "- Amounts per child aged 16 or 17 of half the adult amount\n",
    "- No amount per child younger than 16\n",
    "- UBI payments do not count as income for tax or means-tested benefits\n",
    "- UK government externally funds 25% of the gross UBI cost\n",
    "\n",
    "To fund the UBI, we considered three levers:\n",
    "\n",
    "- Personal allowance, from zero to the current value of £12,570 (we also adjusted the higher rate threshold to keep it at £50,270)\n",
    "- Basic rate increase\n",
    "- Ratio of higher and additional rate increases to the basic rate increase, of 0x (not changing the higher and additional rates), 1x, and 2x\n",
    "\n",
    "Finally, we constrained the end policy to:\n",
    "\n",
    "- Be budget-neutral (assuming no behavioural responses)\n",
    "- Avoid raising marginal tax rates above 100%,[^6] either via the normal tax rates, the phase-out of the personal allowance or benefit phase-outs\n",
    "\n",
    "[^6]: We exclude the Child Benefit High-Income Tax Charge from contributing to this limit, because the MTR addition from that is dependent on the number of children, with no upper bound.\n"
   ]
  },
  {
   "cell_type": "code",
   "execution_count": 3,
   "metadata": {
    "tags": [
     "hide-input"
    ]
   },
   "outputs": [
    {
     "name": "stderr",
     "output_type": "stream",
     "text": [
      "100%|██████████| 14/14 [01:15<00:00,  5.36s/it]\n"
     ]
    }
   ],
   "source": [
    "from policyengine_uk import Microsimulation\n",
    "import numpy as np\n",
    "import pandas as pd\n",
    "import plotly.express as px\n",
    "import plotly.graph_objects as go\n",
    "from scipy.optimize import bisect\n",
    "from policyengine_core.charts import format_fig\n",
    "from policyengine_core.model_api import *\n",
    "import pandas as pd\n",
    "# Silence warnings\n",
    "import warnings\n",
    "warnings.filterwarnings(\"ignore\")\n",
    "import plotly.io as pio\n",
    "pio.renderers.default = \"notebook\"\n",
    "\n",
    "np.random.seed(0)\n",
    "\n",
    "def filter_to_ni(sim: Microsimulation) -> None:\n",
    "    \"\"\"Filters a simulation, in place, to just Northern Ireland.\n",
    "    \n",
    "    Args:\n",
    "        sim (Microsimulation): The simulation to filter.\n",
    "    \"\"\"\n",
    "    weights = sim.calculate(\"household_weight\")\n",
    "    country = sim.calculate(\"country\")\n",
    "    sim.set_input(\"household_weight\", 2023, np.where(country == \"NORTHERN_IRELAND\", weights, 0))\n",
    "\n",
    "baseline = Microsimulation()\n",
    "filter_to_ni(baseline)\n",
    "\n",
    "\n",
    "def get_ubi_cost(\n",
    "    adult_amount: float = 400 * 12,\n",
    "    child_amount: float = 200 * 12,\n",
    "    senior_amount: float = 100 * 12,\n",
    "    child_min_age: int = 16,\n",
    "):\n",
    "    in_ni = baseline.calculate(\"country\", map_to=\"person\") == \"NORTHERN_IRELAND\"\n",
    "    age = baseline.calculate(\"age\")\n",
    "    retired = baseline.calculate(\"is_SP_age\")\n",
    "    num_adults = ((age >= 18) * (~retired))[in_ni].sum()\n",
    "    num_children = ((age >= child_min_age) * (age < 18))[in_ni].sum()\n",
    "    num_seniors = (retired)[in_ni].sum()\n",
    "    return adult_amount * num_adults + child_amount * num_children + senior_amount * num_seniors\n",
    "\n",
    "from policyengine_uk.model_api import *\n",
    "\n",
    "def ubi_ni_reform(\n",
    "    personal_allowance: float = 12_570,\n",
    "    higher_rate_threshold: float = 50_270,\n",
    "    basic_rate: float = 0.2,\n",
    "    higher_rate: float = 0.4,\n",
    "    additional_rate: float = 0.45,\n",
    "    child_bi: float = 0,\n",
    "    adult_bi: float = 0,\n",
    "    senior_bi: float = 0,\n",
    "    child_min_age: int = 16,\n",
    ") -> Reform:\n",
    "    TIME_PERIOD = \"year:2023:10\"\n",
    "    return Reform.from_dict({\n",
    "        \"gov.hmrc.income_tax.rates.uk[0].rate\": { TIME_PERIOD: (basic_rate * 1_000) // 1 / 1000 },\n",
    "        \"gov.hmrc.income_tax.rates.uk[1].rate\": { TIME_PERIOD: (higher_rate * 1_000) // 1 / 1000 },\n",
    "        \"gov.hmrc.income_tax.rates.uk[2].rate\": { TIME_PERIOD: (additional_rate * 1_000) // 1 / 1000 },\n",
    "        \"gov.hmrc.income_tax.rates.uk[1].threshold\": { TIME_PERIOD: float(higher_rate_threshold) },\n",
    "        \"gov.hmrc.income_tax.allowances.personal_allowance.amount\": { TIME_PERIOD: float(personal_allowance) },\n",
    "        \"gov.contrib.ubi_center.basic_income.amount.by_age.child\": { TIME_PERIOD: child_bi / 52 },\n",
    "        \"gov.contrib.ubi_center.basic_income.amount.child_min_age\": { TIME_PERIOD: child_min_age },\n",
    "        \"gov.contrib.ubi_center.basic_income.amount.by_age.working_age\": { TIME_PERIOD: adult_bi / 52 },\n",
    "        \"gov.contrib.ubi_center.basic_income.amount.by_age.senior\": { TIME_PERIOD: senior_bi / 52 },\n",
    "    }, country_id=\"uk\")\n",
    "\n",
    "def get_revenue_slow_estimate(\n",
    "    personal_allowance: float,\n",
    "    basic_rate_addition: float,\n",
    "    higher_rate_addition: float,\n",
    "    additional_rate_addition: float,\n",
    "    adult_ubi: float = 0,\n",
    "    child_ubi: float = 0,\n",
    "    senior_ubi: float = 0,\n",
    "    child_min_age: int = 16,\n",
    ") -> float:\n",
    "    reformed = Microsimulation(\n",
    "        reform=ubi_ni_reform(\n",
    "            personal_allowance=personal_allowance,\n",
    "            higher_rate_threshold = 50_270 - personal_allowance,\n",
    "            basic_rate=0.2 + basic_rate_addition,\n",
    "            higher_rate=0.4 + higher_rate_addition,\n",
    "            additional_rate=0.45 + additional_rate_addition,\n",
    "            child_bi=child_ubi,\n",
    "            adult_bi=adult_ubi,\n",
    "            senior_bi=senior_ubi,\n",
    "            child_min_age=child_min_age,\n",
    "        )\n",
    "    )\n",
    "    filter_to_ni(reformed)\n",
    "    return baseline.calculate(\"household_net_income\").sum() - reformed.calculate(\"household_net_income\").sum()\n",
    "\n",
    "def get_revenue_quick_estimate(\n",
    "    personal_allowance: float,\n",
    "    basic_rate_addition: float,\n",
    "    higher_rate_addition: float,\n",
    "    additional_rate_addition: float,\n",
    ") -> float:\n",
    "    income = baseline.calc(\"adjusted_net_income\")\n",
    "    weight = income.weights\n",
    "    add_rate_income = np.maximum(0, income - 125_140)\n",
    "    higher_rate_income = np.maximum(0, income - 50_270) - add_rate_income\n",
    "    basic_rate_income_b = np.maximum(0, income - higher_rate_income - add_rate_income - 12_570)\n",
    "    basic_rate_income_r = np.maximum(0, income - higher_rate_income - add_rate_income - personal_allowance)\n",
    "    basic_rate_increased_tax = (\n",
    "        basic_rate_income_r * (0.2 + basic_rate_addition)\n",
    "        - basic_rate_income_b * 0.2\n",
    "    )\n",
    "    higher_rate_increased_tax = baseline.calculate(\"higher_rate_earned_income\").values * higher_rate_addition\n",
    "    additional_rate_increased_tax = baseline.calculate(\"add_rate_earned_income\").values * additional_rate_addition\n",
    "    increased_tax = basic_rate_increased_tax + higher_rate_increased_tax + additional_rate_increased_tax\n",
    "    return (increased_tax * weight).sum() * 0.65\n",
    "\n",
    "def solve_rates(\n",
    "    adult_ubi: float = 0,\n",
    "    child_ubi: float = 0,\n",
    "    senior_ubi: float = 0,\n",
    "    child_min_age: int = 16,\n",
    "    personal_allowance: float = 12_570,\n",
    "    higher_rate_ratio: float = 1,\n",
    "    additional_rate_ratio: float = 1,\n",
    "    use_quick_estimate: bool = True,\n",
    "):\n",
    "    def adjusted_reform_cost(\n",
    "        basic_rate_addition: float = 0,\n",
    "    ) -> float:\n",
    "        if use_quick_estimate:\n",
    "            adjusted_revenue = get_revenue_quick_estimate(personal_allowance, basic_rate_addition, basic_rate_addition * higher_rate_ratio, basic_rate_addition * additional_rate_ratio)\n",
    "        else:\n",
    "            adjusted_revenue = get_revenue_slow_estimate(personal_allowance, basic_rate_addition, basic_rate_addition * higher_rate_ratio, basic_rate_addition * additional_rate_ratio)\n",
    "        ubi_cost = get_ubi_cost(\n",
    "            adult_ubi, \n",
    "            child_ubi,\n",
    "            senior_ubi,\n",
    "            child_min_age=child_min_age,\n",
    "        )\n",
    "        return ubi_cost * 0.75 - adjusted_revenue # Assume 25% of the UBI is paid for by Westminster\n",
    "    \n",
    "    return bisect(adjusted_reform_cost, -0.5, 1, xtol=1e-3)\n",
    "\n",
    "from tqdm import tqdm\n",
    "\n",
    "def create_policy_space(\n",
    "    child_min_age: int = 16,\n",
    "):\n",
    "    headline_ubi_rates = []\n",
    "    personal_allowances = []\n",
    "    basic_rate_additions = []\n",
    "    higher_add_addition_ratios = []\n",
    "\n",
    "    for pa in tqdm([12_570] + list(range(12_000, -1000, -1000))):\n",
    "        for ubi_rate in list([200 * 12, 300 * 12, 400 * 12]):\n",
    "            for higher_add_ratio in list((0, 1, 2)):\n",
    "                headline_ubi_rates.append(ubi_rate)\n",
    "                personal_allowances.append(pa)\n",
    "                basic_rate_additions.append(solve_rates(adult_ubi=ubi_rate, personal_allowance=pa, higher_rate_ratio=higher_add_ratio, additional_rate_ratio=higher_add_ratio, child_min_age=child_min_age))\n",
    "                higher_add_addition_ratios.append(higher_add_ratio)\n",
    "\n",
    "\n",
    "    df = pd.DataFrame({\n",
    "        \"Adult UBI\": headline_ubi_rates,\n",
    "        \"Child UBI\": [x * 0.5 for x in headline_ubi_rates],\n",
    "        \"Senior UBI\": headline_ubi_rates,\n",
    "        \"Personal Allowance\": personal_allowances,\n",
    "        \"Basic rate addition\": basic_rate_additions,\n",
    "        \"Higher/additional rate increase ratio\": higher_add_addition_ratios,\n",
    "    })\n",
    "    df[\"Personal Allowance reduction\"] = 12_570 - df[\"Personal Allowance\"]\n",
    "    df[\"Higher rate addition\"] = df[\"Basic rate addition\"] * df[\"Higher/additional rate increase ratio\"]\n",
    "    df[\"Basic rate addition (x100)\"] = df[\"Basic rate addition\"] * 100\n",
    "    df[\"Additional rate addition\"] = df[\"Basic rate addition\"] * df[\"Higher/additional rate increase ratio\"]\n",
    "    df[\"UBI/Increase ratio combination\"] = [\n",
    "        f\"{higher_add_ratio:.0%}\" + \" \" * (ubi // 100)\n",
    "        for ubi, higher_add_ratio in zip(\n",
    "            df[\"Adult UBI\"],\n",
    "            df[\"Higher/additional rate increase ratio\"],\n",
    "        )\n",
    "    ]\n",
    "    df[\"Label\"] = [\n",
    "        f\"A £{ubi:,.0f} UBI and £{pa:,.0f} Personal Allowance can be made <br>75% budget neutral by setting the basic, higher and additional rates<br> to {0.2 + basic_rate_addition:.1%}, {0.4 + higher_rate_addition:.1%} and {0.45 + additional_rate_addition:.1%} respectively.\"\n",
    "        for ubi, pa, basic_rate_addition, higher_rate_addition, additional_rate_addition in zip(\n",
    "            df[\"Adult UBI\"],\n",
    "            df[\"Personal Allowance\"],\n",
    "            df[\"Basic rate addition\"],\n",
    "            df[\"Higher rate addition\"],\n",
    "            df[\"Additional rate addition\"],\n",
    "        )\n",
    "    ]\n",
    "\n",
    "    df = df.sort_values([\"Adult UBI\", \"Higher/additional rate increase ratio\"])\n",
    "\n",
    "    df[\"Basic rate\"] = df[\"Basic rate addition\"] + 0.2\n",
    "    df[\"Higher rate\"] = df[\"Higher rate addition\"] + 0.4\n",
    "    df[\"Add. rate\"] = df[\"Additional rate addition\"] + 0.45\n",
    "\n",
    "    df[\"Feasible MTR\"] = np.where(\n",
    "            # £150k+ MTR under 100%\n",
    "            (df[\"Add. rate\"] + 0.0325 < 1)\n",
    "            # £100k-150k MTR under 100%\n",
    "            & (df[\"Higher rate\"] * (\n",
    "                np.where(df[\"Personal Allowance\"] > 0, 1.5, 1)\n",
    "            ) + 0.0325 < 1),\n",
    "            \"Yes\",\n",
    "            \"No\",\n",
    "        )\n",
    "    return df\n",
    "\n",
    "df = create_policy_space()\n",
    "\n",
    "def extract_three_model_rows(df: pd.DataFrame, child_min_age: int = 16):\n",
    "    pa = df[\"Personal Allowance\"]\n",
    "    ubi = df[\"Adult UBI\"]\n",
    "    ratio = df[\"Higher/additional rate increase ratio\"]\n",
    "    model_1_row = df[(pa == 2000) & (ubi == 200 * 12) & (ratio == 2)].iloc[0]\n",
    "    model_2_row = df[(pa == 0) & (ubi == 300 * 12) & (ratio == 1)].iloc[0]\n",
    "    model_3_row = df[(pa == 0) & (ubi == 400 * 12) & (ratio == 0)].iloc[0]\n",
    "\n",
    "    for row in [model_1_row, model_2_row, model_3_row]:\n",
    "        # Re-solve with slow estimate\n",
    "        #row[\"Basic rate addition\"] = solve_rates(\n",
    "        ##    adult_ubi=row[\"Adult UBI\"],\n",
    "         #   child_ubi=row[\"Child UBI\"],\n",
    "         #   senior_ubi=row[\"Senior UBI\"],\n",
    "         #   child_min_age=child_min_age,\n",
    "         #   personal_allowance=row[\"Personal Allowance\"],\n",
    "         #   higher_rate_ratio=row[\"Higher/additional rate increase ratio\"],\n",
    "         #   additional_rate_ratio=row[\"Higher/additional rate increase ratio\"],\n",
    "         #   use_quick_estimate=False,\n",
    "        #)\n",
    "        row[\"Higher rate addition\"] = row[\"Basic rate addition\"] * row[\"Higher/additional rate increase ratio\"]\n",
    "        row[\"Additional rate addition\"] = row[\"Basic rate addition\"] * row[\"Higher/additional rate increase ratio\"]\n",
    "        row[\"Higher rate\"] = row[\"Higher rate addition\"] + 0.4\n",
    "        row[\"Add. rate\"] = row[\"Additional rate addition\"] + 0.45\n",
    "        row[\"Basic rate\"] = row[\"Basic rate addition\"] + 0.2\n",
    "        row[\"Child basic income age\"] = child_min_age\n",
    "    \n",
    "    return [model_1_row, model_2_row, model_3_row]\n",
    "\n",
    "def row_to_policy(row: pd.Series):\n",
    "    return dict(\n",
    "        basic_rate=row[\"Basic rate\"],\n",
    "        higher_rate=row[\"Higher rate\"],\n",
    "        additional_rate=row[\"Add. rate\"],\n",
    "        personal_allowance=row[\"Personal Allowance\"],\n",
    "        adult_bi=row[\"Adult UBI\"],\n",
    "        higher_rate_threshold=50_270. - row[\"Personal Allowance\"],\n",
    "        child_bi=row[\"Adult UBI\"] * 0.5,\n",
    "        senior_bi=row[\"Adult UBI\"],\n",
    "        child_min_age=row[\"Child basic income age\"],\n",
    "    )\n",
    "\n",
    "model_1_row, model_2_row, model_3_row = extract_three_model_rows(df)"
   ]
  },
  {
   "cell_type": "code",
   "execution_count": 4,
   "metadata": {
    "tags": [
     "highlighted-left"
    ]
   },
   "outputs": [
    {
     "data": {
      "text/plain": [
       "'{\"data\":[{\"customdata\":[[\"A \\\\u00a32,400 UBI and \\\\u00a312,570 Personal Allowance can be made <br>75% budget neutral by setting the basic, higher and additional rates<br> to 45.2%, 40.0% and 45.0% respectively.\"],[\"A \\\\u00a32,400 UBI and \\\\u00a312,000 Personal Allowance can be made <br>75% budget neutral by setting the basic, higher and additional rates<br> to 43.5%, 40.0% and 45.0% respectively.\"],[\"A \\\\u00a32,400 UBI and \\\\u00a311,000 Personal Allowance can be made <br>75% budget neutral by setting the basic, higher and additional rates<br> to 40.7%, 40.0% and 45.0% respectively.\"],[\"A \\\\u00a32,400 UBI and \\\\u00a310,000 Personal Allowance can be made <br>75% budget neutral by setting the basic, higher and additional rates<br> to 38.0%, 40.0% and 45.0% respectively.\"],[\"A \\\\u00a32,400 UBI and \\\\u00a39,000 Personal Allowance can be made <br>75% budget neutral by setting the basic, higher and additional rates<br> to 35.7%, 40.0% and 45.0% respectively.\"],[\"A \\\\u00a32,400 UBI and \\\\u00a38,000 Personal Allowance can be made <br>75% budget neutral by setting the basic, higher and additional rates<br> to 33.5%, 40.0% and 45.0% respectively.\"],[\"A \\\\u00a32,400 UBI and \\\\u00a37,000 Personal Allowance can be made <br>75% budget neutral by setting the basic, higher and additional rates<br> to 31.5%, 40.0% and 45.0% respectively.\"],[\"A \\\\u00a32,400 UBI and \\\\u00a36,000 Personal Allowance can be made <br>75% budget neutral by setting the basic, higher and additional rates<br> to 29.5%, 40.0% and 45.0% respectively.\"],[\"A \\\\u00a32,400 UBI and \\\\u00a35,000 Personal Allowance can be made <br>75% budget neutral by setting the basic, higher and additional rates<br> to 27.8%, 40.0% and 45.0% respectively.\"],[\"A \\\\u00a32,400 UBI and \\\\u00a34,000 Personal Allowance can be made <br>75% budget neutral by setting the basic, higher and additional rates<br> to 26.2%, 40.0% and 45.0% respectively.\"],[\"A \\\\u00a32,400 UBI and \\\\u00a33,000 Personal Allowance can be made <br>75% budget neutral by setting the basic, higher and additional rates<br> to 24.7%, 40.0% and 45.0% respectively.\"],[\"A \\\\u00a32,400 UBI and \\\\u00a32,000 Personal Allowance can be made <br>75% budget neutral by setting the basic, higher and additional rates<br> to 23.4%, 40.0% and 45.0% respectively.\"],[\"A \\\\u00a32,400 UBI and \\\\u00a31,000 Personal Allowance can be made <br>75% budget neutral by setting the basic, higher and additional rates<br> to 22.2%, 40.0% and 45.0% respectively.\"],[\"A \\\\u00a32,400 UBI and \\\\u00a30 Personal Allowance can be made <br>75% budget neutral by setting the basic, higher and additional rates<br> to 21.2%, 40.0% and 45.0% respectively.\"]],\"hovertemplate\":\"%{customdata[0]}\",\"legendgroup\":\"0%                        \",\"line\":{\"color\":\"#ABCEEB\",\"dash\":\"solid\"},\"marker\":{\"symbol\":\"circle\"},\"mode\":\"lines\",\"name\":\"0%                        \",\"orientation\":\"v\",\"showlegend\":true,\"x\":[12570,12000,11000,10000,9000,8000,7000,6000,5000,4000,3000,2000,1000,0],\"xaxis\":\"x\",\"y\":[0.452197265625,0.434619140625,0.406787109375,0.380419921875,0.356982421875,0.335009765625,0.314501953125,0.295458984375,0.277880859375,0.261767578125,0.247119140625,0.233935546875,0.222216796875,0.211962890625],\"yaxis\":\"y\",\"type\":\"scatter\"},{\"customdata\":[[\"A \\\\u00a32,400 UBI and \\\\u00a312,570 Personal Allowance can be made <br>75% budget neutral by setting the basic, higher and additional rates<br> to 40.1%, 60.1% and 65.1% respectively.\"],[\"A \\\\u00a32,400 UBI and \\\\u00a312,000 Personal Allowance can be made <br>75% budget neutral by setting the basic, higher and additional rates<br> to 38.9%, 58.9% and 63.9% respectively.\"],[\"A \\\\u00a32,400 UBI and \\\\u00a311,000 Personal Allowance can be made <br>75% budget neutral by setting the basic, higher and additional rates<br> to 36.9%, 56.9% and 61.9% respectively.\"],[\"A \\\\u00a32,400 UBI and \\\\u00a310,000 Personal Allowance can be made <br>75% budget neutral by setting the basic, higher and additional rates<br> to 35.0%, 55.0% and 60.0% respectively.\"],[\"A \\\\u00a32,400 UBI and \\\\u00a39,000 Personal Allowance can be made <br>75% budget neutral by setting the basic, higher and additional rates<br> to 33.1%, 53.1% and 58.1% respectively.\"],[\"A \\\\u00a32,400 UBI and \\\\u00a38,000 Personal Allowance can be made <br>75% budget neutral by setting the basic, higher and additional rates<br> to 31.3%, 51.3% and 56.3% respectively.\"],[\"A \\\\u00a32,400 UBI and \\\\u00a37,000 Personal Allowance can be made <br>75% budget neutral by setting the basic, higher and additional rates<br> to 29.7%, 49.7% and 54.7% respectively.\"],[\"A \\\\u00a32,400 UBI and \\\\u00a36,000 Personal Allowance can be made <br>75% budget neutral by setting the basic, higher and additional rates<br> to 28.1%, 48.1% and 53.1% respectively.\"],[\"A \\\\u00a32,400 UBI and \\\\u00a35,000 Personal Allowance can be made <br>75% budget neutral by setting the basic, higher and additional rates<br> to 26.8%, 46.8% and 51.8% respectively.\"],[\"A \\\\u00a32,400 UBI and \\\\u00a34,000 Personal Allowance can be made <br>75% budget neutral by setting the basic, higher and additional rates<br> to 25.4%, 45.4% and 50.4% respectively.\"],[\"A \\\\u00a32,400 UBI and \\\\u00a33,000 Personal Allowance can be made <br>75% budget neutral by setting the basic, higher and additional rates<br> to 24.1%, 44.1% and 49.1% respectively.\"],[\"A \\\\u00a32,400 UBI and \\\\u00a32,000 Personal Allowance can be made <br>75% budget neutral by setting the basic, higher and additional rates<br> to 23.1%, 43.1% and 48.1% respectively.\"],[\"A \\\\u00a32,400 UBI and \\\\u00a31,000 Personal Allowance can be made <br>75% budget neutral by setting the basic, higher and additional rates<br> to 22.1%, 42.1% and 47.1% respectively.\"],[\"A \\\\u00a32,400 UBI and \\\\u00a30 Personal Allowance can be made <br>75% budget neutral by setting the basic, higher and additional rates<br> to 21.0%, 41.0% and 46.0% respectively.\"]],\"hovertemplate\":\"%{customdata[0]}\",\"legendgroup\":\"100%                        \",\"line\":{\"color\":\"#49A6E2\",\"dash\":\"solid\"},\"marker\":{\"symbol\":\"circle\"},\"mode\":\"lines\",\"name\":\"100%                        \",\"orientation\":\"v\",\"showlegend\":false,\"x\":[12570,12000,11000,10000,9000,8000,7000,6000,5000,4000,3000,2000,1000,0],\"xaxis\":\"x\",\"y\":[0.400927734375,0.389208984375,0.368701171875,0.349658203125,0.330615234375,0.313037109375,0.296923828125,0.280810546875,0.267626953125,0.254443359375,0.241259765625,0.231005859375,0.220751953125,0.210498046875],\"yaxis\":\"y\",\"type\":\"scatter\"},{\"customdata\":[[\"A \\\\u00a32,400 UBI and \\\\u00a39,000 Personal Allowance can be made <br>75% budget neutral by setting the basic, higher and additional rates<br> to 31.2%, 62.3% and 67.3% respectively.\"],[\"A \\\\u00a32,400 UBI and \\\\u00a38,000 Personal Allowance can be made <br>75% budget neutral by setting the basic, higher and additional rates<br> to 29.8%, 59.7% and 64.7% respectively.\"],[\"A \\\\u00a32,400 UBI and \\\\u00a37,000 Personal Allowance can be made <br>75% budget neutral by setting the basic, higher and additional rates<br> to 28.4%, 56.7% and 61.7% respectively.\"],[\"A \\\\u00a32,400 UBI and \\\\u00a36,000 Personal Allowance can be made <br>75% budget neutral by setting the basic, higher and additional rates<br> to 27.2%, 54.4% and 59.4% respectively.\"],[\"A \\\\u00a32,400 UBI and \\\\u00a35,000 Personal Allowance can be made <br>75% budget neutral by setting the basic, higher and additional rates<br> to 25.9%, 51.8% and 56.8% respectively.\"],[\"A \\\\u00a32,400 UBI and \\\\u00a34,000 Personal Allowance can be made <br>75% budget neutral by setting the basic, higher and additional rates<br> to 24.7%, 49.4% and 54.4% respectively.\"],[\"A \\\\u00a32,400 UBI and \\\\u00a33,000 Personal Allowance can be made <br>75% budget neutral by setting the basic, higher and additional rates<br> to 23.7%, 47.4% and 52.4% respectively.\"],[\"A \\\\u00a32,400 UBI and \\\\u00a32,000 Personal Allowance can be made <br>75% budget neutral by setting the basic, higher and additional rates<br> to 22.8%, 45.6% and 50.6% respectively.\"],[\"A \\\\u00a32,400 UBI and \\\\u00a31,000 Personal Allowance can be made <br>75% budget neutral by setting the basic, higher and additional rates<br> to 21.8%, 43.6% and 48.6% respectively.\"],[\"A \\\\u00a32,400 UBI and \\\\u00a30 Personal Allowance can be made <br>75% budget neutral by setting the basic, higher and additional rates<br> to 21.0%, 42.1% and 47.1% respectively.\"]],\"hovertemplate\":\"%{customdata[0]}\",\"legendgroup\":\"200%                        \",\"line\":{\"color\":\"#1976D2\",\"dash\":\"solid\"},\"marker\":{\"symbol\":\"circle\"},\"mode\":\"lines\",\"name\":\"200%                        \",\"orientation\":\"v\",\"showlegend\":false,\"x\":[9000,8000,7000,6000,5000,4000,3000,2000,1000,0],\"xaxis\":\"x\",\"y\":[0.311572265625,0.298388671875,0.283740234375,0.272021484375,0.258837890625,0.247119140625,0.236865234375,0.228076171875,0.217822265625,0.210498046875],\"yaxis\":\"y\",\"type\":\"scatter\"},{\"customdata\":[[\"A \\\\u00a33,600 UBI and \\\\u00a312,570 Personal Allowance can be made <br>75% budget neutral by setting the basic, higher and additional rates<br> to 57.8%, 40.0% and 45.0% respectively.\"],[\"A \\\\u00a33,600 UBI and \\\\u00a312,000 Personal Allowance can be made <br>75% budget neutral by setting the basic, higher and additional rates<br> to 55.6%, 40.0% and 45.0% respectively.\"],[\"A \\\\u00a33,600 UBI and \\\\u00a311,000 Personal Allowance can be made <br>75% budget neutral by setting the basic, higher and additional rates<br> to 52.0%, 40.0% and 45.0% respectively.\"],[\"A \\\\u00a33,600 UBI and \\\\u00a310,000 Personal Allowance can be made <br>75% budget neutral by setting the basic, higher and additional rates<br> to 48.7%, 40.0% and 45.0% respectively.\"],[\"A \\\\u00a33,600 UBI and \\\\u00a39,000 Personal Allowance can be made <br>75% budget neutral by setting the basic, higher and additional rates<br> to 45.7%, 40.0% and 45.0% respectively.\"],[\"A \\\\u00a33,600 UBI and \\\\u00a38,000 Personal Allowance can be made <br>75% budget neutral by setting the basic, higher and additional rates<br> to 42.7%, 40.0% and 45.0% respectively.\"],[\"A \\\\u00a33,600 UBI and \\\\u00a37,000 Personal Allowance can be made <br>75% budget neutral by setting the basic, higher and additional rates<br> to 40.1%, 40.0% and 45.0% respectively.\"],[\"A \\\\u00a33,600 UBI and \\\\u00a36,000 Personal Allowance can be made <br>75% budget neutral by setting the basic, higher and additional rates<br> to 37.7%, 40.0% and 45.0% respectively.\"],[\"A \\\\u00a33,600 UBI and \\\\u00a35,000 Personal Allowance can be made <br>75% budget neutral by setting the basic, higher and additional rates<br> to 35.4%, 40.0% and 45.0% respectively.\"],[\"A \\\\u00a33,600 UBI and \\\\u00a34,000 Personal Allowance can be made <br>75% budget neutral by setting the basic, higher and additional rates<br> to 33.5%, 40.0% and 45.0% respectively.\"],[\"A \\\\u00a33,600 UBI and \\\\u00a33,000 Personal Allowance can be made <br>75% budget neutral by setting the basic, higher and additional rates<br> to 31.6%, 40.0% and 45.0% respectively.\"],[\"A \\\\u00a33,600 UBI and \\\\u00a32,000 Personal Allowance can be made <br>75% budget neutral by setting the basic, higher and additional rates<br> to 30.0%, 40.0% and 45.0% respectively.\"],[\"A \\\\u00a33,600 UBI and \\\\u00a31,000 Personal Allowance can be made <br>75% budget neutral by setting the basic, higher and additional rates<br> to 28.5%, 40.0% and 45.0% respectively.\"],[\"A \\\\u00a33,600 UBI and \\\\u00a30 Personal Allowance can be made <br>75% budget neutral by setting the basic, higher and additional rates<br> to 27.2%, 40.0% and 45.0% respectively.\"]],\"hovertemplate\":\"%{customdata[0]}\",\"legendgroup\":\"0%                                    \",\"line\":{\"color\":\"#ABCEEB\",\"dash\":\"solid\"},\"marker\":{\"symbol\":\"circle\"},\"mode\":\"lines\",\"name\":\"0%                                    \",\"orientation\":\"v\",\"showlegend\":false,\"x\":[12570,12000,11000,10000,9000,8000,7000,6000,5000,4000,3000,2000,1000,0],\"xaxis\":\"x\",\"y\":[0.578173828125,0.556201171875,0.519580078125,0.487353515625,0.456591796875,0.427294921875,0.400927734375,0.377490234375,0.354052734375,0.335009765625,0.315966796875,0.299853515625,0.285205078125,0.272021484375],\"yaxis\":\"y\",\"type\":\"scatter\"},{\"customdata\":[[\"A \\\\u00a33,600 UBI and \\\\u00a310,000 Personal Allowance can be made <br>75% budget neutral by setting the basic, higher and additional rates<br> to 43.6%, 63.6% and 68.6% respectively.\"],[\"A \\\\u00a33,600 UBI and \\\\u00a39,000 Personal Allowance can be made <br>75% budget neutral by setting the basic, higher and additional rates<br> to 41.4%, 61.4% and 66.4% respectively.\"],[\"A \\\\u00a33,600 UBI and \\\\u00a38,000 Personal Allowance can be made <br>75% budget neutral by setting the basic, higher and additional rates<br> to 39.2%, 59.2% and 64.2% respectively.\"],[\"A \\\\u00a33,600 UBI and \\\\u00a37,000 Personal Allowance can be made <br>75% budget neutral by setting the basic, higher and additional rates<br> to 37.2%, 57.2% and 62.2% respectively.\"],[\"A \\\\u00a33,600 UBI and \\\\u00a36,000 Personal Allowance can be made <br>75% budget neutral by setting the basic, higher and additional rates<br> to 35.3%, 55.3% and 60.3% respectively.\"],[\"A \\\\u00a33,600 UBI and \\\\u00a35,000 Personal Allowance can be made <br>75% budget neutral by setting the basic, higher and additional rates<br> to 33.4%, 53.4% and 58.4% respectively.\"],[\"A \\\\u00a33,600 UBI and \\\\u00a34,000 Personal Allowance can be made <br>75% budget neutral by setting the basic, higher and additional rates<br> to 31.7%, 51.7% and 56.7% respectively.\"],[\"A \\\\u00a33,600 UBI and \\\\u00a33,000 Personal Allowance can be made <br>75% budget neutral by setting the basic, higher and additional rates<br> to 30.3%, 50.3% and 55.3% respectively.\"],[\"A \\\\u00a33,600 UBI and \\\\u00a32,000 Personal Allowance can be made <br>75% budget neutral by setting the basic, higher and additional rates<br> to 28.8%, 48.8% and 53.8% respectively.\"],[\"A \\\\u00a33,600 UBI and \\\\u00a31,000 Personal Allowance can be made <br>75% budget neutral by setting the basic, higher and additional rates<br> to 27.5%, 47.5% and 52.5% respectively.\"],[\"A \\\\u00a33,600 UBI and \\\\u00a30 Personal Allowance can be made <br>75% budget neutral by setting the basic, higher and additional rates<br> to 26.3%, 46.3% and 51.3% respectively.\"]],\"hovertemplate\":\"%{customdata[0]}\",\"legendgroup\":\"100%                                    \",\"line\":{\"color\":\"#49A6E2\",\"dash\":\"solid\"},\"marker\":{\"symbol\":\"circle\"},\"mode\":\"lines\",\"name\":\"100%                                    \",\"orientation\":\"v\",\"showlegend\":true,\"x\":[10000,9000,8000,7000,6000,5000,4000,3000,2000,1000,0],\"xaxis\":\"x\",\"y\":[0.436083984375,0.414111328125,0.392138671875,0.371630859375,0.352587890625,0.333544921875,0.317431640625,0.302783203125,0.288134765625,0.274951171875,0.263232421875],\"yaxis\":\"y\",\"type\":\"scatter\"},{\"customdata\":[[\"A \\\\u00a33,600 UBI and \\\\u00a35,000 Personal Allowance can be made <br>75% budget neutral by setting the basic, higher and additional rates<br> to 31.9%, 63.8% and 68.8% respectively.\"],[\"A \\\\u00a33,600 UBI and \\\\u00a34,000 Personal Allowance can be made <br>75% budget neutral by setting the basic, higher and additional rates<br> to 30.4%, 60.8% and 65.8% respectively.\"],[\"A \\\\u00a33,600 UBI and \\\\u00a33,000 Personal Allowance can be made <br>75% budget neutral by setting the basic, higher and additional rates<br> to 29.1%, 58.2% and 63.2% respectively.\"],[\"A \\\\u00a33,600 UBI and \\\\u00a32,000 Personal Allowance can be made <br>75% budget neutral by setting the basic, higher and additional rates<br> to 27.9%, 55.9% and 60.9% respectively.\"],[\"A \\\\u00a33,600 UBI and \\\\u00a31,000 Personal Allowance can be made <br>75% budget neutral by setting the basic, higher and additional rates<br> to 26.8%, 53.5% and 58.5% respectively.\"],[\"A \\\\u00a33,600 UBI and \\\\u00a30 Personal Allowance can be made <br>75% budget neutral by setting the basic, higher and additional rates<br> to 25.7%, 51.5% and 56.5% respectively.\"]],\"hovertemplate\":\"%{customdata[0]}\",\"legendgroup\":\"200%                                    \",\"line\":{\"color\":\"#1976D2\",\"dash\":\"solid\"},\"marker\":{\"symbol\":\"circle\"},\"mode\":\"lines\",\"name\":\"200%                                    \",\"orientation\":\"v\",\"showlegend\":false,\"x\":[5000,4000,3000,2000,1000,0],\"xaxis\":\"x\",\"y\":[0.318896484375,0.304248046875,0.291064453125,0.279345703125,0.267626953125,0.257373046875],\"yaxis\":\"y\",\"type\":\"scatter\"},{\"customdata\":[[\"A \\\\u00a34,800 UBI and \\\\u00a312,570 Personal Allowance can be made <br>75% budget neutral by setting the basic, higher and additional rates<br> to 70.4%, 40.0% and 45.0% respectively.\"],[\"A \\\\u00a34,800 UBI and \\\\u00a312,000 Personal Allowance can be made <br>75% budget neutral by setting the basic, higher and additional rates<br> to 67.8%, 40.0% and 45.0% respectively.\"],[\"A \\\\u00a34,800 UBI and \\\\u00a311,000 Personal Allowance can be made <br>75% budget neutral by setting the basic, higher and additional rates<br> to 63.4%, 40.0% and 45.0% respectively.\"],[\"A \\\\u00a34,800 UBI and \\\\u00a310,000 Personal Allowance can be made <br>75% budget neutral by setting the basic, higher and additional rates<br> to 59.3%, 40.0% and 45.0% respectively.\"],[\"A \\\\u00a34,800 UBI and \\\\u00a39,000 Personal Allowance can be made <br>75% budget neutral by setting the basic, higher and additional rates<br> to 55.6%, 40.0% and 45.0% respectively.\"],[\"A \\\\u00a34,800 UBI and \\\\u00a38,000 Personal Allowance can be made <br>75% budget neutral by setting the basic, higher and additional rates<br> to 52.1%, 40.0% and 45.0% respectively.\"],[\"A \\\\u00a34,800 UBI and \\\\u00a37,000 Personal Allowance can be made <br>75% budget neutral by setting the basic, higher and additional rates<br> to 48.9%, 40.0% and 45.0% respectively.\"],[\"A \\\\u00a34,800 UBI and \\\\u00a36,000 Personal Allowance can be made <br>75% budget neutral by setting the basic, higher and additional rates<br> to 46.0%, 40.0% and 45.0% respectively.\"],[\"A \\\\u00a34,800 UBI and \\\\u00a35,000 Personal Allowance can be made <br>75% budget neutral by setting the basic, higher and additional rates<br> to 43.2%, 40.0% and 45.0% respectively.\"],[\"A \\\\u00a34,800 UBI and \\\\u00a34,000 Personal Allowance can be made <br>75% budget neutral by setting the basic, higher and additional rates<br> to 40.8%, 40.0% and 45.0% respectively.\"],[\"A \\\\u00a34,800 UBI and \\\\u00a33,000 Personal Allowance can be made <br>75% budget neutral by setting the basic, higher and additional rates<br> to 38.5%, 40.0% and 45.0% respectively.\"],[\"A \\\\u00a34,800 UBI and \\\\u00a32,000 Personal Allowance can be made <br>75% budget neutral by setting the basic, higher and additional rates<br> to 36.6%, 40.0% and 45.0% respectively.\"],[\"A \\\\u00a34,800 UBI and \\\\u00a31,000 Personal Allowance can be made <br>75% budget neutral by setting the basic, higher and additional rates<br> to 34.7%, 40.0% and 45.0% respectively.\"],[\"A \\\\u00a34,800 UBI and \\\\u00a30 Personal Allowance can be made <br>75% budget neutral by setting the basic, higher and additional rates<br> to 33.1%, 40.0% and 45.0% respectively.\"]],\"hovertemplate\":\"%{customdata[0]}\",\"legendgroup\":\"0%                                                \",\"line\":{\"color\":\"#ABCEEB\",\"dash\":\"solid\"},\"marker\":{\"symbol\":\"circle\"},\"mode\":\"lines\",\"name\":\"0%                                                \",\"orientation\":\"v\",\"showlegend\":false,\"x\":[12570,12000,11000,10000,9000,8000,7000,6000,5000,4000,3000,2000,1000,0],\"xaxis\":\"x\",\"y\":[0.704150390625,0.677783203125,0.633837890625,0.592822265625,0.556201171875,0.521044921875,0.488818359375,0.459521484375,0.431689453125,0.408251953125,0.384814453125,0.365771484375,0.346728515625,0.330615234375],\"yaxis\":\"y\",\"type\":\"scatter\"},{\"customdata\":[[\"A \\\\u00a34,800 UBI and \\\\u00a36,000 Personal Allowance can be made <br>75% budget neutral by setting the basic, higher and additional rates<br> to 42.3%, 62.3% and 67.3% respectively.\"],[\"A \\\\u00a34,800 UBI and \\\\u00a35,000 Personal Allowance can be made <br>75% budget neutral by setting the basic, higher and additional rates<br> to 40.1%, 60.1% and 65.1% respectively.\"],[\"A \\\\u00a34,800 UBI and \\\\u00a34,000 Personal Allowance can be made <br>75% budget neutral by setting the basic, higher and additional rates<br> to 38.2%, 58.2% and 63.2% respectively.\"],[\"A \\\\u00a34,800 UBI and \\\\u00a33,000 Personal Allowance can be made <br>75% budget neutral by setting the basic, higher and additional rates<br> to 36.3%, 56.3% and 61.3% respectively.\"],[\"A \\\\u00a34,800 UBI and \\\\u00a32,000 Personal Allowance can be made <br>75% budget neutral by setting the basic, higher and additional rates<br> to 34.7%, 54.7% and 59.7% respectively.\"],[\"A \\\\u00a34,800 UBI and \\\\u00a31,000 Personal Allowance can be made <br>75% budget neutral by setting the basic, higher and additional rates<br> to 33.1%, 53.1% and 58.1% respectively.\"],[\"A \\\\u00a34,800 UBI and \\\\u00a30 Personal Allowance can be made <br>75% budget neutral by setting the basic, higher and additional rates<br> to 31.7%, 51.7% and 56.7% respectively.\"]],\"hovertemplate\":\"%{customdata[0]}\",\"legendgroup\":\"100%                                                \",\"line\":{\"color\":\"#49A6E2\",\"dash\":\"solid\"},\"marker\":{\"symbol\":\"circle\"},\"mode\":\"lines\",\"name\":\"100%                                                \",\"orientation\":\"v\",\"showlegend\":false,\"x\":[6000,5000,4000,3000,2000,1000,0],\"xaxis\":\"x\",\"y\":[0.422900390625,0.400927734375,0.381884765625,0.362841796875,0.346728515625,0.330615234375,0.317431640625],\"yaxis\":\"y\",\"type\":\"scatter\"},{\"customdata\":[[\"A \\\\u00a34,800 UBI and \\\\u00a31,000 Personal Allowance can be made <br>75% budget neutral by setting the basic, higher and additional rates<br> to 31.7%, 63.5% and 68.5% respectively.\"],[\"A \\\\u00a34,800 UBI and \\\\u00a30 Personal Allowance can be made <br>75% budget neutral by setting the basic, higher and additional rates<br> to 30.6%, 61.1% and 66.1% respectively.\"]],\"hovertemplate\":\"%{customdata[0]}\",\"legendgroup\":\"200%                                                \",\"line\":{\"color\":\"#1976D2\",\"dash\":\"solid\"},\"marker\":{\"symbol\":\"circle\"},\"mode\":\"lines\",\"name\":\"200%                                                \",\"orientation\":\"v\",\"showlegend\":true,\"x\":[1000,0],\"xaxis\":\"x\",\"y\":[0.317431640625,0.305712890625],\"yaxis\":\"y\",\"type\":\"scatter\"},{\"marker\":{\"color\":\"gray\",\"size\":5},\"mode\":\"markers\",\"showlegend\":false,\"x\":[2000],\"y\":[0.228076171875],\"type\":\"scatter\"},{\"mode\":\"text\",\"showlegend\":false,\"text\":[\"Model 1\"],\"textposition\":\"middle right\",\"x\":[2300],\"y\":[0.23807617187500002],\"type\":\"scatter\"},{\"marker\":{\"color\":\"gray\",\"size\":5},\"mode\":\"markers\",\"showlegend\":false,\"x\":[0],\"y\":[0.263232421875],\"type\":\"scatter\"},{\"mode\":\"text\",\"showlegend\":false,\"text\":[\"Model 2\"],\"textposition\":\"middle right\",\"x\":[300],\"y\":[0.273232421875],\"type\":\"scatter\"},{\"marker\":{\"color\":\"gray\",\"size\":5},\"mode\":\"markers\",\"showlegend\":false,\"x\":[0],\"y\":[0.330615234375],\"type\":\"scatter\"},{\"mode\":\"text\",\"showlegend\":false,\"text\":[\"Model 3\"],\"textposition\":\"middle right\",\"x\":[300],\"y\":[0.340615234375],\"type\":\"scatter\"}],\"layout\":{\"template\":{\"data\":{\"barpolar\":[{\"marker\":{\"line\":{\"color\":\"white\",\"width\":0.5},\"pattern\":{\"fillmode\":\"overlay\",\"size\":10,\"solidity\":0.2}},\"type\":\"barpolar\"}],\"bar\":[{\"error_x\":{\"color\":\"#2a3f5f\"},\"error_y\":{\"color\":\"#2a3f5f\"},\"marker\":{\"line\":{\"color\":\"white\",\"width\":0.5},\"pattern\":{\"fillmode\":\"overlay\",\"size\":10,\"solidity\":0.2}},\"type\":\"bar\"}],\"carpet\":[{\"aaxis\":{\"endlinecolor\":\"#2a3f5f\",\"gridcolor\":\"#C8D4E3\",\"linecolor\":\"#C8D4E3\",\"minorgridcolor\":\"#C8D4E3\",\"startlinecolor\":\"#2a3f5f\"},\"baxis\":{\"endlinecolor\":\"#2a3f5f\",\"gridcolor\":\"#C8D4E3\",\"linecolor\":\"#C8D4E3\",\"minorgridcolor\":\"#C8D4E3\",\"startlinecolor\":\"#2a3f5f\"},\"type\":\"carpet\"}],\"choropleth\":[{\"colorbar\":{\"outlinewidth\":0,\"ticks\":\"\"},\"type\":\"choropleth\"}],\"contourcarpet\":[{\"colorbar\":{\"outlinewidth\":0,\"ticks\":\"\"},\"type\":\"contourcarpet\"}],\"contour\":[{\"colorbar\":{\"outlinewidth\":0,\"ticks\":\"\"},\"colorscale\":[[0.0,\"#0d0887\"],[0.1111111111111111,\"#46039f\"],[0.2222222222222222,\"#7201a8\"],[0.3333333333333333,\"#9c179e\"],[0.4444444444444444,\"#bd3786\"],[0.5555555555555556,\"#d8576b\"],[0.6666666666666666,\"#ed7953\"],[0.7777777777777778,\"#fb9f3a\"],[0.8888888888888888,\"#fdca26\"],[1.0,\"#f0f921\"]],\"type\":\"contour\"}],\"heatmapgl\":[{\"colorbar\":{\"outlinewidth\":0,\"ticks\":\"\"},\"colorscale\":[[0.0,\"#0d0887\"],[0.1111111111111111,\"#46039f\"],[0.2222222222222222,\"#7201a8\"],[0.3333333333333333,\"#9c179e\"],[0.4444444444444444,\"#bd3786\"],[0.5555555555555556,\"#d8576b\"],[0.6666666666666666,\"#ed7953\"],[0.7777777777777778,\"#fb9f3a\"],[0.8888888888888888,\"#fdca26\"],[1.0,\"#f0f921\"]],\"type\":\"heatmapgl\"}],\"heatmap\":[{\"colorbar\":{\"outlinewidth\":0,\"ticks\":\"\"},\"colorscale\":[[0.0,\"#0d0887\"],[0.1111111111111111,\"#46039f\"],[0.2222222222222222,\"#7201a8\"],[0.3333333333333333,\"#9c179e\"],[0.4444444444444444,\"#bd3786\"],[0.5555555555555556,\"#d8576b\"],[0.6666666666666666,\"#ed7953\"],[0.7777777777777778,\"#fb9f3a\"],[0.8888888888888888,\"#fdca26\"],[1.0,\"#f0f921\"]],\"type\":\"heatmap\"}],\"histogram2dcontour\":[{\"colorbar\":{\"outlinewidth\":0,\"ticks\":\"\"},\"colorscale\":[[0.0,\"#0d0887\"],[0.1111111111111111,\"#46039f\"],[0.2222222222222222,\"#7201a8\"],[0.3333333333333333,\"#9c179e\"],[0.4444444444444444,\"#bd3786\"],[0.5555555555555556,\"#d8576b\"],[0.6666666666666666,\"#ed7953\"],[0.7777777777777778,\"#fb9f3a\"],[0.8888888888888888,\"#fdca26\"],[1.0,\"#f0f921\"]],\"type\":\"histogram2dcontour\"}],\"histogram2d\":[{\"colorbar\":{\"outlinewidth\":0,\"ticks\":\"\"},\"colorscale\":[[0.0,\"#0d0887\"],[0.1111111111111111,\"#46039f\"],[0.2222222222222222,\"#7201a8\"],[0.3333333333333333,\"#9c179e\"],[0.4444444444444444,\"#bd3786\"],[0.5555555555555556,\"#d8576b\"],[0.6666666666666666,\"#ed7953\"],[0.7777777777777778,\"#fb9f3a\"],[0.8888888888888888,\"#fdca26\"],[1.0,\"#f0f921\"]],\"type\":\"histogram2d\"}],\"histogram\":[{\"marker\":{\"pattern\":{\"fillmode\":\"overlay\",\"size\":10,\"solidity\":0.2}},\"type\":\"histogram\"}],\"mesh3d\":[{\"colorbar\":{\"outlinewidth\":0,\"ticks\":\"\"},\"type\":\"mesh3d\"}],\"parcoords\":[{\"line\":{\"colorbar\":{\"outlinewidth\":0,\"ticks\":\"\"}},\"type\":\"parcoords\"}],\"pie\":[{\"automargin\":true,\"type\":\"pie\"}],\"scatter3d\":[{\"line\":{\"colorbar\":{\"outlinewidth\":0,\"ticks\":\"\"}},\"marker\":{\"colorbar\":{\"outlinewidth\":0,\"ticks\":\"\"}},\"type\":\"scatter3d\"}],\"scattercarpet\":[{\"marker\":{\"colorbar\":{\"outlinewidth\":0,\"ticks\":\"\"}},\"type\":\"scattercarpet\"}],\"scattergeo\":[{\"marker\":{\"colorbar\":{\"outlinewidth\":0,\"ticks\":\"\"}},\"type\":\"scattergeo\"}],\"scattergl\":[{\"marker\":{\"colorbar\":{\"outlinewidth\":0,\"ticks\":\"\"}},\"type\":\"scattergl\"}],\"scattermapbox\":[{\"marker\":{\"colorbar\":{\"outlinewidth\":0,\"ticks\":\"\"}},\"type\":\"scattermapbox\"}],\"scatterpolargl\":[{\"marker\":{\"colorbar\":{\"outlinewidth\":0,\"ticks\":\"\"}},\"type\":\"scatterpolargl\"}],\"scatterpolar\":[{\"marker\":{\"colorbar\":{\"outlinewidth\":0,\"ticks\":\"\"}},\"type\":\"scatterpolar\"}],\"scatter\":[{\"fillpattern\":{\"fillmode\":\"overlay\",\"size\":10,\"solidity\":0.2},\"type\":\"scatter\"}],\"scatterternary\":[{\"marker\":{\"colorbar\":{\"outlinewidth\":0,\"ticks\":\"\"}},\"type\":\"scatterternary\"}],\"surface\":[{\"colorbar\":{\"outlinewidth\":0,\"ticks\":\"\"},\"colorscale\":[[0.0,\"#0d0887\"],[0.1111111111111111,\"#46039f\"],[0.2222222222222222,\"#7201a8\"],[0.3333333333333333,\"#9c179e\"],[0.4444444444444444,\"#bd3786\"],[0.5555555555555556,\"#d8576b\"],[0.6666666666666666,\"#ed7953\"],[0.7777777777777778,\"#fb9f3a\"],[0.8888888888888888,\"#fdca26\"],[1.0,\"#f0f921\"]],\"type\":\"surface\"}],\"table\":[{\"cells\":{\"fill\":{\"color\":\"#EBF0F8\"},\"line\":{\"color\":\"white\"}},\"header\":{\"fill\":{\"color\":\"#C8D4E3\"},\"line\":{\"color\":\"white\"}},\"type\":\"table\"}]},\"layout\":{\"annotationdefaults\":{\"arrowcolor\":\"#2a3f5f\",\"arrowhead\":0,\"arrowwidth\":1},\"autotypenumbers\":\"strict\",\"coloraxis\":{\"colorbar\":{\"outlinewidth\":0,\"ticks\":\"\"}},\"colorscale\":{\"diverging\":[[0,\"#8e0152\"],[0.1,\"#c51b7d\"],[0.2,\"#de77ae\"],[0.3,\"#f1b6da\"],[0.4,\"#fde0ef\"],[0.5,\"#f7f7f7\"],[0.6,\"#e6f5d0\"],[0.7,\"#b8e186\"],[0.8,\"#7fbc41\"],[0.9,\"#4d9221\"],[1,\"#276419\"]],\"sequential\":[[0.0,\"#0d0887\"],[0.1111111111111111,\"#46039f\"],[0.2222222222222222,\"#7201a8\"],[0.3333333333333333,\"#9c179e\"],[0.4444444444444444,\"#bd3786\"],[0.5555555555555556,\"#d8576b\"],[0.6666666666666666,\"#ed7953\"],[0.7777777777777778,\"#fb9f3a\"],[0.8888888888888888,\"#fdca26\"],[1.0,\"#f0f921\"]],\"sequentialminus\":[[0.0,\"#0d0887\"],[0.1111111111111111,\"#46039f\"],[0.2222222222222222,\"#7201a8\"],[0.3333333333333333,\"#9c179e\"],[0.4444444444444444,\"#bd3786\"],[0.5555555555555556,\"#d8576b\"],[0.6666666666666666,\"#ed7953\"],[0.7777777777777778,\"#fb9f3a\"],[0.8888888888888888,\"#fdca26\"],[1.0,\"#f0f921\"]]},\"colorway\":[\"#636efa\",\"#EF553B\",\"#00cc96\",\"#ab63fa\",\"#FFA15A\",\"#19d3f3\",\"#FF6692\",\"#B6E880\",\"#FF97FF\",\"#FECB52\"],\"font\":{\"color\":\"#2a3f5f\"},\"geo\":{\"bgcolor\":\"white\",\"lakecolor\":\"white\",\"landcolor\":\"white\",\"showlakes\":true,\"showland\":true,\"subunitcolor\":\"#C8D4E3\"},\"hoverlabel\":{\"align\":\"left\"},\"hovermode\":\"closest\",\"mapbox\":{\"style\":\"light\"},\"paper_bgcolor\":\"white\",\"plot_bgcolor\":\"white\",\"polar\":{\"angularaxis\":{\"gridcolor\":\"#EBF0F8\",\"linecolor\":\"#EBF0F8\",\"ticks\":\"\"},\"bgcolor\":\"white\",\"radialaxis\":{\"gridcolor\":\"#EBF0F8\",\"linecolor\":\"#EBF0F8\",\"ticks\":\"\"}},\"scene\":{\"xaxis\":{\"backgroundcolor\":\"white\",\"gridcolor\":\"#DFE8F3\",\"gridwidth\":2,\"linecolor\":\"#EBF0F8\",\"showbackground\":true,\"ticks\":\"\",\"zerolinecolor\":\"#EBF0F8\"},\"yaxis\":{\"backgroundcolor\":\"white\",\"gridcolor\":\"#DFE8F3\",\"gridwidth\":2,\"linecolor\":\"#EBF0F8\",\"showbackground\":true,\"ticks\":\"\",\"zerolinecolor\":\"#EBF0F8\"},\"zaxis\":{\"backgroundcolor\":\"white\",\"gridcolor\":\"#DFE8F3\",\"gridwidth\":2,\"linecolor\":\"#EBF0F8\",\"showbackground\":true,\"ticks\":\"\",\"zerolinecolor\":\"#EBF0F8\"}},\"shapedefaults\":{\"line\":{\"color\":\"#2a3f5f\"}},\"ternary\":{\"aaxis\":{\"gridcolor\":\"#DFE8F3\",\"linecolor\":\"#A2B1C6\",\"ticks\":\"\"},\"baxis\":{\"gridcolor\":\"#DFE8F3\",\"linecolor\":\"#A2B1C6\",\"ticks\":\"\"},\"bgcolor\":\"white\",\"caxis\":{\"gridcolor\":\"#DFE8F3\",\"linecolor\":\"#A2B1C6\",\"ticks\":\"\"}},\"title\":{\"x\":0.05},\"xaxis\":{\"automargin\":true,\"gridcolor\":\"#EBF0F8\",\"linecolor\":\"#EBF0F8\",\"ticks\":\"\",\"title\":{\"standoff\":15},\"zerolinecolor\":\"#EBF0F8\",\"zerolinewidth\":2},\"yaxis\":{\"automargin\":true,\"gridcolor\":\"#EBF0F8\",\"linecolor\":\"#EBF0F8\",\"ticks\":\"\",\"title\":{\"standoff\":15},\"zerolinecolor\":\"#EBF0F8\",\"zerolinewidth\":2}}},\"xaxis\":{\"anchor\":\"y\",\"domain\":[0.0,1.0],\"title\":{\"text\":\"Personal Allowance\"},\"tickprefix\":\"\\\\u00a3\",\"tickformat\":\",.0f\"},\"yaxis\":{\"anchor\":\"x\",\"domain\":[0.0,1.0],\"title\":{\"text\":\"Basic rate\"},\"tickformat\":\".0%\"},\"legend\":{\"title\":{\"text\":\"Higher/add. rate increase ratio\"},\"tracegroupgap\":0,\"orientation\":\"h\",\"yanchor\":\"top\",\"y\":1.1},\"margin\":{\"t\":60},\"font\":{\"family\":\"Roboto Serif\",\"color\":\"black\"},\"images\":[{\"sizex\":0.2,\"sizey\":0.2,\"source\":\"https://raw.githubusercontent.com/PolicyEngine/policyengine-app/master/src/images/logos/policyengine/blue.png\",\"x\":1,\"xanchor\":\"right\",\"xref\":\"paper\",\"y\":-0.15,\"yanchor\":\"bottom\",\"yref\":\"paper\"}],\"height\":600,\"width\":800,\"modebar\":{\"bgcolor\":\"rgba(0,0,0,0)\",\"color\":\"rgba(0,0,0,0)\"},\"title\":{\"text\":\"Figure 2: Feasible UBI policies for Northern Ireland\"}}}'"
      ]
     },
     "execution_count": 4,
     "metadata": {},
     "output_type": "execute_result"
    }
   ],
   "source": [
    "from policyengine_core.charts import *\n",
    "from ubicenter.plotly import BLUE_COLOR_SEQUENCE\n",
    "\n",
    "df = df[df[\"Feasible MTR\"] == \"Yes\"]\n",
    "fig = px.line(\n",
    "    df,\n",
    "    x=\"Personal Allowance\", \n",
    "    y=\"Basic rate\", \n",
    "    color=\"UBI/Increase ratio combination\",  \n",
    "    custom_data=[df.Label],\n",
    "    color_discrete_sequence=BLUE_COLOR_SEQUENCE[:3],\n",
    ")\n",
    "fig.update_layout(\n",
    "    yaxis_tickformat=\".0%\",\n",
    "    yaxis_title=\"Basic rate\",\n",
    "    xaxis_tickprefix=\"£\",\n",
    "    xaxis_tickformat=\",.0f\",\n",
    "    legend_title=\"Higher/add. rate increase ratio\",\n",
    ")\n",
    "\n",
    "CUSTOM_HOVERTEMPLATE=\"%{customdata[0]}\"\n",
    "fig.update_traces(hovertemplate=CUSTOM_HOVERTEMPLATE)\n",
    "\n",
    "for i, data in enumerate(fig.data):\n",
    "    data.hovertemplate = CUSTOM_HOVERTEMPLATE\n",
    "    if i % 4 == 0:\n",
    "        data[\"showlegend\"] = True\n",
    "    else:\n",
    "        data[\"showlegend\"] = False\n",
    "\n",
    "\n",
    "# Add three points, one for each model.\n",
    "\n",
    "for row, name in zip([model_1_row, model_2_row, model_3_row], [\"Model 1\", \"Model 2\", \"Model 3\"]):\n",
    "    fig.add_trace(go.Scatter(\n",
    "        x=[row[\"Personal Allowance\"]],\n",
    "        y=[row[\"Basic rate\"]],\n",
    "        mode=\"markers\",\n",
    "        marker=dict(\n",
    "            color=\"gray\",\n",
    "            size=5,\n",
    "        ),\n",
    "        showlegend=False,\n",
    "    ))\n",
    "\n",
    "    fig.add_trace(go.Scatter(\n",
    "        x=[row[\"Personal Allowance\"] + 300],\n",
    "        y=[row[\"Basic rate\"] + 0.01],\n",
    "        mode=\"text\",\n",
    "        text=[name],\n",
    "        textposition=\"middle right\",\n",
    "        showlegend=False,\n",
    "    ))\n",
    "\n",
    "\n",
    "fig_json = format_fig(fig).update_layout(\n",
    "    title=\"Figure 2: Feasible UBI policies for Northern Ireland\",\n",
    "    legend=dict(\n",
    "        orientation=\"h\",\n",
    "        yanchor=\"top\",\n",
    "        y=1.1,\n",
    "    )\n",
    ").to_json()\n",
    "fig_json"
   ]
  },
  {
   "cell_type": "markdown",
   "metadata": {
    "tags": [
     "highlighted-right"
    ]
   },
   "source": [
    "Figure 2 illustrates the outcomes of various feasible policies generated through PolicyEngine's UK microsimulation model, using an enhanced version of the Family Resources Survey. Details on the data and methodology can be found in Appendix A. Each point on these lines represents a specific policy configuration. For instance, the topmost line displays all policies that provide £400 per month to adults (£100 to children) while keeping the higher and additional rates constant as the basic rate changes. The policy configurations along this line vary based on the basic rate and personal allowance. The leftmost point of this line represents a policy that completely eliminates the Personal Allowance (a reduction of the full £12,570), increases the basic rate by 4p, and leaves the higher and additional rates unchanged.\n",
    "\n",
    "These lines are incomplete because they do not show policies that would increase marginal tax rates (MTRs) above 100%. For example, the lowest line in the £400 per month group ends at the policy that would raise the basic rate by 11p and reduce the personal allowance to £6,000. Extending that line (raising the Personal Allowance) would require increasing the basic rate. However, doing so would increase the MTR above 100% for people earning £100,000, as their personal allowance phases out.[^7] To avoid exceeding 100% MTRs, more generous UBI policies require broader-based tax reforms focused on the personal allowance and basic rate.\n",
    "\n",
    "In the next section, we provide a deeper dive into three policies—one for each UBI level.\n",
    "\n",
    "[^7]: Specifically, the MTR increases by (higher rate x 1.5)% on the income between £100,000 and (£100,000 + personal allowance x 2). In the baseline, the higher rate is 40% and the personal allowance is £12,570, creating a 60% MTR on income between £100,000 and £125,140.\n"
   ]
  },
  {
   "cell_type": "markdown",
   "metadata": {},
   "source": [
    "## Policy deep dive\n",
    "\n",
    "We selected three of the 126 feasible policies to describe in more detail. These show the space of policies—not only in terms of UBI amount, but also the funding mechanisms. These three policies are shown in Table 1, the first column of which directs to the reform in PolicyEngine.[^8] Each policy's tax reforms comprise about 75% of the cost, with the remainder coming from the UK government.\n",
    "\n",
    "- _Model 1_ provides £200 per adult per month, and funds it by reducing the personal allowance to £2,000 and increasing the basic rate by 1.8p and the higher and additional rates by 3.6p.\n",
    "- _Model 2_ provides £300 per adult per month, funded by abolishing the personal allowance and increasing all three tax rates by 5.2p.\n",
    "- _Model 3_ provides £400 per adult per month, again abolishing the personal allowance but increasing only the basic rate of income tax, by 11.5p.\n",
    "\n",
    "Each of the reforms substantially lowers or eliminates the personal allowance, and increases the basic rate; the cost of the policies requires broad-based tax reform. Each of the reforms also cuts poverty by at least 36% and inequality by at least 9%, with the more generous programs producing stronger effects. A majority of the population comes out ahead from each, as well.\n",
    "\n",
    "[^8]: Alternative policies mirroring the triplet here but including payments for children are shown in Appendix B.\n",
    "\n",
    "Table 1: Three policies to fund a UBI in Northern Ireland\n"
   ]
  },
  {
   "cell_type": "code",
   "execution_count": null,
   "metadata": {},
   "outputs": [
    {
     "data": {
      "text/markdown": [
       "|                               | Model 1                                                                                                                                           | Model 2                                                                                                                                           | Model 3                                                                                                                                           |\n",
       "|:------------------------------|:--------------------------------------------------------------------------------------------------------------------------------------------------|:--------------------------------------------------------------------------------------------------------------------------------------------------|:--------------------------------------------------------------------------------------------------------------------------------------------------|\n",
       "| Monthly UBI amount (18+)      | £200                                                                                                                                              | £300                                                                                                                                              | £400                                                                                                                                              |\n",
       "| Monthly UBI amount (16-17)    | £100                                                                                                                                              | £150                                                                                                                                              | £200                                                                                                                                              |\n",
       "| Monthly UBI amount (0-15)     | £0                                                                                                                                                | £0                                                                                                                                                | £0                                                                                                                                                |\n",
       "| Personal Allowance            | £2,000                                                                                                                                            | £0                                                                                                                                                | £0                                                                                                                                                |\n",
       "| Basic rate increase           | 1.8p                                                                                                                                              | 5.2p                                                                                                                                              | 11.5p                                                                                                                                             |\n",
       "| Higher rate increase          | 3.6p                                                                                                                                              | 5.2p                                                                                                                                              | 0.0p                                                                                                                                              |\n",
       "| Additional rate increase      | 3.6p                                                                                                                                              | 5.2p                                                                                                                                              | 0.0p                                                                                                                                              |\n",
       "| Net cost                      | £0.9bn                                                                                                                                            | £1.3bn                                                                                                                                            | £1.7bn                                                                                                                                            |\n",
       "| Revenue raised                | £2.8bn                                                                                                                                            | £4.3bn                                                                                                                                            | £5.7bn                                                                                                                                            |\n",
       "| Basic income spending         | £3.4bn                                                                                                                                            | £5.1bn                                                                                                                                            | £6.8bn                                                                                                                                            |\n",
       "| Benefit outlay increase       | £0.3bn                                                                                                                                            | £0.4bn                                                                                                                                            | £0.6bn                                                                                                                                            |\n",
       "| Poverty impact                | -36.1%                                                                                                                                            | -44.6%                                                                                                                                            | -59.4%                                                                                                                                            |\n",
       "| Inequality impact             | -9.1%                                                                                                                                             | -13.9%                                                                                                                                            | -17.7%                                                                                                                                            |\n",
       "| Percent of population gaining | 67%                                                                                                                                               | 70%                                                                                                                                               | 70%                                                                                                                                               |\n",
       "| UK supplement                 | 25.4%                                                                                                                                             | 25.0%                                                                                                                                             | 25.0%                                                                                                                                             |\n",
       "| Link                          | <a href=\"https://policyengine.org/uk/policy?reform=33332&focus=policyOutput.decileRelativeImpact&region=ni&timePeriod=2023&baseline=1\">#33332</a> | <a href=\"https://policyengine.org/uk/policy?reform=33333&focus=policyOutput.decileRelativeImpact&region=ni&timePeriod=2023&baseline=1\">#33333</a> | <a href=\"https://policyengine.org/uk/policy?reform=33334&focus=policyOutput.decileRelativeImpact&region=ni&timePeriod=2023&baseline=1\">#33334</a> |"
      ],
      "text/plain": [
       "<IPython.core.display.Markdown object>"
      ]
     },
     "execution_count": 4,
     "metadata": {},
     "output_type": "execute_result"
    }
   ],
   "source": [
    "model_1_policy = row_to_policy(model_1_row)\n",
    "model_2_policy = row_to_policy(model_2_row)\n",
    "model_3_policy = row_to_policy(model_3_row)\n",
    "\n",
    "model_1_reform = ubi_ni_reform(**model_1_policy)\n",
    "model_2_reform = ubi_ni_reform(**model_2_policy)\n",
    "model_3_reform = ubi_ni_reform(**model_3_policy)\n",
    "\n",
    "baseline = Microsimulation()\n",
    "model_1_sim = Microsimulation(reform=model_1_reform)\n",
    "model_2_sim = Microsimulation(reform=model_2_reform)\n",
    "model_3_sim = Microsimulation(reform=model_3_reform)\n",
    "\n",
    "for simulation in [baseline, model_1_sim, model_2_sim, model_3_sim]:\n",
    "    filter_to_ni(simulation)\n",
    "\n",
    "def create_summary_table(model_1_row, model_2_row, model_3_row):\n",
    "    model_1_policy = row_to_policy(model_1_row)\n",
    "    model_2_policy = row_to_policy(model_2_row)\n",
    "    model_3_policy = row_to_policy(model_3_row)\n",
    "\n",
    "    model_1_reform = ubi_ni_reform(**model_1_policy)\n",
    "    model_2_reform = ubi_ni_reform(**model_2_policy)\n",
    "    model_3_reform = ubi_ni_reform(**model_3_policy)\n",
    "\n",
    "    baseline = Microsimulation()\n",
    "    model_1_sim = Microsimulation(reform=model_1_reform)\n",
    "    model_2_sim = Microsimulation(reform=model_2_reform)\n",
    "    model_3_sim = Microsimulation(reform=model_3_reform)\n",
    "\n",
    "    for simulation in [baseline, model_1_sim, model_2_sim, model_3_sim]:\n",
    "        filter_to_ni(simulation)\n",
    "\n",
    "    summary_table = pd.DataFrame()\n",
    "    summary_table[\"Monthly UBI amount (18+)\"] = [model_1_row[\"Adult UBI\"] / 12, model_2_row[\"Adult UBI\"] / 12, model_3_row[\"Adult UBI\"] / 12]\n",
    "    summary_table[\"Monthly UBI amount (16-17)\"] = summary_table[\"Monthly UBI amount (18+)\"] / 2\n",
    "    summary_table[\"Monthly UBI amount (0-15)\"] = [0, 0, 0]\n",
    "    summary_table[\"Personal Allowance\"] = [model_1_row[\"Personal Allowance\"], model_2_row[\"Personal Allowance\"], model_3_row[\"Personal Allowance\"]]\n",
    "    summary_table[\"Basic rate increase\"] = [model_1_row[\"Basic rate addition\"], model_2_row[\"Basic rate addition\"], model_3_row[\"Basic rate addition\"]]\n",
    "    summary_table[\"Higher rate increase\"] = [model_1_row[\"Higher rate addition\"], model_2_row[\"Higher rate addition\"], model_3_row[\"Higher rate addition\"]]\n",
    "    summary_table[\"Additional rate increase\"] = [model_1_row[\"Additional rate addition\"], model_2_row[\"Additional rate addition\"], model_3_row[\"Additional rate addition\"]]\n",
    "    summary_table[\"Net cost\"] = [\n",
    "        sim.calculate(\"household_net_income\").sum() - baseline.calculate(\"household_net_income\").sum()\n",
    "        for sim in [model_1_sim, model_2_sim, model_3_sim]\n",
    "    ]\n",
    "    summary_table[\"Revenue raised\"] = [\n",
    "        sim.calculate(\"income_tax\").sum() - baseline.calculate(\"income_tax\").sum()\n",
    "        for sim in [model_1_sim, model_2_sim, model_3_sim]\n",
    "    ]\n",
    "    summary_table[\"Basic income spending\"] = [\n",
    "        sim.calculate(\"basic_income\").sum()\n",
    "        for sim in [model_1_sim, model_2_sim, model_3_sim]\n",
    "    ]\n",
    "    summary_table[\"Benefit outlay increase\"] = [\n",
    "        sim.calculate(\"household_benefits\").sum() - baseline.calculate(\"household_benefits\").sum()\n",
    "        for sim in [model_1_sim, model_2_sim, model_3_sim]\n",
    "    ]\n",
    "    summary_table[\"Benefit outlay increase\"] = summary_table[\"Benefit outlay increase\"] - summary_table[\"Basic income spending\"]\n",
    "    summary_table[\"Poverty impact\"] = [\n",
    "        sim.calculate(\"in_poverty\", map_to=\"person\").sum() / baseline.calculate(\"in_poverty\", map_to=\"person\").sum() - 1\n",
    "        for sim in [model_1_sim, model_2_sim, model_3_sim]\n",
    "    ]\n",
    "    summary_table[\"Inequality impact\"] = [\n",
    "        sim.calculate(\"equiv_household_net_income\", map_to=\"person\").gini() / baseline.calculate(\"equiv_household_net_income\", map_to=\"person\").gini() - 1\n",
    "        for sim in [model_1_sim, model_2_sim, model_3_sim]\n",
    "    ]\n",
    "    summary_table[\"Percent of population gaining\"] = [\n",
    "        (sim.calculate(\"household_net_income\", map_to=\"person\") > baseline.calculate(\"household_net_income\", map_to=\"person\")).mean()\n",
    "        for sim in [model_1_sim, model_2_sim, model_3_sim]\n",
    "    ]\n",
    "\n",
    "    # Formatting\n",
    "\n",
    "    summary_table[\"Monthly UBI amount (18+)\"] = summary_table[\"Monthly UBI amount (18+)\"].map(lambda x: f\"£{x:,.0f}\")\n",
    "    summary_table[\"Monthly UBI amount (16-17)\"] = summary_table[\"Monthly UBI amount (16-17)\"].map(lambda x: f\"£{x:,.0f}\")\n",
    "    summary_table[\"Monthly UBI amount (0-15)\"] = summary_table[\"Monthly UBI amount (0-15)\"].map(lambda x: f\"£{x:,.0f}\")\n",
    "    summary_table[\"Personal Allowance\"] = summary_table[\"Personal Allowance\"].map(lambda x: f\"£{x:,.0f}\")\n",
    "    summary_table[\"Basic rate increase\"] = summary_table[\"Basic rate increase\"].map(lambda x: f\"{x * 100:.1f}p\")\n",
    "    summary_table[\"Higher rate increase\"] = summary_table[\"Higher rate increase\"].map(lambda x: f\"{x * 100:.1f}p\")\n",
    "    summary_table[\"Additional rate increase\"] = summary_table[\"Additional rate increase\"].map(lambda x: f\"{x * 100:.1f}p\")\n",
    "    summary_table[\"UK supplement\"] = summary_table[\"Net cost\"] / summary_table[\"Basic income spending\"]\n",
    "    summary_table[\"UK supplement\"] = summary_table[\"UK supplement\"].map(lambda x: f\"{x:.1%}\")\n",
    "    summary_table[\"Net cost\"] = summary_table[\"Net cost\"].map(lambda x: f\"£{x/1e9:,.1f}bn\")\n",
    "    summary_table[\"Revenue raised\"] = summary_table[\"Revenue raised\"].map(lambda x: f\"£{x/1e9:,.1f}bn\")\n",
    "    summary_table[\"Benefit outlay increase\"] = summary_table[\"Benefit outlay increase\"].map(lambda x: f\"£{x/1e9:,.1f}bn\")\n",
    "    summary_table[\"Basic income spending\"] = summary_table[\"Basic income spending\"].map(lambda x: f\"£{x/1e9:,.1f}bn\")\n",
    "    summary_table[\"Poverty impact\"] = summary_table[\"Poverty impact\"].map(lambda x: f\"{x * 100:+.1f}%\")\n",
    "    summary_table[\"Inequality impact\"] = summary_table[\"Inequality impact\"].map(lambda x: f\"{x * 100:+.1f}%\")\n",
    "    summary_table[\"Percent of population gaining\"] = summary_table[\"Percent of population gaining\"].map(lambda x: f\"{x * 100:.0f}%\")\n",
    "\n",
    "    policy_ids = [\n",
    "        reform.api_id\n",
    "        for reform in [model_1_reform, model_2_reform, model_3_reform]\n",
    "    ]\n",
    "    summary_table[\"Link\"] = [\n",
    "        f\"<a href=\\\"https://policyengine.org/uk/policy?reform={policy_id}&focus=policyOutput.decileRelativeImpact&region=ni&timePeriod=2023&baseline=1\\\">#{policy_id}</a>\" for policy_id in policy_ids\n",
    "    ]\n",
    "    summary_table.index = [\"Model 1\", \"Model 2\", \"Model 3\"]\n",
    "\n",
    "    return summary_table\n",
    "\n",
    "summary_table = create_summary_table(model_1_row, model_2_row, model_3_row)\n",
    "\n",
    "from IPython.display import Markdown\n",
    "\n",
    "Markdown(summary_table.T.to_markdown())"
   ]
  },
  {
   "cell_type": "markdown",
   "metadata": {},
   "source": [
    "Digging into the poverty impacts reveals similarly sized impacts on child poverty, with the most generous plan halving it.[^9] \n",
    "\n",
    "[^9]: The impacts on deep poverty (the population share with net income below half the poverty threshold) are similar, though we do not include them here as the Family Resources Survey has too few records near the deep poverty line to produce reliable results.\n"
   ]
  },
  {
   "cell_type": "code",
   "execution_count": null,
   "metadata": {
    "tags": [
     "hide-input"
    ]
   },
   "outputs": [
    {
     "data": {
      "text/plain": [
       "'{\"data\":[{\"alignmentgroup\":\"True\",\"hovertemplate\":\"Policy=\\\\u00a3200/month<br>Age group=%{x}<br>Poverty rate change=%{y}<extra></extra>\",\"legendgroup\":\"\\\\u00a3200/month\",\"marker\":{\"color\":\"#D8E6F3\",\"pattern\":{\"shape\":\"\"}},\"name\":\"\\\\u00a3200/month\",\"offsetgroup\":\"\\\\u00a3200/month\",\"orientation\":\"v\",\"showlegend\":true,\"textposition\":\"auto\",\"x\":[\"Child\",\"Working-age\",\"Senior\",\"All\"],\"xaxis\":\"x\",\"y\":[-0.42158618075727095,-0.3954318890472105,-0.21684426933727885,-0.36143127277964393],\"yaxis\":\"y\",\"type\":\"bar\",\"text\":[\"-42.2%\",\"-39.5%\",\"-21.7%\",\"-36.1%\"]},{\"alignmentgroup\":\"True\",\"hovertemplate\":\"Policy=\\\\u00a3300/month<br>Age group=%{x}<br>Poverty rate change=%{y}<extra></extra>\",\"legendgroup\":\"\\\\u00a3300/month\",\"marker\":{\"color\":\"#2C6496\",\"pattern\":{\"shape\":\"\"}},\"name\":\"\\\\u00a3300/month\",\"offsetgroup\":\"\\\\u00a3300/month\",\"orientation\":\"v\",\"showlegend\":true,\"textposition\":\"auto\",\"x\":[\"Child\",\"Working-age\",\"Senior\",\"All\"],\"xaxis\":\"x\",\"y\":[-0.4913514791298538,-0.4976287845663643,-0.27712027620435464,-0.4459119282835504],\"yaxis\":\"y\",\"type\":\"bar\",\"text\":[\"-49.1%\",\"-49.8%\",\"-27.7%\",\"-44.6%\"]},{\"alignmentgroup\":\"True\",\"hovertemplate\":\"Policy=\\\\u00a3400/month<br>Age group=%{x}<br>Poverty rate change=%{y}<extra></extra>\",\"legendgroup\":\"\\\\u00a3400/month\",\"marker\":{\"color\":\"#17354F\",\"pattern\":{\"shape\":\"\"}},\"name\":\"\\\\u00a3400/month\",\"offsetgroup\":\"\\\\u00a3400/month\",\"orientation\":\"v\",\"showlegend\":true,\"textposition\":\"auto\",\"x\":[\"Child\",\"Working-age\",\"Senior\",\"All\"],\"xaxis\":\"x\",\"y\":[-0.5322009747899024,-0.6057556194635711,-0.6367956115461852,-0.5942477816215715],\"yaxis\":\"y\",\"type\":\"bar\",\"text\":[\"-53.2%\",\"-60.6%\",\"-63.7%\",\"-59.4%\"]}],\"layout\":{\"template\":{\"data\":{\"barpolar\":[{\"marker\":{\"line\":{\"color\":\"white\",\"width\":0.5},\"pattern\":{\"fillmode\":\"overlay\",\"size\":10,\"solidity\":0.2}},\"type\":\"barpolar\"}],\"bar\":[{\"error_x\":{\"color\":\"#2a3f5f\"},\"error_y\":{\"color\":\"#2a3f5f\"},\"marker\":{\"line\":{\"color\":\"white\",\"width\":0.5},\"pattern\":{\"fillmode\":\"overlay\",\"size\":10,\"solidity\":0.2}},\"type\":\"bar\"}],\"carpet\":[{\"aaxis\":{\"endlinecolor\":\"#2a3f5f\",\"gridcolor\":\"#C8D4E3\",\"linecolor\":\"#C8D4E3\",\"minorgridcolor\":\"#C8D4E3\",\"startlinecolor\":\"#2a3f5f\"},\"baxis\":{\"endlinecolor\":\"#2a3f5f\",\"gridcolor\":\"#C8D4E3\",\"linecolor\":\"#C8D4E3\",\"minorgridcolor\":\"#C8D4E3\",\"startlinecolor\":\"#2a3f5f\"},\"type\":\"carpet\"}],\"choropleth\":[{\"colorbar\":{\"outlinewidth\":0,\"ticks\":\"\"},\"type\":\"choropleth\"}],\"contourcarpet\":[{\"colorbar\":{\"outlinewidth\":0,\"ticks\":\"\"},\"type\":\"contourcarpet\"}],\"contour\":[{\"colorbar\":{\"outlinewidth\":0,\"ticks\":\"\"},\"colorscale\":[[0.0,\"#0d0887\"],[0.1111111111111111,\"#46039f\"],[0.2222222222222222,\"#7201a8\"],[0.3333333333333333,\"#9c179e\"],[0.4444444444444444,\"#bd3786\"],[0.5555555555555556,\"#d8576b\"],[0.6666666666666666,\"#ed7953\"],[0.7777777777777778,\"#fb9f3a\"],[0.8888888888888888,\"#fdca26\"],[1.0,\"#f0f921\"]],\"type\":\"contour\"}],\"heatmapgl\":[{\"colorbar\":{\"outlinewidth\":0,\"ticks\":\"\"},\"colorscale\":[[0.0,\"#0d0887\"],[0.1111111111111111,\"#46039f\"],[0.2222222222222222,\"#7201a8\"],[0.3333333333333333,\"#9c179e\"],[0.4444444444444444,\"#bd3786\"],[0.5555555555555556,\"#d8576b\"],[0.6666666666666666,\"#ed7953\"],[0.7777777777777778,\"#fb9f3a\"],[0.8888888888888888,\"#fdca26\"],[1.0,\"#f0f921\"]],\"type\":\"heatmapgl\"}],\"heatmap\":[{\"colorbar\":{\"outlinewidth\":0,\"ticks\":\"\"},\"colorscale\":[[0.0,\"#0d0887\"],[0.1111111111111111,\"#46039f\"],[0.2222222222222222,\"#7201a8\"],[0.3333333333333333,\"#9c179e\"],[0.4444444444444444,\"#bd3786\"],[0.5555555555555556,\"#d8576b\"],[0.6666666666666666,\"#ed7953\"],[0.7777777777777778,\"#fb9f3a\"],[0.8888888888888888,\"#fdca26\"],[1.0,\"#f0f921\"]],\"type\":\"heatmap\"}],\"histogram2dcontour\":[{\"colorbar\":{\"outlinewidth\":0,\"ticks\":\"\"},\"colorscale\":[[0.0,\"#0d0887\"],[0.1111111111111111,\"#46039f\"],[0.2222222222222222,\"#7201a8\"],[0.3333333333333333,\"#9c179e\"],[0.4444444444444444,\"#bd3786\"],[0.5555555555555556,\"#d8576b\"],[0.6666666666666666,\"#ed7953\"],[0.7777777777777778,\"#fb9f3a\"],[0.8888888888888888,\"#fdca26\"],[1.0,\"#f0f921\"]],\"type\":\"histogram2dcontour\"}],\"histogram2d\":[{\"colorbar\":{\"outlinewidth\":0,\"ticks\":\"\"},\"colorscale\":[[0.0,\"#0d0887\"],[0.1111111111111111,\"#46039f\"],[0.2222222222222222,\"#7201a8\"],[0.3333333333333333,\"#9c179e\"],[0.4444444444444444,\"#bd3786\"],[0.5555555555555556,\"#d8576b\"],[0.6666666666666666,\"#ed7953\"],[0.7777777777777778,\"#fb9f3a\"],[0.8888888888888888,\"#fdca26\"],[1.0,\"#f0f921\"]],\"type\":\"histogram2d\"}],\"histogram\":[{\"marker\":{\"pattern\":{\"fillmode\":\"overlay\",\"size\":10,\"solidity\":0.2}},\"type\":\"histogram\"}],\"mesh3d\":[{\"colorbar\":{\"outlinewidth\":0,\"ticks\":\"\"},\"type\":\"mesh3d\"}],\"parcoords\":[{\"line\":{\"colorbar\":{\"outlinewidth\":0,\"ticks\":\"\"}},\"type\":\"parcoords\"}],\"pie\":[{\"automargin\":true,\"type\":\"pie\"}],\"scatter3d\":[{\"line\":{\"colorbar\":{\"outlinewidth\":0,\"ticks\":\"\"}},\"marker\":{\"colorbar\":{\"outlinewidth\":0,\"ticks\":\"\"}},\"type\":\"scatter3d\"}],\"scattercarpet\":[{\"marker\":{\"colorbar\":{\"outlinewidth\":0,\"ticks\":\"\"}},\"type\":\"scattercarpet\"}],\"scattergeo\":[{\"marker\":{\"colorbar\":{\"outlinewidth\":0,\"ticks\":\"\"}},\"type\":\"scattergeo\"}],\"scattergl\":[{\"marker\":{\"colorbar\":{\"outlinewidth\":0,\"ticks\":\"\"}},\"type\":\"scattergl\"}],\"scattermapbox\":[{\"marker\":{\"colorbar\":{\"outlinewidth\":0,\"ticks\":\"\"}},\"type\":\"scattermapbox\"}],\"scatterpolargl\":[{\"marker\":{\"colorbar\":{\"outlinewidth\":0,\"ticks\":\"\"}},\"type\":\"scatterpolargl\"}],\"scatterpolar\":[{\"marker\":{\"colorbar\":{\"outlinewidth\":0,\"ticks\":\"\"}},\"type\":\"scatterpolar\"}],\"scatter\":[{\"fillpattern\":{\"fillmode\":\"overlay\",\"size\":10,\"solidity\":0.2},\"type\":\"scatter\"}],\"scatterternary\":[{\"marker\":{\"colorbar\":{\"outlinewidth\":0,\"ticks\":\"\"}},\"type\":\"scatterternary\"}],\"surface\":[{\"colorbar\":{\"outlinewidth\":0,\"ticks\":\"\"},\"colorscale\":[[0.0,\"#0d0887\"],[0.1111111111111111,\"#46039f\"],[0.2222222222222222,\"#7201a8\"],[0.3333333333333333,\"#9c179e\"],[0.4444444444444444,\"#bd3786\"],[0.5555555555555556,\"#d8576b\"],[0.6666666666666666,\"#ed7953\"],[0.7777777777777778,\"#fb9f3a\"],[0.8888888888888888,\"#fdca26\"],[1.0,\"#f0f921\"]],\"type\":\"surface\"}],\"table\":[{\"cells\":{\"fill\":{\"color\":\"#EBF0F8\"},\"line\":{\"color\":\"white\"}},\"header\":{\"fill\":{\"color\":\"#C8D4E3\"},\"line\":{\"color\":\"white\"}},\"type\":\"table\"}]},\"layout\":{\"annotationdefaults\":{\"arrowcolor\":\"#2a3f5f\",\"arrowhead\":0,\"arrowwidth\":1},\"autotypenumbers\":\"strict\",\"coloraxis\":{\"colorbar\":{\"outlinewidth\":0,\"ticks\":\"\"}},\"colorscale\":{\"diverging\":[[0,\"#8e0152\"],[0.1,\"#c51b7d\"],[0.2,\"#de77ae\"],[0.3,\"#f1b6da\"],[0.4,\"#fde0ef\"],[0.5,\"#f7f7f7\"],[0.6,\"#e6f5d0\"],[0.7,\"#b8e186\"],[0.8,\"#7fbc41\"],[0.9,\"#4d9221\"],[1,\"#276419\"]],\"sequential\":[[0.0,\"#0d0887\"],[0.1111111111111111,\"#46039f\"],[0.2222222222222222,\"#7201a8\"],[0.3333333333333333,\"#9c179e\"],[0.4444444444444444,\"#bd3786\"],[0.5555555555555556,\"#d8576b\"],[0.6666666666666666,\"#ed7953\"],[0.7777777777777778,\"#fb9f3a\"],[0.8888888888888888,\"#fdca26\"],[1.0,\"#f0f921\"]],\"sequentialminus\":[[0.0,\"#0d0887\"],[0.1111111111111111,\"#46039f\"],[0.2222222222222222,\"#7201a8\"],[0.3333333333333333,\"#9c179e\"],[0.4444444444444444,\"#bd3786\"],[0.5555555555555556,\"#d8576b\"],[0.6666666666666666,\"#ed7953\"],[0.7777777777777778,\"#fb9f3a\"],[0.8888888888888888,\"#fdca26\"],[1.0,\"#f0f921\"]]},\"colorway\":[\"#636efa\",\"#EF553B\",\"#00cc96\",\"#ab63fa\",\"#FFA15A\",\"#19d3f3\",\"#FF6692\",\"#B6E880\",\"#FF97FF\",\"#FECB52\"],\"font\":{\"color\":\"#2a3f5f\"},\"geo\":{\"bgcolor\":\"white\",\"lakecolor\":\"white\",\"landcolor\":\"white\",\"showlakes\":true,\"showland\":true,\"subunitcolor\":\"#C8D4E3\"},\"hoverlabel\":{\"align\":\"left\"},\"hovermode\":\"closest\",\"mapbox\":{\"style\":\"light\"},\"paper_bgcolor\":\"white\",\"plot_bgcolor\":\"white\",\"polar\":{\"angularaxis\":{\"gridcolor\":\"#EBF0F8\",\"linecolor\":\"#EBF0F8\",\"ticks\":\"\"},\"bgcolor\":\"white\",\"radialaxis\":{\"gridcolor\":\"#EBF0F8\",\"linecolor\":\"#EBF0F8\",\"ticks\":\"\"}},\"scene\":{\"xaxis\":{\"backgroundcolor\":\"white\",\"gridcolor\":\"#DFE8F3\",\"gridwidth\":2,\"linecolor\":\"#EBF0F8\",\"showbackground\":true,\"ticks\":\"\",\"zerolinecolor\":\"#EBF0F8\"},\"yaxis\":{\"backgroundcolor\":\"white\",\"gridcolor\":\"#DFE8F3\",\"gridwidth\":2,\"linecolor\":\"#EBF0F8\",\"showbackground\":true,\"ticks\":\"\",\"zerolinecolor\":\"#EBF0F8\"},\"zaxis\":{\"backgroundcolor\":\"white\",\"gridcolor\":\"#DFE8F3\",\"gridwidth\":2,\"linecolor\":\"#EBF0F8\",\"showbackground\":true,\"ticks\":\"\",\"zerolinecolor\":\"#EBF0F8\"}},\"shapedefaults\":{\"line\":{\"color\":\"#2a3f5f\"}},\"ternary\":{\"aaxis\":{\"gridcolor\":\"#DFE8F3\",\"linecolor\":\"#A2B1C6\",\"ticks\":\"\"},\"baxis\":{\"gridcolor\":\"#DFE8F3\",\"linecolor\":\"#A2B1C6\",\"ticks\":\"\"},\"bgcolor\":\"white\",\"caxis\":{\"gridcolor\":\"#DFE8F3\",\"linecolor\":\"#A2B1C6\",\"ticks\":\"\"}},\"title\":{\"x\":0.05},\"xaxis\":{\"automargin\":true,\"gridcolor\":\"#EBF0F8\",\"linecolor\":\"#EBF0F8\",\"ticks\":\"\",\"title\":{\"standoff\":15},\"zerolinecolor\":\"#EBF0F8\",\"zerolinewidth\":2},\"yaxis\":{\"automargin\":true,\"gridcolor\":\"#EBF0F8\",\"linecolor\":\"#EBF0F8\",\"ticks\":\"\",\"title\":{\"standoff\":15},\"zerolinecolor\":\"#EBF0F8\",\"zerolinewidth\":2}}},\"xaxis\":{\"anchor\":\"y\",\"domain\":[0.0,1.0],\"title\":{\"text\":\"Age group\"}},\"yaxis\":{\"anchor\":\"x\",\"domain\":[0.0,1.0],\"title\":{\"text\":\"Poverty rate change\"},\"tickformat\":\".0%\"},\"legend\":{\"title\":{\"text\":\"Policy\"},\"tracegroupgap\":0},\"margin\":{\"t\":60},\"barmode\":\"group\",\"title\":{\"text\":\"Figure 3: Poverty rate change by age group\"},\"font\":{\"family\":\"Roboto Serif\",\"color\":\"black\"},\"images\":[{\"sizex\":0.2,\"sizey\":0.2,\"source\":\"https://raw.githubusercontent.com/PolicyEngine/policyengine-app/master/src/images/logos/policyengine/blue.png\",\"x\":1,\"xanchor\":\"right\",\"xref\":\"paper\",\"y\":-0.15,\"yanchor\":\"bottom\",\"yref\":\"paper\"}],\"height\":600,\"width\":800,\"modebar\":{\"bgcolor\":\"rgba(0,0,0,0)\",\"color\":\"rgba(0,0,0,0)\"}}}'"
      ]
     },
     "execution_count": 5,
     "metadata": {},
     "output_type": "execute_result"
    }
   ],
   "source": [
    "import pandas as pd\n",
    "import plotly.express as px\n",
    "from policyengine_core.charts import BLUE_COLOUR_SCALE\n",
    "\n",
    "for simulation in [baseline, model_1_sim, model_2_sim, model_3_sim]:\n",
    "    filter_to_ni(simulation)\n",
    "\n",
    "dfs = []\n",
    "for sim, policy_name in zip([model_1_sim, model_2_sim, model_3_sim], [\"£200/month\", \"£300/month\", \"£400/month\"]):\n",
    "    for group, name in zip([\"is_child\", \"is_WA_adult\", \"is_SP_age\", \"people\"], [\"Child\", \"Working-age\", \"Senior\", \"All\"]):\n",
    "        df = pd.DataFrame({\n",
    "            \"Poverty rate change\": (\n",
    "                [sim.calc(\"in_poverty_bhc\", map_to=\"person\")[sim.calc(group) > 0].mean()\n",
    "                / baseline.calc(\"in_poverty_bhc\", map_to=\"person\")[sim.calc(group) > 0].mean() - 1]\n",
    "            ),\n",
    "            \"Deep poverty rate change\": (\n",
    "                [sim.calc(\"in_deep_poverty_bhc\", map_to=\"person\")[sim.calc(group) > 0].mean()\n",
    "                / baseline.calc(\"in_deep_poverty_bhc\", map_to=\"person\")[sim.calc(group) > 0].mean() - 1]\n",
    "            ),\n",
    "            \"Age group\": [name],\n",
    "            \"Policy\": [policy_name],\n",
    "        })\n",
    "        dfs += [df]\n",
    "poverty_df = pd.concat(dfs)\n",
    "fig = px.bar(\n",
    "    poverty_df,\n",
    "    x=\"Age group\",\n",
    "    y=\"Poverty rate change\",\n",
    "    color=\"Policy\",\n",
    "    barmode=\"group\",\n",
    "    color_discrete_sequence=BLUE_COLOUR_SCALE,\n",
    ").update_layout(\n",
    "    yaxis_tickformat=\".0%\",\n",
    "    title=\"Figure 3: Poverty rate change by age group\",\n",
    ")\n",
    "for i in range(len(fig.data)):\n",
    "    fig.data[i][\"text\"] = [f\"{x:+.1%}\" if x is not None else \"\" for x in fig.data[i][\"y\"]]\n",
    "format_fig(fig).to_json()"
   ]
  },
  {
   "cell_type": "markdown",
   "metadata": {},
   "source": [
    "Each policy reduces various measures of income inequality, especially the Gini index, roughly in proportion to the UBI amount. They also cut narrower measures of inequality: depending on the policy, the share of disposable income held by the top 1 and 10 percent of the population falls by 3 to 8 percent.\n"
   ]
  },
  {
   "cell_type": "code",
   "execution_count": null,
   "metadata": {
    "tags": [
     "hide-input"
    ]
   },
   "outputs": [
    {
     "data": {
      "text/plain": [
       "'{\"data\":[{\"alignmentgroup\":\"True\",\"hovertemplate\":\"Policy=\\\\u00a3200/month<br>Metric=%{x}<br>Inequality change=%{y}<extra></extra>\",\"legendgroup\":\"\\\\u00a3200/month\",\"marker\":{\"color\":\"#D8E6F3\",\"pattern\":{\"shape\":\"\"}},\"name\":\"\\\\u00a3200/month\",\"offsetgroup\":\"\\\\u00a3200/month\",\"orientation\":\"v\",\"showlegend\":true,\"textposition\":\"auto\",\"x\":[\"Gini coefficient\",\"Top-10% share\",\"Top-1% share\"],\"xaxis\":\"x\",\"y\":[-0.09095867991916928,-0.04216966399949429,-0.053773226069929625],\"yaxis\":\"y\",\"type\":\"bar\",\"text\":[\"-9.1%\",\"-4.2%\",\"-5.4%\"]},{\"alignmentgroup\":\"True\",\"hovertemplate\":\"Policy=\\\\u00a3300/month<br>Metric=%{x}<br>Inequality change=%{y}<extra></extra>\",\"legendgroup\":\"\\\\u00a3300/month\",\"marker\":{\"color\":\"#2C6496\",\"pattern\":{\"shape\":\"\"}},\"name\":\"\\\\u00a3300/month\",\"offsetgroup\":\"\\\\u00a3300/month\",\"orientation\":\"v\",\"showlegend\":true,\"textposition\":\"auto\",\"x\":[\"Gini coefficient\",\"Top-10% share\",\"Top-1% share\"],\"xaxis\":\"x\",\"y\":[-0.13937942579648965,-0.07097996830215836,-0.08557516846118995],\"yaxis\":\"y\",\"type\":\"bar\",\"text\":[\"-13.9%\",\"-7.1%\",\"-8.6%\"]},{\"alignmentgroup\":\"True\",\"hovertemplate\":\"Policy=\\\\u00a3400/month<br>Metric=%{x}<br>Inequality change=%{y}<extra></extra>\",\"legendgroup\":\"\\\\u00a3400/month\",\"marker\":{\"color\":\"#17354F\",\"pattern\":{\"shape\":\"\"}},\"name\":\"\\\\u00a3400/month\",\"offsetgroup\":\"\\\\u00a3400/month\",\"orientation\":\"v\",\"showlegend\":true,\"textposition\":\"auto\",\"x\":[\"Gini coefficient\",\"Top-10% share\",\"Top-1% share\"],\"xaxis\":\"x\",\"y\":[-0.17673657496315598,-0.07945243895625598,-0.0483570449241133],\"yaxis\":\"y\",\"type\":\"bar\",\"text\":[\"-17.7%\",\"-7.9%\",\"-4.8%\"]}],\"layout\":{\"template\":{\"data\":{\"barpolar\":[{\"marker\":{\"line\":{\"color\":\"white\",\"width\":0.5},\"pattern\":{\"fillmode\":\"overlay\",\"size\":10,\"solidity\":0.2}},\"type\":\"barpolar\"}],\"bar\":[{\"error_x\":{\"color\":\"#2a3f5f\"},\"error_y\":{\"color\":\"#2a3f5f\"},\"marker\":{\"line\":{\"color\":\"white\",\"width\":0.5},\"pattern\":{\"fillmode\":\"overlay\",\"size\":10,\"solidity\":0.2}},\"type\":\"bar\"}],\"carpet\":[{\"aaxis\":{\"endlinecolor\":\"#2a3f5f\",\"gridcolor\":\"#C8D4E3\",\"linecolor\":\"#C8D4E3\",\"minorgridcolor\":\"#C8D4E3\",\"startlinecolor\":\"#2a3f5f\"},\"baxis\":{\"endlinecolor\":\"#2a3f5f\",\"gridcolor\":\"#C8D4E3\",\"linecolor\":\"#C8D4E3\",\"minorgridcolor\":\"#C8D4E3\",\"startlinecolor\":\"#2a3f5f\"},\"type\":\"carpet\"}],\"choropleth\":[{\"colorbar\":{\"outlinewidth\":0,\"ticks\":\"\"},\"type\":\"choropleth\"}],\"contourcarpet\":[{\"colorbar\":{\"outlinewidth\":0,\"ticks\":\"\"},\"type\":\"contourcarpet\"}],\"contour\":[{\"colorbar\":{\"outlinewidth\":0,\"ticks\":\"\"},\"colorscale\":[[0.0,\"#0d0887\"],[0.1111111111111111,\"#46039f\"],[0.2222222222222222,\"#7201a8\"],[0.3333333333333333,\"#9c179e\"],[0.4444444444444444,\"#bd3786\"],[0.5555555555555556,\"#d8576b\"],[0.6666666666666666,\"#ed7953\"],[0.7777777777777778,\"#fb9f3a\"],[0.8888888888888888,\"#fdca26\"],[1.0,\"#f0f921\"]],\"type\":\"contour\"}],\"heatmapgl\":[{\"colorbar\":{\"outlinewidth\":0,\"ticks\":\"\"},\"colorscale\":[[0.0,\"#0d0887\"],[0.1111111111111111,\"#46039f\"],[0.2222222222222222,\"#7201a8\"],[0.3333333333333333,\"#9c179e\"],[0.4444444444444444,\"#bd3786\"],[0.5555555555555556,\"#d8576b\"],[0.6666666666666666,\"#ed7953\"],[0.7777777777777778,\"#fb9f3a\"],[0.8888888888888888,\"#fdca26\"],[1.0,\"#f0f921\"]],\"type\":\"heatmapgl\"}],\"heatmap\":[{\"colorbar\":{\"outlinewidth\":0,\"ticks\":\"\"},\"colorscale\":[[0.0,\"#0d0887\"],[0.1111111111111111,\"#46039f\"],[0.2222222222222222,\"#7201a8\"],[0.3333333333333333,\"#9c179e\"],[0.4444444444444444,\"#bd3786\"],[0.5555555555555556,\"#d8576b\"],[0.6666666666666666,\"#ed7953\"],[0.7777777777777778,\"#fb9f3a\"],[0.8888888888888888,\"#fdca26\"],[1.0,\"#f0f921\"]],\"type\":\"heatmap\"}],\"histogram2dcontour\":[{\"colorbar\":{\"outlinewidth\":0,\"ticks\":\"\"},\"colorscale\":[[0.0,\"#0d0887\"],[0.1111111111111111,\"#46039f\"],[0.2222222222222222,\"#7201a8\"],[0.3333333333333333,\"#9c179e\"],[0.4444444444444444,\"#bd3786\"],[0.5555555555555556,\"#d8576b\"],[0.6666666666666666,\"#ed7953\"],[0.7777777777777778,\"#fb9f3a\"],[0.8888888888888888,\"#fdca26\"],[1.0,\"#f0f921\"]],\"type\":\"histogram2dcontour\"}],\"histogram2d\":[{\"colorbar\":{\"outlinewidth\":0,\"ticks\":\"\"},\"colorscale\":[[0.0,\"#0d0887\"],[0.1111111111111111,\"#46039f\"],[0.2222222222222222,\"#7201a8\"],[0.3333333333333333,\"#9c179e\"],[0.4444444444444444,\"#bd3786\"],[0.5555555555555556,\"#d8576b\"],[0.6666666666666666,\"#ed7953\"],[0.7777777777777778,\"#fb9f3a\"],[0.8888888888888888,\"#fdca26\"],[1.0,\"#f0f921\"]],\"type\":\"histogram2d\"}],\"histogram\":[{\"marker\":{\"pattern\":{\"fillmode\":\"overlay\",\"size\":10,\"solidity\":0.2}},\"type\":\"histogram\"}],\"mesh3d\":[{\"colorbar\":{\"outlinewidth\":0,\"ticks\":\"\"},\"type\":\"mesh3d\"}],\"parcoords\":[{\"line\":{\"colorbar\":{\"outlinewidth\":0,\"ticks\":\"\"}},\"type\":\"parcoords\"}],\"pie\":[{\"automargin\":true,\"type\":\"pie\"}],\"scatter3d\":[{\"line\":{\"colorbar\":{\"outlinewidth\":0,\"ticks\":\"\"}},\"marker\":{\"colorbar\":{\"outlinewidth\":0,\"ticks\":\"\"}},\"type\":\"scatter3d\"}],\"scattercarpet\":[{\"marker\":{\"colorbar\":{\"outlinewidth\":0,\"ticks\":\"\"}},\"type\":\"scattercarpet\"}],\"scattergeo\":[{\"marker\":{\"colorbar\":{\"outlinewidth\":0,\"ticks\":\"\"}},\"type\":\"scattergeo\"}],\"scattergl\":[{\"marker\":{\"colorbar\":{\"outlinewidth\":0,\"ticks\":\"\"}},\"type\":\"scattergl\"}],\"scattermapbox\":[{\"marker\":{\"colorbar\":{\"outlinewidth\":0,\"ticks\":\"\"}},\"type\":\"scattermapbox\"}],\"scatterpolargl\":[{\"marker\":{\"colorbar\":{\"outlinewidth\":0,\"ticks\":\"\"}},\"type\":\"scatterpolargl\"}],\"scatterpolar\":[{\"marker\":{\"colorbar\":{\"outlinewidth\":0,\"ticks\":\"\"}},\"type\":\"scatterpolar\"}],\"scatter\":[{\"fillpattern\":{\"fillmode\":\"overlay\",\"size\":10,\"solidity\":0.2},\"type\":\"scatter\"}],\"scatterternary\":[{\"marker\":{\"colorbar\":{\"outlinewidth\":0,\"ticks\":\"\"}},\"type\":\"scatterternary\"}],\"surface\":[{\"colorbar\":{\"outlinewidth\":0,\"ticks\":\"\"},\"colorscale\":[[0.0,\"#0d0887\"],[0.1111111111111111,\"#46039f\"],[0.2222222222222222,\"#7201a8\"],[0.3333333333333333,\"#9c179e\"],[0.4444444444444444,\"#bd3786\"],[0.5555555555555556,\"#d8576b\"],[0.6666666666666666,\"#ed7953\"],[0.7777777777777778,\"#fb9f3a\"],[0.8888888888888888,\"#fdca26\"],[1.0,\"#f0f921\"]],\"type\":\"surface\"}],\"table\":[{\"cells\":{\"fill\":{\"color\":\"#EBF0F8\"},\"line\":{\"color\":\"white\"}},\"header\":{\"fill\":{\"color\":\"#C8D4E3\"},\"line\":{\"color\":\"white\"}},\"type\":\"table\"}]},\"layout\":{\"annotationdefaults\":{\"arrowcolor\":\"#2a3f5f\",\"arrowhead\":0,\"arrowwidth\":1},\"autotypenumbers\":\"strict\",\"coloraxis\":{\"colorbar\":{\"outlinewidth\":0,\"ticks\":\"\"}},\"colorscale\":{\"diverging\":[[0,\"#8e0152\"],[0.1,\"#c51b7d\"],[0.2,\"#de77ae\"],[0.3,\"#f1b6da\"],[0.4,\"#fde0ef\"],[0.5,\"#f7f7f7\"],[0.6,\"#e6f5d0\"],[0.7,\"#b8e186\"],[0.8,\"#7fbc41\"],[0.9,\"#4d9221\"],[1,\"#276419\"]],\"sequential\":[[0.0,\"#0d0887\"],[0.1111111111111111,\"#46039f\"],[0.2222222222222222,\"#7201a8\"],[0.3333333333333333,\"#9c179e\"],[0.4444444444444444,\"#bd3786\"],[0.5555555555555556,\"#d8576b\"],[0.6666666666666666,\"#ed7953\"],[0.7777777777777778,\"#fb9f3a\"],[0.8888888888888888,\"#fdca26\"],[1.0,\"#f0f921\"]],\"sequentialminus\":[[0.0,\"#0d0887\"],[0.1111111111111111,\"#46039f\"],[0.2222222222222222,\"#7201a8\"],[0.3333333333333333,\"#9c179e\"],[0.4444444444444444,\"#bd3786\"],[0.5555555555555556,\"#d8576b\"],[0.6666666666666666,\"#ed7953\"],[0.7777777777777778,\"#fb9f3a\"],[0.8888888888888888,\"#fdca26\"],[1.0,\"#f0f921\"]]},\"colorway\":[\"#636efa\",\"#EF553B\",\"#00cc96\",\"#ab63fa\",\"#FFA15A\",\"#19d3f3\",\"#FF6692\",\"#B6E880\",\"#FF97FF\",\"#FECB52\"],\"font\":{\"color\":\"#2a3f5f\"},\"geo\":{\"bgcolor\":\"white\",\"lakecolor\":\"white\",\"landcolor\":\"white\",\"showlakes\":true,\"showland\":true,\"subunitcolor\":\"#C8D4E3\"},\"hoverlabel\":{\"align\":\"left\"},\"hovermode\":\"closest\",\"mapbox\":{\"style\":\"light\"},\"paper_bgcolor\":\"white\",\"plot_bgcolor\":\"white\",\"polar\":{\"angularaxis\":{\"gridcolor\":\"#EBF0F8\",\"linecolor\":\"#EBF0F8\",\"ticks\":\"\"},\"bgcolor\":\"white\",\"radialaxis\":{\"gridcolor\":\"#EBF0F8\",\"linecolor\":\"#EBF0F8\",\"ticks\":\"\"}},\"scene\":{\"xaxis\":{\"backgroundcolor\":\"white\",\"gridcolor\":\"#DFE8F3\",\"gridwidth\":2,\"linecolor\":\"#EBF0F8\",\"showbackground\":true,\"ticks\":\"\",\"zerolinecolor\":\"#EBF0F8\"},\"yaxis\":{\"backgroundcolor\":\"white\",\"gridcolor\":\"#DFE8F3\",\"gridwidth\":2,\"linecolor\":\"#EBF0F8\",\"showbackground\":true,\"ticks\":\"\",\"zerolinecolor\":\"#EBF0F8\"},\"zaxis\":{\"backgroundcolor\":\"white\",\"gridcolor\":\"#DFE8F3\",\"gridwidth\":2,\"linecolor\":\"#EBF0F8\",\"showbackground\":true,\"ticks\":\"\",\"zerolinecolor\":\"#EBF0F8\"}},\"shapedefaults\":{\"line\":{\"color\":\"#2a3f5f\"}},\"ternary\":{\"aaxis\":{\"gridcolor\":\"#DFE8F3\",\"linecolor\":\"#A2B1C6\",\"ticks\":\"\"},\"baxis\":{\"gridcolor\":\"#DFE8F3\",\"linecolor\":\"#A2B1C6\",\"ticks\":\"\"},\"bgcolor\":\"white\",\"caxis\":{\"gridcolor\":\"#DFE8F3\",\"linecolor\":\"#A2B1C6\",\"ticks\":\"\"}},\"title\":{\"x\":0.05},\"xaxis\":{\"automargin\":true,\"gridcolor\":\"#EBF0F8\",\"linecolor\":\"#EBF0F8\",\"ticks\":\"\",\"title\":{\"standoff\":15},\"zerolinecolor\":\"#EBF0F8\",\"zerolinewidth\":2},\"yaxis\":{\"automargin\":true,\"gridcolor\":\"#EBF0F8\",\"linecolor\":\"#EBF0F8\",\"ticks\":\"\",\"title\":{\"standoff\":15},\"zerolinecolor\":\"#EBF0F8\",\"zerolinewidth\":2}}},\"xaxis\":{\"anchor\":\"y\",\"domain\":[0.0,1.0],\"title\":{\"text\":\"Metric\"}},\"yaxis\":{\"anchor\":\"x\",\"domain\":[0.0,1.0],\"title\":{\"text\":\"Inequality change\"},\"tickformat\":\".0%\"},\"legend\":{\"title\":{\"text\":\"Policy\"},\"tracegroupgap\":0},\"margin\":{\"t\":60},\"barmode\":\"group\",\"font\":{\"family\":\"Roboto Serif\",\"color\":\"black\"},\"images\":[{\"sizex\":0.2,\"sizey\":0.2,\"source\":\"https://raw.githubusercontent.com/PolicyEngine/policyengine-app/master/src/images/logos/policyengine/blue.png\",\"x\":1,\"xanchor\":\"right\",\"xref\":\"paper\",\"y\":-0.15,\"yanchor\":\"bottom\",\"yref\":\"paper\"}],\"height\":600,\"width\":800,\"modebar\":{\"bgcolor\":\"rgba(0,0,0,0)\",\"color\":\"rgba(0,0,0,0)\"},\"title\":{\"text\":\"Figure 4: Inequality impact by metric and UBI policy\"}}}'"
      ]
     },
     "execution_count": 6,
     "metadata": {},
     "output_type": "execute_result"
    }
   ],
   "source": [
    "dfs = []\n",
    "from policyengine_core.charts import BLUE_COLOUR_SCALE\n",
    "for reformed, policy_name in zip([model_1_sim, model_2_sim, model_3_sim], [\"£200/month\", \"£300/month\", \"£400/month\"]):\n",
    "    equiv_income = baseline.calc(\n",
    "        \"equiv_household_net_income\", map_to=\"person\"\n",
    "    )\n",
    "    reform_equiv_income = reformed.calc(\n",
    "        \"equiv_household_net_income\", map_to=\"person\"\n",
    "    )\n",
    "    baseline_gini = equiv_income.gini()\n",
    "    reform_gini = reform_equiv_income.gini()\n",
    "    gini_change = reform_gini / baseline_gini - 1\n",
    "    baseline_top_ten_pct_share = (\n",
    "        equiv_income[equiv_income.decile_rank() == 10].sum()\n",
    "        / equiv_income.sum()\n",
    "    )\n",
    "    reform_top_ten_pct_share = (\n",
    "        reform_equiv_income[reform_equiv_income.decile_rank() == 10].sum()\n",
    "        / reform_equiv_income.sum()\n",
    "    )\n",
    "    top_ten_pct_share_change = (\n",
    "        reform_top_ten_pct_share / baseline_top_ten_pct_share - 1\n",
    "    )\n",
    "    baseline_top_one_pct_share = (\n",
    "        equiv_income[equiv_income.percentile_rank() == 100].sum()\n",
    "        / equiv_income.sum()\n",
    "    )\n",
    "    reform_top_one_pct_share = (\n",
    "        reform_equiv_income[reform_equiv_income.percentile_rank() == 100].sum()\n",
    "        / reform_equiv_income.sum()\n",
    "    )\n",
    "    top_one_pct_share_change = (\n",
    "        reform_top_one_pct_share / baseline_top_one_pct_share - 1\n",
    "    )\n",
    "    df = pd.DataFrame({\n",
    "        \"Metric\": [\"Gini coefficient\", \"Top-10% share\", \"Top-1% share\"],\n",
    "        \"Inequality change\": [\n",
    "            reform_gini / baseline_gini - 1,\n",
    "            reform_top_ten_pct_share / baseline_top_ten_pct_share - 1,\n",
    "            reform_top_one_pct_share / baseline_top_one_pct_share - 1,\n",
    "        ],\n",
    "        \"Policy\": [policy_name] * 3,\n",
    "    })\n",
    "    dfs += [df]\n",
    "inequality_df = pd.concat(dfs)\n",
    "fig = px.bar(\n",
    "    inequality_df,\n",
    "    x=\"Metric\",\n",
    "    y=\"Inequality change\",\n",
    "    color=\"Policy\",\n",
    "    barmode=\"group\",\n",
    "    color_discrete_sequence=BLUE_COLOUR_SCALE,\n",
    ").update_layout(\n",
    "    yaxis_tickformat=\".0%\",\n",
    ")\n",
    "for i in range(len(fig.data)):\n",
    "    fig.data[i][\"text\"] = [f\"{x:+.1%}\" if x is not None else \"\" for x in fig.data[i][\"y\"]]\n",
    "format_fig(fig).update_layout(\n",
    "    title=\"Figure 4: Inequality impact by metric and UBI policy\",\n",
    ").to_json()"
   ]
  },
  {
   "cell_type": "markdown",
   "metadata": {},
   "source": [
    "The next sections provide more detailed societal-level impacts on each of the three policies.\n",
    "\n",
    "## [£200 per month option](https://policyengine.org/uk/policy?reform=33332&focus=policyOutput.decileRelativeImpact&region=ni&timePeriod=2023&baseline=1)\n",
    "\n",
    "_£200 per month for adults, funded by lowering the personal allowance to £2,000, increasing the basic rate by 1.8p, and increasing the higher and additional rates by 3.6p_\n",
    "\n",
    "The smallest policy in our analysis reduces the allowance to £2,000 per year, raises the basic rate to 21.8%, the higher rate to 43.6% and the additional rate to 48.6%. 66% of the population sees their income rise as a result of the policy.\n",
    "\n",
    "The lowest income decile sees an average increase of 15% to its aggregate disposable income, while the upper decile sees a 1.2% decrease.\n"
   ]
  },
  {
   "cell_type": "code",
   "execution_count": null,
   "metadata": {
    "tags": [
     "hide-input"
    ]
   },
   "outputs": [
    {
     "data": {
      "text/plain": [
       "'{\"data\":[{\"marker\":{\"color\":[\"#2C6496\",\"#2C6496\",\"#2C6496\",\"#2C6496\",\"#2C6496\",\"#2C6496\",\"#2C6496\",\"#2C6496\",\"#2C6496\",\"#616161\"]},\"text\":[\"+15.4%\",\"+8.3%\",\"+6.6%\",\"+5.0%\",\"+3.9%\",\"+2.2%\",\"+1.8%\",\"+0.8%\",\"+0.4%\",\"-1.1%\"],\"textangle\":0,\"x\":[1,2,3,4,5,6,7,8,9,10],\"y\":[0.15382618790946911,0.08267572834149617,0.06562936688820244,0.04952542861745128,0.039093651372728876,0.021605778871061326,0.018317124177415704,0.008096918744743898,0.0036384076357556926,-0.011065867232976574],\"type\":\"bar\"}],\"layout\":{\"uniformtext\":{\"minsize\":8,\"mode\":\"hide\"},\"xaxis\":{\"tickvals\":[1,2,3,4,5,6,7,8,9,10],\"title\":{\"text\":\"Income decile\"}},\"yaxis\":{\"tickformat\":\"+,.0%\",\"title\":{\"text\":\"Relative change\"}},\"template\":{\"data\":{\"barpolar\":[{\"marker\":{\"line\":{\"color\":\"white\",\"width\":0.5},\"pattern\":{\"fillmode\":\"overlay\",\"size\":10,\"solidity\":0.2}},\"type\":\"barpolar\"}],\"bar\":[{\"error_x\":{\"color\":\"#2a3f5f\"},\"error_y\":{\"color\":\"#2a3f5f\"},\"marker\":{\"line\":{\"color\":\"white\",\"width\":0.5},\"pattern\":{\"fillmode\":\"overlay\",\"size\":10,\"solidity\":0.2}},\"type\":\"bar\"}],\"carpet\":[{\"aaxis\":{\"endlinecolor\":\"#2a3f5f\",\"gridcolor\":\"#C8D4E3\",\"linecolor\":\"#C8D4E3\",\"minorgridcolor\":\"#C8D4E3\",\"startlinecolor\":\"#2a3f5f\"},\"baxis\":{\"endlinecolor\":\"#2a3f5f\",\"gridcolor\":\"#C8D4E3\",\"linecolor\":\"#C8D4E3\",\"minorgridcolor\":\"#C8D4E3\",\"startlinecolor\":\"#2a3f5f\"},\"type\":\"carpet\"}],\"choropleth\":[{\"colorbar\":{\"outlinewidth\":0,\"ticks\":\"\"},\"type\":\"choropleth\"}],\"contourcarpet\":[{\"colorbar\":{\"outlinewidth\":0,\"ticks\":\"\"},\"type\":\"contourcarpet\"}],\"contour\":[{\"colorbar\":{\"outlinewidth\":0,\"ticks\":\"\"},\"colorscale\":[[0.0,\"#0d0887\"],[0.1111111111111111,\"#46039f\"],[0.2222222222222222,\"#7201a8\"],[0.3333333333333333,\"#9c179e\"],[0.4444444444444444,\"#bd3786\"],[0.5555555555555556,\"#d8576b\"],[0.6666666666666666,\"#ed7953\"],[0.7777777777777778,\"#fb9f3a\"],[0.8888888888888888,\"#fdca26\"],[1.0,\"#f0f921\"]],\"type\":\"contour\"}],\"heatmapgl\":[{\"colorbar\":{\"outlinewidth\":0,\"ticks\":\"\"},\"colorscale\":[[0.0,\"#0d0887\"],[0.1111111111111111,\"#46039f\"],[0.2222222222222222,\"#7201a8\"],[0.3333333333333333,\"#9c179e\"],[0.4444444444444444,\"#bd3786\"],[0.5555555555555556,\"#d8576b\"],[0.6666666666666666,\"#ed7953\"],[0.7777777777777778,\"#fb9f3a\"],[0.8888888888888888,\"#fdca26\"],[1.0,\"#f0f921\"]],\"type\":\"heatmapgl\"}],\"heatmap\":[{\"colorbar\":{\"outlinewidth\":0,\"ticks\":\"\"},\"colorscale\":[[0.0,\"#0d0887\"],[0.1111111111111111,\"#46039f\"],[0.2222222222222222,\"#7201a8\"],[0.3333333333333333,\"#9c179e\"],[0.4444444444444444,\"#bd3786\"],[0.5555555555555556,\"#d8576b\"],[0.6666666666666666,\"#ed7953\"],[0.7777777777777778,\"#fb9f3a\"],[0.8888888888888888,\"#fdca26\"],[1.0,\"#f0f921\"]],\"type\":\"heatmap\"}],\"histogram2dcontour\":[{\"colorbar\":{\"outlinewidth\":0,\"ticks\":\"\"},\"colorscale\":[[0.0,\"#0d0887\"],[0.1111111111111111,\"#46039f\"],[0.2222222222222222,\"#7201a8\"],[0.3333333333333333,\"#9c179e\"],[0.4444444444444444,\"#bd3786\"],[0.5555555555555556,\"#d8576b\"],[0.6666666666666666,\"#ed7953\"],[0.7777777777777778,\"#fb9f3a\"],[0.8888888888888888,\"#fdca26\"],[1.0,\"#f0f921\"]],\"type\":\"histogram2dcontour\"}],\"histogram2d\":[{\"colorbar\":{\"outlinewidth\":0,\"ticks\":\"\"},\"colorscale\":[[0.0,\"#0d0887\"],[0.1111111111111111,\"#46039f\"],[0.2222222222222222,\"#7201a8\"],[0.3333333333333333,\"#9c179e\"],[0.4444444444444444,\"#bd3786\"],[0.5555555555555556,\"#d8576b\"],[0.6666666666666666,\"#ed7953\"],[0.7777777777777778,\"#fb9f3a\"],[0.8888888888888888,\"#fdca26\"],[1.0,\"#f0f921\"]],\"type\":\"histogram2d\"}],\"histogram\":[{\"marker\":{\"pattern\":{\"fillmode\":\"overlay\",\"size\":10,\"solidity\":0.2}},\"type\":\"histogram\"}],\"mesh3d\":[{\"colorbar\":{\"outlinewidth\":0,\"ticks\":\"\"},\"type\":\"mesh3d\"}],\"parcoords\":[{\"line\":{\"colorbar\":{\"outlinewidth\":0,\"ticks\":\"\"}},\"type\":\"parcoords\"}],\"pie\":[{\"automargin\":true,\"type\":\"pie\"}],\"scatter3d\":[{\"line\":{\"colorbar\":{\"outlinewidth\":0,\"ticks\":\"\"}},\"marker\":{\"colorbar\":{\"outlinewidth\":0,\"ticks\":\"\"}},\"type\":\"scatter3d\"}],\"scattercarpet\":[{\"marker\":{\"colorbar\":{\"outlinewidth\":0,\"ticks\":\"\"}},\"type\":\"scattercarpet\"}],\"scattergeo\":[{\"marker\":{\"colorbar\":{\"outlinewidth\":0,\"ticks\":\"\"}},\"type\":\"scattergeo\"}],\"scattergl\":[{\"marker\":{\"colorbar\":{\"outlinewidth\":0,\"ticks\":\"\"}},\"type\":\"scattergl\"}],\"scattermapbox\":[{\"marker\":{\"colorbar\":{\"outlinewidth\":0,\"ticks\":\"\"}},\"type\":\"scattermapbox\"}],\"scatterpolargl\":[{\"marker\":{\"colorbar\":{\"outlinewidth\":0,\"ticks\":\"\"}},\"type\":\"scatterpolargl\"}],\"scatterpolar\":[{\"marker\":{\"colorbar\":{\"outlinewidth\":0,\"ticks\":\"\"}},\"type\":\"scatterpolar\"}],\"scatter\":[{\"fillpattern\":{\"fillmode\":\"overlay\",\"size\":10,\"solidity\":0.2},\"type\":\"scatter\"}],\"scatterternary\":[{\"marker\":{\"colorbar\":{\"outlinewidth\":0,\"ticks\":\"\"}},\"type\":\"scatterternary\"}],\"surface\":[{\"colorbar\":{\"outlinewidth\":0,\"ticks\":\"\"},\"colorscale\":[[0.0,\"#0d0887\"],[0.1111111111111111,\"#46039f\"],[0.2222222222222222,\"#7201a8\"],[0.3333333333333333,\"#9c179e\"],[0.4444444444444444,\"#bd3786\"],[0.5555555555555556,\"#d8576b\"],[0.6666666666666666,\"#ed7953\"],[0.7777777777777778,\"#fb9f3a\"],[0.8888888888888888,\"#fdca26\"],[1.0,\"#f0f921\"]],\"type\":\"surface\"}],\"table\":[{\"cells\":{\"fill\":{\"color\":\"#EBF0F8\"},\"line\":{\"color\":\"white\"}},\"header\":{\"fill\":{\"color\":\"#C8D4E3\"},\"line\":{\"color\":\"white\"}},\"type\":\"table\"}]},\"layout\":{\"annotationdefaults\":{\"arrowcolor\":\"#2a3f5f\",\"arrowhead\":0,\"arrowwidth\":1},\"autotypenumbers\":\"strict\",\"coloraxis\":{\"colorbar\":{\"outlinewidth\":0,\"ticks\":\"\"}},\"colorscale\":{\"diverging\":[[0,\"#8e0152\"],[0.1,\"#c51b7d\"],[0.2,\"#de77ae\"],[0.3,\"#f1b6da\"],[0.4,\"#fde0ef\"],[0.5,\"#f7f7f7\"],[0.6,\"#e6f5d0\"],[0.7,\"#b8e186\"],[0.8,\"#7fbc41\"],[0.9,\"#4d9221\"],[1,\"#276419\"]],\"sequential\":[[0.0,\"#0d0887\"],[0.1111111111111111,\"#46039f\"],[0.2222222222222222,\"#7201a8\"],[0.3333333333333333,\"#9c179e\"],[0.4444444444444444,\"#bd3786\"],[0.5555555555555556,\"#d8576b\"],[0.6666666666666666,\"#ed7953\"],[0.7777777777777778,\"#fb9f3a\"],[0.8888888888888888,\"#fdca26\"],[1.0,\"#f0f921\"]],\"sequentialminus\":[[0.0,\"#0d0887\"],[0.1111111111111111,\"#46039f\"],[0.2222222222222222,\"#7201a8\"],[0.3333333333333333,\"#9c179e\"],[0.4444444444444444,\"#bd3786\"],[0.5555555555555556,\"#d8576b\"],[0.6666666666666666,\"#ed7953\"],[0.7777777777777778,\"#fb9f3a\"],[0.8888888888888888,\"#fdca26\"],[1.0,\"#f0f921\"]]},\"colorway\":[\"#636efa\",\"#EF553B\",\"#00cc96\",\"#ab63fa\",\"#FFA15A\",\"#19d3f3\",\"#FF6692\",\"#B6E880\",\"#FF97FF\",\"#FECB52\"],\"font\":{\"color\":\"#2a3f5f\"},\"geo\":{\"bgcolor\":\"white\",\"lakecolor\":\"white\",\"landcolor\":\"white\",\"showlakes\":true,\"showland\":true,\"subunitcolor\":\"#C8D4E3\"},\"hoverlabel\":{\"align\":\"left\"},\"hovermode\":\"closest\",\"mapbox\":{\"style\":\"light\"},\"paper_bgcolor\":\"white\",\"plot_bgcolor\":\"white\",\"polar\":{\"angularaxis\":{\"gridcolor\":\"#EBF0F8\",\"linecolor\":\"#EBF0F8\",\"ticks\":\"\"},\"bgcolor\":\"white\",\"radialaxis\":{\"gridcolor\":\"#EBF0F8\",\"linecolor\":\"#EBF0F8\",\"ticks\":\"\"}},\"scene\":{\"xaxis\":{\"backgroundcolor\":\"white\",\"gridcolor\":\"#DFE8F3\",\"gridwidth\":2,\"linecolor\":\"#EBF0F8\",\"showbackground\":true,\"ticks\":\"\",\"zerolinecolor\":\"#EBF0F8\"},\"yaxis\":{\"backgroundcolor\":\"white\",\"gridcolor\":\"#DFE8F3\",\"gridwidth\":2,\"linecolor\":\"#EBF0F8\",\"showbackground\":true,\"ticks\":\"\",\"zerolinecolor\":\"#EBF0F8\"},\"zaxis\":{\"backgroundcolor\":\"white\",\"gridcolor\":\"#DFE8F3\",\"gridwidth\":2,\"linecolor\":\"#EBF0F8\",\"showbackground\":true,\"ticks\":\"\",\"zerolinecolor\":\"#EBF0F8\"}},\"shapedefaults\":{\"line\":{\"color\":\"#2a3f5f\"}},\"ternary\":{\"aaxis\":{\"gridcolor\":\"#DFE8F3\",\"linecolor\":\"#A2B1C6\",\"ticks\":\"\"},\"baxis\":{\"gridcolor\":\"#DFE8F3\",\"linecolor\":\"#A2B1C6\",\"ticks\":\"\"},\"bgcolor\":\"white\",\"caxis\":{\"gridcolor\":\"#DFE8F3\",\"linecolor\":\"#A2B1C6\",\"ticks\":\"\"}},\"title\":{\"x\":0.05},\"xaxis\":{\"automargin\":true,\"gridcolor\":\"#EBF0F8\",\"linecolor\":\"#EBF0F8\",\"ticks\":\"\",\"title\":{\"standoff\":15},\"zerolinecolor\":\"#EBF0F8\",\"zerolinewidth\":2},\"yaxis\":{\"automargin\":true,\"gridcolor\":\"#EBF0F8\",\"linecolor\":\"#EBF0F8\",\"ticks\":\"\",\"title\":{\"standoff\":15},\"zerolinecolor\":\"#EBF0F8\",\"zerolinewidth\":2}}},\"font\":{\"family\":\"Roboto Serif\",\"color\":\"black\"},\"images\":[{\"sizex\":0.2,\"sizey\":0.2,\"source\":\"https://raw.githubusercontent.com/PolicyEngine/policyengine-app/master/src/images/logos/policyengine/blue.png\",\"x\":1,\"xanchor\":\"right\",\"xref\":\"paper\",\"y\":-0.15,\"yanchor\":\"bottom\",\"yref\":\"paper\"}],\"height\":600,\"width\":800,\"modebar\":{\"bgcolor\":\"rgba(0,0,0,0)\",\"color\":\"rgba(0,0,0,0)\"},\"title\":{\"text\":\"Figure 5: Change to net income by income decile under a \\\\u00a3200 per month UBI\"}}}'"
      ]
     },
     "execution_count": 7,
     "metadata": {},
     "output_type": "execute_result"
    }
   ],
   "source": [
    "from policyengine_core.charts import decile_chart, intra_decile_chart\n",
    "\n",
    "decile_chart(\n",
    "    \"uk\",\n",
    "    model_1_reform.api_id,\n",
    "    \"ni\",\n",
    "    \"2023\",\n",
    ").update_layout(\n",
    "    title=\"Figure 5: Change to net income by income decile under a £200 per month UBI\"\n",
    ").to_json()"
   ]
  },
  {
   "cell_type": "markdown",
   "metadata": {},
   "source": [
    "This does not mean, however, that everyone within a beneficiary decile comes out ahead or vice-versa. But gains broadly correlate with income: in the first decile, all individuals see their household net income rise; in the top decile, most see their income fall."
   ]
  },
  {
   "cell_type": "code",
   "execution_count": null,
   "metadata": {},
   "outputs": [
    {
     "data": {
      "text/plain": [
       "'{\"data\":[{\"hoverinfo\":\"none\",\"legendgroup\":\"Gain more than 5%\",\"marker\":{\"color\":\"#2C6496\",\"line\":{\"width\":0}},\"name\":\"Gain more than 5%\",\"offsetgroup\":\"Gain more than 5%\",\"orientation\":\"h\",\"showlegend\":false,\"text\":[\"51%\"],\"textangle\":0,\"textposition\":\"inside\",\"x\":[0.5079333077761155],\"xaxis\":\"x\",\"y\":[\"All\"],\"yaxis\":\"y\",\"type\":\"bar\",\"width\":[0.9,0.9,0.9,0.9,0.9,0.9,0.9,0.9,0.9,0.9]},{\"hoverinfo\":\"none\",\"legendgroup\":\"Gain less than 5%\",\"marker\":{\"color\":\"#D8E6F3\",\"line\":{\"width\":0}},\"name\":\"Gain less than 5%\",\"offsetgroup\":\"Gain less than 5%\",\"orientation\":\"h\",\"showlegend\":false,\"text\":[\"16%\"],\"textangle\":0,\"textposition\":\"inside\",\"x\":[0.15554142849967673],\"xaxis\":\"x\",\"y\":[\"All\"],\"yaxis\":\"y\",\"type\":\"bar\",\"width\":[0.9,0.9,0.9,0.9,0.9,0.9,0.9,0.9,0.9,0.9]},{\"hoverinfo\":\"none\",\"legendgroup\":\"No change\",\"marker\":{\"color\":\"#FFFFFF\",\"line\":{\"width\":0}},\"name\":\"No change\",\"offsetgroup\":\"No change\",\"orientation\":\"h\",\"showlegend\":false,\"text\":[\"1%\"],\"textangle\":0,\"textposition\":\"inside\",\"x\":[0.014068145188210913],\"xaxis\":\"x\",\"y\":[\"All\"],\"yaxis\":\"y\",\"type\":\"bar\",\"width\":[0.9,0.9,0.9,0.9,0.9,0.9,0.9,0.9,0.9,0.9]},{\"hoverinfo\":\"none\",\"legendgroup\":\"Lose less than 5%\",\"marker\":{\"color\":\"#D2D2D2\",\"line\":{\"width\":0}},\"name\":\"Lose less than 5%\",\"offsetgroup\":\"Lose less than 5%\",\"orientation\":\"h\",\"showlegend\":false,\"text\":[\"31%\"],\"textangle\":0,\"textposition\":\"inside\",\"x\":[0.30606807687177195],\"xaxis\":\"x\",\"y\":[\"All\"],\"yaxis\":\"y\",\"type\":\"bar\",\"width\":[0.9,0.9,0.9,0.9,0.9,0.9,0.9,0.9,0.9,0.9]},{\"hoverinfo\":\"none\",\"legendgroup\":\"Lose more than 5%\",\"marker\":{\"color\":\"#616161\",\"line\":{\"width\":0}},\"name\":\"Lose more than 5%\",\"offsetgroup\":\"Lose more than 5%\",\"orientation\":\"h\",\"showlegend\":false,\"text\":[\"2%\"],\"textangle\":0,\"textposition\":\"inside\",\"x\":[0.016389041664224988],\"xaxis\":\"x\",\"y\":[\"All\"],\"yaxis\":\"y\",\"type\":\"bar\",\"width\":[0.9,0.9,0.9,0.9,0.9,0.9,0.9,0.9,0.9,0.9]},{\"hoverinfo\":\"none\",\"marker\":{\"color\":\"#2C6496\",\"line\":{\"width\":0}},\"name\":\"Gain more than 5%\",\"orientation\":\"h\",\"text\":[\"90%\",\"74%\",\"76%\",\"71%\",\"61%\",\"38%\",\"42%\",\"24%\",\"23%\",\"10%\"],\"textangle\":0,\"textposition\":\"inside\",\"x\":[0.8990228551712489,0.7406334682395671,0.7578145584611743,0.7105545894131109,0.6058936528185737,0.3782580479603378,0.41530213454577725,0.24088302077471702,0.23379425171911516,0.0971764986575313],\"xaxis\":\"x2\",\"y\":[1,2,3,4,5,6,7,8,9,10],\"yaxis\":\"y2\",\"type\":\"bar\",\"width\":[0.9,0.9,0.9,0.9,0.9,0.9,0.9,0.9,0.9,0.9]},{\"hoverinfo\":\"none\",\"marker\":{\"color\":\"#D8E6F3\",\"line\":{\"width\":0}},\"name\":\"Gain less than 5%\",\"orientation\":\"h\",\"text\":[\"10%\",\"8%\",\"9%\",\"27%\",\"18%\",\"17%\",\"7%\",\"18%\",\"16%\",\"25%\"],\"textangle\":0,\"textposition\":\"inside\",\"x\":[0.10067697754151586,0.08190924096378867,0.09482626308969956,0.2682945578424055,0.17742484583319393,0.16755496565830869,0.07238079672711889,0.18469718771694743,0.15808331252270355,0.24956613710108544],\"xaxis\":\"x2\",\"y\":[1,2,3,4,5,6,7,8,9,10],\"yaxis\":\"y2\",\"type\":\"bar\",\"width\":[0.9,0.9,0.9,0.9,0.9,0.9,0.9,0.9,0.9,0.9]},{\"hoverinfo\":\"none\",\"marker\":{\"color\":\"#FFFFFF\",\"line\":{\"width\":0}},\"name\":\"No change\",\"orientation\":\"h\",\"text\":[\"0%\",\"3%\",\"0%\",\"0%\",\"5%\",\"2%\",\"0%\",\"3%\",\"0%\",\"0%\"],\"textangle\":0,\"textposition\":\"inside\",\"x\":[0.0,0.03250642841596222,0.0,0.0,0.05425454881592531,0.021335976594445062,0.0,0.032584498055776547,0.0,0.0],\"xaxis\":\"x2\",\"y\":[1,2,3,4,5,6,7,8,9,10],\"yaxis\":\"y2\",\"type\":\"bar\",\"width\":[0.9,0.9,0.9,0.9,0.9,0.9,0.9,0.9,0.9,0.9]},{\"hoverinfo\":\"none\",\"marker\":{\"color\":\"#D2D2D2\",\"line\":{\"width\":0}},\"name\":\"Lose less than 5%\",\"orientation\":\"h\",\"text\":[\"0%\",\"14%\",\"15%\",\"2%\",\"16%\",\"43%\",\"51%\",\"54%\",\"61%\",\"49%\"],\"textangle\":0,\"textposition\":\"inside\",\"x\":[0.0003001672872352223,0.144950862380682,0.14735917844912613,0.021150852744483608,0.1624269525323071,0.43285100978690844,0.5123170687271038,0.541835293452559,0.6081224357581813,0.4893669475991334],\"xaxis\":\"x2\",\"y\":[1,2,3,4,5,6,7,8,9,10],\"yaxis\":\"y2\",\"type\":\"bar\",\"width\":[0.9,0.9,0.9,0.9,0.9,0.9,0.9,0.9,0.9,0.9]},{\"hoverinfo\":\"none\",\"marker\":{\"color\":\"#616161\",\"line\":{\"width\":0}},\"name\":\"Lose more than 5%\",\"orientation\":\"h\",\"text\":[\"0%\",\"0%\",\"0%\",\"0%\",\"0%\",\"0%\",\"0%\",\"0%\",\"0%\",\"16%\"],\"textangle\":0,\"textposition\":\"inside\",\"x\":[0.0,0.0,0.0,0.0,0.0,0.0,0.0,0.0,0.0,0.16389041664224988],\"xaxis\":\"x2\",\"y\":[1,2,3,4,5,6,7,8,9,10],\"yaxis\":\"y2\",\"type\":\"bar\",\"width\":[0.9,0.9,0.9,0.9,0.9,0.9,0.9,0.9,0.9,0.9]}],\"layout\":{\"barmode\":\"stack\",\"grid\":{\"columns\":1,\"rows\":2},\"uniformtext\":{\"minsize\":10,\"mode\":\"hide\"},\"xaxis\":{\"anchor\":\"y\",\"matches\":\"x2\",\"showgrid\":false,\"showticklabels\":false,\"tickformat\":\".0%\",\"title\":{\"text\":\"\"}},\"yaxis\":{\"domain\":[0.91,1],\"tickvals\":[\"All\"],\"title\":{\"text\":\"\"}},\"xaxis2\":{\"anchor\":\"y2\",\"tickformat\":\".0%\",\"title\":{\"text\":\"Population share\"}},\"yaxis2\":{\"anchor\":\"x2\",\"domain\":[0,0.85],\"tickvals\":[1,2,3,4,5,6,7,8,9,10],\"title\":{\"text\":\"Income decile\"}},\"template\":{\"data\":{\"barpolar\":[{\"marker\":{\"line\":{\"color\":\"white\",\"width\":0.5},\"pattern\":{\"fillmode\":\"overlay\",\"size\":10,\"solidity\":0.2}},\"type\":\"barpolar\"}],\"bar\":[{\"error_x\":{\"color\":\"#2a3f5f\"},\"error_y\":{\"color\":\"#2a3f5f\"},\"marker\":{\"line\":{\"color\":\"white\",\"width\":0.5},\"pattern\":{\"fillmode\":\"overlay\",\"size\":10,\"solidity\":0.2}},\"type\":\"bar\"}],\"carpet\":[{\"aaxis\":{\"endlinecolor\":\"#2a3f5f\",\"gridcolor\":\"#C8D4E3\",\"linecolor\":\"#C8D4E3\",\"minorgridcolor\":\"#C8D4E3\",\"startlinecolor\":\"#2a3f5f\"},\"baxis\":{\"endlinecolor\":\"#2a3f5f\",\"gridcolor\":\"#C8D4E3\",\"linecolor\":\"#C8D4E3\",\"minorgridcolor\":\"#C8D4E3\",\"startlinecolor\":\"#2a3f5f\"},\"type\":\"carpet\"}],\"choropleth\":[{\"colorbar\":{\"outlinewidth\":0,\"ticks\":\"\"},\"type\":\"choropleth\"}],\"contourcarpet\":[{\"colorbar\":{\"outlinewidth\":0,\"ticks\":\"\"},\"type\":\"contourcarpet\"}],\"contour\":[{\"colorbar\":{\"outlinewidth\":0,\"ticks\":\"\"},\"colorscale\":[[0.0,\"#0d0887\"],[0.1111111111111111,\"#46039f\"],[0.2222222222222222,\"#7201a8\"],[0.3333333333333333,\"#9c179e\"],[0.4444444444444444,\"#bd3786\"],[0.5555555555555556,\"#d8576b\"],[0.6666666666666666,\"#ed7953\"],[0.7777777777777778,\"#fb9f3a\"],[0.8888888888888888,\"#fdca26\"],[1.0,\"#f0f921\"]],\"type\":\"contour\"}],\"heatmapgl\":[{\"colorbar\":{\"outlinewidth\":0,\"ticks\":\"\"},\"colorscale\":[[0.0,\"#0d0887\"],[0.1111111111111111,\"#46039f\"],[0.2222222222222222,\"#7201a8\"],[0.3333333333333333,\"#9c179e\"],[0.4444444444444444,\"#bd3786\"],[0.5555555555555556,\"#d8576b\"],[0.6666666666666666,\"#ed7953\"],[0.7777777777777778,\"#fb9f3a\"],[0.8888888888888888,\"#fdca26\"],[1.0,\"#f0f921\"]],\"type\":\"heatmapgl\"}],\"heatmap\":[{\"colorbar\":{\"outlinewidth\":0,\"ticks\":\"\"},\"colorscale\":[[0.0,\"#0d0887\"],[0.1111111111111111,\"#46039f\"],[0.2222222222222222,\"#7201a8\"],[0.3333333333333333,\"#9c179e\"],[0.4444444444444444,\"#bd3786\"],[0.5555555555555556,\"#d8576b\"],[0.6666666666666666,\"#ed7953\"],[0.7777777777777778,\"#fb9f3a\"],[0.8888888888888888,\"#fdca26\"],[1.0,\"#f0f921\"]],\"type\":\"heatmap\"}],\"histogram2dcontour\":[{\"colorbar\":{\"outlinewidth\":0,\"ticks\":\"\"},\"colorscale\":[[0.0,\"#0d0887\"],[0.1111111111111111,\"#46039f\"],[0.2222222222222222,\"#7201a8\"],[0.3333333333333333,\"#9c179e\"],[0.4444444444444444,\"#bd3786\"],[0.5555555555555556,\"#d8576b\"],[0.6666666666666666,\"#ed7953\"],[0.7777777777777778,\"#fb9f3a\"],[0.8888888888888888,\"#fdca26\"],[1.0,\"#f0f921\"]],\"type\":\"histogram2dcontour\"}],\"histogram2d\":[{\"colorbar\":{\"outlinewidth\":0,\"ticks\":\"\"},\"colorscale\":[[0.0,\"#0d0887\"],[0.1111111111111111,\"#46039f\"],[0.2222222222222222,\"#7201a8\"],[0.3333333333333333,\"#9c179e\"],[0.4444444444444444,\"#bd3786\"],[0.5555555555555556,\"#d8576b\"],[0.6666666666666666,\"#ed7953\"],[0.7777777777777778,\"#fb9f3a\"],[0.8888888888888888,\"#fdca26\"],[1.0,\"#f0f921\"]],\"type\":\"histogram2d\"}],\"histogram\":[{\"marker\":{\"pattern\":{\"fillmode\":\"overlay\",\"size\":10,\"solidity\":0.2}},\"type\":\"histogram\"}],\"mesh3d\":[{\"colorbar\":{\"outlinewidth\":0,\"ticks\":\"\"},\"type\":\"mesh3d\"}],\"parcoords\":[{\"line\":{\"colorbar\":{\"outlinewidth\":0,\"ticks\":\"\"}},\"type\":\"parcoords\"}],\"pie\":[{\"automargin\":true,\"type\":\"pie\"}],\"scatter3d\":[{\"line\":{\"colorbar\":{\"outlinewidth\":0,\"ticks\":\"\"}},\"marker\":{\"colorbar\":{\"outlinewidth\":0,\"ticks\":\"\"}},\"type\":\"scatter3d\"}],\"scattercarpet\":[{\"marker\":{\"colorbar\":{\"outlinewidth\":0,\"ticks\":\"\"}},\"type\":\"scattercarpet\"}],\"scattergeo\":[{\"marker\":{\"colorbar\":{\"outlinewidth\":0,\"ticks\":\"\"}},\"type\":\"scattergeo\"}],\"scattergl\":[{\"marker\":{\"colorbar\":{\"outlinewidth\":0,\"ticks\":\"\"}},\"type\":\"scattergl\"}],\"scattermapbox\":[{\"marker\":{\"colorbar\":{\"outlinewidth\":0,\"ticks\":\"\"}},\"type\":\"scattermapbox\"}],\"scatterpolargl\":[{\"marker\":{\"colorbar\":{\"outlinewidth\":0,\"ticks\":\"\"}},\"type\":\"scatterpolargl\"}],\"scatterpolar\":[{\"marker\":{\"colorbar\":{\"outlinewidth\":0,\"ticks\":\"\"}},\"type\":\"scatterpolar\"}],\"scatter\":[{\"fillpattern\":{\"fillmode\":\"overlay\",\"size\":10,\"solidity\":0.2},\"type\":\"scatter\"}],\"scatterternary\":[{\"marker\":{\"colorbar\":{\"outlinewidth\":0,\"ticks\":\"\"}},\"type\":\"scatterternary\"}],\"surface\":[{\"colorbar\":{\"outlinewidth\":0,\"ticks\":\"\"},\"colorscale\":[[0.0,\"#0d0887\"],[0.1111111111111111,\"#46039f\"],[0.2222222222222222,\"#7201a8\"],[0.3333333333333333,\"#9c179e\"],[0.4444444444444444,\"#bd3786\"],[0.5555555555555556,\"#d8576b\"],[0.6666666666666666,\"#ed7953\"],[0.7777777777777778,\"#fb9f3a\"],[0.8888888888888888,\"#fdca26\"],[1.0,\"#f0f921\"]],\"type\":\"surface\"}],\"table\":[{\"cells\":{\"fill\":{\"color\":\"#EBF0F8\"},\"line\":{\"color\":\"white\"}},\"header\":{\"fill\":{\"color\":\"#C8D4E3\"},\"line\":{\"color\":\"white\"}},\"type\":\"table\"}]},\"layout\":{\"annotationdefaults\":{\"arrowcolor\":\"#2a3f5f\",\"arrowhead\":0,\"arrowwidth\":1},\"autotypenumbers\":\"strict\",\"coloraxis\":{\"colorbar\":{\"outlinewidth\":0,\"ticks\":\"\"}},\"colorscale\":{\"diverging\":[[0,\"#8e0152\"],[0.1,\"#c51b7d\"],[0.2,\"#de77ae\"],[0.3,\"#f1b6da\"],[0.4,\"#fde0ef\"],[0.5,\"#f7f7f7\"],[0.6,\"#e6f5d0\"],[0.7,\"#b8e186\"],[0.8,\"#7fbc41\"],[0.9,\"#4d9221\"],[1,\"#276419\"]],\"sequential\":[[0.0,\"#0d0887\"],[0.1111111111111111,\"#46039f\"],[0.2222222222222222,\"#7201a8\"],[0.3333333333333333,\"#9c179e\"],[0.4444444444444444,\"#bd3786\"],[0.5555555555555556,\"#d8576b\"],[0.6666666666666666,\"#ed7953\"],[0.7777777777777778,\"#fb9f3a\"],[0.8888888888888888,\"#fdca26\"],[1.0,\"#f0f921\"]],\"sequentialminus\":[[0.0,\"#0d0887\"],[0.1111111111111111,\"#46039f\"],[0.2222222222222222,\"#7201a8\"],[0.3333333333333333,\"#9c179e\"],[0.4444444444444444,\"#bd3786\"],[0.5555555555555556,\"#d8576b\"],[0.6666666666666666,\"#ed7953\"],[0.7777777777777778,\"#fb9f3a\"],[0.8888888888888888,\"#fdca26\"],[1.0,\"#f0f921\"]]},\"colorway\":[\"#636efa\",\"#EF553B\",\"#00cc96\",\"#ab63fa\",\"#FFA15A\",\"#19d3f3\",\"#FF6692\",\"#B6E880\",\"#FF97FF\",\"#FECB52\"],\"font\":{\"color\":\"#2a3f5f\"},\"geo\":{\"bgcolor\":\"white\",\"lakecolor\":\"white\",\"landcolor\":\"white\",\"showlakes\":true,\"showland\":true,\"subunitcolor\":\"#C8D4E3\"},\"hoverlabel\":{\"align\":\"left\"},\"hovermode\":\"closest\",\"mapbox\":{\"style\":\"light\"},\"paper_bgcolor\":\"white\",\"plot_bgcolor\":\"white\",\"polar\":{\"angularaxis\":{\"gridcolor\":\"#EBF0F8\",\"linecolor\":\"#EBF0F8\",\"ticks\":\"\"},\"bgcolor\":\"white\",\"radialaxis\":{\"gridcolor\":\"#EBF0F8\",\"linecolor\":\"#EBF0F8\",\"ticks\":\"\"}},\"scene\":{\"xaxis\":{\"backgroundcolor\":\"white\",\"gridcolor\":\"#DFE8F3\",\"gridwidth\":2,\"linecolor\":\"#EBF0F8\",\"showbackground\":true,\"ticks\":\"\",\"zerolinecolor\":\"#EBF0F8\"},\"yaxis\":{\"backgroundcolor\":\"white\",\"gridcolor\":\"#DFE8F3\",\"gridwidth\":2,\"linecolor\":\"#EBF0F8\",\"showbackground\":true,\"ticks\":\"\",\"zerolinecolor\":\"#EBF0F8\"},\"zaxis\":{\"backgroundcolor\":\"white\",\"gridcolor\":\"#DFE8F3\",\"gridwidth\":2,\"linecolor\":\"#EBF0F8\",\"showbackground\":true,\"ticks\":\"\",\"zerolinecolor\":\"#EBF0F8\"}},\"shapedefaults\":{\"line\":{\"color\":\"#2a3f5f\"}},\"ternary\":{\"aaxis\":{\"gridcolor\":\"#DFE8F3\",\"linecolor\":\"#A2B1C6\",\"ticks\":\"\"},\"baxis\":{\"gridcolor\":\"#DFE8F3\",\"linecolor\":\"#A2B1C6\",\"ticks\":\"\"},\"bgcolor\":\"white\",\"caxis\":{\"gridcolor\":\"#DFE8F3\",\"linecolor\":\"#A2B1C6\",\"ticks\":\"\"}},\"title\":{\"x\":0.05},\"xaxis\":{\"automargin\":true,\"gridcolor\":\"#EBF0F8\",\"linecolor\":\"#EBF0F8\",\"ticks\":\"\",\"title\":{\"standoff\":15},\"zerolinecolor\":\"#EBF0F8\",\"zerolinewidth\":2},\"yaxis\":{\"automargin\":true,\"gridcolor\":\"#EBF0F8\",\"linecolor\":\"#EBF0F8\",\"ticks\":\"\",\"title\":{\"standoff\":15},\"zerolinecolor\":\"#EBF0F8\",\"zerolinewidth\":2}}},\"font\":{\"family\":\"Roboto Serif\",\"color\":\"black\"},\"images\":[{\"sizex\":0.2,\"sizey\":0.2,\"source\":\"https://raw.githubusercontent.com/PolicyEngine/policyengine-app/master/src/images/logos/policyengine/blue.png\",\"x\":1,\"xanchor\":\"right\",\"xref\":\"paper\",\"y\":-0.15,\"yanchor\":\"bottom\",\"yref\":\"paper\"}],\"height\":600,\"width\":800,\"modebar\":{\"bgcolor\":\"rgba(0,0,0,0)\",\"color\":\"rgba(0,0,0,0)\"},\"legend\":{\"orientation\":\"h\",\"yanchor\":\"bottom\",\"y\":-0.3},\"title\":{\"text\":\"Figure 6: Outcome distribution by income decile under a \\\\u00a3200 per month UBI\"}}}'"
      ]
     },
     "execution_count": 8,
     "metadata": {},
     "output_type": "execute_result"
    }
   ],
   "source": [
    "intra_decile_chart(\n",
    "    \"uk\",\n",
    "    model_1_reform.api_id,\n",
    "    \"ni\",\n",
    "    \"2023\",\n",
    ").update_layout(\n",
    "    title=\"Figure 6: Outcome distribution by income decile under a £200 per month UBI\",\n",
    "    legend=dict(\n",
    "        orientation=\"h\",\n",
    "        yanchor=\"bottom\",\n",
    "        y=-0.3,\n",
    "    )\n",
    ").to_json()"
   ]
  },
  {
   "cell_type": "markdown",
   "metadata": {},
   "source": [
    "Total absolute poverty falls by 36%. This includes a fall of 40% for working-age poverty and by 42% for child poverty.\n",
    "\n",
    "## [£300 per month option](https://policyengine.org/uk/policy?reform=33333&focus=policyOutput.decileRelativeImpact&region=ni&timePeriod=2023&baseline=1)\n",
    "\n",
    "_£300 per month for adults, funded by repealing the personal allowance and increasing all tax rates by 5.2p_\n",
    "\n",
    "To raise the basic income level from £200 to £300, Northern Ireland could eliminate the personal allowance and adjust tax rates as follows: increase the basic rate to 25.2%, the higher rate to 45.2%, and the additional rate to 49.2%. UK transfers would fund the remaining quarter. As a result, the top marginal income tax rate would drop to 49.2% because the policy eliminates the personal allowance and its phase-out effect on higher earners.[^10]\n",
    "\n",
    "With a larger UBI comes larger gains for lowest income decile: 23%, compared to a 2% fall among the top decile.\n",
    "\n",
    "[^10]: This is because of the personal allowance phase-out, which creates a 60% marginal rate (40% \\* 1.5), in addition to the National Insurance marginal rate of (as of the time of writing) 3.25%.\n"
   ]
  },
  {
   "cell_type": "code",
   "execution_count": null,
   "metadata": {
    "tags": [
     "hide-input"
    ]
   },
   "outputs": [
    {
     "data": {
      "text/plain": [
       "'{\"data\":[{\"marker\":{\"color\":[\"#2C6496\",\"#2C6496\",\"#2C6496\",\"#2C6496\",\"#2C6496\",\"#2C6496\",\"#2C6496\",\"#2C6496\",\"#616161\",\"#616161\"]},\"text\":[\"+23.2%\",\"+12.8%\",\"+10.2%\",\"+7.8%\",\"+6.1%\",\"+3.5%\",\"+2.7%\",\"+0.8%\",\"-0.1%\",\"-2.2%\"],\"textangle\":0,\"x\":[1,2,3,4,5,6,7,8,9,10],\"y\":[0.23207671983631678,0.1282344364205206,0.10227013898616737,0.0782646237332906,0.06086562470721835,0.03452520111595307,0.027022878712931346,0.008092875728343347,-0.0010617181592274551,-0.021516907989999345],\"type\":\"bar\"}],\"layout\":{\"uniformtext\":{\"minsize\":8,\"mode\":\"hide\"},\"xaxis\":{\"tickvals\":[1,2,3,4,5,6,7,8,9,10],\"title\":{\"text\":\"Income decile\"}},\"yaxis\":{\"tickformat\":\"+,.0%\",\"title\":{\"text\":\"Relative change\"}},\"template\":{\"data\":{\"barpolar\":[{\"marker\":{\"line\":{\"color\":\"white\",\"width\":0.5},\"pattern\":{\"fillmode\":\"overlay\",\"size\":10,\"solidity\":0.2}},\"type\":\"barpolar\"}],\"bar\":[{\"error_x\":{\"color\":\"#2a3f5f\"},\"error_y\":{\"color\":\"#2a3f5f\"},\"marker\":{\"line\":{\"color\":\"white\",\"width\":0.5},\"pattern\":{\"fillmode\":\"overlay\",\"size\":10,\"solidity\":0.2}},\"type\":\"bar\"}],\"carpet\":[{\"aaxis\":{\"endlinecolor\":\"#2a3f5f\",\"gridcolor\":\"#C8D4E3\",\"linecolor\":\"#C8D4E3\",\"minorgridcolor\":\"#C8D4E3\",\"startlinecolor\":\"#2a3f5f\"},\"baxis\":{\"endlinecolor\":\"#2a3f5f\",\"gridcolor\":\"#C8D4E3\",\"linecolor\":\"#C8D4E3\",\"minorgridcolor\":\"#C8D4E3\",\"startlinecolor\":\"#2a3f5f\"},\"type\":\"carpet\"}],\"choropleth\":[{\"colorbar\":{\"outlinewidth\":0,\"ticks\":\"\"},\"type\":\"choropleth\"}],\"contourcarpet\":[{\"colorbar\":{\"outlinewidth\":0,\"ticks\":\"\"},\"type\":\"contourcarpet\"}],\"contour\":[{\"colorbar\":{\"outlinewidth\":0,\"ticks\":\"\"},\"colorscale\":[[0.0,\"#0d0887\"],[0.1111111111111111,\"#46039f\"],[0.2222222222222222,\"#7201a8\"],[0.3333333333333333,\"#9c179e\"],[0.4444444444444444,\"#bd3786\"],[0.5555555555555556,\"#d8576b\"],[0.6666666666666666,\"#ed7953\"],[0.7777777777777778,\"#fb9f3a\"],[0.8888888888888888,\"#fdca26\"],[1.0,\"#f0f921\"]],\"type\":\"contour\"}],\"heatmapgl\":[{\"colorbar\":{\"outlinewidth\":0,\"ticks\":\"\"},\"colorscale\":[[0.0,\"#0d0887\"],[0.1111111111111111,\"#46039f\"],[0.2222222222222222,\"#7201a8\"],[0.3333333333333333,\"#9c179e\"],[0.4444444444444444,\"#bd3786\"],[0.5555555555555556,\"#d8576b\"],[0.6666666666666666,\"#ed7953\"],[0.7777777777777778,\"#fb9f3a\"],[0.8888888888888888,\"#fdca26\"],[1.0,\"#f0f921\"]],\"type\":\"heatmapgl\"}],\"heatmap\":[{\"colorbar\":{\"outlinewidth\":0,\"ticks\":\"\"},\"colorscale\":[[0.0,\"#0d0887\"],[0.1111111111111111,\"#46039f\"],[0.2222222222222222,\"#7201a8\"],[0.3333333333333333,\"#9c179e\"],[0.4444444444444444,\"#bd3786\"],[0.5555555555555556,\"#d8576b\"],[0.6666666666666666,\"#ed7953\"],[0.7777777777777778,\"#fb9f3a\"],[0.8888888888888888,\"#fdca26\"],[1.0,\"#f0f921\"]],\"type\":\"heatmap\"}],\"histogram2dcontour\":[{\"colorbar\":{\"outlinewidth\":0,\"ticks\":\"\"},\"colorscale\":[[0.0,\"#0d0887\"],[0.1111111111111111,\"#46039f\"],[0.2222222222222222,\"#7201a8\"],[0.3333333333333333,\"#9c179e\"],[0.4444444444444444,\"#bd3786\"],[0.5555555555555556,\"#d8576b\"],[0.6666666666666666,\"#ed7953\"],[0.7777777777777778,\"#fb9f3a\"],[0.8888888888888888,\"#fdca26\"],[1.0,\"#f0f921\"]],\"type\":\"histogram2dcontour\"}],\"histogram2d\":[{\"colorbar\":{\"outlinewidth\":0,\"ticks\":\"\"},\"colorscale\":[[0.0,\"#0d0887\"],[0.1111111111111111,\"#46039f\"],[0.2222222222222222,\"#7201a8\"],[0.3333333333333333,\"#9c179e\"],[0.4444444444444444,\"#bd3786\"],[0.5555555555555556,\"#d8576b\"],[0.6666666666666666,\"#ed7953\"],[0.7777777777777778,\"#fb9f3a\"],[0.8888888888888888,\"#fdca26\"],[1.0,\"#f0f921\"]],\"type\":\"histogram2d\"}],\"histogram\":[{\"marker\":{\"pattern\":{\"fillmode\":\"overlay\",\"size\":10,\"solidity\":0.2}},\"type\":\"histogram\"}],\"mesh3d\":[{\"colorbar\":{\"outlinewidth\":0,\"ticks\":\"\"},\"type\":\"mesh3d\"}],\"parcoords\":[{\"line\":{\"colorbar\":{\"outlinewidth\":0,\"ticks\":\"\"}},\"type\":\"parcoords\"}],\"pie\":[{\"automargin\":true,\"type\":\"pie\"}],\"scatter3d\":[{\"line\":{\"colorbar\":{\"outlinewidth\":0,\"ticks\":\"\"}},\"marker\":{\"colorbar\":{\"outlinewidth\":0,\"ticks\":\"\"}},\"type\":\"scatter3d\"}],\"scattercarpet\":[{\"marker\":{\"colorbar\":{\"outlinewidth\":0,\"ticks\":\"\"}},\"type\":\"scattercarpet\"}],\"scattergeo\":[{\"marker\":{\"colorbar\":{\"outlinewidth\":0,\"ticks\":\"\"}},\"type\":\"scattergeo\"}],\"scattergl\":[{\"marker\":{\"colorbar\":{\"outlinewidth\":0,\"ticks\":\"\"}},\"type\":\"scattergl\"}],\"scattermapbox\":[{\"marker\":{\"colorbar\":{\"outlinewidth\":0,\"ticks\":\"\"}},\"type\":\"scattermapbox\"}],\"scatterpolargl\":[{\"marker\":{\"colorbar\":{\"outlinewidth\":0,\"ticks\":\"\"}},\"type\":\"scatterpolargl\"}],\"scatterpolar\":[{\"marker\":{\"colorbar\":{\"outlinewidth\":0,\"ticks\":\"\"}},\"type\":\"scatterpolar\"}],\"scatter\":[{\"fillpattern\":{\"fillmode\":\"overlay\",\"size\":10,\"solidity\":0.2},\"type\":\"scatter\"}],\"scatterternary\":[{\"marker\":{\"colorbar\":{\"outlinewidth\":0,\"ticks\":\"\"}},\"type\":\"scatterternary\"}],\"surface\":[{\"colorbar\":{\"outlinewidth\":0,\"ticks\":\"\"},\"colorscale\":[[0.0,\"#0d0887\"],[0.1111111111111111,\"#46039f\"],[0.2222222222222222,\"#7201a8\"],[0.3333333333333333,\"#9c179e\"],[0.4444444444444444,\"#bd3786\"],[0.5555555555555556,\"#d8576b\"],[0.6666666666666666,\"#ed7953\"],[0.7777777777777778,\"#fb9f3a\"],[0.8888888888888888,\"#fdca26\"],[1.0,\"#f0f921\"]],\"type\":\"surface\"}],\"table\":[{\"cells\":{\"fill\":{\"color\":\"#EBF0F8\"},\"line\":{\"color\":\"white\"}},\"header\":{\"fill\":{\"color\":\"#C8D4E3\"},\"line\":{\"color\":\"white\"}},\"type\":\"table\"}]},\"layout\":{\"annotationdefaults\":{\"arrowcolor\":\"#2a3f5f\",\"arrowhead\":0,\"arrowwidth\":1},\"autotypenumbers\":\"strict\",\"coloraxis\":{\"colorbar\":{\"outlinewidth\":0,\"ticks\":\"\"}},\"colorscale\":{\"diverging\":[[0,\"#8e0152\"],[0.1,\"#c51b7d\"],[0.2,\"#de77ae\"],[0.3,\"#f1b6da\"],[0.4,\"#fde0ef\"],[0.5,\"#f7f7f7\"],[0.6,\"#e6f5d0\"],[0.7,\"#b8e186\"],[0.8,\"#7fbc41\"],[0.9,\"#4d9221\"],[1,\"#276419\"]],\"sequential\":[[0.0,\"#0d0887\"],[0.1111111111111111,\"#46039f\"],[0.2222222222222222,\"#7201a8\"],[0.3333333333333333,\"#9c179e\"],[0.4444444444444444,\"#bd3786\"],[0.5555555555555556,\"#d8576b\"],[0.6666666666666666,\"#ed7953\"],[0.7777777777777778,\"#fb9f3a\"],[0.8888888888888888,\"#fdca26\"],[1.0,\"#f0f921\"]],\"sequentialminus\":[[0.0,\"#0d0887\"],[0.1111111111111111,\"#46039f\"],[0.2222222222222222,\"#7201a8\"],[0.3333333333333333,\"#9c179e\"],[0.4444444444444444,\"#bd3786\"],[0.5555555555555556,\"#d8576b\"],[0.6666666666666666,\"#ed7953\"],[0.7777777777777778,\"#fb9f3a\"],[0.8888888888888888,\"#fdca26\"],[1.0,\"#f0f921\"]]},\"colorway\":[\"#636efa\",\"#EF553B\",\"#00cc96\",\"#ab63fa\",\"#FFA15A\",\"#19d3f3\",\"#FF6692\",\"#B6E880\",\"#FF97FF\",\"#FECB52\"],\"font\":{\"color\":\"#2a3f5f\"},\"geo\":{\"bgcolor\":\"white\",\"lakecolor\":\"white\",\"landcolor\":\"white\",\"showlakes\":true,\"showland\":true,\"subunitcolor\":\"#C8D4E3\"},\"hoverlabel\":{\"align\":\"left\"},\"hovermode\":\"closest\",\"mapbox\":{\"style\":\"light\"},\"paper_bgcolor\":\"white\",\"plot_bgcolor\":\"white\",\"polar\":{\"angularaxis\":{\"gridcolor\":\"#EBF0F8\",\"linecolor\":\"#EBF0F8\",\"ticks\":\"\"},\"bgcolor\":\"white\",\"radialaxis\":{\"gridcolor\":\"#EBF0F8\",\"linecolor\":\"#EBF0F8\",\"ticks\":\"\"}},\"scene\":{\"xaxis\":{\"backgroundcolor\":\"white\",\"gridcolor\":\"#DFE8F3\",\"gridwidth\":2,\"linecolor\":\"#EBF0F8\",\"showbackground\":true,\"ticks\":\"\",\"zerolinecolor\":\"#EBF0F8\"},\"yaxis\":{\"backgroundcolor\":\"white\",\"gridcolor\":\"#DFE8F3\",\"gridwidth\":2,\"linecolor\":\"#EBF0F8\",\"showbackground\":true,\"ticks\":\"\",\"zerolinecolor\":\"#EBF0F8\"},\"zaxis\":{\"backgroundcolor\":\"white\",\"gridcolor\":\"#DFE8F3\",\"gridwidth\":2,\"linecolor\":\"#EBF0F8\",\"showbackground\":true,\"ticks\":\"\",\"zerolinecolor\":\"#EBF0F8\"}},\"shapedefaults\":{\"line\":{\"color\":\"#2a3f5f\"}},\"ternary\":{\"aaxis\":{\"gridcolor\":\"#DFE8F3\",\"linecolor\":\"#A2B1C6\",\"ticks\":\"\"},\"baxis\":{\"gridcolor\":\"#DFE8F3\",\"linecolor\":\"#A2B1C6\",\"ticks\":\"\"},\"bgcolor\":\"white\",\"caxis\":{\"gridcolor\":\"#DFE8F3\",\"linecolor\":\"#A2B1C6\",\"ticks\":\"\"}},\"title\":{\"x\":0.05},\"xaxis\":{\"automargin\":true,\"gridcolor\":\"#EBF0F8\",\"linecolor\":\"#EBF0F8\",\"ticks\":\"\",\"title\":{\"standoff\":15},\"zerolinecolor\":\"#EBF0F8\",\"zerolinewidth\":2},\"yaxis\":{\"automargin\":true,\"gridcolor\":\"#EBF0F8\",\"linecolor\":\"#EBF0F8\",\"ticks\":\"\",\"title\":{\"standoff\":15},\"zerolinecolor\":\"#EBF0F8\",\"zerolinewidth\":2}}},\"font\":{\"family\":\"Roboto Serif\",\"color\":\"black\"},\"images\":[{\"sizex\":0.2,\"sizey\":0.2,\"source\":\"https://raw.githubusercontent.com/PolicyEngine/policyengine-app/master/src/images/logos/policyengine/blue.png\",\"x\":1,\"xanchor\":\"right\",\"xref\":\"paper\",\"y\":-0.15,\"yanchor\":\"bottom\",\"yref\":\"paper\"}],\"height\":600,\"width\":800,\"modebar\":{\"bgcolor\":\"rgba(0,0,0,0)\",\"color\":\"rgba(0,0,0,0)\"},\"title\":{\"text\":\"Figure 7: Change to net income by income decile under a \\\\u00a3300 per month UBI\"}}}'"
      ]
     },
     "execution_count": 9,
     "metadata": {},
     "output_type": "execute_result"
    }
   ],
   "source": [
    "decile_chart(\n",
    "    \"uk\",\n",
    "    model_2_reform.api_id,\n",
    "    \"ni\",\n",
    "    \"2023\",\n",
    ").update_layout(\n",
    "    title=\"Figure 7: Change to net income by income decile under a £300 per month UBI\"\n",
    ").to_json()"
   ]
  },
  {
   "cell_type": "markdown",
   "metadata": {},
   "source": [
    "A similar pattern holds for the distribution of outcomes within each decile, but the results are more pronounced. More households lose income, and more shift from losing under 5% to over 5%. Meanwhile, a larger proportion of individuals that gain at least 5% of income: from 50% (for the £200 per month policy) to 56%."
   ]
  },
  {
   "cell_type": "code",
   "execution_count": null,
   "metadata": {
    "tags": [
     "hide-input"
    ]
   },
   "outputs": [
    {
     "data": {
      "text/plain": [
       "'{\"data\":[{\"hoverinfo\":\"none\",\"legendgroup\":\"Gain more than 5%\",\"marker\":{\"color\":\"#2C6496\",\"line\":{\"width\":0}},\"name\":\"Gain more than 5%\",\"offsetgroup\":\"Gain more than 5%\",\"orientation\":\"h\",\"showlegend\":false,\"text\":[\"57%\"],\"textangle\":0,\"textposition\":\"inside\",\"x\":[0.5681324108209276],\"xaxis\":\"x\",\"y\":[\"All\"],\"yaxis\":\"y\",\"type\":\"bar\",\"width\":[0.9,0.9,0.9,0.9,0.9,0.9,0.9,0.9,0.9,0.9]},{\"hoverinfo\":\"none\",\"legendgroup\":\"Gain less than 5%\",\"marker\":{\"color\":\"#D8E6F3\",\"line\":{\"width\":0}},\"name\":\"Gain less than 5%\",\"offsetgroup\":\"Gain less than 5%\",\"orientation\":\"h\",\"showlegend\":false,\"text\":[\"13%\"],\"textangle\":0,\"textposition\":\"inside\",\"x\":[0.1317242308887363],\"xaxis\":\"x\",\"y\":[\"All\"],\"yaxis\":\"y\",\"type\":\"bar\",\"width\":[0.9,0.9,0.9,0.9,0.9,0.9,0.9,0.9,0.9,0.9]},{\"hoverinfo\":\"none\",\"legendgroup\":\"No change\",\"marker\":{\"color\":\"#FFFFFF\",\"line\":{\"width\":0}},\"name\":\"No change\",\"offsetgroup\":\"No change\",\"orientation\":\"h\",\"showlegend\":false,\"text\":[\"1%\"],\"textangle\":0,\"textposition\":\"inside\",\"x\":[0.006427116708959636],\"xaxis\":\"x\",\"y\":[\"All\"],\"yaxis\":\"y\",\"type\":\"bar\",\"width\":[0.9,0.9,0.9,0.9,0.9,0.9,0.9,0.9,0.9,0.9]},{\"hoverinfo\":\"none\",\"legendgroup\":\"Lose less than 5%\",\"marker\":{\"color\":\"#D2D2D2\",\"line\":{\"width\":0}},\"name\":\"Lose less than 5%\",\"offsetgroup\":\"Lose less than 5%\",\"orientation\":\"h\",\"showlegend\":false,\"text\":[\"21%\"],\"textangle\":0,\"textposition\":\"inside\",\"x\":[0.21467950853579273],\"xaxis\":\"x\",\"y\":[\"All\"],\"yaxis\":\"y\",\"type\":\"bar\",\"width\":[0.9,0.9,0.9,0.9,0.9,0.9,0.9,0.9,0.9,0.9]},{\"hoverinfo\":\"none\",\"legendgroup\":\"Lose more than 5%\",\"marker\":{\"color\":\"#616161\",\"line\":{\"width\":0}},\"name\":\"Lose more than 5%\",\"offsetgroup\":\"Lose more than 5%\",\"orientation\":\"h\",\"showlegend\":false,\"text\":[\"8%\"],\"textangle\":0,\"textposition\":\"inside\",\"x\":[0.0790367330455837],\"xaxis\":\"x\",\"y\":[\"All\"],\"yaxis\":\"y\",\"type\":\"bar\",\"width\":[0.9,0.9,0.9,0.9,0.9,0.9,0.9,0.9,0.9,0.9]},{\"hoverinfo\":\"none\",\"marker\":{\"color\":\"#2C6496\",\"line\":{\"width\":0}},\"name\":\"Gain more than 5%\",\"orientation\":\"h\",\"text\":[\"95%\",\"76%\",\"84%\",\"90%\",\"61%\",\"47%\",\"47%\",\"26%\",\"25%\",\"17%\"],\"textangle\":0,\"textposition\":\"inside\",\"x\":[0.9512952457400037,0.761493856372432,0.8436123075493216,0.9010952849389743,0.608734769912854,0.46813426838208655,0.4652301035823213,0.25971065368434526,0.24972108041669835,0.17229653763023917],\"xaxis\":\"x2\",\"y\":[1,2,3,4,5,6,7,8,9,10],\"yaxis\":\"y2\",\"type\":\"bar\",\"width\":[0.9,0.9,0.9,0.9,0.9,0.9,0.9,0.9,0.9,0.9]},{\"hoverinfo\":\"none\",\"marker\":{\"color\":\"#D8E6F3\",\"line\":{\"width\":0}},\"name\":\"Gain less than 5%\",\"orientation\":\"h\",\"text\":[\"5%\",\"12%\",\"1%\",\"8%\",\"36%\",\"25%\",\"3%\",\"12%\",\"13%\",\"19%\"],\"textangle\":0,\"textposition\":\"inside\",\"x\":[0.04840458697276108,0.11796434227070457,0.009028514001552312,0.07775386231654215,0.3576833112638876,0.24641419106372456,0.026893991005428358,0.11569466043492549,0.12751244534252193,0.18989240421531495],\"xaxis\":\"x2\",\"y\":[1,2,3,4,5,6,7,8,9,10],\"yaxis\":\"y2\",\"type\":\"bar\",\"width\":[0.9,0.9,0.9,0.9,0.9,0.9,0.9,0.9,0.9,0.9]},{\"hoverinfo\":\"none\",\"marker\":{\"color\":\"#FFFFFF\",\"line\":{\"width\":0}},\"name\":\"No change\",\"orientation\":\"h\",\"text\":[\"0%\",\"1%\",\"0%\",\"0%\",\"0%\",\"3%\",\"0%\",\"2%\",\"0%\",\"0%\"],\"textangle\":0,\"textposition\":\"inside\",\"x\":[0.0,0.008033959208698876,0.0003415457123141204,0.0,0.0,0.03456006677205801,0.0,0.02133559539652535,0.0,0.0],\"xaxis\":\"x2\",\"y\":[1,2,3,4,5,6,7,8,9,10],\"yaxis\":\"y2\",\"type\":\"bar\",\"width\":[0.9,0.9,0.9,0.9,0.9,0.9,0.9,0.9,0.9,0.9]},{\"hoverinfo\":\"none\",\"marker\":{\"color\":\"#D2D2D2\",\"line\":{\"width\":0}},\"name\":\"Lose less than 5%\",\"orientation\":\"h\",\"text\":[\"0%\",\"11%\",\"15%\",\"2%\",\"2%\",\"24%\",\"49%\",\"58%\",\"38%\",\"16%\"],\"textangle\":0,\"textposition\":\"inside\",\"x\":[0.0003001672872352223,0.11250784214816445,0.147017632736812,0.015783739604861336,0.02028716211470922,0.2423071622541979,0.49196040247867495,0.5801194500434037,0.3783179781468218,0.15819354854304687],\"xaxis\":\"x2\",\"y\":[1,2,3,4,5,6,7,8,9,10],\"yaxis\":\"y2\",\"type\":\"bar\",\"width\":[0.9,0.9,0.9,0.9,0.9,0.9,0.9,0.9,0.9,0.9]},{\"hoverinfo\":\"none\",\"marker\":{\"color\":\"#616161\",\"line\":{\"width\":0}},\"name\":\"Lose more than 5%\",\"orientation\":\"h\",\"text\":[\"0%\",\"0%\",\"0%\",\"1%\",\"1%\",\"1%\",\"2%\",\"2%\",\"24%\",\"48%\"],\"textangle\":0,\"textposition\":\"inside\",\"x\":[0.0,0.0,0.0,0.005367113139622271,0.013294756708549176,0.008584311527932974,0.01591550293357538,0.02313964044080026,0.2444484960939579,0.47961750961139904],\"xaxis\":\"x2\",\"y\":[1,2,3,4,5,6,7,8,9,10],\"yaxis\":\"y2\",\"type\":\"bar\",\"width\":[0.9,0.9,0.9,0.9,0.9,0.9,0.9,0.9,0.9,0.9]}],\"layout\":{\"barmode\":\"stack\",\"grid\":{\"columns\":1,\"rows\":2},\"uniformtext\":{\"minsize\":10,\"mode\":\"hide\"},\"xaxis\":{\"anchor\":\"y\",\"matches\":\"x2\",\"showgrid\":false,\"showticklabels\":false,\"tickformat\":\".0%\",\"title\":{\"text\":\"\"}},\"yaxis\":{\"domain\":[0.91,1],\"tickvals\":[\"All\"],\"title\":{\"text\":\"\"}},\"xaxis2\":{\"anchor\":\"y2\",\"tickformat\":\".0%\",\"title\":{\"text\":\"Population share\"}},\"yaxis2\":{\"anchor\":\"x2\",\"domain\":[0,0.85],\"tickvals\":[1,2,3,4,5,6,7,8,9,10],\"title\":{\"text\":\"Income decile\"}},\"template\":{\"data\":{\"barpolar\":[{\"marker\":{\"line\":{\"color\":\"white\",\"width\":0.5},\"pattern\":{\"fillmode\":\"overlay\",\"size\":10,\"solidity\":0.2}},\"type\":\"barpolar\"}],\"bar\":[{\"error_x\":{\"color\":\"#2a3f5f\"},\"error_y\":{\"color\":\"#2a3f5f\"},\"marker\":{\"line\":{\"color\":\"white\",\"width\":0.5},\"pattern\":{\"fillmode\":\"overlay\",\"size\":10,\"solidity\":0.2}},\"type\":\"bar\"}],\"carpet\":[{\"aaxis\":{\"endlinecolor\":\"#2a3f5f\",\"gridcolor\":\"#C8D4E3\",\"linecolor\":\"#C8D4E3\",\"minorgridcolor\":\"#C8D4E3\",\"startlinecolor\":\"#2a3f5f\"},\"baxis\":{\"endlinecolor\":\"#2a3f5f\",\"gridcolor\":\"#C8D4E3\",\"linecolor\":\"#C8D4E3\",\"minorgridcolor\":\"#C8D4E3\",\"startlinecolor\":\"#2a3f5f\"},\"type\":\"carpet\"}],\"choropleth\":[{\"colorbar\":{\"outlinewidth\":0,\"ticks\":\"\"},\"type\":\"choropleth\"}],\"contourcarpet\":[{\"colorbar\":{\"outlinewidth\":0,\"ticks\":\"\"},\"type\":\"contourcarpet\"}],\"contour\":[{\"colorbar\":{\"outlinewidth\":0,\"ticks\":\"\"},\"colorscale\":[[0.0,\"#0d0887\"],[0.1111111111111111,\"#46039f\"],[0.2222222222222222,\"#7201a8\"],[0.3333333333333333,\"#9c179e\"],[0.4444444444444444,\"#bd3786\"],[0.5555555555555556,\"#d8576b\"],[0.6666666666666666,\"#ed7953\"],[0.7777777777777778,\"#fb9f3a\"],[0.8888888888888888,\"#fdca26\"],[1.0,\"#f0f921\"]],\"type\":\"contour\"}],\"heatmapgl\":[{\"colorbar\":{\"outlinewidth\":0,\"ticks\":\"\"},\"colorscale\":[[0.0,\"#0d0887\"],[0.1111111111111111,\"#46039f\"],[0.2222222222222222,\"#7201a8\"],[0.3333333333333333,\"#9c179e\"],[0.4444444444444444,\"#bd3786\"],[0.5555555555555556,\"#d8576b\"],[0.6666666666666666,\"#ed7953\"],[0.7777777777777778,\"#fb9f3a\"],[0.8888888888888888,\"#fdca26\"],[1.0,\"#f0f921\"]],\"type\":\"heatmapgl\"}],\"heatmap\":[{\"colorbar\":{\"outlinewidth\":0,\"ticks\":\"\"},\"colorscale\":[[0.0,\"#0d0887\"],[0.1111111111111111,\"#46039f\"],[0.2222222222222222,\"#7201a8\"],[0.3333333333333333,\"#9c179e\"],[0.4444444444444444,\"#bd3786\"],[0.5555555555555556,\"#d8576b\"],[0.6666666666666666,\"#ed7953\"],[0.7777777777777778,\"#fb9f3a\"],[0.8888888888888888,\"#fdca26\"],[1.0,\"#f0f921\"]],\"type\":\"heatmap\"}],\"histogram2dcontour\":[{\"colorbar\":{\"outlinewidth\":0,\"ticks\":\"\"},\"colorscale\":[[0.0,\"#0d0887\"],[0.1111111111111111,\"#46039f\"],[0.2222222222222222,\"#7201a8\"],[0.3333333333333333,\"#9c179e\"],[0.4444444444444444,\"#bd3786\"],[0.5555555555555556,\"#d8576b\"],[0.6666666666666666,\"#ed7953\"],[0.7777777777777778,\"#fb9f3a\"],[0.8888888888888888,\"#fdca26\"],[1.0,\"#f0f921\"]],\"type\":\"histogram2dcontour\"}],\"histogram2d\":[{\"colorbar\":{\"outlinewidth\":0,\"ticks\":\"\"},\"colorscale\":[[0.0,\"#0d0887\"],[0.1111111111111111,\"#46039f\"],[0.2222222222222222,\"#7201a8\"],[0.3333333333333333,\"#9c179e\"],[0.4444444444444444,\"#bd3786\"],[0.5555555555555556,\"#d8576b\"],[0.6666666666666666,\"#ed7953\"],[0.7777777777777778,\"#fb9f3a\"],[0.8888888888888888,\"#fdca26\"],[1.0,\"#f0f921\"]],\"type\":\"histogram2d\"}],\"histogram\":[{\"marker\":{\"pattern\":{\"fillmode\":\"overlay\",\"size\":10,\"solidity\":0.2}},\"type\":\"histogram\"}],\"mesh3d\":[{\"colorbar\":{\"outlinewidth\":0,\"ticks\":\"\"},\"type\":\"mesh3d\"}],\"parcoords\":[{\"line\":{\"colorbar\":{\"outlinewidth\":0,\"ticks\":\"\"}},\"type\":\"parcoords\"}],\"pie\":[{\"automargin\":true,\"type\":\"pie\"}],\"scatter3d\":[{\"line\":{\"colorbar\":{\"outlinewidth\":0,\"ticks\":\"\"}},\"marker\":{\"colorbar\":{\"outlinewidth\":0,\"ticks\":\"\"}},\"type\":\"scatter3d\"}],\"scattercarpet\":[{\"marker\":{\"colorbar\":{\"outlinewidth\":0,\"ticks\":\"\"}},\"type\":\"scattercarpet\"}],\"scattergeo\":[{\"marker\":{\"colorbar\":{\"outlinewidth\":0,\"ticks\":\"\"}},\"type\":\"scattergeo\"}],\"scattergl\":[{\"marker\":{\"colorbar\":{\"outlinewidth\":0,\"ticks\":\"\"}},\"type\":\"scattergl\"}],\"scattermapbox\":[{\"marker\":{\"colorbar\":{\"outlinewidth\":0,\"ticks\":\"\"}},\"type\":\"scattermapbox\"}],\"scatterpolargl\":[{\"marker\":{\"colorbar\":{\"outlinewidth\":0,\"ticks\":\"\"}},\"type\":\"scatterpolargl\"}],\"scatterpolar\":[{\"marker\":{\"colorbar\":{\"outlinewidth\":0,\"ticks\":\"\"}},\"type\":\"scatterpolar\"}],\"scatter\":[{\"fillpattern\":{\"fillmode\":\"overlay\",\"size\":10,\"solidity\":0.2},\"type\":\"scatter\"}],\"scatterternary\":[{\"marker\":{\"colorbar\":{\"outlinewidth\":0,\"ticks\":\"\"}},\"type\":\"scatterternary\"}],\"surface\":[{\"colorbar\":{\"outlinewidth\":0,\"ticks\":\"\"},\"colorscale\":[[0.0,\"#0d0887\"],[0.1111111111111111,\"#46039f\"],[0.2222222222222222,\"#7201a8\"],[0.3333333333333333,\"#9c179e\"],[0.4444444444444444,\"#bd3786\"],[0.5555555555555556,\"#d8576b\"],[0.6666666666666666,\"#ed7953\"],[0.7777777777777778,\"#fb9f3a\"],[0.8888888888888888,\"#fdca26\"],[1.0,\"#f0f921\"]],\"type\":\"surface\"}],\"table\":[{\"cells\":{\"fill\":{\"color\":\"#EBF0F8\"},\"line\":{\"color\":\"white\"}},\"header\":{\"fill\":{\"color\":\"#C8D4E3\"},\"line\":{\"color\":\"white\"}},\"type\":\"table\"}]},\"layout\":{\"annotationdefaults\":{\"arrowcolor\":\"#2a3f5f\",\"arrowhead\":0,\"arrowwidth\":1},\"autotypenumbers\":\"strict\",\"coloraxis\":{\"colorbar\":{\"outlinewidth\":0,\"ticks\":\"\"}},\"colorscale\":{\"diverging\":[[0,\"#8e0152\"],[0.1,\"#c51b7d\"],[0.2,\"#de77ae\"],[0.3,\"#f1b6da\"],[0.4,\"#fde0ef\"],[0.5,\"#f7f7f7\"],[0.6,\"#e6f5d0\"],[0.7,\"#b8e186\"],[0.8,\"#7fbc41\"],[0.9,\"#4d9221\"],[1,\"#276419\"]],\"sequential\":[[0.0,\"#0d0887\"],[0.1111111111111111,\"#46039f\"],[0.2222222222222222,\"#7201a8\"],[0.3333333333333333,\"#9c179e\"],[0.4444444444444444,\"#bd3786\"],[0.5555555555555556,\"#d8576b\"],[0.6666666666666666,\"#ed7953\"],[0.7777777777777778,\"#fb9f3a\"],[0.8888888888888888,\"#fdca26\"],[1.0,\"#f0f921\"]],\"sequentialminus\":[[0.0,\"#0d0887\"],[0.1111111111111111,\"#46039f\"],[0.2222222222222222,\"#7201a8\"],[0.3333333333333333,\"#9c179e\"],[0.4444444444444444,\"#bd3786\"],[0.5555555555555556,\"#d8576b\"],[0.6666666666666666,\"#ed7953\"],[0.7777777777777778,\"#fb9f3a\"],[0.8888888888888888,\"#fdca26\"],[1.0,\"#f0f921\"]]},\"colorway\":[\"#636efa\",\"#EF553B\",\"#00cc96\",\"#ab63fa\",\"#FFA15A\",\"#19d3f3\",\"#FF6692\",\"#B6E880\",\"#FF97FF\",\"#FECB52\"],\"font\":{\"color\":\"#2a3f5f\"},\"geo\":{\"bgcolor\":\"white\",\"lakecolor\":\"white\",\"landcolor\":\"white\",\"showlakes\":true,\"showland\":true,\"subunitcolor\":\"#C8D4E3\"},\"hoverlabel\":{\"align\":\"left\"},\"hovermode\":\"closest\",\"mapbox\":{\"style\":\"light\"},\"paper_bgcolor\":\"white\",\"plot_bgcolor\":\"white\",\"polar\":{\"angularaxis\":{\"gridcolor\":\"#EBF0F8\",\"linecolor\":\"#EBF0F8\",\"ticks\":\"\"},\"bgcolor\":\"white\",\"radialaxis\":{\"gridcolor\":\"#EBF0F8\",\"linecolor\":\"#EBF0F8\",\"ticks\":\"\"}},\"scene\":{\"xaxis\":{\"backgroundcolor\":\"white\",\"gridcolor\":\"#DFE8F3\",\"gridwidth\":2,\"linecolor\":\"#EBF0F8\",\"showbackground\":true,\"ticks\":\"\",\"zerolinecolor\":\"#EBF0F8\"},\"yaxis\":{\"backgroundcolor\":\"white\",\"gridcolor\":\"#DFE8F3\",\"gridwidth\":2,\"linecolor\":\"#EBF0F8\",\"showbackground\":true,\"ticks\":\"\",\"zerolinecolor\":\"#EBF0F8\"},\"zaxis\":{\"backgroundcolor\":\"white\",\"gridcolor\":\"#DFE8F3\",\"gridwidth\":2,\"linecolor\":\"#EBF0F8\",\"showbackground\":true,\"ticks\":\"\",\"zerolinecolor\":\"#EBF0F8\"}},\"shapedefaults\":{\"line\":{\"color\":\"#2a3f5f\"}},\"ternary\":{\"aaxis\":{\"gridcolor\":\"#DFE8F3\",\"linecolor\":\"#A2B1C6\",\"ticks\":\"\"},\"baxis\":{\"gridcolor\":\"#DFE8F3\",\"linecolor\":\"#A2B1C6\",\"ticks\":\"\"},\"bgcolor\":\"white\",\"caxis\":{\"gridcolor\":\"#DFE8F3\",\"linecolor\":\"#A2B1C6\",\"ticks\":\"\"}},\"title\":{\"x\":0.05},\"xaxis\":{\"automargin\":true,\"gridcolor\":\"#EBF0F8\",\"linecolor\":\"#EBF0F8\",\"ticks\":\"\",\"title\":{\"standoff\":15},\"zerolinecolor\":\"#EBF0F8\",\"zerolinewidth\":2},\"yaxis\":{\"automargin\":true,\"gridcolor\":\"#EBF0F8\",\"linecolor\":\"#EBF0F8\",\"ticks\":\"\",\"title\":{\"standoff\":15},\"zerolinecolor\":\"#EBF0F8\",\"zerolinewidth\":2}}},\"font\":{\"family\":\"Roboto Serif\",\"color\":\"black\"},\"images\":[{\"sizex\":0.2,\"sizey\":0.2,\"source\":\"https://raw.githubusercontent.com/PolicyEngine/policyengine-app/master/src/images/logos/policyengine/blue.png\",\"x\":1,\"xanchor\":\"right\",\"xref\":\"paper\",\"y\":-0.15,\"yanchor\":\"bottom\",\"yref\":\"paper\"}],\"height\":600,\"width\":800,\"modebar\":{\"bgcolor\":\"rgba(0,0,0,0)\",\"color\":\"rgba(0,0,0,0)\"},\"legend\":{\"orientation\":\"h\",\"yanchor\":\"bottom\",\"y\":-0.3},\"title\":{\"text\":\"Figure 8: Outcome distribution by income decile under a \\\\u00a3300 per month UBI\"}}}'"
      ]
     },
     "execution_count": 10,
     "metadata": {},
     "output_type": "execute_result"
    }
   ],
   "source": [
    "intra_decile_chart(\n",
    "    \"uk\",\n",
    "    model_2_reform.api_id,\n",
    "    \"ni\",\n",
    "    \"2023\",\n",
    ").update_layout(\n",
    "    title=\"Figure 8: Outcome distribution by income decile under a £300 per month UBI\",\n",
    "    legend=dict(\n",
    "        orientation=\"h\",\n",
    "        yanchor=\"bottom\",\n",
    "        y=-0.3,\n",
    "    )\n",
    ").to_json()"
   ]
  },
  {
   "cell_type": "markdown",
   "metadata": {},
   "source": [
    "## [£400 per month option](http://policyengine.org/uk/policy?reform=33334&focus=policyOutput.decileRelativeImpact&region=ni&timePeriod=2023&baseline=1)\n",
    "\n",
    "_£400 per month for adults, funded by repealing the personal allowance and increasing the basic rate by 11.5p_\n",
    "\n",
    "The most generous basic income policy considered is £400 per month for adults, funded by repealing the personal allowance and raising the basic rate to 31.5%, creating a non-progressive nominal tax schedule (though note that the full tax-benefit schedule is already non-progressive). With a total redistribution of £5.7bn in via tax revenues and £6.8bn out via benefit outlays (including the Westminster-funded portion), 70% of individuals see an increase in disposable income. The bottom decile sees an increase of 32% in disposable income, and the top two deciles both fall by around 1-2%.\n"
   ]
  },
  {
   "cell_type": "code",
   "execution_count": null,
   "metadata": {
    "tags": [
     "hide-input"
    ]
   },
   "outputs": [
    {
     "data": {
      "text/plain": [
       "'{\"data\":[{\"marker\":{\"color\":[\"#2C6496\",\"#2C6496\",\"#2C6496\",\"#2C6496\",\"#2C6496\",\"#2C6496\",\"#2C6496\",\"#616161\",\"#616161\",\"#616161\"]},\"text\":[\"+32.0%\",\"+17.4%\",\"+13.8%\",\"+10.7%\",\"+7.9%\",\"+4.3%\",\"+2.7%\",\"-0.3%\",\"-1.8%\",\"-1.1%\"],\"textangle\":0,\"x\":[1,2,3,4,5,6,7,8,9,10],\"y\":[0.31975697691614113,0.17379154352780127,0.13751411262102012,0.10728696159962517,0.07903440894041922,0.04347360014421421,0.02681136886479989,-0.0027094802278529143,-0.01847769277943196,-0.011354098929557065],\"type\":\"bar\"}],\"layout\":{\"uniformtext\":{\"minsize\":8,\"mode\":\"hide\"},\"xaxis\":{\"tickvals\":[1,2,3,4,5,6,7,8,9,10],\"title\":{\"text\":\"Income decile\"}},\"yaxis\":{\"tickformat\":\"+,.0%\",\"title\":{\"text\":\"Relative change\"}},\"template\":{\"data\":{\"barpolar\":[{\"marker\":{\"line\":{\"color\":\"white\",\"width\":0.5},\"pattern\":{\"fillmode\":\"overlay\",\"size\":10,\"solidity\":0.2}},\"type\":\"barpolar\"}],\"bar\":[{\"error_x\":{\"color\":\"#2a3f5f\"},\"error_y\":{\"color\":\"#2a3f5f\"},\"marker\":{\"line\":{\"color\":\"white\",\"width\":0.5},\"pattern\":{\"fillmode\":\"overlay\",\"size\":10,\"solidity\":0.2}},\"type\":\"bar\"}],\"carpet\":[{\"aaxis\":{\"endlinecolor\":\"#2a3f5f\",\"gridcolor\":\"#C8D4E3\",\"linecolor\":\"#C8D4E3\",\"minorgridcolor\":\"#C8D4E3\",\"startlinecolor\":\"#2a3f5f\"},\"baxis\":{\"endlinecolor\":\"#2a3f5f\",\"gridcolor\":\"#C8D4E3\",\"linecolor\":\"#C8D4E3\",\"minorgridcolor\":\"#C8D4E3\",\"startlinecolor\":\"#2a3f5f\"},\"type\":\"carpet\"}],\"choropleth\":[{\"colorbar\":{\"outlinewidth\":0,\"ticks\":\"\"},\"type\":\"choropleth\"}],\"contourcarpet\":[{\"colorbar\":{\"outlinewidth\":0,\"ticks\":\"\"},\"type\":\"contourcarpet\"}],\"contour\":[{\"colorbar\":{\"outlinewidth\":0,\"ticks\":\"\"},\"colorscale\":[[0.0,\"#0d0887\"],[0.1111111111111111,\"#46039f\"],[0.2222222222222222,\"#7201a8\"],[0.3333333333333333,\"#9c179e\"],[0.4444444444444444,\"#bd3786\"],[0.5555555555555556,\"#d8576b\"],[0.6666666666666666,\"#ed7953\"],[0.7777777777777778,\"#fb9f3a\"],[0.8888888888888888,\"#fdca26\"],[1.0,\"#f0f921\"]],\"type\":\"contour\"}],\"heatmapgl\":[{\"colorbar\":{\"outlinewidth\":0,\"ticks\":\"\"},\"colorscale\":[[0.0,\"#0d0887\"],[0.1111111111111111,\"#46039f\"],[0.2222222222222222,\"#7201a8\"],[0.3333333333333333,\"#9c179e\"],[0.4444444444444444,\"#bd3786\"],[0.5555555555555556,\"#d8576b\"],[0.6666666666666666,\"#ed7953\"],[0.7777777777777778,\"#fb9f3a\"],[0.8888888888888888,\"#fdca26\"],[1.0,\"#f0f921\"]],\"type\":\"heatmapgl\"}],\"heatmap\":[{\"colorbar\":{\"outlinewidth\":0,\"ticks\":\"\"},\"colorscale\":[[0.0,\"#0d0887\"],[0.1111111111111111,\"#46039f\"],[0.2222222222222222,\"#7201a8\"],[0.3333333333333333,\"#9c179e\"],[0.4444444444444444,\"#bd3786\"],[0.5555555555555556,\"#d8576b\"],[0.6666666666666666,\"#ed7953\"],[0.7777777777777778,\"#fb9f3a\"],[0.8888888888888888,\"#fdca26\"],[1.0,\"#f0f921\"]],\"type\":\"heatmap\"}],\"histogram2dcontour\":[{\"colorbar\":{\"outlinewidth\":0,\"ticks\":\"\"},\"colorscale\":[[0.0,\"#0d0887\"],[0.1111111111111111,\"#46039f\"],[0.2222222222222222,\"#7201a8\"],[0.3333333333333333,\"#9c179e\"],[0.4444444444444444,\"#bd3786\"],[0.5555555555555556,\"#d8576b\"],[0.6666666666666666,\"#ed7953\"],[0.7777777777777778,\"#fb9f3a\"],[0.8888888888888888,\"#fdca26\"],[1.0,\"#f0f921\"]],\"type\":\"histogram2dcontour\"}],\"histogram2d\":[{\"colorbar\":{\"outlinewidth\":0,\"ticks\":\"\"},\"colorscale\":[[0.0,\"#0d0887\"],[0.1111111111111111,\"#46039f\"],[0.2222222222222222,\"#7201a8\"],[0.3333333333333333,\"#9c179e\"],[0.4444444444444444,\"#bd3786\"],[0.5555555555555556,\"#d8576b\"],[0.6666666666666666,\"#ed7953\"],[0.7777777777777778,\"#fb9f3a\"],[0.8888888888888888,\"#fdca26\"],[1.0,\"#f0f921\"]],\"type\":\"histogram2d\"}],\"histogram\":[{\"marker\":{\"pattern\":{\"fillmode\":\"overlay\",\"size\":10,\"solidity\":0.2}},\"type\":\"histogram\"}],\"mesh3d\":[{\"colorbar\":{\"outlinewidth\":0,\"ticks\":\"\"},\"type\":\"mesh3d\"}],\"parcoords\":[{\"line\":{\"colorbar\":{\"outlinewidth\":0,\"ticks\":\"\"}},\"type\":\"parcoords\"}],\"pie\":[{\"automargin\":true,\"type\":\"pie\"}],\"scatter3d\":[{\"line\":{\"colorbar\":{\"outlinewidth\":0,\"ticks\":\"\"}},\"marker\":{\"colorbar\":{\"outlinewidth\":0,\"ticks\":\"\"}},\"type\":\"scatter3d\"}],\"scattercarpet\":[{\"marker\":{\"colorbar\":{\"outlinewidth\":0,\"ticks\":\"\"}},\"type\":\"scattercarpet\"}],\"scattergeo\":[{\"marker\":{\"colorbar\":{\"outlinewidth\":0,\"ticks\":\"\"}},\"type\":\"scattergeo\"}],\"scattergl\":[{\"marker\":{\"colorbar\":{\"outlinewidth\":0,\"ticks\":\"\"}},\"type\":\"scattergl\"}],\"scattermapbox\":[{\"marker\":{\"colorbar\":{\"outlinewidth\":0,\"ticks\":\"\"}},\"type\":\"scattermapbox\"}],\"scatterpolargl\":[{\"marker\":{\"colorbar\":{\"outlinewidth\":0,\"ticks\":\"\"}},\"type\":\"scatterpolargl\"}],\"scatterpolar\":[{\"marker\":{\"colorbar\":{\"outlinewidth\":0,\"ticks\":\"\"}},\"type\":\"scatterpolar\"}],\"scatter\":[{\"fillpattern\":{\"fillmode\":\"overlay\",\"size\":10,\"solidity\":0.2},\"type\":\"scatter\"}],\"scatterternary\":[{\"marker\":{\"colorbar\":{\"outlinewidth\":0,\"ticks\":\"\"}},\"type\":\"scatterternary\"}],\"surface\":[{\"colorbar\":{\"outlinewidth\":0,\"ticks\":\"\"},\"colorscale\":[[0.0,\"#0d0887\"],[0.1111111111111111,\"#46039f\"],[0.2222222222222222,\"#7201a8\"],[0.3333333333333333,\"#9c179e\"],[0.4444444444444444,\"#bd3786\"],[0.5555555555555556,\"#d8576b\"],[0.6666666666666666,\"#ed7953\"],[0.7777777777777778,\"#fb9f3a\"],[0.8888888888888888,\"#fdca26\"],[1.0,\"#f0f921\"]],\"type\":\"surface\"}],\"table\":[{\"cells\":{\"fill\":{\"color\":\"#EBF0F8\"},\"line\":{\"color\":\"white\"}},\"header\":{\"fill\":{\"color\":\"#C8D4E3\"},\"line\":{\"color\":\"white\"}},\"type\":\"table\"}]},\"layout\":{\"annotationdefaults\":{\"arrowcolor\":\"#2a3f5f\",\"arrowhead\":0,\"arrowwidth\":1},\"autotypenumbers\":\"strict\",\"coloraxis\":{\"colorbar\":{\"outlinewidth\":0,\"ticks\":\"\"}},\"colorscale\":{\"diverging\":[[0,\"#8e0152\"],[0.1,\"#c51b7d\"],[0.2,\"#de77ae\"],[0.3,\"#f1b6da\"],[0.4,\"#fde0ef\"],[0.5,\"#f7f7f7\"],[0.6,\"#e6f5d0\"],[0.7,\"#b8e186\"],[0.8,\"#7fbc41\"],[0.9,\"#4d9221\"],[1,\"#276419\"]],\"sequential\":[[0.0,\"#0d0887\"],[0.1111111111111111,\"#46039f\"],[0.2222222222222222,\"#7201a8\"],[0.3333333333333333,\"#9c179e\"],[0.4444444444444444,\"#bd3786\"],[0.5555555555555556,\"#d8576b\"],[0.6666666666666666,\"#ed7953\"],[0.7777777777777778,\"#fb9f3a\"],[0.8888888888888888,\"#fdca26\"],[1.0,\"#f0f921\"]],\"sequentialminus\":[[0.0,\"#0d0887\"],[0.1111111111111111,\"#46039f\"],[0.2222222222222222,\"#7201a8\"],[0.3333333333333333,\"#9c179e\"],[0.4444444444444444,\"#bd3786\"],[0.5555555555555556,\"#d8576b\"],[0.6666666666666666,\"#ed7953\"],[0.7777777777777778,\"#fb9f3a\"],[0.8888888888888888,\"#fdca26\"],[1.0,\"#f0f921\"]]},\"colorway\":[\"#636efa\",\"#EF553B\",\"#00cc96\",\"#ab63fa\",\"#FFA15A\",\"#19d3f3\",\"#FF6692\",\"#B6E880\",\"#FF97FF\",\"#FECB52\"],\"font\":{\"color\":\"#2a3f5f\"},\"geo\":{\"bgcolor\":\"white\",\"lakecolor\":\"white\",\"landcolor\":\"white\",\"showlakes\":true,\"showland\":true,\"subunitcolor\":\"#C8D4E3\"},\"hoverlabel\":{\"align\":\"left\"},\"hovermode\":\"closest\",\"mapbox\":{\"style\":\"light\"},\"paper_bgcolor\":\"white\",\"plot_bgcolor\":\"white\",\"polar\":{\"angularaxis\":{\"gridcolor\":\"#EBF0F8\",\"linecolor\":\"#EBF0F8\",\"ticks\":\"\"},\"bgcolor\":\"white\",\"radialaxis\":{\"gridcolor\":\"#EBF0F8\",\"linecolor\":\"#EBF0F8\",\"ticks\":\"\"}},\"scene\":{\"xaxis\":{\"backgroundcolor\":\"white\",\"gridcolor\":\"#DFE8F3\",\"gridwidth\":2,\"linecolor\":\"#EBF0F8\",\"showbackground\":true,\"ticks\":\"\",\"zerolinecolor\":\"#EBF0F8\"},\"yaxis\":{\"backgroundcolor\":\"white\",\"gridcolor\":\"#DFE8F3\",\"gridwidth\":2,\"linecolor\":\"#EBF0F8\",\"showbackground\":true,\"ticks\":\"\",\"zerolinecolor\":\"#EBF0F8\"},\"zaxis\":{\"backgroundcolor\":\"white\",\"gridcolor\":\"#DFE8F3\",\"gridwidth\":2,\"linecolor\":\"#EBF0F8\",\"showbackground\":true,\"ticks\":\"\",\"zerolinecolor\":\"#EBF0F8\"}},\"shapedefaults\":{\"line\":{\"color\":\"#2a3f5f\"}},\"ternary\":{\"aaxis\":{\"gridcolor\":\"#DFE8F3\",\"linecolor\":\"#A2B1C6\",\"ticks\":\"\"},\"baxis\":{\"gridcolor\":\"#DFE8F3\",\"linecolor\":\"#A2B1C6\",\"ticks\":\"\"},\"bgcolor\":\"white\",\"caxis\":{\"gridcolor\":\"#DFE8F3\",\"linecolor\":\"#A2B1C6\",\"ticks\":\"\"}},\"title\":{\"x\":0.05},\"xaxis\":{\"automargin\":true,\"gridcolor\":\"#EBF0F8\",\"linecolor\":\"#EBF0F8\",\"ticks\":\"\",\"title\":{\"standoff\":15},\"zerolinecolor\":\"#EBF0F8\",\"zerolinewidth\":2},\"yaxis\":{\"automargin\":true,\"gridcolor\":\"#EBF0F8\",\"linecolor\":\"#EBF0F8\",\"ticks\":\"\",\"title\":{\"standoff\":15},\"zerolinecolor\":\"#EBF0F8\",\"zerolinewidth\":2}}},\"font\":{\"family\":\"Roboto Serif\",\"color\":\"black\"},\"images\":[{\"sizex\":0.2,\"sizey\":0.2,\"source\":\"https://raw.githubusercontent.com/PolicyEngine/policyengine-app/master/src/images/logos/policyengine/blue.png\",\"x\":1,\"xanchor\":\"right\",\"xref\":\"paper\",\"y\":-0.15,\"yanchor\":\"bottom\",\"yref\":\"paper\"}],\"height\":600,\"width\":800,\"modebar\":{\"bgcolor\":\"rgba(0,0,0,0)\",\"color\":\"rgba(0,0,0,0)\"},\"title\":{\"text\":\"Figure 9: Change to net income by income decile under a \\\\u00a3400 per month UBI\"}}}'"
      ]
     },
     "execution_count": 11,
     "metadata": {},
     "output_type": "execute_result"
    }
   ],
   "source": [
    "decile_chart(\n",
    "    \"uk\",\n",
    "    model_3_reform.api_id,\n",
    "    \"ni\",\n",
    "    \"2023\",\n",
    ").update_layout(\n",
    "    title=\"Figure 9: Change to net income by income decile under a £400 per month UBI\"\n",
    ").to_json()"
   ]
  },
  {
   "cell_type": "markdown",
   "metadata": {},
   "source": [
    "The share of individuals who see gains greater than 5% rises to 59%.\n"
   ]
  },
  {
   "cell_type": "code",
   "execution_count": null,
   "metadata": {
    "tags": [
     "hide-input"
    ]
   },
   "outputs": [
    {
     "data": {
      "text/plain": [
       "'{\"data\":[{\"hoverinfo\":\"none\",\"legendgroup\":\"Gain more than 5%\",\"marker\":{\"color\":\"#2C6496\",\"line\":{\"width\":0}},\"name\":\"Gain more than 5%\",\"offsetgroup\":\"Gain more than 5%\",\"orientation\":\"h\",\"showlegend\":false,\"text\":[\"59%\"],\"textangle\":0,\"textposition\":\"inside\",\"x\":[0.5920817346097307],\"xaxis\":\"x\",\"y\":[\"All\"],\"yaxis\":\"y\",\"type\":\"bar\",\"width\":[0.9,0.9,0.9,0.9,0.9,0.9,0.9,0.9,0.9,0.9]},{\"hoverinfo\":\"none\",\"legendgroup\":\"Gain less than 5%\",\"marker\":{\"color\":\"#D8E6F3\",\"line\":{\"width\":0}},\"name\":\"Gain less than 5%\",\"offsetgroup\":\"Gain less than 5%\",\"orientation\":\"h\",\"showlegend\":false,\"text\":[\"11%\"],\"textangle\":0,\"textposition\":\"inside\",\"x\":[0.10628691133475629],\"xaxis\":\"x\",\"y\":[\"All\"],\"yaxis\":\"y\",\"type\":\"bar\",\"width\":[0.9,0.9,0.9,0.9,0.9,0.9,0.9,0.9,0.9,0.9]},{\"hoverinfo\":\"none\",\"legendgroup\":\"No change\",\"marker\":{\"color\":\"#FFFFFF\",\"line\":{\"width\":0}},\"name\":\"No change\",\"offsetgroup\":\"No change\",\"orientation\":\"h\",\"showlegend\":false,\"text\":[\"0%\"],\"textangle\":0,\"textposition\":\"inside\",\"x\":[0.0],\"xaxis\":\"x\",\"y\":[\"All\"],\"yaxis\":\"y\",\"type\":\"bar\",\"width\":[0.9,0.9,0.9,0.9,0.9,0.9,0.9,0.9,0.9,0.9]},{\"hoverinfo\":\"none\",\"legendgroup\":\"Lose less than 5%\",\"marker\":{\"color\":\"#D2D2D2\",\"line\":{\"width\":0}},\"name\":\"Lose less than 5%\",\"offsetgroup\":\"Lose less than 5%\",\"orientation\":\"h\",\"showlegend\":false,\"text\":[\"13%\"],\"textangle\":0,\"textposition\":\"inside\",\"x\":[0.12991367608368753],\"xaxis\":\"x\",\"y\":[\"All\"],\"yaxis\":\"y\",\"type\":\"bar\",\"width\":[0.9,0.9,0.9,0.9,0.9,0.9,0.9,0.9,0.9,0.9]},{\"hoverinfo\":\"none\",\"legendgroup\":\"Lose more than 5%\",\"marker\":{\"color\":\"#616161\",\"line\":{\"width\":0}},\"name\":\"Lose more than 5%\",\"offsetgroup\":\"Lose more than 5%\",\"orientation\":\"h\",\"showlegend\":false,\"text\":[\"17%\"],\"textangle\":0,\"textposition\":\"inside\",\"x\":[0.17171767797182547],\"xaxis\":\"x\",\"y\":[\"All\"],\"yaxis\":\"y\",\"type\":\"bar\",\"width\":[0.9,0.9,0.9,0.9,0.9,0.9,0.9,0.9,0.9,0.9]},{\"hoverinfo\":\"none\",\"marker\":{\"color\":\"#2C6496\",\"line\":{\"width\":0}},\"name\":\"Gain more than 5%\",\"orientation\":\"h\",\"text\":[\"99%\",\"80%\",\"84%\",\"95%\",\"67%\",\"52%\",\"47%\",\"26%\",\"24%\",\"17%\"],\"textangle\":0,\"textposition\":\"inside\",\"x\":[0.98595420637865,0.8006286013232689,0.8436123075493216,0.9505634982793333,0.6724576251756983,0.5226263989139772,0.47057673419650886,0.25971065368434526,0.24239078296596453,0.17229653763023917],\"xaxis\":\"x2\",\"y\":[1,2,3,4,5,6,7,8,9,10],\"yaxis\":\"y2\",\"type\":\"bar\",\"width\":[0.9,0.9,0.9,0.9,0.9,0.9,0.9,0.9,0.9,0.9]},{\"hoverinfo\":\"none\",\"marker\":{\"color\":\"#D8E6F3\",\"line\":{\"width\":0}},\"name\":\"Gain less than 5%\",\"orientation\":\"h\",\"text\":[\"1%\",\"6%\",\"1%\",\"3%\",\"20%\",\"12%\",\"3%\",\"12%\",\"12%\",\"36%\"],\"textangle\":0,\"textposition\":\"inside\",\"x\":[0.013745626334114722,0.06192671392462246,0.009028514001552312,0.02828564897618311,0.20025730550973733,0.11997581515375476,0.03286388464761898,0.11926223416448706,0.11740102742709133,0.3601223432084008],\"xaxis\":\"x2\",\"y\":[1,2,3,4,5,6,7,8,9,10],\"yaxis\":\"y2\",\"type\":\"bar\",\"width\":[0.9,0.9,0.9,0.9,0.9,0.9,0.9,0.9,0.9,0.9]},{\"hoverinfo\":\"none\",\"marker\":{\"color\":\"#FFFFFF\",\"line\":{\"width\":0}},\"name\":\"No change\",\"orientation\":\"h\",\"text\":[\"0%\",\"0%\",\"0%\",\"0%\",\"0%\",\"0%\",\"0%\",\"0%\",\"0%\",\"0%\"],\"textangle\":0,\"textposition\":\"inside\",\"x\":[0.0,0.0,0.0,0.0,0.0,0.0,0.0,0.0,0.0,0.0],\"xaxis\":\"x2\",\"y\":[1,2,3,4,5,6,7,8,9,10],\"yaxis\":\"y2\",\"type\":\"bar\",\"width\":[0.9,0.9,0.9,0.9,0.9,0.9,0.9,0.9,0.9,0.9]},{\"hoverinfo\":\"none\",\"marker\":{\"color\":\"#D2D2D2\",\"line\":{\"width\":0}},\"name\":\"Lose less than 5%\",\"orientation\":\"h\",\"text\":[\"0%\",\"12%\",\"3%\",\"0%\",\"10%\",\"34%\",\"29%\",\"9%\",\"12%\",\"20%\"],\"textangle\":0,\"textposition\":\"inside\",\"x\":[0.0003001672872352223,0.1214308988851443,0.03298699966822044,0.0,0.09975624690636738,0.3432930141117615,0.2902291222836049,0.08789167703920892,0.1248849015336962,0.1983637331216366],\"xaxis\":\"x2\",\"y\":[1,2,3,4,5,6,7,8,9,10],\"yaxis\":\"y2\",\"type\":\"bar\",\"width\":[0.9,0.9,0.9,0.9,0.9,0.9,0.9,0.9,0.9,0.9]},{\"hoverinfo\":\"none\",\"marker\":{\"color\":\"#616161\",\"line\":{\"width\":0}},\"name\":\"Lose more than 5%\",\"orientation\":\"h\",\"text\":[\"0%\",\"2%\",\"11%\",\"2%\",\"3%\",\"1%\",\"21%\",\"53%\",\"52%\",\"27%\"],\"textangle\":0,\"textposition\":\"inside\",\"x\":[0.0,0.016013785866964395,0.11437217878090568,0.021150852744483608,0.02752882240819698,0.01410477182050651,0.20633025887226722,0.5331354351119588,0.5153232880732479,0.26921738603972345],\"xaxis\":\"x2\",\"y\":[1,2,3,4,5,6,7,8,9,10],\"yaxis\":\"y2\",\"type\":\"bar\",\"width\":[0.9,0.9,0.9,0.9,0.9,0.9,0.9,0.9,0.9,0.9]}],\"layout\":{\"barmode\":\"stack\",\"grid\":{\"columns\":1,\"rows\":2},\"uniformtext\":{\"minsize\":10,\"mode\":\"hide\"},\"xaxis\":{\"anchor\":\"y\",\"matches\":\"x2\",\"showgrid\":false,\"showticklabels\":false,\"tickformat\":\".0%\",\"title\":{\"text\":\"\"}},\"yaxis\":{\"domain\":[0.91,1],\"tickvals\":[\"All\"],\"title\":{\"text\":\"\"}},\"xaxis2\":{\"anchor\":\"y2\",\"tickformat\":\".0%\",\"title\":{\"text\":\"Population share\"}},\"yaxis2\":{\"anchor\":\"x2\",\"domain\":[0,0.85],\"tickvals\":[1,2,3,4,5,6,7,8,9,10],\"title\":{\"text\":\"Income decile\"}},\"template\":{\"data\":{\"barpolar\":[{\"marker\":{\"line\":{\"color\":\"white\",\"width\":0.5},\"pattern\":{\"fillmode\":\"overlay\",\"size\":10,\"solidity\":0.2}},\"type\":\"barpolar\"}],\"bar\":[{\"error_x\":{\"color\":\"#2a3f5f\"},\"error_y\":{\"color\":\"#2a3f5f\"},\"marker\":{\"line\":{\"color\":\"white\",\"width\":0.5},\"pattern\":{\"fillmode\":\"overlay\",\"size\":10,\"solidity\":0.2}},\"type\":\"bar\"}],\"carpet\":[{\"aaxis\":{\"endlinecolor\":\"#2a3f5f\",\"gridcolor\":\"#C8D4E3\",\"linecolor\":\"#C8D4E3\",\"minorgridcolor\":\"#C8D4E3\",\"startlinecolor\":\"#2a3f5f\"},\"baxis\":{\"endlinecolor\":\"#2a3f5f\",\"gridcolor\":\"#C8D4E3\",\"linecolor\":\"#C8D4E3\",\"minorgridcolor\":\"#C8D4E3\",\"startlinecolor\":\"#2a3f5f\"},\"type\":\"carpet\"}],\"choropleth\":[{\"colorbar\":{\"outlinewidth\":0,\"ticks\":\"\"},\"type\":\"choropleth\"}],\"contourcarpet\":[{\"colorbar\":{\"outlinewidth\":0,\"ticks\":\"\"},\"type\":\"contourcarpet\"}],\"contour\":[{\"colorbar\":{\"outlinewidth\":0,\"ticks\":\"\"},\"colorscale\":[[0.0,\"#0d0887\"],[0.1111111111111111,\"#46039f\"],[0.2222222222222222,\"#7201a8\"],[0.3333333333333333,\"#9c179e\"],[0.4444444444444444,\"#bd3786\"],[0.5555555555555556,\"#d8576b\"],[0.6666666666666666,\"#ed7953\"],[0.7777777777777778,\"#fb9f3a\"],[0.8888888888888888,\"#fdca26\"],[1.0,\"#f0f921\"]],\"type\":\"contour\"}],\"heatmapgl\":[{\"colorbar\":{\"outlinewidth\":0,\"ticks\":\"\"},\"colorscale\":[[0.0,\"#0d0887\"],[0.1111111111111111,\"#46039f\"],[0.2222222222222222,\"#7201a8\"],[0.3333333333333333,\"#9c179e\"],[0.4444444444444444,\"#bd3786\"],[0.5555555555555556,\"#d8576b\"],[0.6666666666666666,\"#ed7953\"],[0.7777777777777778,\"#fb9f3a\"],[0.8888888888888888,\"#fdca26\"],[1.0,\"#f0f921\"]],\"type\":\"heatmapgl\"}],\"heatmap\":[{\"colorbar\":{\"outlinewidth\":0,\"ticks\":\"\"},\"colorscale\":[[0.0,\"#0d0887\"],[0.1111111111111111,\"#46039f\"],[0.2222222222222222,\"#7201a8\"],[0.3333333333333333,\"#9c179e\"],[0.4444444444444444,\"#bd3786\"],[0.5555555555555556,\"#d8576b\"],[0.6666666666666666,\"#ed7953\"],[0.7777777777777778,\"#fb9f3a\"],[0.8888888888888888,\"#fdca26\"],[1.0,\"#f0f921\"]],\"type\":\"heatmap\"}],\"histogram2dcontour\":[{\"colorbar\":{\"outlinewidth\":0,\"ticks\":\"\"},\"colorscale\":[[0.0,\"#0d0887\"],[0.1111111111111111,\"#46039f\"],[0.2222222222222222,\"#7201a8\"],[0.3333333333333333,\"#9c179e\"],[0.4444444444444444,\"#bd3786\"],[0.5555555555555556,\"#d8576b\"],[0.6666666666666666,\"#ed7953\"],[0.7777777777777778,\"#fb9f3a\"],[0.8888888888888888,\"#fdca26\"],[1.0,\"#f0f921\"]],\"type\":\"histogram2dcontour\"}],\"histogram2d\":[{\"colorbar\":{\"outlinewidth\":0,\"ticks\":\"\"},\"colorscale\":[[0.0,\"#0d0887\"],[0.1111111111111111,\"#46039f\"],[0.2222222222222222,\"#7201a8\"],[0.3333333333333333,\"#9c179e\"],[0.4444444444444444,\"#bd3786\"],[0.5555555555555556,\"#d8576b\"],[0.6666666666666666,\"#ed7953\"],[0.7777777777777778,\"#fb9f3a\"],[0.8888888888888888,\"#fdca26\"],[1.0,\"#f0f921\"]],\"type\":\"histogram2d\"}],\"histogram\":[{\"marker\":{\"pattern\":{\"fillmode\":\"overlay\",\"size\":10,\"solidity\":0.2}},\"type\":\"histogram\"}],\"mesh3d\":[{\"colorbar\":{\"outlinewidth\":0,\"ticks\":\"\"},\"type\":\"mesh3d\"}],\"parcoords\":[{\"line\":{\"colorbar\":{\"outlinewidth\":0,\"ticks\":\"\"}},\"type\":\"parcoords\"}],\"pie\":[{\"automargin\":true,\"type\":\"pie\"}],\"scatter3d\":[{\"line\":{\"colorbar\":{\"outlinewidth\":0,\"ticks\":\"\"}},\"marker\":{\"colorbar\":{\"outlinewidth\":0,\"ticks\":\"\"}},\"type\":\"scatter3d\"}],\"scattercarpet\":[{\"marker\":{\"colorbar\":{\"outlinewidth\":0,\"ticks\":\"\"}},\"type\":\"scattercarpet\"}],\"scattergeo\":[{\"marker\":{\"colorbar\":{\"outlinewidth\":0,\"ticks\":\"\"}},\"type\":\"scattergeo\"}],\"scattergl\":[{\"marker\":{\"colorbar\":{\"outlinewidth\":0,\"ticks\":\"\"}},\"type\":\"scattergl\"}],\"scattermapbox\":[{\"marker\":{\"colorbar\":{\"outlinewidth\":0,\"ticks\":\"\"}},\"type\":\"scattermapbox\"}],\"scatterpolargl\":[{\"marker\":{\"colorbar\":{\"outlinewidth\":0,\"ticks\":\"\"}},\"type\":\"scatterpolargl\"}],\"scatterpolar\":[{\"marker\":{\"colorbar\":{\"outlinewidth\":0,\"ticks\":\"\"}},\"type\":\"scatterpolar\"}],\"scatter\":[{\"fillpattern\":{\"fillmode\":\"overlay\",\"size\":10,\"solidity\":0.2},\"type\":\"scatter\"}],\"scatterternary\":[{\"marker\":{\"colorbar\":{\"outlinewidth\":0,\"ticks\":\"\"}},\"type\":\"scatterternary\"}],\"surface\":[{\"colorbar\":{\"outlinewidth\":0,\"ticks\":\"\"},\"colorscale\":[[0.0,\"#0d0887\"],[0.1111111111111111,\"#46039f\"],[0.2222222222222222,\"#7201a8\"],[0.3333333333333333,\"#9c179e\"],[0.4444444444444444,\"#bd3786\"],[0.5555555555555556,\"#d8576b\"],[0.6666666666666666,\"#ed7953\"],[0.7777777777777778,\"#fb9f3a\"],[0.8888888888888888,\"#fdca26\"],[1.0,\"#f0f921\"]],\"type\":\"surface\"}],\"table\":[{\"cells\":{\"fill\":{\"color\":\"#EBF0F8\"},\"line\":{\"color\":\"white\"}},\"header\":{\"fill\":{\"color\":\"#C8D4E3\"},\"line\":{\"color\":\"white\"}},\"type\":\"table\"}]},\"layout\":{\"annotationdefaults\":{\"arrowcolor\":\"#2a3f5f\",\"arrowhead\":0,\"arrowwidth\":1},\"autotypenumbers\":\"strict\",\"coloraxis\":{\"colorbar\":{\"outlinewidth\":0,\"ticks\":\"\"}},\"colorscale\":{\"diverging\":[[0,\"#8e0152\"],[0.1,\"#c51b7d\"],[0.2,\"#de77ae\"],[0.3,\"#f1b6da\"],[0.4,\"#fde0ef\"],[0.5,\"#f7f7f7\"],[0.6,\"#e6f5d0\"],[0.7,\"#b8e186\"],[0.8,\"#7fbc41\"],[0.9,\"#4d9221\"],[1,\"#276419\"]],\"sequential\":[[0.0,\"#0d0887\"],[0.1111111111111111,\"#46039f\"],[0.2222222222222222,\"#7201a8\"],[0.3333333333333333,\"#9c179e\"],[0.4444444444444444,\"#bd3786\"],[0.5555555555555556,\"#d8576b\"],[0.6666666666666666,\"#ed7953\"],[0.7777777777777778,\"#fb9f3a\"],[0.8888888888888888,\"#fdca26\"],[1.0,\"#f0f921\"]],\"sequentialminus\":[[0.0,\"#0d0887\"],[0.1111111111111111,\"#46039f\"],[0.2222222222222222,\"#7201a8\"],[0.3333333333333333,\"#9c179e\"],[0.4444444444444444,\"#bd3786\"],[0.5555555555555556,\"#d8576b\"],[0.6666666666666666,\"#ed7953\"],[0.7777777777777778,\"#fb9f3a\"],[0.8888888888888888,\"#fdca26\"],[1.0,\"#f0f921\"]]},\"colorway\":[\"#636efa\",\"#EF553B\",\"#00cc96\",\"#ab63fa\",\"#FFA15A\",\"#19d3f3\",\"#FF6692\",\"#B6E880\",\"#FF97FF\",\"#FECB52\"],\"font\":{\"color\":\"#2a3f5f\"},\"geo\":{\"bgcolor\":\"white\",\"lakecolor\":\"white\",\"landcolor\":\"white\",\"showlakes\":true,\"showland\":true,\"subunitcolor\":\"#C8D4E3\"},\"hoverlabel\":{\"align\":\"left\"},\"hovermode\":\"closest\",\"mapbox\":{\"style\":\"light\"},\"paper_bgcolor\":\"white\",\"plot_bgcolor\":\"white\",\"polar\":{\"angularaxis\":{\"gridcolor\":\"#EBF0F8\",\"linecolor\":\"#EBF0F8\",\"ticks\":\"\"},\"bgcolor\":\"white\",\"radialaxis\":{\"gridcolor\":\"#EBF0F8\",\"linecolor\":\"#EBF0F8\",\"ticks\":\"\"}},\"scene\":{\"xaxis\":{\"backgroundcolor\":\"white\",\"gridcolor\":\"#DFE8F3\",\"gridwidth\":2,\"linecolor\":\"#EBF0F8\",\"showbackground\":true,\"ticks\":\"\",\"zerolinecolor\":\"#EBF0F8\"},\"yaxis\":{\"backgroundcolor\":\"white\",\"gridcolor\":\"#DFE8F3\",\"gridwidth\":2,\"linecolor\":\"#EBF0F8\",\"showbackground\":true,\"ticks\":\"\",\"zerolinecolor\":\"#EBF0F8\"},\"zaxis\":{\"backgroundcolor\":\"white\",\"gridcolor\":\"#DFE8F3\",\"gridwidth\":2,\"linecolor\":\"#EBF0F8\",\"showbackground\":true,\"ticks\":\"\",\"zerolinecolor\":\"#EBF0F8\"}},\"shapedefaults\":{\"line\":{\"color\":\"#2a3f5f\"}},\"ternary\":{\"aaxis\":{\"gridcolor\":\"#DFE8F3\",\"linecolor\":\"#A2B1C6\",\"ticks\":\"\"},\"baxis\":{\"gridcolor\":\"#DFE8F3\",\"linecolor\":\"#A2B1C6\",\"ticks\":\"\"},\"bgcolor\":\"white\",\"caxis\":{\"gridcolor\":\"#DFE8F3\",\"linecolor\":\"#A2B1C6\",\"ticks\":\"\"}},\"title\":{\"x\":0.05},\"xaxis\":{\"automargin\":true,\"gridcolor\":\"#EBF0F8\",\"linecolor\":\"#EBF0F8\",\"ticks\":\"\",\"title\":{\"standoff\":15},\"zerolinecolor\":\"#EBF0F8\",\"zerolinewidth\":2},\"yaxis\":{\"automargin\":true,\"gridcolor\":\"#EBF0F8\",\"linecolor\":\"#EBF0F8\",\"ticks\":\"\",\"title\":{\"standoff\":15},\"zerolinecolor\":\"#EBF0F8\",\"zerolinewidth\":2}}},\"font\":{\"family\":\"Roboto Serif\",\"color\":\"black\"},\"images\":[{\"sizex\":0.2,\"sizey\":0.2,\"source\":\"https://raw.githubusercontent.com/PolicyEngine/policyengine-app/master/src/images/logos/policyengine/blue.png\",\"x\":1,\"xanchor\":\"right\",\"xref\":\"paper\",\"y\":-0.15,\"yanchor\":\"bottom\",\"yref\":\"paper\"}],\"height\":600,\"width\":800,\"modebar\":{\"bgcolor\":\"rgba(0,0,0,0)\",\"color\":\"rgba(0,0,0,0)\"},\"legend\":{\"orientation\":\"h\",\"yanchor\":\"bottom\",\"y\":-0.3},\"title\":{\"text\":\"Figure 10: Outcome distribution by income decile under a \\\\u00a3400 per month UBI\"}}}'"
      ]
     },
     "execution_count": 12,
     "metadata": {},
     "output_type": "execute_result"
    }
   ],
   "source": [
    "intra_decile_chart(\n",
    "    \"uk\",\n",
    "    model_3_reform.api_id,\n",
    "    \"ni\",\n",
    "    \"2023\",\n",
    ").update_layout(\n",
    "    title=\"Figure 10: Outcome distribution by income decile under a £400 per month UBI\",\n",
    "    legend=dict(\n",
    "        orientation=\"h\",\n",
    "        yanchor=\"bottom\",\n",
    "        y=-0.3,\n",
    "    )\n",
    ").to_json()"
   ]
  },
  {
   "cell_type": "markdown",
   "metadata": {},
   "source": [
    "## Household impacts\n",
    "\n",
    "For individual households, each policy changes how the tax-benefit system shapes net incomes in response to earnings. To show this, we continue examining our three policies through the lenses of three example households: a single adult, a married couple with two children, and a pensioner couple.\n",
    "\n",
    "### Net income\n",
    "\n",
    "A single adult with no children sees a net gain under all three policies only up to £21,000 in employment income. Below this income level, the £400 per month UBI policy results in the highest net income.[^11] After surpassing the £21,000 threshold, the rate of increase in net income slows under the £400 and £300 per month UBI policies compared to the baseline, due to higher tax increases. This pattern shifts once again after income crosses the personal allowance phase-out point at £125,140. Beyond this point, the £400 per month UBI policy leads to the highest net income because it involves no changes to the higher and additional rates of income tax.\n",
    "\n",
    "[^11]: We vary the employment income of only one earner, holding the other (if they exist) at zero.\n"
   ]
  },
  {
   "cell_type": "code",
   "execution_count": null,
   "metadata": {
    "tags": [
     "hide-input"
    ]
   },
   "outputs": [],
   "source": [
    "import plotly.express as px\n",
    "from policyengine_uk import Simulation\n",
    "import pandas as pd\n",
    "\n",
    "SINGLE_NO_CHILDREN = {\n",
    "    \"people\": {\n",
    "        \"adult\": {\n",
    "            \"age\": 25,\n",
    "        }\n",
    "    },\n",
    "    \"benunits\": {\n",
    "        \"benunit\": {\n",
    "            \"members\": [\"adult\"],\n",
    "            \"claims_legacy_benefits\": False,\n",
    "            \"claims_all_entitled_benefits\": True,\n",
    "        }\n",
    "    },\n",
    "    \"households\": {\n",
    "        \"household\": {\n",
    "            \"members\": [\"adult\"],\n",
    "            \"would_evade_tv_licence_fee\": False,\n",
    "            \"household_owns_tv\": True,\n",
    "        }\n",
    "    },\n",
    "    \"axes\": [[{\n",
    "        \"name\": \"employment_income\",\n",
    "        \"min\": 0,\n",
    "        \"max\": 100_000,\n",
    "        \"count\": 100,\n",
    "    }]],\n",
    "}\n",
    "\n",
    "MARRIED_TWO_CHILDREN = {\n",
    "    \"people\": {\n",
    "        \"adult_1\": {\n",
    "            \"age\": 31,\n",
    "        },\n",
    "        \"adult_2\": {\n",
    "            \"age\": 30,\n",
    "        },\n",
    "        \"child_1\": {\n",
    "            \"age\": 4,\n",
    "        },\n",
    "        \"child_2\": {\n",
    "            \"age\": 6,\n",
    "        },\n",
    "    },\n",
    "    \"benunits\": {\n",
    "        \"benunit\": {\n",
    "            \"members\": [\"adult_1\", \"adult_2\", \"child_1\", \"child_2\"],\n",
    "            \"claims_legacy_benefits\": False,\n",
    "            \"claims_all_entitled_benefits\": True,\n",
    "        }\n",
    "    },\n",
    "    \"households\": {\n",
    "        \"household\": {\n",
    "            \"members\": [\"adult_1\", \"adult_2\", \"child_1\", \"child_2\"],\n",
    "            \"would_evade_tv_licence_fee\": False,\n",
    "            \"household_owns_tv\": True,\n",
    "        }\n",
    "    },\n",
    "    \"axes\": [[{\n",
    "        \"name\": \"employment_income\",\n",
    "        \"min\": 0,\n",
    "        \"max\": 100_000,\n",
    "        \"count\": 100,\n",
    "    }]],\n",
    "}\n",
    "\n",
    "PENSIONER_COUPLE_NO_CHILDREN = {\n",
    "    \"people\": {\n",
    "        \"adult_1\": {\n",
    "            \"age\": 70,\n",
    "        },\n",
    "        \"adult_2\": {\n",
    "            \"age\": 71,\n",
    "        }\n",
    "    },\n",
    "    \"benunits\": {\n",
    "        \"benunit\": {\n",
    "            \"members\": [\"adult_1\", \"adult_2\"],\n",
    "            \"claims_legacy_benefits\": False,\n",
    "            \"claims_all_entitled_benefits\": True,\n",
    "        }\n",
    "    },\n",
    "    \"households\": {\n",
    "        \"household\": {\n",
    "            \"members\": [\"adult_1\", \"adult_2\"],\n",
    "            \"would_evade_tv_licence_fee\": False,\n",
    "            \"household_owns_tv\": True,\n",
    "        }\n",
    "    },\n",
    "    \"axes\": [[{\n",
    "        \"name\": \"employment_income\",\n",
    "        \"min\": 0,\n",
    "        \"max\": 100_000,\n",
    "        \"count\": 100,\n",
    "    }]],\n",
    "}\n",
    "dfs = []\n",
    "for reform, policy_name in zip([model_1_reform, model_2_reform, model_3_reform], [\"£200/month\", \"£300/month\", \"£400/month\"]):\n",
    "    for household_type, household_name in zip(\n",
    "        [SINGLE_NO_CHILDREN, MARRIED_TWO_CHILDREN, PENSIONER_COUPLE_NO_CHILDREN],\n",
    "        [\"Single adult, no children\", \"Married couple, two children\", \"Pensioner couple, no children\"],\n",
    "    ):\n",
    "        baseline_sim = Simulation(situation=household_type)\n",
    "        sim = Simulation(situation=household_type, reform=reform)\n",
    "        net_income = sim.calculate(\"household_net_income\", 2023) - baseline_sim.calculate(\"household_net_income\", 2023)\n",
    "        earnings = sim.calculate(\"employment_income\", map_to=\"household\", period=2023)\n",
    "        df = pd.DataFrame({\"Policy\": policy_name, \"Net income\": net_income, \"Earnings\": earnings, \"Household type\": household_name})\n",
    "        dfs.append(df)\n",
    "\n",
    "df = pd.concat(dfs)"
   ]
  },
  {
   "cell_type": "code",
   "execution_count": null,
   "metadata": {
    "tags": [
     "hide-input"
    ]
   },
   "outputs": [
    {
     "data": {
      "text/plain": [
       "'{\"data\":[{\"hovertemplate\":\"Policy=\\\\u00a3200/month<br>Earnings=%{x}<br>Net income=%{y}<extra></extra>\",\"legendgroup\":\"\\\\u00a3200/month\",\"line\":{\"color\":\"#D8E6F3\",\"dash\":\"solid\"},\"marker\":{\"symbol\":\"circle\"},\"mode\":\"lines\",\"name\":\"\\\\u00a3200/month\",\"orientation\":\"v\",\"showlegend\":true,\"x\":[0.0,1040.44580078125,2080.8916015625,3121.33740234375,4161.783203125,5202.22900390625,6242.6748046875,7283.12060546875,8323.56640625,9364.0126953125,10404.4580078125,11444.904296875,12485.349609375,13525.7958984375,14566.2412109375,15606.6875,16647.1328125,17687.578125,18728.025390625,19768.470703125,20808.916015625,21849.361328125,22889.80859375,23930.251953125,24970.69921875,26011.14453125,27051.591796875,28092.03515625,29132.482421875,30172.927734375,31213.375,32253.818359375,33294.265625,34334.7109375,35375.15625,36415.6015625,37456.05078125,38496.49609375,39536.94140625,40577.3828125,41617.83203125,42658.27734375,43698.72265625,44739.16796875,45779.6171875,46820.0625,47860.50390625,48900.94921875,49941.3984375,50981.84375,52022.2890625,53062.73828125,54103.18359375,55143.62890625,56184.0703125,57224.51953125,58264.96484375,59305.41015625,60345.85546875,61386.3046875,62426.75,63467.19140625,64507.63671875,65548.0859375,66588.53125,67628.9765625,68669.421875,69709.8671875,70750.3125,71790.7578125,72831.203125,73871.6484375,74912.1015625,75952.546875,76992.9921875,78033.4375,79073.8828125,80114.328125,81154.765625,82195.2109375,83235.6640625,84276.109375,85316.5546875,86357.0,87397.4453125,88437.890625,89478.3359375,90518.7890625,91559.234375,92599.6796875,93640.125,94680.5703125,95721.0078125,96761.453125,97801.8984375,98842.3515625,99882.796875,100923.2421875,101963.6875,103004.1328125],\"xaxis\":\"x\",\"y\":[2400.0,2400.0,2392.1005859375,2290.501953125,2188.900390625,2087.302734375,1985.70263671875,1884.1025390625,1223.4619140625,802.0087890625,576.232421875,350.4560546875,124.6796875,90.0615234375,72.375,54.6865234375,36.9990234375,19.3115234375,1.623046875,-16.064453125,-33.751953125,-51.439453125,-69.126953125,-86.814453125,-104.501953125,-122.189453125,-139.876953125,-157.56640625,-175.251953125,-192.939453125,-210.626953125,-228.3125,-246.00390625,-263.69140625,-281.375,-299.06640625,-316.75390625,-334.439453125,-352.12890625,-369.81640625,-387.501953125,-405.19140625,-422.87890625,-440.56640625,-458.25390625,-475.94140625,-493.62890625,-511.3125,-529.00390625,-559.50390625,-595.921875,-632.33203125,-668.75,-705.1640625,-741.5859375,-777.99609375,-814.4140625,-850.828125,-887.24609375,-923.66015625,-960.07421875,-996.49609375,-1032.90625,-1069.3203125,-1105.7421875,-1142.15625,-1178.5703125,-1214.984375,-1251.40234375,-1287.81640625,-1324.23046875,-1360.64453125,-1397.0625,-1433.48046875,-1469.8984375,-1506.3125,-1542.7265625,-1579.14453125,-1615.5546875,-1651.97265625,-1688.38671875,-1724.8046875,-1761.22265625,-1797.6328125,-1834.046875,-1870.46484375,-1906.87890625,-1943.296875,-1979.71484375,-2016.12890625,-2052.54296875,-2088.95703125,-2125.375,-2161.79296875,-2198.20703125,-2234.625,-2271.04296875,-2323.609375,-2378.234375,-2432.86328125],\"yaxis\":\"y\",\"type\":\"scatter\"},{\"hovertemplate\":\"Policy=\\\\u00a3300/month<br>Earnings=%{x}<br>Net income=%{y}<extra></extra>\",\"legendgroup\":\"\\\\u00a3300/month\",\"line\":{\"color\":\"#2C6496\",\"dash\":\"solid\"},\"marker\":{\"symbol\":\"circle\"},\"mode\":\"lines\",\"name\":\"\\\\u00a3300/month\",\"orientation\":\"v\",\"showlegend\":true,\"x\":[0.0,1040.44580078125,2080.8916015625,3121.33740234375,4161.783203125,5202.22900390625,6242.6748046875,7283.12060546875,8323.56640625,9364.0126953125,10404.4580078125,11444.904296875,12485.349609375,13525.7958984375,14566.2412109375,15606.6875,16647.1328125,17687.578125,18728.025390625,19768.470703125,20808.916015625,21849.361328125,22889.80859375,23930.251953125,24970.69921875,26011.14453125,27051.591796875,28092.03515625,29132.482421875,30172.927734375,31213.375,32253.818359375,33294.265625,34334.7109375,35375.15625,36415.6015625,37456.05078125,38496.49609375,39536.94140625,40577.3828125,41617.83203125,42658.27734375,43698.72265625,44739.16796875,45779.6171875,46820.0625,47860.50390625,48900.94921875,49941.3984375,50981.84375,52022.2890625,53062.73828125,54103.18359375,55143.62890625,56184.0703125,57224.51953125,58264.96484375,59305.41015625,60345.85546875,61386.3046875,62426.75,63467.19140625,64507.63671875,65548.0859375,66588.53125,67628.9765625,68669.421875,69709.8671875,70750.3125,71790.7578125,72831.203125,73871.6484375,74912.1015625,75952.546875,76992.9921875,78033.4375,79073.8828125,80114.328125,81154.765625,82195.2109375,83235.6640625,84276.109375,85316.5546875,86357.0,87397.4453125,88437.890625,89478.3359375,90518.7890625,91559.234375,92599.6796875,93640.125,94680.5703125,95721.0078125,96761.453125,97801.8984375,98842.3515625,99882.796875,100923.2421875,101963.6875,103004.1328125],\"xaxis\":\"x\",\"y\":[3600.0,3482.4814453125,3364.962890625,3247.4443359375,3129.92578125,3012.4072265625,2894.89013671875,2777.37109375,2100.8115234375,1411.0478515625,988.4814453125,727.3291015625,466.177734375,396.185546875,343.123046875,290.0595703125,236.99609375,183.93359375,130.87109375,77.80859375,24.744140625,-28.31640625,-81.37890625,-134.443359375,-187.505859375,-240.568359375,-293.630859375,-346.6953125,-399.75390625,-452.818359375,-505.880859375,-558.943359375,-612.0078125,-665.0703125,-718.1328125,-771.1953125,-824.259765625,-877.3203125,-930.384765625,-983.4453125,-1036.5078125,-1089.572265625,-1142.634765625,-1195.69921875,-1248.76171875,-1301.82421875,-1354.88671875,-1407.9453125,-1461.01171875,-1514.0703125,-1567.13671875,-1620.1953125,-1673.26171875,-1726.3203125,-1779.390625,-1832.44921875,-1885.51171875,-1938.578125,-1991.640625,-2044.69921875,-2097.765625,-2150.83203125,-2203.88671875,-2256.953125,-2310.015625,-2363.078125,-2416.140625,-2469.203125,-2522.265625,-2575.328125,-2628.39453125,-2681.453125,-2734.515625,-2787.58203125,-2840.64453125,-2893.70703125,-2946.76953125,-2999.8359375,-3052.890625,-3105.95703125,-3159.01953125,-3212.08203125,-3265.14453125,-3318.203125,-3371.265625,-3424.328125,-3477.39453125,-3530.4609375,-3583.5234375,-3636.5859375,-3689.64453125,-3742.70703125,-3795.7734375,-3848.83203125,-3901.8984375,-3954.96484375,-4008.02734375,-3876.4375,-3721.4140625,-3566.38671875],\"yaxis\":\"y\",\"type\":\"scatter\"},{\"hovertemplate\":\"Policy=\\\\u00a3400/month<br>Earnings=%{x}<br>Net income=%{y}<extra></extra>\",\"legendgroup\":\"\\\\u00a3400/month\",\"line\":{\"color\":\"#17354F\",\"dash\":\"solid\"},\"marker\":{\"symbol\":\"circle\"},\"mode\":\"lines\",\"name\":\"\\\\u00a3400/month\",\"orientation\":\"v\",\"showlegend\":true,\"x\":[0.0,1040.44580078125,2080.8916015625,3121.33740234375,4161.783203125,5202.22900390625,6242.6748046875,7283.12060546875,8323.56640625,9364.0126953125,10404.4580078125,11444.904296875,12485.349609375,13525.7958984375,14566.2412109375,15606.6875,16647.1328125,17687.578125,18728.025390625,19768.470703125,20808.916015625,21849.361328125,22889.80859375,23930.251953125,24970.69921875,26011.14453125,27051.591796875,28092.03515625,29132.482421875,30172.927734375,31213.375,32253.818359375,33294.265625,34334.7109375,35375.15625,36415.6015625,37456.05078125,38496.49609375,39536.94140625,40577.3828125,41617.83203125,42658.27734375,43698.72265625,44739.16796875,45779.6171875,46820.0625,47860.50390625,48900.94921875,49941.3984375,50981.84375,52022.2890625,53062.73828125,54103.18359375,55143.62890625,56184.0703125,57224.51953125,58264.96484375,59305.41015625,60345.85546875,61386.3046875,62426.75,63467.19140625,64507.63671875,65548.0859375,66588.53125,67628.9765625,68669.421875,69709.8671875,70750.3125,71790.7578125,72831.203125,73871.6484375,74912.1015625,75952.546875,76992.9921875,78033.4375,79073.8828125,80114.328125,81154.765625,82195.2109375,83235.6640625,84276.109375,85316.5546875,86357.0,87397.4453125,88437.890625,89478.3359375,90518.7890625,91559.234375,92599.6796875,93640.125,94680.5703125,95721.0078125,96761.453125,97801.8984375,98842.3515625,99882.796875,100923.2421875,101963.6875,103004.1328125],\"xaxis\":\"x\",\"y\":[4800.0,4652.98388671875,4505.9697265625,4358.955078125,4211.9404296875,4064.9248046875,3917.90966796875,3770.89453125,3064.8388671875,2345.578125,1626.3173828125,1206.2998046875,879.6005859375,744.0595703125,625.44921875,506.837890625,388.2265625,269.6162109375,151.00390625,32.39453125,-86.216796875,-204.828125,-323.4375,-442.048828125,-560.658203125,-679.26953125,-797.8828125,-916.4921875,-1035.099609375,-1153.7109375,-1272.32421875,-1390.93359375,-1509.546875,-1628.158203125,-1746.765625,-1865.37890625,-1983.9921875,-2102.599609375,-2221.2109375,-2339.8203125,-2458.431640625,-2577.04296875,-2695.654296875,-2814.267578125,-2932.875,-3051.48828125,-3170.09765625,-3288.70703125,-3407.3203125,-3444.78125,-3444.78125,-3444.77734375,-3444.77734375,-3444.78125,-3444.78125,-3444.78125,-3444.78125,-3444.78125,-3444.78125,-3444.78125,-3444.78125,-3444.78515625,-3444.77734375,-3444.78125,-3444.78125,-3444.78125,-3444.78125,-3444.77734375,-3444.77734375,-3444.78125,-3444.78125,-3444.77734375,-3444.78125,-3444.78125,-3444.78125,-3444.78125,-3444.78125,-3444.78125,-3444.77734375,-3444.78125,-3444.77734375,-3444.78125,-3444.78125,-3444.77734375,-3444.77734375,-3444.77734375,-3444.77734375,-3444.78125,-3444.78125,-3444.78125,-3444.77734375,-3444.77734375,-3444.78125,-3444.77734375,-3444.78125,-3444.78125,-3444.78515625,-3260.1328125,-3052.04296875,-2843.95703125],\"yaxis\":\"y\",\"type\":\"scatter\"}],\"layout\":{\"template\":{\"data\":{\"barpolar\":[{\"marker\":{\"line\":{\"color\":\"white\",\"width\":0.5},\"pattern\":{\"fillmode\":\"overlay\",\"size\":10,\"solidity\":0.2}},\"type\":\"barpolar\"}],\"bar\":[{\"error_x\":{\"color\":\"#2a3f5f\"},\"error_y\":{\"color\":\"#2a3f5f\"},\"marker\":{\"line\":{\"color\":\"white\",\"width\":0.5},\"pattern\":{\"fillmode\":\"overlay\",\"size\":10,\"solidity\":0.2}},\"type\":\"bar\"}],\"carpet\":[{\"aaxis\":{\"endlinecolor\":\"#2a3f5f\",\"gridcolor\":\"#C8D4E3\",\"linecolor\":\"#C8D4E3\",\"minorgridcolor\":\"#C8D4E3\",\"startlinecolor\":\"#2a3f5f\"},\"baxis\":{\"endlinecolor\":\"#2a3f5f\",\"gridcolor\":\"#C8D4E3\",\"linecolor\":\"#C8D4E3\",\"minorgridcolor\":\"#C8D4E3\",\"startlinecolor\":\"#2a3f5f\"},\"type\":\"carpet\"}],\"choropleth\":[{\"colorbar\":{\"outlinewidth\":0,\"ticks\":\"\"},\"type\":\"choropleth\"}],\"contourcarpet\":[{\"colorbar\":{\"outlinewidth\":0,\"ticks\":\"\"},\"type\":\"contourcarpet\"}],\"contour\":[{\"colorbar\":{\"outlinewidth\":0,\"ticks\":\"\"},\"colorscale\":[[0.0,\"#0d0887\"],[0.1111111111111111,\"#46039f\"],[0.2222222222222222,\"#7201a8\"],[0.3333333333333333,\"#9c179e\"],[0.4444444444444444,\"#bd3786\"],[0.5555555555555556,\"#d8576b\"],[0.6666666666666666,\"#ed7953\"],[0.7777777777777778,\"#fb9f3a\"],[0.8888888888888888,\"#fdca26\"],[1.0,\"#f0f921\"]],\"type\":\"contour\"}],\"heatmapgl\":[{\"colorbar\":{\"outlinewidth\":0,\"ticks\":\"\"},\"colorscale\":[[0.0,\"#0d0887\"],[0.1111111111111111,\"#46039f\"],[0.2222222222222222,\"#7201a8\"],[0.3333333333333333,\"#9c179e\"],[0.4444444444444444,\"#bd3786\"],[0.5555555555555556,\"#d8576b\"],[0.6666666666666666,\"#ed7953\"],[0.7777777777777778,\"#fb9f3a\"],[0.8888888888888888,\"#fdca26\"],[1.0,\"#f0f921\"]],\"type\":\"heatmapgl\"}],\"heatmap\":[{\"colorbar\":{\"outlinewidth\":0,\"ticks\":\"\"},\"colorscale\":[[0.0,\"#0d0887\"],[0.1111111111111111,\"#46039f\"],[0.2222222222222222,\"#7201a8\"],[0.3333333333333333,\"#9c179e\"],[0.4444444444444444,\"#bd3786\"],[0.5555555555555556,\"#d8576b\"],[0.6666666666666666,\"#ed7953\"],[0.7777777777777778,\"#fb9f3a\"],[0.8888888888888888,\"#fdca26\"],[1.0,\"#f0f921\"]],\"type\":\"heatmap\"}],\"histogram2dcontour\":[{\"colorbar\":{\"outlinewidth\":0,\"ticks\":\"\"},\"colorscale\":[[0.0,\"#0d0887\"],[0.1111111111111111,\"#46039f\"],[0.2222222222222222,\"#7201a8\"],[0.3333333333333333,\"#9c179e\"],[0.4444444444444444,\"#bd3786\"],[0.5555555555555556,\"#d8576b\"],[0.6666666666666666,\"#ed7953\"],[0.7777777777777778,\"#fb9f3a\"],[0.8888888888888888,\"#fdca26\"],[1.0,\"#f0f921\"]],\"type\":\"histogram2dcontour\"}],\"histogram2d\":[{\"colorbar\":{\"outlinewidth\":0,\"ticks\":\"\"},\"colorscale\":[[0.0,\"#0d0887\"],[0.1111111111111111,\"#46039f\"],[0.2222222222222222,\"#7201a8\"],[0.3333333333333333,\"#9c179e\"],[0.4444444444444444,\"#bd3786\"],[0.5555555555555556,\"#d8576b\"],[0.6666666666666666,\"#ed7953\"],[0.7777777777777778,\"#fb9f3a\"],[0.8888888888888888,\"#fdca26\"],[1.0,\"#f0f921\"]],\"type\":\"histogram2d\"}],\"histogram\":[{\"marker\":{\"pattern\":{\"fillmode\":\"overlay\",\"size\":10,\"solidity\":0.2}},\"type\":\"histogram\"}],\"mesh3d\":[{\"colorbar\":{\"outlinewidth\":0,\"ticks\":\"\"},\"type\":\"mesh3d\"}],\"parcoords\":[{\"line\":{\"colorbar\":{\"outlinewidth\":0,\"ticks\":\"\"}},\"type\":\"parcoords\"}],\"pie\":[{\"automargin\":true,\"type\":\"pie\"}],\"scatter3d\":[{\"line\":{\"colorbar\":{\"outlinewidth\":0,\"ticks\":\"\"}},\"marker\":{\"colorbar\":{\"outlinewidth\":0,\"ticks\":\"\"}},\"type\":\"scatter3d\"}],\"scattercarpet\":[{\"marker\":{\"colorbar\":{\"outlinewidth\":0,\"ticks\":\"\"}},\"type\":\"scattercarpet\"}],\"scattergeo\":[{\"marker\":{\"colorbar\":{\"outlinewidth\":0,\"ticks\":\"\"}},\"type\":\"scattergeo\"}],\"scattergl\":[{\"marker\":{\"colorbar\":{\"outlinewidth\":0,\"ticks\":\"\"}},\"type\":\"scattergl\"}],\"scattermapbox\":[{\"marker\":{\"colorbar\":{\"outlinewidth\":0,\"ticks\":\"\"}},\"type\":\"scattermapbox\"}],\"scatterpolargl\":[{\"marker\":{\"colorbar\":{\"outlinewidth\":0,\"ticks\":\"\"}},\"type\":\"scatterpolargl\"}],\"scatterpolar\":[{\"marker\":{\"colorbar\":{\"outlinewidth\":0,\"ticks\":\"\"}},\"type\":\"scatterpolar\"}],\"scatter\":[{\"fillpattern\":{\"fillmode\":\"overlay\",\"size\":10,\"solidity\":0.2},\"type\":\"scatter\"}],\"scatterternary\":[{\"marker\":{\"colorbar\":{\"outlinewidth\":0,\"ticks\":\"\"}},\"type\":\"scatterternary\"}],\"surface\":[{\"colorbar\":{\"outlinewidth\":0,\"ticks\":\"\"},\"colorscale\":[[0.0,\"#0d0887\"],[0.1111111111111111,\"#46039f\"],[0.2222222222222222,\"#7201a8\"],[0.3333333333333333,\"#9c179e\"],[0.4444444444444444,\"#bd3786\"],[0.5555555555555556,\"#d8576b\"],[0.6666666666666666,\"#ed7953\"],[0.7777777777777778,\"#fb9f3a\"],[0.8888888888888888,\"#fdca26\"],[1.0,\"#f0f921\"]],\"type\":\"surface\"}],\"table\":[{\"cells\":{\"fill\":{\"color\":\"#EBF0F8\"},\"line\":{\"color\":\"white\"}},\"header\":{\"fill\":{\"color\":\"#C8D4E3\"},\"line\":{\"color\":\"white\"}},\"type\":\"table\"}]},\"layout\":{\"annotationdefaults\":{\"arrowcolor\":\"#2a3f5f\",\"arrowhead\":0,\"arrowwidth\":1},\"autotypenumbers\":\"strict\",\"coloraxis\":{\"colorbar\":{\"outlinewidth\":0,\"ticks\":\"\"}},\"colorscale\":{\"diverging\":[[0,\"#8e0152\"],[0.1,\"#c51b7d\"],[0.2,\"#de77ae\"],[0.3,\"#f1b6da\"],[0.4,\"#fde0ef\"],[0.5,\"#f7f7f7\"],[0.6,\"#e6f5d0\"],[0.7,\"#b8e186\"],[0.8,\"#7fbc41\"],[0.9,\"#4d9221\"],[1,\"#276419\"]],\"sequential\":[[0.0,\"#0d0887\"],[0.1111111111111111,\"#46039f\"],[0.2222222222222222,\"#7201a8\"],[0.3333333333333333,\"#9c179e\"],[0.4444444444444444,\"#bd3786\"],[0.5555555555555556,\"#d8576b\"],[0.6666666666666666,\"#ed7953\"],[0.7777777777777778,\"#fb9f3a\"],[0.8888888888888888,\"#fdca26\"],[1.0,\"#f0f921\"]],\"sequentialminus\":[[0.0,\"#0d0887\"],[0.1111111111111111,\"#46039f\"],[0.2222222222222222,\"#7201a8\"],[0.3333333333333333,\"#9c179e\"],[0.4444444444444444,\"#bd3786\"],[0.5555555555555556,\"#d8576b\"],[0.6666666666666666,\"#ed7953\"],[0.7777777777777778,\"#fb9f3a\"],[0.8888888888888888,\"#fdca26\"],[1.0,\"#f0f921\"]]},\"colorway\":[\"#636efa\",\"#EF553B\",\"#00cc96\",\"#ab63fa\",\"#FFA15A\",\"#19d3f3\",\"#FF6692\",\"#B6E880\",\"#FF97FF\",\"#FECB52\"],\"font\":{\"color\":\"#2a3f5f\"},\"geo\":{\"bgcolor\":\"white\",\"lakecolor\":\"white\",\"landcolor\":\"white\",\"showlakes\":true,\"showland\":true,\"subunitcolor\":\"#C8D4E3\"},\"hoverlabel\":{\"align\":\"left\"},\"hovermode\":\"closest\",\"mapbox\":{\"style\":\"light\"},\"paper_bgcolor\":\"white\",\"plot_bgcolor\":\"white\",\"polar\":{\"angularaxis\":{\"gridcolor\":\"#EBF0F8\",\"linecolor\":\"#EBF0F8\",\"ticks\":\"\"},\"bgcolor\":\"white\",\"radialaxis\":{\"gridcolor\":\"#EBF0F8\",\"linecolor\":\"#EBF0F8\",\"ticks\":\"\"}},\"scene\":{\"xaxis\":{\"backgroundcolor\":\"white\",\"gridcolor\":\"#DFE8F3\",\"gridwidth\":2,\"linecolor\":\"#EBF0F8\",\"showbackground\":true,\"ticks\":\"\",\"zerolinecolor\":\"#EBF0F8\"},\"yaxis\":{\"backgroundcolor\":\"white\",\"gridcolor\":\"#DFE8F3\",\"gridwidth\":2,\"linecolor\":\"#EBF0F8\",\"showbackground\":true,\"ticks\":\"\",\"zerolinecolor\":\"#EBF0F8\"},\"zaxis\":{\"backgroundcolor\":\"white\",\"gridcolor\":\"#DFE8F3\",\"gridwidth\":2,\"linecolor\":\"#EBF0F8\",\"showbackground\":true,\"ticks\":\"\",\"zerolinecolor\":\"#EBF0F8\"}},\"shapedefaults\":{\"line\":{\"color\":\"#2a3f5f\"}},\"ternary\":{\"aaxis\":{\"gridcolor\":\"#DFE8F3\",\"linecolor\":\"#A2B1C6\",\"ticks\":\"\"},\"baxis\":{\"gridcolor\":\"#DFE8F3\",\"linecolor\":\"#A2B1C6\",\"ticks\":\"\"},\"bgcolor\":\"white\",\"caxis\":{\"gridcolor\":\"#DFE8F3\",\"linecolor\":\"#A2B1C6\",\"ticks\":\"\"}},\"title\":{\"x\":0.05},\"xaxis\":{\"automargin\":true,\"gridcolor\":\"#EBF0F8\",\"linecolor\":\"#EBF0F8\",\"ticks\":\"\",\"title\":{\"standoff\":15},\"zerolinecolor\":\"#EBF0F8\",\"zerolinewidth\":2},\"yaxis\":{\"automargin\":true,\"gridcolor\":\"#EBF0F8\",\"linecolor\":\"#EBF0F8\",\"ticks\":\"\",\"title\":{\"standoff\":15},\"zerolinecolor\":\"#EBF0F8\",\"zerolinewidth\":2}}},\"xaxis\":{\"anchor\":\"y\",\"domain\":[0.0,1.0],\"title\":{\"text\":\"Employment income\"},\"tickformat\":\",.0f\",\"tickprefix\":\"\\\\u00a3\"},\"yaxis\":{\"anchor\":\"x\",\"domain\":[0.0,1.0],\"title\":{\"text\":\"Change to annual net income\"},\"tickmode\":\"array\",\"tickvals\":[-10000,-5000,0,5000,10000],\"ticktext\":[\"-\\\\u00a310,000\",\"-\\\\u00a35,000\",\"\\\\u00a30\",\"+\\\\u00a35,000\",\"+\\\\u00a310,000\"],\"range\":[-10000,10000]},\"legend\":{\"title\":{\"text\":\"Policy\"},\"tracegroupgap\":0},\"margin\":{\"t\":60},\"title\":{\"text\":\"Figure 11: Change to annual net income by UBI policy and income (single adult, no children)\"},\"shapes\":[{\"line\":{\"color\":\"grey\",\"width\":1},\"type\":\"line\",\"x0\":0,\"x1\":1,\"xref\":\"paper\",\"y0\":0,\"y1\":0,\"yref\":\"y\"}],\"font\":{\"family\":\"Roboto Serif\",\"color\":\"black\"},\"images\":[{\"sizex\":0.2,\"sizey\":0.2,\"source\":\"https://raw.githubusercontent.com/PolicyEngine/policyengine-app/master/src/images/logos/policyengine/blue.png\",\"x\":1,\"xanchor\":\"right\",\"xref\":\"paper\",\"y\":-0.15,\"yanchor\":\"bottom\",\"yref\":\"paper\"}],\"height\":600,\"width\":800,\"modebar\":{\"bgcolor\":\"rgba(0,0,0,0)\",\"color\":\"rgba(0,0,0,0)\"}}}'"
      ]
     },
     "execution_count": 14,
     "metadata": {},
     "output_type": "execute_result"
    }
   ],
   "source": [
    "import plotly.io as pio\n",
    "from policyengine_core.charts import *\n",
    "\n",
    "H1 = \"Single adult, no children\"\n",
    "H2 = \"Married couple, two children\"\n",
    "H3 = \"Pensioner couple, no children\"\n",
    "\n",
    "def plot(household_name: str, title):\n",
    "    fig = px.line(\n",
    "        df[df[\"Household type\"] == household_name], \n",
    "        x=\"Earnings\", \n",
    "        y=\"Net income\", \n",
    "        color=\"Policy\",\n",
    "        color_discrete_sequence=BLUE_COLOUR_SCALE,\n",
    "    ).update_layout(\n",
    "        yaxis_tickmode=\"array\",\n",
    "        yaxis_tickvals=[-10_000, -5_000, 0, 5_000, 10_000],\n",
    "        yaxis_ticktext=[\"-£10,000\", \"-£5,000\", \"£0\", \"+£5,000\", \"+£10,000\"],\n",
    "        yaxis_range=(-10_000, 10_000),\n",
    "        xaxis_tickformat=\",.0f\",\n",
    "        xaxis_tickprefix=\"£\",\n",
    "        yaxis_title=\"Change to annual net income\",\n",
    "        xaxis_title=\"Employment income\",\n",
    "        title=title,\n",
    "    )\n",
    "    fig.add_shape(\n",
    "            type=\"line\",\n",
    "            xref=\"paper\",\n",
    "            yref=\"y\",\n",
    "            x0=0,\n",
    "            y0=0,\n",
    "            x1=1,\n",
    "            y1=0,\n",
    "            line=dict(color=\"grey\", width=1),\n",
    "        )\n",
    "    return format_fig(fig)\n",
    "plot(H1, title=\"Figure 11: Change to annual net income by UBI policy and income (single adult, no children)\").to_json()"
   ]
  },
  {
   "cell_type": "markdown",
   "metadata": {},
   "source": [
    "For a married couple with two children, one of whom has earnings, the net income landscape is more generous. All UBI schemes leave them better off or roughly equal at virtually any earnings level, starting with a bonus over £5,000 which decreases non-monotonically.\n"
   ]
  },
  {
   "cell_type": "code",
   "execution_count": null,
   "metadata": {
    "tags": [
     "hide-input"
    ]
   },
   "outputs": [
    {
     "data": {
      "text/plain": [
       "'{\"data\":[{\"hovertemplate\":\"Policy=\\\\u00a3200/month<br>Earnings=%{x}<br>Net income=%{y}<extra></extra>\",\"legendgroup\":\"\\\\u00a3200/month\",\"line\":{\"color\":\"#D8E6F3\",\"dash\":\"solid\"},\"marker\":{\"symbol\":\"circle\"},\"mode\":\"lines\",\"name\":\"\\\\u00a3200/month\",\"orientation\":\"v\",\"showlegend\":true,\"x\":[0.0,1040.44580078125,2080.8916015625,3121.33740234375,4161.783203125,5202.22900390625,6242.6748046875,7283.12060546875,8323.56640625,9364.0126953125,10404.4580078125,11444.904296875,12485.349609375,13525.7958984375,14566.2412109375,15606.6875,16647.1328125,17687.578125,18728.025390625,19768.470703125,20808.916015625,21849.361328125,22889.80859375,23930.251953125,24970.69921875,26011.14453125,27051.591796875,28092.03515625,29132.482421875,30172.927734375,31213.375,32253.818359375,33294.265625,34334.7109375,35375.15625,36415.6015625,37456.05078125,38496.49609375,39536.94140625,40577.3828125,41617.83203125,42658.27734375,43698.72265625,44739.16796875,45779.6171875,46820.0625,47860.50390625,48900.94921875,49941.3984375,50981.84375,52022.2890625,53062.73828125,54103.18359375,55143.62890625,56184.0703125,57224.51953125,58264.96484375,59305.41015625,60345.85546875,61386.3046875,62426.75,63467.19140625,64507.63671875,65548.0859375,66588.53125,67628.9765625,68669.421875,69709.8671875,70750.3125,71790.7578125,72831.203125,73871.6484375,74912.1015625,75952.546875,76992.9921875,78033.4375,79073.8828125,80114.328125,81154.765625,82195.2109375,83235.6640625,84276.109375,85316.5546875,86357.0,87397.4453125,88437.890625,89478.3359375,90518.7890625,91559.234375,92599.6796875,93640.125,94680.5703125,95721.0078125,96761.453125,97801.8984375,98842.3515625,99882.796875,100923.2421875,101963.6875,103004.1328125],\"xaxis\":\"x\",\"y\":[4800.0,4800.0,4800.0009765625,4600.0703125,4374.29296875,4148.515625,3922.740234375,3920.87890625,4202.033203125,4100.435546875,3998.83203125,3897.236328125,3795.634765625,3694.037109375,3658.701171875,3650.73828125,3642.779296875,3634.8203125,3626.859375,3618.900390625,3610.94140625,3602.982421875,3595.021484375,3587.0625,3579.1015625,3571.142578125,3563.1875,3555.224609375,3547.26953125,3539.30859375,3531.345703125,3523.388671875,3515.4296875,3507.46484375,3499.5078125,3481.55859375,3084.46875,2687.38671875,2290.296875,1893.21484375,1803.8984375,1786.2109375,1768.51953125,1750.83203125,1733.14453125,1715.45703125,1697.7734375,1680.0859375,1662.39453125,1840.5,1804.08203125,1767.6640625,1731.25,1694.83203125,1658.4140625,1622.0,1585.5859375,1549.16796875,1512.7578125,1476.33984375,1439.921875,1403.50390625,1367.09375,1330.6796875,1294.2578125,1257.84375,1221.4296875,1185.015625,1148.59765625,1112.18359375,1075.76953125,1039.35546875,1002.9375,966.51953125,930.1015625,893.6875,857.2734375,820.85546875,784.4453125,748.02734375,711.61328125,675.1953125,638.78125,602.3671875,565.953125,529.53515625,493.12109375,456.703125,420.28515625,383.87109375,347.45703125,311.04296875,274.625,238.20703125,201.79296875,165.375,128.953125,76.390625,21.765625,-32.859375],\"yaxis\":\"y\",\"type\":\"scatter\"},{\"hovertemplate\":\"Policy=\\\\u00a3300/month<br>Earnings=%{x}<br>Net income=%{y}<extra></extra>\",\"legendgroup\":\"\\\\u00a3300/month\",\"line\":{\"color\":\"#2C6496\",\"dash\":\"solid\"},\"marker\":{\"symbol\":\"circle\"},\"mode\":\"lines\",\"name\":\"\\\\u00a3300/month\",\"orientation\":\"v\",\"showlegend\":true,\"x\":[0.0,1040.44580078125,2080.8916015625,3121.33740234375,4161.783203125,5202.22900390625,6242.6748046875,7283.12060546875,8323.56640625,9364.0126953125,10404.4580078125,11444.904296875,12485.349609375,13525.7958984375,14566.2412109375,15606.6875,16647.1328125,17687.578125,18728.025390625,19768.470703125,20808.916015625,21849.361328125,22889.80859375,23930.251953125,24970.69921875,26011.14453125,27051.591796875,28092.03515625,29132.482421875,30172.927734375,31213.375,32253.818359375,33294.265625,34334.7109375,35375.15625,36415.6015625,37456.05078125,38496.49609375,39536.94140625,40577.3828125,41617.83203125,42658.27734375,43698.72265625,44739.16796875,45779.6171875,46820.0625,47860.50390625,48900.94921875,49941.3984375,50981.84375,52022.2890625,53062.73828125,54103.18359375,55143.62890625,56184.0703125,57224.51953125,58264.96484375,59305.41015625,60345.85546875,61386.3046875,62426.75,63467.19140625,64507.63671875,65548.0859375,66588.53125,67628.9765625,68669.421875,69709.8671875,70750.3125,71790.7578125,72831.203125,73871.6484375,74912.1015625,75952.546875,76992.9921875,78033.4375,79073.8828125,80114.328125,81154.765625,82195.2109375,83235.6640625,84276.109375,85316.5546875,86357.0,87397.4453125,88437.890625,89478.3359375,90518.7890625,91559.234375,92599.6796875,93640.125,94680.5703125,95721.0078125,96761.453125,97801.8984375,98842.3515625,99882.796875,100923.2421875,101963.6875,103004.1328125],\"xaxis\":\"x\",\"y\":[7200.0,6938.84765625,6677.6962890625,6416.544921875,6155.392578125,5894.240234375,5633.087890625,5595.853515625,5906.947265625,6142.333984375,6024.81640625,5907.30078125,5789.779296875,5672.259765625,5621.005859375,5597.125,5573.248046875,5549.37109375,5525.490234375,5501.615234375,5477.732421875,5453.859375,5429.978515625,5406.099609375,5382.220703125,5358.345703125,5334.46484375,5310.5859375,5286.7109375,5262.83203125,5238.955078125,5215.072265625,5191.19921875,5167.31640625,5143.4375,5109.5703125,4696.55859375,4283.55859375,3870.5546875,3457.55078125,3044.546875,2631.5390625,2218.53515625,2152.30078125,2099.23828125,2046.17578125,1993.11328125,1940.0546875,1886.98828125,2085.9296875,2032.8671875,1979.80078125,1926.73828125,1873.671875,1820.609375,1767.546875,1714.4921875,1661.421875,1608.3671875,1555.30078125,1502.234375,1449.16796875,1396.11328125,1343.046875,1289.984375,1236.921875,1183.859375,1130.796875,1077.734375,1024.671875,971.60546875,918.546875,865.484375,812.41796875,759.35546875,706.29296875,653.23046875,600.16796875,547.109375,494.04296875,440.98046875,387.91796875,334.85546875,281.796875,228.734375,175.671875,122.60546875,69.5390625,16.4765625,-36.58203125,-89.64453125,-142.70703125,-195.7734375,-248.83203125,-301.8984375,-354.96875,-408.03125,-276.4375,-121.4140625,33.609375],\"yaxis\":\"y\",\"type\":\"scatter\"},{\"hovertemplate\":\"Policy=\\\\u00a3400/month<br>Earnings=%{x}<br>Net income=%{y}<extra></extra>\",\"legendgroup\":\"\\\\u00a3400/month\",\"line\":{\"color\":\"#17354F\",\"dash\":\"solid\"},\"marker\":{\"symbol\":\"circle\"},\"mode\":\"lines\",\"name\":\"\\\\u00a3400/month\",\"orientation\":\"v\",\"showlegend\":true,\"x\":[0.0,1040.44580078125,2080.8916015625,3121.33740234375,4161.783203125,5202.22900390625,6242.6748046875,7283.12060546875,8323.56640625,9364.0126953125,10404.4580078125,11444.904296875,12485.349609375,13525.7958984375,14566.2412109375,15606.6875,16647.1328125,17687.578125,18728.025390625,19768.470703125,20808.916015625,21849.361328125,22889.80859375,23930.251953125,24970.69921875,26011.14453125,27051.591796875,28092.03515625,29132.482421875,30172.927734375,31213.375,32253.818359375,33294.265625,34334.7109375,35375.15625,36415.6015625,37456.05078125,38496.49609375,39536.94140625,40577.3828125,41617.83203125,42658.27734375,43698.72265625,44739.16796875,45779.6171875,46820.0625,47860.50390625,48900.94921875,49941.3984375,50981.84375,52022.2890625,53062.73828125,54103.18359375,55143.62890625,56184.0703125,57224.51953125,58264.96484375,59305.41015625,60345.85546875,61386.3046875,62426.75,63467.19140625,64507.63671875,65548.0859375,66588.53125,67628.9765625,68669.421875,69709.8671875,70750.3125,71790.7578125,72831.203125,73871.6484375,74912.1015625,75952.546875,76992.9921875,78033.4375,79073.8828125,80114.328125,81154.765625,82195.2109375,83235.6640625,84276.109375,85316.5546875,86357.0,87397.4453125,88437.890625,89478.3359375,90518.7890625,91559.234375,92599.6796875,93640.125,94680.5703125,95721.0078125,96761.453125,97801.8984375,98842.3515625,99882.796875,100923.2421875,101963.6875,103004.1328125],\"xaxis\":\"x\",\"y\":[9600.0,9273.30078125,8946.6005859375,8619.900390625,8293.19921875,7966.5,7639.80078125,7537.015625,7782.5625,8028.107421875,8129.84765625,7982.8359375,7835.81640625,7688.806640625,7608.0546875,7554.677734375,7501.302734375,7447.92578125,7394.552734375,7341.177734375,7287.8046875,7234.4296875,7181.052734375,7127.67578125,7074.302734375,7020.927734375,6967.55078125,6914.1796875,6860.8046875,6807.42578125,6754.056640625,6700.677734375,6647.3046875,6593.92578125,6540.5546875,6477.1875,6034.68359375,5592.18359375,5149.68359375,4707.18359375,4264.68359375,3822.1796875,3379.67578125,2937.171875,2494.671875,2052.16796875,1609.671875,1259.29296875,1140.6796875,1355.22265625,1355.22265625,1355.22265625,1355.2265625,1355.2109375,1355.21875,1355.21484375,1355.2265625,1355.21875,1355.22265625,1355.21875,1355.21875,1355.21484375,1355.22265625,1355.21875,1355.21875,1355.21875,1355.21875,1355.22265625,1355.22265625,1355.21875,1355.21875,1355.22265625,1355.21875,1355.21875,1355.21875,1355.21875,1355.21875,1355.21875,1355.22265625,1355.21875,1355.22265625,1355.21875,1355.21875,1355.22265625,1355.22265625,1355.22265625,1355.21875,1355.21875,1355.21484375,1355.21875,1355.22265625,1355.22265625,1355.21875,1355.2265625,1355.21875,1355.21875,1355.21875,1539.8671875,1747.9609375,1956.046875],\"yaxis\":\"y\",\"type\":\"scatter\"}],\"layout\":{\"template\":{\"data\":{\"barpolar\":[{\"marker\":{\"line\":{\"color\":\"white\",\"width\":0.5},\"pattern\":{\"fillmode\":\"overlay\",\"size\":10,\"solidity\":0.2}},\"type\":\"barpolar\"}],\"bar\":[{\"error_x\":{\"color\":\"#2a3f5f\"},\"error_y\":{\"color\":\"#2a3f5f\"},\"marker\":{\"line\":{\"color\":\"white\",\"width\":0.5},\"pattern\":{\"fillmode\":\"overlay\",\"size\":10,\"solidity\":0.2}},\"type\":\"bar\"}],\"carpet\":[{\"aaxis\":{\"endlinecolor\":\"#2a3f5f\",\"gridcolor\":\"#C8D4E3\",\"linecolor\":\"#C8D4E3\",\"minorgridcolor\":\"#C8D4E3\",\"startlinecolor\":\"#2a3f5f\"},\"baxis\":{\"endlinecolor\":\"#2a3f5f\",\"gridcolor\":\"#C8D4E3\",\"linecolor\":\"#C8D4E3\",\"minorgridcolor\":\"#C8D4E3\",\"startlinecolor\":\"#2a3f5f\"},\"type\":\"carpet\"}],\"choropleth\":[{\"colorbar\":{\"outlinewidth\":0,\"ticks\":\"\"},\"type\":\"choropleth\"}],\"contourcarpet\":[{\"colorbar\":{\"outlinewidth\":0,\"ticks\":\"\"},\"type\":\"contourcarpet\"}],\"contour\":[{\"colorbar\":{\"outlinewidth\":0,\"ticks\":\"\"},\"colorscale\":[[0.0,\"#0d0887\"],[0.1111111111111111,\"#46039f\"],[0.2222222222222222,\"#7201a8\"],[0.3333333333333333,\"#9c179e\"],[0.4444444444444444,\"#bd3786\"],[0.5555555555555556,\"#d8576b\"],[0.6666666666666666,\"#ed7953\"],[0.7777777777777778,\"#fb9f3a\"],[0.8888888888888888,\"#fdca26\"],[1.0,\"#f0f921\"]],\"type\":\"contour\"}],\"heatmapgl\":[{\"colorbar\":{\"outlinewidth\":0,\"ticks\":\"\"},\"colorscale\":[[0.0,\"#0d0887\"],[0.1111111111111111,\"#46039f\"],[0.2222222222222222,\"#7201a8\"],[0.3333333333333333,\"#9c179e\"],[0.4444444444444444,\"#bd3786\"],[0.5555555555555556,\"#d8576b\"],[0.6666666666666666,\"#ed7953\"],[0.7777777777777778,\"#fb9f3a\"],[0.8888888888888888,\"#fdca26\"],[1.0,\"#f0f921\"]],\"type\":\"heatmapgl\"}],\"heatmap\":[{\"colorbar\":{\"outlinewidth\":0,\"ticks\":\"\"},\"colorscale\":[[0.0,\"#0d0887\"],[0.1111111111111111,\"#46039f\"],[0.2222222222222222,\"#7201a8\"],[0.3333333333333333,\"#9c179e\"],[0.4444444444444444,\"#bd3786\"],[0.5555555555555556,\"#d8576b\"],[0.6666666666666666,\"#ed7953\"],[0.7777777777777778,\"#fb9f3a\"],[0.8888888888888888,\"#fdca26\"],[1.0,\"#f0f921\"]],\"type\":\"heatmap\"}],\"histogram2dcontour\":[{\"colorbar\":{\"outlinewidth\":0,\"ticks\":\"\"},\"colorscale\":[[0.0,\"#0d0887\"],[0.1111111111111111,\"#46039f\"],[0.2222222222222222,\"#7201a8\"],[0.3333333333333333,\"#9c179e\"],[0.4444444444444444,\"#bd3786\"],[0.5555555555555556,\"#d8576b\"],[0.6666666666666666,\"#ed7953\"],[0.7777777777777778,\"#fb9f3a\"],[0.8888888888888888,\"#fdca26\"],[1.0,\"#f0f921\"]],\"type\":\"histogram2dcontour\"}],\"histogram2d\":[{\"colorbar\":{\"outlinewidth\":0,\"ticks\":\"\"},\"colorscale\":[[0.0,\"#0d0887\"],[0.1111111111111111,\"#46039f\"],[0.2222222222222222,\"#7201a8\"],[0.3333333333333333,\"#9c179e\"],[0.4444444444444444,\"#bd3786\"],[0.5555555555555556,\"#d8576b\"],[0.6666666666666666,\"#ed7953\"],[0.7777777777777778,\"#fb9f3a\"],[0.8888888888888888,\"#fdca26\"],[1.0,\"#f0f921\"]],\"type\":\"histogram2d\"}],\"histogram\":[{\"marker\":{\"pattern\":{\"fillmode\":\"overlay\",\"size\":10,\"solidity\":0.2}},\"type\":\"histogram\"}],\"mesh3d\":[{\"colorbar\":{\"outlinewidth\":0,\"ticks\":\"\"},\"type\":\"mesh3d\"}],\"parcoords\":[{\"line\":{\"colorbar\":{\"outlinewidth\":0,\"ticks\":\"\"}},\"type\":\"parcoords\"}],\"pie\":[{\"automargin\":true,\"type\":\"pie\"}],\"scatter3d\":[{\"line\":{\"colorbar\":{\"outlinewidth\":0,\"ticks\":\"\"}},\"marker\":{\"colorbar\":{\"outlinewidth\":0,\"ticks\":\"\"}},\"type\":\"scatter3d\"}],\"scattercarpet\":[{\"marker\":{\"colorbar\":{\"outlinewidth\":0,\"ticks\":\"\"}},\"type\":\"scattercarpet\"}],\"scattergeo\":[{\"marker\":{\"colorbar\":{\"outlinewidth\":0,\"ticks\":\"\"}},\"type\":\"scattergeo\"}],\"scattergl\":[{\"marker\":{\"colorbar\":{\"outlinewidth\":0,\"ticks\":\"\"}},\"type\":\"scattergl\"}],\"scattermapbox\":[{\"marker\":{\"colorbar\":{\"outlinewidth\":0,\"ticks\":\"\"}},\"type\":\"scattermapbox\"}],\"scatterpolargl\":[{\"marker\":{\"colorbar\":{\"outlinewidth\":0,\"ticks\":\"\"}},\"type\":\"scatterpolargl\"}],\"scatterpolar\":[{\"marker\":{\"colorbar\":{\"outlinewidth\":0,\"ticks\":\"\"}},\"type\":\"scatterpolar\"}],\"scatter\":[{\"fillpattern\":{\"fillmode\":\"overlay\",\"size\":10,\"solidity\":0.2},\"type\":\"scatter\"}],\"scatterternary\":[{\"marker\":{\"colorbar\":{\"outlinewidth\":0,\"ticks\":\"\"}},\"type\":\"scatterternary\"}],\"surface\":[{\"colorbar\":{\"outlinewidth\":0,\"ticks\":\"\"},\"colorscale\":[[0.0,\"#0d0887\"],[0.1111111111111111,\"#46039f\"],[0.2222222222222222,\"#7201a8\"],[0.3333333333333333,\"#9c179e\"],[0.4444444444444444,\"#bd3786\"],[0.5555555555555556,\"#d8576b\"],[0.6666666666666666,\"#ed7953\"],[0.7777777777777778,\"#fb9f3a\"],[0.8888888888888888,\"#fdca26\"],[1.0,\"#f0f921\"]],\"type\":\"surface\"}],\"table\":[{\"cells\":{\"fill\":{\"color\":\"#EBF0F8\"},\"line\":{\"color\":\"white\"}},\"header\":{\"fill\":{\"color\":\"#C8D4E3\"},\"line\":{\"color\":\"white\"}},\"type\":\"table\"}]},\"layout\":{\"annotationdefaults\":{\"arrowcolor\":\"#2a3f5f\",\"arrowhead\":0,\"arrowwidth\":1},\"autotypenumbers\":\"strict\",\"coloraxis\":{\"colorbar\":{\"outlinewidth\":0,\"ticks\":\"\"}},\"colorscale\":{\"diverging\":[[0,\"#8e0152\"],[0.1,\"#c51b7d\"],[0.2,\"#de77ae\"],[0.3,\"#f1b6da\"],[0.4,\"#fde0ef\"],[0.5,\"#f7f7f7\"],[0.6,\"#e6f5d0\"],[0.7,\"#b8e186\"],[0.8,\"#7fbc41\"],[0.9,\"#4d9221\"],[1,\"#276419\"]],\"sequential\":[[0.0,\"#0d0887\"],[0.1111111111111111,\"#46039f\"],[0.2222222222222222,\"#7201a8\"],[0.3333333333333333,\"#9c179e\"],[0.4444444444444444,\"#bd3786\"],[0.5555555555555556,\"#d8576b\"],[0.6666666666666666,\"#ed7953\"],[0.7777777777777778,\"#fb9f3a\"],[0.8888888888888888,\"#fdca26\"],[1.0,\"#f0f921\"]],\"sequentialminus\":[[0.0,\"#0d0887\"],[0.1111111111111111,\"#46039f\"],[0.2222222222222222,\"#7201a8\"],[0.3333333333333333,\"#9c179e\"],[0.4444444444444444,\"#bd3786\"],[0.5555555555555556,\"#d8576b\"],[0.6666666666666666,\"#ed7953\"],[0.7777777777777778,\"#fb9f3a\"],[0.8888888888888888,\"#fdca26\"],[1.0,\"#f0f921\"]]},\"colorway\":[\"#636efa\",\"#EF553B\",\"#00cc96\",\"#ab63fa\",\"#FFA15A\",\"#19d3f3\",\"#FF6692\",\"#B6E880\",\"#FF97FF\",\"#FECB52\"],\"font\":{\"color\":\"#2a3f5f\"},\"geo\":{\"bgcolor\":\"white\",\"lakecolor\":\"white\",\"landcolor\":\"white\",\"showlakes\":true,\"showland\":true,\"subunitcolor\":\"#C8D4E3\"},\"hoverlabel\":{\"align\":\"left\"},\"hovermode\":\"closest\",\"mapbox\":{\"style\":\"light\"},\"paper_bgcolor\":\"white\",\"plot_bgcolor\":\"white\",\"polar\":{\"angularaxis\":{\"gridcolor\":\"#EBF0F8\",\"linecolor\":\"#EBF0F8\",\"ticks\":\"\"},\"bgcolor\":\"white\",\"radialaxis\":{\"gridcolor\":\"#EBF0F8\",\"linecolor\":\"#EBF0F8\",\"ticks\":\"\"}},\"scene\":{\"xaxis\":{\"backgroundcolor\":\"white\",\"gridcolor\":\"#DFE8F3\",\"gridwidth\":2,\"linecolor\":\"#EBF0F8\",\"showbackground\":true,\"ticks\":\"\",\"zerolinecolor\":\"#EBF0F8\"},\"yaxis\":{\"backgroundcolor\":\"white\",\"gridcolor\":\"#DFE8F3\",\"gridwidth\":2,\"linecolor\":\"#EBF0F8\",\"showbackground\":true,\"ticks\":\"\",\"zerolinecolor\":\"#EBF0F8\"},\"zaxis\":{\"backgroundcolor\":\"white\",\"gridcolor\":\"#DFE8F3\",\"gridwidth\":2,\"linecolor\":\"#EBF0F8\",\"showbackground\":true,\"ticks\":\"\",\"zerolinecolor\":\"#EBF0F8\"}},\"shapedefaults\":{\"line\":{\"color\":\"#2a3f5f\"}},\"ternary\":{\"aaxis\":{\"gridcolor\":\"#DFE8F3\",\"linecolor\":\"#A2B1C6\",\"ticks\":\"\"},\"baxis\":{\"gridcolor\":\"#DFE8F3\",\"linecolor\":\"#A2B1C6\",\"ticks\":\"\"},\"bgcolor\":\"white\",\"caxis\":{\"gridcolor\":\"#DFE8F3\",\"linecolor\":\"#A2B1C6\",\"ticks\":\"\"}},\"title\":{\"x\":0.05},\"xaxis\":{\"automargin\":true,\"gridcolor\":\"#EBF0F8\",\"linecolor\":\"#EBF0F8\",\"ticks\":\"\",\"title\":{\"standoff\":15},\"zerolinecolor\":\"#EBF0F8\",\"zerolinewidth\":2},\"yaxis\":{\"automargin\":true,\"gridcolor\":\"#EBF0F8\",\"linecolor\":\"#EBF0F8\",\"ticks\":\"\",\"title\":{\"standoff\":15},\"zerolinecolor\":\"#EBF0F8\",\"zerolinewidth\":2}}},\"xaxis\":{\"anchor\":\"y\",\"domain\":[0.0,1.0],\"title\":{\"text\":\"Employment income\"},\"tickformat\":\",.0f\",\"tickprefix\":\"\\\\u00a3\"},\"yaxis\":{\"anchor\":\"x\",\"domain\":[0.0,1.0],\"title\":{\"text\":\"Change to annual net income\"},\"tickmode\":\"array\",\"tickvals\":[-10000,-5000,0,5000,10000],\"ticktext\":[\"-\\\\u00a310,000\",\"-\\\\u00a35,000\",\"\\\\u00a30\",\"+\\\\u00a35,000\",\"+\\\\u00a310,000\"],\"range\":[-10000,10000]},\"legend\":{\"title\":{\"text\":\"Policy\"},\"tracegroupgap\":0},\"margin\":{\"t\":60},\"title\":{\"text\":\"Figure 12: Change to annual net income by UBI policy and income (married couple, two children)\"},\"shapes\":[{\"line\":{\"color\":\"grey\",\"width\":1},\"type\":\"line\",\"x0\":0,\"x1\":1,\"xref\":\"paper\",\"y0\":0,\"y1\":0,\"yref\":\"y\"}],\"font\":{\"family\":\"Roboto Serif\",\"color\":\"black\"},\"images\":[{\"sizex\":0.2,\"sizey\":0.2,\"source\":\"https://raw.githubusercontent.com/PolicyEngine/policyengine-app/master/src/images/logos/policyengine/blue.png\",\"x\":1,\"xanchor\":\"right\",\"xref\":\"paper\",\"y\":-0.15,\"yanchor\":\"bottom\",\"yref\":\"paper\"}],\"height\":600,\"width\":800,\"modebar\":{\"bgcolor\":\"rgba(0,0,0,0)\",\"color\":\"rgba(0,0,0,0)\"}}}'"
      ]
     },
     "execution_count": 15,
     "metadata": {},
     "output_type": "execute_result"
    }
   ],
   "source": [
    "plot(H2, title=\"Figure 12: Change to annual net income by UBI policy and income (married couple, two children)\").to_json()"
   ]
  },
  {
   "cell_type": "markdown",
   "metadata": {},
   "source": [
    "For a pensioner couple, one of whom has income,[^11] the net impact of the basic income policies varies significantly with income. For households with income under £100,000, all of the policies leave them better off, primarily because Pension Credit compensates pensioners for any Income Tax rises. The Guarantee Credit element of Pension Credit tops up pensioner incomes to a minimum level, and the post-tax income definition used means that pensioners are guaranteed to be better off: it deducts income tax payments (meaning that it shields from the broad-based tax rises in each policy) and does not include basic income payments. However, after pensioner income rises out of the range in which Guarantee Credit operates (around £12,500), the gains from the UBI policies diminish.\n",
    "\n",
    "[^11]: We plot based on earnings, but net income responds similarly to earnings as State Pension.\n"
   ]
  },
  {
   "cell_type": "code",
   "execution_count": null,
   "metadata": {
    "tags": [
     "hide-input"
    ]
   },
   "outputs": [
    {
     "data": {
      "text/plain": [
       "'{\"data\":[{\"hovertemplate\":\"Policy=\\\\u00a3200/month<br>Earnings=%{x}<br>Net income=%{y}<extra></extra>\",\"legendgroup\":\"\\\\u00a3200/month\",\"line\":{\"color\":\"#D8E6F3\",\"dash\":\"solid\"},\"marker\":{\"symbol\":\"circle\"},\"mode\":\"lines\",\"name\":\"\\\\u00a3200/month\",\"orientation\":\"v\",\"showlegend\":true,\"x\":[0.0,1040.44580078125,2080.8916015625,3121.33740234375,4161.783203125,5202.22900390625,6242.6748046875,7283.12060546875,8323.56640625,9364.0126953125,10404.4580078125,11444.904296875,12485.349609375,13525.7958984375,14566.2412109375,15606.6875,16647.1328125,17687.578125,18728.025390625,19768.470703125,20808.916015625,21849.361328125,22889.80859375,23930.251953125,24970.69921875,26011.14453125,27051.591796875,28092.03515625,29132.482421875,30172.927734375,31213.375,32253.818359375,33294.265625,34334.7109375,35375.15625,36415.6015625,37456.05078125,38496.49609375,39536.94140625,40577.3828125,41617.83203125,42658.27734375,43698.72265625,44739.16796875,45779.6171875,46820.0625,47860.50390625,48900.94921875,49941.3984375,50981.84375,52022.2890625,53062.73828125,54103.18359375,55143.62890625,56184.0703125,57224.51953125,58264.96484375,59305.41015625,60345.85546875,61386.3046875,62426.75,63467.19140625,64507.63671875,65548.0859375,66588.53125,67628.9765625,68669.421875,69709.8671875,70750.3125,71790.7578125,72831.203125,73871.6484375,74912.1015625,75952.546875,76992.9921875,78033.4375,79073.8828125,80114.328125,81154.765625,82195.2109375,83235.6640625,84276.109375,85316.5546875,86357.0,87397.4453125,88437.890625,89478.3359375,90518.7890625,91559.234375,92599.6796875,93640.125,94680.5703125,95721.0078125,96761.453125,97801.8984375,98842.3515625,99882.796875,100923.2421875,101963.6875,103004.1328125],\"xaxis\":\"x\",\"y\":[4800.0,4800.0,4799.998046875,4800.0,4800.0,4800.0,4800.0,4800.0,4800.0,4800.001953125,4800.0,4800.0,4799.998046875,4521.0263671875,3985.1083984375,3485.6943359375,3257.0390625,3135.8984375,2792.341796875,2448.787109375,2157.6484375,2139.9609375,2122.2734375,2104.5859375,2086.8984375,2069.208984375,2051.5234375,2033.833984375,2016.150390625,1998.462890625,1980.7734375,1963.0859375,1945.3984375,1927.708984375,1910.0234375,1892.3359375,1874.6484375,1856.9609375,1839.26953125,1821.5859375,1803.8984375,1786.2109375,1768.5234375,1750.83203125,1733.14453125,1715.45703125,1697.7734375,1680.0859375,1662.3984375,1840.49609375,1804.078125,1767.66796875,1731.25,1694.83203125,1658.41796875,1622.00390625,1585.58984375,1549.171875,1512.75390625,1476.33984375,1439.921875,1403.5078125,1367.09765625,1330.6796875,1294.265625,1257.84765625,1221.43359375,1185.015625,1148.6015625,1112.1875,1075.76953125,1039.35546875,1002.93359375,966.51953125,930.1015625,893.6875,857.2734375,820.85546875,784.4453125,748.03125,711.609375,675.1953125,638.77734375,602.36328125,565.9453125,529.53125,493.1171875,456.703125,420.2890625,383.8671875,347.453125,311.0390625,274.6171875,238.203125,201.796875,165.3828125,128.9609375,76.390625,21.765625,-32.859375],\"yaxis\":\"y\",\"type\":\"scatter\"},{\"hovertemplate\":\"Policy=\\\\u00a3300/month<br>Earnings=%{x}<br>Net income=%{y}<extra></extra>\",\"legendgroup\":\"\\\\u00a3300/month\",\"line\":{\"color\":\"#2C6496\",\"dash\":\"solid\"},\"marker\":{\"symbol\":\"circle\"},\"mode\":\"lines\",\"name\":\"\\\\u00a3300/month\",\"orientation\":\"v\",\"showlegend\":true,\"x\":[0.0,1040.44580078125,2080.8916015625,3121.33740234375,4161.783203125,5202.22900390625,6242.6748046875,7283.12060546875,8323.56640625,9364.0126953125,10404.4580078125,11444.904296875,12485.349609375,13525.7958984375,14566.2412109375,15606.6875,16647.1328125,17687.578125,18728.025390625,19768.470703125,20808.916015625,21849.361328125,22889.80859375,23930.251953125,24970.69921875,26011.14453125,27051.591796875,28092.03515625,29132.482421875,30172.927734375,31213.375,32253.818359375,33294.265625,34334.7109375,35375.15625,36415.6015625,37456.05078125,38496.49609375,39536.94140625,40577.3828125,41617.83203125,42658.27734375,43698.72265625,44739.16796875,45779.6171875,46820.0625,47860.50390625,48900.94921875,49941.3984375,50981.84375,52022.2890625,53062.73828125,54103.18359375,55143.62890625,56184.0703125,57224.51953125,58264.96484375,59305.41015625,60345.85546875,61386.3046875,62426.75,63467.19140625,64507.63671875,65548.0859375,66588.53125,67628.9765625,68669.421875,69709.8671875,70750.3125,71790.7578125,72831.203125,73871.6484375,74912.1015625,75952.546875,76992.9921875,78033.4375,79073.8828125,80114.328125,81154.765625,82195.2109375,83235.6640625,84276.109375,85316.5546875,86357.0,87397.4453125,88437.890625,89478.3359375,90518.7890625,91559.234375,92599.6796875,93640.125,94680.5703125,95721.0078125,96761.453125,97801.8984375,98842.3515625,99882.796875,100923.2421875,101963.6875,103004.1328125],\"xaxis\":\"x\",\"y\":[7200.0,7199.998046875,7199.998046875,7200.001953125,7200.0,7199.998046875,7200.0,7200.001953125,7200.0,7200.0,7199.998046875,7199.998046875,7200.0,6921.0263671875,6385.1083984375,5885.6943359375,5386.279296875,4888.6328125,4523.8515625,4159.0703125,3794.2890625,3429.51171875,3266.619140625,3213.556640625,3160.49609375,3107.431640625,3054.37109375,3001.3046875,2948.244140625,2895.18359375,2842.119140625,2789.056640625,2735.994140625,2682.9296875,2629.8671875,2576.8046875,2523.7421875,2470.6796875,2417.61328125,2364.5546875,2311.4921875,2258.4296875,2205.3671875,2152.30078125,2099.23828125,2046.17578125,1993.11328125,1940.0546875,1886.9921875,2085.92578125,2032.859375,1979.8046875,1926.73828125,1873.671875,1820.61328125,1767.55078125,1714.4921875,1661.41796875,1608.36328125,1555.30078125,1502.234375,1449.171875,1396.11328125,1343.046875,1289.984375,1236.921875,1183.859375,1130.796875,1077.734375,1024.671875,971.60546875,918.546875,865.48046875,812.41796875,759.35546875,706.296875,653.234375,600.16796875,547.109375,494.046875,440.98046875,387.921875,334.85546875,281.79296875,228.7265625,175.671875,122.609375,69.5390625,16.4765625,-36.5859375,-89.6484375,-142.7109375,-195.78125,-248.8359375,-301.8984375,-354.953125,-408.0234375,-276.4375,-121.4140625,33.609375],\"yaxis\":\"y\",\"type\":\"scatter\"},{\"hovertemplate\":\"Policy=\\\\u00a3400/month<br>Earnings=%{x}<br>Net income=%{y}<extra></extra>\",\"legendgroup\":\"\\\\u00a3400/month\",\"line\":{\"color\":\"#17354F\",\"dash\":\"solid\"},\"marker\":{\"symbol\":\"circle\"},\"mode\":\"lines\",\"name\":\"\\\\u00a3400/month\",\"orientation\":\"v\",\"showlegend\":true,\"x\":[0.0,1040.44580078125,2080.8916015625,3121.33740234375,4161.783203125,5202.22900390625,6242.6748046875,7283.12060546875,8323.56640625,9364.0126953125,10404.4580078125,11444.904296875,12485.349609375,13525.7958984375,14566.2412109375,15606.6875,16647.1328125,17687.578125,18728.025390625,19768.470703125,20808.916015625,21849.361328125,22889.80859375,23930.251953125,24970.69921875,26011.14453125,27051.591796875,28092.03515625,29132.482421875,30172.927734375,31213.375,32253.818359375,33294.265625,34334.7109375,35375.15625,36415.6015625,37456.05078125,38496.49609375,39536.94140625,40577.3828125,41617.83203125,42658.27734375,43698.72265625,44739.16796875,45779.6171875,46820.0625,47860.50390625,48900.94921875,49941.3984375,50981.84375,52022.2890625,53062.73828125,54103.18359375,55143.62890625,56184.0703125,57224.51953125,58264.96484375,59305.41015625,60345.85546875,61386.3046875,62426.75,63467.19140625,64507.63671875,65548.0859375,66588.53125,67628.9765625,68669.421875,69709.8671875,70750.3125,71790.7578125,72831.203125,73871.6484375,74912.1015625,75952.546875,76992.9921875,78033.4375,79073.8828125,80114.328125,81154.765625,82195.2109375,83235.6640625,84276.109375,85316.5546875,86357.0,87397.4453125,88437.890625,89478.3359375,90518.7890625,91559.234375,92599.6796875,93640.125,94680.5703125,95721.0078125,96761.453125,97801.8984375,98842.3515625,99882.796875,100923.2421875,101963.6875,103004.1328125],\"xaxis\":\"x\",\"y\":[9600.0,9600.0,9600.0,9600.001953125,9600.0,9600.0,9600.001953125,9600.0,9600.0,9599.998046875,9599.998046875,9600.0,9600.0,9321.0263671875,8785.1064453125,8285.6943359375,7786.279296875,7176.33984375,6343.98046875,5811.8203125,5407.712890625,5003.60546875,4599.494140625,4195.38671875,3987.341796875,3868.728515625,3750.12109375,3631.5078125,3512.8984375,3394.2890625,3275.67578125,3157.06640625,3038.455078125,2919.83984375,2801.234375,2682.62109375,2564.01171875,2445.40234375,2326.7890625,2208.1796875,2089.56640625,1970.95703125,1852.34765625,1733.734375,1615.12109375,1496.51171875,1377.90234375,1259.29296875,1140.68359375,1355.22265625,1355.21875,1355.22265625,1355.22265625,1355.21875,1355.22265625,1355.21875,1355.2265625,1355.21484375,1355.21875,1355.21875,1355.21875,1355.21875,1355.22265625,1355.21875,1355.21875,1355.21875,1355.22265625,1355.21875,1355.21875,1355.21875,1355.21875,1355.22265625,1355.21875,1355.22265625,1355.21875,1355.21875,1355.21875,1355.21875,1355.21875,1355.21875,1355.21875,1355.21875,1355.21875,1355.22265625,1355.21875,1355.21875,1355.21875,1355.21875,1355.21875,1355.21875,1355.21875,1355.21875,1355.21875,1355.21875,1355.21875,1355.2265625,1355.21875,1539.8671875,1747.9609375,1956.046875],\"yaxis\":\"y\",\"type\":\"scatter\"}],\"layout\":{\"template\":{\"data\":{\"barpolar\":[{\"marker\":{\"line\":{\"color\":\"white\",\"width\":0.5},\"pattern\":{\"fillmode\":\"overlay\",\"size\":10,\"solidity\":0.2}},\"type\":\"barpolar\"}],\"bar\":[{\"error_x\":{\"color\":\"#2a3f5f\"},\"error_y\":{\"color\":\"#2a3f5f\"},\"marker\":{\"line\":{\"color\":\"white\",\"width\":0.5},\"pattern\":{\"fillmode\":\"overlay\",\"size\":10,\"solidity\":0.2}},\"type\":\"bar\"}],\"carpet\":[{\"aaxis\":{\"endlinecolor\":\"#2a3f5f\",\"gridcolor\":\"#C8D4E3\",\"linecolor\":\"#C8D4E3\",\"minorgridcolor\":\"#C8D4E3\",\"startlinecolor\":\"#2a3f5f\"},\"baxis\":{\"endlinecolor\":\"#2a3f5f\",\"gridcolor\":\"#C8D4E3\",\"linecolor\":\"#C8D4E3\",\"minorgridcolor\":\"#C8D4E3\",\"startlinecolor\":\"#2a3f5f\"},\"type\":\"carpet\"}],\"choropleth\":[{\"colorbar\":{\"outlinewidth\":0,\"ticks\":\"\"},\"type\":\"choropleth\"}],\"contourcarpet\":[{\"colorbar\":{\"outlinewidth\":0,\"ticks\":\"\"},\"type\":\"contourcarpet\"}],\"contour\":[{\"colorbar\":{\"outlinewidth\":0,\"ticks\":\"\"},\"colorscale\":[[0.0,\"#0d0887\"],[0.1111111111111111,\"#46039f\"],[0.2222222222222222,\"#7201a8\"],[0.3333333333333333,\"#9c179e\"],[0.4444444444444444,\"#bd3786\"],[0.5555555555555556,\"#d8576b\"],[0.6666666666666666,\"#ed7953\"],[0.7777777777777778,\"#fb9f3a\"],[0.8888888888888888,\"#fdca26\"],[1.0,\"#f0f921\"]],\"type\":\"contour\"}],\"heatmapgl\":[{\"colorbar\":{\"outlinewidth\":0,\"ticks\":\"\"},\"colorscale\":[[0.0,\"#0d0887\"],[0.1111111111111111,\"#46039f\"],[0.2222222222222222,\"#7201a8\"],[0.3333333333333333,\"#9c179e\"],[0.4444444444444444,\"#bd3786\"],[0.5555555555555556,\"#d8576b\"],[0.6666666666666666,\"#ed7953\"],[0.7777777777777778,\"#fb9f3a\"],[0.8888888888888888,\"#fdca26\"],[1.0,\"#f0f921\"]],\"type\":\"heatmapgl\"}],\"heatmap\":[{\"colorbar\":{\"outlinewidth\":0,\"ticks\":\"\"},\"colorscale\":[[0.0,\"#0d0887\"],[0.1111111111111111,\"#46039f\"],[0.2222222222222222,\"#7201a8\"],[0.3333333333333333,\"#9c179e\"],[0.4444444444444444,\"#bd3786\"],[0.5555555555555556,\"#d8576b\"],[0.6666666666666666,\"#ed7953\"],[0.7777777777777778,\"#fb9f3a\"],[0.8888888888888888,\"#fdca26\"],[1.0,\"#f0f921\"]],\"type\":\"heatmap\"}],\"histogram2dcontour\":[{\"colorbar\":{\"outlinewidth\":0,\"ticks\":\"\"},\"colorscale\":[[0.0,\"#0d0887\"],[0.1111111111111111,\"#46039f\"],[0.2222222222222222,\"#7201a8\"],[0.3333333333333333,\"#9c179e\"],[0.4444444444444444,\"#bd3786\"],[0.5555555555555556,\"#d8576b\"],[0.6666666666666666,\"#ed7953\"],[0.7777777777777778,\"#fb9f3a\"],[0.8888888888888888,\"#fdca26\"],[1.0,\"#f0f921\"]],\"type\":\"histogram2dcontour\"}],\"histogram2d\":[{\"colorbar\":{\"outlinewidth\":0,\"ticks\":\"\"},\"colorscale\":[[0.0,\"#0d0887\"],[0.1111111111111111,\"#46039f\"],[0.2222222222222222,\"#7201a8\"],[0.3333333333333333,\"#9c179e\"],[0.4444444444444444,\"#bd3786\"],[0.5555555555555556,\"#d8576b\"],[0.6666666666666666,\"#ed7953\"],[0.7777777777777778,\"#fb9f3a\"],[0.8888888888888888,\"#fdca26\"],[1.0,\"#f0f921\"]],\"type\":\"histogram2d\"}],\"histogram\":[{\"marker\":{\"pattern\":{\"fillmode\":\"overlay\",\"size\":10,\"solidity\":0.2}},\"type\":\"histogram\"}],\"mesh3d\":[{\"colorbar\":{\"outlinewidth\":0,\"ticks\":\"\"},\"type\":\"mesh3d\"}],\"parcoords\":[{\"line\":{\"colorbar\":{\"outlinewidth\":0,\"ticks\":\"\"}},\"type\":\"parcoords\"}],\"pie\":[{\"automargin\":true,\"type\":\"pie\"}],\"scatter3d\":[{\"line\":{\"colorbar\":{\"outlinewidth\":0,\"ticks\":\"\"}},\"marker\":{\"colorbar\":{\"outlinewidth\":0,\"ticks\":\"\"}},\"type\":\"scatter3d\"}],\"scattercarpet\":[{\"marker\":{\"colorbar\":{\"outlinewidth\":0,\"ticks\":\"\"}},\"type\":\"scattercarpet\"}],\"scattergeo\":[{\"marker\":{\"colorbar\":{\"outlinewidth\":0,\"ticks\":\"\"}},\"type\":\"scattergeo\"}],\"scattergl\":[{\"marker\":{\"colorbar\":{\"outlinewidth\":0,\"ticks\":\"\"}},\"type\":\"scattergl\"}],\"scattermapbox\":[{\"marker\":{\"colorbar\":{\"outlinewidth\":0,\"ticks\":\"\"}},\"type\":\"scattermapbox\"}],\"scatterpolargl\":[{\"marker\":{\"colorbar\":{\"outlinewidth\":0,\"ticks\":\"\"}},\"type\":\"scatterpolargl\"}],\"scatterpolar\":[{\"marker\":{\"colorbar\":{\"outlinewidth\":0,\"ticks\":\"\"}},\"type\":\"scatterpolar\"}],\"scatter\":[{\"fillpattern\":{\"fillmode\":\"overlay\",\"size\":10,\"solidity\":0.2},\"type\":\"scatter\"}],\"scatterternary\":[{\"marker\":{\"colorbar\":{\"outlinewidth\":0,\"ticks\":\"\"}},\"type\":\"scatterternary\"}],\"surface\":[{\"colorbar\":{\"outlinewidth\":0,\"ticks\":\"\"},\"colorscale\":[[0.0,\"#0d0887\"],[0.1111111111111111,\"#46039f\"],[0.2222222222222222,\"#7201a8\"],[0.3333333333333333,\"#9c179e\"],[0.4444444444444444,\"#bd3786\"],[0.5555555555555556,\"#d8576b\"],[0.6666666666666666,\"#ed7953\"],[0.7777777777777778,\"#fb9f3a\"],[0.8888888888888888,\"#fdca26\"],[1.0,\"#f0f921\"]],\"type\":\"surface\"}],\"table\":[{\"cells\":{\"fill\":{\"color\":\"#EBF0F8\"},\"line\":{\"color\":\"white\"}},\"header\":{\"fill\":{\"color\":\"#C8D4E3\"},\"line\":{\"color\":\"white\"}},\"type\":\"table\"}]},\"layout\":{\"annotationdefaults\":{\"arrowcolor\":\"#2a3f5f\",\"arrowhead\":0,\"arrowwidth\":1},\"autotypenumbers\":\"strict\",\"coloraxis\":{\"colorbar\":{\"outlinewidth\":0,\"ticks\":\"\"}},\"colorscale\":{\"diverging\":[[0,\"#8e0152\"],[0.1,\"#c51b7d\"],[0.2,\"#de77ae\"],[0.3,\"#f1b6da\"],[0.4,\"#fde0ef\"],[0.5,\"#f7f7f7\"],[0.6,\"#e6f5d0\"],[0.7,\"#b8e186\"],[0.8,\"#7fbc41\"],[0.9,\"#4d9221\"],[1,\"#276419\"]],\"sequential\":[[0.0,\"#0d0887\"],[0.1111111111111111,\"#46039f\"],[0.2222222222222222,\"#7201a8\"],[0.3333333333333333,\"#9c179e\"],[0.4444444444444444,\"#bd3786\"],[0.5555555555555556,\"#d8576b\"],[0.6666666666666666,\"#ed7953\"],[0.7777777777777778,\"#fb9f3a\"],[0.8888888888888888,\"#fdca26\"],[1.0,\"#f0f921\"]],\"sequentialminus\":[[0.0,\"#0d0887\"],[0.1111111111111111,\"#46039f\"],[0.2222222222222222,\"#7201a8\"],[0.3333333333333333,\"#9c179e\"],[0.4444444444444444,\"#bd3786\"],[0.5555555555555556,\"#d8576b\"],[0.6666666666666666,\"#ed7953\"],[0.7777777777777778,\"#fb9f3a\"],[0.8888888888888888,\"#fdca26\"],[1.0,\"#f0f921\"]]},\"colorway\":[\"#636efa\",\"#EF553B\",\"#00cc96\",\"#ab63fa\",\"#FFA15A\",\"#19d3f3\",\"#FF6692\",\"#B6E880\",\"#FF97FF\",\"#FECB52\"],\"font\":{\"color\":\"#2a3f5f\"},\"geo\":{\"bgcolor\":\"white\",\"lakecolor\":\"white\",\"landcolor\":\"white\",\"showlakes\":true,\"showland\":true,\"subunitcolor\":\"#C8D4E3\"},\"hoverlabel\":{\"align\":\"left\"},\"hovermode\":\"closest\",\"mapbox\":{\"style\":\"light\"},\"paper_bgcolor\":\"white\",\"plot_bgcolor\":\"white\",\"polar\":{\"angularaxis\":{\"gridcolor\":\"#EBF0F8\",\"linecolor\":\"#EBF0F8\",\"ticks\":\"\"},\"bgcolor\":\"white\",\"radialaxis\":{\"gridcolor\":\"#EBF0F8\",\"linecolor\":\"#EBF0F8\",\"ticks\":\"\"}},\"scene\":{\"xaxis\":{\"backgroundcolor\":\"white\",\"gridcolor\":\"#DFE8F3\",\"gridwidth\":2,\"linecolor\":\"#EBF0F8\",\"showbackground\":true,\"ticks\":\"\",\"zerolinecolor\":\"#EBF0F8\"},\"yaxis\":{\"backgroundcolor\":\"white\",\"gridcolor\":\"#DFE8F3\",\"gridwidth\":2,\"linecolor\":\"#EBF0F8\",\"showbackground\":true,\"ticks\":\"\",\"zerolinecolor\":\"#EBF0F8\"},\"zaxis\":{\"backgroundcolor\":\"white\",\"gridcolor\":\"#DFE8F3\",\"gridwidth\":2,\"linecolor\":\"#EBF0F8\",\"showbackground\":true,\"ticks\":\"\",\"zerolinecolor\":\"#EBF0F8\"}},\"shapedefaults\":{\"line\":{\"color\":\"#2a3f5f\"}},\"ternary\":{\"aaxis\":{\"gridcolor\":\"#DFE8F3\",\"linecolor\":\"#A2B1C6\",\"ticks\":\"\"},\"baxis\":{\"gridcolor\":\"#DFE8F3\",\"linecolor\":\"#A2B1C6\",\"ticks\":\"\"},\"bgcolor\":\"white\",\"caxis\":{\"gridcolor\":\"#DFE8F3\",\"linecolor\":\"#A2B1C6\",\"ticks\":\"\"}},\"title\":{\"x\":0.05},\"xaxis\":{\"automargin\":true,\"gridcolor\":\"#EBF0F8\",\"linecolor\":\"#EBF0F8\",\"ticks\":\"\",\"title\":{\"standoff\":15},\"zerolinecolor\":\"#EBF0F8\",\"zerolinewidth\":2},\"yaxis\":{\"automargin\":true,\"gridcolor\":\"#EBF0F8\",\"linecolor\":\"#EBF0F8\",\"ticks\":\"\",\"title\":{\"standoff\":15},\"zerolinecolor\":\"#EBF0F8\",\"zerolinewidth\":2}}},\"xaxis\":{\"anchor\":\"y\",\"domain\":[0.0,1.0],\"title\":{\"text\":\"Employment income\"},\"tickformat\":\",.0f\",\"tickprefix\":\"\\\\u00a3\"},\"yaxis\":{\"anchor\":\"x\",\"domain\":[0.0,1.0],\"title\":{\"text\":\"Change to annual net income\"},\"tickmode\":\"array\",\"tickvals\":[-10000,-5000,0,5000,10000],\"ticktext\":[\"-\\\\u00a310,000\",\"-\\\\u00a35,000\",\"\\\\u00a30\",\"+\\\\u00a35,000\",\"+\\\\u00a310,000\"],\"range\":[-10000,10000]},\"legend\":{\"title\":{\"text\":\"Policy\"},\"tracegroupgap\":0},\"margin\":{\"t\":60},\"title\":{\"text\":\"Figure 13: Change to annual net income by UBI policy and income (pensioner couple, no children)\"},\"shapes\":[{\"line\":{\"color\":\"grey\",\"width\":1},\"type\":\"line\",\"x0\":0,\"x1\":1,\"xref\":\"paper\",\"y0\":0,\"y1\":0,\"yref\":\"y\"}],\"font\":{\"family\":\"Roboto Serif\",\"color\":\"black\"},\"images\":[{\"sizex\":0.2,\"sizey\":0.2,\"source\":\"https://raw.githubusercontent.com/PolicyEngine/policyengine-app/master/src/images/logos/policyengine/blue.png\",\"x\":1,\"xanchor\":\"right\",\"xref\":\"paper\",\"y\":-0.15,\"yanchor\":\"bottom\",\"yref\":\"paper\"}],\"height\":600,\"width\":800,\"modebar\":{\"bgcolor\":\"rgba(0,0,0,0)\",\"color\":\"rgba(0,0,0,0)\"}}}'"
      ]
     },
     "execution_count": 16,
     "metadata": {},
     "output_type": "execute_result"
    }
   ],
   "source": [
    "plot(H3, title=\"Figure 13: Change to annual net income by UBI policy and income (pensioner couple, no children)\").to_json()"
   ]
  },
  {
   "cell_type": "markdown",
   "metadata": {},
   "source": [
    "### Marginal tax rates\n",
    "\n",
    "The marginal tax rate (MTR) represents the portion of an additional pound of earnings that does not add to net income. This occurs either because it is taken as tax or results in reduced benefit entitlements. For instance, if someone has a 20% MTR due to taxes and another 15% MTR from reduced benefits, the total MTR would be 35%. In this scenario, the individual would keep 65 pence out of each additional pound earned.\n",
    "\n",
    "Figure 14 displays the Marginal Tax Rate (MTR) at various earnings levels for a married couple with two children.[^12] A higher line at a given income level indicates a diminished incentive to work. When the MTR is 100%, earning an additional pound has no impact on net income. An MTR above 100% means that earning more actually reduces net income. The UBI policies' impact on MTR varies: at certain income levels, they lower MTRs; at others, they raise them. Generally, MTRs tend to go up, though there are specific income ranges where they decrease.\n",
    "\n",
    "The first such range is at £50,270, which is the higher rate threshold. Under current rules, the Marriage Allowance allows couples to transfer 10% of their personal allowance between them, reducing their tax liability. This benefit is lost when one partner's income surpasses the higher rate threshold, leading to a sharp increase in tax liability and creating an MTR 'cliff' over 100%. All examined UBI policies mitigate this issue by either reducing or eliminating the personal allowance.\n",
    "\n",
    "The second notable income range starts at £100,000. According to the baseline policy, the personal allowance begins to phase out at this level, diminishing by 50p for each pound earned above this threshold. The £300 and £400 per month UBI policies remove this phase-out by reducing or eliminating the personal allowance, which in turn lowers the MTR by 20 percentage points.\n",
    "\n",
    "In summary, all analysed policies generally increase MTRs, thereby reducing work incentives relative to the current system. However, they also remove specific high MTRs that exist in the current tax code.\n",
    "\n",
    "[^12]: We focus on the MTR for a married couple with two children because the differences between baseline and reform don't depend much on household structure.\n"
   ]
  },
  {
   "cell_type": "code",
   "execution_count": null,
   "metadata": {
    "tags": [
     "hide-input"
    ]
   },
   "outputs": [],
   "source": [
    "import plotly.express as px\n",
    "from policyengine_uk import Simulation\n",
    "import pandas as pd\n",
    "\n",
    "SINGLE_NO_CHILDREN = {\n",
    "    \"people\": {\n",
    "        \"adult\": {\n",
    "            \"age\": 25,\n",
    "        }\n",
    "    },\n",
    "    \"benunits\": {\n",
    "        \"benunit\": {\n",
    "            \"members\": [\"adult\"],\n",
    "            \"claims_legacy_benefits\": False,\n",
    "            \"claims_all_entitled_benefits\": True,\n",
    "        }\n",
    "    },\n",
    "    \"households\": {\n",
    "        \"household\": {\n",
    "            \"members\": [\"adult\"],\n",
    "            \"would_evade_tv_licence_fee\": False,\n",
    "            \"household_owns_tv\": True,\n",
    "        }\n",
    "    },\n",
    "    \"axes\": [[{\n",
    "        \"name\": \"employment_income\",\n",
    "        \"min\": 0,\n",
    "        \"max\": 150_000,\n",
    "        \"count\": 100,\n",
    "    }]],\n",
    "}\n",
    "\n",
    "MARRIED_TWO_CHILDREN = {\n",
    "    \"people\": {\n",
    "        \"adult_1\": {\n",
    "            \"age\": 31,\n",
    "        },\n",
    "        \"adult_2\": {\n",
    "            \"age\": 30,\n",
    "        },\n",
    "        \"child_1\": {\n",
    "            \"age\": 4,\n",
    "        },\n",
    "        \"child_2\": {\n",
    "            \"age\": 6,\n",
    "        },\n",
    "    },\n",
    "    \"benunits\": {\n",
    "        \"benunit\": {\n",
    "            \"members\": [\"adult_1\", \"adult_2\", \"child_1\", \"child_2\"],\n",
    "            \"claims_legacy_benefits\": False,\n",
    "            \"claims_all_entitled_benefits\": True,\n",
    "        }\n",
    "    },\n",
    "    \"households\": {\n",
    "        \"household\": {\n",
    "            \"members\": [\"adult_1\", \"adult_2\", \"child_1\", \"child_2\"],\n",
    "            \"would_evade_tv_licence_fee\": False,\n",
    "            \"household_owns_tv\": True,\n",
    "        }\n",
    "    },\n",
    "    \"axes\": [[{\n",
    "        \"name\": \"employment_income\",\n",
    "        \"min\": 0,\n",
    "        \"max\": 150_000,\n",
    "        \"count\": 100,\n",
    "    }]],\n",
    "}\n",
    "\n",
    "PENSIONER_COUPLE_NO_CHILDREN = {\n",
    "    \"people\": {\n",
    "        \"adult_1\": {\n",
    "            \"age\": 70,\n",
    "        },\n",
    "        \"adult_2\": {\n",
    "            \"age\": 71,\n",
    "        }\n",
    "    },\n",
    "    \"benunits\": {\n",
    "        \"benunit\": {\n",
    "            \"members\": [\"adult_1\", \"adult_2\"],\n",
    "            \"claims_legacy_benefits\": False,\n",
    "            \"claims_all_entitled_benefits\": True,\n",
    "        }\n",
    "    },\n",
    "    \"households\": {\n",
    "        \"household\": {\n",
    "            \"members\": [\"adult_1\", \"adult_2\"],\n",
    "            \"would_evade_tv_licence_fee\": False,\n",
    "            \"household_owns_tv\": True,\n",
    "        }\n",
    "    },\n",
    "    \"axes\": [[{\n",
    "        \"name\": \"employment_income\",\n",
    "        \"min\": 0,\n",
    "        \"max\": 150_000,\n",
    "        \"count\": 100,\n",
    "    }]],\n",
    "}\n",
    "dfs = []\n",
    "for reform, policy_name in zip([None, model_1_reform, model_2_reform, model_3_reform], [\"Baseline\", \"£200/month\", \"£300/month\", \"£400/month\"]):\n",
    "    for household_type, household_name in zip(\n",
    "        [SINGLE_NO_CHILDREN, MARRIED_TWO_CHILDREN, PENSIONER_COUPLE_NO_CHILDREN],\n",
    "        [\"Single adult, no children\", \"Married couple, two children\", \"Pensioner couple, no children\"],\n",
    "    ):\n",
    "        baseline_sim = Simulation(situation=household_type)\n",
    "        sim = Simulation(situation=household_type, reform=reform)\n",
    "        mtr = sim.calculate(\"marginal_tax_rate\", 2023)\n",
    "        mtr = mtr.reshape((100, -1)).T[0]\n",
    "        earnings = sim.calculate(\"employment_income\", map_to=\"household\", period=2023)\n",
    "        df = pd.DataFrame({\"Policy\": policy_name, \"Marginal tax rate\": mtr, \"Earnings\": earnings, \"Household type\": household_name})\n",
    "        dfs.append(df)\n",
    "\n",
    "mtr_df = pd.concat(dfs)"
   ]
  },
  {
   "cell_type": "code",
   "execution_count": null,
   "metadata": {
    "tags": [
     "hide-input"
    ]
   },
   "outputs": [
    {
     "data": {
      "text/plain": [
       "'{\"data\":[{\"hovertemplate\":\"Policy=Baseline<br>Earnings=%{x}<br>Marginal tax rate=%{y}<extra></extra>\",\"legendgroup\":\"Baseline\",\"line\":{\"color\":\"#616161\",\"dash\":\"solid\",\"shape\":\"hv\"},\"marker\":{\"symbol\":\"circle\"},\"mode\":\"lines\",\"name\":\"Baseline\",\"orientation\":\"v\",\"showlegend\":true,\"x\":[0.0,1560.668701171875,3121.33740234375,4682.00634765625,6242.6748046875,7803.34375,9364.0126953125,10924.6806640625,12485.349609375,14046.017578125,15606.6875,17167.35546875,18728.025390625,20288.69140625,21849.361328125,23410.03125,24970.69921875,26531.369140625,28092.03515625,29652.705078125,31213.375,32774.04296875,34334.7109375,35895.37890625,37456.05078125,39016.71875,40577.3828125,42138.0546875,43698.72265625,45259.39453125,46820.0625,48380.7265625,49941.3984375,51502.06640625,53062.73828125,54623.40625,56184.0703125,57744.7421875,59305.41015625,60866.08203125,62426.75,63987.4140625,65548.0859375,67108.7578125,68669.421875,70230.09375,71790.7578125,73351.4296875,74912.1015625,76472.765625,78033.4375,79594.1015625,81154.765625,82715.4453125,84276.109375,85836.78125,87397.4453125,88958.109375,90518.7890625,92079.453125,93640.125,95200.7890625,96761.453125,98322.1328125,99882.796875,101443.46875,103004.1328125,104564.796875,106125.4765625,107686.140625,109246.8125,110807.4765625,112368.140625,113928.8203125,115489.484375,117050.15625,118610.8203125,120171.484375,121732.1640625,123292.828125,124853.5,126414.1640625,127974.828125,129535.5078125,131096.171875,132656.828125,134217.515625,135778.1875,137338.84375,138899.515625,140460.1875,142020.84375,143581.515625,145142.1875,146702.859375,148263.515625,149824.203125,151384.875,152945.53125,154506.203125],\"xaxis\":\"x\",\"y\":[0.0,9.5367431640625e-07,0.0,0.0,0.20166993141174316,0.550000011920929,0.550000011920929,0.550000011920929,0.5994316339492798,0.6940000057220459,0.6940000057220459,0.6940000057220459,0.6940000057220459,0.6940000057220459,0.6940000057220459,0.6940000057220459,0.6940000057220459,0.6940019130706787,0.6940000057220459,0.6939980387687683,0.6940000057220459,0.6940000057220459,0.6940000057220459,0.5045703053474426,0.3199999928474426,0.3199999928474426,0.3199999928474426,0.3199999928474426,0.3199999928474426,0.3199999928474426,0.3199999928474426,0.3199999928474426,0.8249843716621399,0.6209999918937683,0.6209999918937683,0.6210038661956787,0.6210038661956787,0.6209999918937683,0.5634297132492065,0.4325000047683716,0.4325000047683716,0.4325000047683716,0.4325000047683716,0.4325000047683716,0.4325000047683716,0.4325000047683716,0.4324960708618164,0.4325000047683716,0.4325000047683716,0.4325000047683716,0.4325000047683716,0.432503879070282,0.4325000047683716,0.4325000047683716,0.4325000047683716,0.4325000047683716,0.4324960708618164,0.4325000047683716,0.4325000047683716,0.4325000047683716,0.4325000047683716,0.4325000047683716,0.4325000047683716,0.43250781297683716,0.6090624928474426,0.6324999928474426,0.6325078010559082,0.6324999928474426,0.6324999928474426,0.6324999928474426,0.6324999928474426,0.6324999928474426,0.6324999928474426,0.6325078010559082,0.6324999928474426,0.6324999928474426,0.6324999928474426,0.6324999928474426,0.6324999928474426,0.6324999928474426,0.5254765748977661,0.48250001668930054,0.48250001668930054,0.48250001668930054,0.48250001668930054,0.48250001668930054,0.48250001668930054,0.48250001668930054,0.48250001668930054,0.48250001668930054,0.48250001668930054,0.48250001668930054,0.48250001668930054,0.48250001668930054,0.48250001668930054,0.48250001668930054,0.48250001668930054,0.48250001668930054,0.48250001668930054,0.48250001668930054],\"yaxis\":\"y\",\"type\":\"scatter\"},{\"hovertemplate\":\"Policy=\\\\u00a3200/month<br>Earnings=%{x}<br>Marginal tax rate=%{y}<extra></extra>\",\"legendgroup\":\"\\\\u00a3200/month\",\"line\":{\"color\":\"#D8E6F3\",\"dash\":\"solid\",\"shape\":\"hv\"},\"marker\":{\"symbol\":\"circle\"},\"mode\":\"lines\",\"name\":\"\\\\u00a3200/month\",\"orientation\":\"v\",\"showlegend\":true,\"x\":[0.0,1560.668701171875,3121.33740234375,4682.00634765625,6242.6748046875,7803.34375,9364.0126953125,10924.6806640625,12485.349609375,14046.017578125,15606.6875,17167.35546875,18728.025390625,20288.69140625,21849.361328125,23410.03125,24970.69921875,26531.369140625,28092.03515625,29652.705078125,31213.375,32774.04296875,34334.7109375,35895.37890625,37456.05078125,39016.71875,40577.3828125,42138.0546875,43698.72265625,45259.39453125,46820.0625,48380.7265625,49941.3984375,51502.06640625,53062.73828125,54623.40625,56184.0703125,57744.7421875,59305.41015625,60866.08203125,62426.75,63987.4140625,65548.0859375,67108.7578125,68669.421875,70230.09375,71790.7578125,73351.4296875,74912.1015625,76472.765625,78033.4375,79594.1015625,81154.765625,82715.4453125,84276.109375,85836.78125,87397.4453125,88958.109375,90518.7890625,92079.453125,93640.125,95200.7890625,96761.453125,98322.1328125,99882.796875,101443.46875,103004.1328125,104564.796875,106125.4765625,107686.140625,109246.8125,110807.4765625,112368.140625,113928.8203125,115489.484375,117050.15625,118610.8203125,120171.484375,121732.1640625,123292.828125,124853.5,126414.1640625,127974.828125,129535.5078125,131096.171875,132656.828125,134217.515625,135778.1875,137338.84375,138899.515625,140460.1875,142020.84375,143581.515625,145142.1875,146702.859375,148263.515625,149824.203125,151384.875,152945.53125,154506.203125],\"xaxis\":\"x\",\"y\":[0.0,0.07826560735702515,0.21700000762939453,0.21700000762939453,0.21700000762939453,0.4889296889305115,0.6476523876190186,0.6476523876190186,0.6970800757408142,0.7016503810882568,0.7016503810882568,0.701648473739624,0.701648473739624,0.701648473739624,0.701648473739624,0.701648473739624,0.701648473739624,0.7016523480415344,0.701648473739624,0.7016503810882568,0.701648473739624,0.701648473739624,0.701648473739624,0.701648473739624,0.701648473739624,0.7016445398330688,0.4086288809776306,0.3370000123977661,0.3370000123977661,0.3370000123977661,0.3370000123977661,0.3370000123977661,0.6454648375511169,0.656000018119812,0.656000018119812,0.656000018119812,0.656000018119812,0.6560038924217224,0.5984296798706055,0.4675039052963257,0.4674999713897705,0.4674999713897705,0.4674999713897705,0.4674999713897705,0.4674999713897705,0.4675039052963257,0.4674999713897705,0.4675039052963257,0.4674999713897705,0.4674999713897705,0.4674999713897705,0.4674999713897705,0.4674999713897705,0.4674999713897705,0.4674999713897705,0.4674999713897705,0.4674999713897705,0.4674999713897705,0.4674999713897705,0.4674999713897705,0.4674999713897705,0.4674999713897705,0.4675039052963257,0.4674999713897705,0.659500002861023,0.6850000023841858,0.6841015815734863,0.4674999713897705,0.4674999713897705,0.46750783920288086,0.4674999713897705,0.4674999713897705,0.4674999713897705,0.4674999713897705,0.4674999713897705,0.4674999713897705,0.4674999713897705,0.4674999713897705,0.4674999713897705,0.4674999713897705,0.5031718611717224,0.5175000429153442,0.517507791519165,0.5174921751022339,0.5175000429153442,0.517507791519165,0.5175000429153442,0.5175000429153442,0.5175000429153442,0.5175000429153442,0.5175000429153442,0.5175000429153442,0.5175000429153442,0.5175000429153442,0.5175000429153442,0.5175000429153442,0.5175000429153442,0.5175000429153442,0.5175000429153442,0.5175000429153442],\"yaxis\":\"y\",\"type\":\"scatter\"},{\"hovertemplate\":\"Policy=\\\\u00a3300/month<br>Earnings=%{x}<br>Marginal tax rate=%{y}<extra></extra>\",\"legendgroup\":\"\\\\u00a3300/month\",\"line\":{\"color\":\"#2C6496\",\"dash\":\"solid\",\"shape\":\"hv\"},\"marker\":{\"symbol\":\"circle\"},\"mode\":\"lines\",\"name\":\"\\\\u00a3300/month\",\"orientation\":\"v\",\"showlegend\":true,\"x\":[0.0,1560.668701171875,3121.33740234375,4682.00634765625,6242.6748046875,7803.34375,9364.0126953125,10924.6806640625,12485.349609375,14046.017578125,15606.6875,17167.35546875,18728.025390625,20288.69140625,21849.361328125,23410.03125,24970.69921875,26531.369140625,28092.03515625,29652.705078125,31213.375,32774.04296875,34334.7109375,35895.37890625,37456.05078125,39016.71875,40577.3828125,42138.0546875,43698.72265625,45259.39453125,46820.0625,48380.7265625,49941.3984375,51502.06640625,53062.73828125,54623.40625,56184.0703125,57744.7421875,59305.41015625,60866.08203125,62426.75,63987.4140625,65548.0859375,67108.7578125,68669.421875,70230.09375,71790.7578125,73351.4296875,74912.1015625,76472.765625,78033.4375,79594.1015625,81154.765625,82715.4453125,84276.109375,85836.78125,87397.4453125,88958.109375,90518.7890625,92079.453125,93640.125,95200.7890625,96761.453125,98322.1328125,99882.796875,101443.46875,103004.1328125,104564.796875,106125.4765625,107686.140625,109246.8125,110807.4765625,112368.140625,113928.8203125,115489.484375,117050.15625,118610.8203125,120171.484375,121732.1640625,123292.828125,124853.5,126414.1640625,127974.828125,129535.5078125,131096.171875,132656.828125,134217.515625,135778.1875,137338.84375,138899.515625,140460.1875,142020.84375,143581.515625,145142.1875,146702.859375,148263.515625,149824.203125,151384.875,152945.53125,154506.203125],\"xaxis\":\"x\",\"y\":[0.25099998712539673,0.25099998712539673,0.25099998712539673,0.25099998712539673,0.25099998712539673,0.25099998712539673,0.6629492044448853,0.6629492044448853,0.7123808860778809,0.7169452905654907,0.7169492244720459,0.7169492244720459,0.7169492244720459,0.7169531583786011,0.7169511318206787,0.7169492244720459,0.7169492244720459,0.7169531583786011,0.7169452905654907,0.7169492244720459,0.7169531583786011,0.7169492244720459,0.7169492244720459,0.7169531583786011,0.7169452905654907,0.7169452905654907,0.7169492244720459,0.7169452905654907,0.38417190313339233,0.3709999918937683,0.3709999918937683,0.3710039258003235,0.6239804625511169,0.671999990940094,0.671999990940094,0.671999990940094,0.671999990940094,0.671999990940094,0.6144297122955322,0.48350000381469727,0.48350000381469727,0.48350000381469727,0.48350000381469727,0.48350387811660767,0.48350000381469727,0.48350000381469727,0.4834960699081421,0.48350000381469727,0.48350000381469727,0.48350387811660767,0.4834960699081421,0.48350000381469727,0.48350000381469727,0.48350000381469727,0.48350000381469727,0.48350387811660767,0.48350000381469727,0.48350000381469727,0.48350000381469727,0.48350000381469727,0.48350000381469727,0.48350000381469727,0.48350387811660767,0.48350000381469727,0.4834921956062317,0.48350000381469727,0.48350000381469727,0.48350000381469727,0.48350000381469727,0.48350000381469727,0.48350000381469727,0.48350000381469727,0.48350000381469727,0.48350000381469727,0.48350000381469727,0.48350000381469727,0.48350000381469727,0.48350000381469727,0.4835156202316284,0.48350000381469727,0.5191718339920044,0.5335078239440918,0.5334999561309814,0.5334999561309814,0.5334999561309814,0.5334999561309814,0.5334999561309814,0.5334999561309814,0.5334999561309814,0.5334999561309814,0.5334999561309814,0.5334999561309814,0.5334999561309814,0.5334922075271606,0.5334999561309814,0.5334999561309814,0.5334999561309814,0.5334999561309814,0.5334999561309814,0.5334999561309814],\"yaxis\":\"y\",\"type\":\"scatter\"},{\"hovertemplate\":\"Policy=\\\\u00a3400/month<br>Earnings=%{x}<br>Marginal tax rate=%{y}<extra></extra>\",\"legendgroup\":\"\\\\u00a3400/month\",\"line\":{\"color\":\"#17354F\",\"dash\":\"solid\",\"shape\":\"hv\"},\"marker\":{\"symbol\":\"circle\"},\"mode\":\"lines\",\"name\":\"\\\\u00a3400/month\",\"orientation\":\"v\",\"showlegend\":true,\"x\":[0.0,1560.668701171875,3121.33740234375,4682.00634765625,6242.6748046875,7803.34375,9364.0126953125,10924.6806640625,12485.349609375,14046.017578125,15606.6875,17167.35546875,18728.025390625,20288.69140625,21849.361328125,23410.03125,24970.69921875,26531.369140625,28092.03515625,29652.705078125,31213.375,32774.04296875,34334.7109375,35895.37890625,37456.05078125,39016.71875,40577.3828125,42138.0546875,43698.72265625,45259.39453125,46820.0625,48380.7265625,49941.3984375,51502.06640625,53062.73828125,54623.40625,56184.0703125,57744.7421875,59305.41015625,60866.08203125,62426.75,63987.4140625,65548.0859375,67108.7578125,68669.421875,70230.09375,71790.7578125,73351.4296875,74912.1015625,76472.765625,78033.4375,79594.1015625,81154.765625,82715.4453125,84276.109375,85836.78125,87397.4453125,88958.109375,90518.7890625,92079.453125,93640.125,95200.7890625,96761.453125,98322.1328125,99882.796875,101443.46875,103004.1328125,104564.796875,106125.4765625,107686.140625,109246.8125,110807.4765625,112368.140625,113928.8203125,115489.484375,117050.15625,118610.8203125,120171.484375,121732.1640625,123292.828125,124853.5,126414.1640625,127974.828125,129535.5078125,131096.171875,132656.828125,134217.515625,135778.1875,137338.84375,138899.515625,140460.1875,142020.84375,143581.515625,145142.1875,146702.859375,148263.515625,149824.203125,151384.875,152945.53125,154506.203125],\"xaxis\":\"x\",\"y\":[0.3140000104904175,0.3140000104904175,0.3140000104904175,0.3140000104904175,0.3140000104904175,0.3140000104904175,0.4425429701805115,0.6913007497787476,0.740728497505188,0.745296835899353,0.7453007698059082,0.745296835899353,0.745296835899353,0.745296835899353,0.7453007698059082,0.7453047037124634,0.7453007698059082,0.7453047037124634,0.745296835899353,0.7453007698059082,0.7453047037124634,0.7453007698059082,0.745296835899353,0.7453007698059082,0.7453007698059082,0.745296835899353,0.7453007698059082,0.7453047037124634,0.745296835899353,0.745296835899353,0.745296835899353,0.5038203001022339,0.6104453206062317,0.6210038661956787,0.6210078001022339,0.6209999918937683,0.6209999918937683,0.6209999918937683,0.5634297132492065,0.4325000047683716,0.4325000047683716,0.4325000047683716,0.4325000047683716,0.432503879070282,0.4325000047683716,0.4325000047683716,0.4324960708618164,0.4325000047683716,0.4325000047683716,0.4325000047683716,0.4325000047683716,0.4325000047683716,0.4325000047683716,0.4325000047683716,0.4325000047683716,0.4325000047683716,0.4324960708618164,0.432503879070282,0.4325000047683716,0.4325000047683716,0.4325000047683716,0.4325000047683716,0.43250781297683716,0.4325000047683716,0.4325000047683716,0.43250781297683716,0.43250781297683716,0.4325000047683716,0.4325000047683716,0.43250781297683716,0.4325000047683716,0.4325000047683716,0.4325000047683716,0.43250781297683716,0.4325000047683716,0.4325000047683716,0.43250781297683716,0.4325000047683716,0.43250781297683716,0.4325000047683716,0.46817970275878906,0.4825078248977661,0.48250001668930054,0.48250001668930054,0.48250001668930054,0.48250001668930054,0.48250001668930054,0.48250001668930054,0.48250001668930054,0.48250001668930054,0.48250001668930054,0.48250001668930054,0.48250001668930054,0.48250001668930054,0.48250001668930054,0.48250001668930054,0.48250001668930054,0.48250001668930054,0.48250001668930054,0.48250001668930054],\"yaxis\":\"y\",\"type\":\"scatter\"}],\"layout\":{\"template\":{\"data\":{\"barpolar\":[{\"marker\":{\"line\":{\"color\":\"white\",\"width\":0.5},\"pattern\":{\"fillmode\":\"overlay\",\"size\":10,\"solidity\":0.2}},\"type\":\"barpolar\"}],\"bar\":[{\"error_x\":{\"color\":\"#2a3f5f\"},\"error_y\":{\"color\":\"#2a3f5f\"},\"marker\":{\"line\":{\"color\":\"white\",\"width\":0.5},\"pattern\":{\"fillmode\":\"overlay\",\"size\":10,\"solidity\":0.2}},\"type\":\"bar\"}],\"carpet\":[{\"aaxis\":{\"endlinecolor\":\"#2a3f5f\",\"gridcolor\":\"#C8D4E3\",\"linecolor\":\"#C8D4E3\",\"minorgridcolor\":\"#C8D4E3\",\"startlinecolor\":\"#2a3f5f\"},\"baxis\":{\"endlinecolor\":\"#2a3f5f\",\"gridcolor\":\"#C8D4E3\",\"linecolor\":\"#C8D4E3\",\"minorgridcolor\":\"#C8D4E3\",\"startlinecolor\":\"#2a3f5f\"},\"type\":\"carpet\"}],\"choropleth\":[{\"colorbar\":{\"outlinewidth\":0,\"ticks\":\"\"},\"type\":\"choropleth\"}],\"contourcarpet\":[{\"colorbar\":{\"outlinewidth\":0,\"ticks\":\"\"},\"type\":\"contourcarpet\"}],\"contour\":[{\"colorbar\":{\"outlinewidth\":0,\"ticks\":\"\"},\"colorscale\":[[0.0,\"#0d0887\"],[0.1111111111111111,\"#46039f\"],[0.2222222222222222,\"#7201a8\"],[0.3333333333333333,\"#9c179e\"],[0.4444444444444444,\"#bd3786\"],[0.5555555555555556,\"#d8576b\"],[0.6666666666666666,\"#ed7953\"],[0.7777777777777778,\"#fb9f3a\"],[0.8888888888888888,\"#fdca26\"],[1.0,\"#f0f921\"]],\"type\":\"contour\"}],\"heatmapgl\":[{\"colorbar\":{\"outlinewidth\":0,\"ticks\":\"\"},\"colorscale\":[[0.0,\"#0d0887\"],[0.1111111111111111,\"#46039f\"],[0.2222222222222222,\"#7201a8\"],[0.3333333333333333,\"#9c179e\"],[0.4444444444444444,\"#bd3786\"],[0.5555555555555556,\"#d8576b\"],[0.6666666666666666,\"#ed7953\"],[0.7777777777777778,\"#fb9f3a\"],[0.8888888888888888,\"#fdca26\"],[1.0,\"#f0f921\"]],\"type\":\"heatmapgl\"}],\"heatmap\":[{\"colorbar\":{\"outlinewidth\":0,\"ticks\":\"\"},\"colorscale\":[[0.0,\"#0d0887\"],[0.1111111111111111,\"#46039f\"],[0.2222222222222222,\"#7201a8\"],[0.3333333333333333,\"#9c179e\"],[0.4444444444444444,\"#bd3786\"],[0.5555555555555556,\"#d8576b\"],[0.6666666666666666,\"#ed7953\"],[0.7777777777777778,\"#fb9f3a\"],[0.8888888888888888,\"#fdca26\"],[1.0,\"#f0f921\"]],\"type\":\"heatmap\"}],\"histogram2dcontour\":[{\"colorbar\":{\"outlinewidth\":0,\"ticks\":\"\"},\"colorscale\":[[0.0,\"#0d0887\"],[0.1111111111111111,\"#46039f\"],[0.2222222222222222,\"#7201a8\"],[0.3333333333333333,\"#9c179e\"],[0.4444444444444444,\"#bd3786\"],[0.5555555555555556,\"#d8576b\"],[0.6666666666666666,\"#ed7953\"],[0.7777777777777778,\"#fb9f3a\"],[0.8888888888888888,\"#fdca26\"],[1.0,\"#f0f921\"]],\"type\":\"histogram2dcontour\"}],\"histogram2d\":[{\"colorbar\":{\"outlinewidth\":0,\"ticks\":\"\"},\"colorscale\":[[0.0,\"#0d0887\"],[0.1111111111111111,\"#46039f\"],[0.2222222222222222,\"#7201a8\"],[0.3333333333333333,\"#9c179e\"],[0.4444444444444444,\"#bd3786\"],[0.5555555555555556,\"#d8576b\"],[0.6666666666666666,\"#ed7953\"],[0.7777777777777778,\"#fb9f3a\"],[0.8888888888888888,\"#fdca26\"],[1.0,\"#f0f921\"]],\"type\":\"histogram2d\"}],\"histogram\":[{\"marker\":{\"pattern\":{\"fillmode\":\"overlay\",\"size\":10,\"solidity\":0.2}},\"type\":\"histogram\"}],\"mesh3d\":[{\"colorbar\":{\"outlinewidth\":0,\"ticks\":\"\"},\"type\":\"mesh3d\"}],\"parcoords\":[{\"line\":{\"colorbar\":{\"outlinewidth\":0,\"ticks\":\"\"}},\"type\":\"parcoords\"}],\"pie\":[{\"automargin\":true,\"type\":\"pie\"}],\"scatter3d\":[{\"line\":{\"colorbar\":{\"outlinewidth\":0,\"ticks\":\"\"}},\"marker\":{\"colorbar\":{\"outlinewidth\":0,\"ticks\":\"\"}},\"type\":\"scatter3d\"}],\"scattercarpet\":[{\"marker\":{\"colorbar\":{\"outlinewidth\":0,\"ticks\":\"\"}},\"type\":\"scattercarpet\"}],\"scattergeo\":[{\"marker\":{\"colorbar\":{\"outlinewidth\":0,\"ticks\":\"\"}},\"type\":\"scattergeo\"}],\"scattergl\":[{\"marker\":{\"colorbar\":{\"outlinewidth\":0,\"ticks\":\"\"}},\"type\":\"scattergl\"}],\"scattermapbox\":[{\"marker\":{\"colorbar\":{\"outlinewidth\":0,\"ticks\":\"\"}},\"type\":\"scattermapbox\"}],\"scatterpolargl\":[{\"marker\":{\"colorbar\":{\"outlinewidth\":0,\"ticks\":\"\"}},\"type\":\"scatterpolargl\"}],\"scatterpolar\":[{\"marker\":{\"colorbar\":{\"outlinewidth\":0,\"ticks\":\"\"}},\"type\":\"scatterpolar\"}],\"scatter\":[{\"fillpattern\":{\"fillmode\":\"overlay\",\"size\":10,\"solidity\":0.2},\"type\":\"scatter\"}],\"scatterternary\":[{\"marker\":{\"colorbar\":{\"outlinewidth\":0,\"ticks\":\"\"}},\"type\":\"scatterternary\"}],\"surface\":[{\"colorbar\":{\"outlinewidth\":0,\"ticks\":\"\"},\"colorscale\":[[0.0,\"#0d0887\"],[0.1111111111111111,\"#46039f\"],[0.2222222222222222,\"#7201a8\"],[0.3333333333333333,\"#9c179e\"],[0.4444444444444444,\"#bd3786\"],[0.5555555555555556,\"#d8576b\"],[0.6666666666666666,\"#ed7953\"],[0.7777777777777778,\"#fb9f3a\"],[0.8888888888888888,\"#fdca26\"],[1.0,\"#f0f921\"]],\"type\":\"surface\"}],\"table\":[{\"cells\":{\"fill\":{\"color\":\"#EBF0F8\"},\"line\":{\"color\":\"white\"}},\"header\":{\"fill\":{\"color\":\"#C8D4E3\"},\"line\":{\"color\":\"white\"}},\"type\":\"table\"}]},\"layout\":{\"annotationdefaults\":{\"arrowcolor\":\"#2a3f5f\",\"arrowhead\":0,\"arrowwidth\":1},\"autotypenumbers\":\"strict\",\"coloraxis\":{\"colorbar\":{\"outlinewidth\":0,\"ticks\":\"\"}},\"colorscale\":{\"diverging\":[[0,\"#8e0152\"],[0.1,\"#c51b7d\"],[0.2,\"#de77ae\"],[0.3,\"#f1b6da\"],[0.4,\"#fde0ef\"],[0.5,\"#f7f7f7\"],[0.6,\"#e6f5d0\"],[0.7,\"#b8e186\"],[0.8,\"#7fbc41\"],[0.9,\"#4d9221\"],[1,\"#276419\"]],\"sequential\":[[0.0,\"#0d0887\"],[0.1111111111111111,\"#46039f\"],[0.2222222222222222,\"#7201a8\"],[0.3333333333333333,\"#9c179e\"],[0.4444444444444444,\"#bd3786\"],[0.5555555555555556,\"#d8576b\"],[0.6666666666666666,\"#ed7953\"],[0.7777777777777778,\"#fb9f3a\"],[0.8888888888888888,\"#fdca26\"],[1.0,\"#f0f921\"]],\"sequentialminus\":[[0.0,\"#0d0887\"],[0.1111111111111111,\"#46039f\"],[0.2222222222222222,\"#7201a8\"],[0.3333333333333333,\"#9c179e\"],[0.4444444444444444,\"#bd3786\"],[0.5555555555555556,\"#d8576b\"],[0.6666666666666666,\"#ed7953\"],[0.7777777777777778,\"#fb9f3a\"],[0.8888888888888888,\"#fdca26\"],[1.0,\"#f0f921\"]]},\"colorway\":[\"#636efa\",\"#EF553B\",\"#00cc96\",\"#ab63fa\",\"#FFA15A\",\"#19d3f3\",\"#FF6692\",\"#B6E880\",\"#FF97FF\",\"#FECB52\"],\"font\":{\"color\":\"#2a3f5f\"},\"geo\":{\"bgcolor\":\"white\",\"lakecolor\":\"white\",\"landcolor\":\"white\",\"showlakes\":true,\"showland\":true,\"subunitcolor\":\"#C8D4E3\"},\"hoverlabel\":{\"align\":\"left\"},\"hovermode\":\"closest\",\"mapbox\":{\"style\":\"light\"},\"paper_bgcolor\":\"white\",\"plot_bgcolor\":\"white\",\"polar\":{\"angularaxis\":{\"gridcolor\":\"#EBF0F8\",\"linecolor\":\"#EBF0F8\",\"ticks\":\"\"},\"bgcolor\":\"white\",\"radialaxis\":{\"gridcolor\":\"#EBF0F8\",\"linecolor\":\"#EBF0F8\",\"ticks\":\"\"}},\"scene\":{\"xaxis\":{\"backgroundcolor\":\"white\",\"gridcolor\":\"#DFE8F3\",\"gridwidth\":2,\"linecolor\":\"#EBF0F8\",\"showbackground\":true,\"ticks\":\"\",\"zerolinecolor\":\"#EBF0F8\"},\"yaxis\":{\"backgroundcolor\":\"white\",\"gridcolor\":\"#DFE8F3\",\"gridwidth\":2,\"linecolor\":\"#EBF0F8\",\"showbackground\":true,\"ticks\":\"\",\"zerolinecolor\":\"#EBF0F8\"},\"zaxis\":{\"backgroundcolor\":\"white\",\"gridcolor\":\"#DFE8F3\",\"gridwidth\":2,\"linecolor\":\"#EBF0F8\",\"showbackground\":true,\"ticks\":\"\",\"zerolinecolor\":\"#EBF0F8\"}},\"shapedefaults\":{\"line\":{\"color\":\"#2a3f5f\"}},\"ternary\":{\"aaxis\":{\"gridcolor\":\"#DFE8F3\",\"linecolor\":\"#A2B1C6\",\"ticks\":\"\"},\"baxis\":{\"gridcolor\":\"#DFE8F3\",\"linecolor\":\"#A2B1C6\",\"ticks\":\"\"},\"bgcolor\":\"white\",\"caxis\":{\"gridcolor\":\"#DFE8F3\",\"linecolor\":\"#A2B1C6\",\"ticks\":\"\"}},\"title\":{\"x\":0.05},\"xaxis\":{\"automargin\":true,\"gridcolor\":\"#EBF0F8\",\"linecolor\":\"#EBF0F8\",\"ticks\":\"\",\"title\":{\"standoff\":15},\"zerolinecolor\":\"#EBF0F8\",\"zerolinewidth\":2},\"yaxis\":{\"automargin\":true,\"gridcolor\":\"#EBF0F8\",\"linecolor\":\"#EBF0F8\",\"ticks\":\"\",\"title\":{\"standoff\":15},\"zerolinecolor\":\"#EBF0F8\",\"zerolinewidth\":2}}},\"xaxis\":{\"anchor\":\"y\",\"domain\":[0.0,1.0],\"title\":{\"text\":\"Employment income\"},\"tickformat\":\",.0f\",\"tickprefix\":\"\\\\u00a3\"},\"yaxis\":{\"anchor\":\"x\",\"domain\":[0.0,1.0],\"title\":{\"text\":\"Marginal tax rate\"},\"tickformat\":\".0%\",\"range\":[-0.01,1]},\"legend\":{\"title\":{\"text\":\"Policy\"},\"tracegroupgap\":0},\"margin\":{\"t\":60},\"title\":{\"text\":\"Figure 14: Marginal tax rate by UBI policy and income (married couple, two children)\"},\"font\":{\"family\":\"Roboto Serif\",\"color\":\"black\"},\"images\":[{\"sizex\":0.2,\"sizey\":0.2,\"source\":\"https://raw.githubusercontent.com/PolicyEngine/policyengine-app/master/src/images/logos/policyengine/blue.png\",\"x\":1,\"xanchor\":\"right\",\"xref\":\"paper\",\"y\":-0.15,\"yanchor\":\"bottom\",\"yref\":\"paper\"}],\"height\":600,\"width\":800,\"modebar\":{\"bgcolor\":\"rgba(0,0,0,0)\",\"color\":\"rgba(0,0,0,0)\"}}}'"
      ]
     },
     "execution_count": 18,
     "metadata": {},
     "output_type": "execute_result"
    }
   ],
   "source": [
    "import plotly.io as pio\n",
    "\n",
    "fig = px.line(\n",
    "    mtr_df[mtr_df[\"Household type\"] == \"Married couple, two children\"], \n",
    "    x=\"Earnings\", \n",
    "    y=\"Marginal tax rate\", \n",
    "    color=\"Policy\",\n",
    "    color_discrete_sequence=[DARK_GRAY] + BLUE_COLOUR_SCALE,\n",
    ").update_layout(\n",
    "    yaxis_tickformat=\".0%\",\n",
    "    xaxis_tickformat=\",.0f\",\n",
    "    xaxis_tickprefix=\"£\",\n",
    "    yaxis_range=(-0.01, 1),\n",
    "    yaxis_title=\"Marginal tax rate\",\n",
    "    xaxis_title=\"Employment income\",\n",
    "    title=\"Figure 14: Marginal tax rate by UBI policy and income (married couple, two children)\",\n",
    ").update_traces(\n",
    "    line_shape=\"hv\",\n",
    ")\n",
    "format_fig(fig).to_json()"
   ]
  },
  {
   "cell_type": "markdown",
   "metadata": {},
   "source": [
    "Another way of framing these effects is as the change to effective marginal wages. For example, if a policy increases the MTR from 35% to 40%, that lowers the effective marginal wage from 65% to 60%, or by about 8%. Here we see that effective marginal wages are generally lower under the UBI reforms, except for the regions described above.\n"
   ]
  },
  {
   "cell_type": "code",
   "execution_count": null,
   "metadata": {
    "tags": [
     "hide-input"
    ]
   },
   "outputs": [],
   "source": [
    "import plotly.express as px\n",
    "from policyengine_uk import Simulation\n",
    "import pandas as pd\n",
    "\n",
    "dfs = []\n",
    "for reform, policy_name in zip([model_1_reform, model_2_reform, model_3_reform], [\"£200/month\", \"£300/month\", \"£400/month\"]):\n",
    "    for household_type, household_name in zip(\n",
    "        [SINGLE_NO_CHILDREN, MARRIED_TWO_CHILDREN, PENSIONER_COUPLE_NO_CHILDREN],\n",
    "        [\"Single adult, no children\", \"Married couple, two children\", \"Pensioner couple, no children\"],\n",
    "    ):\n",
    "        baseline_sim = Simulation(situation=household_type)\n",
    "        sim = Simulation(situation=household_type, reform=reform)\n",
    "        mtr = sim.calculate(\"marginal_tax_rate\", 2023) - baseline_sim.calculate(\"marginal_tax_rate\", 2023)\n",
    "        original_mtr = baseline_sim.calculate(\"marginal_tax_rate\", 2023).reshape((100, -1)).T[0]\n",
    "        original_wage_multiplier = 1 - original_mtr\n",
    "        reformed_mtr = sim.calculate(\"marginal_tax_rate\", 2023).reshape((100, -1)).T[0]\n",
    "        reformed_wage_multiplier = 1 - reformed_mtr\n",
    "        wage = reformed_wage_multiplier / original_wage_multiplier - 1\n",
    "        earnings = sim.calculate(\"employment_income\", map_to=\"household\", period=2023)\n",
    "        df = pd.DataFrame({\"Policy\": policy_name, \"Effective wage change\": wage, \"Earnings\": earnings, \"Household type\": household_name})\n",
    "        dfs.append(df)\n",
    "\n",
    "wage_change_df = pd.concat(dfs)"
   ]
  },
  {
   "cell_type": "code",
   "execution_count": null,
   "metadata": {
    "tags": [
     "hide-input"
    ]
   },
   "outputs": [
    {
     "data": {
      "text/plain": [
       "'{\"data\":[{\"hovertemplate\":\"Policy=\\\\u00a3200/month<br>Earnings=%{x}<br>Effective wage change=%{y}<extra></extra>\",\"legendgroup\":\"\\\\u00a3200/month\",\"line\":{\"color\":\"#D8E6F3\",\"dash\":\"solid\",\"shape\":\"hv\"},\"marker\":{\"symbol\":\"circle\"},\"mode\":\"lines\",\"name\":\"\\\\u00a3200/month\",\"orientation\":\"v\",\"showlegend\":true,\"x\":[0.0,1560.668701171875,3121.33740234375,4682.00634765625,6242.6748046875,7803.34375,9364.0126953125,10924.6806640625,12485.349609375,14046.017578125,15606.6875,17167.35546875,18728.025390625,20288.69140625,21849.361328125,23410.03125,24970.69921875,26531.369140625,28092.03515625,29652.705078125,31213.375,32774.04296875,34334.7109375,35895.37890625,37456.05078125,39016.71875,40577.3828125,42138.0546875,43698.72265625,45259.39453125,46820.0625,48380.7265625,49941.3984375,51502.06640625,53062.73828125,54623.40625,56184.0703125,57744.7421875,59305.41015625,60866.08203125,62426.75,63987.4140625,65548.0859375,67108.7578125,68669.421875,70230.09375,71790.7578125,73351.4296875,74912.1015625,76472.765625,78033.4375,79594.1015625,81154.765625,82715.4453125,84276.109375,85836.78125,87397.4453125,88958.109375,90518.7890625,92079.453125,93640.125,95200.7890625,96761.453125,98322.1328125,99882.796875,101443.46875,103004.1328125,104564.796875,106125.4765625,107686.140625,109246.8125,110807.4765625,112368.140625,113928.8203125,115489.484375,117050.15625,118610.8203125,120171.484375,121732.1640625,123292.828125,124853.5,126414.1640625,127974.828125,129535.5078125,131096.171875,132656.828125,134217.515625,135778.1875,137338.84375,138899.515625,140460.1875,142020.84375,143581.515625,145142.1875,146702.859375,148263.515625,149824.203125,151384.875,152945.53125,154506.203125],\"xaxis\":\"x\",\"y\":[0.0,-0.07826471328735352,-0.21700000762939453,-0.21700000762939453,-0.01920264959335327,0.13571178913116455,-0.21700531244277954,-0.21700531244277954,-0.24377471208572388,-0.025001227855682373,-0.025001227855682373,-0.024994969367980957,-0.024994969367980957,-0.024994969367980957,-0.024994969367980957,-0.024994969367980957,-0.024994969367980957,-0.025001585483551025,-0.024994969367980957,-0.02500748634338379,-0.024994969367980957,-0.024994969367980957,-0.024994969367980957,-0.39779239892959595,-0.5612477660179138,-0.5612419843673706,-0.13033658266067505,-0.025000035762786865,-0.025000035762786865,-0.025000035762786865,-0.025000035762786865,-0.025000035762786865,1.0257344245910645,-0.09234833717346191,-0.09234833717346191,-0.09233909845352173,-0.09233909845352173,-0.09235858917236328,-0.08017027378082275,-0.06168085336685181,-0.06167393922805786,-0.06167393922805786,-0.06167393922805786,-0.06167393922805786,-0.06167393922805786,-0.06168085336685181,-0.06168043613433838,-0.06168085336685181,-0.06167393922805786,-0.06167393922805786,-0.06167393922805786,-0.061667561531066895,-0.06167393922805786,-0.06167393922805786,-0.06167393922805786,-0.06167393922805786,-0.06168043613433838,-0.06167393922805786,-0.06167393922805786,-0.06167393922805786,-0.06167393922805786,-0.06167393922805786,-0.06168085336685181,-0.06166106462478638,-0.12901681661605835,-0.14285719394683838,-0.1403942108154297,0.44897961616516113,0.44897961616516113,0.44895827770233154,0.44897961616516113,0.44897961616516113,0.44897961616516113,0.44901037216186523,0.44897961616516113,0.44897961616516113,0.44897961616516113,0.44897961616516113,0.44897961616516113,0.44897961616516113,0.04700446128845215,-0.06763291358947754,-0.06764787435531616,-0.06761771440505981,-0.06763291358947754,-0.06764787435531616,-0.06763291358947754,-0.06763291358947754,-0.06763291358947754,-0.06763291358947754,-0.06763291358947754,-0.06763291358947754,-0.06763291358947754,-0.06763291358947754,-0.06763291358947754,-0.06763291358947754,-0.06763291358947754,-0.06763291358947754,-0.06763291358947754,-0.06763291358947754],\"yaxis\":\"y\",\"type\":\"scatter\"},{\"hovertemplate\":\"Policy=\\\\u00a3300/month<br>Earnings=%{x}<br>Effective wage change=%{y}<extra></extra>\",\"legendgroup\":\"\\\\u00a3300/month\",\"line\":{\"color\":\"#2C6496\",\"dash\":\"solid\",\"shape\":\"hv\"},\"marker\":{\"symbol\":\"circle\"},\"mode\":\"lines\",\"name\":\"\\\\u00a3300/month\",\"orientation\":\"v\",\"showlegend\":true,\"x\":[0.0,1560.668701171875,3121.33740234375,4682.00634765625,6242.6748046875,7803.34375,9364.0126953125,10924.6806640625,12485.349609375,14046.017578125,15606.6875,17167.35546875,18728.025390625,20288.69140625,21849.361328125,23410.03125,24970.69921875,26531.369140625,28092.03515625,29652.705078125,31213.375,32774.04296875,34334.7109375,35895.37890625,37456.05078125,39016.71875,40577.3828125,42138.0546875,43698.72265625,45259.39453125,46820.0625,48380.7265625,49941.3984375,51502.06640625,53062.73828125,54623.40625,56184.0703125,57744.7421875,59305.41015625,60866.08203125,62426.75,63987.4140625,65548.0859375,67108.7578125,68669.421875,70230.09375,71790.7578125,73351.4296875,74912.1015625,76472.765625,78033.4375,79594.1015625,81154.765625,82715.4453125,84276.109375,85836.78125,87397.4453125,88958.109375,90518.7890625,92079.453125,93640.125,95200.7890625,96761.453125,98322.1328125,99882.796875,101443.46875,103004.1328125,104564.796875,106125.4765625,107686.140625,109246.8125,110807.4765625,112368.140625,113928.8203125,115489.484375,117050.15625,118610.8203125,120171.484375,121732.1640625,123292.828125,124853.5,126414.1640625,127974.828125,129535.5078125,131096.171875,132656.828125,134217.515625,135778.1875,137338.84375,138899.515625,140460.1875,142020.84375,143581.515625,145142.1875,146702.859375,148263.515625,149824.203125,151384.875,152945.53125,154506.203125],\"xaxis\":\"x\",\"y\":[-0.25099998712539673,-0.2509992718696594,-0.25099998712539673,-0.25099998712539673,-0.06179153919219971,0.6644445657730103,-0.25099819898605347,-0.25099819898605347,-0.2819724678993225,-0.074984610080719,-0.0749974250793457,-0.0749974250793457,-0.0749974250793457,-0.07501029968261719,-0.07500368356704712,-0.0749974250793457,-0.0749974250793457,-0.07500451803207397,-0.074984610080719,-0.07500338554382324,-0.07501029968261719,-0.0749974250793457,-0.0749974250793457,-0.4286841154098511,-0.5837430953979492,-0.5837430953979492,-0.5837488770484924,-0.5837430953979492,-0.09437048435211182,-0.07499998807907104,-0.07499998807907104,-0.07500576972961426,1.1484911441802979,-0.13456463813781738,-0.13456463813781738,-0.13455581665039062,-0.13455581665039062,-0.13456463813781738,-0.11681967973709106,-0.08986783027648926,-0.08986783027648926,-0.08986783027648926,-0.08986783027648926,-0.08987468481063843,-0.08986783027648926,-0.08986783027648926,-0.0898672342300415,-0.08986783027648926,-0.08986783027648926,-0.08987468481063843,-0.08986091613769531,-0.08986163139343262,-0.08986783027648926,-0.08986783027648926,-0.08986783027648926,-0.08987468481063843,-0.08987414836883545,-0.08986783027648926,-0.08986783027648926,-0.08986783027648926,-0.08986783027648926,-0.08986783027648926,-0.08987468481063843,-0.08985531330108643,0.32120299339294434,0.40544211864471436,0.4054720401763916,0.40544211864471436,0.40544211864471436,0.40544211864471436,0.40544211864471436,0.40544211864471436,0.40544211864471436,0.4054720401763916,0.40544211864471436,0.40544211864471436,0.40544211864471436,0.40544211864471436,0.4053996801376343,0.40544211864471436,0.013286471366882324,-0.09856581687927246,-0.09855061769485474,-0.09855061769485474,-0.09855061769485474,-0.09855061769485474,-0.09855061769485474,-0.09855061769485474,-0.09855061769485474,-0.09855061769485474,-0.09855061769485474,-0.09855061769485474,-0.09855061769485474,-0.09853565692901611,-0.09855061769485474,-0.09855061769485474,-0.09855061769485474,-0.09855061769485474,-0.09855061769485474,-0.09855061769485474],\"yaxis\":\"y\",\"type\":\"scatter\"},{\"hovertemplate\":\"Policy=\\\\u00a3400/month<br>Earnings=%{x}<br>Effective wage change=%{y}<extra></extra>\",\"legendgroup\":\"\\\\u00a3400/month\",\"line\":{\"color\":\"#17354F\",\"dash\":\"solid\",\"shape\":\"hv\"},\"marker\":{\"symbol\":\"circle\"},\"mode\":\"lines\",\"name\":\"\\\\u00a3400/month\",\"orientation\":\"v\",\"showlegend\":true,\"x\":[0.0,1560.668701171875,3121.33740234375,4682.00634765625,6242.6748046875,7803.34375,9364.0126953125,10924.6806640625,12485.349609375,14046.017578125,15606.6875,17167.35546875,18728.025390625,20288.69140625,21849.361328125,23410.03125,24970.69921875,26531.369140625,28092.03515625,29652.705078125,31213.375,32774.04296875,34334.7109375,35895.37890625,37456.05078125,39016.71875,40577.3828125,42138.0546875,43698.72265625,45259.39453125,46820.0625,48380.7265625,49941.3984375,51502.06640625,53062.73828125,54623.40625,56184.0703125,57744.7421875,59305.41015625,60866.08203125,62426.75,63987.4140625,65548.0859375,67108.7578125,68669.421875,70230.09375,71790.7578125,73351.4296875,74912.1015625,76472.765625,78033.4375,79594.1015625,81154.765625,82715.4453125,84276.109375,85836.78125,87397.4453125,88958.109375,90518.7890625,92079.453125,93640.125,95200.7890625,96761.453125,98322.1328125,99882.796875,101443.46875,103004.1328125,104564.796875,106125.4765625,107686.140625,109246.8125,110807.4765625,112368.140625,113928.8203125,115489.484375,117050.15625,118610.8203125,120171.484375,121732.1640625,123292.828125,124853.5,126414.1640625,127974.828125,129535.5078125,131096.171875,132656.828125,134217.515625,135778.1875,137338.84375,138899.515625,140460.1875,142020.84375,143581.515625,145142.1875,146702.859375,148263.515625,149824.203125,151384.875,152945.53125,154506.203125],\"xaxis\":\"x\",\"y\":[-0.3140000104904175,-0.31399935483932495,-0.3140000104904175,-0.3140000104904175,-0.14070630073547363,0.5244444608688354,0.23879337310791016,-0.3140016198158264,-0.35274094343185425,-0.1676366925239563,-0.16764956712722778,-0.1676366925239563,-0.1676366925239563,-0.1676366925239563,-0.16764956712722778,-0.16766244173049927,-0.16764956712722778,-0.1676572561264038,-0.1676366925239563,-0.16765493154525757,-0.16766244173049927,-0.16764956712722778,-0.1676366925239563,-0.4859023690223694,-0.6254423260688782,-0.625436544418335,-0.6254423260688782,-0.6254481077194214,-0.625436544418335,-0.625436544418335,-0.625436544418335,-0.2703239917755127,1.225827932357788,-1.0251998901367188e-05,-2.0623207092285156e-05,1.0251998901367188e-05,1.0251998901367188e-05,0.0,0.0,0.0,0.0,0.0,0.0,-6.854534149169922e-06,0.0,0.0,0.0,0.0,0.0,0.0,0.0,6.794929504394531e-06,0.0,0.0,0.0,0.0,0.0,-6.854534149169922e-06,0.0,0.0,0.0,0.0,-1.3768672943115234e-05,1.3709068298339844e-05,0.45163869857788086,0.544196367263794,0.5442291498184204,0.544217586517334,0.544217586517334,0.544196367263794,0.544217586517334,0.544217586517334,0.544217586517334,0.5442291498184204,0.544217586517334,0.544217586517334,0.544196367263794,0.544217586517334,0.544196367263794,0.544217586517334,0.12074613571166992,-1.5079975128173828e-05,0.0,0.0,0.0,0.0,0.0,0.0,0.0,0.0,0.0,0.0,0.0,0.0,0.0,0.0,0.0,0.0,0.0,0.0],\"yaxis\":\"y\",\"type\":\"scatter\"}],\"layout\":{\"template\":{\"data\":{\"barpolar\":[{\"marker\":{\"line\":{\"color\":\"white\",\"width\":0.5},\"pattern\":{\"fillmode\":\"overlay\",\"size\":10,\"solidity\":0.2}},\"type\":\"barpolar\"}],\"bar\":[{\"error_x\":{\"color\":\"#2a3f5f\"},\"error_y\":{\"color\":\"#2a3f5f\"},\"marker\":{\"line\":{\"color\":\"white\",\"width\":0.5},\"pattern\":{\"fillmode\":\"overlay\",\"size\":10,\"solidity\":0.2}},\"type\":\"bar\"}],\"carpet\":[{\"aaxis\":{\"endlinecolor\":\"#2a3f5f\",\"gridcolor\":\"#C8D4E3\",\"linecolor\":\"#C8D4E3\",\"minorgridcolor\":\"#C8D4E3\",\"startlinecolor\":\"#2a3f5f\"},\"baxis\":{\"endlinecolor\":\"#2a3f5f\",\"gridcolor\":\"#C8D4E3\",\"linecolor\":\"#C8D4E3\",\"minorgridcolor\":\"#C8D4E3\",\"startlinecolor\":\"#2a3f5f\"},\"type\":\"carpet\"}],\"choropleth\":[{\"colorbar\":{\"outlinewidth\":0,\"ticks\":\"\"},\"type\":\"choropleth\"}],\"contourcarpet\":[{\"colorbar\":{\"outlinewidth\":0,\"ticks\":\"\"},\"type\":\"contourcarpet\"}],\"contour\":[{\"colorbar\":{\"outlinewidth\":0,\"ticks\":\"\"},\"colorscale\":[[0.0,\"#0d0887\"],[0.1111111111111111,\"#46039f\"],[0.2222222222222222,\"#7201a8\"],[0.3333333333333333,\"#9c179e\"],[0.4444444444444444,\"#bd3786\"],[0.5555555555555556,\"#d8576b\"],[0.6666666666666666,\"#ed7953\"],[0.7777777777777778,\"#fb9f3a\"],[0.8888888888888888,\"#fdca26\"],[1.0,\"#f0f921\"]],\"type\":\"contour\"}],\"heatmapgl\":[{\"colorbar\":{\"outlinewidth\":0,\"ticks\":\"\"},\"colorscale\":[[0.0,\"#0d0887\"],[0.1111111111111111,\"#46039f\"],[0.2222222222222222,\"#7201a8\"],[0.3333333333333333,\"#9c179e\"],[0.4444444444444444,\"#bd3786\"],[0.5555555555555556,\"#d8576b\"],[0.6666666666666666,\"#ed7953\"],[0.7777777777777778,\"#fb9f3a\"],[0.8888888888888888,\"#fdca26\"],[1.0,\"#f0f921\"]],\"type\":\"heatmapgl\"}],\"heatmap\":[{\"colorbar\":{\"outlinewidth\":0,\"ticks\":\"\"},\"colorscale\":[[0.0,\"#0d0887\"],[0.1111111111111111,\"#46039f\"],[0.2222222222222222,\"#7201a8\"],[0.3333333333333333,\"#9c179e\"],[0.4444444444444444,\"#bd3786\"],[0.5555555555555556,\"#d8576b\"],[0.6666666666666666,\"#ed7953\"],[0.7777777777777778,\"#fb9f3a\"],[0.8888888888888888,\"#fdca26\"],[1.0,\"#f0f921\"]],\"type\":\"heatmap\"}],\"histogram2dcontour\":[{\"colorbar\":{\"outlinewidth\":0,\"ticks\":\"\"},\"colorscale\":[[0.0,\"#0d0887\"],[0.1111111111111111,\"#46039f\"],[0.2222222222222222,\"#7201a8\"],[0.3333333333333333,\"#9c179e\"],[0.4444444444444444,\"#bd3786\"],[0.5555555555555556,\"#d8576b\"],[0.6666666666666666,\"#ed7953\"],[0.7777777777777778,\"#fb9f3a\"],[0.8888888888888888,\"#fdca26\"],[1.0,\"#f0f921\"]],\"type\":\"histogram2dcontour\"}],\"histogram2d\":[{\"colorbar\":{\"outlinewidth\":0,\"ticks\":\"\"},\"colorscale\":[[0.0,\"#0d0887\"],[0.1111111111111111,\"#46039f\"],[0.2222222222222222,\"#7201a8\"],[0.3333333333333333,\"#9c179e\"],[0.4444444444444444,\"#bd3786\"],[0.5555555555555556,\"#d8576b\"],[0.6666666666666666,\"#ed7953\"],[0.7777777777777778,\"#fb9f3a\"],[0.8888888888888888,\"#fdca26\"],[1.0,\"#f0f921\"]],\"type\":\"histogram2d\"}],\"histogram\":[{\"marker\":{\"pattern\":{\"fillmode\":\"overlay\",\"size\":10,\"solidity\":0.2}},\"type\":\"histogram\"}],\"mesh3d\":[{\"colorbar\":{\"outlinewidth\":0,\"ticks\":\"\"},\"type\":\"mesh3d\"}],\"parcoords\":[{\"line\":{\"colorbar\":{\"outlinewidth\":0,\"ticks\":\"\"}},\"type\":\"parcoords\"}],\"pie\":[{\"automargin\":true,\"type\":\"pie\"}],\"scatter3d\":[{\"line\":{\"colorbar\":{\"outlinewidth\":0,\"ticks\":\"\"}},\"marker\":{\"colorbar\":{\"outlinewidth\":0,\"ticks\":\"\"}},\"type\":\"scatter3d\"}],\"scattercarpet\":[{\"marker\":{\"colorbar\":{\"outlinewidth\":0,\"ticks\":\"\"}},\"type\":\"scattercarpet\"}],\"scattergeo\":[{\"marker\":{\"colorbar\":{\"outlinewidth\":0,\"ticks\":\"\"}},\"type\":\"scattergeo\"}],\"scattergl\":[{\"marker\":{\"colorbar\":{\"outlinewidth\":0,\"ticks\":\"\"}},\"type\":\"scattergl\"}],\"scattermapbox\":[{\"marker\":{\"colorbar\":{\"outlinewidth\":0,\"ticks\":\"\"}},\"type\":\"scattermapbox\"}],\"scatterpolargl\":[{\"marker\":{\"colorbar\":{\"outlinewidth\":0,\"ticks\":\"\"}},\"type\":\"scatterpolargl\"}],\"scatterpolar\":[{\"marker\":{\"colorbar\":{\"outlinewidth\":0,\"ticks\":\"\"}},\"type\":\"scatterpolar\"}],\"scatter\":[{\"fillpattern\":{\"fillmode\":\"overlay\",\"size\":10,\"solidity\":0.2},\"type\":\"scatter\"}],\"scatterternary\":[{\"marker\":{\"colorbar\":{\"outlinewidth\":0,\"ticks\":\"\"}},\"type\":\"scatterternary\"}],\"surface\":[{\"colorbar\":{\"outlinewidth\":0,\"ticks\":\"\"},\"colorscale\":[[0.0,\"#0d0887\"],[0.1111111111111111,\"#46039f\"],[0.2222222222222222,\"#7201a8\"],[0.3333333333333333,\"#9c179e\"],[0.4444444444444444,\"#bd3786\"],[0.5555555555555556,\"#d8576b\"],[0.6666666666666666,\"#ed7953\"],[0.7777777777777778,\"#fb9f3a\"],[0.8888888888888888,\"#fdca26\"],[1.0,\"#f0f921\"]],\"type\":\"surface\"}],\"table\":[{\"cells\":{\"fill\":{\"color\":\"#EBF0F8\"},\"line\":{\"color\":\"white\"}},\"header\":{\"fill\":{\"color\":\"#C8D4E3\"},\"line\":{\"color\":\"white\"}},\"type\":\"table\"}]},\"layout\":{\"annotationdefaults\":{\"arrowcolor\":\"#2a3f5f\",\"arrowhead\":0,\"arrowwidth\":1},\"autotypenumbers\":\"strict\",\"coloraxis\":{\"colorbar\":{\"outlinewidth\":0,\"ticks\":\"\"}},\"colorscale\":{\"diverging\":[[0,\"#8e0152\"],[0.1,\"#c51b7d\"],[0.2,\"#de77ae\"],[0.3,\"#f1b6da\"],[0.4,\"#fde0ef\"],[0.5,\"#f7f7f7\"],[0.6,\"#e6f5d0\"],[0.7,\"#b8e186\"],[0.8,\"#7fbc41\"],[0.9,\"#4d9221\"],[1,\"#276419\"]],\"sequential\":[[0.0,\"#0d0887\"],[0.1111111111111111,\"#46039f\"],[0.2222222222222222,\"#7201a8\"],[0.3333333333333333,\"#9c179e\"],[0.4444444444444444,\"#bd3786\"],[0.5555555555555556,\"#d8576b\"],[0.6666666666666666,\"#ed7953\"],[0.7777777777777778,\"#fb9f3a\"],[0.8888888888888888,\"#fdca26\"],[1.0,\"#f0f921\"]],\"sequentialminus\":[[0.0,\"#0d0887\"],[0.1111111111111111,\"#46039f\"],[0.2222222222222222,\"#7201a8\"],[0.3333333333333333,\"#9c179e\"],[0.4444444444444444,\"#bd3786\"],[0.5555555555555556,\"#d8576b\"],[0.6666666666666666,\"#ed7953\"],[0.7777777777777778,\"#fb9f3a\"],[0.8888888888888888,\"#fdca26\"],[1.0,\"#f0f921\"]]},\"colorway\":[\"#636efa\",\"#EF553B\",\"#00cc96\",\"#ab63fa\",\"#FFA15A\",\"#19d3f3\",\"#FF6692\",\"#B6E880\",\"#FF97FF\",\"#FECB52\"],\"font\":{\"color\":\"#2a3f5f\"},\"geo\":{\"bgcolor\":\"white\",\"lakecolor\":\"white\",\"landcolor\":\"white\",\"showlakes\":true,\"showland\":true,\"subunitcolor\":\"#C8D4E3\"},\"hoverlabel\":{\"align\":\"left\"},\"hovermode\":\"closest\",\"mapbox\":{\"style\":\"light\"},\"paper_bgcolor\":\"white\",\"plot_bgcolor\":\"white\",\"polar\":{\"angularaxis\":{\"gridcolor\":\"#EBF0F8\",\"linecolor\":\"#EBF0F8\",\"ticks\":\"\"},\"bgcolor\":\"white\",\"radialaxis\":{\"gridcolor\":\"#EBF0F8\",\"linecolor\":\"#EBF0F8\",\"ticks\":\"\"}},\"scene\":{\"xaxis\":{\"backgroundcolor\":\"white\",\"gridcolor\":\"#DFE8F3\",\"gridwidth\":2,\"linecolor\":\"#EBF0F8\",\"showbackground\":true,\"ticks\":\"\",\"zerolinecolor\":\"#EBF0F8\"},\"yaxis\":{\"backgroundcolor\":\"white\",\"gridcolor\":\"#DFE8F3\",\"gridwidth\":2,\"linecolor\":\"#EBF0F8\",\"showbackground\":true,\"ticks\":\"\",\"zerolinecolor\":\"#EBF0F8\"},\"zaxis\":{\"backgroundcolor\":\"white\",\"gridcolor\":\"#DFE8F3\",\"gridwidth\":2,\"linecolor\":\"#EBF0F8\",\"showbackground\":true,\"ticks\":\"\",\"zerolinecolor\":\"#EBF0F8\"}},\"shapedefaults\":{\"line\":{\"color\":\"#2a3f5f\"}},\"ternary\":{\"aaxis\":{\"gridcolor\":\"#DFE8F3\",\"linecolor\":\"#A2B1C6\",\"ticks\":\"\"},\"baxis\":{\"gridcolor\":\"#DFE8F3\",\"linecolor\":\"#A2B1C6\",\"ticks\":\"\"},\"bgcolor\":\"white\",\"caxis\":{\"gridcolor\":\"#DFE8F3\",\"linecolor\":\"#A2B1C6\",\"ticks\":\"\"}},\"title\":{\"x\":0.05},\"xaxis\":{\"automargin\":true,\"gridcolor\":\"#EBF0F8\",\"linecolor\":\"#EBF0F8\",\"ticks\":\"\",\"title\":{\"standoff\":15},\"zerolinecolor\":\"#EBF0F8\",\"zerolinewidth\":2},\"yaxis\":{\"automargin\":true,\"gridcolor\":\"#EBF0F8\",\"linecolor\":\"#EBF0F8\",\"ticks\":\"\",\"title\":{\"standoff\":15},\"zerolinecolor\":\"#EBF0F8\",\"zerolinewidth\":2}}},\"xaxis\":{\"anchor\":\"y\",\"domain\":[0.0,1.0],\"title\":{\"text\":\"Employment income\"},\"tickformat\":\",.0f\",\"tickprefix\":\"\\\\u00a3\"},\"yaxis\":{\"anchor\":\"x\",\"domain\":[0.0,1.0],\"title\":{\"text\":\"Change to effective marginal wage\"},\"tickformat\":\"+.0%\",\"range\":[-1,1]},\"legend\":{\"title\":{\"text\":\"Policy\"},\"tracegroupgap\":0},\"margin\":{\"t\":60},\"title\":{\"text\":\"Figure 15: Change to effective marginal wage by UBI policy and income (married couple, two children)\"},\"shapes\":[{\"line\":{\"color\":\"grey\",\"width\":1},\"type\":\"line\",\"x0\":0,\"x1\":1,\"xref\":\"paper\",\"y0\":0,\"y1\":0,\"yref\":\"y\"}],\"font\":{\"family\":\"Roboto Serif\",\"color\":\"black\"},\"images\":[{\"sizex\":0.2,\"sizey\":0.2,\"source\":\"https://raw.githubusercontent.com/PolicyEngine/policyengine-app/master/src/images/logos/policyengine/blue.png\",\"x\":1,\"xanchor\":\"right\",\"xref\":\"paper\",\"y\":-0.15,\"yanchor\":\"bottom\",\"yref\":\"paper\"}],\"height\":600,\"width\":800,\"modebar\":{\"bgcolor\":\"rgba(0,0,0,0)\",\"color\":\"rgba(0,0,0,0)\"}}}'"
      ]
     },
     "execution_count": 20,
     "metadata": {},
     "output_type": "execute_result"
    }
   ],
   "source": [
    "import plotly.io as pio\n",
    "\n",
    "def plot_wage(household_name: str):\n",
    "    fig = px.line(\n",
    "        wage_change_df[wage_change_df[\"Household type\"] == household_name], \n",
    "        x=\"Earnings\", \n",
    "        y=\"Effective wage change\", \n",
    "        color=\"Policy\",\n",
    "        color_discrete_sequence=BLUE_COLOUR_SCALE,\n",
    "    ).update_layout(\n",
    "        yaxis_tickformat=\"+.0%\",\n",
    "        xaxis_tickformat=\",.0f\",\n",
    "        xaxis_tickprefix=\"£\",\n",
    "        yaxis_range=(-1, 1),\n",
    "        yaxis_title=\"Change to effective marginal wage\",\n",
    "        xaxis_title=\"Employment income\",\n",
    "        title=\"Figure 15: Change to effective marginal wage by UBI policy and income (married couple, two children)\",\n",
    "    ).update_traces(\n",
    "        line_shape=\"hv\",\n",
    "    )\n",
    "    fig.add_shape(\n",
    "            type=\"line\",\n",
    "            xref=\"paper\",\n",
    "            yref=\"y\",\n",
    "            x0=0,\n",
    "            y0=0,\n",
    "            x1=1,\n",
    "            y1=0,\n",
    "            line=dict(color=\"grey\", width=1),\n",
    "        )\n",
    "    return format_fig(fig)\n",
    "plot_wage(H2).to_json()"
   ]
  },
  {
   "cell_type": "markdown",
   "metadata": {},
   "source": [
    "## Conclusion\n",
    "\n",
    "The UBI policies examined in this report would result in notable shifts within Northern Ireland's socio-economic landscape, including poverty reductions historically corresponding to several years' changes.\n",
    "\n",
    "However, these shifts come with their own set of complexities, such as potential economic consequences and an increase in marginal tax rates for a considerable portion of the populace. It's important to note that our model is static and does not account for all of these factors. A [recent paper](http://www.columbia.edu/~wk2110/bin/DeatonReviewChapter.pdf) from the IFS and Columbia University states, \"Current estimates therefore suggest that the top UK rate [of 47%] is close to revenue maximizing, but there is a very large degree of uncertainty around this.\" Several of the proposed reforms would push this top rate closer to 80%.\n",
    "\n",
    "While our model shows certain immediate changes in household economics, it's less clear on the potential macroeconomic effects. For instance, the change in poverty status and marginal tax rates for a wide range of individuals could have various implications for the economy. More research is needed to understand the full spectrum of these impacts.\n",
    "\n",
    "Future studies could offer alternative policy designs that produce similar distributional effects but with reduced economic and social perturbations. Methods such as optimisation models could assess a variety of UBI policies specifically for Northern Ireland, potentially incorporating the tax reforms outlined in this report.\n",
    "\n",
    "Our microsimulation approach provides one piece of the puzzle in understanding possible outcomes of a universal basic income in Northern Ireland."
   ]
  },
  {
   "cell_type": "markdown",
   "metadata": {},
   "source": [
    "## Appendix A: PolicyEngine's data generation procedure\n",
    "\n",
    "PolicyEngine's enhanced FRS dataset counters many of the biases present within the unadjusted dataset. This section describes the data generation procedure in detail.\n",
    "\n",
    "1. **Start with the 2019-20 Family Resources Survey (FRS).** The Department of Work and Pensions administers the annual FRS, collecting information on household structure, income, taxes, and benefits from respondents. The FRS reports households' region, and 2,075 of its 19,210 households reside in Northern Ireland; these form the basis of this report. Like other research institutions, PolicyEngine skips the 2020-21 FRS round released in 2022, as Covid distorts its use for future-looking analysis.\n",
    "2. **Duplicate the FRS and replace income variables in a replicate with imputed values from the Survey of Personal Incomes (SPI).** HMRC releases the SPI as an anonymised sample of tax records. It is more accurate than the FRS, though it lacks demographic and benefit information of the FRS. PolicyEngine applies its [synthimpute](https://github.com/PSLmodels/synthimpute/releases) machine learning technology to impute from the conditional distribution of each record, ensuring that this copy of the FRS includes the tails of SPI records.\n",
    "3. **Stack the original and SPI-imputed FRS.** This gives the subsequent reweighting algorithm the opportunity to balance originally-reported FRS income and SPI-imputed income for each person.\n",
    "4. **Fuse consumption data from the Living Costs and Food Survey and wealth data from the Wealth and Assets Survey to the stacked FRS.** PolicyEngine imputes these signals using synthimpute; while this report does not make use of them, PolicyEngine makes them available for simulations of other policies like a land value tax and carbon tax.\n",
    "5. **Uprate (age) the survey data for each year from the survey year to 2026.** PolicyEngine uprates data in accordance with projections from the Office of National Statistics, such as projections of how average earnings will change.\n",
    "6. **Replace taxes and benefits with computed values for each modelled year.** PolicyEngine applies tax and benefit rules both to capture policy changes and to produce a baseline that responds only to policy reforms. They model benefit take-up by respecting whether a person, benefit unit, or household claimed a benefit if eligible, and assigning a probability for each benefit for ineligible households based on reported take-up rates.\n",
    "7. **Construct a loss metric measuring the aggregate deviation of totals from the survey to administrative totals reported by the government, for each modelled year.** PolicyEngine's loss metric covers population, income, benefits, and taxes at various granularities. In total, this loss metric has 2,664 components, of which 264 are specific to Northern Ireland.\n",
    "8. **Reweight the dataset to minimise this loss metric using gradient descent.** The gradient descent algorithm computes the change to the loss metric with respect to small perturbations of an input (in this case, a household's survey weight), then moves each input (weight) by some multiplier of that change (known as the _learning rate_), and iteratively continues this process. Artificial intelligence models like deep neural networks rely heavily on gradient descent. PolicyEngine identifies the number of iterations that minimises the loss on an out-of-sample set of validation metrics to avoid overfitting, and prevents negative weights. The [reweighting procedure](https://policyengine.github.io/openfisca-uk//model/reweighting.html) results in 862 Northern Ireland households with nonzero weight, and reduces the loss metric by about 99.5% compared to its initial value. Figure 16 shows that PolicyEngine's data enhancement dramatically reduces error rates for key Northern Ireland aggregates.\n",
    "\n",
    "We publish this dataset's accuracy in our [documentation page on validation](https://policyengine.github.io/openfisca-uk//model/validation.html), which shows that their model deviates from administrative totals less than UKMOD does (only UKMOD publishes their totals amongst other UK microsimulation models).\n",
    "\n",
    "**Table 2: Error rates for selected Northern Ireland aggregates based on the original and PolicyEngine-enhanced 2019/20 Family Resources Survey**\n"
   ]
  },
  {
   "cell_type": "code",
   "execution_count": null,
   "metadata": {},
   "outputs": [
    {
     "data": {
      "text/markdown": [
       "| Variable                         |   Target total |   Original FRS total |   Calibrated FRS total |   Original FRS error (%) |   Calibrated FRS error (%) |\n",
       "|:---------------------------------|---------------:|---------------------:|-----------------------:|-------------------------:|---------------------------:|\n",
       "| Income from dividends (£bn)      |           1.4  |                 0.1  |                   1.39 |                   -93    |                      -0.59 |\n",
       "| Employment income (£bn)          |          19    |                19.17 |                  18.45 |                     0.91 |                      -2.87 |\n",
       "| Pension income (£bn)             |           2.23 |                 2.52 |                   2.37 |                    13.03 |                       6.1  |\n",
       "| Rental income (£bn)              |           0.56 |                 0.23 |                   0.56 |                   -58.07 |                      -0.62 |\n",
       "| Savings interest income (£bn)    |           0.15 |                 0.1  |                   0.15 |                   -30.4  |                      -0.96 |\n",
       "| Self-employment income (£bn)     |           2.2  |                 2.29 |                   2.15 |                     4.1  |                      -2.41 |\n",
       "| Income Tax (£bn)                 |           3.03 |                 2.84 |                   2.97 |                    -6.42 |                      -1.98 |\n",
       "| National Insurance (total) (£bn) |           3.01 |                 3.28 |                   2.98 |                     8.83 |                      -1.02 |\n",
       "| Population (m)                   |           1.9  |                 1.86 |                   1.78 |                    -1.68 |                      -6.01 |\n",
       "| Households (m)                   |           0.77 |                 0.74 |                   0.77 |                    -3.83 |                      -0.07 |"
      ],
      "text/plain": [
       "<IPython.core.display.Markdown object>"
      ]
     },
     "execution_count": 21,
     "metadata": {},
     "output_type": "execute_result"
    }
   ],
   "source": [
    "import pandas as pd\n",
    "\n",
    "# Creating data dictionary\n",
    "data = {\n",
    "    'Variable': [\n",
    "        'Income from dividends (£bn)',\n",
    "        'Employment income (£bn)',\n",
    "        'Pension income (£bn)',\n",
    "        'Rental income (£bn)',\n",
    "        'Savings interest income (£bn)',\n",
    "        'Self-employment income (£bn)',\n",
    "        'Income Tax (£bn)',\n",
    "        'National Insurance (total) (£bn)',\n",
    "        'Population (m)',\n",
    "        'Households (m)'\n",
    "    ],\n",
    "    'Target total': [1.40, 19.00, 2.23, 0.56, 0.15, 2.20, 3.03, 3.01, 1.90, 0.77],\n",
    "    'Original FRS total': [0.10, 19.17, 2.52, 0.23, 0.10, 2.29, 2.84, 3.28, 1.86, 0.74],\n",
    "    'Calibrated FRS total': [1.39, 18.45, 2.37, 0.56, 0.15, 2.15, 2.97, 2.98, 1.78, 0.77],\n",
    "    'Original FRS error (%)': [-93.00, 0.91, 13.03, -58.07, -30.40, 4.10, -6.42, 8.83, -1.68, -3.83],\n",
    "    'Calibrated FRS error (%)': [-0.59, -2.87, 6.10, -0.62, -0.96, -2.41, -1.98, -1.02, -6.01, -0.07]\n",
    "}\n",
    "\n",
    "from IPython.display import Markdown\n",
    "df = pd.DataFrame(data)\n",
    "Markdown(df.to_markdown(index=False))"
   ]
  },
  {
   "cell_type": "markdown",
   "metadata": {},
   "source": [
    "## Appendix B: Extending the UBI to children\n",
    "\n",
    "Table 3 mirrors Table 1 with a parallel version of each UBI model, revised to provide half the adult amount to children under age 16.\n",
    "\n",
    "Table 3: Three policies to fund a UBI in Northern Ireland, including children\n"
   ]
  },
  {
   "cell_type": "code",
   "execution_count": null,
   "metadata": {},
   "outputs": [
    {
     "name": "stderr",
     "output_type": "stream",
     "text": [
      "100%|██████████| 14/14 [1:04:01<00:00, 274.43s/it]\n"
     ]
    }
   ],
   "source": [
    "df_child_space = create_policy_space(child_min_age=0)\n",
    "child_model_1_row, child_model_2_row, child_model_3_row = extract_three_model_rows(df_child_space, child_min_age=0)\n",
    "child_summary_table = create_summary_table(child_model_1_row, child_model_2_row, child_model_3_row)"
   ]
  },
  {
   "cell_type": "code",
   "execution_count": null,
   "metadata": {},
   "outputs": [
    {
     "data": {
      "text/markdown": [
       "|                               | Model 1                                                                                                                                           | Model 1c                                                                                                                                          | Model 2                                                                                                                                           | Model 2c                                                                                                                                          | Model 3                                                                                                                                           | Model 3c                                                                                                                                          |\n",
       "|:------------------------------|:--------------------------------------------------------------------------------------------------------------------------------------------------|:--------------------------------------------------------------------------------------------------------------------------------------------------|:--------------------------------------------------------------------------------------------------------------------------------------------------|:--------------------------------------------------------------------------------------------------------------------------------------------------|:--------------------------------------------------------------------------------------------------------------------------------------------------|:--------------------------------------------------------------------------------------------------------------------------------------------------|\n",
       "| Monthly UBI amount (18+)      | £200                                                                                                                                              | £200                                                                                                                                              | £300                                                                                                                                              | £300                                                                                                                                              | £400                                                                                                                                              | £400                                                                                                                                              |\n",
       "| Monthly UBI amount (16-17)    | £100                                                                                                                                              | £100                                                                                                                                              | £150                                                                                                                                              | £150                                                                                                                                              | £200                                                                                                                                              | £200                                                                                                                                              |\n",
       "| Monthly UBI amount (0-15)     | £0                                                                                                                                                | £100                                                                                                                                              | £0                                                                                                                                                | £150                                                                                                                                              | £0                                                                                                                                                | £200                                                                                                                                              |\n",
       "| Personal Allowance            | £2,000                                                                                                                                            | £2,000                                                                                                                                            | £0                                                                                                                                                | £0                                                                                                                                                | £0                                                                                                                                                | £0                                                                                                                                                |\n",
       "| Basic rate increase           | 1.8p                                                                                                                                              | 3.1p                                                                                                                                              | 5.2p                                                                                                                                              | 7.1p                                                                                                                                              | 11.5p                                                                                                                                             | 14.5p                                                                                                                                             |\n",
       "| Higher rate increase          | 3.6p                                                                                                                                              | 6.2p                                                                                                                                              | 5.2p                                                                                                                                              | 7.1p                                                                                                                                              | 0.0p                                                                                                                                              | 0.0p                                                                                                                                              |\n",
       "| Additional rate increase      | 3.6p                                                                                                                                              | 6.2p                                                                                                                                              | 5.2p                                                                                                                                              | 7.1p                                                                                                                                              | 0.0p                                                                                                                                              | 0.0p                                                                                                                                              |\n",
       "| Net cost                      | £0.9bn                                                                                                                                            | £0.9bn                                                                                                                                            | £1.3bn                                                                                                                                            | £1.5bn                                                                                                                                            | £1.7bn                                                                                                                                            | £1.9bn                                                                                                                                            |\n",
       "| Revenue raised                | £2.8bn                                                                                                                                            | £3.2bn                                                                                                                                            | £4.3bn                                                                                                                                            | £4.8bn                                                                                                                                            | £5.7bn                                                                                                                                            | £6.5bn                                                                                                                                            |\n",
       "| Basic income spending         | £3.4bn                                                                                                                                            | £3.9bn                                                                                                                                            | £5.1bn                                                                                                                                            | £5.8bn                                                                                                                                            | £6.8bn                                                                                                                                            | £7.7bn                                                                                                                                            |\n",
       "| Benefit outlay increase       | £0.3bn                                                                                                                                            | £0.3bn                                                                                                                                            | £0.4bn                                                                                                                                            | £0.5bn                                                                                                                                            | £0.6bn                                                                                                                                            | £0.7bn                                                                                                                                            |\n",
       "| Poverty impact                | -36.1%                                                                                                                                            | -40.2%                                                                                                                                            | -44.6%                                                                                                                                            | -45.6%                                                                                                                                            | -59.4%                                                                                                                                            | -68.1%                                                                                                                                            |\n",
       "| Inequality impact             | -9.1%                                                                                                                                             | -12.5%                                                                                                                                            | -13.9%                                                                                                                                            | -18.1%                                                                                                                                            | -17.7%                                                                                                                                            | -22.4%                                                                                                                                            |\n",
       "| Percent of population gaining | 67%                                                                                                                                               | 72%                                                                                                                                               | 70%                                                                                                                                               | 74%                                                                                                                                               | 70%                                                                                                                                               | 71%                                                                                                                                               |\n",
       "| UK supplement                 | 25.4%                                                                                                                                             | 24.4%                                                                                                                                             | 25.0%                                                                                                                                             | 25.3%                                                                                                                                             | 25.0%                                                                                                                                             | 24.8%                                                                                                                                             |\n",
       "| Link                          | <a href=\"https://policyengine.org/uk/policy?reform=33332&focus=policyOutput.decileRelativeImpact&region=ni&timePeriod=2023&baseline=1\">#33332</a> | <a href=\"https://policyengine.org/uk/policy?reform=33341&focus=policyOutput.decileRelativeImpact&region=ni&timePeriod=2023&baseline=1\">#33341</a> | <a href=\"https://policyengine.org/uk/policy?reform=33333&focus=policyOutput.decileRelativeImpact&region=ni&timePeriod=2023&baseline=1\">#33333</a> | <a href=\"https://policyengine.org/uk/policy?reform=33342&focus=policyOutput.decileRelativeImpact&region=ni&timePeriod=2023&baseline=1\">#33342</a> | <a href=\"https://policyengine.org/uk/policy?reform=33334&focus=policyOutput.decileRelativeImpact&region=ni&timePeriod=2023&baseline=1\">#33334</a> | <a href=\"https://policyengine.org/uk/policy?reform=33343&focus=policyOutput.decileRelativeImpact&region=ni&timePeriod=2023&baseline=1\">#33343</a> |"
      ],
      "text/plain": [
       "<IPython.core.display.Markdown object>"
      ]
     },
     "execution_count": 23,
     "metadata": {},
     "output_type": "execute_result"
    }
   ],
   "source": [
    "combined_table = pd.concat([\n",
    "    summary_table,\n",
    "    child_summary_table,\n",
    "]).T\n",
    "\n",
    "# Intersperse the columns (1, 4, 2, 5, 3, 6)\n",
    "\n",
    "combined_table = combined_table.iloc[:, [0, 3, 1, 4, 2, 5]]\n",
    "\n",
    "# Rename index (Model 1, Model 1(C), Model 2, Model 2(C), Model 3, Model 3(C))\n",
    "\n",
    "combined_table.columns = [\n",
    "    \"Model 1\",\n",
    "    \"Model 1c\",\n",
    "    \"Model 2\",\n",
    "    \"Model 2c\",\n",
    "    \"Model 3\",\n",
    "    \"Model 3c\",\n",
    "]\n",
    "\n",
    "for i in range(1, 4):\n",
    "    ubi_amount = {\n",
    "        1: \"£100\",\n",
    "        2: \"£150\",\n",
    "        3: \"£200\",\n",
    "    }[i]\n",
    "    combined_table[f\"Model {i}c\"].iloc[2] = ubi_amount\n",
    "\n",
    "Markdown(combined_table.to_markdown())"
   ]
  }
 ],
 "metadata": {
  "kernelspec": {
   "display_name": "Python 3.7.13 ('policyengine')",
   "language": "python",
   "name": "python3"
  },
  "language_info": {
   "codemirror_mode": {
    "name": "ipython",
    "version": 3
   },
   "file_extension": ".py",
   "mimetype": "text/x-python",
   "name": "python",
   "nbconvert_exporter": "python",
   "pygments_lexer": "ipython3",
   "version": "3.9.12"
  },
  "vscode": {
   "interpreter": {
    "hash": "b3d32dd368ae8f4a8d01f617ffd041f85e5cc660529457803f0af86bbe37ac63"
   }
  }
 },
 "nbformat": 4,
 "nbformat_minor": 4
}
