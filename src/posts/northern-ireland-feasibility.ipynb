{
 "cells": [
  {
   "cell_type": "markdown",
   "metadata": {
    "tags": [
     "hide-input"
    ]
   },
   "source": [
    "# Executive summary\n",
    "\n",
    "Northern Ireland is both unusually egalitarian and unusually supportive of universal basic income, the idea to provide everyone in society a regular unconditional payment. But so far, no study has quantified how the nation might enact a universal basic income (UBI) through tax and benefit reforms.\n",
    "\n",
    "Following proposals by the UBI Lab Northern Ireland, we fill that gap. This paper begins with a description of Northern Ireland's economy, then identifies over 120 tax-funded UBI policies, and zooms in on three in particular. These policies cover the space of UBI amounts (£200 to £400 per adult, per month) and tax reforms (lowering the personal allowance and increasing tax rates). As shown below, each of the policies significantly lowers poverty and inequality in Northern Ireland, while benefiting a majority of the population.\n",
    "\n",
    "We follow our population-level analysis with a household analysis, visualising how each of these three policies would affect the net income and work incentives of archetypical households. While each policy benefits low-income households and families with children, it leaves childless singles worse off when their income exceeds about £10,000. It also lowers the payoff to working for most workers, though it smooths out some of the most severe disincentives in the current system.\n",
    "\n",
    "UBI is a significant economic proposition, and our analysis finds that it would leave a major mark on most Northern Ireland residents—in an undeniably progressive fashion. We conclude with caveats of our analysis, opportunities for less disruptive models, and room for more research.\n",
    "\n",
    "# Northern Ireland today\n",
    "\n",
    "The demographic and economic characteristics of Northern Ireland (NI) differ from those of the UK and other UK nations. In the main, this is lower economic output, but higher levels of social security spending. NI has a GDP per capita roughly 20% below the UK average,[^1] and the population of 1.9 million generates around £2.8 billion in Income Tax liabilities.[^2] Higher levels of public spending (with a net fiscal deficit of £9,500 per capita)[^3] in NI increase disposable incomes to offset this. As a result, we estimate that 6.1% of NI is in absolute poverty, compared to 5.5% across the UK.[^4] We also find that NI is more equal, with a Gini index of 0.274 against the UK's 0.333.\n",
    "\n",
    "Many of Northern Ireland’s taxes and benefits operate under centralised UK rules, though exceptions to this include local property taxes such as [domestic rates](https://www.finance-ni.gov.uk/topics/property-rating/domestic-rating) (and rates rebates), which exist in place of Council Tax and Council Tax Benefit. Unlike Scotland, Northern Ireland does not set alternative tax rates for Income Tax.\n",
    "\n",
    "When it comes to basic income, Northern Ireland is broadly supportive. A 2017 poll by Ipsos MORI found that 66% of Northern Irish people favoured a basic income, compared to 49% of UK residents.[^5] Northern Ireland's net favourability of +55 was more than double that of any other region surveyed.\n",
    "\n",
    "[^1]: [Northern Ireland Statistics Research Agency, 2020](https://www.nisra.gov.uk/statistics/economic-output-statistics/gross-value-added-and-gross-domestic-product#:~:text=In%20terms%20of%20GDP%20per,78.6%20per%20cent%20of%20UK).).\n",
    "[^2]: [HMRC, 2019](https://assets.publishing.service.gov.uk/government/uploads/system/uploads/attachment_data/file/853118/Disaggregated_tax_and_NICs_receipts_-_methodological_note.pdf).\n",
    "[^3]: [ONS, 2021](https://www.ons.gov.uk/economy/governmentpublicsectorandtaxes/publicsectorfinance/articles/countryandregionalpublicsectorfinances/financialyearending2021#:~:text=On%20a%20per%20person%20basis,per%20head%20was%20%C2%A34%2C740.).\n",
    "[^4]: Throughout this paper, we report absolute poverty rates before housing costs, using the OpenFisca UK calibrated Family Resources Survey extrapolated to 2022.\n",
    "[^5]: This is the only poll to ask about basic income for Northern Ireland and the UK, per the [UBI Center's Poll Tracker](polls.ubicenter.org).\n"
   ]
  },
  {
   "cell_type": "code",
   "execution_count": 1,
   "metadata": {},
   "outputs": [
    {
     "data": {
      "text/plain": [
       "'{\"data\":[{\"alignmentgroup\":\"True\",\"customdata\":[[\"25% of people in Northern Ireland strongly support a UBI\"],[\"23% of people in Scotland strongly support a UBI\"],[\"16% of people in London strongly support a UBI\"],[\"16% of people in Wales strongly support a UBI\"],[\"15% of people in Midlands strongly support a UBI\"],[\"14% of people in North strongly support a UBI\"],[\"14% of people in England strongly support a UBI\"],[\"12% of people in South strongly support a UBI\"]],\"hovertemplate\":\"%{customdata[0]}\",\"legendgroup\":\"Strongly support\",\"marker\":{\"color\":\"#2C6496\",\"pattern\":{\"shape\":\"\"}},\"name\":\"Strongly support\",\"offsetgroup\":\"Strongly support\",\"orientation\":\"h\",\"showlegend\":true,\"text\":[\"25%\",\"23%\",\"16%\",\"16%\",\"15%\",\"14%\",\"14%\",\"12%\"],\"textposition\":\"inside\",\"x\":[25.2525252525,22.772277227700002,16.0,16.0,14.7058823529,14.0,14.0,12.1212121212],\"xaxis\":\"x\",\"y\":[\"Northern Ireland\",\"Scotland\",\"London\",\"Wales\",\"Midlands\",\"North\",\"England\",\"South\"],\"yaxis\":\"y\",\"type\":\"bar\",\"texttemplate\":\"%{text}\"},{\"alignmentgroup\":\"True\",\"customdata\":[[\"41% of people in Northern Ireland tend to support a UBI\"],[\"37% of people in South tend to support a UBI\"],[\"35% of people in North tend to support a UBI\"],[\"34% of people in England tend to support a UBI\"],[\"32% of people in Midlands tend to support a UBI\"],[\"31% of people in London tend to support a UBI\"],[\"31% of people in Wales tend to support a UBI\"],[\"24% of people in Scotland tend to support a UBI\"]],\"hovertemplate\":\"%{customdata[0]}\",\"legendgroup\":\"Tend to support\",\"marker\":{\"color\":\"#D8E6F3\",\"pattern\":{\"shape\":\"\"}},\"name\":\"Tend to support\",\"offsetgroup\":\"Tend to support\",\"orientation\":\"h\",\"showlegend\":true,\"text\":[\"41%\",\"37%\",\"35%\",\"34%\",\"32%\",\"31%\",\"31%\",\"24%\"],\"textposition\":\"inside\",\"x\":[41.4141414141,37.3737373737,35.0,34.0,32.3529411765,31.0,31.0,23.7623762376],\"xaxis\":\"x\",\"y\":[\"Northern Ireland\",\"South\",\"North\",\"England\",\"Midlands\",\"London\",\"Wales\",\"Scotland\"],\"yaxis\":\"y\",\"type\":\"bar\",\"texttemplate\":\"%{text}\"},{\"alignmentgroup\":\"True\",\"customdata\":[[\"29% of people in Wales neither support nor oppose a UBI\"],[\"20% of people in South neither support nor oppose a UBI\"],[\"20% of people in London neither support nor oppose a UBI\"],[\"19% of people in North neither support nor oppose a UBI\"],[\"19% of people in England neither support nor oppose a UBI\"],[\"18% of people in Midlands neither support nor oppose a UBI\"],[\"17% of people in Scotland neither support nor oppose a UBI\"],[\"17% of people in Northern Ireland neither support nor oppose a UBI\"]],\"hovertemplate\":\"%{customdata[0]}\",\"legendgroup\":\"Neither support nor oppose\",\"marker\":{\"color\":\"#FFFFFF\",\"pattern\":{\"shape\":\"\"}},\"name\":\"Neither support nor oppose\",\"offsetgroup\":\"Neither support nor oppose\",\"orientation\":\"h\",\"showlegend\":true,\"text\":[\"29%\",\"20%\",\"20%\",\"19%\",\"19%\",\"18%\",\"17%\",\"17%\"],\"textposition\":\"inside\",\"x\":[29.0,20.202020202,20.0,19.0,19.0,17.6470588235,16.8316831683,17.1717171717],\"xaxis\":\"x\",\"y\":[\"Wales\",\"South\",\"London\",\"North\",\"England\",\"Midlands\",\"Scotland\",\"Northern Ireland\"],\"yaxis\":\"y\",\"type\":\"bar\",\"texttemplate\":\"%{text}\"},{\"alignmentgroup\":\"True\",\"customdata\":[[\"10% of people in London don\\'t know a UBI\"],[\"7% of people in North don\\'t know a UBI\"],[\"7% of people in Midlands don\\'t know a UBI\"],[\"7% of people in England don\\'t know a UBI\"],[\"5% of people in South don\\'t know a UBI\"],[\"5% of people in Scotland don\\'t know a UBI\"],[\"5% of people in Northern Ireland don\\'t know a UBI\"],[\"4% of people in Wales don\\'t know a UBI\"]],\"hovertemplate\":\"%{customdata[0]}\",\"legendgroup\":\"Don\\'t know\",\"marker\":{\"color\":\"#FFFFFF\",\"pattern\":{\"shape\":\"\"}},\"name\":\"Don\\'t know\",\"offsetgroup\":\"Don\\'t know\",\"orientation\":\"h\",\"showlegend\":true,\"text\":[\"10%\",\"7%\",\"7%\",\"7%\",\"5%\",\"5%\",\"5%\",\"4%\"],\"textposition\":\"inside\",\"x\":[10.0,7.0,6.862745098,7.0,5.0505050505,4.9504950495,5.0505050505,4.0],\"xaxis\":\"x\",\"y\":[\"London\",\"North\",\"Midlands\",\"England\",\"South\",\"Scotland\",\"Northern Ireland\",\"Wales\"],\"yaxis\":\"y\",\"type\":\"bar\",\"texttemplate\":\"%{text}\"},{\"alignmentgroup\":\"True\",\"customdata\":[[\"20% of people in Scotland tend to oppose a UBI\"],[\"18% of people in Midlands tend to oppose a UBI\"],[\"17% of people in England tend to oppose a UBI\"],[\"16% of people in North tend to oppose a UBI\"],[\"16% of people in South tend to oppose a UBI\"],[\"16% of people in London tend to oppose a UBI\"],[\"12% of people in Wales tend to oppose a UBI\"],[\"8% of people in Northern Ireland tend to oppose a UBI\"]],\"hovertemplate\":\"%{customdata[0]}\",\"legendgroup\":\"Tend to oppose\",\"marker\":{\"color\":\"#808080\",\"pattern\":{\"shape\":\"\"}},\"name\":\"Tend to oppose\",\"offsetgroup\":\"Tend to oppose\",\"orientation\":\"h\",\"showlegend\":true,\"text\":[\"20%\",\"18%\",\"17%\",\"16%\",\"16%\",\"16%\",\"12%\",\"8%\"],\"textposition\":\"inside\",\"x\":[19.801980198,17.6470588235,17.0,16.0,16.1616161616,16.0,12.0,8.0808080808],\"xaxis\":\"x\",\"y\":[\"Scotland\",\"Midlands\",\"England\",\"North\",\"South\",\"London\",\"Wales\",\"Northern Ireland\"],\"yaxis\":\"y\",\"type\":\"bar\",\"texttemplate\":\"%{text}\"},{\"alignmentgroup\":\"True\",\"customdata\":[[\"12% of people in Scotland strongly oppose a UBI\"],[\"11% of people in Midlands strongly oppose a UBI\"],[\"9% of people in North strongly oppose a UBI\"],[\"9% of people in South strongly oppose a UBI\"],[\"9% of people in England strongly oppose a UBI\"],[\"8% of people in Wales strongly oppose a UBI\"],[\"7% of people in London strongly oppose a UBI\"],[\"3% of people in Northern Ireland strongly oppose a UBI\"]],\"hovertemplate\":\"%{customdata[0]}\",\"legendgroup\":\"Strongly oppose\",\"marker\":{\"color\":\"#616161\",\"pattern\":{\"shape\":\"\"}},\"name\":\"Strongly oppose\",\"offsetgroup\":\"Strongly oppose\",\"orientation\":\"h\",\"showlegend\":true,\"text\":[\"12%\",\"11%\",\"9%\",\"9%\",\"9%\",\"8%\",\"7%\",\"3%\"],\"textposition\":\"inside\",\"x\":[11.8811881188,10.7843137255,9.0,9.0909090909,9.0,8.0,7.0,3.0303030303],\"xaxis\":\"x\",\"y\":[\"Scotland\",\"Midlands\",\"North\",\"South\",\"England\",\"Wales\",\"London\",\"Northern Ireland\"],\"yaxis\":\"y\",\"type\":\"bar\",\"texttemplate\":\"%{text}\"}],\"layout\":{\"template\":{\"data\":{\"barpolar\":[{\"marker\":{\"line\":{\"color\":\"white\",\"width\":0.5},\"pattern\":{\"fillmode\":\"overlay\",\"size\":10,\"solidity\":0.2}},\"type\":\"barpolar\"}],\"bar\":[{\"error_x\":{\"color\":\"#2a3f5f\"},\"error_y\":{\"color\":\"#2a3f5f\"},\"marker\":{\"line\":{\"color\":\"white\",\"width\":0.5},\"pattern\":{\"fillmode\":\"overlay\",\"size\":10,\"solidity\":0.2}},\"type\":\"bar\"}],\"carpet\":[{\"aaxis\":{\"endlinecolor\":\"#2a3f5f\",\"gridcolor\":\"#C8D4E3\",\"linecolor\":\"#C8D4E3\",\"minorgridcolor\":\"#C8D4E3\",\"startlinecolor\":\"#2a3f5f\"},\"baxis\":{\"endlinecolor\":\"#2a3f5f\",\"gridcolor\":\"#C8D4E3\",\"linecolor\":\"#C8D4E3\",\"minorgridcolor\":\"#C8D4E3\",\"startlinecolor\":\"#2a3f5f\"},\"type\":\"carpet\"}],\"choropleth\":[{\"colorbar\":{\"outlinewidth\":0,\"ticks\":\"\"},\"type\":\"choropleth\"}],\"contourcarpet\":[{\"colorbar\":{\"outlinewidth\":0,\"ticks\":\"\"},\"type\":\"contourcarpet\"}],\"contour\":[{\"colorbar\":{\"outlinewidth\":0,\"ticks\":\"\"},\"colorscale\":[[0.0,\"#0d0887\"],[0.1111111111111111,\"#46039f\"],[0.2222222222222222,\"#7201a8\"],[0.3333333333333333,\"#9c179e\"],[0.4444444444444444,\"#bd3786\"],[0.5555555555555556,\"#d8576b\"],[0.6666666666666666,\"#ed7953\"],[0.7777777777777778,\"#fb9f3a\"],[0.8888888888888888,\"#fdca26\"],[1.0,\"#f0f921\"]],\"type\":\"contour\"}],\"heatmapgl\":[{\"colorbar\":{\"outlinewidth\":0,\"ticks\":\"\"},\"colorscale\":[[0.0,\"#0d0887\"],[0.1111111111111111,\"#46039f\"],[0.2222222222222222,\"#7201a8\"],[0.3333333333333333,\"#9c179e\"],[0.4444444444444444,\"#bd3786\"],[0.5555555555555556,\"#d8576b\"],[0.6666666666666666,\"#ed7953\"],[0.7777777777777778,\"#fb9f3a\"],[0.8888888888888888,\"#fdca26\"],[1.0,\"#f0f921\"]],\"type\":\"heatmapgl\"}],\"heatmap\":[{\"colorbar\":{\"outlinewidth\":0,\"ticks\":\"\"},\"colorscale\":[[0.0,\"#0d0887\"],[0.1111111111111111,\"#46039f\"],[0.2222222222222222,\"#7201a8\"],[0.3333333333333333,\"#9c179e\"],[0.4444444444444444,\"#bd3786\"],[0.5555555555555556,\"#d8576b\"],[0.6666666666666666,\"#ed7953\"],[0.7777777777777778,\"#fb9f3a\"],[0.8888888888888888,\"#fdca26\"],[1.0,\"#f0f921\"]],\"type\":\"heatmap\"}],\"histogram2dcontour\":[{\"colorbar\":{\"outlinewidth\":0,\"ticks\":\"\"},\"colorscale\":[[0.0,\"#0d0887\"],[0.1111111111111111,\"#46039f\"],[0.2222222222222222,\"#7201a8\"],[0.3333333333333333,\"#9c179e\"],[0.4444444444444444,\"#bd3786\"],[0.5555555555555556,\"#d8576b\"],[0.6666666666666666,\"#ed7953\"],[0.7777777777777778,\"#fb9f3a\"],[0.8888888888888888,\"#fdca26\"],[1.0,\"#f0f921\"]],\"type\":\"histogram2dcontour\"}],\"histogram2d\":[{\"colorbar\":{\"outlinewidth\":0,\"ticks\":\"\"},\"colorscale\":[[0.0,\"#0d0887\"],[0.1111111111111111,\"#46039f\"],[0.2222222222222222,\"#7201a8\"],[0.3333333333333333,\"#9c179e\"],[0.4444444444444444,\"#bd3786\"],[0.5555555555555556,\"#d8576b\"],[0.6666666666666666,\"#ed7953\"],[0.7777777777777778,\"#fb9f3a\"],[0.8888888888888888,\"#fdca26\"],[1.0,\"#f0f921\"]],\"type\":\"histogram2d\"}],\"histogram\":[{\"marker\":{\"pattern\":{\"fillmode\":\"overlay\",\"size\":10,\"solidity\":0.2}},\"type\":\"histogram\"}],\"mesh3d\":[{\"colorbar\":{\"outlinewidth\":0,\"ticks\":\"\"},\"type\":\"mesh3d\"}],\"parcoords\":[{\"line\":{\"colorbar\":{\"outlinewidth\":0,\"ticks\":\"\"}},\"type\":\"parcoords\"}],\"pie\":[{\"automargin\":true,\"type\":\"pie\"}],\"scatter3d\":[{\"line\":{\"colorbar\":{\"outlinewidth\":0,\"ticks\":\"\"}},\"marker\":{\"colorbar\":{\"outlinewidth\":0,\"ticks\":\"\"}},\"type\":\"scatter3d\"}],\"scattercarpet\":[{\"marker\":{\"colorbar\":{\"outlinewidth\":0,\"ticks\":\"\"}},\"type\":\"scattercarpet\"}],\"scattergeo\":[{\"marker\":{\"colorbar\":{\"outlinewidth\":0,\"ticks\":\"\"}},\"type\":\"scattergeo\"}],\"scattergl\":[{\"marker\":{\"colorbar\":{\"outlinewidth\":0,\"ticks\":\"\"}},\"type\":\"scattergl\"}],\"scattermapbox\":[{\"marker\":{\"colorbar\":{\"outlinewidth\":0,\"ticks\":\"\"}},\"type\":\"scattermapbox\"}],\"scatterpolargl\":[{\"marker\":{\"colorbar\":{\"outlinewidth\":0,\"ticks\":\"\"}},\"type\":\"scatterpolargl\"}],\"scatterpolar\":[{\"marker\":{\"colorbar\":{\"outlinewidth\":0,\"ticks\":\"\"}},\"type\":\"scatterpolar\"}],\"scatter\":[{\"fillpattern\":{\"fillmode\":\"overlay\",\"size\":10,\"solidity\":0.2},\"type\":\"scatter\"}],\"scatterternary\":[{\"marker\":{\"colorbar\":{\"outlinewidth\":0,\"ticks\":\"\"}},\"type\":\"scatterternary\"}],\"surface\":[{\"colorbar\":{\"outlinewidth\":0,\"ticks\":\"\"},\"colorscale\":[[0.0,\"#0d0887\"],[0.1111111111111111,\"#46039f\"],[0.2222222222222222,\"#7201a8\"],[0.3333333333333333,\"#9c179e\"],[0.4444444444444444,\"#bd3786\"],[0.5555555555555556,\"#d8576b\"],[0.6666666666666666,\"#ed7953\"],[0.7777777777777778,\"#fb9f3a\"],[0.8888888888888888,\"#fdca26\"],[1.0,\"#f0f921\"]],\"type\":\"surface\"}],\"table\":[{\"cells\":{\"fill\":{\"color\":\"#EBF0F8\"},\"line\":{\"color\":\"white\"}},\"header\":{\"fill\":{\"color\":\"#C8D4E3\"},\"line\":{\"color\":\"white\"}},\"type\":\"table\"}]},\"layout\":{\"annotationdefaults\":{\"arrowcolor\":\"#2a3f5f\",\"arrowhead\":0,\"arrowwidth\":1},\"autotypenumbers\":\"strict\",\"coloraxis\":{\"colorbar\":{\"outlinewidth\":0,\"ticks\":\"\"}},\"colorscale\":{\"diverging\":[[0,\"#8e0152\"],[0.1,\"#c51b7d\"],[0.2,\"#de77ae\"],[0.3,\"#f1b6da\"],[0.4,\"#fde0ef\"],[0.5,\"#f7f7f7\"],[0.6,\"#e6f5d0\"],[0.7,\"#b8e186\"],[0.8,\"#7fbc41\"],[0.9,\"#4d9221\"],[1,\"#276419\"]],\"sequential\":[[0.0,\"#0d0887\"],[0.1111111111111111,\"#46039f\"],[0.2222222222222222,\"#7201a8\"],[0.3333333333333333,\"#9c179e\"],[0.4444444444444444,\"#bd3786\"],[0.5555555555555556,\"#d8576b\"],[0.6666666666666666,\"#ed7953\"],[0.7777777777777778,\"#fb9f3a\"],[0.8888888888888888,\"#fdca26\"],[1.0,\"#f0f921\"]],\"sequentialminus\":[[0.0,\"#0d0887\"],[0.1111111111111111,\"#46039f\"],[0.2222222222222222,\"#7201a8\"],[0.3333333333333333,\"#9c179e\"],[0.4444444444444444,\"#bd3786\"],[0.5555555555555556,\"#d8576b\"],[0.6666666666666666,\"#ed7953\"],[0.7777777777777778,\"#fb9f3a\"],[0.8888888888888888,\"#fdca26\"],[1.0,\"#f0f921\"]]},\"colorway\":[\"#636efa\",\"#EF553B\",\"#00cc96\",\"#ab63fa\",\"#FFA15A\",\"#19d3f3\",\"#FF6692\",\"#B6E880\",\"#FF97FF\",\"#FECB52\"],\"font\":{\"color\":\"#2a3f5f\"},\"geo\":{\"bgcolor\":\"white\",\"lakecolor\":\"white\",\"landcolor\":\"white\",\"showlakes\":true,\"showland\":true,\"subunitcolor\":\"#C8D4E3\"},\"hoverlabel\":{\"align\":\"left\"},\"hovermode\":\"closest\",\"mapbox\":{\"style\":\"light\"},\"paper_bgcolor\":\"white\",\"plot_bgcolor\":\"white\",\"polar\":{\"angularaxis\":{\"gridcolor\":\"#EBF0F8\",\"linecolor\":\"#EBF0F8\",\"ticks\":\"\"},\"bgcolor\":\"white\",\"radialaxis\":{\"gridcolor\":\"#EBF0F8\",\"linecolor\":\"#EBF0F8\",\"ticks\":\"\"}},\"scene\":{\"xaxis\":{\"backgroundcolor\":\"white\",\"gridcolor\":\"#DFE8F3\",\"gridwidth\":2,\"linecolor\":\"#EBF0F8\",\"showbackground\":true,\"ticks\":\"\",\"zerolinecolor\":\"#EBF0F8\"},\"yaxis\":{\"backgroundcolor\":\"white\",\"gridcolor\":\"#DFE8F3\",\"gridwidth\":2,\"linecolor\":\"#EBF0F8\",\"showbackground\":true,\"ticks\":\"\",\"zerolinecolor\":\"#EBF0F8\"},\"zaxis\":{\"backgroundcolor\":\"white\",\"gridcolor\":\"#DFE8F3\",\"gridwidth\":2,\"linecolor\":\"#EBF0F8\",\"showbackground\":true,\"ticks\":\"\",\"zerolinecolor\":\"#EBF0F8\"}},\"shapedefaults\":{\"line\":{\"color\":\"#2a3f5f\"}},\"ternary\":{\"aaxis\":{\"gridcolor\":\"#DFE8F3\",\"linecolor\":\"#A2B1C6\",\"ticks\":\"\"},\"baxis\":{\"gridcolor\":\"#DFE8F3\",\"linecolor\":\"#A2B1C6\",\"ticks\":\"\"},\"bgcolor\":\"white\",\"caxis\":{\"gridcolor\":\"#DFE8F3\",\"linecolor\":\"#A2B1C6\",\"ticks\":\"\"}},\"title\":{\"x\":0.05},\"xaxis\":{\"automargin\":true,\"gridcolor\":\"#EBF0F8\",\"linecolor\":\"#EBF0F8\",\"ticks\":\"\",\"title\":{\"standoff\":15},\"zerolinecolor\":\"#EBF0F8\",\"zerolinewidth\":2},\"yaxis\":{\"automargin\":true,\"gridcolor\":\"#EBF0F8\",\"linecolor\":\"#EBF0F8\",\"ticks\":\"\",\"title\":{\"standoff\":15},\"zerolinecolor\":\"#EBF0F8\",\"zerolinewidth\":2}}},\"xaxis\":{\"anchor\":\"y\",\"domain\":[0.0,1.0],\"title\":{\"text\":\"Percent\"},\"tickangle\":0},\"yaxis\":{\"anchor\":\"x\",\"domain\":[0.0,1.0],\"title\":{\"text\":\"Region\"}},\"legend\":{\"title\":{},\"tracegroupgap\":0,\"orientation\":\"h\",\"yanchor\":\"bottom\",\"y\":-0.3},\"margin\":{\"t\":60},\"barmode\":\"relative\",\"uniformtext\":{\"minsize\":11,\"mode\":\"hide\"},\"title\":{\"text\":\"Figure 1: UBI favourability by UK subregion\"},\"font\":{\"family\":\"Roboto Serif\",\"color\":\"black\"},\"images\":[{\"sizex\":0.2,\"sizey\":0.2,\"source\":\"https://raw.githubusercontent.com/PolicyEngine/policyengine-app/master/src/images/logos/policyengine/blue.png\",\"x\":1,\"xanchor\":\"right\",\"xref\":\"paper\",\"y\":-0.15,\"yanchor\":\"bottom\",\"yref\":\"paper\"}],\"height\":600,\"width\":800,\"modebar\":{\"bgcolor\":\"rgba(0,0,0,0)\",\"color\":\"rgba(0,0,0,0)\"}}}'"
      ]
     },
     "execution_count": 1,
     "metadata": {},
     "output_type": "execute_result"
    }
   ],
   "source": [
    "import plotly.express as px\n",
    "from policyengine_core.charts import *\n",
    "\n",
    "RESPONSE_JSON = '{\"poll_id\":{\"90\":7,\"84\":7,\"66\":7,\"78\":7,\"54\":7,\"48\":7,\"72\":7,\"60\":7,\"91\":7,\"61\":7,\"49\":7,\"73\":7,\"55\":7,\"67\":7,\"79\":7,\"85\":7,\"80\":7,\"62\":7,\"68\":7,\"50\":7,\"74\":7,\"56\":7,\"86\":7,\"92\":7,\"71\":7,\"53\":7,\"59\":7,\"77\":7,\"65\":7,\"89\":7,\"95\":7,\"83\":7,\"87\":7,\"57\":7,\"75\":7,\"51\":7,\"63\":7,\"69\":7,\"81\":7,\"93\":7,\"88\":7,\"58\":7,\"52\":7,\"64\":7,\"76\":7,\"82\":7,\"70\":7,\"94\":7},\"question_id\":{\"90\":10,\"84\":10,\"66\":10,\"78\":10,\"54\":10,\"48\":10,\"72\":10,\"60\":10,\"91\":10,\"61\":10,\"49\":10,\"73\":10,\"55\":10,\"67\":10,\"79\":10,\"85\":10,\"80\":10,\"62\":10,\"68\":10,\"50\":10,\"74\":10,\"56\":10,\"86\":10,\"92\":10,\"71\":10,\"53\":10,\"59\":10,\"77\":10,\"65\":10,\"89\":10,\"95\":10,\"83\":10,\"87\":10,\"57\":10,\"75\":10,\"51\":10,\"63\":10,\"69\":10,\"81\":10,\"93\":10,\"88\":10,\"58\":10,\"52\":10,\"64\":10,\"76\":10,\"82\":10,\"70\":10,\"94\":10},\"response\":{\"90\":\"Strongly support\",\"84\":\"Strongly support\",\"66\":\"Strongly support\",\"78\":\"Strongly support\",\"54\":\"Strongly support\",\"48\":\"Strongly support\",\"72\":\"Strongly support\",\"60\":\"Strongly support\",\"91\":\"Tend to support\",\"61\":\"Tend to support\",\"49\":\"Tend to support\",\"73\":\"Tend to support\",\"55\":\"Tend to support\",\"67\":\"Tend to support\",\"79\":\"Tend to support\",\"85\":\"Tend to support\",\"80\":\"Neither support nor oppose\",\"62\":\"Neither support nor oppose\",\"68\":\"Neither support nor oppose\",\"50\":\"Neither support nor oppose\",\"74\":\"Neither support nor oppose\",\"56\":\"Neither support nor oppose\",\"86\":\"Neither support nor oppose\",\"92\":\"Neither support nor oppose\",\"71\":\"Don\\'t Know\",\"53\":\"Don\\'t Know\",\"59\":\"Don\\'t Know\",\"77\":\"Don\\'t Know\",\"65\":\"Don\\'t Know\",\"89\":\"Don\\'t Know\",\"95\":\"Don\\'t Know\",\"83\":\"Don\\'t Know\",\"87\":\"Tend to oppose\",\"57\":\"Tend to oppose\",\"75\":\"Tend to oppose\",\"51\":\"Tend to oppose\",\"63\":\"Tend to oppose\",\"69\":\"Tend to oppose\",\"81\":\"Tend to oppose\",\"93\":\"Tend to oppose\",\"88\":\"Strongly oppose\",\"58\":\"Strongly oppose\",\"52\":\"Strongly oppose\",\"64\":\"Strongly oppose\",\"76\":\"Strongly oppose\",\"82\":\"Strongly oppose\",\"70\":\"Strongly oppose\",\"94\":\"Strongly oppose\"},\"xtab1_var\":{\"90\":\"Region\",\"84\":\"Region\",\"66\":\"Region\",\"78\":\"Region\",\"54\":\"Region\",\"48\":\"Region\",\"72\":\"Region\",\"60\":\"Region\",\"91\":\"Region\",\"61\":\"Region\",\"49\":\"Region\",\"73\":\"Region\",\"55\":\"Region\",\"67\":\"Region\",\"79\":\"Region\",\"85\":\"Region\",\"80\":\"Region\",\"62\":\"Region\",\"68\":\"Region\",\"50\":\"Region\",\"74\":\"Region\",\"56\":\"Region\",\"86\":\"Region\",\"92\":\"Region\",\"71\":\"Region\",\"53\":\"Region\",\"59\":\"Region\",\"77\":\"Region\",\"65\":\"Region\",\"89\":\"Region\",\"95\":\"Region\",\"83\":\"Region\",\"87\":\"Region\",\"57\":\"Region\",\"75\":\"Region\",\"51\":\"Region\",\"63\":\"Region\",\"69\":\"Region\",\"81\":\"Region\",\"93\":\"Region\",\"88\":\"Region\",\"58\":\"Region\",\"52\":\"Region\",\"64\":\"Region\",\"76\":\"Region\",\"82\":\"Region\",\"70\":\"Region\",\"94\":\"Region\"},\"xtab1_val\":{\"90\":\"Northern Ireland\",\"84\":\"Scotland\",\"66\":\"London\",\"78\":\"Wales\",\"54\":\"Midlands\",\"48\":\"North\",\"72\":\"England\",\"60\":\"South\",\"91\":\"Northern Ireland\",\"61\":\"South\",\"49\":\"North\",\"73\":\"England\",\"55\":\"Midlands\",\"67\":\"London\",\"79\":\"Wales\",\"85\":\"Scotland\",\"80\":\"Wales\",\"62\":\"South\",\"68\":\"London\",\"50\":\"North\",\"74\":\"England\",\"56\":\"Midlands\",\"86\":\"Scotland\",\"92\":\"Northern Ireland\",\"71\":\"London\",\"53\":\"North\",\"59\":\"Midlands\",\"77\":\"England\",\"65\":\"South\",\"89\":\"Scotland\",\"95\":\"Northern Ireland\",\"83\":\"Wales\",\"87\":\"Scotland\",\"57\":\"Midlands\",\"75\":\"England\",\"51\":\"North\",\"63\":\"South\",\"69\":\"London\",\"81\":\"Wales\",\"93\":\"Northern Ireland\",\"88\":\"Scotland\",\"58\":\"Midlands\",\"52\":\"North\",\"64\":\"South\",\"76\":\"England\",\"82\":\"Wales\",\"70\":\"London\",\"94\":\"Northern Ireland\"},\"xtab2_var\":{\"90\":\"-\",\"84\":\"-\",\"66\":\"-\",\"78\":\"-\",\"54\":\"-\",\"48\":\"-\",\"72\":\"-\",\"60\":\"-\",\"91\":\"-\",\"61\":\"-\",\"49\":\"-\",\"73\":\"-\",\"55\":\"-\",\"67\":\"-\",\"79\":\"-\",\"85\":\"-\",\"80\":\"-\",\"62\":\"-\",\"68\":\"-\",\"50\":\"-\",\"74\":\"-\",\"56\":\"-\",\"86\":\"-\",\"92\":\"-\",\"71\":\"-\",\"53\":\"-\",\"59\":\"-\",\"77\":\"-\",\"65\":\"-\",\"89\":\"-\",\"95\":\"-\",\"83\":\"-\",\"87\":\"-\",\"57\":\"-\",\"75\":\"-\",\"51\":\"-\",\"63\":\"-\",\"69\":\"-\",\"81\":\"-\",\"93\":\"-\",\"88\":\"-\",\"58\":\"-\",\"52\":\"-\",\"64\":\"-\",\"76\":\"-\",\"82\":\"-\",\"70\":\"-\",\"94\":\"-\"},\"xtab2_val\":{\"90\":\"-\",\"84\":\"-\",\"66\":\"-\",\"78\":\"-\",\"54\":\"-\",\"48\":\"-\",\"72\":\"-\",\"60\":\"-\",\"91\":\"-\",\"61\":\"-\",\"49\":\"-\",\"73\":\"-\",\"55\":\"-\",\"67\":\"-\",\"79\":\"-\",\"85\":\"-\",\"80\":\"-\",\"62\":\"-\",\"68\":\"-\",\"50\":\"-\",\"74\":\"-\",\"56\":\"-\",\"86\":\"-\",\"92\":\"-\",\"71\":\"-\",\"53\":\"-\",\"59\":\"-\",\"77\":\"-\",\"65\":\"-\",\"89\":\"-\",\"95\":\"-\",\"83\":\"-\",\"87\":\"-\",\"57\":\"-\",\"75\":\"-\",\"51\":\"-\",\"63\":\"-\",\"69\":\"-\",\"81\":\"-\",\"93\":\"-\",\"88\":\"-\",\"58\":\"-\",\"52\":\"-\",\"64\":\"-\",\"76\":\"-\",\"82\":\"-\",\"70\":\"-\",\"94\":\"-\"},\"pct\":{\"90\":25.0,\"84\":23.0,\"66\":16.0,\"78\":16.0,\"54\":15.0,\"48\":14.0,\"72\":14.0,\"60\":12.0,\"91\":41.0,\"61\":37.0,\"49\":35.0,\"73\":34.0,\"55\":33.0,\"67\":31.0,\"79\":31.0,\"85\":24.0,\"80\":29.0,\"62\":20.0,\"68\":20.0,\"50\":19.0,\"74\":19.0,\"56\":18.0,\"86\":17.0,\"92\":17.0,\"71\":10.0,\"53\":7.0,\"59\":7.0,\"77\":7.0,\"65\":5.0,\"89\":5.0,\"95\":5.0,\"83\":4.0,\"87\":20.0,\"57\":18.0,\"75\":17.0,\"51\":16.0,\"63\":16.0,\"69\":16.0,\"81\":12.0,\"93\":8.0,\"88\":12.0,\"58\":11.0,\"52\":9.0,\"64\":9.0,\"76\":9.0,\"82\":8.0,\"70\":7.0,\"94\":3.0},\"notes\":{\"90\":null,\"84\":null,\"66\":null,\"78\":null,\"54\":null,\"48\":null,\"72\":null,\"60\":null,\"91\":null,\"61\":null,\"49\":null,\"73\":null,\"55\":null,\"67\":null,\"79\":null,\"85\":null,\"80\":null,\"62\":null,\"68\":null,\"50\":null,\"74\":null,\"56\":null,\"86\":null,\"92\":null,\"71\":null,\"53\":null,\"59\":null,\"77\":null,\"65\":null,\"89\":null,\"95\":null,\"83\":null,\"87\":null,\"57\":null,\"75\":null,\"51\":null,\"63\":null,\"69\":null,\"81\":null,\"93\":null,\"88\":null,\"58\":null,\"52\":null,\"64\":null,\"76\":null,\"82\":null,\"70\":null,\"94\":null},\"Region\":{\"90\":\"Northern Ireland\",\"84\":\"Scotland\",\"66\":\"London\",\"78\":\"Wales\",\"54\":\"Midlands\",\"48\":\"North\",\"72\":\"England\",\"60\":\"South\",\"91\":\"Northern Ireland\",\"61\":\"South\",\"49\":\"North\",\"73\":\"England\",\"55\":\"Midlands\",\"67\":\"London\",\"79\":\"Wales\",\"85\":\"Scotland\",\"80\":\"Wales\",\"62\":\"South\",\"68\":\"London\",\"50\":\"North\",\"74\":\"England\",\"56\":\"Midlands\",\"86\":\"Scotland\",\"92\":\"Northern Ireland\",\"71\":\"London\",\"53\":\"North\",\"59\":\"Midlands\",\"77\":\"England\",\"65\":\"South\",\"89\":\"Scotland\",\"95\":\"Northern Ireland\",\"83\":\"Wales\",\"87\":\"Scotland\",\"57\":\"Midlands\",\"75\":\"England\",\"51\":\"North\",\"63\":\"South\",\"69\":\"London\",\"81\":\"Wales\",\"93\":\"Northern Ireland\",\"88\":\"Scotland\",\"58\":\"Midlands\",\"52\":\"North\",\"64\":\"South\",\"76\":\"England\",\"82\":\"Wales\",\"70\":\"London\",\"94\":\"Northern Ireland\"},\"Response\":{\"90\":\"Strongly support\",\"84\":\"Strongly support\",\"66\":\"Strongly support\",\"78\":\"Strongly support\",\"54\":\"Strongly support\",\"48\":\"Strongly support\",\"72\":\"Strongly support\",\"60\":\"Strongly support\",\"91\":\"Tend to support\",\"61\":\"Tend to support\",\"49\":\"Tend to support\",\"73\":\"Tend to support\",\"55\":\"Tend to support\",\"67\":\"Tend to support\",\"79\":\"Tend to support\",\"85\":\"Tend to support\",\"80\":\"Neither support nor oppose\",\"62\":\"Neither support nor oppose\",\"68\":\"Neither support nor oppose\",\"50\":\"Neither support nor oppose\",\"74\":\"Neither support nor oppose\",\"56\":\"Neither support nor oppose\",\"86\":\"Neither support nor oppose\",\"92\":\"Neither support nor oppose\",\"71\":\"Don\\'t know\",\"53\":\"Don\\'t know\",\"59\":\"Don\\'t know\",\"77\":\"Don\\'t know\",\"65\":\"Don\\'t know\",\"89\":\"Don\\'t know\",\"95\":\"Don\\'t know\",\"83\":\"Don\\'t know\",\"87\":\"Tend to oppose\",\"57\":\"Tend to oppose\",\"75\":\"Tend to oppose\",\"51\":\"Tend to oppose\",\"63\":\"Tend to oppose\",\"69\":\"Tend to oppose\",\"81\":\"Tend to oppose\",\"93\":\"Tend to oppose\",\"88\":\"Strongly oppose\",\"58\":\"Strongly oppose\",\"52\":\"Strongly oppose\",\"64\":\"Strongly oppose\",\"76\":\"Strongly oppose\",\"82\":\"Strongly oppose\",\"70\":\"Strongly oppose\",\"94\":\"Strongly oppose\"},\"response_code\":{\"90\":6,\"84\":6,\"66\":6,\"78\":6,\"54\":6,\"48\":6,\"72\":6,\"60\":6,\"91\":5,\"61\":5,\"49\":5,\"73\":5,\"55\":5,\"67\":5,\"79\":5,\"85\":5,\"80\":4,\"62\":4,\"68\":4,\"50\":4,\"74\":4,\"56\":4,\"86\":4,\"92\":4,\"71\":3,\"53\":3,\"59\":3,\"77\":3,\"65\":3,\"89\":3,\"95\":3,\"83\":3,\"87\":2,\"57\":2,\"75\":2,\"51\":2,\"63\":2,\"69\":2,\"81\":2,\"93\":2,\"88\":1,\"58\":1,\"52\":1,\"64\":1,\"76\":1,\"82\":1,\"70\":1,\"94\":1},\"Percent\":{\"90\":25.2525252525,\"84\":22.7722772277,\"66\":16.0,\"78\":16.0,\"54\":14.7058823529,\"48\":14.0,\"72\":14.0,\"60\":12.1212121212,\"91\":41.4141414141,\"61\":37.3737373737,\"49\":35.0,\"73\":34.0,\"55\":32.3529411765,\"67\":31.0,\"79\":31.0,\"85\":23.7623762376,\"80\":29.0,\"62\":20.202020202,\"68\":20.0,\"50\":19.0,\"74\":19.0,\"56\":17.6470588235,\"86\":16.8316831683,\"92\":17.1717171717,\"71\":10.0,\"53\":7.0,\"59\":6.862745098,\"77\":7.0,\"65\":5.0505050505,\"89\":4.9504950495,\"95\":5.0505050505,\"83\":4.0,\"87\":19.801980198,\"57\":17.6470588235,\"75\":17.0,\"51\":16.0,\"63\":16.1616161616,\"69\":16.0,\"81\":12.0,\"93\":8.0808080808,\"88\":11.8811881188,\"58\":10.7843137255,\"52\":9.0,\"64\":9.0909090909,\"76\":9.0,\"82\":8.0,\"70\":7.0,\"94\":3.0303030303},\"Hover text\":{\"90\":\"25% of people in Northern Ireland strongly support a UBI\",\"84\":\"23% of people in Scotland strongly support a UBI\",\"66\":\"16% of people in London strongly support a UBI\",\"78\":\"16% of people in Wales strongly support a UBI\",\"54\":\"15% of people in Midlands strongly support a UBI\",\"48\":\"14% of people in North strongly support a UBI\",\"72\":\"14% of people in England strongly support a UBI\",\"60\":\"12% of people in South strongly support a UBI\",\"91\":\"41% of people in Northern Ireland tend to support a UBI\",\"61\":\"37% of people in South tend to support a UBI\",\"49\":\"35% of people in North tend to support a UBI\",\"73\":\"34% of people in England tend to support a UBI\",\"55\":\"32% of people in Midlands tend to support a UBI\",\"67\":\"31% of people in London tend to support a UBI\",\"79\":\"31% of people in Wales tend to support a UBI\",\"85\":\"24% of people in Scotland tend to support a UBI\",\"80\":\"29% of people in Wales neither support nor oppose a UBI\",\"62\":\"20% of people in South neither support nor oppose a UBI\",\"68\":\"20% of people in London neither support nor oppose a UBI\",\"50\":\"19% of people in North neither support nor oppose a UBI\",\"74\":\"19% of people in England neither support nor oppose a UBI\",\"56\":\"18% of people in Midlands neither support nor oppose a UBI\",\"86\":\"17% of people in Scotland neither support nor oppose a UBI\",\"92\":\"17% of people in Northern Ireland neither support nor oppose a UBI\",\"71\":\"10% of people in London don\\'t know a UBI\",\"53\":\"7% of people in North don\\'t know a UBI\",\"59\":\"7% of people in Midlands don\\'t know a UBI\",\"77\":\"7% of people in England don\\'t know a UBI\",\"65\":\"5% of people in South don\\'t know a UBI\",\"89\":\"5% of people in Scotland don\\'t know a UBI\",\"95\":\"5% of people in Northern Ireland don\\'t know a UBI\",\"83\":\"4% of people in Wales don\\'t know a UBI\",\"87\":\"20% of people in Scotland tend to oppose a UBI\",\"57\":\"18% of people in Midlands tend to oppose a UBI\",\"75\":\"17% of people in England tend to oppose a UBI\",\"51\":\"16% of people in North tend to oppose a UBI\",\"63\":\"16% of people in South tend to oppose a UBI\",\"69\":\"16% of people in London tend to oppose a UBI\",\"81\":\"12% of people in Wales tend to oppose a UBI\",\"93\":\"8% of people in Northern Ireland tend to oppose a UBI\",\"88\":\"12% of people in Scotland strongly oppose a UBI\",\"58\":\"11% of people in Midlands strongly oppose a UBI\",\"52\":\"9% of people in North strongly oppose a UBI\",\"64\":\"9% of people in South strongly oppose a UBI\",\"76\":\"9% of people in England strongly oppose a UBI\",\"82\":\"8% of people in Wales strongly oppose a UBI\",\"70\":\"7% of people in London strongly oppose a UBI\",\"94\":\"3% of people in Northern Ireland strongly oppose a UBI\"},\"Text\":{\"90\":\"25%\",\"84\":\"23%\",\"66\":\"16%\",\"78\":\"16%\",\"54\":\"15%\",\"48\":\"14%\",\"72\":\"14%\",\"60\":\"12%\",\"91\":\"41%\",\"61\":\"37%\",\"49\":\"35%\",\"73\":\"34%\",\"55\":\"32%\",\"67\":\"31%\",\"79\":\"31%\",\"85\":\"24%\",\"80\":\"29%\",\"62\":\"20%\",\"68\":\"20%\",\"50\":\"19%\",\"74\":\"19%\",\"56\":\"18%\",\"86\":\"17%\",\"92\":\"17%\",\"71\":\"10%\",\"53\":\"7%\",\"59\":\"7%\",\"77\":\"7%\",\"65\":\"5%\",\"89\":\"5%\",\"95\":\"5%\",\"83\":\"4%\",\"87\":\"20%\",\"57\":\"18%\",\"75\":\"17%\",\"51\":\"16%\",\"63\":\"16%\",\"69\":\"16%\",\"81\":\"12%\",\"93\":\"8%\",\"88\":\"12%\",\"58\":\"11%\",\"52\":\"9%\",\"64\":\"9%\",\"76\":\"9%\",\"82\":\"8%\",\"70\":\"7%\",\"94\":\"3%\"}}'\n",
    "\n",
    "responses = pd.read_json(RESPONSE_JSON)\n",
    "\n",
    "responses[\"Hover text\"] = [\n",
    "    f\"{responses.iloc[i]['Percent']:.0f}% of people in {responses.iloc[i]['Region']} {responses.iloc[i]['Response'].lower()} a UBI\"\n",
    "    for i in range(len(responses))\n",
    "]\n",
    "\n",
    "responses[\"Text\"] = [\n",
    "    f\"{responses.iloc[i]['Percent']:.0f}%\"\n",
    "    for i in range(len(responses))\n",
    "]\n",
    "\n",
    "fig = px.bar(\n",
    "    responses,\n",
    "    x=\"Percent\",\n",
    "    y=\"xtab1_val\",\n",
    "    text=\"Text\",\n",
    "    color=\"Response\",\n",
    "    custom_data=[\"Hover text\"],\n",
    "    color_discrete_map={\n",
    "        \"Strongly oppose\": DARK_GRAY,\n",
    "        \"Tend to oppose\": GRAY,\n",
    "        \"Don't know\": WHITE,\n",
    "        \"Neither support nor oppose\": WHITE,\n",
    "        \"Tend to support\": BLUE_LIGHT,\n",
    "        \"Strongly support\": BLUE_PRIMARY,\n",
    "    },\n",
    ")\n",
    "\n",
    "fig.update_traces(\n",
    "    textposition=\"inside\",\n",
    "    texttemplate=\"%{text}\",\n",
    "    hovertemplate=\"%{customdata[0]}\",\n",
    ")\n",
    "\n",
    "fig.update_layout(\n",
    "    uniformtext_minsize=11,\n",
    "    uniformtext_mode=\"hide\",\n",
    "    xaxis_tickangle=0,\n",
    "    legend_title_text=None,\n",
    "    yaxis_title=\"Region\",\n",
    "    title=\"Figure 1: UBI favourability by UK subregion\",\n",
    "    legend=dict(\n",
    "        orientation=\"h\",\n",
    "        yanchor=\"bottom\",\n",
    "        y=-0.3,\n",
    "    )\n",
    ")\n",
    "\n",
    "format_fig(fig).update_layout(\n",
    "    width=800,\n",
    "    height=600,\n",
    ").to_json()"
   ]
  },
  {
   "cell_type": "markdown",
   "metadata": {},
   "source": [
    "_Source: [Ipsos MORI, August 2017](https://www.ipsos.com/ipsos-mori/en-uk/half-uk-adults-would-support-universal-basic-income-principle). Full question: \"Assuming the level would be set roughly at the amount the UK government judged to be necessary to cover basic needs, e.g. food and clothing (but not housing costs), to what extent would you support or oppose the UK Government introducing a basic income?\"._\n",
    "\n",
    "A full UBI in NI would align with the nation's egalitarianism and public opinion. The next section models how NI could do it.\n",
    "\n",
    "# Exploring the space of feasible policies\n",
    "\n",
    "One could model an infinite number of basic income policies for Northern Ireland. We constrained the problem by defining UBI parameter values, tax variables to adjust, and requirements for the resulting policy.\n",
    "\n",
    "In particular, we limited to UBI policies of the following form:\n",
    "\n",
    "- Amounts per adult (aged 18 or over) of £200, £300, and £400 per month\n",
    "- Amounts per child aged 16 or over of half the adult amount\n",
    "- No amount per child younger than 16\n",
    "- UBI payments do not count as income for tax or means-tested benefits\n",
    "\n",
    "To fund the UBI, we considered three levers:\n",
    "\n",
    "- Personal allowance, from zero to the current value of £12,570 (we also adjusted the higher rate threshold to keep it at £50,270)\n",
    "- Basic rate increase\n",
    "- Ratio of higher and additional rate increases to the basic rate increase, of 0x (not changing the higher and additional rates), 1x, and 2x\n",
    "\n",
    "Finally, we constrained the end policy to:\n",
    "\n",
    "- Be budget-neutral (assuming no behavioural responses) after assuming the UK government would fund 25% of the gross UBI cost\n",
    "- Avoid raising marginal tax rates above 100%,[^6] either via the normal tax rates, the phase-out of the personal allowance or benefit phase-outs\n",
    "\n",
    "[^6]: We exclude the Child Benefit High-Income Tax Charge from contributing to this limit, because the MTR addition from that is dependent on the number of children, with no upper bound.\n"
   ]
  },
  {
   "cell_type": "code",
   "execution_count": 2,
   "metadata": {
    "tags": [
     "hide-input"
    ]
   },
   "outputs": [
    {
     "name": "stderr",
     "output_type": "stream",
     "text": [
      "100%|██████████| 14/14 [01:13<00:00,  5.22s/it]\n"
     ]
    }
   ],
   "source": [
    "from policyengine_uk import Microsimulation\n",
    "import numpy as np\n",
    "import pandas as pd\n",
    "import plotly.express as px\n",
    "import plotly.graph_objects as go\n",
    "from scipy.optimize import bisect\n",
    "from policyengine_core.charts import format_fig\n",
    "from policyengine_core.model_api import *\n",
    "import pandas as pd\n",
    "# Silence warnings\n",
    "import warnings\n",
    "warnings.filterwarnings(\"ignore\")\n",
    "import plotly.io as pio\n",
    "pio.renderers.default = \"notebook\"\n",
    "\n",
    "np.random.seed(0)\n",
    "\n",
    "def filter_to_ni(sim: Microsimulation) -> None:\n",
    "    \"\"\"Filters a simulation, in place, to just Northern Ireland.\n",
    "    \n",
    "    Args:\n",
    "        sim (Microsimulation): The simulation to filter.\n",
    "    \"\"\"\n",
    "    weights = sim.calculate(\"household_weight\")\n",
    "    country = sim.calculate(\"country\")\n",
    "    sim.set_input(\"household_weight\", 2023, np.where(country == \"NORTHERN_IRELAND\", weights, 0))\n",
    "\n",
    "baseline = Microsimulation()\n",
    "filter_to_ni(baseline)\n",
    "\n",
    "\n",
    "def get_ubi_cost(\n",
    "    adult_amount: float = 400 * 12,\n",
    "    child_amount: float = 200 * 12,\n",
    "    senior_amount: float = 100 * 12,\n",
    "    child_min_age: int = 16,\n",
    "):\n",
    "    in_ni = baseline.calculate(\"country\", map_to=\"person\") == \"NORTHERN_IRELAND\"\n",
    "    age = baseline.calculate(\"age\")\n",
    "    retired = baseline.calculate(\"is_SP_age\")\n",
    "    num_adults = ((age >= 18) * (~retired))[in_ni].sum()\n",
    "    num_children = ((age >= child_min_age) * (age < 18))[in_ni].sum()\n",
    "    num_seniors = (retired)[in_ni].sum()\n",
    "    return adult_amount * num_adults + child_amount * num_children + senior_amount * num_seniors\n",
    "\n",
    "from policyengine_uk.model_api import *\n",
    "\n",
    "def ubi_ni_reform(\n",
    "    personal_allowance: float = 12_570,\n",
    "    higher_rate_threshold: float = 50_270,\n",
    "    basic_rate: float = 0.2,\n",
    "    higher_rate: float = 0.4,\n",
    "    additional_rate: float = 0.45,\n",
    "    child_bi: float = 0,\n",
    "    adult_bi: float = 0,\n",
    "    senior_bi: float = 0,\n",
    "    child_min_age: int = 16,\n",
    ") -> Reform:\n",
    "    TIME_PERIOD = \"year:2023:10\"\n",
    "    return Reform.from_dict({\n",
    "        \"gov.hmrc.income_tax.rates.uk[0].rate\": { TIME_PERIOD: basic_rate },\n",
    "        \"gov.hmrc.income_tax.rates.uk[1].rate\": { TIME_PERIOD: higher_rate },\n",
    "        \"gov.hmrc.income_tax.rates.uk[2].rate\": { TIME_PERIOD: additional_rate },\n",
    "        \"gov.hmrc.income_tax.rates.uk[1].threshold\": { TIME_PERIOD: float(higher_rate_threshold) },\n",
    "        \"gov.hmrc.income_tax.allowances.personal_allowance.amount\": { TIME_PERIOD: float(personal_allowance) },\n",
    "        \"gov.contrib.ubi_center.basic_income.amount.by_age.child\": { TIME_PERIOD: child_bi / 52 },\n",
    "        \"gov.contrib.ubi_center.basic_income.amount.child_min_age\": { TIME_PERIOD: child_min_age },\n",
    "        \"gov.contrib.ubi_center.basic_income.amount.by_age.working_age\": { TIME_PERIOD: adult_bi / 52 },\n",
    "        \"gov.contrib.ubi_center.basic_income.amount.by_age.senior\": { TIME_PERIOD: senior_bi / 52 },\n",
    "    }, country_id=\"uk\")\n",
    "\n",
    "def get_revenue_slow_estimate(\n",
    "    personal_allowance: float,\n",
    "    basic_rate_addition: float,\n",
    "    higher_rate_addition: float,\n",
    "    additional_rate_addition: float,\n",
    "    adult_ubi: float = 0,\n",
    "    child_ubi: float = 0,\n",
    "    senior_ubi: float = 0,\n",
    "    child_min_age: int = 16,\n",
    ") -> float:\n",
    "    reformed = Microsimulation(\n",
    "        reform=ubi_ni_reform(\n",
    "            personal_allowance=personal_allowance,\n",
    "            higher_rate_threshold = 50_270 - personal_allowance,\n",
    "            basic_rate=0.2 + basic_rate_addition,\n",
    "            higher_rate=0.4 + higher_rate_addition,\n",
    "            additional_rate=0.45 + additional_rate_addition,\n",
    "            child_bi=child_ubi,\n",
    "            adult_bi=adult_ubi,\n",
    "            senior_bi=senior_ubi,\n",
    "            child_min_age=child_min_age,\n",
    "        )\n",
    "    )\n",
    "    filter_to_ni(reformed)\n",
    "    return baseline.calculate(\"household_net_income\").sum() - reformed.calculate(\"household_net_income\").sum()\n",
    "\n",
    "def get_revenue_quick_estimate(\n",
    "    personal_allowance: float,\n",
    "    basic_rate_addition: float,\n",
    "    higher_rate_addition: float,\n",
    "    additional_rate_addition: float,\n",
    ") -> float:\n",
    "    income = baseline.calc(\"adjusted_net_income\")\n",
    "    weight = income.weights\n",
    "    add_rate_income = np.maximum(0, income - 125_140)\n",
    "    higher_rate_income = np.maximum(0, income - 50_270) - add_rate_income\n",
    "    basic_rate_income_b = np.maximum(0, income - higher_rate_income - add_rate_income - 12_570)\n",
    "    basic_rate_income_r = np.maximum(0, income - higher_rate_income - add_rate_income - personal_allowance)\n",
    "    basic_rate_increased_tax = (\n",
    "        basic_rate_income_r * (0.2 + basic_rate_addition)\n",
    "        - basic_rate_income_b * 0.2\n",
    "    )\n",
    "    higher_rate_increased_tax = baseline.calculate(\"higher_rate_earned_income\").values * higher_rate_addition\n",
    "    additional_rate_increased_tax = baseline.calculate(\"add_rate_earned_income\").values * additional_rate_addition\n",
    "    increased_tax = basic_rate_increased_tax + higher_rate_increased_tax + additional_rate_increased_tax\n",
    "    return (increased_tax * weight).sum()\n",
    "\n",
    "def solve_rates(\n",
    "    adult_ubi: float = 0,\n",
    "    child_ubi: float = 0,\n",
    "    senior_ubi: float = 0,\n",
    "    child_min_age: int = 16,\n",
    "    personal_allowance: float = 12_570,\n",
    "    higher_rate_ratio: float = 1,\n",
    "    additional_rate_ratio: float = 1,\n",
    "    use_quick_estimate: bool = True,\n",
    "):\n",
    "    def adjusted_reform_cost(\n",
    "        basic_rate_addition: float = 0,\n",
    "    ) -> float:\n",
    "        if use_quick_estimate:\n",
    "            adjusted_revenue = get_revenue_quick_estimate(personal_allowance, basic_rate_addition, basic_rate_addition * higher_rate_ratio, basic_rate_addition * additional_rate_ratio)\n",
    "        else:\n",
    "            adjusted_revenue = get_revenue_slow_estimate(personal_allowance, basic_rate_addition, basic_rate_addition * higher_rate_ratio, basic_rate_addition * additional_rate_ratio)\n",
    "        ubi_cost = get_ubi_cost(\n",
    "            adult_ubi, \n",
    "            child_ubi,\n",
    "            senior_ubi,\n",
    "            child_min_age=child_min_age,\n",
    "        )\n",
    "        return ubi_cost * 0.75 - adjusted_revenue # Assume 25% of the UBI is paid for by Westminster\n",
    "    \n",
    "    return bisect(adjusted_reform_cost, -0.5, 1, xtol=1e-3)\n",
    "\n",
    "from tqdm import tqdm\n",
    "\n",
    "def create_policy_space(\n",
    "    child_min_age: int = 16,\n",
    "):\n",
    "    headline_ubi_rates = []\n",
    "    personal_allowances = []\n",
    "    basic_rate_additions = []\n",
    "    higher_add_addition_ratios = []\n",
    "\n",
    "    for pa in tqdm([12_570] + list(range(12_000, -1000, -1000))):\n",
    "        for ubi_rate in list([200 * 12, 300 * 12, 400 * 12]):\n",
    "            for higher_add_ratio in list((0, 1, 2)):\n",
    "                headline_ubi_rates.append(ubi_rate)\n",
    "                personal_allowances.append(pa)\n",
    "                basic_rate_additions.append(solve_rates(adult_ubi=ubi_rate, personal_allowance=pa, higher_rate_ratio=higher_add_ratio, additional_rate_ratio=higher_add_ratio, child_min_age=child_min_age))\n",
    "                higher_add_addition_ratios.append(higher_add_ratio)\n",
    "\n",
    "\n",
    "    df = pd.DataFrame({\n",
    "        \"Adult UBI\": headline_ubi_rates,\n",
    "        \"Child UBI\": [x * 0.5 for x in headline_ubi_rates],\n",
    "        \"Senior UBI\": headline_ubi_rates,\n",
    "        \"Personal Allowance\": personal_allowances,\n",
    "        \"Basic rate addition\": basic_rate_additions,\n",
    "        \"Higher/additional rate increase ratio\": higher_add_addition_ratios,\n",
    "    })\n",
    "    df[\"Personal Allowance reduction\"] = 12_570 - df[\"Personal Allowance\"]\n",
    "    df[\"Higher rate addition\"] = df[\"Basic rate addition\"] * df[\"Higher/additional rate increase ratio\"]\n",
    "    df[\"Basic rate addition (x100)\"] = df[\"Basic rate addition\"] * 100\n",
    "    df[\"Additional rate addition\"] = df[\"Basic rate addition\"] * df[\"Higher/additional rate increase ratio\"]\n",
    "    df[\"UBI/Increase ratio combination\"] = [\n",
    "        f\"{higher_add_ratio:.0%}\" + \" \" * (ubi // 100)\n",
    "        for ubi, higher_add_ratio in zip(\n",
    "            df[\"Adult UBI\"],\n",
    "            df[\"Higher/additional rate increase ratio\"],\n",
    "        )\n",
    "    ]\n",
    "    df[\"Label\"] = [\n",
    "        f\"A £{ubi:,.0f} UBI and £{pa:,.0f} Personal Allowance can be made <br>75% budget neutral by setting the basic, higher and additional rates<br> to {0.2 + basic_rate_addition:.1%}, {0.4 + higher_rate_addition:.1%} and {0.45 + additional_rate_addition:.1%} respectively.\"\n",
    "        for ubi, pa, basic_rate_addition, higher_rate_addition, additional_rate_addition in zip(\n",
    "            df[\"Adult UBI\"],\n",
    "            df[\"Personal Allowance\"],\n",
    "            df[\"Basic rate addition\"],\n",
    "            df[\"Higher rate addition\"],\n",
    "            df[\"Additional rate addition\"],\n",
    "        )\n",
    "    ]\n",
    "\n",
    "    df = df.sort_values([\"Adult UBI\", \"Higher/additional rate increase ratio\"])\n",
    "\n",
    "    df[\"Basic rate\"] = df[\"Basic rate addition\"] + 0.2\n",
    "    df[\"Higher rate\"] = df[\"Higher rate addition\"] + 0.4\n",
    "    df[\"Add. rate\"] = df[\"Additional rate addition\"] + 0.45\n",
    "\n",
    "    df[\"Feasible MTR\"] = np.where(\n",
    "            # £150k+ MTR under 100%\n",
    "            (df[\"Add. rate\"] + 0.0325 < 1)\n",
    "            # £100k-150k MTR under 100%\n",
    "            & (df[\"Higher rate\"] * (\n",
    "                np.where(df[\"Personal Allowance\"] > 0, 1.5, 1)\n",
    "            ) + 0.0325 < 1),\n",
    "            \"Yes\",\n",
    "            \"No\",\n",
    "        )\n",
    "    return df\n",
    "\n",
    "df = create_policy_space()\n",
    "\n",
    "def extract_three_model_rows(df: pd.DataFrame, child_min_age: int = 16):\n",
    "    pa = df[\"Personal Allowance\"]\n",
    "    ubi = df[\"Adult UBI\"]\n",
    "    ratio = df[\"Higher/additional rate increase ratio\"]\n",
    "    model_1_row = df[(pa == 2000) & (ubi == 200 * 12) & (ratio == 2)].iloc[0]\n",
    "    model_2_row = df[(pa == 0) & (ubi == 300 * 12) & (ratio == 1)].iloc[0]\n",
    "    model_3_row = df[(pa == 0) & (ubi == 400 * 12) & (ratio == 0)].iloc[0]\n",
    "\n",
    "    for row in [model_1_row, model_2_row, model_3_row]:\n",
    "        # Re-solve with slow estimate\n",
    "        row[\"Basic rate addition\"] = solve_rates(\n",
    "            adult_ubi=row[\"Adult UBI\"],\n",
    "            child_ubi=row[\"Child UBI\"],\n",
    "            senior_ubi=row[\"Senior UBI\"],\n",
    "            child_min_age=child_min_age,\n",
    "            personal_allowance=row[\"Personal Allowance\"],\n",
    "            higher_rate_ratio=row[\"Higher/additional rate increase ratio\"],\n",
    "            additional_rate_ratio=row[\"Higher/additional rate increase ratio\"],\n",
    "            use_quick_estimate=False,\n",
    "        )\n",
    "        row[\"Higher rate addition\"] = row[\"Basic rate addition\"] * row[\"Higher/additional rate increase ratio\"]\n",
    "        row[\"Additional rate addition\"] = row[\"Basic rate addition\"] * row[\"Higher/additional rate increase ratio\"]\n",
    "        row[\"Higher rate\"] = row[\"Higher rate addition\"] + 0.4\n",
    "        row[\"Add. rate\"] = row[\"Additional rate addition\"] + 0.45\n",
    "        row[\"Basic rate\"] = row[\"Basic rate addition\"] + 0.2\n",
    "        row[\"Child basic income age\"] = child_min_age\n",
    "    \n",
    "    return [model_1_row, model_2_row, model_3_row]\n",
    "\n",
    "def row_to_policy(row: pd.Series):\n",
    "    return dict(\n",
    "        basic_rate=row[\"Basic rate\"],\n",
    "        higher_rate=row[\"Higher rate\"],\n",
    "        additional_rate=row[\"Add. rate\"],\n",
    "        personal_allowance=row[\"Personal Allowance\"],\n",
    "        adult_bi=row[\"Adult UBI\"],\n",
    "        higher_rate_threshold=50_270. - row[\"Personal Allowance\"],\n",
    "        child_bi=row[\"Adult UBI\"] * 0.5,\n",
    "        senior_bi=row[\"Adult UBI\"],\n",
    "        child_min_age=row[\"Child basic income age\"],\n",
    "    )\n",
    "\n",
    "model_1_row, model_2_row, model_3_row = extract_three_model_rows(df)"
   ]
  },
  {
   "cell_type": "code",
   "execution_count": 3,
   "metadata": {
    "tags": [
     "highlighted-left"
    ]
   },
   "outputs": [
    {
     "data": {
      "text/plain": [
       "'{\"data\":[{\"customdata\":[[\"A \\\\u00a32,400 UBI and \\\\u00a312,570 Personal Allowance can be made <br>75% budget neutral by setting the basic, higher and additional rates<br> to 36.4%, 40.0% and 45.0% respectively.\"],[\"A \\\\u00a32,400 UBI and \\\\u00a312,000 Personal Allowance can be made <br>75% budget neutral by setting the basic, higher and additional rates<br> to 35.0%, 40.0% and 45.0% respectively.\"],[\"A \\\\u00a32,400 UBI and \\\\u00a311,000 Personal Allowance can be made <br>75% budget neutral by setting the basic, higher and additional rates<br> to 32.8%, 40.0% and 45.0% respectively.\"],[\"A \\\\u00a32,400 UBI and \\\\u00a310,000 Personal Allowance can be made <br>75% budget neutral by setting the basic, higher and additional rates<br> to 30.6%, 40.0% and 45.0% respectively.\"],[\"A \\\\u00a32,400 UBI and \\\\u00a39,000 Personal Allowance can be made <br>75% budget neutral by setting the basic, higher and additional rates<br> to 28.7%, 40.0% and 45.0% respectively.\"],[\"A \\\\u00a32,400 UBI and \\\\u00a38,000 Personal Allowance can be made <br>75% budget neutral by setting the basic, higher and additional rates<br> to 26.9%, 40.0% and 45.0% respectively.\"],[\"A \\\\u00a32,400 UBI and \\\\u00a37,000 Personal Allowance can be made <br>75% budget neutral by setting the basic, higher and additional rates<br> to 25.3%, 40.0% and 45.0% respectively.\"],[\"A \\\\u00a32,400 UBI and \\\\u00a36,000 Personal Allowance can be made <br>75% budget neutral by setting the basic, higher and additional rates<br> to 23.7%, 40.0% and 45.0% respectively.\"],[\"A \\\\u00a32,400 UBI and \\\\u00a35,000 Personal Allowance can be made <br>75% budget neutral by setting the basic, higher and additional rates<br> to 22.4%, 40.0% and 45.0% respectively.\"],[\"A \\\\u00a32,400 UBI and \\\\u00a34,000 Personal Allowance can be made <br>75% budget neutral by setting the basic, higher and additional rates<br> to 21.0%, 40.0% and 45.0% respectively.\"],[\"A \\\\u00a32,400 UBI and \\\\u00a33,000 Personal Allowance can be made <br>75% budget neutral by setting the basic, higher and additional rates<br> to 19.9%, 40.0% and 45.0% respectively.\"],[\"A \\\\u00a32,400 UBI and \\\\u00a32,000 Personal Allowance can be made <br>75% budget neutral by setting the basic, higher and additional rates<br> to 18.9%, 40.0% and 45.0% respectively.\"],[\"A \\\\u00a32,400 UBI and \\\\u00a31,000 Personal Allowance can be made <br>75% budget neutral by setting the basic, higher and additional rates<br> to 18.0%, 40.0% and 45.0% respectively.\"],[\"A \\\\u00a32,400 UBI and \\\\u00a30 Personal Allowance can be made <br>75% budget neutral by setting the basic, higher and additional rates<br> to 17.1%, 40.0% and 45.0% respectively.\"]],\"hovertemplate\":\"%{customdata[0]}\",\"legendgroup\":\"0%                        \",\"line\":{\"color\":\"#ABCEEB\",\"dash\":\"solid\"},\"marker\":{\"symbol\":\"circle\"},\"mode\":\"lines\",\"name\":\"0%                        \",\"orientation\":\"v\",\"showlegend\":true,\"x\":[12570,12000,11000,10000,9000,8000,7000,6000,5000,4000,3000,2000,1000,0],\"xaxis\":\"x\",\"y\":[0.364306640625,0.349658203125,0.327685546875,0.305712890625,0.286669921875,0.269091796875,0.252978515625,0.236865234375,0.223681640625,0.210498046875,0.198779296875,0.188525390625,0.179736328125,0.170947265625],\"yaxis\":\"y\",\"type\":\"scatter\"},{\"customdata\":[[\"A \\\\u00a32,400 UBI and \\\\u00a312,570 Personal Allowance can be made <br>75% budget neutral by setting the basic, higher and additional rates<br> to 33.1%, 53.1% and 58.1% respectively.\"],[\"A \\\\u00a32,400 UBI and \\\\u00a312,000 Personal Allowance can be made <br>75% budget neutral by setting the basic, higher and additional rates<br> to 32.0%, 52.0% and 57.0% respectively.\"],[\"A \\\\u00a32,400 UBI and \\\\u00a311,000 Personal Allowance can be made <br>75% budget neutral by setting the basic, higher and additional rates<br> to 30.4%, 50.4% and 55.4% respectively.\"],[\"A \\\\u00a32,400 UBI and \\\\u00a310,000 Personal Allowance can be made <br>75% budget neutral by setting the basic, higher and additional rates<br> to 28.8%, 48.8% and 53.8% respectively.\"],[\"A \\\\u00a32,400 UBI and \\\\u00a39,000 Personal Allowance can be made <br>75% budget neutral by setting the basic, higher and additional rates<br> to 27.2%, 47.2% and 52.2% respectively.\"],[\"A \\\\u00a32,400 UBI and \\\\u00a38,000 Personal Allowance can be made <br>75% budget neutral by setting the basic, higher and additional rates<br> to 25.9%, 45.9% and 50.9% respectively.\"],[\"A \\\\u00a32,400 UBI and \\\\u00a37,000 Personal Allowance can be made <br>75% budget neutral by setting the basic, higher and additional rates<br> to 24.4%, 44.4% and 49.4% respectively.\"],[\"A \\\\u00a32,400 UBI and \\\\u00a36,000 Personal Allowance can be made <br>75% budget neutral by setting the basic, higher and additional rates<br> to 23.2%, 43.2% and 48.2% respectively.\"],[\"A \\\\u00a32,400 UBI and \\\\u00a35,000 Personal Allowance can be made <br>75% budget neutral by setting the basic, higher and additional rates<br> to 22.1%, 42.1% and 47.1% respectively.\"],[\"A \\\\u00a32,400 UBI and \\\\u00a34,000 Personal Allowance can be made <br>75% budget neutral by setting the basic, higher and additional rates<br> to 20.9%, 40.9% and 45.9% respectively.\"],[\"A \\\\u00a32,400 UBI and \\\\u00a33,000 Personal Allowance can be made <br>75% budget neutral by setting the basic, higher and additional rates<br> to 19.9%, 39.9% and 44.9% respectively.\"],[\"A \\\\u00a32,400 UBI and \\\\u00a32,000 Personal Allowance can be made <br>75% budget neutral by setting the basic, higher and additional rates<br> to 19.0%, 39.0% and 44.0% respectively.\"],[\"A \\\\u00a32,400 UBI and \\\\u00a31,000 Personal Allowance can be made <br>75% budget neutral by setting the basic, higher and additional rates<br> to 18.1%, 38.1% and 43.1% respectively.\"],[\"A \\\\u00a32,400 UBI and \\\\u00a30 Personal Allowance can be made <br>75% budget neutral by setting the basic, higher and additional rates<br> to 17.4%, 37.4% and 42.4% respectively.\"]],\"hovertemplate\":\"%{customdata[0]}\",\"legendgroup\":\"100%                        \",\"line\":{\"color\":\"#49A6E2\",\"dash\":\"solid\"},\"marker\":{\"symbol\":\"circle\"},\"mode\":\"lines\",\"name\":\"100%                        \",\"orientation\":\"v\",\"showlegend\":false,\"x\":[12570,12000,11000,10000,9000,8000,7000,6000,5000,4000,3000,2000,1000,0],\"xaxis\":\"x\",\"y\":[0.330615234375,0.320361328125,0.304248046875,0.288134765625,0.272021484375,0.258837890625,0.244189453125,0.232470703125,0.220751953125,0.209033203125,0.198779296875,0.189990234375,0.181201171875,0.173876953125],\"yaxis\":\"y\",\"type\":\"scatter\"},{\"customdata\":[[\"A \\\\u00a32,400 UBI and \\\\u00a312,570 Personal Allowance can be made <br>75% budget neutral by setting the basic, higher and additional rates<br> to 30.9%, 61.7% and 66.7% respectively.\"],[\"A \\\\u00a32,400 UBI and \\\\u00a312,000 Personal Allowance can be made <br>75% budget neutral by setting the basic, higher and additional rates<br> to 30.1%, 60.3% and 65.3% respectively.\"],[\"A \\\\u00a32,400 UBI and \\\\u00a311,000 Personal Allowance can be made <br>75% budget neutral by setting the basic, higher and additional rates<br> to 28.8%, 57.6% and 62.6% respectively.\"],[\"A \\\\u00a32,400 UBI and \\\\u00a310,000 Personal Allowance can be made <br>75% budget neutral by setting the basic, higher and additional rates<br> to 27.5%, 55.0% and 60.0% respectively.\"],[\"A \\\\u00a32,400 UBI and \\\\u00a39,000 Personal Allowance can be made <br>75% budget neutral by setting the basic, higher and additional rates<br> to 26.2%, 52.4% and 57.4% respectively.\"],[\"A \\\\u00a32,400 UBI and \\\\u00a38,000 Personal Allowance can be made <br>75% budget neutral by setting the basic, higher and additional rates<br> to 25.0%, 50.0% and 55.0% respectively.\"],[\"A \\\\u00a32,400 UBI and \\\\u00a37,000 Personal Allowance can be made <br>75% budget neutral by setting the basic, higher and additional rates<br> to 23.8%, 47.7% and 52.7% respectively.\"],[\"A \\\\u00a32,400 UBI and \\\\u00a36,000 Personal Allowance can be made <br>75% budget neutral by setting the basic, higher and additional rates<br> to 22.8%, 45.6% and 50.6% respectively.\"],[\"A \\\\u00a32,400 UBI and \\\\u00a35,000 Personal Allowance can be made <br>75% budget neutral by setting the basic, higher and additional rates<br> to 21.8%, 43.6% and 48.6% respectively.\"],[\"A \\\\u00a32,400 UBI and \\\\u00a34,000 Personal Allowance can be made <br>75% budget neutral by setting the basic, higher and additional rates<br> to 20.8%, 41.5% and 46.5% respectively.\"],[\"A \\\\u00a32,400 UBI and \\\\u00a33,000 Personal Allowance can be made <br>75% budget neutral by setting the basic, higher and additional rates<br> to 19.9%, 39.8% and 44.8% respectively.\"],[\"A \\\\u00a32,400 UBI and \\\\u00a32,000 Personal Allowance can be made <br>75% budget neutral by setting the basic, higher and additional rates<br> to 19.1%, 38.3% and 43.3% respectively.\"],[\"A \\\\u00a32,400 UBI and \\\\u00a31,000 Personal Allowance can be made <br>75% budget neutral by setting the basic, higher and additional rates<br> to 18.4%, 36.8% and 41.8% respectively.\"],[\"A \\\\u00a32,400 UBI and \\\\u00a30 Personal Allowance can be made <br>75% budget neutral by setting the basic, higher and additional rates<br> to 17.7%, 35.4% and 40.4% respectively.\"]],\"hovertemplate\":\"%{customdata[0]}\",\"legendgroup\":\"200%                        \",\"line\":{\"color\":\"#1976D2\",\"dash\":\"solid\"},\"marker\":{\"symbol\":\"circle\"},\"mode\":\"lines\",\"name\":\"200%                        \",\"orientation\":\"v\",\"showlegend\":false,\"x\":[12570,12000,11000,10000,9000,8000,7000,6000,5000,4000,3000,2000,1000,0],\"xaxis\":\"x\",\"y\":[0.308642578125,0.301318359375,0.288134765625,0.274951171875,0.261767578125,0.250048828125,0.238330078125,0.228076171875,0.217822265625,0.207568359375,0.198779296875,0.191455078125,0.184130859375,0.176806640625],\"yaxis\":\"y\",\"type\":\"scatter\"},{\"customdata\":[[\"A \\\\u00a33,600 UBI and \\\\u00a312,570 Personal Allowance can be made <br>75% budget neutral by setting the basic, higher and additional rates<br> to 44.6%, 40.0% and 45.0% respectively.\"],[\"A \\\\u00a33,600 UBI and \\\\u00a312,000 Personal Allowance can be made <br>75% budget neutral by setting the basic, higher and additional rates<br> to 42.9%, 40.0% and 45.0% respectively.\"],[\"A \\\\u00a33,600 UBI and \\\\u00a311,000 Personal Allowance can be made <br>75% budget neutral by setting the basic, higher and additional rates<br> to 40.1%, 40.0% and 45.0% respectively.\"],[\"A \\\\u00a33,600 UBI and \\\\u00a310,000 Personal Allowance can be made <br>75% budget neutral by setting the basic, higher and additional rates<br> to 37.6%, 40.0% and 45.0% respectively.\"],[\"A \\\\u00a33,600 UBI and \\\\u00a39,000 Personal Allowance can be made <br>75% budget neutral by setting the basic, higher and additional rates<br> to 35.1%, 40.0% and 45.0% respectively.\"],[\"A \\\\u00a33,600 UBI and \\\\u00a38,000 Personal Allowance can be made <br>75% budget neutral by setting the basic, higher and additional rates<br> to 32.9%, 40.0% and 45.0% respectively.\"],[\"A \\\\u00a33,600 UBI and \\\\u00a37,000 Personal Allowance can be made <br>75% budget neutral by setting the basic, higher and additional rates<br> to 31.0%, 40.0% and 45.0% respectively.\"],[\"A \\\\u00a33,600 UBI and \\\\u00a36,000 Personal Allowance can be made <br>75% budget neutral by setting the basic, higher and additional rates<br> to 29.1%, 40.0% and 45.0% respectively.\"],[\"A \\\\u00a33,600 UBI and \\\\u00a35,000 Personal Allowance can be made <br>75% budget neutral by setting the basic, higher and additional rates<br> to 27.3%, 40.0% and 45.0% respectively.\"],[\"A \\\\u00a33,600 UBI and \\\\u00a34,000 Personal Allowance can be made <br>75% budget neutral by setting the basic, higher and additional rates<br> to 25.9%, 40.0% and 45.0% respectively.\"],[\"A \\\\u00a33,600 UBI and \\\\u00a33,000 Personal Allowance can be made <br>75% budget neutral by setting the basic, higher and additional rates<br> to 24.4%, 40.0% and 45.0% respectively.\"],[\"A \\\\u00a33,600 UBI and \\\\u00a32,000 Personal Allowance can be made <br>75% budget neutral by setting the basic, higher and additional rates<br> to 23.1%, 40.0% and 45.0% respectively.\"],[\"A \\\\u00a33,600 UBI and \\\\u00a31,000 Personal Allowance can be made <br>75% budget neutral by setting the basic, higher and additional rates<br> to 21.9%, 40.0% and 45.0% respectively.\"],[\"A \\\\u00a33,600 UBI and \\\\u00a30 Personal Allowance can be made <br>75% budget neutral by setting the basic, higher and additional rates<br> to 20.9%, 40.0% and 45.0% respectively.\"]],\"hovertemplate\":\"%{customdata[0]}\",\"legendgroup\":\"0%                                    \",\"line\":{\"color\":\"#ABCEEB\",\"dash\":\"solid\"},\"marker\":{\"symbol\":\"circle\"},\"mode\":\"lines\",\"name\":\"0%                                    \",\"orientation\":\"v\",\"showlegend\":false,\"x\":[12570,12000,11000,10000,9000,8000,7000,6000,5000,4000,3000,2000,1000,0],\"xaxis\":\"x\",\"y\":[0.446337890625,0.428759765625,0.400927734375,0.376025390625,0.351123046875,0.329150390625,0.310107421875,0.291064453125,0.273486328125,0.258837890625,0.244189453125,0.231005859375,0.219287109375,0.209033203125],\"yaxis\":\"y\",\"type\":\"scatter\"},{\"customdata\":[[\"A \\\\u00a33,600 UBI and \\\\u00a312,570 Personal Allowance can be made <br>75% budget neutral by setting the basic, higher and additional rates<br> to 39.7%, 59.7% and 64.7% respectively.\"],[\"A \\\\u00a33,600 UBI and \\\\u00a312,000 Personal Allowance can be made <br>75% budget neutral by setting the basic, higher and additional rates<br> to 38.5%, 58.5% and 63.5% respectively.\"],[\"A \\\\u00a33,600 UBI and \\\\u00a311,000 Personal Allowance can be made <br>75% budget neutral by setting the basic, higher and additional rates<br> to 36.4%, 56.4% and 61.4% respectively.\"],[\"A \\\\u00a33,600 UBI and \\\\u00a310,000 Personal Allowance can be made <br>75% budget neutral by setting the basic, higher and additional rates<br> to 34.5%, 54.5% and 59.5% respectively.\"],[\"A \\\\u00a33,600 UBI and \\\\u00a39,000 Personal Allowance can be made <br>75% budget neutral by setting the basic, higher and additional rates<br> to 32.6%, 52.6% and 57.6% respectively.\"],[\"A \\\\u00a33,600 UBI and \\\\u00a38,000 Personal Allowance can be made <br>75% budget neutral by setting the basic, higher and additional rates<br> to 31.0%, 51.0% and 56.0% respectively.\"],[\"A \\\\u00a33,600 UBI and \\\\u00a37,000 Personal Allowance can be made <br>75% budget neutral by setting the basic, higher and additional rates<br> to 29.3%, 49.3% and 54.3% respectively.\"],[\"A \\\\u00a33,600 UBI and \\\\u00a36,000 Personal Allowance can be made <br>75% budget neutral by setting the basic, higher and additional rates<br> to 27.8%, 47.8% and 52.8% respectively.\"],[\"A \\\\u00a33,600 UBI and \\\\u00a35,000 Personal Allowance can be made <br>75% budget neutral by setting the basic, higher and additional rates<br> to 26.3%, 46.3% and 51.3% respectively.\"],[\"A \\\\u00a33,600 UBI and \\\\u00a34,000 Personal Allowance can be made <br>75% budget neutral by setting the basic, higher and additional rates<br> to 25.0%, 45.0% and 50.0% respectively.\"],[\"A \\\\u00a33,600 UBI and \\\\u00a33,000 Personal Allowance can be made <br>75% budget neutral by setting the basic, higher and additional rates<br> to 23.8%, 43.8% and 48.8% respectively.\"],[\"A \\\\u00a33,600 UBI and \\\\u00a32,000 Personal Allowance can be made <br>75% budget neutral by setting the basic, higher and additional rates<br> to 22.8%, 42.8% and 47.8% respectively.\"],[\"A \\\\u00a33,600 UBI and \\\\u00a31,000 Personal Allowance can be made <br>75% budget neutral by setting the basic, higher and additional rates<br> to 21.8%, 41.8% and 46.8% respectively.\"],[\"A \\\\u00a33,600 UBI and \\\\u00a30 Personal Allowance can be made <br>75% budget neutral by setting the basic, higher and additional rates<br> to 20.8%, 40.8% and 45.8% respectively.\"]],\"hovertemplate\":\"%{customdata[0]}\",\"legendgroup\":\"100%                                    \",\"line\":{\"color\":\"#49A6E2\",\"dash\":\"solid\"},\"marker\":{\"symbol\":\"circle\"},\"mode\":\"lines\",\"name\":\"100%                                    \",\"orientation\":\"v\",\"showlegend\":true,\"x\":[12570,12000,11000,10000,9000,8000,7000,6000,5000,4000,3000,2000,1000,0],\"xaxis\":\"x\",\"y\":[0.396533203125,0.384814453125,0.364306640625,0.345263671875,0.326220703125,0.310107421875,0.292529296875,0.277880859375,0.263232421875,0.250048828125,0.238330078125,0.228076171875,0.217822265625,0.207568359375],\"yaxis\":\"y\",\"type\":\"scatter\"},{\"customdata\":[[\"A \\\\u00a33,600 UBI and \\\\u00a39,000 Personal Allowance can be made <br>75% budget neutral by setting the basic, higher and additional rates<br> to 30.9%, 61.7% and 66.7% respectively.\"],[\"A \\\\u00a33,600 UBI and \\\\u00a38,000 Personal Allowance can be made <br>75% budget neutral by setting the basic, higher and additional rates<br> to 29.4%, 58.8% and 63.8% respectively.\"],[\"A \\\\u00a33,600 UBI and \\\\u00a37,000 Personal Allowance can be made <br>75% budget neutral by setting the basic, higher and additional rates<br> to 28.1%, 56.2% and 61.2% respectively.\"],[\"A \\\\u00a33,600 UBI and \\\\u00a36,000 Personal Allowance can be made <br>75% budget neutral by setting the basic, higher and additional rates<br> to 26.8%, 53.5% and 58.5% respectively.\"],[\"A \\\\u00a33,600 UBI and \\\\u00a35,000 Personal Allowance can be made <br>75% budget neutral by setting the basic, higher and additional rates<br> to 25.6%, 51.2% and 56.2% respectively.\"],[\"A \\\\u00a33,600 UBI and \\\\u00a34,000 Personal Allowance can be made <br>75% budget neutral by setting the basic, higher and additional rates<br> to 24.6%, 49.1% and 54.1% respectively.\"],[\"A \\\\u00a33,600 UBI and \\\\u00a33,000 Personal Allowance can be made <br>75% budget neutral by setting the basic, higher and additional rates<br> to 23.4%, 46.8% and 51.8% respectively.\"],[\"A \\\\u00a33,600 UBI and \\\\u00a32,000 Personal Allowance can be made <br>75% budget neutral by setting the basic, higher and additional rates<br> to 22.5%, 45.0% and 50.0% respectively.\"],[\"A \\\\u00a33,600 UBI and \\\\u00a31,000 Personal Allowance can be made <br>75% budget neutral by setting the basic, higher and additional rates<br> to 21.6%, 43.3% and 48.3% respectively.\"],[\"A \\\\u00a33,600 UBI and \\\\u00a30 Personal Allowance can be made <br>75% budget neutral by setting the basic, higher and additional rates<br> to 20.8%, 41.5% and 46.5% respectively.\"]],\"hovertemplate\":\"%{customdata[0]}\",\"legendgroup\":\"200%                                    \",\"line\":{\"color\":\"#1976D2\",\"dash\":\"solid\"},\"marker\":{\"symbol\":\"circle\"},\"mode\":\"lines\",\"name\":\"200%                                    \",\"orientation\":\"v\",\"showlegend\":false,\"x\":[9000,8000,7000,6000,5000,4000,3000,2000,1000,0],\"xaxis\":\"x\",\"y\":[0.308642578125,0.293994140625,0.280810546875,0.267626953125,0.255908203125,0.245654296875,0.233935546875,0.225146484375,0.216357421875,0.207568359375],\"yaxis\":\"y\",\"type\":\"scatter\"},{\"customdata\":[[\"A \\\\u00a34,800 UBI and \\\\u00a312,570 Personal Allowance can be made <br>75% budget neutral by setting the basic, higher and additional rates<br> to 52.8%, 40.0% and 45.0% respectively.\"],[\"A \\\\u00a34,800 UBI and \\\\u00a312,000 Personal Allowance can be made <br>75% budget neutral by setting the basic, higher and additional rates<br> to 50.8%, 40.0% and 45.0% respectively.\"],[\"A \\\\u00a34,800 UBI and \\\\u00a311,000 Personal Allowance can be made <br>75% budget neutral by setting the basic, higher and additional rates<br> to 47.4%, 40.0% and 45.0% respectively.\"],[\"A \\\\u00a34,800 UBI and \\\\u00a310,000 Personal Allowance can be made <br>75% budget neutral by setting the basic, higher and additional rates<br> to 44.5%, 40.0% and 45.0% respectively.\"],[\"A \\\\u00a34,800 UBI and \\\\u00a39,000 Personal Allowance can be made <br>75% budget neutral by setting the basic, higher and additional rates<br> to 41.7%, 40.0% and 45.0% respectively.\"],[\"A \\\\u00a34,800 UBI and \\\\u00a38,000 Personal Allowance can be made <br>75% budget neutral by setting the basic, higher and additional rates<br> to 39.1%, 40.0% and 45.0% respectively.\"],[\"A \\\\u00a34,800 UBI and \\\\u00a37,000 Personal Allowance can be made <br>75% budget neutral by setting the basic, higher and additional rates<br> to 36.6%, 40.0% and 45.0% respectively.\"],[\"A \\\\u00a34,800 UBI and \\\\u00a36,000 Personal Allowance can be made <br>75% budget neutral by setting the basic, higher and additional rates<br> to 34.4%, 40.0% and 45.0% respectively.\"],[\"A \\\\u00a34,800 UBI and \\\\u00a35,000 Personal Allowance can be made <br>75% budget neutral by setting the basic, higher and additional rates<br> to 32.3%, 40.0% and 45.0% respectively.\"],[\"A \\\\u00a34,800 UBI and \\\\u00a34,000 Personal Allowance can be made <br>75% budget neutral by setting the basic, higher and additional rates<br> to 30.6%, 40.0% and 45.0% respectively.\"],[\"A \\\\u00a34,800 UBI and \\\\u00a33,000 Personal Allowance can be made <br>75% budget neutral by setting the basic, higher and additional rates<br> to 29.0%, 40.0% and 45.0% respectively.\"],[\"A \\\\u00a34,800 UBI and \\\\u00a32,000 Personal Allowance can be made <br>75% budget neutral by setting the basic, higher and additional rates<br> to 27.3%, 40.0% and 45.0% respectively.\"],[\"A \\\\u00a34,800 UBI and \\\\u00a31,000 Personal Allowance can be made <br>75% budget neutral by setting the basic, higher and additional rates<br> to 26.0%, 40.0% and 45.0% respectively.\"],[\"A \\\\u00a34,800 UBI and \\\\u00a30 Personal Allowance can be made <br>75% budget neutral by setting the basic, higher and additional rates<br> to 24.7%, 40.0% and 45.0% respectively.\"]],\"hovertemplate\":\"%{customdata[0]}\",\"legendgroup\":\"0%                                                \",\"line\":{\"color\":\"#ABCEEB\",\"dash\":\"solid\"},\"marker\":{\"symbol\":\"circle\"},\"mode\":\"lines\",\"name\":\"0%                                                \",\"orientation\":\"v\",\"showlegend\":false,\"x\":[12570,12000,11000,10000,9000,8000,7000,6000,5000,4000,3000,2000,1000,0],\"xaxis\":\"x\",\"y\":[0.528369140625,0.507861328125,0.474169921875,0.444873046875,0.417041015625,0.390673828125,0.365771484375,0.343798828125,0.323291015625,0.305712890625,0.289599609375,0.273486328125,0.260302734375,0.247119140625],\"yaxis\":\"y\",\"type\":\"scatter\"},{\"customdata\":[[\"A \\\\u00a34,800 UBI and \\\\u00a311,000 Personal Allowance can be made <br>75% budget neutral by setting the basic, higher and additional rates<br> to 42.4%, 62.4% and 67.4% respectively.\"],[\"A \\\\u00a34,800 UBI and \\\\u00a310,000 Personal Allowance can be made <br>75% budget neutral by setting the basic, higher and additional rates<br> to 40.1%, 60.1% and 65.1% respectively.\"],[\"A \\\\u00a34,800 UBI and \\\\u00a39,000 Personal Allowance can be made <br>75% budget neutral by setting the basic, higher and additional rates<br> to 38.0%, 58.0% and 63.0% respectively.\"],[\"A \\\\u00a34,800 UBI and \\\\u00a38,000 Personal Allowance can be made <br>75% budget neutral by setting the basic, higher and additional rates<br> to 36.0%, 56.0% and 61.0% respectively.\"],[\"A \\\\u00a34,800 UBI and \\\\u00a37,000 Personal Allowance can be made <br>75% budget neutral by setting the basic, higher and additional rates<br> to 34.2%, 54.2% and 59.2% respectively.\"],[\"A \\\\u00a34,800 UBI and \\\\u00a36,000 Personal Allowance can be made <br>75% budget neutral by setting the basic, higher and additional rates<br> to 32.3%, 52.3% and 57.3% respectively.\"],[\"A \\\\u00a34,800 UBI and \\\\u00a35,000 Personal Allowance can be made <br>75% budget neutral by setting the basic, higher and additional rates<br> to 30.7%, 50.7% and 55.7% respectively.\"],[\"A \\\\u00a34,800 UBI and \\\\u00a34,000 Personal Allowance can be made <br>75% budget neutral by setting the basic, higher and additional rates<br> to 29.3%, 49.3% and 54.3% respectively.\"],[\"A \\\\u00a34,800 UBI and \\\\u00a33,000 Personal Allowance can be made <br>75% budget neutral by setting the basic, higher and additional rates<br> to 27.8%, 47.8% and 52.8% respectively.\"],[\"A \\\\u00a34,800 UBI and \\\\u00a32,000 Personal Allowance can be made <br>75% budget neutral by setting the basic, higher and additional rates<br> to 26.5%, 46.5% and 51.5% respectively.\"],[\"A \\\\u00a34,800 UBI and \\\\u00a31,000 Personal Allowance can be made <br>75% budget neutral by setting the basic, higher and additional rates<br> to 25.3%, 45.3% and 50.3% respectively.\"],[\"A \\\\u00a34,800 UBI and \\\\u00a30 Personal Allowance can be made <br>75% budget neutral by setting the basic, higher and additional rates<br> to 24.3%, 44.3% and 49.3% respectively.\"]],\"hovertemplate\":\"%{customdata[0]}\",\"legendgroup\":\"100%                                                \",\"line\":{\"color\":\"#49A6E2\",\"dash\":\"solid\"},\"marker\":{\"symbol\":\"circle\"},\"mode\":\"lines\",\"name\":\"100%                                                \",\"orientation\":\"v\",\"showlegend\":false,\"x\":[11000,10000,9000,8000,7000,6000,5000,4000,3000,2000,1000,0],\"xaxis\":\"x\",\"y\":[0.424365234375,0.400927734375,0.380419921875,0.359912109375,0.342333984375,0.323291015625,0.307177734375,0.292529296875,0.277880859375,0.264697265625,0.252978515625,0.242724609375],\"yaxis\":\"y\",\"type\":\"scatter\"},{\"customdata\":[[\"A \\\\u00a34,800 UBI and \\\\u00a36,000 Personal Allowance can be made <br>75% budget neutral by setting the basic, higher and additional rates<br> to 30.9%, 61.7% and 66.7% respectively.\"],[\"A \\\\u00a34,800 UBI and \\\\u00a35,000 Personal Allowance can be made <br>75% budget neutral by setting the basic, higher and additional rates<br> to 29.4%, 58.8% and 63.8% respectively.\"],[\"A \\\\u00a34,800 UBI and \\\\u00a34,000 Personal Allowance can be made <br>75% budget neutral by setting the basic, higher and additional rates<br> to 28.2%, 56.5% and 61.5% respectively.\"],[\"A \\\\u00a34,800 UBI and \\\\u00a33,000 Personal Allowance can be made <br>75% budget neutral by setting the basic, higher and additional rates<br> to 26.9%, 53.8% and 58.8% respectively.\"],[\"A \\\\u00a34,800 UBI and \\\\u00a32,000 Personal Allowance can be made <br>75% budget neutral by setting the basic, higher and additional rates<br> to 25.9%, 51.8% and 56.8% respectively.\"],[\"A \\\\u00a34,800 UBI and \\\\u00a31,000 Personal Allowance can be made <br>75% budget neutral by setting the basic, higher and additional rates<br> to 24.9%, 49.7% and 54.7% respectively.\"],[\"A \\\\u00a34,800 UBI and \\\\u00a30 Personal Allowance can be made <br>75% budget neutral by setting the basic, higher and additional rates<br> to 23.8%, 47.7% and 52.7% respectively.\"]],\"hovertemplate\":\"%{customdata[0]}\",\"legendgroup\":\"200%                                                \",\"line\":{\"color\":\"#1976D2\",\"dash\":\"solid\"},\"marker\":{\"symbol\":\"circle\"},\"mode\":\"lines\",\"name\":\"200%                                                \",\"orientation\":\"v\",\"showlegend\":true,\"x\":[6000,5000,4000,3000,2000,1000,0],\"xaxis\":\"x\",\"y\":[0.308642578125,0.293994140625,0.282275390625,0.269091796875,0.258837890625,0.248583984375,0.238330078125],\"yaxis\":\"y\",\"type\":\"scatter\"},{\"mode\":\"text\",\"name\":\"Label\",\"showlegend\":false,\"text\":[\"\\\\u00a3200/mo\",\"\\\\u00a3300/mo\",\"\\\\u00a3400/mo\"],\"textposition\":\"bottom center\",\"x\":[1000,1000,1000],\"y\":[0.15,0.2,0.25],\"type\":\"scatter\"}],\"layout\":{\"template\":{\"data\":{\"barpolar\":[{\"marker\":{\"line\":{\"color\":\"white\",\"width\":0.5},\"pattern\":{\"fillmode\":\"overlay\",\"size\":10,\"solidity\":0.2}},\"type\":\"barpolar\"}],\"bar\":[{\"error_x\":{\"color\":\"#2a3f5f\"},\"error_y\":{\"color\":\"#2a3f5f\"},\"marker\":{\"line\":{\"color\":\"white\",\"width\":0.5},\"pattern\":{\"fillmode\":\"overlay\",\"size\":10,\"solidity\":0.2}},\"type\":\"bar\"}],\"carpet\":[{\"aaxis\":{\"endlinecolor\":\"#2a3f5f\",\"gridcolor\":\"#C8D4E3\",\"linecolor\":\"#C8D4E3\",\"minorgridcolor\":\"#C8D4E3\",\"startlinecolor\":\"#2a3f5f\"},\"baxis\":{\"endlinecolor\":\"#2a3f5f\",\"gridcolor\":\"#C8D4E3\",\"linecolor\":\"#C8D4E3\",\"minorgridcolor\":\"#C8D4E3\",\"startlinecolor\":\"#2a3f5f\"},\"type\":\"carpet\"}],\"choropleth\":[{\"colorbar\":{\"outlinewidth\":0,\"ticks\":\"\"},\"type\":\"choropleth\"}],\"contourcarpet\":[{\"colorbar\":{\"outlinewidth\":0,\"ticks\":\"\"},\"type\":\"contourcarpet\"}],\"contour\":[{\"colorbar\":{\"outlinewidth\":0,\"ticks\":\"\"},\"colorscale\":[[0.0,\"#0d0887\"],[0.1111111111111111,\"#46039f\"],[0.2222222222222222,\"#7201a8\"],[0.3333333333333333,\"#9c179e\"],[0.4444444444444444,\"#bd3786\"],[0.5555555555555556,\"#d8576b\"],[0.6666666666666666,\"#ed7953\"],[0.7777777777777778,\"#fb9f3a\"],[0.8888888888888888,\"#fdca26\"],[1.0,\"#f0f921\"]],\"type\":\"contour\"}],\"heatmapgl\":[{\"colorbar\":{\"outlinewidth\":0,\"ticks\":\"\"},\"colorscale\":[[0.0,\"#0d0887\"],[0.1111111111111111,\"#46039f\"],[0.2222222222222222,\"#7201a8\"],[0.3333333333333333,\"#9c179e\"],[0.4444444444444444,\"#bd3786\"],[0.5555555555555556,\"#d8576b\"],[0.6666666666666666,\"#ed7953\"],[0.7777777777777778,\"#fb9f3a\"],[0.8888888888888888,\"#fdca26\"],[1.0,\"#f0f921\"]],\"type\":\"heatmapgl\"}],\"heatmap\":[{\"colorbar\":{\"outlinewidth\":0,\"ticks\":\"\"},\"colorscale\":[[0.0,\"#0d0887\"],[0.1111111111111111,\"#46039f\"],[0.2222222222222222,\"#7201a8\"],[0.3333333333333333,\"#9c179e\"],[0.4444444444444444,\"#bd3786\"],[0.5555555555555556,\"#d8576b\"],[0.6666666666666666,\"#ed7953\"],[0.7777777777777778,\"#fb9f3a\"],[0.8888888888888888,\"#fdca26\"],[1.0,\"#f0f921\"]],\"type\":\"heatmap\"}],\"histogram2dcontour\":[{\"colorbar\":{\"outlinewidth\":0,\"ticks\":\"\"},\"colorscale\":[[0.0,\"#0d0887\"],[0.1111111111111111,\"#46039f\"],[0.2222222222222222,\"#7201a8\"],[0.3333333333333333,\"#9c179e\"],[0.4444444444444444,\"#bd3786\"],[0.5555555555555556,\"#d8576b\"],[0.6666666666666666,\"#ed7953\"],[0.7777777777777778,\"#fb9f3a\"],[0.8888888888888888,\"#fdca26\"],[1.0,\"#f0f921\"]],\"type\":\"histogram2dcontour\"}],\"histogram2d\":[{\"colorbar\":{\"outlinewidth\":0,\"ticks\":\"\"},\"colorscale\":[[0.0,\"#0d0887\"],[0.1111111111111111,\"#46039f\"],[0.2222222222222222,\"#7201a8\"],[0.3333333333333333,\"#9c179e\"],[0.4444444444444444,\"#bd3786\"],[0.5555555555555556,\"#d8576b\"],[0.6666666666666666,\"#ed7953\"],[0.7777777777777778,\"#fb9f3a\"],[0.8888888888888888,\"#fdca26\"],[1.0,\"#f0f921\"]],\"type\":\"histogram2d\"}],\"histogram\":[{\"marker\":{\"pattern\":{\"fillmode\":\"overlay\",\"size\":10,\"solidity\":0.2}},\"type\":\"histogram\"}],\"mesh3d\":[{\"colorbar\":{\"outlinewidth\":0,\"ticks\":\"\"},\"type\":\"mesh3d\"}],\"parcoords\":[{\"line\":{\"colorbar\":{\"outlinewidth\":0,\"ticks\":\"\"}},\"type\":\"parcoords\"}],\"pie\":[{\"automargin\":true,\"type\":\"pie\"}],\"scatter3d\":[{\"line\":{\"colorbar\":{\"outlinewidth\":0,\"ticks\":\"\"}},\"marker\":{\"colorbar\":{\"outlinewidth\":0,\"ticks\":\"\"}},\"type\":\"scatter3d\"}],\"scattercarpet\":[{\"marker\":{\"colorbar\":{\"outlinewidth\":0,\"ticks\":\"\"}},\"type\":\"scattercarpet\"}],\"scattergeo\":[{\"marker\":{\"colorbar\":{\"outlinewidth\":0,\"ticks\":\"\"}},\"type\":\"scattergeo\"}],\"scattergl\":[{\"marker\":{\"colorbar\":{\"outlinewidth\":0,\"ticks\":\"\"}},\"type\":\"scattergl\"}],\"scattermapbox\":[{\"marker\":{\"colorbar\":{\"outlinewidth\":0,\"ticks\":\"\"}},\"type\":\"scattermapbox\"}],\"scatterpolargl\":[{\"marker\":{\"colorbar\":{\"outlinewidth\":0,\"ticks\":\"\"}},\"type\":\"scatterpolargl\"}],\"scatterpolar\":[{\"marker\":{\"colorbar\":{\"outlinewidth\":0,\"ticks\":\"\"}},\"type\":\"scatterpolar\"}],\"scatter\":[{\"fillpattern\":{\"fillmode\":\"overlay\",\"size\":10,\"solidity\":0.2},\"type\":\"scatter\"}],\"scatterternary\":[{\"marker\":{\"colorbar\":{\"outlinewidth\":0,\"ticks\":\"\"}},\"type\":\"scatterternary\"}],\"surface\":[{\"colorbar\":{\"outlinewidth\":0,\"ticks\":\"\"},\"colorscale\":[[0.0,\"#0d0887\"],[0.1111111111111111,\"#46039f\"],[0.2222222222222222,\"#7201a8\"],[0.3333333333333333,\"#9c179e\"],[0.4444444444444444,\"#bd3786\"],[0.5555555555555556,\"#d8576b\"],[0.6666666666666666,\"#ed7953\"],[0.7777777777777778,\"#fb9f3a\"],[0.8888888888888888,\"#fdca26\"],[1.0,\"#f0f921\"]],\"type\":\"surface\"}],\"table\":[{\"cells\":{\"fill\":{\"color\":\"#EBF0F8\"},\"line\":{\"color\":\"white\"}},\"header\":{\"fill\":{\"color\":\"#C8D4E3\"},\"line\":{\"color\":\"white\"}},\"type\":\"table\"}]},\"layout\":{\"annotationdefaults\":{\"arrowcolor\":\"#2a3f5f\",\"arrowhead\":0,\"arrowwidth\":1},\"autotypenumbers\":\"strict\",\"coloraxis\":{\"colorbar\":{\"outlinewidth\":0,\"ticks\":\"\"}},\"colorscale\":{\"diverging\":[[0,\"#8e0152\"],[0.1,\"#c51b7d\"],[0.2,\"#de77ae\"],[0.3,\"#f1b6da\"],[0.4,\"#fde0ef\"],[0.5,\"#f7f7f7\"],[0.6,\"#e6f5d0\"],[0.7,\"#b8e186\"],[0.8,\"#7fbc41\"],[0.9,\"#4d9221\"],[1,\"#276419\"]],\"sequential\":[[0.0,\"#0d0887\"],[0.1111111111111111,\"#46039f\"],[0.2222222222222222,\"#7201a8\"],[0.3333333333333333,\"#9c179e\"],[0.4444444444444444,\"#bd3786\"],[0.5555555555555556,\"#d8576b\"],[0.6666666666666666,\"#ed7953\"],[0.7777777777777778,\"#fb9f3a\"],[0.8888888888888888,\"#fdca26\"],[1.0,\"#f0f921\"]],\"sequentialminus\":[[0.0,\"#0d0887\"],[0.1111111111111111,\"#46039f\"],[0.2222222222222222,\"#7201a8\"],[0.3333333333333333,\"#9c179e\"],[0.4444444444444444,\"#bd3786\"],[0.5555555555555556,\"#d8576b\"],[0.6666666666666666,\"#ed7953\"],[0.7777777777777778,\"#fb9f3a\"],[0.8888888888888888,\"#fdca26\"],[1.0,\"#f0f921\"]]},\"colorway\":[\"#636efa\",\"#EF553B\",\"#00cc96\",\"#ab63fa\",\"#FFA15A\",\"#19d3f3\",\"#FF6692\",\"#B6E880\",\"#FF97FF\",\"#FECB52\"],\"font\":{\"color\":\"#2a3f5f\"},\"geo\":{\"bgcolor\":\"white\",\"lakecolor\":\"white\",\"landcolor\":\"white\",\"showlakes\":true,\"showland\":true,\"subunitcolor\":\"#C8D4E3\"},\"hoverlabel\":{\"align\":\"left\"},\"hovermode\":\"closest\",\"mapbox\":{\"style\":\"light\"},\"paper_bgcolor\":\"white\",\"plot_bgcolor\":\"white\",\"polar\":{\"angularaxis\":{\"gridcolor\":\"#EBF0F8\",\"linecolor\":\"#EBF0F8\",\"ticks\":\"\"},\"bgcolor\":\"white\",\"radialaxis\":{\"gridcolor\":\"#EBF0F8\",\"linecolor\":\"#EBF0F8\",\"ticks\":\"\"}},\"scene\":{\"xaxis\":{\"backgroundcolor\":\"white\",\"gridcolor\":\"#DFE8F3\",\"gridwidth\":2,\"linecolor\":\"#EBF0F8\",\"showbackground\":true,\"ticks\":\"\",\"zerolinecolor\":\"#EBF0F8\"},\"yaxis\":{\"backgroundcolor\":\"white\",\"gridcolor\":\"#DFE8F3\",\"gridwidth\":2,\"linecolor\":\"#EBF0F8\",\"showbackground\":true,\"ticks\":\"\",\"zerolinecolor\":\"#EBF0F8\"},\"zaxis\":{\"backgroundcolor\":\"white\",\"gridcolor\":\"#DFE8F3\",\"gridwidth\":2,\"linecolor\":\"#EBF0F8\",\"showbackground\":true,\"ticks\":\"\",\"zerolinecolor\":\"#EBF0F8\"}},\"shapedefaults\":{\"line\":{\"color\":\"#2a3f5f\"}},\"ternary\":{\"aaxis\":{\"gridcolor\":\"#DFE8F3\",\"linecolor\":\"#A2B1C6\",\"ticks\":\"\"},\"baxis\":{\"gridcolor\":\"#DFE8F3\",\"linecolor\":\"#A2B1C6\",\"ticks\":\"\"},\"bgcolor\":\"white\",\"caxis\":{\"gridcolor\":\"#DFE8F3\",\"linecolor\":\"#A2B1C6\",\"ticks\":\"\"}},\"title\":{\"x\":0.05},\"xaxis\":{\"automargin\":true,\"gridcolor\":\"#EBF0F8\",\"linecolor\":\"#EBF0F8\",\"ticks\":\"\",\"title\":{\"standoff\":15},\"zerolinecolor\":\"#EBF0F8\",\"zerolinewidth\":2},\"yaxis\":{\"automargin\":true,\"gridcolor\":\"#EBF0F8\",\"linecolor\":\"#EBF0F8\",\"ticks\":\"\",\"title\":{\"standoff\":15},\"zerolinecolor\":\"#EBF0F8\",\"zerolinewidth\":2}}},\"xaxis\":{\"anchor\":\"y\",\"domain\":[0.0,1.0],\"title\":{\"text\":\"Personal Allowance\"},\"tickprefix\":\"\\\\u00a3\",\"tickformat\":\",.0f\",\"range\":[0,12570]},\"yaxis\":{\"anchor\":\"x\",\"domain\":[0.0,1.0],\"title\":{\"text\":\"Basic rate\"},\"tickformat\":\".0%\",\"range\":[0,0.7]},\"legend\":{\"title\":{\"text\":\"Higher/add. rate increase ratio\"},\"tracegroupgap\":0,\"orientation\":\"h\",\"yanchor\":\"top\",\"y\":1.1},\"margin\":{\"t\":60},\"font\":{\"family\":\"Roboto Serif\",\"color\":\"black\"},\"images\":[{\"sizex\":0.2,\"sizey\":0.2,\"source\":\"https://raw.githubusercontent.com/PolicyEngine/policyengine-app/master/src/images/logos/policyengine/blue.png\",\"x\":1,\"xanchor\":\"right\",\"xref\":\"paper\",\"y\":-0.15,\"yanchor\":\"bottom\",\"yref\":\"paper\"}],\"height\":600,\"width\":800,\"modebar\":{\"bgcolor\":\"rgba(0,0,0,0)\",\"color\":\"rgba(0,0,0,0)\"},\"title\":{\"text\":\"Figure 2: Feasible UBI policies for Northern Ireland\"}}}'"
      ]
     },
     "execution_count": 3,
     "metadata": {},
     "output_type": "execute_result"
    }
   ],
   "source": [
    "from policyengine_core.charts import *\n",
    "from ubicenter.plotly import BLUE_COLOR_SEQUENCE\n",
    "\n",
    "df = df[df[\"Feasible MTR\"] == \"Yes\"]\n",
    "fig = px.line(\n",
    "    df,\n",
    "    x=\"Personal Allowance\", \n",
    "    y=\"Basic rate\", \n",
    "    color=\"UBI/Increase ratio combination\",  \n",
    "    custom_data=[df.Label],\n",
    "    color_discrete_sequence=BLUE_COLOR_SEQUENCE[:3],\n",
    ")\n",
    "fig.update_layout(\n",
    "    yaxis_tickformat=\".0%\",\n",
    "    yaxis_title=\"Basic rate\",\n",
    "    xaxis_tickprefix=\"£\",\n",
    "    xaxis_tickformat=\",.0f\",\n",
    "    xaxis_range=(0, 12_570),\n",
    "    yaxis_range=(0, 0.7),\n",
    "    legend_title=\"Higher/add. rate increase ratio\",\n",
    ")\n",
    "\n",
    "CUSTOM_HOVERTEMPLATE=\"%{customdata[0]}\"\n",
    "fig.update_traces(hovertemplate=CUSTOM_HOVERTEMPLATE)\n",
    "\n",
    "for i, data in enumerate(fig.data):\n",
    "    data.hovertemplate = CUSTOM_HOVERTEMPLATE\n",
    "    if i % 4 == 0:\n",
    "        data[\"showlegend\"] = True\n",
    "    else:\n",
    "        data[\"showlegend\"] = False\n",
    "\n",
    "fig.add_trace(go.Scatter(\n",
    "    y=np.linspace(0.15, 0.25, 3),\n",
    "    x=[1_000] * 3,\n",
    "    mode=\"text\",\n",
    "    name=\"Label\",\n",
    "    text=[\"£200/mo\", \"£300/mo\", \"£400/mo\"],\n",
    "    textposition=\"bottom center\",\n",
    "    showlegend=False,\n",
    "))\n",
    "\n",
    "fig_json = format_fig(fig).update_layout(\n",
    "    title=\"Figure 2: Feasible UBI policies for Northern Ireland\",\n",
    "    legend=dict(\n",
    "        orientation=\"h\",\n",
    "        yanchor=\"top\",\n",
    "        y=1.1,\n",
    "    )\n",
    ").to_json()\n",
    "fig_json"
   ]
  },
  {
   "cell_type": "markdown",
   "metadata": {
    "tags": [
     "highlighted-right"
    ]
   },
   "source": [
    "Figure 2 represents this exploratory exercise: each point in these lines is a feasible policy. For example, the topmost line shows the set of all policies that provide £400 per month to adults (£100 to children), and in which the higher and additional rates do not rise with the basic rate. It varies by the basic rate and personal allowance. The leftmost point in this line is a policy that abolishes the Personal Allowance (reduces it by the full £12,570), increases the basic rate by 4p, and doesn't increase the higher and additional rates.\n",
    "\n",
    "These lines are incomplete because they do not show policies that would increase marginal tax rates (MTRs) above 100%. For example, the lowest line in the £400 per month group ends at the policy that would raise the basic rate by 11p and reduce the personal allowance to £6,000. Extending that line (raising the Personal Allowance) would require increasing the basic rate. However, doing so would increase the MTR above 100% for people earning £100,000, as their personal allowance phases out.[^7] To avoid exceeding 100% MTRs, more generous UBI policies require broader-base tax reforms focused on the personal allowance and basic rate.\n",
    "\n",
    "In the next section, we provide a deeper dive into three policies—one for each UBI level.\n",
    "\n",
    "[^7]: Specifically, the MTR increases by (higher rate x 1.5)% on the income between £100,000 and (£100,000 + personal allowance x 2). In the baseline, the higher rate is 40% and the personal allowance is £12,570, creating a 60% MTR on income between £100,000 and £125,140.\n"
   ]
  },
  {
   "cell_type": "markdown",
   "metadata": {},
   "source": [
    "# Policy deep dive\n",
    "\n",
    "We selected three of the 126 feasible policies to describe in more detail. These show the space of policies—not only in terms of UBI amount, but also the funding mechanisms. These three policies are shown in Table 1, the first column of which directs to the reform in PolicyEngine.\n",
    "\n",
    "- _Model 1_ provides £200 per adult per month, and funds it by reducing the personal allowance to £2,000 and increasing the basic rate by 1.8p and the higher and additional rates by 3.6p.\n",
    "- _Model 2_ provides £300 per adult per month, funded by abolishing the personal allowance and increasing all three tax rates by 5.2p.\n",
    "- _Model 3_ provides £400 per adult per month, again abolishing the personal allowance but increasing only the basic rate of income tax, by 11.5p.\n",
    "\n",
    "Each of the reforms substantially lowers or eliminates the personal allowance, and increases the basic rate; the cost of the policies requires broad-based tax reform. Each of the reforms also cuts poverty by at least 36% and inequality by at least 9%, with the more generous programs producing stronger effects. A large majority of the population comes out ahead from each, as well.\n",
    "\n",
    "Table 1: Three policies to fund a UBI in Northern Ireland\n"
   ]
  },
  {
   "cell_type": "code",
   "execution_count": 4,
   "metadata": {},
   "outputs": [
    {
     "data": {
      "text/markdown": [
       "|                                 | Model 1                                                                                                                                        | Model 2                                                                                                                                        | Model 3                                                                                                                                        |\n",
       "|:--------------------------------|:-----------------------------------------------------------------------------------------------------------------------------------------------|:-----------------------------------------------------------------------------------------------------------------------------------------------|:-----------------------------------------------------------------------------------------------------------------------------------------------|\n",
       "| Monthly UBI amount for adults   | £200                                                                                                                                           | £300                                                                                                                                           | £400                                                                                                                                           |\n",
       "| Monthly UBI amount for children | £0                                                                                                                                             | £0                                                                                                                                             | £0                                                                                                                                             |\n",
       "| Personal Allowance              | £2,000                                                                                                                                         | £0                                                                                                                                             | £0                                                                                                                                             |\n",
       "| Basic rate increase             | 1.8p                                                                                                                                           | 5.2p                                                                                                                                           | 11.5p                                                                                                                                          |\n",
       "| Higher rate increase            | 3.6p                                                                                                                                           | 5.2p                                                                                                                                           | 0.0p                                                                                                                                           |\n",
       "| Additional rate increase        | 3.6p                                                                                                                                           | 5.2p                                                                                                                                           | 0.0p                                                                                                                                           |\n",
       "| Net cost                        | £0.8bn                                                                                                                                         | £1.3bn                                                                                                                                         | £1.7bn                                                                                                                                         |\n",
       "| Revenue raised                  | £2.8bn                                                                                                                                         | £4.3bn                                                                                                                                         | £5.7bn                                                                                                                                         |\n",
       "| Basic income spending           | £3.4bn                                                                                                                                         | £5.1bn                                                                                                                                         | £6.8bn                                                                                                                                         |\n",
       "| Benefit outlay increase         | £262m                                                                                                                                          | £430m                                                                                                                                          | £610m                                                                                                                                          |\n",
       "| Poverty impact                  | -36.1%                                                                                                                                         | -44.6%                                                                                                                                         | -58.9%                                                                                                                                         |\n",
       "| Inequality impact               | -9.1%                                                                                                                                          | -14.0%                                                                                                                                         | -17.7%                                                                                                                                         |\n",
       "| Percent of population gaining   | 66%                                                                                                                                            | 70%                                                                                                                                            | 70%                                                                                                                                            |\n",
       "| Westminster contribution        | 24.8%                                                                                                                                          | 24.7%                                                                                                                                          | 24.8%                                                                                                                                          |\n",
       "| PolicyEngine link               | <a href=\"http://localhost:3000/uk/policy?reform=33122&focus=policyOutput.decileRelativeImpact&region=ni&timePeriod=2023&baseline=1\">#33122</a> | <a href=\"http://localhost:3000/uk/policy?reform=33123&focus=policyOutput.decileRelativeImpact&region=ni&timePeriod=2023&baseline=1\">#33123</a> | <a href=\"http://localhost:3000/uk/policy?reform=33124&focus=policyOutput.decileRelativeImpact&region=ni&timePeriod=2023&baseline=1\">#33124</a> |"
      ],
      "text/plain": [
       "<IPython.core.display.Markdown object>"
      ]
     },
     "execution_count": 4,
     "metadata": {},
     "output_type": "execute_result"
    }
   ],
   "source": [
    "model_1_policy = row_to_policy(model_1_row)\n",
    "model_2_policy = row_to_policy(model_2_row)\n",
    "model_3_policy = row_to_policy(model_3_row)\n",
    "\n",
    "model_1_reform = ubi_ni_reform(**model_1_policy)\n",
    "model_2_reform = ubi_ni_reform(**model_2_policy)\n",
    "model_3_reform = ubi_ni_reform(**model_3_policy)\n",
    "\n",
    "baseline = Microsimulation()\n",
    "model_1_sim = Microsimulation(reform=model_1_reform)\n",
    "model_2_sim = Microsimulation(reform=model_2_reform)\n",
    "model_3_sim = Microsimulation(reform=model_3_reform)\n",
    "\n",
    "for simulation in [baseline, model_1_sim, model_2_sim, model_3_sim]:\n",
    "    filter_to_ni(simulation)\n",
    "\n",
    "def create_summary_table(model_1_row, model_2_row, model_3_row):\n",
    "    model_1_policy = row_to_policy(model_1_row)\n",
    "    model_2_policy = row_to_policy(model_2_row)\n",
    "    model_3_policy = row_to_policy(model_3_row)\n",
    "\n",
    "    model_1_reform = ubi_ni_reform(**model_1_policy)\n",
    "    model_2_reform = ubi_ni_reform(**model_2_policy)\n",
    "    model_3_reform = ubi_ni_reform(**model_3_policy)\n",
    "\n",
    "    baseline = Microsimulation()\n",
    "    model_1_sim = Microsimulation(reform=model_1_reform)\n",
    "    model_2_sim = Microsimulation(reform=model_2_reform)\n",
    "    model_3_sim = Microsimulation(reform=model_3_reform)\n",
    "\n",
    "    for simulation in [baseline, model_1_sim, model_2_sim, model_3_sim]:\n",
    "        filter_to_ni(simulation)\n",
    "\n",
    "    summary_table = pd.DataFrame()\n",
    "    summary_table[\"Monthly UBI amount for adults\"] = [model_1_row[\"Adult UBI\"] / 12, model_2_row[\"Adult UBI\"] / 12, model_3_row[\"Adult UBI\"] / 12]\n",
    "    summary_table[\"Monthly UBI amount for children\"] = [0, 0, 0]\n",
    "    summary_table[\"Personal Allowance\"] = [model_1_row[\"Personal Allowance\"], model_2_row[\"Personal Allowance\"], model_3_row[\"Personal Allowance\"]]\n",
    "    summary_table[\"Basic rate increase\"] = [model_1_row[\"Basic rate addition\"], model_2_row[\"Basic rate addition\"], model_3_row[\"Basic rate addition\"]]\n",
    "    summary_table[\"Higher rate increase\"] = [model_1_row[\"Higher rate addition\"], model_2_row[\"Higher rate addition\"], model_3_row[\"Higher rate addition\"]]\n",
    "    summary_table[\"Additional rate increase\"] = [model_1_row[\"Additional rate addition\"], model_2_row[\"Additional rate addition\"], model_3_row[\"Additional rate addition\"]]\n",
    "    summary_table[\"Net cost\"] = [\n",
    "        sim.calculate(\"household_net_income\").sum() - baseline.calculate(\"household_net_income\").sum()\n",
    "        for sim in [model_1_sim, model_2_sim, model_3_sim]\n",
    "    ]\n",
    "    summary_table[\"Revenue raised\"] = [\n",
    "        sim.calculate(\"income_tax\").sum() - baseline.calculate(\"income_tax\").sum()\n",
    "        for sim in [model_1_sim, model_2_sim, model_3_sim]\n",
    "    ]\n",
    "    summary_table[\"Basic income spending\"] = [\n",
    "        sim.calculate(\"basic_income\").sum()\n",
    "        for sim in [model_1_sim, model_2_sim, model_3_sim]\n",
    "    ]\n",
    "    summary_table[\"Benefit outlay increase\"] = [\n",
    "        sim.calculate(\"household_benefits\").sum() - baseline.calculate(\"household_benefits\").sum()\n",
    "        for sim in [model_1_sim, model_2_sim, model_3_sim]\n",
    "    ]\n",
    "    summary_table[\"Benefit outlay increase\"] = summary_table[\"Benefit outlay increase\"] - summary_table[\"Basic income spending\"]\n",
    "    summary_table[\"Poverty impact\"] = [\n",
    "        sim.calculate(\"in_poverty\", map_to=\"person\").sum() / baseline.calculate(\"in_poverty\", map_to=\"person\").sum() - 1\n",
    "        for sim in [model_1_sim, model_2_sim, model_3_sim]\n",
    "    ]\n",
    "    summary_table[\"Inequality impact\"] = [\n",
    "        sim.calculate(\"equiv_household_net_income\", map_to=\"person\").gini() / baseline.calculate(\"equiv_household_net_income\", map_to=\"person\").gini() - 1\n",
    "        for sim in [model_1_sim, model_2_sim, model_3_sim]\n",
    "    ]\n",
    "    summary_table[\"Percent of population gaining\"] = [\n",
    "        (sim.calculate(\"household_net_income\", map_to=\"person\") > baseline.calculate(\"household_net_income\", map_to=\"person\")).mean()\n",
    "        for sim in [model_1_sim, model_2_sim, model_3_sim]\n",
    "    ]\n",
    "\n",
    "    summary_table\n",
    "\n",
    "    # Formatting\n",
    "\n",
    "    summary_table[\"Monthly UBI amount for adults\"] = summary_table[\"Monthly UBI amount for adults\"].map(lambda x: f\"£{x:,.0f}\")\n",
    "    summary_table[\"Monthly UBI amount for children\"] = summary_table[\"Monthly UBI amount for children\"].map(lambda x: f\"£{x:,.0f}\")\n",
    "    summary_table[\"Personal Allowance\"] = summary_table[\"Personal Allowance\"].map(lambda x: f\"£{x:,.0f}\")\n",
    "    summary_table[\"Basic rate increase\"] = summary_table[\"Basic rate increase\"].map(lambda x: f\"{x * 100:.1f}p\")\n",
    "    summary_table[\"Higher rate increase\"] = summary_table[\"Higher rate increase\"].map(lambda x: f\"{x * 100:.1f}p\")\n",
    "    summary_table[\"Additional rate increase\"] = summary_table[\"Additional rate increase\"].map(lambda x: f\"{x * 100:.1f}p\")\n",
    "    summary_table[\"Westminster contribution\"] = summary_table[\"Net cost\"] / summary_table[\"Basic income spending\"]\n",
    "    summary_table[\"Westminster contribution\"] = summary_table[\"Westminster contribution\"].map(lambda x: f\"{x:.1%}\")\n",
    "    summary_table[\"Net cost\"] = summary_table[\"Net cost\"].map(lambda x: f\"£{x/1e9:,.1f}bn\")\n",
    "    summary_table[\"Revenue raised\"] = summary_table[\"Revenue raised\"].map(lambda x: f\"£{x/1e9:,.1f}bn\")\n",
    "    summary_table[\"Benefit outlay increase\"] = summary_table[\"Benefit outlay increase\"].map(lambda x: f\"£{x/1e6:,.0f}m\")\n",
    "    summary_table[\"Basic income spending\"] = summary_table[\"Basic income spending\"].map(lambda x: f\"£{x/1e9:,.1f}bn\")\n",
    "    summary_table[\"Poverty impact\"] = summary_table[\"Poverty impact\"].map(lambda x: f\"{x * 100:+.1f}%\")\n",
    "    summary_table[\"Inequality impact\"] = summary_table[\"Inequality impact\"].map(lambda x: f\"{x * 100:+.1f}%\")\n",
    "    summary_table[\"Percent of population gaining\"] = summary_table[\"Percent of population gaining\"].map(lambda x: f\"{x * 100:.0f}%\")\n",
    "\n",
    "    policy_ids = [\n",
    "        reform.api_id\n",
    "        for reform in [model_1_reform, model_2_reform, model_3_reform]\n",
    "    ]\n",
    "    summary_table[\"PolicyEngine link\"] = [\n",
    "        f\"<a href=\\\"http://localhost:3000/uk/policy?reform={policy_id}&focus=policyOutput.decileRelativeImpact&region=ni&timePeriod=2023&baseline=1\\\">#{policy_id}</a>\" for policy_id in policy_ids\n",
    "    ]\n",
    "    summary_table.index = [\"Model 1\", \"Model 2\", \"Model 3\"]\n",
    "\n",
    "    return summary_table\n",
    "\n",
    "summary_table = create_summary_table(model_1_row, model_2_row, model_3_row)\n",
    "\n",
    "from IPython.display import Markdown\n",
    "\n",
    "Markdown(summary_table.T.to_markdown())"
   ]
  },
  {
   "cell_type": "markdown",
   "metadata": {},
   "source": [
    "Digging into the poverty impacts reveals similarly sized impacts on child poverty, with the most generous plan halving it.[^8] [Many studies find](child-allowance.ubicenter.org/empirical) that child poverty causes deleterious developmental and lifelong outcomes.\n",
    "\n",
    "[^8]: The impacts on deep poverty (the population share with net income below half the poverty threshold) are similar, though we do not include them here as the Family Resources Survey has too few records near the deep poverty line to produce reliable results.\n"
   ]
  },
  {
   "cell_type": "code",
   "execution_count": 5,
   "metadata": {
    "tags": [
     "hide-input"
    ]
   },
   "outputs": [
    {
     "data": {
      "text/plain": [
       "'{\"data\":[{\"alignmentgroup\":\"True\",\"hovertemplate\":\"Policy=\\\\u00a3200/month<br>Age group=%{x}<br>Poverty rate change=%{y}<extra></extra>\",\"legendgroup\":\"\\\\u00a3200/month\",\"marker\":{\"color\":\"#D8E6F3\",\"pattern\":{\"shape\":\"\"}},\"name\":\"\\\\u00a3200/month\",\"offsetgroup\":\"\\\\u00a3200/month\",\"orientation\":\"v\",\"showlegend\":true,\"textposition\":\"auto\",\"x\":[\"Child\",\"Working-age\",\"Senior\",\"All\"],\"xaxis\":\"x\",\"y\":[-0.42158618075727095,-0.3954318890472105,-0.21684426933727885,-0.36143127277964393],\"yaxis\":\"y\",\"type\":\"bar\",\"text\":[\"-42.2%\",\"-39.5%\",\"-21.7%\",\"-36.1%\"]},{\"alignmentgroup\":\"True\",\"hovertemplate\":\"Policy=\\\\u00a3300/month<br>Age group=%{x}<br>Poverty rate change=%{y}<extra></extra>\",\"legendgroup\":\"\\\\u00a3300/month\",\"marker\":{\"color\":\"#2C6496\",\"pattern\":{\"shape\":\"\"}},\"name\":\"\\\\u00a3300/month\",\"offsetgroup\":\"\\\\u00a3300/month\",\"orientation\":\"v\",\"showlegend\":true,\"textposition\":\"auto\",\"x\":[\"Child\",\"Working-age\",\"Senior\",\"All\"],\"xaxis\":\"x\",\"y\":[-0.4913514791298538,-0.4976287845663643,-0.27712027620435464,-0.4459119282835504],\"yaxis\":\"y\",\"type\":\"bar\",\"text\":[\"-49.1%\",\"-49.8%\",\"-27.7%\",\"-44.6%\"]},{\"alignmentgroup\":\"True\",\"hovertemplate\":\"Policy=\\\\u00a3400/month<br>Age group=%{x}<br>Poverty rate change=%{y}<extra></extra>\",\"legendgroup\":\"\\\\u00a3400/month\",\"marker\":{\"color\":\"#17354F\",\"pattern\":{\"shape\":\"\"}},\"name\":\"\\\\u00a3400/month\",\"offsetgroup\":\"\\\\u00a3400/month\",\"orientation\":\"v\",\"showlegend\":true,\"textposition\":\"auto\",\"x\":[\"Child\",\"Working-age\",\"Senior\",\"All\"],\"xaxis\":\"x\",\"y\":[-0.5182041911349483,-0.6023604594197787,-0.6367956115461852,-0.5889487213671245],\"yaxis\":\"y\",\"type\":\"bar\",\"text\":[\"-51.8%\",\"-60.2%\",\"-63.7%\",\"-58.9%\"]}],\"layout\":{\"template\":{\"data\":{\"barpolar\":[{\"marker\":{\"line\":{\"color\":\"white\",\"width\":0.5},\"pattern\":{\"fillmode\":\"overlay\",\"size\":10,\"solidity\":0.2}},\"type\":\"barpolar\"}],\"bar\":[{\"error_x\":{\"color\":\"#2a3f5f\"},\"error_y\":{\"color\":\"#2a3f5f\"},\"marker\":{\"line\":{\"color\":\"white\",\"width\":0.5},\"pattern\":{\"fillmode\":\"overlay\",\"size\":10,\"solidity\":0.2}},\"type\":\"bar\"}],\"carpet\":[{\"aaxis\":{\"endlinecolor\":\"#2a3f5f\",\"gridcolor\":\"#C8D4E3\",\"linecolor\":\"#C8D4E3\",\"minorgridcolor\":\"#C8D4E3\",\"startlinecolor\":\"#2a3f5f\"},\"baxis\":{\"endlinecolor\":\"#2a3f5f\",\"gridcolor\":\"#C8D4E3\",\"linecolor\":\"#C8D4E3\",\"minorgridcolor\":\"#C8D4E3\",\"startlinecolor\":\"#2a3f5f\"},\"type\":\"carpet\"}],\"choropleth\":[{\"colorbar\":{\"outlinewidth\":0,\"ticks\":\"\"},\"type\":\"choropleth\"}],\"contourcarpet\":[{\"colorbar\":{\"outlinewidth\":0,\"ticks\":\"\"},\"type\":\"contourcarpet\"}],\"contour\":[{\"colorbar\":{\"outlinewidth\":0,\"ticks\":\"\"},\"colorscale\":[[0.0,\"#0d0887\"],[0.1111111111111111,\"#46039f\"],[0.2222222222222222,\"#7201a8\"],[0.3333333333333333,\"#9c179e\"],[0.4444444444444444,\"#bd3786\"],[0.5555555555555556,\"#d8576b\"],[0.6666666666666666,\"#ed7953\"],[0.7777777777777778,\"#fb9f3a\"],[0.8888888888888888,\"#fdca26\"],[1.0,\"#f0f921\"]],\"type\":\"contour\"}],\"heatmapgl\":[{\"colorbar\":{\"outlinewidth\":0,\"ticks\":\"\"},\"colorscale\":[[0.0,\"#0d0887\"],[0.1111111111111111,\"#46039f\"],[0.2222222222222222,\"#7201a8\"],[0.3333333333333333,\"#9c179e\"],[0.4444444444444444,\"#bd3786\"],[0.5555555555555556,\"#d8576b\"],[0.6666666666666666,\"#ed7953\"],[0.7777777777777778,\"#fb9f3a\"],[0.8888888888888888,\"#fdca26\"],[1.0,\"#f0f921\"]],\"type\":\"heatmapgl\"}],\"heatmap\":[{\"colorbar\":{\"outlinewidth\":0,\"ticks\":\"\"},\"colorscale\":[[0.0,\"#0d0887\"],[0.1111111111111111,\"#46039f\"],[0.2222222222222222,\"#7201a8\"],[0.3333333333333333,\"#9c179e\"],[0.4444444444444444,\"#bd3786\"],[0.5555555555555556,\"#d8576b\"],[0.6666666666666666,\"#ed7953\"],[0.7777777777777778,\"#fb9f3a\"],[0.8888888888888888,\"#fdca26\"],[1.0,\"#f0f921\"]],\"type\":\"heatmap\"}],\"histogram2dcontour\":[{\"colorbar\":{\"outlinewidth\":0,\"ticks\":\"\"},\"colorscale\":[[0.0,\"#0d0887\"],[0.1111111111111111,\"#46039f\"],[0.2222222222222222,\"#7201a8\"],[0.3333333333333333,\"#9c179e\"],[0.4444444444444444,\"#bd3786\"],[0.5555555555555556,\"#d8576b\"],[0.6666666666666666,\"#ed7953\"],[0.7777777777777778,\"#fb9f3a\"],[0.8888888888888888,\"#fdca26\"],[1.0,\"#f0f921\"]],\"type\":\"histogram2dcontour\"}],\"histogram2d\":[{\"colorbar\":{\"outlinewidth\":0,\"ticks\":\"\"},\"colorscale\":[[0.0,\"#0d0887\"],[0.1111111111111111,\"#46039f\"],[0.2222222222222222,\"#7201a8\"],[0.3333333333333333,\"#9c179e\"],[0.4444444444444444,\"#bd3786\"],[0.5555555555555556,\"#d8576b\"],[0.6666666666666666,\"#ed7953\"],[0.7777777777777778,\"#fb9f3a\"],[0.8888888888888888,\"#fdca26\"],[1.0,\"#f0f921\"]],\"type\":\"histogram2d\"}],\"histogram\":[{\"marker\":{\"pattern\":{\"fillmode\":\"overlay\",\"size\":10,\"solidity\":0.2}},\"type\":\"histogram\"}],\"mesh3d\":[{\"colorbar\":{\"outlinewidth\":0,\"ticks\":\"\"},\"type\":\"mesh3d\"}],\"parcoords\":[{\"line\":{\"colorbar\":{\"outlinewidth\":0,\"ticks\":\"\"}},\"type\":\"parcoords\"}],\"pie\":[{\"automargin\":true,\"type\":\"pie\"}],\"scatter3d\":[{\"line\":{\"colorbar\":{\"outlinewidth\":0,\"ticks\":\"\"}},\"marker\":{\"colorbar\":{\"outlinewidth\":0,\"ticks\":\"\"}},\"type\":\"scatter3d\"}],\"scattercarpet\":[{\"marker\":{\"colorbar\":{\"outlinewidth\":0,\"ticks\":\"\"}},\"type\":\"scattercarpet\"}],\"scattergeo\":[{\"marker\":{\"colorbar\":{\"outlinewidth\":0,\"ticks\":\"\"}},\"type\":\"scattergeo\"}],\"scattergl\":[{\"marker\":{\"colorbar\":{\"outlinewidth\":0,\"ticks\":\"\"}},\"type\":\"scattergl\"}],\"scattermapbox\":[{\"marker\":{\"colorbar\":{\"outlinewidth\":0,\"ticks\":\"\"}},\"type\":\"scattermapbox\"}],\"scatterpolargl\":[{\"marker\":{\"colorbar\":{\"outlinewidth\":0,\"ticks\":\"\"}},\"type\":\"scatterpolargl\"}],\"scatterpolar\":[{\"marker\":{\"colorbar\":{\"outlinewidth\":0,\"ticks\":\"\"}},\"type\":\"scatterpolar\"}],\"scatter\":[{\"fillpattern\":{\"fillmode\":\"overlay\",\"size\":10,\"solidity\":0.2},\"type\":\"scatter\"}],\"scatterternary\":[{\"marker\":{\"colorbar\":{\"outlinewidth\":0,\"ticks\":\"\"}},\"type\":\"scatterternary\"}],\"surface\":[{\"colorbar\":{\"outlinewidth\":0,\"ticks\":\"\"},\"colorscale\":[[0.0,\"#0d0887\"],[0.1111111111111111,\"#46039f\"],[0.2222222222222222,\"#7201a8\"],[0.3333333333333333,\"#9c179e\"],[0.4444444444444444,\"#bd3786\"],[0.5555555555555556,\"#d8576b\"],[0.6666666666666666,\"#ed7953\"],[0.7777777777777778,\"#fb9f3a\"],[0.8888888888888888,\"#fdca26\"],[1.0,\"#f0f921\"]],\"type\":\"surface\"}],\"table\":[{\"cells\":{\"fill\":{\"color\":\"#EBF0F8\"},\"line\":{\"color\":\"white\"}},\"header\":{\"fill\":{\"color\":\"#C8D4E3\"},\"line\":{\"color\":\"white\"}},\"type\":\"table\"}]},\"layout\":{\"annotationdefaults\":{\"arrowcolor\":\"#2a3f5f\",\"arrowhead\":0,\"arrowwidth\":1},\"autotypenumbers\":\"strict\",\"coloraxis\":{\"colorbar\":{\"outlinewidth\":0,\"ticks\":\"\"}},\"colorscale\":{\"diverging\":[[0,\"#8e0152\"],[0.1,\"#c51b7d\"],[0.2,\"#de77ae\"],[0.3,\"#f1b6da\"],[0.4,\"#fde0ef\"],[0.5,\"#f7f7f7\"],[0.6,\"#e6f5d0\"],[0.7,\"#b8e186\"],[0.8,\"#7fbc41\"],[0.9,\"#4d9221\"],[1,\"#276419\"]],\"sequential\":[[0.0,\"#0d0887\"],[0.1111111111111111,\"#46039f\"],[0.2222222222222222,\"#7201a8\"],[0.3333333333333333,\"#9c179e\"],[0.4444444444444444,\"#bd3786\"],[0.5555555555555556,\"#d8576b\"],[0.6666666666666666,\"#ed7953\"],[0.7777777777777778,\"#fb9f3a\"],[0.8888888888888888,\"#fdca26\"],[1.0,\"#f0f921\"]],\"sequentialminus\":[[0.0,\"#0d0887\"],[0.1111111111111111,\"#46039f\"],[0.2222222222222222,\"#7201a8\"],[0.3333333333333333,\"#9c179e\"],[0.4444444444444444,\"#bd3786\"],[0.5555555555555556,\"#d8576b\"],[0.6666666666666666,\"#ed7953\"],[0.7777777777777778,\"#fb9f3a\"],[0.8888888888888888,\"#fdca26\"],[1.0,\"#f0f921\"]]},\"colorway\":[\"#636efa\",\"#EF553B\",\"#00cc96\",\"#ab63fa\",\"#FFA15A\",\"#19d3f3\",\"#FF6692\",\"#B6E880\",\"#FF97FF\",\"#FECB52\"],\"font\":{\"color\":\"#2a3f5f\"},\"geo\":{\"bgcolor\":\"white\",\"lakecolor\":\"white\",\"landcolor\":\"white\",\"showlakes\":true,\"showland\":true,\"subunitcolor\":\"#C8D4E3\"},\"hoverlabel\":{\"align\":\"left\"},\"hovermode\":\"closest\",\"mapbox\":{\"style\":\"light\"},\"paper_bgcolor\":\"white\",\"plot_bgcolor\":\"white\",\"polar\":{\"angularaxis\":{\"gridcolor\":\"#EBF0F8\",\"linecolor\":\"#EBF0F8\",\"ticks\":\"\"},\"bgcolor\":\"white\",\"radialaxis\":{\"gridcolor\":\"#EBF0F8\",\"linecolor\":\"#EBF0F8\",\"ticks\":\"\"}},\"scene\":{\"xaxis\":{\"backgroundcolor\":\"white\",\"gridcolor\":\"#DFE8F3\",\"gridwidth\":2,\"linecolor\":\"#EBF0F8\",\"showbackground\":true,\"ticks\":\"\",\"zerolinecolor\":\"#EBF0F8\"},\"yaxis\":{\"backgroundcolor\":\"white\",\"gridcolor\":\"#DFE8F3\",\"gridwidth\":2,\"linecolor\":\"#EBF0F8\",\"showbackground\":true,\"ticks\":\"\",\"zerolinecolor\":\"#EBF0F8\"},\"zaxis\":{\"backgroundcolor\":\"white\",\"gridcolor\":\"#DFE8F3\",\"gridwidth\":2,\"linecolor\":\"#EBF0F8\",\"showbackground\":true,\"ticks\":\"\",\"zerolinecolor\":\"#EBF0F8\"}},\"shapedefaults\":{\"line\":{\"color\":\"#2a3f5f\"}},\"ternary\":{\"aaxis\":{\"gridcolor\":\"#DFE8F3\",\"linecolor\":\"#A2B1C6\",\"ticks\":\"\"},\"baxis\":{\"gridcolor\":\"#DFE8F3\",\"linecolor\":\"#A2B1C6\",\"ticks\":\"\"},\"bgcolor\":\"white\",\"caxis\":{\"gridcolor\":\"#DFE8F3\",\"linecolor\":\"#A2B1C6\",\"ticks\":\"\"}},\"title\":{\"x\":0.05},\"xaxis\":{\"automargin\":true,\"gridcolor\":\"#EBF0F8\",\"linecolor\":\"#EBF0F8\",\"ticks\":\"\",\"title\":{\"standoff\":15},\"zerolinecolor\":\"#EBF0F8\",\"zerolinewidth\":2},\"yaxis\":{\"automargin\":true,\"gridcolor\":\"#EBF0F8\",\"linecolor\":\"#EBF0F8\",\"ticks\":\"\",\"title\":{\"standoff\":15},\"zerolinecolor\":\"#EBF0F8\",\"zerolinewidth\":2}}},\"xaxis\":{\"anchor\":\"y\",\"domain\":[0.0,1.0],\"title\":{\"text\":\"Age group\"}},\"yaxis\":{\"anchor\":\"x\",\"domain\":[0.0,1.0],\"title\":{\"text\":\"Poverty rate change\"},\"tickformat\":\".0%\"},\"legend\":{\"title\":{\"text\":\"Policy\"},\"tracegroupgap\":0},\"margin\":{\"t\":60},\"barmode\":\"group\",\"title\":{\"text\":\"Figure 3: Poverty rate change by age group\"},\"font\":{\"family\":\"Roboto Serif\",\"color\":\"black\"},\"images\":[{\"sizex\":0.2,\"sizey\":0.2,\"source\":\"https://raw.githubusercontent.com/PolicyEngine/policyengine-app/master/src/images/logos/policyengine/blue.png\",\"x\":1,\"xanchor\":\"right\",\"xref\":\"paper\",\"y\":-0.15,\"yanchor\":\"bottom\",\"yref\":\"paper\"}],\"height\":600,\"width\":800,\"modebar\":{\"bgcolor\":\"rgba(0,0,0,0)\",\"color\":\"rgba(0,0,0,0)\"}}}'"
      ]
     },
     "execution_count": 5,
     "metadata": {},
     "output_type": "execute_result"
    }
   ],
   "source": [
    "import pandas as pd\n",
    "import plotly.express as px\n",
    "from policyengine_core.charts import BLUE_COLOUR_SCALE\n",
    "\n",
    "for simulation in [baseline, model_1_sim, model_2_sim, model_3_sim]:\n",
    "    filter_to_ni(simulation)\n",
    "\n",
    "dfs = []\n",
    "for sim, policy_name in zip([model_1_sim, model_2_sim, model_3_sim], [\"£200/month\", \"£300/month\", \"£400/month\"]):\n",
    "    for group, name in zip([\"is_child\", \"is_WA_adult\", \"is_SP_age\", \"people\"], [\"Child\", \"Working-age\", \"Senior\", \"All\"]):\n",
    "        df = pd.DataFrame({\n",
    "            \"Poverty rate change\": (\n",
    "                [sim.calc(\"in_poverty_bhc\", map_to=\"person\")[sim.calc(group) > 0].mean()\n",
    "                / baseline.calc(\"in_poverty_bhc\", map_to=\"person\")[sim.calc(group) > 0].mean() - 1]\n",
    "            ),\n",
    "            \"Deep poverty rate change\": (\n",
    "                [sim.calc(\"in_deep_poverty_bhc\", map_to=\"person\")[sim.calc(group) > 0].mean()\n",
    "                / baseline.calc(\"in_deep_poverty_bhc\", map_to=\"person\")[sim.calc(group) > 0].mean() - 1]\n",
    "            ),\n",
    "            \"Age group\": [name],\n",
    "            \"Policy\": [policy_name],\n",
    "        })\n",
    "        dfs += [df]\n",
    "poverty_df = pd.concat(dfs)\n",
    "fig = px.bar(\n",
    "    poverty_df,\n",
    "    x=\"Age group\",\n",
    "    y=\"Poverty rate change\",\n",
    "    color=\"Policy\",\n",
    "    barmode=\"group\",\n",
    "    color_discrete_sequence=BLUE_COLOUR_SCALE,\n",
    ").update_layout(\n",
    "    yaxis_tickformat=\".0%\",\n",
    "    title=\"Figure 3: Poverty rate change by age group\",\n",
    ")\n",
    "for i in range(len(fig.data)):\n",
    "    fig.data[i][\"text\"] = [f\"{x:+.1%}\" if x is not None else \"\" for x in fig.data[i][\"y\"]]\n",
    "format_fig(fig).to_json()"
   ]
  },
  {
   "cell_type": "markdown",
   "metadata": {},
   "source": [
    "Each policy reduces various measures of inequality, especially the Gini index, roughly in proportion to the UBI amount. They also cut narrower measures of inequality: depending on the policy, the share of disposable income held by the top 1 and 10 percent of the population falls by 3 to 8 percent.\n"
   ]
  },
  {
   "cell_type": "code",
   "execution_count": 6,
   "metadata": {
    "tags": [
     "hide-input"
    ]
   },
   "outputs": [
    {
     "data": {
      "text/plain": [
       "'{\"data\":[{\"alignmentgroup\":\"True\",\"hovertemplate\":\"Policy=\\\\u00a3200/month<br>Metric=%{x}<br>Inequality change=%{y}<extra></extra>\",\"legendgroup\":\"\\\\u00a3200/month\",\"marker\":{\"color\":\"#D8E6F3\",\"pattern\":{\"shape\":\"\"}},\"name\":\"\\\\u00a3200/month\",\"offsetgroup\":\"\\\\u00a3200/month\",\"orientation\":\"v\",\"showlegend\":true,\"textposition\":\"auto\",\"x\":[\"Gini coefficient\",\"Top-10% share\",\"Top-1% share\"],\"xaxis\":\"x\",\"y\":[-0.09134461006075878,-0.04240388640189585,-0.054174821493588876],\"yaxis\":\"y\",\"type\":\"bar\",\"text\":[\"-9.1%\",\"-4.2%\",\"-5.4%\"]},{\"alignmentgroup\":\"True\",\"hovertemplate\":\"Policy=\\\\u00a3300/month<br>Metric=%{x}<br>Inequality change=%{y}<extra></extra>\",\"legendgroup\":\"\\\\u00a3300/month\",\"marker\":{\"color\":\"#2C6496\",\"pattern\":{\"shape\":\"\"}},\"name\":\"\\\\u00a3300/month\",\"offsetgroup\":\"\\\\u00a3300/month\",\"orientation\":\"v\",\"showlegend\":true,\"textposition\":\"auto\",\"x\":[\"Gini coefficient\",\"Top-10% share\",\"Top-1% share\"],\"xaxis\":\"x\",\"y\":[-0.13966191187531518,-0.0711672263402029,-0.08593706687778391],\"yaxis\":\"y\",\"type\":\"bar\",\"text\":[\"-14.0%\",\"-7.1%\",\"-8.6%\"]},{\"alignmentgroup\":\"True\",\"hovertemplate\":\"Policy=\\\\u00a3400/month<br>Metric=%{x}<br>Inequality change=%{y}<extra></extra>\",\"legendgroup\":\"\\\\u00a3400/month\",\"marker\":{\"color\":\"#17354F\",\"pattern\":{\"shape\":\"\"}},\"name\":\"\\\\u00a3400/month\",\"offsetgroup\":\"\\\\u00a3400/month\",\"orientation\":\"v\",\"showlegend\":true,\"textposition\":\"auto\",\"x\":[\"Gini coefficient\",\"Top-10% share\",\"Top-1% share\"],\"xaxis\":\"x\",\"y\":[-0.176853084378913,-0.0794547446870928,-0.04816064130246056],\"yaxis\":\"y\",\"type\":\"bar\",\"text\":[\"-17.7%\",\"-7.9%\",\"-4.8%\"]}],\"layout\":{\"template\":{\"data\":{\"barpolar\":[{\"marker\":{\"line\":{\"color\":\"white\",\"width\":0.5},\"pattern\":{\"fillmode\":\"overlay\",\"size\":10,\"solidity\":0.2}},\"type\":\"barpolar\"}],\"bar\":[{\"error_x\":{\"color\":\"#2a3f5f\"},\"error_y\":{\"color\":\"#2a3f5f\"},\"marker\":{\"line\":{\"color\":\"white\",\"width\":0.5},\"pattern\":{\"fillmode\":\"overlay\",\"size\":10,\"solidity\":0.2}},\"type\":\"bar\"}],\"carpet\":[{\"aaxis\":{\"endlinecolor\":\"#2a3f5f\",\"gridcolor\":\"#C8D4E3\",\"linecolor\":\"#C8D4E3\",\"minorgridcolor\":\"#C8D4E3\",\"startlinecolor\":\"#2a3f5f\"},\"baxis\":{\"endlinecolor\":\"#2a3f5f\",\"gridcolor\":\"#C8D4E3\",\"linecolor\":\"#C8D4E3\",\"minorgridcolor\":\"#C8D4E3\",\"startlinecolor\":\"#2a3f5f\"},\"type\":\"carpet\"}],\"choropleth\":[{\"colorbar\":{\"outlinewidth\":0,\"ticks\":\"\"},\"type\":\"choropleth\"}],\"contourcarpet\":[{\"colorbar\":{\"outlinewidth\":0,\"ticks\":\"\"},\"type\":\"contourcarpet\"}],\"contour\":[{\"colorbar\":{\"outlinewidth\":0,\"ticks\":\"\"},\"colorscale\":[[0.0,\"#0d0887\"],[0.1111111111111111,\"#46039f\"],[0.2222222222222222,\"#7201a8\"],[0.3333333333333333,\"#9c179e\"],[0.4444444444444444,\"#bd3786\"],[0.5555555555555556,\"#d8576b\"],[0.6666666666666666,\"#ed7953\"],[0.7777777777777778,\"#fb9f3a\"],[0.8888888888888888,\"#fdca26\"],[1.0,\"#f0f921\"]],\"type\":\"contour\"}],\"heatmapgl\":[{\"colorbar\":{\"outlinewidth\":0,\"ticks\":\"\"},\"colorscale\":[[0.0,\"#0d0887\"],[0.1111111111111111,\"#46039f\"],[0.2222222222222222,\"#7201a8\"],[0.3333333333333333,\"#9c179e\"],[0.4444444444444444,\"#bd3786\"],[0.5555555555555556,\"#d8576b\"],[0.6666666666666666,\"#ed7953\"],[0.7777777777777778,\"#fb9f3a\"],[0.8888888888888888,\"#fdca26\"],[1.0,\"#f0f921\"]],\"type\":\"heatmapgl\"}],\"heatmap\":[{\"colorbar\":{\"outlinewidth\":0,\"ticks\":\"\"},\"colorscale\":[[0.0,\"#0d0887\"],[0.1111111111111111,\"#46039f\"],[0.2222222222222222,\"#7201a8\"],[0.3333333333333333,\"#9c179e\"],[0.4444444444444444,\"#bd3786\"],[0.5555555555555556,\"#d8576b\"],[0.6666666666666666,\"#ed7953\"],[0.7777777777777778,\"#fb9f3a\"],[0.8888888888888888,\"#fdca26\"],[1.0,\"#f0f921\"]],\"type\":\"heatmap\"}],\"histogram2dcontour\":[{\"colorbar\":{\"outlinewidth\":0,\"ticks\":\"\"},\"colorscale\":[[0.0,\"#0d0887\"],[0.1111111111111111,\"#46039f\"],[0.2222222222222222,\"#7201a8\"],[0.3333333333333333,\"#9c179e\"],[0.4444444444444444,\"#bd3786\"],[0.5555555555555556,\"#d8576b\"],[0.6666666666666666,\"#ed7953\"],[0.7777777777777778,\"#fb9f3a\"],[0.8888888888888888,\"#fdca26\"],[1.0,\"#f0f921\"]],\"type\":\"histogram2dcontour\"}],\"histogram2d\":[{\"colorbar\":{\"outlinewidth\":0,\"ticks\":\"\"},\"colorscale\":[[0.0,\"#0d0887\"],[0.1111111111111111,\"#46039f\"],[0.2222222222222222,\"#7201a8\"],[0.3333333333333333,\"#9c179e\"],[0.4444444444444444,\"#bd3786\"],[0.5555555555555556,\"#d8576b\"],[0.6666666666666666,\"#ed7953\"],[0.7777777777777778,\"#fb9f3a\"],[0.8888888888888888,\"#fdca26\"],[1.0,\"#f0f921\"]],\"type\":\"histogram2d\"}],\"histogram\":[{\"marker\":{\"pattern\":{\"fillmode\":\"overlay\",\"size\":10,\"solidity\":0.2}},\"type\":\"histogram\"}],\"mesh3d\":[{\"colorbar\":{\"outlinewidth\":0,\"ticks\":\"\"},\"type\":\"mesh3d\"}],\"parcoords\":[{\"line\":{\"colorbar\":{\"outlinewidth\":0,\"ticks\":\"\"}},\"type\":\"parcoords\"}],\"pie\":[{\"automargin\":true,\"type\":\"pie\"}],\"scatter3d\":[{\"line\":{\"colorbar\":{\"outlinewidth\":0,\"ticks\":\"\"}},\"marker\":{\"colorbar\":{\"outlinewidth\":0,\"ticks\":\"\"}},\"type\":\"scatter3d\"}],\"scattercarpet\":[{\"marker\":{\"colorbar\":{\"outlinewidth\":0,\"ticks\":\"\"}},\"type\":\"scattercarpet\"}],\"scattergeo\":[{\"marker\":{\"colorbar\":{\"outlinewidth\":0,\"ticks\":\"\"}},\"type\":\"scattergeo\"}],\"scattergl\":[{\"marker\":{\"colorbar\":{\"outlinewidth\":0,\"ticks\":\"\"}},\"type\":\"scattergl\"}],\"scattermapbox\":[{\"marker\":{\"colorbar\":{\"outlinewidth\":0,\"ticks\":\"\"}},\"type\":\"scattermapbox\"}],\"scatterpolargl\":[{\"marker\":{\"colorbar\":{\"outlinewidth\":0,\"ticks\":\"\"}},\"type\":\"scatterpolargl\"}],\"scatterpolar\":[{\"marker\":{\"colorbar\":{\"outlinewidth\":0,\"ticks\":\"\"}},\"type\":\"scatterpolar\"}],\"scatter\":[{\"fillpattern\":{\"fillmode\":\"overlay\",\"size\":10,\"solidity\":0.2},\"type\":\"scatter\"}],\"scatterternary\":[{\"marker\":{\"colorbar\":{\"outlinewidth\":0,\"ticks\":\"\"}},\"type\":\"scatterternary\"}],\"surface\":[{\"colorbar\":{\"outlinewidth\":0,\"ticks\":\"\"},\"colorscale\":[[0.0,\"#0d0887\"],[0.1111111111111111,\"#46039f\"],[0.2222222222222222,\"#7201a8\"],[0.3333333333333333,\"#9c179e\"],[0.4444444444444444,\"#bd3786\"],[0.5555555555555556,\"#d8576b\"],[0.6666666666666666,\"#ed7953\"],[0.7777777777777778,\"#fb9f3a\"],[0.8888888888888888,\"#fdca26\"],[1.0,\"#f0f921\"]],\"type\":\"surface\"}],\"table\":[{\"cells\":{\"fill\":{\"color\":\"#EBF0F8\"},\"line\":{\"color\":\"white\"}},\"header\":{\"fill\":{\"color\":\"#C8D4E3\"},\"line\":{\"color\":\"white\"}},\"type\":\"table\"}]},\"layout\":{\"annotationdefaults\":{\"arrowcolor\":\"#2a3f5f\",\"arrowhead\":0,\"arrowwidth\":1},\"autotypenumbers\":\"strict\",\"coloraxis\":{\"colorbar\":{\"outlinewidth\":0,\"ticks\":\"\"}},\"colorscale\":{\"diverging\":[[0,\"#8e0152\"],[0.1,\"#c51b7d\"],[0.2,\"#de77ae\"],[0.3,\"#f1b6da\"],[0.4,\"#fde0ef\"],[0.5,\"#f7f7f7\"],[0.6,\"#e6f5d0\"],[0.7,\"#b8e186\"],[0.8,\"#7fbc41\"],[0.9,\"#4d9221\"],[1,\"#276419\"]],\"sequential\":[[0.0,\"#0d0887\"],[0.1111111111111111,\"#46039f\"],[0.2222222222222222,\"#7201a8\"],[0.3333333333333333,\"#9c179e\"],[0.4444444444444444,\"#bd3786\"],[0.5555555555555556,\"#d8576b\"],[0.6666666666666666,\"#ed7953\"],[0.7777777777777778,\"#fb9f3a\"],[0.8888888888888888,\"#fdca26\"],[1.0,\"#f0f921\"]],\"sequentialminus\":[[0.0,\"#0d0887\"],[0.1111111111111111,\"#46039f\"],[0.2222222222222222,\"#7201a8\"],[0.3333333333333333,\"#9c179e\"],[0.4444444444444444,\"#bd3786\"],[0.5555555555555556,\"#d8576b\"],[0.6666666666666666,\"#ed7953\"],[0.7777777777777778,\"#fb9f3a\"],[0.8888888888888888,\"#fdca26\"],[1.0,\"#f0f921\"]]},\"colorway\":[\"#636efa\",\"#EF553B\",\"#00cc96\",\"#ab63fa\",\"#FFA15A\",\"#19d3f3\",\"#FF6692\",\"#B6E880\",\"#FF97FF\",\"#FECB52\"],\"font\":{\"color\":\"#2a3f5f\"},\"geo\":{\"bgcolor\":\"white\",\"lakecolor\":\"white\",\"landcolor\":\"white\",\"showlakes\":true,\"showland\":true,\"subunitcolor\":\"#C8D4E3\"},\"hoverlabel\":{\"align\":\"left\"},\"hovermode\":\"closest\",\"mapbox\":{\"style\":\"light\"},\"paper_bgcolor\":\"white\",\"plot_bgcolor\":\"white\",\"polar\":{\"angularaxis\":{\"gridcolor\":\"#EBF0F8\",\"linecolor\":\"#EBF0F8\",\"ticks\":\"\"},\"bgcolor\":\"white\",\"radialaxis\":{\"gridcolor\":\"#EBF0F8\",\"linecolor\":\"#EBF0F8\",\"ticks\":\"\"}},\"scene\":{\"xaxis\":{\"backgroundcolor\":\"white\",\"gridcolor\":\"#DFE8F3\",\"gridwidth\":2,\"linecolor\":\"#EBF0F8\",\"showbackground\":true,\"ticks\":\"\",\"zerolinecolor\":\"#EBF0F8\"},\"yaxis\":{\"backgroundcolor\":\"white\",\"gridcolor\":\"#DFE8F3\",\"gridwidth\":2,\"linecolor\":\"#EBF0F8\",\"showbackground\":true,\"ticks\":\"\",\"zerolinecolor\":\"#EBF0F8\"},\"zaxis\":{\"backgroundcolor\":\"white\",\"gridcolor\":\"#DFE8F3\",\"gridwidth\":2,\"linecolor\":\"#EBF0F8\",\"showbackground\":true,\"ticks\":\"\",\"zerolinecolor\":\"#EBF0F8\"}},\"shapedefaults\":{\"line\":{\"color\":\"#2a3f5f\"}},\"ternary\":{\"aaxis\":{\"gridcolor\":\"#DFE8F3\",\"linecolor\":\"#A2B1C6\",\"ticks\":\"\"},\"baxis\":{\"gridcolor\":\"#DFE8F3\",\"linecolor\":\"#A2B1C6\",\"ticks\":\"\"},\"bgcolor\":\"white\",\"caxis\":{\"gridcolor\":\"#DFE8F3\",\"linecolor\":\"#A2B1C6\",\"ticks\":\"\"}},\"title\":{\"x\":0.05},\"xaxis\":{\"automargin\":true,\"gridcolor\":\"#EBF0F8\",\"linecolor\":\"#EBF0F8\",\"ticks\":\"\",\"title\":{\"standoff\":15},\"zerolinecolor\":\"#EBF0F8\",\"zerolinewidth\":2},\"yaxis\":{\"automargin\":true,\"gridcolor\":\"#EBF0F8\",\"linecolor\":\"#EBF0F8\",\"ticks\":\"\",\"title\":{\"standoff\":15},\"zerolinecolor\":\"#EBF0F8\",\"zerolinewidth\":2}}},\"xaxis\":{\"anchor\":\"y\",\"domain\":[0.0,1.0],\"title\":{\"text\":\"Metric\"}},\"yaxis\":{\"anchor\":\"x\",\"domain\":[0.0,1.0],\"title\":{\"text\":\"Inequality change\"},\"tickformat\":\".0%\"},\"legend\":{\"title\":{\"text\":\"Policy\"},\"tracegroupgap\":0},\"margin\":{\"t\":60},\"barmode\":\"group\",\"font\":{\"family\":\"Roboto Serif\",\"color\":\"black\"},\"images\":[{\"sizex\":0.2,\"sizey\":0.2,\"source\":\"https://raw.githubusercontent.com/PolicyEngine/policyengine-app/master/src/images/logos/policyengine/blue.png\",\"x\":1,\"xanchor\":\"right\",\"xref\":\"paper\",\"y\":-0.15,\"yanchor\":\"bottom\",\"yref\":\"paper\"}],\"height\":600,\"width\":800,\"modebar\":{\"bgcolor\":\"rgba(0,0,0,0)\",\"color\":\"rgba(0,0,0,0)\"},\"title\":{\"text\":\"Figure 4: Inequality impact by metric and UBI policy\"}}}'"
      ]
     },
     "execution_count": 6,
     "metadata": {},
     "output_type": "execute_result"
    }
   ],
   "source": [
    "dfs = []\n",
    "from policyengine_core.charts import BLUE_COLOUR_SCALE\n",
    "for reformed, policy_name in zip([model_1_sim, model_2_sim, model_3_sim], [\"£200/month\", \"£300/month\", \"£400/month\"]):\n",
    "    equiv_income = baseline.calc(\n",
    "        \"equiv_household_net_income\", map_to=\"person\"\n",
    "    )\n",
    "    reform_equiv_income = reformed.calc(\n",
    "        \"equiv_household_net_income\", map_to=\"person\"\n",
    "    )\n",
    "    baseline_gini = equiv_income.gini()\n",
    "    reform_gini = reform_equiv_income.gini()\n",
    "    gini_change = reform_gini / baseline_gini - 1\n",
    "    baseline_top_ten_pct_share = (\n",
    "        equiv_income[equiv_income.decile_rank() == 10].sum()\n",
    "        / equiv_income.sum()\n",
    "    )\n",
    "    reform_top_ten_pct_share = (\n",
    "        reform_equiv_income[reform_equiv_income.decile_rank() == 10].sum()\n",
    "        / reform_equiv_income.sum()\n",
    "    )\n",
    "    top_ten_pct_share_change = (\n",
    "        reform_top_ten_pct_share / baseline_top_ten_pct_share - 1\n",
    "    )\n",
    "    baseline_top_one_pct_share = (\n",
    "        equiv_income[equiv_income.percentile_rank() == 100].sum()\n",
    "        / equiv_income.sum()\n",
    "    )\n",
    "    reform_top_one_pct_share = (\n",
    "        reform_equiv_income[reform_equiv_income.percentile_rank() == 100].sum()\n",
    "        / reform_equiv_income.sum()\n",
    "    )\n",
    "    top_one_pct_share_change = (\n",
    "        reform_top_one_pct_share / baseline_top_one_pct_share - 1\n",
    "    )\n",
    "    df = pd.DataFrame({\n",
    "        \"Metric\": [\"Gini coefficient\", \"Top-10% share\", \"Top-1% share\"],\n",
    "        \"Inequality change\": [\n",
    "            reform_gini / baseline_gini - 1,\n",
    "            reform_top_ten_pct_share / baseline_top_ten_pct_share - 1,\n",
    "            reform_top_one_pct_share / baseline_top_one_pct_share - 1,\n",
    "        ],\n",
    "        \"Policy\": [policy_name] * 3,\n",
    "    })\n",
    "    dfs += [df]\n",
    "inequality_df = pd.concat(dfs)\n",
    "fig = px.bar(\n",
    "    inequality_df,\n",
    "    x=\"Metric\",\n",
    "    y=\"Inequality change\",\n",
    "    color=\"Policy\",\n",
    "    barmode=\"group\",\n",
    "    color_discrete_sequence=BLUE_COLOUR_SCALE,\n",
    ").update_layout(\n",
    "    yaxis_tickformat=\".0%\",\n",
    ")\n",
    "for i in range(len(fig.data)):\n",
    "    fig.data[i][\"text\"] = [f\"{x:+.1%}\" if x is not None else \"\" for x in fig.data[i][\"y\"]]\n",
    "format_fig(fig).update_layout(\n",
    "    title=\"Figure 4: Inequality impact by metric and UBI policy\",\n",
    ").to_json()"
   ]
  },
  {
   "cell_type": "markdown",
   "metadata": {},
   "source": [
    "The next sections provide more detailed societal-level impacts on each of the three policies.\n",
    "\n",
    "## [£200 per month option](http://localhost:3000/uk/policy?reform=33122&focus=policyOutput.decileRelativeImpact&region=ni&timePeriod=2023&baseline=1)\n",
    "\n",
    "_£200 per month for adults, funded by lowering the personal allowance to £2,000, increasing the basic rate by 1.8p, and increasing the higher and additional rates by 3.6p_\n",
    "\n",
    "The smallest policy in our analysis reduces the allowance to £2,000 per year, raises the basic rate to 21.8%, the higher rate to 43.6% and the additional rate to 48.6%. 66% of the population sees their income rise as a result of the policy.\n",
    "\n",
    "The policy is highly progressive: the lowest income decile sees an increase of 15% to its aggregate disposable income.\n"
   ]
  },
  {
   "cell_type": "code",
   "execution_count": 7,
   "metadata": {
    "tags": [
     "hide-input"
    ]
   },
   "outputs": [
    {
     "data": {
      "text/plain": [
       "'{\"data\":[{\"marker\":{\"color\":[\"#2C6496\",\"#2C6496\",\"#2C6496\",\"#2C6496\",\"#2C6496\",\"#2C6496\",\"#2C6496\",\"#2C6496\",\"#2C6496\",\"#616161\"]},\"text\":[\"+15.3%\",\"+8.2%\",\"+6.5%\",\"+4.9%\",\"+3.8%\",\"+2.1%\",\"+1.8%\",\"+0.7%\",\"+0.3%\",\"-1.2%\"],\"textangle\":0,\"x\":[1,2,3,4,5,6,7,8,9,10],\"y\":[0.15346496402160056,0.0822270552926541,0.06514473370528212,0.04892309124577907,0.03845924900182782,0.02089415678194694,0.017572961883043886,0.007251161070405284,0.002772495962296879,-0.011955500389966716],\"type\":\"bar\"}],\"layout\":{\"uniformtext\":{\"minsize\":8,\"mode\":\"hide\"},\"xaxis\":{\"tickvals\":[1,2,3,4,5,6,7,8,9,10],\"title\":{\"text\":\"Income decile\"}},\"yaxis\":{\"tickformat\":\"+,.0%\",\"title\":{\"text\":\"Relative change\"}},\"template\":{\"data\":{\"barpolar\":[{\"marker\":{\"line\":{\"color\":\"white\",\"width\":0.5},\"pattern\":{\"fillmode\":\"overlay\",\"size\":10,\"solidity\":0.2}},\"type\":\"barpolar\"}],\"bar\":[{\"error_x\":{\"color\":\"#2a3f5f\"},\"error_y\":{\"color\":\"#2a3f5f\"},\"marker\":{\"line\":{\"color\":\"white\",\"width\":0.5},\"pattern\":{\"fillmode\":\"overlay\",\"size\":10,\"solidity\":0.2}},\"type\":\"bar\"}],\"carpet\":[{\"aaxis\":{\"endlinecolor\":\"#2a3f5f\",\"gridcolor\":\"#C8D4E3\",\"linecolor\":\"#C8D4E3\",\"minorgridcolor\":\"#C8D4E3\",\"startlinecolor\":\"#2a3f5f\"},\"baxis\":{\"endlinecolor\":\"#2a3f5f\",\"gridcolor\":\"#C8D4E3\",\"linecolor\":\"#C8D4E3\",\"minorgridcolor\":\"#C8D4E3\",\"startlinecolor\":\"#2a3f5f\"},\"type\":\"carpet\"}],\"choropleth\":[{\"colorbar\":{\"outlinewidth\":0,\"ticks\":\"\"},\"type\":\"choropleth\"}],\"contourcarpet\":[{\"colorbar\":{\"outlinewidth\":0,\"ticks\":\"\"},\"type\":\"contourcarpet\"}],\"contour\":[{\"colorbar\":{\"outlinewidth\":0,\"ticks\":\"\"},\"colorscale\":[[0.0,\"#0d0887\"],[0.1111111111111111,\"#46039f\"],[0.2222222222222222,\"#7201a8\"],[0.3333333333333333,\"#9c179e\"],[0.4444444444444444,\"#bd3786\"],[0.5555555555555556,\"#d8576b\"],[0.6666666666666666,\"#ed7953\"],[0.7777777777777778,\"#fb9f3a\"],[0.8888888888888888,\"#fdca26\"],[1.0,\"#f0f921\"]],\"type\":\"contour\"}],\"heatmapgl\":[{\"colorbar\":{\"outlinewidth\":0,\"ticks\":\"\"},\"colorscale\":[[0.0,\"#0d0887\"],[0.1111111111111111,\"#46039f\"],[0.2222222222222222,\"#7201a8\"],[0.3333333333333333,\"#9c179e\"],[0.4444444444444444,\"#bd3786\"],[0.5555555555555556,\"#d8576b\"],[0.6666666666666666,\"#ed7953\"],[0.7777777777777778,\"#fb9f3a\"],[0.8888888888888888,\"#fdca26\"],[1.0,\"#f0f921\"]],\"type\":\"heatmapgl\"}],\"heatmap\":[{\"colorbar\":{\"outlinewidth\":0,\"ticks\":\"\"},\"colorscale\":[[0.0,\"#0d0887\"],[0.1111111111111111,\"#46039f\"],[0.2222222222222222,\"#7201a8\"],[0.3333333333333333,\"#9c179e\"],[0.4444444444444444,\"#bd3786\"],[0.5555555555555556,\"#d8576b\"],[0.6666666666666666,\"#ed7953\"],[0.7777777777777778,\"#fb9f3a\"],[0.8888888888888888,\"#fdca26\"],[1.0,\"#f0f921\"]],\"type\":\"heatmap\"}],\"histogram2dcontour\":[{\"colorbar\":{\"outlinewidth\":0,\"ticks\":\"\"},\"colorscale\":[[0.0,\"#0d0887\"],[0.1111111111111111,\"#46039f\"],[0.2222222222222222,\"#7201a8\"],[0.3333333333333333,\"#9c179e\"],[0.4444444444444444,\"#bd3786\"],[0.5555555555555556,\"#d8576b\"],[0.6666666666666666,\"#ed7953\"],[0.7777777777777778,\"#fb9f3a\"],[0.8888888888888888,\"#fdca26\"],[1.0,\"#f0f921\"]],\"type\":\"histogram2dcontour\"}],\"histogram2d\":[{\"colorbar\":{\"outlinewidth\":0,\"ticks\":\"\"},\"colorscale\":[[0.0,\"#0d0887\"],[0.1111111111111111,\"#46039f\"],[0.2222222222222222,\"#7201a8\"],[0.3333333333333333,\"#9c179e\"],[0.4444444444444444,\"#bd3786\"],[0.5555555555555556,\"#d8576b\"],[0.6666666666666666,\"#ed7953\"],[0.7777777777777778,\"#fb9f3a\"],[0.8888888888888888,\"#fdca26\"],[1.0,\"#f0f921\"]],\"type\":\"histogram2d\"}],\"histogram\":[{\"marker\":{\"pattern\":{\"fillmode\":\"overlay\",\"size\":10,\"solidity\":0.2}},\"type\":\"histogram\"}],\"mesh3d\":[{\"colorbar\":{\"outlinewidth\":0,\"ticks\":\"\"},\"type\":\"mesh3d\"}],\"parcoords\":[{\"line\":{\"colorbar\":{\"outlinewidth\":0,\"ticks\":\"\"}},\"type\":\"parcoords\"}],\"pie\":[{\"automargin\":true,\"type\":\"pie\"}],\"scatter3d\":[{\"line\":{\"colorbar\":{\"outlinewidth\":0,\"ticks\":\"\"}},\"marker\":{\"colorbar\":{\"outlinewidth\":0,\"ticks\":\"\"}},\"type\":\"scatter3d\"}],\"scattercarpet\":[{\"marker\":{\"colorbar\":{\"outlinewidth\":0,\"ticks\":\"\"}},\"type\":\"scattercarpet\"}],\"scattergeo\":[{\"marker\":{\"colorbar\":{\"outlinewidth\":0,\"ticks\":\"\"}},\"type\":\"scattergeo\"}],\"scattergl\":[{\"marker\":{\"colorbar\":{\"outlinewidth\":0,\"ticks\":\"\"}},\"type\":\"scattergl\"}],\"scattermapbox\":[{\"marker\":{\"colorbar\":{\"outlinewidth\":0,\"ticks\":\"\"}},\"type\":\"scattermapbox\"}],\"scatterpolargl\":[{\"marker\":{\"colorbar\":{\"outlinewidth\":0,\"ticks\":\"\"}},\"type\":\"scatterpolargl\"}],\"scatterpolar\":[{\"marker\":{\"colorbar\":{\"outlinewidth\":0,\"ticks\":\"\"}},\"type\":\"scatterpolar\"}],\"scatter\":[{\"fillpattern\":{\"fillmode\":\"overlay\",\"size\":10,\"solidity\":0.2},\"type\":\"scatter\"}],\"scatterternary\":[{\"marker\":{\"colorbar\":{\"outlinewidth\":0,\"ticks\":\"\"}},\"type\":\"scatterternary\"}],\"surface\":[{\"colorbar\":{\"outlinewidth\":0,\"ticks\":\"\"},\"colorscale\":[[0.0,\"#0d0887\"],[0.1111111111111111,\"#46039f\"],[0.2222222222222222,\"#7201a8\"],[0.3333333333333333,\"#9c179e\"],[0.4444444444444444,\"#bd3786\"],[0.5555555555555556,\"#d8576b\"],[0.6666666666666666,\"#ed7953\"],[0.7777777777777778,\"#fb9f3a\"],[0.8888888888888888,\"#fdca26\"],[1.0,\"#f0f921\"]],\"type\":\"surface\"}],\"table\":[{\"cells\":{\"fill\":{\"color\":\"#EBF0F8\"},\"line\":{\"color\":\"white\"}},\"header\":{\"fill\":{\"color\":\"#C8D4E3\"},\"line\":{\"color\":\"white\"}},\"type\":\"table\"}]},\"layout\":{\"annotationdefaults\":{\"arrowcolor\":\"#2a3f5f\",\"arrowhead\":0,\"arrowwidth\":1},\"autotypenumbers\":\"strict\",\"coloraxis\":{\"colorbar\":{\"outlinewidth\":0,\"ticks\":\"\"}},\"colorscale\":{\"diverging\":[[0,\"#8e0152\"],[0.1,\"#c51b7d\"],[0.2,\"#de77ae\"],[0.3,\"#f1b6da\"],[0.4,\"#fde0ef\"],[0.5,\"#f7f7f7\"],[0.6,\"#e6f5d0\"],[0.7,\"#b8e186\"],[0.8,\"#7fbc41\"],[0.9,\"#4d9221\"],[1,\"#276419\"]],\"sequential\":[[0.0,\"#0d0887\"],[0.1111111111111111,\"#46039f\"],[0.2222222222222222,\"#7201a8\"],[0.3333333333333333,\"#9c179e\"],[0.4444444444444444,\"#bd3786\"],[0.5555555555555556,\"#d8576b\"],[0.6666666666666666,\"#ed7953\"],[0.7777777777777778,\"#fb9f3a\"],[0.8888888888888888,\"#fdca26\"],[1.0,\"#f0f921\"]],\"sequentialminus\":[[0.0,\"#0d0887\"],[0.1111111111111111,\"#46039f\"],[0.2222222222222222,\"#7201a8\"],[0.3333333333333333,\"#9c179e\"],[0.4444444444444444,\"#bd3786\"],[0.5555555555555556,\"#d8576b\"],[0.6666666666666666,\"#ed7953\"],[0.7777777777777778,\"#fb9f3a\"],[0.8888888888888888,\"#fdca26\"],[1.0,\"#f0f921\"]]},\"colorway\":[\"#636efa\",\"#EF553B\",\"#00cc96\",\"#ab63fa\",\"#FFA15A\",\"#19d3f3\",\"#FF6692\",\"#B6E880\",\"#FF97FF\",\"#FECB52\"],\"font\":{\"color\":\"#2a3f5f\"},\"geo\":{\"bgcolor\":\"white\",\"lakecolor\":\"white\",\"landcolor\":\"white\",\"showlakes\":true,\"showland\":true,\"subunitcolor\":\"#C8D4E3\"},\"hoverlabel\":{\"align\":\"left\"},\"hovermode\":\"closest\",\"mapbox\":{\"style\":\"light\"},\"paper_bgcolor\":\"white\",\"plot_bgcolor\":\"white\",\"polar\":{\"angularaxis\":{\"gridcolor\":\"#EBF0F8\",\"linecolor\":\"#EBF0F8\",\"ticks\":\"\"},\"bgcolor\":\"white\",\"radialaxis\":{\"gridcolor\":\"#EBF0F8\",\"linecolor\":\"#EBF0F8\",\"ticks\":\"\"}},\"scene\":{\"xaxis\":{\"backgroundcolor\":\"white\",\"gridcolor\":\"#DFE8F3\",\"gridwidth\":2,\"linecolor\":\"#EBF0F8\",\"showbackground\":true,\"ticks\":\"\",\"zerolinecolor\":\"#EBF0F8\"},\"yaxis\":{\"backgroundcolor\":\"white\",\"gridcolor\":\"#DFE8F3\",\"gridwidth\":2,\"linecolor\":\"#EBF0F8\",\"showbackground\":true,\"ticks\":\"\",\"zerolinecolor\":\"#EBF0F8\"},\"zaxis\":{\"backgroundcolor\":\"white\",\"gridcolor\":\"#DFE8F3\",\"gridwidth\":2,\"linecolor\":\"#EBF0F8\",\"showbackground\":true,\"ticks\":\"\",\"zerolinecolor\":\"#EBF0F8\"}},\"shapedefaults\":{\"line\":{\"color\":\"#2a3f5f\"}},\"ternary\":{\"aaxis\":{\"gridcolor\":\"#DFE8F3\",\"linecolor\":\"#A2B1C6\",\"ticks\":\"\"},\"baxis\":{\"gridcolor\":\"#DFE8F3\",\"linecolor\":\"#A2B1C6\",\"ticks\":\"\"},\"bgcolor\":\"white\",\"caxis\":{\"gridcolor\":\"#DFE8F3\",\"linecolor\":\"#A2B1C6\",\"ticks\":\"\"}},\"title\":{\"x\":0.05},\"xaxis\":{\"automargin\":true,\"gridcolor\":\"#EBF0F8\",\"linecolor\":\"#EBF0F8\",\"ticks\":\"\",\"title\":{\"standoff\":15},\"zerolinecolor\":\"#EBF0F8\",\"zerolinewidth\":2},\"yaxis\":{\"automargin\":true,\"gridcolor\":\"#EBF0F8\",\"linecolor\":\"#EBF0F8\",\"ticks\":\"\",\"title\":{\"standoff\":15},\"zerolinecolor\":\"#EBF0F8\",\"zerolinewidth\":2}}},\"font\":{\"family\":\"Roboto Serif\",\"color\":\"black\"},\"images\":[{\"sizex\":0.2,\"sizey\":0.2,\"source\":\"https://raw.githubusercontent.com/PolicyEngine/policyengine-app/master/src/images/logos/policyengine/blue.png\",\"x\":1,\"xanchor\":\"right\",\"xref\":\"paper\",\"y\":-0.15,\"yanchor\":\"bottom\",\"yref\":\"paper\"}],\"height\":600,\"width\":800,\"modebar\":{\"bgcolor\":\"rgba(0,0,0,0)\",\"color\":\"rgba(0,0,0,0)\"},\"title\":{\"text\":\"Figure 5: Change to net income by income decile under a \\\\u00a3200 per month UBI\"}}}'"
      ]
     },
     "execution_count": 7,
     "metadata": {},
     "output_type": "execute_result"
    }
   ],
   "source": [
    "from policyengine_core.charts import decile_chart, intra_decile_chart\n",
    "\n",
    "decile_chart(\n",
    "    \"uk\",\n",
    "    model_1_reform.api_id,\n",
    "    \"ni\",\n",
    "    \"2023\",\n",
    ").update_layout(\n",
    "    title=\"Figure 5: Change to net income by income decile under a £200 per month UBI\"\n",
    ").to_json()"
   ]
  },
  {
   "cell_type": "markdown",
   "metadata": {},
   "source": [
    "This does not mean, however, that everyone within a beneficiary decile comes out ahead or vice-versa. But gains broadly correlate with income: in the first decile, all individuals see their household net income rise; in the top decile, most see their income fall. Basic income schemes often create large amounts of low-income households who see a loss, if the policy abolishes or removes elements of the existing welfare system. This and other policies considered in this report avoid creating such low-income losses by not reforming benefit programs.\n"
   ]
  },
  {
   "cell_type": "code",
   "execution_count": 8,
   "metadata": {},
   "outputs": [
    {
     "data": {
      "text/plain": [
       "'{\"data\":[{\"hoverinfo\":\"none\",\"legendgroup\":\"Gain more than 5%\",\"marker\":{\"color\":\"#2C6496\",\"line\":{\"width\":0}},\"name\":\"Gain more than 5%\",\"offsetgroup\":\"Gain more than 5%\",\"orientation\":\"h\",\"showlegend\":false,\"text\":[\"50%\"],\"textangle\":0,\"textposition\":\"inside\",\"x\":[0.5045751214262648],\"xaxis\":\"x\",\"y\":[\"All\"],\"yaxis\":\"y\",\"type\":\"bar\",\"width\":[0.9,0.9,0.9,0.9,0.9,0.9,0.9,0.9,0.9,0.9]},{\"hoverinfo\":\"none\",\"legendgroup\":\"Gain less than 5%\",\"marker\":{\"color\":\"#D8E6F3\",\"line\":{\"width\":0}},\"name\":\"Gain less than 5%\",\"offsetgroup\":\"Gain less than 5%\",\"orientation\":\"h\",\"showlegend\":false,\"text\":[\"15%\"],\"textangle\":0,\"textposition\":\"inside\",\"x\":[0.15029305719233865],\"xaxis\":\"x\",\"y\":[\"All\"],\"yaxis\":\"y\",\"type\":\"bar\",\"width\":[0.9,0.9,0.9,0.9,0.9,0.9,0.9,0.9,0.9,0.9]},{\"hoverinfo\":\"none\",\"legendgroup\":\"No change\",\"marker\":{\"color\":\"#FFFFFF\",\"line\":{\"width\":0}},\"name\":\"No change\",\"offsetgroup\":\"No change\",\"orientation\":\"h\",\"showlegend\":false,\"text\":[\"1%\"],\"textangle\":0,\"textposition\":\"inside\",\"x\":[0.012137627997515197],\"xaxis\":\"x\",\"y\":[\"All\"],\"yaxis\":\"y\",\"type\":\"bar\",\"width\":[0.9,0.9,0.9,0.9,0.9,0.9,0.9,0.9,0.9,0.9]},{\"hoverinfo\":\"none\",\"legendgroup\":\"Lose less than 5%\",\"marker\":{\"color\":\"#D2D2D2\",\"line\":{\"width\":0}},\"name\":\"Lose less than 5%\",\"offsetgroup\":\"Lose less than 5%\",\"orientation\":\"h\",\"showlegend\":false,\"text\":[\"32%\"],\"textangle\":0,\"textposition\":\"inside\",\"x\":[0.3156511233238707],\"xaxis\":\"x\",\"y\":[\"All\"],\"yaxis\":\"y\",\"type\":\"bar\",\"width\":[0.9,0.9,0.9,0.9,0.9,0.9,0.9,0.9,0.9,0.9]},{\"hoverinfo\":\"none\",\"legendgroup\":\"Lose more than 5%\",\"marker\":{\"color\":\"#616161\",\"line\":{\"width\":0}},\"name\":\"Lose more than 5%\",\"offsetgroup\":\"Lose more than 5%\",\"orientation\":\"h\",\"showlegend\":false,\"text\":[\"2%\"],\"textangle\":0,\"textposition\":\"inside\",\"x\":[0.017343070060010683],\"xaxis\":\"x\",\"y\":[\"All\"],\"yaxis\":\"y\",\"type\":\"bar\",\"width\":[0.9,0.9,0.9,0.9,0.9,0.9,0.9,0.9,0.9,0.9]},{\"hoverinfo\":\"none\",\"marker\":{\"color\":\"#2C6496\",\"line\":{\"width\":0}},\"name\":\"Gain more than 5%\",\"orientation\":\"h\",\"text\":[\"90%\",\"74%\",\"76%\",\"71%\",\"59%\",\"36%\",\"42%\",\"24%\",\"23%\",\"10%\"],\"textangle\":0,\"textposition\":\"inside\",\"x\":[0.8990228551712489,0.7406334682395671,0.7578145584611743,0.7105545894131109,0.5888582766296129,0.36171156065079324,0.41530213454577725,0.24088302077471702,0.23379425171911516,0.0971764986575313],\"xaxis\":\"x2\",\"y\":[1,2,3,4,5,6,7,8,9,10],\"yaxis\":\"y2\",\"type\":\"bar\",\"width\":[0.9,0.9,0.9,0.9,0.9,0.9,0.9,0.9,0.9,0.9]},{\"hoverinfo\":\"none\",\"marker\":{\"color\":\"#D8E6F3\",\"line\":{\"width\":0}},\"name\":\"Gain less than 5%\",\"orientation\":\"h\",\"text\":[\"10%\",\"8%\",\"9%\",\"27%\",\"14%\",\"18%\",\"7%\",\"18%\",\"14%\",\"24%\"],\"textangle\":0,\"textposition\":\"inside\",\"x\":[0.10067697754151586,0.0809931009245184,0.08579774908814725,0.2656078339098351,0.14348803719750827,0.18410145296785324,0.07238079672711889,0.18469718771694743,0.1446660188484468,0.24052141700149524],\"xaxis\":\"x2\",\"y\":[1,2,3,4,5,6,7,8,9,10],\"yaxis\":\"y2\",\"type\":\"bar\",\"width\":[0.9,0.9,0.9,0.9,0.9,0.9,0.9,0.9,0.9,0.9]},{\"hoverinfo\":\"none\",\"marker\":{\"color\":\"#FFFFFF\",\"line\":{\"width\":0}},\"name\":\"No change\",\"orientation\":\"h\",\"text\":[\"0%\",\"0%\",\"1%\",\"0%\",\"5%\",\"0%\",\"0%\",\"3%\",\"1%\",\"1%\"],\"textangle\":0,\"textposition\":\"inside\",\"x\":[0.0,0.0009161400392702619,0.009028514001552312,0.0026867239325703875,0.050972184824646494,0.002726205347489008,0.0,0.032584498055776547,0.013417293674256751,0.009044720099590196],\"xaxis\":\"x2\",\"y\":[1,2,3,4,5,6,7,8,9,10],\"yaxis\":\"y2\",\"type\":\"bar\",\"width\":[0.9,0.9,0.9,0.9,0.9,0.9,0.9,0.9,0.9,0.9]},{\"hoverinfo\":\"none\",\"marker\":{\"color\":\"#D2D2D2\",\"line\":{\"width\":0}},\"name\":\"Lose less than 5%\",\"orientation\":\"h\",\"text\":[\"0%\",\"18%\",\"15%\",\"2%\",\"22%\",\"45%\",\"51%\",\"54%\",\"61%\",\"48%\"],\"textangle\":0,\"textposition\":\"inside\",\"x\":[0.0003001672872352223,0.17745729079664424,0.14735917844912613,0.021150852744483608,0.2166815013482324,0.4514607810338645,0.5123170687271038,0.541835293452559,0.6081224357581813,0.47982666364127646],\"xaxis\":\"x2\",\"y\":[1,2,3,4,5,6,7,8,9,10],\"yaxis\":\"y2\",\"type\":\"bar\",\"width\":[0.9,0.9,0.9,0.9,0.9,0.9,0.9,0.9,0.9,0.9]},{\"hoverinfo\":\"none\",\"marker\":{\"color\":\"#616161\",\"line\":{\"width\":0}},\"name\":\"Lose more than 5%\",\"orientation\":\"h\",\"text\":[\"0%\",\"0%\",\"0%\",\"0%\",\"0%\",\"0%\",\"0%\",\"0%\",\"0%\",\"17%\"],\"textangle\":0,\"textposition\":\"inside\",\"x\":[0.0,0.0,0.0,0.0,0.0,0.0,0.0,0.0,0.0,0.17343070060010682],\"xaxis\":\"x2\",\"y\":[1,2,3,4,5,6,7,8,9,10],\"yaxis\":\"y2\",\"type\":\"bar\",\"width\":[0.9,0.9,0.9,0.9,0.9,0.9,0.9,0.9,0.9,0.9]}],\"layout\":{\"barmode\":\"stack\",\"grid\":{\"columns\":1,\"rows\":2},\"uniformtext\":{\"minsize\":10,\"mode\":\"hide\"},\"xaxis\":{\"anchor\":\"y\",\"matches\":\"x2\",\"showgrid\":false,\"showticklabels\":false,\"tickformat\":\".0%\",\"title\":{\"text\":\"\"}},\"yaxis\":{\"domain\":[0.91,1],\"tickvals\":[\"All\"],\"title\":{\"text\":\"\"}},\"xaxis2\":{\"anchor\":\"y2\",\"tickformat\":\".0%\",\"title\":{\"text\":\"Population share\"}},\"yaxis2\":{\"anchor\":\"x2\",\"domain\":[0,0.85],\"tickvals\":[1,2,3,4,5,6,7,8,9,10],\"title\":{\"text\":\"Income decile\"}},\"template\":{\"data\":{\"barpolar\":[{\"marker\":{\"line\":{\"color\":\"white\",\"width\":0.5},\"pattern\":{\"fillmode\":\"overlay\",\"size\":10,\"solidity\":0.2}},\"type\":\"barpolar\"}],\"bar\":[{\"error_x\":{\"color\":\"#2a3f5f\"},\"error_y\":{\"color\":\"#2a3f5f\"},\"marker\":{\"line\":{\"color\":\"white\",\"width\":0.5},\"pattern\":{\"fillmode\":\"overlay\",\"size\":10,\"solidity\":0.2}},\"type\":\"bar\"}],\"carpet\":[{\"aaxis\":{\"endlinecolor\":\"#2a3f5f\",\"gridcolor\":\"#C8D4E3\",\"linecolor\":\"#C8D4E3\",\"minorgridcolor\":\"#C8D4E3\",\"startlinecolor\":\"#2a3f5f\"},\"baxis\":{\"endlinecolor\":\"#2a3f5f\",\"gridcolor\":\"#C8D4E3\",\"linecolor\":\"#C8D4E3\",\"minorgridcolor\":\"#C8D4E3\",\"startlinecolor\":\"#2a3f5f\"},\"type\":\"carpet\"}],\"choropleth\":[{\"colorbar\":{\"outlinewidth\":0,\"ticks\":\"\"},\"type\":\"choropleth\"}],\"contourcarpet\":[{\"colorbar\":{\"outlinewidth\":0,\"ticks\":\"\"},\"type\":\"contourcarpet\"}],\"contour\":[{\"colorbar\":{\"outlinewidth\":0,\"ticks\":\"\"},\"colorscale\":[[0.0,\"#0d0887\"],[0.1111111111111111,\"#46039f\"],[0.2222222222222222,\"#7201a8\"],[0.3333333333333333,\"#9c179e\"],[0.4444444444444444,\"#bd3786\"],[0.5555555555555556,\"#d8576b\"],[0.6666666666666666,\"#ed7953\"],[0.7777777777777778,\"#fb9f3a\"],[0.8888888888888888,\"#fdca26\"],[1.0,\"#f0f921\"]],\"type\":\"contour\"}],\"heatmapgl\":[{\"colorbar\":{\"outlinewidth\":0,\"ticks\":\"\"},\"colorscale\":[[0.0,\"#0d0887\"],[0.1111111111111111,\"#46039f\"],[0.2222222222222222,\"#7201a8\"],[0.3333333333333333,\"#9c179e\"],[0.4444444444444444,\"#bd3786\"],[0.5555555555555556,\"#d8576b\"],[0.6666666666666666,\"#ed7953\"],[0.7777777777777778,\"#fb9f3a\"],[0.8888888888888888,\"#fdca26\"],[1.0,\"#f0f921\"]],\"type\":\"heatmapgl\"}],\"heatmap\":[{\"colorbar\":{\"outlinewidth\":0,\"ticks\":\"\"},\"colorscale\":[[0.0,\"#0d0887\"],[0.1111111111111111,\"#46039f\"],[0.2222222222222222,\"#7201a8\"],[0.3333333333333333,\"#9c179e\"],[0.4444444444444444,\"#bd3786\"],[0.5555555555555556,\"#d8576b\"],[0.6666666666666666,\"#ed7953\"],[0.7777777777777778,\"#fb9f3a\"],[0.8888888888888888,\"#fdca26\"],[1.0,\"#f0f921\"]],\"type\":\"heatmap\"}],\"histogram2dcontour\":[{\"colorbar\":{\"outlinewidth\":0,\"ticks\":\"\"},\"colorscale\":[[0.0,\"#0d0887\"],[0.1111111111111111,\"#46039f\"],[0.2222222222222222,\"#7201a8\"],[0.3333333333333333,\"#9c179e\"],[0.4444444444444444,\"#bd3786\"],[0.5555555555555556,\"#d8576b\"],[0.6666666666666666,\"#ed7953\"],[0.7777777777777778,\"#fb9f3a\"],[0.8888888888888888,\"#fdca26\"],[1.0,\"#f0f921\"]],\"type\":\"histogram2dcontour\"}],\"histogram2d\":[{\"colorbar\":{\"outlinewidth\":0,\"ticks\":\"\"},\"colorscale\":[[0.0,\"#0d0887\"],[0.1111111111111111,\"#46039f\"],[0.2222222222222222,\"#7201a8\"],[0.3333333333333333,\"#9c179e\"],[0.4444444444444444,\"#bd3786\"],[0.5555555555555556,\"#d8576b\"],[0.6666666666666666,\"#ed7953\"],[0.7777777777777778,\"#fb9f3a\"],[0.8888888888888888,\"#fdca26\"],[1.0,\"#f0f921\"]],\"type\":\"histogram2d\"}],\"histogram\":[{\"marker\":{\"pattern\":{\"fillmode\":\"overlay\",\"size\":10,\"solidity\":0.2}},\"type\":\"histogram\"}],\"mesh3d\":[{\"colorbar\":{\"outlinewidth\":0,\"ticks\":\"\"},\"type\":\"mesh3d\"}],\"parcoords\":[{\"line\":{\"colorbar\":{\"outlinewidth\":0,\"ticks\":\"\"}},\"type\":\"parcoords\"}],\"pie\":[{\"automargin\":true,\"type\":\"pie\"}],\"scatter3d\":[{\"line\":{\"colorbar\":{\"outlinewidth\":0,\"ticks\":\"\"}},\"marker\":{\"colorbar\":{\"outlinewidth\":0,\"ticks\":\"\"}},\"type\":\"scatter3d\"}],\"scattercarpet\":[{\"marker\":{\"colorbar\":{\"outlinewidth\":0,\"ticks\":\"\"}},\"type\":\"scattercarpet\"}],\"scattergeo\":[{\"marker\":{\"colorbar\":{\"outlinewidth\":0,\"ticks\":\"\"}},\"type\":\"scattergeo\"}],\"scattergl\":[{\"marker\":{\"colorbar\":{\"outlinewidth\":0,\"ticks\":\"\"}},\"type\":\"scattergl\"}],\"scattermapbox\":[{\"marker\":{\"colorbar\":{\"outlinewidth\":0,\"ticks\":\"\"}},\"type\":\"scattermapbox\"}],\"scatterpolargl\":[{\"marker\":{\"colorbar\":{\"outlinewidth\":0,\"ticks\":\"\"}},\"type\":\"scatterpolargl\"}],\"scatterpolar\":[{\"marker\":{\"colorbar\":{\"outlinewidth\":0,\"ticks\":\"\"}},\"type\":\"scatterpolar\"}],\"scatter\":[{\"fillpattern\":{\"fillmode\":\"overlay\",\"size\":10,\"solidity\":0.2},\"type\":\"scatter\"}],\"scatterternary\":[{\"marker\":{\"colorbar\":{\"outlinewidth\":0,\"ticks\":\"\"}},\"type\":\"scatterternary\"}],\"surface\":[{\"colorbar\":{\"outlinewidth\":0,\"ticks\":\"\"},\"colorscale\":[[0.0,\"#0d0887\"],[0.1111111111111111,\"#46039f\"],[0.2222222222222222,\"#7201a8\"],[0.3333333333333333,\"#9c179e\"],[0.4444444444444444,\"#bd3786\"],[0.5555555555555556,\"#d8576b\"],[0.6666666666666666,\"#ed7953\"],[0.7777777777777778,\"#fb9f3a\"],[0.8888888888888888,\"#fdca26\"],[1.0,\"#f0f921\"]],\"type\":\"surface\"}],\"table\":[{\"cells\":{\"fill\":{\"color\":\"#EBF0F8\"},\"line\":{\"color\":\"white\"}},\"header\":{\"fill\":{\"color\":\"#C8D4E3\"},\"line\":{\"color\":\"white\"}},\"type\":\"table\"}]},\"layout\":{\"annotationdefaults\":{\"arrowcolor\":\"#2a3f5f\",\"arrowhead\":0,\"arrowwidth\":1},\"autotypenumbers\":\"strict\",\"coloraxis\":{\"colorbar\":{\"outlinewidth\":0,\"ticks\":\"\"}},\"colorscale\":{\"diverging\":[[0,\"#8e0152\"],[0.1,\"#c51b7d\"],[0.2,\"#de77ae\"],[0.3,\"#f1b6da\"],[0.4,\"#fde0ef\"],[0.5,\"#f7f7f7\"],[0.6,\"#e6f5d0\"],[0.7,\"#b8e186\"],[0.8,\"#7fbc41\"],[0.9,\"#4d9221\"],[1,\"#276419\"]],\"sequential\":[[0.0,\"#0d0887\"],[0.1111111111111111,\"#46039f\"],[0.2222222222222222,\"#7201a8\"],[0.3333333333333333,\"#9c179e\"],[0.4444444444444444,\"#bd3786\"],[0.5555555555555556,\"#d8576b\"],[0.6666666666666666,\"#ed7953\"],[0.7777777777777778,\"#fb9f3a\"],[0.8888888888888888,\"#fdca26\"],[1.0,\"#f0f921\"]],\"sequentialminus\":[[0.0,\"#0d0887\"],[0.1111111111111111,\"#46039f\"],[0.2222222222222222,\"#7201a8\"],[0.3333333333333333,\"#9c179e\"],[0.4444444444444444,\"#bd3786\"],[0.5555555555555556,\"#d8576b\"],[0.6666666666666666,\"#ed7953\"],[0.7777777777777778,\"#fb9f3a\"],[0.8888888888888888,\"#fdca26\"],[1.0,\"#f0f921\"]]},\"colorway\":[\"#636efa\",\"#EF553B\",\"#00cc96\",\"#ab63fa\",\"#FFA15A\",\"#19d3f3\",\"#FF6692\",\"#B6E880\",\"#FF97FF\",\"#FECB52\"],\"font\":{\"color\":\"#2a3f5f\"},\"geo\":{\"bgcolor\":\"white\",\"lakecolor\":\"white\",\"landcolor\":\"white\",\"showlakes\":true,\"showland\":true,\"subunitcolor\":\"#C8D4E3\"},\"hoverlabel\":{\"align\":\"left\"},\"hovermode\":\"closest\",\"mapbox\":{\"style\":\"light\"},\"paper_bgcolor\":\"white\",\"plot_bgcolor\":\"white\",\"polar\":{\"angularaxis\":{\"gridcolor\":\"#EBF0F8\",\"linecolor\":\"#EBF0F8\",\"ticks\":\"\"},\"bgcolor\":\"white\",\"radialaxis\":{\"gridcolor\":\"#EBF0F8\",\"linecolor\":\"#EBF0F8\",\"ticks\":\"\"}},\"scene\":{\"xaxis\":{\"backgroundcolor\":\"white\",\"gridcolor\":\"#DFE8F3\",\"gridwidth\":2,\"linecolor\":\"#EBF0F8\",\"showbackground\":true,\"ticks\":\"\",\"zerolinecolor\":\"#EBF0F8\"},\"yaxis\":{\"backgroundcolor\":\"white\",\"gridcolor\":\"#DFE8F3\",\"gridwidth\":2,\"linecolor\":\"#EBF0F8\",\"showbackground\":true,\"ticks\":\"\",\"zerolinecolor\":\"#EBF0F8\"},\"zaxis\":{\"backgroundcolor\":\"white\",\"gridcolor\":\"#DFE8F3\",\"gridwidth\":2,\"linecolor\":\"#EBF0F8\",\"showbackground\":true,\"ticks\":\"\",\"zerolinecolor\":\"#EBF0F8\"}},\"shapedefaults\":{\"line\":{\"color\":\"#2a3f5f\"}},\"ternary\":{\"aaxis\":{\"gridcolor\":\"#DFE8F3\",\"linecolor\":\"#A2B1C6\",\"ticks\":\"\"},\"baxis\":{\"gridcolor\":\"#DFE8F3\",\"linecolor\":\"#A2B1C6\",\"ticks\":\"\"},\"bgcolor\":\"white\",\"caxis\":{\"gridcolor\":\"#DFE8F3\",\"linecolor\":\"#A2B1C6\",\"ticks\":\"\"}},\"title\":{\"x\":0.05},\"xaxis\":{\"automargin\":true,\"gridcolor\":\"#EBF0F8\",\"linecolor\":\"#EBF0F8\",\"ticks\":\"\",\"title\":{\"standoff\":15},\"zerolinecolor\":\"#EBF0F8\",\"zerolinewidth\":2},\"yaxis\":{\"automargin\":true,\"gridcolor\":\"#EBF0F8\",\"linecolor\":\"#EBF0F8\",\"ticks\":\"\",\"title\":{\"standoff\":15},\"zerolinecolor\":\"#EBF0F8\",\"zerolinewidth\":2}}},\"font\":{\"family\":\"Roboto Serif\",\"color\":\"black\"},\"images\":[{\"sizex\":0.2,\"sizey\":0.2,\"source\":\"https://raw.githubusercontent.com/PolicyEngine/policyengine-app/master/src/images/logos/policyengine/blue.png\",\"x\":1,\"xanchor\":\"right\",\"xref\":\"paper\",\"y\":-0.15,\"yanchor\":\"bottom\",\"yref\":\"paper\"}],\"height\":600,\"width\":800,\"modebar\":{\"bgcolor\":\"rgba(0,0,0,0)\",\"color\":\"rgba(0,0,0,0)\"},\"legend\":{\"orientation\":\"h\",\"yanchor\":\"bottom\",\"y\":-0.3},\"title\":{\"text\":\"Figure 6: Outcome distribution by income decile under a \\\\u00a3200 per month UBI\"}}}'"
      ]
     },
     "execution_count": 8,
     "metadata": {},
     "output_type": "execute_result"
    }
   ],
   "source": [
    "intra_decile_chart(\n",
    "    \"uk\",\n",
    "    model_1_reform.api_id,\n",
    "    \"ni\",\n",
    "    \"2023\",\n",
    ").update_layout(\n",
    "    title=\"Figure 6: Outcome distribution by income decile under a £200 per month UBI\",\n",
    "    legend=dict(\n",
    "        orientation=\"h\",\n",
    "        yanchor=\"bottom\",\n",
    "        y=-0.3,\n",
    "    )\n",
    ").to_json()"
   ]
  },
  {
   "cell_type": "markdown",
   "metadata": {},
   "source": [
    "Total absolute poverty falls by 36%. This includes a fall of 40% for working-age poverty and by 42% for child poverty.\n",
    "\n",
    "## [£300 per month option](http://localhost:3000/uk/policy?reform=33123&focus=policyOutput.decileRelativeImpact&region=ni&timePeriod=2023&baseline=1)\n",
    "\n",
    "_£300 per month for adults, funded by repealing the personal allowance and increasing all tax rates by 5.2p_\n",
    "\n",
    "Northern Ireland could increase the basic income level from £200 to £300 by eliminating the personal allowance and raising the basic rate to 25.2%, the higher rate to 45.2%, and the additional rate to 49.2%. One counter-intuitive result of this is that the top marginal income tax rate actually falls slightly: in the current system, individuals who earn over £100,000 and less than £125,140 pay a 63.25% marginal tax rate.[^9] Under this policy, the top marginal income tax rate becomes 49.2%, as the personal allowance no longer exists to be phased out.\n",
    "\n",
    "With a larger UBI comes more progressive outcomes: the lowest income decile sees its income increase by over 23%, and the top decile income falls by around 2%.\n",
    "\n",
    "[^9]: This is because of the personal allowance phase-out, which creates a 60% marginal rate (40% \\* 1.5), in addition to the National Insurance marginal rate of (as of the time of writing) 3.25%.\n"
   ]
  },
  {
   "cell_type": "code",
   "execution_count": 9,
   "metadata": {
    "tags": [
     "hide-input"
    ]
   },
   "outputs": [
    {
     "data": {
      "text/plain": [
       "'{\"data\":[{\"marker\":{\"color\":[\"#2C6496\",\"#2C6496\",\"#2C6496\",\"#2C6496\",\"#2C6496\",\"#2C6496\",\"#2C6496\",\"#2C6496\",\"#616161\",\"#616161\"]},\"text\":[\"+23.2%\",\"+12.8%\",\"+10.2%\",\"+7.8%\",\"+6.0%\",\"+3.4%\",\"+2.7%\",\"+0.8%\",\"-0.2%\",\"-2.2%\"],\"textangle\":0,\"x\":[1,2,3,4,5,6,7,8,9,10],\"y\":[0.23180415077301636,0.12792276753009202,0.10193976321179239,0.07785453905874472,0.060439177413716454,0.034045189976727015,0.026520470425309976,0.007531456582059412,-0.0016430476339092952,-0.02215017629380867],\"type\":\"bar\"}],\"layout\":{\"uniformtext\":{\"minsize\":8,\"mode\":\"hide\"},\"xaxis\":{\"tickvals\":[1,2,3,4,5,6,7,8,9,10],\"title\":{\"text\":\"Income decile\"}},\"yaxis\":{\"tickformat\":\"+,.0%\",\"title\":{\"text\":\"Relative change\"}},\"template\":{\"data\":{\"barpolar\":[{\"marker\":{\"line\":{\"color\":\"white\",\"width\":0.5},\"pattern\":{\"fillmode\":\"overlay\",\"size\":10,\"solidity\":0.2}},\"type\":\"barpolar\"}],\"bar\":[{\"error_x\":{\"color\":\"#2a3f5f\"},\"error_y\":{\"color\":\"#2a3f5f\"},\"marker\":{\"line\":{\"color\":\"white\",\"width\":0.5},\"pattern\":{\"fillmode\":\"overlay\",\"size\":10,\"solidity\":0.2}},\"type\":\"bar\"}],\"carpet\":[{\"aaxis\":{\"endlinecolor\":\"#2a3f5f\",\"gridcolor\":\"#C8D4E3\",\"linecolor\":\"#C8D4E3\",\"minorgridcolor\":\"#C8D4E3\",\"startlinecolor\":\"#2a3f5f\"},\"baxis\":{\"endlinecolor\":\"#2a3f5f\",\"gridcolor\":\"#C8D4E3\",\"linecolor\":\"#C8D4E3\",\"minorgridcolor\":\"#C8D4E3\",\"startlinecolor\":\"#2a3f5f\"},\"type\":\"carpet\"}],\"choropleth\":[{\"colorbar\":{\"outlinewidth\":0,\"ticks\":\"\"},\"type\":\"choropleth\"}],\"contourcarpet\":[{\"colorbar\":{\"outlinewidth\":0,\"ticks\":\"\"},\"type\":\"contourcarpet\"}],\"contour\":[{\"colorbar\":{\"outlinewidth\":0,\"ticks\":\"\"},\"colorscale\":[[0.0,\"#0d0887\"],[0.1111111111111111,\"#46039f\"],[0.2222222222222222,\"#7201a8\"],[0.3333333333333333,\"#9c179e\"],[0.4444444444444444,\"#bd3786\"],[0.5555555555555556,\"#d8576b\"],[0.6666666666666666,\"#ed7953\"],[0.7777777777777778,\"#fb9f3a\"],[0.8888888888888888,\"#fdca26\"],[1.0,\"#f0f921\"]],\"type\":\"contour\"}],\"heatmapgl\":[{\"colorbar\":{\"outlinewidth\":0,\"ticks\":\"\"},\"colorscale\":[[0.0,\"#0d0887\"],[0.1111111111111111,\"#46039f\"],[0.2222222222222222,\"#7201a8\"],[0.3333333333333333,\"#9c179e\"],[0.4444444444444444,\"#bd3786\"],[0.5555555555555556,\"#d8576b\"],[0.6666666666666666,\"#ed7953\"],[0.7777777777777778,\"#fb9f3a\"],[0.8888888888888888,\"#fdca26\"],[1.0,\"#f0f921\"]],\"type\":\"heatmapgl\"}],\"heatmap\":[{\"colorbar\":{\"outlinewidth\":0,\"ticks\":\"\"},\"colorscale\":[[0.0,\"#0d0887\"],[0.1111111111111111,\"#46039f\"],[0.2222222222222222,\"#7201a8\"],[0.3333333333333333,\"#9c179e\"],[0.4444444444444444,\"#bd3786\"],[0.5555555555555556,\"#d8576b\"],[0.6666666666666666,\"#ed7953\"],[0.7777777777777778,\"#fb9f3a\"],[0.8888888888888888,\"#fdca26\"],[1.0,\"#f0f921\"]],\"type\":\"heatmap\"}],\"histogram2dcontour\":[{\"colorbar\":{\"outlinewidth\":0,\"ticks\":\"\"},\"colorscale\":[[0.0,\"#0d0887\"],[0.1111111111111111,\"#46039f\"],[0.2222222222222222,\"#7201a8\"],[0.3333333333333333,\"#9c179e\"],[0.4444444444444444,\"#bd3786\"],[0.5555555555555556,\"#d8576b\"],[0.6666666666666666,\"#ed7953\"],[0.7777777777777778,\"#fb9f3a\"],[0.8888888888888888,\"#fdca26\"],[1.0,\"#f0f921\"]],\"type\":\"histogram2dcontour\"}],\"histogram2d\":[{\"colorbar\":{\"outlinewidth\":0,\"ticks\":\"\"},\"colorscale\":[[0.0,\"#0d0887\"],[0.1111111111111111,\"#46039f\"],[0.2222222222222222,\"#7201a8\"],[0.3333333333333333,\"#9c179e\"],[0.4444444444444444,\"#bd3786\"],[0.5555555555555556,\"#d8576b\"],[0.6666666666666666,\"#ed7953\"],[0.7777777777777778,\"#fb9f3a\"],[0.8888888888888888,\"#fdca26\"],[1.0,\"#f0f921\"]],\"type\":\"histogram2d\"}],\"histogram\":[{\"marker\":{\"pattern\":{\"fillmode\":\"overlay\",\"size\":10,\"solidity\":0.2}},\"type\":\"histogram\"}],\"mesh3d\":[{\"colorbar\":{\"outlinewidth\":0,\"ticks\":\"\"},\"type\":\"mesh3d\"}],\"parcoords\":[{\"line\":{\"colorbar\":{\"outlinewidth\":0,\"ticks\":\"\"}},\"type\":\"parcoords\"}],\"pie\":[{\"automargin\":true,\"type\":\"pie\"}],\"scatter3d\":[{\"line\":{\"colorbar\":{\"outlinewidth\":0,\"ticks\":\"\"}},\"marker\":{\"colorbar\":{\"outlinewidth\":0,\"ticks\":\"\"}},\"type\":\"scatter3d\"}],\"scattercarpet\":[{\"marker\":{\"colorbar\":{\"outlinewidth\":0,\"ticks\":\"\"}},\"type\":\"scattercarpet\"}],\"scattergeo\":[{\"marker\":{\"colorbar\":{\"outlinewidth\":0,\"ticks\":\"\"}},\"type\":\"scattergeo\"}],\"scattergl\":[{\"marker\":{\"colorbar\":{\"outlinewidth\":0,\"ticks\":\"\"}},\"type\":\"scattergl\"}],\"scattermapbox\":[{\"marker\":{\"colorbar\":{\"outlinewidth\":0,\"ticks\":\"\"}},\"type\":\"scattermapbox\"}],\"scatterpolargl\":[{\"marker\":{\"colorbar\":{\"outlinewidth\":0,\"ticks\":\"\"}},\"type\":\"scatterpolargl\"}],\"scatterpolar\":[{\"marker\":{\"colorbar\":{\"outlinewidth\":0,\"ticks\":\"\"}},\"type\":\"scatterpolar\"}],\"scatter\":[{\"fillpattern\":{\"fillmode\":\"overlay\",\"size\":10,\"solidity\":0.2},\"type\":\"scatter\"}],\"scatterternary\":[{\"marker\":{\"colorbar\":{\"outlinewidth\":0,\"ticks\":\"\"}},\"type\":\"scatterternary\"}],\"surface\":[{\"colorbar\":{\"outlinewidth\":0,\"ticks\":\"\"},\"colorscale\":[[0.0,\"#0d0887\"],[0.1111111111111111,\"#46039f\"],[0.2222222222222222,\"#7201a8\"],[0.3333333333333333,\"#9c179e\"],[0.4444444444444444,\"#bd3786\"],[0.5555555555555556,\"#d8576b\"],[0.6666666666666666,\"#ed7953\"],[0.7777777777777778,\"#fb9f3a\"],[0.8888888888888888,\"#fdca26\"],[1.0,\"#f0f921\"]],\"type\":\"surface\"}],\"table\":[{\"cells\":{\"fill\":{\"color\":\"#EBF0F8\"},\"line\":{\"color\":\"white\"}},\"header\":{\"fill\":{\"color\":\"#C8D4E3\"},\"line\":{\"color\":\"white\"}},\"type\":\"table\"}]},\"layout\":{\"annotationdefaults\":{\"arrowcolor\":\"#2a3f5f\",\"arrowhead\":0,\"arrowwidth\":1},\"autotypenumbers\":\"strict\",\"coloraxis\":{\"colorbar\":{\"outlinewidth\":0,\"ticks\":\"\"}},\"colorscale\":{\"diverging\":[[0,\"#8e0152\"],[0.1,\"#c51b7d\"],[0.2,\"#de77ae\"],[0.3,\"#f1b6da\"],[0.4,\"#fde0ef\"],[0.5,\"#f7f7f7\"],[0.6,\"#e6f5d0\"],[0.7,\"#b8e186\"],[0.8,\"#7fbc41\"],[0.9,\"#4d9221\"],[1,\"#276419\"]],\"sequential\":[[0.0,\"#0d0887\"],[0.1111111111111111,\"#46039f\"],[0.2222222222222222,\"#7201a8\"],[0.3333333333333333,\"#9c179e\"],[0.4444444444444444,\"#bd3786\"],[0.5555555555555556,\"#d8576b\"],[0.6666666666666666,\"#ed7953\"],[0.7777777777777778,\"#fb9f3a\"],[0.8888888888888888,\"#fdca26\"],[1.0,\"#f0f921\"]],\"sequentialminus\":[[0.0,\"#0d0887\"],[0.1111111111111111,\"#46039f\"],[0.2222222222222222,\"#7201a8\"],[0.3333333333333333,\"#9c179e\"],[0.4444444444444444,\"#bd3786\"],[0.5555555555555556,\"#d8576b\"],[0.6666666666666666,\"#ed7953\"],[0.7777777777777778,\"#fb9f3a\"],[0.8888888888888888,\"#fdca26\"],[1.0,\"#f0f921\"]]},\"colorway\":[\"#636efa\",\"#EF553B\",\"#00cc96\",\"#ab63fa\",\"#FFA15A\",\"#19d3f3\",\"#FF6692\",\"#B6E880\",\"#FF97FF\",\"#FECB52\"],\"font\":{\"color\":\"#2a3f5f\"},\"geo\":{\"bgcolor\":\"white\",\"lakecolor\":\"white\",\"landcolor\":\"white\",\"showlakes\":true,\"showland\":true,\"subunitcolor\":\"#C8D4E3\"},\"hoverlabel\":{\"align\":\"left\"},\"hovermode\":\"closest\",\"mapbox\":{\"style\":\"light\"},\"paper_bgcolor\":\"white\",\"plot_bgcolor\":\"white\",\"polar\":{\"angularaxis\":{\"gridcolor\":\"#EBF0F8\",\"linecolor\":\"#EBF0F8\",\"ticks\":\"\"},\"bgcolor\":\"white\",\"radialaxis\":{\"gridcolor\":\"#EBF0F8\",\"linecolor\":\"#EBF0F8\",\"ticks\":\"\"}},\"scene\":{\"xaxis\":{\"backgroundcolor\":\"white\",\"gridcolor\":\"#DFE8F3\",\"gridwidth\":2,\"linecolor\":\"#EBF0F8\",\"showbackground\":true,\"ticks\":\"\",\"zerolinecolor\":\"#EBF0F8\"},\"yaxis\":{\"backgroundcolor\":\"white\",\"gridcolor\":\"#DFE8F3\",\"gridwidth\":2,\"linecolor\":\"#EBF0F8\",\"showbackground\":true,\"ticks\":\"\",\"zerolinecolor\":\"#EBF0F8\"},\"zaxis\":{\"backgroundcolor\":\"white\",\"gridcolor\":\"#DFE8F3\",\"gridwidth\":2,\"linecolor\":\"#EBF0F8\",\"showbackground\":true,\"ticks\":\"\",\"zerolinecolor\":\"#EBF0F8\"}},\"shapedefaults\":{\"line\":{\"color\":\"#2a3f5f\"}},\"ternary\":{\"aaxis\":{\"gridcolor\":\"#DFE8F3\",\"linecolor\":\"#A2B1C6\",\"ticks\":\"\"},\"baxis\":{\"gridcolor\":\"#DFE8F3\",\"linecolor\":\"#A2B1C6\",\"ticks\":\"\"},\"bgcolor\":\"white\",\"caxis\":{\"gridcolor\":\"#DFE8F3\",\"linecolor\":\"#A2B1C6\",\"ticks\":\"\"}},\"title\":{\"x\":0.05},\"xaxis\":{\"automargin\":true,\"gridcolor\":\"#EBF0F8\",\"linecolor\":\"#EBF0F8\",\"ticks\":\"\",\"title\":{\"standoff\":15},\"zerolinecolor\":\"#EBF0F8\",\"zerolinewidth\":2},\"yaxis\":{\"automargin\":true,\"gridcolor\":\"#EBF0F8\",\"linecolor\":\"#EBF0F8\",\"ticks\":\"\",\"title\":{\"standoff\":15},\"zerolinecolor\":\"#EBF0F8\",\"zerolinewidth\":2}}},\"font\":{\"family\":\"Roboto Serif\",\"color\":\"black\"},\"images\":[{\"sizex\":0.2,\"sizey\":0.2,\"source\":\"https://raw.githubusercontent.com/PolicyEngine/policyengine-app/master/src/images/logos/policyengine/blue.png\",\"x\":1,\"xanchor\":\"right\",\"xref\":\"paper\",\"y\":-0.15,\"yanchor\":\"bottom\",\"yref\":\"paper\"}],\"height\":600,\"width\":800,\"modebar\":{\"bgcolor\":\"rgba(0,0,0,0)\",\"color\":\"rgba(0,0,0,0)\"},\"title\":{\"text\":\"Figure 7: Change to net income by income decile under a \\\\u00a3300 per month UBI\"}}}'"
      ]
     },
     "execution_count": 9,
     "metadata": {},
     "output_type": "execute_result"
    }
   ],
   "source": [
    "decile_chart(\n",
    "    \"uk\",\n",
    "    model_2_reform.api_id,\n",
    "    \"ni\",\n",
    "    \"2023\",\n",
    ").update_layout(\n",
    "    title=\"Figure 7: Change to net income by income decile under a £300 per month UBI\"\n",
    ").to_json()"
   ]
  },
  {
   "cell_type": "markdown",
   "metadata": {},
   "source": [
    "A similar pattern holds for the distribution of outcomes within each decile, but the results are more pronounced. More households lose income, and more shift from losing under 5% to over 5%. Countering this, a larger proportion of individuals are in households with strong (over 5%) increases in income: from 50% (for the £200 per month policy) to 56%.\n"
   ]
  },
  {
   "cell_type": "code",
   "execution_count": 10,
   "metadata": {
    "tags": [
     "hide-input"
    ]
   },
   "outputs": [
    {
     "data": {
      "text/plain": [
       "'{\"data\":[{\"hoverinfo\":\"none\",\"legendgroup\":\"Gain more than 5%\",\"marker\":{\"color\":\"#2C6496\",\"line\":{\"width\":0}},\"name\":\"Gain more than 5%\",\"offsetgroup\":\"Gain more than 5%\",\"orientation\":\"h\",\"showlegend\":false,\"text\":[\"56%\"],\"textangle\":0,\"textposition\":\"inside\",\"x\":[0.5594736313896533],\"xaxis\":\"x\",\"y\":[\"All\"],\"yaxis\":\"y\",\"type\":\"bar\",\"width\":[0.9,0.9,0.9,0.9,0.9,0.9,0.9,0.9,0.9,0.9]},{\"hoverinfo\":\"none\",\"legendgroup\":\"Gain less than 5%\",\"marker\":{\"color\":\"#D8E6F3\",\"line\":{\"width\":0}},\"name\":\"Gain less than 5%\",\"offsetgroup\":\"Gain less than 5%\",\"orientation\":\"h\",\"showlegend\":false,\"text\":[\"13%\"],\"textangle\":0,\"textposition\":\"inside\",\"x\":[0.1328547525605736],\"xaxis\":\"x\",\"y\":[\"All\"],\"yaxis\":\"y\",\"type\":\"bar\",\"width\":[0.9,0.9,0.9,0.9,0.9,0.9,0.9,0.9,0.9,0.9]},{\"hoverinfo\":\"none\",\"legendgroup\":\"No change\",\"marker\":{\"color\":\"#FFFFFF\",\"line\":{\"width\":0}},\"name\":\"No change\",\"offsetgroup\":\"No change\",\"orientation\":\"h\",\"showlegend\":false,\"text\":[\"1%\"],\"textangle\":0,\"textposition\":\"inside\",\"x\":[0.008394590143083452],\"xaxis\":\"x\",\"y\":[\"All\"],\"yaxis\":\"y\",\"type\":\"bar\",\"width\":[0.9,0.9,0.9,0.9,0.9,0.9,0.9,0.9,0.9,0.9]},{\"hoverinfo\":\"none\",\"legendgroup\":\"Lose less than 5%\",\"marker\":{\"color\":\"#D2D2D2\",\"line\":{\"width\":0}},\"name\":\"Lose less than 5%\",\"offsetgroup\":\"Lose less than 5%\",\"orientation\":\"h\",\"showlegend\":false,\"text\":[\"22%\"],\"textangle\":0,\"textposition\":\"inside\",\"x\":[0.21667271508768313],\"xaxis\":\"x\",\"y\":[\"All\"],\"yaxis\":\"y\",\"type\":\"bar\",\"width\":[0.9,0.9,0.9,0.9,0.9,0.9,0.9,0.9,0.9,0.9]},{\"hoverinfo\":\"none\",\"legendgroup\":\"Lose more than 5%\",\"marker\":{\"color\":\"#616161\",\"line\":{\"width\":0}},\"name\":\"Lose more than 5%\",\"offsetgroup\":\"Lose more than 5%\",\"orientation\":\"h\",\"showlegend\":false,\"text\":[\"8%\"],\"textangle\":0,\"textposition\":\"inside\",\"x\":[0.08260431081900636],\"xaxis\":\"x\",\"y\":[\"All\"],\"yaxis\":\"y\",\"type\":\"bar\",\"width\":[0.9,0.9,0.9,0.9,0.9,0.9,0.9,0.9,0.9,0.9]},{\"hoverinfo\":\"none\",\"marker\":{\"color\":\"#2C6496\",\"line\":{\"width\":0}},\"name\":\"Gain more than 5%\",\"orientation\":\"h\",\"text\":[\"95%\",\"76%\",\"84%\",\"90%\",\"61%\",\"47%\",\"47%\",\"26%\",\"24%\",\"10%\"],\"textangle\":0,\"textposition\":\"inside\",\"x\":[0.9512952457400037,0.761493856372432,0.8436123075493216,0.9010952849389743,0.608734769912854,0.46813426838208655,0.4652301035823213,0.25971065368434526,0.23825332507666422,0.0971764986575313],\"xaxis\":\"x2\",\"y\":[1,2,3,4,5,6,7,8,9,10],\"yaxis\":\"y2\",\"type\":\"bar\",\"width\":[0.9,0.9,0.9,0.9,0.9,0.9,0.9,0.9,0.9,0.9]},{\"hoverinfo\":\"none\",\"marker\":{\"color\":\"#D8E6F3\",\"line\":{\"width\":0}},\"name\":\"Gain less than 5%\",\"orientation\":\"h\",\"text\":[\"5%\",\"12%\",\"1%\",\"8%\",\"36%\",\"17%\",\"3%\",\"12%\",\"14%\",\"27%\"],\"textangle\":0,\"textposition\":\"inside\",\"x\":[0.04840458697276108,0.11796434227070457,0.009028514001552312,0.07775386231654215,0.3576833112638876,0.17131260415774377,0.026893991005428358,0.11569466043492549,0.138799209994168,0.2650124431880228],\"xaxis\":\"x2\",\"y\":[1,2,3,4,5,6,7,8,9,10],\"yaxis\":\"y2\",\"type\":\"bar\",\"width\":[0.9,0.9,0.9,0.9,0.9,0.9,0.9,0.9,0.9,0.9]},{\"hoverinfo\":\"none\",\"marker\":{\"color\":\"#FFFFFF\",\"line\":{\"width\":0}},\"name\":\"No change\",\"orientation\":\"h\",\"text\":[\"0%\",\"0%\",\"0%\",\"0%\",\"0%\",\"8%\",\"0%\",\"0%\",\"0%\",\"0%\"],\"textangle\":0,\"textposition\":\"inside\",\"x\":[0.0,0.0,0.0,0.0,0.0,0.08376491074244645,0.0,0.0,0.00018099068838807686,0.0],\"xaxis\":\"x2\",\"y\":[1,2,3,4,5,6,7,8,9,10],\"yaxis\":\"y2\",\"type\":\"bar\",\"width\":[0.9,0.9,0.9,0.9,0.9,0.9,0.9,0.9,0.9,0.9]},{\"hoverinfo\":\"none\",\"marker\":{\"color\":\"#D2D2D2\",\"line\":{\"width\":0}},\"name\":\"Lose less than 5%\",\"orientation\":\"h\",\"text\":[\"0%\",\"12%\",\"15%\",\"2%\",\"2%\",\"27%\",\"49%\",\"59%\",\"35%\",\"16%\"],\"textangle\":0,\"textposition\":\"inside\",\"x\":[0.0003001672872352223,0.12054180135686332,0.14735917844912613,0.015783739604861336,0.02028716211470922,0.26820390518979026,0.49196040247867495,0.5914373504657784,0.3526598953867457,0.15819354854304687],\"xaxis\":\"x2\",\"y\":[1,2,3,4,5,6,7,8,9,10],\"yaxis\":\"y2\",\"type\":\"bar\",\"width\":[0.9,0.9,0.9,0.9,0.9,0.9,0.9,0.9,0.9,0.9]},{\"hoverinfo\":\"none\",\"marker\":{\"color\":\"#616161\",\"line\":{\"width\":0}},\"name\":\"Lose more than 5%\",\"orientation\":\"h\",\"text\":[\"0%\",\"0%\",\"0%\",\"1%\",\"1%\",\"1%\",\"2%\",\"3%\",\"27%\",\"48%\"],\"textangle\":0,\"textposition\":\"inside\",\"x\":[0.0,0.0,0.0,0.005367113139622271,0.013294756708549176,0.008584311527932974,0.01591550293357538,0.03315733541495087,0.270106578854034,0.47961750961139904],\"xaxis\":\"x2\",\"y\":[1,2,3,4,5,6,7,8,9,10],\"yaxis\":\"y2\",\"type\":\"bar\",\"width\":[0.9,0.9,0.9,0.9,0.9,0.9,0.9,0.9,0.9,0.9]}],\"layout\":{\"barmode\":\"stack\",\"grid\":{\"columns\":1,\"rows\":2},\"uniformtext\":{\"minsize\":10,\"mode\":\"hide\"},\"xaxis\":{\"anchor\":\"y\",\"matches\":\"x2\",\"showgrid\":false,\"showticklabels\":false,\"tickformat\":\".0%\",\"title\":{\"text\":\"\"}},\"yaxis\":{\"domain\":[0.91,1],\"tickvals\":[\"All\"],\"title\":{\"text\":\"\"}},\"xaxis2\":{\"anchor\":\"y2\",\"tickformat\":\".0%\",\"title\":{\"text\":\"Population share\"}},\"yaxis2\":{\"anchor\":\"x2\",\"domain\":[0,0.85],\"tickvals\":[1,2,3,4,5,6,7,8,9,10],\"title\":{\"text\":\"Income decile\"}},\"template\":{\"data\":{\"barpolar\":[{\"marker\":{\"line\":{\"color\":\"white\",\"width\":0.5},\"pattern\":{\"fillmode\":\"overlay\",\"size\":10,\"solidity\":0.2}},\"type\":\"barpolar\"}],\"bar\":[{\"error_x\":{\"color\":\"#2a3f5f\"},\"error_y\":{\"color\":\"#2a3f5f\"},\"marker\":{\"line\":{\"color\":\"white\",\"width\":0.5},\"pattern\":{\"fillmode\":\"overlay\",\"size\":10,\"solidity\":0.2}},\"type\":\"bar\"}],\"carpet\":[{\"aaxis\":{\"endlinecolor\":\"#2a3f5f\",\"gridcolor\":\"#C8D4E3\",\"linecolor\":\"#C8D4E3\",\"minorgridcolor\":\"#C8D4E3\",\"startlinecolor\":\"#2a3f5f\"},\"baxis\":{\"endlinecolor\":\"#2a3f5f\",\"gridcolor\":\"#C8D4E3\",\"linecolor\":\"#C8D4E3\",\"minorgridcolor\":\"#C8D4E3\",\"startlinecolor\":\"#2a3f5f\"},\"type\":\"carpet\"}],\"choropleth\":[{\"colorbar\":{\"outlinewidth\":0,\"ticks\":\"\"},\"type\":\"choropleth\"}],\"contourcarpet\":[{\"colorbar\":{\"outlinewidth\":0,\"ticks\":\"\"},\"type\":\"contourcarpet\"}],\"contour\":[{\"colorbar\":{\"outlinewidth\":0,\"ticks\":\"\"},\"colorscale\":[[0.0,\"#0d0887\"],[0.1111111111111111,\"#46039f\"],[0.2222222222222222,\"#7201a8\"],[0.3333333333333333,\"#9c179e\"],[0.4444444444444444,\"#bd3786\"],[0.5555555555555556,\"#d8576b\"],[0.6666666666666666,\"#ed7953\"],[0.7777777777777778,\"#fb9f3a\"],[0.8888888888888888,\"#fdca26\"],[1.0,\"#f0f921\"]],\"type\":\"contour\"}],\"heatmapgl\":[{\"colorbar\":{\"outlinewidth\":0,\"ticks\":\"\"},\"colorscale\":[[0.0,\"#0d0887\"],[0.1111111111111111,\"#46039f\"],[0.2222222222222222,\"#7201a8\"],[0.3333333333333333,\"#9c179e\"],[0.4444444444444444,\"#bd3786\"],[0.5555555555555556,\"#d8576b\"],[0.6666666666666666,\"#ed7953\"],[0.7777777777777778,\"#fb9f3a\"],[0.8888888888888888,\"#fdca26\"],[1.0,\"#f0f921\"]],\"type\":\"heatmapgl\"}],\"heatmap\":[{\"colorbar\":{\"outlinewidth\":0,\"ticks\":\"\"},\"colorscale\":[[0.0,\"#0d0887\"],[0.1111111111111111,\"#46039f\"],[0.2222222222222222,\"#7201a8\"],[0.3333333333333333,\"#9c179e\"],[0.4444444444444444,\"#bd3786\"],[0.5555555555555556,\"#d8576b\"],[0.6666666666666666,\"#ed7953\"],[0.7777777777777778,\"#fb9f3a\"],[0.8888888888888888,\"#fdca26\"],[1.0,\"#f0f921\"]],\"type\":\"heatmap\"}],\"histogram2dcontour\":[{\"colorbar\":{\"outlinewidth\":0,\"ticks\":\"\"},\"colorscale\":[[0.0,\"#0d0887\"],[0.1111111111111111,\"#46039f\"],[0.2222222222222222,\"#7201a8\"],[0.3333333333333333,\"#9c179e\"],[0.4444444444444444,\"#bd3786\"],[0.5555555555555556,\"#d8576b\"],[0.6666666666666666,\"#ed7953\"],[0.7777777777777778,\"#fb9f3a\"],[0.8888888888888888,\"#fdca26\"],[1.0,\"#f0f921\"]],\"type\":\"histogram2dcontour\"}],\"histogram2d\":[{\"colorbar\":{\"outlinewidth\":0,\"ticks\":\"\"},\"colorscale\":[[0.0,\"#0d0887\"],[0.1111111111111111,\"#46039f\"],[0.2222222222222222,\"#7201a8\"],[0.3333333333333333,\"#9c179e\"],[0.4444444444444444,\"#bd3786\"],[0.5555555555555556,\"#d8576b\"],[0.6666666666666666,\"#ed7953\"],[0.7777777777777778,\"#fb9f3a\"],[0.8888888888888888,\"#fdca26\"],[1.0,\"#f0f921\"]],\"type\":\"histogram2d\"}],\"histogram\":[{\"marker\":{\"pattern\":{\"fillmode\":\"overlay\",\"size\":10,\"solidity\":0.2}},\"type\":\"histogram\"}],\"mesh3d\":[{\"colorbar\":{\"outlinewidth\":0,\"ticks\":\"\"},\"type\":\"mesh3d\"}],\"parcoords\":[{\"line\":{\"colorbar\":{\"outlinewidth\":0,\"ticks\":\"\"}},\"type\":\"parcoords\"}],\"pie\":[{\"automargin\":true,\"type\":\"pie\"}],\"scatter3d\":[{\"line\":{\"colorbar\":{\"outlinewidth\":0,\"ticks\":\"\"}},\"marker\":{\"colorbar\":{\"outlinewidth\":0,\"ticks\":\"\"}},\"type\":\"scatter3d\"}],\"scattercarpet\":[{\"marker\":{\"colorbar\":{\"outlinewidth\":0,\"ticks\":\"\"}},\"type\":\"scattercarpet\"}],\"scattergeo\":[{\"marker\":{\"colorbar\":{\"outlinewidth\":0,\"ticks\":\"\"}},\"type\":\"scattergeo\"}],\"scattergl\":[{\"marker\":{\"colorbar\":{\"outlinewidth\":0,\"ticks\":\"\"}},\"type\":\"scattergl\"}],\"scattermapbox\":[{\"marker\":{\"colorbar\":{\"outlinewidth\":0,\"ticks\":\"\"}},\"type\":\"scattermapbox\"}],\"scatterpolargl\":[{\"marker\":{\"colorbar\":{\"outlinewidth\":0,\"ticks\":\"\"}},\"type\":\"scatterpolargl\"}],\"scatterpolar\":[{\"marker\":{\"colorbar\":{\"outlinewidth\":0,\"ticks\":\"\"}},\"type\":\"scatterpolar\"}],\"scatter\":[{\"fillpattern\":{\"fillmode\":\"overlay\",\"size\":10,\"solidity\":0.2},\"type\":\"scatter\"}],\"scatterternary\":[{\"marker\":{\"colorbar\":{\"outlinewidth\":0,\"ticks\":\"\"}},\"type\":\"scatterternary\"}],\"surface\":[{\"colorbar\":{\"outlinewidth\":0,\"ticks\":\"\"},\"colorscale\":[[0.0,\"#0d0887\"],[0.1111111111111111,\"#46039f\"],[0.2222222222222222,\"#7201a8\"],[0.3333333333333333,\"#9c179e\"],[0.4444444444444444,\"#bd3786\"],[0.5555555555555556,\"#d8576b\"],[0.6666666666666666,\"#ed7953\"],[0.7777777777777778,\"#fb9f3a\"],[0.8888888888888888,\"#fdca26\"],[1.0,\"#f0f921\"]],\"type\":\"surface\"}],\"table\":[{\"cells\":{\"fill\":{\"color\":\"#EBF0F8\"},\"line\":{\"color\":\"white\"}},\"header\":{\"fill\":{\"color\":\"#C8D4E3\"},\"line\":{\"color\":\"white\"}},\"type\":\"table\"}]},\"layout\":{\"annotationdefaults\":{\"arrowcolor\":\"#2a3f5f\",\"arrowhead\":0,\"arrowwidth\":1},\"autotypenumbers\":\"strict\",\"coloraxis\":{\"colorbar\":{\"outlinewidth\":0,\"ticks\":\"\"}},\"colorscale\":{\"diverging\":[[0,\"#8e0152\"],[0.1,\"#c51b7d\"],[0.2,\"#de77ae\"],[0.3,\"#f1b6da\"],[0.4,\"#fde0ef\"],[0.5,\"#f7f7f7\"],[0.6,\"#e6f5d0\"],[0.7,\"#b8e186\"],[0.8,\"#7fbc41\"],[0.9,\"#4d9221\"],[1,\"#276419\"]],\"sequential\":[[0.0,\"#0d0887\"],[0.1111111111111111,\"#46039f\"],[0.2222222222222222,\"#7201a8\"],[0.3333333333333333,\"#9c179e\"],[0.4444444444444444,\"#bd3786\"],[0.5555555555555556,\"#d8576b\"],[0.6666666666666666,\"#ed7953\"],[0.7777777777777778,\"#fb9f3a\"],[0.8888888888888888,\"#fdca26\"],[1.0,\"#f0f921\"]],\"sequentialminus\":[[0.0,\"#0d0887\"],[0.1111111111111111,\"#46039f\"],[0.2222222222222222,\"#7201a8\"],[0.3333333333333333,\"#9c179e\"],[0.4444444444444444,\"#bd3786\"],[0.5555555555555556,\"#d8576b\"],[0.6666666666666666,\"#ed7953\"],[0.7777777777777778,\"#fb9f3a\"],[0.8888888888888888,\"#fdca26\"],[1.0,\"#f0f921\"]]},\"colorway\":[\"#636efa\",\"#EF553B\",\"#00cc96\",\"#ab63fa\",\"#FFA15A\",\"#19d3f3\",\"#FF6692\",\"#B6E880\",\"#FF97FF\",\"#FECB52\"],\"font\":{\"color\":\"#2a3f5f\"},\"geo\":{\"bgcolor\":\"white\",\"lakecolor\":\"white\",\"landcolor\":\"white\",\"showlakes\":true,\"showland\":true,\"subunitcolor\":\"#C8D4E3\"},\"hoverlabel\":{\"align\":\"left\"},\"hovermode\":\"closest\",\"mapbox\":{\"style\":\"light\"},\"paper_bgcolor\":\"white\",\"plot_bgcolor\":\"white\",\"polar\":{\"angularaxis\":{\"gridcolor\":\"#EBF0F8\",\"linecolor\":\"#EBF0F8\",\"ticks\":\"\"},\"bgcolor\":\"white\",\"radialaxis\":{\"gridcolor\":\"#EBF0F8\",\"linecolor\":\"#EBF0F8\",\"ticks\":\"\"}},\"scene\":{\"xaxis\":{\"backgroundcolor\":\"white\",\"gridcolor\":\"#DFE8F3\",\"gridwidth\":2,\"linecolor\":\"#EBF0F8\",\"showbackground\":true,\"ticks\":\"\",\"zerolinecolor\":\"#EBF0F8\"},\"yaxis\":{\"backgroundcolor\":\"white\",\"gridcolor\":\"#DFE8F3\",\"gridwidth\":2,\"linecolor\":\"#EBF0F8\",\"showbackground\":true,\"ticks\":\"\",\"zerolinecolor\":\"#EBF0F8\"},\"zaxis\":{\"backgroundcolor\":\"white\",\"gridcolor\":\"#DFE8F3\",\"gridwidth\":2,\"linecolor\":\"#EBF0F8\",\"showbackground\":true,\"ticks\":\"\",\"zerolinecolor\":\"#EBF0F8\"}},\"shapedefaults\":{\"line\":{\"color\":\"#2a3f5f\"}},\"ternary\":{\"aaxis\":{\"gridcolor\":\"#DFE8F3\",\"linecolor\":\"#A2B1C6\",\"ticks\":\"\"},\"baxis\":{\"gridcolor\":\"#DFE8F3\",\"linecolor\":\"#A2B1C6\",\"ticks\":\"\"},\"bgcolor\":\"white\",\"caxis\":{\"gridcolor\":\"#DFE8F3\",\"linecolor\":\"#A2B1C6\",\"ticks\":\"\"}},\"title\":{\"x\":0.05},\"xaxis\":{\"automargin\":true,\"gridcolor\":\"#EBF0F8\",\"linecolor\":\"#EBF0F8\",\"ticks\":\"\",\"title\":{\"standoff\":15},\"zerolinecolor\":\"#EBF0F8\",\"zerolinewidth\":2},\"yaxis\":{\"automargin\":true,\"gridcolor\":\"#EBF0F8\",\"linecolor\":\"#EBF0F8\",\"ticks\":\"\",\"title\":{\"standoff\":15},\"zerolinecolor\":\"#EBF0F8\",\"zerolinewidth\":2}}},\"font\":{\"family\":\"Roboto Serif\",\"color\":\"black\"},\"images\":[{\"sizex\":0.2,\"sizey\":0.2,\"source\":\"https://raw.githubusercontent.com/PolicyEngine/policyengine-app/master/src/images/logos/policyengine/blue.png\",\"x\":1,\"xanchor\":\"right\",\"xref\":\"paper\",\"y\":-0.15,\"yanchor\":\"bottom\",\"yref\":\"paper\"}],\"height\":600,\"width\":800,\"modebar\":{\"bgcolor\":\"rgba(0,0,0,0)\",\"color\":\"rgba(0,0,0,0)\"},\"legend\":{\"orientation\":\"h\",\"yanchor\":\"bottom\",\"y\":-0.3},\"title\":{\"text\":\"Figure 6: Outcome distribution by income decile under a \\\\u00a3300 per month UBI\"}}}'"
      ]
     },
     "execution_count": 10,
     "metadata": {},
     "output_type": "execute_result"
    }
   ],
   "source": [
    "intra_decile_chart(\n",
    "    \"uk\",\n",
    "    model_2_reform.api_id,\n",
    "    \"ni\",\n",
    "    \"2023\",\n",
    ").update_layout(\n",
    "    title=\"Figure 6: Outcome distribution by income decile under a £300 per month UBI\",\n",
    "    legend=dict(\n",
    "        orientation=\"h\",\n",
    "        yanchor=\"bottom\",\n",
    "        y=-0.3,\n",
    "    )\n",
    ").to_json()"
   ]
  },
  {
   "cell_type": "markdown",
   "metadata": {},
   "source": [
    "## [£400 per month option](http://policyengine.org/uk/policy?reform=33124&focus=policyOutput.decileRelativeImpact&region=ni&timePeriod=2023&baseline=1)\n",
    "\n",
    "_£400 per month for adults, funded by repealing the personal allowance and increasing the basic rate by 11.5p_\n",
    "\n",
    "The most generous basic income policy considered is £400 per month for adults, funded by repealing the personal allowance and raising the basic rate to 31.5%, creating a non-progressive nominal tax schedule (though note that the full tax-benefit schedule is already non-progressive). With a total redistribution of £5.7bn in via tax revenues and £6.8bn out via benefit outlays (including the Westminster-funded portion), 70% of individuals see an increase in disposable income. The bottom decile sees an increase of 32% in disposable income, and the top two deciles both fall by around a percentage point.\n"
   ]
  },
  {
   "cell_type": "code",
   "execution_count": 11,
   "metadata": {
    "tags": [
     "hide-input"
    ]
   },
   "outputs": [
    {
     "data": {
      "text/plain": [
       "'{\"data\":[{\"marker\":{\"color\":[\"#2C6496\",\"#2C6496\",\"#2C6496\",\"#2C6496\",\"#2C6496\",\"#2C6496\",\"#2C6496\",\"#616161\",\"#616161\",\"#616161\"]},\"text\":[\"+31.9%\",\"+17.3%\",\"+13.7%\",\"+10.7%\",\"+7.9%\",\"+4.3%\",\"+2.6%\",\"-0.3%\",\"-1.9%\",\"-1.2%\"],\"textangle\":0,\"x\":[1,2,3,4,5,6,7,8,9,10],\"y\":[0.3194963239889924,0.17349061817003847,0.13719340756848736,0.10689866335711037,0.07862217751053611,0.0430376959176412,0.026332703425185337,-0.0032298539143812747,-0.019019497558309093,-0.011719413364036415],\"type\":\"bar\"}],\"layout\":{\"uniformtext\":{\"minsize\":8,\"mode\":\"hide\"},\"xaxis\":{\"tickvals\":[1,2,3,4,5,6,7,8,9,10],\"title\":{\"text\":\"Income decile\"}},\"yaxis\":{\"tickformat\":\"+,.0%\",\"title\":{\"text\":\"Relative change\"}},\"template\":{\"data\":{\"barpolar\":[{\"marker\":{\"line\":{\"color\":\"white\",\"width\":0.5},\"pattern\":{\"fillmode\":\"overlay\",\"size\":10,\"solidity\":0.2}},\"type\":\"barpolar\"}],\"bar\":[{\"error_x\":{\"color\":\"#2a3f5f\"},\"error_y\":{\"color\":\"#2a3f5f\"},\"marker\":{\"line\":{\"color\":\"white\",\"width\":0.5},\"pattern\":{\"fillmode\":\"overlay\",\"size\":10,\"solidity\":0.2}},\"type\":\"bar\"}],\"carpet\":[{\"aaxis\":{\"endlinecolor\":\"#2a3f5f\",\"gridcolor\":\"#C8D4E3\",\"linecolor\":\"#C8D4E3\",\"minorgridcolor\":\"#C8D4E3\",\"startlinecolor\":\"#2a3f5f\"},\"baxis\":{\"endlinecolor\":\"#2a3f5f\",\"gridcolor\":\"#C8D4E3\",\"linecolor\":\"#C8D4E3\",\"minorgridcolor\":\"#C8D4E3\",\"startlinecolor\":\"#2a3f5f\"},\"type\":\"carpet\"}],\"choropleth\":[{\"colorbar\":{\"outlinewidth\":0,\"ticks\":\"\"},\"type\":\"choropleth\"}],\"contourcarpet\":[{\"colorbar\":{\"outlinewidth\":0,\"ticks\":\"\"},\"type\":\"contourcarpet\"}],\"contour\":[{\"colorbar\":{\"outlinewidth\":0,\"ticks\":\"\"},\"colorscale\":[[0.0,\"#0d0887\"],[0.1111111111111111,\"#46039f\"],[0.2222222222222222,\"#7201a8\"],[0.3333333333333333,\"#9c179e\"],[0.4444444444444444,\"#bd3786\"],[0.5555555555555556,\"#d8576b\"],[0.6666666666666666,\"#ed7953\"],[0.7777777777777778,\"#fb9f3a\"],[0.8888888888888888,\"#fdca26\"],[1.0,\"#f0f921\"]],\"type\":\"contour\"}],\"heatmapgl\":[{\"colorbar\":{\"outlinewidth\":0,\"ticks\":\"\"},\"colorscale\":[[0.0,\"#0d0887\"],[0.1111111111111111,\"#46039f\"],[0.2222222222222222,\"#7201a8\"],[0.3333333333333333,\"#9c179e\"],[0.4444444444444444,\"#bd3786\"],[0.5555555555555556,\"#d8576b\"],[0.6666666666666666,\"#ed7953\"],[0.7777777777777778,\"#fb9f3a\"],[0.8888888888888888,\"#fdca26\"],[1.0,\"#f0f921\"]],\"type\":\"heatmapgl\"}],\"heatmap\":[{\"colorbar\":{\"outlinewidth\":0,\"ticks\":\"\"},\"colorscale\":[[0.0,\"#0d0887\"],[0.1111111111111111,\"#46039f\"],[0.2222222222222222,\"#7201a8\"],[0.3333333333333333,\"#9c179e\"],[0.4444444444444444,\"#bd3786\"],[0.5555555555555556,\"#d8576b\"],[0.6666666666666666,\"#ed7953\"],[0.7777777777777778,\"#fb9f3a\"],[0.8888888888888888,\"#fdca26\"],[1.0,\"#f0f921\"]],\"type\":\"heatmap\"}],\"histogram2dcontour\":[{\"colorbar\":{\"outlinewidth\":0,\"ticks\":\"\"},\"colorscale\":[[0.0,\"#0d0887\"],[0.1111111111111111,\"#46039f\"],[0.2222222222222222,\"#7201a8\"],[0.3333333333333333,\"#9c179e\"],[0.4444444444444444,\"#bd3786\"],[0.5555555555555556,\"#d8576b\"],[0.6666666666666666,\"#ed7953\"],[0.7777777777777778,\"#fb9f3a\"],[0.8888888888888888,\"#fdca26\"],[1.0,\"#f0f921\"]],\"type\":\"histogram2dcontour\"}],\"histogram2d\":[{\"colorbar\":{\"outlinewidth\":0,\"ticks\":\"\"},\"colorscale\":[[0.0,\"#0d0887\"],[0.1111111111111111,\"#46039f\"],[0.2222222222222222,\"#7201a8\"],[0.3333333333333333,\"#9c179e\"],[0.4444444444444444,\"#bd3786\"],[0.5555555555555556,\"#d8576b\"],[0.6666666666666666,\"#ed7953\"],[0.7777777777777778,\"#fb9f3a\"],[0.8888888888888888,\"#fdca26\"],[1.0,\"#f0f921\"]],\"type\":\"histogram2d\"}],\"histogram\":[{\"marker\":{\"pattern\":{\"fillmode\":\"overlay\",\"size\":10,\"solidity\":0.2}},\"type\":\"histogram\"}],\"mesh3d\":[{\"colorbar\":{\"outlinewidth\":0,\"ticks\":\"\"},\"type\":\"mesh3d\"}],\"parcoords\":[{\"line\":{\"colorbar\":{\"outlinewidth\":0,\"ticks\":\"\"}},\"type\":\"parcoords\"}],\"pie\":[{\"automargin\":true,\"type\":\"pie\"}],\"scatter3d\":[{\"line\":{\"colorbar\":{\"outlinewidth\":0,\"ticks\":\"\"}},\"marker\":{\"colorbar\":{\"outlinewidth\":0,\"ticks\":\"\"}},\"type\":\"scatter3d\"}],\"scattercarpet\":[{\"marker\":{\"colorbar\":{\"outlinewidth\":0,\"ticks\":\"\"}},\"type\":\"scattercarpet\"}],\"scattergeo\":[{\"marker\":{\"colorbar\":{\"outlinewidth\":0,\"ticks\":\"\"}},\"type\":\"scattergeo\"}],\"scattergl\":[{\"marker\":{\"colorbar\":{\"outlinewidth\":0,\"ticks\":\"\"}},\"type\":\"scattergl\"}],\"scattermapbox\":[{\"marker\":{\"colorbar\":{\"outlinewidth\":0,\"ticks\":\"\"}},\"type\":\"scattermapbox\"}],\"scatterpolargl\":[{\"marker\":{\"colorbar\":{\"outlinewidth\":0,\"ticks\":\"\"}},\"type\":\"scatterpolargl\"}],\"scatterpolar\":[{\"marker\":{\"colorbar\":{\"outlinewidth\":0,\"ticks\":\"\"}},\"type\":\"scatterpolar\"}],\"scatter\":[{\"fillpattern\":{\"fillmode\":\"overlay\",\"size\":10,\"solidity\":0.2},\"type\":\"scatter\"}],\"scatterternary\":[{\"marker\":{\"colorbar\":{\"outlinewidth\":0,\"ticks\":\"\"}},\"type\":\"scatterternary\"}],\"surface\":[{\"colorbar\":{\"outlinewidth\":0,\"ticks\":\"\"},\"colorscale\":[[0.0,\"#0d0887\"],[0.1111111111111111,\"#46039f\"],[0.2222222222222222,\"#7201a8\"],[0.3333333333333333,\"#9c179e\"],[0.4444444444444444,\"#bd3786\"],[0.5555555555555556,\"#d8576b\"],[0.6666666666666666,\"#ed7953\"],[0.7777777777777778,\"#fb9f3a\"],[0.8888888888888888,\"#fdca26\"],[1.0,\"#f0f921\"]],\"type\":\"surface\"}],\"table\":[{\"cells\":{\"fill\":{\"color\":\"#EBF0F8\"},\"line\":{\"color\":\"white\"}},\"header\":{\"fill\":{\"color\":\"#C8D4E3\"},\"line\":{\"color\":\"white\"}},\"type\":\"table\"}]},\"layout\":{\"annotationdefaults\":{\"arrowcolor\":\"#2a3f5f\",\"arrowhead\":0,\"arrowwidth\":1},\"autotypenumbers\":\"strict\",\"coloraxis\":{\"colorbar\":{\"outlinewidth\":0,\"ticks\":\"\"}},\"colorscale\":{\"diverging\":[[0,\"#8e0152\"],[0.1,\"#c51b7d\"],[0.2,\"#de77ae\"],[0.3,\"#f1b6da\"],[0.4,\"#fde0ef\"],[0.5,\"#f7f7f7\"],[0.6,\"#e6f5d0\"],[0.7,\"#b8e186\"],[0.8,\"#7fbc41\"],[0.9,\"#4d9221\"],[1,\"#276419\"]],\"sequential\":[[0.0,\"#0d0887\"],[0.1111111111111111,\"#46039f\"],[0.2222222222222222,\"#7201a8\"],[0.3333333333333333,\"#9c179e\"],[0.4444444444444444,\"#bd3786\"],[0.5555555555555556,\"#d8576b\"],[0.6666666666666666,\"#ed7953\"],[0.7777777777777778,\"#fb9f3a\"],[0.8888888888888888,\"#fdca26\"],[1.0,\"#f0f921\"]],\"sequentialminus\":[[0.0,\"#0d0887\"],[0.1111111111111111,\"#46039f\"],[0.2222222222222222,\"#7201a8\"],[0.3333333333333333,\"#9c179e\"],[0.4444444444444444,\"#bd3786\"],[0.5555555555555556,\"#d8576b\"],[0.6666666666666666,\"#ed7953\"],[0.7777777777777778,\"#fb9f3a\"],[0.8888888888888888,\"#fdca26\"],[1.0,\"#f0f921\"]]},\"colorway\":[\"#636efa\",\"#EF553B\",\"#00cc96\",\"#ab63fa\",\"#FFA15A\",\"#19d3f3\",\"#FF6692\",\"#B6E880\",\"#FF97FF\",\"#FECB52\"],\"font\":{\"color\":\"#2a3f5f\"},\"geo\":{\"bgcolor\":\"white\",\"lakecolor\":\"white\",\"landcolor\":\"white\",\"showlakes\":true,\"showland\":true,\"subunitcolor\":\"#C8D4E3\"},\"hoverlabel\":{\"align\":\"left\"},\"hovermode\":\"closest\",\"mapbox\":{\"style\":\"light\"},\"paper_bgcolor\":\"white\",\"plot_bgcolor\":\"white\",\"polar\":{\"angularaxis\":{\"gridcolor\":\"#EBF0F8\",\"linecolor\":\"#EBF0F8\",\"ticks\":\"\"},\"bgcolor\":\"white\",\"radialaxis\":{\"gridcolor\":\"#EBF0F8\",\"linecolor\":\"#EBF0F8\",\"ticks\":\"\"}},\"scene\":{\"xaxis\":{\"backgroundcolor\":\"white\",\"gridcolor\":\"#DFE8F3\",\"gridwidth\":2,\"linecolor\":\"#EBF0F8\",\"showbackground\":true,\"ticks\":\"\",\"zerolinecolor\":\"#EBF0F8\"},\"yaxis\":{\"backgroundcolor\":\"white\",\"gridcolor\":\"#DFE8F3\",\"gridwidth\":2,\"linecolor\":\"#EBF0F8\",\"showbackground\":true,\"ticks\":\"\",\"zerolinecolor\":\"#EBF0F8\"},\"zaxis\":{\"backgroundcolor\":\"white\",\"gridcolor\":\"#DFE8F3\",\"gridwidth\":2,\"linecolor\":\"#EBF0F8\",\"showbackground\":true,\"ticks\":\"\",\"zerolinecolor\":\"#EBF0F8\"}},\"shapedefaults\":{\"line\":{\"color\":\"#2a3f5f\"}},\"ternary\":{\"aaxis\":{\"gridcolor\":\"#DFE8F3\",\"linecolor\":\"#A2B1C6\",\"ticks\":\"\"},\"baxis\":{\"gridcolor\":\"#DFE8F3\",\"linecolor\":\"#A2B1C6\",\"ticks\":\"\"},\"bgcolor\":\"white\",\"caxis\":{\"gridcolor\":\"#DFE8F3\",\"linecolor\":\"#A2B1C6\",\"ticks\":\"\"}},\"title\":{\"x\":0.05},\"xaxis\":{\"automargin\":true,\"gridcolor\":\"#EBF0F8\",\"linecolor\":\"#EBF0F8\",\"ticks\":\"\",\"title\":{\"standoff\":15},\"zerolinecolor\":\"#EBF0F8\",\"zerolinewidth\":2},\"yaxis\":{\"automargin\":true,\"gridcolor\":\"#EBF0F8\",\"linecolor\":\"#EBF0F8\",\"ticks\":\"\",\"title\":{\"standoff\":15},\"zerolinecolor\":\"#EBF0F8\",\"zerolinewidth\":2}}},\"font\":{\"family\":\"Roboto Serif\",\"color\":\"black\"},\"images\":[{\"sizex\":0.2,\"sizey\":0.2,\"source\":\"https://raw.githubusercontent.com/PolicyEngine/policyengine-app/master/src/images/logos/policyengine/blue.png\",\"x\":1,\"xanchor\":\"right\",\"xref\":\"paper\",\"y\":-0.15,\"yanchor\":\"bottom\",\"yref\":\"paper\"}],\"height\":600,\"width\":800,\"modebar\":{\"bgcolor\":\"rgba(0,0,0,0)\",\"color\":\"rgba(0,0,0,0)\"},\"title\":{\"text\":\"Figure 7: Change to net income by income decile under a \\\\u00a3400 per month UBI\"}}}'"
      ]
     },
     "execution_count": 11,
     "metadata": {},
     "output_type": "execute_result"
    }
   ],
   "source": [
    "decile_chart(\n",
    "    \"uk\",\n",
    "    model_3_reform.api_id,\n",
    "    \"ni\",\n",
    "    \"2023\",\n",
    ").update_layout(\n",
    "    title=\"Figure 7: Change to net income by income decile under a £400 per month UBI\"\n",
    ").to_json()"
   ]
  },
  {
   "cell_type": "markdown",
   "metadata": {},
   "source": [
    "The share of individuals who see gains greater than 5% rises slightly to 59%.\n"
   ]
  },
  {
   "cell_type": "code",
   "execution_count": 12,
   "metadata": {
    "tags": [
     "hide-input"
    ]
   },
   "outputs": [
    {
     "data": {
      "text/plain": [
       "'{\"data\":[{\"hoverinfo\":\"none\",\"legendgroup\":\"Gain more than 5%\",\"marker\":{\"color\":\"#2C6496\",\"line\":{\"width\":0}},\"name\":\"Gain more than 5%\",\"offsetgroup\":\"Gain more than 5%\",\"orientation\":\"h\",\"showlegend\":false,\"text\":[\"59%\"],\"textangle\":0,\"textposition\":\"inside\",\"x\":[0.5897706625420935],\"xaxis\":\"x\",\"y\":[\"All\"],\"yaxis\":\"y\",\"type\":\"bar\",\"width\":[0.9,0.9,0.9,0.9,0.9,0.9,0.9,0.9,0.9,0.9]},{\"hoverinfo\":\"none\",\"legendgroup\":\"Gain less than 5%\",\"marker\":{\"color\":\"#D8E6F3\",\"line\":{\"width\":0}},\"name\":\"Gain less than 5%\",\"offsetgroup\":\"Gain less than 5%\",\"orientation\":\"h\",\"showlegend\":false,\"text\":[\"10%\"],\"textangle\":0,\"textposition\":\"inside\",\"x\":[0.10100524231288784],\"xaxis\":\"x\",\"y\":[\"All\"],\"yaxis\":\"y\",\"type\":\"bar\",\"width\":[0.9,0.9,0.9,0.9,0.9,0.9,0.9,0.9,0.9,0.9]},{\"hoverinfo\":\"none\",\"legendgroup\":\"No change\",\"marker\":{\"color\":\"#FFFFFF\",\"line\":{\"width\":0}},\"name\":\"No change\",\"offsetgroup\":\"No change\",\"orientation\":\"h\",\"showlegend\":false,\"text\":[\"1%\"],\"textangle\":0,\"textposition\":\"inside\",\"x\":[0.0075927410895056165],\"xaxis\":\"x\",\"y\":[\"All\"],\"yaxis\":\"y\",\"type\":\"bar\",\"width\":[0.9,0.9,0.9,0.9,0.9,0.9,0.9,0.9,0.9,0.9]},{\"hoverinfo\":\"none\",\"legendgroup\":\"Lose less than 5%\",\"marker\":{\"color\":\"#D2D2D2\",\"line\":{\"width\":0}},\"name\":\"Lose less than 5%\",\"offsetgroup\":\"Lose less than 5%\",\"orientation\":\"h\",\"showlegend\":false,\"text\":[\"13%\"],\"textangle\":0,\"textposition\":\"inside\",\"x\":[0.12554163936489862],\"xaxis\":\"x\",\"y\":[\"All\"],\"yaxis\":\"y\",\"type\":\"bar\",\"width\":[0.9,0.9,0.9,0.9,0.9,0.9,0.9,0.9,0.9,0.9]},{\"hoverinfo\":\"none\",\"legendgroup\":\"Lose more than 5%\",\"marker\":{\"color\":\"#616161\",\"line\":{\"width\":0}},\"name\":\"Lose more than 5%\",\"offsetgroup\":\"Lose more than 5%\",\"orientation\":\"h\",\"showlegend\":false,\"text\":[\"18%\"],\"textangle\":0,\"textposition\":\"inside\",\"x\":[0.17608971469061435],\"xaxis\":\"x\",\"y\":[\"All\"],\"yaxis\":\"y\",\"type\":\"bar\",\"width\":[0.9,0.9,0.9,0.9,0.9,0.9,0.9,0.9,0.9,0.9]},{\"hoverinfo\":\"none\",\"marker\":{\"color\":\"#2C6496\",\"line\":{\"width\":0}},\"name\":\"Gain more than 5%\",\"orientation\":\"h\",\"text\":[\"99%\",\"80%\",\"84%\",\"95%\",\"65%\",\"52%\",\"47%\",\"26%\",\"24%\",\"17%\"],\"textangle\":0,\"textposition\":\"inside\",\"x\":[0.98595420637865,0.8006286013232689,0.8436123075493216,0.9505634982793333,0.6493469044993267,0.5226263989139772,0.47057673419650886,0.25971065368434526,0.24239078296596453,0.17229653763023917],\"xaxis\":\"x2\",\"y\":[1,2,3,4,5,6,7,8,9,10],\"yaxis\":\"y2\",\"type\":\"bar\",\"width\":[0.9,0.9,0.9,0.9,0.9,0.9,0.9,0.9,0.9,0.9]},{\"hoverinfo\":\"none\",\"marker\":{\"color\":\"#D8E6F3\",\"line\":{\"width\":0}},\"name\":\"Gain less than 5%\",\"orientation\":\"h\",\"text\":[\"1%\",\"6%\",\"1%\",\"3%\",\"22%\",\"12%\",\"3%\",\"9%\",\"12%\",\"31%\"],\"textangle\":0,\"textposition\":\"inside\",\"x\":[0.013745626334114722,0.06192671392462246,0.009028514001552312,0.02828564897618311,0.2233680261861089,0.11997581515375476,0.03286388464761898,0.09411228996673139,0.11740102742709133,0.30934487651110026],\"xaxis\":\"x2\",\"y\":[1,2,3,4,5,6,7,8,9,10],\"yaxis\":\"y2\",\"type\":\"bar\",\"width\":[0.9,0.9,0.9,0.9,0.9,0.9,0.9,0.9,0.9,0.9]},{\"hoverinfo\":\"none\",\"marker\":{\"color\":\"#FFFFFF\",\"line\":{\"width\":0}},\"name\":\"No change\",\"orientation\":\"h\",\"text\":[\"0%\",\"0%\",\"0%\",\"0%\",\"0%\",\"0%\",\"0%\",\"3%\",\"0%\",\"5%\"],\"textangle\":0,\"textposition\":\"inside\",\"x\":[0.0,0.0,0.0,0.0,0.0,0.0,0.0,0.025149944197755663,0.0,0.0507774666973005],\"xaxis\":\"x2\",\"y\":[1,2,3,4,5,6,7,8,9,10],\"yaxis\":\"y2\",\"type\":\"bar\",\"width\":[0.9,0.9,0.9,0.9,0.9,0.9,0.9,0.9,0.9,0.9]},{\"hoverinfo\":\"none\",\"marker\":{\"color\":\"#D2D2D2\",\"line\":{\"width\":0}},\"name\":\"Lose less than 5%\",\"orientation\":\"h\",\"text\":[\"0%\",\"11%\",\"3%\",\"0%\",\"10%\",\"34%\",\"28%\",\"9%\",\"12%\",\"18%\"],\"textangle\":0,\"textposition\":\"inside\",\"x\":[0.0003001672872352223,0.11037469961930725,0.03298699966822044,0.0,0.09975624690636738,0.3432930141117615,0.27613583145184717,0.08789167703920892,0.1248849015336962,0.17979285603134224],\"xaxis\":\"x2\",\"y\":[1,2,3,4,5,6,7,8,9,10],\"yaxis\":\"y2\",\"type\":\"bar\",\"width\":[0.9,0.9,0.9,0.9,0.9,0.9,0.9,0.9,0.9,0.9]},{\"hoverinfo\":\"none\",\"marker\":{\"color\":\"#616161\",\"line\":{\"width\":0}},\"name\":\"Lose more than 5%\",\"orientation\":\"h\",\"text\":[\"0%\",\"3%\",\"11%\",\"2%\",\"3%\",\"1%\",\"22%\",\"53%\",\"52%\",\"29%\"],\"textangle\":0,\"textposition\":\"inside\",\"x\":[0.0,0.027069985132801448,0.11437217878090568,0.021150852744483608,0.02752882240819698,0.01410477182050651,0.22042354970402497,0.5331354351119588,0.5153232880732479,0.2877882631300178],\"xaxis\":\"x2\",\"y\":[1,2,3,4,5,6,7,8,9,10],\"yaxis\":\"y2\",\"type\":\"bar\",\"width\":[0.9,0.9,0.9,0.9,0.9,0.9,0.9,0.9,0.9,0.9]}],\"layout\":{\"barmode\":\"stack\",\"grid\":{\"columns\":1,\"rows\":2},\"uniformtext\":{\"minsize\":10,\"mode\":\"hide\"},\"xaxis\":{\"anchor\":\"y\",\"matches\":\"x2\",\"showgrid\":false,\"showticklabels\":false,\"tickformat\":\".0%\",\"title\":{\"text\":\"\"}},\"yaxis\":{\"domain\":[0.91,1],\"tickvals\":[\"All\"],\"title\":{\"text\":\"\"}},\"xaxis2\":{\"anchor\":\"y2\",\"tickformat\":\".0%\",\"title\":{\"text\":\"Population share\"}},\"yaxis2\":{\"anchor\":\"x2\",\"domain\":[0,0.85],\"tickvals\":[1,2,3,4,5,6,7,8,9,10],\"title\":{\"text\":\"Income decile\"}},\"template\":{\"data\":{\"barpolar\":[{\"marker\":{\"line\":{\"color\":\"white\",\"width\":0.5},\"pattern\":{\"fillmode\":\"overlay\",\"size\":10,\"solidity\":0.2}},\"type\":\"barpolar\"}],\"bar\":[{\"error_x\":{\"color\":\"#2a3f5f\"},\"error_y\":{\"color\":\"#2a3f5f\"},\"marker\":{\"line\":{\"color\":\"white\",\"width\":0.5},\"pattern\":{\"fillmode\":\"overlay\",\"size\":10,\"solidity\":0.2}},\"type\":\"bar\"}],\"carpet\":[{\"aaxis\":{\"endlinecolor\":\"#2a3f5f\",\"gridcolor\":\"#C8D4E3\",\"linecolor\":\"#C8D4E3\",\"minorgridcolor\":\"#C8D4E3\",\"startlinecolor\":\"#2a3f5f\"},\"baxis\":{\"endlinecolor\":\"#2a3f5f\",\"gridcolor\":\"#C8D4E3\",\"linecolor\":\"#C8D4E3\",\"minorgridcolor\":\"#C8D4E3\",\"startlinecolor\":\"#2a3f5f\"},\"type\":\"carpet\"}],\"choropleth\":[{\"colorbar\":{\"outlinewidth\":0,\"ticks\":\"\"},\"type\":\"choropleth\"}],\"contourcarpet\":[{\"colorbar\":{\"outlinewidth\":0,\"ticks\":\"\"},\"type\":\"contourcarpet\"}],\"contour\":[{\"colorbar\":{\"outlinewidth\":0,\"ticks\":\"\"},\"colorscale\":[[0.0,\"#0d0887\"],[0.1111111111111111,\"#46039f\"],[0.2222222222222222,\"#7201a8\"],[0.3333333333333333,\"#9c179e\"],[0.4444444444444444,\"#bd3786\"],[0.5555555555555556,\"#d8576b\"],[0.6666666666666666,\"#ed7953\"],[0.7777777777777778,\"#fb9f3a\"],[0.8888888888888888,\"#fdca26\"],[1.0,\"#f0f921\"]],\"type\":\"contour\"}],\"heatmapgl\":[{\"colorbar\":{\"outlinewidth\":0,\"ticks\":\"\"},\"colorscale\":[[0.0,\"#0d0887\"],[0.1111111111111111,\"#46039f\"],[0.2222222222222222,\"#7201a8\"],[0.3333333333333333,\"#9c179e\"],[0.4444444444444444,\"#bd3786\"],[0.5555555555555556,\"#d8576b\"],[0.6666666666666666,\"#ed7953\"],[0.7777777777777778,\"#fb9f3a\"],[0.8888888888888888,\"#fdca26\"],[1.0,\"#f0f921\"]],\"type\":\"heatmapgl\"}],\"heatmap\":[{\"colorbar\":{\"outlinewidth\":0,\"ticks\":\"\"},\"colorscale\":[[0.0,\"#0d0887\"],[0.1111111111111111,\"#46039f\"],[0.2222222222222222,\"#7201a8\"],[0.3333333333333333,\"#9c179e\"],[0.4444444444444444,\"#bd3786\"],[0.5555555555555556,\"#d8576b\"],[0.6666666666666666,\"#ed7953\"],[0.7777777777777778,\"#fb9f3a\"],[0.8888888888888888,\"#fdca26\"],[1.0,\"#f0f921\"]],\"type\":\"heatmap\"}],\"histogram2dcontour\":[{\"colorbar\":{\"outlinewidth\":0,\"ticks\":\"\"},\"colorscale\":[[0.0,\"#0d0887\"],[0.1111111111111111,\"#46039f\"],[0.2222222222222222,\"#7201a8\"],[0.3333333333333333,\"#9c179e\"],[0.4444444444444444,\"#bd3786\"],[0.5555555555555556,\"#d8576b\"],[0.6666666666666666,\"#ed7953\"],[0.7777777777777778,\"#fb9f3a\"],[0.8888888888888888,\"#fdca26\"],[1.0,\"#f0f921\"]],\"type\":\"histogram2dcontour\"}],\"histogram2d\":[{\"colorbar\":{\"outlinewidth\":0,\"ticks\":\"\"},\"colorscale\":[[0.0,\"#0d0887\"],[0.1111111111111111,\"#46039f\"],[0.2222222222222222,\"#7201a8\"],[0.3333333333333333,\"#9c179e\"],[0.4444444444444444,\"#bd3786\"],[0.5555555555555556,\"#d8576b\"],[0.6666666666666666,\"#ed7953\"],[0.7777777777777778,\"#fb9f3a\"],[0.8888888888888888,\"#fdca26\"],[1.0,\"#f0f921\"]],\"type\":\"histogram2d\"}],\"histogram\":[{\"marker\":{\"pattern\":{\"fillmode\":\"overlay\",\"size\":10,\"solidity\":0.2}},\"type\":\"histogram\"}],\"mesh3d\":[{\"colorbar\":{\"outlinewidth\":0,\"ticks\":\"\"},\"type\":\"mesh3d\"}],\"parcoords\":[{\"line\":{\"colorbar\":{\"outlinewidth\":0,\"ticks\":\"\"}},\"type\":\"parcoords\"}],\"pie\":[{\"automargin\":true,\"type\":\"pie\"}],\"scatter3d\":[{\"line\":{\"colorbar\":{\"outlinewidth\":0,\"ticks\":\"\"}},\"marker\":{\"colorbar\":{\"outlinewidth\":0,\"ticks\":\"\"}},\"type\":\"scatter3d\"}],\"scattercarpet\":[{\"marker\":{\"colorbar\":{\"outlinewidth\":0,\"ticks\":\"\"}},\"type\":\"scattercarpet\"}],\"scattergeo\":[{\"marker\":{\"colorbar\":{\"outlinewidth\":0,\"ticks\":\"\"}},\"type\":\"scattergeo\"}],\"scattergl\":[{\"marker\":{\"colorbar\":{\"outlinewidth\":0,\"ticks\":\"\"}},\"type\":\"scattergl\"}],\"scattermapbox\":[{\"marker\":{\"colorbar\":{\"outlinewidth\":0,\"ticks\":\"\"}},\"type\":\"scattermapbox\"}],\"scatterpolargl\":[{\"marker\":{\"colorbar\":{\"outlinewidth\":0,\"ticks\":\"\"}},\"type\":\"scatterpolargl\"}],\"scatterpolar\":[{\"marker\":{\"colorbar\":{\"outlinewidth\":0,\"ticks\":\"\"}},\"type\":\"scatterpolar\"}],\"scatter\":[{\"fillpattern\":{\"fillmode\":\"overlay\",\"size\":10,\"solidity\":0.2},\"type\":\"scatter\"}],\"scatterternary\":[{\"marker\":{\"colorbar\":{\"outlinewidth\":0,\"ticks\":\"\"}},\"type\":\"scatterternary\"}],\"surface\":[{\"colorbar\":{\"outlinewidth\":0,\"ticks\":\"\"},\"colorscale\":[[0.0,\"#0d0887\"],[0.1111111111111111,\"#46039f\"],[0.2222222222222222,\"#7201a8\"],[0.3333333333333333,\"#9c179e\"],[0.4444444444444444,\"#bd3786\"],[0.5555555555555556,\"#d8576b\"],[0.6666666666666666,\"#ed7953\"],[0.7777777777777778,\"#fb9f3a\"],[0.8888888888888888,\"#fdca26\"],[1.0,\"#f0f921\"]],\"type\":\"surface\"}],\"table\":[{\"cells\":{\"fill\":{\"color\":\"#EBF0F8\"},\"line\":{\"color\":\"white\"}},\"header\":{\"fill\":{\"color\":\"#C8D4E3\"},\"line\":{\"color\":\"white\"}},\"type\":\"table\"}]},\"layout\":{\"annotationdefaults\":{\"arrowcolor\":\"#2a3f5f\",\"arrowhead\":0,\"arrowwidth\":1},\"autotypenumbers\":\"strict\",\"coloraxis\":{\"colorbar\":{\"outlinewidth\":0,\"ticks\":\"\"}},\"colorscale\":{\"diverging\":[[0,\"#8e0152\"],[0.1,\"#c51b7d\"],[0.2,\"#de77ae\"],[0.3,\"#f1b6da\"],[0.4,\"#fde0ef\"],[0.5,\"#f7f7f7\"],[0.6,\"#e6f5d0\"],[0.7,\"#b8e186\"],[0.8,\"#7fbc41\"],[0.9,\"#4d9221\"],[1,\"#276419\"]],\"sequential\":[[0.0,\"#0d0887\"],[0.1111111111111111,\"#46039f\"],[0.2222222222222222,\"#7201a8\"],[0.3333333333333333,\"#9c179e\"],[0.4444444444444444,\"#bd3786\"],[0.5555555555555556,\"#d8576b\"],[0.6666666666666666,\"#ed7953\"],[0.7777777777777778,\"#fb9f3a\"],[0.8888888888888888,\"#fdca26\"],[1.0,\"#f0f921\"]],\"sequentialminus\":[[0.0,\"#0d0887\"],[0.1111111111111111,\"#46039f\"],[0.2222222222222222,\"#7201a8\"],[0.3333333333333333,\"#9c179e\"],[0.4444444444444444,\"#bd3786\"],[0.5555555555555556,\"#d8576b\"],[0.6666666666666666,\"#ed7953\"],[0.7777777777777778,\"#fb9f3a\"],[0.8888888888888888,\"#fdca26\"],[1.0,\"#f0f921\"]]},\"colorway\":[\"#636efa\",\"#EF553B\",\"#00cc96\",\"#ab63fa\",\"#FFA15A\",\"#19d3f3\",\"#FF6692\",\"#B6E880\",\"#FF97FF\",\"#FECB52\"],\"font\":{\"color\":\"#2a3f5f\"},\"geo\":{\"bgcolor\":\"white\",\"lakecolor\":\"white\",\"landcolor\":\"white\",\"showlakes\":true,\"showland\":true,\"subunitcolor\":\"#C8D4E3\"},\"hoverlabel\":{\"align\":\"left\"},\"hovermode\":\"closest\",\"mapbox\":{\"style\":\"light\"},\"paper_bgcolor\":\"white\",\"plot_bgcolor\":\"white\",\"polar\":{\"angularaxis\":{\"gridcolor\":\"#EBF0F8\",\"linecolor\":\"#EBF0F8\",\"ticks\":\"\"},\"bgcolor\":\"white\",\"radialaxis\":{\"gridcolor\":\"#EBF0F8\",\"linecolor\":\"#EBF0F8\",\"ticks\":\"\"}},\"scene\":{\"xaxis\":{\"backgroundcolor\":\"white\",\"gridcolor\":\"#DFE8F3\",\"gridwidth\":2,\"linecolor\":\"#EBF0F8\",\"showbackground\":true,\"ticks\":\"\",\"zerolinecolor\":\"#EBF0F8\"},\"yaxis\":{\"backgroundcolor\":\"white\",\"gridcolor\":\"#DFE8F3\",\"gridwidth\":2,\"linecolor\":\"#EBF0F8\",\"showbackground\":true,\"ticks\":\"\",\"zerolinecolor\":\"#EBF0F8\"},\"zaxis\":{\"backgroundcolor\":\"white\",\"gridcolor\":\"#DFE8F3\",\"gridwidth\":2,\"linecolor\":\"#EBF0F8\",\"showbackground\":true,\"ticks\":\"\",\"zerolinecolor\":\"#EBF0F8\"}},\"shapedefaults\":{\"line\":{\"color\":\"#2a3f5f\"}},\"ternary\":{\"aaxis\":{\"gridcolor\":\"#DFE8F3\",\"linecolor\":\"#A2B1C6\",\"ticks\":\"\"},\"baxis\":{\"gridcolor\":\"#DFE8F3\",\"linecolor\":\"#A2B1C6\",\"ticks\":\"\"},\"bgcolor\":\"white\",\"caxis\":{\"gridcolor\":\"#DFE8F3\",\"linecolor\":\"#A2B1C6\",\"ticks\":\"\"}},\"title\":{\"x\":0.05},\"xaxis\":{\"automargin\":true,\"gridcolor\":\"#EBF0F8\",\"linecolor\":\"#EBF0F8\",\"ticks\":\"\",\"title\":{\"standoff\":15},\"zerolinecolor\":\"#EBF0F8\",\"zerolinewidth\":2},\"yaxis\":{\"automargin\":true,\"gridcolor\":\"#EBF0F8\",\"linecolor\":\"#EBF0F8\",\"ticks\":\"\",\"title\":{\"standoff\":15},\"zerolinecolor\":\"#EBF0F8\",\"zerolinewidth\":2}}},\"font\":{\"family\":\"Roboto Serif\",\"color\":\"black\"},\"images\":[{\"sizex\":0.2,\"sizey\":0.2,\"source\":\"https://raw.githubusercontent.com/PolicyEngine/policyengine-app/master/src/images/logos/policyengine/blue.png\",\"x\":1,\"xanchor\":\"right\",\"xref\":\"paper\",\"y\":-0.15,\"yanchor\":\"bottom\",\"yref\":\"paper\"}],\"height\":600,\"width\":800,\"modebar\":{\"bgcolor\":\"rgba(0,0,0,0)\",\"color\":\"rgba(0,0,0,0)\"},\"legend\":{\"orientation\":\"h\",\"yanchor\":\"bottom\",\"y\":-0.3},\"title\":{\"text\":\"Figure 8: Outcome distribution by income decile under a \\\\u00a3400 per month UBI\"}}}'"
      ]
     },
     "execution_count": 12,
     "metadata": {},
     "output_type": "execute_result"
    }
   ],
   "source": [
    "intra_decile_chart(\n",
    "    \"uk\",\n",
    "    model_3_reform.api_id,\n",
    "    \"ni\",\n",
    "    \"2023\",\n",
    ").update_layout(\n",
    "    title=\"Figure 8: Outcome distribution by income decile under a £400 per month UBI\",\n",
    "    legend=dict(\n",
    "        orientation=\"h\",\n",
    "        yanchor=\"bottom\",\n",
    "        y=-0.3,\n",
    "    )\n",
    ").to_json()"
   ]
  },
  {
   "cell_type": "markdown",
   "metadata": {},
   "source": [
    "## Household impacts\n",
    "\n",
    "For individual households, each policy changes how the tax-benefit system shapes net incomes in response to earnings. To show this, we continue examining our three policies through the lenses of three example households: a single adult, a married couple with two children, and a pensioner couple.\n",
    "\n",
    "### Net income\n",
    "\n",
    "A single adult with no children is a net beneficiary under all three policies only until they reach £21,000 in employment income.[^10] Before this break-even point, the policy that most benefits them is the £400 per month UBI. After that threshold, their net income rises more slowly than it would have under the baseline policy, and their policy preference would flip: The £400 and £300 per month UBI policies (which have higher tax increases) are worse for their net income. However, this preference only lasts until after the personal allowance phase-out at £125,140: the £400 per month UBI quickly becomes the best policy due to its 0-point changes to the higher and additional rates of income tax.\n",
    "\n",
    "[^10]: We vary the employment income of only one earner, holding the other (if they exist) at zero.\n"
   ]
  },
  {
   "cell_type": "code",
   "execution_count": 13,
   "metadata": {
    "tags": [
     "hide-input"
    ]
   },
   "outputs": [],
   "source": [
    "import plotly.express as px\n",
    "from policyengine_uk import Simulation\n",
    "import pandas as pd\n",
    "\n",
    "SINGLE_NO_CHILDREN = {\n",
    "    \"people\": {\n",
    "        \"adult\": {\n",
    "            \"age\": 25,\n",
    "        }\n",
    "    },\n",
    "    \"benunits\": {\n",
    "        \"benunit\": {\n",
    "            \"members\": [\"adult\"],\n",
    "            \"claims_legacy_benefits\": False,\n",
    "            \"claims_all_entitled_benefits\": True,\n",
    "        }\n",
    "    },\n",
    "    \"households\": {\n",
    "        \"household\": {\n",
    "            \"members\": [\"adult\"],\n",
    "            \"would_evade_tv_licence_fee\": False,\n",
    "            \"household_owns_tv\": True,\n",
    "        }\n",
    "    },\n",
    "    \"axes\": [[{\n",
    "        \"name\": \"employment_income\",\n",
    "        \"min\": 0,\n",
    "        \"max\": 100_000,\n",
    "        \"count\": 100,\n",
    "    }]],\n",
    "}\n",
    "\n",
    "MARRIED_TWO_CHILDREN = {\n",
    "    \"people\": {\n",
    "        \"adult_1\": {\n",
    "            \"age\": 31,\n",
    "        },\n",
    "        \"adult_2\": {\n",
    "            \"age\": 30,\n",
    "        },\n",
    "        \"child_1\": {\n",
    "            \"age\": 4,\n",
    "        },\n",
    "        \"child_2\": {\n",
    "            \"age\": 6,\n",
    "        },\n",
    "    },\n",
    "    \"benunits\": {\n",
    "        \"benunit\": {\n",
    "            \"members\": [\"adult_1\", \"adult_2\", \"child_1\", \"child_2\"],\n",
    "            \"claims_legacy_benefits\": False,\n",
    "            \"claims_all_entitled_benefits\": True,\n",
    "        }\n",
    "    },\n",
    "    \"households\": {\n",
    "        \"household\": {\n",
    "            \"members\": [\"adult_1\", \"adult_2\", \"child_1\", \"child_2\"],\n",
    "            \"would_evade_tv_licence_fee\": False,\n",
    "            \"household_owns_tv\": True,\n",
    "        }\n",
    "    },\n",
    "    \"axes\": [[{\n",
    "        \"name\": \"employment_income\",\n",
    "        \"min\": 0,\n",
    "        \"max\": 100_000,\n",
    "        \"count\": 100,\n",
    "    }]],\n",
    "}\n",
    "\n",
    "PENSIONER_COUPLE_NO_CHILDREN = {\n",
    "    \"people\": {\n",
    "        \"adult_1\": {\n",
    "            \"age\": 70,\n",
    "        },\n",
    "        \"adult_2\": {\n",
    "            \"age\": 71,\n",
    "        }\n",
    "    },\n",
    "    \"benunits\": {\n",
    "        \"benunit\": {\n",
    "            \"members\": [\"adult_1\", \"adult_2\"],\n",
    "            \"claims_legacy_benefits\": False,\n",
    "            \"claims_all_entitled_benefits\": True,\n",
    "        }\n",
    "    },\n",
    "    \"households\": {\n",
    "        \"household\": {\n",
    "            \"members\": [\"adult_1\", \"adult_2\"],\n",
    "            \"would_evade_tv_licence_fee\": False,\n",
    "            \"household_owns_tv\": True,\n",
    "        }\n",
    "    },\n",
    "    \"axes\": [[{\n",
    "        \"name\": \"employment_income\",\n",
    "        \"min\": 0,\n",
    "        \"max\": 100_000,\n",
    "        \"count\": 100,\n",
    "    }]],\n",
    "}\n",
    "dfs = []\n",
    "for reform, policy_name in zip([model_1_reform, model_2_reform, model_3_reform], [\"£200/month\", \"£300/month\", \"£400/month\"]):\n",
    "    for household_type, household_name in zip(\n",
    "        [SINGLE_NO_CHILDREN, MARRIED_TWO_CHILDREN, PENSIONER_COUPLE_NO_CHILDREN],\n",
    "        [\"Single adult, no children\", \"Married couple, two children\", \"Pensioner couple, no children\"],\n",
    "    ):\n",
    "        baseline_sim = Simulation(situation=household_type)\n",
    "        sim = Simulation(situation=household_type, reform=reform)\n",
    "        net_income = sim.calculate(\"household_net_income\", 2023) - baseline_sim.calculate(\"household_net_income\", 2023)\n",
    "        earnings = sim.calculate(\"employment_income\", map_to=\"household\", period=2023)\n",
    "        df = pd.DataFrame({\"Policy\": policy_name, \"Net income\": net_income, \"Earnings\": earnings, \"Household type\": household_name})\n",
    "        dfs.append(df)\n",
    "\n",
    "df = pd.concat(dfs)"
   ]
  },
  {
   "cell_type": "code",
   "execution_count": 14,
   "metadata": {
    "tags": [
     "hide-input"
    ]
   },
   "outputs": [
    {
     "data": {
      "text/plain": [
       "'{\"data\":[{\"hovertemplate\":\"Policy=\\\\u00a3200/month<br>Earnings=%{x}<br>Net income=%{y}<extra></extra>\",\"legendgroup\":\"\\\\u00a3200/month\",\"line\":{\"color\":\"#D8E6F3\",\"dash\":\"solid\"},\"marker\":{\"symbol\":\"circle\"},\"mode\":\"lines\",\"name\":\"\\\\u00a3200/month\",\"orientation\":\"v\",\"showlegend\":true,\"x\":[0.0,1040.44580078125,2080.8916015625,3121.33740234375,4161.783203125,5202.22900390625,6242.6748046875,7283.12060546875,8323.56640625,9364.0126953125,10404.4580078125,11444.904296875,12485.349609375,13525.7958984375,14566.2412109375,15606.6875,16647.1328125,17687.578125,18728.025390625,19768.470703125,20808.916015625,21849.361328125,22889.80859375,23930.251953125,24970.69921875,26011.14453125,27051.591796875,28092.03515625,29132.482421875,30172.927734375,31213.375,32253.818359375,33294.265625,34334.7109375,35375.15625,36415.6015625,37456.05078125,38496.49609375,39536.94140625,40577.3828125,41617.83203125,42658.27734375,43698.72265625,44739.16796875,45779.6171875,46820.0625,47860.50390625,48900.94921875,49941.3984375,50981.84375,52022.2890625,53062.73828125,54103.18359375,55143.62890625,56184.0703125,57224.51953125,58264.96484375,59305.41015625,60345.85546875,61386.3046875,62426.75,63467.19140625,64507.63671875,65548.0859375,66588.53125,67628.9765625,68669.421875,69709.8671875,70750.3125,71790.7578125,72831.203125,73871.6484375,74912.1015625,75952.546875,76992.9921875,78033.4375,79073.8828125,80114.328125,81154.765625,82195.2109375,83235.6640625,84276.109375,85316.5546875,86357.0,87397.4453125,88437.890625,89478.3359375,90518.7890625,91559.234375,92599.6796875,93640.125,94680.5703125,95721.0078125,96761.453125,97801.8984375,98842.3515625,99882.796875,100923.2421875,101963.6875,103004.1328125],\"xaxis\":\"x\",\"y\":[2400.0,2400.0,2392.07080078125,2290.08642578125,2188.1015625,2086.1171875,1984.13232421875,1882.1484375,1221.123046875,795.9541015625,569.322265625,342.689453125,116.0576171875,80.583984375,62.0419921875,43.498046875,24.955078125,6.412109375,-12.1328125,-30.673828125,-49.216796875,-67.76171875,-86.3046875,-104.845703125,-123.388671875,-141.93359375,-160.4765625,-179.01953125,-197.560546875,-216.10546875,-234.6484375,-253.189453125,-271.734375,-290.279296875,-308.8203125,-327.36328125,-345.908203125,-364.44921875,-382.994140625,-401.53515625,-420.078125,-438.623046875,-457.16796875,-475.7109375,-494.25390625,-512.796875,-531.3359375,-549.87890625,-568.42578125,-599.65234375,-636.7421875,-673.82421875,-710.91015625,-747.99609375,-785.0859375,-822.171875,-859.2578125,-896.34375,-933.4296875,-970.515625,-1007.6015625,-1044.6953125,-1081.7734375,-1118.859375,-1155.94921875,-1193.03515625,-1230.12109375,-1267.20703125,-1304.29296875,-1341.37890625,-1378.46484375,-1415.546875,-1452.640625,-1489.7265625,-1526.8125,-1563.8984375,-1600.984375,-1638.0703125,-1675.15625,-1712.2421875,-1749.32421875,-1786.41015625,-1823.5,-1860.58203125,-1897.66796875,-1934.75390625,-1971.83984375,-2008.9296875,-2046.015625,-2083.10546875,-2120.1875,-2157.2734375,-2194.359375,-2231.4453125,-2268.53515625,-2305.625,-2342.7109375,-2396.2421875,-2451.875,-2507.5078125],\"yaxis\":\"y\",\"type\":\"scatter\"},{\"hovertemplate\":\"Policy=\\\\u00a3300/month<br>Earnings=%{x}<br>Net income=%{y}<extra></extra>\",\"legendgroup\":\"\\\\u00a3300/month\",\"line\":{\"color\":\"#2C6496\",\"dash\":\"solid\"},\"marker\":{\"symbol\":\"circle\"},\"mode\":\"lines\",\"name\":\"\\\\u00a3300/month\",\"orientation\":\"v\",\"showlegend\":true,\"x\":[0.0,1040.44580078125,2080.8916015625,3121.33740234375,4161.783203125,5202.22900390625,6242.6748046875,7283.12060546875,8323.56640625,9364.0126953125,10404.4580078125,11444.904296875,12485.349609375,13525.7958984375,14566.2412109375,15606.6875,16647.1328125,17687.578125,18728.025390625,19768.470703125,20808.916015625,21849.361328125,22889.80859375,23930.251953125,24970.69921875,26011.14453125,27051.591796875,28092.03515625,29132.482421875,30172.927734375,31213.375,32253.818359375,33294.265625,34334.7109375,35375.15625,36415.6015625,37456.05078125,38496.49609375,39536.94140625,40577.3828125,41617.83203125,42658.27734375,43698.72265625,44739.16796875,45779.6171875,46820.0625,47860.50390625,48900.94921875,49941.3984375,50981.84375,52022.2890625,53062.73828125,54103.18359375,55143.62890625,56184.0703125,57224.51953125,58264.96484375,59305.41015625,60345.85546875,61386.3046875,62426.75,63467.19140625,64507.63671875,65548.0859375,66588.53125,67628.9765625,68669.421875,69709.8671875,70750.3125,71790.7578125,72831.203125,73871.6484375,74912.1015625,75952.546875,76992.9921875,78033.4375,79073.8828125,80114.328125,81154.765625,82195.2109375,83235.6640625,84276.109375,85316.5546875,86357.0,87397.4453125,88437.890625,89478.3359375,90518.7890625,91559.234375,92599.6796875,93640.125,94680.5703125,95721.0078125,96761.453125,97801.8984375,98842.3515625,99882.796875,100923.2421875,101963.6875,103004.1328125],\"xaxis\":\"x\",\"y\":[3600.0,3482.24169921875,3364.4814453125,3246.724609375,3128.9638671875,3011.2060546875,2893.44677734375,2775.6875,2098.88671875,1408.8837890625,983.13671875,721.4501953125,459.763671875,389.2373046875,335.640625,282.04296875,228.4453125,174.8486328125,121.25,67.654296875,14.056640625,-39.541015625,-93.13671875,-146.736328125,-200.33203125,-253.9296875,-307.52734375,-361.125,-414.71875,-468.31640625,-521.916015625,-575.51171875,-629.109375,-682.70703125,-736.302734375,-789.90234375,-843.5,-897.095703125,-950.693359375,-1004.2890625,-1057.88671875,-1111.484375,-1165.08203125,-1218.6796875,-1272.27734375,-1325.875,-1379.46875,-1433.0625,-1486.6640625,-1540.2578125,-1593.859375,-1647.453125,-1701.05078125,-1754.6484375,-1808.25,-1861.84375,-1915.44140625,-1969.0390625,-2022.63671875,-2076.234375,-2129.828125,-2183.43359375,-2237.0234375,-2290.625,-2344.22265625,-2397.8203125,-2451.4140625,-2505.01171875,-2558.60546875,-2612.20703125,-2665.80078125,-2719.3984375,-2773.0,-2826.59375,-2880.1953125,-2933.7890625,-2987.390625,-3040.984375,-3094.578125,-3148.1796875,-3201.7734375,-3255.37109375,-3308.96875,-3362.5625,-3416.16015625,-3469.7578125,-3523.35546875,-3576.95703125,-3630.5546875,-3684.15234375,-3737.74609375,-3791.34375,-3844.94140625,-3898.53515625,-3952.13671875,-4005.734375,-4059.3359375,-3928.2734375,-3773.7890625,-3619.296875],\"yaxis\":\"y\",\"type\":\"scatter\"},{\"hovertemplate\":\"Policy=\\\\u00a3400/month<br>Earnings=%{x}<br>Net income=%{y}<extra></extra>\",\"legendgroup\":\"\\\\u00a3400/month\",\"line\":{\"color\":\"#17354F\",\"dash\":\"solid\"},\"marker\":{\"symbol\":\"circle\"},\"mode\":\"lines\",\"name\":\"\\\\u00a3400/month\",\"orientation\":\"v\",\"showlegend\":true,\"x\":[0.0,1040.44580078125,2080.8916015625,3121.33740234375,4161.783203125,5202.22900390625,6242.6748046875,7283.12060546875,8323.56640625,9364.0126953125,10404.4580078125,11444.904296875,12485.349609375,13525.7958984375,14566.2412109375,15606.6875,16647.1328125,17687.578125,18728.025390625,19768.470703125,20808.916015625,21849.361328125,22889.80859375,23930.251953125,24970.69921875,26011.14453125,27051.591796875,28092.03515625,29132.482421875,30172.927734375,31213.375,32253.818359375,33294.265625,34334.7109375,35375.15625,36415.6015625,37456.05078125,38496.49609375,39536.94140625,40577.3828125,41617.83203125,42658.27734375,43698.72265625,44739.16796875,45779.6171875,46820.0625,47860.50390625,48900.94921875,49941.3984375,50981.84375,52022.2890625,53062.73828125,54103.18359375,55143.62890625,56184.0703125,57224.51953125,58264.96484375,59305.41015625,60345.85546875,61386.3046875,62426.75,63467.19140625,64507.63671875,65548.0859375,66588.53125,67628.9765625,68669.421875,69709.8671875,70750.3125,71790.7578125,72831.203125,73871.6484375,74912.1015625,75952.546875,76992.9921875,78033.4375,79073.8828125,80114.328125,81154.765625,82195.2109375,83235.6640625,84276.109375,85316.5546875,86357.0,87397.4453125,88437.890625,89478.3359375,90518.7890625,91559.234375,92599.6796875,93640.125,94680.5703125,95721.0078125,96761.453125,97801.8984375,98842.3515625,99882.796875,100923.2421875,101963.6875,103004.1328125],\"xaxis\":\"x\",\"y\":[4800.0,4652.74853515625,4505.5,4358.25,4211.0,4063.75,3916.50048828125,3769.2490234375,3062.958984375,2343.462890625,1623.9677734375,1200.5546875,873.3330078125,737.2705078125,618.1376953125,499.0048828125,379.87109375,260.7373046875,141.603515625,22.470703125,-96.662109375,-215.794921875,-334.927734375,-454.060546875,-573.193359375,-692.326171875,-811.4609375,-930.59375,-1049.724609375,-1168.857421875,-1287.990234375,-1407.123046875,-1526.2578125,-1645.392578125,-1764.5234375,-1883.65625,-2002.79296875,-2121.923828125,-2241.05859375,-2360.189453125,-2479.322265625,-2598.45703125,-2717.58984375,-2836.724609375,-2955.85546875,-3074.9921875,-3194.12109375,-3313.25,-3432.390625,-3470.01171875,-3470.015625,-3470.01171875,-3470.01171875,-3470.01171875,-3470.015625,-3470.01171875,-3470.015625,-3470.015625,-3470.015625,-3470.01171875,-3470.01171875,-3470.01953125,-3470.01171875,-3470.015625,-3470.015625,-3470.015625,-3470.015625,-3470.01171875,-3470.01171875,-3470.01171875,-3470.01171875,-3470.0078125,-3470.015625,-3470.015625,-3470.015625,-3470.015625,-3470.015625,-3470.015625,-3470.01171875,-3470.01171875,-3470.01171875,-3470.01171875,-3470.01171875,-3470.0078125,-3470.01171875,-3470.01171875,-3470.01171875,-3470.015625,-3470.015625,-3470.015625,-3470.01171875,-3470.01171875,-3470.015625,-3470.01171875,-3470.015625,-3470.015625,-3470.01953125,-3285.359375,-3077.27734375,-2869.19140625],\"yaxis\":\"y\",\"type\":\"scatter\"}],\"layout\":{\"template\":{\"data\":{\"barpolar\":[{\"marker\":{\"line\":{\"color\":\"white\",\"width\":0.5},\"pattern\":{\"fillmode\":\"overlay\",\"size\":10,\"solidity\":0.2}},\"type\":\"barpolar\"}],\"bar\":[{\"error_x\":{\"color\":\"#2a3f5f\"},\"error_y\":{\"color\":\"#2a3f5f\"},\"marker\":{\"line\":{\"color\":\"white\",\"width\":0.5},\"pattern\":{\"fillmode\":\"overlay\",\"size\":10,\"solidity\":0.2}},\"type\":\"bar\"}],\"carpet\":[{\"aaxis\":{\"endlinecolor\":\"#2a3f5f\",\"gridcolor\":\"#C8D4E3\",\"linecolor\":\"#C8D4E3\",\"minorgridcolor\":\"#C8D4E3\",\"startlinecolor\":\"#2a3f5f\"},\"baxis\":{\"endlinecolor\":\"#2a3f5f\",\"gridcolor\":\"#C8D4E3\",\"linecolor\":\"#C8D4E3\",\"minorgridcolor\":\"#C8D4E3\",\"startlinecolor\":\"#2a3f5f\"},\"type\":\"carpet\"}],\"choropleth\":[{\"colorbar\":{\"outlinewidth\":0,\"ticks\":\"\"},\"type\":\"choropleth\"}],\"contourcarpet\":[{\"colorbar\":{\"outlinewidth\":0,\"ticks\":\"\"},\"type\":\"contourcarpet\"}],\"contour\":[{\"colorbar\":{\"outlinewidth\":0,\"ticks\":\"\"},\"colorscale\":[[0.0,\"#0d0887\"],[0.1111111111111111,\"#46039f\"],[0.2222222222222222,\"#7201a8\"],[0.3333333333333333,\"#9c179e\"],[0.4444444444444444,\"#bd3786\"],[0.5555555555555556,\"#d8576b\"],[0.6666666666666666,\"#ed7953\"],[0.7777777777777778,\"#fb9f3a\"],[0.8888888888888888,\"#fdca26\"],[1.0,\"#f0f921\"]],\"type\":\"contour\"}],\"heatmapgl\":[{\"colorbar\":{\"outlinewidth\":0,\"ticks\":\"\"},\"colorscale\":[[0.0,\"#0d0887\"],[0.1111111111111111,\"#46039f\"],[0.2222222222222222,\"#7201a8\"],[0.3333333333333333,\"#9c179e\"],[0.4444444444444444,\"#bd3786\"],[0.5555555555555556,\"#d8576b\"],[0.6666666666666666,\"#ed7953\"],[0.7777777777777778,\"#fb9f3a\"],[0.8888888888888888,\"#fdca26\"],[1.0,\"#f0f921\"]],\"type\":\"heatmapgl\"}],\"heatmap\":[{\"colorbar\":{\"outlinewidth\":0,\"ticks\":\"\"},\"colorscale\":[[0.0,\"#0d0887\"],[0.1111111111111111,\"#46039f\"],[0.2222222222222222,\"#7201a8\"],[0.3333333333333333,\"#9c179e\"],[0.4444444444444444,\"#bd3786\"],[0.5555555555555556,\"#d8576b\"],[0.6666666666666666,\"#ed7953\"],[0.7777777777777778,\"#fb9f3a\"],[0.8888888888888888,\"#fdca26\"],[1.0,\"#f0f921\"]],\"type\":\"heatmap\"}],\"histogram2dcontour\":[{\"colorbar\":{\"outlinewidth\":0,\"ticks\":\"\"},\"colorscale\":[[0.0,\"#0d0887\"],[0.1111111111111111,\"#46039f\"],[0.2222222222222222,\"#7201a8\"],[0.3333333333333333,\"#9c179e\"],[0.4444444444444444,\"#bd3786\"],[0.5555555555555556,\"#d8576b\"],[0.6666666666666666,\"#ed7953\"],[0.7777777777777778,\"#fb9f3a\"],[0.8888888888888888,\"#fdca26\"],[1.0,\"#f0f921\"]],\"type\":\"histogram2dcontour\"}],\"histogram2d\":[{\"colorbar\":{\"outlinewidth\":0,\"ticks\":\"\"},\"colorscale\":[[0.0,\"#0d0887\"],[0.1111111111111111,\"#46039f\"],[0.2222222222222222,\"#7201a8\"],[0.3333333333333333,\"#9c179e\"],[0.4444444444444444,\"#bd3786\"],[0.5555555555555556,\"#d8576b\"],[0.6666666666666666,\"#ed7953\"],[0.7777777777777778,\"#fb9f3a\"],[0.8888888888888888,\"#fdca26\"],[1.0,\"#f0f921\"]],\"type\":\"histogram2d\"}],\"histogram\":[{\"marker\":{\"pattern\":{\"fillmode\":\"overlay\",\"size\":10,\"solidity\":0.2}},\"type\":\"histogram\"}],\"mesh3d\":[{\"colorbar\":{\"outlinewidth\":0,\"ticks\":\"\"},\"type\":\"mesh3d\"}],\"parcoords\":[{\"line\":{\"colorbar\":{\"outlinewidth\":0,\"ticks\":\"\"}},\"type\":\"parcoords\"}],\"pie\":[{\"automargin\":true,\"type\":\"pie\"}],\"scatter3d\":[{\"line\":{\"colorbar\":{\"outlinewidth\":0,\"ticks\":\"\"}},\"marker\":{\"colorbar\":{\"outlinewidth\":0,\"ticks\":\"\"}},\"type\":\"scatter3d\"}],\"scattercarpet\":[{\"marker\":{\"colorbar\":{\"outlinewidth\":0,\"ticks\":\"\"}},\"type\":\"scattercarpet\"}],\"scattergeo\":[{\"marker\":{\"colorbar\":{\"outlinewidth\":0,\"ticks\":\"\"}},\"type\":\"scattergeo\"}],\"scattergl\":[{\"marker\":{\"colorbar\":{\"outlinewidth\":0,\"ticks\":\"\"}},\"type\":\"scattergl\"}],\"scattermapbox\":[{\"marker\":{\"colorbar\":{\"outlinewidth\":0,\"ticks\":\"\"}},\"type\":\"scattermapbox\"}],\"scatterpolargl\":[{\"marker\":{\"colorbar\":{\"outlinewidth\":0,\"ticks\":\"\"}},\"type\":\"scatterpolargl\"}],\"scatterpolar\":[{\"marker\":{\"colorbar\":{\"outlinewidth\":0,\"ticks\":\"\"}},\"type\":\"scatterpolar\"}],\"scatter\":[{\"fillpattern\":{\"fillmode\":\"overlay\",\"size\":10,\"solidity\":0.2},\"type\":\"scatter\"}],\"scatterternary\":[{\"marker\":{\"colorbar\":{\"outlinewidth\":0,\"ticks\":\"\"}},\"type\":\"scatterternary\"}],\"surface\":[{\"colorbar\":{\"outlinewidth\":0,\"ticks\":\"\"},\"colorscale\":[[0.0,\"#0d0887\"],[0.1111111111111111,\"#46039f\"],[0.2222222222222222,\"#7201a8\"],[0.3333333333333333,\"#9c179e\"],[0.4444444444444444,\"#bd3786\"],[0.5555555555555556,\"#d8576b\"],[0.6666666666666666,\"#ed7953\"],[0.7777777777777778,\"#fb9f3a\"],[0.8888888888888888,\"#fdca26\"],[1.0,\"#f0f921\"]],\"type\":\"surface\"}],\"table\":[{\"cells\":{\"fill\":{\"color\":\"#EBF0F8\"},\"line\":{\"color\":\"white\"}},\"header\":{\"fill\":{\"color\":\"#C8D4E3\"},\"line\":{\"color\":\"white\"}},\"type\":\"table\"}]},\"layout\":{\"annotationdefaults\":{\"arrowcolor\":\"#2a3f5f\",\"arrowhead\":0,\"arrowwidth\":1},\"autotypenumbers\":\"strict\",\"coloraxis\":{\"colorbar\":{\"outlinewidth\":0,\"ticks\":\"\"}},\"colorscale\":{\"diverging\":[[0,\"#8e0152\"],[0.1,\"#c51b7d\"],[0.2,\"#de77ae\"],[0.3,\"#f1b6da\"],[0.4,\"#fde0ef\"],[0.5,\"#f7f7f7\"],[0.6,\"#e6f5d0\"],[0.7,\"#b8e186\"],[0.8,\"#7fbc41\"],[0.9,\"#4d9221\"],[1,\"#276419\"]],\"sequential\":[[0.0,\"#0d0887\"],[0.1111111111111111,\"#46039f\"],[0.2222222222222222,\"#7201a8\"],[0.3333333333333333,\"#9c179e\"],[0.4444444444444444,\"#bd3786\"],[0.5555555555555556,\"#d8576b\"],[0.6666666666666666,\"#ed7953\"],[0.7777777777777778,\"#fb9f3a\"],[0.8888888888888888,\"#fdca26\"],[1.0,\"#f0f921\"]],\"sequentialminus\":[[0.0,\"#0d0887\"],[0.1111111111111111,\"#46039f\"],[0.2222222222222222,\"#7201a8\"],[0.3333333333333333,\"#9c179e\"],[0.4444444444444444,\"#bd3786\"],[0.5555555555555556,\"#d8576b\"],[0.6666666666666666,\"#ed7953\"],[0.7777777777777778,\"#fb9f3a\"],[0.8888888888888888,\"#fdca26\"],[1.0,\"#f0f921\"]]},\"colorway\":[\"#636efa\",\"#EF553B\",\"#00cc96\",\"#ab63fa\",\"#FFA15A\",\"#19d3f3\",\"#FF6692\",\"#B6E880\",\"#FF97FF\",\"#FECB52\"],\"font\":{\"color\":\"#2a3f5f\"},\"geo\":{\"bgcolor\":\"white\",\"lakecolor\":\"white\",\"landcolor\":\"white\",\"showlakes\":true,\"showland\":true,\"subunitcolor\":\"#C8D4E3\"},\"hoverlabel\":{\"align\":\"left\"},\"hovermode\":\"closest\",\"mapbox\":{\"style\":\"light\"},\"paper_bgcolor\":\"white\",\"plot_bgcolor\":\"white\",\"polar\":{\"angularaxis\":{\"gridcolor\":\"#EBF0F8\",\"linecolor\":\"#EBF0F8\",\"ticks\":\"\"},\"bgcolor\":\"white\",\"radialaxis\":{\"gridcolor\":\"#EBF0F8\",\"linecolor\":\"#EBF0F8\",\"ticks\":\"\"}},\"scene\":{\"xaxis\":{\"backgroundcolor\":\"white\",\"gridcolor\":\"#DFE8F3\",\"gridwidth\":2,\"linecolor\":\"#EBF0F8\",\"showbackground\":true,\"ticks\":\"\",\"zerolinecolor\":\"#EBF0F8\"},\"yaxis\":{\"backgroundcolor\":\"white\",\"gridcolor\":\"#DFE8F3\",\"gridwidth\":2,\"linecolor\":\"#EBF0F8\",\"showbackground\":true,\"ticks\":\"\",\"zerolinecolor\":\"#EBF0F8\"},\"zaxis\":{\"backgroundcolor\":\"white\",\"gridcolor\":\"#DFE8F3\",\"gridwidth\":2,\"linecolor\":\"#EBF0F8\",\"showbackground\":true,\"ticks\":\"\",\"zerolinecolor\":\"#EBF0F8\"}},\"shapedefaults\":{\"line\":{\"color\":\"#2a3f5f\"}},\"ternary\":{\"aaxis\":{\"gridcolor\":\"#DFE8F3\",\"linecolor\":\"#A2B1C6\",\"ticks\":\"\"},\"baxis\":{\"gridcolor\":\"#DFE8F3\",\"linecolor\":\"#A2B1C6\",\"ticks\":\"\"},\"bgcolor\":\"white\",\"caxis\":{\"gridcolor\":\"#DFE8F3\",\"linecolor\":\"#A2B1C6\",\"ticks\":\"\"}},\"title\":{\"x\":0.05},\"xaxis\":{\"automargin\":true,\"gridcolor\":\"#EBF0F8\",\"linecolor\":\"#EBF0F8\",\"ticks\":\"\",\"title\":{\"standoff\":15},\"zerolinecolor\":\"#EBF0F8\",\"zerolinewidth\":2},\"yaxis\":{\"automargin\":true,\"gridcolor\":\"#EBF0F8\",\"linecolor\":\"#EBF0F8\",\"ticks\":\"\",\"title\":{\"standoff\":15},\"zerolinecolor\":\"#EBF0F8\",\"zerolinewidth\":2}}},\"xaxis\":{\"anchor\":\"y\",\"domain\":[0.0,1.0],\"title\":{\"text\":\"Employment income\"},\"tickformat\":\",.0f\",\"tickprefix\":\"\\\\u00a3\"},\"yaxis\":{\"anchor\":\"x\",\"domain\":[0.0,1.0],\"title\":{\"text\":\"Change to annual net income\"},\"tickmode\":\"array\",\"tickvals\":[-20000,-15000,-10000,-5000,0,5000,10000,15000,20000],\"ticktext\":[\"-\\\\u00a320,000\",\"-\\\\u00a315,000\",\"-\\\\u00a310,000\",\"-\\\\u00a35,000\",\"\\\\u00a30\",\"+\\\\u00a35,000\",\"+\\\\u00a310,000\",\"+\\\\u00a315,000\",\"+\\\\u00a320,000\"],\"range\":[-25000,25000]},\"legend\":{\"title\":{\"text\":\"Policy\"},\"tracegroupgap\":0},\"margin\":{\"t\":60},\"title\":{\"text\":\"Figure 11: Change to annual net income by UBI policy and income (single adult, no children)\"},\"shapes\":[{\"line\":{\"color\":\"grey\",\"width\":1},\"type\":\"line\",\"x0\":0,\"x1\":1,\"xref\":\"paper\",\"y0\":0,\"y1\":0,\"yref\":\"y\"}],\"font\":{\"family\":\"Roboto Serif\",\"color\":\"black\"},\"images\":[{\"sizex\":0.2,\"sizey\":0.2,\"source\":\"https://raw.githubusercontent.com/PolicyEngine/policyengine-app/master/src/images/logos/policyengine/blue.png\",\"x\":1,\"xanchor\":\"right\",\"xref\":\"paper\",\"y\":-0.15,\"yanchor\":\"bottom\",\"yref\":\"paper\"}],\"height\":600,\"width\":800,\"modebar\":{\"bgcolor\":\"rgba(0,0,0,0)\",\"color\":\"rgba(0,0,0,0)\"}}}'"
      ]
     },
     "execution_count": 14,
     "metadata": {},
     "output_type": "execute_result"
    }
   ],
   "source": [
    "import plotly.io as pio\n",
    "from policyengine_core.charts import *\n",
    "\n",
    "H1 = \"Single adult, no children\"\n",
    "H2 = \"Married couple, two children\"\n",
    "H3 = \"Pensioner couple, no children\"\n",
    "\n",
    "def plot(household_name: str, title):\n",
    "    fig = px.line(\n",
    "        df[df[\"Household type\"] == household_name], \n",
    "        x=\"Earnings\", \n",
    "        y=\"Net income\", \n",
    "        color=\"Policy\",\n",
    "        color_discrete_sequence=BLUE_COLOUR_SCALE,\n",
    "    ).update_layout(\n",
    "        yaxis_tickmode=\"array\",\n",
    "        yaxis_tickvals=[-20_000, -15_000, -10_000, -5_000, 0, 5_000, 10_000, 15_000, 20_000],\n",
    "        yaxis_ticktext=[\"-£20,000\", \"-£15,000\", \"-£10,000\", \"-£5,000\", \"£0\", \"+£5,000\", \"+£10,000\", \"+£15,000\", \"+£20,000\"],\n",
    "        yaxis_range=(-25_000, 25_000),\n",
    "        xaxis_tickformat=\",.0f\",\n",
    "        xaxis_tickprefix=\"£\",\n",
    "        yaxis_title=\"Change to annual net income\",\n",
    "        xaxis_title=\"Employment income\",\n",
    "        title=title,\n",
    "    )\n",
    "    fig.add_shape(\n",
    "            type=\"line\",\n",
    "            xref=\"paper\",\n",
    "            yref=\"y\",\n",
    "            x0=0,\n",
    "            y0=0,\n",
    "            x1=1,\n",
    "            y1=0,\n",
    "            line=dict(color=\"grey\", width=1),\n",
    "        )\n",
    "    return format_fig(fig)\n",
    "plot(H1, title=\"Figure 11: Change to annual net income by UBI policy and income (single adult, no children)\").to_json()"
   ]
  },
  {
   "cell_type": "markdown",
   "metadata": {},
   "source": [
    "For a married couple with two children, one of whom has earnings, the net income landscape is more generous. All UBI schemes leave them better off or roughly equal at virtually any earnings level, starting with a bonus over £5,000 which decreases non-monotonically.\n"
   ]
  },
  {
   "cell_type": "code",
   "execution_count": 15,
   "metadata": {
    "tags": [
     "hide-input"
    ]
   },
   "outputs": [
    {
     "data": {
      "text/plain": [
       "'{\"data\":[{\"hovertemplate\":\"Policy=\\\\u00a3200/month<br>Earnings=%{x}<br>Net income=%{y}<extra></extra>\",\"legendgroup\":\"\\\\u00a3200/month\",\"line\":{\"color\":\"#D8E6F3\",\"dash\":\"solid\"},\"marker\":{\"symbol\":\"circle\"},\"mode\":\"lines\",\"name\":\"\\\\u00a3200/month\",\"orientation\":\"v\",\"showlegend\":true,\"x\":[0.0,1040.44580078125,2080.8916015625,3121.33740234375,4161.783203125,5202.22900390625,6242.6748046875,7283.12060546875,8323.56640625,9364.0126953125,10404.4580078125,11444.904296875,12485.349609375,13525.7958984375,14566.2412109375,15606.6875,16647.1328125,17687.578125,18728.025390625,19768.470703125,20808.916015625,21849.361328125,22889.80859375,23930.251953125,24970.69921875,26011.14453125,27051.591796875,28092.03515625,29132.482421875,30172.927734375,31213.375,32253.818359375,33294.265625,34334.7109375,35375.15625,36415.6015625,37456.05078125,38496.49609375,39536.94140625,40577.3828125,41617.83203125,42658.27734375,43698.72265625,44739.16796875,45779.6171875,46820.0625,47860.50390625,48900.94921875,49941.3984375,50981.84375,52022.2890625,53062.73828125,54103.18359375,55143.62890625,56184.0703125,57224.51953125,58264.96484375,59305.41015625,60345.85546875,61386.3046875,62426.75,63467.19140625,64507.63671875,65548.0859375,66588.53125,67628.9765625,68669.421875,69709.8671875,70750.3125,71790.7578125,72831.203125,73871.6484375,74912.1015625,75952.546875,76992.9921875,78033.4375,79073.8828125,80114.328125,81154.765625,82195.2109375,83235.6640625,84276.109375,85316.5546875,86357.0,87397.4453125,88437.890625,89478.3359375,90518.7890625,91559.234375,92599.6796875,93640.125,94680.5703125,95721.0078125,96761.453125,97801.8984375,98842.3515625,99882.796875,100923.2421875,101963.6875,103004.1328125],\"xaxis\":\"x\",\"y\":[4800.0,4800.0,4800.0009765625,4599.3125,4372.6796875,4146.046875,3919.416015625,3916.69921875,4199.767578125,4097.783203125,3995.796875,3893.814453125,3791.828125,3689.845703125,3654.123046875,3645.77734375,3637.43359375,3629.08984375,3620.744140625,3612.400390625,3604.052734375,3595.7109375,3587.369140625,3579.0234375,3570.677734375,3562.337890625,3553.990234375,3545.64453125,3537.3046875,3528.958984375,3520.611328125,3512.267578125,3503.92578125,3495.578125,3487.234375,3468.8984375,3071.42578125,2673.95703125,2276.484375,1879.01171875,1771.48828125,1752.94140625,1734.3984375,1715.85546875,1697.3125,1678.765625,1660.2265625,1641.6875,1623.140625,1800.34765625,1763.26171875,1726.17578125,1689.08984375,1652.0,1614.9140625,1577.828125,1540.7421875,1503.65234375,1466.5703125,1429.484375,1392.3984375,1355.3046875,1318.2265625,1281.140625,1244.05078125,1206.96484375,1169.87890625,1132.79296875,1095.70703125,1058.62109375,1021.53515625,984.453125,947.359375,910.2734375,873.1875,836.1015625,799.015625,761.9296875,724.84375,687.7578125,650.67578125,613.58984375,576.5,539.41796875,502.33203125,465.24609375,428.16015625,391.0703125,353.984375,316.89453125,279.8125,242.7265625,205.640625,168.5546875,131.46484375,94.375,57.2890625,3.7578125,-51.875,-107.5078125],\"yaxis\":\"y\",\"type\":\"scatter\"},{\"hovertemplate\":\"Policy=\\\\u00a3300/month<br>Earnings=%{x}<br>Net income=%{y}<extra></extra>\",\"legendgroup\":\"\\\\u00a3300/month\",\"line\":{\"color\":\"#2C6496\",\"dash\":\"solid\"},\"marker\":{\"symbol\":\"circle\"},\"mode\":\"lines\",\"name\":\"\\\\u00a3300/month\",\"orientation\":\"v\",\"showlegend\":true,\"x\":[0.0,1040.44580078125,2080.8916015625,3121.33740234375,4161.783203125,5202.22900390625,6242.6748046875,7283.12060546875,8323.56640625,9364.0126953125,10404.4580078125,11444.904296875,12485.349609375,13525.7958984375,14566.2412109375,15606.6875,16647.1328125,17687.578125,18728.025390625,19768.470703125,20808.916015625,21849.361328125,22889.80859375,23930.251953125,24970.69921875,26011.14453125,27051.591796875,28092.03515625,29132.482421875,30172.927734375,31213.375,32253.818359375,33294.265625,34334.7109375,35375.15625,36415.6015625,37456.05078125,38496.49609375,39536.94140625,40577.3828125,41617.83203125,42658.27734375,43698.72265625,44739.16796875,45779.6171875,46820.0625,47860.50390625,48900.94921875,49941.3984375,50981.84375,52022.2890625,53062.73828125,54103.18359375,55143.62890625,56184.0703125,57224.51953125,58264.96484375,59305.41015625,60345.85546875,61386.3046875,62426.75,63467.19140625,64507.63671875,65548.0859375,66588.53125,67628.9765625,68669.421875,69709.8671875,70750.3125,71790.7578125,72831.203125,73871.6484375,74912.1015625,75952.546875,76992.9921875,78033.4375,79073.8828125,80114.328125,81154.765625,82195.2109375,83235.6640625,84276.109375,85316.5546875,86357.0,87397.4453125,88437.890625,89478.3359375,90518.7890625,91559.234375,92599.6796875,93640.125,94680.5703125,95721.0078125,96761.453125,97801.8984375,98842.3515625,99882.796875,100923.2421875,101963.6875,103004.1328125],\"xaxis\":\"x\",\"y\":[7200.0,6938.314453125,6676.6279296875,6414.94140625,6153.25390625,5891.568359375,5629.8828125,5592.111328125,5902.671875,6140.16796875,6022.41015625,5904.65234375,5786.892578125,5669.13671875,5617.640625,5593.517578125,5569.400390625,5545.28125,5521.1640625,5497.046875,5472.92578125,5448.80859375,5424.689453125,5400.5703125,5376.447265625,5352.330078125,5328.2109375,5304.09375,5279.9765625,5255.85546875,5231.740234375,5207.619140625,5183.50390625,5159.3828125,5135.26171875,5101.15234375,4687.90234375,4274.66015625,3861.4140625,3448.171875,3034.92578125,2621.6796875,2208.43359375,2129.3203125,2075.72265625,2022.125,1968.53125,1914.9375,1861.3359375,2059.7421875,2006.14453125,1952.54296875,1898.94921875,1845.34765625,1791.75,1738.1484375,1684.5625,1630.95703125,1577.3671875,1523.765625,1470.171875,1416.56640625,1362.9765625,1309.375,1255.77734375,1202.1796875,1148.5859375,1094.98828125,1041.39453125,987.79296875,934.19921875,880.6015625,827.0,773.40625,719.8046875,666.2109375,612.61328125,559.015625,505.421875,451.82421875,398.2265625,344.62890625,291.03125,237.4375,183.83984375,130.2421875,76.64453125,23.04296875,-30.5546875,-84.15234375,-137.74609375,-191.33984375,-244.94140625,-298.53515625,-352.13671875,-405.734375,-459.3359375,-328.2734375,-173.7890625,-19.296875],\"yaxis\":\"y\",\"type\":\"scatter\"},{\"hovertemplate\":\"Policy=\\\\u00a3400/month<br>Earnings=%{x}<br>Net income=%{y}<extra></extra>\",\"legendgroup\":\"\\\\u00a3400/month\",\"line\":{\"color\":\"#17354F\",\"dash\":\"solid\"},\"marker\":{\"symbol\":\"circle\"},\"mode\":\"lines\",\"name\":\"\\\\u00a3400/month\",\"orientation\":\"v\",\"showlegend\":true,\"x\":[0.0,1040.44580078125,2080.8916015625,3121.33740234375,4161.783203125,5202.22900390625,6242.6748046875,7283.12060546875,8323.56640625,9364.0126953125,10404.4580078125,11444.904296875,12485.349609375,13525.7958984375,14566.2412109375,15606.6875,16647.1328125,17687.578125,18728.025390625,19768.470703125,20808.916015625,21849.361328125,22889.80859375,23930.251953125,24970.69921875,26011.14453125,27051.591796875,28092.03515625,29132.482421875,30172.927734375,31213.375,32253.818359375,33294.265625,34334.7109375,35375.15625,36415.6015625,37456.05078125,38496.49609375,39536.94140625,40577.3828125,41617.83203125,42658.27734375,43698.72265625,44739.16796875,45779.6171875,46820.0625,47860.50390625,48900.94921875,49941.3984375,50981.84375,52022.2890625,53062.73828125,54103.18359375,55143.62890625,56184.0703125,57224.51953125,58264.96484375,59305.41015625,60345.85546875,61386.3046875,62426.75,63467.19140625,64507.63671875,65548.0859375,66588.53125,67628.9765625,68669.421875,69709.8671875,70750.3125,71790.7578125,72831.203125,73871.6484375,74912.1015625,75952.546875,76992.9921875,78033.4375,79073.8828125,80114.328125,81154.765625,82195.2109375,83235.6640625,84276.109375,85316.5546875,86357.0,87397.4453125,88437.890625,89478.3359375,90518.7890625,91559.234375,92599.6796875,93640.125,94680.5703125,95721.0078125,96761.453125,97801.8984375,98842.3515625,99882.796875,100923.2421875,101963.6875,103004.1328125],\"xaxis\":\"x\",\"y\":[9600.0,9272.77734375,8945.5556640625,8618.333984375,8291.111328125,7963.888671875,7636.666015625,7533.359375,7778.384765625,8023.408203125,8127.5,7980.25390625,7833.00390625,7685.751953125,7604.763671875,7551.1484375,7497.541015625,7443.93359375,7390.322265625,7336.712890625,7283.1015625,7229.4921875,7175.880859375,7122.26953125,7068.662109375,7015.048828125,6961.44140625,6907.8359375,6854.2265625,6800.61328125,6747.001953125,6693.392578125,6639.78515625,6586.17578125,6532.5625,6468.9609375,6026.22265625,5583.48828125,5140.75,4698.015625,4255.27734375,3812.54296875,3369.8046875,2927.0703125,2484.33203125,2041.59375,1598.859375,1234.75,1115.609375,1329.98828125,1329.98828125,1329.98828125,1329.9921875,1329.98046875,1329.984375,1329.984375,1329.9921875,1329.984375,1329.9921875,1329.98828125,1329.98828125,1329.98046875,1329.98828125,1329.984375,1329.984375,1329.984375,1329.984375,1329.98828125,1329.98828125,1329.98828125,1329.98828125,1329.9921875,1329.98828125,1329.98828125,1329.984375,1329.984375,1329.984375,1329.984375,1329.98828125,1329.98828125,1329.98828125,1329.98828125,1329.98828125,1329.9921875,1329.98828125,1329.98828125,1329.98828125,1329.984375,1329.984375,1329.98828125,1329.98828125,1329.98828125,1329.984375,1329.9921875,1329.984375,1329.984375,1329.984375,1514.640625,1722.7265625,1930.8125],\"yaxis\":\"y\",\"type\":\"scatter\"}],\"layout\":{\"template\":{\"data\":{\"barpolar\":[{\"marker\":{\"line\":{\"color\":\"white\",\"width\":0.5},\"pattern\":{\"fillmode\":\"overlay\",\"size\":10,\"solidity\":0.2}},\"type\":\"barpolar\"}],\"bar\":[{\"error_x\":{\"color\":\"#2a3f5f\"},\"error_y\":{\"color\":\"#2a3f5f\"},\"marker\":{\"line\":{\"color\":\"white\",\"width\":0.5},\"pattern\":{\"fillmode\":\"overlay\",\"size\":10,\"solidity\":0.2}},\"type\":\"bar\"}],\"carpet\":[{\"aaxis\":{\"endlinecolor\":\"#2a3f5f\",\"gridcolor\":\"#C8D4E3\",\"linecolor\":\"#C8D4E3\",\"minorgridcolor\":\"#C8D4E3\",\"startlinecolor\":\"#2a3f5f\"},\"baxis\":{\"endlinecolor\":\"#2a3f5f\",\"gridcolor\":\"#C8D4E3\",\"linecolor\":\"#C8D4E3\",\"minorgridcolor\":\"#C8D4E3\",\"startlinecolor\":\"#2a3f5f\"},\"type\":\"carpet\"}],\"choropleth\":[{\"colorbar\":{\"outlinewidth\":0,\"ticks\":\"\"},\"type\":\"choropleth\"}],\"contourcarpet\":[{\"colorbar\":{\"outlinewidth\":0,\"ticks\":\"\"},\"type\":\"contourcarpet\"}],\"contour\":[{\"colorbar\":{\"outlinewidth\":0,\"ticks\":\"\"},\"colorscale\":[[0.0,\"#0d0887\"],[0.1111111111111111,\"#46039f\"],[0.2222222222222222,\"#7201a8\"],[0.3333333333333333,\"#9c179e\"],[0.4444444444444444,\"#bd3786\"],[0.5555555555555556,\"#d8576b\"],[0.6666666666666666,\"#ed7953\"],[0.7777777777777778,\"#fb9f3a\"],[0.8888888888888888,\"#fdca26\"],[1.0,\"#f0f921\"]],\"type\":\"contour\"}],\"heatmapgl\":[{\"colorbar\":{\"outlinewidth\":0,\"ticks\":\"\"},\"colorscale\":[[0.0,\"#0d0887\"],[0.1111111111111111,\"#46039f\"],[0.2222222222222222,\"#7201a8\"],[0.3333333333333333,\"#9c179e\"],[0.4444444444444444,\"#bd3786\"],[0.5555555555555556,\"#d8576b\"],[0.6666666666666666,\"#ed7953\"],[0.7777777777777778,\"#fb9f3a\"],[0.8888888888888888,\"#fdca26\"],[1.0,\"#f0f921\"]],\"type\":\"heatmapgl\"}],\"heatmap\":[{\"colorbar\":{\"outlinewidth\":0,\"ticks\":\"\"},\"colorscale\":[[0.0,\"#0d0887\"],[0.1111111111111111,\"#46039f\"],[0.2222222222222222,\"#7201a8\"],[0.3333333333333333,\"#9c179e\"],[0.4444444444444444,\"#bd3786\"],[0.5555555555555556,\"#d8576b\"],[0.6666666666666666,\"#ed7953\"],[0.7777777777777778,\"#fb9f3a\"],[0.8888888888888888,\"#fdca26\"],[1.0,\"#f0f921\"]],\"type\":\"heatmap\"}],\"histogram2dcontour\":[{\"colorbar\":{\"outlinewidth\":0,\"ticks\":\"\"},\"colorscale\":[[0.0,\"#0d0887\"],[0.1111111111111111,\"#46039f\"],[0.2222222222222222,\"#7201a8\"],[0.3333333333333333,\"#9c179e\"],[0.4444444444444444,\"#bd3786\"],[0.5555555555555556,\"#d8576b\"],[0.6666666666666666,\"#ed7953\"],[0.7777777777777778,\"#fb9f3a\"],[0.8888888888888888,\"#fdca26\"],[1.0,\"#f0f921\"]],\"type\":\"histogram2dcontour\"}],\"histogram2d\":[{\"colorbar\":{\"outlinewidth\":0,\"ticks\":\"\"},\"colorscale\":[[0.0,\"#0d0887\"],[0.1111111111111111,\"#46039f\"],[0.2222222222222222,\"#7201a8\"],[0.3333333333333333,\"#9c179e\"],[0.4444444444444444,\"#bd3786\"],[0.5555555555555556,\"#d8576b\"],[0.6666666666666666,\"#ed7953\"],[0.7777777777777778,\"#fb9f3a\"],[0.8888888888888888,\"#fdca26\"],[1.0,\"#f0f921\"]],\"type\":\"histogram2d\"}],\"histogram\":[{\"marker\":{\"pattern\":{\"fillmode\":\"overlay\",\"size\":10,\"solidity\":0.2}},\"type\":\"histogram\"}],\"mesh3d\":[{\"colorbar\":{\"outlinewidth\":0,\"ticks\":\"\"},\"type\":\"mesh3d\"}],\"parcoords\":[{\"line\":{\"colorbar\":{\"outlinewidth\":0,\"ticks\":\"\"}},\"type\":\"parcoords\"}],\"pie\":[{\"automargin\":true,\"type\":\"pie\"}],\"scatter3d\":[{\"line\":{\"colorbar\":{\"outlinewidth\":0,\"ticks\":\"\"}},\"marker\":{\"colorbar\":{\"outlinewidth\":0,\"ticks\":\"\"}},\"type\":\"scatter3d\"}],\"scattercarpet\":[{\"marker\":{\"colorbar\":{\"outlinewidth\":0,\"ticks\":\"\"}},\"type\":\"scattercarpet\"}],\"scattergeo\":[{\"marker\":{\"colorbar\":{\"outlinewidth\":0,\"ticks\":\"\"}},\"type\":\"scattergeo\"}],\"scattergl\":[{\"marker\":{\"colorbar\":{\"outlinewidth\":0,\"ticks\":\"\"}},\"type\":\"scattergl\"}],\"scattermapbox\":[{\"marker\":{\"colorbar\":{\"outlinewidth\":0,\"ticks\":\"\"}},\"type\":\"scattermapbox\"}],\"scatterpolargl\":[{\"marker\":{\"colorbar\":{\"outlinewidth\":0,\"ticks\":\"\"}},\"type\":\"scatterpolargl\"}],\"scatterpolar\":[{\"marker\":{\"colorbar\":{\"outlinewidth\":0,\"ticks\":\"\"}},\"type\":\"scatterpolar\"}],\"scatter\":[{\"fillpattern\":{\"fillmode\":\"overlay\",\"size\":10,\"solidity\":0.2},\"type\":\"scatter\"}],\"scatterternary\":[{\"marker\":{\"colorbar\":{\"outlinewidth\":0,\"ticks\":\"\"}},\"type\":\"scatterternary\"}],\"surface\":[{\"colorbar\":{\"outlinewidth\":0,\"ticks\":\"\"},\"colorscale\":[[0.0,\"#0d0887\"],[0.1111111111111111,\"#46039f\"],[0.2222222222222222,\"#7201a8\"],[0.3333333333333333,\"#9c179e\"],[0.4444444444444444,\"#bd3786\"],[0.5555555555555556,\"#d8576b\"],[0.6666666666666666,\"#ed7953\"],[0.7777777777777778,\"#fb9f3a\"],[0.8888888888888888,\"#fdca26\"],[1.0,\"#f0f921\"]],\"type\":\"surface\"}],\"table\":[{\"cells\":{\"fill\":{\"color\":\"#EBF0F8\"},\"line\":{\"color\":\"white\"}},\"header\":{\"fill\":{\"color\":\"#C8D4E3\"},\"line\":{\"color\":\"white\"}},\"type\":\"table\"}]},\"layout\":{\"annotationdefaults\":{\"arrowcolor\":\"#2a3f5f\",\"arrowhead\":0,\"arrowwidth\":1},\"autotypenumbers\":\"strict\",\"coloraxis\":{\"colorbar\":{\"outlinewidth\":0,\"ticks\":\"\"}},\"colorscale\":{\"diverging\":[[0,\"#8e0152\"],[0.1,\"#c51b7d\"],[0.2,\"#de77ae\"],[0.3,\"#f1b6da\"],[0.4,\"#fde0ef\"],[0.5,\"#f7f7f7\"],[0.6,\"#e6f5d0\"],[0.7,\"#b8e186\"],[0.8,\"#7fbc41\"],[0.9,\"#4d9221\"],[1,\"#276419\"]],\"sequential\":[[0.0,\"#0d0887\"],[0.1111111111111111,\"#46039f\"],[0.2222222222222222,\"#7201a8\"],[0.3333333333333333,\"#9c179e\"],[0.4444444444444444,\"#bd3786\"],[0.5555555555555556,\"#d8576b\"],[0.6666666666666666,\"#ed7953\"],[0.7777777777777778,\"#fb9f3a\"],[0.8888888888888888,\"#fdca26\"],[1.0,\"#f0f921\"]],\"sequentialminus\":[[0.0,\"#0d0887\"],[0.1111111111111111,\"#46039f\"],[0.2222222222222222,\"#7201a8\"],[0.3333333333333333,\"#9c179e\"],[0.4444444444444444,\"#bd3786\"],[0.5555555555555556,\"#d8576b\"],[0.6666666666666666,\"#ed7953\"],[0.7777777777777778,\"#fb9f3a\"],[0.8888888888888888,\"#fdca26\"],[1.0,\"#f0f921\"]]},\"colorway\":[\"#636efa\",\"#EF553B\",\"#00cc96\",\"#ab63fa\",\"#FFA15A\",\"#19d3f3\",\"#FF6692\",\"#B6E880\",\"#FF97FF\",\"#FECB52\"],\"font\":{\"color\":\"#2a3f5f\"},\"geo\":{\"bgcolor\":\"white\",\"lakecolor\":\"white\",\"landcolor\":\"white\",\"showlakes\":true,\"showland\":true,\"subunitcolor\":\"#C8D4E3\"},\"hoverlabel\":{\"align\":\"left\"},\"hovermode\":\"closest\",\"mapbox\":{\"style\":\"light\"},\"paper_bgcolor\":\"white\",\"plot_bgcolor\":\"white\",\"polar\":{\"angularaxis\":{\"gridcolor\":\"#EBF0F8\",\"linecolor\":\"#EBF0F8\",\"ticks\":\"\"},\"bgcolor\":\"white\",\"radialaxis\":{\"gridcolor\":\"#EBF0F8\",\"linecolor\":\"#EBF0F8\",\"ticks\":\"\"}},\"scene\":{\"xaxis\":{\"backgroundcolor\":\"white\",\"gridcolor\":\"#DFE8F3\",\"gridwidth\":2,\"linecolor\":\"#EBF0F8\",\"showbackground\":true,\"ticks\":\"\",\"zerolinecolor\":\"#EBF0F8\"},\"yaxis\":{\"backgroundcolor\":\"white\",\"gridcolor\":\"#DFE8F3\",\"gridwidth\":2,\"linecolor\":\"#EBF0F8\",\"showbackground\":true,\"ticks\":\"\",\"zerolinecolor\":\"#EBF0F8\"},\"zaxis\":{\"backgroundcolor\":\"white\",\"gridcolor\":\"#DFE8F3\",\"gridwidth\":2,\"linecolor\":\"#EBF0F8\",\"showbackground\":true,\"ticks\":\"\",\"zerolinecolor\":\"#EBF0F8\"}},\"shapedefaults\":{\"line\":{\"color\":\"#2a3f5f\"}},\"ternary\":{\"aaxis\":{\"gridcolor\":\"#DFE8F3\",\"linecolor\":\"#A2B1C6\",\"ticks\":\"\"},\"baxis\":{\"gridcolor\":\"#DFE8F3\",\"linecolor\":\"#A2B1C6\",\"ticks\":\"\"},\"bgcolor\":\"white\",\"caxis\":{\"gridcolor\":\"#DFE8F3\",\"linecolor\":\"#A2B1C6\",\"ticks\":\"\"}},\"title\":{\"x\":0.05},\"xaxis\":{\"automargin\":true,\"gridcolor\":\"#EBF0F8\",\"linecolor\":\"#EBF0F8\",\"ticks\":\"\",\"title\":{\"standoff\":15},\"zerolinecolor\":\"#EBF0F8\",\"zerolinewidth\":2},\"yaxis\":{\"automargin\":true,\"gridcolor\":\"#EBF0F8\",\"linecolor\":\"#EBF0F8\",\"ticks\":\"\",\"title\":{\"standoff\":15},\"zerolinecolor\":\"#EBF0F8\",\"zerolinewidth\":2}}},\"xaxis\":{\"anchor\":\"y\",\"domain\":[0.0,1.0],\"title\":{\"text\":\"Employment income\"},\"tickformat\":\",.0f\",\"tickprefix\":\"\\\\u00a3\"},\"yaxis\":{\"anchor\":\"x\",\"domain\":[0.0,1.0],\"title\":{\"text\":\"Change to annual net income\"},\"tickmode\":\"array\",\"tickvals\":[-20000,-15000,-10000,-5000,0,5000,10000,15000,20000],\"ticktext\":[\"-\\\\u00a320,000\",\"-\\\\u00a315,000\",\"-\\\\u00a310,000\",\"-\\\\u00a35,000\",\"\\\\u00a30\",\"+\\\\u00a35,000\",\"+\\\\u00a310,000\",\"+\\\\u00a315,000\",\"+\\\\u00a320,000\"],\"range\":[-25000,25000]},\"legend\":{\"title\":{\"text\":\"Policy\"},\"tracegroupgap\":0},\"margin\":{\"t\":60},\"title\":{\"text\":\"Figure 12: Change to annual net income by UBI policy and income (married couple, two children)\"},\"shapes\":[{\"line\":{\"color\":\"grey\",\"width\":1},\"type\":\"line\",\"x0\":0,\"x1\":1,\"xref\":\"paper\",\"y0\":0,\"y1\":0,\"yref\":\"y\"}],\"font\":{\"family\":\"Roboto Serif\",\"color\":\"black\"},\"images\":[{\"sizex\":0.2,\"sizey\":0.2,\"source\":\"https://raw.githubusercontent.com/PolicyEngine/policyengine-app/master/src/images/logos/policyengine/blue.png\",\"x\":1,\"xanchor\":\"right\",\"xref\":\"paper\",\"y\":-0.15,\"yanchor\":\"bottom\",\"yref\":\"paper\"}],\"height\":600,\"width\":800,\"modebar\":{\"bgcolor\":\"rgba(0,0,0,0)\",\"color\":\"rgba(0,0,0,0)\"}}}'"
      ]
     },
     "execution_count": 15,
     "metadata": {},
     "output_type": "execute_result"
    }
   ],
   "source": [
    "plot(H2, title=\"Figure 12: Change to annual net income by UBI policy and income (married couple, two children)\").to_json()"
   ]
  },
  {
   "cell_type": "markdown",
   "metadata": {},
   "source": [
    "For a pensioner couple, one of whom has income,[^11] the net impact of the basic income policies varies significantly with income. For households with income under £100,000, all of the policies leave them significantly better off. This is primarily because Pension Credit compensates pensioners for any Income Tax rises. The Guarantee Credit element of Pension Credit tops up pensioner incomes to a minimum level, and the post-tax income definition used means that pensioners are guaranteed to be better off: it deducts income tax payments (meaning that it shields from the broad-based tax rises in each policy) and does not include basic income payments. However, after pensioner income rises out of the range in which Guarantee Credit operates (around £12,500), the gains from the UBI policies diminish.\n",
    "\n",
    "[^11]: We plot based on earnings, but net income responds similarly to earnings as State Pension.\n"
   ]
  },
  {
   "cell_type": "code",
   "execution_count": 16,
   "metadata": {
    "tags": [
     "hide-input"
    ]
   },
   "outputs": [
    {
     "data": {
      "text/plain": [
       "'{\"data\":[{\"hovertemplate\":\"Policy=\\\\u00a3200/month<br>Earnings=%{x}<br>Net income=%{y}<extra></extra>\",\"legendgroup\":\"\\\\u00a3200/month\",\"line\":{\"color\":\"#D8E6F3\",\"dash\":\"solid\"},\"marker\":{\"symbol\":\"circle\"},\"mode\":\"lines\",\"name\":\"\\\\u00a3200/month\",\"orientation\":\"v\",\"showlegend\":true,\"x\":[0.0,1040.44580078125,2080.8916015625,3121.33740234375,4161.783203125,5202.22900390625,6242.6748046875,7283.12060546875,8323.56640625,9364.0126953125,10404.4580078125,11444.904296875,12485.349609375,13525.7958984375,14566.2412109375,15606.6875,16647.1328125,17687.578125,18728.025390625,19768.470703125,20808.916015625,21849.361328125,22889.80859375,23930.251953125,24970.69921875,26011.14453125,27051.591796875,28092.03515625,29132.482421875,30172.927734375,31213.375,32253.818359375,33294.265625,34334.7109375,35375.15625,36415.6015625,37456.05078125,38496.49609375,39536.94140625,40577.3828125,41617.83203125,42658.27734375,43698.72265625,44739.16796875,45779.6171875,46820.0625,47860.50390625,48900.94921875,49941.3984375,50981.84375,52022.2890625,53062.73828125,54103.18359375,55143.62890625,56184.0703125,57224.51953125,58264.96484375,59305.41015625,60345.85546875,61386.3046875,62426.75,63467.19140625,64507.63671875,65548.0859375,66588.53125,67628.9765625,68669.421875,69709.8671875,70750.3125,71790.7578125,72831.203125,73871.6484375,74912.1015625,75952.546875,76992.9921875,78033.4375,79073.8828125,80114.328125,81154.765625,82195.2109375,83235.6640625,84276.109375,85316.5546875,86357.0,87397.4453125,88437.890625,89478.3359375,90518.7890625,91559.234375,92599.6796875,93640.125,94680.5703125,95721.0078125,96761.453125,97801.8984375,98842.3515625,99882.796875,100923.2421875,101963.6875,103004.1328125],\"xaxis\":\"x\",\"y\":[4800.0,4800.0,4799.998046875,4800.0,4800.0,4799.998046875,4800.0,4800.0,4800.0,4800.001953125,4800.0,4800.0,4799.998046875,4521.0263671875,3985.1083984375,3485.6943359375,3249.91015625,3128.2578125,2784.189453125,2440.119140625,2142.34765625,2123.8046875,2105.259765625,2086.71875,2068.17578125,2049.630859375,2031.087890625,2012.544921875,1994.00390625,1975.4609375,1956.916015625,1938.375,1919.830078125,1901.28515625,1882.7421875,1864.19921875,1845.66015625,1827.1171875,1808.5703125,1790.02734375,1771.484375,1752.94140625,1734.3984375,1715.85546875,1697.3125,1678.76953125,1660.2265625,1641.68359375,1623.140625,1800.34765625,1763.2578125,1726.17578125,1689.0859375,1652.0,1614.91796875,1577.828125,1540.74609375,1503.65625,1466.56640625,1429.484375,1392.39453125,1355.30859375,1318.23046875,1281.140625,1244.0546875,1206.96484375,1169.87890625,1132.79296875,1095.7109375,1058.625,1021.53515625,984.44921875,947.36328125,910.27734375,873.1875,836.10546875,799.01953125,761.93359375,724.84375,687.76171875,650.671875,613.58984375,576.5,539.41796875,502.328125,465.2421875,428.15625,391.0703125,353.984375,316.890625,279.8125,242.7265625,205.6328125,168.546875,131.46875,94.3828125,57.2890625,3.75,-51.875,-107.5078125],\"yaxis\":\"y\",\"type\":\"scatter\"},{\"hovertemplate\":\"Policy=\\\\u00a3300/month<br>Earnings=%{x}<br>Net income=%{y}<extra></extra>\",\"legendgroup\":\"\\\\u00a3300/month\",\"line\":{\"color\":\"#2C6496\",\"dash\":\"solid\"},\"marker\":{\"symbol\":\"circle\"},\"mode\":\"lines\",\"name\":\"\\\\u00a3300/month\",\"orientation\":\"v\",\"showlegend\":true,\"x\":[0.0,1040.44580078125,2080.8916015625,3121.33740234375,4161.783203125,5202.22900390625,6242.6748046875,7283.12060546875,8323.56640625,9364.0126953125,10404.4580078125,11444.904296875,12485.349609375,13525.7958984375,14566.2412109375,15606.6875,16647.1328125,17687.578125,18728.025390625,19768.470703125,20808.916015625,21849.361328125,22889.80859375,23930.251953125,24970.69921875,26011.14453125,27051.591796875,28092.03515625,29132.482421875,30172.927734375,31213.375,32253.818359375,33294.265625,34334.7109375,35375.15625,36415.6015625,37456.05078125,38496.49609375,39536.94140625,40577.3828125,41617.83203125,42658.27734375,43698.72265625,44739.16796875,45779.6171875,46820.0625,47860.50390625,48900.94921875,49941.3984375,50981.84375,52022.2890625,53062.73828125,54103.18359375,55143.62890625,56184.0703125,57224.51953125,58264.96484375,59305.41015625,60345.85546875,61386.3046875,62426.75,63467.19140625,64507.63671875,65548.0859375,66588.53125,67628.9765625,68669.421875,69709.8671875,70750.3125,71790.7578125,72831.203125,73871.6484375,74912.1015625,75952.546875,76992.9921875,78033.4375,79073.8828125,80114.328125,81154.765625,82195.2109375,83235.6640625,84276.109375,85316.5546875,86357.0,87397.4453125,88437.890625,89478.3359375,90518.7890625,91559.234375,92599.6796875,93640.125,94680.5703125,95721.0078125,96761.453125,97801.8984375,98842.3515625,99882.796875,100923.2421875,101963.6875,103004.1328125],\"xaxis\":\"x\",\"y\":[7200.0,7200.0,7200.0,7200.0,7200.0,7200.0,7200.001953125,7200.0,7200.0,7200.0,7200.0,7199.998046875,7200.0,6921.0283203125,6385.1064453125,5885.6943359375,5386.28125,4883.1796875,4518.080078125,4152.9765625,3787.876953125,3422.77734375,3254.861328125,3201.265625,3147.66796875,3094.0703125,3040.474609375,2986.875,2933.279296875,2879.68359375,2826.0859375,2772.48828125,2718.890625,2665.29296875,2611.6953125,2558.09765625,2504.50390625,2450.90625,2397.3046875,2343.7109375,2290.11328125,2236.515625,2182.921875,2129.3203125,2075.72265625,2022.125,1968.53125,1914.93359375,1861.3359375,2059.73828125,2006.140625,1952.546875,1898.9453125,1845.34765625,1791.75390625,1738.15625,1684.5625,1630.95703125,1577.3671875,1523.765625,1470.16796875,1416.5703125,1362.98046875,1309.375,1255.78125,1202.18359375,1148.5859375,1094.984375,1041.390625,987.796875,934.19921875,880.6015625,827.00390625,773.40625,719.8046875,666.2109375,612.6171875,559.015625,505.421875,451.82421875,398.2265625,344.62890625,291.02734375,237.43359375,183.8359375,130.2421875,76.640625,23.046875,-30.5546875,-84.15625,-137.75,-191.34375,-244.9453125,-298.5390625,-352.140625,-405.7265625,-459.3359375,-328.28125,-173.7890625,-19.296875],\"yaxis\":\"y\",\"type\":\"scatter\"},{\"hovertemplate\":\"Policy=\\\\u00a3400/month<br>Earnings=%{x}<br>Net income=%{y}<extra></extra>\",\"legendgroup\":\"\\\\u00a3400/month\",\"line\":{\"color\":\"#17354F\",\"dash\":\"solid\"},\"marker\":{\"symbol\":\"circle\"},\"mode\":\"lines\",\"name\":\"\\\\u00a3400/month\",\"orientation\":\"v\",\"showlegend\":true,\"x\":[0.0,1040.44580078125,2080.8916015625,3121.33740234375,4161.783203125,5202.22900390625,6242.6748046875,7283.12060546875,8323.56640625,9364.0126953125,10404.4580078125,11444.904296875,12485.349609375,13525.7958984375,14566.2412109375,15606.6875,16647.1328125,17687.578125,18728.025390625,19768.470703125,20808.916015625,21849.361328125,22889.80859375,23930.251953125,24970.69921875,26011.14453125,27051.591796875,28092.03515625,29132.482421875,30172.927734375,31213.375,32253.818359375,33294.265625,34334.7109375,35375.15625,36415.6015625,37456.05078125,38496.49609375,39536.94140625,40577.3828125,41617.83203125,42658.27734375,43698.72265625,44739.16796875,45779.6171875,46820.0625,47860.50390625,48900.94921875,49941.3984375,50981.84375,52022.2890625,53062.73828125,54103.18359375,55143.62890625,56184.0703125,57224.51953125,58264.96484375,59305.41015625,60345.85546875,61386.3046875,62426.75,63467.19140625,64507.63671875,65548.0859375,66588.53125,67628.9765625,68669.421875,69709.8671875,70750.3125,71790.7578125,72831.203125,73871.6484375,74912.1015625,75952.546875,76992.9921875,78033.4375,79073.8828125,80114.328125,81154.765625,82195.2109375,83235.6640625,84276.109375,85316.5546875,86357.0,87397.4453125,88437.890625,89478.3359375,90518.7890625,91559.234375,92599.6796875,93640.125,94680.5703125,95721.0078125,96761.453125,97801.8984375,98842.3515625,99882.796875,100923.2421875,101963.6875,103004.1328125],\"xaxis\":\"x\",\"y\":[9600.0,9599.998046875,9599.998046875,9600.001953125,9600.0,9600.0,9600.0,9600.001953125,9600.0,9599.998046875,9599.998046875,9600.0,9600.0,9321.0263671875,8785.1083984375,8285.6943359375,7786.28125,7176.337890625,6343.98046875,5805.8671875,5401.4453125,4997.0234375,4592.59765625,4188.1796875,3974.806640625,3855.673828125,3736.54296875,3617.40625,3498.275390625,3379.142578125,3260.0078125,3140.876953125,3021.7421875,2902.60546875,2783.4765625,2664.34375,2545.2109375,2426.078125,2306.94140625,2187.8125,2068.67578125,1949.54296875,1830.4140625,1711.27734375,1592.140625,1473.01171875,1353.87890625,1234.74609375,1115.61328125,1329.98828125,1329.984375,1329.98828125,1329.98828125,1329.984375,1329.98828125,1329.984375,1329.9921875,1329.98046875,1329.98828125,1329.98828125,1329.98828125,1329.984375,1329.98828125,1329.984375,1329.98828125,1329.98828125,1329.98828125,1329.984375,1329.984375,1329.98828125,1329.98828125,1329.98828125,1329.98828125,1329.98828125,1329.984375,1329.984375,1329.98828125,1329.98828125,1329.984375,1329.98828125,1329.984375,1329.98828125,1329.98828125,1329.98828125,1329.984375,1329.984375,1329.984375,1329.984375,1329.9921875,1329.984375,1329.984375,1329.984375,1329.984375,1329.984375,1329.984375,1329.9921875,1329.984375,1514.640625,1722.7265625,1930.8125],\"yaxis\":\"y\",\"type\":\"scatter\"}],\"layout\":{\"template\":{\"data\":{\"barpolar\":[{\"marker\":{\"line\":{\"color\":\"white\",\"width\":0.5},\"pattern\":{\"fillmode\":\"overlay\",\"size\":10,\"solidity\":0.2}},\"type\":\"barpolar\"}],\"bar\":[{\"error_x\":{\"color\":\"#2a3f5f\"},\"error_y\":{\"color\":\"#2a3f5f\"},\"marker\":{\"line\":{\"color\":\"white\",\"width\":0.5},\"pattern\":{\"fillmode\":\"overlay\",\"size\":10,\"solidity\":0.2}},\"type\":\"bar\"}],\"carpet\":[{\"aaxis\":{\"endlinecolor\":\"#2a3f5f\",\"gridcolor\":\"#C8D4E3\",\"linecolor\":\"#C8D4E3\",\"minorgridcolor\":\"#C8D4E3\",\"startlinecolor\":\"#2a3f5f\"},\"baxis\":{\"endlinecolor\":\"#2a3f5f\",\"gridcolor\":\"#C8D4E3\",\"linecolor\":\"#C8D4E3\",\"minorgridcolor\":\"#C8D4E3\",\"startlinecolor\":\"#2a3f5f\"},\"type\":\"carpet\"}],\"choropleth\":[{\"colorbar\":{\"outlinewidth\":0,\"ticks\":\"\"},\"type\":\"choropleth\"}],\"contourcarpet\":[{\"colorbar\":{\"outlinewidth\":0,\"ticks\":\"\"},\"type\":\"contourcarpet\"}],\"contour\":[{\"colorbar\":{\"outlinewidth\":0,\"ticks\":\"\"},\"colorscale\":[[0.0,\"#0d0887\"],[0.1111111111111111,\"#46039f\"],[0.2222222222222222,\"#7201a8\"],[0.3333333333333333,\"#9c179e\"],[0.4444444444444444,\"#bd3786\"],[0.5555555555555556,\"#d8576b\"],[0.6666666666666666,\"#ed7953\"],[0.7777777777777778,\"#fb9f3a\"],[0.8888888888888888,\"#fdca26\"],[1.0,\"#f0f921\"]],\"type\":\"contour\"}],\"heatmapgl\":[{\"colorbar\":{\"outlinewidth\":0,\"ticks\":\"\"},\"colorscale\":[[0.0,\"#0d0887\"],[0.1111111111111111,\"#46039f\"],[0.2222222222222222,\"#7201a8\"],[0.3333333333333333,\"#9c179e\"],[0.4444444444444444,\"#bd3786\"],[0.5555555555555556,\"#d8576b\"],[0.6666666666666666,\"#ed7953\"],[0.7777777777777778,\"#fb9f3a\"],[0.8888888888888888,\"#fdca26\"],[1.0,\"#f0f921\"]],\"type\":\"heatmapgl\"}],\"heatmap\":[{\"colorbar\":{\"outlinewidth\":0,\"ticks\":\"\"},\"colorscale\":[[0.0,\"#0d0887\"],[0.1111111111111111,\"#46039f\"],[0.2222222222222222,\"#7201a8\"],[0.3333333333333333,\"#9c179e\"],[0.4444444444444444,\"#bd3786\"],[0.5555555555555556,\"#d8576b\"],[0.6666666666666666,\"#ed7953\"],[0.7777777777777778,\"#fb9f3a\"],[0.8888888888888888,\"#fdca26\"],[1.0,\"#f0f921\"]],\"type\":\"heatmap\"}],\"histogram2dcontour\":[{\"colorbar\":{\"outlinewidth\":0,\"ticks\":\"\"},\"colorscale\":[[0.0,\"#0d0887\"],[0.1111111111111111,\"#46039f\"],[0.2222222222222222,\"#7201a8\"],[0.3333333333333333,\"#9c179e\"],[0.4444444444444444,\"#bd3786\"],[0.5555555555555556,\"#d8576b\"],[0.6666666666666666,\"#ed7953\"],[0.7777777777777778,\"#fb9f3a\"],[0.8888888888888888,\"#fdca26\"],[1.0,\"#f0f921\"]],\"type\":\"histogram2dcontour\"}],\"histogram2d\":[{\"colorbar\":{\"outlinewidth\":0,\"ticks\":\"\"},\"colorscale\":[[0.0,\"#0d0887\"],[0.1111111111111111,\"#46039f\"],[0.2222222222222222,\"#7201a8\"],[0.3333333333333333,\"#9c179e\"],[0.4444444444444444,\"#bd3786\"],[0.5555555555555556,\"#d8576b\"],[0.6666666666666666,\"#ed7953\"],[0.7777777777777778,\"#fb9f3a\"],[0.8888888888888888,\"#fdca26\"],[1.0,\"#f0f921\"]],\"type\":\"histogram2d\"}],\"histogram\":[{\"marker\":{\"pattern\":{\"fillmode\":\"overlay\",\"size\":10,\"solidity\":0.2}},\"type\":\"histogram\"}],\"mesh3d\":[{\"colorbar\":{\"outlinewidth\":0,\"ticks\":\"\"},\"type\":\"mesh3d\"}],\"parcoords\":[{\"line\":{\"colorbar\":{\"outlinewidth\":0,\"ticks\":\"\"}},\"type\":\"parcoords\"}],\"pie\":[{\"automargin\":true,\"type\":\"pie\"}],\"scatter3d\":[{\"line\":{\"colorbar\":{\"outlinewidth\":0,\"ticks\":\"\"}},\"marker\":{\"colorbar\":{\"outlinewidth\":0,\"ticks\":\"\"}},\"type\":\"scatter3d\"}],\"scattercarpet\":[{\"marker\":{\"colorbar\":{\"outlinewidth\":0,\"ticks\":\"\"}},\"type\":\"scattercarpet\"}],\"scattergeo\":[{\"marker\":{\"colorbar\":{\"outlinewidth\":0,\"ticks\":\"\"}},\"type\":\"scattergeo\"}],\"scattergl\":[{\"marker\":{\"colorbar\":{\"outlinewidth\":0,\"ticks\":\"\"}},\"type\":\"scattergl\"}],\"scattermapbox\":[{\"marker\":{\"colorbar\":{\"outlinewidth\":0,\"ticks\":\"\"}},\"type\":\"scattermapbox\"}],\"scatterpolargl\":[{\"marker\":{\"colorbar\":{\"outlinewidth\":0,\"ticks\":\"\"}},\"type\":\"scatterpolargl\"}],\"scatterpolar\":[{\"marker\":{\"colorbar\":{\"outlinewidth\":0,\"ticks\":\"\"}},\"type\":\"scatterpolar\"}],\"scatter\":[{\"fillpattern\":{\"fillmode\":\"overlay\",\"size\":10,\"solidity\":0.2},\"type\":\"scatter\"}],\"scatterternary\":[{\"marker\":{\"colorbar\":{\"outlinewidth\":0,\"ticks\":\"\"}},\"type\":\"scatterternary\"}],\"surface\":[{\"colorbar\":{\"outlinewidth\":0,\"ticks\":\"\"},\"colorscale\":[[0.0,\"#0d0887\"],[0.1111111111111111,\"#46039f\"],[0.2222222222222222,\"#7201a8\"],[0.3333333333333333,\"#9c179e\"],[0.4444444444444444,\"#bd3786\"],[0.5555555555555556,\"#d8576b\"],[0.6666666666666666,\"#ed7953\"],[0.7777777777777778,\"#fb9f3a\"],[0.8888888888888888,\"#fdca26\"],[1.0,\"#f0f921\"]],\"type\":\"surface\"}],\"table\":[{\"cells\":{\"fill\":{\"color\":\"#EBF0F8\"},\"line\":{\"color\":\"white\"}},\"header\":{\"fill\":{\"color\":\"#C8D4E3\"},\"line\":{\"color\":\"white\"}},\"type\":\"table\"}]},\"layout\":{\"annotationdefaults\":{\"arrowcolor\":\"#2a3f5f\",\"arrowhead\":0,\"arrowwidth\":1},\"autotypenumbers\":\"strict\",\"coloraxis\":{\"colorbar\":{\"outlinewidth\":0,\"ticks\":\"\"}},\"colorscale\":{\"diverging\":[[0,\"#8e0152\"],[0.1,\"#c51b7d\"],[0.2,\"#de77ae\"],[0.3,\"#f1b6da\"],[0.4,\"#fde0ef\"],[0.5,\"#f7f7f7\"],[0.6,\"#e6f5d0\"],[0.7,\"#b8e186\"],[0.8,\"#7fbc41\"],[0.9,\"#4d9221\"],[1,\"#276419\"]],\"sequential\":[[0.0,\"#0d0887\"],[0.1111111111111111,\"#46039f\"],[0.2222222222222222,\"#7201a8\"],[0.3333333333333333,\"#9c179e\"],[0.4444444444444444,\"#bd3786\"],[0.5555555555555556,\"#d8576b\"],[0.6666666666666666,\"#ed7953\"],[0.7777777777777778,\"#fb9f3a\"],[0.8888888888888888,\"#fdca26\"],[1.0,\"#f0f921\"]],\"sequentialminus\":[[0.0,\"#0d0887\"],[0.1111111111111111,\"#46039f\"],[0.2222222222222222,\"#7201a8\"],[0.3333333333333333,\"#9c179e\"],[0.4444444444444444,\"#bd3786\"],[0.5555555555555556,\"#d8576b\"],[0.6666666666666666,\"#ed7953\"],[0.7777777777777778,\"#fb9f3a\"],[0.8888888888888888,\"#fdca26\"],[1.0,\"#f0f921\"]]},\"colorway\":[\"#636efa\",\"#EF553B\",\"#00cc96\",\"#ab63fa\",\"#FFA15A\",\"#19d3f3\",\"#FF6692\",\"#B6E880\",\"#FF97FF\",\"#FECB52\"],\"font\":{\"color\":\"#2a3f5f\"},\"geo\":{\"bgcolor\":\"white\",\"lakecolor\":\"white\",\"landcolor\":\"white\",\"showlakes\":true,\"showland\":true,\"subunitcolor\":\"#C8D4E3\"},\"hoverlabel\":{\"align\":\"left\"},\"hovermode\":\"closest\",\"mapbox\":{\"style\":\"light\"},\"paper_bgcolor\":\"white\",\"plot_bgcolor\":\"white\",\"polar\":{\"angularaxis\":{\"gridcolor\":\"#EBF0F8\",\"linecolor\":\"#EBF0F8\",\"ticks\":\"\"},\"bgcolor\":\"white\",\"radialaxis\":{\"gridcolor\":\"#EBF0F8\",\"linecolor\":\"#EBF0F8\",\"ticks\":\"\"}},\"scene\":{\"xaxis\":{\"backgroundcolor\":\"white\",\"gridcolor\":\"#DFE8F3\",\"gridwidth\":2,\"linecolor\":\"#EBF0F8\",\"showbackground\":true,\"ticks\":\"\",\"zerolinecolor\":\"#EBF0F8\"},\"yaxis\":{\"backgroundcolor\":\"white\",\"gridcolor\":\"#DFE8F3\",\"gridwidth\":2,\"linecolor\":\"#EBF0F8\",\"showbackground\":true,\"ticks\":\"\",\"zerolinecolor\":\"#EBF0F8\"},\"zaxis\":{\"backgroundcolor\":\"white\",\"gridcolor\":\"#DFE8F3\",\"gridwidth\":2,\"linecolor\":\"#EBF0F8\",\"showbackground\":true,\"ticks\":\"\",\"zerolinecolor\":\"#EBF0F8\"}},\"shapedefaults\":{\"line\":{\"color\":\"#2a3f5f\"}},\"ternary\":{\"aaxis\":{\"gridcolor\":\"#DFE8F3\",\"linecolor\":\"#A2B1C6\",\"ticks\":\"\"},\"baxis\":{\"gridcolor\":\"#DFE8F3\",\"linecolor\":\"#A2B1C6\",\"ticks\":\"\"},\"bgcolor\":\"white\",\"caxis\":{\"gridcolor\":\"#DFE8F3\",\"linecolor\":\"#A2B1C6\",\"ticks\":\"\"}},\"title\":{\"x\":0.05},\"xaxis\":{\"automargin\":true,\"gridcolor\":\"#EBF0F8\",\"linecolor\":\"#EBF0F8\",\"ticks\":\"\",\"title\":{\"standoff\":15},\"zerolinecolor\":\"#EBF0F8\",\"zerolinewidth\":2},\"yaxis\":{\"automargin\":true,\"gridcolor\":\"#EBF0F8\",\"linecolor\":\"#EBF0F8\",\"ticks\":\"\",\"title\":{\"standoff\":15},\"zerolinecolor\":\"#EBF0F8\",\"zerolinewidth\":2}}},\"xaxis\":{\"anchor\":\"y\",\"domain\":[0.0,1.0],\"title\":{\"text\":\"Employment income\"},\"tickformat\":\",.0f\",\"tickprefix\":\"\\\\u00a3\"},\"yaxis\":{\"anchor\":\"x\",\"domain\":[0.0,1.0],\"title\":{\"text\":\"Change to annual net income\"},\"tickmode\":\"array\",\"tickvals\":[-20000,-15000,-10000,-5000,0,5000,10000,15000,20000],\"ticktext\":[\"-\\\\u00a320,000\",\"-\\\\u00a315,000\",\"-\\\\u00a310,000\",\"-\\\\u00a35,000\",\"\\\\u00a30\",\"+\\\\u00a35,000\",\"+\\\\u00a310,000\",\"+\\\\u00a315,000\",\"+\\\\u00a320,000\"],\"range\":[-25000,25000]},\"legend\":{\"title\":{\"text\":\"Policy\"},\"tracegroupgap\":0},\"margin\":{\"t\":60},\"title\":{\"text\":\"Figure 13: Change to annual net income by UBI policy and income (pensioner couple, no children)\"},\"shapes\":[{\"line\":{\"color\":\"grey\",\"width\":1},\"type\":\"line\",\"x0\":0,\"x1\":1,\"xref\":\"paper\",\"y0\":0,\"y1\":0,\"yref\":\"y\"}],\"font\":{\"family\":\"Roboto Serif\",\"color\":\"black\"},\"images\":[{\"sizex\":0.2,\"sizey\":0.2,\"source\":\"https://raw.githubusercontent.com/PolicyEngine/policyengine-app/master/src/images/logos/policyengine/blue.png\",\"x\":1,\"xanchor\":\"right\",\"xref\":\"paper\",\"y\":-0.15,\"yanchor\":\"bottom\",\"yref\":\"paper\"}],\"height\":600,\"width\":800,\"modebar\":{\"bgcolor\":\"rgba(0,0,0,0)\",\"color\":\"rgba(0,0,0,0)\"}}}'"
      ]
     },
     "execution_count": 16,
     "metadata": {},
     "output_type": "execute_result"
    }
   ],
   "source": [
    "plot(H3, title=\"Figure 13: Change to annual net income by UBI policy and income (pensioner couple, no children)\").to_json()"
   ]
  },
  {
   "cell_type": "markdown",
   "metadata": {},
   "source": [
    "The appendix contains charts comparing the baseline and reform net incomes as values rather than differences.\n",
    "\n",
    "### Marginal tax rates\n",
    "\n",
    "The marginal tax rate (MTR) for a given pound of earnings is defined as the percentage which does not contribute to increasing net income, either by going to taxation instead or by causing a reduction in benefit entitlement. For example, if an earner faces a 20% MTR from taxes and a 15% MTR from benefits, their total MTR is 35% and they take home 65p for each additional £1 of earnings.\n",
    "\n",
    "Figure 14 shows the MTR associated with each earnings level for a married couple with two children:[^12] the higher the line at a given income, the lower the incentive to work. Where the MTR is 100%, this means that earning an additional pound will make no difference to net income. Where the MTR is above 100%, earning additional income at the margin will decrease the household’s net income. The interaction of the policies is complex: at different points, some UBI policies would reduce MTRs; at others, they would increase them. Broadly, MTRs rise across the earnings spectrum, but decrease in some specific areas.\n",
    "\n",
    "The first of these areas is at £50,270, the higher rate threshold. Under current law, the Marriage Allowance is a tax allowance that reduces tax liability by enabling couples to transfer some (10%) of their personal allowance between them. However, it is only available to couples with one earner under the higher rate threshold, which leads to a sudden increase in tax liability at that income level (creating an MTR over 100%, a ‘cliff’). All UBI policies reduce this cliff because they reduce or eliminate the personal allowance.\n",
    "\n",
    "The second is at £100,000. Under baseline policy, the personal allowance is phased out after this point at a rate of 50p per pound of income over the threshold. With no personal allowance, there is nothing to phase out, so the £300 per month and £400 per month UBI policies both eliminate this, reducing the MTR by 20pp.\n",
    "\n",
    "Overall, all policies substantially raise marginal tax rates in the main, and therefore disincentivise work relative to the status quo, while removing some extreme disincentives to work embedded in certain parts of the current tax code.\n",
    "\n",
    "[^12]: We focus on the MTR for a married couple with two children because the differences between baseline and reform don't depend much on household structure. See the appendix for more MTR charts for different household archetypes.\n"
   ]
  },
  {
   "cell_type": "code",
   "execution_count": 17,
   "metadata": {
    "tags": [
     "hide-input"
    ]
   },
   "outputs": [],
   "source": [
    "import plotly.express as px\n",
    "from policyengine_uk import Simulation\n",
    "import pandas as pd\n",
    "\n",
    "SINGLE_NO_CHILDREN = {\n",
    "    \"people\": {\n",
    "        \"adult\": {\n",
    "            \"age\": 25,\n",
    "        }\n",
    "    },\n",
    "    \"benunits\": {\n",
    "        \"benunit\": {\n",
    "            \"members\": [\"adult\"],\n",
    "            \"claims_legacy_benefits\": False,\n",
    "            \"claims_all_entitled_benefits\": True,\n",
    "        }\n",
    "    },\n",
    "    \"households\": {\n",
    "        \"household\": {\n",
    "            \"members\": [\"adult\"],\n",
    "            \"would_evade_tv_licence_fee\": False,\n",
    "            \"household_owns_tv\": True,\n",
    "        }\n",
    "    },\n",
    "    \"axes\": [[{\n",
    "        \"name\": \"employment_income\",\n",
    "        \"min\": 0,\n",
    "        \"max\": 150_000,\n",
    "        \"count\": 100,\n",
    "    }]],\n",
    "}\n",
    "\n",
    "MARRIED_TWO_CHILDREN = {\n",
    "    \"people\": {\n",
    "        \"adult_1\": {\n",
    "            \"age\": 31,\n",
    "        },\n",
    "        \"adult_2\": {\n",
    "            \"age\": 30,\n",
    "        },\n",
    "        \"child_1\": {\n",
    "            \"age\": 4,\n",
    "        },\n",
    "        \"child_2\": {\n",
    "            \"age\": 6,\n",
    "        },\n",
    "    },\n",
    "    \"benunits\": {\n",
    "        \"benunit\": {\n",
    "            \"members\": [\"adult_1\", \"adult_2\", \"child_1\", \"child_2\"],\n",
    "            \"claims_legacy_benefits\": False,\n",
    "            \"claims_all_entitled_benefits\": True,\n",
    "        }\n",
    "    },\n",
    "    \"households\": {\n",
    "        \"household\": {\n",
    "            \"members\": [\"adult_1\", \"adult_2\", \"child_1\", \"child_2\"],\n",
    "            \"would_evade_tv_licence_fee\": False,\n",
    "            \"household_owns_tv\": True,\n",
    "        }\n",
    "    },\n",
    "    \"axes\": [[{\n",
    "        \"name\": \"employment_income\",\n",
    "        \"min\": 0,\n",
    "        \"max\": 150_000,\n",
    "        \"count\": 100,\n",
    "    }]],\n",
    "}\n",
    "\n",
    "PENSIONER_COUPLE_NO_CHILDREN = {\n",
    "    \"people\": {\n",
    "        \"adult_1\": {\n",
    "            \"age\": 70,\n",
    "        },\n",
    "        \"adult_2\": {\n",
    "            \"age\": 71,\n",
    "        }\n",
    "    },\n",
    "    \"benunits\": {\n",
    "        \"benunit\": {\n",
    "            \"members\": [\"adult_1\", \"adult_2\"],\n",
    "            \"claims_legacy_benefits\": False,\n",
    "            \"claims_all_entitled_benefits\": True,\n",
    "        }\n",
    "    },\n",
    "    \"households\": {\n",
    "        \"household\": {\n",
    "            \"members\": [\"adult_1\", \"adult_2\"],\n",
    "            \"would_evade_tv_licence_fee\": False,\n",
    "            \"household_owns_tv\": True,\n",
    "        }\n",
    "    },\n",
    "    \"axes\": [[{\n",
    "        \"name\": \"employment_income\",\n",
    "        \"min\": 0,\n",
    "        \"max\": 150_000,\n",
    "        \"count\": 100,\n",
    "    }]],\n",
    "}\n",
    "dfs = []\n",
    "for reform, policy_name in zip([None, model_1_reform, model_2_reform, model_3_reform], [\"Baseline\", \"£200/month\", \"£300/month\", \"£400/month\"]):\n",
    "    for household_type, household_name in zip(\n",
    "        [SINGLE_NO_CHILDREN, MARRIED_TWO_CHILDREN, PENSIONER_COUPLE_NO_CHILDREN],\n",
    "        [\"Single adult, no children\", \"Married couple, two children\", \"Pensioner couple, no children\"],\n",
    "    ):\n",
    "        baseline_sim = Simulation(situation=household_type)\n",
    "        sim = Simulation(situation=household_type, reform=reform)\n",
    "        mtr = sim.calculate(\"marginal_tax_rate\", 2023)\n",
    "        mtr = mtr.reshape((100, -1)).T[0]\n",
    "        earnings = sim.calculate(\"employment_income\", map_to=\"household\", period=2023)\n",
    "        df = pd.DataFrame({\"Policy\": policy_name, \"Marginal tax rate\": mtr, \"Earnings\": earnings, \"Household type\": household_name})\n",
    "        dfs.append(df)\n",
    "\n",
    "mtr_df = pd.concat(dfs)"
   ]
  },
  {
   "cell_type": "code",
   "execution_count": 18,
   "metadata": {
    "tags": [
     "hide-input"
    ]
   },
   "outputs": [
    {
     "data": {
      "text/plain": [
       "'{\"data\":[{\"hovertemplate\":\"Policy=Baseline<br>Earnings=%{x}<br>Marginal tax rate=%{y}<extra></extra>\",\"legendgroup\":\"Baseline\",\"line\":{\"color\":\"#616161\",\"dash\":\"solid\",\"shape\":\"hv\"},\"marker\":{\"symbol\":\"circle\"},\"mode\":\"lines\",\"name\":\"Baseline\",\"orientation\":\"v\",\"showlegend\":true,\"x\":[0.0,1560.668701171875,3121.33740234375,4682.00634765625,6242.6748046875,7803.34375,9364.0126953125,10924.6806640625,12485.349609375,14046.017578125,15606.6875,17167.35546875,18728.025390625,20288.69140625,21849.361328125,23410.03125,24970.69921875,26531.369140625,28092.03515625,29652.705078125,31213.375,32774.04296875,34334.7109375,35895.37890625,37456.05078125,39016.71875,40577.3828125,42138.0546875,43698.72265625,45259.39453125,46820.0625,48380.7265625,49941.3984375,51502.06640625,53062.73828125,54623.40625,56184.0703125,57744.7421875,59305.41015625,60866.08203125,62426.75,63987.4140625,65548.0859375,67108.7578125,68669.421875,70230.09375,71790.7578125,73351.4296875,74912.1015625,76472.765625,78033.4375,79594.1015625,81154.765625,82715.4453125,84276.109375,85836.78125,87397.4453125,88958.109375,90518.7890625,92079.453125,93640.125,95200.7890625,96761.453125,98322.1328125,99882.796875,101443.46875,103004.1328125,104564.796875,106125.4765625,107686.140625,109246.8125,110807.4765625,112368.140625,113928.8203125,115489.484375,117050.15625,118610.8203125,120171.484375,121732.1640625,123292.828125,124853.5,126414.1640625,127974.828125,129535.5078125,131096.171875,132656.828125,134217.515625,135778.1875,137338.84375,138899.515625,140460.1875,142020.84375,143581.515625,145142.1875,146702.859375,148263.515625,149824.203125,151384.875,152945.53125,154506.203125],\"xaxis\":\"x\",\"y\":[0.0,9.5367431640625e-07,0.0,0.0,0.20166993141174316,0.550000011920929,0.550000011920929,0.550000011920929,0.5994316339492798,0.6940000057220459,0.6940000057220459,0.6940000057220459,0.6940000057220459,0.6940000057220459,0.6940000057220459,0.6940000057220459,0.6940000057220459,0.6940019130706787,0.6940000057220459,0.6939980387687683,0.6940000057220459,0.6940000057220459,0.6940000057220459,0.5045703053474426,0.3199999928474426,0.3199999928474426,0.3199999928474426,0.3199999928474426,0.3199999928474426,0.3199999928474426,0.3199999928474426,0.3199999928474426,0.8249843716621399,0.6209999918937683,0.6209999918937683,0.6210038661956787,0.6210038661956787,0.6209999918937683,0.5634297132492065,0.4325000047683716,0.4325000047683716,0.4325000047683716,0.4325000047683716,0.4325000047683716,0.4325000047683716,0.4325000047683716,0.4324960708618164,0.4325000047683716,0.4325000047683716,0.4325000047683716,0.4325000047683716,0.432503879070282,0.4325000047683716,0.4325000047683716,0.4325000047683716,0.4325000047683716,0.4324960708618164,0.4325000047683716,0.4325000047683716,0.4325000047683716,0.4325000047683716,0.4325000047683716,0.4325000047683716,0.43250781297683716,0.6090624928474426,0.6324999928474426,0.6325078010559082,0.6324999928474426,0.6324999928474426,0.6324999928474426,0.6324999928474426,0.6324999928474426,0.6324999928474426,0.6325078010559082,0.6324999928474426,0.6324999928474426,0.6324999928474426,0.6324999928474426,0.6324999928474426,0.6324999928474426,0.5254765748977661,0.48250001668930054,0.48250001668930054,0.48250001668930054,0.48250001668930054,0.48250001668930054,0.48250001668930054,0.48250001668930054,0.48250001668930054,0.48250001668930054,0.48250001668930054,0.48250001668930054,0.48250001668930054,0.48250001668930054,0.48250001668930054,0.48250001668930054,0.48250001668930054,0.48250001668930054,0.48250001668930054,0.48250001668930054],\"yaxis\":\"y\",\"type\":\"scatter\"},{\"hovertemplate\":\"Policy=\\\\u00a3200/month<br>Earnings=%{x}<br>Marginal tax rate=%{y}<extra></extra>\",\"legendgroup\":\"\\\\u00a3200/month\",\"line\":{\"color\":\"#D8E6F3\",\"dash\":\"solid\",\"shape\":\"hv\"},\"marker\":{\"symbol\":\"circle\"},\"mode\":\"lines\",\"name\":\"\\\\u00a3200/month\",\"orientation\":\"v\",\"showlegend\":true,\"x\":[0.0,1560.668701171875,3121.33740234375,4682.00634765625,6242.6748046875,7803.34375,9364.0126953125,10924.6806640625,12485.349609375,14046.017578125,15606.6875,17167.35546875,18728.025390625,20288.69140625,21849.361328125,23410.03125,24970.69921875,26531.369140625,28092.03515625,29652.705078125,31213.375,32774.04296875,34334.7109375,35895.37890625,37456.05078125,39016.71875,40577.3828125,42138.0546875,43698.72265625,45259.39453125,46820.0625,48380.7265625,49941.3984375,51502.06640625,53062.73828125,54623.40625,56184.0703125,57744.7421875,59305.41015625,60866.08203125,62426.75,63987.4140625,65548.0859375,67108.7578125,68669.421875,70230.09375,71790.7578125,73351.4296875,74912.1015625,76472.765625,78033.4375,79594.1015625,81154.765625,82715.4453125,84276.109375,85836.78125,87397.4453125,88958.109375,90518.7890625,92079.453125,93640.125,95200.7890625,96761.453125,98322.1328125,99882.796875,101443.46875,103004.1328125,104564.796875,106125.4765625,107686.140625,109246.8125,110807.4765625,112368.140625,113928.8203125,115489.484375,117050.15625,118610.8203125,120171.484375,121732.1640625,123292.828125,124853.5,126414.1640625,127974.828125,129535.5078125,131096.171875,132656.828125,134217.515625,135778.1875,137338.84375,138899.515625,140460.1875,142020.84375,143581.515625,145142.1875,146702.859375,148263.515625,149824.203125,151384.875,152945.53125,154506.203125],\"xaxis\":\"x\",\"y\":[0.0,0.07856249809265137,0.21782225370407104,0.21782225370407104,0.21782225370407104,0.48676562309265137,0.648019552230835,0.6480214595794678,0.6974492073059082,0.7020214796066284,0.7020195722579956,0.7020195722579956,0.7020195722579956,0.7020175457000732,0.7020195722579956,0.7020175457000732,0.7020195722579956,0.7020214796066284,0.7020156383514404,0.7020214796066284,0.7020156383514404,0.7020195722579956,0.7020195722579956,0.7020156383514404,0.702023446559906,0.7020195722579956,0.42680466175079346,0.33782029151916504,0.3378242254257202,0.33782029151916504,0.33782029151916504,0.33782029151916504,0.6463359594345093,0.6566445231437683,0.6566483974456787,0.6566445231437683,0.6566483974456787,0.6566445231437683,0.5990742444992065,0.4681445360183716,0.4681445360183716,0.4681445360183716,0.468148410320282,0.4681445360183716,0.4681445360183716,0.4681445360183716,0.4681406021118164,0.468148410320282,0.4681406021118164,0.468148410320282,0.4681406021118164,0.4681445360183716,0.4681406021118164,0.468148410320282,0.468148410320282,0.4681445360183716,0.4681445360183716,0.4681445360183716,0.468148410320282,0.4681445360183716,0.4681445360183716,0.468148410320282,0.468148410320282,0.468148410320282,0.6604374647140503,0.6859687566757202,0.685070276260376,0.468148410320282,0.4681406021118164,0.4681406021118164,0.468148410320282,0.468148410320282,0.468148410320282,0.4681406021118164,0.4681406021118164,0.468148410320282,0.468148410320282,0.468148410320282,0.4681406021118164,0.4681406021118164,0.5038203001022339,0.5181484222412109,0.5181406140327454,0.5181406140327454,0.5181484222412109,0.5181484222412109,0.5181484222412109,0.5181406140327454,0.5181484222412109,0.5181406140327454,0.5181406140327454,0.5181406140327454,0.5181406140327454,0.5181406140327454,0.5181406140327454,0.5181406140327454,0.5181406140327454,0.5181406140327454,0.5181406140327454,0.5181406140327454],\"yaxis\":\"y\",\"type\":\"scatter\"},{\"hovertemplate\":\"Policy=\\\\u00a3300/month<br>Earnings=%{x}<br>Marginal tax rate=%{y}<extra></extra>\",\"legendgroup\":\"\\\\u00a3300/month\",\"line\":{\"color\":\"#2C6496\",\"dash\":\"solid\",\"shape\":\"hv\"},\"marker\":{\"symbol\":\"circle\"},\"mode\":\"lines\",\"name\":\"\\\\u00a3300/month\",\"orientation\":\"v\",\"showlegend\":true,\"x\":[0.0,1560.668701171875,3121.33740234375,4682.00634765625,6242.6748046875,7803.34375,9364.0126953125,10924.6806640625,12485.349609375,14046.017578125,15606.6875,17167.35546875,18728.025390625,20288.69140625,21849.361328125,23410.03125,24970.69921875,26531.369140625,28092.03515625,29652.705078125,31213.375,32774.04296875,34334.7109375,35895.37890625,37456.05078125,39016.71875,40577.3828125,42138.0546875,43698.72265625,45259.39453125,46820.0625,48380.7265625,49941.3984375,51502.06640625,53062.73828125,54623.40625,56184.0703125,57744.7421875,59305.41015625,60866.08203125,62426.75,63987.4140625,65548.0859375,67108.7578125,68669.421875,70230.09375,71790.7578125,73351.4296875,74912.1015625,76472.765625,78033.4375,79594.1015625,81154.765625,82715.4453125,84276.109375,85836.78125,87397.4453125,88958.109375,90518.7890625,92079.453125,93640.125,95200.7890625,96761.453125,98322.1328125,99882.796875,101443.46875,103004.1328125,104564.796875,106125.4765625,107686.140625,109246.8125,110807.4765625,112368.140625,113928.8203125,115489.484375,117050.15625,118610.8203125,120171.484375,121732.1640625,123292.828125,124853.5,126414.1640625,127974.828125,129535.5078125,131096.171875,132656.828125,134217.515625,135778.1875,137338.84375,138899.515625,140460.1875,142020.84375,143581.515625,145142.1875,146702.859375,148263.515625,149824.203125,151384.875,152945.53125,154506.203125],\"xaxis\":\"x\",\"y\":[0.25151365995407104,0.25151365995407104,0.25151365995407104,0.25151365995407104,0.25151365995407104,0.25151365995407104,0.6631777286529541,0.6631816625595093,0.7126073837280273,0.7171777486801147,0.7171816825866699,0.7171816825866699,0.7171855568885803,0.7171816825866699,0.7171855568885803,0.7171816825866699,0.7171796560287476,0.7171757817268372,0.7171796560287476,0.7171835899353027,0.7171835899353027,0.7171875238418579,0.7171835899353027,0.7171835899353027,0.7171796560287476,0.7171796560287476,0.7171835899353027,0.7171796560287476,0.3970312476158142,0.37151169776916504,0.37151169776916504,0.3715156316757202,0.624500036239624,0.6725116968154907,0.6725116968154907,0.6725156307220459,0.6725156307220459,0.6725156307220459,0.614941418170929,0.48401564359664917,0.48401564359664917,0.48401564359664917,0.484011709690094,0.48401564359664917,0.48401564359664917,0.48401564359664917,0.4840078353881836,0.48401564359664917,0.4840078353881836,0.48401564359664917,0.48401564359664917,0.484011709690094,0.48401564359664917,0.48401564359664917,0.48401564359664917,0.484011709690094,0.484011709690094,0.484011709690094,0.484011709690094,0.48401564359664917,0.48401564359664917,0.48401564359664917,0.48401951789855957,0.4840078353881836,0.4840078353881836,0.48401564359664917,0.48401564359664917,0.48401564359664917,0.4840078353881836,0.48401564359664917,0.4840078353881836,0.4840078353881836,0.48401564359664917,0.48401564359664917,0.48401564359664917,0.4840078353881836,0.48401564359664917,0.48401564359664917,0.48402345180511475,0.48401564359664917,0.5196875333786011,0.5340156555175781,0.5340156555175781,0.5340077877044678,0.5340156555175781,0.5340077877044678,0.5340156555175781,0.5340077877044678,0.5340156555175781,0.5340156555175781,0.5340156555175781,0.5340156555175781,0.5340156555175781,0.5340077877044678,0.5340156555175781,0.5340156555175781,0.5340156555175781,0.5340156555175781,0.5340156555175781,0.5340156555175781],\"yaxis\":\"y\",\"type\":\"scatter\"},{\"hovertemplate\":\"Policy=\\\\u00a3400/month<br>Earnings=%{x}<br>Marginal tax rate=%{y}<extra></extra>\",\"legendgroup\":\"\\\\u00a3400/month\",\"line\":{\"color\":\"#17354F\",\"dash\":\"solid\",\"shape\":\"hv\"},\"marker\":{\"symbol\":\"circle\"},\"mode\":\"lines\",\"name\":\"\\\\u00a3400/month\",\"orientation\":\"v\",\"showlegend\":true,\"x\":[0.0,1560.668701171875,3121.33740234375,4682.00634765625,6242.6748046875,7803.34375,9364.0126953125,10924.6806640625,12485.349609375,14046.017578125,15606.6875,17167.35546875,18728.025390625,20288.69140625,21849.361328125,23410.03125,24970.69921875,26531.369140625,28092.03515625,29652.705078125,31213.375,32774.04296875,34334.7109375,35895.37890625,37456.05078125,39016.71875,40577.3828125,42138.0546875,43698.72265625,45259.39453125,46820.0625,48380.7265625,49941.3984375,51502.06640625,53062.73828125,54623.40625,56184.0703125,57744.7421875,59305.41015625,60866.08203125,62426.75,63987.4140625,65548.0859375,67108.7578125,68669.421875,70230.09375,71790.7578125,73351.4296875,74912.1015625,76472.765625,78033.4375,79594.1015625,81154.765625,82715.4453125,84276.109375,85836.78125,87397.4453125,88958.109375,90518.7890625,92079.453125,93640.125,95200.7890625,96761.453125,98322.1328125,99882.796875,101443.46875,103004.1328125,104564.796875,106125.4765625,107686.140625,109246.8125,110807.4765625,112368.140625,113928.8203125,115489.484375,117050.15625,118610.8203125,120171.484375,121732.1640625,123292.828125,124853.5,126414.1640625,127974.828125,129535.5078125,131096.171875,132656.828125,134217.515625,135778.1875,137338.84375,138899.515625,140460.1875,142020.84375,143581.515625,145142.1875,146702.859375,148263.515625,149824.203125,151384.875,152945.53125,154506.203125],\"xaxis\":\"x\",\"y\":[0.31450194120407104,0.31450194120407104,0.31450194120407104,0.31450194120407104,0.31450194120407104,0.31450194120407104,0.440185546875,0.691525399684906,0.7409589886665344,0.7455253601074219,0.7455253601074219,0.7455234527587891,0.7455234527587891,0.7455234527587891,0.7455234527587891,0.7455273866653442,0.7455273866653442,0.7455273866653442,0.7455234527587891,0.7455234527587891,0.7455234527587891,0.7455234527587891,0.7455273866653442,0.7455273866653442,0.7455273866653442,0.7455234527587891,0.7455273866653442,0.7455273866653442,0.7455273866653442,0.7455273866653442,0.7455273866653442,0.5176796913146973,0.6106054782867432,0.6210038661956787,0.6210078001022339,0.6209999918937683,0.6209999918937683,0.6209999918937683,0.5634297132492065,0.4325000047683716,0.4325000047683716,0.4325000047683716,0.4325000047683716,0.432503879070282,0.4325000047683716,0.432503879070282,0.4325000047683716,0.4325000047683716,0.4325000047683716,0.4325000047683716,0.4325000047683716,0.4325000047683716,0.4325000047683716,0.432503879070282,0.4325000047683716,0.4325000047683716,0.4324960708618164,0.432503879070282,0.4325000047683716,0.4324960708618164,0.4325000047683716,0.4325000047683716,0.43250781297683716,0.4325000047683716,0.4325000047683716,0.43250781297683716,0.43250781297683716,0.4325000047683716,0.4325000047683716,0.43250781297683716,0.4325000047683716,0.4325000047683716,0.4325000047683716,0.43250781297683716,0.4325000047683716,0.4325000047683716,0.43251562118530273,0.4325000047683716,0.43250781297683716,0.4325000047683716,0.46817970275878906,0.4825078248977661,0.48250001668930054,0.48250001668930054,0.48250001668930054,0.48250001668930054,0.48250001668930054,0.48250001668930054,0.48250001668930054,0.48250001668930054,0.48250001668930054,0.48250001668930054,0.48250001668930054,0.48250001668930054,0.48250001668930054,0.48250001668930054,0.48250001668930054,0.48250001668930054,0.48250001668930054,0.48250001668930054],\"yaxis\":\"y\",\"type\":\"scatter\"}],\"layout\":{\"template\":{\"data\":{\"barpolar\":[{\"marker\":{\"line\":{\"color\":\"white\",\"width\":0.5},\"pattern\":{\"fillmode\":\"overlay\",\"size\":10,\"solidity\":0.2}},\"type\":\"barpolar\"}],\"bar\":[{\"error_x\":{\"color\":\"#2a3f5f\"},\"error_y\":{\"color\":\"#2a3f5f\"},\"marker\":{\"line\":{\"color\":\"white\",\"width\":0.5},\"pattern\":{\"fillmode\":\"overlay\",\"size\":10,\"solidity\":0.2}},\"type\":\"bar\"}],\"carpet\":[{\"aaxis\":{\"endlinecolor\":\"#2a3f5f\",\"gridcolor\":\"#C8D4E3\",\"linecolor\":\"#C8D4E3\",\"minorgridcolor\":\"#C8D4E3\",\"startlinecolor\":\"#2a3f5f\"},\"baxis\":{\"endlinecolor\":\"#2a3f5f\",\"gridcolor\":\"#C8D4E3\",\"linecolor\":\"#C8D4E3\",\"minorgridcolor\":\"#C8D4E3\",\"startlinecolor\":\"#2a3f5f\"},\"type\":\"carpet\"}],\"choropleth\":[{\"colorbar\":{\"outlinewidth\":0,\"ticks\":\"\"},\"type\":\"choropleth\"}],\"contourcarpet\":[{\"colorbar\":{\"outlinewidth\":0,\"ticks\":\"\"},\"type\":\"contourcarpet\"}],\"contour\":[{\"colorbar\":{\"outlinewidth\":0,\"ticks\":\"\"},\"colorscale\":[[0.0,\"#0d0887\"],[0.1111111111111111,\"#46039f\"],[0.2222222222222222,\"#7201a8\"],[0.3333333333333333,\"#9c179e\"],[0.4444444444444444,\"#bd3786\"],[0.5555555555555556,\"#d8576b\"],[0.6666666666666666,\"#ed7953\"],[0.7777777777777778,\"#fb9f3a\"],[0.8888888888888888,\"#fdca26\"],[1.0,\"#f0f921\"]],\"type\":\"contour\"}],\"heatmapgl\":[{\"colorbar\":{\"outlinewidth\":0,\"ticks\":\"\"},\"colorscale\":[[0.0,\"#0d0887\"],[0.1111111111111111,\"#46039f\"],[0.2222222222222222,\"#7201a8\"],[0.3333333333333333,\"#9c179e\"],[0.4444444444444444,\"#bd3786\"],[0.5555555555555556,\"#d8576b\"],[0.6666666666666666,\"#ed7953\"],[0.7777777777777778,\"#fb9f3a\"],[0.8888888888888888,\"#fdca26\"],[1.0,\"#f0f921\"]],\"type\":\"heatmapgl\"}],\"heatmap\":[{\"colorbar\":{\"outlinewidth\":0,\"ticks\":\"\"},\"colorscale\":[[0.0,\"#0d0887\"],[0.1111111111111111,\"#46039f\"],[0.2222222222222222,\"#7201a8\"],[0.3333333333333333,\"#9c179e\"],[0.4444444444444444,\"#bd3786\"],[0.5555555555555556,\"#d8576b\"],[0.6666666666666666,\"#ed7953\"],[0.7777777777777778,\"#fb9f3a\"],[0.8888888888888888,\"#fdca26\"],[1.0,\"#f0f921\"]],\"type\":\"heatmap\"}],\"histogram2dcontour\":[{\"colorbar\":{\"outlinewidth\":0,\"ticks\":\"\"},\"colorscale\":[[0.0,\"#0d0887\"],[0.1111111111111111,\"#46039f\"],[0.2222222222222222,\"#7201a8\"],[0.3333333333333333,\"#9c179e\"],[0.4444444444444444,\"#bd3786\"],[0.5555555555555556,\"#d8576b\"],[0.6666666666666666,\"#ed7953\"],[0.7777777777777778,\"#fb9f3a\"],[0.8888888888888888,\"#fdca26\"],[1.0,\"#f0f921\"]],\"type\":\"histogram2dcontour\"}],\"histogram2d\":[{\"colorbar\":{\"outlinewidth\":0,\"ticks\":\"\"},\"colorscale\":[[0.0,\"#0d0887\"],[0.1111111111111111,\"#46039f\"],[0.2222222222222222,\"#7201a8\"],[0.3333333333333333,\"#9c179e\"],[0.4444444444444444,\"#bd3786\"],[0.5555555555555556,\"#d8576b\"],[0.6666666666666666,\"#ed7953\"],[0.7777777777777778,\"#fb9f3a\"],[0.8888888888888888,\"#fdca26\"],[1.0,\"#f0f921\"]],\"type\":\"histogram2d\"}],\"histogram\":[{\"marker\":{\"pattern\":{\"fillmode\":\"overlay\",\"size\":10,\"solidity\":0.2}},\"type\":\"histogram\"}],\"mesh3d\":[{\"colorbar\":{\"outlinewidth\":0,\"ticks\":\"\"},\"type\":\"mesh3d\"}],\"parcoords\":[{\"line\":{\"colorbar\":{\"outlinewidth\":0,\"ticks\":\"\"}},\"type\":\"parcoords\"}],\"pie\":[{\"automargin\":true,\"type\":\"pie\"}],\"scatter3d\":[{\"line\":{\"colorbar\":{\"outlinewidth\":0,\"ticks\":\"\"}},\"marker\":{\"colorbar\":{\"outlinewidth\":0,\"ticks\":\"\"}},\"type\":\"scatter3d\"}],\"scattercarpet\":[{\"marker\":{\"colorbar\":{\"outlinewidth\":0,\"ticks\":\"\"}},\"type\":\"scattercarpet\"}],\"scattergeo\":[{\"marker\":{\"colorbar\":{\"outlinewidth\":0,\"ticks\":\"\"}},\"type\":\"scattergeo\"}],\"scattergl\":[{\"marker\":{\"colorbar\":{\"outlinewidth\":0,\"ticks\":\"\"}},\"type\":\"scattergl\"}],\"scattermapbox\":[{\"marker\":{\"colorbar\":{\"outlinewidth\":0,\"ticks\":\"\"}},\"type\":\"scattermapbox\"}],\"scatterpolargl\":[{\"marker\":{\"colorbar\":{\"outlinewidth\":0,\"ticks\":\"\"}},\"type\":\"scatterpolargl\"}],\"scatterpolar\":[{\"marker\":{\"colorbar\":{\"outlinewidth\":0,\"ticks\":\"\"}},\"type\":\"scatterpolar\"}],\"scatter\":[{\"fillpattern\":{\"fillmode\":\"overlay\",\"size\":10,\"solidity\":0.2},\"type\":\"scatter\"}],\"scatterternary\":[{\"marker\":{\"colorbar\":{\"outlinewidth\":0,\"ticks\":\"\"}},\"type\":\"scatterternary\"}],\"surface\":[{\"colorbar\":{\"outlinewidth\":0,\"ticks\":\"\"},\"colorscale\":[[0.0,\"#0d0887\"],[0.1111111111111111,\"#46039f\"],[0.2222222222222222,\"#7201a8\"],[0.3333333333333333,\"#9c179e\"],[0.4444444444444444,\"#bd3786\"],[0.5555555555555556,\"#d8576b\"],[0.6666666666666666,\"#ed7953\"],[0.7777777777777778,\"#fb9f3a\"],[0.8888888888888888,\"#fdca26\"],[1.0,\"#f0f921\"]],\"type\":\"surface\"}],\"table\":[{\"cells\":{\"fill\":{\"color\":\"#EBF0F8\"},\"line\":{\"color\":\"white\"}},\"header\":{\"fill\":{\"color\":\"#C8D4E3\"},\"line\":{\"color\":\"white\"}},\"type\":\"table\"}]},\"layout\":{\"annotationdefaults\":{\"arrowcolor\":\"#2a3f5f\",\"arrowhead\":0,\"arrowwidth\":1},\"autotypenumbers\":\"strict\",\"coloraxis\":{\"colorbar\":{\"outlinewidth\":0,\"ticks\":\"\"}},\"colorscale\":{\"diverging\":[[0,\"#8e0152\"],[0.1,\"#c51b7d\"],[0.2,\"#de77ae\"],[0.3,\"#f1b6da\"],[0.4,\"#fde0ef\"],[0.5,\"#f7f7f7\"],[0.6,\"#e6f5d0\"],[0.7,\"#b8e186\"],[0.8,\"#7fbc41\"],[0.9,\"#4d9221\"],[1,\"#276419\"]],\"sequential\":[[0.0,\"#0d0887\"],[0.1111111111111111,\"#46039f\"],[0.2222222222222222,\"#7201a8\"],[0.3333333333333333,\"#9c179e\"],[0.4444444444444444,\"#bd3786\"],[0.5555555555555556,\"#d8576b\"],[0.6666666666666666,\"#ed7953\"],[0.7777777777777778,\"#fb9f3a\"],[0.8888888888888888,\"#fdca26\"],[1.0,\"#f0f921\"]],\"sequentialminus\":[[0.0,\"#0d0887\"],[0.1111111111111111,\"#46039f\"],[0.2222222222222222,\"#7201a8\"],[0.3333333333333333,\"#9c179e\"],[0.4444444444444444,\"#bd3786\"],[0.5555555555555556,\"#d8576b\"],[0.6666666666666666,\"#ed7953\"],[0.7777777777777778,\"#fb9f3a\"],[0.8888888888888888,\"#fdca26\"],[1.0,\"#f0f921\"]]},\"colorway\":[\"#636efa\",\"#EF553B\",\"#00cc96\",\"#ab63fa\",\"#FFA15A\",\"#19d3f3\",\"#FF6692\",\"#B6E880\",\"#FF97FF\",\"#FECB52\"],\"font\":{\"color\":\"#2a3f5f\"},\"geo\":{\"bgcolor\":\"white\",\"lakecolor\":\"white\",\"landcolor\":\"white\",\"showlakes\":true,\"showland\":true,\"subunitcolor\":\"#C8D4E3\"},\"hoverlabel\":{\"align\":\"left\"},\"hovermode\":\"closest\",\"mapbox\":{\"style\":\"light\"},\"paper_bgcolor\":\"white\",\"plot_bgcolor\":\"white\",\"polar\":{\"angularaxis\":{\"gridcolor\":\"#EBF0F8\",\"linecolor\":\"#EBF0F8\",\"ticks\":\"\"},\"bgcolor\":\"white\",\"radialaxis\":{\"gridcolor\":\"#EBF0F8\",\"linecolor\":\"#EBF0F8\",\"ticks\":\"\"}},\"scene\":{\"xaxis\":{\"backgroundcolor\":\"white\",\"gridcolor\":\"#DFE8F3\",\"gridwidth\":2,\"linecolor\":\"#EBF0F8\",\"showbackground\":true,\"ticks\":\"\",\"zerolinecolor\":\"#EBF0F8\"},\"yaxis\":{\"backgroundcolor\":\"white\",\"gridcolor\":\"#DFE8F3\",\"gridwidth\":2,\"linecolor\":\"#EBF0F8\",\"showbackground\":true,\"ticks\":\"\",\"zerolinecolor\":\"#EBF0F8\"},\"zaxis\":{\"backgroundcolor\":\"white\",\"gridcolor\":\"#DFE8F3\",\"gridwidth\":2,\"linecolor\":\"#EBF0F8\",\"showbackground\":true,\"ticks\":\"\",\"zerolinecolor\":\"#EBF0F8\"}},\"shapedefaults\":{\"line\":{\"color\":\"#2a3f5f\"}},\"ternary\":{\"aaxis\":{\"gridcolor\":\"#DFE8F3\",\"linecolor\":\"#A2B1C6\",\"ticks\":\"\"},\"baxis\":{\"gridcolor\":\"#DFE8F3\",\"linecolor\":\"#A2B1C6\",\"ticks\":\"\"},\"bgcolor\":\"white\",\"caxis\":{\"gridcolor\":\"#DFE8F3\",\"linecolor\":\"#A2B1C6\",\"ticks\":\"\"}},\"title\":{\"x\":0.05},\"xaxis\":{\"automargin\":true,\"gridcolor\":\"#EBF0F8\",\"linecolor\":\"#EBF0F8\",\"ticks\":\"\",\"title\":{\"standoff\":15},\"zerolinecolor\":\"#EBF0F8\",\"zerolinewidth\":2},\"yaxis\":{\"automargin\":true,\"gridcolor\":\"#EBF0F8\",\"linecolor\":\"#EBF0F8\",\"ticks\":\"\",\"title\":{\"standoff\":15},\"zerolinecolor\":\"#EBF0F8\",\"zerolinewidth\":2}}},\"xaxis\":{\"anchor\":\"y\",\"domain\":[0.0,1.0],\"title\":{\"text\":\"Employment income\"},\"tickformat\":\",.0f\",\"tickprefix\":\"\\\\u00a3\"},\"yaxis\":{\"anchor\":\"x\",\"domain\":[0.0,1.0],\"title\":{\"text\":\"Marginal tax rate\"},\"tickformat\":\".0%\",\"range\":[-0.01,1]},\"legend\":{\"title\":{\"text\":\"Policy\"},\"tracegroupgap\":0},\"margin\":{\"t\":60},\"title\":{\"text\":\"Marginal tax rate by UBI policy and income (married couple, two children)\"},\"font\":{\"family\":\"Roboto Serif\",\"color\":\"black\"},\"images\":[{\"sizex\":0.2,\"sizey\":0.2,\"source\":\"https://raw.githubusercontent.com/PolicyEngine/policyengine-app/master/src/images/logos/policyengine/blue.png\",\"x\":1,\"xanchor\":\"right\",\"xref\":\"paper\",\"y\":-0.15,\"yanchor\":\"bottom\",\"yref\":\"paper\"}],\"height\":600,\"width\":800,\"modebar\":{\"bgcolor\":\"rgba(0,0,0,0)\",\"color\":\"rgba(0,0,0,0)\"}}}'"
      ]
     },
     "execution_count": 18,
     "metadata": {},
     "output_type": "execute_result"
    }
   ],
   "source": [
    "import plotly.io as pio\n",
    "\n",
    "fig = px.line(\n",
    "    mtr_df[mtr_df[\"Household type\"] == \"Married couple, two children\"], \n",
    "    x=\"Earnings\", \n",
    "    y=\"Marginal tax rate\", \n",
    "    color=\"Policy\",\n",
    "    color_discrete_sequence=[DARK_GRAY] + BLUE_COLOUR_SCALE,\n",
    ").update_layout(\n",
    "    yaxis_tickformat=\".0%\",\n",
    "    xaxis_tickformat=\",.0f\",\n",
    "    xaxis_tickprefix=\"£\",\n",
    "    yaxis_range=(-0.01, 1),\n",
    "    yaxis_title=\"Marginal tax rate\",\n",
    "    xaxis_title=\"Employment income\",\n",
    "    title=\"Marginal tax rate by UBI policy and income (married couple, two children)\",\n",
    ").update_traces(\n",
    "    line_shape=\"hv\",\n",
    ")\n",
    "format_fig(fig).to_json()"
   ]
  },
  {
   "cell_type": "markdown",
   "metadata": {},
   "source": [
    "Another way of framing these effects is as the change to effective marginal wages. For example, if a policy increases the MTR from 35% to 40%, that lowers the effective marginal wage from 65% to 60%, or by about 8%. Here we see that effective marginal wages are generally lower under the UBI reforms, except for the regions described above.\n"
   ]
  },
  {
   "cell_type": "code",
   "execution_count": 19,
   "metadata": {
    "tags": [
     "hide-input"
    ]
   },
   "outputs": [],
   "source": [
    "import plotly.express as px\n",
    "from policyengine_uk import Simulation\n",
    "import pandas as pd\n",
    "\n",
    "dfs = []\n",
    "for reform, policy_name in zip([model_1_reform, model_2_reform, model_3_reform], [\"£200/month\", \"£300/month\", \"£400/month\"]):\n",
    "    for household_type, household_name in zip(\n",
    "        [SINGLE_NO_CHILDREN, MARRIED_TWO_CHILDREN, PENSIONER_COUPLE_NO_CHILDREN],\n",
    "        [\"Single adult, no children\", \"Married couple, two children\", \"Pensioner couple, no children\"],\n",
    "    ):\n",
    "        baseline_sim = Simulation(situation=household_type)\n",
    "        sim = Simulation(situation=household_type, reform=reform)\n",
    "        mtr = sim.calculate(\"marginal_tax_rate\", 2023) - baseline_sim.calculate(\"marginal_tax_rate\", 2023)\n",
    "        mtr = mtr.reshape((100, -1)).T[0]\n",
    "        wage = - mtr\n",
    "        earnings = sim.calculate(\"employment_income\", map_to=\"household\", period=2023)\n",
    "        df = pd.DataFrame({\"Policy\": policy_name, \"Effective wage change\": wage, \"Earnings\": earnings, \"Household type\": household_name})\n",
    "        dfs.append(df)\n",
    "\n",
    "wage_change_df = pd.concat(dfs)"
   ]
  },
  {
   "cell_type": "code",
   "execution_count": 20,
   "metadata": {
    "tags": [
     "hide-input"
    ]
   },
   "outputs": [
    {
     "data": {
      "text/plain": [
       "'{\"data\":[{\"hovertemplate\":\"Policy=\\\\u00a3200/month<br>Earnings=%{x}<br>Effective wage change=%{y}<extra></extra>\",\"legendgroup\":\"\\\\u00a3200/month\",\"line\":{\"color\":\"#D8E6F3\",\"dash\":\"solid\",\"shape\":\"hv\"},\"marker\":{\"symbol\":\"circle\"},\"mode\":\"lines\",\"name\":\"\\\\u00a3200/month\",\"orientation\":\"v\",\"showlegend\":true,\"x\":[0.0,1560.668701171875,3121.33740234375,4682.00634765625,6242.6748046875,7803.34375,9364.0126953125,10924.6806640625,12485.349609375,14046.017578125,15606.6875,17167.35546875,18728.025390625,20288.69140625,21849.361328125,23410.03125,24970.69921875,26531.369140625,28092.03515625,29652.705078125,31213.375,32774.04296875,34334.7109375,35895.37890625,37456.05078125,39016.71875,40577.3828125,42138.0546875,43698.72265625,45259.39453125,46820.0625,48380.7265625,49941.3984375,51502.06640625,53062.73828125,54623.40625,56184.0703125,57744.7421875,59305.41015625,60866.08203125,62426.75,63987.4140625,65548.0859375,67108.7578125,68669.421875,70230.09375,71790.7578125,73351.4296875,74912.1015625,76472.765625,78033.4375,79594.1015625,81154.765625,82715.4453125,84276.109375,85836.78125,87397.4453125,88958.109375,90518.7890625,92079.453125,93640.125,95200.7890625,96761.453125,98322.1328125,99882.796875,101443.46875,103004.1328125,104564.796875,106125.4765625,107686.140625,109246.8125,110807.4765625,112368.140625,113928.8203125,115489.484375,117050.15625,118610.8203125,120171.484375,121732.1640625,123292.828125,124853.5,126414.1640625,127974.828125,129535.5078125,131096.171875,132656.828125,134217.515625,135778.1875,137338.84375,138899.515625,140460.1875,142020.84375,143581.515625,145142.1875,146702.859375,148263.515625,149824.203125,151384.875,152945.53125,154506.203125],\"xaxis\":\"x\",\"y\":[-0.0,-0.07856154441833496,-0.21782225370407104,-0.21782225370407104,-0.01615232229232788,0.06323438882827759,-0.098019540309906,-0.09802144765853882,-0.09801757335662842,-0.00802147388458252,-0.008019566535949707,-0.008019566535949707,-0.008019566535949707,-0.008017539978027344,-0.008019566535949707,-0.008017539978027344,-0.008019566535949707,-0.008019566535949707,-0.008015632629394531,-0.008023440837860107,-0.008015632629394531,-0.008019566535949707,-0.008019566535949707,-0.1974453330039978,-0.3820234537124634,-0.382019579410553,-0.10680466890335083,-0.017820298671722412,-0.017824232578277588,-0.017820298671722412,-0.017820298671722412,-0.017820298671722412,0.17864841222763062,-0.03564453125,-0.0356484055519104,-0.0356406569480896,-0.03564453125,-0.03564453125,-0.03564453125,-0.03564453125,-0.03564453125,-0.03564453125,-0.0356484055519104,-0.03564453125,-0.03564453125,-0.03564453125,-0.03564453125,-0.0356484055519104,-0.035640597343444824,-0.0356484055519104,-0.035640597343444824,-0.0356406569480896,-0.035640597343444824,-0.0356484055519104,-0.0356484055519104,-0.03564453125,-0.035648465156555176,-0.03564453125,-0.0356484055519104,-0.03564453125,-0.03564453125,-0.0356484055519104,-0.0356484055519104,-0.035640597343444824,-0.051374971866607666,-0.05346876382827759,-0.05256247520446777,0.16435158252716064,0.16435939073562622,0.16435939073562622,0.16435158252716064,0.16435158252716064,0.16435158252716064,0.1643671989440918,0.16435939073562622,0.16435158252716064,0.16435158252716064,0.16435158252716064,0.16435939073562622,0.16435939073562622,0.021656274795532227,-0.0356484055519104,-0.035640597343444824,-0.035640597343444824,-0.0356484055519104,-0.0356484055519104,-0.0356484055519104,-0.035640597343444824,-0.0356484055519104,-0.035640597343444824,-0.035640597343444824,-0.035640597343444824,-0.035640597343444824,-0.035640597343444824,-0.035640597343444824,-0.035640597343444824,-0.035640597343444824,-0.035640597343444824,-0.035640597343444824,-0.035640597343444824],\"yaxis\":\"y\",\"type\":\"scatter\"},{\"hovertemplate\":\"Policy=\\\\u00a3300/month<br>Earnings=%{x}<br>Effective wage change=%{y}<extra></extra>\",\"legendgroup\":\"\\\\u00a3300/month\",\"line\":{\"color\":\"#2C6496\",\"dash\":\"solid\",\"shape\":\"hv\"},\"marker\":{\"symbol\":\"circle\"},\"mode\":\"lines\",\"name\":\"\\\\u00a3300/month\",\"orientation\":\"v\",\"showlegend\":true,\"x\":[0.0,1560.668701171875,3121.33740234375,4682.00634765625,6242.6748046875,7803.34375,9364.0126953125,10924.6806640625,12485.349609375,14046.017578125,15606.6875,17167.35546875,18728.025390625,20288.69140625,21849.361328125,23410.03125,24970.69921875,26531.369140625,28092.03515625,29652.705078125,31213.375,32774.04296875,34334.7109375,35895.37890625,37456.05078125,39016.71875,40577.3828125,42138.0546875,43698.72265625,45259.39453125,46820.0625,48380.7265625,49941.3984375,51502.06640625,53062.73828125,54623.40625,56184.0703125,57744.7421875,59305.41015625,60866.08203125,62426.75,63987.4140625,65548.0859375,67108.7578125,68669.421875,70230.09375,71790.7578125,73351.4296875,74912.1015625,76472.765625,78033.4375,79594.1015625,81154.765625,82715.4453125,84276.109375,85836.78125,87397.4453125,88958.109375,90518.7890625,92079.453125,93640.125,95200.7890625,96761.453125,98322.1328125,99882.796875,101443.46875,103004.1328125,104564.796875,106125.4765625,107686.140625,109246.8125,110807.4765625,112368.140625,113928.8203125,115489.484375,117050.15625,118610.8203125,120171.484375,121732.1640625,123292.828125,124853.5,126414.1640625,127974.828125,129535.5078125,131096.171875,132656.828125,134217.515625,135778.1875,137338.84375,138899.515625,140460.1875,142020.84375,143581.515625,145142.1875,146702.859375,148263.515625,149824.203125,151384.875,152945.53125,154506.203125],\"xaxis\":\"x\",\"y\":[-0.25151365995407104,-0.25151270627975464,-0.25151365995407104,-0.25151365995407104,-0.04984372854232788,0.2984863519668579,-0.11317771673202515,-0.11318165063858032,-0.11317574977874756,-0.023177742958068848,-0.023181676864624023,-0.023181676864624023,-0.023185551166534424,-0.023181676864624023,-0.023185551166534424,-0.023181676864624023,-0.02317965030670166,-0.023173868656158447,-0.02317965030670166,-0.023185551166534424,-0.023183584213256836,-0.02318751811981201,-0.023183584213256836,-0.2126132845878601,-0.39717966318130493,-0.39717966318130493,-0.3971835970878601,-0.39717966318130493,-0.07703125476837158,-0.05151170492172241,-0.05151170492172241,-0.05151563882827759,0.20048433542251587,-0.05151170492172241,-0.05151170492172241,-0.05151176452636719,-0.05151176452636719,-0.05151563882827759,-0.05151170492172241,-0.05151563882827759,-0.05151563882827759,-0.05151563882827759,-0.05151170492172241,-0.05151563882827759,-0.05151563882827759,-0.05151563882827759,-0.05151176452636719,-0.05151563882827759,-0.05150783061981201,-0.05151563882827759,-0.05151563882827759,-0.05150783061981201,-0.05151563882827759,-0.05151563882827759,-0.05151563882827759,-0.05151170492172241,-0.05151563882827759,-0.05151170492172241,-0.05151170492172241,-0.05151563882827759,-0.05151563882827759,-0.05151563882827759,-0.05151951313018799,-0.051500022411346436,0.12505465745925903,0.14848434925079346,0.14849215745925903,0.14848434925079346,0.14849215745925903,0.14848434925079346,0.14849215745925903,0.14849215745925903,0.14848434925079346,0.14849215745925903,0.14848434925079346,0.14849215745925903,0.14848434925079346,0.14848434925079346,0.14847654104232788,0.14848434925079346,0.005789041519165039,-0.05151563882827759,-0.05151563882827759,-0.051507771015167236,-0.05151563882827759,-0.051507771015167236,-0.05151563882827759,-0.051507771015167236,-0.05151563882827759,-0.05151563882827759,-0.05151563882827759,-0.05151563882827759,-0.05151563882827759,-0.051507771015167236,-0.05151563882827759,-0.05151563882827759,-0.05151563882827759,-0.05151563882827759,-0.05151563882827759,-0.05151563882827759],\"yaxis\":\"y\",\"type\":\"scatter\"},{\"hovertemplate\":\"Policy=\\\\u00a3400/month<br>Earnings=%{x}<br>Effective wage change=%{y}<extra></extra>\",\"legendgroup\":\"\\\\u00a3400/month\",\"line\":{\"color\":\"#17354F\",\"dash\":\"solid\",\"shape\":\"hv\"},\"marker\":{\"symbol\":\"circle\"},\"mode\":\"lines\",\"name\":\"\\\\u00a3400/month\",\"orientation\":\"v\",\"showlegend\":true,\"x\":[0.0,1560.668701171875,3121.33740234375,4682.00634765625,6242.6748046875,7803.34375,9364.0126953125,10924.6806640625,12485.349609375,14046.017578125,15606.6875,17167.35546875,18728.025390625,20288.69140625,21849.361328125,23410.03125,24970.69921875,26531.369140625,28092.03515625,29652.705078125,31213.375,32774.04296875,34334.7109375,35895.37890625,37456.05078125,39016.71875,40577.3828125,42138.0546875,43698.72265625,45259.39453125,46820.0625,48380.7265625,49941.3984375,51502.06640625,53062.73828125,54623.40625,56184.0703125,57744.7421875,59305.41015625,60866.08203125,62426.75,63987.4140625,65548.0859375,67108.7578125,68669.421875,70230.09375,71790.7578125,73351.4296875,74912.1015625,76472.765625,78033.4375,79594.1015625,81154.765625,82715.4453125,84276.109375,85836.78125,87397.4453125,88958.109375,90518.7890625,92079.453125,93640.125,95200.7890625,96761.453125,98322.1328125,99882.796875,101443.46875,103004.1328125,104564.796875,106125.4765625,107686.140625,109246.8125,110807.4765625,112368.140625,113928.8203125,115489.484375,117050.15625,118610.8203125,120171.484375,121732.1640625,123292.828125,124853.5,126414.1640625,127974.828125,129535.5078125,131096.171875,132656.828125,134217.515625,135778.1875,137338.84375,138899.515625,140460.1875,142020.84375,143581.515625,145142.1875,146702.859375,148263.515625,149824.203125,151384.875,152945.53125,154506.203125],\"xaxis\":\"x\",\"y\":[-0.31450194120407104,-0.31450098752975464,-0.31450194120407104,-0.31450194120407104,-0.11283200979232788,0.2354980707168579,0.10981446504592896,-0.14152538776397705,-0.14152735471725464,-0.05152535438537598,-0.05152535438537598,-0.051523447036743164,-0.051523447036743164,-0.051523447036743164,-0.051523447036743164,-0.05152738094329834,-0.05152738094329834,-0.05152547359466553,-0.051523447036743164,-0.05152541399002075,-0.051523447036743164,-0.051523447036743164,-0.05152738094329834,-0.2409570813179016,-0.4255273938179016,-0.42552345991134644,-0.4255273938179016,-0.4255273938179016,-0.4255273938179016,-0.4255273938179016,-0.4255273938179016,-0.19767969846725464,0.21437889337539673,-3.874301910400391e-06,-7.808208465576172e-06,3.874301910400391e-06,3.874301910400391e-06,-0.0,-0.0,-0.0,-0.0,-0.0,-0.0,-3.874301910400391e-06,-0.0,-3.874301910400391e-06,-3.933906555175781e-06,-0.0,-0.0,-0.0,-0.0,3.874301910400391e-06,-0.0,-3.874301910400391e-06,-0.0,-0.0,-0.0,-3.874301910400391e-06,-0.0,3.933906555175781e-06,-0.0,-0.0,-7.808208465576172e-06,7.808208465576172e-06,0.17656248807907104,0.19999217987060547,0.19999998807907104,0.19999998807907104,0.19999998807907104,0.19999217987060547,0.19999998807907104,0.19999998807907104,0.19999998807907104,0.19999998807907104,0.19999998807907104,0.19999998807907104,0.1999843716621399,0.19999998807907104,0.19999217987060547,0.19999998807907104,0.05729687213897705,-7.808208465576172e-06,-0.0,-0.0,-0.0,-0.0,-0.0,-0.0,-0.0,-0.0,-0.0,-0.0,-0.0,-0.0,-0.0,-0.0,-0.0,-0.0,-0.0,-0.0],\"yaxis\":\"y\",\"type\":\"scatter\"}],\"layout\":{\"template\":{\"data\":{\"barpolar\":[{\"marker\":{\"line\":{\"color\":\"white\",\"width\":0.5},\"pattern\":{\"fillmode\":\"overlay\",\"size\":10,\"solidity\":0.2}},\"type\":\"barpolar\"}],\"bar\":[{\"error_x\":{\"color\":\"#2a3f5f\"},\"error_y\":{\"color\":\"#2a3f5f\"},\"marker\":{\"line\":{\"color\":\"white\",\"width\":0.5},\"pattern\":{\"fillmode\":\"overlay\",\"size\":10,\"solidity\":0.2}},\"type\":\"bar\"}],\"carpet\":[{\"aaxis\":{\"endlinecolor\":\"#2a3f5f\",\"gridcolor\":\"#C8D4E3\",\"linecolor\":\"#C8D4E3\",\"minorgridcolor\":\"#C8D4E3\",\"startlinecolor\":\"#2a3f5f\"},\"baxis\":{\"endlinecolor\":\"#2a3f5f\",\"gridcolor\":\"#C8D4E3\",\"linecolor\":\"#C8D4E3\",\"minorgridcolor\":\"#C8D4E3\",\"startlinecolor\":\"#2a3f5f\"},\"type\":\"carpet\"}],\"choropleth\":[{\"colorbar\":{\"outlinewidth\":0,\"ticks\":\"\"},\"type\":\"choropleth\"}],\"contourcarpet\":[{\"colorbar\":{\"outlinewidth\":0,\"ticks\":\"\"},\"type\":\"contourcarpet\"}],\"contour\":[{\"colorbar\":{\"outlinewidth\":0,\"ticks\":\"\"},\"colorscale\":[[0.0,\"#0d0887\"],[0.1111111111111111,\"#46039f\"],[0.2222222222222222,\"#7201a8\"],[0.3333333333333333,\"#9c179e\"],[0.4444444444444444,\"#bd3786\"],[0.5555555555555556,\"#d8576b\"],[0.6666666666666666,\"#ed7953\"],[0.7777777777777778,\"#fb9f3a\"],[0.8888888888888888,\"#fdca26\"],[1.0,\"#f0f921\"]],\"type\":\"contour\"}],\"heatmapgl\":[{\"colorbar\":{\"outlinewidth\":0,\"ticks\":\"\"},\"colorscale\":[[0.0,\"#0d0887\"],[0.1111111111111111,\"#46039f\"],[0.2222222222222222,\"#7201a8\"],[0.3333333333333333,\"#9c179e\"],[0.4444444444444444,\"#bd3786\"],[0.5555555555555556,\"#d8576b\"],[0.6666666666666666,\"#ed7953\"],[0.7777777777777778,\"#fb9f3a\"],[0.8888888888888888,\"#fdca26\"],[1.0,\"#f0f921\"]],\"type\":\"heatmapgl\"}],\"heatmap\":[{\"colorbar\":{\"outlinewidth\":0,\"ticks\":\"\"},\"colorscale\":[[0.0,\"#0d0887\"],[0.1111111111111111,\"#46039f\"],[0.2222222222222222,\"#7201a8\"],[0.3333333333333333,\"#9c179e\"],[0.4444444444444444,\"#bd3786\"],[0.5555555555555556,\"#d8576b\"],[0.6666666666666666,\"#ed7953\"],[0.7777777777777778,\"#fb9f3a\"],[0.8888888888888888,\"#fdca26\"],[1.0,\"#f0f921\"]],\"type\":\"heatmap\"}],\"histogram2dcontour\":[{\"colorbar\":{\"outlinewidth\":0,\"ticks\":\"\"},\"colorscale\":[[0.0,\"#0d0887\"],[0.1111111111111111,\"#46039f\"],[0.2222222222222222,\"#7201a8\"],[0.3333333333333333,\"#9c179e\"],[0.4444444444444444,\"#bd3786\"],[0.5555555555555556,\"#d8576b\"],[0.6666666666666666,\"#ed7953\"],[0.7777777777777778,\"#fb9f3a\"],[0.8888888888888888,\"#fdca26\"],[1.0,\"#f0f921\"]],\"type\":\"histogram2dcontour\"}],\"histogram2d\":[{\"colorbar\":{\"outlinewidth\":0,\"ticks\":\"\"},\"colorscale\":[[0.0,\"#0d0887\"],[0.1111111111111111,\"#46039f\"],[0.2222222222222222,\"#7201a8\"],[0.3333333333333333,\"#9c179e\"],[0.4444444444444444,\"#bd3786\"],[0.5555555555555556,\"#d8576b\"],[0.6666666666666666,\"#ed7953\"],[0.7777777777777778,\"#fb9f3a\"],[0.8888888888888888,\"#fdca26\"],[1.0,\"#f0f921\"]],\"type\":\"histogram2d\"}],\"histogram\":[{\"marker\":{\"pattern\":{\"fillmode\":\"overlay\",\"size\":10,\"solidity\":0.2}},\"type\":\"histogram\"}],\"mesh3d\":[{\"colorbar\":{\"outlinewidth\":0,\"ticks\":\"\"},\"type\":\"mesh3d\"}],\"parcoords\":[{\"line\":{\"colorbar\":{\"outlinewidth\":0,\"ticks\":\"\"}},\"type\":\"parcoords\"}],\"pie\":[{\"automargin\":true,\"type\":\"pie\"}],\"scatter3d\":[{\"line\":{\"colorbar\":{\"outlinewidth\":0,\"ticks\":\"\"}},\"marker\":{\"colorbar\":{\"outlinewidth\":0,\"ticks\":\"\"}},\"type\":\"scatter3d\"}],\"scattercarpet\":[{\"marker\":{\"colorbar\":{\"outlinewidth\":0,\"ticks\":\"\"}},\"type\":\"scattercarpet\"}],\"scattergeo\":[{\"marker\":{\"colorbar\":{\"outlinewidth\":0,\"ticks\":\"\"}},\"type\":\"scattergeo\"}],\"scattergl\":[{\"marker\":{\"colorbar\":{\"outlinewidth\":0,\"ticks\":\"\"}},\"type\":\"scattergl\"}],\"scattermapbox\":[{\"marker\":{\"colorbar\":{\"outlinewidth\":0,\"ticks\":\"\"}},\"type\":\"scattermapbox\"}],\"scatterpolargl\":[{\"marker\":{\"colorbar\":{\"outlinewidth\":0,\"ticks\":\"\"}},\"type\":\"scatterpolargl\"}],\"scatterpolar\":[{\"marker\":{\"colorbar\":{\"outlinewidth\":0,\"ticks\":\"\"}},\"type\":\"scatterpolar\"}],\"scatter\":[{\"fillpattern\":{\"fillmode\":\"overlay\",\"size\":10,\"solidity\":0.2},\"type\":\"scatter\"}],\"scatterternary\":[{\"marker\":{\"colorbar\":{\"outlinewidth\":0,\"ticks\":\"\"}},\"type\":\"scatterternary\"}],\"surface\":[{\"colorbar\":{\"outlinewidth\":0,\"ticks\":\"\"},\"colorscale\":[[0.0,\"#0d0887\"],[0.1111111111111111,\"#46039f\"],[0.2222222222222222,\"#7201a8\"],[0.3333333333333333,\"#9c179e\"],[0.4444444444444444,\"#bd3786\"],[0.5555555555555556,\"#d8576b\"],[0.6666666666666666,\"#ed7953\"],[0.7777777777777778,\"#fb9f3a\"],[0.8888888888888888,\"#fdca26\"],[1.0,\"#f0f921\"]],\"type\":\"surface\"}],\"table\":[{\"cells\":{\"fill\":{\"color\":\"#EBF0F8\"},\"line\":{\"color\":\"white\"}},\"header\":{\"fill\":{\"color\":\"#C8D4E3\"},\"line\":{\"color\":\"white\"}},\"type\":\"table\"}]},\"layout\":{\"annotationdefaults\":{\"arrowcolor\":\"#2a3f5f\",\"arrowhead\":0,\"arrowwidth\":1},\"autotypenumbers\":\"strict\",\"coloraxis\":{\"colorbar\":{\"outlinewidth\":0,\"ticks\":\"\"}},\"colorscale\":{\"diverging\":[[0,\"#8e0152\"],[0.1,\"#c51b7d\"],[0.2,\"#de77ae\"],[0.3,\"#f1b6da\"],[0.4,\"#fde0ef\"],[0.5,\"#f7f7f7\"],[0.6,\"#e6f5d0\"],[0.7,\"#b8e186\"],[0.8,\"#7fbc41\"],[0.9,\"#4d9221\"],[1,\"#276419\"]],\"sequential\":[[0.0,\"#0d0887\"],[0.1111111111111111,\"#46039f\"],[0.2222222222222222,\"#7201a8\"],[0.3333333333333333,\"#9c179e\"],[0.4444444444444444,\"#bd3786\"],[0.5555555555555556,\"#d8576b\"],[0.6666666666666666,\"#ed7953\"],[0.7777777777777778,\"#fb9f3a\"],[0.8888888888888888,\"#fdca26\"],[1.0,\"#f0f921\"]],\"sequentialminus\":[[0.0,\"#0d0887\"],[0.1111111111111111,\"#46039f\"],[0.2222222222222222,\"#7201a8\"],[0.3333333333333333,\"#9c179e\"],[0.4444444444444444,\"#bd3786\"],[0.5555555555555556,\"#d8576b\"],[0.6666666666666666,\"#ed7953\"],[0.7777777777777778,\"#fb9f3a\"],[0.8888888888888888,\"#fdca26\"],[1.0,\"#f0f921\"]]},\"colorway\":[\"#636efa\",\"#EF553B\",\"#00cc96\",\"#ab63fa\",\"#FFA15A\",\"#19d3f3\",\"#FF6692\",\"#B6E880\",\"#FF97FF\",\"#FECB52\"],\"font\":{\"color\":\"#2a3f5f\"},\"geo\":{\"bgcolor\":\"white\",\"lakecolor\":\"white\",\"landcolor\":\"white\",\"showlakes\":true,\"showland\":true,\"subunitcolor\":\"#C8D4E3\"},\"hoverlabel\":{\"align\":\"left\"},\"hovermode\":\"closest\",\"mapbox\":{\"style\":\"light\"},\"paper_bgcolor\":\"white\",\"plot_bgcolor\":\"white\",\"polar\":{\"angularaxis\":{\"gridcolor\":\"#EBF0F8\",\"linecolor\":\"#EBF0F8\",\"ticks\":\"\"},\"bgcolor\":\"white\",\"radialaxis\":{\"gridcolor\":\"#EBF0F8\",\"linecolor\":\"#EBF0F8\",\"ticks\":\"\"}},\"scene\":{\"xaxis\":{\"backgroundcolor\":\"white\",\"gridcolor\":\"#DFE8F3\",\"gridwidth\":2,\"linecolor\":\"#EBF0F8\",\"showbackground\":true,\"ticks\":\"\",\"zerolinecolor\":\"#EBF0F8\"},\"yaxis\":{\"backgroundcolor\":\"white\",\"gridcolor\":\"#DFE8F3\",\"gridwidth\":2,\"linecolor\":\"#EBF0F8\",\"showbackground\":true,\"ticks\":\"\",\"zerolinecolor\":\"#EBF0F8\"},\"zaxis\":{\"backgroundcolor\":\"white\",\"gridcolor\":\"#DFE8F3\",\"gridwidth\":2,\"linecolor\":\"#EBF0F8\",\"showbackground\":true,\"ticks\":\"\",\"zerolinecolor\":\"#EBF0F8\"}},\"shapedefaults\":{\"line\":{\"color\":\"#2a3f5f\"}},\"ternary\":{\"aaxis\":{\"gridcolor\":\"#DFE8F3\",\"linecolor\":\"#A2B1C6\",\"ticks\":\"\"},\"baxis\":{\"gridcolor\":\"#DFE8F3\",\"linecolor\":\"#A2B1C6\",\"ticks\":\"\"},\"bgcolor\":\"white\",\"caxis\":{\"gridcolor\":\"#DFE8F3\",\"linecolor\":\"#A2B1C6\",\"ticks\":\"\"}},\"title\":{\"x\":0.05},\"xaxis\":{\"automargin\":true,\"gridcolor\":\"#EBF0F8\",\"linecolor\":\"#EBF0F8\",\"ticks\":\"\",\"title\":{\"standoff\":15},\"zerolinecolor\":\"#EBF0F8\",\"zerolinewidth\":2},\"yaxis\":{\"automargin\":true,\"gridcolor\":\"#EBF0F8\",\"linecolor\":\"#EBF0F8\",\"ticks\":\"\",\"title\":{\"standoff\":15},\"zerolinecolor\":\"#EBF0F8\",\"zerolinewidth\":2}}},\"xaxis\":{\"anchor\":\"y\",\"domain\":[0.0,1.0],\"title\":{\"text\":\"Employment income\"},\"tickformat\":\",.0f\",\"tickprefix\":\"\\\\u00a3\"},\"yaxis\":{\"anchor\":\"x\",\"domain\":[0.0,1.0],\"title\":{\"text\":\"Change to effective marginal wage\"},\"tickformat\":\"+.0%\",\"range\":[-1,1]},\"legend\":{\"title\":{\"text\":\"Policy\"},\"tracegroupgap\":0},\"margin\":{\"t\":60},\"title\":{\"text\":\"Figure 15: Change to effective marginal wage by UBI policy and income (married couple, two children)\"},\"shapes\":[{\"line\":{\"color\":\"grey\",\"width\":1},\"type\":\"line\",\"x0\":0,\"x1\":1,\"xref\":\"paper\",\"y0\":0,\"y1\":0,\"yref\":\"y\"}],\"font\":{\"family\":\"Roboto Serif\",\"color\":\"black\"},\"images\":[{\"sizex\":0.2,\"sizey\":0.2,\"source\":\"https://raw.githubusercontent.com/PolicyEngine/policyengine-app/master/src/images/logos/policyengine/blue.png\",\"x\":1,\"xanchor\":\"right\",\"xref\":\"paper\",\"y\":-0.15,\"yanchor\":\"bottom\",\"yref\":\"paper\"}],\"height\":600,\"width\":800,\"modebar\":{\"bgcolor\":\"rgba(0,0,0,0)\",\"color\":\"rgba(0,0,0,0)\"}}}'"
      ]
     },
     "execution_count": 20,
     "metadata": {},
     "output_type": "execute_result"
    }
   ],
   "source": [
    "import plotly.io as pio\n",
    "\n",
    "def plot_wage(household_name: str):\n",
    "    fig = px.line(\n",
    "        wage_change_df[wage_change_df[\"Household type\"] == household_name], \n",
    "        x=\"Earnings\", \n",
    "        y=\"Effective wage change\", \n",
    "        color=\"Policy\",\n",
    "        color_discrete_sequence=BLUE_COLOUR_SCALE,\n",
    "    ).update_layout(\n",
    "        yaxis_tickformat=\"+.0%\",\n",
    "        xaxis_tickformat=\",.0f\",\n",
    "        xaxis_tickprefix=\"£\",\n",
    "        yaxis_range=(-1, 1),\n",
    "        yaxis_title=\"Change to effective marginal wage\",\n",
    "        xaxis_title=\"Employment income\",\n",
    "        title=\"Figure 15: Change to effective marginal wage by UBI policy and income (married couple, two children)\",\n",
    "    ).update_traces(\n",
    "        line_shape=\"hv\",\n",
    "    )\n",
    "    fig.add_shape(\n",
    "            type=\"line\",\n",
    "            xref=\"paper\",\n",
    "            yref=\"y\",\n",
    "            x0=0,\n",
    "            y0=0,\n",
    "            x1=1,\n",
    "            y1=0,\n",
    "            line=dict(color=\"grey\", width=1),\n",
    "        )\n",
    "    return format_fig(fig)\n",
    "plot_wage(H2).to_json()"
   ]
  },
  {
   "cell_type": "markdown",
   "metadata": {},
   "source": [
    "# Conclusion\n",
    "\n",
    "Any one of the UBI policies described here would dramatically reshape Northern Ireland, achieving overnight poverty reductions NI has taken years or decades to see naturally.\n",
    "\n",
    "Yet that reshaping also comes in the form of disruption and potential macroeconomic drag. A substantial portion of the nation would come out behind, and many by material amounts. And most would face considerably higher marginal tax rates.\n",
    "\n",
    "Our static model does not fully account for these costs. A [recent paper](http://www.columbia.edu/~wk2110/bin/DeatonReviewChapter.pdf) from IFS and Columbia University found, \"Current estimates therefore suggest that the top UK rate [of 47%] is close to revenue maximising, but there is a very large degree of uncertainty around this.\" Some of these reforms would bring that top rate closer to 80%, and extend it to a thicker part of the earnings distribution. While poverty reduction would benefit the economy, reducing the net marginal wage for hundreds of thousands of workers could shrink it, and more research is needed to understand the full impact of these countervailing forces.\n",
    "\n",
    "More research could also identify policies that achieve similar distributional benefits without so much disruption. For example, others have [created an optimisation model](ubicenter.org/uk-blank-slate-ubi) to explore tens of thousands of UBI policies and select the age-dependent amounts that minimised disruption. That approach could be applied to NI specifically, and with potentially more levers such as the tax reforms we applied here.\n",
    "\n",
    "Our microsimulation approach provides one piece of the puzzle in understanding a feasible transition to universal basic income in Northern Ireland.\n"
   ]
  },
  {
   "cell_type": "markdown",
   "metadata": {},
   "source": [
    "## Appendix A: PolicyEngine's data generation procedure\n",
    "\n",
    "PolicyEngine's enhanced FRS dataset counters many of the biases present within the unadjusted dataset. This section describes the data generation procedure in detail.\n",
    "\n",
    "1. **Start with the 2019-20 Family Resources Survey (FRS).** The Department of Work and Pensions administers the annual FRS, collecting information on household structure, income, taxes, and benefits from respondents. The FRS reports households' region, and 2,075 of its 19,210 households reside in Northern Ireland; these form the basis of this report. Like other research institutions, PolicyEngine skips the 2020-21 FRS round released in 2022, as Covid distorts its use for future-looking analysis.\n",
    "2. **Duplicate the FRS and replace income variables in a replicate with imputed values from the Survey of Personal Incomes (SPI).** HMRC releases the SPI as an anonymised sample of tax records. It is more accurate than the FRS, though it lacks demographic and benefit information of the FRS. PolicyEngine applies its [synthimpute](https://github.com/PSLmodels/synthimpute/releases) machine learning technology to impute from the conditional distribution of each record, ensuring that this copy of the FRS includes the tails of SPI records.\n",
    "3. **Stack the original and SPI-imputed FRS.** This gives the subsequent reweighting algorithm the opportunity to balance originally-reported FRS income and SPI-imputed income for each person.\n",
    "4. **Fuse consumption data from the Living Costs and Food Survey and wealth data from the Wealth and Assets Survey to the stacked FRS.** PolicyEngine imputes these signals using synthimpute; while this report does not make use of them, PolicyEngine makes them available for simulations of other policies like a land value tax and carbon tax.\n",
    "5. **Uprate (age) the survey data for each year from the survey year to 2026.** PolicyEngine uprates data in accordance with projections from the Office of National Statistics, such as projections of how average earnings will change.\n",
    "6. **Replace taxes and benefits with computed values for each modelled year.** PolicyEngine applies tax and benefit rules both to capture policy changes and to produce a baseline that responds only to policy reforms. They model benefit take-up by respecting whether a person, benefit unit, or household claimed a benefit if eligible, and assigning a probability for each benefit for ineligible households based on reported take-up rates.\n",
    "7. **Construct a loss metric measuring the aggregate deviation of totals from the survey to administrative totals reported by the government, for each modelled year.** PolicyEngine's loss metric covers population, income, benefits, and taxes at various granularities. In total, this loss metric has 2,664 components, of which 264 are specific to Northern Ireland.\n",
    "8. **Reweight the dataset to minimise this loss metric using gradient descent.** The gradient descent algorithm computes the change to the loss metric with respect to small perturbations of an input (in this case, a household's survey weight), then moves each input (weight) by some multiplier of that change (known as the _learning rate_), and iteratively continues this process. Artificial intelligence models like deep neural networks rely heavily on gradient descent. PolicyEngine identifies the number of iterations that minimises the loss on an out-of-sample set of validation metrics to avoid overfitting, and prevents negative weights. The [reweighting procedure](https://policyengine.github.io/openfisca-uk//model/reweighting.html) results in 862 Northern Ireland households with nonzero weight, and reduces the loss metric by about 99.5% compared to its initial value. Figure 16 shows that PolicyEngine's data enhancement dramatically reduces error rates for key Northern Ireland aggregates.\n",
    "\n",
    "We publish this dataset's accuracy in our [documentation page on validation](https://policyengine.github.io/openfisca-uk//model/validation.html), which shows that their model deviates from administrative totals less than UKMOD does (only UKMOD publishes their totals amongst other UK microsimulation models).\n",
    "\n",
    "**Table 2: Error rates for selected Northern Ireland aggregates based on the original and PolicyEngine-enhanced 2019/20 Family Resources Survey**\n"
   ]
  },
  {
   "cell_type": "code",
   "execution_count": 21,
   "metadata": {},
   "outputs": [
    {
     "data": {
      "text/markdown": [
       "| Variable                         |   Target total |   Original FRS total |   Calibrated FRS total |   Original FRS error (%) |   Calibrated FRS error (%) |\n",
       "|:---------------------------------|---------------:|---------------------:|-----------------------:|-------------------------:|---------------------------:|\n",
       "| Income from dividends (£bn)      |           1.4  |                 0.1  |                   1.39 |                   -93    |                      -0.59 |\n",
       "| Employment income (£bn)          |          19    |                19.17 |                  18.45 |                     0.91 |                      -2.87 |\n",
       "| Pension income (£bn)             |           2.23 |                 2.52 |                   2.37 |                    13.03 |                       6.1  |\n",
       "| Rental income (£bn)              |           0.56 |                 0.23 |                   0.56 |                   -58.07 |                      -0.62 |\n",
       "| Savings interest income (£bn)    |           0.15 |                 0.1  |                   0.15 |                   -30.4  |                      -0.96 |\n",
       "| Self-employment income (£bn)     |           2.2  |                 2.29 |                   2.15 |                     4.1  |                      -2.41 |\n",
       "| Income Tax (£bn)                 |           3.03 |                 2.84 |                   2.97 |                    -6.42 |                      -1.98 |\n",
       "| National Insurance (total) (£bn) |           3.01 |                 3.28 |                   2.98 |                     8.83 |                      -1.02 |\n",
       "| Population (m)                   |           1.9  |                 1.86 |                   1.78 |                    -1.68 |                      -6.01 |\n",
       "| Households (m)                   |           0.77 |                 0.74 |                   0.77 |                    -3.83 |                      -0.07 |"
      ],
      "text/plain": [
       "<IPython.core.display.Markdown object>"
      ]
     },
     "execution_count": 21,
     "metadata": {},
     "output_type": "execute_result"
    }
   ],
   "source": [
    "import pandas as pd\n",
    "\n",
    "# Creating data dictionary\n",
    "data = {\n",
    "    'Variable': [\n",
    "        'Income from dividends (£bn)',\n",
    "        'Employment income (£bn)',\n",
    "        'Pension income (£bn)',\n",
    "        'Rental income (£bn)',\n",
    "        'Savings interest income (£bn)',\n",
    "        'Self-employment income (£bn)',\n",
    "        'Income Tax (£bn)',\n",
    "        'National Insurance (total) (£bn)',\n",
    "        'Population (m)',\n",
    "        'Households (m)'\n",
    "    ],\n",
    "    'Target total': [1.40, 19.00, 2.23, 0.56, 0.15, 2.20, 3.03, 3.01, 1.90, 0.77],\n",
    "    'Original FRS total': [0.10, 19.17, 2.52, 0.23, 0.10, 2.29, 2.84, 3.28, 1.86, 0.74],\n",
    "    'Calibrated FRS total': [1.39, 18.45, 2.37, 0.56, 0.15, 2.15, 2.97, 2.98, 1.78, 0.77],\n",
    "    'Original FRS error (%)': [-93.00, 0.91, 13.03, -58.07, -30.40, 4.10, -6.42, 8.83, -1.68, -3.83],\n",
    "    'Calibrated FRS error (%)': [-0.59, -2.87, 6.10, -0.62, -0.96, -2.41, -1.98, -1.02, -6.01, -0.07]\n",
    "}\n",
    "\n",
    "from IPython.display import Markdown\n",
    "df = pd.DataFrame(data)\n",
    "Markdown(df.to_markdown(index=False))"
   ]
  },
  {
   "cell_type": "markdown",
   "metadata": {},
   "source": [
    "## Appendix B: Previous UBI models\n",
    "\n",
    "A previous version of this report included children below the age of 16 in the UBI policy, giving them half the adult amount. Table 3 shows the results of that approach: for each of the three models above, we include a version which used the same feasibility criteria including children.\n",
    "\n",
    "Table 3: Three policies to fund a UBI in Northern Ireland, including children\n"
   ]
  },
  {
   "cell_type": "code",
   "execution_count": 22,
   "metadata": {},
   "outputs": [
    {
     "name": "stderr",
     "output_type": "stream",
     "text": [
      "100%|██████████| 14/14 [01:15<00:00,  5.38s/it]\n"
     ]
    }
   ],
   "source": [
    "df_child_space = create_policy_space(child_min_age=0)\n",
    "child_model_1_row, child_model_2_row, child_model_3_row = extract_three_model_rows(df_child_space, child_min_age=0)\n",
    "child_summary_table = create_summary_table(child_model_1_row, child_model_2_row, child_model_3_row)"
   ]
  },
  {
   "cell_type": "code",
   "execution_count": 23,
   "metadata": {},
   "outputs": [
    {
     "data": {
      "text/markdown": [
       "|                                 | Model 1                                                                                                                                        | Model 1c                                                                                                                                       | Model 2                                                                                                                                        | Model 2c                                                                                                                                       | Model 3                                                                                                                                        | Model 3c                                                                                                                                       |\n",
       "|:--------------------------------|:-----------------------------------------------------------------------------------------------------------------------------------------------|:-----------------------------------------------------------------------------------------------------------------------------------------------|:-----------------------------------------------------------------------------------------------------------------------------------------------|:-----------------------------------------------------------------------------------------------------------------------------------------------|:-----------------------------------------------------------------------------------------------------------------------------------------------|:-----------------------------------------------------------------------------------------------------------------------------------------------|\n",
       "| Monthly UBI amount for adults   | £200                                                                                                                                           | £200                                                                                                                                           | £300                                                                                                                                           | £300                                                                                                                                           | £400                                                                                                                                           | £400                                                                                                                                           |\n",
       "| Monthly UBI amount for children | £0                                                                                                                                             | £0                                                                                                                                             | £0                                                                                                                                             | £0                                                                                                                                             | £0                                                                                                                                             | £0                                                                                                                                             |\n",
       "| Personal Allowance              | £2,000                                                                                                                                         | £2,000                                                                                                                                         | £0                                                                                                                                             | £0                                                                                                                                             | £0                                                                                                                                             | £0                                                                                                                                             |\n",
       "| Basic rate increase             | 1.8p                                                                                                                                           | 3.0p                                                                                                                                           | 5.2p                                                                                                                                           | 7.1p                                                                                                                                           | 11.5p                                                                                                                                          | 14.4p                                                                                                                                          |\n",
       "| Higher rate increase            | 3.6p                                                                                                                                           | 5.9p                                                                                                                                           | 5.2p                                                                                                                                           | 7.1p                                                                                                                                           | 0.0p                                                                                                                                           | 0.0p                                                                                                                                           |\n",
       "| Additional rate increase        | 3.6p                                                                                                                                           | 5.9p                                                                                                                                           | 5.2p                                                                                                                                           | 7.1p                                                                                                                                           | 0.0p                                                                                                                                           | 0.0p                                                                                                                                           |\n",
       "| Net cost                        | £0.8bn                                                                                                                                         | £1.0bn                                                                                                                                         | £1.3bn                                                                                                                                         | £1.4bn                                                                                                                                         | £1.7bn                                                                                                                                         | £1.9bn                                                                                                                                         |\n",
       "| Revenue raised                  | £2.8bn                                                                                                                                         | £3.2bn                                                                                                                                         | £4.3bn                                                                                                                                         | £4.8bn                                                                                                                                         | £5.7bn                                                                                                                                         | £6.5bn                                                                                                                                         |\n",
       "| Basic income spending           | £3.4bn                                                                                                                                         | £3.9bn                                                                                                                                         | £5.1bn                                                                                                                                         | £5.8bn                                                                                                                                         | £6.8bn                                                                                                                                         | £7.7bn                                                                                                                                         |\n",
       "| Benefit outlay increase         | £262m                                                                                                                                          | £283m                                                                                                                                          | £430m                                                                                                                                          | £482m                                                                                                                                          | £610m                                                                                                                                          | £703m                                                                                                                                          |\n",
       "| Poverty impact                  | -36.1%                                                                                                                                         | -40.2%                                                                                                                                         | -44.6%                                                                                                                                         | -45.6%                                                                                                                                         | -58.9%                                                                                                                                         | -68.1%                                                                                                                                         |\n",
       "| Inequality impact               | -9.1%                                                                                                                                          | -12.4%                                                                                                                                         | -14.0%                                                                                                                                         | -18.1%                                                                                                                                         | -17.7%                                                                                                                                         | -22.3%                                                                                                                                         |\n",
       "| Percent of population gaining   | 66%                                                                                                                                            | 74%                                                                                                                                            | 70%                                                                                                                                            | 74%                                                                                                                                            | 70%                                                                                                                                            | 71%                                                                                                                                            |\n",
       "| Westminster contribution        | 24.8%                                                                                                                                          | 25.4%                                                                                                                                          | 24.7%                                                                                                                                          | 25.1%                                                                                                                                          | 24.8%                                                                                                                                          | 25.1%                                                                                                                                          |\n",
       "| PolicyEngine link               | <a href=\"http://localhost:3000/uk/policy?reform=33122&focus=policyOutput.decileRelativeImpact&region=ni&timePeriod=2023&baseline=1\">#33122</a> | <a href=\"http://localhost:3000/uk/policy?reform=33193&focus=policyOutput.decileRelativeImpact&region=ni&timePeriod=2023&baseline=1\">#33193</a> | <a href=\"http://localhost:3000/uk/policy?reform=33123&focus=policyOutput.decileRelativeImpact&region=ni&timePeriod=2023&baseline=1\">#33123</a> | <a href=\"http://localhost:3000/uk/policy?reform=33194&focus=policyOutput.decileRelativeImpact&region=ni&timePeriod=2023&baseline=1\">#33194</a> | <a href=\"http://localhost:3000/uk/policy?reform=33124&focus=policyOutput.decileRelativeImpact&region=ni&timePeriod=2023&baseline=1\">#33124</a> | <a href=\"http://localhost:3000/uk/policy?reform=33195&focus=policyOutput.decileRelativeImpact&region=ni&timePeriod=2023&baseline=1\">#33195</a> |"
      ],
      "text/plain": [
       "<IPython.core.display.Markdown object>"
      ]
     },
     "execution_count": 23,
     "metadata": {},
     "output_type": "execute_result"
    }
   ],
   "source": [
    "combined_table = pd.concat([\n",
    "    summary_table,\n",
    "    child_summary_table,\n",
    "]).T\n",
    "\n",
    "# Intersperse the columns (1, 4, 2, 5, 3, 6)\n",
    "\n",
    "combined_table = combined_table.iloc[:, [0, 3, 1, 4, 2, 5]]\n",
    "\n",
    "# Rename index (Model 1, Model 1(C), Model 2, Model 2(C), Model 3, Model 3(C))\n",
    "\n",
    "combined_table.columns = [\n",
    "    \"Model 1\",\n",
    "    \"Model 1c\",\n",
    "    \"Model 2\",\n",
    "    \"Model 2c\",\n",
    "    \"Model 3\",\n",
    "    \"Model 3c\",\n",
    "]\n",
    "\n",
    "Markdown(combined_table.to_markdown())"
   ]
  }
 ],
 "metadata": {
  "kernelspec": {
   "display_name": "Python 3.7.13 ('policyengine')",
   "language": "python",
   "name": "python3"
  },
  "language_info": {
   "codemirror_mode": {
    "name": "ipython",
    "version": 3
   },
   "file_extension": ".py",
   "mimetype": "text/x-python",
   "name": "python",
   "nbconvert_exporter": "python",
   "pygments_lexer": "ipython3",
   "version": "3.9.12"
  },
  "vscode": {
   "interpreter": {
    "hash": "b3d32dd368ae8f4a8d01f617ffd041f85e5cc660529457803f0af86bbe37ac63"
   }
  }
 },
 "nbformat": 4,
 "nbformat_minor": 4
}
