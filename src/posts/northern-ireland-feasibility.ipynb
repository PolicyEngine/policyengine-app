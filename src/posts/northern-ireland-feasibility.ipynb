{
 "cells": [
  {
   "cell_type": "markdown",
   "metadata": {
    "tags": [
     "hide-input"
    ]
   },
   "source": [
    "# Executive summary\n",
    "\n",
    "Northern Ireland is both unusually egalitarian and unusually supportive of universal basic income, the idea to provide everyone in society a regular unconditional payment. But so far, no study has quantified how the nation might enact a universal basic income (UBI) through tax and benefit reforms.\n",
    "\n",
    "Following proposals by the UBI Lab Northern Ireland, we fill that gap. This paper begins with a description of Northern Ireland's economy, then identifies over 120 tax-funded UBI policies, and zooms in on three in particular. These policies cover the space of UBI amounts (£200 to £400 per adult, per month) and tax reforms (lowering the personal allowance and increasing tax rates). As shown below, each of the policies significantly lowers poverty and inequality in Northern Ireland, while benefiting a majority of the population.\n",
    "\n",
    "We follow our population-level analysis with a household analysis, visualising how each of these three policies would affect the net income and work incentives of archetypical households. While each policy benefits low-income households and families with children, it leaves childless singles worse off when their income exceeds about £10,000. It also lowers the payoff to working for most workers, though it smooths out some of the most severe disincentives in the current system.\n",
    "\n",
    "UBI is a significant economic proposition, and our analysis finds that it would leave a major mark on most Northern Ireland residents—in an undeniably progressive fashion. We conclude with caveats of our analysis, opportunities for less disruptive models, and room for more research.\n",
    "\n",
    "\n",
    "# Northern Ireland today\n",
    "\n",
    "The demographic and economic characteristics of Northern Ireland (NI) differ from those of the UK and other UK nations. In the main, this is lower economic output, but higher levels of social security spending. NI has a GDP per capita roughly 20% below the UK average,[^1] and the population of 1.9 million generates around £2.8 billion in Income Tax liabilities.[^2] Higher levels of public spending (with a net fiscal deficit of £9,500 per capita)[^3] in NI increase disposable incomes to offset this. As a result, we estimate that 6.1% of NI is in absolute poverty, compared to 5.5% across the UK.[^4] We also find that NI is more equal, with a Gini index of 0.274 against the UK's 0.333.\n",
    "\n",
    "Many of Northern Ireland’s taxes and benefits operate under centralised UK rules, though exceptions to this include local property taxes such as [domestic rates](https://www.finance-ni.gov.uk/topics/property-rating/domestic-rating) (and rates rebates), which exist in place of Council Tax and Council Tax Benefit. Unlike Scotland, Northern Ireland does not set alternative tax rates for Income Tax.\n",
    "\n",
    "When it comes to basic income, Northern Ireland is broadly supportive. A 2017 poll by Ipsos MORI found that 66% of Northern Irish people favoured a basic income, compared to 49% of UK residents.[^5] Northern Ireland's net favourability of +55 was more than double that of any other region surveyed.\n",
    "\n",
    "[^1]:\n",
    "     [Northern Ireland Statistics Research Agency, 2020](https://www.nisra.gov.uk/statistics/economic-output-statistics/gross-value-added-and-gross-domestic-product#:~:text=In%20terms%20of%20GDP%20per,78.6%20per%20cent%20of%20UK).).\n",
    "\n",
    "[^2]:\n",
    "     [HMRC, 2019](https://assets.publishing.service.gov.uk/government/uploads/system/uploads/attachment_data/file/853118/Disaggregated_tax_and_NICs_receipts_-_methodological_note.pdf).\n",
    "\n",
    "[^3]:\n",
    "     [ONS, 2021](https://www.ons.gov.uk/economy/governmentpublicsectorandtaxes/publicsectorfinance/articles/countryandregionalpublicsectorfinances/financialyearending2021#:~:text=On%20a%20per%20person%20basis,per%20head%20was%20%C2%A34%2C740.).\n",
    "\n",
    "[^4]:\n",
    "     Throughout this paper, we report absolute poverty rates before housing costs, using the OpenFisca UK calibrated Family Resources Survey extrapolated to 2022.\n",
    "\n",
    "[^5]:\n",
    "     This is the only poll to ask about basic income for Northern Ireland and the UK, per the [UBI Center's Poll Tracker](polls.ubicenter.org).\n",
    "\n",
    "\n"
   ]
  },
  {
   "cell_type": "code",
   "execution_count": 1,
   "metadata": {},
   "outputs": [
    {
     "data": {
      "text/plain": [
       "'{\"data\":[{\"alignmentgroup\":\"True\",\"customdata\":[[\"25% of people in Northern Ireland strongly support a UBI\"],[\"23% of people in Scotland strongly support a UBI\"],[\"16% of people in London strongly support a UBI\"],[\"16% of people in Wales strongly support a UBI\"],[\"15% of people in Midlands strongly support a UBI\"],[\"14% of people in North strongly support a UBI\"],[\"14% of people in England strongly support a UBI\"],[\"12% of people in South strongly support a UBI\"]],\"hovertemplate\":\"%{customdata[0]}\",\"legendgroup\":\"Strongly support\",\"marker\":{\"color\":\"#2C6496\",\"pattern\":{\"shape\":\"\"}},\"name\":\"Strongly support\",\"offsetgroup\":\"Strongly support\",\"orientation\":\"h\",\"showlegend\":true,\"text\":[\"25%\",\"23%\",\"16%\",\"16%\",\"15%\",\"14%\",\"14%\",\"12%\"],\"textposition\":\"inside\",\"x\":[25.2525252525,22.772277227700002,16.0,16.0,14.7058823529,14.0,14.0,12.1212121212],\"xaxis\":\"x\",\"y\":[\"Northern Ireland\",\"Scotland\",\"London\",\"Wales\",\"Midlands\",\"North\",\"England\",\"South\"],\"yaxis\":\"y\",\"type\":\"bar\",\"texttemplate\":\"%{text}\"},{\"alignmentgroup\":\"True\",\"customdata\":[[\"41% of people in Northern Ireland tend to support a UBI\"],[\"37% of people in South tend to support a UBI\"],[\"35% of people in North tend to support a UBI\"],[\"34% of people in England tend to support a UBI\"],[\"32% of people in Midlands tend to support a UBI\"],[\"31% of people in London tend to support a UBI\"],[\"31% of people in Wales tend to support a UBI\"],[\"24% of people in Scotland tend to support a UBI\"]],\"hovertemplate\":\"%{customdata[0]}\",\"legendgroup\":\"Tend to support\",\"marker\":{\"color\":\"#D8E6F3\",\"pattern\":{\"shape\":\"\"}},\"name\":\"Tend to support\",\"offsetgroup\":\"Tend to support\",\"orientation\":\"h\",\"showlegend\":true,\"text\":[\"41%\",\"37%\",\"35%\",\"34%\",\"32%\",\"31%\",\"31%\",\"24%\"],\"textposition\":\"inside\",\"x\":[41.4141414141,37.3737373737,35.0,34.0,32.3529411765,31.0,31.0,23.7623762376],\"xaxis\":\"x\",\"y\":[\"Northern Ireland\",\"South\",\"North\",\"England\",\"Midlands\",\"London\",\"Wales\",\"Scotland\"],\"yaxis\":\"y\",\"type\":\"bar\",\"texttemplate\":\"%{text}\"},{\"alignmentgroup\":\"True\",\"customdata\":[[\"29% of people in Wales neither support nor oppose a UBI\"],[\"20% of people in South neither support nor oppose a UBI\"],[\"20% of people in London neither support nor oppose a UBI\"],[\"19% of people in North neither support nor oppose a UBI\"],[\"19% of people in England neither support nor oppose a UBI\"],[\"18% of people in Midlands neither support nor oppose a UBI\"],[\"17% of people in Scotland neither support nor oppose a UBI\"],[\"17% of people in Northern Ireland neither support nor oppose a UBI\"]],\"hovertemplate\":\"%{customdata[0]}\",\"legendgroup\":\"Neither support nor oppose\",\"marker\":{\"color\":\"#FFFFFF\",\"pattern\":{\"shape\":\"\"}},\"name\":\"Neither support nor oppose\",\"offsetgroup\":\"Neither support nor oppose\",\"orientation\":\"h\",\"showlegend\":true,\"text\":[\"29%\",\"20%\",\"20%\",\"19%\",\"19%\",\"18%\",\"17%\",\"17%\"],\"textposition\":\"inside\",\"x\":[29.0,20.202020202,20.0,19.0,19.0,17.6470588235,16.8316831683,17.1717171717],\"xaxis\":\"x\",\"y\":[\"Wales\",\"South\",\"London\",\"North\",\"England\",\"Midlands\",\"Scotland\",\"Northern Ireland\"],\"yaxis\":\"y\",\"type\":\"bar\",\"texttemplate\":\"%{text}\"},{\"alignmentgroup\":\"True\",\"customdata\":[[\"10% of people in London don\\'t know a UBI\"],[\"7% of people in North don\\'t know a UBI\"],[\"7% of people in Midlands don\\'t know a UBI\"],[\"7% of people in England don\\'t know a UBI\"],[\"5% of people in South don\\'t know a UBI\"],[\"5% of people in Scotland don\\'t know a UBI\"],[\"5% of people in Northern Ireland don\\'t know a UBI\"],[\"4% of people in Wales don\\'t know a UBI\"]],\"hovertemplate\":\"%{customdata[0]}\",\"legendgroup\":\"Don\\'t know\",\"marker\":{\"color\":\"#FFFFFF\",\"pattern\":{\"shape\":\"\"}},\"name\":\"Don\\'t know\",\"offsetgroup\":\"Don\\'t know\",\"orientation\":\"h\",\"showlegend\":true,\"text\":[\"10%\",\"7%\",\"7%\",\"7%\",\"5%\",\"5%\",\"5%\",\"4%\"],\"textposition\":\"inside\",\"x\":[10.0,7.0,6.862745098,7.0,5.0505050505,4.9504950495,5.0505050505,4.0],\"xaxis\":\"x\",\"y\":[\"London\",\"North\",\"Midlands\",\"England\",\"South\",\"Scotland\",\"Northern Ireland\",\"Wales\"],\"yaxis\":\"y\",\"type\":\"bar\",\"texttemplate\":\"%{text}\"},{\"alignmentgroup\":\"True\",\"customdata\":[[\"20% of people in Scotland tend to oppose a UBI\"],[\"18% of people in Midlands tend to oppose a UBI\"],[\"17% of people in England tend to oppose a UBI\"],[\"16% of people in North tend to oppose a UBI\"],[\"16% of people in South tend to oppose a UBI\"],[\"16% of people in London tend to oppose a UBI\"],[\"12% of people in Wales tend to oppose a UBI\"],[\"8% of people in Northern Ireland tend to oppose a UBI\"]],\"hovertemplate\":\"%{customdata[0]}\",\"legendgroup\":\"Tend to oppose\",\"marker\":{\"color\":\"#808080\",\"pattern\":{\"shape\":\"\"}},\"name\":\"Tend to oppose\",\"offsetgroup\":\"Tend to oppose\",\"orientation\":\"h\",\"showlegend\":true,\"text\":[\"20%\",\"18%\",\"17%\",\"16%\",\"16%\",\"16%\",\"12%\",\"8%\"],\"textposition\":\"inside\",\"x\":[19.801980198,17.6470588235,17.0,16.0,16.1616161616,16.0,12.0,8.0808080808],\"xaxis\":\"x\",\"y\":[\"Scotland\",\"Midlands\",\"England\",\"North\",\"South\",\"London\",\"Wales\",\"Northern Ireland\"],\"yaxis\":\"y\",\"type\":\"bar\",\"texttemplate\":\"%{text}\"},{\"alignmentgroup\":\"True\",\"customdata\":[[\"12% of people in Scotland strongly oppose a UBI\"],[\"11% of people in Midlands strongly oppose a UBI\"],[\"9% of people in North strongly oppose a UBI\"],[\"9% of people in South strongly oppose a UBI\"],[\"9% of people in England strongly oppose a UBI\"],[\"8% of people in Wales strongly oppose a UBI\"],[\"7% of people in London strongly oppose a UBI\"],[\"3% of people in Northern Ireland strongly oppose a UBI\"]],\"hovertemplate\":\"%{customdata[0]}\",\"legendgroup\":\"Strongly oppose\",\"marker\":{\"color\":\"#616161\",\"pattern\":{\"shape\":\"\"}},\"name\":\"Strongly oppose\",\"offsetgroup\":\"Strongly oppose\",\"orientation\":\"h\",\"showlegend\":true,\"text\":[\"12%\",\"11%\",\"9%\",\"9%\",\"9%\",\"8%\",\"7%\",\"3%\"],\"textposition\":\"inside\",\"x\":[11.8811881188,10.7843137255,9.0,9.0909090909,9.0,8.0,7.0,3.0303030303],\"xaxis\":\"x\",\"y\":[\"Scotland\",\"Midlands\",\"North\",\"South\",\"England\",\"Wales\",\"London\",\"Northern Ireland\"],\"yaxis\":\"y\",\"type\":\"bar\",\"texttemplate\":\"%{text}\"}],\"layout\":{\"template\":{\"data\":{\"barpolar\":[{\"marker\":{\"line\":{\"color\":\"white\",\"width\":0.5},\"pattern\":{\"fillmode\":\"overlay\",\"size\":10,\"solidity\":0.2}},\"type\":\"barpolar\"}],\"bar\":[{\"error_x\":{\"color\":\"#2a3f5f\"},\"error_y\":{\"color\":\"#2a3f5f\"},\"marker\":{\"line\":{\"color\":\"white\",\"width\":0.5},\"pattern\":{\"fillmode\":\"overlay\",\"size\":10,\"solidity\":0.2}},\"type\":\"bar\"}],\"carpet\":[{\"aaxis\":{\"endlinecolor\":\"#2a3f5f\",\"gridcolor\":\"#C8D4E3\",\"linecolor\":\"#C8D4E3\",\"minorgridcolor\":\"#C8D4E3\",\"startlinecolor\":\"#2a3f5f\"},\"baxis\":{\"endlinecolor\":\"#2a3f5f\",\"gridcolor\":\"#C8D4E3\",\"linecolor\":\"#C8D4E3\",\"minorgridcolor\":\"#C8D4E3\",\"startlinecolor\":\"#2a3f5f\"},\"type\":\"carpet\"}],\"choropleth\":[{\"colorbar\":{\"outlinewidth\":0,\"ticks\":\"\"},\"type\":\"choropleth\"}],\"contourcarpet\":[{\"colorbar\":{\"outlinewidth\":0,\"ticks\":\"\"},\"type\":\"contourcarpet\"}],\"contour\":[{\"colorbar\":{\"outlinewidth\":0,\"ticks\":\"\"},\"colorscale\":[[0.0,\"#0d0887\"],[0.1111111111111111,\"#46039f\"],[0.2222222222222222,\"#7201a8\"],[0.3333333333333333,\"#9c179e\"],[0.4444444444444444,\"#bd3786\"],[0.5555555555555556,\"#d8576b\"],[0.6666666666666666,\"#ed7953\"],[0.7777777777777778,\"#fb9f3a\"],[0.8888888888888888,\"#fdca26\"],[1.0,\"#f0f921\"]],\"type\":\"contour\"}],\"heatmapgl\":[{\"colorbar\":{\"outlinewidth\":0,\"ticks\":\"\"},\"colorscale\":[[0.0,\"#0d0887\"],[0.1111111111111111,\"#46039f\"],[0.2222222222222222,\"#7201a8\"],[0.3333333333333333,\"#9c179e\"],[0.4444444444444444,\"#bd3786\"],[0.5555555555555556,\"#d8576b\"],[0.6666666666666666,\"#ed7953\"],[0.7777777777777778,\"#fb9f3a\"],[0.8888888888888888,\"#fdca26\"],[1.0,\"#f0f921\"]],\"type\":\"heatmapgl\"}],\"heatmap\":[{\"colorbar\":{\"outlinewidth\":0,\"ticks\":\"\"},\"colorscale\":[[0.0,\"#0d0887\"],[0.1111111111111111,\"#46039f\"],[0.2222222222222222,\"#7201a8\"],[0.3333333333333333,\"#9c179e\"],[0.4444444444444444,\"#bd3786\"],[0.5555555555555556,\"#d8576b\"],[0.6666666666666666,\"#ed7953\"],[0.7777777777777778,\"#fb9f3a\"],[0.8888888888888888,\"#fdca26\"],[1.0,\"#f0f921\"]],\"type\":\"heatmap\"}],\"histogram2dcontour\":[{\"colorbar\":{\"outlinewidth\":0,\"ticks\":\"\"},\"colorscale\":[[0.0,\"#0d0887\"],[0.1111111111111111,\"#46039f\"],[0.2222222222222222,\"#7201a8\"],[0.3333333333333333,\"#9c179e\"],[0.4444444444444444,\"#bd3786\"],[0.5555555555555556,\"#d8576b\"],[0.6666666666666666,\"#ed7953\"],[0.7777777777777778,\"#fb9f3a\"],[0.8888888888888888,\"#fdca26\"],[1.0,\"#f0f921\"]],\"type\":\"histogram2dcontour\"}],\"histogram2d\":[{\"colorbar\":{\"outlinewidth\":0,\"ticks\":\"\"},\"colorscale\":[[0.0,\"#0d0887\"],[0.1111111111111111,\"#46039f\"],[0.2222222222222222,\"#7201a8\"],[0.3333333333333333,\"#9c179e\"],[0.4444444444444444,\"#bd3786\"],[0.5555555555555556,\"#d8576b\"],[0.6666666666666666,\"#ed7953\"],[0.7777777777777778,\"#fb9f3a\"],[0.8888888888888888,\"#fdca26\"],[1.0,\"#f0f921\"]],\"type\":\"histogram2d\"}],\"histogram\":[{\"marker\":{\"pattern\":{\"fillmode\":\"overlay\",\"size\":10,\"solidity\":0.2}},\"type\":\"histogram\"}],\"mesh3d\":[{\"colorbar\":{\"outlinewidth\":0,\"ticks\":\"\"},\"type\":\"mesh3d\"}],\"parcoords\":[{\"line\":{\"colorbar\":{\"outlinewidth\":0,\"ticks\":\"\"}},\"type\":\"parcoords\"}],\"pie\":[{\"automargin\":true,\"type\":\"pie\"}],\"scatter3d\":[{\"line\":{\"colorbar\":{\"outlinewidth\":0,\"ticks\":\"\"}},\"marker\":{\"colorbar\":{\"outlinewidth\":0,\"ticks\":\"\"}},\"type\":\"scatter3d\"}],\"scattercarpet\":[{\"marker\":{\"colorbar\":{\"outlinewidth\":0,\"ticks\":\"\"}},\"type\":\"scattercarpet\"}],\"scattergeo\":[{\"marker\":{\"colorbar\":{\"outlinewidth\":0,\"ticks\":\"\"}},\"type\":\"scattergeo\"}],\"scattergl\":[{\"marker\":{\"colorbar\":{\"outlinewidth\":0,\"ticks\":\"\"}},\"type\":\"scattergl\"}],\"scattermapbox\":[{\"marker\":{\"colorbar\":{\"outlinewidth\":0,\"ticks\":\"\"}},\"type\":\"scattermapbox\"}],\"scatterpolargl\":[{\"marker\":{\"colorbar\":{\"outlinewidth\":0,\"ticks\":\"\"}},\"type\":\"scatterpolargl\"}],\"scatterpolar\":[{\"marker\":{\"colorbar\":{\"outlinewidth\":0,\"ticks\":\"\"}},\"type\":\"scatterpolar\"}],\"scatter\":[{\"fillpattern\":{\"fillmode\":\"overlay\",\"size\":10,\"solidity\":0.2},\"type\":\"scatter\"}],\"scatterternary\":[{\"marker\":{\"colorbar\":{\"outlinewidth\":0,\"ticks\":\"\"}},\"type\":\"scatterternary\"}],\"surface\":[{\"colorbar\":{\"outlinewidth\":0,\"ticks\":\"\"},\"colorscale\":[[0.0,\"#0d0887\"],[0.1111111111111111,\"#46039f\"],[0.2222222222222222,\"#7201a8\"],[0.3333333333333333,\"#9c179e\"],[0.4444444444444444,\"#bd3786\"],[0.5555555555555556,\"#d8576b\"],[0.6666666666666666,\"#ed7953\"],[0.7777777777777778,\"#fb9f3a\"],[0.8888888888888888,\"#fdca26\"],[1.0,\"#f0f921\"]],\"type\":\"surface\"}],\"table\":[{\"cells\":{\"fill\":{\"color\":\"#EBF0F8\"},\"line\":{\"color\":\"white\"}},\"header\":{\"fill\":{\"color\":\"#C8D4E3\"},\"line\":{\"color\":\"white\"}},\"type\":\"table\"}]},\"layout\":{\"annotationdefaults\":{\"arrowcolor\":\"#2a3f5f\",\"arrowhead\":0,\"arrowwidth\":1},\"autotypenumbers\":\"strict\",\"coloraxis\":{\"colorbar\":{\"outlinewidth\":0,\"ticks\":\"\"}},\"colorscale\":{\"diverging\":[[0,\"#8e0152\"],[0.1,\"#c51b7d\"],[0.2,\"#de77ae\"],[0.3,\"#f1b6da\"],[0.4,\"#fde0ef\"],[0.5,\"#f7f7f7\"],[0.6,\"#e6f5d0\"],[0.7,\"#b8e186\"],[0.8,\"#7fbc41\"],[0.9,\"#4d9221\"],[1,\"#276419\"]],\"sequential\":[[0.0,\"#0d0887\"],[0.1111111111111111,\"#46039f\"],[0.2222222222222222,\"#7201a8\"],[0.3333333333333333,\"#9c179e\"],[0.4444444444444444,\"#bd3786\"],[0.5555555555555556,\"#d8576b\"],[0.6666666666666666,\"#ed7953\"],[0.7777777777777778,\"#fb9f3a\"],[0.8888888888888888,\"#fdca26\"],[1.0,\"#f0f921\"]],\"sequentialminus\":[[0.0,\"#0d0887\"],[0.1111111111111111,\"#46039f\"],[0.2222222222222222,\"#7201a8\"],[0.3333333333333333,\"#9c179e\"],[0.4444444444444444,\"#bd3786\"],[0.5555555555555556,\"#d8576b\"],[0.6666666666666666,\"#ed7953\"],[0.7777777777777778,\"#fb9f3a\"],[0.8888888888888888,\"#fdca26\"],[1.0,\"#f0f921\"]]},\"colorway\":[\"#636efa\",\"#EF553B\",\"#00cc96\",\"#ab63fa\",\"#FFA15A\",\"#19d3f3\",\"#FF6692\",\"#B6E880\",\"#FF97FF\",\"#FECB52\"],\"font\":{\"color\":\"#2a3f5f\"},\"geo\":{\"bgcolor\":\"white\",\"lakecolor\":\"white\",\"landcolor\":\"white\",\"showlakes\":true,\"showland\":true,\"subunitcolor\":\"#C8D4E3\"},\"hoverlabel\":{\"align\":\"left\"},\"hovermode\":\"closest\",\"mapbox\":{\"style\":\"light\"},\"paper_bgcolor\":\"white\",\"plot_bgcolor\":\"white\",\"polar\":{\"angularaxis\":{\"gridcolor\":\"#EBF0F8\",\"linecolor\":\"#EBF0F8\",\"ticks\":\"\"},\"bgcolor\":\"white\",\"radialaxis\":{\"gridcolor\":\"#EBF0F8\",\"linecolor\":\"#EBF0F8\",\"ticks\":\"\"}},\"scene\":{\"xaxis\":{\"backgroundcolor\":\"white\",\"gridcolor\":\"#DFE8F3\",\"gridwidth\":2,\"linecolor\":\"#EBF0F8\",\"showbackground\":true,\"ticks\":\"\",\"zerolinecolor\":\"#EBF0F8\"},\"yaxis\":{\"backgroundcolor\":\"white\",\"gridcolor\":\"#DFE8F3\",\"gridwidth\":2,\"linecolor\":\"#EBF0F8\",\"showbackground\":true,\"ticks\":\"\",\"zerolinecolor\":\"#EBF0F8\"},\"zaxis\":{\"backgroundcolor\":\"white\",\"gridcolor\":\"#DFE8F3\",\"gridwidth\":2,\"linecolor\":\"#EBF0F8\",\"showbackground\":true,\"ticks\":\"\",\"zerolinecolor\":\"#EBF0F8\"}},\"shapedefaults\":{\"line\":{\"color\":\"#2a3f5f\"}},\"ternary\":{\"aaxis\":{\"gridcolor\":\"#DFE8F3\",\"linecolor\":\"#A2B1C6\",\"ticks\":\"\"},\"baxis\":{\"gridcolor\":\"#DFE8F3\",\"linecolor\":\"#A2B1C6\",\"ticks\":\"\"},\"bgcolor\":\"white\",\"caxis\":{\"gridcolor\":\"#DFE8F3\",\"linecolor\":\"#A2B1C6\",\"ticks\":\"\"}},\"title\":{\"x\":0.05},\"xaxis\":{\"automargin\":true,\"gridcolor\":\"#EBF0F8\",\"linecolor\":\"#EBF0F8\",\"ticks\":\"\",\"title\":{\"standoff\":15},\"zerolinecolor\":\"#EBF0F8\",\"zerolinewidth\":2},\"yaxis\":{\"automargin\":true,\"gridcolor\":\"#EBF0F8\",\"linecolor\":\"#EBF0F8\",\"ticks\":\"\",\"title\":{\"standoff\":15},\"zerolinecolor\":\"#EBF0F8\",\"zerolinewidth\":2}}},\"xaxis\":{\"anchor\":\"y\",\"domain\":[0.0,1.0],\"title\":{\"text\":\"Percent\"},\"tickangle\":0},\"yaxis\":{\"anchor\":\"x\",\"domain\":[0.0,1.0],\"title\":{\"text\":\"Region\"}},\"legend\":{\"title\":{},\"tracegroupgap\":0,\"orientation\":\"h\",\"yanchor\":\"bottom\",\"y\":-0.3},\"margin\":{\"t\":60},\"barmode\":\"relative\",\"uniformtext\":{\"minsize\":11,\"mode\":\"hide\"},\"title\":{\"text\":\"Figure 1: UBI favourability by UK subregion\"},\"font\":{\"family\":\"Roboto Serif\",\"color\":\"black\"},\"images\":[{\"sizex\":0.2,\"sizey\":0.2,\"source\":\"https://raw.githubusercontent.com/PolicyEngine/policyengine-app/master/src/images/logos/policyengine/blue.png\",\"x\":1,\"xanchor\":\"right\",\"xref\":\"paper\",\"y\":-0.15,\"yanchor\":\"bottom\",\"yref\":\"paper\"}],\"height\":600,\"width\":800,\"modebar\":{\"bgcolor\":\"rgba(0,0,0,0)\",\"color\":\"rgba(0,0,0,0)\"}}}'"
      ]
     },
     "execution_count": 1,
     "metadata": {},
     "output_type": "execute_result"
    }
   ],
   "source": [
    "import plotly.express as px\n",
    "from policyengine_core.charts import *\n",
    "\n",
    "RESPONSE_JSON = '{\"poll_id\":{\"90\":7,\"84\":7,\"66\":7,\"78\":7,\"54\":7,\"48\":7,\"72\":7,\"60\":7,\"91\":7,\"61\":7,\"49\":7,\"73\":7,\"55\":7,\"67\":7,\"79\":7,\"85\":7,\"80\":7,\"62\":7,\"68\":7,\"50\":7,\"74\":7,\"56\":7,\"86\":7,\"92\":7,\"71\":7,\"53\":7,\"59\":7,\"77\":7,\"65\":7,\"89\":7,\"95\":7,\"83\":7,\"87\":7,\"57\":7,\"75\":7,\"51\":7,\"63\":7,\"69\":7,\"81\":7,\"93\":7,\"88\":7,\"58\":7,\"52\":7,\"64\":7,\"76\":7,\"82\":7,\"70\":7,\"94\":7},\"question_id\":{\"90\":10,\"84\":10,\"66\":10,\"78\":10,\"54\":10,\"48\":10,\"72\":10,\"60\":10,\"91\":10,\"61\":10,\"49\":10,\"73\":10,\"55\":10,\"67\":10,\"79\":10,\"85\":10,\"80\":10,\"62\":10,\"68\":10,\"50\":10,\"74\":10,\"56\":10,\"86\":10,\"92\":10,\"71\":10,\"53\":10,\"59\":10,\"77\":10,\"65\":10,\"89\":10,\"95\":10,\"83\":10,\"87\":10,\"57\":10,\"75\":10,\"51\":10,\"63\":10,\"69\":10,\"81\":10,\"93\":10,\"88\":10,\"58\":10,\"52\":10,\"64\":10,\"76\":10,\"82\":10,\"70\":10,\"94\":10},\"response\":{\"90\":\"Strongly support\",\"84\":\"Strongly support\",\"66\":\"Strongly support\",\"78\":\"Strongly support\",\"54\":\"Strongly support\",\"48\":\"Strongly support\",\"72\":\"Strongly support\",\"60\":\"Strongly support\",\"91\":\"Tend to support\",\"61\":\"Tend to support\",\"49\":\"Tend to support\",\"73\":\"Tend to support\",\"55\":\"Tend to support\",\"67\":\"Tend to support\",\"79\":\"Tend to support\",\"85\":\"Tend to support\",\"80\":\"Neither support nor oppose\",\"62\":\"Neither support nor oppose\",\"68\":\"Neither support nor oppose\",\"50\":\"Neither support nor oppose\",\"74\":\"Neither support nor oppose\",\"56\":\"Neither support nor oppose\",\"86\":\"Neither support nor oppose\",\"92\":\"Neither support nor oppose\",\"71\":\"Don\\'t Know\",\"53\":\"Don\\'t Know\",\"59\":\"Don\\'t Know\",\"77\":\"Don\\'t Know\",\"65\":\"Don\\'t Know\",\"89\":\"Don\\'t Know\",\"95\":\"Don\\'t Know\",\"83\":\"Don\\'t Know\",\"87\":\"Tend to oppose\",\"57\":\"Tend to oppose\",\"75\":\"Tend to oppose\",\"51\":\"Tend to oppose\",\"63\":\"Tend to oppose\",\"69\":\"Tend to oppose\",\"81\":\"Tend to oppose\",\"93\":\"Tend to oppose\",\"88\":\"Strongly oppose\",\"58\":\"Strongly oppose\",\"52\":\"Strongly oppose\",\"64\":\"Strongly oppose\",\"76\":\"Strongly oppose\",\"82\":\"Strongly oppose\",\"70\":\"Strongly oppose\",\"94\":\"Strongly oppose\"},\"xtab1_var\":{\"90\":\"Region\",\"84\":\"Region\",\"66\":\"Region\",\"78\":\"Region\",\"54\":\"Region\",\"48\":\"Region\",\"72\":\"Region\",\"60\":\"Region\",\"91\":\"Region\",\"61\":\"Region\",\"49\":\"Region\",\"73\":\"Region\",\"55\":\"Region\",\"67\":\"Region\",\"79\":\"Region\",\"85\":\"Region\",\"80\":\"Region\",\"62\":\"Region\",\"68\":\"Region\",\"50\":\"Region\",\"74\":\"Region\",\"56\":\"Region\",\"86\":\"Region\",\"92\":\"Region\",\"71\":\"Region\",\"53\":\"Region\",\"59\":\"Region\",\"77\":\"Region\",\"65\":\"Region\",\"89\":\"Region\",\"95\":\"Region\",\"83\":\"Region\",\"87\":\"Region\",\"57\":\"Region\",\"75\":\"Region\",\"51\":\"Region\",\"63\":\"Region\",\"69\":\"Region\",\"81\":\"Region\",\"93\":\"Region\",\"88\":\"Region\",\"58\":\"Region\",\"52\":\"Region\",\"64\":\"Region\",\"76\":\"Region\",\"82\":\"Region\",\"70\":\"Region\",\"94\":\"Region\"},\"xtab1_val\":{\"90\":\"Northern Ireland\",\"84\":\"Scotland\",\"66\":\"London\",\"78\":\"Wales\",\"54\":\"Midlands\",\"48\":\"North\",\"72\":\"England\",\"60\":\"South\",\"91\":\"Northern Ireland\",\"61\":\"South\",\"49\":\"North\",\"73\":\"England\",\"55\":\"Midlands\",\"67\":\"London\",\"79\":\"Wales\",\"85\":\"Scotland\",\"80\":\"Wales\",\"62\":\"South\",\"68\":\"London\",\"50\":\"North\",\"74\":\"England\",\"56\":\"Midlands\",\"86\":\"Scotland\",\"92\":\"Northern Ireland\",\"71\":\"London\",\"53\":\"North\",\"59\":\"Midlands\",\"77\":\"England\",\"65\":\"South\",\"89\":\"Scotland\",\"95\":\"Northern Ireland\",\"83\":\"Wales\",\"87\":\"Scotland\",\"57\":\"Midlands\",\"75\":\"England\",\"51\":\"North\",\"63\":\"South\",\"69\":\"London\",\"81\":\"Wales\",\"93\":\"Northern Ireland\",\"88\":\"Scotland\",\"58\":\"Midlands\",\"52\":\"North\",\"64\":\"South\",\"76\":\"England\",\"82\":\"Wales\",\"70\":\"London\",\"94\":\"Northern Ireland\"},\"xtab2_var\":{\"90\":\"-\",\"84\":\"-\",\"66\":\"-\",\"78\":\"-\",\"54\":\"-\",\"48\":\"-\",\"72\":\"-\",\"60\":\"-\",\"91\":\"-\",\"61\":\"-\",\"49\":\"-\",\"73\":\"-\",\"55\":\"-\",\"67\":\"-\",\"79\":\"-\",\"85\":\"-\",\"80\":\"-\",\"62\":\"-\",\"68\":\"-\",\"50\":\"-\",\"74\":\"-\",\"56\":\"-\",\"86\":\"-\",\"92\":\"-\",\"71\":\"-\",\"53\":\"-\",\"59\":\"-\",\"77\":\"-\",\"65\":\"-\",\"89\":\"-\",\"95\":\"-\",\"83\":\"-\",\"87\":\"-\",\"57\":\"-\",\"75\":\"-\",\"51\":\"-\",\"63\":\"-\",\"69\":\"-\",\"81\":\"-\",\"93\":\"-\",\"88\":\"-\",\"58\":\"-\",\"52\":\"-\",\"64\":\"-\",\"76\":\"-\",\"82\":\"-\",\"70\":\"-\",\"94\":\"-\"},\"xtab2_val\":{\"90\":\"-\",\"84\":\"-\",\"66\":\"-\",\"78\":\"-\",\"54\":\"-\",\"48\":\"-\",\"72\":\"-\",\"60\":\"-\",\"91\":\"-\",\"61\":\"-\",\"49\":\"-\",\"73\":\"-\",\"55\":\"-\",\"67\":\"-\",\"79\":\"-\",\"85\":\"-\",\"80\":\"-\",\"62\":\"-\",\"68\":\"-\",\"50\":\"-\",\"74\":\"-\",\"56\":\"-\",\"86\":\"-\",\"92\":\"-\",\"71\":\"-\",\"53\":\"-\",\"59\":\"-\",\"77\":\"-\",\"65\":\"-\",\"89\":\"-\",\"95\":\"-\",\"83\":\"-\",\"87\":\"-\",\"57\":\"-\",\"75\":\"-\",\"51\":\"-\",\"63\":\"-\",\"69\":\"-\",\"81\":\"-\",\"93\":\"-\",\"88\":\"-\",\"58\":\"-\",\"52\":\"-\",\"64\":\"-\",\"76\":\"-\",\"82\":\"-\",\"70\":\"-\",\"94\":\"-\"},\"pct\":{\"90\":25.0,\"84\":23.0,\"66\":16.0,\"78\":16.0,\"54\":15.0,\"48\":14.0,\"72\":14.0,\"60\":12.0,\"91\":41.0,\"61\":37.0,\"49\":35.0,\"73\":34.0,\"55\":33.0,\"67\":31.0,\"79\":31.0,\"85\":24.0,\"80\":29.0,\"62\":20.0,\"68\":20.0,\"50\":19.0,\"74\":19.0,\"56\":18.0,\"86\":17.0,\"92\":17.0,\"71\":10.0,\"53\":7.0,\"59\":7.0,\"77\":7.0,\"65\":5.0,\"89\":5.0,\"95\":5.0,\"83\":4.0,\"87\":20.0,\"57\":18.0,\"75\":17.0,\"51\":16.0,\"63\":16.0,\"69\":16.0,\"81\":12.0,\"93\":8.0,\"88\":12.0,\"58\":11.0,\"52\":9.0,\"64\":9.0,\"76\":9.0,\"82\":8.0,\"70\":7.0,\"94\":3.0},\"notes\":{\"90\":null,\"84\":null,\"66\":null,\"78\":null,\"54\":null,\"48\":null,\"72\":null,\"60\":null,\"91\":null,\"61\":null,\"49\":null,\"73\":null,\"55\":null,\"67\":null,\"79\":null,\"85\":null,\"80\":null,\"62\":null,\"68\":null,\"50\":null,\"74\":null,\"56\":null,\"86\":null,\"92\":null,\"71\":null,\"53\":null,\"59\":null,\"77\":null,\"65\":null,\"89\":null,\"95\":null,\"83\":null,\"87\":null,\"57\":null,\"75\":null,\"51\":null,\"63\":null,\"69\":null,\"81\":null,\"93\":null,\"88\":null,\"58\":null,\"52\":null,\"64\":null,\"76\":null,\"82\":null,\"70\":null,\"94\":null},\"Region\":{\"90\":\"Northern Ireland\",\"84\":\"Scotland\",\"66\":\"London\",\"78\":\"Wales\",\"54\":\"Midlands\",\"48\":\"North\",\"72\":\"England\",\"60\":\"South\",\"91\":\"Northern Ireland\",\"61\":\"South\",\"49\":\"North\",\"73\":\"England\",\"55\":\"Midlands\",\"67\":\"London\",\"79\":\"Wales\",\"85\":\"Scotland\",\"80\":\"Wales\",\"62\":\"South\",\"68\":\"London\",\"50\":\"North\",\"74\":\"England\",\"56\":\"Midlands\",\"86\":\"Scotland\",\"92\":\"Northern Ireland\",\"71\":\"London\",\"53\":\"North\",\"59\":\"Midlands\",\"77\":\"England\",\"65\":\"South\",\"89\":\"Scotland\",\"95\":\"Northern Ireland\",\"83\":\"Wales\",\"87\":\"Scotland\",\"57\":\"Midlands\",\"75\":\"England\",\"51\":\"North\",\"63\":\"South\",\"69\":\"London\",\"81\":\"Wales\",\"93\":\"Northern Ireland\",\"88\":\"Scotland\",\"58\":\"Midlands\",\"52\":\"North\",\"64\":\"South\",\"76\":\"England\",\"82\":\"Wales\",\"70\":\"London\",\"94\":\"Northern Ireland\"},\"Response\":{\"90\":\"Strongly support\",\"84\":\"Strongly support\",\"66\":\"Strongly support\",\"78\":\"Strongly support\",\"54\":\"Strongly support\",\"48\":\"Strongly support\",\"72\":\"Strongly support\",\"60\":\"Strongly support\",\"91\":\"Tend to support\",\"61\":\"Tend to support\",\"49\":\"Tend to support\",\"73\":\"Tend to support\",\"55\":\"Tend to support\",\"67\":\"Tend to support\",\"79\":\"Tend to support\",\"85\":\"Tend to support\",\"80\":\"Neither support nor oppose\",\"62\":\"Neither support nor oppose\",\"68\":\"Neither support nor oppose\",\"50\":\"Neither support nor oppose\",\"74\":\"Neither support nor oppose\",\"56\":\"Neither support nor oppose\",\"86\":\"Neither support nor oppose\",\"92\":\"Neither support nor oppose\",\"71\":\"Don\\'t know\",\"53\":\"Don\\'t know\",\"59\":\"Don\\'t know\",\"77\":\"Don\\'t know\",\"65\":\"Don\\'t know\",\"89\":\"Don\\'t know\",\"95\":\"Don\\'t know\",\"83\":\"Don\\'t know\",\"87\":\"Tend to oppose\",\"57\":\"Tend to oppose\",\"75\":\"Tend to oppose\",\"51\":\"Tend to oppose\",\"63\":\"Tend to oppose\",\"69\":\"Tend to oppose\",\"81\":\"Tend to oppose\",\"93\":\"Tend to oppose\",\"88\":\"Strongly oppose\",\"58\":\"Strongly oppose\",\"52\":\"Strongly oppose\",\"64\":\"Strongly oppose\",\"76\":\"Strongly oppose\",\"82\":\"Strongly oppose\",\"70\":\"Strongly oppose\",\"94\":\"Strongly oppose\"},\"response_code\":{\"90\":6,\"84\":6,\"66\":6,\"78\":6,\"54\":6,\"48\":6,\"72\":6,\"60\":6,\"91\":5,\"61\":5,\"49\":5,\"73\":5,\"55\":5,\"67\":5,\"79\":5,\"85\":5,\"80\":4,\"62\":4,\"68\":4,\"50\":4,\"74\":4,\"56\":4,\"86\":4,\"92\":4,\"71\":3,\"53\":3,\"59\":3,\"77\":3,\"65\":3,\"89\":3,\"95\":3,\"83\":3,\"87\":2,\"57\":2,\"75\":2,\"51\":2,\"63\":2,\"69\":2,\"81\":2,\"93\":2,\"88\":1,\"58\":1,\"52\":1,\"64\":1,\"76\":1,\"82\":1,\"70\":1,\"94\":1},\"Percent\":{\"90\":25.2525252525,\"84\":22.7722772277,\"66\":16.0,\"78\":16.0,\"54\":14.7058823529,\"48\":14.0,\"72\":14.0,\"60\":12.1212121212,\"91\":41.4141414141,\"61\":37.3737373737,\"49\":35.0,\"73\":34.0,\"55\":32.3529411765,\"67\":31.0,\"79\":31.0,\"85\":23.7623762376,\"80\":29.0,\"62\":20.202020202,\"68\":20.0,\"50\":19.0,\"74\":19.0,\"56\":17.6470588235,\"86\":16.8316831683,\"92\":17.1717171717,\"71\":10.0,\"53\":7.0,\"59\":6.862745098,\"77\":7.0,\"65\":5.0505050505,\"89\":4.9504950495,\"95\":5.0505050505,\"83\":4.0,\"87\":19.801980198,\"57\":17.6470588235,\"75\":17.0,\"51\":16.0,\"63\":16.1616161616,\"69\":16.0,\"81\":12.0,\"93\":8.0808080808,\"88\":11.8811881188,\"58\":10.7843137255,\"52\":9.0,\"64\":9.0909090909,\"76\":9.0,\"82\":8.0,\"70\":7.0,\"94\":3.0303030303},\"Hover text\":{\"90\":\"25% of people in Northern Ireland strongly support a UBI\",\"84\":\"23% of people in Scotland strongly support a UBI\",\"66\":\"16% of people in London strongly support a UBI\",\"78\":\"16% of people in Wales strongly support a UBI\",\"54\":\"15% of people in Midlands strongly support a UBI\",\"48\":\"14% of people in North strongly support a UBI\",\"72\":\"14% of people in England strongly support a UBI\",\"60\":\"12% of people in South strongly support a UBI\",\"91\":\"41% of people in Northern Ireland tend to support a UBI\",\"61\":\"37% of people in South tend to support a UBI\",\"49\":\"35% of people in North tend to support a UBI\",\"73\":\"34% of people in England tend to support a UBI\",\"55\":\"32% of people in Midlands tend to support a UBI\",\"67\":\"31% of people in London tend to support a UBI\",\"79\":\"31% of people in Wales tend to support a UBI\",\"85\":\"24% of people in Scotland tend to support a UBI\",\"80\":\"29% of people in Wales neither support nor oppose a UBI\",\"62\":\"20% of people in South neither support nor oppose a UBI\",\"68\":\"20% of people in London neither support nor oppose a UBI\",\"50\":\"19% of people in North neither support nor oppose a UBI\",\"74\":\"19% of people in England neither support nor oppose a UBI\",\"56\":\"18% of people in Midlands neither support nor oppose a UBI\",\"86\":\"17% of people in Scotland neither support nor oppose a UBI\",\"92\":\"17% of people in Northern Ireland neither support nor oppose a UBI\",\"71\":\"10% of people in London don\\'t know a UBI\",\"53\":\"7% of people in North don\\'t know a UBI\",\"59\":\"7% of people in Midlands don\\'t know a UBI\",\"77\":\"7% of people in England don\\'t know a UBI\",\"65\":\"5% of people in South don\\'t know a UBI\",\"89\":\"5% of people in Scotland don\\'t know a UBI\",\"95\":\"5% of people in Northern Ireland don\\'t know a UBI\",\"83\":\"4% of people in Wales don\\'t know a UBI\",\"87\":\"20% of people in Scotland tend to oppose a UBI\",\"57\":\"18% of people in Midlands tend to oppose a UBI\",\"75\":\"17% of people in England tend to oppose a UBI\",\"51\":\"16% of people in North tend to oppose a UBI\",\"63\":\"16% of people in South tend to oppose a UBI\",\"69\":\"16% of people in London tend to oppose a UBI\",\"81\":\"12% of people in Wales tend to oppose a UBI\",\"93\":\"8% of people in Northern Ireland tend to oppose a UBI\",\"88\":\"12% of people in Scotland strongly oppose a UBI\",\"58\":\"11% of people in Midlands strongly oppose a UBI\",\"52\":\"9% of people in North strongly oppose a UBI\",\"64\":\"9% of people in South strongly oppose a UBI\",\"76\":\"9% of people in England strongly oppose a UBI\",\"82\":\"8% of people in Wales strongly oppose a UBI\",\"70\":\"7% of people in London strongly oppose a UBI\",\"94\":\"3% of people in Northern Ireland strongly oppose a UBI\"},\"Text\":{\"90\":\"25%\",\"84\":\"23%\",\"66\":\"16%\",\"78\":\"16%\",\"54\":\"15%\",\"48\":\"14%\",\"72\":\"14%\",\"60\":\"12%\",\"91\":\"41%\",\"61\":\"37%\",\"49\":\"35%\",\"73\":\"34%\",\"55\":\"32%\",\"67\":\"31%\",\"79\":\"31%\",\"85\":\"24%\",\"80\":\"29%\",\"62\":\"20%\",\"68\":\"20%\",\"50\":\"19%\",\"74\":\"19%\",\"56\":\"18%\",\"86\":\"17%\",\"92\":\"17%\",\"71\":\"10%\",\"53\":\"7%\",\"59\":\"7%\",\"77\":\"7%\",\"65\":\"5%\",\"89\":\"5%\",\"95\":\"5%\",\"83\":\"4%\",\"87\":\"20%\",\"57\":\"18%\",\"75\":\"17%\",\"51\":\"16%\",\"63\":\"16%\",\"69\":\"16%\",\"81\":\"12%\",\"93\":\"8%\",\"88\":\"12%\",\"58\":\"11%\",\"52\":\"9%\",\"64\":\"9%\",\"76\":\"9%\",\"82\":\"8%\",\"70\":\"7%\",\"94\":\"3%\"}}'\n",
    "\n",
    "responses = pd.read_json(RESPONSE_JSON)\n",
    "\n",
    "responses[\"Hover text\"] = [\n",
    "    f\"{responses.iloc[i]['Percent']:.0f}% of people in {responses.iloc[i]['Region']} {responses.iloc[i]['Response'].lower()} a UBI\"\n",
    "    for i in range(len(responses))\n",
    "]\n",
    "\n",
    "responses[\"Text\"] = [\n",
    "    f\"{responses.iloc[i]['Percent']:.0f}%\"\n",
    "    for i in range(len(responses))\n",
    "]\n",
    "\n",
    "fig = px.bar(\n",
    "    responses,\n",
    "    x=\"Percent\",\n",
    "    y=\"xtab1_val\",\n",
    "    text=\"Text\",\n",
    "    color=\"Response\",\n",
    "    custom_data=[\"Hover text\"],\n",
    "    color_discrete_map={\n",
    "        \"Strongly oppose\": DARK_GRAY,\n",
    "        \"Tend to oppose\": GRAY,\n",
    "        \"Don't know\": WHITE,\n",
    "        \"Neither support nor oppose\": WHITE,\n",
    "        \"Tend to support\": BLUE_LIGHT,\n",
    "        \"Strongly support\": BLUE_PRIMARY,\n",
    "    },\n",
    ")\n",
    "\n",
    "fig.update_traces(\n",
    "    textposition=\"inside\",\n",
    "    texttemplate=\"%{text}\",\n",
    "    hovertemplate=\"%{customdata[0]}\",\n",
    ")\n",
    "\n",
    "fig.update_layout(\n",
    "    uniformtext_minsize=11,\n",
    "    uniformtext_mode=\"hide\",\n",
    "    xaxis_tickangle=0,\n",
    "    legend_title_text=None,\n",
    "    yaxis_title=\"Region\",\n",
    "    title=\"Figure 1: UBI favourability by UK subregion\",\n",
    "    legend=dict(\n",
    "        orientation=\"h\",\n",
    "        yanchor=\"bottom\",\n",
    "        y=-0.3,\n",
    "    )\n",
    ")\n",
    "\n",
    "format_fig(fig).update_layout(\n",
    "    width=800,\n",
    "    height=600,\n",
    ").to_json()"
   ]
  },
  {
   "cell_type": "markdown",
   "metadata": {},
   "source": [
    "*Source: [Ipsos MORI, August 2017](https://www.ipsos.com/ipsos-mori/en-uk/half-uk-adults-would-support-universal-basic-income-principle). Full question: \"Assuming the level would be set roughly at the amount the UK government judged to be necessary to cover basic needs, e.g. food and clothing (but not housing costs), to what extent would you support or oppose the UK Government introducing a basic income?\".*\n",
    "\n",
    "A full UBI in NI would align with the nation's egalitarianism and public opinion. The next section models how NI could do it.\n",
    "\n",
    "\n",
    "# Exploring the space of feasible policies\n",
    "\n",
    "One could model an infinite number of basic income policies for Northern Ireland. We constrained the problem by defining UBI parameter values, tax variables to adjust, and requirements for the resulting policy.\n",
    "\n",
    "In particular, we limited to UBI policies of the following form:\n",
    "\n",
    "\n",
    "* Amounts per adult (aged 16 or over) of £200, £300, and £400 per month\n",
    "* No amount per child\n",
    "* UBI payments do not count as income for tax or means-tested benefits\n",
    "\n",
    "To fund the UBI, we considered three levers:\n",
    "\n",
    "\n",
    "* Personal allowance, from zero to the current value of £12,570 (we also adjusted the higher rate threshold to keep it at £50,270)\n",
    "* Basic rate increase\n",
    "* Ratio of higher and additional rate increases to the basic rate increase, of 0x (not changing the higher and additional rates), 1x, and 2x\n",
    "\n",
    "Finally, we constrained the end policy to:\n",
    "\n",
    "\n",
    "* Be budget-neutral (assuming no behavioural responses)\n",
    "* Avoid raising marginal tax rates above 100%,[^6] either via the normal tax rates, the phase-out of the personal allowance or benefit phase-outs\n",
    "\n",
    "[^6]:\n",
    "     We exclude the Child Benefit High-Income Tax Charge from contributing to this limit, because the MTR addition from that is dependent on the number of children, with no upper bound.\n"
   ]
  },
  {
   "cell_type": "code",
   "execution_count": 2,
   "metadata": {
    "tags": [
     "hide-input"
    ]
   },
   "outputs": [],
   "source": [
    "from policyengine_uk import Microsimulation\n",
    "import numpy as np\n",
    "import pandas as pd\n",
    "import plotly.express as px\n",
    "import plotly.graph_objects as go\n",
    "from scipy.optimize import bisect\n",
    "from policyengine_core.charts import format_fig\n",
    "from policyengine_core.model_api import *\n",
    "import pandas as pd\n",
    "# Silence warnings\n",
    "import warnings\n",
    "warnings.filterwarnings(\"ignore\")\n",
    "import plotly.io as pio\n",
    "pio.renderers.default = \"notebook\"\n",
    "\n",
    "def filter_to_ni(sim: Microsimulation):\n",
    "    weights = sim.calculate(\"household_weight\")\n",
    "    country = sim.calculate(\"country\")\n",
    "    sim.set_input(\"household_weight\", 2023, np.where(country == \"NORTHERN_IRELAND\", weights, 0))\n",
    "\n",
    "baseline = Microsimulation()\n",
    "filter_to_ni(baseline)\n",
    "\n",
    "\n",
    "def get_ubi_cost(\n",
    "    adult_amount: float = 400 * 12,\n",
    "    child_amount: float = 200 * 12,\n",
    "    senior_amount: float = 100 * 12,\n",
    "):\n",
    "    in_ni = baseline.calculate(\"country\", map_to=\"person\") == \"NORTHERN_IRELAND\"\n",
    "    age = baseline.calculate(\"age\")\n",
    "    retired = baseline.calculate(\"is_SP_age\")\n",
    "    num_adults = ((age >= 16) * (~retired))[in_ni].sum()\n",
    "    num_children = (age < 16)[in_ni].sum()\n",
    "    num_seniors = (retired)[in_ni].sum()\n",
    "    return adult_amount * num_adults + child_amount * num_children + senior_amount * num_seniors\n",
    "\n",
    "\n",
    "def ubi_ni_reform(\n",
    "    personal_allowance: float = 12_570,\n",
    "    basic_rate_addition: float = 0,\n",
    "    higher_rate_addition: float = 0,\n",
    "    additional_rate_addition: float = 0,\n",
    ") -> Reform:\n",
    "    def modify_parameters(parameters):\n",
    "        TIME_PERIOD = \"year:2023:10\"\n",
    "        rates = parameters.tax.income_tax.rates.uk.brackets\n",
    "        basic_rate = rates[0].rate\n",
    "        higher_rate = rates[1].rate\n",
    "        additional_rate = rates[2].rate\n",
    "        INSTANT = \"2023-01-01\"\n",
    "        basic_rate.update(period=TIME_PERIOD, value=basic_rate(INSTANT) + basic_rate_addition)\n",
    "        higher_rate.update(period=TIME_PERIOD, value=higher_rate(INSTANT) + higher_rate_addition)\n",
    "        additional_rate.update(period=TIME_PERIOD, value=additional_rate(INSTANT) + additional_rate_addition)\n",
    "        pa = parameters.tax.income_tax.allowances.personal_allowance.amount\n",
    "        pa.update(period=TIME_PERIOD, value=personal_allowance)\n",
    "        return parameters\n",
    "\n",
    "    class reform(Reform):\n",
    "        def apply(self):\n",
    "            self.modify_parameters(modify_parameters)\n",
    "    \n",
    "    return reform\n",
    "\n",
    "\n",
    "def get_revenue_slow_estimate(\n",
    "    personal_allowance: float,\n",
    "    basic_rate_addition: float,\n",
    "    higher_rate_addition: float,\n",
    "    additional_rate_addition: float,\n",
    ") -> float:\n",
    "    baseline = Microsimulation()\n",
    "    reformed = Microsimulation(\n",
    "        reform=ubi_ni_reform(\n",
    "            personal_allowance=personal_allowance,\n",
    "            basic_rate_addition=basic_rate_addition,\n",
    "            higher_rate_addition=higher_rate_addition,\n",
    "            additional_rate_addition=additional_rate_addition,\n",
    "        )\n",
    "    )\n",
    "    filter_to_ni(baseline)\n",
    "    filter_to_ni(reformed)\n",
    "    return baseline.calculate(\"household_net_income\").sum() - reformed.calculate(\"household_net_income\").sum()\n",
    "\n",
    "def get_revenue_quick_estimate(\n",
    "    personal_allowance: float,\n",
    "    basic_rate_addition: float,\n",
    "    higher_rate_addition: float,\n",
    "    additional_rate_addition: float,\n",
    ") -> float:\n",
    "    income = baseline.calc(\"adjusted_net_income\")\n",
    "    weight = income.weights\n",
    "    add_rate_income = np.maximum(0, income - 150_000)\n",
    "    higher_rate_income = np.maximum(0, income - 50_270) - add_rate_income\n",
    "    basic_rate_income_b = np.maximum(0, income - higher_rate_income - add_rate_income - 12_570)\n",
    "    basic_rate_income_r = np.maximum(0, income - higher_rate_income - add_rate_income - personal_allowance)\n",
    "    basic_rate_increased_tax = (\n",
    "        basic_rate_income_r * (0.2 + basic_rate_addition)\n",
    "        - basic_rate_income_b * 0.2\n",
    "    )\n",
    "    higher_rate_increased_tax = baseline.calculate(\"higher_rate_earned_income\").values * higher_rate_addition\n",
    "    additional_rate_increased_tax = baseline.calculate(\"add_rate_earned_income\").values * additional_rate_addition\n",
    "    increased_tax = basic_rate_increased_tax + higher_rate_increased_tax + additional_rate_increased_tax\n",
    "    return (increased_tax * weight).sum()\n",
    "\n",
    "def solve_rates(\n",
    "    adult_ubi: float = 0,\n",
    "    personal_allowance: float = 12_570,\n",
    "    higher_rate_ratio: float = 1,\n",
    "    additional_rate_ratio: float = 1,\n",
    "):\n",
    "    def adjusted_reform_cost(\n",
    "        basic_rate_addition: float = 0,\n",
    "    ) -> float:\n",
    "        \"\"\"adjusted_reform = ubi_ni_reform(\n",
    "            personal_allowance=personal_allowance,\n",
    "            basic_rate_addition=basic_rate_addition,\n",
    "            higher_rate_addition=higher_rate_ratio * basic_rate_addition,\n",
    "            additional_rate_addition=additional_rate_ratio * basic_rate_addition,\n",
    "        )\"\"\"\n",
    "        adjusted_revenue = get_revenue_quick_estimate(personal_allowance, basic_rate_addition, basic_rate_addition * higher_rate_ratio, basic_rate_addition * additional_rate_ratio)\n",
    "        ubi_cost = get_ubi_cost(\n",
    "            adult_ubi, \n",
    "            0, # adult_ubi * 0.5, <- A previous version gave half the adult UBI to children\n",
    "            adult_ubi\n",
    "        )\n",
    "        return ubi_cost * 0.75 - adjusted_revenue # Assume 25% of the UBI is paid for by Westminster\n",
    "    \n",
    "    return bisect(adjusted_reform_cost, -1, 1, xtol=1e-3)\n",
    "\n",
    "\n",
    "headline_ubi_rates = []\n",
    "personal_allowances = []\n",
    "basic_rate_additions = []\n",
    "higher_add_addition_ratios = []\n",
    "\n",
    "for pa in [12_570] + list(range(12_000, -1000, -1000)):\n",
    "    for ubi_rate in list([200 * 12, 300 * 12, 400 * 12]):\n",
    "        for higher_add_ratio in list((0, 1, 2)):\n",
    "            headline_ubi_rates.append(ubi_rate)\n",
    "            personal_allowances.append(pa)\n",
    "            basic_rate_additions.append(solve_rates(adult_ubi=ubi_rate, personal_allowance=pa, higher_rate_ratio=higher_add_ratio, additional_rate_ratio=higher_add_ratio))\n",
    "            higher_add_addition_ratios.append(higher_add_ratio)\n",
    "\n",
    "\n",
    "df = pd.DataFrame({\n",
    "    \"Adult UBI\": headline_ubi_rates,\n",
    "    \"Personal Allowance\": personal_allowances,\n",
    "    \"Basic rate addition\": basic_rate_additions,\n",
    "    \"Higher/additional rate increase ratio\": higher_add_addition_ratios,\n",
    "})\n",
    "df[\"Personal Allowance reduction\"] = 12_570 - df[\"Personal Allowance\"]\n",
    "df[\"Higher rate addition\"] = df[\"Basic rate addition\"] * df[\"Higher/additional rate increase ratio\"]\n",
    "df[\"Basic rate addition (x100)\"] = df[\"Basic rate addition\"] * 100\n",
    "df[\"Additional rate addition\"] = df[\"Basic rate addition\"] * df[\"Higher/additional rate increase ratio\"]\n",
    "df[\"UBI/Increase ratio combination\"] = [\n",
    "    f\"{higher_add_ratio:.0%}\" + \" \" * (ubi // 100)\n",
    "    for ubi, higher_add_ratio in zip(\n",
    "        df[\"Adult UBI\"],\n",
    "        df[\"Higher/additional rate increase ratio\"],\n",
    "    )\n",
    "]\n",
    "df[\"Label\"] = [\n",
    "    f\"A £{ubi:,.0f} UBI and £{pa:,.0f} Personal Allowance can be made <br>75% budget neutral by setting the basic, higher and additional rates<br> to {0.2 + basic_rate_addition:.1%}, {0.4 + higher_rate_addition:.1%} and {0.45 + additional_rate_addition:.1%} respectively.\"\n",
    "    for ubi, pa, basic_rate_addition, higher_rate_addition, additional_rate_addition in zip(\n",
    "        df[\"Adult UBI\"],\n",
    "        df[\"Personal Allowance\"],\n",
    "        df[\"Basic rate addition\"],\n",
    "        df[\"Higher rate addition\"],\n",
    "        df[\"Additional rate addition\"],\n",
    "    )\n",
    "]\n",
    "\n",
    "df = df.sort_values([\"Adult UBI\", \"Higher/additional rate increase ratio\"])\n",
    "\n",
    "df[\"Basic rate\"] = df[\"Basic rate addition\"] + 0.2\n",
    "df[\"Higher rate\"] = df[\"Higher rate addition\"] + 0.4\n",
    "df[\"Add. rate\"] = df[\"Additional rate addition\"] + 0.45\n",
    "\n",
    "df[[\n",
    "    \"Adult UBI\",\n",
    "    \"Personal Allowance\",\n",
    "    \"Basic rate addition\",\n",
    "    \"Higher/additional rate increase ratio\",\n",
    "]].to_csv(\"table.csv\", index=False)\n",
    "df[\"Feasible MTR\"] = np.where(\n",
    "        # £150k+ MTR under 100%\n",
    "        (df[\"Add. rate\"] + 0.0325 < 1)\n",
    "        # £100k-150k MTR under 100%\n",
    "        & (df[\"Higher rate\"] * (\n",
    "            np.where(df[\"Personal Allowance\"] > 0, 1.5, 1)\n",
    "        ) + 0.0325 < 1),\n",
    "        \"Yes\",\n",
    "        \"No\",\n",
    "    )\n",
    "\n",
    "df.to_csv(\"experiment_results.csv\")\n",
    "\n"
   ]
  },
  {
   "cell_type": "code",
   "execution_count": 3,
   "metadata": {
    "tags": [
     "highlighted-left"
    ]
   },
   "outputs": [
    {
     "data": {
      "text/plain": [
       "'{\"data\":[{\"customdata\":[[\"A \\\\u00a32,400 UBI and \\\\u00a312,570 Personal Allowance can be made <br>75% budget neutral by setting the basic, higher and additional rates<br> to 40.8%, 40.0% and 45.0% respectively.\"],[\"A \\\\u00a32,400 UBI and \\\\u00a312,000 Personal Allowance can be made <br>75% budget neutral by setting the basic, higher and additional rates<br> to 39.2%, 40.0% and 45.0% respectively.\"],[\"A \\\\u00a32,400 UBI and \\\\u00a311,000 Personal Allowance can be made <br>75% budget neutral by setting the basic, higher and additional rates<br> to 36.7%, 40.0% and 45.0% respectively.\"],[\"A \\\\u00a32,400 UBI and \\\\u00a310,000 Personal Allowance can be made <br>75% budget neutral by setting the basic, higher and additional rates<br> to 34.4%, 40.0% and 45.0% respectively.\"],[\"A \\\\u00a32,400 UBI and \\\\u00a39,000 Personal Allowance can be made <br>75% budget neutral by setting the basic, higher and additional rates<br> to 32.2%, 40.0% and 45.0% respectively.\"],[\"A \\\\u00a32,400 UBI and \\\\u00a38,000 Personal Allowance can be made <br>75% budget neutral by setting the basic, higher and additional rates<br> to 30.1%, 40.0% and 45.0% respectively.\"],[\"A \\\\u00a32,400 UBI and \\\\u00a37,000 Personal Allowance can be made <br>75% budget neutral by setting the basic, higher and additional rates<br> to 28.3%, 40.0% and 45.0% respectively.\"],[\"A \\\\u00a32,400 UBI and \\\\u00a36,000 Personal Allowance can be made <br>75% budget neutral by setting the basic, higher and additional rates<br> to 26.5%, 40.0% and 45.0% respectively.\"],[\"A \\\\u00a32,400 UBI and \\\\u00a35,000 Personal Allowance can be made <br>75% budget neutral by setting the basic, higher and additional rates<br> to 25.0%, 40.0% and 45.0% respectively.\"],[\"A \\\\u00a32,400 UBI and \\\\u00a34,000 Personal Allowance can be made <br>75% budget neutral by setting the basic, higher and additional rates<br> to 23.6%, 40.0% and 45.0% respectively.\"],[\"A \\\\u00a32,400 UBI and \\\\u00a33,000 Personal Allowance can be made <br>75% budget neutral by setting the basic, higher and additional rates<br> to 22.2%, 40.0% and 45.0% respectively.\"],[\"A \\\\u00a32,400 UBI and \\\\u00a32,000 Personal Allowance can be made <br>75% budget neutral by setting the basic, higher and additional rates<br> to 21.1%, 40.0% and 45.0% respectively.\"],[\"A \\\\u00a32,400 UBI and \\\\u00a31,000 Personal Allowance can be made <br>75% budget neutral by setting the basic, higher and additional rates<br> to 20.1%, 40.0% and 45.0% respectively.\"],[\"A \\\\u00a32,400 UBI and \\\\u00a30 Personal Allowance can be made <br>75% budget neutral by setting the basic, higher and additional rates<br> to 19.1%, 40.0% and 45.0% respectively.\"]],\"hovertemplate\":\"%{customdata[0]}\",\"legendgroup\":\"0%                        \",\"line\":{\"color\":\"#ABCEEB\",\"dash\":\"solid\"},\"marker\":{\"symbol\":\"circle\"},\"mode\":\"lines\",\"name\":\"0%                        \",\"orientation\":\"v\",\"showlegend\":true,\"x\":[12570,12000,11000,10000,9000,8000,7000,6000,5000,4000,3000,2000,1000,0],\"xaxis\":\"x\",\"y\":[0.4080078125,0.3923828125,0.3669921875,0.3435546875,0.3220703125,0.3005859375,0.2830078125,0.2654296875,0.2498046875,0.2361328125,0.2224609375,0.2107421875,0.2009765625,0.1912109375],\"yaxis\":\"y\",\"type\":\"scatter\"},{\"customdata\":[[\"A \\\\u00a32,400 UBI and \\\\u00a312,570 Personal Allowance can be made <br>75% budget neutral by setting the basic, higher and additional rates<br> to 36.5%, 56.5% and 61.5% respectively.\"],[\"A \\\\u00a32,400 UBI and \\\\u00a312,000 Personal Allowance can be made <br>75% budget neutral by setting the basic, higher and additional rates<br> to 35.5%, 55.5% and 60.5% respectively.\"],[\"A \\\\u00a32,400 UBI and \\\\u00a311,000 Personal Allowance can be made <br>75% budget neutral by setting the basic, higher and additional rates<br> to 33.6%, 53.6% and 58.6% respectively.\"],[\"A \\\\u00a32,400 UBI and \\\\u00a310,000 Personal Allowance can be made <br>75% budget neutral by setting the basic, higher and additional rates<br> to 31.8%, 51.8% and 56.8% respectively.\"],[\"A \\\\u00a32,400 UBI and \\\\u00a39,000 Personal Allowance can be made <br>75% budget neutral by setting the basic, higher and additional rates<br> to 30.1%, 50.1% and 55.1% respectively.\"],[\"A \\\\u00a32,400 UBI and \\\\u00a38,000 Personal Allowance can be made <br>75% budget neutral by setting the basic, higher and additional rates<br> to 28.5%, 48.5% and 53.5% respectively.\"],[\"A \\\\u00a32,400 UBI and \\\\u00a37,000 Personal Allowance can be made <br>75% budget neutral by setting the basic, higher and additional rates<br> to 27.1%, 47.1% and 52.1% respectively.\"],[\"A \\\\u00a32,400 UBI and \\\\u00a36,000 Personal Allowance can be made <br>75% budget neutral by setting the basic, higher and additional rates<br> to 25.6%, 45.6% and 50.6% respectively.\"],[\"A \\\\u00a32,400 UBI and \\\\u00a35,000 Personal Allowance can be made <br>75% budget neutral by setting the basic, higher and additional rates<br> to 24.4%, 44.4% and 49.4% respectively.\"],[\"A \\\\u00a32,400 UBI and \\\\u00a34,000 Personal Allowance can be made <br>75% budget neutral by setting the basic, higher and additional rates<br> to 23.0%, 43.0% and 48.0% respectively.\"],[\"A \\\\u00a32,400 UBI and \\\\u00a33,000 Personal Allowance can be made <br>75% budget neutral by setting the basic, higher and additional rates<br> to 22.1%, 42.1% and 47.1% respectively.\"],[\"A \\\\u00a32,400 UBI and \\\\u00a32,000 Personal Allowance can be made <br>75% budget neutral by setting the basic, higher and additional rates<br> to 21.1%, 41.1% and 46.1% respectively.\"],[\"A \\\\u00a32,400 UBI and \\\\u00a31,000 Personal Allowance can be made <br>75% budget neutral by setting the basic, higher and additional rates<br> to 20.1%, 40.1% and 45.1% respectively.\"],[\"A \\\\u00a32,400 UBI and \\\\u00a30 Personal Allowance can be made <br>75% budget neutral by setting the basic, higher and additional rates<br> to 19.1%, 39.1% and 44.1% respectively.\"]],\"hovertemplate\":\"%{customdata[0]}\",\"legendgroup\":\"100%                        \",\"line\":{\"color\":\"#49A6E2\",\"dash\":\"solid\"},\"marker\":{\"symbol\":\"circle\"},\"mode\":\"lines\",\"name\":\"100%                        \",\"orientation\":\"v\",\"showlegend\":false,\"x\":[12570,12000,11000,10000,9000,8000,7000,6000,5000,4000,3000,2000,1000,0],\"xaxis\":\"x\",\"y\":[0.3650390625,0.3552734375,0.3357421875,0.3181640625,0.3005859375,0.2849609375,0.2712890625,0.2556640625,0.2439453125,0.2302734375,0.2205078125,0.2107421875,0.2009765625,0.1912109375],\"yaxis\":\"y\",\"type\":\"scatter\"},{\"customdata\":[[\"A \\\\u00a32,400 UBI and \\\\u00a311,000 Personal Allowance can be made <br>75% budget neutral by setting the basic, higher and additional rates<br> to 31.4%, 62.9% and 67.9% respectively.\"],[\"A \\\\u00a32,400 UBI and \\\\u00a310,000 Personal Allowance can be made <br>75% budget neutral by setting the basic, higher and additional rates<br> to 30.1%, 60.1% and 65.1% respectively.\"],[\"A \\\\u00a32,400 UBI and \\\\u00a39,000 Personal Allowance can be made <br>75% budget neutral by setting the basic, higher and additional rates<br> to 28.7%, 57.4% and 62.4% respectively.\"],[\"A \\\\u00a32,400 UBI and \\\\u00a38,000 Personal Allowance can be made <br>75% budget neutral by setting the basic, higher and additional rates<br> to 27.3%, 54.6% and 59.6% respectively.\"],[\"A \\\\u00a32,400 UBI and \\\\u00a37,000 Personal Allowance can be made <br>75% budget neutral by setting the basic, higher and additional rates<br> to 26.2%, 52.3% and 57.3% respectively.\"],[\"A \\\\u00a32,400 UBI and \\\\u00a36,000 Personal Allowance can be made <br>75% budget neutral by setting the basic, higher and additional rates<br> to 25.0%, 50.0% and 55.0% respectively.\"],[\"A \\\\u00a32,400 UBI and \\\\u00a35,000 Personal Allowance can be made <br>75% budget neutral by setting the basic, higher and additional rates<br> to 23.8%, 47.6% and 52.6% respectively.\"],[\"A \\\\u00a32,400 UBI and \\\\u00a34,000 Personal Allowance can be made <br>75% budget neutral by setting the basic, higher and additional rates<br> to 22.8%, 45.7% and 50.7% respectively.\"],[\"A \\\\u00a32,400 UBI and \\\\u00a33,000 Personal Allowance can be made <br>75% budget neutral by setting the basic, higher and additional rates<br> to 21.9%, 43.7% and 48.7% respectively.\"],[\"A \\\\u00a32,400 UBI and \\\\u00a32,000 Personal Allowance can be made <br>75% budget neutral by setting the basic, higher and additional rates<br> to 20.9%, 41.8% and 46.8% respectively.\"],[\"A \\\\u00a32,400 UBI and \\\\u00a31,000 Personal Allowance can be made <br>75% budget neutral by setting the basic, higher and additional rates<br> to 20.1%, 40.2% and 45.2% respectively.\"],[\"A \\\\u00a32,400 UBI and \\\\u00a30 Personal Allowance can be made <br>75% budget neutral by setting the basic, higher and additional rates<br> to 19.3%, 38.6% and 43.6% respectively.\"]],\"hovertemplate\":\"%{customdata[0]}\",\"legendgroup\":\"200%                        \",\"line\":{\"color\":\"#1976D2\",\"dash\":\"solid\"},\"marker\":{\"symbol\":\"circle\"},\"mode\":\"lines\",\"name\":\"200%                        \",\"orientation\":\"v\",\"showlegend\":false,\"x\":[11000,10000,9000,8000,7000,6000,5000,4000,3000,2000,1000,0],\"xaxis\":\"x\",\"y\":[0.3142578125,0.3005859375,0.2869140625,0.2732421875,0.2615234375,0.2498046875,0.2380859375,0.2283203125,0.2185546875,0.2087890625,0.2009765625,0.1931640625],\"yaxis\":\"y\",\"type\":\"scatter\"},{\"customdata\":[[\"A \\\\u00a33,600 UBI and \\\\u00a312,570 Personal Allowance can be made <br>75% budget neutral by setting the basic, higher and additional rates<br> to 51.2%, 40.0% and 45.0% respectively.\"],[\"A \\\\u00a33,600 UBI and \\\\u00a312,000 Personal Allowance can be made <br>75% budget neutral by setting the basic, higher and additional rates<br> to 49.2%, 40.0% and 45.0% respectively.\"],[\"A \\\\u00a33,600 UBI and \\\\u00a311,000 Personal Allowance can be made <br>75% budget neutral by setting the basic, higher and additional rates<br> to 45.9%, 40.0% and 45.0% respectively.\"],[\"A \\\\u00a33,600 UBI and \\\\u00a310,000 Personal Allowance can be made <br>75% budget neutral by setting the basic, higher and additional rates<br> to 42.9%, 40.0% and 45.0% respectively.\"],[\"A \\\\u00a33,600 UBI and \\\\u00a39,000 Personal Allowance can be made <br>75% budget neutral by setting the basic, higher and additional rates<br> to 40.2%, 40.0% and 45.0% respectively.\"],[\"A \\\\u00a33,600 UBI and \\\\u00a38,000 Personal Allowance can be made <br>75% budget neutral by setting the basic, higher and additional rates<br> to 37.9%, 40.0% and 45.0% respectively.\"],[\"A \\\\u00a33,600 UBI and \\\\u00a37,000 Personal Allowance can be made <br>75% budget neutral by setting the basic, higher and additional rates<br> to 35.5%, 40.0% and 45.0% respectively.\"],[\"A \\\\u00a33,600 UBI and \\\\u00a36,000 Personal Allowance can be made <br>75% budget neutral by setting the basic, higher and additional rates<br> to 33.4%, 40.0% and 45.0% respectively.\"],[\"A \\\\u00a33,600 UBI and \\\\u00a35,000 Personal Allowance can be made <br>75% budget neutral by setting the basic, higher and additional rates<br> to 31.4%, 40.0% and 45.0% respectively.\"],[\"A \\\\u00a33,600 UBI and \\\\u00a34,000 Personal Allowance can be made <br>75% budget neutral by setting the basic, higher and additional rates<br> to 29.7%, 40.0% and 45.0% respectively.\"],[\"A \\\\u00a33,600 UBI and \\\\u00a33,000 Personal Allowance can be made <br>75% budget neutral by setting the basic, higher and additional rates<br> to 27.9%, 40.0% and 45.0% respectively.\"],[\"A \\\\u00a33,600 UBI and \\\\u00a32,000 Personal Allowance can be made <br>75% budget neutral by setting the basic, higher and additional rates<br> to 26.5%, 40.0% and 45.0% respectively.\"],[\"A \\\\u00a33,600 UBI and \\\\u00a31,000 Personal Allowance can be made <br>75% budget neutral by setting the basic, higher and additional rates<br> to 25.2%, 40.0% and 45.0% respectively.\"],[\"A \\\\u00a33,600 UBI and \\\\u00a30 Personal Allowance can be made <br>75% budget neutral by setting the basic, higher and additional rates<br> to 24.0%, 40.0% and 45.0% respectively.\"]],\"hovertemplate\":\"%{customdata[0]}\",\"legendgroup\":\"0%                                    \",\"line\":{\"color\":\"#ABCEEB\",\"dash\":\"solid\"},\"marker\":{\"symbol\":\"circle\"},\"mode\":\"lines\",\"name\":\"0%                                    \",\"orientation\":\"v\",\"showlegend\":false,\"x\":[12570,12000,11000,10000,9000,8000,7000,6000,5000,4000,3000,2000,1000,0],\"xaxis\":\"x\",\"y\":[0.5115234375,0.4919921875,0.4587890625,0.4294921875,0.4021484375,0.3787109375,0.3552734375,0.3337890625,0.3142578125,0.2966796875,0.2791015625,0.2654296875,0.2517578125,0.2400390625],\"yaxis\":\"y\",\"type\":\"scatter\"},{\"customdata\":[[\"A \\\\u00a33,600 UBI and \\\\u00a312,000 Personal Allowance can be made <br>75% budget neutral by setting the basic, higher and additional rates<br> to 43.5%, 63.5% and 68.5% respectively.\"],[\"A \\\\u00a33,600 UBI and \\\\u00a311,000 Personal Allowance can be made <br>75% budget neutral by setting the basic, higher and additional rates<br> to 41.2%, 61.2% and 66.2% respectively.\"],[\"A \\\\u00a33,600 UBI and \\\\u00a310,000 Personal Allowance can be made <br>75% budget neutral by setting the basic, higher and additional rates<br> to 39.0%, 59.0% and 64.0% respectively.\"],[\"A \\\\u00a33,600 UBI and \\\\u00a39,000 Personal Allowance can be made <br>75% budget neutral by setting the basic, higher and additional rates<br> to 36.9%, 56.9% and 61.9% respectively.\"],[\"A \\\\u00a33,600 UBI and \\\\u00a38,000 Personal Allowance can be made <br>75% budget neutral by setting the basic, higher and additional rates<br> to 34.9%, 54.9% and 59.9% respectively.\"],[\"A \\\\u00a33,600 UBI and \\\\u00a37,000 Personal Allowance can be made <br>75% budget neutral by setting the basic, higher and additional rates<br> to 33.2%, 53.2% and 58.2% respectively.\"],[\"A \\\\u00a33,600 UBI and \\\\u00a36,000 Personal Allowance can be made <br>75% budget neutral by setting the basic, higher and additional rates<br> to 31.4%, 51.4% and 56.4% respectively.\"],[\"A \\\\u00a33,600 UBI and \\\\u00a35,000 Personal Allowance can be made <br>75% budget neutral by setting the basic, higher and additional rates<br> to 29.9%, 49.9% and 54.9% respectively.\"],[\"A \\\\u00a33,600 UBI and \\\\u00a34,000 Personal Allowance can be made <br>75% budget neutral by setting the basic, higher and additional rates<br> to 28.3%, 48.3% and 53.3% respectively.\"],[\"A \\\\u00a33,600 UBI and \\\\u00a33,000 Personal Allowance can be made <br>75% budget neutral by setting the basic, higher and additional rates<br> to 26.9%, 46.9% and 51.9% respectively.\"],[\"A \\\\u00a33,600 UBI and \\\\u00a32,000 Personal Allowance can be made <br>75% budget neutral by setting the basic, higher and additional rates<br> to 25.8%, 45.8% and 50.8% respectively.\"],[\"A \\\\u00a33,600 UBI and \\\\u00a31,000 Personal Allowance can be made <br>75% budget neutral by setting the basic, higher and additional rates<br> to 24.6%, 44.6% and 49.6% respectively.\"],[\"A \\\\u00a33,600 UBI and \\\\u00a30 Personal Allowance can be made <br>75% budget neutral by setting the basic, higher and additional rates<br> to 23.6%, 43.6% and 48.6% respectively.\"]],\"hovertemplate\":\"%{customdata[0]}\",\"legendgroup\":\"100%                                    \",\"line\":{\"color\":\"#49A6E2\",\"dash\":\"solid\"},\"marker\":{\"symbol\":\"circle\"},\"mode\":\"lines\",\"name\":\"100%                                    \",\"orientation\":\"v\",\"showlegend\":true,\"x\":[12000,11000,10000,9000,8000,7000,6000,5000,4000,3000,2000,1000,0],\"xaxis\":\"x\",\"y\":[0.4353515625,0.4119140625,0.3904296875,0.3689453125,0.3494140625,0.3318359375,0.3142578125,0.2986328125,0.2830078125,0.2693359375,0.2576171875,0.2458984375,0.2361328125],\"yaxis\":\"y\",\"type\":\"scatter\"},{\"customdata\":[[\"A \\\\u00a33,600 UBI and \\\\u00a37,000 Personal Allowance can be made <br>75% budget neutral by setting the basic, higher and additional rates<br> to 31.4%, 62.9% and 67.9% respectively.\"],[\"A \\\\u00a33,600 UBI and \\\\u00a36,000 Personal Allowance can be made <br>75% budget neutral by setting the basic, higher and additional rates<br> to 30.1%, 60.1% and 65.1% respectively.\"],[\"A \\\\u00a33,600 UBI and \\\\u00a35,000 Personal Allowance can be made <br>75% budget neutral by setting the basic, higher and additional rates<br> to 28.7%, 57.4% and 62.4% respectively.\"],[\"A \\\\u00a33,600 UBI and \\\\u00a34,000 Personal Allowance can be made <br>75% budget neutral by setting the basic, higher and additional rates<br> to 27.3%, 54.6% and 59.6% respectively.\"],[\"A \\\\u00a33,600 UBI and \\\\u00a33,000 Personal Allowance can be made <br>75% budget neutral by setting the basic, higher and additional rates<br> to 26.2%, 52.3% and 57.3% respectively.\"],[\"A \\\\u00a33,600 UBI and \\\\u00a32,000 Personal Allowance can be made <br>75% budget neutral by setting the basic, higher and additional rates<br> to 25.2%, 50.4% and 55.4% respectively.\"],[\"A \\\\u00a33,600 UBI and \\\\u00a31,000 Personal Allowance can be made <br>75% budget neutral by setting the basic, higher and additional rates<br> to 24.2%, 48.4% and 53.4% respectively.\"],[\"A \\\\u00a33,600 UBI and \\\\u00a30 Personal Allowance can be made <br>75% budget neutral by setting the basic, higher and additional rates<br> to 23.2%, 46.4% and 51.4% respectively.\"]],\"hovertemplate\":\"%{customdata[0]}\",\"legendgroup\":\"200%                                    \",\"line\":{\"color\":\"#1976D2\",\"dash\":\"solid\"},\"marker\":{\"symbol\":\"circle\"},\"mode\":\"lines\",\"name\":\"200%                                    \",\"orientation\":\"v\",\"showlegend\":false,\"x\":[7000,6000,5000,4000,3000,2000,1000,0],\"xaxis\":\"x\",\"y\":[0.3142578125,0.3005859375,0.2869140625,0.2732421875,0.2615234375,0.2517578125,0.2419921875,0.2322265625],\"yaxis\":\"y\",\"type\":\"scatter\"},{\"customdata\":[[\"A \\\\u00a34,800 UBI and \\\\u00a312,570 Personal Allowance can be made <br>75% budget neutral by setting the basic, higher and additional rates<br> to 61.5%, 40.0% and 45.0% respectively.\"],[\"A \\\\u00a34,800 UBI and \\\\u00a312,000 Personal Allowance can be made <br>75% budget neutral by setting the basic, higher and additional rates<br> to 59.2%, 40.0% and 45.0% respectively.\"],[\"A \\\\u00a34,800 UBI and \\\\u00a311,000 Personal Allowance can be made <br>75% budget neutral by setting the basic, higher and additional rates<br> to 55.3%, 40.0% and 45.0% respectively.\"],[\"A \\\\u00a34,800 UBI and \\\\u00a310,000 Personal Allowance can be made <br>75% budget neutral by setting the basic, higher and additional rates<br> to 51.7%, 40.0% and 45.0% respectively.\"],[\"A \\\\u00a34,800 UBI and \\\\u00a39,000 Personal Allowance can be made <br>75% budget neutral by setting the basic, higher and additional rates<br> to 48.4%, 40.0% and 45.0% respectively.\"],[\"A \\\\u00a34,800 UBI and \\\\u00a38,000 Personal Allowance can be made <br>75% budget neutral by setting the basic, higher and additional rates<br> to 45.5%, 40.0% and 45.0% respectively.\"],[\"A \\\\u00a34,800 UBI and \\\\u00a37,000 Personal Allowance can be made <br>75% budget neutral by setting the basic, higher and additional rates<br> to 42.8%, 40.0% and 45.0% respectively.\"],[\"A \\\\u00a34,800 UBI and \\\\u00a36,000 Personal Allowance can be made <br>75% budget neutral by setting the basic, higher and additional rates<br> to 40.0%, 40.0% and 45.0% respectively.\"],[\"A \\\\u00a34,800 UBI and \\\\u00a35,000 Personal Allowance can be made <br>75% budget neutral by setting the basic, higher and additional rates<br> to 37.7%, 40.0% and 45.0% respectively.\"],[\"A \\\\u00a34,800 UBI and \\\\u00a34,000 Personal Allowance can be made <br>75% budget neutral by setting the basic, higher and additional rates<br> to 35.5%, 40.0% and 45.0% respectively.\"],[\"A \\\\u00a34,800 UBI and \\\\u00a33,000 Personal Allowance can be made <br>75% budget neutral by setting the basic, higher and additional rates<br> to 33.6%, 40.0% and 45.0% respectively.\"],[\"A \\\\u00a34,800 UBI and \\\\u00a32,000 Personal Allowance can be made <br>75% budget neutral by setting the basic, higher and additional rates<br> to 31.8%, 40.0% and 45.0% respectively.\"],[\"A \\\\u00a34,800 UBI and \\\\u00a31,000 Personal Allowance can be made <br>75% budget neutral by setting the basic, higher and additional rates<br> to 30.3%, 40.0% and 45.0% respectively.\"],[\"A \\\\u00a34,800 UBI and \\\\u00a30 Personal Allowance can be made <br>75% budget neutral by setting the basic, higher and additional rates<br> to 28.9%, 40.0% and 45.0% respectively.\"]],\"hovertemplate\":\"%{customdata[0]}\",\"legendgroup\":\"0%                                                \",\"line\":{\"color\":\"#ABCEEB\",\"dash\":\"solid\"},\"marker\":{\"symbol\":\"circle\"},\"mode\":\"lines\",\"name\":\"0%                                                \",\"orientation\":\"v\",\"showlegend\":false,\"x\":[12570,12000,11000,10000,9000,8000,7000,6000,5000,4000,3000,2000,1000,0],\"xaxis\":\"x\",\"y\":[0.6150390625,0.5916015625,0.5525390625,0.5173828125,0.4841796875,0.4548828125,0.4275390625,0.4001953125,0.3767578125,0.3552734375,0.3357421875,0.3181640625,0.3025390625,0.2888671875],\"yaxis\":\"y\",\"type\":\"scatter\"},{\"customdata\":[[\"A \\\\u00a34,800 UBI and \\\\u00a39,000 Personal Allowance can be made <br>75% budget neutral by setting the basic, higher and additional rates<br> to 43.7%, 63.7% and 68.7% respectively.\"],[\"A \\\\u00a34,800 UBI and \\\\u00a38,000 Personal Allowance can be made <br>75% budget neutral by setting the basic, higher and additional rates<br> to 41.4%, 61.4% and 66.4% respectively.\"],[\"A \\\\u00a34,800 UBI and \\\\u00a37,000 Personal Allowance can be made <br>75% budget neutral by setting the basic, higher and additional rates<br> to 39.2%, 59.2% and 64.2% respectively.\"],[\"A \\\\u00a34,800 UBI and \\\\u00a36,000 Personal Allowance can be made <br>75% budget neutral by setting the basic, higher and additional rates<br> to 37.3%, 57.3% and 62.3% respectively.\"],[\"A \\\\u00a34,800 UBI and \\\\u00a35,000 Personal Allowance can be made <br>75% budget neutral by setting the basic, higher and additional rates<br> to 35.3%, 55.3% and 60.3% respectively.\"],[\"A \\\\u00a34,800 UBI and \\\\u00a34,000 Personal Allowance can be made <br>75% budget neutral by setting the basic, higher and additional rates<br> to 33.6%, 53.6% and 58.6% respectively.\"],[\"A \\\\u00a34,800 UBI and \\\\u00a33,000 Personal Allowance can be made <br>75% budget neutral by setting the basic, higher and additional rates<br> to 32.0%, 52.0% and 57.0% respectively.\"],[\"A \\\\u00a34,800 UBI and \\\\u00a32,000 Personal Allowance can be made <br>75% budget neutral by setting the basic, higher and additional rates<br> to 30.4%, 50.4% and 55.4% respectively.\"],[\"A \\\\u00a34,800 UBI and \\\\u00a31,000 Personal Allowance can be made <br>75% budget neutral by setting the basic, higher and additional rates<br> to 29.1%, 49.1% and 54.1% respectively.\"],[\"A \\\\u00a34,800 UBI and \\\\u00a30 Personal Allowance can be made <br>75% budget neutral by setting the basic, higher and additional rates<br> to 27.9%, 47.9% and 52.9% respectively.\"]],\"hovertemplate\":\"%{customdata[0]}\",\"legendgroup\":\"100%                                                \",\"line\":{\"color\":\"#49A6E2\",\"dash\":\"solid\"},\"marker\":{\"symbol\":\"circle\"},\"mode\":\"lines\",\"name\":\"100%                                                \",\"orientation\":\"v\",\"showlegend\":false,\"x\":[9000,8000,7000,6000,5000,4000,3000,2000,1000,0],\"xaxis\":\"x\",\"y\":[0.4373046875,0.4138671875,0.3923828125,0.3728515625,0.3533203125,0.3357421875,0.3201171875,0.3044921875,0.2908203125,0.2791015625],\"yaxis\":\"y\",\"type\":\"scatter\"},{\"customdata\":[[\"A \\\\u00a34,800 UBI and \\\\u00a34,000 Personal Allowance can be made <br>75% budget neutral by setting the basic, higher and additional rates<br> to 32.0%, 64.0% and 69.0% respectively.\"],[\"A \\\\u00a34,800 UBI and \\\\u00a33,000 Personal Allowance can be made <br>75% budget neutral by setting the basic, higher and additional rates<br> to 30.6%, 61.3% and 66.3% respectively.\"],[\"A \\\\u00a34,800 UBI and \\\\u00a32,000 Personal Allowance can be made <br>75% budget neutral by setting the basic, higher and additional rates<br> to 29.5%, 58.9% and 63.9% respectively.\"],[\"A \\\\u00a34,800 UBI and \\\\u00a31,000 Personal Allowance can be made <br>75% budget neutral by setting the basic, higher and additional rates<br> to 28.3%, 56.6% and 61.6% respectively.\"],[\"A \\\\u00a34,800 UBI and \\\\u00a30 Personal Allowance can be made <br>75% budget neutral by setting the basic, higher and additional rates<br> to 27.1%, 54.3% and 59.3% respectively.\"]],\"hovertemplate\":\"%{customdata[0]}\",\"legendgroup\":\"200%                                                \",\"line\":{\"color\":\"#1976D2\",\"dash\":\"solid\"},\"marker\":{\"symbol\":\"circle\"},\"mode\":\"lines\",\"name\":\"200%                                                \",\"orientation\":\"v\",\"showlegend\":true,\"x\":[4000,3000,2000,1000,0],\"xaxis\":\"x\",\"y\":[0.3201171875,0.3064453125,0.2947265625,0.2830078125,0.2712890625],\"yaxis\":\"y\",\"type\":\"scatter\"},{\"mode\":\"text\",\"name\":\"Label\",\"showlegend\":false,\"text\":[\"\\\\u00a3200/mo\",\"\\\\u00a3300/mo\",\"\\\\u00a3400/mo\"],\"textposition\":\"bottom center\",\"x\":[1000,1000,1000],\"y\":[0.18,0.265,0.35],\"type\":\"scatter\"}],\"layout\":{\"template\":{\"data\":{\"barpolar\":[{\"marker\":{\"line\":{\"color\":\"white\",\"width\":0.5},\"pattern\":{\"fillmode\":\"overlay\",\"size\":10,\"solidity\":0.2}},\"type\":\"barpolar\"}],\"bar\":[{\"error_x\":{\"color\":\"#2a3f5f\"},\"error_y\":{\"color\":\"#2a3f5f\"},\"marker\":{\"line\":{\"color\":\"white\",\"width\":0.5},\"pattern\":{\"fillmode\":\"overlay\",\"size\":10,\"solidity\":0.2}},\"type\":\"bar\"}],\"carpet\":[{\"aaxis\":{\"endlinecolor\":\"#2a3f5f\",\"gridcolor\":\"#C8D4E3\",\"linecolor\":\"#C8D4E3\",\"minorgridcolor\":\"#C8D4E3\",\"startlinecolor\":\"#2a3f5f\"},\"baxis\":{\"endlinecolor\":\"#2a3f5f\",\"gridcolor\":\"#C8D4E3\",\"linecolor\":\"#C8D4E3\",\"minorgridcolor\":\"#C8D4E3\",\"startlinecolor\":\"#2a3f5f\"},\"type\":\"carpet\"}],\"choropleth\":[{\"colorbar\":{\"outlinewidth\":0,\"ticks\":\"\"},\"type\":\"choropleth\"}],\"contourcarpet\":[{\"colorbar\":{\"outlinewidth\":0,\"ticks\":\"\"},\"type\":\"contourcarpet\"}],\"contour\":[{\"colorbar\":{\"outlinewidth\":0,\"ticks\":\"\"},\"colorscale\":[[0.0,\"#0d0887\"],[0.1111111111111111,\"#46039f\"],[0.2222222222222222,\"#7201a8\"],[0.3333333333333333,\"#9c179e\"],[0.4444444444444444,\"#bd3786\"],[0.5555555555555556,\"#d8576b\"],[0.6666666666666666,\"#ed7953\"],[0.7777777777777778,\"#fb9f3a\"],[0.8888888888888888,\"#fdca26\"],[1.0,\"#f0f921\"]],\"type\":\"contour\"}],\"heatmapgl\":[{\"colorbar\":{\"outlinewidth\":0,\"ticks\":\"\"},\"colorscale\":[[0.0,\"#0d0887\"],[0.1111111111111111,\"#46039f\"],[0.2222222222222222,\"#7201a8\"],[0.3333333333333333,\"#9c179e\"],[0.4444444444444444,\"#bd3786\"],[0.5555555555555556,\"#d8576b\"],[0.6666666666666666,\"#ed7953\"],[0.7777777777777778,\"#fb9f3a\"],[0.8888888888888888,\"#fdca26\"],[1.0,\"#f0f921\"]],\"type\":\"heatmapgl\"}],\"heatmap\":[{\"colorbar\":{\"outlinewidth\":0,\"ticks\":\"\"},\"colorscale\":[[0.0,\"#0d0887\"],[0.1111111111111111,\"#46039f\"],[0.2222222222222222,\"#7201a8\"],[0.3333333333333333,\"#9c179e\"],[0.4444444444444444,\"#bd3786\"],[0.5555555555555556,\"#d8576b\"],[0.6666666666666666,\"#ed7953\"],[0.7777777777777778,\"#fb9f3a\"],[0.8888888888888888,\"#fdca26\"],[1.0,\"#f0f921\"]],\"type\":\"heatmap\"}],\"histogram2dcontour\":[{\"colorbar\":{\"outlinewidth\":0,\"ticks\":\"\"},\"colorscale\":[[0.0,\"#0d0887\"],[0.1111111111111111,\"#46039f\"],[0.2222222222222222,\"#7201a8\"],[0.3333333333333333,\"#9c179e\"],[0.4444444444444444,\"#bd3786\"],[0.5555555555555556,\"#d8576b\"],[0.6666666666666666,\"#ed7953\"],[0.7777777777777778,\"#fb9f3a\"],[0.8888888888888888,\"#fdca26\"],[1.0,\"#f0f921\"]],\"type\":\"histogram2dcontour\"}],\"histogram2d\":[{\"colorbar\":{\"outlinewidth\":0,\"ticks\":\"\"},\"colorscale\":[[0.0,\"#0d0887\"],[0.1111111111111111,\"#46039f\"],[0.2222222222222222,\"#7201a8\"],[0.3333333333333333,\"#9c179e\"],[0.4444444444444444,\"#bd3786\"],[0.5555555555555556,\"#d8576b\"],[0.6666666666666666,\"#ed7953\"],[0.7777777777777778,\"#fb9f3a\"],[0.8888888888888888,\"#fdca26\"],[1.0,\"#f0f921\"]],\"type\":\"histogram2d\"}],\"histogram\":[{\"marker\":{\"pattern\":{\"fillmode\":\"overlay\",\"size\":10,\"solidity\":0.2}},\"type\":\"histogram\"}],\"mesh3d\":[{\"colorbar\":{\"outlinewidth\":0,\"ticks\":\"\"},\"type\":\"mesh3d\"}],\"parcoords\":[{\"line\":{\"colorbar\":{\"outlinewidth\":0,\"ticks\":\"\"}},\"type\":\"parcoords\"}],\"pie\":[{\"automargin\":true,\"type\":\"pie\"}],\"scatter3d\":[{\"line\":{\"colorbar\":{\"outlinewidth\":0,\"ticks\":\"\"}},\"marker\":{\"colorbar\":{\"outlinewidth\":0,\"ticks\":\"\"}},\"type\":\"scatter3d\"}],\"scattercarpet\":[{\"marker\":{\"colorbar\":{\"outlinewidth\":0,\"ticks\":\"\"}},\"type\":\"scattercarpet\"}],\"scattergeo\":[{\"marker\":{\"colorbar\":{\"outlinewidth\":0,\"ticks\":\"\"}},\"type\":\"scattergeo\"}],\"scattergl\":[{\"marker\":{\"colorbar\":{\"outlinewidth\":0,\"ticks\":\"\"}},\"type\":\"scattergl\"}],\"scattermapbox\":[{\"marker\":{\"colorbar\":{\"outlinewidth\":0,\"ticks\":\"\"}},\"type\":\"scattermapbox\"}],\"scatterpolargl\":[{\"marker\":{\"colorbar\":{\"outlinewidth\":0,\"ticks\":\"\"}},\"type\":\"scatterpolargl\"}],\"scatterpolar\":[{\"marker\":{\"colorbar\":{\"outlinewidth\":0,\"ticks\":\"\"}},\"type\":\"scatterpolar\"}],\"scatter\":[{\"fillpattern\":{\"fillmode\":\"overlay\",\"size\":10,\"solidity\":0.2},\"type\":\"scatter\"}],\"scatterternary\":[{\"marker\":{\"colorbar\":{\"outlinewidth\":0,\"ticks\":\"\"}},\"type\":\"scatterternary\"}],\"surface\":[{\"colorbar\":{\"outlinewidth\":0,\"ticks\":\"\"},\"colorscale\":[[0.0,\"#0d0887\"],[0.1111111111111111,\"#46039f\"],[0.2222222222222222,\"#7201a8\"],[0.3333333333333333,\"#9c179e\"],[0.4444444444444444,\"#bd3786\"],[0.5555555555555556,\"#d8576b\"],[0.6666666666666666,\"#ed7953\"],[0.7777777777777778,\"#fb9f3a\"],[0.8888888888888888,\"#fdca26\"],[1.0,\"#f0f921\"]],\"type\":\"surface\"}],\"table\":[{\"cells\":{\"fill\":{\"color\":\"#EBF0F8\"},\"line\":{\"color\":\"white\"}},\"header\":{\"fill\":{\"color\":\"#C8D4E3\"},\"line\":{\"color\":\"white\"}},\"type\":\"table\"}]},\"layout\":{\"annotationdefaults\":{\"arrowcolor\":\"#2a3f5f\",\"arrowhead\":0,\"arrowwidth\":1},\"autotypenumbers\":\"strict\",\"coloraxis\":{\"colorbar\":{\"outlinewidth\":0,\"ticks\":\"\"}},\"colorscale\":{\"diverging\":[[0,\"#8e0152\"],[0.1,\"#c51b7d\"],[0.2,\"#de77ae\"],[0.3,\"#f1b6da\"],[0.4,\"#fde0ef\"],[0.5,\"#f7f7f7\"],[0.6,\"#e6f5d0\"],[0.7,\"#b8e186\"],[0.8,\"#7fbc41\"],[0.9,\"#4d9221\"],[1,\"#276419\"]],\"sequential\":[[0.0,\"#0d0887\"],[0.1111111111111111,\"#46039f\"],[0.2222222222222222,\"#7201a8\"],[0.3333333333333333,\"#9c179e\"],[0.4444444444444444,\"#bd3786\"],[0.5555555555555556,\"#d8576b\"],[0.6666666666666666,\"#ed7953\"],[0.7777777777777778,\"#fb9f3a\"],[0.8888888888888888,\"#fdca26\"],[1.0,\"#f0f921\"]],\"sequentialminus\":[[0.0,\"#0d0887\"],[0.1111111111111111,\"#46039f\"],[0.2222222222222222,\"#7201a8\"],[0.3333333333333333,\"#9c179e\"],[0.4444444444444444,\"#bd3786\"],[0.5555555555555556,\"#d8576b\"],[0.6666666666666666,\"#ed7953\"],[0.7777777777777778,\"#fb9f3a\"],[0.8888888888888888,\"#fdca26\"],[1.0,\"#f0f921\"]]},\"colorway\":[\"#636efa\",\"#EF553B\",\"#00cc96\",\"#ab63fa\",\"#FFA15A\",\"#19d3f3\",\"#FF6692\",\"#B6E880\",\"#FF97FF\",\"#FECB52\"],\"font\":{\"color\":\"#2a3f5f\"},\"geo\":{\"bgcolor\":\"white\",\"lakecolor\":\"white\",\"landcolor\":\"white\",\"showlakes\":true,\"showland\":true,\"subunitcolor\":\"#C8D4E3\"},\"hoverlabel\":{\"align\":\"left\"},\"hovermode\":\"closest\",\"mapbox\":{\"style\":\"light\"},\"paper_bgcolor\":\"white\",\"plot_bgcolor\":\"white\",\"polar\":{\"angularaxis\":{\"gridcolor\":\"#EBF0F8\",\"linecolor\":\"#EBF0F8\",\"ticks\":\"\"},\"bgcolor\":\"white\",\"radialaxis\":{\"gridcolor\":\"#EBF0F8\",\"linecolor\":\"#EBF0F8\",\"ticks\":\"\"}},\"scene\":{\"xaxis\":{\"backgroundcolor\":\"white\",\"gridcolor\":\"#DFE8F3\",\"gridwidth\":2,\"linecolor\":\"#EBF0F8\",\"showbackground\":true,\"ticks\":\"\",\"zerolinecolor\":\"#EBF0F8\"},\"yaxis\":{\"backgroundcolor\":\"white\",\"gridcolor\":\"#DFE8F3\",\"gridwidth\":2,\"linecolor\":\"#EBF0F8\",\"showbackground\":true,\"ticks\":\"\",\"zerolinecolor\":\"#EBF0F8\"},\"zaxis\":{\"backgroundcolor\":\"white\",\"gridcolor\":\"#DFE8F3\",\"gridwidth\":2,\"linecolor\":\"#EBF0F8\",\"showbackground\":true,\"ticks\":\"\",\"zerolinecolor\":\"#EBF0F8\"}},\"shapedefaults\":{\"line\":{\"color\":\"#2a3f5f\"}},\"ternary\":{\"aaxis\":{\"gridcolor\":\"#DFE8F3\",\"linecolor\":\"#A2B1C6\",\"ticks\":\"\"},\"baxis\":{\"gridcolor\":\"#DFE8F3\",\"linecolor\":\"#A2B1C6\",\"ticks\":\"\"},\"bgcolor\":\"white\",\"caxis\":{\"gridcolor\":\"#DFE8F3\",\"linecolor\":\"#A2B1C6\",\"ticks\":\"\"}},\"title\":{\"x\":0.05},\"xaxis\":{\"automargin\":true,\"gridcolor\":\"#EBF0F8\",\"linecolor\":\"#EBF0F8\",\"ticks\":\"\",\"title\":{\"standoff\":15},\"zerolinecolor\":\"#EBF0F8\",\"zerolinewidth\":2},\"yaxis\":{\"automargin\":true,\"gridcolor\":\"#EBF0F8\",\"linecolor\":\"#EBF0F8\",\"ticks\":\"\",\"title\":{\"standoff\":15},\"zerolinecolor\":\"#EBF0F8\",\"zerolinewidth\":2}}},\"xaxis\":{\"anchor\":\"y\",\"domain\":[0.0,1.0],\"title\":{\"text\":\"Personal Allowance\"},\"tickprefix\":\"\\\\u00a3\",\"tickformat\":\",.0f\",\"range\":[0,12570]},\"yaxis\":{\"anchor\":\"x\",\"domain\":[0.0,1.0],\"title\":{\"text\":\"Basic rate\"},\"tickformat\":\".0%\",\"range\":[0,0.7]},\"legend\":{\"title\":{\"text\":\"Higher/add. rate increase ratio\"},\"tracegroupgap\":0,\"orientation\":\"h\",\"yanchor\":\"top\",\"y\":1.1},\"margin\":{\"t\":60},\"font\":{\"family\":\"Roboto Serif\",\"color\":\"black\"},\"images\":[{\"sizex\":0.2,\"sizey\":0.2,\"source\":\"https://raw.githubusercontent.com/PolicyEngine/policyengine-app/master/src/images/logos/policyengine/blue.png\",\"x\":1,\"xanchor\":\"right\",\"xref\":\"paper\",\"y\":-0.15,\"yanchor\":\"bottom\",\"yref\":\"paper\"}],\"height\":600,\"width\":800,\"modebar\":{\"bgcolor\":\"rgba(0,0,0,0)\",\"color\":\"rgba(0,0,0,0)\"},\"title\":{\"text\":\"Figure 2: Feasible UBI policies for Northern Ireland\"}}}'"
      ]
     },
     "execution_count": 3,
     "metadata": {},
     "output_type": "execute_result"
    }
   ],
   "source": [
    "from policyengine_core.charts import *\n",
    "from ubicenter.plotly import BLUE_COLOR_SEQUENCE\n",
    "\n",
    "df = pd.read_csv(\"experiment_results.csv\")\n",
    "df = df[df[\"Feasible MTR\"] == \"Yes\"]\n",
    "fig = px.line(\n",
    "    df,\n",
    "    x=\"Personal Allowance\", \n",
    "    y=\"Basic rate\", \n",
    "    color=\"UBI/Increase ratio combination\",  \n",
    "    custom_data=[df.Label],\n",
    "    color_discrete_sequence=BLUE_COLOR_SEQUENCE[:3],\n",
    ")\n",
    "fig.update_layout(\n",
    "    yaxis_tickformat=\".0%\",\n",
    "    yaxis_title=\"Basic rate\",\n",
    "    xaxis_tickprefix=\"£\",\n",
    "    xaxis_tickformat=\",.0f\",\n",
    "    xaxis_range=(0, 12_570),\n",
    "    yaxis_range=(0, 0.7),\n",
    "    legend_title=\"Higher/add. rate increase ratio\",\n",
    ")\n",
    "\n",
    "CUSTOM_HOVERTEMPLATE=\"%{customdata[0]}\"\n",
    "fig.update_traces(hovertemplate=CUSTOM_HOVERTEMPLATE)\n",
    "\n",
    "for i, data in enumerate(fig.data):\n",
    "    data.hovertemplate = CUSTOM_HOVERTEMPLATE\n",
    "    if i % 4 == 0:\n",
    "        data[\"showlegend\"] = True\n",
    "    else:\n",
    "        data[\"showlegend\"] = False\n",
    "\n",
    "fig.add_trace(go.Scatter(\n",
    "    y=np.linspace(0.18, 0.35, 3),\n",
    "    x=[1_000] * 3,\n",
    "    mode=\"text\",\n",
    "    name=\"Label\",\n",
    "    text=[\"£200/mo\", \"£300/mo\", \"£400/mo\"],\n",
    "    textposition=\"bottom center\",\n",
    "    showlegend=False,\n",
    "))\n",
    "\n",
    "fig_json = format_fig(fig).update_layout(\n",
    "    title=\"Figure 2: Feasible UBI policies for Northern Ireland\",\n",
    "    legend=dict(\n",
    "        orientation=\"h\",\n",
    "        yanchor=\"top\",\n",
    "        y=1.1,\n",
    "        \n",
    "    )\n",
    ").to_json()\n",
    "fig_json"
   ]
  },
  {
   "cell_type": "markdown",
   "metadata": {
    "tags": [
     "highlighted-right"
    ]
   },
   "source": [
    "Figure 2 represents this exploratory exercise: each point in these lines is a feasible policy. For example, the topmost line shows the set of all policies that provide £400 per month to adults (£100 to children), and in which the higher and additional rates do not rise with the basic rate. It varies by the basic rate and personal allowance. The leftmost point in this line is a policy that abolishes the Personal Allowance (reduces it by the full £12,570), increases the basic rate by 9p, and doesn't increase the higher and additional rates.\n",
    "\n",
    "These lines are incomplete because they do not show policies that would increase marginal tax rates (MTRs) above 100%. For example, the lowest line ends at the policy that would raise the basic rate by 11p and reduce the personal allowance to £11,000. Extending that line (raising the Personal Allowance) would require increasing the basic rate to allow for a larger personal allowance. However, doing so would increase the MTR above 100% for people earning £100,000, as their personal allowance phases out.[^7]\n",
    "\n",
    "To avoid exceeding 100% MTRs, more generous UBI policies require broader-base tax reforms focused on the personal allowance and basic rate. Indeed, the £400 per month policy can only increase the higher and additional rates at double the basic rate if the personal allowance is reduced to £4,000. At this point, the basic rate would rise by 12p to 32p, the higher rate would rise by 24p to 64p, and the additional rate would rise by 32p to 80p; even a pound of personal allowance would create a MTR above 100% for people in the phase-out range.\n",
    "\n",
    "We have listed all 126 policies represented in the chart in [this spreadsheet](https://docs.google.com/spreadsheets/d/17_xYwxvc119MrVLpo1gzGEVwL7uIM0Vn8-jaf6uN9s0/edit#gid=0). In the next section, we provide a deeper dive into three policies—one for each UBI level.\n",
    "\n",
    "[^7]:\n",
    "     Specifically, the MTR increases by (higher rate x 1.5)% on the income between £100,000 and (£100,000 + personal allowance x 2). In the baseline, the higher rate is 40% and the personal allowance is £12,570, creating a 60% MTR on income between £100,000 and £125,140.\n"
   ]
  },
  {
   "cell_type": "markdown",
   "metadata": {},
   "source": [
    "# Policy deep dive\n",
    "\n",
    "We selected three of the 126 feasible policies to describe in more detail. These show the space of policies—not only in terms of UBI amount, but also the funding mechanisms. These three policies are shown in Table 1, the first column of which directs to the reform in PolicyEngine.\n",
    "\n",
    "* *Model 1* provides £200 per adult per month, and funds it by reducing the personal allowance to £2,000 and increasing the basic rate by 0.9p and the higher and additional rates by 1.8p.\n",
    "* *Model 2* provides £300 per adult per month, funded by abolishing the personal allowance and increasing all three tax rates by 3.6p.\n",
    "* *Model 3* provides £400 per adult per month, again abolishing the personal allowance but increasing only the basic rate of income tax, by 8.9p.\n",
    "\n",
    "Each of the reforms substantially lowers or eliminates the personal allowance, and increases the basic rate; the cost of the policies requires broad-based tax reform. Each of the reforms also cuts poverty by at least 37% and inequality by at least 8%, with the more generous programs producing stronger effects. A large majority of the population comes out ahead from each, as well."
   ]
  },
  {
   "cell_type": "code",
   "execution_count": 4,
   "metadata": {},
   "outputs": [],
   "source": [
    "pa = df[\"Personal Allowance\"]\n",
    "ubi = df[\"Adult UBI\"]\n",
    "ratio = df[\"Higher/additional rate increase ratio\"]\n",
    "model_1_row = df[(pa == 2000) & (ubi == 200 * 12) & (ratio == 2)].iloc[0]\n",
    "model_2_row = df[(pa == 0) & (ubi == 300 * 12) & (ratio == 1)].iloc[0]\n",
    "model_3_row = df[(pa == 0) & (ubi == 400 * 12) & (ratio == 0)].iloc[0]\n",
    "\n",
    "model_1_policy = dict(\n",
    "    basic_rate=model_1_row[\"Basic rate\"],\n",
    "    higher_rate=model_1_row[\"Higher rate\"],\n",
    "    additional_rate=model_1_row[\"Add. rate\"],\n",
    "    personal_allowance=model_1_row[\"Personal Allowance\"],\n",
    "    adult_bi=model_1_row[\"Adult UBI\"],\n",
    "    higher_rate_threshold=50_270. - model_1_row[\"Personal Allowance\"],\n",
    "    child_bi=0,\n",
    "    senior_bi=model_1_row[\"Adult UBI\"],\n",
    ")\n",
    "\n",
    "model_2_policy = dict(\n",
    "    basic_rate=model_2_row[\"Basic rate\"],\n",
    "    higher_rate=model_2_row[\"Higher rate\"],\n",
    "    additional_rate=model_2_row[\"Add. rate\"],\n",
    "    personal_allowance=model_2_row[\"Personal Allowance\"],\n",
    "    adult_bi=model_2_row[\"Adult UBI\"],\n",
    "    higher_rate_threshold=50_270. - model_2_row[\"Personal Allowance\"],\n",
    "    child_bi=0,\n",
    "    senior_bi=model_2_row[\"Adult UBI\"],\n",
    ")\n",
    "\n",
    "model_3_policy = dict(\n",
    "    basic_rate=model_3_row[\"Basic rate\"],\n",
    "    higher_rate=model_3_row[\"Higher rate\"],\n",
    "    additional_rate=model_3_row[\"Add. rate\"],\n",
    "    personal_allowance=model_3_row[\"Personal Allowance\"],\n",
    "    adult_bi=model_3_row[\"Adult UBI\"],\n",
    "    higher_rate_threshold=50_270. - model_3_row[\"Personal Allowance\"],\n",
    "    child_bi=0,\n",
    "    senior_bi=model_3_row[\"Adult UBI\"],\n",
    ")"
   ]
  },
  {
   "cell_type": "code",
   "execution_count": 5,
   "metadata": {
    "tags": [
     "hide-input"
    ]
   },
   "outputs": [],
   "source": [
    "from policyengine_uk.model_api import *\n",
    "\n",
    "def ubi_ni_reform(\n",
    "    personal_allowance: float = 12_570,\n",
    "    higher_rate_threshold: float = 50_270,\n",
    "    basic_rate: float = 0.2,\n",
    "    higher_rate: float = 0.4,\n",
    "    additional_rate: float = 0.45,\n",
    "    child_bi: float = 0,\n",
    "    adult_bi: float = 0,\n",
    "    senior_bi: float = 0,\n",
    "\n",
    ") -> Reform:\n",
    "    TIME_PERIOD = \"year:2023:10\"\n",
    "    return Reform.from_dict({\n",
    "        \"gov.hmrc.income_tax.rates.uk[0].rate\": { TIME_PERIOD: basic_rate },\n",
    "        \"gov.hmrc.income_tax.rates.uk[1].rate\": { TIME_PERIOD: higher_rate },\n",
    "        \"gov.hmrc.income_tax.rates.uk[2].rate\": { TIME_PERIOD: additional_rate },\n",
    "        \"gov.hmrc.income_tax.rates.uk[1].threshold\": { TIME_PERIOD: float(higher_rate_threshold) },\n",
    "        \"gov.hmrc.income_tax.allowances.personal_allowance.amount\": { TIME_PERIOD: float(personal_allowance) },\n",
    "        \"gov.contrib.ubi_center.basic_income.amount.by_age.child\": { TIME_PERIOD: child_bi / 52 },\n",
    "        \"gov.contrib.ubi_center.basic_income.amount.by_age.working_age\": { TIME_PERIOD: adult_bi / 52 },\n",
    "        \"gov.contrib.ubi_center.basic_income.amount.by_age.senior\": { TIME_PERIOD: senior_bi / 52 },\n",
    "    }, country_id=\"uk\")\n",
    "\n",
    "    return reform\n",
    "\n",
    "model_1_reform = ubi_ni_reform(**model_1_policy)\n",
    "model_2_reform = ubi_ni_reform(**model_2_policy)\n",
    "model_3_reform = ubi_ni_reform(**model_3_policy)\n",
    "\n",
    "baseline = Microsimulation()\n",
    "model_1_sim = Microsimulation(reform=model_1_reform)\n",
    "model_2_sim = Microsimulation(reform=model_2_reform)\n",
    "model_3_sim = Microsimulation(reform=model_3_reform)\n",
    "\n",
    "for simulation in [baseline, model_1_sim, model_2_sim, model_3_sim]:\n",
    "    filter_to_ni(simulation)"
   ]
  },
  {
   "cell_type": "code",
   "execution_count": 6,
   "metadata": {},
   "outputs": [
    {
     "data": {
      "text/markdown": [
       "|                                 | Model 1                                                                                                                                        | Model 2                                                                                                                                        | Model 3                                                                                                                                        |\n",
       "|:--------------------------------|:-----------------------------------------------------------------------------------------------------------------------------------------------|:-----------------------------------------------------------------------------------------------------------------------------------------------|:-----------------------------------------------------------------------------------------------------------------------------------------------|\n",
       "| Monthly UBI amount for adults   | £200                                                                                                                                           | £300                                                                                                                                           | £400                                                                                                                                           |\n",
       "| Monthly UBI amount for children | £0                                                                                                                                             | £0                                                                                                                                             | £0                                                                                                                                             |\n",
       "| Personal Allowance              | £2,000                                                                                                                                         | £0                                                                                                                                             | £0                                                                                                                                             |\n",
       "| Basic rate increase             | 0.9p                                                                                                                                           | 3.6p                                                                                                                                           | 8.9p                                                                                                                                           |\n",
       "| Higher rate increase            | 1.8p                                                                                                                                           | 3.6p                                                                                                                                           | 0.0p                                                                                                                                           |\n",
       "| Additional rate increase        | 1.8p                                                                                                                                           | 3.6p                                                                                                                                           | 0.0p                                                                                                                                           |\n",
       "| Net cost                        | £1.0bn                                                                                                                                         | £1.6bn                                                                                                                                         | £2.2bn                                                                                                                                         |\n",
       "| Revenue raised                  | £2.6bn                                                                                                                                         | £3.8bn                                                                                                                                         | £5.1bn                                                                                                                                         |\n",
       "| Poverty impact                  | -37.0%                                                                                                                                         | -45.3%                                                                                                                                         | -60.5%                                                                                                                                         |\n",
       "| Inequality impact               | -8.1%                                                                                                                                          | -12.7%                                                                                                                                         | -16.6%                                                                                                                                         |\n",
       "| Percent of population gaining   | 88%                                                                                                                                            | 84%                                                                                                                                            | 81%                                                                                                                                            |\n",
       "| PolicyEngine link               | <a href=\"http://localhost:3000/uk/policy?reform=31959&focus=policyOutput.decileRelativeImpact&region=ni&timePeriod=2023&baseline=1\">#31959</a> | <a href=\"http://localhost:3000/uk/policy?reform=31960&focus=policyOutput.decileRelativeImpact&region=ni&timePeriod=2023&baseline=1\">#31960</a> | <a href=\"http://localhost:3000/uk/policy?reform=31961&focus=policyOutput.decileRelativeImpact&region=ni&timePeriod=2023&baseline=1\">#31961</a> |"
      ],
      "text/plain": [
       "<IPython.core.display.Markdown object>"
      ]
     },
     "execution_count": 6,
     "metadata": {},
     "output_type": "execute_result"
    }
   ],
   "source": [
    "summary_table = pd.DataFrame()\n",
    "summary_table[\"Monthly UBI amount for adults\"] = [model_1_row[\"Adult UBI\"] / 12, model_2_row[\"Adult UBI\"] / 12, model_3_row[\"Adult UBI\"] / 12]\n",
    "summary_table[\"Monthly UBI amount for children\"] = [0, 0, 0]\n",
    "summary_table[\"Personal Allowance\"] = [model_1_row[\"Personal Allowance\"], model_2_row[\"Personal Allowance\"], model_3_row[\"Personal Allowance\"]]\n",
    "summary_table[\"Basic rate increase\"] = [model_1_row[\"Basic rate addition\"], model_2_row[\"Basic rate addition\"], model_3_row[\"Basic rate addition\"]]\n",
    "summary_table[\"Higher rate increase\"] = [model_1_row[\"Higher rate addition\"], model_2_row[\"Higher rate addition\"], model_3_row[\"Higher rate addition\"]]\n",
    "summary_table[\"Additional rate increase\"] = [model_1_row[\"Additional rate addition\"], model_2_row[\"Additional rate addition\"], model_3_row[\"Additional rate addition\"]]\n",
    "summary_table[\"Net cost\"] = [\n",
    "    sim.calculate(\"household_net_income\").sum() - baseline.calculate(\"household_net_income\").sum()\n",
    "    for sim in [model_1_sim, model_2_sim, model_3_sim]\n",
    "]\n",
    "summary_table[\"Revenue raised\"] = [\n",
    "    sim.calculate(\"income_tax\").sum() - baseline.calculate(\"income_tax\").sum()\n",
    "    for sim in [model_1_sim, model_2_sim, model_3_sim]\n",
    "]\n",
    "summary_table[\"Poverty impact\"] = [\n",
    "    sim.calculate(\"in_poverty\", map_to=\"person\").sum() / baseline.calculate(\"in_poverty\", map_to=\"person\").sum() - 1\n",
    "    for sim in [model_1_sim, model_2_sim, model_3_sim]\n",
    "]\n",
    "summary_table[\"Inequality impact\"] = [\n",
    "    sim.calculate(\"equiv_household_net_income\", map_to=\"person\").gini() / baseline.calculate(\"equiv_household_net_income\", map_to=\"person\").gini() - 1\n",
    "    for sim in [model_1_sim, model_2_sim, model_3_sim]\n",
    "]\n",
    "summary_table[\"Percent of population gaining\"] = [\n",
    "    (sim.calculate(\"household_net_income\", map_to=\"person\") > baseline.calculate(\"household_net_income\", map_to=\"person\")).mean()\n",
    "    for sim in [model_1_sim, model_2_sim, model_3_sim]\n",
    "]\n",
    "\n",
    "summary_table\n",
    "\n",
    "# Formatting\n",
    "\n",
    "summary_table[\"Monthly UBI amount for adults\"] = summary_table[\"Monthly UBI amount for adults\"].map(lambda x: f\"£{x:,.0f}\")\n",
    "summary_table[\"Monthly UBI amount for children\"] = summary_table[\"Monthly UBI amount for children\"].map(lambda x: f\"£{x:,.0f}\")\n",
    "summary_table[\"Personal Allowance\"] = summary_table[\"Personal Allowance\"].map(lambda x: f\"£{x:,.0f}\")\n",
    "summary_table[\"Basic rate increase\"] = summary_table[\"Basic rate increase\"].map(lambda x: f\"{x * 100:.1f}p\")\n",
    "summary_table[\"Higher rate increase\"] = summary_table[\"Higher rate increase\"].map(lambda x: f\"{x * 100:.1f}p\")\n",
    "summary_table[\"Additional rate increase\"] = summary_table[\"Additional rate increase\"].map(lambda x: f\"{x * 100:.1f}p\")\n",
    "summary_table[\"Net cost\"] = summary_table[\"Net cost\"].map(lambda x: f\"£{x/1e9:,.1f}bn\")\n",
    "summary_table[\"Revenue raised\"] = summary_table[\"Revenue raised\"].map(lambda x: f\"£{x/1e9:,.1f}bn\")\n",
    "summary_table[\"Poverty impact\"] = summary_table[\"Poverty impact\"].map(lambda x: f\"{x * 100:+.1f}%\")\n",
    "summary_table[\"Inequality impact\"] = summary_table[\"Inequality impact\"].map(lambda x: f\"{x * 100:+.1f}%\")\n",
    "summary_table[\"Percent of population gaining\"] = summary_table[\"Percent of population gaining\"].map(lambda x: f\"{x * 100:.0f}%\")\n",
    "\n",
    "policy_ids = [\n",
    "    reform.api_id\n",
    "    for reform in [model_1_reform, model_2_reform, model_3_reform]\n",
    "]\n",
    "summary_table[\"PolicyEngine link\"] = [\n",
    "    f\"<a href=\\\"http://localhost:3000/uk/policy?reform={policy_id}&focus=policyOutput.decileRelativeImpact&region=ni&timePeriod=2023&baseline=1\\\">#{policy_id}</a>\" for policy_id in policy_ids\n",
    "]\n",
    "summary_table.index = [\"Model 1\", \"Model 2\", \"Model 3\"]\n",
    "\n",
    "from IPython.display import Markdown\n",
    "\n",
    "Markdown(summary_table.T.to_markdown())"
   ]
  },
  {
   "cell_type": "markdown",
   "metadata": {},
   "source": [
    "Digging into the poverty impacts reveals similarly sized impacts on child poverty, with the most generous plan halving it.[^8] [Many studies find](child-allowance.ubicenter.org/empirical) that child poverty causes deleterious developmental and lifelong outcomes.\n",
    "\n",
    "[^8]:\n",
    "     The impacts on deep poverty (the population share with net income below half the poverty threshold) are similar, though we do not include them here as the Family Resources Survey has too few records near the deep poverty line to produce reliable results.\n"
   ]
  },
  {
   "cell_type": "code",
   "execution_count": 7,
   "metadata": {
    "tags": [
     "hide-input"
    ]
   },
   "outputs": [
    {
     "data": {
      "text/plain": [
       "'{\"data\":[{\"alignmentgroup\":\"True\",\"hovertemplate\":\"Policy=\\\\u00a3200/month<br>Age group=%{x}<br>Poverty rate change=%{y}<extra></extra>\",\"legendgroup\":\"\\\\u00a3200/month\",\"marker\":{\"color\":\"#D8E6F3\",\"pattern\":{\"shape\":\"\"}},\"name\":\"\\\\u00a3200/month\",\"offsetgroup\":\"\\\\u00a3200/month\",\"orientation\":\"v\",\"showlegend\":true,\"textposition\":\"auto\",\"x\":[\"Child\",\"Working-age\",\"Senior\",\"All\"],\"xaxis\":\"x\",\"y\":[-0.4317611874411227,-0.40767676883249426,-0.21684426933727885,-0.3703698612312635],\"yaxis\":\"y\",\"type\":\"bar\",\"text\":[\"-43.2%\",\"-40.8%\",\"-21.7%\",\"-37.0%\"]},{\"alignmentgroup\":\"True\",\"hovertemplate\":\"Policy=\\\\u00a3300/month<br>Age group=%{x}<br>Poverty rate change=%{y}<extra></extra>\",\"legendgroup\":\"\\\\u00a3300/month\",\"marker\":{\"color\":\"#2C6496\",\"pattern\":{\"shape\":\"\"}},\"name\":\"\\\\u00a3300/month\",\"offsetgroup\":\"\\\\u00a3300/month\",\"orientation\":\"v\",\"showlegend\":true,\"textposition\":\"auto\",\"x\":[\"Child\",\"Working-age\",\"Senior\",\"All\"],\"xaxis\":\"x\",\"y\":[-0.4884173763258127,-0.4971543065791241,-0.31478304263106394,-0.45348713904212956],\"yaxis\":\"y\",\"type\":\"bar\",\"text\":[\"-48.8%\",\"-49.7%\",\"-31.5%\",\"-45.3%\"]},{\"alignmentgroup\":\"True\",\"hovertemplate\":\"Policy=\\\\u00a3400/month<br>Age group=%{x}<br>Poverty rate change=%{y}<extra></extra>\",\"legendgroup\":\"\\\\u00a3400/month\",\"marker\":{\"color\":\"#17354F\",\"pattern\":{\"shape\":\"\"}},\"name\":\"\\\\u00a3400/month\",\"offsetgroup\":\"\\\\u00a3400/month\",\"orientation\":\"v\",\"showlegend\":true,\"textposition\":\"auto\",\"x\":[\"Child\",\"Working-age\",\"Senior\",\"All\"],\"xaxis\":\"x\",\"y\":[-0.5152700883309072,-0.6255991612829608,-0.6565297041105815,-0.6047847882656027],\"yaxis\":\"y\",\"type\":\"bar\",\"text\":[\"-51.5%\",\"-62.6%\",\"-65.7%\",\"-60.5%\"]}],\"layout\":{\"template\":{\"data\":{\"barpolar\":[{\"marker\":{\"line\":{\"color\":\"white\",\"width\":0.5},\"pattern\":{\"fillmode\":\"overlay\",\"size\":10,\"solidity\":0.2}},\"type\":\"barpolar\"}],\"bar\":[{\"error_x\":{\"color\":\"#2a3f5f\"},\"error_y\":{\"color\":\"#2a3f5f\"},\"marker\":{\"line\":{\"color\":\"white\",\"width\":0.5},\"pattern\":{\"fillmode\":\"overlay\",\"size\":10,\"solidity\":0.2}},\"type\":\"bar\"}],\"carpet\":[{\"aaxis\":{\"endlinecolor\":\"#2a3f5f\",\"gridcolor\":\"#C8D4E3\",\"linecolor\":\"#C8D4E3\",\"minorgridcolor\":\"#C8D4E3\",\"startlinecolor\":\"#2a3f5f\"},\"baxis\":{\"endlinecolor\":\"#2a3f5f\",\"gridcolor\":\"#C8D4E3\",\"linecolor\":\"#C8D4E3\",\"minorgridcolor\":\"#C8D4E3\",\"startlinecolor\":\"#2a3f5f\"},\"type\":\"carpet\"}],\"choropleth\":[{\"colorbar\":{\"outlinewidth\":0,\"ticks\":\"\"},\"type\":\"choropleth\"}],\"contourcarpet\":[{\"colorbar\":{\"outlinewidth\":0,\"ticks\":\"\"},\"type\":\"contourcarpet\"}],\"contour\":[{\"colorbar\":{\"outlinewidth\":0,\"ticks\":\"\"},\"colorscale\":[[0.0,\"#0d0887\"],[0.1111111111111111,\"#46039f\"],[0.2222222222222222,\"#7201a8\"],[0.3333333333333333,\"#9c179e\"],[0.4444444444444444,\"#bd3786\"],[0.5555555555555556,\"#d8576b\"],[0.6666666666666666,\"#ed7953\"],[0.7777777777777778,\"#fb9f3a\"],[0.8888888888888888,\"#fdca26\"],[1.0,\"#f0f921\"]],\"type\":\"contour\"}],\"heatmapgl\":[{\"colorbar\":{\"outlinewidth\":0,\"ticks\":\"\"},\"colorscale\":[[0.0,\"#0d0887\"],[0.1111111111111111,\"#46039f\"],[0.2222222222222222,\"#7201a8\"],[0.3333333333333333,\"#9c179e\"],[0.4444444444444444,\"#bd3786\"],[0.5555555555555556,\"#d8576b\"],[0.6666666666666666,\"#ed7953\"],[0.7777777777777778,\"#fb9f3a\"],[0.8888888888888888,\"#fdca26\"],[1.0,\"#f0f921\"]],\"type\":\"heatmapgl\"}],\"heatmap\":[{\"colorbar\":{\"outlinewidth\":0,\"ticks\":\"\"},\"colorscale\":[[0.0,\"#0d0887\"],[0.1111111111111111,\"#46039f\"],[0.2222222222222222,\"#7201a8\"],[0.3333333333333333,\"#9c179e\"],[0.4444444444444444,\"#bd3786\"],[0.5555555555555556,\"#d8576b\"],[0.6666666666666666,\"#ed7953\"],[0.7777777777777778,\"#fb9f3a\"],[0.8888888888888888,\"#fdca26\"],[1.0,\"#f0f921\"]],\"type\":\"heatmap\"}],\"histogram2dcontour\":[{\"colorbar\":{\"outlinewidth\":0,\"ticks\":\"\"},\"colorscale\":[[0.0,\"#0d0887\"],[0.1111111111111111,\"#46039f\"],[0.2222222222222222,\"#7201a8\"],[0.3333333333333333,\"#9c179e\"],[0.4444444444444444,\"#bd3786\"],[0.5555555555555556,\"#d8576b\"],[0.6666666666666666,\"#ed7953\"],[0.7777777777777778,\"#fb9f3a\"],[0.8888888888888888,\"#fdca26\"],[1.0,\"#f0f921\"]],\"type\":\"histogram2dcontour\"}],\"histogram2d\":[{\"colorbar\":{\"outlinewidth\":0,\"ticks\":\"\"},\"colorscale\":[[0.0,\"#0d0887\"],[0.1111111111111111,\"#46039f\"],[0.2222222222222222,\"#7201a8\"],[0.3333333333333333,\"#9c179e\"],[0.4444444444444444,\"#bd3786\"],[0.5555555555555556,\"#d8576b\"],[0.6666666666666666,\"#ed7953\"],[0.7777777777777778,\"#fb9f3a\"],[0.8888888888888888,\"#fdca26\"],[1.0,\"#f0f921\"]],\"type\":\"histogram2d\"}],\"histogram\":[{\"marker\":{\"pattern\":{\"fillmode\":\"overlay\",\"size\":10,\"solidity\":0.2}},\"type\":\"histogram\"}],\"mesh3d\":[{\"colorbar\":{\"outlinewidth\":0,\"ticks\":\"\"},\"type\":\"mesh3d\"}],\"parcoords\":[{\"line\":{\"colorbar\":{\"outlinewidth\":0,\"ticks\":\"\"}},\"type\":\"parcoords\"}],\"pie\":[{\"automargin\":true,\"type\":\"pie\"}],\"scatter3d\":[{\"line\":{\"colorbar\":{\"outlinewidth\":0,\"ticks\":\"\"}},\"marker\":{\"colorbar\":{\"outlinewidth\":0,\"ticks\":\"\"}},\"type\":\"scatter3d\"}],\"scattercarpet\":[{\"marker\":{\"colorbar\":{\"outlinewidth\":0,\"ticks\":\"\"}},\"type\":\"scattercarpet\"}],\"scattergeo\":[{\"marker\":{\"colorbar\":{\"outlinewidth\":0,\"ticks\":\"\"}},\"type\":\"scattergeo\"}],\"scattergl\":[{\"marker\":{\"colorbar\":{\"outlinewidth\":0,\"ticks\":\"\"}},\"type\":\"scattergl\"}],\"scattermapbox\":[{\"marker\":{\"colorbar\":{\"outlinewidth\":0,\"ticks\":\"\"}},\"type\":\"scattermapbox\"}],\"scatterpolargl\":[{\"marker\":{\"colorbar\":{\"outlinewidth\":0,\"ticks\":\"\"}},\"type\":\"scatterpolargl\"}],\"scatterpolar\":[{\"marker\":{\"colorbar\":{\"outlinewidth\":0,\"ticks\":\"\"}},\"type\":\"scatterpolar\"}],\"scatter\":[{\"fillpattern\":{\"fillmode\":\"overlay\",\"size\":10,\"solidity\":0.2},\"type\":\"scatter\"}],\"scatterternary\":[{\"marker\":{\"colorbar\":{\"outlinewidth\":0,\"ticks\":\"\"}},\"type\":\"scatterternary\"}],\"surface\":[{\"colorbar\":{\"outlinewidth\":0,\"ticks\":\"\"},\"colorscale\":[[0.0,\"#0d0887\"],[0.1111111111111111,\"#46039f\"],[0.2222222222222222,\"#7201a8\"],[0.3333333333333333,\"#9c179e\"],[0.4444444444444444,\"#bd3786\"],[0.5555555555555556,\"#d8576b\"],[0.6666666666666666,\"#ed7953\"],[0.7777777777777778,\"#fb9f3a\"],[0.8888888888888888,\"#fdca26\"],[1.0,\"#f0f921\"]],\"type\":\"surface\"}],\"table\":[{\"cells\":{\"fill\":{\"color\":\"#EBF0F8\"},\"line\":{\"color\":\"white\"}},\"header\":{\"fill\":{\"color\":\"#C8D4E3\"},\"line\":{\"color\":\"white\"}},\"type\":\"table\"}]},\"layout\":{\"annotationdefaults\":{\"arrowcolor\":\"#2a3f5f\",\"arrowhead\":0,\"arrowwidth\":1},\"autotypenumbers\":\"strict\",\"coloraxis\":{\"colorbar\":{\"outlinewidth\":0,\"ticks\":\"\"}},\"colorscale\":{\"diverging\":[[0,\"#8e0152\"],[0.1,\"#c51b7d\"],[0.2,\"#de77ae\"],[0.3,\"#f1b6da\"],[0.4,\"#fde0ef\"],[0.5,\"#f7f7f7\"],[0.6,\"#e6f5d0\"],[0.7,\"#b8e186\"],[0.8,\"#7fbc41\"],[0.9,\"#4d9221\"],[1,\"#276419\"]],\"sequential\":[[0.0,\"#0d0887\"],[0.1111111111111111,\"#46039f\"],[0.2222222222222222,\"#7201a8\"],[0.3333333333333333,\"#9c179e\"],[0.4444444444444444,\"#bd3786\"],[0.5555555555555556,\"#d8576b\"],[0.6666666666666666,\"#ed7953\"],[0.7777777777777778,\"#fb9f3a\"],[0.8888888888888888,\"#fdca26\"],[1.0,\"#f0f921\"]],\"sequentialminus\":[[0.0,\"#0d0887\"],[0.1111111111111111,\"#46039f\"],[0.2222222222222222,\"#7201a8\"],[0.3333333333333333,\"#9c179e\"],[0.4444444444444444,\"#bd3786\"],[0.5555555555555556,\"#d8576b\"],[0.6666666666666666,\"#ed7953\"],[0.7777777777777778,\"#fb9f3a\"],[0.8888888888888888,\"#fdca26\"],[1.0,\"#f0f921\"]]},\"colorway\":[\"#636efa\",\"#EF553B\",\"#00cc96\",\"#ab63fa\",\"#FFA15A\",\"#19d3f3\",\"#FF6692\",\"#B6E880\",\"#FF97FF\",\"#FECB52\"],\"font\":{\"color\":\"#2a3f5f\"},\"geo\":{\"bgcolor\":\"white\",\"lakecolor\":\"white\",\"landcolor\":\"white\",\"showlakes\":true,\"showland\":true,\"subunitcolor\":\"#C8D4E3\"},\"hoverlabel\":{\"align\":\"left\"},\"hovermode\":\"closest\",\"mapbox\":{\"style\":\"light\"},\"paper_bgcolor\":\"white\",\"plot_bgcolor\":\"white\",\"polar\":{\"angularaxis\":{\"gridcolor\":\"#EBF0F8\",\"linecolor\":\"#EBF0F8\",\"ticks\":\"\"},\"bgcolor\":\"white\",\"radialaxis\":{\"gridcolor\":\"#EBF0F8\",\"linecolor\":\"#EBF0F8\",\"ticks\":\"\"}},\"scene\":{\"xaxis\":{\"backgroundcolor\":\"white\",\"gridcolor\":\"#DFE8F3\",\"gridwidth\":2,\"linecolor\":\"#EBF0F8\",\"showbackground\":true,\"ticks\":\"\",\"zerolinecolor\":\"#EBF0F8\"},\"yaxis\":{\"backgroundcolor\":\"white\",\"gridcolor\":\"#DFE8F3\",\"gridwidth\":2,\"linecolor\":\"#EBF0F8\",\"showbackground\":true,\"ticks\":\"\",\"zerolinecolor\":\"#EBF0F8\"},\"zaxis\":{\"backgroundcolor\":\"white\",\"gridcolor\":\"#DFE8F3\",\"gridwidth\":2,\"linecolor\":\"#EBF0F8\",\"showbackground\":true,\"ticks\":\"\",\"zerolinecolor\":\"#EBF0F8\"}},\"shapedefaults\":{\"line\":{\"color\":\"#2a3f5f\"}},\"ternary\":{\"aaxis\":{\"gridcolor\":\"#DFE8F3\",\"linecolor\":\"#A2B1C6\",\"ticks\":\"\"},\"baxis\":{\"gridcolor\":\"#DFE8F3\",\"linecolor\":\"#A2B1C6\",\"ticks\":\"\"},\"bgcolor\":\"white\",\"caxis\":{\"gridcolor\":\"#DFE8F3\",\"linecolor\":\"#A2B1C6\",\"ticks\":\"\"}},\"title\":{\"x\":0.05},\"xaxis\":{\"automargin\":true,\"gridcolor\":\"#EBF0F8\",\"linecolor\":\"#EBF0F8\",\"ticks\":\"\",\"title\":{\"standoff\":15},\"zerolinecolor\":\"#EBF0F8\",\"zerolinewidth\":2},\"yaxis\":{\"automargin\":true,\"gridcolor\":\"#EBF0F8\",\"linecolor\":\"#EBF0F8\",\"ticks\":\"\",\"title\":{\"standoff\":15},\"zerolinecolor\":\"#EBF0F8\",\"zerolinewidth\":2}}},\"xaxis\":{\"anchor\":\"y\",\"domain\":[0.0,1.0],\"title\":{\"text\":\"Age group\"}},\"yaxis\":{\"anchor\":\"x\",\"domain\":[0.0,1.0],\"title\":{\"text\":\"Poverty rate change\"},\"tickformat\":\".0%\"},\"legend\":{\"title\":{\"text\":\"Policy\"},\"tracegroupgap\":0},\"margin\":{\"t\":60},\"barmode\":\"group\",\"title\":{\"text\":\"Figure 3: Poverty rate change by age group\"},\"font\":{\"family\":\"Roboto Serif\",\"color\":\"black\"},\"images\":[{\"sizex\":0.2,\"sizey\":0.2,\"source\":\"https://raw.githubusercontent.com/PolicyEngine/policyengine-app/master/src/images/logos/policyengine/blue.png\",\"x\":1,\"xanchor\":\"right\",\"xref\":\"paper\",\"y\":-0.15,\"yanchor\":\"bottom\",\"yref\":\"paper\"}],\"height\":600,\"width\":800,\"modebar\":{\"bgcolor\":\"rgba(0,0,0,0)\",\"color\":\"rgba(0,0,0,0)\"}}}'"
      ]
     },
     "execution_count": 7,
     "metadata": {},
     "output_type": "execute_result"
    }
   ],
   "source": [
    "import pandas as pd\n",
    "import plotly.express as px\n",
    "from policyengine_core.charts import BLUE_COLOUR_SCALE\n",
    "\n",
    "dfs = []\n",
    "for sim, policy_name in zip([model_1_sim, model_2_sim, model_3_sim], [\"£200/month\", \"£300/month\", \"£400/month\"]):\n",
    "    for group, name in zip([\"is_child\", \"is_WA_adult\", \"is_SP_age\", \"people\"], [\"Child\", \"Working-age\", \"Senior\", \"All\"]):\n",
    "        df = pd.DataFrame({\n",
    "            \"Poverty rate change\": (\n",
    "                [sim.calc(\"in_poverty_bhc\", map_to=\"person\")[sim.calc(group) > 0].mean()\n",
    "                / baseline.calc(\"in_poverty_bhc\", map_to=\"person\")[sim.calc(group) > 0].mean() - 1]\n",
    "            ),\n",
    "            \"Deep poverty rate change\": (\n",
    "                [sim.calc(\"in_deep_poverty_bhc\", map_to=\"person\")[sim.calc(group) > 0].mean()\n",
    "                / baseline.calc(\"in_deep_poverty_bhc\", map_to=\"person\")[sim.calc(group) > 0].mean() - 1]\n",
    "            ),\n",
    "            \"Age group\": [name],\n",
    "            \"Policy\": [policy_name],\n",
    "        })\n",
    "        dfs += [df]\n",
    "poverty_df = pd.concat(dfs)\n",
    "fig = px.bar(\n",
    "    poverty_df,\n",
    "    x=\"Age group\",\n",
    "    y=\"Poverty rate change\",\n",
    "    color=\"Policy\",\n",
    "    barmode=\"group\",\n",
    "    color_discrete_sequence=BLUE_COLOUR_SCALE,\n",
    ").update_layout(\n",
    "    yaxis_tickformat=\".0%\",\n",
    "    title=\"Figure 3: Poverty rate change by age group\",\n",
    ")\n",
    "for i in range(len(fig.data)):\n",
    "    fig.data[i][\"text\"] = [f\"{x:+.1%}\" if x is not None else \"\" for x in fig.data[i][\"y\"]]\n",
    "format_fig(fig).to_json()"
   ]
  },
  {
   "cell_type": "markdown",
   "metadata": {},
   "source": [
    "Each policy reduces various measures of inequality, especially the Gini index, roughly in proportion to the UBI amount. They also cut narrower measures of inequality: depending on the policy, the share of disposable income held by the top 1 and 10 percent of the population falls by 3 to 7 percent.\n"
   ]
  },
  {
   "cell_type": "code",
   "execution_count": 8,
   "metadata": {
    "tags": [
     "hide-input"
    ]
   },
   "outputs": [
    {
     "data": {
      "text/plain": [
       "'{\"data\":[{\"alignmentgroup\":\"True\",\"hovertemplate\":\"Policy=\\\\u00a3200/month<br>Metric=%{x}<br>Inequality change=%{y}<extra></extra>\",\"legendgroup\":\"\\\\u00a3200/month\",\"marker\":{\"color\":\"#D8E6F3\",\"pattern\":{\"shape\":\"\"}},\"name\":\"\\\\u00a3200/month\",\"offsetgroup\":\"\\\\u00a3200/month\",\"orientation\":\"v\",\"showlegend\":true,\"textposition\":\"auto\",\"x\":[\"Gini coefficient\",\"Top-10% share\",\"Top-1% share\"],\"xaxis\":\"x\",\"y\":[-0.08097650662056244,-0.03413761549990568,-0.03576722783960473],\"yaxis\":\"y\",\"type\":\"bar\",\"text\":[\"-8.1%\",\"-3.4%\",\"-3.6%\"]},{\"alignmentgroup\":\"True\",\"hovertemplate\":\"Policy=\\\\u00a3300/month<br>Metric=%{x}<br>Inequality change=%{y}<extra></extra>\",\"legendgroup\":\"\\\\u00a3300/month\",\"marker\":{\"color\":\"#2C6496\",\"pattern\":{\"shape\":\"\"}},\"name\":\"\\\\u00a3300/month\",\"offsetgroup\":\"\\\\u00a3300/month\",\"orientation\":\"v\",\"showlegend\":true,\"textposition\":\"auto\",\"x\":[\"Gini coefficient\",\"Top-10% share\",\"Top-1% share\"],\"xaxis\":\"x\",\"y\":[-0.12737514622170065,-0.06154508414825477,-0.07244777187140372],\"yaxis\":\"y\",\"type\":\"bar\",\"text\":[\"-12.7%\",\"-6.2%\",\"-7.2%\"]},{\"alignmentgroup\":\"True\",\"hovertemplate\":\"Policy=\\\\u00a3400/month<br>Metric=%{x}<br>Inequality change=%{y}<extra></extra>\",\"legendgroup\":\"\\\\u00a3400/month\",\"marker\":{\"color\":\"#17354F\",\"pattern\":{\"shape\":\"\"}},\"name\":\"\\\\u00a3400/month\",\"offsetgroup\":\"\\\\u00a3400/month\",\"orientation\":\"v\",\"showlegend\":true,\"textposition\":\"auto\",\"x\":[\"Gini coefficient\",\"Top-10% share\",\"Top-1% share\"],\"xaxis\":\"x\",\"y\":[-0.16572520728145546,-0.0765985796065699,-0.054359664357969906],\"yaxis\":\"y\",\"type\":\"bar\",\"text\":[\"-16.6%\",\"-7.7%\",\"-5.4%\"]}],\"layout\":{\"template\":{\"data\":{\"barpolar\":[{\"marker\":{\"line\":{\"color\":\"white\",\"width\":0.5},\"pattern\":{\"fillmode\":\"overlay\",\"size\":10,\"solidity\":0.2}},\"type\":\"barpolar\"}],\"bar\":[{\"error_x\":{\"color\":\"#2a3f5f\"},\"error_y\":{\"color\":\"#2a3f5f\"},\"marker\":{\"line\":{\"color\":\"white\",\"width\":0.5},\"pattern\":{\"fillmode\":\"overlay\",\"size\":10,\"solidity\":0.2}},\"type\":\"bar\"}],\"carpet\":[{\"aaxis\":{\"endlinecolor\":\"#2a3f5f\",\"gridcolor\":\"#C8D4E3\",\"linecolor\":\"#C8D4E3\",\"minorgridcolor\":\"#C8D4E3\",\"startlinecolor\":\"#2a3f5f\"},\"baxis\":{\"endlinecolor\":\"#2a3f5f\",\"gridcolor\":\"#C8D4E3\",\"linecolor\":\"#C8D4E3\",\"minorgridcolor\":\"#C8D4E3\",\"startlinecolor\":\"#2a3f5f\"},\"type\":\"carpet\"}],\"choropleth\":[{\"colorbar\":{\"outlinewidth\":0,\"ticks\":\"\"},\"type\":\"choropleth\"}],\"contourcarpet\":[{\"colorbar\":{\"outlinewidth\":0,\"ticks\":\"\"},\"type\":\"contourcarpet\"}],\"contour\":[{\"colorbar\":{\"outlinewidth\":0,\"ticks\":\"\"},\"colorscale\":[[0.0,\"#0d0887\"],[0.1111111111111111,\"#46039f\"],[0.2222222222222222,\"#7201a8\"],[0.3333333333333333,\"#9c179e\"],[0.4444444444444444,\"#bd3786\"],[0.5555555555555556,\"#d8576b\"],[0.6666666666666666,\"#ed7953\"],[0.7777777777777778,\"#fb9f3a\"],[0.8888888888888888,\"#fdca26\"],[1.0,\"#f0f921\"]],\"type\":\"contour\"}],\"heatmapgl\":[{\"colorbar\":{\"outlinewidth\":0,\"ticks\":\"\"},\"colorscale\":[[0.0,\"#0d0887\"],[0.1111111111111111,\"#46039f\"],[0.2222222222222222,\"#7201a8\"],[0.3333333333333333,\"#9c179e\"],[0.4444444444444444,\"#bd3786\"],[0.5555555555555556,\"#d8576b\"],[0.6666666666666666,\"#ed7953\"],[0.7777777777777778,\"#fb9f3a\"],[0.8888888888888888,\"#fdca26\"],[1.0,\"#f0f921\"]],\"type\":\"heatmapgl\"}],\"heatmap\":[{\"colorbar\":{\"outlinewidth\":0,\"ticks\":\"\"},\"colorscale\":[[0.0,\"#0d0887\"],[0.1111111111111111,\"#46039f\"],[0.2222222222222222,\"#7201a8\"],[0.3333333333333333,\"#9c179e\"],[0.4444444444444444,\"#bd3786\"],[0.5555555555555556,\"#d8576b\"],[0.6666666666666666,\"#ed7953\"],[0.7777777777777778,\"#fb9f3a\"],[0.8888888888888888,\"#fdca26\"],[1.0,\"#f0f921\"]],\"type\":\"heatmap\"}],\"histogram2dcontour\":[{\"colorbar\":{\"outlinewidth\":0,\"ticks\":\"\"},\"colorscale\":[[0.0,\"#0d0887\"],[0.1111111111111111,\"#46039f\"],[0.2222222222222222,\"#7201a8\"],[0.3333333333333333,\"#9c179e\"],[0.4444444444444444,\"#bd3786\"],[0.5555555555555556,\"#d8576b\"],[0.6666666666666666,\"#ed7953\"],[0.7777777777777778,\"#fb9f3a\"],[0.8888888888888888,\"#fdca26\"],[1.0,\"#f0f921\"]],\"type\":\"histogram2dcontour\"}],\"histogram2d\":[{\"colorbar\":{\"outlinewidth\":0,\"ticks\":\"\"},\"colorscale\":[[0.0,\"#0d0887\"],[0.1111111111111111,\"#46039f\"],[0.2222222222222222,\"#7201a8\"],[0.3333333333333333,\"#9c179e\"],[0.4444444444444444,\"#bd3786\"],[0.5555555555555556,\"#d8576b\"],[0.6666666666666666,\"#ed7953\"],[0.7777777777777778,\"#fb9f3a\"],[0.8888888888888888,\"#fdca26\"],[1.0,\"#f0f921\"]],\"type\":\"histogram2d\"}],\"histogram\":[{\"marker\":{\"pattern\":{\"fillmode\":\"overlay\",\"size\":10,\"solidity\":0.2}},\"type\":\"histogram\"}],\"mesh3d\":[{\"colorbar\":{\"outlinewidth\":0,\"ticks\":\"\"},\"type\":\"mesh3d\"}],\"parcoords\":[{\"line\":{\"colorbar\":{\"outlinewidth\":0,\"ticks\":\"\"}},\"type\":\"parcoords\"}],\"pie\":[{\"automargin\":true,\"type\":\"pie\"}],\"scatter3d\":[{\"line\":{\"colorbar\":{\"outlinewidth\":0,\"ticks\":\"\"}},\"marker\":{\"colorbar\":{\"outlinewidth\":0,\"ticks\":\"\"}},\"type\":\"scatter3d\"}],\"scattercarpet\":[{\"marker\":{\"colorbar\":{\"outlinewidth\":0,\"ticks\":\"\"}},\"type\":\"scattercarpet\"}],\"scattergeo\":[{\"marker\":{\"colorbar\":{\"outlinewidth\":0,\"ticks\":\"\"}},\"type\":\"scattergeo\"}],\"scattergl\":[{\"marker\":{\"colorbar\":{\"outlinewidth\":0,\"ticks\":\"\"}},\"type\":\"scattergl\"}],\"scattermapbox\":[{\"marker\":{\"colorbar\":{\"outlinewidth\":0,\"ticks\":\"\"}},\"type\":\"scattermapbox\"}],\"scatterpolargl\":[{\"marker\":{\"colorbar\":{\"outlinewidth\":0,\"ticks\":\"\"}},\"type\":\"scatterpolargl\"}],\"scatterpolar\":[{\"marker\":{\"colorbar\":{\"outlinewidth\":0,\"ticks\":\"\"}},\"type\":\"scatterpolar\"}],\"scatter\":[{\"fillpattern\":{\"fillmode\":\"overlay\",\"size\":10,\"solidity\":0.2},\"type\":\"scatter\"}],\"scatterternary\":[{\"marker\":{\"colorbar\":{\"outlinewidth\":0,\"ticks\":\"\"}},\"type\":\"scatterternary\"}],\"surface\":[{\"colorbar\":{\"outlinewidth\":0,\"ticks\":\"\"},\"colorscale\":[[0.0,\"#0d0887\"],[0.1111111111111111,\"#46039f\"],[0.2222222222222222,\"#7201a8\"],[0.3333333333333333,\"#9c179e\"],[0.4444444444444444,\"#bd3786\"],[0.5555555555555556,\"#d8576b\"],[0.6666666666666666,\"#ed7953\"],[0.7777777777777778,\"#fb9f3a\"],[0.8888888888888888,\"#fdca26\"],[1.0,\"#f0f921\"]],\"type\":\"surface\"}],\"table\":[{\"cells\":{\"fill\":{\"color\":\"#EBF0F8\"},\"line\":{\"color\":\"white\"}},\"header\":{\"fill\":{\"color\":\"#C8D4E3\"},\"line\":{\"color\":\"white\"}},\"type\":\"table\"}]},\"layout\":{\"annotationdefaults\":{\"arrowcolor\":\"#2a3f5f\",\"arrowhead\":0,\"arrowwidth\":1},\"autotypenumbers\":\"strict\",\"coloraxis\":{\"colorbar\":{\"outlinewidth\":0,\"ticks\":\"\"}},\"colorscale\":{\"diverging\":[[0,\"#8e0152\"],[0.1,\"#c51b7d\"],[0.2,\"#de77ae\"],[0.3,\"#f1b6da\"],[0.4,\"#fde0ef\"],[0.5,\"#f7f7f7\"],[0.6,\"#e6f5d0\"],[0.7,\"#b8e186\"],[0.8,\"#7fbc41\"],[0.9,\"#4d9221\"],[1,\"#276419\"]],\"sequential\":[[0.0,\"#0d0887\"],[0.1111111111111111,\"#46039f\"],[0.2222222222222222,\"#7201a8\"],[0.3333333333333333,\"#9c179e\"],[0.4444444444444444,\"#bd3786\"],[0.5555555555555556,\"#d8576b\"],[0.6666666666666666,\"#ed7953\"],[0.7777777777777778,\"#fb9f3a\"],[0.8888888888888888,\"#fdca26\"],[1.0,\"#f0f921\"]],\"sequentialminus\":[[0.0,\"#0d0887\"],[0.1111111111111111,\"#46039f\"],[0.2222222222222222,\"#7201a8\"],[0.3333333333333333,\"#9c179e\"],[0.4444444444444444,\"#bd3786\"],[0.5555555555555556,\"#d8576b\"],[0.6666666666666666,\"#ed7953\"],[0.7777777777777778,\"#fb9f3a\"],[0.8888888888888888,\"#fdca26\"],[1.0,\"#f0f921\"]]},\"colorway\":[\"#636efa\",\"#EF553B\",\"#00cc96\",\"#ab63fa\",\"#FFA15A\",\"#19d3f3\",\"#FF6692\",\"#B6E880\",\"#FF97FF\",\"#FECB52\"],\"font\":{\"color\":\"#2a3f5f\"},\"geo\":{\"bgcolor\":\"white\",\"lakecolor\":\"white\",\"landcolor\":\"white\",\"showlakes\":true,\"showland\":true,\"subunitcolor\":\"#C8D4E3\"},\"hoverlabel\":{\"align\":\"left\"},\"hovermode\":\"closest\",\"mapbox\":{\"style\":\"light\"},\"paper_bgcolor\":\"white\",\"plot_bgcolor\":\"white\",\"polar\":{\"angularaxis\":{\"gridcolor\":\"#EBF0F8\",\"linecolor\":\"#EBF0F8\",\"ticks\":\"\"},\"bgcolor\":\"white\",\"radialaxis\":{\"gridcolor\":\"#EBF0F8\",\"linecolor\":\"#EBF0F8\",\"ticks\":\"\"}},\"scene\":{\"xaxis\":{\"backgroundcolor\":\"white\",\"gridcolor\":\"#DFE8F3\",\"gridwidth\":2,\"linecolor\":\"#EBF0F8\",\"showbackground\":true,\"ticks\":\"\",\"zerolinecolor\":\"#EBF0F8\"},\"yaxis\":{\"backgroundcolor\":\"white\",\"gridcolor\":\"#DFE8F3\",\"gridwidth\":2,\"linecolor\":\"#EBF0F8\",\"showbackground\":true,\"ticks\":\"\",\"zerolinecolor\":\"#EBF0F8\"},\"zaxis\":{\"backgroundcolor\":\"white\",\"gridcolor\":\"#DFE8F3\",\"gridwidth\":2,\"linecolor\":\"#EBF0F8\",\"showbackground\":true,\"ticks\":\"\",\"zerolinecolor\":\"#EBF0F8\"}},\"shapedefaults\":{\"line\":{\"color\":\"#2a3f5f\"}},\"ternary\":{\"aaxis\":{\"gridcolor\":\"#DFE8F3\",\"linecolor\":\"#A2B1C6\",\"ticks\":\"\"},\"baxis\":{\"gridcolor\":\"#DFE8F3\",\"linecolor\":\"#A2B1C6\",\"ticks\":\"\"},\"bgcolor\":\"white\",\"caxis\":{\"gridcolor\":\"#DFE8F3\",\"linecolor\":\"#A2B1C6\",\"ticks\":\"\"}},\"title\":{\"x\":0.05},\"xaxis\":{\"automargin\":true,\"gridcolor\":\"#EBF0F8\",\"linecolor\":\"#EBF0F8\",\"ticks\":\"\",\"title\":{\"standoff\":15},\"zerolinecolor\":\"#EBF0F8\",\"zerolinewidth\":2},\"yaxis\":{\"automargin\":true,\"gridcolor\":\"#EBF0F8\",\"linecolor\":\"#EBF0F8\",\"ticks\":\"\",\"title\":{\"standoff\":15},\"zerolinecolor\":\"#EBF0F8\",\"zerolinewidth\":2}}},\"xaxis\":{\"anchor\":\"y\",\"domain\":[0.0,1.0],\"title\":{\"text\":\"Metric\"}},\"yaxis\":{\"anchor\":\"x\",\"domain\":[0.0,1.0],\"title\":{\"text\":\"Inequality change\"},\"tickformat\":\".0%\"},\"legend\":{\"title\":{\"text\":\"Policy\"},\"tracegroupgap\":0},\"margin\":{\"t\":60},\"barmode\":\"group\",\"font\":{\"family\":\"Roboto Serif\",\"color\":\"black\"},\"images\":[{\"sizex\":0.2,\"sizey\":0.2,\"source\":\"https://raw.githubusercontent.com/PolicyEngine/policyengine-app/master/src/images/logos/policyengine/blue.png\",\"x\":1,\"xanchor\":\"right\",\"xref\":\"paper\",\"y\":-0.15,\"yanchor\":\"bottom\",\"yref\":\"paper\"}],\"height\":600,\"width\":800,\"modebar\":{\"bgcolor\":\"rgba(0,0,0,0)\",\"color\":\"rgba(0,0,0,0)\"},\"title\":{\"text\":\"Figure 4: Inequality impact by metric and UBI policy\"}}}'"
      ]
     },
     "execution_count": 8,
     "metadata": {},
     "output_type": "execute_result"
    }
   ],
   "source": [
    "dfs = []\n",
    "from policyengine_core.charts import BLUE_COLOUR_SCALE\n",
    "for reformed, policy_name in zip([model_1_sim, model_2_sim, model_3_sim], [\"£200/month\", \"£300/month\", \"£400/month\"]):\n",
    "    equiv_income = baseline.calc(\n",
    "        \"equiv_household_net_income\", map_to=\"person\"\n",
    "    )\n",
    "    reform_equiv_income = reformed.calc(\n",
    "        \"equiv_household_net_income\", map_to=\"person\"\n",
    "    )\n",
    "    baseline_gini = equiv_income.gini()\n",
    "    reform_gini = reform_equiv_income.gini()\n",
    "    gini_change = reform_gini / baseline_gini - 1\n",
    "    baseline_top_ten_pct_share = (\n",
    "        equiv_income[equiv_income.decile_rank() == 10].sum()\n",
    "        / equiv_income.sum()\n",
    "    )\n",
    "    reform_top_ten_pct_share = (\n",
    "        reform_equiv_income[reform_equiv_income.decile_rank() == 10].sum()\n",
    "        / reform_equiv_income.sum()\n",
    "    )\n",
    "    top_ten_pct_share_change = (\n",
    "        reform_top_ten_pct_share / baseline_top_ten_pct_share - 1\n",
    "    )\n",
    "    baseline_top_one_pct_share = (\n",
    "        equiv_income[equiv_income.percentile_rank() == 100].sum()\n",
    "        / equiv_income.sum()\n",
    "    )\n",
    "    reform_top_one_pct_share = (\n",
    "        reform_equiv_income[reform_equiv_income.percentile_rank() == 100].sum()\n",
    "        / reform_equiv_income.sum()\n",
    "    )\n",
    "    top_one_pct_share_change = (\n",
    "        reform_top_one_pct_share / baseline_top_one_pct_share - 1\n",
    "    )\n",
    "    df = pd.DataFrame({\n",
    "        \"Metric\": [\"Gini coefficient\", \"Top-10% share\", \"Top-1% share\"],\n",
    "        \"Inequality change\": [\n",
    "            reform_gini / baseline_gini - 1,\n",
    "            reform_top_ten_pct_share / baseline_top_ten_pct_share - 1,\n",
    "            reform_top_one_pct_share / baseline_top_one_pct_share - 1,\n",
    "        ],\n",
    "        \"Policy\": [policy_name] * 3,\n",
    "    })\n",
    "    dfs += [df]\n",
    "inequality_df = pd.concat(dfs)\n",
    "fig = px.bar(\n",
    "    inequality_df,\n",
    "    x=\"Metric\",\n",
    "    y=\"Inequality change\",\n",
    "    color=\"Policy\",\n",
    "    barmode=\"group\",\n",
    "    color_discrete_sequence=BLUE_COLOUR_SCALE,\n",
    ").update_layout(\n",
    "    yaxis_tickformat=\".0%\",\n",
    ")\n",
    "for i in range(len(fig.data)):\n",
    "    fig.data[i][\"text\"] = [f\"{x:+.1%}\" if x is not None else \"\" for x in fig.data[i][\"y\"]]\n",
    "format_fig(fig).update_layout(\n",
    "    title=\"Figure 4: Inequality impact by metric and UBI policy\",\n",
    ").to_json()"
   ]
  },
  {
   "cell_type": "markdown",
   "metadata": {},
   "source": [
    "The next sections provide more detailed societal-level impacts on each of the three policies.\n",
    "\n",
    "\n",
    "## [£200 per month option](http://localhost:3000/uk/policy?reform=31959&focus=policyOutput.decileRelativeImpact&region=ni&timePeriod=2023&baseline=1)\n",
    "\n",
    "_£200 per month for adults, funded by lowering the personal allowance to £2,000, increasing the basic rate by 0.9p, and increasing the higher and additional rates by 1.8p_\n",
    "\n",
    "The smallest policy in our analysis reduces the allowance to £2,000 per year, raises the basic rate to 20.9%, the higher rate to 41.8% and the additional rate to 46.8%. 88% of the population sees their income rise as a result of the policy.\n",
    "\n",
    "The policy is highly progressive: the lowest income decile sees an increase of 16% to its aggregate disposable income. Even the highest income decile sees a positive increase in income.\n",
    "\n"
   ]
  },
  {
   "cell_type": "code",
   "execution_count": 9,
   "metadata": {
    "tags": [
     "hide-input"
    ]
   },
   "outputs": [
    {
     "data": {
      "text/plain": [
       "'{\"data\":[{\"marker\":{\"color\":[\"#2C6496\",\"#2C6496\",\"#2C6496\",\"#2C6496\",\"#2C6496\",\"#2C6496\",\"#2C6496\",\"#2C6496\",\"#2C6496\",\"#2C6496\"]},\"text\":[\"+15.7%\",\"+8.7%\",\"+6.8%\",\"+5.3%\",\"+4.3%\",\"+2.6%\",\"+2.2%\",\"+1.5%\",\"+1.1%\",\"+0.2%\"],\"textangle\":0,\"x\":[1,2,3,4,5,6,7,8,9,10],\"y\":[0.15665695779925357,0.08695622423721133,0.06819115831446491,0.05312926364748381,0.04257281694228437,0.026250635495082084,0.02223551727191814,0.014955945891959973,0.010890938977657715,0.0020900893647993342],\"type\":\"bar\"}],\"layout\":{\"uniformtext\":{\"minsize\":8,\"mode\":\"hide\"},\"xaxis\":{\"tickvals\":[1,2,3,4,5,6,7,8,9,10],\"title\":{\"text\":\"Income decile\"}},\"yaxis\":{\"tickformat\":\"+,.0%\",\"title\":{\"text\":\"Relative change\"}},\"template\":{\"data\":{\"barpolar\":[{\"marker\":{\"line\":{\"color\":\"white\",\"width\":0.5},\"pattern\":{\"fillmode\":\"overlay\",\"size\":10,\"solidity\":0.2}},\"type\":\"barpolar\"}],\"bar\":[{\"error_x\":{\"color\":\"#2a3f5f\"},\"error_y\":{\"color\":\"#2a3f5f\"},\"marker\":{\"line\":{\"color\":\"white\",\"width\":0.5},\"pattern\":{\"fillmode\":\"overlay\",\"size\":10,\"solidity\":0.2}},\"type\":\"bar\"}],\"carpet\":[{\"aaxis\":{\"endlinecolor\":\"#2a3f5f\",\"gridcolor\":\"#C8D4E3\",\"linecolor\":\"#C8D4E3\",\"minorgridcolor\":\"#C8D4E3\",\"startlinecolor\":\"#2a3f5f\"},\"baxis\":{\"endlinecolor\":\"#2a3f5f\",\"gridcolor\":\"#C8D4E3\",\"linecolor\":\"#C8D4E3\",\"minorgridcolor\":\"#C8D4E3\",\"startlinecolor\":\"#2a3f5f\"},\"type\":\"carpet\"}],\"choropleth\":[{\"colorbar\":{\"outlinewidth\":0,\"ticks\":\"\"},\"type\":\"choropleth\"}],\"contourcarpet\":[{\"colorbar\":{\"outlinewidth\":0,\"ticks\":\"\"},\"type\":\"contourcarpet\"}],\"contour\":[{\"colorbar\":{\"outlinewidth\":0,\"ticks\":\"\"},\"colorscale\":[[0.0,\"#0d0887\"],[0.1111111111111111,\"#46039f\"],[0.2222222222222222,\"#7201a8\"],[0.3333333333333333,\"#9c179e\"],[0.4444444444444444,\"#bd3786\"],[0.5555555555555556,\"#d8576b\"],[0.6666666666666666,\"#ed7953\"],[0.7777777777777778,\"#fb9f3a\"],[0.8888888888888888,\"#fdca26\"],[1.0,\"#f0f921\"]],\"type\":\"contour\"}],\"heatmapgl\":[{\"colorbar\":{\"outlinewidth\":0,\"ticks\":\"\"},\"colorscale\":[[0.0,\"#0d0887\"],[0.1111111111111111,\"#46039f\"],[0.2222222222222222,\"#7201a8\"],[0.3333333333333333,\"#9c179e\"],[0.4444444444444444,\"#bd3786\"],[0.5555555555555556,\"#d8576b\"],[0.6666666666666666,\"#ed7953\"],[0.7777777777777778,\"#fb9f3a\"],[0.8888888888888888,\"#fdca26\"],[1.0,\"#f0f921\"]],\"type\":\"heatmapgl\"}],\"heatmap\":[{\"colorbar\":{\"outlinewidth\":0,\"ticks\":\"\"},\"colorscale\":[[0.0,\"#0d0887\"],[0.1111111111111111,\"#46039f\"],[0.2222222222222222,\"#7201a8\"],[0.3333333333333333,\"#9c179e\"],[0.4444444444444444,\"#bd3786\"],[0.5555555555555556,\"#d8576b\"],[0.6666666666666666,\"#ed7953\"],[0.7777777777777778,\"#fb9f3a\"],[0.8888888888888888,\"#fdca26\"],[1.0,\"#f0f921\"]],\"type\":\"heatmap\"}],\"histogram2dcontour\":[{\"colorbar\":{\"outlinewidth\":0,\"ticks\":\"\"},\"colorscale\":[[0.0,\"#0d0887\"],[0.1111111111111111,\"#46039f\"],[0.2222222222222222,\"#7201a8\"],[0.3333333333333333,\"#9c179e\"],[0.4444444444444444,\"#bd3786\"],[0.5555555555555556,\"#d8576b\"],[0.6666666666666666,\"#ed7953\"],[0.7777777777777778,\"#fb9f3a\"],[0.8888888888888888,\"#fdca26\"],[1.0,\"#f0f921\"]],\"type\":\"histogram2dcontour\"}],\"histogram2d\":[{\"colorbar\":{\"outlinewidth\":0,\"ticks\":\"\"},\"colorscale\":[[0.0,\"#0d0887\"],[0.1111111111111111,\"#46039f\"],[0.2222222222222222,\"#7201a8\"],[0.3333333333333333,\"#9c179e\"],[0.4444444444444444,\"#bd3786\"],[0.5555555555555556,\"#d8576b\"],[0.6666666666666666,\"#ed7953\"],[0.7777777777777778,\"#fb9f3a\"],[0.8888888888888888,\"#fdca26\"],[1.0,\"#f0f921\"]],\"type\":\"histogram2d\"}],\"histogram\":[{\"marker\":{\"pattern\":{\"fillmode\":\"overlay\",\"size\":10,\"solidity\":0.2}},\"type\":\"histogram\"}],\"mesh3d\":[{\"colorbar\":{\"outlinewidth\":0,\"ticks\":\"\"},\"type\":\"mesh3d\"}],\"parcoords\":[{\"line\":{\"colorbar\":{\"outlinewidth\":0,\"ticks\":\"\"}},\"type\":\"parcoords\"}],\"pie\":[{\"automargin\":true,\"type\":\"pie\"}],\"scatter3d\":[{\"line\":{\"colorbar\":{\"outlinewidth\":0,\"ticks\":\"\"}},\"marker\":{\"colorbar\":{\"outlinewidth\":0,\"ticks\":\"\"}},\"type\":\"scatter3d\"}],\"scattercarpet\":[{\"marker\":{\"colorbar\":{\"outlinewidth\":0,\"ticks\":\"\"}},\"type\":\"scattercarpet\"}],\"scattergeo\":[{\"marker\":{\"colorbar\":{\"outlinewidth\":0,\"ticks\":\"\"}},\"type\":\"scattergeo\"}],\"scattergl\":[{\"marker\":{\"colorbar\":{\"outlinewidth\":0,\"ticks\":\"\"}},\"type\":\"scattergl\"}],\"scattermapbox\":[{\"marker\":{\"colorbar\":{\"outlinewidth\":0,\"ticks\":\"\"}},\"type\":\"scattermapbox\"}],\"scatterpolargl\":[{\"marker\":{\"colorbar\":{\"outlinewidth\":0,\"ticks\":\"\"}},\"type\":\"scatterpolargl\"}],\"scatterpolar\":[{\"marker\":{\"colorbar\":{\"outlinewidth\":0,\"ticks\":\"\"}},\"type\":\"scatterpolar\"}],\"scatter\":[{\"fillpattern\":{\"fillmode\":\"overlay\",\"size\":10,\"solidity\":0.2},\"type\":\"scatter\"}],\"scatterternary\":[{\"marker\":{\"colorbar\":{\"outlinewidth\":0,\"ticks\":\"\"}},\"type\":\"scatterternary\"}],\"surface\":[{\"colorbar\":{\"outlinewidth\":0,\"ticks\":\"\"},\"colorscale\":[[0.0,\"#0d0887\"],[0.1111111111111111,\"#46039f\"],[0.2222222222222222,\"#7201a8\"],[0.3333333333333333,\"#9c179e\"],[0.4444444444444444,\"#bd3786\"],[0.5555555555555556,\"#d8576b\"],[0.6666666666666666,\"#ed7953\"],[0.7777777777777778,\"#fb9f3a\"],[0.8888888888888888,\"#fdca26\"],[1.0,\"#f0f921\"]],\"type\":\"surface\"}],\"table\":[{\"cells\":{\"fill\":{\"color\":\"#EBF0F8\"},\"line\":{\"color\":\"white\"}},\"header\":{\"fill\":{\"color\":\"#C8D4E3\"},\"line\":{\"color\":\"white\"}},\"type\":\"table\"}]},\"layout\":{\"annotationdefaults\":{\"arrowcolor\":\"#2a3f5f\",\"arrowhead\":0,\"arrowwidth\":1},\"autotypenumbers\":\"strict\",\"coloraxis\":{\"colorbar\":{\"outlinewidth\":0,\"ticks\":\"\"}},\"colorscale\":{\"diverging\":[[0,\"#8e0152\"],[0.1,\"#c51b7d\"],[0.2,\"#de77ae\"],[0.3,\"#f1b6da\"],[0.4,\"#fde0ef\"],[0.5,\"#f7f7f7\"],[0.6,\"#e6f5d0\"],[0.7,\"#b8e186\"],[0.8,\"#7fbc41\"],[0.9,\"#4d9221\"],[1,\"#276419\"]],\"sequential\":[[0.0,\"#0d0887\"],[0.1111111111111111,\"#46039f\"],[0.2222222222222222,\"#7201a8\"],[0.3333333333333333,\"#9c179e\"],[0.4444444444444444,\"#bd3786\"],[0.5555555555555556,\"#d8576b\"],[0.6666666666666666,\"#ed7953\"],[0.7777777777777778,\"#fb9f3a\"],[0.8888888888888888,\"#fdca26\"],[1.0,\"#f0f921\"]],\"sequentialminus\":[[0.0,\"#0d0887\"],[0.1111111111111111,\"#46039f\"],[0.2222222222222222,\"#7201a8\"],[0.3333333333333333,\"#9c179e\"],[0.4444444444444444,\"#bd3786\"],[0.5555555555555556,\"#d8576b\"],[0.6666666666666666,\"#ed7953\"],[0.7777777777777778,\"#fb9f3a\"],[0.8888888888888888,\"#fdca26\"],[1.0,\"#f0f921\"]]},\"colorway\":[\"#636efa\",\"#EF553B\",\"#00cc96\",\"#ab63fa\",\"#FFA15A\",\"#19d3f3\",\"#FF6692\",\"#B6E880\",\"#FF97FF\",\"#FECB52\"],\"font\":{\"color\":\"#2a3f5f\"},\"geo\":{\"bgcolor\":\"white\",\"lakecolor\":\"white\",\"landcolor\":\"white\",\"showlakes\":true,\"showland\":true,\"subunitcolor\":\"#C8D4E3\"},\"hoverlabel\":{\"align\":\"left\"},\"hovermode\":\"closest\",\"mapbox\":{\"style\":\"light\"},\"paper_bgcolor\":\"white\",\"plot_bgcolor\":\"white\",\"polar\":{\"angularaxis\":{\"gridcolor\":\"#EBF0F8\",\"linecolor\":\"#EBF0F8\",\"ticks\":\"\"},\"bgcolor\":\"white\",\"radialaxis\":{\"gridcolor\":\"#EBF0F8\",\"linecolor\":\"#EBF0F8\",\"ticks\":\"\"}},\"scene\":{\"xaxis\":{\"backgroundcolor\":\"white\",\"gridcolor\":\"#DFE8F3\",\"gridwidth\":2,\"linecolor\":\"#EBF0F8\",\"showbackground\":true,\"ticks\":\"\",\"zerolinecolor\":\"#EBF0F8\"},\"yaxis\":{\"backgroundcolor\":\"white\",\"gridcolor\":\"#DFE8F3\",\"gridwidth\":2,\"linecolor\":\"#EBF0F8\",\"showbackground\":true,\"ticks\":\"\",\"zerolinecolor\":\"#EBF0F8\"},\"zaxis\":{\"backgroundcolor\":\"white\",\"gridcolor\":\"#DFE8F3\",\"gridwidth\":2,\"linecolor\":\"#EBF0F8\",\"showbackground\":true,\"ticks\":\"\",\"zerolinecolor\":\"#EBF0F8\"}},\"shapedefaults\":{\"line\":{\"color\":\"#2a3f5f\"}},\"ternary\":{\"aaxis\":{\"gridcolor\":\"#DFE8F3\",\"linecolor\":\"#A2B1C6\",\"ticks\":\"\"},\"baxis\":{\"gridcolor\":\"#DFE8F3\",\"linecolor\":\"#A2B1C6\",\"ticks\":\"\"},\"bgcolor\":\"white\",\"caxis\":{\"gridcolor\":\"#DFE8F3\",\"linecolor\":\"#A2B1C6\",\"ticks\":\"\"}},\"title\":{\"x\":0.05},\"xaxis\":{\"automargin\":true,\"gridcolor\":\"#EBF0F8\",\"linecolor\":\"#EBF0F8\",\"ticks\":\"\",\"title\":{\"standoff\":15},\"zerolinecolor\":\"#EBF0F8\",\"zerolinewidth\":2},\"yaxis\":{\"automargin\":true,\"gridcolor\":\"#EBF0F8\",\"linecolor\":\"#EBF0F8\",\"ticks\":\"\",\"title\":{\"standoff\":15},\"zerolinecolor\":\"#EBF0F8\",\"zerolinewidth\":2}}},\"font\":{\"family\":\"Roboto Serif\",\"color\":\"black\"},\"images\":[{\"sizex\":0.2,\"sizey\":0.2,\"source\":\"https://raw.githubusercontent.com/PolicyEngine/policyengine-app/master/src/images/logos/policyengine/blue.png\",\"x\":1,\"xanchor\":\"right\",\"xref\":\"paper\",\"y\":-0.15,\"yanchor\":\"bottom\",\"yref\":\"paper\"}],\"height\":600,\"width\":800,\"modebar\":{\"bgcolor\":\"rgba(0,0,0,0)\",\"color\":\"rgba(0,0,0,0)\"},\"title\":{\"text\":\"Figure 5: Change to net income by income decile under a \\\\u00a3200 per month UBI\"}}}'"
      ]
     },
     "execution_count": 9,
     "metadata": {},
     "output_type": "execute_result"
    }
   ],
   "source": [
    "from policyengine_core.charts import decile_chart, intra_decile_chart\n",
    "\n",
    "decile_chart(\n",
    "    \"uk\",\n",
    "    model_1_reform.api_id,\n",
    "    \"ni\",\n",
    "    \"2023\",\n",
    ").update_layout(\n",
    "    title=\"Figure 5: Change to net income by income decile under a £200 per month UBI\"\n",
    ").to_json()"
   ]
  },
  {
   "cell_type": "markdown",
   "metadata": {},
   "source": [
    "This does not mean, however, that everyone within a beneficiary decile comes out ahead or vice-versa. But gains broadly correlate with income: in the first decile, all individuals see their household net income rise; in the top decile, all see their income fall. Basic income schemes often create large amounts of low-income households who see a loss, if the policy abolishes or removes elements of the existing welfare system. This and other policies considered in this report avoid creating such low-income losses by not reforming benefit programs."
   ]
  },
  {
   "cell_type": "code",
   "execution_count": 10,
   "metadata": {},
   "outputs": [
    {
     "data": {
      "text/plain": [
       "'{\"data\":[{\"hoverinfo\":\"none\",\"legendgroup\":\"Gain more than 5%\",\"marker\":{\"color\":\"#2C6496\",\"line\":{\"width\":0}},\"name\":\"Gain more than 5%\",\"offsetgroup\":\"Gain more than 5%\",\"orientation\":\"h\",\"showlegend\":false,\"text\":[\"52%\"],\"textangle\":0,\"textposition\":\"inside\",\"x\":[0.5178341063116614],\"xaxis\":\"x\",\"y\":[\"All\"],\"yaxis\":\"y\",\"type\":\"bar\",\"width\":[0.9,0.9,0.9,0.9,0.9,0.9,0.9,0.9,0.9,0.9]},{\"hoverinfo\":\"none\",\"legendgroup\":\"Gain less than 5%\",\"marker\":{\"color\":\"#D8E6F3\",\"line\":{\"width\":0}},\"name\":\"Gain less than 5%\",\"offsetgroup\":\"Gain less than 5%\",\"orientation\":\"h\",\"showlegend\":false,\"text\":[\"35%\"],\"textangle\":0,\"textposition\":\"inside\",\"x\":[0.35487560729821466],\"xaxis\":\"x\",\"y\":[\"All\"],\"yaxis\":\"y\",\"type\":\"bar\",\"width\":[0.9,0.9,0.9,0.9,0.9,0.9,0.9,0.9,0.9,0.9]},{\"hoverinfo\":\"none\",\"legendgroup\":\"No change\",\"marker\":{\"color\":\"#FFFFFF\",\"line\":{\"width\":0}},\"name\":\"No change\",\"offsetgroup\":\"No change\",\"orientation\":\"h\",\"showlegend\":false,\"text\":[\"3%\"],\"textangle\":0,\"textposition\":\"inside\",\"x\":[0.028910362971318465],\"xaxis\":\"x\",\"y\":[\"All\"],\"yaxis\":\"y\",\"type\":\"bar\",\"width\":[0.9,0.9,0.9,0.9,0.9,0.9,0.9,0.9,0.9,0.9]},{\"hoverinfo\":\"none\",\"legendgroup\":\"Lose less than 5%\",\"marker\":{\"color\":\"#D2D2D2\",\"line\":{\"width\":0}},\"name\":\"Lose less than 5%\",\"offsetgroup\":\"Lose less than 5%\",\"orientation\":\"h\",\"showlegend\":false,\"text\":[\"9%\"],\"textangle\":0,\"textposition\":\"inside\",\"x\":[0.09153670979097095],\"xaxis\":\"x\",\"y\":[\"All\"],\"yaxis\":\"y\",\"type\":\"bar\",\"width\":[0.9,0.9,0.9,0.9,0.9,0.9,0.9,0.9,0.9,0.9]},{\"hoverinfo\":\"none\",\"legendgroup\":\"Lose more than 5%\",\"marker\":{\"color\":\"#616161\",\"line\":{\"width\":0}},\"name\":\"Lose more than 5%\",\"offsetgroup\":\"Lose more than 5%\",\"orientation\":\"h\",\"showlegend\":false,\"text\":[\"1%\"],\"textangle\":0,\"textposition\":\"inside\",\"x\":[0.006843213627834655],\"xaxis\":\"x\",\"y\":[\"All\"],\"yaxis\":\"y\",\"type\":\"bar\",\"width\":[0.9,0.9,0.9,0.9,0.9,0.9,0.9,0.9,0.9,0.9]},{\"hoverinfo\":\"none\",\"marker\":{\"color\":\"#2C6496\",\"line\":{\"width\":0}},\"name\":\"Gain more than 5%\",\"orientation\":\"h\",\"text\":[\"92%\",\"73%\",\"82%\",\"80%\",\"50%\",\"39%\",\"44%\",\"24%\",\"27%\",\"7%\"],\"textangle\":0,\"textposition\":\"inside\",\"x\":[0.9210704614997001,0.7343027695795373,0.8215153736618497,0.8023062470450741,0.49557596631222345,0.3942234134328206,0.43540690699014434,0.24088302077471702,0.26774161736609925,0.06531528645444691],\"xaxis\":\"x2\",\"y\":[1,2,3,4,5,6,7,8,9,10],\"yaxis\":\"y2\",\"type\":\"bar\",\"width\":[0.9,0.9,0.9,0.9,0.9,0.9,0.9,0.9,0.9,0.9]},{\"hoverinfo\":\"none\",\"marker\":{\"color\":\"#D8E6F3\",\"line\":{\"width\":0}},\"name\":\"Gain less than 5%\",\"orientation\":\"h\",\"text\":[\"8%\",\"27%\",\"18%\",\"18%\",\"47%\",\"59%\",\"50%\",\"73%\",\"18%\",\"39%\"],\"textangle\":0,\"textposition\":\"inside\",\"x\":[0.07892953850029999,0.2656972304204627,0.17848462633815035,0.17750379883673872,0.46909706360393577,0.5916718147466729,0.4958604792613573,0.7259596438103321,0.17691358947582556,0.38863828798837136],\"xaxis\":\"x2\",\"y\":[1,2,3,4,5,6,7,8,9,10],\"yaxis\":\"y2\",\"type\":\"bar\",\"width\":[0.9,0.9,0.9,0.9,0.9,0.9,0.9,0.9,0.9,0.9]},{\"hoverinfo\":\"none\",\"marker\":{\"color\":\"#FFFFFF\",\"line\":{\"width\":0}},\"name\":\"No change\",\"orientation\":\"h\",\"text\":[\"0%\",\"0%\",\"0%\",\"1%\",\"2%\",\"0%\",\"0%\",\"1%\",\"25%\",\"0%\"],\"textangle\":0,\"textposition\":\"inside\",\"x\":[0.0,0.0,0.0,0.009017948489235053,0.0220322133752916,0.0,0.0,0.01001769497415061,0.2480357728745074,0.0],\"xaxis\":\"x2\",\"y\":[1,2,3,4,5,6,7,8,9,10],\"yaxis\":\"y2\",\"type\":\"bar\",\"width\":[0.9,0.9,0.9,0.9,0.9,0.9,0.9,0.9,0.9,0.9]},{\"hoverinfo\":\"none\",\"marker\":{\"color\":\"#D2D2D2\",\"line\":{\"width\":0}},\"name\":\"Lose less than 5%\",\"orientation\":\"h\",\"text\":[\"0%\",\"0%\",\"0%\",\"1%\",\"1%\",\"1%\",\"2%\",\"1%\",\"31%\",\"55%\"],\"textangle\":0,\"textposition\":\"inside\",\"x\":[0.0,0.0,0.0,0.011172005628952132,0.013294756708549176,0.01410477182050651,0.01591550293357538,0.007524614977376722,0.30730902028356777,0.5460464255571817],\"xaxis\":\"x2\",\"y\":[1,2,3,4,5,6,7,8,9,10],\"yaxis\":\"y2\",\"type\":\"bar\",\"width\":[0.9,0.9,0.9,0.9,0.9,0.9,0.9,0.9,0.9,0.9]},{\"hoverinfo\":\"none\",\"marker\":{\"color\":\"#616161\",\"line\":{\"width\":0}},\"name\":\"Lose more than 5%\",\"orientation\":\"h\",\"text\":[\"0%\",\"0%\",\"0%\",\"0%\",\"0%\",\"0%\",\"5%\",\"2%\",\"0%\",\"0%\"],\"textangle\":0,\"textposition\":\"inside\",\"x\":[0.0,0.0,0.0,0.0,0.0,0.0,0.052817110814923,0.01561502546342354,0.0,0.0],\"xaxis\":\"x2\",\"y\":[1,2,3,4,5,6,7,8,9,10],\"yaxis\":\"y2\",\"type\":\"bar\",\"width\":[0.9,0.9,0.9,0.9,0.9,0.9,0.9,0.9,0.9,0.9]}],\"layout\":{\"barmode\":\"stack\",\"grid\":{\"columns\":1,\"rows\":2},\"uniformtext\":{\"minsize\":10,\"mode\":\"hide\"},\"xaxis\":{\"anchor\":\"y\",\"matches\":\"x2\",\"showgrid\":false,\"showticklabels\":false,\"tickformat\":\".0%\",\"title\":{\"text\":\"\"}},\"yaxis\":{\"domain\":[0.91,1],\"tickvals\":[\"All\"],\"title\":{\"text\":\"\"}},\"xaxis2\":{\"anchor\":\"y2\",\"tickformat\":\".0%\",\"title\":{\"text\":\"Population share\"}},\"yaxis2\":{\"anchor\":\"x2\",\"domain\":[0,0.85],\"tickvals\":[1,2,3,4,5,6,7,8,9,10],\"title\":{\"text\":\"Income decile\"}},\"template\":{\"data\":{\"barpolar\":[{\"marker\":{\"line\":{\"color\":\"white\",\"width\":0.5},\"pattern\":{\"fillmode\":\"overlay\",\"size\":10,\"solidity\":0.2}},\"type\":\"barpolar\"}],\"bar\":[{\"error_x\":{\"color\":\"#2a3f5f\"},\"error_y\":{\"color\":\"#2a3f5f\"},\"marker\":{\"line\":{\"color\":\"white\",\"width\":0.5},\"pattern\":{\"fillmode\":\"overlay\",\"size\":10,\"solidity\":0.2}},\"type\":\"bar\"}],\"carpet\":[{\"aaxis\":{\"endlinecolor\":\"#2a3f5f\",\"gridcolor\":\"#C8D4E3\",\"linecolor\":\"#C8D4E3\",\"minorgridcolor\":\"#C8D4E3\",\"startlinecolor\":\"#2a3f5f\"},\"baxis\":{\"endlinecolor\":\"#2a3f5f\",\"gridcolor\":\"#C8D4E3\",\"linecolor\":\"#C8D4E3\",\"minorgridcolor\":\"#C8D4E3\",\"startlinecolor\":\"#2a3f5f\"},\"type\":\"carpet\"}],\"choropleth\":[{\"colorbar\":{\"outlinewidth\":0,\"ticks\":\"\"},\"type\":\"choropleth\"}],\"contourcarpet\":[{\"colorbar\":{\"outlinewidth\":0,\"ticks\":\"\"},\"type\":\"contourcarpet\"}],\"contour\":[{\"colorbar\":{\"outlinewidth\":0,\"ticks\":\"\"},\"colorscale\":[[0.0,\"#0d0887\"],[0.1111111111111111,\"#46039f\"],[0.2222222222222222,\"#7201a8\"],[0.3333333333333333,\"#9c179e\"],[0.4444444444444444,\"#bd3786\"],[0.5555555555555556,\"#d8576b\"],[0.6666666666666666,\"#ed7953\"],[0.7777777777777778,\"#fb9f3a\"],[0.8888888888888888,\"#fdca26\"],[1.0,\"#f0f921\"]],\"type\":\"contour\"}],\"heatmapgl\":[{\"colorbar\":{\"outlinewidth\":0,\"ticks\":\"\"},\"colorscale\":[[0.0,\"#0d0887\"],[0.1111111111111111,\"#46039f\"],[0.2222222222222222,\"#7201a8\"],[0.3333333333333333,\"#9c179e\"],[0.4444444444444444,\"#bd3786\"],[0.5555555555555556,\"#d8576b\"],[0.6666666666666666,\"#ed7953\"],[0.7777777777777778,\"#fb9f3a\"],[0.8888888888888888,\"#fdca26\"],[1.0,\"#f0f921\"]],\"type\":\"heatmapgl\"}],\"heatmap\":[{\"colorbar\":{\"outlinewidth\":0,\"ticks\":\"\"},\"colorscale\":[[0.0,\"#0d0887\"],[0.1111111111111111,\"#46039f\"],[0.2222222222222222,\"#7201a8\"],[0.3333333333333333,\"#9c179e\"],[0.4444444444444444,\"#bd3786\"],[0.5555555555555556,\"#d8576b\"],[0.6666666666666666,\"#ed7953\"],[0.7777777777777778,\"#fb9f3a\"],[0.8888888888888888,\"#fdca26\"],[1.0,\"#f0f921\"]],\"type\":\"heatmap\"}],\"histogram2dcontour\":[{\"colorbar\":{\"outlinewidth\":0,\"ticks\":\"\"},\"colorscale\":[[0.0,\"#0d0887\"],[0.1111111111111111,\"#46039f\"],[0.2222222222222222,\"#7201a8\"],[0.3333333333333333,\"#9c179e\"],[0.4444444444444444,\"#bd3786\"],[0.5555555555555556,\"#d8576b\"],[0.6666666666666666,\"#ed7953\"],[0.7777777777777778,\"#fb9f3a\"],[0.8888888888888888,\"#fdca26\"],[1.0,\"#f0f921\"]],\"type\":\"histogram2dcontour\"}],\"histogram2d\":[{\"colorbar\":{\"outlinewidth\":0,\"ticks\":\"\"},\"colorscale\":[[0.0,\"#0d0887\"],[0.1111111111111111,\"#46039f\"],[0.2222222222222222,\"#7201a8\"],[0.3333333333333333,\"#9c179e\"],[0.4444444444444444,\"#bd3786\"],[0.5555555555555556,\"#d8576b\"],[0.6666666666666666,\"#ed7953\"],[0.7777777777777778,\"#fb9f3a\"],[0.8888888888888888,\"#fdca26\"],[1.0,\"#f0f921\"]],\"type\":\"histogram2d\"}],\"histogram\":[{\"marker\":{\"pattern\":{\"fillmode\":\"overlay\",\"size\":10,\"solidity\":0.2}},\"type\":\"histogram\"}],\"mesh3d\":[{\"colorbar\":{\"outlinewidth\":0,\"ticks\":\"\"},\"type\":\"mesh3d\"}],\"parcoords\":[{\"line\":{\"colorbar\":{\"outlinewidth\":0,\"ticks\":\"\"}},\"type\":\"parcoords\"}],\"pie\":[{\"automargin\":true,\"type\":\"pie\"}],\"scatter3d\":[{\"line\":{\"colorbar\":{\"outlinewidth\":0,\"ticks\":\"\"}},\"marker\":{\"colorbar\":{\"outlinewidth\":0,\"ticks\":\"\"}},\"type\":\"scatter3d\"}],\"scattercarpet\":[{\"marker\":{\"colorbar\":{\"outlinewidth\":0,\"ticks\":\"\"}},\"type\":\"scattercarpet\"}],\"scattergeo\":[{\"marker\":{\"colorbar\":{\"outlinewidth\":0,\"ticks\":\"\"}},\"type\":\"scattergeo\"}],\"scattergl\":[{\"marker\":{\"colorbar\":{\"outlinewidth\":0,\"ticks\":\"\"}},\"type\":\"scattergl\"}],\"scattermapbox\":[{\"marker\":{\"colorbar\":{\"outlinewidth\":0,\"ticks\":\"\"}},\"type\":\"scattermapbox\"}],\"scatterpolargl\":[{\"marker\":{\"colorbar\":{\"outlinewidth\":0,\"ticks\":\"\"}},\"type\":\"scatterpolargl\"}],\"scatterpolar\":[{\"marker\":{\"colorbar\":{\"outlinewidth\":0,\"ticks\":\"\"}},\"type\":\"scatterpolar\"}],\"scatter\":[{\"fillpattern\":{\"fillmode\":\"overlay\",\"size\":10,\"solidity\":0.2},\"type\":\"scatter\"}],\"scatterternary\":[{\"marker\":{\"colorbar\":{\"outlinewidth\":0,\"ticks\":\"\"}},\"type\":\"scatterternary\"}],\"surface\":[{\"colorbar\":{\"outlinewidth\":0,\"ticks\":\"\"},\"colorscale\":[[0.0,\"#0d0887\"],[0.1111111111111111,\"#46039f\"],[0.2222222222222222,\"#7201a8\"],[0.3333333333333333,\"#9c179e\"],[0.4444444444444444,\"#bd3786\"],[0.5555555555555556,\"#d8576b\"],[0.6666666666666666,\"#ed7953\"],[0.7777777777777778,\"#fb9f3a\"],[0.8888888888888888,\"#fdca26\"],[1.0,\"#f0f921\"]],\"type\":\"surface\"}],\"table\":[{\"cells\":{\"fill\":{\"color\":\"#EBF0F8\"},\"line\":{\"color\":\"white\"}},\"header\":{\"fill\":{\"color\":\"#C8D4E3\"},\"line\":{\"color\":\"white\"}},\"type\":\"table\"}]},\"layout\":{\"annotationdefaults\":{\"arrowcolor\":\"#2a3f5f\",\"arrowhead\":0,\"arrowwidth\":1},\"autotypenumbers\":\"strict\",\"coloraxis\":{\"colorbar\":{\"outlinewidth\":0,\"ticks\":\"\"}},\"colorscale\":{\"diverging\":[[0,\"#8e0152\"],[0.1,\"#c51b7d\"],[0.2,\"#de77ae\"],[0.3,\"#f1b6da\"],[0.4,\"#fde0ef\"],[0.5,\"#f7f7f7\"],[0.6,\"#e6f5d0\"],[0.7,\"#b8e186\"],[0.8,\"#7fbc41\"],[0.9,\"#4d9221\"],[1,\"#276419\"]],\"sequential\":[[0.0,\"#0d0887\"],[0.1111111111111111,\"#46039f\"],[0.2222222222222222,\"#7201a8\"],[0.3333333333333333,\"#9c179e\"],[0.4444444444444444,\"#bd3786\"],[0.5555555555555556,\"#d8576b\"],[0.6666666666666666,\"#ed7953\"],[0.7777777777777778,\"#fb9f3a\"],[0.8888888888888888,\"#fdca26\"],[1.0,\"#f0f921\"]],\"sequentialminus\":[[0.0,\"#0d0887\"],[0.1111111111111111,\"#46039f\"],[0.2222222222222222,\"#7201a8\"],[0.3333333333333333,\"#9c179e\"],[0.4444444444444444,\"#bd3786\"],[0.5555555555555556,\"#d8576b\"],[0.6666666666666666,\"#ed7953\"],[0.7777777777777778,\"#fb9f3a\"],[0.8888888888888888,\"#fdca26\"],[1.0,\"#f0f921\"]]},\"colorway\":[\"#636efa\",\"#EF553B\",\"#00cc96\",\"#ab63fa\",\"#FFA15A\",\"#19d3f3\",\"#FF6692\",\"#B6E880\",\"#FF97FF\",\"#FECB52\"],\"font\":{\"color\":\"#2a3f5f\"},\"geo\":{\"bgcolor\":\"white\",\"lakecolor\":\"white\",\"landcolor\":\"white\",\"showlakes\":true,\"showland\":true,\"subunitcolor\":\"#C8D4E3\"},\"hoverlabel\":{\"align\":\"left\"},\"hovermode\":\"closest\",\"mapbox\":{\"style\":\"light\"},\"paper_bgcolor\":\"white\",\"plot_bgcolor\":\"white\",\"polar\":{\"angularaxis\":{\"gridcolor\":\"#EBF0F8\",\"linecolor\":\"#EBF0F8\",\"ticks\":\"\"},\"bgcolor\":\"white\",\"radialaxis\":{\"gridcolor\":\"#EBF0F8\",\"linecolor\":\"#EBF0F8\",\"ticks\":\"\"}},\"scene\":{\"xaxis\":{\"backgroundcolor\":\"white\",\"gridcolor\":\"#DFE8F3\",\"gridwidth\":2,\"linecolor\":\"#EBF0F8\",\"showbackground\":true,\"ticks\":\"\",\"zerolinecolor\":\"#EBF0F8\"},\"yaxis\":{\"backgroundcolor\":\"white\",\"gridcolor\":\"#DFE8F3\",\"gridwidth\":2,\"linecolor\":\"#EBF0F8\",\"showbackground\":true,\"ticks\":\"\",\"zerolinecolor\":\"#EBF0F8\"},\"zaxis\":{\"backgroundcolor\":\"white\",\"gridcolor\":\"#DFE8F3\",\"gridwidth\":2,\"linecolor\":\"#EBF0F8\",\"showbackground\":true,\"ticks\":\"\",\"zerolinecolor\":\"#EBF0F8\"}},\"shapedefaults\":{\"line\":{\"color\":\"#2a3f5f\"}},\"ternary\":{\"aaxis\":{\"gridcolor\":\"#DFE8F3\",\"linecolor\":\"#A2B1C6\",\"ticks\":\"\"},\"baxis\":{\"gridcolor\":\"#DFE8F3\",\"linecolor\":\"#A2B1C6\",\"ticks\":\"\"},\"bgcolor\":\"white\",\"caxis\":{\"gridcolor\":\"#DFE8F3\",\"linecolor\":\"#A2B1C6\",\"ticks\":\"\"}},\"title\":{\"x\":0.05},\"xaxis\":{\"automargin\":true,\"gridcolor\":\"#EBF0F8\",\"linecolor\":\"#EBF0F8\",\"ticks\":\"\",\"title\":{\"standoff\":15},\"zerolinecolor\":\"#EBF0F8\",\"zerolinewidth\":2},\"yaxis\":{\"automargin\":true,\"gridcolor\":\"#EBF0F8\",\"linecolor\":\"#EBF0F8\",\"ticks\":\"\",\"title\":{\"standoff\":15},\"zerolinecolor\":\"#EBF0F8\",\"zerolinewidth\":2}}},\"font\":{\"family\":\"Roboto Serif\",\"color\":\"black\"},\"images\":[{\"sizex\":0.2,\"sizey\":0.2,\"source\":\"https://raw.githubusercontent.com/PolicyEngine/policyengine-app/master/src/images/logos/policyengine/blue.png\",\"x\":1,\"xanchor\":\"right\",\"xref\":\"paper\",\"y\":-0.15,\"yanchor\":\"bottom\",\"yref\":\"paper\"}],\"height\":600,\"width\":800,\"modebar\":{\"bgcolor\":\"rgba(0,0,0,0)\",\"color\":\"rgba(0,0,0,0)\"},\"legend\":{\"orientation\":\"h\",\"yanchor\":\"bottom\",\"y\":-0.3},\"title\":{\"text\":\"Figure 6: Outcome distribution by income decile under a \\\\u00a3200 per month UBI\"}}}'"
      ]
     },
     "execution_count": 10,
     "metadata": {},
     "output_type": "execute_result"
    }
   ],
   "source": [
    "intra_decile_chart(\n",
    "    \"uk\",\n",
    "    model_1_reform.api_id,\n",
    "    \"ni\",\n",
    "    \"2023\",\n",
    ").update_layout(\n",
    "    title=\"Figure 6: Outcome distribution by income decile under a £200 per month UBI\",\n",
    "    legend=dict(\n",
    "        orientation=\"h\",\n",
    "        yanchor=\"bottom\",\n",
    "        y=-0.3,\n",
    "    )\n",
    ").to_json()"
   ]
  },
  {
   "cell_type": "markdown",
   "metadata": {},
   "source": [
    "Total absolute poverty falls by 37%. This includes a fall of 41% for working-age poverty and by 43% for child poverty. \n",
    "\n",
    "\n",
    "## [£300 per month option](http://localhost:3000/uk/policy?reform=31960&focus=policyOutput.decileRelativeImpact&region=ni&timePeriod=2023&baseline=1)\n",
    "\n",
    "_£300 per month for adults, funded by repealing the personal allowance and increasing all tax rates by 3.6p_\n",
    "\n",
    "Northern Ireland could increase the basic income level from £200 to £300 by eliminating the personal allowance and raising the basic rate to 23.6%, the higher rate to 43.6%, and the additional rate to 48.6%. One counter-intuitive result of this is that the top marginal income tax rate actually falls slightly: in the current system, individuals who earn over £100,000 and less than £125,140 pay a 63.25% marginal tax rate.[^9] Under this policy, the top marginal income tax rate becomes 49%, as the personal allowance no longer exists to be phased out.\n",
    "\n",
    "With a larger UBI comes more progressive outcomes: the lowest income decile sees its income increase by over 23%, and the top decile income falls by around half a percent.\n",
    "\n",
    "\n",
    "[^9]:\n",
    "     This is because of the personal allowance phase-out, which creates a 60% marginal rate (40% * 1.5), in addition to the National Insurance marginal rate of (as of the time of writing) 3.25%.\n"
   ]
  },
  {
   "cell_type": "code",
   "execution_count": 11,
   "metadata": {
    "tags": [
     "hide-input"
    ]
   },
   "outputs": [
    {
     "data": {
      "text/plain": [
       "'{\"data\":[{\"marker\":{\"color\":[\"#2C6496\",\"#2C6496\",\"#2C6496\",\"#2C6496\",\"#2C6496\",\"#2C6496\",\"#2C6496\",\"#2C6496\",\"#2C6496\",\"#616161\"]},\"text\":[\"+23.9%\",\"+13.7%\",\"+10.8%\",\"+8.7%\",\"+6.9%\",\"+4.5%\",\"+3.6%\",\"+2.1%\",\"+1.3%\",\"-0.5%\"],\"textangle\":0,\"x\":[1,2,3,4,5,6,7,8,9,10],\"y\":[0.23880136236022878,0.13695769848887315,0.10838689855114998,0.08655792076086283,0.06890925847945459,0.044803968978228755,0.03623335647477917,0.021481265628107347,0.012916217676056727,-0.005210185867520275],\"type\":\"bar\"}],\"layout\":{\"uniformtext\":{\"minsize\":8,\"mode\":\"hide\"},\"xaxis\":{\"tickvals\":[1,2,3,4,5,6,7,8,9,10],\"title\":{\"text\":\"Income decile\"}},\"yaxis\":{\"tickformat\":\"+,.0%\",\"title\":{\"text\":\"Relative change\"}},\"template\":{\"data\":{\"barpolar\":[{\"marker\":{\"line\":{\"color\":\"white\",\"width\":0.5},\"pattern\":{\"fillmode\":\"overlay\",\"size\":10,\"solidity\":0.2}},\"type\":\"barpolar\"}],\"bar\":[{\"error_x\":{\"color\":\"#2a3f5f\"},\"error_y\":{\"color\":\"#2a3f5f\"},\"marker\":{\"line\":{\"color\":\"white\",\"width\":0.5},\"pattern\":{\"fillmode\":\"overlay\",\"size\":10,\"solidity\":0.2}},\"type\":\"bar\"}],\"carpet\":[{\"aaxis\":{\"endlinecolor\":\"#2a3f5f\",\"gridcolor\":\"#C8D4E3\",\"linecolor\":\"#C8D4E3\",\"minorgridcolor\":\"#C8D4E3\",\"startlinecolor\":\"#2a3f5f\"},\"baxis\":{\"endlinecolor\":\"#2a3f5f\",\"gridcolor\":\"#C8D4E3\",\"linecolor\":\"#C8D4E3\",\"minorgridcolor\":\"#C8D4E3\",\"startlinecolor\":\"#2a3f5f\"},\"type\":\"carpet\"}],\"choropleth\":[{\"colorbar\":{\"outlinewidth\":0,\"ticks\":\"\"},\"type\":\"choropleth\"}],\"contourcarpet\":[{\"colorbar\":{\"outlinewidth\":0,\"ticks\":\"\"},\"type\":\"contourcarpet\"}],\"contour\":[{\"colorbar\":{\"outlinewidth\":0,\"ticks\":\"\"},\"colorscale\":[[0.0,\"#0d0887\"],[0.1111111111111111,\"#46039f\"],[0.2222222222222222,\"#7201a8\"],[0.3333333333333333,\"#9c179e\"],[0.4444444444444444,\"#bd3786\"],[0.5555555555555556,\"#d8576b\"],[0.6666666666666666,\"#ed7953\"],[0.7777777777777778,\"#fb9f3a\"],[0.8888888888888888,\"#fdca26\"],[1.0,\"#f0f921\"]],\"type\":\"contour\"}],\"heatmapgl\":[{\"colorbar\":{\"outlinewidth\":0,\"ticks\":\"\"},\"colorscale\":[[0.0,\"#0d0887\"],[0.1111111111111111,\"#46039f\"],[0.2222222222222222,\"#7201a8\"],[0.3333333333333333,\"#9c179e\"],[0.4444444444444444,\"#bd3786\"],[0.5555555555555556,\"#d8576b\"],[0.6666666666666666,\"#ed7953\"],[0.7777777777777778,\"#fb9f3a\"],[0.8888888888888888,\"#fdca26\"],[1.0,\"#f0f921\"]],\"type\":\"heatmapgl\"}],\"heatmap\":[{\"colorbar\":{\"outlinewidth\":0,\"ticks\":\"\"},\"colorscale\":[[0.0,\"#0d0887\"],[0.1111111111111111,\"#46039f\"],[0.2222222222222222,\"#7201a8\"],[0.3333333333333333,\"#9c179e\"],[0.4444444444444444,\"#bd3786\"],[0.5555555555555556,\"#d8576b\"],[0.6666666666666666,\"#ed7953\"],[0.7777777777777778,\"#fb9f3a\"],[0.8888888888888888,\"#fdca26\"],[1.0,\"#f0f921\"]],\"type\":\"heatmap\"}],\"histogram2dcontour\":[{\"colorbar\":{\"outlinewidth\":0,\"ticks\":\"\"},\"colorscale\":[[0.0,\"#0d0887\"],[0.1111111111111111,\"#46039f\"],[0.2222222222222222,\"#7201a8\"],[0.3333333333333333,\"#9c179e\"],[0.4444444444444444,\"#bd3786\"],[0.5555555555555556,\"#d8576b\"],[0.6666666666666666,\"#ed7953\"],[0.7777777777777778,\"#fb9f3a\"],[0.8888888888888888,\"#fdca26\"],[1.0,\"#f0f921\"]],\"type\":\"histogram2dcontour\"}],\"histogram2d\":[{\"colorbar\":{\"outlinewidth\":0,\"ticks\":\"\"},\"colorscale\":[[0.0,\"#0d0887\"],[0.1111111111111111,\"#46039f\"],[0.2222222222222222,\"#7201a8\"],[0.3333333333333333,\"#9c179e\"],[0.4444444444444444,\"#bd3786\"],[0.5555555555555556,\"#d8576b\"],[0.6666666666666666,\"#ed7953\"],[0.7777777777777778,\"#fb9f3a\"],[0.8888888888888888,\"#fdca26\"],[1.0,\"#f0f921\"]],\"type\":\"histogram2d\"}],\"histogram\":[{\"marker\":{\"pattern\":{\"fillmode\":\"overlay\",\"size\":10,\"solidity\":0.2}},\"type\":\"histogram\"}],\"mesh3d\":[{\"colorbar\":{\"outlinewidth\":0,\"ticks\":\"\"},\"type\":\"mesh3d\"}],\"parcoords\":[{\"line\":{\"colorbar\":{\"outlinewidth\":0,\"ticks\":\"\"}},\"type\":\"parcoords\"}],\"pie\":[{\"automargin\":true,\"type\":\"pie\"}],\"scatter3d\":[{\"line\":{\"colorbar\":{\"outlinewidth\":0,\"ticks\":\"\"}},\"marker\":{\"colorbar\":{\"outlinewidth\":0,\"ticks\":\"\"}},\"type\":\"scatter3d\"}],\"scattercarpet\":[{\"marker\":{\"colorbar\":{\"outlinewidth\":0,\"ticks\":\"\"}},\"type\":\"scattercarpet\"}],\"scattergeo\":[{\"marker\":{\"colorbar\":{\"outlinewidth\":0,\"ticks\":\"\"}},\"type\":\"scattergeo\"}],\"scattergl\":[{\"marker\":{\"colorbar\":{\"outlinewidth\":0,\"ticks\":\"\"}},\"type\":\"scattergl\"}],\"scattermapbox\":[{\"marker\":{\"colorbar\":{\"outlinewidth\":0,\"ticks\":\"\"}},\"type\":\"scattermapbox\"}],\"scatterpolargl\":[{\"marker\":{\"colorbar\":{\"outlinewidth\":0,\"ticks\":\"\"}},\"type\":\"scatterpolargl\"}],\"scatterpolar\":[{\"marker\":{\"colorbar\":{\"outlinewidth\":0,\"ticks\":\"\"}},\"type\":\"scatterpolar\"}],\"scatter\":[{\"fillpattern\":{\"fillmode\":\"overlay\",\"size\":10,\"solidity\":0.2},\"type\":\"scatter\"}],\"scatterternary\":[{\"marker\":{\"colorbar\":{\"outlinewidth\":0,\"ticks\":\"\"}},\"type\":\"scatterternary\"}],\"surface\":[{\"colorbar\":{\"outlinewidth\":0,\"ticks\":\"\"},\"colorscale\":[[0.0,\"#0d0887\"],[0.1111111111111111,\"#46039f\"],[0.2222222222222222,\"#7201a8\"],[0.3333333333333333,\"#9c179e\"],[0.4444444444444444,\"#bd3786\"],[0.5555555555555556,\"#d8576b\"],[0.6666666666666666,\"#ed7953\"],[0.7777777777777778,\"#fb9f3a\"],[0.8888888888888888,\"#fdca26\"],[1.0,\"#f0f921\"]],\"type\":\"surface\"}],\"table\":[{\"cells\":{\"fill\":{\"color\":\"#EBF0F8\"},\"line\":{\"color\":\"white\"}},\"header\":{\"fill\":{\"color\":\"#C8D4E3\"},\"line\":{\"color\":\"white\"}},\"type\":\"table\"}]},\"layout\":{\"annotationdefaults\":{\"arrowcolor\":\"#2a3f5f\",\"arrowhead\":0,\"arrowwidth\":1},\"autotypenumbers\":\"strict\",\"coloraxis\":{\"colorbar\":{\"outlinewidth\":0,\"ticks\":\"\"}},\"colorscale\":{\"diverging\":[[0,\"#8e0152\"],[0.1,\"#c51b7d\"],[0.2,\"#de77ae\"],[0.3,\"#f1b6da\"],[0.4,\"#fde0ef\"],[0.5,\"#f7f7f7\"],[0.6,\"#e6f5d0\"],[0.7,\"#b8e186\"],[0.8,\"#7fbc41\"],[0.9,\"#4d9221\"],[1,\"#276419\"]],\"sequential\":[[0.0,\"#0d0887\"],[0.1111111111111111,\"#46039f\"],[0.2222222222222222,\"#7201a8\"],[0.3333333333333333,\"#9c179e\"],[0.4444444444444444,\"#bd3786\"],[0.5555555555555556,\"#d8576b\"],[0.6666666666666666,\"#ed7953\"],[0.7777777777777778,\"#fb9f3a\"],[0.8888888888888888,\"#fdca26\"],[1.0,\"#f0f921\"]],\"sequentialminus\":[[0.0,\"#0d0887\"],[0.1111111111111111,\"#46039f\"],[0.2222222222222222,\"#7201a8\"],[0.3333333333333333,\"#9c179e\"],[0.4444444444444444,\"#bd3786\"],[0.5555555555555556,\"#d8576b\"],[0.6666666666666666,\"#ed7953\"],[0.7777777777777778,\"#fb9f3a\"],[0.8888888888888888,\"#fdca26\"],[1.0,\"#f0f921\"]]},\"colorway\":[\"#636efa\",\"#EF553B\",\"#00cc96\",\"#ab63fa\",\"#FFA15A\",\"#19d3f3\",\"#FF6692\",\"#B6E880\",\"#FF97FF\",\"#FECB52\"],\"font\":{\"color\":\"#2a3f5f\"},\"geo\":{\"bgcolor\":\"white\",\"lakecolor\":\"white\",\"landcolor\":\"white\",\"showlakes\":true,\"showland\":true,\"subunitcolor\":\"#C8D4E3\"},\"hoverlabel\":{\"align\":\"left\"},\"hovermode\":\"closest\",\"mapbox\":{\"style\":\"light\"},\"paper_bgcolor\":\"white\",\"plot_bgcolor\":\"white\",\"polar\":{\"angularaxis\":{\"gridcolor\":\"#EBF0F8\",\"linecolor\":\"#EBF0F8\",\"ticks\":\"\"},\"bgcolor\":\"white\",\"radialaxis\":{\"gridcolor\":\"#EBF0F8\",\"linecolor\":\"#EBF0F8\",\"ticks\":\"\"}},\"scene\":{\"xaxis\":{\"backgroundcolor\":\"white\",\"gridcolor\":\"#DFE8F3\",\"gridwidth\":2,\"linecolor\":\"#EBF0F8\",\"showbackground\":true,\"ticks\":\"\",\"zerolinecolor\":\"#EBF0F8\"},\"yaxis\":{\"backgroundcolor\":\"white\",\"gridcolor\":\"#DFE8F3\",\"gridwidth\":2,\"linecolor\":\"#EBF0F8\",\"showbackground\":true,\"ticks\":\"\",\"zerolinecolor\":\"#EBF0F8\"},\"zaxis\":{\"backgroundcolor\":\"white\",\"gridcolor\":\"#DFE8F3\",\"gridwidth\":2,\"linecolor\":\"#EBF0F8\",\"showbackground\":true,\"ticks\":\"\",\"zerolinecolor\":\"#EBF0F8\"}},\"shapedefaults\":{\"line\":{\"color\":\"#2a3f5f\"}},\"ternary\":{\"aaxis\":{\"gridcolor\":\"#DFE8F3\",\"linecolor\":\"#A2B1C6\",\"ticks\":\"\"},\"baxis\":{\"gridcolor\":\"#DFE8F3\",\"linecolor\":\"#A2B1C6\",\"ticks\":\"\"},\"bgcolor\":\"white\",\"caxis\":{\"gridcolor\":\"#DFE8F3\",\"linecolor\":\"#A2B1C6\",\"ticks\":\"\"}},\"title\":{\"x\":0.05},\"xaxis\":{\"automargin\":true,\"gridcolor\":\"#EBF0F8\",\"linecolor\":\"#EBF0F8\",\"ticks\":\"\",\"title\":{\"standoff\":15},\"zerolinecolor\":\"#EBF0F8\",\"zerolinewidth\":2},\"yaxis\":{\"automargin\":true,\"gridcolor\":\"#EBF0F8\",\"linecolor\":\"#EBF0F8\",\"ticks\":\"\",\"title\":{\"standoff\":15},\"zerolinecolor\":\"#EBF0F8\",\"zerolinewidth\":2}}},\"font\":{\"family\":\"Roboto Serif\",\"color\":\"black\"},\"images\":[{\"sizex\":0.2,\"sizey\":0.2,\"source\":\"https://raw.githubusercontent.com/PolicyEngine/policyengine-app/master/src/images/logos/policyengine/blue.png\",\"x\":1,\"xanchor\":\"right\",\"xref\":\"paper\",\"y\":-0.15,\"yanchor\":\"bottom\",\"yref\":\"paper\"}],\"height\":600,\"width\":800,\"modebar\":{\"bgcolor\":\"rgba(0,0,0,0)\",\"color\":\"rgba(0,0,0,0)\"},\"title\":{\"text\":\"Figure 7: Change to net income by income decile under a \\\\u00a3300 per month UBI\"}}}'"
      ]
     },
     "execution_count": 11,
     "metadata": {},
     "output_type": "execute_result"
    }
   ],
   "source": [
    "decile_chart(\n",
    "    \"uk\",\n",
    "    model_2_reform.api_id,\n",
    "    \"ni\",\n",
    "    \"2023\",\n",
    ").update_layout(\n",
    "    title=\"Figure 7: Change to net income by income decile under a £300 per month UBI\"\n",
    ").to_json()"
   ]
  },
  {
   "cell_type": "markdown",
   "metadata": {},
   "source": [
    "A similar pattern holds for the distribution of outcomes within each decile, but the results are more pronounced. More households lose income, and more shift from losing under 5% to over 5%. Countering this, a larger proportion of individuals are in households with strong (over 5%) increases in income: from 52% (for the £200 per month policy) to 60%.\n"
   ]
  },
  {
   "cell_type": "code",
   "execution_count": 27,
   "metadata": {
    "tags": [
     "hide-input"
    ]
   },
   "outputs": [
    {
     "data": {
      "text/plain": [
       "'{\"data\":[{\"hoverinfo\":\"none\",\"legendgroup\":\"Gain more than 5%\",\"marker\":{\"color\":\"#2C6496\",\"line\":{\"width\":0}},\"name\":\"Gain more than 5%\",\"offsetgroup\":\"Gain more than 5%\",\"orientation\":\"h\",\"showlegend\":false,\"text\":[\"60%\"],\"textangle\":0,\"textposition\":\"inside\",\"x\":[0.6044924529122364],\"xaxis\":\"x\",\"y\":[\"All\"],\"yaxis\":\"y\",\"type\":\"bar\",\"width\":[0.9,0.9,0.9,0.9,0.9,0.9,0.9,0.9,0.9,0.9]},{\"hoverinfo\":\"none\",\"legendgroup\":\"Gain less than 5%\",\"marker\":{\"color\":\"#D8E6F3\",\"line\":{\"width\":0}},\"name\":\"Gain less than 5%\",\"offsetgroup\":\"Gain less than 5%\",\"orientation\":\"h\",\"showlegend\":false,\"text\":[\"23%\"],\"textangle\":0,\"textposition\":\"inside\",\"x\":[0.2319425360917058],\"xaxis\":\"x\",\"y\":[\"All\"],\"yaxis\":\"y\",\"type\":\"bar\",\"width\":[0.9,0.9,0.9,0.9,0.9,0.9,0.9,0.9,0.9,0.9]},{\"hoverinfo\":\"none\",\"legendgroup\":\"No change\",\"marker\":{\"color\":\"#FFFFFF\",\"line\":{\"width\":0}},\"name\":\"No change\",\"offsetgroup\":\"No change\",\"orientation\":\"h\",\"showlegend\":false,\"text\":[\"1%\"],\"textangle\":0,\"textposition\":\"inside\",\"x\":[0.010822783176813094],\"xaxis\":\"x\",\"y\":[\"All\"],\"yaxis\":\"y\",\"type\":\"bar\",\"width\":[0.9,0.9,0.9,0.9,0.9,0.9,0.9,0.9,0.9,0.9]},{\"hoverinfo\":\"none\",\"legendgroup\":\"Lose less than 5%\",\"marker\":{\"color\":\"#D2D2D2\",\"line\":{\"width\":0}},\"name\":\"Lose less than 5%\",\"offsetgroup\":\"Lose less than 5%\",\"orientation\":\"h\",\"showlegend\":false,\"text\":[\"14%\"],\"textangle\":0,\"textposition\":\"inside\",\"x\":[0.13631565538972465],\"xaxis\":\"x\",\"y\":[\"All\"],\"yaxis\":\"y\",\"type\":\"bar\",\"width\":[0.9,0.9,0.9,0.9,0.9,0.9,0.9,0.9,0.9,0.9]},{\"hoverinfo\":\"none\",\"legendgroup\":\"Lose more than 5%\",\"marker\":{\"color\":\"#616161\",\"line\":{\"width\":0}},\"name\":\"Lose more than 5%\",\"offsetgroup\":\"Lose more than 5%\",\"orientation\":\"h\",\"showlegend\":false,\"text\":[\"2%\"],\"textangle\":0,\"textposition\":\"inside\",\"x\":[0.016426572429520097],\"xaxis\":\"x\",\"y\":[\"All\"],\"yaxis\":\"y\",\"type\":\"bar\",\"width\":[0.9,0.9,0.9,0.9,0.9,0.9,0.9,0.9,0.9,0.9]},{\"hoverinfo\":\"none\",\"marker\":{\"color\":\"#2C6496\",\"line\":{\"width\":0}},\"name\":\"Gain more than 5%\",\"orientation\":\"h\",\"text\":[\"100%\",\"82%\",\"84%\",\"97%\",\"63%\",\"48%\",\"44%\",\"29%\",\"32%\",\"25%\"],\"textangle\":0,\"textposition\":\"inside\",\"x\":[0.9996998327127647,0.8165147526429051,0.8424070279611603,0.9730442547661865,0.6327276712331468,0.48270272001373626,0.43540690699014434,0.2893021514585345,0.31822226472389714,0.25489694661988777],\"xaxis\":\"x2\",\"y\":[1,2,3,4,5,6,7,8,9,10],\"yaxis\":\"y2\",\"type\":\"bar\",\"width\":[0.9,0.9,0.9,0.9,0.9,0.9,0.9,0.9,0.9,0.9]},{\"hoverinfo\":\"none\",\"marker\":{\"color\":\"#D8E6F3\",\"line\":{\"width\":0}},\"name\":\"Gain less than 5%\",\"orientation\":\"h\",\"text\":[\"0%\",\"18%\",\"14%\",\"0%\",\"34%\",\"50%\",\"50%\",\"34%\",\"14%\",\"17%\"],\"textangle\":0,\"textposition\":\"inside\",\"x\":[0.0003001672872352223,0.18348524735709493,0.14225377975059794,0.0,0.33974350635865624,0.5031925081657572,0.4958604792613573,0.34173634368629985,0.1444323072495632,0.16842102180049615],\"xaxis\":\"x2\",\"y\":[1,2,3,4,5,6,7,8,9,10],\"yaxis\":\"y2\",\"type\":\"bar\",\"width\":[0.9,0.9,0.9,0.9,0.9,0.9,0.9,0.9,0.9,0.9]},{\"hoverinfo\":\"none\",\"marker\":{\"color\":\"#FFFFFF\",\"line\":{\"width\":0}},\"name\":\"No change\",\"orientation\":\"h\",\"text\":[\"0%\",\"0%\",\"0%\",\"0%\",\"1%\",\"0%\",\"0%\",\"9%\",\"0%\",\"0%\"],\"textangle\":0,\"textposition\":\"inside\",\"x\":[0.0,0.0,0.004822225976315795,0.0,0.014234065699647806,0.0,0.0,0.08917154009216734,0.0,0.0],\"xaxis\":\"x2\",\"y\":[1,2,3,4,5,6,7,8,9,10],\"yaxis\":\"y2\",\"type\":\"bar\",\"width\":[0.9,0.9,0.9,0.9,0.9,0.9,0.9,0.9,0.9,0.9]},{\"hoverinfo\":\"none\",\"marker\":{\"color\":\"#D2D2D2\",\"line\":{\"width\":0}},\"name\":\"Lose less than 5%\",\"orientation\":\"h\",\"text\":[\"0%\",\"0%\",\"1%\",\"3%\",\"1%\",\"1%\",\"2%\",\"26%\",\"54%\",\"48%\"],\"textangle\":0,\"textposition\":\"inside\",\"x\":[0.0,0.0,0.010516966311925984,0.02695574523381347,0.013294756708549176,0.01410477182050651,0.01591550293357538,0.26417493929957475,0.5373454280265396,0.4808484435627617],\"xaxis\":\"x2\",\"y\":[1,2,3,4,5,6,7,8,9,10],\"yaxis\":\"y2\",\"type\":\"bar\",\"width\":[0.9,0.9,0.9,0.9,0.9,0.9,0.9,0.9,0.9,0.9]},{\"hoverinfo\":\"none\",\"marker\":{\"color\":\"#616161\",\"line\":{\"width\":0}},\"name\":\"Lose more than 5%\",\"orientation\":\"h\",\"text\":[\"0%\",\"0%\",\"0%\",\"0%\",\"0%\",\"0%\",\"5%\",\"2%\",\"0%\",\"10%\"],\"textangle\":0,\"textposition\":\"inside\",\"x\":[0.0,0.0,0.0,0.0,0.0,0.0,0.052817110814923,0.01561502546342354,0.0,0.09583358801685442],\"xaxis\":\"x2\",\"y\":[1,2,3,4,5,6,7,8,9,10],\"yaxis\":\"y2\",\"type\":\"bar\",\"width\":[0.9,0.9,0.9,0.9,0.9,0.9,0.9,0.9,0.9,0.9]}],\"layout\":{\"barmode\":\"stack\",\"grid\":{\"columns\":1,\"rows\":2},\"uniformtext\":{\"minsize\":10,\"mode\":\"hide\"},\"xaxis\":{\"anchor\":\"y\",\"matches\":\"x2\",\"showgrid\":false,\"showticklabels\":false,\"tickformat\":\".0%\",\"title\":{\"text\":\"\"}},\"yaxis\":{\"domain\":[0.91,1],\"tickvals\":[\"All\"],\"title\":{\"text\":\"\"}},\"xaxis2\":{\"anchor\":\"y2\",\"tickformat\":\".0%\",\"title\":{\"text\":\"Population share\"}},\"yaxis2\":{\"anchor\":\"x2\",\"domain\":[0,0.85],\"tickvals\":[1,2,3,4,5,6,7,8,9,10],\"title\":{\"text\":\"Income decile\"}},\"template\":{\"data\":{\"barpolar\":[{\"marker\":{\"line\":{\"color\":\"white\",\"width\":0.5},\"pattern\":{\"fillmode\":\"overlay\",\"size\":10,\"solidity\":0.2}},\"type\":\"barpolar\"}],\"bar\":[{\"error_x\":{\"color\":\"#2a3f5f\"},\"error_y\":{\"color\":\"#2a3f5f\"},\"marker\":{\"line\":{\"color\":\"white\",\"width\":0.5},\"pattern\":{\"fillmode\":\"overlay\",\"size\":10,\"solidity\":0.2}},\"type\":\"bar\"}],\"carpet\":[{\"aaxis\":{\"endlinecolor\":\"#2a3f5f\",\"gridcolor\":\"#C8D4E3\",\"linecolor\":\"#C8D4E3\",\"minorgridcolor\":\"#C8D4E3\",\"startlinecolor\":\"#2a3f5f\"},\"baxis\":{\"endlinecolor\":\"#2a3f5f\",\"gridcolor\":\"#C8D4E3\",\"linecolor\":\"#C8D4E3\",\"minorgridcolor\":\"#C8D4E3\",\"startlinecolor\":\"#2a3f5f\"},\"type\":\"carpet\"}],\"choropleth\":[{\"colorbar\":{\"outlinewidth\":0,\"ticks\":\"\"},\"type\":\"choropleth\"}],\"contourcarpet\":[{\"colorbar\":{\"outlinewidth\":0,\"ticks\":\"\"},\"type\":\"contourcarpet\"}],\"contour\":[{\"colorbar\":{\"outlinewidth\":0,\"ticks\":\"\"},\"colorscale\":[[0.0,\"#0d0887\"],[0.1111111111111111,\"#46039f\"],[0.2222222222222222,\"#7201a8\"],[0.3333333333333333,\"#9c179e\"],[0.4444444444444444,\"#bd3786\"],[0.5555555555555556,\"#d8576b\"],[0.6666666666666666,\"#ed7953\"],[0.7777777777777778,\"#fb9f3a\"],[0.8888888888888888,\"#fdca26\"],[1.0,\"#f0f921\"]],\"type\":\"contour\"}],\"heatmapgl\":[{\"colorbar\":{\"outlinewidth\":0,\"ticks\":\"\"},\"colorscale\":[[0.0,\"#0d0887\"],[0.1111111111111111,\"#46039f\"],[0.2222222222222222,\"#7201a8\"],[0.3333333333333333,\"#9c179e\"],[0.4444444444444444,\"#bd3786\"],[0.5555555555555556,\"#d8576b\"],[0.6666666666666666,\"#ed7953\"],[0.7777777777777778,\"#fb9f3a\"],[0.8888888888888888,\"#fdca26\"],[1.0,\"#f0f921\"]],\"type\":\"heatmapgl\"}],\"heatmap\":[{\"colorbar\":{\"outlinewidth\":0,\"ticks\":\"\"},\"colorscale\":[[0.0,\"#0d0887\"],[0.1111111111111111,\"#46039f\"],[0.2222222222222222,\"#7201a8\"],[0.3333333333333333,\"#9c179e\"],[0.4444444444444444,\"#bd3786\"],[0.5555555555555556,\"#d8576b\"],[0.6666666666666666,\"#ed7953\"],[0.7777777777777778,\"#fb9f3a\"],[0.8888888888888888,\"#fdca26\"],[1.0,\"#f0f921\"]],\"type\":\"heatmap\"}],\"histogram2dcontour\":[{\"colorbar\":{\"outlinewidth\":0,\"ticks\":\"\"},\"colorscale\":[[0.0,\"#0d0887\"],[0.1111111111111111,\"#46039f\"],[0.2222222222222222,\"#7201a8\"],[0.3333333333333333,\"#9c179e\"],[0.4444444444444444,\"#bd3786\"],[0.5555555555555556,\"#d8576b\"],[0.6666666666666666,\"#ed7953\"],[0.7777777777777778,\"#fb9f3a\"],[0.8888888888888888,\"#fdca26\"],[1.0,\"#f0f921\"]],\"type\":\"histogram2dcontour\"}],\"histogram2d\":[{\"colorbar\":{\"outlinewidth\":0,\"ticks\":\"\"},\"colorscale\":[[0.0,\"#0d0887\"],[0.1111111111111111,\"#46039f\"],[0.2222222222222222,\"#7201a8\"],[0.3333333333333333,\"#9c179e\"],[0.4444444444444444,\"#bd3786\"],[0.5555555555555556,\"#d8576b\"],[0.6666666666666666,\"#ed7953\"],[0.7777777777777778,\"#fb9f3a\"],[0.8888888888888888,\"#fdca26\"],[1.0,\"#f0f921\"]],\"type\":\"histogram2d\"}],\"histogram\":[{\"marker\":{\"pattern\":{\"fillmode\":\"overlay\",\"size\":10,\"solidity\":0.2}},\"type\":\"histogram\"}],\"mesh3d\":[{\"colorbar\":{\"outlinewidth\":0,\"ticks\":\"\"},\"type\":\"mesh3d\"}],\"parcoords\":[{\"line\":{\"colorbar\":{\"outlinewidth\":0,\"ticks\":\"\"}},\"type\":\"parcoords\"}],\"pie\":[{\"automargin\":true,\"type\":\"pie\"}],\"scatter3d\":[{\"line\":{\"colorbar\":{\"outlinewidth\":0,\"ticks\":\"\"}},\"marker\":{\"colorbar\":{\"outlinewidth\":0,\"ticks\":\"\"}},\"type\":\"scatter3d\"}],\"scattercarpet\":[{\"marker\":{\"colorbar\":{\"outlinewidth\":0,\"ticks\":\"\"}},\"type\":\"scattercarpet\"}],\"scattergeo\":[{\"marker\":{\"colorbar\":{\"outlinewidth\":0,\"ticks\":\"\"}},\"type\":\"scattergeo\"}],\"scattergl\":[{\"marker\":{\"colorbar\":{\"outlinewidth\":0,\"ticks\":\"\"}},\"type\":\"scattergl\"}],\"scattermapbox\":[{\"marker\":{\"colorbar\":{\"outlinewidth\":0,\"ticks\":\"\"}},\"type\":\"scattermapbox\"}],\"scatterpolargl\":[{\"marker\":{\"colorbar\":{\"outlinewidth\":0,\"ticks\":\"\"}},\"type\":\"scatterpolargl\"}],\"scatterpolar\":[{\"marker\":{\"colorbar\":{\"outlinewidth\":0,\"ticks\":\"\"}},\"type\":\"scatterpolar\"}],\"scatter\":[{\"fillpattern\":{\"fillmode\":\"overlay\",\"size\":10,\"solidity\":0.2},\"type\":\"scatter\"}],\"scatterternary\":[{\"marker\":{\"colorbar\":{\"outlinewidth\":0,\"ticks\":\"\"}},\"type\":\"scatterternary\"}],\"surface\":[{\"colorbar\":{\"outlinewidth\":0,\"ticks\":\"\"},\"colorscale\":[[0.0,\"#0d0887\"],[0.1111111111111111,\"#46039f\"],[0.2222222222222222,\"#7201a8\"],[0.3333333333333333,\"#9c179e\"],[0.4444444444444444,\"#bd3786\"],[0.5555555555555556,\"#d8576b\"],[0.6666666666666666,\"#ed7953\"],[0.7777777777777778,\"#fb9f3a\"],[0.8888888888888888,\"#fdca26\"],[1.0,\"#f0f921\"]],\"type\":\"surface\"}],\"table\":[{\"cells\":{\"fill\":{\"color\":\"#EBF0F8\"},\"line\":{\"color\":\"white\"}},\"header\":{\"fill\":{\"color\":\"#C8D4E3\"},\"line\":{\"color\":\"white\"}},\"type\":\"table\"}]},\"layout\":{\"annotationdefaults\":{\"arrowcolor\":\"#2a3f5f\",\"arrowhead\":0,\"arrowwidth\":1},\"autotypenumbers\":\"strict\",\"coloraxis\":{\"colorbar\":{\"outlinewidth\":0,\"ticks\":\"\"}},\"colorscale\":{\"diverging\":[[0,\"#8e0152\"],[0.1,\"#c51b7d\"],[0.2,\"#de77ae\"],[0.3,\"#f1b6da\"],[0.4,\"#fde0ef\"],[0.5,\"#f7f7f7\"],[0.6,\"#e6f5d0\"],[0.7,\"#b8e186\"],[0.8,\"#7fbc41\"],[0.9,\"#4d9221\"],[1,\"#276419\"]],\"sequential\":[[0.0,\"#0d0887\"],[0.1111111111111111,\"#46039f\"],[0.2222222222222222,\"#7201a8\"],[0.3333333333333333,\"#9c179e\"],[0.4444444444444444,\"#bd3786\"],[0.5555555555555556,\"#d8576b\"],[0.6666666666666666,\"#ed7953\"],[0.7777777777777778,\"#fb9f3a\"],[0.8888888888888888,\"#fdca26\"],[1.0,\"#f0f921\"]],\"sequentialminus\":[[0.0,\"#0d0887\"],[0.1111111111111111,\"#46039f\"],[0.2222222222222222,\"#7201a8\"],[0.3333333333333333,\"#9c179e\"],[0.4444444444444444,\"#bd3786\"],[0.5555555555555556,\"#d8576b\"],[0.6666666666666666,\"#ed7953\"],[0.7777777777777778,\"#fb9f3a\"],[0.8888888888888888,\"#fdca26\"],[1.0,\"#f0f921\"]]},\"colorway\":[\"#636efa\",\"#EF553B\",\"#00cc96\",\"#ab63fa\",\"#FFA15A\",\"#19d3f3\",\"#FF6692\",\"#B6E880\",\"#FF97FF\",\"#FECB52\"],\"font\":{\"color\":\"#2a3f5f\"},\"geo\":{\"bgcolor\":\"white\",\"lakecolor\":\"white\",\"landcolor\":\"white\",\"showlakes\":true,\"showland\":true,\"subunitcolor\":\"#C8D4E3\"},\"hoverlabel\":{\"align\":\"left\"},\"hovermode\":\"closest\",\"mapbox\":{\"style\":\"light\"},\"paper_bgcolor\":\"white\",\"plot_bgcolor\":\"white\",\"polar\":{\"angularaxis\":{\"gridcolor\":\"#EBF0F8\",\"linecolor\":\"#EBF0F8\",\"ticks\":\"\"},\"bgcolor\":\"white\",\"radialaxis\":{\"gridcolor\":\"#EBF0F8\",\"linecolor\":\"#EBF0F8\",\"ticks\":\"\"}},\"scene\":{\"xaxis\":{\"backgroundcolor\":\"white\",\"gridcolor\":\"#DFE8F3\",\"gridwidth\":2,\"linecolor\":\"#EBF0F8\",\"showbackground\":true,\"ticks\":\"\",\"zerolinecolor\":\"#EBF0F8\"},\"yaxis\":{\"backgroundcolor\":\"white\",\"gridcolor\":\"#DFE8F3\",\"gridwidth\":2,\"linecolor\":\"#EBF0F8\",\"showbackground\":true,\"ticks\":\"\",\"zerolinecolor\":\"#EBF0F8\"},\"zaxis\":{\"backgroundcolor\":\"white\",\"gridcolor\":\"#DFE8F3\",\"gridwidth\":2,\"linecolor\":\"#EBF0F8\",\"showbackground\":true,\"ticks\":\"\",\"zerolinecolor\":\"#EBF0F8\"}},\"shapedefaults\":{\"line\":{\"color\":\"#2a3f5f\"}},\"ternary\":{\"aaxis\":{\"gridcolor\":\"#DFE8F3\",\"linecolor\":\"#A2B1C6\",\"ticks\":\"\"},\"baxis\":{\"gridcolor\":\"#DFE8F3\",\"linecolor\":\"#A2B1C6\",\"ticks\":\"\"},\"bgcolor\":\"white\",\"caxis\":{\"gridcolor\":\"#DFE8F3\",\"linecolor\":\"#A2B1C6\",\"ticks\":\"\"}},\"title\":{\"x\":0.05},\"xaxis\":{\"automargin\":true,\"gridcolor\":\"#EBF0F8\",\"linecolor\":\"#EBF0F8\",\"ticks\":\"\",\"title\":{\"standoff\":15},\"zerolinecolor\":\"#EBF0F8\",\"zerolinewidth\":2},\"yaxis\":{\"automargin\":true,\"gridcolor\":\"#EBF0F8\",\"linecolor\":\"#EBF0F8\",\"ticks\":\"\",\"title\":{\"standoff\":15},\"zerolinecolor\":\"#EBF0F8\",\"zerolinewidth\":2}}},\"font\":{\"family\":\"Roboto Serif\",\"color\":\"black\"},\"images\":[{\"sizex\":0.2,\"sizey\":0.2,\"source\":\"https://raw.githubusercontent.com/PolicyEngine/policyengine-app/master/src/images/logos/policyengine/blue.png\",\"x\":1,\"xanchor\":\"right\",\"xref\":\"paper\",\"y\":-0.15,\"yanchor\":\"bottom\",\"yref\":\"paper\"}],\"height\":600,\"width\":800,\"modebar\":{\"bgcolor\":\"rgba(0,0,0,0)\",\"color\":\"rgba(0,0,0,0)\"},\"legend\":{\"orientation\":\"h\",\"yanchor\":\"bottom\",\"y\":-0.3},\"title\":{\"text\":\"Figure 6: Outcome distribution by income decile under a \\\\u00a3300 per month UBI\"}}}'"
      ]
     },
     "execution_count": 27,
     "metadata": {},
     "output_type": "execute_result"
    }
   ],
   "source": [
    "intra_decile_chart(\n",
    "    \"uk\",\n",
    "    model_2_reform.api_id,\n",
    "    \"ni\",\n",
    "    \"2023\",\n",
    ").update_layout(\n",
    "    title=\"Figure 6: Outcome distribution by income decile under a £300 per month UBI\",\n",
    "    legend=dict(\n",
    "        orientation=\"h\",\n",
    "        yanchor=\"bottom\",\n",
    "        y=-0.3,\n",
    "    )\n",
    ").to_json()"
   ]
  },
  {
   "cell_type": "markdown",
   "metadata": {},
   "source": [
    "## [£400 per month option](http://localhost:3000/uk/policy?reform=31961&focus=policyOutput.decileRelativeImpact&region=ni&timePeriod=2023&baseline=1)\n",
    "\n",
    "_£400 per month for adults, funded by repealing the personal allowance and increasing the basic rate by 8.9p_\n",
    "\n",
    "The most generous basic income policy considered is £400 per month for adults, funded by repealing the personal allowance and raising the basic rate to 28.9%, creating a non-progressive nominal tax schedule (though note that the full tax-benefit schedule is already non-progressive). With a total redistribution of £5.1bn in via tax revenues and £7.3bn out via benefit outlays (including the Westminster-ass), 54% of individuals see an increase in disposable income. The bottom decile sees an increase of 69% in disposable income, and the bottom sees a fall of 15%.\n"
   ]
  },
  {
   "cell_type": "code",
   "execution_count": 13,
   "metadata": {
    "tags": [
     "hide-input"
    ]
   },
   "outputs": [
    {
     "data": {
      "text/plain": [
       "'{\"data\":[{\"marker\":{\"color\":[\"#2C6496\",\"#2C6496\",\"#2C6496\",\"#2C6496\",\"#2C6496\",\"#2C6496\",\"#2C6496\",\"#2C6496\",\"#2C6496\",\"#2C6496\"]},\"text\":[\"+33.1%\",\"+18.8%\",\"+14.9%\",\"+12.2%\",\"+9.4%\",\"+6.0%\",\"+4.4%\",\"+2.0%\",\"+0.5%\",\"+0.4%\"],\"textangle\":0,\"x\":[1,2,3,4,5,6,7,8,9,10],\"y\":[0.3314212033049109,0.18844368387500368,0.14906671218349568,0.12178905369699923,0.09393701377684541,0.06049740556400914,0.04396620189936082,0.01989219289889418,0.00497631725609387,0.004240696488929795],\"type\":\"bar\"}],\"layout\":{\"uniformtext\":{\"minsize\":8,\"mode\":\"hide\"},\"xaxis\":{\"tickvals\":[1,2,3,4,5,6,7,8,9,10],\"title\":{\"text\":\"Income decile\"}},\"yaxis\":{\"tickformat\":\"+,.0%\",\"title\":{\"text\":\"Relative change\"}},\"template\":{\"data\":{\"barpolar\":[{\"marker\":{\"line\":{\"color\":\"white\",\"width\":0.5},\"pattern\":{\"fillmode\":\"overlay\",\"size\":10,\"solidity\":0.2}},\"type\":\"barpolar\"}],\"bar\":[{\"error_x\":{\"color\":\"#2a3f5f\"},\"error_y\":{\"color\":\"#2a3f5f\"},\"marker\":{\"line\":{\"color\":\"white\",\"width\":0.5},\"pattern\":{\"fillmode\":\"overlay\",\"size\":10,\"solidity\":0.2}},\"type\":\"bar\"}],\"carpet\":[{\"aaxis\":{\"endlinecolor\":\"#2a3f5f\",\"gridcolor\":\"#C8D4E3\",\"linecolor\":\"#C8D4E3\",\"minorgridcolor\":\"#C8D4E3\",\"startlinecolor\":\"#2a3f5f\"},\"baxis\":{\"endlinecolor\":\"#2a3f5f\",\"gridcolor\":\"#C8D4E3\",\"linecolor\":\"#C8D4E3\",\"minorgridcolor\":\"#C8D4E3\",\"startlinecolor\":\"#2a3f5f\"},\"type\":\"carpet\"}],\"choropleth\":[{\"colorbar\":{\"outlinewidth\":0,\"ticks\":\"\"},\"type\":\"choropleth\"}],\"contourcarpet\":[{\"colorbar\":{\"outlinewidth\":0,\"ticks\":\"\"},\"type\":\"contourcarpet\"}],\"contour\":[{\"colorbar\":{\"outlinewidth\":0,\"ticks\":\"\"},\"colorscale\":[[0.0,\"#0d0887\"],[0.1111111111111111,\"#46039f\"],[0.2222222222222222,\"#7201a8\"],[0.3333333333333333,\"#9c179e\"],[0.4444444444444444,\"#bd3786\"],[0.5555555555555556,\"#d8576b\"],[0.6666666666666666,\"#ed7953\"],[0.7777777777777778,\"#fb9f3a\"],[0.8888888888888888,\"#fdca26\"],[1.0,\"#f0f921\"]],\"type\":\"contour\"}],\"heatmapgl\":[{\"colorbar\":{\"outlinewidth\":0,\"ticks\":\"\"},\"colorscale\":[[0.0,\"#0d0887\"],[0.1111111111111111,\"#46039f\"],[0.2222222222222222,\"#7201a8\"],[0.3333333333333333,\"#9c179e\"],[0.4444444444444444,\"#bd3786\"],[0.5555555555555556,\"#d8576b\"],[0.6666666666666666,\"#ed7953\"],[0.7777777777777778,\"#fb9f3a\"],[0.8888888888888888,\"#fdca26\"],[1.0,\"#f0f921\"]],\"type\":\"heatmapgl\"}],\"heatmap\":[{\"colorbar\":{\"outlinewidth\":0,\"ticks\":\"\"},\"colorscale\":[[0.0,\"#0d0887\"],[0.1111111111111111,\"#46039f\"],[0.2222222222222222,\"#7201a8\"],[0.3333333333333333,\"#9c179e\"],[0.4444444444444444,\"#bd3786\"],[0.5555555555555556,\"#d8576b\"],[0.6666666666666666,\"#ed7953\"],[0.7777777777777778,\"#fb9f3a\"],[0.8888888888888888,\"#fdca26\"],[1.0,\"#f0f921\"]],\"type\":\"heatmap\"}],\"histogram2dcontour\":[{\"colorbar\":{\"outlinewidth\":0,\"ticks\":\"\"},\"colorscale\":[[0.0,\"#0d0887\"],[0.1111111111111111,\"#46039f\"],[0.2222222222222222,\"#7201a8\"],[0.3333333333333333,\"#9c179e\"],[0.4444444444444444,\"#bd3786\"],[0.5555555555555556,\"#d8576b\"],[0.6666666666666666,\"#ed7953\"],[0.7777777777777778,\"#fb9f3a\"],[0.8888888888888888,\"#fdca26\"],[1.0,\"#f0f921\"]],\"type\":\"histogram2dcontour\"}],\"histogram2d\":[{\"colorbar\":{\"outlinewidth\":0,\"ticks\":\"\"},\"colorscale\":[[0.0,\"#0d0887\"],[0.1111111111111111,\"#46039f\"],[0.2222222222222222,\"#7201a8\"],[0.3333333333333333,\"#9c179e\"],[0.4444444444444444,\"#bd3786\"],[0.5555555555555556,\"#d8576b\"],[0.6666666666666666,\"#ed7953\"],[0.7777777777777778,\"#fb9f3a\"],[0.8888888888888888,\"#fdca26\"],[1.0,\"#f0f921\"]],\"type\":\"histogram2d\"}],\"histogram\":[{\"marker\":{\"pattern\":{\"fillmode\":\"overlay\",\"size\":10,\"solidity\":0.2}},\"type\":\"histogram\"}],\"mesh3d\":[{\"colorbar\":{\"outlinewidth\":0,\"ticks\":\"\"},\"type\":\"mesh3d\"}],\"parcoords\":[{\"line\":{\"colorbar\":{\"outlinewidth\":0,\"ticks\":\"\"}},\"type\":\"parcoords\"}],\"pie\":[{\"automargin\":true,\"type\":\"pie\"}],\"scatter3d\":[{\"line\":{\"colorbar\":{\"outlinewidth\":0,\"ticks\":\"\"}},\"marker\":{\"colorbar\":{\"outlinewidth\":0,\"ticks\":\"\"}},\"type\":\"scatter3d\"}],\"scattercarpet\":[{\"marker\":{\"colorbar\":{\"outlinewidth\":0,\"ticks\":\"\"}},\"type\":\"scattercarpet\"}],\"scattergeo\":[{\"marker\":{\"colorbar\":{\"outlinewidth\":0,\"ticks\":\"\"}},\"type\":\"scattergeo\"}],\"scattergl\":[{\"marker\":{\"colorbar\":{\"outlinewidth\":0,\"ticks\":\"\"}},\"type\":\"scattergl\"}],\"scattermapbox\":[{\"marker\":{\"colorbar\":{\"outlinewidth\":0,\"ticks\":\"\"}},\"type\":\"scattermapbox\"}],\"scatterpolargl\":[{\"marker\":{\"colorbar\":{\"outlinewidth\":0,\"ticks\":\"\"}},\"type\":\"scatterpolargl\"}],\"scatterpolar\":[{\"marker\":{\"colorbar\":{\"outlinewidth\":0,\"ticks\":\"\"}},\"type\":\"scatterpolar\"}],\"scatter\":[{\"fillpattern\":{\"fillmode\":\"overlay\",\"size\":10,\"solidity\":0.2},\"type\":\"scatter\"}],\"scatterternary\":[{\"marker\":{\"colorbar\":{\"outlinewidth\":0,\"ticks\":\"\"}},\"type\":\"scatterternary\"}],\"surface\":[{\"colorbar\":{\"outlinewidth\":0,\"ticks\":\"\"},\"colorscale\":[[0.0,\"#0d0887\"],[0.1111111111111111,\"#46039f\"],[0.2222222222222222,\"#7201a8\"],[0.3333333333333333,\"#9c179e\"],[0.4444444444444444,\"#bd3786\"],[0.5555555555555556,\"#d8576b\"],[0.6666666666666666,\"#ed7953\"],[0.7777777777777778,\"#fb9f3a\"],[0.8888888888888888,\"#fdca26\"],[1.0,\"#f0f921\"]],\"type\":\"surface\"}],\"table\":[{\"cells\":{\"fill\":{\"color\":\"#EBF0F8\"},\"line\":{\"color\":\"white\"}},\"header\":{\"fill\":{\"color\":\"#C8D4E3\"},\"line\":{\"color\":\"white\"}},\"type\":\"table\"}]},\"layout\":{\"annotationdefaults\":{\"arrowcolor\":\"#2a3f5f\",\"arrowhead\":0,\"arrowwidth\":1},\"autotypenumbers\":\"strict\",\"coloraxis\":{\"colorbar\":{\"outlinewidth\":0,\"ticks\":\"\"}},\"colorscale\":{\"diverging\":[[0,\"#8e0152\"],[0.1,\"#c51b7d\"],[0.2,\"#de77ae\"],[0.3,\"#f1b6da\"],[0.4,\"#fde0ef\"],[0.5,\"#f7f7f7\"],[0.6,\"#e6f5d0\"],[0.7,\"#b8e186\"],[0.8,\"#7fbc41\"],[0.9,\"#4d9221\"],[1,\"#276419\"]],\"sequential\":[[0.0,\"#0d0887\"],[0.1111111111111111,\"#46039f\"],[0.2222222222222222,\"#7201a8\"],[0.3333333333333333,\"#9c179e\"],[0.4444444444444444,\"#bd3786\"],[0.5555555555555556,\"#d8576b\"],[0.6666666666666666,\"#ed7953\"],[0.7777777777777778,\"#fb9f3a\"],[0.8888888888888888,\"#fdca26\"],[1.0,\"#f0f921\"]],\"sequentialminus\":[[0.0,\"#0d0887\"],[0.1111111111111111,\"#46039f\"],[0.2222222222222222,\"#7201a8\"],[0.3333333333333333,\"#9c179e\"],[0.4444444444444444,\"#bd3786\"],[0.5555555555555556,\"#d8576b\"],[0.6666666666666666,\"#ed7953\"],[0.7777777777777778,\"#fb9f3a\"],[0.8888888888888888,\"#fdca26\"],[1.0,\"#f0f921\"]]},\"colorway\":[\"#636efa\",\"#EF553B\",\"#00cc96\",\"#ab63fa\",\"#FFA15A\",\"#19d3f3\",\"#FF6692\",\"#B6E880\",\"#FF97FF\",\"#FECB52\"],\"font\":{\"color\":\"#2a3f5f\"},\"geo\":{\"bgcolor\":\"white\",\"lakecolor\":\"white\",\"landcolor\":\"white\",\"showlakes\":true,\"showland\":true,\"subunitcolor\":\"#C8D4E3\"},\"hoverlabel\":{\"align\":\"left\"},\"hovermode\":\"closest\",\"mapbox\":{\"style\":\"light\"},\"paper_bgcolor\":\"white\",\"plot_bgcolor\":\"white\",\"polar\":{\"angularaxis\":{\"gridcolor\":\"#EBF0F8\",\"linecolor\":\"#EBF0F8\",\"ticks\":\"\"},\"bgcolor\":\"white\",\"radialaxis\":{\"gridcolor\":\"#EBF0F8\",\"linecolor\":\"#EBF0F8\",\"ticks\":\"\"}},\"scene\":{\"xaxis\":{\"backgroundcolor\":\"white\",\"gridcolor\":\"#DFE8F3\",\"gridwidth\":2,\"linecolor\":\"#EBF0F8\",\"showbackground\":true,\"ticks\":\"\",\"zerolinecolor\":\"#EBF0F8\"},\"yaxis\":{\"backgroundcolor\":\"white\",\"gridcolor\":\"#DFE8F3\",\"gridwidth\":2,\"linecolor\":\"#EBF0F8\",\"showbackground\":true,\"ticks\":\"\",\"zerolinecolor\":\"#EBF0F8\"},\"zaxis\":{\"backgroundcolor\":\"white\",\"gridcolor\":\"#DFE8F3\",\"gridwidth\":2,\"linecolor\":\"#EBF0F8\",\"showbackground\":true,\"ticks\":\"\",\"zerolinecolor\":\"#EBF0F8\"}},\"shapedefaults\":{\"line\":{\"color\":\"#2a3f5f\"}},\"ternary\":{\"aaxis\":{\"gridcolor\":\"#DFE8F3\",\"linecolor\":\"#A2B1C6\",\"ticks\":\"\"},\"baxis\":{\"gridcolor\":\"#DFE8F3\",\"linecolor\":\"#A2B1C6\",\"ticks\":\"\"},\"bgcolor\":\"white\",\"caxis\":{\"gridcolor\":\"#DFE8F3\",\"linecolor\":\"#A2B1C6\",\"ticks\":\"\"}},\"title\":{\"x\":0.05},\"xaxis\":{\"automargin\":true,\"gridcolor\":\"#EBF0F8\",\"linecolor\":\"#EBF0F8\",\"ticks\":\"\",\"title\":{\"standoff\":15},\"zerolinecolor\":\"#EBF0F8\",\"zerolinewidth\":2},\"yaxis\":{\"automargin\":true,\"gridcolor\":\"#EBF0F8\",\"linecolor\":\"#EBF0F8\",\"ticks\":\"\",\"title\":{\"standoff\":15},\"zerolinecolor\":\"#EBF0F8\",\"zerolinewidth\":2}}},\"font\":{\"family\":\"Roboto Serif\",\"color\":\"black\"},\"images\":[{\"sizex\":0.2,\"sizey\":0.2,\"source\":\"https://raw.githubusercontent.com/PolicyEngine/policyengine-app/master/src/images/logos/policyengine/blue.png\",\"x\":1,\"xanchor\":\"right\",\"xref\":\"paper\",\"y\":-0.15,\"yanchor\":\"bottom\",\"yref\":\"paper\"}],\"height\":600,\"width\":800,\"modebar\":{\"bgcolor\":\"rgba(0,0,0,0)\",\"color\":\"rgba(0,0,0,0)\"},\"title\":{\"text\":\"Figure 7: Change to net income by income decile under a \\\\u00a3400 per month UBI\"}}}'"
      ]
     },
     "execution_count": 13,
     "metadata": {},
     "output_type": "execute_result"
    }
   ],
   "source": [
    "decile_chart(\n",
    "    \"uk\",\n",
    "    model_3_reform.api_id,\n",
    "    \"ni\",\n",
    "    \"2023\",\n",
    ").update_layout(\n",
    "    title=\"Figure 7: Change to net income by income decile under a £400 per month UBI\"\n",
    ").to_json()"
   ]
  },
  {
   "cell_type": "markdown",
   "metadata": {},
   "source": [
    "Unlike the previous two policies at £200 and £300 per month, the £400 per month basic income policy leaves no households in the lowest income decile worse off. The share of individuals who see gains greater than 5% rises slightly to 45%, suggesting that it is nearing its maximum under this policy structure.\n"
   ]
  },
  {
   "cell_type": "code",
   "execution_count": 14,
   "metadata": {
    "tags": [
     "hide-input"
    ]
   },
   "outputs": [
    {
     "data": {
      "text/plain": [
       "'{\"data\":[{\"hoverinfo\":\"none\",\"legendgroup\":\"Gain more than 5%\",\"marker\":{\"color\":\"#2C6496\",\"line\":{\"width\":0}},\"name\":\"Gain more than 5%\",\"offsetgroup\":\"Gain more than 5%\",\"orientation\":\"h\",\"showlegend\":false,\"text\":[\"67%\"],\"textangle\":0,\"textposition\":\"inside\",\"x\":[0.6684116750664334],\"xaxis\":\"x\",\"y\":[\"All\"],\"yaxis\":\"y\",\"type\":\"bar\",\"width\":[0.9,0.9,0.9,0.9,0.9,0.9,0.9,0.9,0.9,0.9]},{\"hoverinfo\":\"none\",\"legendgroup\":\"Gain less than 5%\",\"marker\":{\"color\":\"#D8E6F3\",\"line\":{\"width\":0}},\"name\":\"Gain less than 5%\",\"offsetgroup\":\"Gain less than 5%\",\"orientation\":\"h\",\"showlegend\":false,\"text\":[\"15%\"],\"textangle\":0,\"textposition\":\"inside\",\"x\":[0.14526717574613518],\"xaxis\":\"x\",\"y\":[\"All\"],\"yaxis\":\"y\",\"type\":\"bar\",\"width\":[0.9,0.9,0.9,0.9,0.9,0.9,0.9,0.9,0.9,0.9]},{\"hoverinfo\":\"none\",\"legendgroup\":\"No change\",\"marker\":{\"color\":\"#FFFFFF\",\"line\":{\"width\":0}},\"name\":\"No change\",\"offsetgroup\":\"No change\",\"orientation\":\"h\",\"showlegend\":false,\"text\":[\"0%\"],\"textangle\":0,\"textposition\":\"inside\",\"x\":[0.0029510520074102578],\"xaxis\":\"x\",\"y\":[\"All\"],\"yaxis\":\"y\",\"type\":\"bar\",\"width\":[0.9,0.9,0.9,0.9,0.9,0.9,0.9,0.9,0.9,0.9]},{\"hoverinfo\":\"none\",\"legendgroup\":\"Lose less than 5%\",\"marker\":{\"color\":\"#D2D2D2\",\"line\":{\"width\":0}},\"name\":\"Lose less than 5%\",\"offsetgroup\":\"Lose less than 5%\",\"orientation\":\"h\",\"showlegend\":false,\"text\":[\"11%\"],\"textangle\":0,\"textposition\":\"inside\",\"x\":[0.10973475715921661],\"xaxis\":\"x\",\"y\":[\"All\"],\"yaxis\":\"y\",\"type\":\"bar\",\"width\":[0.9,0.9,0.9,0.9,0.9,0.9,0.9,0.9,0.9,0.9]},{\"hoverinfo\":\"none\",\"legendgroup\":\"Lose more than 5%\",\"marker\":{\"color\":\"#616161\",\"line\":{\"width\":0}},\"name\":\"Lose more than 5%\",\"offsetgroup\":\"Lose more than 5%\",\"orientation\":\"h\",\"showlegend\":false,\"text\":[\"7%\"],\"textangle\":0,\"textposition\":\"inside\",\"x\":[0.07363534002080456],\"xaxis\":\"x\",\"y\":[\"All\"],\"yaxis\":\"y\",\"type\":\"bar\",\"width\":[0.9,0.9,0.9,0.9,0.9,0.9,0.9,0.9,0.9,0.9]},{\"hoverinfo\":\"none\",\"marker\":{\"color\":\"#2C6496\",\"line\":{\"width\":0}},\"name\":\"Gain more than 5%\",\"orientation\":\"h\",\"text\":[\"100%\",\"87%\",\"85%\",\"97%\",\"88%\",\"61%\",\"45%\",\"33%\",\"35%\",\"37%\"],\"textangle\":0,\"textposition\":\"inside\",\"x\":[0.9996998327127647,0.8672362046685002,0.8526408215508738,0.9730442547661865,0.8826156618474019,0.6108827252654491,0.4493383436110654,0.3304915185160127,0.3496389235296894,0.36852846419639007],\"xaxis\":\"x2\",\"y\":[1,2,3,4,5,6,7,8,9,10],\"yaxis\":\"y2\",\"type\":\"bar\",\"width\":[0.9,0.9,0.9,0.9,0.9,0.9,0.9,0.9,0.9,0.9]},{\"hoverinfo\":\"none\",\"marker\":{\"color\":\"#D8E6F3\",\"line\":{\"width\":0}},\"name\":\"Gain less than 5%\",\"orientation\":\"h\",\"text\":[\"0%\",\"12%\",\"3%\",\"0%\",\"9%\",\"38%\",\"37%\",\"12%\",\"11%\",\"24%\"],\"textangle\":0,\"textposition\":\"inside\",\"x\":[0.0003001672872352223,0.11675000946453544,0.03298699966822044,0.0,0.08985551574440105,0.3750125029140444,0.369145692759686,0.11824473248856127,0.11301564844377093,0.23736048869089704],\"xaxis\":\"x2\",\"y\":[1,2,3,4,5,6,7,8,9,10],\"yaxis\":\"y2\",\"type\":\"bar\",\"width\":[0.9,0.9,0.9,0.9,0.9,0.9,0.9,0.9,0.9,0.9]},{\"hoverinfo\":\"none\",\"marker\":{\"color\":\"#FFFFFF\",\"line\":{\"width\":0}},\"name\":\"No change\",\"orientation\":\"h\",\"text\":[\"0%\",\"0%\",\"2%\",\"0%\",\"0%\",\"0%\",\"0%\",\"1%\",\"0%\",\"0%\"],\"textangle\":0,\"textposition\":\"inside\",\"x\":[0.0,0.0,0.015611931529554373,0.0,0.0,0.0,0.0023450080161468772,0.011553580528401325,0.0,0.0],\"xaxis\":\"x2\",\"y\":[1,2,3,4,5,6,7,8,9,10],\"yaxis\":\"y2\",\"type\":\"bar\",\"width\":[0.9,0.9,0.9,0.9,0.9,0.9,0.9,0.9,0.9,0.9]},{\"hoverinfo\":\"none\",\"marker\":{\"color\":\"#D2D2D2\",\"line\":{\"width\":0}},\"name\":\"Lose less than 5%\",\"orientation\":\"h\",\"text\":[\"0%\",\"2%\",\"10%\",\"1%\",\"1%\",\"0%\",\"11%\",\"51%\",\"14%\",\"20%\"],\"textangle\":0,\"textposition\":\"inside\",\"x\":[0.0,0.016013785866964395,0.09876024725135131,0.006765791115626283,0.014234065699647806,0.0,0.11043834186460338,0.5065528330520739,0.14109299858155794,0.20348950816034106],\"xaxis\":\"x2\",\"y\":[1,2,3,4,5,6,7,8,9,10],\"yaxis\":\"y2\",\"type\":\"bar\",\"width\":[0.9,0.9,0.9,0.9,0.9,0.9,0.9,0.9,0.9,0.9]},{\"hoverinfo\":\"none\",\"marker\":{\"color\":\"#616161\",\"line\":{\"width\":0}},\"name\":\"Lose more than 5%\",\"orientation\":\"h\",\"text\":[\"0%\",\"0%\",\"0%\",\"2%\",\"1%\",\"1%\",\"7%\",\"3%\",\"40%\",\"19%\"],\"textangle\":0,\"textposition\":\"inside\",\"x\":[0.0,0.0,0.0,0.020189954118187185,0.013294756708549176,0.01410477182050651,0.06873261374849837,0.03315733541495087,0.39625242944498174,0.19062153895237183],\"xaxis\":\"x2\",\"y\":[1,2,3,4,5,6,7,8,9,10],\"yaxis\":\"y2\",\"type\":\"bar\",\"width\":[0.9,0.9,0.9,0.9,0.9,0.9,0.9,0.9,0.9,0.9]}],\"layout\":{\"barmode\":\"stack\",\"grid\":{\"columns\":1,\"rows\":2},\"uniformtext\":{\"minsize\":10,\"mode\":\"hide\"},\"xaxis\":{\"anchor\":\"y\",\"matches\":\"x2\",\"showgrid\":false,\"showticklabels\":false,\"tickformat\":\".0%\",\"title\":{\"text\":\"\"}},\"yaxis\":{\"domain\":[0.91,1],\"tickvals\":[\"All\"],\"title\":{\"text\":\"\"}},\"xaxis2\":{\"anchor\":\"y2\",\"tickformat\":\".0%\",\"title\":{\"text\":\"Population share\"}},\"yaxis2\":{\"anchor\":\"x2\",\"domain\":[0,0.85],\"tickvals\":[1,2,3,4,5,6,7,8,9,10],\"title\":{\"text\":\"Income decile\"}},\"template\":{\"data\":{\"barpolar\":[{\"marker\":{\"line\":{\"color\":\"white\",\"width\":0.5},\"pattern\":{\"fillmode\":\"overlay\",\"size\":10,\"solidity\":0.2}},\"type\":\"barpolar\"}],\"bar\":[{\"error_x\":{\"color\":\"#2a3f5f\"},\"error_y\":{\"color\":\"#2a3f5f\"},\"marker\":{\"line\":{\"color\":\"white\",\"width\":0.5},\"pattern\":{\"fillmode\":\"overlay\",\"size\":10,\"solidity\":0.2}},\"type\":\"bar\"}],\"carpet\":[{\"aaxis\":{\"endlinecolor\":\"#2a3f5f\",\"gridcolor\":\"#C8D4E3\",\"linecolor\":\"#C8D4E3\",\"minorgridcolor\":\"#C8D4E3\",\"startlinecolor\":\"#2a3f5f\"},\"baxis\":{\"endlinecolor\":\"#2a3f5f\",\"gridcolor\":\"#C8D4E3\",\"linecolor\":\"#C8D4E3\",\"minorgridcolor\":\"#C8D4E3\",\"startlinecolor\":\"#2a3f5f\"},\"type\":\"carpet\"}],\"choropleth\":[{\"colorbar\":{\"outlinewidth\":0,\"ticks\":\"\"},\"type\":\"choropleth\"}],\"contourcarpet\":[{\"colorbar\":{\"outlinewidth\":0,\"ticks\":\"\"},\"type\":\"contourcarpet\"}],\"contour\":[{\"colorbar\":{\"outlinewidth\":0,\"ticks\":\"\"},\"colorscale\":[[0.0,\"#0d0887\"],[0.1111111111111111,\"#46039f\"],[0.2222222222222222,\"#7201a8\"],[0.3333333333333333,\"#9c179e\"],[0.4444444444444444,\"#bd3786\"],[0.5555555555555556,\"#d8576b\"],[0.6666666666666666,\"#ed7953\"],[0.7777777777777778,\"#fb9f3a\"],[0.8888888888888888,\"#fdca26\"],[1.0,\"#f0f921\"]],\"type\":\"contour\"}],\"heatmapgl\":[{\"colorbar\":{\"outlinewidth\":0,\"ticks\":\"\"},\"colorscale\":[[0.0,\"#0d0887\"],[0.1111111111111111,\"#46039f\"],[0.2222222222222222,\"#7201a8\"],[0.3333333333333333,\"#9c179e\"],[0.4444444444444444,\"#bd3786\"],[0.5555555555555556,\"#d8576b\"],[0.6666666666666666,\"#ed7953\"],[0.7777777777777778,\"#fb9f3a\"],[0.8888888888888888,\"#fdca26\"],[1.0,\"#f0f921\"]],\"type\":\"heatmapgl\"}],\"heatmap\":[{\"colorbar\":{\"outlinewidth\":0,\"ticks\":\"\"},\"colorscale\":[[0.0,\"#0d0887\"],[0.1111111111111111,\"#46039f\"],[0.2222222222222222,\"#7201a8\"],[0.3333333333333333,\"#9c179e\"],[0.4444444444444444,\"#bd3786\"],[0.5555555555555556,\"#d8576b\"],[0.6666666666666666,\"#ed7953\"],[0.7777777777777778,\"#fb9f3a\"],[0.8888888888888888,\"#fdca26\"],[1.0,\"#f0f921\"]],\"type\":\"heatmap\"}],\"histogram2dcontour\":[{\"colorbar\":{\"outlinewidth\":0,\"ticks\":\"\"},\"colorscale\":[[0.0,\"#0d0887\"],[0.1111111111111111,\"#46039f\"],[0.2222222222222222,\"#7201a8\"],[0.3333333333333333,\"#9c179e\"],[0.4444444444444444,\"#bd3786\"],[0.5555555555555556,\"#d8576b\"],[0.6666666666666666,\"#ed7953\"],[0.7777777777777778,\"#fb9f3a\"],[0.8888888888888888,\"#fdca26\"],[1.0,\"#f0f921\"]],\"type\":\"histogram2dcontour\"}],\"histogram2d\":[{\"colorbar\":{\"outlinewidth\":0,\"ticks\":\"\"},\"colorscale\":[[0.0,\"#0d0887\"],[0.1111111111111111,\"#46039f\"],[0.2222222222222222,\"#7201a8\"],[0.3333333333333333,\"#9c179e\"],[0.4444444444444444,\"#bd3786\"],[0.5555555555555556,\"#d8576b\"],[0.6666666666666666,\"#ed7953\"],[0.7777777777777778,\"#fb9f3a\"],[0.8888888888888888,\"#fdca26\"],[1.0,\"#f0f921\"]],\"type\":\"histogram2d\"}],\"histogram\":[{\"marker\":{\"pattern\":{\"fillmode\":\"overlay\",\"size\":10,\"solidity\":0.2}},\"type\":\"histogram\"}],\"mesh3d\":[{\"colorbar\":{\"outlinewidth\":0,\"ticks\":\"\"},\"type\":\"mesh3d\"}],\"parcoords\":[{\"line\":{\"colorbar\":{\"outlinewidth\":0,\"ticks\":\"\"}},\"type\":\"parcoords\"}],\"pie\":[{\"automargin\":true,\"type\":\"pie\"}],\"scatter3d\":[{\"line\":{\"colorbar\":{\"outlinewidth\":0,\"ticks\":\"\"}},\"marker\":{\"colorbar\":{\"outlinewidth\":0,\"ticks\":\"\"}},\"type\":\"scatter3d\"}],\"scattercarpet\":[{\"marker\":{\"colorbar\":{\"outlinewidth\":0,\"ticks\":\"\"}},\"type\":\"scattercarpet\"}],\"scattergeo\":[{\"marker\":{\"colorbar\":{\"outlinewidth\":0,\"ticks\":\"\"}},\"type\":\"scattergeo\"}],\"scattergl\":[{\"marker\":{\"colorbar\":{\"outlinewidth\":0,\"ticks\":\"\"}},\"type\":\"scattergl\"}],\"scattermapbox\":[{\"marker\":{\"colorbar\":{\"outlinewidth\":0,\"ticks\":\"\"}},\"type\":\"scattermapbox\"}],\"scatterpolargl\":[{\"marker\":{\"colorbar\":{\"outlinewidth\":0,\"ticks\":\"\"}},\"type\":\"scatterpolargl\"}],\"scatterpolar\":[{\"marker\":{\"colorbar\":{\"outlinewidth\":0,\"ticks\":\"\"}},\"type\":\"scatterpolar\"}],\"scatter\":[{\"fillpattern\":{\"fillmode\":\"overlay\",\"size\":10,\"solidity\":0.2},\"type\":\"scatter\"}],\"scatterternary\":[{\"marker\":{\"colorbar\":{\"outlinewidth\":0,\"ticks\":\"\"}},\"type\":\"scatterternary\"}],\"surface\":[{\"colorbar\":{\"outlinewidth\":0,\"ticks\":\"\"},\"colorscale\":[[0.0,\"#0d0887\"],[0.1111111111111111,\"#46039f\"],[0.2222222222222222,\"#7201a8\"],[0.3333333333333333,\"#9c179e\"],[0.4444444444444444,\"#bd3786\"],[0.5555555555555556,\"#d8576b\"],[0.6666666666666666,\"#ed7953\"],[0.7777777777777778,\"#fb9f3a\"],[0.8888888888888888,\"#fdca26\"],[1.0,\"#f0f921\"]],\"type\":\"surface\"}],\"table\":[{\"cells\":{\"fill\":{\"color\":\"#EBF0F8\"},\"line\":{\"color\":\"white\"}},\"header\":{\"fill\":{\"color\":\"#C8D4E3\"},\"line\":{\"color\":\"white\"}},\"type\":\"table\"}]},\"layout\":{\"annotationdefaults\":{\"arrowcolor\":\"#2a3f5f\",\"arrowhead\":0,\"arrowwidth\":1},\"autotypenumbers\":\"strict\",\"coloraxis\":{\"colorbar\":{\"outlinewidth\":0,\"ticks\":\"\"}},\"colorscale\":{\"diverging\":[[0,\"#8e0152\"],[0.1,\"#c51b7d\"],[0.2,\"#de77ae\"],[0.3,\"#f1b6da\"],[0.4,\"#fde0ef\"],[0.5,\"#f7f7f7\"],[0.6,\"#e6f5d0\"],[0.7,\"#b8e186\"],[0.8,\"#7fbc41\"],[0.9,\"#4d9221\"],[1,\"#276419\"]],\"sequential\":[[0.0,\"#0d0887\"],[0.1111111111111111,\"#46039f\"],[0.2222222222222222,\"#7201a8\"],[0.3333333333333333,\"#9c179e\"],[0.4444444444444444,\"#bd3786\"],[0.5555555555555556,\"#d8576b\"],[0.6666666666666666,\"#ed7953\"],[0.7777777777777778,\"#fb9f3a\"],[0.8888888888888888,\"#fdca26\"],[1.0,\"#f0f921\"]],\"sequentialminus\":[[0.0,\"#0d0887\"],[0.1111111111111111,\"#46039f\"],[0.2222222222222222,\"#7201a8\"],[0.3333333333333333,\"#9c179e\"],[0.4444444444444444,\"#bd3786\"],[0.5555555555555556,\"#d8576b\"],[0.6666666666666666,\"#ed7953\"],[0.7777777777777778,\"#fb9f3a\"],[0.8888888888888888,\"#fdca26\"],[1.0,\"#f0f921\"]]},\"colorway\":[\"#636efa\",\"#EF553B\",\"#00cc96\",\"#ab63fa\",\"#FFA15A\",\"#19d3f3\",\"#FF6692\",\"#B6E880\",\"#FF97FF\",\"#FECB52\"],\"font\":{\"color\":\"#2a3f5f\"},\"geo\":{\"bgcolor\":\"white\",\"lakecolor\":\"white\",\"landcolor\":\"white\",\"showlakes\":true,\"showland\":true,\"subunitcolor\":\"#C8D4E3\"},\"hoverlabel\":{\"align\":\"left\"},\"hovermode\":\"closest\",\"mapbox\":{\"style\":\"light\"},\"paper_bgcolor\":\"white\",\"plot_bgcolor\":\"white\",\"polar\":{\"angularaxis\":{\"gridcolor\":\"#EBF0F8\",\"linecolor\":\"#EBF0F8\",\"ticks\":\"\"},\"bgcolor\":\"white\",\"radialaxis\":{\"gridcolor\":\"#EBF0F8\",\"linecolor\":\"#EBF0F8\",\"ticks\":\"\"}},\"scene\":{\"xaxis\":{\"backgroundcolor\":\"white\",\"gridcolor\":\"#DFE8F3\",\"gridwidth\":2,\"linecolor\":\"#EBF0F8\",\"showbackground\":true,\"ticks\":\"\",\"zerolinecolor\":\"#EBF0F8\"},\"yaxis\":{\"backgroundcolor\":\"white\",\"gridcolor\":\"#DFE8F3\",\"gridwidth\":2,\"linecolor\":\"#EBF0F8\",\"showbackground\":true,\"ticks\":\"\",\"zerolinecolor\":\"#EBF0F8\"},\"zaxis\":{\"backgroundcolor\":\"white\",\"gridcolor\":\"#DFE8F3\",\"gridwidth\":2,\"linecolor\":\"#EBF0F8\",\"showbackground\":true,\"ticks\":\"\",\"zerolinecolor\":\"#EBF0F8\"}},\"shapedefaults\":{\"line\":{\"color\":\"#2a3f5f\"}},\"ternary\":{\"aaxis\":{\"gridcolor\":\"#DFE8F3\",\"linecolor\":\"#A2B1C6\",\"ticks\":\"\"},\"baxis\":{\"gridcolor\":\"#DFE8F3\",\"linecolor\":\"#A2B1C6\",\"ticks\":\"\"},\"bgcolor\":\"white\",\"caxis\":{\"gridcolor\":\"#DFE8F3\",\"linecolor\":\"#A2B1C6\",\"ticks\":\"\"}},\"title\":{\"x\":0.05},\"xaxis\":{\"automargin\":true,\"gridcolor\":\"#EBF0F8\",\"linecolor\":\"#EBF0F8\",\"ticks\":\"\",\"title\":{\"standoff\":15},\"zerolinecolor\":\"#EBF0F8\",\"zerolinewidth\":2},\"yaxis\":{\"automargin\":true,\"gridcolor\":\"#EBF0F8\",\"linecolor\":\"#EBF0F8\",\"ticks\":\"\",\"title\":{\"standoff\":15},\"zerolinecolor\":\"#EBF0F8\",\"zerolinewidth\":2}}},\"font\":{\"family\":\"Roboto Serif\",\"color\":\"black\"},\"images\":[{\"sizex\":0.2,\"sizey\":0.2,\"source\":\"https://raw.githubusercontent.com/PolicyEngine/policyengine-app/master/src/images/logos/policyengine/blue.png\",\"x\":1,\"xanchor\":\"right\",\"xref\":\"paper\",\"y\":-0.15,\"yanchor\":\"bottom\",\"yref\":\"paper\"}],\"height\":600,\"width\":800,\"modebar\":{\"bgcolor\":\"rgba(0,0,0,0)\",\"color\":\"rgba(0,0,0,0)\"},\"legend\":{\"orientation\":\"h\",\"yanchor\":\"bottom\",\"y\":-0.3},\"title\":{\"text\":\"Figure 8: Outcome distribution by income decile under a \\\\u00a3400 per month UBI\"}}}'"
      ]
     },
     "execution_count": 14,
     "metadata": {},
     "output_type": "execute_result"
    }
   ],
   "source": [
    "intra_decile_chart(\n",
    "    \"uk\",\n",
    "    model_3_reform.api_id,\n",
    "    \"ni\",\n",
    "    \"2023\",\n",
    ").update_layout(\n",
    "    title=\"Figure 8: Outcome distribution by income decile under a £400 per month UBI\",\n",
    "    legend=dict(\n",
    "        orientation=\"h\",\n",
    "        yanchor=\"bottom\",\n",
    "        y=-0.3,\n",
    "    )\n",
    ").to_json()"
   ]
  },
  {
   "cell_type": "markdown",
   "metadata": {},
   "source": [
    "\n",
    "## Household impacts\n",
    "\n",
    "For individual households, each policy changes how the tax-benefit system shapes net incomes in response to earnings. To show this, we continue examining our three policies through the lenses of three example households: a single adult, a married couple with two children, and a pensioner couple.\n",
    "\n",
    "\n",
    "### Net income\n",
    "\n",
    "A single adult with no children is a net beneficiary under all three policies only until they reach £10,000 in employment income.[^10] Before this break-even point, the policy that most benefits them is the £400 per month UBI. After that threshold, their net income rises more slowly than it would have under the baseline policy, and their policy preference would flip: The £400 and £300 per month UBI policies (which have higher tax increases) are worse for their net income. However, this preference only lasts until after the higher rate threshold at £50,270: the £400 per month UBI quickly becomes the best policy due to its 0-point changes to the higher and additional rates of income tax.\n",
    "\n",
    "[^10]:\n",
    "     We vary the employment income of only one earner, holding the other (if they exist) at zero.\n"
   ]
  },
  {
   "cell_type": "code",
   "execution_count": 15,
   "metadata": {
    "tags": [
     "hide-input"
    ]
   },
   "outputs": [],
   "source": [
    "import plotly.express as px\n",
    "from policyengine_uk import Simulation\n",
    "import pandas as pd\n",
    "\n",
    "SINGLE_NO_CHILDREN = {\n",
    "    \"people\": {\n",
    "        \"adult\": {\n",
    "            \"age\": 25,\n",
    "        }\n",
    "    },\n",
    "    \"benunits\": {\n",
    "        \"benunit\": {\n",
    "            \"members\": [\"adult\"],\n",
    "            \"claims_legacy_benefits\": False,\n",
    "            \"claims_all_entitled_benefits\": True,\n",
    "        }\n",
    "    },\n",
    "    \"households\": {\n",
    "        \"household\": {\n",
    "            \"members\": [\"adult\"],\n",
    "            \"would_evade_tv_licence_fee\": False,\n",
    "            \"household_owns_tv\": True,\n",
    "        }\n",
    "    },\n",
    "    \"axes\": [[{\n",
    "        \"name\": \"employment_income\",\n",
    "        \"min\": 0,\n",
    "        \"max\": 100_000,\n",
    "        \"count\": 100,\n",
    "    }]],\n",
    "}\n",
    "\n",
    "MARRIED_TWO_CHILDREN = {\n",
    "    \"people\": {\n",
    "        \"adult_1\": {\n",
    "            \"age\": 31,\n",
    "        },\n",
    "        \"adult_2\": {\n",
    "            \"age\": 30,\n",
    "        },\n",
    "        \"child_1\": {\n",
    "            \"age\": 4,\n",
    "        },\n",
    "        \"child_2\": {\n",
    "            \"age\": 6,\n",
    "        },\n",
    "    },\n",
    "    \"benunits\": {\n",
    "        \"benunit\": {\n",
    "            \"members\": [\"adult_1\", \"adult_2\", \"child_1\", \"child_2\"],\n",
    "            \"claims_legacy_benefits\": False,\n",
    "            \"claims_all_entitled_benefits\": True,\n",
    "        }\n",
    "    },\n",
    "    \"households\": {\n",
    "        \"household\": {\n",
    "            \"members\": [\"adult_1\", \"adult_2\", \"child_1\", \"child_2\"],\n",
    "            \"would_evade_tv_licence_fee\": False,\n",
    "            \"household_owns_tv\": True,\n",
    "        }\n",
    "    },\n",
    "    \"axes\": [[{\n",
    "        \"name\": \"employment_income\",\n",
    "        \"min\": 0,\n",
    "        \"max\": 100_000,\n",
    "        \"count\": 100,\n",
    "    }]],\n",
    "}\n",
    "\n",
    "PENSIONER_COUPLE_NO_CHILDREN = {\n",
    "    \"people\": {\n",
    "        \"adult_1\": {\n",
    "            \"age\": 70,\n",
    "        },\n",
    "        \"adult_2\": {\n",
    "            \"age\": 71,\n",
    "        }\n",
    "    },\n",
    "    \"benunits\": {\n",
    "        \"benunit\": {\n",
    "            \"members\": [\"adult_1\", \"adult_2\"],\n",
    "            \"claims_legacy_benefits\": False,\n",
    "            \"claims_all_entitled_benefits\": True,\n",
    "        }\n",
    "    },\n",
    "    \"households\": {\n",
    "        \"household\": {\n",
    "            \"members\": [\"adult_1\", \"adult_2\"],\n",
    "            \"would_evade_tv_licence_fee\": False,\n",
    "            \"household_owns_tv\": True,\n",
    "        }\n",
    "    },\n",
    "    \"axes\": [[{\n",
    "        \"name\": \"employment_income\",\n",
    "        \"min\": 0,\n",
    "        \"max\": 100_000,\n",
    "        \"count\": 100,\n",
    "    }]],\n",
    "}\n",
    "dfs = []\n",
    "for reform, policy_name in zip([model_1_reform, model_2_reform, model_3_reform], [\"£200/month\", \"£300/month\", \"£400/month\"]):\n",
    "    for household_type, household_name in zip(\n",
    "        [SINGLE_NO_CHILDREN, MARRIED_TWO_CHILDREN, PENSIONER_COUPLE_NO_CHILDREN],\n",
    "        [\"Single adult, no children\", \"Married couple, two children\", \"Pensioner couple, no children\"],\n",
    "    ):\n",
    "        baseline_sim = Simulation(situation=household_type)\n",
    "        sim = Simulation(situation=household_type, reform=reform)\n",
    "        net_income = sim.calculate(\"household_net_income\", 2023) - baseline_sim.calculate(\"household_net_income\", 2023)\n",
    "        earnings = sim.calculate(\"employment_income\", map_to=\"household\", period=2023)\n",
    "        df = pd.DataFrame({\"Policy\": policy_name, \"Net income\": net_income, \"Earnings\": earnings, \"Household type\": household_name})\n",
    "        dfs.append(df)\n",
    "\n",
    "df = pd.concat(dfs)"
   ]
  },
  {
   "cell_type": "code",
   "execution_count": 16,
   "metadata": {
    "tags": [
     "hide-input"
    ]
   },
   "outputs": [
    {
     "data": {
      "text/plain": [
       "'{\"data\":[{\"hovertemplate\":\"Policy=\\\\u00a3200/month<br>Earnings=%{x}<br>Net income=%{y}<extra></extra>\",\"legendgroup\":\"\\\\u00a3200/month\",\"line\":{\"color\":\"#D8E6F3\",\"dash\":\"solid\"},\"marker\":{\"symbol\":\"circle\"},\"mode\":\"lines\",\"name\":\"\\\\u00a3200/month\",\"orientation\":\"v\",\"showlegend\":true,\"x\":[0.0,1040.44580078125,2080.8916015625,3121.33740234375,4161.783203125,5202.22900390625,6242.6748046875,7283.12060546875,8323.56640625,9364.0126953125,10404.4580078125,11444.904296875,12485.349609375,13525.7958984375,14566.2412109375,15606.6875,16647.1328125,17687.578125,18728.025390625,19768.470703125,20808.916015625,21849.361328125,22889.80859375,23930.251953125,24970.69921875,26011.14453125,27051.591796875,28092.03515625,29132.482421875,30172.927734375,31213.375,32253.818359375,33294.265625,34334.7109375,35375.15625,36415.6015625,37456.05078125,38496.49609375,39536.94140625,40577.3828125,41617.83203125,42658.27734375,43698.72265625,44739.16796875,45779.6171875,46820.0625,47860.50390625,48900.94921875,49941.3984375,50981.84375,52022.2890625,53062.73828125,54103.18359375,55143.62890625,56184.0703125,57224.51953125,58264.96484375,59305.41015625,60345.85546875,61386.3046875,62426.75,63467.19140625,64507.63671875,65548.0859375,66588.53125,67628.9765625,68669.421875,69709.8671875,70750.3125,71790.7578125,72831.203125,73871.6484375,74912.1015625,75952.546875,76992.9921875,78033.4375,79073.8828125,80114.328125,81154.765625,82195.2109375,83235.6640625,84276.109375,85316.5546875,86357.0,87397.4453125,88437.890625,89478.3359375,90518.7890625,91559.234375,92599.6796875,93640.125,94680.5703125,95721.0078125,96761.453125,97801.8984375,98842.3515625,99882.796875,100923.2421875,101963.6875,103004.1328125],\"xaxis\":\"x\",\"y\":[2400.0,2400.0,2392.39990234375,2294.64501953125,2196.8896484375,2099.1337890625,2001.37939453125,1903.6240234375,1246.828125,862.474609375,645.2412109375,428.0078125,210.7734375,184.69921875,175.5556640625,166.41015625,157.265625,148.12109375,138.9765625,129.83203125,120.685546875,111.54296875,102.3984375,93.25390625,84.109375,74.96484375,65.818359375,56.673828125,47.53125,38.38671875,29.2421875,20.09765625,10.953125,1.80859375,-7.3359375,-16.48046875,-25.626953125,-34.76953125,-43.9140625,-53.05859375,-62.203125,-71.34765625,-80.4921875,-89.640625,-98.78125,-107.9296875,-117.0703125,-126.2109375,-135.359375,-150.7578125,-169.046875,-187.3359375,-205.625,-223.9140625,-242.20703125,-260.49609375,-278.78515625,-297.07421875,-315.36328125,-333.6484375,-351.9375,-370.234375,-388.515625,-406.80859375,-425.1015625,-443.390625,-461.67578125,-479.96484375,-498.25390625,-516.54296875,-534.83203125,-553.1171875,-571.41015625,-589.703125,-607.9921875,-626.28125,-644.5703125,-662.859375,-681.14453125,-699.43359375,-717.72265625,-736.01171875,-754.30078125,-772.5859375,-790.875,-809.1640625,-827.453125,-845.75,-864.03515625,-882.328125,-900.61328125,-918.90234375,-937.19140625,-955.48046875,-973.76953125,-992.0625,-1010.3515625,-1036.75,-1064.1875,-1091.625],\"yaxis\":\"y\",\"type\":\"scatter\"},{\"hovertemplate\":\"Policy=\\\\u00a3300/month<br>Earnings=%{x}<br>Net income=%{y}<extra></extra>\",\"legendgroup\":\"\\\\u00a3300/month\",\"line\":{\"color\":\"#2C6496\",\"dash\":\"solid\"},\"marker\":{\"symbol\":\"circle\"},\"mode\":\"lines\",\"name\":\"\\\\u00a3300/month\",\"orientation\":\"v\",\"showlegend\":true,\"x\":[0.0,1040.44580078125,2080.8916015625,3121.33740234375,4161.783203125,5202.22900390625,6242.6748046875,7283.12060546875,8323.56640625,9364.0126953125,10404.4580078125,11444.904296875,12485.349609375,13525.7958984375,14566.2412109375,15606.6875,16647.1328125,17687.578125,18728.025390625,19768.470703125,20808.916015625,21849.361328125,22889.80859375,23930.251953125,24970.69921875,26011.14453125,27051.591796875,28092.03515625,29132.482421875,30172.927734375,31213.375,32253.818359375,33294.265625,34334.7109375,35375.15625,36415.6015625,37456.05078125,38496.49609375,39536.94140625,40577.3828125,41617.83203125,42658.27734375,43698.72265625,44739.16796875,45779.6171875,46820.0625,47860.50390625,48900.94921875,49941.3984375,50981.84375,52022.2890625,53062.73828125,54103.18359375,55143.62890625,56184.0703125,57224.51953125,58264.96484375,59305.41015625,60345.85546875,61386.3046875,62426.75,63467.19140625,64507.63671875,65548.0859375,66588.53125,67628.9765625,68669.421875,69709.8671875,70750.3125,71790.7578125,72831.203125,73871.6484375,74912.1015625,75952.546875,76992.9921875,78033.4375,79073.8828125,80114.328125,81154.765625,82195.2109375,83235.6640625,84276.109375,85316.5546875,86357.0,87397.4453125,88437.890625,89478.3359375,90518.7890625,91559.234375,92599.6796875,93640.125,94680.5703125,95721.0078125,96761.453125,97801.8984375,98842.3515625,99882.796875,100923.2421875,101963.6875,103004.1328125],\"xaxis\":\"x\",\"y\":[3600.0,3489.44189453125,3378.8837890625,3268.328125,3157.76953125,3047.212890625,2936.65478515625,2826.09765625,2156.498046875,1473.6953125,1143.166015625,897.482421875,651.798828125,597.2763671875,559.681640625,522.0869140625,484.4921875,446.8974609375,409.302734375,371.708984375,334.115234375,296.521484375,258.927734375,221.33203125,183.73828125,146.14453125,108.548828125,70.955078125,33.365234375,-4.23046875,-41.826171875,-79.419921875,-117.015625,-154.609375,-192.203125,-229.796875,-267.39453125,-304.986328125,-342.58203125,-380.17578125,-417.76953125,-455.36328125,-492.95703125,-530.5546875,-568.14453125,-605.7421875,-643.3359375,-680.9296875,-718.5234375,-756.1171875,-793.7109375,-831.3046875,-868.8984375,-906.4921875,-944.08984375,-981.6796875,-1019.27734375,-1056.87109375,-1094.46484375,-1132.05859375,-1169.65234375,-1207.25390625,-1244.83984375,-1282.4375,-1320.03125,-1357.625,-1395.21875,-1432.8125,-1470.41015625,-1508.00390625,-1545.59765625,-1583.1875,-1620.78515625,-1658.3828125,-1695.9765625,-1733.5703125,-1771.1640625,-1808.7578125,-1846.3515625,-1883.9453125,-1921.5390625,-1959.1328125,-1996.7265625,-2034.31640625,-2071.9140625,-2109.5078125,-2147.1015625,-2184.69921875,-2222.29296875,-2259.88671875,-2297.48046875,-2335.07421875,-2372.66796875,-2410.26171875,-2447.859375,-2485.45703125,-2523.05078125,-2375.9921875,-2205.5,-2035.0],\"yaxis\":\"y\",\"type\":\"scatter\"},{\"hovertemplate\":\"Policy=\\\\u00a3400/month<br>Earnings=%{x}<br>Net income=%{y}<extra></extra>\",\"legendgroup\":\"\\\\u00a3400/month\",\"line\":{\"color\":\"#17354F\",\"dash\":\"solid\"},\"marker\":{\"symbol\":\"circle\"},\"mode\":\"lines\",\"name\":\"\\\\u00a3400/month\",\"orientation\":\"v\",\"showlegend\":true,\"x\":[0.0,1040.44580078125,2080.8916015625,3121.33740234375,4161.783203125,5202.22900390625,6242.6748046875,7283.12060546875,8323.56640625,9364.0126953125,10404.4580078125,11444.904296875,12485.349609375,13525.7958984375,14566.2412109375,15606.6875,16647.1328125,17687.578125,18728.025390625,19768.470703125,20808.916015625,21849.361328125,22889.80859375,23930.251953125,24970.69921875,26011.14453125,27051.591796875,28092.03515625,29132.482421875,30172.927734375,31213.375,32253.818359375,33294.265625,34334.7109375,35375.15625,36415.6015625,37456.05078125,38496.49609375,39536.94140625,40577.3828125,41617.83203125,42658.27734375,43698.72265625,44739.16796875,45779.6171875,46820.0625,47860.50390625,48900.94921875,49941.3984375,50981.84375,52022.2890625,53062.73828125,54103.18359375,55143.62890625,56184.0703125,57224.51953125,58264.96484375,59305.41015625,60345.85546875,61386.3046875,62426.75,63467.19140625,64507.63671875,65548.0859375,66588.53125,67628.9765625,68669.421875,69709.8671875,70750.3125,71790.7578125,72831.203125,73871.6484375,74912.1015625,75952.546875,76992.9921875,78033.4375,79073.8828125,80114.328125,81154.765625,82195.2109375,83235.6640625,84276.109375,85316.5546875,86357.0,87397.4453125,88437.890625,89478.3359375,90518.7890625,91559.234375,92599.6796875,93640.125,94680.5703125,95721.0078125,96761.453125,97801.8984375,98842.3515625,99882.796875,100923.2421875,101963.6875,103004.1328125],\"xaxis\":\"x\",\"y\":[4800.0,4664.75244140625,4529.50390625,4394.255859375,4259.0078125,4123.76171875,3988.51318359375,3853.2646484375,3158.9755859375,2451.482421875,1794.4931640625,1493.9423828125,1193.392578125,1084.0009765625,991.5400390625,899.078125,806.6162109375,714.1552734375,621.69140625,529.232421875,436.76953125,344.30859375,251.84765625,159.384765625,66.923828125,-25.53515625,-118.0,-210.4609375,-302.919921875,-395.380859375,-487.84375,-580.3046875,-672.76953125,-765.23046875,-857.689453125,-950.15234375,-1042.615234375,-1135.07421875,-1227.537109375,-1319.998046875,-1412.458984375,-1504.921875,-1597.3828125,-1689.84375,-1782.3046875,-1874.765625,-1967.2265625,-2059.6875,-2152.15234375,-2181.3515625,-2181.3515625,-2181.3515625,-2181.3515625,-2181.3515625,-2181.35546875,-2181.3515625,-2181.3515625,-2181.3515625,-2181.3515625,-2181.3515625,-2181.3515625,-2181.359375,-2181.3515625,-2181.3515625,-2181.35546875,-2181.35546875,-2181.35546875,-2181.35546875,-2181.35546875,-2181.35546875,-2181.35546875,-2181.3515625,-2181.3515625,-2181.35546875,-2181.35546875,-2181.35546875,-2181.35546875,-2181.35546875,-2181.3515625,-2181.3515625,-2181.3515625,-2181.3515625,-2181.3515625,-2181.3515625,-2181.3515625,-2181.3515625,-2181.3515625,-2181.35546875,-2181.35546875,-2181.35546875,-2181.3515625,-2181.3515625,-2181.3515625,-2181.3515625,-2181.35546875,-2181.35546875,-2181.359375,-1996.703125,-1788.6171875,-1580.53125],\"yaxis\":\"y\",\"type\":\"scatter\"}],\"layout\":{\"template\":{\"data\":{\"barpolar\":[{\"marker\":{\"line\":{\"color\":\"white\",\"width\":0.5},\"pattern\":{\"fillmode\":\"overlay\",\"size\":10,\"solidity\":0.2}},\"type\":\"barpolar\"}],\"bar\":[{\"error_x\":{\"color\":\"#2a3f5f\"},\"error_y\":{\"color\":\"#2a3f5f\"},\"marker\":{\"line\":{\"color\":\"white\",\"width\":0.5},\"pattern\":{\"fillmode\":\"overlay\",\"size\":10,\"solidity\":0.2}},\"type\":\"bar\"}],\"carpet\":[{\"aaxis\":{\"endlinecolor\":\"#2a3f5f\",\"gridcolor\":\"#C8D4E3\",\"linecolor\":\"#C8D4E3\",\"minorgridcolor\":\"#C8D4E3\",\"startlinecolor\":\"#2a3f5f\"},\"baxis\":{\"endlinecolor\":\"#2a3f5f\",\"gridcolor\":\"#C8D4E3\",\"linecolor\":\"#C8D4E3\",\"minorgridcolor\":\"#C8D4E3\",\"startlinecolor\":\"#2a3f5f\"},\"type\":\"carpet\"}],\"choropleth\":[{\"colorbar\":{\"outlinewidth\":0,\"ticks\":\"\"},\"type\":\"choropleth\"}],\"contourcarpet\":[{\"colorbar\":{\"outlinewidth\":0,\"ticks\":\"\"},\"type\":\"contourcarpet\"}],\"contour\":[{\"colorbar\":{\"outlinewidth\":0,\"ticks\":\"\"},\"colorscale\":[[0.0,\"#0d0887\"],[0.1111111111111111,\"#46039f\"],[0.2222222222222222,\"#7201a8\"],[0.3333333333333333,\"#9c179e\"],[0.4444444444444444,\"#bd3786\"],[0.5555555555555556,\"#d8576b\"],[0.6666666666666666,\"#ed7953\"],[0.7777777777777778,\"#fb9f3a\"],[0.8888888888888888,\"#fdca26\"],[1.0,\"#f0f921\"]],\"type\":\"contour\"}],\"heatmapgl\":[{\"colorbar\":{\"outlinewidth\":0,\"ticks\":\"\"},\"colorscale\":[[0.0,\"#0d0887\"],[0.1111111111111111,\"#46039f\"],[0.2222222222222222,\"#7201a8\"],[0.3333333333333333,\"#9c179e\"],[0.4444444444444444,\"#bd3786\"],[0.5555555555555556,\"#d8576b\"],[0.6666666666666666,\"#ed7953\"],[0.7777777777777778,\"#fb9f3a\"],[0.8888888888888888,\"#fdca26\"],[1.0,\"#f0f921\"]],\"type\":\"heatmapgl\"}],\"heatmap\":[{\"colorbar\":{\"outlinewidth\":0,\"ticks\":\"\"},\"colorscale\":[[0.0,\"#0d0887\"],[0.1111111111111111,\"#46039f\"],[0.2222222222222222,\"#7201a8\"],[0.3333333333333333,\"#9c179e\"],[0.4444444444444444,\"#bd3786\"],[0.5555555555555556,\"#d8576b\"],[0.6666666666666666,\"#ed7953\"],[0.7777777777777778,\"#fb9f3a\"],[0.8888888888888888,\"#fdca26\"],[1.0,\"#f0f921\"]],\"type\":\"heatmap\"}],\"histogram2dcontour\":[{\"colorbar\":{\"outlinewidth\":0,\"ticks\":\"\"},\"colorscale\":[[0.0,\"#0d0887\"],[0.1111111111111111,\"#46039f\"],[0.2222222222222222,\"#7201a8\"],[0.3333333333333333,\"#9c179e\"],[0.4444444444444444,\"#bd3786\"],[0.5555555555555556,\"#d8576b\"],[0.6666666666666666,\"#ed7953\"],[0.7777777777777778,\"#fb9f3a\"],[0.8888888888888888,\"#fdca26\"],[1.0,\"#f0f921\"]],\"type\":\"histogram2dcontour\"}],\"histogram2d\":[{\"colorbar\":{\"outlinewidth\":0,\"ticks\":\"\"},\"colorscale\":[[0.0,\"#0d0887\"],[0.1111111111111111,\"#46039f\"],[0.2222222222222222,\"#7201a8\"],[0.3333333333333333,\"#9c179e\"],[0.4444444444444444,\"#bd3786\"],[0.5555555555555556,\"#d8576b\"],[0.6666666666666666,\"#ed7953\"],[0.7777777777777778,\"#fb9f3a\"],[0.8888888888888888,\"#fdca26\"],[1.0,\"#f0f921\"]],\"type\":\"histogram2d\"}],\"histogram\":[{\"marker\":{\"pattern\":{\"fillmode\":\"overlay\",\"size\":10,\"solidity\":0.2}},\"type\":\"histogram\"}],\"mesh3d\":[{\"colorbar\":{\"outlinewidth\":0,\"ticks\":\"\"},\"type\":\"mesh3d\"}],\"parcoords\":[{\"line\":{\"colorbar\":{\"outlinewidth\":0,\"ticks\":\"\"}},\"type\":\"parcoords\"}],\"pie\":[{\"automargin\":true,\"type\":\"pie\"}],\"scatter3d\":[{\"line\":{\"colorbar\":{\"outlinewidth\":0,\"ticks\":\"\"}},\"marker\":{\"colorbar\":{\"outlinewidth\":0,\"ticks\":\"\"}},\"type\":\"scatter3d\"}],\"scattercarpet\":[{\"marker\":{\"colorbar\":{\"outlinewidth\":0,\"ticks\":\"\"}},\"type\":\"scattercarpet\"}],\"scattergeo\":[{\"marker\":{\"colorbar\":{\"outlinewidth\":0,\"ticks\":\"\"}},\"type\":\"scattergeo\"}],\"scattergl\":[{\"marker\":{\"colorbar\":{\"outlinewidth\":0,\"ticks\":\"\"}},\"type\":\"scattergl\"}],\"scattermapbox\":[{\"marker\":{\"colorbar\":{\"outlinewidth\":0,\"ticks\":\"\"}},\"type\":\"scattermapbox\"}],\"scatterpolargl\":[{\"marker\":{\"colorbar\":{\"outlinewidth\":0,\"ticks\":\"\"}},\"type\":\"scatterpolargl\"}],\"scatterpolar\":[{\"marker\":{\"colorbar\":{\"outlinewidth\":0,\"ticks\":\"\"}},\"type\":\"scatterpolar\"}],\"scatter\":[{\"fillpattern\":{\"fillmode\":\"overlay\",\"size\":10,\"solidity\":0.2},\"type\":\"scatter\"}],\"scatterternary\":[{\"marker\":{\"colorbar\":{\"outlinewidth\":0,\"ticks\":\"\"}},\"type\":\"scatterternary\"}],\"surface\":[{\"colorbar\":{\"outlinewidth\":0,\"ticks\":\"\"},\"colorscale\":[[0.0,\"#0d0887\"],[0.1111111111111111,\"#46039f\"],[0.2222222222222222,\"#7201a8\"],[0.3333333333333333,\"#9c179e\"],[0.4444444444444444,\"#bd3786\"],[0.5555555555555556,\"#d8576b\"],[0.6666666666666666,\"#ed7953\"],[0.7777777777777778,\"#fb9f3a\"],[0.8888888888888888,\"#fdca26\"],[1.0,\"#f0f921\"]],\"type\":\"surface\"}],\"table\":[{\"cells\":{\"fill\":{\"color\":\"#EBF0F8\"},\"line\":{\"color\":\"white\"}},\"header\":{\"fill\":{\"color\":\"#C8D4E3\"},\"line\":{\"color\":\"white\"}},\"type\":\"table\"}]},\"layout\":{\"annotationdefaults\":{\"arrowcolor\":\"#2a3f5f\",\"arrowhead\":0,\"arrowwidth\":1},\"autotypenumbers\":\"strict\",\"coloraxis\":{\"colorbar\":{\"outlinewidth\":0,\"ticks\":\"\"}},\"colorscale\":{\"diverging\":[[0,\"#8e0152\"],[0.1,\"#c51b7d\"],[0.2,\"#de77ae\"],[0.3,\"#f1b6da\"],[0.4,\"#fde0ef\"],[0.5,\"#f7f7f7\"],[0.6,\"#e6f5d0\"],[0.7,\"#b8e186\"],[0.8,\"#7fbc41\"],[0.9,\"#4d9221\"],[1,\"#276419\"]],\"sequential\":[[0.0,\"#0d0887\"],[0.1111111111111111,\"#46039f\"],[0.2222222222222222,\"#7201a8\"],[0.3333333333333333,\"#9c179e\"],[0.4444444444444444,\"#bd3786\"],[0.5555555555555556,\"#d8576b\"],[0.6666666666666666,\"#ed7953\"],[0.7777777777777778,\"#fb9f3a\"],[0.8888888888888888,\"#fdca26\"],[1.0,\"#f0f921\"]],\"sequentialminus\":[[0.0,\"#0d0887\"],[0.1111111111111111,\"#46039f\"],[0.2222222222222222,\"#7201a8\"],[0.3333333333333333,\"#9c179e\"],[0.4444444444444444,\"#bd3786\"],[0.5555555555555556,\"#d8576b\"],[0.6666666666666666,\"#ed7953\"],[0.7777777777777778,\"#fb9f3a\"],[0.8888888888888888,\"#fdca26\"],[1.0,\"#f0f921\"]]},\"colorway\":[\"#636efa\",\"#EF553B\",\"#00cc96\",\"#ab63fa\",\"#FFA15A\",\"#19d3f3\",\"#FF6692\",\"#B6E880\",\"#FF97FF\",\"#FECB52\"],\"font\":{\"color\":\"#2a3f5f\"},\"geo\":{\"bgcolor\":\"white\",\"lakecolor\":\"white\",\"landcolor\":\"white\",\"showlakes\":true,\"showland\":true,\"subunitcolor\":\"#C8D4E3\"},\"hoverlabel\":{\"align\":\"left\"},\"hovermode\":\"closest\",\"mapbox\":{\"style\":\"light\"},\"paper_bgcolor\":\"white\",\"plot_bgcolor\":\"white\",\"polar\":{\"angularaxis\":{\"gridcolor\":\"#EBF0F8\",\"linecolor\":\"#EBF0F8\",\"ticks\":\"\"},\"bgcolor\":\"white\",\"radialaxis\":{\"gridcolor\":\"#EBF0F8\",\"linecolor\":\"#EBF0F8\",\"ticks\":\"\"}},\"scene\":{\"xaxis\":{\"backgroundcolor\":\"white\",\"gridcolor\":\"#DFE8F3\",\"gridwidth\":2,\"linecolor\":\"#EBF0F8\",\"showbackground\":true,\"ticks\":\"\",\"zerolinecolor\":\"#EBF0F8\"},\"yaxis\":{\"backgroundcolor\":\"white\",\"gridcolor\":\"#DFE8F3\",\"gridwidth\":2,\"linecolor\":\"#EBF0F8\",\"showbackground\":true,\"ticks\":\"\",\"zerolinecolor\":\"#EBF0F8\"},\"zaxis\":{\"backgroundcolor\":\"white\",\"gridcolor\":\"#DFE8F3\",\"gridwidth\":2,\"linecolor\":\"#EBF0F8\",\"showbackground\":true,\"ticks\":\"\",\"zerolinecolor\":\"#EBF0F8\"}},\"shapedefaults\":{\"line\":{\"color\":\"#2a3f5f\"}},\"ternary\":{\"aaxis\":{\"gridcolor\":\"#DFE8F3\",\"linecolor\":\"#A2B1C6\",\"ticks\":\"\"},\"baxis\":{\"gridcolor\":\"#DFE8F3\",\"linecolor\":\"#A2B1C6\",\"ticks\":\"\"},\"bgcolor\":\"white\",\"caxis\":{\"gridcolor\":\"#DFE8F3\",\"linecolor\":\"#A2B1C6\",\"ticks\":\"\"}},\"title\":{\"x\":0.05},\"xaxis\":{\"automargin\":true,\"gridcolor\":\"#EBF0F8\",\"linecolor\":\"#EBF0F8\",\"ticks\":\"\",\"title\":{\"standoff\":15},\"zerolinecolor\":\"#EBF0F8\",\"zerolinewidth\":2},\"yaxis\":{\"automargin\":true,\"gridcolor\":\"#EBF0F8\",\"linecolor\":\"#EBF0F8\",\"ticks\":\"\",\"title\":{\"standoff\":15},\"zerolinecolor\":\"#EBF0F8\",\"zerolinewidth\":2}}},\"xaxis\":{\"anchor\":\"y\",\"domain\":[0.0,1.0],\"title\":{\"text\":\"Employment income\"},\"tickformat\":\",.0f\",\"tickprefix\":\"\\\\u00a3\"},\"yaxis\":{\"anchor\":\"x\",\"domain\":[0.0,1.0],\"title\":{\"text\":\"Change to annual net income\"},\"tickmode\":\"array\",\"tickvals\":[-20000,-15000,-10000,-5000,0,5000,10000,15000,20000],\"ticktext\":[\"-\\\\u00a320,000\",\"-\\\\u00a315,000\",\"-\\\\u00a310,000\",\"-\\\\u00a35,000\",\"\\\\u00a30\",\"+\\\\u00a35,000\",\"+\\\\u00a310,000\",\"+\\\\u00a315,000\",\"+\\\\u00a320,000\"],\"range\":[-25000,25000]},\"legend\":{\"title\":{\"text\":\"Policy\"},\"tracegroupgap\":0},\"margin\":{\"t\":60},\"title\":{\"text\":\"Figure 11: Change to annual net income by UBI policy and income (single adult, no children)\"},\"shapes\":[{\"line\":{\"color\":\"grey\",\"width\":1},\"type\":\"line\",\"x0\":0,\"x1\":1,\"xref\":\"paper\",\"y0\":0,\"y1\":0,\"yref\":\"y\"}],\"font\":{\"family\":\"Roboto Serif\",\"color\":\"black\"},\"images\":[{\"sizex\":0.2,\"sizey\":0.2,\"source\":\"https://raw.githubusercontent.com/PolicyEngine/policyengine-app/master/src/images/logos/policyengine/blue.png\",\"x\":1,\"xanchor\":\"right\",\"xref\":\"paper\",\"y\":-0.15,\"yanchor\":\"bottom\",\"yref\":\"paper\"}],\"height\":600,\"width\":800,\"modebar\":{\"bgcolor\":\"rgba(0,0,0,0)\",\"color\":\"rgba(0,0,0,0)\"}}}'"
      ]
     },
     "execution_count": 16,
     "metadata": {},
     "output_type": "execute_result"
    }
   ],
   "source": [
    "import plotly.io as pio\n",
    "from policyengine_core.charts import *\n",
    "\n",
    "H1 = \"Single adult, no children\"\n",
    "H2 = \"Married couple, two children\"\n",
    "H3 = \"Pensioner couple, no children\"\n",
    "\n",
    "def plot(household_name: str, title):\n",
    "    fig = px.line(\n",
    "        df[df[\"Household type\"] == household_name], \n",
    "        x=\"Earnings\", \n",
    "        y=\"Net income\", \n",
    "        color=\"Policy\",\n",
    "        color_discrete_sequence=BLUE_COLOUR_SCALE,\n",
    "    ).update_layout(\n",
    "        yaxis_tickmode=\"array\",\n",
    "        yaxis_tickvals=[-20_000, -15_000, -10_000, -5_000, 0, 5_000, 10_000, 15_000, 20_000],\n",
    "        yaxis_ticktext=[\"-£20,000\", \"-£15,000\", \"-£10,000\", \"-£5,000\", \"£0\", \"+£5,000\", \"+£10,000\", \"+£15,000\", \"+£20,000\"],\n",
    "        yaxis_range=(-25_000, 25_000),\n",
    "        xaxis_tickformat=\",.0f\",\n",
    "        xaxis_tickprefix=\"£\",\n",
    "        yaxis_title=\"Change to annual net income\",\n",
    "        xaxis_title=\"Employment income\",\n",
    "        title=title,\n",
    "    )\n",
    "    fig.add_shape(\n",
    "            type=\"line\",\n",
    "            xref=\"paper\",\n",
    "            yref=\"y\",\n",
    "            x0=0,\n",
    "            y0=0,\n",
    "            x1=1,\n",
    "            y1=0,\n",
    "            line=dict(color=\"grey\", width=1),\n",
    "        )\n",
    "    return format_fig(fig)\n",
    "plot(H1, title=\"Figure 11: Change to annual net income by UBI policy and income (single adult, no children)\").to_json()"
   ]
  },
  {
   "cell_type": "markdown",
   "metadata": {},
   "source": [
    "For a married couple with two children, one of whom has earnings, the net income landscape is more generous. The £400 per month UBI leaves them better off or roughly equal at virtually any earnings level, starting with a bonus of over £14,000 which decreases smoothly until around £63,500 (at this level, they have just phased out of the Child Benefit). At £100,000 earnings, they become significantly better off because they avoid the phase-out of the personal allowance entirely."
   ]
  },
  {
   "cell_type": "code",
   "execution_count": 17,
   "metadata": {
    "tags": [
     "hide-input"
    ]
   },
   "outputs": [
    {
     "data": {
      "text/plain": [
       "'{\"data\":[{\"hovertemplate\":\"Policy=\\\\u00a3200/month<br>Earnings=%{x}<br>Net income=%{y}<extra></extra>\",\"legendgroup\":\"\\\\u00a3200/month\",\"line\":{\"color\":\"#D8E6F3\",\"dash\":\"solid\"},\"marker\":{\"symbol\":\"circle\"},\"mode\":\"lines\",\"name\":\"\\\\u00a3200/month\",\"orientation\":\"v\",\"showlegend\":true,\"x\":[0.0,1040.44580078125,2080.8916015625,3121.33740234375,4161.783203125,5202.22900390625,6242.6748046875,7283.12060546875,8323.56640625,9364.0126953125,10404.4580078125,11444.904296875,12485.349609375,13525.7958984375,14566.2412109375,15606.6875,16647.1328125,17687.578125,18728.025390625,19768.470703125,20808.916015625,21849.361328125,22889.80859375,23930.251953125,24970.69921875,26011.14453125,27051.591796875,28092.03515625,29132.482421875,30172.927734375,31213.375,32253.818359375,33294.265625,34334.7109375,35375.15625,36415.6015625,37456.05078125,38496.49609375,39536.94140625,40577.3828125,41617.83203125,42658.27734375,43698.72265625,44739.16796875,45779.6171875,46820.0625,47860.50390625,48900.94921875,49941.3984375,50981.84375,52022.2890625,53062.73828125,54103.18359375,55143.62890625,56184.0703125,57224.51953125,58264.96484375,59305.41015625,60345.85546875,61386.3046875,62426.75,63467.19140625,64507.63671875,65548.0859375,66588.53125,67628.9765625,68669.421875,69709.8671875,70750.3125,71790.7578125,72831.203125,73871.6484375,74912.1015625,75952.546875,76992.9921875,78033.4375,79073.8828125,80114.328125,81154.765625,82195.2109375,83235.6640625,84276.109375,85316.5546875,86357.0,87397.4453125,88437.890625,89478.3359375,90518.7890625,91559.234375,92599.6796875,93640.125,94680.5703125,95721.0078125,96761.453125,97801.8984375,98842.3515625,99882.796875,100923.2421875,101963.6875,103004.1328125],\"xaxis\":\"x\",\"y\":[4800.0,4800.0,4800.0009765625,4607.634765625,4390.400390625,4173.16796875,3955.93359375,3962.615234375,4224.662109375,4126.90625,4029.146484375,3931.396484375,3833.640625,3735.884765625,3704.390625,3700.275390625,3696.16015625,3692.04296875,3687.927734375,3683.814453125,3679.69921875,3675.587890625,3671.470703125,3667.35546875,3663.23828125,3659.123046875,3655.01171875,3650.896484375,3646.78125,3642.6640625,3638.548828125,3634.435546875,3630.3203125,3626.203125,3622.08984375,3607.984375,3214.73828125,2821.5,2428.2578125,2136.69921875,2127.5546875,2118.41015625,2109.265625,2100.1171875,2090.9765625,2081.828125,2072.6875,2063.546875,2054.3984375,2249.2421875,2230.953125,2212.66015625,2194.37109375,2176.078125,2157.7890625,2139.50390625,2121.21484375,2102.921875,2084.640625,2066.3515625,2048.0625,2029.765625,2011.484375,1993.19140625,1974.8984375,1956.609375,1938.32421875,1920.03515625,1901.74609375,1883.45703125,1865.16796875,1846.8828125,1828.58984375,1810.296875,1792.0078125,1773.71875,1755.4296875,1737.140625,1718.85546875,1700.56640625,1682.27734375,1663.98828125,1645.69921875,1627.4140625,1609.125,1590.8359375,1572.546875,1554.25390625,1535.96484375,1517.671875,1499.38671875,1481.09765625,1462.8046875,1444.5234375,1426.2265625,1407.9375,1389.6484375,1363.25,1335.8125,1308.375],\"yaxis\":\"y\",\"type\":\"scatter\"},{\"hovertemplate\":\"Policy=\\\\u00a3300/month<br>Earnings=%{x}<br>Net income=%{y}<extra></extra>\",\"legendgroup\":\"\\\\u00a3300/month\",\"line\":{\"color\":\"#2C6496\",\"dash\":\"solid\"},\"marker\":{\"symbol\":\"circle\"},\"mode\":\"lines\",\"name\":\"\\\\u00a3300/month\",\"orientation\":\"v\",\"showlegend\":true,\"x\":[0.0,1040.44580078125,2080.8916015625,3121.33740234375,4161.783203125,5202.22900390625,6242.6748046875,7283.12060546875,8323.56640625,9364.0126953125,10404.4580078125,11444.904296875,12485.349609375,13525.7958984375,14566.2412109375,15606.6875,16647.1328125,17687.578125,18728.025390625,19768.470703125,20808.916015625,21849.361328125,22889.80859375,23930.251953125,24970.69921875,26011.14453125,27051.591796875,28092.03515625,29132.482421875,30172.927734375,31213.375,32253.818359375,33294.265625,34334.7109375,35375.15625,36415.6015625,37456.05078125,38496.49609375,39536.94140625,40577.3828125,41617.83203125,42658.27734375,43698.72265625,44739.16796875,45779.6171875,46820.0625,47860.50390625,48900.94921875,49941.3984375,50981.84375,52022.2890625,53062.73828125,54103.18359375,55143.62890625,56184.0703125,57224.51953125,58264.96484375,59305.41015625,60345.85546875,61386.3046875,62426.75,63467.19140625,64507.63671875,65548.0859375,66588.53125,67628.9765625,68669.421875,69709.8671875,70750.3125,71790.7578125,72831.203125,73871.6484375,74912.1015625,75952.546875,76992.9921875,78033.4375,79073.8828125,80114.328125,81154.765625,82195.2109375,83235.6640625,84276.109375,85316.5546875,86357.0,87397.4453125,88437.890625,89478.3359375,90518.7890625,91559.234375,92599.6796875,93640.125,94680.5703125,95721.0078125,96761.453125,97801.8984375,98842.3515625,99882.796875,100923.2421875,101963.6875,103004.1328125],\"xaxis\":\"x\",\"y\":[7200.0,6954.31640625,6708.6337890625,6462.94921875,6217.265625,5971.58203125,5725.900390625,5704.1328125,6030.6953125,6204.98046875,6094.423828125,5983.8671875,5873.310546875,5762.75390625,5718.458984375,5701.53515625,5684.623046875,5667.701171875,5650.787109375,5633.869140625,5616.951171875,5600.03515625,5583.1171875,5566.19921875,5549.283203125,5532.365234375,5515.44921875,5498.53125,5481.6171875,5464.69921875,5447.779296875,5430.861328125,5413.94140625,5397.0234375,5380.10546875,5353.19921875,4947.15234375,4541.11328125,4135.0625,3729.0234375,3322.9765625,2916.93359375,2855.04296875,2817.4453125,2779.85546875,2742.2578125,2704.6640625,2667.0703125,2629.4765625,2843.8828125,2806.2890625,2768.6953125,2731.1015625,2693.50390625,2655.90625,2618.3125,2580.7265625,2543.125,2505.5390625,2467.94140625,2430.34765625,2392.74609375,2355.16015625,2317.5625,2279.96875,2242.375,2204.78125,2167.1875,2129.58984375,2091.99609375,2054.40234375,2016.8125,1979.21484375,1941.6171875,1904.0234375,1866.4296875,1828.8359375,1791.2421875,1753.6484375,1716.0546875,1678.4609375,1640.8671875,1603.2734375,1565.68359375,1528.0859375,1490.4921875,1452.8984375,1415.30078125,1377.70703125,1340.11328125,1302.51953125,1264.92578125,1227.33203125,1189.7421875,1152.140625,1114.546875,1076.953125,1224.0078125,1394.5,1565.0],\"yaxis\":\"y\",\"type\":\"scatter\"},{\"hovertemplate\":\"Policy=\\\\u00a3400/month<br>Earnings=%{x}<br>Net income=%{y}<extra></extra>\",\"legendgroup\":\"\\\\u00a3400/month\",\"line\":{\"color\":\"#17354F\",\"dash\":\"solid\"},\"marker\":{\"symbol\":\"circle\"},\"mode\":\"lines\",\"name\":\"\\\\u00a3400/month\",\"orientation\":\"v\",\"showlegend\":true,\"x\":[0.0,1040.44580078125,2080.8916015625,3121.33740234375,4161.783203125,5202.22900390625,6242.6748046875,7283.12060546875,8323.56640625,9364.0126953125,10404.4580078125,11444.904296875,12485.349609375,13525.7958984375,14566.2412109375,15606.6875,16647.1328125,17687.578125,18728.025390625,19768.470703125,20808.916015625,21849.361328125,22889.80859375,23930.251953125,24970.69921875,26011.14453125,27051.591796875,28092.03515625,29132.482421875,30172.927734375,31213.375,32253.818359375,33294.265625,34334.7109375,35375.15625,36415.6015625,37456.05078125,38496.49609375,39536.94140625,40577.3828125,41617.83203125,42658.27734375,43698.72265625,44739.16796875,45779.6171875,46820.0625,47860.50390625,48900.94921875,49941.3984375,50981.84375,52022.2890625,53062.73828125,54103.18359375,55143.62890625,56184.0703125,57224.51953125,58264.96484375,59305.41015625,60345.85546875,61386.3046875,62426.75,63467.19140625,64507.63671875,65548.0859375,66588.53125,67628.9765625,68669.421875,69709.8671875,70750.3125,71790.7578125,72831.203125,73871.6484375,74912.1015625,75952.546875,76992.9921875,78033.4375,79073.8828125,80114.328125,81154.765625,82195.2109375,83235.6640625,84276.109375,85316.5546875,86357.0,87397.4453125,88437.890625,89478.3359375,90518.7890625,91559.234375,92599.6796875,93640.125,94680.5703125,95721.0078125,96761.453125,97801.8984375,98842.3515625,99882.796875,100923.2421875,101963.6875,103004.1328125],\"xaxis\":\"x\",\"y\":[9600.0,9299.44921875,8998.8994140625,8698.34765625,8397.796875,8097.24609375,7796.6953125,7720.0625,7991.7578125,8263.451171875,8247.521484375,8112.275390625,7977.02734375,7841.779296875,7772.794921875,7731.181640625,7689.576171875,7647.96484375,7606.361328125,7564.755859375,7523.1484375,7481.5390625,7439.931640625,7398.32421875,7356.712890625,7315.107421875,7273.50390625,7231.89453125,7190.2890625,7148.6796875,7107.072265625,7065.462890625,7023.85546875,6982.24609375,6940.63671875,6889.0390625,6458.30078125,6027.5703125,5596.8359375,5166.1015625,4735.37109375,4304.6328125,3873.8984375,3443.1640625,3012.4296875,2673.234375,2580.7734375,2488.3125,2395.84765625,2618.6484375,2618.6484375,2618.64453125,2618.65234375,2618.640625,2618.640625,2618.640625,2618.6484375,2618.640625,2618.6484375,2618.6484375,2618.6484375,2618.640625,2618.6484375,2618.6484375,2618.64453125,2618.64453125,2618.64453125,2618.64453125,2618.64453125,2618.64453125,2618.64453125,2618.6484375,2618.6484375,2618.64453125,2618.64453125,2618.64453125,2618.64453125,2618.64453125,2618.6484375,2618.6484375,2618.6484375,2618.6484375,2618.6484375,2618.6484375,2618.6484375,2618.6484375,2618.6484375,2618.64453125,2618.64453125,2618.64453125,2618.64453125,2618.64453125,2618.6484375,2618.6484375,2618.6484375,2618.640625,2618.640625,2803.296875,3011.3828125,3219.46875],\"yaxis\":\"y\",\"type\":\"scatter\"}],\"layout\":{\"template\":{\"data\":{\"barpolar\":[{\"marker\":{\"line\":{\"color\":\"white\",\"width\":0.5},\"pattern\":{\"fillmode\":\"overlay\",\"size\":10,\"solidity\":0.2}},\"type\":\"barpolar\"}],\"bar\":[{\"error_x\":{\"color\":\"#2a3f5f\"},\"error_y\":{\"color\":\"#2a3f5f\"},\"marker\":{\"line\":{\"color\":\"white\",\"width\":0.5},\"pattern\":{\"fillmode\":\"overlay\",\"size\":10,\"solidity\":0.2}},\"type\":\"bar\"}],\"carpet\":[{\"aaxis\":{\"endlinecolor\":\"#2a3f5f\",\"gridcolor\":\"#C8D4E3\",\"linecolor\":\"#C8D4E3\",\"minorgridcolor\":\"#C8D4E3\",\"startlinecolor\":\"#2a3f5f\"},\"baxis\":{\"endlinecolor\":\"#2a3f5f\",\"gridcolor\":\"#C8D4E3\",\"linecolor\":\"#C8D4E3\",\"minorgridcolor\":\"#C8D4E3\",\"startlinecolor\":\"#2a3f5f\"},\"type\":\"carpet\"}],\"choropleth\":[{\"colorbar\":{\"outlinewidth\":0,\"ticks\":\"\"},\"type\":\"choropleth\"}],\"contourcarpet\":[{\"colorbar\":{\"outlinewidth\":0,\"ticks\":\"\"},\"type\":\"contourcarpet\"}],\"contour\":[{\"colorbar\":{\"outlinewidth\":0,\"ticks\":\"\"},\"colorscale\":[[0.0,\"#0d0887\"],[0.1111111111111111,\"#46039f\"],[0.2222222222222222,\"#7201a8\"],[0.3333333333333333,\"#9c179e\"],[0.4444444444444444,\"#bd3786\"],[0.5555555555555556,\"#d8576b\"],[0.6666666666666666,\"#ed7953\"],[0.7777777777777778,\"#fb9f3a\"],[0.8888888888888888,\"#fdca26\"],[1.0,\"#f0f921\"]],\"type\":\"contour\"}],\"heatmapgl\":[{\"colorbar\":{\"outlinewidth\":0,\"ticks\":\"\"},\"colorscale\":[[0.0,\"#0d0887\"],[0.1111111111111111,\"#46039f\"],[0.2222222222222222,\"#7201a8\"],[0.3333333333333333,\"#9c179e\"],[0.4444444444444444,\"#bd3786\"],[0.5555555555555556,\"#d8576b\"],[0.6666666666666666,\"#ed7953\"],[0.7777777777777778,\"#fb9f3a\"],[0.8888888888888888,\"#fdca26\"],[1.0,\"#f0f921\"]],\"type\":\"heatmapgl\"}],\"heatmap\":[{\"colorbar\":{\"outlinewidth\":0,\"ticks\":\"\"},\"colorscale\":[[0.0,\"#0d0887\"],[0.1111111111111111,\"#46039f\"],[0.2222222222222222,\"#7201a8\"],[0.3333333333333333,\"#9c179e\"],[0.4444444444444444,\"#bd3786\"],[0.5555555555555556,\"#d8576b\"],[0.6666666666666666,\"#ed7953\"],[0.7777777777777778,\"#fb9f3a\"],[0.8888888888888888,\"#fdca26\"],[1.0,\"#f0f921\"]],\"type\":\"heatmap\"}],\"histogram2dcontour\":[{\"colorbar\":{\"outlinewidth\":0,\"ticks\":\"\"},\"colorscale\":[[0.0,\"#0d0887\"],[0.1111111111111111,\"#46039f\"],[0.2222222222222222,\"#7201a8\"],[0.3333333333333333,\"#9c179e\"],[0.4444444444444444,\"#bd3786\"],[0.5555555555555556,\"#d8576b\"],[0.6666666666666666,\"#ed7953\"],[0.7777777777777778,\"#fb9f3a\"],[0.8888888888888888,\"#fdca26\"],[1.0,\"#f0f921\"]],\"type\":\"histogram2dcontour\"}],\"histogram2d\":[{\"colorbar\":{\"outlinewidth\":0,\"ticks\":\"\"},\"colorscale\":[[0.0,\"#0d0887\"],[0.1111111111111111,\"#46039f\"],[0.2222222222222222,\"#7201a8\"],[0.3333333333333333,\"#9c179e\"],[0.4444444444444444,\"#bd3786\"],[0.5555555555555556,\"#d8576b\"],[0.6666666666666666,\"#ed7953\"],[0.7777777777777778,\"#fb9f3a\"],[0.8888888888888888,\"#fdca26\"],[1.0,\"#f0f921\"]],\"type\":\"histogram2d\"}],\"histogram\":[{\"marker\":{\"pattern\":{\"fillmode\":\"overlay\",\"size\":10,\"solidity\":0.2}},\"type\":\"histogram\"}],\"mesh3d\":[{\"colorbar\":{\"outlinewidth\":0,\"ticks\":\"\"},\"type\":\"mesh3d\"}],\"parcoords\":[{\"line\":{\"colorbar\":{\"outlinewidth\":0,\"ticks\":\"\"}},\"type\":\"parcoords\"}],\"pie\":[{\"automargin\":true,\"type\":\"pie\"}],\"scatter3d\":[{\"line\":{\"colorbar\":{\"outlinewidth\":0,\"ticks\":\"\"}},\"marker\":{\"colorbar\":{\"outlinewidth\":0,\"ticks\":\"\"}},\"type\":\"scatter3d\"}],\"scattercarpet\":[{\"marker\":{\"colorbar\":{\"outlinewidth\":0,\"ticks\":\"\"}},\"type\":\"scattercarpet\"}],\"scattergeo\":[{\"marker\":{\"colorbar\":{\"outlinewidth\":0,\"ticks\":\"\"}},\"type\":\"scattergeo\"}],\"scattergl\":[{\"marker\":{\"colorbar\":{\"outlinewidth\":0,\"ticks\":\"\"}},\"type\":\"scattergl\"}],\"scattermapbox\":[{\"marker\":{\"colorbar\":{\"outlinewidth\":0,\"ticks\":\"\"}},\"type\":\"scattermapbox\"}],\"scatterpolargl\":[{\"marker\":{\"colorbar\":{\"outlinewidth\":0,\"ticks\":\"\"}},\"type\":\"scatterpolargl\"}],\"scatterpolar\":[{\"marker\":{\"colorbar\":{\"outlinewidth\":0,\"ticks\":\"\"}},\"type\":\"scatterpolar\"}],\"scatter\":[{\"fillpattern\":{\"fillmode\":\"overlay\",\"size\":10,\"solidity\":0.2},\"type\":\"scatter\"}],\"scatterternary\":[{\"marker\":{\"colorbar\":{\"outlinewidth\":0,\"ticks\":\"\"}},\"type\":\"scatterternary\"}],\"surface\":[{\"colorbar\":{\"outlinewidth\":0,\"ticks\":\"\"},\"colorscale\":[[0.0,\"#0d0887\"],[0.1111111111111111,\"#46039f\"],[0.2222222222222222,\"#7201a8\"],[0.3333333333333333,\"#9c179e\"],[0.4444444444444444,\"#bd3786\"],[0.5555555555555556,\"#d8576b\"],[0.6666666666666666,\"#ed7953\"],[0.7777777777777778,\"#fb9f3a\"],[0.8888888888888888,\"#fdca26\"],[1.0,\"#f0f921\"]],\"type\":\"surface\"}],\"table\":[{\"cells\":{\"fill\":{\"color\":\"#EBF0F8\"},\"line\":{\"color\":\"white\"}},\"header\":{\"fill\":{\"color\":\"#C8D4E3\"},\"line\":{\"color\":\"white\"}},\"type\":\"table\"}]},\"layout\":{\"annotationdefaults\":{\"arrowcolor\":\"#2a3f5f\",\"arrowhead\":0,\"arrowwidth\":1},\"autotypenumbers\":\"strict\",\"coloraxis\":{\"colorbar\":{\"outlinewidth\":0,\"ticks\":\"\"}},\"colorscale\":{\"diverging\":[[0,\"#8e0152\"],[0.1,\"#c51b7d\"],[0.2,\"#de77ae\"],[0.3,\"#f1b6da\"],[0.4,\"#fde0ef\"],[0.5,\"#f7f7f7\"],[0.6,\"#e6f5d0\"],[0.7,\"#b8e186\"],[0.8,\"#7fbc41\"],[0.9,\"#4d9221\"],[1,\"#276419\"]],\"sequential\":[[0.0,\"#0d0887\"],[0.1111111111111111,\"#46039f\"],[0.2222222222222222,\"#7201a8\"],[0.3333333333333333,\"#9c179e\"],[0.4444444444444444,\"#bd3786\"],[0.5555555555555556,\"#d8576b\"],[0.6666666666666666,\"#ed7953\"],[0.7777777777777778,\"#fb9f3a\"],[0.8888888888888888,\"#fdca26\"],[1.0,\"#f0f921\"]],\"sequentialminus\":[[0.0,\"#0d0887\"],[0.1111111111111111,\"#46039f\"],[0.2222222222222222,\"#7201a8\"],[0.3333333333333333,\"#9c179e\"],[0.4444444444444444,\"#bd3786\"],[0.5555555555555556,\"#d8576b\"],[0.6666666666666666,\"#ed7953\"],[0.7777777777777778,\"#fb9f3a\"],[0.8888888888888888,\"#fdca26\"],[1.0,\"#f0f921\"]]},\"colorway\":[\"#636efa\",\"#EF553B\",\"#00cc96\",\"#ab63fa\",\"#FFA15A\",\"#19d3f3\",\"#FF6692\",\"#B6E880\",\"#FF97FF\",\"#FECB52\"],\"font\":{\"color\":\"#2a3f5f\"},\"geo\":{\"bgcolor\":\"white\",\"lakecolor\":\"white\",\"landcolor\":\"white\",\"showlakes\":true,\"showland\":true,\"subunitcolor\":\"#C8D4E3\"},\"hoverlabel\":{\"align\":\"left\"},\"hovermode\":\"closest\",\"mapbox\":{\"style\":\"light\"},\"paper_bgcolor\":\"white\",\"plot_bgcolor\":\"white\",\"polar\":{\"angularaxis\":{\"gridcolor\":\"#EBF0F8\",\"linecolor\":\"#EBF0F8\",\"ticks\":\"\"},\"bgcolor\":\"white\",\"radialaxis\":{\"gridcolor\":\"#EBF0F8\",\"linecolor\":\"#EBF0F8\",\"ticks\":\"\"}},\"scene\":{\"xaxis\":{\"backgroundcolor\":\"white\",\"gridcolor\":\"#DFE8F3\",\"gridwidth\":2,\"linecolor\":\"#EBF0F8\",\"showbackground\":true,\"ticks\":\"\",\"zerolinecolor\":\"#EBF0F8\"},\"yaxis\":{\"backgroundcolor\":\"white\",\"gridcolor\":\"#DFE8F3\",\"gridwidth\":2,\"linecolor\":\"#EBF0F8\",\"showbackground\":true,\"ticks\":\"\",\"zerolinecolor\":\"#EBF0F8\"},\"zaxis\":{\"backgroundcolor\":\"white\",\"gridcolor\":\"#DFE8F3\",\"gridwidth\":2,\"linecolor\":\"#EBF0F8\",\"showbackground\":true,\"ticks\":\"\",\"zerolinecolor\":\"#EBF0F8\"}},\"shapedefaults\":{\"line\":{\"color\":\"#2a3f5f\"}},\"ternary\":{\"aaxis\":{\"gridcolor\":\"#DFE8F3\",\"linecolor\":\"#A2B1C6\",\"ticks\":\"\"},\"baxis\":{\"gridcolor\":\"#DFE8F3\",\"linecolor\":\"#A2B1C6\",\"ticks\":\"\"},\"bgcolor\":\"white\",\"caxis\":{\"gridcolor\":\"#DFE8F3\",\"linecolor\":\"#A2B1C6\",\"ticks\":\"\"}},\"title\":{\"x\":0.05},\"xaxis\":{\"automargin\":true,\"gridcolor\":\"#EBF0F8\",\"linecolor\":\"#EBF0F8\",\"ticks\":\"\",\"title\":{\"standoff\":15},\"zerolinecolor\":\"#EBF0F8\",\"zerolinewidth\":2},\"yaxis\":{\"automargin\":true,\"gridcolor\":\"#EBF0F8\",\"linecolor\":\"#EBF0F8\",\"ticks\":\"\",\"title\":{\"standoff\":15},\"zerolinecolor\":\"#EBF0F8\",\"zerolinewidth\":2}}},\"xaxis\":{\"anchor\":\"y\",\"domain\":[0.0,1.0],\"title\":{\"text\":\"Employment income\"},\"tickformat\":\",.0f\",\"tickprefix\":\"\\\\u00a3\"},\"yaxis\":{\"anchor\":\"x\",\"domain\":[0.0,1.0],\"title\":{\"text\":\"Change to annual net income\"},\"tickmode\":\"array\",\"tickvals\":[-20000,-15000,-10000,-5000,0,5000,10000,15000,20000],\"ticktext\":[\"-\\\\u00a320,000\",\"-\\\\u00a315,000\",\"-\\\\u00a310,000\",\"-\\\\u00a35,000\",\"\\\\u00a30\",\"+\\\\u00a35,000\",\"+\\\\u00a310,000\",\"+\\\\u00a315,000\",\"+\\\\u00a320,000\"],\"range\":[-25000,25000]},\"legend\":{\"title\":{\"text\":\"Policy\"},\"tracegroupgap\":0},\"margin\":{\"t\":60},\"title\":{\"text\":\"Figure 12: Change to annual net income by UBI policy and income (married couple, two children)\"},\"shapes\":[{\"line\":{\"color\":\"grey\",\"width\":1},\"type\":\"line\",\"x0\":0,\"x1\":1,\"xref\":\"paper\",\"y0\":0,\"y1\":0,\"yref\":\"y\"}],\"font\":{\"family\":\"Roboto Serif\",\"color\":\"black\"},\"images\":[{\"sizex\":0.2,\"sizey\":0.2,\"source\":\"https://raw.githubusercontent.com/PolicyEngine/policyengine-app/master/src/images/logos/policyengine/blue.png\",\"x\":1,\"xanchor\":\"right\",\"xref\":\"paper\",\"y\":-0.15,\"yanchor\":\"bottom\",\"yref\":\"paper\"}],\"height\":600,\"width\":800,\"modebar\":{\"bgcolor\":\"rgba(0,0,0,0)\",\"color\":\"rgba(0,0,0,0)\"}}}'"
      ]
     },
     "execution_count": 17,
     "metadata": {},
     "output_type": "execute_result"
    }
   ],
   "source": [
    "plot(H2, title=\"Figure 12: Change to annual net income by UBI policy and income (married couple, two children)\").to_json()"
   ]
  },
  {
   "cell_type": "markdown",
   "metadata": {},
   "source": [
    "For a pensioner couple, one of whom has income,[^11] the net impact of the basic income policies varies significantly with income, with regions of high gains and high losses. For households with income under £27,000, all of the policies leave them better off (with gains of between £4,000 and £9,000). This is primarily because Pension Credit insulates pensioners from Income Tax rises. The Guarantee Credit element of Pension Credit tops up pensioner incomes to a minimum level, and the income definition used means that pensioners are guaranteed to be better off: it deducts income tax payments (meaning that it shields from the tax rises in each policy) and does not include basic income payments. However, after pensioner income rises out of the range in which Guarantee Credit operates (around £12,500), the gains from the UBI policies diminish, reaching a break-even point at around £27,000. From that point, the policies differ but generally see net income rise more slowly than the baseline.  At £125,000, all UBI policies except the £400 per month policy see the household worse off.\n",
    "\n",
    "\n",
    "[^11]:\n",
    "     We plot based on earnings, but net income responds similarly to earnings as State Pension."
   ]
  },
  {
   "cell_type": "code",
   "execution_count": 18,
   "metadata": {
    "tags": [
     "hide-input"
    ]
   },
   "outputs": [
    {
     "data": {
      "text/plain": [
       "'{\"data\":[{\"hovertemplate\":\"Policy=\\\\u00a3200/month<br>Earnings=%{x}<br>Net income=%{y}<extra></extra>\",\"legendgroup\":\"\\\\u00a3200/month\",\"line\":{\"color\":\"#D8E6F3\",\"dash\":\"solid\"},\"marker\":{\"symbol\":\"circle\"},\"mode\":\"lines\",\"name\":\"\\\\u00a3200/month\",\"orientation\":\"v\",\"showlegend\":true,\"x\":[0.0,1040.44580078125,2080.8916015625,3121.33740234375,4161.783203125,5202.22900390625,6242.6748046875,7283.12060546875,8323.56640625,9364.0126953125,10404.4580078125,11444.904296875,12485.349609375,13525.7958984375,14566.2412109375,15606.6875,16647.1328125,17687.578125,18728.025390625,19768.470703125,20808.916015625,21849.361328125,22889.80859375,23930.251953125,24970.69921875,26011.14453125,27051.591796875,28092.03515625,29132.482421875,30172.927734375,31213.375,32253.818359375,33294.265625,34334.7109375,35375.15625,36415.6015625,37456.05078125,38496.49609375,39536.94140625,40577.3828125,41617.83203125,42658.27734375,43698.72265625,44739.16796875,45779.6171875,46820.0625,47860.50390625,48900.94921875,49941.3984375,50981.84375,52022.2890625,53062.73828125,54103.18359375,55143.62890625,56184.0703125,57224.51953125,58264.96484375,59305.41015625,60345.85546875,61386.3046875,62426.75,63467.19140625,64507.63671875,65548.0859375,66588.53125,67628.9765625,68669.421875,69709.8671875,70750.3125,71790.7578125,72831.203125,73871.6484375,74912.1015625,75952.546875,76992.9921875,78033.4375,79073.8828125,80114.328125,81154.765625,82195.2109375,83235.6640625,84276.109375,85316.5546875,86357.0,87397.4453125,88437.890625,89478.3359375,90518.7890625,91559.234375,92599.6796875,93640.125,94680.5703125,95721.0078125,96761.453125,97801.8984375,98842.3515625,99882.796875,100923.2421875,101963.6875,103004.1328125],\"xaxis\":\"x\",\"y\":[4800.0,4800.0,4799.998046875,4800.0,4800.0,4800.0,4800.0,4800.0,4800.0,4800.0,4800.0,4800.0,4800.0,4521.0244140625,3985.1083984375,3485.6943359375,3328.21484375,3212.19921875,2873.76953125,2535.33984375,2310.4453125,2301.30078125,2292.15625,2283.01171875,2273.8671875,2264.72265625,2255.578125,2246.43359375,2237.291015625,2228.146484375,2219.0,2209.857421875,2200.7109375,2191.56640625,2182.421875,2173.27734375,2164.1328125,2154.98828125,2145.84375,2136.69921875,2127.5546875,2118.41015625,2109.265625,2100.1171875,2090.9765625,2081.83203125,2072.6875,2063.54296875,2054.3984375,2249.23828125,2230.94921875,2212.6640625,2194.37109375,2176.078125,2157.79296875,2139.50390625,2121.21875,2102.92578125,2084.6328125,2066.3515625,2048.05859375,2029.76953125,2011.484375,1993.19140625,1974.90625,1956.61328125,1938.32421875,1920.03125,1901.74609375,1883.4609375,1865.16796875,1846.87890625,1828.58984375,1810.30078125,1792.0078125,1773.72265625,1755.4375,1737.14453125,1718.85546875,1700.5703125,1682.27734375,1663.9921875,1645.69921875,1627.41015625,1609.1171875,1590.828125,1572.546875,1554.2578125,1535.96875,1517.671875,1499.3828125,1481.09375,1462.8046875,1444.515625,1426.2265625,1407.9453125,1389.6484375,1363.25,1335.8125,1308.375],\"yaxis\":\"y\",\"type\":\"scatter\"},{\"hovertemplate\":\"Policy=\\\\u00a3300/month<br>Earnings=%{x}<br>Net income=%{y}<extra></extra>\",\"legendgroup\":\"\\\\u00a3300/month\",\"line\":{\"color\":\"#2C6496\",\"dash\":\"solid\"},\"marker\":{\"symbol\":\"circle\"},\"mode\":\"lines\",\"name\":\"\\\\u00a3300/month\",\"orientation\":\"v\",\"showlegend\":true,\"x\":[0.0,1040.44580078125,2080.8916015625,3121.33740234375,4161.783203125,5202.22900390625,6242.6748046875,7283.12060546875,8323.56640625,9364.0126953125,10404.4580078125,11444.904296875,12485.349609375,13525.7958984375,14566.2412109375,15606.6875,16647.1328125,17687.578125,18728.025390625,19768.470703125,20808.916015625,21849.361328125,22889.80859375,23930.251953125,24970.69921875,26011.14453125,27051.591796875,28092.03515625,29132.482421875,30172.927734375,31213.375,32253.818359375,33294.265625,34334.7109375,35375.15625,36415.6015625,37456.05078125,38496.49609375,39536.94140625,40577.3828125,41617.83203125,42658.27734375,43698.72265625,44739.16796875,45779.6171875,46820.0625,47860.50390625,48900.94921875,49941.3984375,50981.84375,52022.2890625,53062.73828125,54103.18359375,55143.62890625,56184.0703125,57224.51953125,58264.96484375,59305.41015625,60345.85546875,61386.3046875,62426.75,63467.19140625,64507.63671875,65548.0859375,66588.53125,67628.9765625,68669.421875,69709.8671875,70750.3125,71790.7578125,72831.203125,73871.6484375,74912.1015625,75952.546875,76992.9921875,78033.4375,79073.8828125,80114.328125,81154.765625,82195.2109375,83235.6640625,84276.109375,85316.5546875,86357.0,87397.4453125,88437.890625,89478.3359375,90518.7890625,91559.234375,92599.6796875,93640.125,94680.5703125,95721.0078125,96761.453125,97801.8984375,98842.3515625,99882.796875,100923.2421875,101963.6875,103004.1328125],\"xaxis\":\"x\",\"y\":[7200.0,7199.998046875,7199.998046875,7200.0,7200.0,7199.998046875,7200.0,7200.0,7200.0,7200.0,7200.0,7200.0,7200.0,6921.0263671875,6385.1103515625,5885.6962890625,5386.28125,5046.41015625,4690.912109375,4335.41015625,3979.912109375,3644.521484375,3606.92578125,3569.333984375,3531.73828125,3494.14453125,3456.55078125,3418.955078125,3381.36328125,3343.76953125,3306.173828125,3268.580078125,3230.986328125,3193.390625,3155.796875,3118.203125,3080.609375,3043.015625,3005.41796875,2967.82421875,2930.23046875,2892.63671875,2855.04296875,2817.4453125,2779.8515625,2742.2578125,2704.66796875,2667.0703125,2629.4765625,2843.8828125,2806.2890625,2768.6953125,2731.09765625,2693.50390625,2655.91015625,2618.3203125,2580.73046875,2543.125,2505.53515625,2467.94140625,2430.34765625,2392.75,2355.16015625,2317.5625,2279.96875,2242.375,2204.78125,2167.1875,2129.59375,2092.0,2054.40234375,2016.80859375,1979.21484375,1941.62109375,1904.0234375,1866.4296875,1828.83984375,1791.24609375,1753.6484375,1716.0546875,1678.4609375,1640.8671875,1603.26953125,1565.67578125,1528.078125,1490.4921875,1452.8984375,1415.3046875,1377.7109375,1340.109375,1302.515625,1264.921875,1227.328125,1189.734375,1152.140625,1114.546875,1076.953125,1224.0078125,1394.5,1565.0],\"yaxis\":\"y\",\"type\":\"scatter\"},{\"hovertemplate\":\"Policy=\\\\u00a3400/month<br>Earnings=%{x}<br>Net income=%{y}<extra></extra>\",\"legendgroup\":\"\\\\u00a3400/month\",\"line\":{\"color\":\"#17354F\",\"dash\":\"solid\"},\"marker\":{\"symbol\":\"circle\"},\"mode\":\"lines\",\"name\":\"\\\\u00a3400/month\",\"orientation\":\"v\",\"showlegend\":true,\"x\":[0.0,1040.44580078125,2080.8916015625,3121.33740234375,4161.783203125,5202.22900390625,6242.6748046875,7283.12060546875,8323.56640625,9364.0126953125,10404.4580078125,11444.904296875,12485.349609375,13525.7958984375,14566.2412109375,15606.6875,16647.1328125,17687.578125,18728.025390625,19768.470703125,20808.916015625,21849.361328125,22889.80859375,23930.251953125,24970.69921875,26011.14453125,27051.591796875,28092.03515625,29132.482421875,30172.927734375,31213.375,32253.818359375,33294.265625,34334.7109375,35375.15625,36415.6015625,37456.05078125,38496.49609375,39536.94140625,40577.3828125,41617.83203125,42658.27734375,43698.72265625,44739.16796875,45779.6171875,46820.0625,47860.50390625,48900.94921875,49941.3984375,50981.84375,52022.2890625,53062.73828125,54103.18359375,55143.62890625,56184.0703125,57224.51953125,58264.96484375,59305.41015625,60345.85546875,61386.3046875,62426.75,63467.19140625,64507.63671875,65548.0859375,66588.53125,67628.9765625,68669.421875,69709.8671875,70750.3125,71790.7578125,72831.203125,73871.6484375,74912.1015625,75952.546875,76992.9921875,78033.4375,79073.8828125,80114.328125,81154.765625,82195.2109375,83235.6640625,84276.109375,85316.5546875,86357.0,87397.4453125,88437.890625,89478.3359375,90518.7890625,91559.234375,92599.6796875,93640.125,94680.5703125,95721.0078125,96761.453125,97801.8984375,98842.3515625,99882.796875,100923.2421875,101963.6875,103004.1328125],\"xaxis\":\"x\",\"y\":[9600.0,9599.998046875,9599.998046875,9600.0,9600.0,9600.0,9599.998046875,9600.001953125,9599.998046875,9599.998046875,9600.0,9600.0,9600.0,9321.0263671875,8785.1083984375,8285.6943359375,7786.279296875,7176.337890625,6498.34375,6109.923828125,5721.505859375,5333.0859375,4944.666015625,4707.384765625,4614.92578125,4522.462890625,4430.00390625,4337.5390625,4245.080078125,4152.619140625,4060.15625,3967.6953125,3875.232421875,3782.76953125,3690.30859375,3597.84765625,3505.38671875,3412.92578125,3320.4609375,3228.0,3135.5390625,3043.08203125,2950.6171875,2858.15625,2765.69140625,2673.23046875,2580.7734375,2488.3125,2395.8515625,2618.6484375,2618.64453125,2618.6484375,2618.64453125,2618.64453125,2618.64453125,2618.640625,2618.65234375,2618.64453125,2618.6484375,2618.6484375,2618.64453125,2618.64453125,2618.65234375,2618.6484375,2618.6484375,2618.64453125,2618.64453125,2618.64453125,2618.6484375,2618.6484375,2618.64453125,2618.64453125,2618.64453125,2618.64453125,2618.64453125,2618.6484375,2618.6484375,2618.64453125,2618.6484375,2618.6484375,2618.6484375,2618.6484375,2618.64453125,2618.64453125,2618.640625,2618.6484375,2618.6484375,2618.6484375,2618.6484375,2618.640625,2618.640625,2618.640625,2618.640625,2618.640625,2618.640625,2618.65625,2618.6484375,2803.296875,3011.3828125,3219.46875],\"yaxis\":\"y\",\"type\":\"scatter\"}],\"layout\":{\"template\":{\"data\":{\"barpolar\":[{\"marker\":{\"line\":{\"color\":\"white\",\"width\":0.5},\"pattern\":{\"fillmode\":\"overlay\",\"size\":10,\"solidity\":0.2}},\"type\":\"barpolar\"}],\"bar\":[{\"error_x\":{\"color\":\"#2a3f5f\"},\"error_y\":{\"color\":\"#2a3f5f\"},\"marker\":{\"line\":{\"color\":\"white\",\"width\":0.5},\"pattern\":{\"fillmode\":\"overlay\",\"size\":10,\"solidity\":0.2}},\"type\":\"bar\"}],\"carpet\":[{\"aaxis\":{\"endlinecolor\":\"#2a3f5f\",\"gridcolor\":\"#C8D4E3\",\"linecolor\":\"#C8D4E3\",\"minorgridcolor\":\"#C8D4E3\",\"startlinecolor\":\"#2a3f5f\"},\"baxis\":{\"endlinecolor\":\"#2a3f5f\",\"gridcolor\":\"#C8D4E3\",\"linecolor\":\"#C8D4E3\",\"minorgridcolor\":\"#C8D4E3\",\"startlinecolor\":\"#2a3f5f\"},\"type\":\"carpet\"}],\"choropleth\":[{\"colorbar\":{\"outlinewidth\":0,\"ticks\":\"\"},\"type\":\"choropleth\"}],\"contourcarpet\":[{\"colorbar\":{\"outlinewidth\":0,\"ticks\":\"\"},\"type\":\"contourcarpet\"}],\"contour\":[{\"colorbar\":{\"outlinewidth\":0,\"ticks\":\"\"},\"colorscale\":[[0.0,\"#0d0887\"],[0.1111111111111111,\"#46039f\"],[0.2222222222222222,\"#7201a8\"],[0.3333333333333333,\"#9c179e\"],[0.4444444444444444,\"#bd3786\"],[0.5555555555555556,\"#d8576b\"],[0.6666666666666666,\"#ed7953\"],[0.7777777777777778,\"#fb9f3a\"],[0.8888888888888888,\"#fdca26\"],[1.0,\"#f0f921\"]],\"type\":\"contour\"}],\"heatmapgl\":[{\"colorbar\":{\"outlinewidth\":0,\"ticks\":\"\"},\"colorscale\":[[0.0,\"#0d0887\"],[0.1111111111111111,\"#46039f\"],[0.2222222222222222,\"#7201a8\"],[0.3333333333333333,\"#9c179e\"],[0.4444444444444444,\"#bd3786\"],[0.5555555555555556,\"#d8576b\"],[0.6666666666666666,\"#ed7953\"],[0.7777777777777778,\"#fb9f3a\"],[0.8888888888888888,\"#fdca26\"],[1.0,\"#f0f921\"]],\"type\":\"heatmapgl\"}],\"heatmap\":[{\"colorbar\":{\"outlinewidth\":0,\"ticks\":\"\"},\"colorscale\":[[0.0,\"#0d0887\"],[0.1111111111111111,\"#46039f\"],[0.2222222222222222,\"#7201a8\"],[0.3333333333333333,\"#9c179e\"],[0.4444444444444444,\"#bd3786\"],[0.5555555555555556,\"#d8576b\"],[0.6666666666666666,\"#ed7953\"],[0.7777777777777778,\"#fb9f3a\"],[0.8888888888888888,\"#fdca26\"],[1.0,\"#f0f921\"]],\"type\":\"heatmap\"}],\"histogram2dcontour\":[{\"colorbar\":{\"outlinewidth\":0,\"ticks\":\"\"},\"colorscale\":[[0.0,\"#0d0887\"],[0.1111111111111111,\"#46039f\"],[0.2222222222222222,\"#7201a8\"],[0.3333333333333333,\"#9c179e\"],[0.4444444444444444,\"#bd3786\"],[0.5555555555555556,\"#d8576b\"],[0.6666666666666666,\"#ed7953\"],[0.7777777777777778,\"#fb9f3a\"],[0.8888888888888888,\"#fdca26\"],[1.0,\"#f0f921\"]],\"type\":\"histogram2dcontour\"}],\"histogram2d\":[{\"colorbar\":{\"outlinewidth\":0,\"ticks\":\"\"},\"colorscale\":[[0.0,\"#0d0887\"],[0.1111111111111111,\"#46039f\"],[0.2222222222222222,\"#7201a8\"],[0.3333333333333333,\"#9c179e\"],[0.4444444444444444,\"#bd3786\"],[0.5555555555555556,\"#d8576b\"],[0.6666666666666666,\"#ed7953\"],[0.7777777777777778,\"#fb9f3a\"],[0.8888888888888888,\"#fdca26\"],[1.0,\"#f0f921\"]],\"type\":\"histogram2d\"}],\"histogram\":[{\"marker\":{\"pattern\":{\"fillmode\":\"overlay\",\"size\":10,\"solidity\":0.2}},\"type\":\"histogram\"}],\"mesh3d\":[{\"colorbar\":{\"outlinewidth\":0,\"ticks\":\"\"},\"type\":\"mesh3d\"}],\"parcoords\":[{\"line\":{\"colorbar\":{\"outlinewidth\":0,\"ticks\":\"\"}},\"type\":\"parcoords\"}],\"pie\":[{\"automargin\":true,\"type\":\"pie\"}],\"scatter3d\":[{\"line\":{\"colorbar\":{\"outlinewidth\":0,\"ticks\":\"\"}},\"marker\":{\"colorbar\":{\"outlinewidth\":0,\"ticks\":\"\"}},\"type\":\"scatter3d\"}],\"scattercarpet\":[{\"marker\":{\"colorbar\":{\"outlinewidth\":0,\"ticks\":\"\"}},\"type\":\"scattercarpet\"}],\"scattergeo\":[{\"marker\":{\"colorbar\":{\"outlinewidth\":0,\"ticks\":\"\"}},\"type\":\"scattergeo\"}],\"scattergl\":[{\"marker\":{\"colorbar\":{\"outlinewidth\":0,\"ticks\":\"\"}},\"type\":\"scattergl\"}],\"scattermapbox\":[{\"marker\":{\"colorbar\":{\"outlinewidth\":0,\"ticks\":\"\"}},\"type\":\"scattermapbox\"}],\"scatterpolargl\":[{\"marker\":{\"colorbar\":{\"outlinewidth\":0,\"ticks\":\"\"}},\"type\":\"scatterpolargl\"}],\"scatterpolar\":[{\"marker\":{\"colorbar\":{\"outlinewidth\":0,\"ticks\":\"\"}},\"type\":\"scatterpolar\"}],\"scatter\":[{\"fillpattern\":{\"fillmode\":\"overlay\",\"size\":10,\"solidity\":0.2},\"type\":\"scatter\"}],\"scatterternary\":[{\"marker\":{\"colorbar\":{\"outlinewidth\":0,\"ticks\":\"\"}},\"type\":\"scatterternary\"}],\"surface\":[{\"colorbar\":{\"outlinewidth\":0,\"ticks\":\"\"},\"colorscale\":[[0.0,\"#0d0887\"],[0.1111111111111111,\"#46039f\"],[0.2222222222222222,\"#7201a8\"],[0.3333333333333333,\"#9c179e\"],[0.4444444444444444,\"#bd3786\"],[0.5555555555555556,\"#d8576b\"],[0.6666666666666666,\"#ed7953\"],[0.7777777777777778,\"#fb9f3a\"],[0.8888888888888888,\"#fdca26\"],[1.0,\"#f0f921\"]],\"type\":\"surface\"}],\"table\":[{\"cells\":{\"fill\":{\"color\":\"#EBF0F8\"},\"line\":{\"color\":\"white\"}},\"header\":{\"fill\":{\"color\":\"#C8D4E3\"},\"line\":{\"color\":\"white\"}},\"type\":\"table\"}]},\"layout\":{\"annotationdefaults\":{\"arrowcolor\":\"#2a3f5f\",\"arrowhead\":0,\"arrowwidth\":1},\"autotypenumbers\":\"strict\",\"coloraxis\":{\"colorbar\":{\"outlinewidth\":0,\"ticks\":\"\"}},\"colorscale\":{\"diverging\":[[0,\"#8e0152\"],[0.1,\"#c51b7d\"],[0.2,\"#de77ae\"],[0.3,\"#f1b6da\"],[0.4,\"#fde0ef\"],[0.5,\"#f7f7f7\"],[0.6,\"#e6f5d0\"],[0.7,\"#b8e186\"],[0.8,\"#7fbc41\"],[0.9,\"#4d9221\"],[1,\"#276419\"]],\"sequential\":[[0.0,\"#0d0887\"],[0.1111111111111111,\"#46039f\"],[0.2222222222222222,\"#7201a8\"],[0.3333333333333333,\"#9c179e\"],[0.4444444444444444,\"#bd3786\"],[0.5555555555555556,\"#d8576b\"],[0.6666666666666666,\"#ed7953\"],[0.7777777777777778,\"#fb9f3a\"],[0.8888888888888888,\"#fdca26\"],[1.0,\"#f0f921\"]],\"sequentialminus\":[[0.0,\"#0d0887\"],[0.1111111111111111,\"#46039f\"],[0.2222222222222222,\"#7201a8\"],[0.3333333333333333,\"#9c179e\"],[0.4444444444444444,\"#bd3786\"],[0.5555555555555556,\"#d8576b\"],[0.6666666666666666,\"#ed7953\"],[0.7777777777777778,\"#fb9f3a\"],[0.8888888888888888,\"#fdca26\"],[1.0,\"#f0f921\"]]},\"colorway\":[\"#636efa\",\"#EF553B\",\"#00cc96\",\"#ab63fa\",\"#FFA15A\",\"#19d3f3\",\"#FF6692\",\"#B6E880\",\"#FF97FF\",\"#FECB52\"],\"font\":{\"color\":\"#2a3f5f\"},\"geo\":{\"bgcolor\":\"white\",\"lakecolor\":\"white\",\"landcolor\":\"white\",\"showlakes\":true,\"showland\":true,\"subunitcolor\":\"#C8D4E3\"},\"hoverlabel\":{\"align\":\"left\"},\"hovermode\":\"closest\",\"mapbox\":{\"style\":\"light\"},\"paper_bgcolor\":\"white\",\"plot_bgcolor\":\"white\",\"polar\":{\"angularaxis\":{\"gridcolor\":\"#EBF0F8\",\"linecolor\":\"#EBF0F8\",\"ticks\":\"\"},\"bgcolor\":\"white\",\"radialaxis\":{\"gridcolor\":\"#EBF0F8\",\"linecolor\":\"#EBF0F8\",\"ticks\":\"\"}},\"scene\":{\"xaxis\":{\"backgroundcolor\":\"white\",\"gridcolor\":\"#DFE8F3\",\"gridwidth\":2,\"linecolor\":\"#EBF0F8\",\"showbackground\":true,\"ticks\":\"\",\"zerolinecolor\":\"#EBF0F8\"},\"yaxis\":{\"backgroundcolor\":\"white\",\"gridcolor\":\"#DFE8F3\",\"gridwidth\":2,\"linecolor\":\"#EBF0F8\",\"showbackground\":true,\"ticks\":\"\",\"zerolinecolor\":\"#EBF0F8\"},\"zaxis\":{\"backgroundcolor\":\"white\",\"gridcolor\":\"#DFE8F3\",\"gridwidth\":2,\"linecolor\":\"#EBF0F8\",\"showbackground\":true,\"ticks\":\"\",\"zerolinecolor\":\"#EBF0F8\"}},\"shapedefaults\":{\"line\":{\"color\":\"#2a3f5f\"}},\"ternary\":{\"aaxis\":{\"gridcolor\":\"#DFE8F3\",\"linecolor\":\"#A2B1C6\",\"ticks\":\"\"},\"baxis\":{\"gridcolor\":\"#DFE8F3\",\"linecolor\":\"#A2B1C6\",\"ticks\":\"\"},\"bgcolor\":\"white\",\"caxis\":{\"gridcolor\":\"#DFE8F3\",\"linecolor\":\"#A2B1C6\",\"ticks\":\"\"}},\"title\":{\"x\":0.05},\"xaxis\":{\"automargin\":true,\"gridcolor\":\"#EBF0F8\",\"linecolor\":\"#EBF0F8\",\"ticks\":\"\",\"title\":{\"standoff\":15},\"zerolinecolor\":\"#EBF0F8\",\"zerolinewidth\":2},\"yaxis\":{\"automargin\":true,\"gridcolor\":\"#EBF0F8\",\"linecolor\":\"#EBF0F8\",\"ticks\":\"\",\"title\":{\"standoff\":15},\"zerolinecolor\":\"#EBF0F8\",\"zerolinewidth\":2}}},\"xaxis\":{\"anchor\":\"y\",\"domain\":[0.0,1.0],\"title\":{\"text\":\"Employment income\"},\"tickformat\":\",.0f\",\"tickprefix\":\"\\\\u00a3\"},\"yaxis\":{\"anchor\":\"x\",\"domain\":[0.0,1.0],\"title\":{\"text\":\"Change to annual net income\"},\"tickmode\":\"array\",\"tickvals\":[-20000,-15000,-10000,-5000,0,5000,10000,15000,20000],\"ticktext\":[\"-\\\\u00a320,000\",\"-\\\\u00a315,000\",\"-\\\\u00a310,000\",\"-\\\\u00a35,000\",\"\\\\u00a30\",\"+\\\\u00a35,000\",\"+\\\\u00a310,000\",\"+\\\\u00a315,000\",\"+\\\\u00a320,000\"],\"range\":[-25000,25000]},\"legend\":{\"title\":{\"text\":\"Policy\"},\"tracegroupgap\":0},\"margin\":{\"t\":60},\"title\":{\"text\":\"Figure 13: Change to annual net income by UBI policy and income (pensioner couple, no children)\"},\"shapes\":[{\"line\":{\"color\":\"grey\",\"width\":1},\"type\":\"line\",\"x0\":0,\"x1\":1,\"xref\":\"paper\",\"y0\":0,\"y1\":0,\"yref\":\"y\"}],\"font\":{\"family\":\"Roboto Serif\",\"color\":\"black\"},\"images\":[{\"sizex\":0.2,\"sizey\":0.2,\"source\":\"https://raw.githubusercontent.com/PolicyEngine/policyengine-app/master/src/images/logos/policyengine/blue.png\",\"x\":1,\"xanchor\":\"right\",\"xref\":\"paper\",\"y\":-0.15,\"yanchor\":\"bottom\",\"yref\":\"paper\"}],\"height\":600,\"width\":800,\"modebar\":{\"bgcolor\":\"rgba(0,0,0,0)\",\"color\":\"rgba(0,0,0,0)\"}}}'"
      ]
     },
     "execution_count": 18,
     "metadata": {},
     "output_type": "execute_result"
    }
   ],
   "source": [
    "plot(H3, title=\"Figure 13: Change to annual net income by UBI policy and income (pensioner couple, no children)\").to_json()"
   ]
  },
  {
   "cell_type": "markdown",
   "metadata": {},
   "source": [
    "The appendix contains charts comparing the baseline and reform net incomes as values rather than differences.\n",
    "\n",
    "\n",
    "### Marginal tax rates\n",
    "\n",
    "The marginal tax rate (MTR) for a given pound of earnings is defined as the percentage which does not contribute to increasing net income, either by going to taxation instead or by causing a reduction in benefit entitlement. For example, if an earner faces a 20% MTR from taxes and a 15% MTR from benefits, their total MTR is 35% and they take home 65p for each additional £1 of earnings.\n",
    "\n",
    "Figure X shows the MTR associated with each earnings level for a married couple with two children:[^12] the higher the line at a given income, the lower the incentive to work. Where the MTR is 100%, this means that earning an additional pound will make no difference to net income. Where the MTR is above 100%, earning additional income at the margin will decrease the household’s net income. The interaction of the policies is complex: at different points, some UBI policies would reduce MTRs; at others, they would increase them. Broadly, MTRs rise across the earnings spectrum, but decrease in some specific areas. \n",
    "\n",
    "The first of these areas is at £50,270, the higher rate threshold. Under current law, the Marriage Allowance is a tax allowance that reduces tax liability by enabling couples to transfer some (10%) of their personal allowance between them. However, it is only available to couples with one earner under the higher rate threshold, which leads to a sudden increase in tax liability at that income level (creating an MTR over 100%, a ‘cliff’). All UBI policies reduce this cliff because they reduce or eliminate the personal allowance.\n",
    "\n",
    "The second is at £100,000. Under baseline policy, the personal allowance is phased out after this point at a rate of 50p per pound of income over the threshold. With no personal allowance, there is nothing to phase out, so the £300 per month and £400 per month UBI policies both eliminate this, reducing the MTR by 20pp.\n",
    "\n",
    "Overall, all policies substantially raise marginal tax rates in the main, and therefore disincentivise work relative to the status quo, while removing some extreme disincentives to work embedded in certain parts of the current tax code. \n",
    "\n",
    "\n",
    "[^12]:\n",
    "     We focus on the MTR for a married couple with two children because the differences between baseline and reform don't depend much on household structure. See the appendix for more MTR charts for different household archetypes."
   ]
  },
  {
   "cell_type": "code",
   "execution_count": 24,
   "metadata": {
    "tags": [
     "hide-input"
    ]
   },
   "outputs": [],
   "source": [
    "import plotly.express as px\n",
    "from policyengine_uk import Simulation\n",
    "import pandas as pd\n",
    "\n",
    "SINGLE_NO_CHILDREN = {\n",
    "    \"people\": {\n",
    "        \"adult\": {\n",
    "            \"age\": 25,\n",
    "        }\n",
    "    },\n",
    "    \"benunits\": {\n",
    "        \"benunit\": {\n",
    "            \"members\": [\"adult\"],\n",
    "            \"claims_legacy_benefits\": False,\n",
    "            \"claims_all_entitled_benefits\": True,\n",
    "        }\n",
    "    },\n",
    "    \"households\": {\n",
    "        \"household\": {\n",
    "            \"members\": [\"adult\"],\n",
    "            \"would_evade_tv_licence_fee\": False,\n",
    "            \"household_owns_tv\": True,\n",
    "        }\n",
    "    },\n",
    "    \"axes\": [[{\n",
    "        \"name\": \"employment_income\",\n",
    "        \"min\": 0,\n",
    "        \"max\": 150_000,\n",
    "        \"count\": 100,\n",
    "    }]],\n",
    "}\n",
    "\n",
    "MARRIED_TWO_CHILDREN = {\n",
    "    \"people\": {\n",
    "        \"adult_1\": {\n",
    "            \"age\": 31,\n",
    "        },\n",
    "        \"adult_2\": {\n",
    "            \"age\": 30,\n",
    "        },\n",
    "        \"child_1\": {\n",
    "            \"age\": 4,\n",
    "        },\n",
    "        \"child_2\": {\n",
    "            \"age\": 6,\n",
    "        },\n",
    "    },\n",
    "    \"benunits\": {\n",
    "        \"benunit\": {\n",
    "            \"members\": [\"adult_1\", \"adult_2\", \"child_1\", \"child_2\"],\n",
    "            \"claims_legacy_benefits\": False,\n",
    "            \"claims_all_entitled_benefits\": True,\n",
    "        }\n",
    "    },\n",
    "    \"households\": {\n",
    "        \"household\": {\n",
    "            \"members\": [\"adult_1\", \"adult_2\", \"child_1\", \"child_2\"],\n",
    "            \"would_evade_tv_licence_fee\": False,\n",
    "            \"household_owns_tv\": True,\n",
    "        }\n",
    "    },\n",
    "    \"axes\": [[{\n",
    "        \"name\": \"employment_income\",\n",
    "        \"min\": 0,\n",
    "        \"max\": 150_000,\n",
    "        \"count\": 100,\n",
    "    }]],\n",
    "}\n",
    "\n",
    "PENSIONER_COUPLE_NO_CHILDREN = {\n",
    "    \"people\": {\n",
    "        \"adult_1\": {\n",
    "            \"age\": 70,\n",
    "        },\n",
    "        \"adult_2\": {\n",
    "            \"age\": 71,\n",
    "        }\n",
    "    },\n",
    "    \"benunits\": {\n",
    "        \"benunit\": {\n",
    "            \"members\": [\"adult_1\", \"adult_2\"],\n",
    "            \"claims_legacy_benefits\": False,\n",
    "            \"claims_all_entitled_benefits\": True,\n",
    "        }\n",
    "    },\n",
    "    \"households\": {\n",
    "        \"household\": {\n",
    "            \"members\": [\"adult_1\", \"adult_2\"],\n",
    "            \"would_evade_tv_licence_fee\": False,\n",
    "            \"household_owns_tv\": True,\n",
    "        }\n",
    "    },\n",
    "    \"axes\": [[{\n",
    "        \"name\": \"employment_income\",\n",
    "        \"min\": 0,\n",
    "        \"max\": 150_000,\n",
    "        \"count\": 100,\n",
    "    }]],\n",
    "}\n",
    "dfs = []\n",
    "for reform, policy_name in zip([None, model_1_reform, model_2_reform, model_3_reform], [\"Baseline\", \"£200/month\", \"£300/month\", \"£400/month\"]):\n",
    "    for household_type, household_name in zip(\n",
    "        [SINGLE_NO_CHILDREN, MARRIED_TWO_CHILDREN, PENSIONER_COUPLE_NO_CHILDREN],\n",
    "        [\"Single adult, no children\", \"Married couple, two children\", \"Pensioner couple, no children\"],\n",
    "    ):\n",
    "        baseline_sim = Simulation(situation=household_type)\n",
    "        sim = Simulation(situation=household_type, reform=reform)\n",
    "        mtr = sim.calculate(\"marginal_tax_rate\", 2023)\n",
    "        mtr = mtr.reshape((100, -1)).T[0]\n",
    "        earnings = sim.calculate(\"employment_income\", map_to=\"household\", period=2023)\n",
    "        df = pd.DataFrame({\"Policy\": policy_name, \"Marginal tax rate\": mtr, \"Earnings\": earnings, \"Household type\": household_name})\n",
    "        dfs.append(df)\n",
    "\n",
    "mtr_df = pd.concat(dfs)"
   ]
  },
  {
   "cell_type": "code",
   "execution_count": 25,
   "metadata": {
    "tags": [
     "hide-input"
    ]
   },
   "outputs": [
    {
     "data": {
      "text/plain": [
       "'{\"data\":[{\"hovertemplate\":\"Policy=Baseline<br>Earnings=%{x}<br>Marginal tax rate=%{y}<extra></extra>\",\"legendgroup\":\"Baseline\",\"line\":{\"color\":\"#616161\",\"dash\":\"solid\",\"shape\":\"hv\"},\"marker\":{\"symbol\":\"circle\"},\"mode\":\"lines\",\"name\":\"Baseline\",\"orientation\":\"v\",\"showlegend\":true,\"x\":[0.0,1560.668701171875,3121.33740234375,4682.00634765625,6242.6748046875,7803.34375,9364.0126953125,10924.6806640625,12485.349609375,14046.017578125,15606.6875,17167.35546875,18728.025390625,20288.69140625,21849.361328125,23410.03125,24970.69921875,26531.369140625,28092.03515625,29652.705078125,31213.375,32774.04296875,34334.7109375,35895.37890625,37456.05078125,39016.71875,40577.3828125,42138.0546875,43698.72265625,45259.39453125,46820.0625,48380.7265625,49941.3984375,51502.06640625,53062.73828125,54623.40625,56184.0703125,57744.7421875,59305.41015625,60866.08203125,62426.75,63987.4140625,65548.0859375,67108.7578125,68669.421875,70230.09375,71790.7578125,73351.4296875,74912.1015625,76472.765625,78033.4375,79594.1015625,81154.765625,82715.4453125,84276.109375,85836.78125,87397.4453125,88958.109375,90518.7890625,92079.453125,93640.125,95200.7890625,96761.453125,98322.1328125,99882.796875,101443.46875,103004.1328125,104564.796875,106125.4765625,107686.140625,109246.8125,110807.4765625,112368.140625,113928.8203125,115489.484375,117050.15625,118610.8203125,120171.484375,121732.1640625,123292.828125,124853.5,126414.1640625,127974.828125,129535.5078125,131096.171875,132656.828125,134217.515625,135778.1875,137338.84375,138899.515625,140460.1875,142020.84375,143581.515625,145142.1875,146702.859375,148263.515625,149824.203125,151384.875,152945.53125,154506.203125],\"xaxis\":\"x\",\"y\":[0.0,9.5367431640625e-07,0.0,0.0,0.20166993141174316,0.550000011920929,0.550000011920929,0.550000011920929,0.5994316339492798,0.6940000057220459,0.6940000057220459,0.6940000057220459,0.6940000057220459,0.6940000057220459,0.6940000057220459,0.6940000057220459,0.6940000057220459,0.6940019130706787,0.6940000057220459,0.6939980387687683,0.6940000057220459,0.6940000057220459,0.6940000057220459,0.5045703053474426,0.3199999928474426,0.3199999928474426,0.3199999928474426,0.3199999928474426,0.3199999928474426,0.3199999928474426,0.3199999928474426,0.3199999928474426,0.8249843716621399,0.6209999918937683,0.6209999918937683,0.6210038661956787,0.6210038661956787,0.6209999918937683,0.5634297132492065,0.4325000047683716,0.4325000047683716,0.4325000047683716,0.4325000047683716,0.4325000047683716,0.4325000047683716,0.4325000047683716,0.4324960708618164,0.4325000047683716,0.4325000047683716,0.4325000047683716,0.4325000047683716,0.432503879070282,0.4325000047683716,0.4325000047683716,0.4325000047683716,0.4325000047683716,0.4324960708618164,0.4325000047683716,0.4325000047683716,0.4325000047683716,0.4325000047683716,0.4325000047683716,0.4325000047683716,0.43250781297683716,0.6090624928474426,0.6324999928474426,0.6325078010559082,0.6324999928474426,0.6324999928474426,0.6324999928474426,0.6324999928474426,0.6324999928474426,0.6324999928474426,0.6325078010559082,0.6324999928474426,0.6324999928474426,0.6324999928474426,0.6324999928474426,0.6324999928474426,0.6324999928474426,0.5254765748977661,0.48250001668930054,0.48250001668930054,0.48250001668930054,0.48250001668930054,0.48250001668930054,0.48250001668930054,0.48250001668930054,0.48250001668930054,0.48250001668930054,0.48250001668930054,0.48250001668930054,0.48250001668930054,0.48250001668930054,0.48250001668930054,0.48250001668930054,0.48250001668930054,0.48250001668930054,0.48250001668930054,0.48250001668930054],\"yaxis\":\"y\",\"type\":\"scatter\"},{\"hovertemplate\":\"Policy=\\\\u00a3200/month<br>Earnings=%{x}<br>Marginal tax rate=%{y}<extra></extra>\",\"legendgroup\":\"\\\\u00a3200/month\",\"line\":{\"color\":\"#D8E6F3\",\"dash\":\"solid\",\"shape\":\"hv\"},\"marker\":{\"symbol\":\"circle\"},\"mode\":\"lines\",\"name\":\"\\\\u00a3200/month\",\"orientation\":\"v\",\"showlegend\":true,\"x\":[0.0,1560.668701171875,3121.33740234375,4682.00634765625,6242.6748046875,7803.34375,9364.0126953125,10924.6806640625,12485.349609375,14046.017578125,15606.6875,17167.35546875,18728.025390625,20288.69140625,21849.361328125,23410.03125,24970.69921875,26531.369140625,28092.03515625,29652.705078125,31213.375,32774.04296875,34334.7109375,35895.37890625,37456.05078125,39016.71875,40577.3828125,42138.0546875,43698.72265625,45259.39453125,46820.0625,48380.7265625,49941.3984375,51502.06640625,53062.73828125,54623.40625,56184.0703125,57744.7421875,59305.41015625,60866.08203125,62426.75,63987.4140625,65548.0859375,67108.7578125,68669.421875,70230.09375,71790.7578125,73351.4296875,74912.1015625,76472.765625,78033.4375,79594.1015625,81154.765625,82715.4453125,84276.109375,85836.78125,87397.4453125,88958.109375,90518.7890625,92079.453125,93640.125,95200.7890625,96761.453125,98322.1328125,99882.796875,101443.46875,103004.1328125,104564.796875,106125.4765625,107686.140625,109246.8125,110807.4765625,112368.140625,113928.8203125,115489.484375,117050.15625,118610.8203125,120171.484375,121732.1640625,123292.828125,124853.5,126414.1640625,127974.828125,129535.5078125,131096.171875,132656.828125,134217.515625,135778.1875,137338.84375,138899.515625,140460.1875,142020.84375,143581.515625,145142.1875,146702.859375,148263.515625,149824.203125,151384.875,152945.53125,154506.203125],\"xaxis\":\"x\",\"y\":[0.0,0.07530272006988525,0.20878905057907104,0.20878905057907104,0.20878905057907104,0.5105410218238831,0.6439570188522339,0.6439530849456787,0.6933867335319519,0.6979550719261169,0.6979550719261169,0.6979531049728394,0.6979511976242065,0.6979570388793945,0.6979570388793945,0.6979570388793945,0.6979531049728394,0.6979531049728394,0.6979550719261169,0.6979570388793945,0.6979531049728394,0.6979531049728394,0.6979531049728394,0.6979531049728394,0.6979531049728394,0.6979531049728394,0.3287890553474426,0.3287890553474426,0.3287890553474426,0.3287890553474426,0.3287851810455322,0.3287890553474426,0.6294296979904175,0.6385781168937683,0.6385781168937683,0.6385819911956787,0.6385781168937683,0.6385781168937683,0.5810078382492065,0.450082004070282,0.4500781297683716,0.4500781297683716,0.4500781297683716,0.450082004070282,0.4500781297683716,0.4500781297683716,0.4500781297683716,0.4500781297683716,0.4500741958618164,0.4500781297683716,0.4500741958618164,0.450082004070282,0.4500741958618164,0.4500781297683716,0.4500781297683716,0.4500781297683716,0.4500781297683716,0.4500781297683716,0.450082004070282,0.4500781297683716,0.4500781297683716,0.4500781297683716,0.45008593797683716,0.4500781297683716,0.6343984603881836,0.6588671803474426,0.6579999923706055,0.4500781297683716,0.4500781297683716,0.4500781297683716,0.4500781297683716,0.4500781297683716,0.4500781297683716,0.45008593797683716,0.4500781297683716,0.450070321559906,0.4500781297683716,0.4500781297683716,0.4500781297683716,0.4500781297683716,0.4857500195503235,0.5000780820846558,0.5000780820846558,0.500070333480835,0.5000780820846558,0.5000780820846558,0.5000780820846558,0.500070333480835,0.5000780820846558,0.5000780820846558,0.5000780820846558,0.500070333480835,0.5000780820846558,0.5000780820846558,0.5000780820846558,0.500070333480835,0.5000780820846558,0.5000780820846558,0.5000780820846558,0.5000780820846558],\"yaxis\":\"y\",\"type\":\"scatter\"},{\"hovertemplate\":\"Policy=\\\\u00a3300/month<br>Earnings=%{x}<br>Marginal tax rate=%{y}<extra></extra>\",\"legendgroup\":\"\\\\u00a3300/month\",\"line\":{\"color\":\"#2C6496\",\"dash\":\"solid\",\"shape\":\"hv\"},\"marker\":{\"symbol\":\"circle\"},\"mode\":\"lines\",\"name\":\"\\\\u00a3300/month\",\"orientation\":\"v\",\"showlegend\":true,\"x\":[0.0,1560.668701171875,3121.33740234375,4682.00634765625,6242.6748046875,7803.34375,9364.0126953125,10924.6806640625,12485.349609375,14046.017578125,15606.6875,17167.35546875,18728.025390625,20288.69140625,21849.361328125,23410.03125,24970.69921875,26531.369140625,28092.03515625,29652.705078125,31213.375,32774.04296875,34334.7109375,35895.37890625,37456.05078125,39016.71875,40577.3828125,42138.0546875,43698.72265625,45259.39453125,46820.0625,48380.7265625,49941.3984375,51502.06640625,53062.73828125,54623.40625,56184.0703125,57744.7421875,59305.41015625,60866.08203125,62426.75,63987.4140625,65548.0859375,67108.7578125,68669.421875,70230.09375,71790.7578125,73351.4296875,74912.1015625,76472.765625,78033.4375,79594.1015625,81154.765625,82715.4453125,84276.109375,85836.78125,87397.4453125,88958.109375,90518.7890625,92079.453125,93640.125,95200.7890625,96761.453125,98322.1328125,99882.796875,101443.46875,103004.1328125,104564.796875,106125.4765625,107686.140625,109246.8125,110807.4765625,112368.140625,113928.8203125,115489.484375,117050.15625,118610.8203125,120171.484375,121732.1640625,123292.828125,124853.5,126414.1640625,127974.828125,129535.5078125,131096.171875,132656.828125,134217.515625,135778.1875,137338.84375,138899.515625,140460.1875,142020.84375,143581.515625,145142.1875,146702.859375,148263.515625,149824.203125,151384.875,152945.53125,154506.203125],\"xaxis\":\"x\",\"y\":[0.23613280057907104,0.23613280057907104,0.23613280057907104,0.23613280057907104,0.23613280057907104,0.23613280057907104,0.6562578082084656,0.656261682510376,0.705691397190094,0.7102577686309814,0.7102577686309814,0.7102617025375366,0.7102617025375366,0.7102617025375366,0.7102577686309814,0.7102597951889038,0.7102617025375366,0.7102617025375366,0.7102577686309814,0.7102577686309814,0.7102617025375366,0.7102617025375366,0.7102577686309814,0.7102656364440918,0.7102617025375366,0.7102617025375366,0.7102617025375366,0.5646562576293945,0.3561328053474426,0.3561328053474426,0.3561328053474426,0.3561328053474426,0.6091171503067017,0.6571328043937683,0.6571328043937683,0.6571366786956787,0.6571328043937683,0.6571366786956787,0.5995625257492065,0.4686328172683716,0.4686328172683716,0.4686328172683716,0.4686328172683716,0.4686328172683716,0.4686328172683716,0.4686328172683716,0.4686288833618164,0.468636691570282,0.4686288833618164,0.4686328172683716,0.4686328172683716,0.4686328172683716,0.4686288833618164,0.4686328172683716,0.4686328172683716,0.4686328172683716,0.4686328172683716,0.4686328172683716,0.468636691570282,0.4686328172683716,0.4686328172683716,0.4686328172683716,0.46864062547683716,0.4686328172683716,0.4686328172683716,0.4686328172683716,0.46864062547683716,0.46864062547683716,0.46864062547683716,0.46864062547683716,0.4686328172683716,0.4686328172683716,0.4686328172683716,0.46864062547683716,0.4686328172683716,0.4686328172683716,0.4686328172683716,0.4686328172683716,0.46864062547683716,0.4686328172683716,0.5043125152587891,0.5186327695846558,0.5186327695846558,0.518625020980835,0.5186406373977661,0.5186406373977661,0.5186327695846558,0.518625020980835,0.5186327695846558,0.518625020980835,0.5186406373977661,0.5186327695846558,0.5186327695846558,0.5186327695846558,0.5186406373977661,0.5186327695846558,0.5186327695846558,0.5186327695846558,0.5186327695846558,0.5186327695846558],\"yaxis\":\"y\",\"type\":\"scatter\"},{\"hovertemplate\":\"Policy=\\\\u00a3400/month<br>Earnings=%{x}<br>Marginal tax rate=%{y}<extra></extra>\",\"legendgroup\":\"\\\\u00a3400/month\",\"line\":{\"color\":\"#17354F\",\"dash\":\"solid\",\"shape\":\"hv\"},\"marker\":{\"symbol\":\"circle\"},\"mode\":\"lines\",\"name\":\"\\\\u00a3400/month\",\"orientation\":\"v\",\"showlegend\":true,\"x\":[0.0,1560.668701171875,3121.33740234375,4682.00634765625,6242.6748046875,7803.34375,9364.0126953125,10924.6806640625,12485.349609375,14046.017578125,15606.6875,17167.35546875,18728.025390625,20288.69140625,21849.361328125,23410.03125,24970.69921875,26531.369140625,28092.03515625,29652.705078125,31213.375,32774.04296875,34334.7109375,35895.37890625,37456.05078125,39016.71875,40577.3828125,42138.0546875,43698.72265625,45259.39453125,46820.0625,48380.7265625,49941.3984375,51502.06640625,53062.73828125,54623.40625,56184.0703125,57744.7421875,59305.41015625,60866.08203125,62426.75,63987.4140625,65548.0859375,67108.7578125,68669.421875,70230.09375,71790.7578125,73351.4296875,74912.1015625,76472.765625,78033.4375,79594.1015625,81154.765625,82715.4453125,84276.109375,85836.78125,87397.4453125,88958.109375,90518.7890625,92079.453125,93640.125,95200.7890625,96761.453125,98322.1328125,99882.796875,101443.46875,103004.1328125,104564.796875,106125.4765625,107686.140625,109246.8125,110807.4765625,112368.140625,113928.8203125,115489.484375,117050.15625,118610.8203125,120171.484375,121732.1640625,123292.828125,124853.5,126414.1640625,127974.828125,129535.5078125,131096.171875,132656.828125,134217.515625,135778.1875,137338.84375,138899.515625,140460.1875,142020.84375,143581.515625,145142.1875,146702.859375,148263.515625,149824.203125,151384.875,152945.53125,154506.203125],\"xaxis\":\"x\",\"y\":[0.28886717557907104,0.28886717557907104,0.28886717557907104,0.28886717557907104,0.28886717557907104,0.28886717557907104,0.560671865940094,0.6799882650375366,0.729421854019165,0.7339922189712524,0.7339882850646973,0.7339882850646973,0.7339882850646973,0.7339882850646973,0.7339882850646973,0.7339922189712524,0.7339882850646973,0.7339882850646973,0.7339882850646973,0.7339882850646973,0.7339922189712524,0.7339882850646973,0.7339922189712524,0.7339882850646973,0.7339922189712524,0.7339922189712524,0.7339922189712524,0.7339922189712524,0.7339882850646973,0.7339922189712524,0.4088671803474426,0.4088671803474426,0.6021835803985596,0.6209999918937683,0.6209999918937683,0.6210038661956787,0.6209999918937683,0.6210038661956787,0.5634297132492065,0.432503879070282,0.4325000047683716,0.432503879070282,0.4325000047683716,0.4325000047683716,0.4325000047683716,0.4325000047683716,0.4324960708618164,0.432503879070282,0.4325000047683716,0.432503879070282,0.4324960708618164,0.4325000047683716,0.4325000047683716,0.4325000047683716,0.432503879070282,0.4325000047683716,0.4325000047683716,0.4325000047683716,0.4324960708618164,0.4325000047683716,0.4325000047683716,0.4325000047683716,0.4325000047683716,0.4325000047683716,0.4325000047683716,0.43250781297683716,0.4325000047683716,0.4325000047683716,0.4325000047683716,0.4325000047683716,0.4325000047683716,0.4325000047683716,0.4325000047683716,0.4325000047683716,0.4325000047683716,0.432492196559906,0.43250781297683716,0.43250781297683716,0.4325000047683716,0.4325000047683716,0.4681718945503235,0.48250001668930054,0.48250001668930054,0.48249220848083496,0.48250001668930054,0.48250001668930054,0.48250001668930054,0.48249220848083496,0.48250001668930054,0.48250001668930054,0.48250001668930054,0.48250001668930054,0.48250001668930054,0.48250001668930054,0.48250001668930054,0.48249220848083496,0.48250001668930054,0.48250001668930054,0.48250001668930054,0.48250001668930054],\"yaxis\":\"y\",\"type\":\"scatter\"}],\"layout\":{\"template\":{\"data\":{\"barpolar\":[{\"marker\":{\"line\":{\"color\":\"white\",\"width\":0.5},\"pattern\":{\"fillmode\":\"overlay\",\"size\":10,\"solidity\":0.2}},\"type\":\"barpolar\"}],\"bar\":[{\"error_x\":{\"color\":\"#2a3f5f\"},\"error_y\":{\"color\":\"#2a3f5f\"},\"marker\":{\"line\":{\"color\":\"white\",\"width\":0.5},\"pattern\":{\"fillmode\":\"overlay\",\"size\":10,\"solidity\":0.2}},\"type\":\"bar\"}],\"carpet\":[{\"aaxis\":{\"endlinecolor\":\"#2a3f5f\",\"gridcolor\":\"#C8D4E3\",\"linecolor\":\"#C8D4E3\",\"minorgridcolor\":\"#C8D4E3\",\"startlinecolor\":\"#2a3f5f\"},\"baxis\":{\"endlinecolor\":\"#2a3f5f\",\"gridcolor\":\"#C8D4E3\",\"linecolor\":\"#C8D4E3\",\"minorgridcolor\":\"#C8D4E3\",\"startlinecolor\":\"#2a3f5f\"},\"type\":\"carpet\"}],\"choropleth\":[{\"colorbar\":{\"outlinewidth\":0,\"ticks\":\"\"},\"type\":\"choropleth\"}],\"contourcarpet\":[{\"colorbar\":{\"outlinewidth\":0,\"ticks\":\"\"},\"type\":\"contourcarpet\"}],\"contour\":[{\"colorbar\":{\"outlinewidth\":0,\"ticks\":\"\"},\"colorscale\":[[0.0,\"#0d0887\"],[0.1111111111111111,\"#46039f\"],[0.2222222222222222,\"#7201a8\"],[0.3333333333333333,\"#9c179e\"],[0.4444444444444444,\"#bd3786\"],[0.5555555555555556,\"#d8576b\"],[0.6666666666666666,\"#ed7953\"],[0.7777777777777778,\"#fb9f3a\"],[0.8888888888888888,\"#fdca26\"],[1.0,\"#f0f921\"]],\"type\":\"contour\"}],\"heatmapgl\":[{\"colorbar\":{\"outlinewidth\":0,\"ticks\":\"\"},\"colorscale\":[[0.0,\"#0d0887\"],[0.1111111111111111,\"#46039f\"],[0.2222222222222222,\"#7201a8\"],[0.3333333333333333,\"#9c179e\"],[0.4444444444444444,\"#bd3786\"],[0.5555555555555556,\"#d8576b\"],[0.6666666666666666,\"#ed7953\"],[0.7777777777777778,\"#fb9f3a\"],[0.8888888888888888,\"#fdca26\"],[1.0,\"#f0f921\"]],\"type\":\"heatmapgl\"}],\"heatmap\":[{\"colorbar\":{\"outlinewidth\":0,\"ticks\":\"\"},\"colorscale\":[[0.0,\"#0d0887\"],[0.1111111111111111,\"#46039f\"],[0.2222222222222222,\"#7201a8\"],[0.3333333333333333,\"#9c179e\"],[0.4444444444444444,\"#bd3786\"],[0.5555555555555556,\"#d8576b\"],[0.6666666666666666,\"#ed7953\"],[0.7777777777777778,\"#fb9f3a\"],[0.8888888888888888,\"#fdca26\"],[1.0,\"#f0f921\"]],\"type\":\"heatmap\"}],\"histogram2dcontour\":[{\"colorbar\":{\"outlinewidth\":0,\"ticks\":\"\"},\"colorscale\":[[0.0,\"#0d0887\"],[0.1111111111111111,\"#46039f\"],[0.2222222222222222,\"#7201a8\"],[0.3333333333333333,\"#9c179e\"],[0.4444444444444444,\"#bd3786\"],[0.5555555555555556,\"#d8576b\"],[0.6666666666666666,\"#ed7953\"],[0.7777777777777778,\"#fb9f3a\"],[0.8888888888888888,\"#fdca26\"],[1.0,\"#f0f921\"]],\"type\":\"histogram2dcontour\"}],\"histogram2d\":[{\"colorbar\":{\"outlinewidth\":0,\"ticks\":\"\"},\"colorscale\":[[0.0,\"#0d0887\"],[0.1111111111111111,\"#46039f\"],[0.2222222222222222,\"#7201a8\"],[0.3333333333333333,\"#9c179e\"],[0.4444444444444444,\"#bd3786\"],[0.5555555555555556,\"#d8576b\"],[0.6666666666666666,\"#ed7953\"],[0.7777777777777778,\"#fb9f3a\"],[0.8888888888888888,\"#fdca26\"],[1.0,\"#f0f921\"]],\"type\":\"histogram2d\"}],\"histogram\":[{\"marker\":{\"pattern\":{\"fillmode\":\"overlay\",\"size\":10,\"solidity\":0.2}},\"type\":\"histogram\"}],\"mesh3d\":[{\"colorbar\":{\"outlinewidth\":0,\"ticks\":\"\"},\"type\":\"mesh3d\"}],\"parcoords\":[{\"line\":{\"colorbar\":{\"outlinewidth\":0,\"ticks\":\"\"}},\"type\":\"parcoords\"}],\"pie\":[{\"automargin\":true,\"type\":\"pie\"}],\"scatter3d\":[{\"line\":{\"colorbar\":{\"outlinewidth\":0,\"ticks\":\"\"}},\"marker\":{\"colorbar\":{\"outlinewidth\":0,\"ticks\":\"\"}},\"type\":\"scatter3d\"}],\"scattercarpet\":[{\"marker\":{\"colorbar\":{\"outlinewidth\":0,\"ticks\":\"\"}},\"type\":\"scattercarpet\"}],\"scattergeo\":[{\"marker\":{\"colorbar\":{\"outlinewidth\":0,\"ticks\":\"\"}},\"type\":\"scattergeo\"}],\"scattergl\":[{\"marker\":{\"colorbar\":{\"outlinewidth\":0,\"ticks\":\"\"}},\"type\":\"scattergl\"}],\"scattermapbox\":[{\"marker\":{\"colorbar\":{\"outlinewidth\":0,\"ticks\":\"\"}},\"type\":\"scattermapbox\"}],\"scatterpolargl\":[{\"marker\":{\"colorbar\":{\"outlinewidth\":0,\"ticks\":\"\"}},\"type\":\"scatterpolargl\"}],\"scatterpolar\":[{\"marker\":{\"colorbar\":{\"outlinewidth\":0,\"ticks\":\"\"}},\"type\":\"scatterpolar\"}],\"scatter\":[{\"fillpattern\":{\"fillmode\":\"overlay\",\"size\":10,\"solidity\":0.2},\"type\":\"scatter\"}],\"scatterternary\":[{\"marker\":{\"colorbar\":{\"outlinewidth\":0,\"ticks\":\"\"}},\"type\":\"scatterternary\"}],\"surface\":[{\"colorbar\":{\"outlinewidth\":0,\"ticks\":\"\"},\"colorscale\":[[0.0,\"#0d0887\"],[0.1111111111111111,\"#46039f\"],[0.2222222222222222,\"#7201a8\"],[0.3333333333333333,\"#9c179e\"],[0.4444444444444444,\"#bd3786\"],[0.5555555555555556,\"#d8576b\"],[0.6666666666666666,\"#ed7953\"],[0.7777777777777778,\"#fb9f3a\"],[0.8888888888888888,\"#fdca26\"],[1.0,\"#f0f921\"]],\"type\":\"surface\"}],\"table\":[{\"cells\":{\"fill\":{\"color\":\"#EBF0F8\"},\"line\":{\"color\":\"white\"}},\"header\":{\"fill\":{\"color\":\"#C8D4E3\"},\"line\":{\"color\":\"white\"}},\"type\":\"table\"}]},\"layout\":{\"annotationdefaults\":{\"arrowcolor\":\"#2a3f5f\",\"arrowhead\":0,\"arrowwidth\":1},\"autotypenumbers\":\"strict\",\"coloraxis\":{\"colorbar\":{\"outlinewidth\":0,\"ticks\":\"\"}},\"colorscale\":{\"diverging\":[[0,\"#8e0152\"],[0.1,\"#c51b7d\"],[0.2,\"#de77ae\"],[0.3,\"#f1b6da\"],[0.4,\"#fde0ef\"],[0.5,\"#f7f7f7\"],[0.6,\"#e6f5d0\"],[0.7,\"#b8e186\"],[0.8,\"#7fbc41\"],[0.9,\"#4d9221\"],[1,\"#276419\"]],\"sequential\":[[0.0,\"#0d0887\"],[0.1111111111111111,\"#46039f\"],[0.2222222222222222,\"#7201a8\"],[0.3333333333333333,\"#9c179e\"],[0.4444444444444444,\"#bd3786\"],[0.5555555555555556,\"#d8576b\"],[0.6666666666666666,\"#ed7953\"],[0.7777777777777778,\"#fb9f3a\"],[0.8888888888888888,\"#fdca26\"],[1.0,\"#f0f921\"]],\"sequentialminus\":[[0.0,\"#0d0887\"],[0.1111111111111111,\"#46039f\"],[0.2222222222222222,\"#7201a8\"],[0.3333333333333333,\"#9c179e\"],[0.4444444444444444,\"#bd3786\"],[0.5555555555555556,\"#d8576b\"],[0.6666666666666666,\"#ed7953\"],[0.7777777777777778,\"#fb9f3a\"],[0.8888888888888888,\"#fdca26\"],[1.0,\"#f0f921\"]]},\"colorway\":[\"#636efa\",\"#EF553B\",\"#00cc96\",\"#ab63fa\",\"#FFA15A\",\"#19d3f3\",\"#FF6692\",\"#B6E880\",\"#FF97FF\",\"#FECB52\"],\"font\":{\"color\":\"#2a3f5f\"},\"geo\":{\"bgcolor\":\"white\",\"lakecolor\":\"white\",\"landcolor\":\"white\",\"showlakes\":true,\"showland\":true,\"subunitcolor\":\"#C8D4E3\"},\"hoverlabel\":{\"align\":\"left\"},\"hovermode\":\"closest\",\"mapbox\":{\"style\":\"light\"},\"paper_bgcolor\":\"white\",\"plot_bgcolor\":\"white\",\"polar\":{\"angularaxis\":{\"gridcolor\":\"#EBF0F8\",\"linecolor\":\"#EBF0F8\",\"ticks\":\"\"},\"bgcolor\":\"white\",\"radialaxis\":{\"gridcolor\":\"#EBF0F8\",\"linecolor\":\"#EBF0F8\",\"ticks\":\"\"}},\"scene\":{\"xaxis\":{\"backgroundcolor\":\"white\",\"gridcolor\":\"#DFE8F3\",\"gridwidth\":2,\"linecolor\":\"#EBF0F8\",\"showbackground\":true,\"ticks\":\"\",\"zerolinecolor\":\"#EBF0F8\"},\"yaxis\":{\"backgroundcolor\":\"white\",\"gridcolor\":\"#DFE8F3\",\"gridwidth\":2,\"linecolor\":\"#EBF0F8\",\"showbackground\":true,\"ticks\":\"\",\"zerolinecolor\":\"#EBF0F8\"},\"zaxis\":{\"backgroundcolor\":\"white\",\"gridcolor\":\"#DFE8F3\",\"gridwidth\":2,\"linecolor\":\"#EBF0F8\",\"showbackground\":true,\"ticks\":\"\",\"zerolinecolor\":\"#EBF0F8\"}},\"shapedefaults\":{\"line\":{\"color\":\"#2a3f5f\"}},\"ternary\":{\"aaxis\":{\"gridcolor\":\"#DFE8F3\",\"linecolor\":\"#A2B1C6\",\"ticks\":\"\"},\"baxis\":{\"gridcolor\":\"#DFE8F3\",\"linecolor\":\"#A2B1C6\",\"ticks\":\"\"},\"bgcolor\":\"white\",\"caxis\":{\"gridcolor\":\"#DFE8F3\",\"linecolor\":\"#A2B1C6\",\"ticks\":\"\"}},\"title\":{\"x\":0.05},\"xaxis\":{\"automargin\":true,\"gridcolor\":\"#EBF0F8\",\"linecolor\":\"#EBF0F8\",\"ticks\":\"\",\"title\":{\"standoff\":15},\"zerolinecolor\":\"#EBF0F8\",\"zerolinewidth\":2},\"yaxis\":{\"automargin\":true,\"gridcolor\":\"#EBF0F8\",\"linecolor\":\"#EBF0F8\",\"ticks\":\"\",\"title\":{\"standoff\":15},\"zerolinecolor\":\"#EBF0F8\",\"zerolinewidth\":2}}},\"xaxis\":{\"anchor\":\"y\",\"domain\":[0.0,1.0],\"title\":{\"text\":\"Employment income\"},\"tickformat\":\",.0f\",\"tickprefix\":\"\\\\u00a3\"},\"yaxis\":{\"anchor\":\"x\",\"domain\":[0.0,1.0],\"title\":{\"text\":\"Marginal tax rate\"},\"tickformat\":\".0%\",\"range\":[-0.01,1]},\"legend\":{\"title\":{\"text\":\"Policy\"},\"tracegroupgap\":0},\"margin\":{\"t\":60},\"title\":{\"text\":\"Marginal tax rate by UBI policy and income (married couple, two children)\"},\"font\":{\"family\":\"Roboto Serif\",\"color\":\"black\"},\"images\":[{\"sizex\":0.2,\"sizey\":0.2,\"source\":\"https://raw.githubusercontent.com/PolicyEngine/policyengine-app/master/src/images/logos/policyengine/blue.png\",\"x\":1,\"xanchor\":\"right\",\"xref\":\"paper\",\"y\":-0.15,\"yanchor\":\"bottom\",\"yref\":\"paper\"}],\"height\":600,\"width\":800,\"modebar\":{\"bgcolor\":\"rgba(0,0,0,0)\",\"color\":\"rgba(0,0,0,0)\"}}}'"
      ]
     },
     "execution_count": 25,
     "metadata": {},
     "output_type": "execute_result"
    }
   ],
   "source": [
    "import plotly.io as pio\n",
    "\n",
    "fig = px.line(\n",
    "    mtr_df[mtr_df[\"Household type\"] == \"Married couple, two children\"], \n",
    "    x=\"Earnings\", \n",
    "    y=\"Marginal tax rate\", \n",
    "    color=\"Policy\",\n",
    "    color_discrete_sequence=[DARK_GRAY] + BLUE_COLOUR_SCALE,\n",
    ").update_layout(\n",
    "    yaxis_tickformat=\".0%\",\n",
    "    xaxis_tickformat=\",.0f\",\n",
    "    xaxis_tickprefix=\"£\",\n",
    "    yaxis_range=(-0.01, 1),\n",
    "    yaxis_title=\"Marginal tax rate\",\n",
    "    xaxis_title=\"Employment income\",\n",
    "    title=\"Marginal tax rate by UBI policy and income (married couple, two children)\",\n",
    ").update_traces(\n",
    "    line_shape=\"hv\",\n",
    ")\n",
    "format_fig(fig).to_json()"
   ]
  },
  {
   "cell_type": "markdown",
   "metadata": {},
   "source": [
    "Another way of framing these effects is as the change to effective marginal wages. For example, if a policy increases the MTR from 35% to 40%, that lowers the effective marginal wage from 65% to 60%, or by about 8%. Here we see that effective marginal wages are generally lower under the UBI reforms, except for the regions described above."
   ]
  },
  {
   "cell_type": "code",
   "execution_count": 26,
   "metadata": {
    "tags": [
     "hide-input"
    ]
   },
   "outputs": [],
   "source": [
    "import plotly.express as px\n",
    "from policyengine_uk import Simulation\n",
    "import pandas as pd\n",
    "\n",
    "dfs = []\n",
    "for reform, policy_name in zip([model_1_reform, model_2_reform, model_3_reform], [\"£200/month\", \"£300/month\", \"£400/month\"]):\n",
    "    for household_type, household_name in zip(\n",
    "        [SINGLE_NO_CHILDREN, MARRIED_TWO_CHILDREN, PENSIONER_COUPLE_NO_CHILDREN],\n",
    "        [\"Single adult, no children\", \"Married couple, two children\", \"Pensioner couple, no children\"],\n",
    "    ):\n",
    "        baseline_sim = Simulation(situation=household_type)\n",
    "        sim = Simulation(situation=household_type, reform=reform)\n",
    "        mtr = sim.calculate(\"marginal_tax_rate\", 2023) - baseline_sim.calculate(\"marginal_tax_rate\", 2023)\n",
    "        mtr = mtr.reshape((100, -1)).T[0]\n",
    "        wage = - mtr\n",
    "        earnings = sim.calculate(\"employment_income\", map_to=\"household\", period=2023)\n",
    "        df = pd.DataFrame({\"Policy\": policy_name, \"Effective wage change\": wage, \"Earnings\": earnings, \"Household type\": household_name})\n",
    "        dfs.append(df)\n",
    "\n",
    "wage_change_df = pd.concat(dfs)"
   ]
  },
  {
   "cell_type": "code",
   "execution_count": 22,
   "metadata": {
    "tags": [
     "hide-input"
    ]
   },
   "outputs": [
    {
     "data": {
      "text/plain": [
       "'{\"data\":[{\"hovertemplate\":\"Policy=\\\\u00a3200/month<br>Earnings=%{x}<br>Effective wage change=%{y}<extra></extra>\",\"legendgroup\":\"\\\\u00a3200/month\",\"line\":{\"color\":\"#D8E6F3\",\"dash\":\"solid\",\"shape\":\"hv\"},\"marker\":{\"symbol\":\"circle\"},\"mode\":\"lines\",\"name\":\"\\\\u00a3200/month\",\"orientation\":\"v\",\"showlegend\":true,\"x\":[0.0,1040.44580078125,2080.8916015625,3121.33740234375,4161.783203125,5202.22900390625,6242.6748046875,7283.12060546875,8323.56640625,9364.0126953125,10404.4580078125,11444.904296875,12485.349609375,13525.7958984375,14566.2412109375,15606.6875,16647.1328125,17687.578125,18728.025390625,19768.470703125,20808.916015625,21849.361328125,22889.80859375,23930.251953125,24970.69921875,26011.14453125,27051.591796875,28092.03515625,29132.482421875,30172.927734375,31213.375,32253.818359375,33294.265625,34334.7109375,35375.15625,36415.6015625,37456.05078125,38496.49609375,39536.94140625,40577.3828125,41617.83203125,42658.27734375,43698.72265625,44739.16796875,45779.6171875,46820.0625,47860.50390625,48900.94921875,49941.3984375,50981.84375,52022.2890625,53062.73828125,54103.18359375,55143.62890625,56184.0703125,57224.51953125,58264.96484375,59305.41015625,60345.85546875,61386.3046875,62426.75,63467.19140625,64507.63671875,65548.0859375,66588.53125,67628.9765625,68669.421875,69709.8671875,70750.3125,71790.7578125,72831.203125,73871.6484375,74912.1015625,75952.546875,76992.9921875,78033.4375,79073.8828125,80114.328125,81154.765625,82195.2109375,83235.6640625,84276.109375,85316.5546875,86357.0,87397.4453125,88437.890625,89478.3359375,90518.7890625,91559.234375,92599.6796875,93640.125,94680.5703125,95721.0078125,96761.453125,97801.8984375,98842.3515625,99882.796875,100923.2421875,101963.6875,103004.1328125],\"xaxis\":\"x\",\"y\":[-0.0,-0.0,-0.18392086029052734,-0.20878905057907104,-0.20878905057907104,-0.20878905057907104,-0.007119119167327881,0.2658417820930481,-0.09395700693130493,-0.09395700693130493,-0.09395307302474976,-0.09395700693130493,-0.09395509958267212,-0.031333982944488525,-0.003955066204071045,-0.003955066204071045,-0.003955066204071045,-0.003953099250793457,-0.0039511919021606445,-0.003953099250793457,-0.003953099250793457,-0.003957033157348633,-0.003957033157348633,-0.003957033157348633,-0.003953099250793457,-0.003953099250793457,-0.003953099250793457,-0.003955066204071045,-0.003953099250793457,-0.003953099250793457,-0.003953099250793457,-0.003955066204071045,-0.003957033157348633,-0.003953099250793457,-0.003957033157348633,-0.3779570460319519,-0.37795311212539673,-0.3779570460319519,-0.2912031412124634,-0.0087890625,-0.0087890625,-0.0087890625,-0.0087890625,-0.0087890625,-0.0087890625,-0.0087851881980896,-0.0087890625,-0.008792996406555176,0.1955546736717224,-0.017578125,-0.017578125,-0.017578125,-0.017578125,-0.017578125,-0.0175742506980896,-0.0175819993019104,-0.0175742506980896,-0.017578125,-0.017578125,-0.017578125,-0.017578125,-0.017570316791534424,-0.017578125,-0.017578125,-0.017574191093444824,-0.017574191093444824,-0.017578125,-0.017582058906555176,-0.017582058906555176,-0.017582058906555176,-0.017582058906555176,-0.017582058906555176,-0.017574191093444824,-0.017574191093444824,-0.017574191093444824,-0.017574191093444824,-0.017574191093444824,-0.017578125,-0.017574191093444824,-0.017574191093444824,-0.017582058906555176,-0.017578125,-0.017582058906555176,-0.017578125,-0.017582058906555176,-0.017578125,-0.017582058906555176,-0.0175819993019104,-0.0175819993019104,-0.017578125,-0.017578125,-0.017578125,-0.017570316791534424,-0.017585933208465576,-0.017578125,-0.017570316791534424,-0.025335967540740967,-0.0263671875,-0.026359379291534424,-0.025492191314697266],\"yaxis\":\"y\",\"type\":\"scatter\"},{\"hovertemplate\":\"Policy=\\\\u00a3300/month<br>Earnings=%{x}<br>Effective wage change=%{y}<extra></extra>\",\"legendgroup\":\"\\\\u00a3300/month\",\"line\":{\"color\":\"#2C6496\",\"dash\":\"solid\",\"shape\":\"hv\"},\"marker\":{\"symbol\":\"circle\"},\"mode\":\"lines\",\"name\":\"\\\\u00a3300/month\",\"orientation\":\"v\",\"showlegend\":true,\"x\":[0.0,1040.44580078125,2080.8916015625,3121.33740234375,4161.783203125,5202.22900390625,6242.6748046875,7283.12060546875,8323.56640625,9364.0126953125,10404.4580078125,11444.904296875,12485.349609375,13525.7958984375,14566.2412109375,15606.6875,16647.1328125,17687.578125,18728.025390625,19768.470703125,20808.916015625,21849.361328125,22889.80859375,23930.251953125,24970.69921875,26011.14453125,27051.591796875,28092.03515625,29132.482421875,30172.927734375,31213.375,32253.818359375,33294.265625,34334.7109375,35375.15625,36415.6015625,37456.05078125,38496.49609375,39536.94140625,40577.3828125,41617.83203125,42658.27734375,43698.72265625,44739.16796875,45779.6171875,46820.0625,47860.50390625,48900.94921875,49941.3984375,50981.84375,52022.2890625,53062.73828125,54103.18359375,55143.62890625,56184.0703125,57224.51953125,58264.96484375,59305.41015625,60345.85546875,61386.3046875,62426.75,63467.19140625,64507.63671875,65548.0859375,66588.53125,67628.9765625,68669.421875,69709.8671875,70750.3125,71790.7578125,72831.203125,73871.6484375,74912.1015625,75952.546875,76992.9921875,78033.4375,79073.8828125,80114.328125,81154.765625,82195.2109375,83235.6640625,84276.109375,85316.5546875,86357.0,87397.4453125,88437.890625,89478.3359375,90518.7890625,91559.234375,92599.6796875,93640.125,94680.5703125,95721.0078125,96761.453125,97801.8984375,98842.3515625,99882.796875,100923.2421875,101963.6875,103004.1328125],\"xaxis\":\"x\",\"y\":[-0.23613280057907104,-0.23613280057907104,-0.23613375425338745,-0.23613280057907104,-0.23613280057907104,-0.23613280057907104,-0.03446286916732788,0.3138672113418579,0.178585946559906,-0.10625779628753662,-0.10626167058944702,-0.10625779628753662,-0.10625976324081421,-0.043638646602630615,-0.016261696815490723,-0.016257762908935547,-0.016261696815490723,-0.016257762908935547,-0.016261696815490723,-0.016257762908935547,-0.01626366376876831,-0.016257762908935547,-0.01625978946685791,-0.016257762908935547,-0.016261696815490723,-0.016257762908935547,-0.016261696815490723,-0.016257762908935547,-0.016261696815490723,-0.0162656307220459,-0.016261696815490723,-0.016259729862213135,-0.016257762908935547,-0.016257762908935547,-0.016257762908935547,-0.390261709690094,-0.390261709690094,-0.39026564359664917,-0.3902577757835388,-0.390261709690094,-0.3902577757835388,-0.06042969226837158,-0.0361328125,-0.0361328125,-0.0361328125,-0.0361328125,-0.0361328125,-0.0361328125,0.21586722135543823,-0.0361328125,-0.0361328125,-0.0361328125,-0.0361328125,-0.0361328125,-0.0361289381980896,-0.0361328125,-0.0361328125,-0.0361328125,-0.0361328125,-0.0361328125,-0.0361328125,-0.036125004291534424,-0.0361328125,-0.0361328125,-0.0361328125,-0.0361328125,-0.0361328125,-0.0361328125,-0.0361328125,-0.0361328125,-0.036136746406555176,-0.036136746406555176,-0.036128878593444824,-0.036128878593444824,-0.036128878593444824,-0.0361328125,-0.0361328125,-0.0361328125,-0.036128878593444824,-0.0361328125,-0.0361328125,-0.0361328125,-0.036136746406555176,-0.0361366868019104,-0.036136746406555176,-0.0361328125,-0.036136746406555176,-0.0361366868019104,-0.0361366868019104,-0.0361366868019104,-0.0361328125,-0.0361328125,-0.036128878593444824,-0.036140620708465576,-0.0361328125,-0.0361328125,0.14042967557907104,0.16386717557907104,0.16387498378753662,0.16386717557907104],\"yaxis\":\"y\",\"type\":\"scatter\"},{\"hovertemplate\":\"Policy=\\\\u00a3400/month<br>Earnings=%{x}<br>Effective wage change=%{y}<extra></extra>\",\"legendgroup\":\"\\\\u00a3400/month\",\"line\":{\"color\":\"#17354F\",\"dash\":\"solid\",\"shape\":\"hv\"},\"marker\":{\"symbol\":\"circle\"},\"mode\":\"lines\",\"name\":\"\\\\u00a3400/month\",\"orientation\":\"v\",\"showlegend\":true,\"x\":[0.0,1040.44580078125,2080.8916015625,3121.33740234375,4161.783203125,5202.22900390625,6242.6748046875,7283.12060546875,8323.56640625,9364.0126953125,10404.4580078125,11444.904296875,12485.349609375,13525.7958984375,14566.2412109375,15606.6875,16647.1328125,17687.578125,18728.025390625,19768.470703125,20808.916015625,21849.361328125,22889.80859375,23930.251953125,24970.69921875,26011.14453125,27051.591796875,28092.03515625,29132.482421875,30172.927734375,31213.375,32253.818359375,33294.265625,34334.7109375,35375.15625,36415.6015625,37456.05078125,38496.49609375,39536.94140625,40577.3828125,41617.83203125,42658.27734375,43698.72265625,44739.16796875,45779.6171875,46820.0625,47860.50390625,48900.94921875,49941.3984375,50981.84375,52022.2890625,53062.73828125,54103.18359375,55143.62890625,56184.0703125,57224.51953125,58264.96484375,59305.41015625,60345.85546875,61386.3046875,62426.75,63467.19140625,64507.63671875,65548.0859375,66588.53125,67628.9765625,68669.421875,69709.8671875,70750.3125,71790.7578125,72831.203125,73871.6484375,74912.1015625,75952.546875,76992.9921875,78033.4375,79073.8828125,80114.328125,81154.765625,82195.2109375,83235.6640625,84276.109375,85316.5546875,86357.0,87397.4453125,88437.890625,89478.3359375,90518.7890625,91559.234375,92599.6796875,93640.125,94680.5703125,95721.0078125,96761.453125,97801.8984375,98842.3515625,99882.796875,100923.2421875,101963.6875,103004.1328125],\"xaxis\":\"x\",\"y\":[-0.28886717557907104,-0.28886717557907104,-0.28886812925338745,-0.28886717557907104,-0.28886717557907104,-0.28886717557907104,-0.08719724416732788,0.2611308693885803,0.26112890243530273,-0.010671854019165039,-0.12998825311660767,-0.12999218702316284,-0.12999022006988525,-0.06736916303634644,-0.03999221324920654,-0.03998827934265137,-0.03998827934265137,-0.03998827934265137,-0.03998827934265137,-0.03999221324920654,-0.03999221324920654,-0.03998827934265137,-0.03999221324920654,-0.03999221324920654,-0.03998827934265137,-0.03998827934265137,-0.03999221324920654,-0.03998827934265137,-0.03999221324920654,-0.03999221324920654,-0.03999221324920654,-0.039990246295928955,-0.03998827934265137,-0.03999221324920654,-0.03998434543609619,-0.41398829221725464,-0.4139922261238098,-0.4139922261238098,-0.4139922261238098,-0.4139922261238098,-0.4139922261238098,-0.4139922261238098,-0.41398829221725464,-0.4139922261238098,-0.3356054425239563,-0.0888671875,-0.08887112140655518,-0.0888671875,0.22280079126358032,-0.0,-0.0,-0.0,-0.0,-0.0,3.874301910400391e-06,-0.0,-0.0,-0.0,-0.0,-0.0,-0.0,7.808208465576172e-06,-0.0,-0.0,3.933906555175781e-06,3.933906555175781e-06,-0.0,-0.0,-0.0,-0.0,-0.0,-3.933906555175781e-06,-0.0,-0.0,3.933906555175781e-06,3.933906555175781e-06,3.933906555175781e-06,-0.0,-0.0,-0.0,-3.933906555175781e-06,-3.874301910400391e-06,-3.933906555175781e-06,-0.0,-3.933906555175781e-06,-0.0,-3.933906555175781e-06,3.933906555175781e-06,-0.0,-3.874301910400391e-06,-0.0,-0.0,-0.0,-0.0,-0.0,7.808208465576172e-06,0.17656248807907104,0.19999998807907104,0.20000779628753662,0.20000779628753662],\"yaxis\":\"y\",\"type\":\"scatter\"}],\"layout\":{\"template\":{\"data\":{\"barpolar\":[{\"marker\":{\"line\":{\"color\":\"white\",\"width\":0.5},\"pattern\":{\"fillmode\":\"overlay\",\"size\":10,\"solidity\":0.2}},\"type\":\"barpolar\"}],\"bar\":[{\"error_x\":{\"color\":\"#2a3f5f\"},\"error_y\":{\"color\":\"#2a3f5f\"},\"marker\":{\"line\":{\"color\":\"white\",\"width\":0.5},\"pattern\":{\"fillmode\":\"overlay\",\"size\":10,\"solidity\":0.2}},\"type\":\"bar\"}],\"carpet\":[{\"aaxis\":{\"endlinecolor\":\"#2a3f5f\",\"gridcolor\":\"#C8D4E3\",\"linecolor\":\"#C8D4E3\",\"minorgridcolor\":\"#C8D4E3\",\"startlinecolor\":\"#2a3f5f\"},\"baxis\":{\"endlinecolor\":\"#2a3f5f\",\"gridcolor\":\"#C8D4E3\",\"linecolor\":\"#C8D4E3\",\"minorgridcolor\":\"#C8D4E3\",\"startlinecolor\":\"#2a3f5f\"},\"type\":\"carpet\"}],\"choropleth\":[{\"colorbar\":{\"outlinewidth\":0,\"ticks\":\"\"},\"type\":\"choropleth\"}],\"contourcarpet\":[{\"colorbar\":{\"outlinewidth\":0,\"ticks\":\"\"},\"type\":\"contourcarpet\"}],\"contour\":[{\"colorbar\":{\"outlinewidth\":0,\"ticks\":\"\"},\"colorscale\":[[0.0,\"#0d0887\"],[0.1111111111111111,\"#46039f\"],[0.2222222222222222,\"#7201a8\"],[0.3333333333333333,\"#9c179e\"],[0.4444444444444444,\"#bd3786\"],[0.5555555555555556,\"#d8576b\"],[0.6666666666666666,\"#ed7953\"],[0.7777777777777778,\"#fb9f3a\"],[0.8888888888888888,\"#fdca26\"],[1.0,\"#f0f921\"]],\"type\":\"contour\"}],\"heatmapgl\":[{\"colorbar\":{\"outlinewidth\":0,\"ticks\":\"\"},\"colorscale\":[[0.0,\"#0d0887\"],[0.1111111111111111,\"#46039f\"],[0.2222222222222222,\"#7201a8\"],[0.3333333333333333,\"#9c179e\"],[0.4444444444444444,\"#bd3786\"],[0.5555555555555556,\"#d8576b\"],[0.6666666666666666,\"#ed7953\"],[0.7777777777777778,\"#fb9f3a\"],[0.8888888888888888,\"#fdca26\"],[1.0,\"#f0f921\"]],\"type\":\"heatmapgl\"}],\"heatmap\":[{\"colorbar\":{\"outlinewidth\":0,\"ticks\":\"\"},\"colorscale\":[[0.0,\"#0d0887\"],[0.1111111111111111,\"#46039f\"],[0.2222222222222222,\"#7201a8\"],[0.3333333333333333,\"#9c179e\"],[0.4444444444444444,\"#bd3786\"],[0.5555555555555556,\"#d8576b\"],[0.6666666666666666,\"#ed7953\"],[0.7777777777777778,\"#fb9f3a\"],[0.8888888888888888,\"#fdca26\"],[1.0,\"#f0f921\"]],\"type\":\"heatmap\"}],\"histogram2dcontour\":[{\"colorbar\":{\"outlinewidth\":0,\"ticks\":\"\"},\"colorscale\":[[0.0,\"#0d0887\"],[0.1111111111111111,\"#46039f\"],[0.2222222222222222,\"#7201a8\"],[0.3333333333333333,\"#9c179e\"],[0.4444444444444444,\"#bd3786\"],[0.5555555555555556,\"#d8576b\"],[0.6666666666666666,\"#ed7953\"],[0.7777777777777778,\"#fb9f3a\"],[0.8888888888888888,\"#fdca26\"],[1.0,\"#f0f921\"]],\"type\":\"histogram2dcontour\"}],\"histogram2d\":[{\"colorbar\":{\"outlinewidth\":0,\"ticks\":\"\"},\"colorscale\":[[0.0,\"#0d0887\"],[0.1111111111111111,\"#46039f\"],[0.2222222222222222,\"#7201a8\"],[0.3333333333333333,\"#9c179e\"],[0.4444444444444444,\"#bd3786\"],[0.5555555555555556,\"#d8576b\"],[0.6666666666666666,\"#ed7953\"],[0.7777777777777778,\"#fb9f3a\"],[0.8888888888888888,\"#fdca26\"],[1.0,\"#f0f921\"]],\"type\":\"histogram2d\"}],\"histogram\":[{\"marker\":{\"pattern\":{\"fillmode\":\"overlay\",\"size\":10,\"solidity\":0.2}},\"type\":\"histogram\"}],\"mesh3d\":[{\"colorbar\":{\"outlinewidth\":0,\"ticks\":\"\"},\"type\":\"mesh3d\"}],\"parcoords\":[{\"line\":{\"colorbar\":{\"outlinewidth\":0,\"ticks\":\"\"}},\"type\":\"parcoords\"}],\"pie\":[{\"automargin\":true,\"type\":\"pie\"}],\"scatter3d\":[{\"line\":{\"colorbar\":{\"outlinewidth\":0,\"ticks\":\"\"}},\"marker\":{\"colorbar\":{\"outlinewidth\":0,\"ticks\":\"\"}},\"type\":\"scatter3d\"}],\"scattercarpet\":[{\"marker\":{\"colorbar\":{\"outlinewidth\":0,\"ticks\":\"\"}},\"type\":\"scattercarpet\"}],\"scattergeo\":[{\"marker\":{\"colorbar\":{\"outlinewidth\":0,\"ticks\":\"\"}},\"type\":\"scattergeo\"}],\"scattergl\":[{\"marker\":{\"colorbar\":{\"outlinewidth\":0,\"ticks\":\"\"}},\"type\":\"scattergl\"}],\"scattermapbox\":[{\"marker\":{\"colorbar\":{\"outlinewidth\":0,\"ticks\":\"\"}},\"type\":\"scattermapbox\"}],\"scatterpolargl\":[{\"marker\":{\"colorbar\":{\"outlinewidth\":0,\"ticks\":\"\"}},\"type\":\"scatterpolargl\"}],\"scatterpolar\":[{\"marker\":{\"colorbar\":{\"outlinewidth\":0,\"ticks\":\"\"}},\"type\":\"scatterpolar\"}],\"scatter\":[{\"fillpattern\":{\"fillmode\":\"overlay\",\"size\":10,\"solidity\":0.2},\"type\":\"scatter\"}],\"scatterternary\":[{\"marker\":{\"colorbar\":{\"outlinewidth\":0,\"ticks\":\"\"}},\"type\":\"scatterternary\"}],\"surface\":[{\"colorbar\":{\"outlinewidth\":0,\"ticks\":\"\"},\"colorscale\":[[0.0,\"#0d0887\"],[0.1111111111111111,\"#46039f\"],[0.2222222222222222,\"#7201a8\"],[0.3333333333333333,\"#9c179e\"],[0.4444444444444444,\"#bd3786\"],[0.5555555555555556,\"#d8576b\"],[0.6666666666666666,\"#ed7953\"],[0.7777777777777778,\"#fb9f3a\"],[0.8888888888888888,\"#fdca26\"],[1.0,\"#f0f921\"]],\"type\":\"surface\"}],\"table\":[{\"cells\":{\"fill\":{\"color\":\"#EBF0F8\"},\"line\":{\"color\":\"white\"}},\"header\":{\"fill\":{\"color\":\"#C8D4E3\"},\"line\":{\"color\":\"white\"}},\"type\":\"table\"}]},\"layout\":{\"annotationdefaults\":{\"arrowcolor\":\"#2a3f5f\",\"arrowhead\":0,\"arrowwidth\":1},\"autotypenumbers\":\"strict\",\"coloraxis\":{\"colorbar\":{\"outlinewidth\":0,\"ticks\":\"\"}},\"colorscale\":{\"diverging\":[[0,\"#8e0152\"],[0.1,\"#c51b7d\"],[0.2,\"#de77ae\"],[0.3,\"#f1b6da\"],[0.4,\"#fde0ef\"],[0.5,\"#f7f7f7\"],[0.6,\"#e6f5d0\"],[0.7,\"#b8e186\"],[0.8,\"#7fbc41\"],[0.9,\"#4d9221\"],[1,\"#276419\"]],\"sequential\":[[0.0,\"#0d0887\"],[0.1111111111111111,\"#46039f\"],[0.2222222222222222,\"#7201a8\"],[0.3333333333333333,\"#9c179e\"],[0.4444444444444444,\"#bd3786\"],[0.5555555555555556,\"#d8576b\"],[0.6666666666666666,\"#ed7953\"],[0.7777777777777778,\"#fb9f3a\"],[0.8888888888888888,\"#fdca26\"],[1.0,\"#f0f921\"]],\"sequentialminus\":[[0.0,\"#0d0887\"],[0.1111111111111111,\"#46039f\"],[0.2222222222222222,\"#7201a8\"],[0.3333333333333333,\"#9c179e\"],[0.4444444444444444,\"#bd3786\"],[0.5555555555555556,\"#d8576b\"],[0.6666666666666666,\"#ed7953\"],[0.7777777777777778,\"#fb9f3a\"],[0.8888888888888888,\"#fdca26\"],[1.0,\"#f0f921\"]]},\"colorway\":[\"#636efa\",\"#EF553B\",\"#00cc96\",\"#ab63fa\",\"#FFA15A\",\"#19d3f3\",\"#FF6692\",\"#B6E880\",\"#FF97FF\",\"#FECB52\"],\"font\":{\"color\":\"#2a3f5f\"},\"geo\":{\"bgcolor\":\"white\",\"lakecolor\":\"white\",\"landcolor\":\"white\",\"showlakes\":true,\"showland\":true,\"subunitcolor\":\"#C8D4E3\"},\"hoverlabel\":{\"align\":\"left\"},\"hovermode\":\"closest\",\"mapbox\":{\"style\":\"light\"},\"paper_bgcolor\":\"white\",\"plot_bgcolor\":\"white\",\"polar\":{\"angularaxis\":{\"gridcolor\":\"#EBF0F8\",\"linecolor\":\"#EBF0F8\",\"ticks\":\"\"},\"bgcolor\":\"white\",\"radialaxis\":{\"gridcolor\":\"#EBF0F8\",\"linecolor\":\"#EBF0F8\",\"ticks\":\"\"}},\"scene\":{\"xaxis\":{\"backgroundcolor\":\"white\",\"gridcolor\":\"#DFE8F3\",\"gridwidth\":2,\"linecolor\":\"#EBF0F8\",\"showbackground\":true,\"ticks\":\"\",\"zerolinecolor\":\"#EBF0F8\"},\"yaxis\":{\"backgroundcolor\":\"white\",\"gridcolor\":\"#DFE8F3\",\"gridwidth\":2,\"linecolor\":\"#EBF0F8\",\"showbackground\":true,\"ticks\":\"\",\"zerolinecolor\":\"#EBF0F8\"},\"zaxis\":{\"backgroundcolor\":\"white\",\"gridcolor\":\"#DFE8F3\",\"gridwidth\":2,\"linecolor\":\"#EBF0F8\",\"showbackground\":true,\"ticks\":\"\",\"zerolinecolor\":\"#EBF0F8\"}},\"shapedefaults\":{\"line\":{\"color\":\"#2a3f5f\"}},\"ternary\":{\"aaxis\":{\"gridcolor\":\"#DFE8F3\",\"linecolor\":\"#A2B1C6\",\"ticks\":\"\"},\"baxis\":{\"gridcolor\":\"#DFE8F3\",\"linecolor\":\"#A2B1C6\",\"ticks\":\"\"},\"bgcolor\":\"white\",\"caxis\":{\"gridcolor\":\"#DFE8F3\",\"linecolor\":\"#A2B1C6\",\"ticks\":\"\"}},\"title\":{\"x\":0.05},\"xaxis\":{\"automargin\":true,\"gridcolor\":\"#EBF0F8\",\"linecolor\":\"#EBF0F8\",\"ticks\":\"\",\"title\":{\"standoff\":15},\"zerolinecolor\":\"#EBF0F8\",\"zerolinewidth\":2},\"yaxis\":{\"automargin\":true,\"gridcolor\":\"#EBF0F8\",\"linecolor\":\"#EBF0F8\",\"ticks\":\"\",\"title\":{\"standoff\":15},\"zerolinecolor\":\"#EBF0F8\",\"zerolinewidth\":2}}},\"xaxis\":{\"anchor\":\"y\",\"domain\":[0.0,1.0],\"title\":{\"text\":\"Employment income\"},\"tickformat\":\",.0f\",\"tickprefix\":\"\\\\u00a3\"},\"yaxis\":{\"anchor\":\"x\",\"domain\":[0.0,1.0],\"title\":{\"text\":\"Change to effective marginal wage\"},\"tickformat\":\"+.0%\",\"range\":[-1,1]},\"legend\":{\"title\":{\"text\":\"Policy\"},\"tracegroupgap\":0},\"margin\":{\"t\":60},\"title\":{\"text\":\"Figure 15: Change to effective marginal wage by UBI policy and income (married couple, two children)\"},\"shapes\":[{\"line\":{\"color\":\"grey\",\"width\":1},\"type\":\"line\",\"x0\":0,\"x1\":1,\"xref\":\"paper\",\"y0\":0,\"y1\":0,\"yref\":\"y\"}],\"font\":{\"family\":\"Roboto Serif\",\"color\":\"black\"},\"images\":[{\"sizex\":0.2,\"sizey\":0.2,\"source\":\"https://raw.githubusercontent.com/PolicyEngine/policyengine-app/master/src/images/logos/policyengine/blue.png\",\"x\":1,\"xanchor\":\"right\",\"xref\":\"paper\",\"y\":-0.15,\"yanchor\":\"bottom\",\"yref\":\"paper\"}],\"height\":600,\"width\":800,\"modebar\":{\"bgcolor\":\"rgba(0,0,0,0)\",\"color\":\"rgba(0,0,0,0)\"}}}'"
      ]
     },
     "execution_count": 22,
     "metadata": {},
     "output_type": "execute_result"
    }
   ],
   "source": [
    "import plotly.io as pio\n",
    "\n",
    "def plot_wage(household_name: str):\n",
    "    fig = px.line(\n",
    "        wage_change_df[wage_change_df[\"Household type\"] == household_name], \n",
    "        x=\"Earnings\", \n",
    "        y=\"Effective wage change\", \n",
    "        color=\"Policy\",\n",
    "        color_discrete_sequence=BLUE_COLOUR_SCALE,\n",
    "    ).update_layout(\n",
    "        yaxis_tickformat=\"+.0%\",\n",
    "        xaxis_tickformat=\",.0f\",\n",
    "        xaxis_tickprefix=\"£\",\n",
    "        yaxis_range=(-1, 1),\n",
    "        yaxis_title=\"Change to effective marginal wage\",\n",
    "        xaxis_title=\"Employment income\",\n",
    "        title=\"Figure 15: Change to effective marginal wage by UBI policy and income (married couple, two children)\",\n",
    "    ).update_traces(\n",
    "        line_shape=\"hv\",\n",
    "    )\n",
    "    fig.add_shape(\n",
    "            type=\"line\",\n",
    "            xref=\"paper\",\n",
    "            yref=\"y\",\n",
    "            x0=0,\n",
    "            y0=0,\n",
    "            x1=1,\n",
    "            y1=0,\n",
    "            line=dict(color=\"grey\", width=1),\n",
    "        )\n",
    "    return format_fig(fig)\n",
    "plot_wage(H2).to_json()"
   ]
  },
  {
   "cell_type": "markdown",
   "metadata": {},
   "source": [
    "# Conclusion\n",
    "\n",
    "Any one of the UBI policies described here would dramatically reshape Northern Ireland. From a Rawlsian sense, they would lift up the floor upon which many sit, achieving overnight poverty reductions NI has taken years or decades to see naturally.\n",
    "\n",
    "Yet that dramatic reshaping also comes in the form of disruption and potential macroeconomic drag. Nearly half the nation would come out behind, and many by material amounts. And most would face considerably higher marginal tax rates.\n",
    "\n",
    "Our static model does not fully account for these costs. A [recent paper](http://www.columbia.edu/~wk2110/bin/DeatonReviewChapter.pdf) from IFS and Columbia University found, \"Current estimates therefore suggest that the top UK rate [of 47%] is close to revenue maximising, but there is a very large degree of uncertainty around this.\" Some of these reforms would bring that top rate closer to 80%, and extend it to a thicker part of the earnings distribution. While poverty reduction would benefit the economy, reducing the net marginal wage for hundreds of thousands of workers could shrink it, and more research is needed to understand the full impact of these countervailing forces.\n",
    "\n",
    "More research could also identify policies that achieve similar distributional benefits without so much disruption. For example, in 2021 we [created an optimisation model](ubicenter.org/uk-blank-slate-ubi) to explore tens of thousands of UBI policies and select the age-dependent amounts that minimised disruption. That UK-wide model could apply to NI specifically, and with potentially more levers such as the tax reforms we applied here.\n",
    "\n",
    "Our microsimulation approach provides one piece of the puzzle in understanding a transition to universal basic income in Northern Ireland.\n"
   ]
  }
 ],
 "metadata": {
  "kernelspec": {
   "display_name": "Python 3.7.13 ('policyengine')",
   "language": "python",
   "name": "python3"
  },
  "language_info": {
   "codemirror_mode": {
    "name": "ipython",
    "version": 3
   },
   "file_extension": ".py",
   "mimetype": "text/x-python",
   "name": "python",
   "nbconvert_exporter": "python",
   "pygments_lexer": "ipython3",
   "version": "3.9.12"
  },
  "vscode": {
   "interpreter": {
    "hash": "b3d32dd368ae8f4a8d01f617ffd041f85e5cc660529457803f0af86bbe37ac63"
   }
  }
 },
 "nbformat": 4,
 "nbformat_minor": 4
}
