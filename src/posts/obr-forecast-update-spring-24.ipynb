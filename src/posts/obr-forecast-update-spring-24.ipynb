{
 "cells": [
  {
   "cell_type": "markdown",
   "metadata": {},
   "source": [
    "The Office for Budget Responsibility's [March 2024 Economic and Fiscal Outlook](https://obr.uk/docs/dlm_uploads/E03057758_OBR_EFO-March-2024_Web-AccessibleFinal.pdf) updates forecasts for a five-year budget window for key tax and spending programs, incorporating recent changes in both policy decisions and economic factors. Some parts of PolicyEngine's model are calibrated to be consistent with the OBR's forecasts. This report compares each overlapping part of the OBR EFO with PolicyEngine's model.\n",
    "\n",
    "Table A.5 (page 150) of the EFO details forecasts for tax receipts by program."
   ]
  },
  {
   "cell_type": "code",
   "execution_count": null,
   "metadata": {},
   "outputs": [],
   "source": [
    "# Table with a row for each:\n",
    "# Source: PolicyEngine / OBR\n",
    "# Program\n",
    "# Year\n",
    "# Aggregate\n",
    "\n",
    "# We do not include programs <1bn.\n",
    "\n",
    "PROGRAMS = [\n",
    "    \"income_tax\",\n",
    "    \"total_national_insurance\",\n",
    "    \"fuel_duty\",\n",
    "    \"vat\",\n",
    "    \"council_tax\",\n",
    "    \"universal_credit\",\n",
    "    \"housing_benefit\",\n",
    "    \"pip_and_dla\",\n",
    "    \"tax_credits\",\n",
    "    \"attendance_allowance\",\n",
    "    \"carers_allowance\",\n",
    "    \"smp\",\n",
    "    \"state_pension\",\n",
    "]"
   ]
  }
 ],
 "metadata": {
  "kernelspec": {
   "display_name": "base",
   "language": "python",
   "name": "python3"
  },
  "language_info": {
   "codemirror_mode": {
    "name": "ipython",
    "version": 3
   },
   "file_extension": ".py",
   "mimetype": "text/x-python",
   "name": "python",
   "nbconvert_exporter": "python",
   "pygments_lexer": "ipython3",
   "version": "3.9.12"
  }
 },
 "nbformat": 4,
 "nbformat_minor": 2
}
